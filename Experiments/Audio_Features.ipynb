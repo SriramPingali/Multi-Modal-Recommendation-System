{
 "cells": [
  {
   "cell_type": "markdown",
   "metadata": {},
   "source": [
    "# Audioset"
   ]
  },
  {
   "cell_type": "markdown",
   "metadata": {},
   "source": [
    "# Setup"
   ]
  },
  {
   "cell_type": "code",
   "execution_count": 1,
   "metadata": {},
   "outputs": [],
   "source": [
    "from tqdm import tqdm\n",
    "import tensorflow as tf\n",
    "from utils import vggish_slim\n",
    "from utils import vggish_input\n",
    "from utils import vggish_params\n",
    "from utils import vggish_postprocess"
   ]
  },
  {
   "cell_type": "code",
   "execution_count": 2,
   "metadata": {},
   "outputs": [],
   "source": [
    "import numpy as np\n",
    "import pandas as pd\n",
    "\n",
    "items = pd.read_csv(\"../Datasets/ml-100k/Text/items.csv\")\n",
    "embeddings = pd.read_csv(\"../Datasets/ml-100k/Audio/embeddings.csv\")"
   ]
  },
  {
   "cell_type": "code",
   "execution_count": 3,
   "metadata": {
    "tags": []
   },
   "outputs": [],
   "source": [
    "# items"
   ]
  },
  {
   "cell_type": "markdown",
   "metadata": {},
   "source": [
    "# Extract Audio Features"
   ]
  },
  {
   "cell_type": "code",
   "execution_count": 4,
   "metadata": {},
   "outputs": [],
   "source": [
    "# import tensorflow.compat.v1 as tf\n",
    "# tf.compat.v1.disable_eager_execution()\n",
    "\n",
    "# tf.reset_default_graph()\n",
    "\n",
    "# sess = tf.Session()"
   ]
  },
  {
   "cell_type": "code",
   "execution_count": 5,
   "metadata": {},
   "outputs": [],
   "source": [
    "# import gc\n",
    "# # embeddings = {}\n",
    "# f = open(\"embeddings\", 'a')\n",
    "# # Define the model in inference mode, load the checkpoint, and\n",
    "# # locate input and output tensors.\n",
    "# vggish_slim.define_vggish_slim(training=False)\n",
    "# vggish_slim.load_vggish_slim_checkpoint(sess, \"./pretrained/vggish_model.ckpt\")\n",
    "# # features_tensor = sess.graph.get_tensor_by_name(\n",
    "# #     vggish_params.INPUT_TENSOR_NAME)\n",
    "# # embedding_tensor = sess.graph.get_tensor_by_name(\n",
    "# #     vggish_params.OUTPUT_TENSOR_NAME)\n",
    "\n",
    "# for index, movie in items.iterrows():\n",
    "# #     vggish_slim.define_vggish_slim(training=False)\n",
    "# #     vggish_slim.load_vggish_slim_checkpoint(sess, \"./pretrained/vggish_model.ckpt\")\n",
    "#     features_tensor = sess.graph.get_tensor_by_name(\n",
    "#         vggish_params.INPUT_TENSOR_NAME)\n",
    "#     embedding_tensor = sess.graph.get_tensor_by_name(\n",
    "#         vggish_params.OUTPUT_TENSOR_NAME)\n",
    "#     try:\n",
    "#         examples_batch = vggish_input.wavfile_to_examples(\"../Datasets/ml-100k/Audio/{}.wav\".format(movie['YT-Trailer ID']))\n",
    "#         [embedding_batch] = sess.run([embedding_tensor],\n",
    "#                          feed_dict={features_tensor: examples_batch})\n",
    "#         if(movie['YT-Trailer ID'] == movie['YT-Trailer ID']):\n",
    "#             f.writerow(np.mean(embedding_batch, axis = 0))\n",
    "# #             embeddings[movie['YT-Trailer ID']] = np.mean(embedding_batch, axis = 0)\n",
    "# #             print(len(embeddings))\n",
    "#         else:\n",
    "#             print(\"No\")\n",
    "#             continue\n",
    "#         del examples_batch\n",
    "#         del embedding_batch\n",
    "#         del features_tensor\n",
    "#         del embedding_tensor\n",
    "#         gc.collect()\n",
    "        \n",
    "#     except:\n",
    "# #         pd.DataFrame(embeddings).to_csv(\"../Datasets/ml-100k/Audio/embeddings.csv\")\n",
    "#         continue"
   ]
  },
  {
   "cell_type": "code",
   "execution_count": 6,
   "metadata": {},
   "outputs": [],
   "source": [
    "# vggish_slim.define_vggish_slim(training=False)\n",
    "# vggish_slim.load_vggish_slim_checkpoint(sess, \"./pretrained/vggish_model.ckpt\")"
   ]
  },
  {
   "cell_type": "code",
   "execution_count": 7,
   "metadata": {},
   "outputs": [
    {
     "name": "stdout",
     "output_type": "stream",
     "text": [
      "WARNING:tensorflow:From /tmp/ipykernel_87160/1242486994.py:1: The name tf.Session is deprecated. Please use tf.compat.v1.Session instead.\n",
      "\n",
      "WARNING:tensorflow:From /home/sriram/anaconda3/envs/SC2/lib/python3.7/site-packages/tf_slim/layers/layers.py:1089: Layer.apply (from tensorflow.python.keras.engine.base_layer) is deprecated and will be removed in a future version.\n",
      "Instructions for updating:\n",
      "Please use `layer.__call__` method instead.\n",
      "WARNING:tensorflow:From /home/sriram/anaconda3/envs/SC2/lib/python3.7/site-packages/tf_slim/layers/layers.py:1666: flatten (from tensorflow.python.layers.core) is deprecated and will be removed in a future version.\n",
      "Instructions for updating:\n",
      "Use keras.layers.flatten instead.\n"
     ]
    },
    {
     "name": "stderr",
     "output_type": "stream",
     "text": [
      "2021-11-16 00:20:51.266612: I tensorflow/core/platform/cpu_feature_guard.cc:145] This TensorFlow binary is optimized with Intel(R) MKL-DNN to use the following CPU instructions in performance critical operations:  SSE4.1 SSE4.2 AVX AVX2 FMA\n",
      "To enable them in non-MKL-DNN operations, rebuild TensorFlow with the appropriate compiler flags.\n",
      "2021-11-16 00:20:51.291688: I tensorflow/core/platform/profile_utils/cpu_utils.cc:94] CPU Frequency: 3000000000 Hz\n",
      "2021-11-16 00:20:51.292801: I tensorflow/compiler/xla/service/service.cc:168] XLA service 0x55848c655c10 initialized for platform Host (this does not guarantee that XLA will be used). Devices:\n",
      "2021-11-16 00:20:51.292869: I tensorflow/compiler/xla/service/service.cc:176]   StreamExecutor device (0): Host, Default Version\n",
      "OMP: Info #155: KMP_AFFINITY: Initial OS proc set respected: 0-7\n",
      "OMP: Info #216: KMP_AFFINITY: decoding x2APIC ids.\n",
      "OMP: Info #157: KMP_AFFINITY: 8 available OS procs\n",
      "OMP: Info #158: KMP_AFFINITY: Uniform topology\n",
      "OMP: Info #287: KMP_AFFINITY: topology layer \"LL cache\" is equivalent to \"socket\".\n",
      "OMP: Info #287: KMP_AFFINITY: topology layer \"L3 cache\" is equivalent to \"socket\".\n",
      "OMP: Info #287: KMP_AFFINITY: topology layer \"L2 cache\" is equivalent to \"core\".\n",
      "OMP: Info #287: KMP_AFFINITY: topology layer \"L1 cache\" is equivalent to \"core\".\n",
      "OMP: Info #192: KMP_AFFINITY: 1 socket x 8 cores/socket x 1 thread/core (8 total cores)\n",
      "OMP: Info #218: KMP_AFFINITY: OS proc to physical thread map:\n",
      "OMP: Info #172: KMP_AFFINITY: OS proc 0 maps to socket 0 core 0 thread 0 \n",
      "OMP: Info #172: KMP_AFFINITY: OS proc 1 maps to socket 0 core 1 thread 0 \n",
      "OMP: Info #172: KMP_AFFINITY: OS proc 2 maps to socket 0 core 2 thread 0 \n",
      "OMP: Info #172: KMP_AFFINITY: OS proc 3 maps to socket 0 core 3 thread 0 \n",
      "OMP: Info #172: KMP_AFFINITY: OS proc 4 maps to socket 0 core 4 thread 0 \n",
      "OMP: Info #172: KMP_AFFINITY: OS proc 5 maps to socket 0 core 5 thread 0 \n",
      "OMP: Info #172: KMP_AFFINITY: OS proc 6 maps to socket 0 core 6 thread 0 \n",
      "OMP: Info #172: KMP_AFFINITY: OS proc 7 maps to socket 0 core 7 thread 0 \n",
      "OMP: Info #254: KMP_AFFINITY: pid 87160 tid 87160 thread 0 bound to OS proc set 0\n",
      "2021-11-16 00:20:51.307615: I tensorflow/core/common_runtime/process_util.cc:115] Creating new thread pool with default inter op setting: 2. Tune using inter_op_parallelism_threads for best performance.\n"
     ]
    },
    {
     "name": "stdout",
     "output_type": "stream",
     "text": [
      "INFO:tensorflow:Restoring parameters from ./pretrained/vggish_model.ckpt\n"
     ]
    }
   ],
   "source": [
    "sess = tf.Session()\n",
    "vggish_slim.define_vggish_slim(training=False)\n",
    "vggish_slim.load_vggish_slim_checkpoint(sess, \"./pretrained/vggish_model.ckpt\")\n",
    "features_tensor = sess.graph.get_tensor_by_name(\n",
    "    vggish_params.INPUT_TENSOR_NAME)\n",
    "embedding_tensor = sess.graph.get_tensor_by_name(\n",
    "    vggish_params.OUTPUT_TENSOR_NAME)"
   ]
  },
  {
   "cell_type": "code",
   "execution_count": 8,
   "metadata": {},
   "outputs": [],
   "source": [
    "def get_embeddings(path, sess):\n",
    "    tf.reset_default_graph()\n",
    "    try:\n",
    "        examples_batch = vggish_input.wavfile_to_examples(path)\n",
    "        [embedding_batch] = sess.run([embedding_tensor],\n",
    "                         feed_dict={features_tensor: examples_batch})\n",
    "\n",
    "        if(movie['YT-Trailer ID'] == movie['YT-Trailer ID']):\n",
    "            return(np.mean(embedding_batch, axis = 0))\n",
    "        else:\n",
    "            print(\"No\")\n",
    "    except:\n",
    "        pass"
   ]
  },
  {
   "cell_type": "code",
   "execution_count": 9,
   "metadata": {
    "collapsed": true,
    "jupyter": {
     "outputs_hidden": true
    },
    "tags": []
   },
   "outputs": [
    {
     "name": "stdout",
     "output_type": "stream",
     "text": [
      "12197802\n",
      "WARNING:tensorflow:From /tmp/ipykernel_87160/1517285344.py:2: The name tf.reset_default_graph is deprecated. Please use tf.compat.v1.reset_default_graph instead.\n",
      "\n"
     ]
    },
    {
     "name": "stderr",
     "output_type": "stream",
     "text": [
      "OMP: Info #254: KMP_AFFINITY: pid 87160 tid 87280 thread 1 bound to OS proc set 1\n",
      "OMP: Info #254: KMP_AFFINITY: pid 87160 tid 87298 thread 2 bound to OS proc set 2\n",
      "OMP: Info #254: KMP_AFFINITY: pid 87160 tid 87299 thread 3 bound to OS proc set 3\n",
      "OMP: Info #254: KMP_AFFINITY: pid 87160 tid 87300 thread 4 bound to OS proc set 4\n",
      "OMP: Info #254: KMP_AFFINITY: pid 87160 tid 87301 thread 5 bound to OS proc set 5\n",
      "OMP: Info #254: KMP_AFFINITY: pid 87160 tid 87303 thread 7 bound to OS proc set 7\n",
      "OMP: Info #254: KMP_AFFINITY: pid 87160 tid 87302 thread 6 bound to OS proc set 6\n",
      "OMP: Info #254: KMP_AFFINITY: pid 87160 tid 87304 thread 8 bound to OS proc set 0\n"
     ]
    },
    {
     "name": "stdout",
     "output_type": "stream",
     "text": [
      "23379046\n",
      "21192782\n"
     ]
    },
    {
     "name": "stderr",
     "output_type": "stream",
     "text": [
      "OMP: Info #254: KMP_AFFINITY: pid 87160 tid 87281 thread 9 bound to OS proc set 1\n",
      "OMP: Info #254: KMP_AFFINITY: pid 87160 tid 87317 thread 11 bound to OS proc set 3\n",
      "OMP: Info #254: KMP_AFFINITY: pid 87160 tid 87318 thread 12 bound to OS proc set 4\n",
      "OMP: Info #254: KMP_AFFINITY: pid 87160 tid 87316 thread 10 bound to OS proc set 2\n",
      "OMP: Info #254: KMP_AFFINITY: pid 87160 tid 87319 thread 13 bound to OS proc set 5\n",
      "OMP: Info #254: KMP_AFFINITY: pid 87160 tid 87322 thread 16 bound to OS proc set 0\n",
      "OMP: Info #254: KMP_AFFINITY: pid 87160 tid 87321 thread 15 bound to OS proc set 7\n",
      "OMP: Info #254: KMP_AFFINITY: pid 87160 tid 87320 thread 14 bound to OS proc set 6\n"
     ]
    },
    {
     "name": "stdout",
     "output_type": "stream",
     "text": [
      "5484622\n",
      "24333106\n",
      "14807118\n",
      "5304398\n",
      "5468238\n",
      "21597982\n",
      "62160950\n",
      "26468598\n",
      "29614158\n",
      "22081614\n",
      "18591822\n",
      "24445006\n",
      "Updating\n",
      "5627982\n",
      "31776846\n",
      "21028942\n",
      "29638402\n",
      "40512026\n",
      "7544910\n",
      "29738710\n",
      "30158926\n",
      "29139022\n",
      "Updating\n",
      "44377314\n",
      "39161182\n",
      "18559698\n",
      "49504334\n",
      "15351886\n",
      "56155962\n",
      "15315022\n",
      "26216710\n",
      "Updating\n",
      "34218062\n",
      "15544398\n",
      "5492814\n",
      "22175322\n",
      "45452878\n",
      "20630546\n",
      "Updating\n",
      "55640142\n",
      "56546058\n",
      "17043534\n",
      "25600078\n",
      "16511054\n",
      "18423886\n",
      "23965774\n",
      "15245390\n",
      "Updating\n",
      "25620558\n",
      "22069326\n",
      "28954062\n",
      "16849966\n",
      "26099790\n",
      "17379406\n",
      "17504162\n",
      "Updating\n",
      "17666126\n",
      "24457294\n",
      "25956430\n",
      "23325546\n",
      "16293966\n",
      "Updating\n",
      "27234382\n",
      "17956942\n",
      "Updating\n",
      "15841290\n",
      "22958158\n",
      "25337934\n",
      "8360014\n",
      "7917898\n",
      "15712334\n",
      "10940494\n",
      "Updating\n",
      "42248510\n",
      "17041670\n",
      "28613010\n",
      "22937678\n",
      "31234450\n",
      "18948174\n",
      "42332238\n",
      "Updating\n",
      "29433934\n",
      "20410446\n",
      "25587790\n",
      "51302502\n",
      "24522830\n",
      "28172366\n",
      "10985550\n",
      "24705370\n",
      "30465402\n",
      "28891646\n",
      "21236866\n",
      "5308494\n",
      "31234450\n",
      "5374030\n",
      "15388750\n",
      "Updating\n",
      "20097786\n",
      "11848944\n"
     ]
    }
   ],
   "source": [
    "import os\n",
    "\n",
    "for index, movie in items.iterrows():\n",
    "    path = \"../Datasets/ml-100k/Audio/{}.wav\".format(movie['YT-Trailer ID'])\n",
    "    if(movie['YT-Trailer ID'] in embeddings.columns):\n",
    "        continue\n",
    "    elif(os.path.exists(path) == False):\n",
    "        continue\n",
    "    elif(os.path.getsize(path)>=100000000):\n",
    "        continue\n",
    "    else:\n",
    "        print(os.path.getsize(path))\n",
    "        embeddings[movie['YT-Trailer ID']] = get_embeddings(path, sess)\n",
    "    if(index % 10 == 0):\n",
    "        print(\"Updating\")\n",
    "        pd.DataFrame(embeddings).to_csv(\"../Datasets/ml-100k/Audio/embeddings.csv\")"
   ]
  },
  {
   "cell_type": "code",
   "execution_count": 10,
   "metadata": {},
   "outputs": [],
   "source": [
    "pd.DataFrame(embeddings).to_csv(\"../Datasets/ml-100k/Audio/embeddings.csv\")"
   ]
  },
  {
   "cell_type": "code",
   "execution_count": 11,
   "metadata": {},
   "outputs": [],
   "source": [
    "import pandas as pd\n",
    "from sklearn.metrics.pairwise import cosine_similarity\n",
    "\n",
    "embeddings = pd.read_csv(\"../Datasets/ml-100k/Audio/embeddings.csv\")"
   ]
  },
  {
   "cell_type": "code",
   "execution_count": 15,
   "metadata": {},
   "outputs": [
    {
     "name": "stdout",
     "output_type": "stream",
     "text": [
      "<bound method DataFrame.dropna of      Unnamed: 0  Unnamed: 0.1  Unnamed: 0.1.1  Unnamed: 0.1.1.1  \\\n",
      "0             0             0               0                 0   \n",
      "1             1             1               1                 1   \n",
      "2             2             2               2                 2   \n",
      "3             3             3               3                 3   \n",
      "4             4             4               4                 4   \n",
      "..          ...           ...             ...               ...   \n",
      "123         123           123             123               123   \n",
      "124         124           124             124               124   \n",
      "125         125           125             125               125   \n",
      "126         126           126             126               126   \n",
      "127         127           127             127               127   \n",
      "\n",
      "     Unnamed: 0.1.1.1.1  Unnamed: 0.1.1.1.1.1  Unnamed: 0.1.1.1.1.1.1  \\\n",
      "0                     0                     0                       0   \n",
      "1                     1                     1                       1   \n",
      "2                     2                     2                       2   \n",
      "3                     3                     3                       3   \n",
      "4                     4                     4                       4   \n",
      "..                  ...                   ...                     ...   \n",
      "123                 123                   123                     123   \n",
      "124                 124                   124                     124   \n",
      "125                 125                   125                     125   \n",
      "126                 126                   126                     126   \n",
      "127                 127                   127                     127   \n",
      "\n",
      "     mGXHH9iAfLA  IWFtzQOX_nY  hugpRyTc1fE  ...  BB61nauFkds  zk0AexuAhlw  \\\n",
      "0      -0.521165    -0.395401     0.099828  ...    -0.448748    -0.274268   \n",
      "1       0.205006     0.010918    -0.077360  ...     0.178475     0.487853   \n",
      "2       0.165516     0.465922     0.157173  ...     0.216055     0.290148   \n",
      "3      -0.845132    -0.545845    -0.582758  ...    -0.820023    -0.793542   \n",
      "4      -0.173997     0.098793    -0.043458  ...    -0.125964    -0.278760   \n",
      "..           ...          ...          ...  ...          ...          ...   \n",
      "123     0.033453     0.038254     0.180346  ...     0.154300    -0.015650   \n",
      "124    -0.441711    -0.351053     0.101677  ...    -0.422854    -0.382853   \n",
      "125    -0.397407    -0.415065     0.135399  ...    -0.346356    -0.299768   \n",
      "126     0.341728     0.239448     0.229490  ...     0.371675     0.061787   \n",
      "127     0.461967     0.205015    -0.290951  ...     0.263673    -0.156405   \n",
      "\n",
      "     dWJuJlmcabY  Cr4RdSLAG7I  tpELyjlhQKc  g1JAILio6-s  6KGcH-QmjY8  \\\n",
      "0      -0.205141    -0.463259    -0.079426    -0.314542    -0.698232   \n",
      "1       0.069946    -0.007068     0.070188     0.421594     0.160450   \n",
      "2       0.200808     0.349584     0.146987     0.188610     0.097607   \n",
      "3      -0.703900    -0.769179    -0.691907    -0.780792    -0.813282   \n",
      "4      -0.166244    -0.005711     0.020637    -0.381847    -0.292148   \n",
      "..           ...          ...          ...          ...          ...   \n",
      "123     0.034762    -0.116014     0.045808    -0.154851     0.293428   \n",
      "124    -0.200545    -0.394128    -0.089718    -0.307814    -0.525633   \n",
      "125    -0.236520    -0.464886    -0.158066    -0.475280    -0.409200   \n",
      "126     0.161212     0.297856     0.247711     0.037202     0.389463   \n",
      "127    -0.235157     0.327879     0.009325     0.052533     0.744683   \n",
      "\n",
      "     0OT4miUThrI  pLtJL4wFk6M  vi_eMOrCCyY  \n",
      "0      -0.442738    -0.545641    -0.394182  \n",
      "1       0.160316     0.070947     0.032258  \n",
      "2       0.479493     0.166546     0.199786  \n",
      "3      -0.539134    -0.677175    -0.557476  \n",
      "4       0.091337    -0.260615    -0.130069  \n",
      "..           ...          ...          ...  \n",
      "123    -0.083388     0.052347     0.053948  \n",
      "124    -0.164654    -0.490644    -0.181916  \n",
      "125    -0.512968    -0.416863    -0.464987  \n",
      "126     0.106575     0.431879     0.225622  \n",
      "127     0.135965     0.550146     0.003824  \n",
      "\n",
      "[128 rows x 183 columns]>\n"
     ]
    }
   ],
   "source": [
    "embeddings.dropna"
   ]
  },
  {
   "cell_type": "code",
   "execution_count": 12,
   "metadata": {},
   "outputs": [
    {
     "ename": "ValueError",
     "evalue": "Input contains NaN, infinity or a value too large for dtype('float64').",
     "output_type": "error",
     "traceback": [
      "\u001b[0;31m---------------------------------------------------------------------------\u001b[0m",
      "\u001b[0;31mValueError\u001b[0m                                Traceback (most recent call last)",
      "\u001b[0;32m/tmp/ipykernel_87160/3045723578.py\u001b[0m in \u001b[0;36m<module>\u001b[0;34m\u001b[0m\n\u001b[0;32m----> 1\u001b[0;31m \u001b[0mprint\u001b[0m\u001b[0;34m(\u001b[0m\u001b[0mcosine_similarity\u001b[0m\u001b[0;34m(\u001b[0m\u001b[0membeddings\u001b[0m\u001b[0;34m.\u001b[0m\u001b[0mT\u001b[0m\u001b[0;34m)\u001b[0m\u001b[0;34m)\u001b[0m\u001b[0;34m\u001b[0m\u001b[0;34m\u001b[0m\u001b[0m\n\u001b[0m",
      "\u001b[0;32m~/anaconda3/envs/SC2/lib/python3.7/site-packages/sklearn/metrics/pairwise.py\u001b[0m in \u001b[0;36mcosine_similarity\u001b[0;34m(X, Y, dense_output)\u001b[0m\n\u001b[1;32m   1178\u001b[0m     \u001b[0;31m# to avoid recursive import\u001b[0m\u001b[0;34m\u001b[0m\u001b[0;34m\u001b[0m\u001b[0;34m\u001b[0m\u001b[0m\n\u001b[1;32m   1179\u001b[0m \u001b[0;34m\u001b[0m\u001b[0m\n\u001b[0;32m-> 1180\u001b[0;31m     \u001b[0mX\u001b[0m\u001b[0;34m,\u001b[0m \u001b[0mY\u001b[0m \u001b[0;34m=\u001b[0m \u001b[0mcheck_pairwise_arrays\u001b[0m\u001b[0;34m(\u001b[0m\u001b[0mX\u001b[0m\u001b[0;34m,\u001b[0m \u001b[0mY\u001b[0m\u001b[0;34m)\u001b[0m\u001b[0;34m\u001b[0m\u001b[0;34m\u001b[0m\u001b[0m\n\u001b[0m\u001b[1;32m   1181\u001b[0m \u001b[0;34m\u001b[0m\u001b[0m\n\u001b[1;32m   1182\u001b[0m     \u001b[0mX_normalized\u001b[0m \u001b[0;34m=\u001b[0m \u001b[0mnormalize\u001b[0m\u001b[0;34m(\u001b[0m\u001b[0mX\u001b[0m\u001b[0;34m,\u001b[0m \u001b[0mcopy\u001b[0m\u001b[0;34m=\u001b[0m\u001b[0;32mTrue\u001b[0m\u001b[0;34m)\u001b[0m\u001b[0;34m\u001b[0m\u001b[0;34m\u001b[0m\u001b[0m\n",
      "\u001b[0;32m~/anaconda3/envs/SC2/lib/python3.7/site-packages/sklearn/utils/validation.py\u001b[0m in \u001b[0;36minner_f\u001b[0;34m(*args, **kwargs)\u001b[0m\n\u001b[1;32m     61\u001b[0m             \u001b[0mextra_args\u001b[0m \u001b[0;34m=\u001b[0m \u001b[0mlen\u001b[0m\u001b[0;34m(\u001b[0m\u001b[0margs\u001b[0m\u001b[0;34m)\u001b[0m \u001b[0;34m-\u001b[0m \u001b[0mlen\u001b[0m\u001b[0;34m(\u001b[0m\u001b[0mall_args\u001b[0m\u001b[0;34m)\u001b[0m\u001b[0;34m\u001b[0m\u001b[0;34m\u001b[0m\u001b[0m\n\u001b[1;32m     62\u001b[0m             \u001b[0;32mif\u001b[0m \u001b[0mextra_args\u001b[0m \u001b[0;34m<=\u001b[0m \u001b[0;36m0\u001b[0m\u001b[0;34m:\u001b[0m\u001b[0;34m\u001b[0m\u001b[0;34m\u001b[0m\u001b[0m\n\u001b[0;32m---> 63\u001b[0;31m                 \u001b[0;32mreturn\u001b[0m \u001b[0mf\u001b[0m\u001b[0;34m(\u001b[0m\u001b[0;34m*\u001b[0m\u001b[0margs\u001b[0m\u001b[0;34m,\u001b[0m \u001b[0;34m**\u001b[0m\u001b[0mkwargs\u001b[0m\u001b[0;34m)\u001b[0m\u001b[0;34m\u001b[0m\u001b[0;34m\u001b[0m\u001b[0m\n\u001b[0m\u001b[1;32m     64\u001b[0m \u001b[0;34m\u001b[0m\u001b[0m\n\u001b[1;32m     65\u001b[0m             \u001b[0;31m# extra_args > 0\u001b[0m\u001b[0;34m\u001b[0m\u001b[0;34m\u001b[0m\u001b[0;34m\u001b[0m\u001b[0m\n",
      "\u001b[0;32m~/anaconda3/envs/SC2/lib/python3.7/site-packages/sklearn/metrics/pairwise.py\u001b[0m in \u001b[0;36mcheck_pairwise_arrays\u001b[0;34m(X, Y, precomputed, dtype, accept_sparse, force_all_finite, copy)\u001b[0m\n\u001b[1;32m    142\u001b[0m         X = Y = check_array(X, accept_sparse=accept_sparse, dtype=dtype,\n\u001b[1;32m    143\u001b[0m                             \u001b[0mcopy\u001b[0m\u001b[0;34m=\u001b[0m\u001b[0mcopy\u001b[0m\u001b[0;34m,\u001b[0m \u001b[0mforce_all_finite\u001b[0m\u001b[0;34m=\u001b[0m\u001b[0mforce_all_finite\u001b[0m\u001b[0;34m,\u001b[0m\u001b[0;34m\u001b[0m\u001b[0;34m\u001b[0m\u001b[0m\n\u001b[0;32m--> 144\u001b[0;31m                             estimator=estimator)\n\u001b[0m\u001b[1;32m    145\u001b[0m     \u001b[0;32melse\u001b[0m\u001b[0;34m:\u001b[0m\u001b[0;34m\u001b[0m\u001b[0;34m\u001b[0m\u001b[0m\n\u001b[1;32m    146\u001b[0m         X = check_array(X, accept_sparse=accept_sparse, dtype=dtype,\n",
      "\u001b[0;32m~/anaconda3/envs/SC2/lib/python3.7/site-packages/sklearn/utils/validation.py\u001b[0m in \u001b[0;36minner_f\u001b[0;34m(*args, **kwargs)\u001b[0m\n\u001b[1;32m     61\u001b[0m             \u001b[0mextra_args\u001b[0m \u001b[0;34m=\u001b[0m \u001b[0mlen\u001b[0m\u001b[0;34m(\u001b[0m\u001b[0margs\u001b[0m\u001b[0;34m)\u001b[0m \u001b[0;34m-\u001b[0m \u001b[0mlen\u001b[0m\u001b[0;34m(\u001b[0m\u001b[0mall_args\u001b[0m\u001b[0;34m)\u001b[0m\u001b[0;34m\u001b[0m\u001b[0;34m\u001b[0m\u001b[0m\n\u001b[1;32m     62\u001b[0m             \u001b[0;32mif\u001b[0m \u001b[0mextra_args\u001b[0m \u001b[0;34m<=\u001b[0m \u001b[0;36m0\u001b[0m\u001b[0;34m:\u001b[0m\u001b[0;34m\u001b[0m\u001b[0;34m\u001b[0m\u001b[0m\n\u001b[0;32m---> 63\u001b[0;31m                 \u001b[0;32mreturn\u001b[0m \u001b[0mf\u001b[0m\u001b[0;34m(\u001b[0m\u001b[0;34m*\u001b[0m\u001b[0margs\u001b[0m\u001b[0;34m,\u001b[0m \u001b[0;34m**\u001b[0m\u001b[0mkwargs\u001b[0m\u001b[0;34m)\u001b[0m\u001b[0;34m\u001b[0m\u001b[0;34m\u001b[0m\u001b[0m\n\u001b[0m\u001b[1;32m     64\u001b[0m \u001b[0;34m\u001b[0m\u001b[0m\n\u001b[1;32m     65\u001b[0m             \u001b[0;31m# extra_args > 0\u001b[0m\u001b[0;34m\u001b[0m\u001b[0;34m\u001b[0m\u001b[0;34m\u001b[0m\u001b[0m\n",
      "\u001b[0;32m~/anaconda3/envs/SC2/lib/python3.7/site-packages/sklearn/utils/validation.py\u001b[0m in \u001b[0;36mcheck_array\u001b[0;34m(array, accept_sparse, accept_large_sparse, dtype, order, copy, force_all_finite, ensure_2d, allow_nd, ensure_min_samples, ensure_min_features, estimator)\u001b[0m\n\u001b[1;32m    719\u001b[0m         \u001b[0;32mif\u001b[0m \u001b[0mforce_all_finite\u001b[0m\u001b[0;34m:\u001b[0m\u001b[0;34m\u001b[0m\u001b[0;34m\u001b[0m\u001b[0m\n\u001b[1;32m    720\u001b[0m             _assert_all_finite(array,\n\u001b[0;32m--> 721\u001b[0;31m                                allow_nan=force_all_finite == 'allow-nan')\n\u001b[0m\u001b[1;32m    722\u001b[0m \u001b[0;34m\u001b[0m\u001b[0m\n\u001b[1;32m    723\u001b[0m     \u001b[0;32mif\u001b[0m \u001b[0mensure_min_samples\u001b[0m \u001b[0;34m>\u001b[0m \u001b[0;36m0\u001b[0m\u001b[0;34m:\u001b[0m\u001b[0;34m\u001b[0m\u001b[0;34m\u001b[0m\u001b[0m\n",
      "\u001b[0;32m~/anaconda3/envs/SC2/lib/python3.7/site-packages/sklearn/utils/validation.py\u001b[0m in \u001b[0;36m_assert_all_finite\u001b[0;34m(X, allow_nan, msg_dtype)\u001b[0m\n\u001b[1;32m    104\u001b[0m                     \u001b[0mmsg_err\u001b[0m\u001b[0;34m.\u001b[0m\u001b[0mformat\u001b[0m\u001b[0;34m\u001b[0m\u001b[0;34m\u001b[0m\u001b[0m\n\u001b[1;32m    105\u001b[0m                     (type_err,\n\u001b[0;32m--> 106\u001b[0;31m                      msg_dtype if msg_dtype is not None else X.dtype)\n\u001b[0m\u001b[1;32m    107\u001b[0m             )\n\u001b[1;32m    108\u001b[0m     \u001b[0;31m# for object dtype data, we only check for NaNs (GH-13254)\u001b[0m\u001b[0;34m\u001b[0m\u001b[0;34m\u001b[0m\u001b[0;34m\u001b[0m\u001b[0m\n",
      "\u001b[0;31mValueError\u001b[0m: Input contains NaN, infinity or a value too large for dtype('float64')."
     ]
    }
   ],
   "source": [
    "print(cosine_similarity(embeddings.T))"
   ]
  },
  {
   "cell_type": "code",
   "execution_count": null,
   "metadata": {},
   "outputs": [],
   "source": []
  }
 ],
 "metadata": {
  "kernelspec": {
   "display_name": "Python 3 (ipykernel)",
   "language": "python",
   "name": "python3"
  },
  "language_info": {
   "codemirror_mode": {
    "name": "ipython",
    "version": 3
   },
   "file_extension": ".py",
   "mimetype": "text/x-python",
   "name": "python",
   "nbconvert_exporter": "python",
   "pygments_lexer": "ipython3",
   "version": "3.8.12"
  }
 },
 "nbformat": 4,
 "nbformat_minor": 4
}
