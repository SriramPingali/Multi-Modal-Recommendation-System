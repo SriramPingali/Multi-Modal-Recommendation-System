{
 "cells": [
  {
   "cell_type": "markdown",
   "id": "d2c6b043",
   "metadata": {},
   "source": [
    "# YouTube 8M"
   ]
  },
  {
   "cell_type": "code",
   "execution_count": null,
   "id": "e60e72c6",
   "metadata": {},
   "outputs": [],
   "source": [
    "import pandas as pd\n",
    "import matplotlib.pyplot as plt\n",
    "\n",
    "import seaborn as sns"
   ]
  },
  {
   "cell_type": "code",
   "execution_count": null,
   "id": "e409f8a7",
   "metadata": {},
   "outputs": [],
   "source": [
    "# Loading libraries & datasets\n",
    "# import tensorflow as tf\n",
    "import numpy as np\n",
    "from youtube_api import YouTubeDataAPI\n",
    "from IPython.display import YouTubeVideo\n",
    "\n",
    "video_lvl_record = \"../Datasets/yt8m/video/train/train0111.tfrecord\"\n",
    "frame_lvl_record = \"../Datasets/yt8m/frame/train/train0111.tfrecord\"\n",
    "\n",
    "DEVELOPER_KEY = \"Visit Youtube Data API page and generate key\"\n",
    "youtube = YouTubeDataAPI(DEVELOPER_KEY)"
   ]
  },
  {
   "cell_type": "code",
   "execution_count": null,
   "id": "c66684d4",
   "metadata": {},
   "outputs": [],
   "source": [
    "vid_ids = []\n",
    "labels = []\n",
    "rgb = []\n",
    "audio = []"
   ]
  },
  {
   "cell_type": "markdown",
   "id": "54001bc1",
   "metadata": {},
   "source": [
    "# YouTube Trailers Download"
   ]
  },
  {
   "cell_type": "code",
   "execution_count": null,
   "id": "6097eb5d",
   "metadata": {},
   "outputs": [],
   "source": [
    "def youtube_search(query, max_results = 5, order = \"relevance\", location = None, location_radius = None):\n",
    "    search_response = youtube.search(\n",
    "         q = query, \n",
    "         max_results = max_results, \n",
    "         type = \"video\", \n",
    "         location = location,\n",
    "         location_radius = location_radius, \n",
    "         order = order)\n",
    "    \n",
    "    max_views = 0\n",
    "    for result in search_response:\n",
    "        stats = youtube.get_video_metadata(result['video_id'])\n",
    "        if(int(stats['video_view_count']) > max_views):\n",
    "            video_id = result['video_id']\n",
    "    return(video_id)"
   ]
  },
  {
   "cell_type": "code",
   "execution_count": null,
   "id": "06b5b4d9",
   "metadata": {},
   "outputs": [],
   "source": [
    "vid_id = youtube_search(\"Toy Story Trailer\")\n",
    "YouTubeVideo(vid_id)"
   ]
  },
  {
   "cell_type": "code",
   "execution_count": null,
   "id": "015f1f6d",
   "metadata": {},
   "outputs": [],
   "source": [
    "from youtube_dl import YoutubeDL\n",
    "\n",
    "ydl_opts ={\n",
    "    'format': 'bestaudio/best',\n",
    "    'outtmpl': '../Datasets/ml-100k/Audio/%(id)s.%(ext)s',\n",
    "    'postprocessors': [{\n",
    "        'key': 'FFmpegExtractAudio',\n",
    "        'preferredcodec': 'wav',\n",
    "#         'preferredquality': '192',\n",
    "    }],\n",
    "}\n",
    "audio_downloader = YoutubeDL(ydl_opts)"
   ]
  },
  {
   "cell_type": "code",
   "execution_count": null,
   "id": "bacf22a3",
   "metadata": {
    "tags": []
   },
   "outputs": [],
   "source": [
    "# audio_downloader.extract_info(\"https://www.youtube.com/watch?v=\" + vid_id)"
   ]
  },
  {
   "cell_type": "code",
   "execution_count": null,
   "id": "93694048",
   "metadata": {},
   "outputs": [],
   "source": [
    "items = pd.read_csv(\"../../Datasets/ml-100k/Text/items.csv\")"
   ]
  },
  {
   "cell_type": "code",
   "execution_count": null,
   "id": "fadbc320",
   "metadata": {
    "tags": []
   },
   "outputs": [],
   "source": [
    "import os\n",
    "\n",
    "for index, movie in items.iterrows():\n",
    "    print(movie['movie title'])\n",
    "    try:\n",
    "        if(movie['YT-Trailer ID'] == movie['YT-Trailer ID']):\n",
    "            print(\"Exists!\")\n",
    "            continue\n",
    "        vid_id = youtube_search(\"{} Trailer\".format(movie['movie title']))\n",
    "        items.loc[index, \"YT-Trailer ID\"] = vid_id\n",
    "        if(os.path.exists(\"../Datasets/ml-100k/Audio/{}.wav\".format(vid))):\n",
    "            print(\"Exists!\")\n",
    "            continue\n",
    "        audio_downloader.extract_info(\"https://www.youtube.com/watch?v=\" + vid_id)\n",
    "    except:\n",
    "        print(\"Couldn't Download {}\".format(movie['movie title']))\n",
    "        \n",
    "items.to_csv('../Datasets/ml-100k/Text/items.csv')"
   ]
  },
  {
   "cell_type": "code",
   "execution_count": null,
   "id": "e24b7079-6be3-4061-b0bf-276fae422871",
   "metadata": {},
   "outputs": [],
   "source": []
  }
 ],
 "metadata": {
  "kernelspec": {
   "display_name": "Python 3 (ipykernel)",
   "language": "python",
   "name": "python3"
  },
  "language_info": {
   "codemirror_mode": {
    "name": "ipython",
    "version": 3
   },
   "file_extension": ".py",
   "mimetype": "text/x-python",
   "name": "python",
   "nbconvert_exporter": "python",
   "pygments_lexer": "ipython3",
   "version": "3.10.9"
  }
 },
 "nbformat": 4,
 "nbformat_minor": 5
}
