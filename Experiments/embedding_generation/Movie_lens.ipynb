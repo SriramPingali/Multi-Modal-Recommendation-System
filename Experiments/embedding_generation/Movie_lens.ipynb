{
 "cells": [
  {
   "cell_type": "markdown",
   "id": "95d17916",
   "metadata": {},
   "source": [
    "# Setup"
   ]
  },
  {
   "cell_type": "code",
   "execution_count": 1,
   "id": "e9fe9255-3051-4834-9967-64e7e2621fe5",
   "metadata": {},
   "outputs": [],
   "source": [
    "import os\n",
    "os.environ['TF_CPP_MIN_LOG_LEVEL'] = '3' "
   ]
  },
  {
   "cell_type": "code",
   "execution_count": 3,
   "id": "2388eb3d",
   "metadata": {},
   "outputs": [
    {
     "ename": "ModuleNotFoundError",
     "evalue": "No module named 'ml_metrics'",
     "output_type": "error",
     "traceback": [
      "\u001b[0;31m---------------------------------------------------------------------------\u001b[0m",
      "\u001b[0;31mModuleNotFoundError\u001b[0m                       Traceback (most recent call last)",
      "Cell \u001b[0;32mIn[3], line 3\u001b[0m\n\u001b[1;32m      1\u001b[0m \u001b[38;5;28;01mimport\u001b[39;00m \u001b[38;5;21;01mnumpy\u001b[39;00m \u001b[38;5;28;01mas\u001b[39;00m \u001b[38;5;21;01mnp\u001b[39;00m\n\u001b[1;32m      2\u001b[0m \u001b[38;5;28;01mimport\u001b[39;00m \u001b[38;5;21;01mpandas\u001b[39;00m \u001b[38;5;28;01mas\u001b[39;00m \u001b[38;5;21;01mpd\u001b[39;00m\n\u001b[0;32m----> 3\u001b[0m \u001b[38;5;28;01mfrom\u001b[39;00m \u001b[38;5;21;01mml_metrics\u001b[39;00m \u001b[38;5;28;01mimport\u001b[39;00m mapk\n\u001b[1;32m      4\u001b[0m \u001b[38;5;28;01mfrom\u001b[39;00m \u001b[38;5;21;01mrecmetrics\u001b[39;00m \u001b[38;5;28;01mimport\u001b[39;00m mark\n\u001b[1;32m      5\u001b[0m \u001b[38;5;28;01mfrom\u001b[39;00m \u001b[38;5;21;01msklearn\u001b[39;00m\u001b[38;5;21;01m.\u001b[39;00m\u001b[38;5;21;01mmetrics\u001b[39;00m \u001b[38;5;28;01mimport\u001b[39;00m jaccard_score\n",
      "\u001b[0;31mModuleNotFoundError\u001b[0m: No module named 'ml_metrics'"
     ]
    }
   ],
   "source": [
    "import numpy as np\n",
    "import pandas as pd\n",
    "from ml_metrics import mapk\n",
    "from recmetrics import mark\n",
    "from sklearn.metrics import jaccard_score\n",
    "from sklearn.preprocessing import LabelEncoder, OneHotEncoder\n",
    "from sklearn.metrics.pairwise import pairwise_distances "
   ]
  },
  {
   "cell_type": "code",
   "execution_count": null,
   "id": "c61e01e5",
   "metadata": {},
   "outputs": [],
   "source": [
    "# reading users file:\n",
    "u_cols = ['user_id', 'age', 'sex', 'occupation', 'zip_code']\n",
    "users = pd.read_csv('../Datasets/ml-100k/Text/u.user', sep='|', names=u_cols,encoding='latin-1')\n",
    "\n",
    "# reading ratings file:\n",
    "r_cols = ['user_id', 'movie_id', 'rating', 'unix_timestamp']\n",
    "ratings = pd.read_csv('../Datasets/ml-100k/Text/u.data', sep='\\t', names=r_cols,encoding='latin-1')\n",
    "\n",
    "# # reading items file:\n",
    "items = pd.read_csv(\"../Datasets/ml-100k/Text/items.csv\")"
   ]
  },
  {
   "cell_type": "code",
   "execution_count": null,
   "id": "79bdfcb4",
   "metadata": {},
   "outputs": [],
   "source": [
    "print(\"\\nUser Data :\")\n",
    "print(\"shape : \", users.shape)\n",
    "users.head()"
   ]
  },
  {
   "cell_type": "code",
   "execution_count": null,
   "id": "b0b2cd08",
   "metadata": {},
   "outputs": [],
   "source": [
    "print(\"\\nRatings Data :\")\n",
    "print(\"shape : \", ratings.shape)\n",
    "ratings.head()"
   ]
  },
  {
   "cell_type": "code",
   "execution_count": null,
   "id": "311b986e",
   "metadata": {},
   "outputs": [],
   "source": [
    "print(\"\\nItem Data :\")\n",
    "print(\"shape : \", items.shape)\n",
    "items.head()"
   ]
  },
  {
   "cell_type": "code",
   "execution_count": null,
   "id": "2e7799fb",
   "metadata": {},
   "outputs": [],
   "source": [
    "ratings_train = pd.read_csv('../Datasets/ml-100k/Text/ua.base', sep='\\t', names=r_cols, encoding='latin-1')\n",
    "ratings_test = pd.read_csv('../Datasets/ml-100k/Text/ua.test', sep='\\t', names=r_cols, encoding='latin-1')\n",
    "ratings_train.shape, ratings_test.shape"
   ]
  },
  {
   "cell_type": "code",
   "execution_count": null,
   "id": "80abf4b5",
   "metadata": {},
   "outputs": [],
   "source": [
    "n_users = ratings.user_id.unique().shape[0]\n",
    "n_items = ratings.movie_id.unique().shape[0]"
   ]
  },
  {
   "cell_type": "code",
   "execution_count": null,
   "id": "ec746cf8",
   "metadata": {},
   "outputs": [],
   "source": [
    "data_matrix = np.zeros((n_users, n_items))\n",
    "for line in ratings.itertuples():\n",
    "    data_matrix[line[1]-1, line[2]-1] = line[3]"
   ]
  },
  {
   "cell_type": "code",
   "execution_count": null,
   "id": "4c6e5418",
   "metadata": {},
   "outputs": [],
   "source": [
    "np.unique(data_matrix, return_counts=True)"
   ]
  },
  {
   "cell_type": "code",
   "execution_count": null,
   "id": "2d080e9e-b39a-4d89-abdc-bf2cefdb6c31",
   "metadata": {},
   "outputs": [],
   "source": [
    "movie_embeddings = pd.read_csv(\"../Datasets/ml-100k/Audio/embeddings.csv\").drop(['Unnamed: 0', 'Unnamed: 0.1', 'Unnamed: 0.1.1', 'Unnamed: 0.1.1.1', 'Unnamed: 0.1.1.1.1', 'Unnamed: 0.1.1.1.1.1', 'Unnamed: 0.1.1.1.1.1.1'], axis=1).dropna(axis=1)\n",
    "temp = items[items[\"YT-Trailer ID\"].isin(list(movie_embeddings.columns))]\n",
    "items = items.iloc[list(temp.index)]\n",
    "data_matrix = data_matrix[:, list(temp.index)]"
   ]
  },
  {
   "cell_type": "markdown",
   "id": "a5e1ea1c",
   "metadata": {},
   "source": [
    "# Matrix Factorization"
   ]
  },
  {
   "cell_type": "code",
   "execution_count": null,
   "id": "3daaa388",
   "metadata": {},
   "outputs": [],
   "source": [
    "user_similarity = pairwise_distances(data_matrix, metric='cosine')\n",
    "item_similarity = pairwise_distances(data_matrix.T, metric='cosine')"
   ]
  },
  {
   "cell_type": "code",
   "execution_count": null,
   "id": "7acacd26",
   "metadata": {},
   "outputs": [],
   "source": [
    "def predict(ratings, similarity, type='user'):\n",
    "    if type == 'user':\n",
    "        mean_user_rating = ratings.mean(axis=1)\n",
    "        #We use np.newaxis so that mean_user_rating has same format as ratings\n",
    "        ratings_diff = (ratings - mean_user_rating[:, np.newaxis])\n",
    "        pred = mean_user_rating[:, np.newaxis] + similarity.dot(ratings_diff) / np.array([np.abs(similarity).sum(axis=1)]).T\n",
    "    elif type == 'item':\n",
    "        pred = ratings.dot(similarity) / np.array([np.abs(similarity).sum(axis=1)])\n",
    "    return pred"
   ]
  },
  {
   "cell_type": "code",
   "execution_count": null,
   "id": "e64f1f55",
   "metadata": {},
   "outputs": [],
   "source": [
    "user_prediction = predict(data_matrix, user_similarity, type='user')\n",
    "item_prediction = predict(data_matrix, item_similarity, type='item')"
   ]
  },
  {
   "cell_type": "code",
   "execution_count": null,
   "id": "c83d325e",
   "metadata": {},
   "outputs": [],
   "source": [
    "user_prediction.shape"
   ]
  },
  {
   "cell_type": "markdown",
   "id": "078ba978",
   "metadata": {},
   "source": [
    "## Evaluate"
   ]
  },
  {
   "cell_type": "code",
   "execution_count": null,
   "id": "1d65424d",
   "metadata": {},
   "outputs": [],
   "source": [
    "def box(array, percentile):\n",
    "    threshold = np.percentile(array, percentile)\n",
    "    ret = np.where(array>threshold, 1, 0)\n",
    "    return(ret)"
   ]
  },
  {
   "cell_type": "code",
   "execution_count": null,
   "id": "2b5c88ba",
   "metadata": {},
   "outputs": [],
   "source": [
    "def evaluate(y_true, y_pred, k = 3, percentile = 90, data_matrix = data_matrix):\n",
    "    score = []\n",
    "    y_true_box = box(y_true, percentile)\n",
    "    y_pred_box = box(y_pred, percentile)\n",
    "    for j in range(len(data_matrix)):\n",
    "        include = [i for i in range(len(data_matrix[j])) if data_matrix[j][i] != 0]\n",
    "        y_true_include = [y_true[j][i] for i in include]\n",
    "        y_pred_include = [y_pred[j][i] for i in include]\n",
    "        y_true_include_box = [y_true_box[j][i] for i in include]\n",
    "        y_pred_include_box = [y_pred_box[j][i] for i in include]\n",
    "        score.append([jaccard_score(y_true_include_box, y_pred_include_box, average=\"micro\"), \n",
    "                      mark([y_true_include], [y_pred_include], k = k),\n",
    "                      mapk([y_true_include], [y_pred_include], k = k)])\n",
    "    print(\"Jaccard Score: {}\\nMAR@K: {}\\nMAP@K: {}\".format(*np.mean(score, axis=0)))"
   ]
  },
  {
   "cell_type": "code",
   "execution_count": null,
   "id": "b3201cfa",
   "metadata": {},
   "outputs": [],
   "source": [
    "y_true = data_matrix\n",
    "y_pred = user_prediction"
   ]
  },
  {
   "cell_type": "code",
   "execution_count": null,
   "id": "759ffdbc",
   "metadata": {},
   "outputs": [],
   "source": [
    "evaluate(y_true, y_pred)"
   ]
  },
  {
   "cell_type": "markdown",
   "id": "8df86af8",
   "metadata": {},
   "source": [
    "# Textual Summaries"
   ]
  },
  {
   "cell_type": "code",
   "execution_count": null,
   "id": "3eac38ad-4713-4eed-bc64-02c676275a12",
   "metadata": {},
   "outputs": [],
   "source": [
    "data_text = items['Summary']"
   ]
  },
  {
   "cell_type": "code",
   "execution_count": null,
   "id": "3b3a3d3a",
   "metadata": {
    "tags": []
   },
   "outputs": [],
   "source": [
    "import keras\n",
    "from utils.autoencoder import Autoencoder_Text\n",
    "\n",
    "AE = Autoencoder_Text(data_text)\n",
    "# AE.train(data_text, epochs = 10, batch_size = 100)"
   ]
  },
  {
   "cell_type": "code",
   "execution_count": null,
   "id": "d54d7d6d-e986-41af-84db-705be0bb90dc",
   "metadata": {},
   "outputs": [],
   "source": [
    "AE.enc_dec_model = keras.models.load_model('./pretrained/text_model')"
   ]
  },
  {
   "cell_type": "code",
   "execution_count": null,
   "id": "001c6e52-9825-43df-b157-9b1bdfb452e5",
   "metadata": {
    "tags": []
   },
   "outputs": [],
   "source": [
    "inputs = np.squeeze(AE.pre_process(data_text), axis = 2)\n",
    "movie_embeddings = AE.encoder.predict(inputs)"
   ]
  },
  {
   "cell_type": "code",
   "execution_count": null,
   "id": "c23fd137",
   "metadata": {},
   "outputs": [],
   "source": [
    "# user_embeddings = np.dot(data_matrix, movie_embeddings)/np.array([np.sum(data_matrix, axis = 1)]).T"
   ]
  },
  {
   "cell_type": "code",
   "execution_count": null,
   "id": "e0ba6775",
   "metadata": {},
   "outputs": [],
   "source": [
    "# p1=np.sqrt(np.sum(user_embeddings**2,axis=1))[:,np.newaxis]\n",
    "# p2=np.sqrt(np.sum(movie_embeddings**2,axis=1))[np.newaxis,:]\n",
    "# text_similarity = np.dot(user_embeddings, movie_embeddings.T) / (p1*p2)"
   ]
  },
  {
   "cell_type": "code",
   "execution_count": null,
   "id": "ed6adb2d-5950-4f4e-a981-79b851bdbb5d",
   "metadata": {},
   "outputs": [],
   "source": [
    "movie_similarity = 1 - pairwise_distances(movie_embeddings, metric='hamming')\n",
    "text_similarity = predict(data_matrix, movie_similarity, type='item')"
   ]
  },
  {
   "cell_type": "code",
   "execution_count": null,
   "id": "e5462174-e6c9-4169-8653-48125ab52538",
   "metadata": {},
   "outputs": [],
   "source": [
    "y_pred = text_similarity\n",
    "evaluate(y_true, y_pred)"
   ]
  },
  {
   "cell_type": "markdown",
   "id": "14b2efbc-721f-47dd-926c-f4ae956f8482",
   "metadata": {},
   "source": [
    "# Meta Data"
   ]
  },
  {
   "cell_type": "markdown",
   "id": "d9da70fa-0a0f-46b4-a5ae-247dc5c7c176",
   "metadata": {},
   "source": [
    "## Genres"
   ]
  },
  {
   "cell_type": "code",
   "execution_count": null,
   "id": "4cd74924-49d3-487c-8d0c-3eb0f3f13169",
   "metadata": {},
   "outputs": [],
   "source": [
    "movie_embeddings = items.iloc[:, 9:-7]"
   ]
  },
  {
   "cell_type": "code",
   "execution_count": null,
   "id": "ef0a6015-3691-4c7c-8096-234f7d7ee429",
   "metadata": {},
   "outputs": [],
   "source": [
    "user_embeddings = np.dot(data_matrix, movie_embeddings)/np.array([np.sum(data_matrix, axis = 1)]).T"
   ]
  },
  {
   "cell_type": "code",
   "execution_count": null,
   "id": "557d6b4c-9efa-45a0-b5b0-a77f5e05702c",
   "metadata": {},
   "outputs": [],
   "source": [
    "movie_similarity = 1 - pairwise_distances(movie_embeddings, metric='hamming')\n",
    "genre_similarity = predict(data_matrix, movie_similarity, type='item')"
   ]
  },
  {
   "cell_type": "code",
   "execution_count": null,
   "id": "feb86e62-99ff-44a1-b520-32b378480c22",
   "metadata": {},
   "outputs": [],
   "source": [
    "genre_similarity.shape"
   ]
  },
  {
   "cell_type": "code",
   "execution_count": null,
   "id": "146526e2-9da2-490a-981c-10a2f576956c",
   "metadata": {},
   "outputs": [],
   "source": [
    "y_pred = genre_similarity\n",
    "evaluate(y_true, y_pred)"
   ]
  },
  {
   "cell_type": "code",
   "execution_count": null,
   "id": "a44a5d87-fbc5-458f-959c-489aeb0bd493",
   "metadata": {},
   "outputs": [],
   "source": [
    "print(*zip(y_true[1][:20], y_pred[1][:20]))"
   ]
  },
  {
   "cell_type": "markdown",
   "id": "b9ba4bcf-50d7-44ff-9ff3-a5b70169a5ff",
   "metadata": {},
   "source": [
    "# Crew"
   ]
  },
  {
   "cell_type": "markdown",
   "id": "0d97ece7-a85b-48dd-a97d-769eec504673",
   "metadata": {},
   "source": [
    "### Cast"
   ]
  },
  {
   "cell_type": "code",
   "execution_count": null,
   "id": "2c535d56-733c-49d3-85d2-c6507cbe6b91",
   "metadata": {},
   "outputs": [],
   "source": [
    "def jaccard_similarity(list1, list2):\n",
    "    s1 = set(list1)\n",
    "    s2 = set(list2)\n",
    "    return float(len(s1.intersection(s2)) / len(s1.union(s2)))"
   ]
  },
  {
   "cell_type": "code",
   "execution_count": null,
   "id": "ce867306-4cb6-413d-b601-2529edaad800",
   "metadata": {},
   "outputs": [],
   "source": [
    "def get_cast(text):\n",
    "    return(str(text).split(\"|\"))"
   ]
  },
  {
   "cell_type": "code",
   "execution_count": null,
   "id": "1568987a-7d2b-4256-a39b-5b1ac786d852",
   "metadata": {},
   "outputs": [],
   "source": [
    "data_cast = items['Cast'].apply(get_cast)"
   ]
  },
  {
   "cell_type": "code",
   "execution_count": null,
   "id": "7167a775-b65e-45fd-bb22-ab7aee3628b2",
   "metadata": {},
   "outputs": [],
   "source": [
    "movie_similarity = []\n",
    "for i in data_cast:\n",
    "    temp = []\n",
    "    for j in data_cast:\n",
    "        temp.append(jaccard_similarity(i, j))\n",
    "    movie_similarity.append(temp)\n",
    "    \n",
    "movie_similarity = np.array(movie_similarity)"
   ]
  },
  {
   "cell_type": "code",
   "execution_count": null,
   "id": "17d6371a-ddb5-4ec2-aefc-62462e520536",
   "metadata": {},
   "outputs": [],
   "source": [
    "cast_similarity = predict(data_matrix, movie_similarity, type='item')"
   ]
  },
  {
   "cell_type": "code",
   "execution_count": null,
   "id": "e0378ec3-09bc-4479-907a-eaf748a34dcf",
   "metadata": {},
   "outputs": [],
   "source": [
    "y_pred = cast_similarity\n",
    "evaluate(y_true, y_pred)"
   ]
  },
  {
   "cell_type": "code",
   "execution_count": null,
   "id": "0118aafc-0817-4fad-8067-ab242cccf6ef",
   "metadata": {},
   "outputs": [],
   "source": [
    "print(*zip(y_true[1][:20], y_pred[1][:20]))"
   ]
  },
  {
   "cell_type": "markdown",
   "id": "1c3f0982-f5a3-4e24-a0c2-3ec229451584",
   "metadata": {},
   "source": [
    "### Director"
   ]
  },
  {
   "cell_type": "code",
   "execution_count": null,
   "id": "43e2a663-6ff4-4cf0-86c6-75e480265b92",
   "metadata": {},
   "outputs": [],
   "source": [
    "data_dir = items['Director']"
   ]
  },
  {
   "cell_type": "code",
   "execution_count": null,
   "id": "8b19f7e0-c691-4de9-bd1f-7e5493632815",
   "metadata": {},
   "outputs": [],
   "source": [
    "movie_similarity = []\n",
    "for i in data_dir:\n",
    "    temp = []\n",
    "    for j in data_dir:\n",
    "        temp.append(int(i == j))\n",
    "    movie_similarity.append(temp)\n",
    "    \n",
    "movie_similarity = np.array(movie_similarity)"
   ]
  },
  {
   "cell_type": "code",
   "execution_count": null,
   "id": "9ab357b2-6fe2-44b7-99cd-ca49b96a5bd9",
   "metadata": {},
   "outputs": [],
   "source": [
    "dir_similarity = np.nan_to_num( predict(data_matrix, movie_similarity, type='item') )"
   ]
  },
  {
   "cell_type": "code",
   "execution_count": null,
   "id": "280104c5-d746-4eac-ae5b-86db7a1cd69b",
   "metadata": {},
   "outputs": [],
   "source": [
    "y_pred = dir_similarity\n",
    "evaluate(y_true, y_pred)"
   ]
  },
  {
   "cell_type": "code",
   "execution_count": null,
   "id": "2fc716f2-2d40-4124-b00f-9292f8d3cc25",
   "metadata": {},
   "outputs": [],
   "source": [
    "print(*zip(y_true[1][:20], y_pred[1][:20]))"
   ]
  },
  {
   "cell_type": "markdown",
   "id": "10b512d0-714e-411f-a5c1-6d5ad46cf11c",
   "metadata": {},
   "source": [
    "# Audio Features"
   ]
  },
  {
   "cell_type": "code",
   "execution_count": null,
   "id": "623205fa-fadb-4d74-bc7a-2955a4c3433a",
   "metadata": {},
   "outputs": [],
   "source": [
    "movie_embeddings = pd.read_csv(\"../Datasets/ml-100k/Audio/embeddings.csv\").drop(['Unnamed: 0', 'Unnamed: 0.1', 'Unnamed: 0.1.1', 'Unnamed: 0.1.1.1', 'Unnamed: 0.1.1.1.1', 'Unnamed: 0.1.1.1.1.1', 'Unnamed: 0.1.1.1.1.1.1'], axis=1).dropna(axis=1)"
   ]
  },
  {
   "cell_type": "code",
   "execution_count": null,
   "id": "48c9c4c0-f2f6-47bf-b224-6df37e0c55fb",
   "metadata": {},
   "outputs": [],
   "source": [
    "# temp = items[items[\"YT-Trailer ID\"].isin(list(movie_embeddings.columns))]"
   ]
  },
  {
   "cell_type": "code",
   "execution_count": null,
   "id": "1d3e3e62-132d-4a2f-8415-49f39288d56d",
   "metadata": {},
   "outputs": [],
   "source": [
    "# data_matrix_ = data_matrix[:, list(temp.index)]"
   ]
  },
  {
   "cell_type": "code",
   "execution_count": null,
   "id": "019af814-4f93-4472-a588-fb68bf59f9c0",
   "metadata": {},
   "outputs": [],
   "source": [
    "movie_similarity = 1 - pairwise_distances(movie_embeddings.T, metric='hamming')\n",
    "audio_similarity = predict(data_matrix, movie_similarity, type='item')"
   ]
  },
  {
   "cell_type": "code",
   "execution_count": null,
   "id": "bf69536a-68fd-4753-ba38-7a0bf15484a8",
   "metadata": {},
   "outputs": [],
   "source": [
    "y_pred = audio_similarity\n",
    "evaluate(y_true, y_pred, data_matrix = data_matrix, k=2)"
   ]
  },
  {
   "cell_type": "code",
   "execution_count": null,
   "id": "eacaefc0-d06f-4377-83b1-0bd546e0b280",
   "metadata": {},
   "outputs": [],
   "source": [
    "print(*zip(y_true[1][:20], y_pred[1][:20]))"
   ]
  },
  {
   "cell_type": "markdown",
   "id": "21b28f6b-ca3b-4341-a7dd-4b8fc974aad2",
   "metadata": {},
   "source": [
    "# Aggregation"
   ]
  },
  {
   "cell_type": "code",
   "execution_count": null,
   "id": "836f57c2-7e58-42d8-9f39-1cca32115c78",
   "metadata": {},
   "outputs": [],
   "source": [
    "similarity = np.mean([text_similarity, genre_similarity, cast_similarity, dir_similarity, audio_similarity], axis = 0)"
   ]
  },
  {
   "cell_type": "code",
   "execution_count": null,
   "id": "76321cd0-ab39-4062-bb77-2b576314c261",
   "metadata": {},
   "outputs": [],
   "source": [
    "y_pred = similarity\n",
    "evaluate(y_true, y_pred)"
   ]
  },
  {
   "cell_type": "code",
   "execution_count": null,
   "id": "7c736171-6b23-4257-bcb1-9719e5c71937",
   "metadata": {},
   "outputs": [],
   "source": [
    "print(*zip(y_true[1][:20], y_pred[1][:20]))"
   ]
  },
  {
   "cell_type": "markdown",
   "id": "bcb9f71f",
   "metadata": {},
   "source": [
    "## Evaluate"
   ]
  },
  {
   "cell_type": "code",
   "execution_count": null,
   "id": "5b422772",
   "metadata": {},
   "outputs": [],
   "source": [
    "sim = ['Aggregation', 'Text', 'Genres', 'Cast', 'Director', 'Audio']\n",
    "cases = {sim[0]:similarity, sim[1]:text_similarity, sim[2]:genre_similarity, sim[3]:cast_similarity, sim[4]:dir_similarity, sim[5]:audio_similarity}\n",
    "\n",
    "for case in sim:\n",
    "    print(\"Evaluating {}....\".format(case))\n",
    "    threshold = np.percentile(cases[case], 90)\n",
    "    # y_pred = [box(x, threshold) for x in cases[case]]\n",
    "    y_pred = cases[case]\n",
    "    evaluate(y_true, y_pred, k=3)\n",
    "    print()"
   ]
  },
  {
   "cell_type": "code",
   "execution_count": null,
   "id": "52288e37-67ea-4f56-a89b-ae8646f8723c",
   "metadata": {},
   "outputs": [],
   "source": []
  }
 ],
 "metadata": {
  "kernelspec": {
   "display_name": "Python 3 (ipykernel)",
   "language": "python",
   "name": "python3"
  },
  "language_info": {
   "codemirror_mode": {
    "name": "ipython",
    "version": 3
   },
   "file_extension": ".py",
   "mimetype": "text/x-python",
   "name": "python",
   "nbconvert_exporter": "python",
   "pygments_lexer": "ipython3",
   "version": "3.10.9"
  }
 },
 "nbformat": 4,
 "nbformat_minor": 5
}
