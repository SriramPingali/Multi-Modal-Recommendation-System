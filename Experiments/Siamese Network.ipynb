{
 "cells": [
  {
   "cell_type": "markdown",
   "id": "692b6491",
   "metadata": {},
   "source": [
    "# Setup"
   ]
  },
  {
   "cell_type": "code",
   "execution_count": 1,
   "id": "0ff90498",
   "metadata": {},
   "outputs": [],
   "source": [
    "import os\n",
    "os.environ[\"CUDA_VISIBLE_DEVICES\"]=\"4\"\n",
    "os.environ[\"CUDA_LAUNCH_BLOCKING\"]=\"1, 2, 3, 4\""
   ]
  },
  {
   "cell_type": "code",
   "execution_count": 2,
   "id": "5054d1f2",
   "metadata": {},
   "outputs": [],
   "source": [
    "import numpy as np\n",
    "import pandas as pd\n",
    "\n",
    "from sklearn.metrics.pairwise import cosine_similarity"
   ]
  },
  {
   "cell_type": "code",
   "execution_count": 3,
   "id": "8bcef385",
   "metadata": {},
   "outputs": [],
   "source": [
    "import torch\n",
    "from sklearn.preprocessing import normalize\n",
    "from torch.utils.data import Dataset, DataLoader\n",
    "from torchsampler import ImbalancedDatasetSampler\n",
    "from sklearn.metrics.pairwise import cosine_similarity\n",
    "from sklearn.metrics import confusion_matrix, classification_report\n",
    "from sklearn.metrics import f1_score, precision_score, recall_score"
   ]
  },
  {
   "cell_type": "markdown",
   "id": "aef5c06f",
   "metadata": {},
   "source": [
    "# Import Data"
   ]
  },
  {
   "cell_type": "code",
   "execution_count": 4,
   "id": "50d58348",
   "metadata": {},
   "outputs": [],
   "source": [
    "items = pd.read_csv(\"../Datasets/ml-100k/Text/items.csv\")\n",
    "\n",
    "r_cols = ['user_id', 'movie_id', 'rating', 'unix_timestamp']\n",
    "ratings = pd.read_csv('../Datasets/ml-100k/Text/u1.base', sep='\\t', names=r_cols,encoding='latin-1')"
   ]
  },
  {
   "cell_type": "code",
   "execution_count": 5,
   "id": "51978161",
   "metadata": {},
   "outputs": [],
   "source": [
    "# n_users = ratings.user_id.unique().shape[0]\n",
    "# n_items = ratings.movie_id.unique().shape[0]\n",
    "n_users = 943\n",
    "n_items = 1682"
   ]
  },
  {
   "cell_type": "code",
   "execution_count": 6,
   "id": "1c5dab53",
   "metadata": {},
   "outputs": [],
   "source": [
    "data_matrix = np.zeros((n_users, n_items))\n",
    "for line in ratings.itertuples():\n",
    "    data_matrix[line[1]-1, line[2]-1] = line[3]"
   ]
  },
  {
   "cell_type": "code",
   "execution_count": 7,
   "id": "661915da",
   "metadata": {},
   "outputs": [],
   "source": [
    "data_matrix_emp = data_matrix.copy()\n",
    "data_matrix_emp[data_matrix < 4] = 0\n",
    "data_matrix_emp[data_matrix >= 4]= 1 "
   ]
  },
  {
   "cell_type": "code",
   "execution_count": 8,
   "id": "92d4e998",
   "metadata": {},
   "outputs": [],
   "source": [
    "train_indices = list(zip(*(np.where(data_matrix != 0))))"
   ]
  },
  {
   "cell_type": "code",
   "execution_count": 9,
   "id": "4fd23cd7",
   "metadata": {},
   "outputs": [
    {
     "data": {
      "text/plain": [
       "80000"
      ]
     },
     "execution_count": 9,
     "metadata": {},
     "output_type": "execute_result"
    }
   ],
   "source": [
    "len(train_indices)"
   ]
  },
  {
   "cell_type": "markdown",
   "id": "6969385c",
   "metadata": {},
   "source": [
    "# Siamese network"
   ]
  },
  {
   "cell_type": "markdown",
   "id": "41e75e2a",
   "metadata": {},
   "source": [
    "## Data loader"
   ]
  },
  {
   "cell_type": "code",
   "execution_count": 10,
   "id": "86f11aad",
   "metadata": {},
   "outputs": [
    {
     "data": {
      "text/plain": [
       "True"
      ]
     },
     "execution_count": 10,
     "metadata": {},
     "output_type": "execute_result"
    }
   ],
   "source": [
    "torch.cuda.is_available()"
   ]
  },
  {
   "cell_type": "code",
   "execution_count": 11,
   "id": "89cc8a89",
   "metadata": {},
   "outputs": [
    {
     "data": {
      "text/plain": [
       "'1.10.1'"
      ]
     },
     "execution_count": 11,
     "metadata": {},
     "output_type": "execute_result"
    }
   ],
   "source": [
    "torch.__version__"
   ]
  },
  {
   "cell_type": "code",
   "execution_count": 12,
   "id": "5fce506a",
   "metadata": {},
   "outputs": [],
   "source": [
    "items_csv = \"../Datasets/ml-100k/Text/items.csv\"\n",
    "train_ratings = \"../Datasets/ml-100k/Text/u1.base\"\n",
    "test_ratings = \"../Datasets/ml-100k/Text/u1.test\"\n",
    "\n",
    "item_path = \"../Datasets/ml-100k/Text/embeddings_compressed.csv\"\n",
    "\n",
    "# item_path = \"item.csv\"\n",
    "user_path = \"user.csv\""
   ]
  },
  {
   "cell_type": "code",
   "execution_count": 13,
   "id": "35e38437",
   "metadata": {},
   "outputs": [
    {
     "data": {
      "text/html": [
       "<div>\n",
       "<style scoped>\n",
       "    .dataframe tbody tr th:only-of-type {\n",
       "        vertical-align: middle;\n",
       "    }\n",
       "\n",
       "    .dataframe tbody tr th {\n",
       "        vertical-align: top;\n",
       "    }\n",
       "\n",
       "    .dataframe thead th {\n",
       "        text-align: right;\n",
       "    }\n",
       "</style>\n",
       "<table border=\"1\" class=\"dataframe\">\n",
       "  <thead>\n",
       "    <tr style=\"text-align: right;\">\n",
       "      <th></th>\n",
       "      <th>0</th>\n",
       "      <th>1</th>\n",
       "      <th>2</th>\n",
       "      <th>3</th>\n",
       "      <th>4</th>\n",
       "      <th>5</th>\n",
       "      <th>6</th>\n",
       "      <th>7</th>\n",
       "      <th>8</th>\n",
       "      <th>9</th>\n",
       "      <th>...</th>\n",
       "      <th>490</th>\n",
       "      <th>491</th>\n",
       "      <th>492</th>\n",
       "      <th>493</th>\n",
       "      <th>494</th>\n",
       "      <th>495</th>\n",
       "      <th>496</th>\n",
       "      <th>497</th>\n",
       "      <th>498</th>\n",
       "      <th>499</th>\n",
       "    </tr>\n",
       "  </thead>\n",
       "  <tbody>\n",
       "    <tr>\n",
       "      <th>0</th>\n",
       "      <td>-0.002777</td>\n",
       "      <td>0.133102</td>\n",
       "      <td>-0.000427</td>\n",
       "      <td>-0.000499</td>\n",
       "      <td>-0.000466</td>\n",
       "      <td>-0.000832</td>\n",
       "      <td>-0.000081</td>\n",
       "      <td>-0.000320</td>\n",
       "      <td>-0.001322</td>\n",
       "      <td>-0.000568</td>\n",
       "      <td>...</td>\n",
       "      <td>-0.000275</td>\n",
       "      <td>-0.001560</td>\n",
       "      <td>0.489732</td>\n",
       "      <td>-0.000981</td>\n",
       "      <td>-0.000686</td>\n",
       "      <td>-0.003094</td>\n",
       "      <td>-0.000294</td>\n",
       "      <td>-0.000514</td>\n",
       "      <td>-0.000571</td>\n",
       "      <td>-0.000156</td>\n",
       "    </tr>\n",
       "    <tr>\n",
       "      <th>1</th>\n",
       "      <td>-0.008771</td>\n",
       "      <td>0.366939</td>\n",
       "      <td>-0.001604</td>\n",
       "      <td>-0.002249</td>\n",
       "      <td>-0.001698</td>\n",
       "      <td>-0.003220</td>\n",
       "      <td>-0.000328</td>\n",
       "      <td>0.138042</td>\n",
       "      <td>-0.003031</td>\n",
       "      <td>0.467104</td>\n",
       "      <td>...</td>\n",
       "      <td>0.229866</td>\n",
       "      <td>-0.001257</td>\n",
       "      <td>1.987406</td>\n",
       "      <td>-0.003631</td>\n",
       "      <td>0.666453</td>\n",
       "      <td>-0.011405</td>\n",
       "      <td>-0.000329</td>\n",
       "      <td>0.529317</td>\n",
       "      <td>0.070467</td>\n",
       "      <td>0.165439</td>\n",
       "    </tr>\n",
       "    <tr>\n",
       "      <th>2</th>\n",
       "      <td>-0.005561</td>\n",
       "      <td>-0.003085</td>\n",
       "      <td>-0.001666</td>\n",
       "      <td>-0.002197</td>\n",
       "      <td>-0.001780</td>\n",
       "      <td>-0.003350</td>\n",
       "      <td>-0.000344</td>\n",
       "      <td>0.269559</td>\n",
       "      <td>-0.002961</td>\n",
       "      <td>0.760151</td>\n",
       "      <td>...</td>\n",
       "      <td>0.369748</td>\n",
       "      <td>0.123917</td>\n",
       "      <td>1.276766</td>\n",
       "      <td>-0.003779</td>\n",
       "      <td>1.057301</td>\n",
       "      <td>-0.011673</td>\n",
       "      <td>-0.000348</td>\n",
       "      <td>0.907381</td>\n",
       "      <td>0.199681</td>\n",
       "      <td>0.260925</td>\n",
       "    </tr>\n",
       "    <tr>\n",
       "      <th>3</th>\n",
       "      <td>-0.008630</td>\n",
       "      <td>0.621194</td>\n",
       "      <td>-0.001155</td>\n",
       "      <td>-0.001561</td>\n",
       "      <td>-0.001222</td>\n",
       "      <td>-0.002320</td>\n",
       "      <td>-0.000232</td>\n",
       "      <td>0.027952</td>\n",
       "      <td>-0.002570</td>\n",
       "      <td>0.134248</td>\n",
       "      <td>...</td>\n",
       "      <td>0.065190</td>\n",
       "      <td>-0.002695</td>\n",
       "      <td>1.524815</td>\n",
       "      <td>-0.002617</td>\n",
       "      <td>0.199068</td>\n",
       "      <td>-0.008342</td>\n",
       "      <td>-0.000330</td>\n",
       "      <td>0.154600</td>\n",
       "      <td>-0.000251</td>\n",
       "      <td>0.049998</td>\n",
       "    </tr>\n",
       "    <tr>\n",
       "      <th>4</th>\n",
       "      <td>-0.005992</td>\n",
       "      <td>0.508465</td>\n",
       "      <td>-0.000626</td>\n",
       "      <td>-0.000840</td>\n",
       "      <td>-0.000668</td>\n",
       "      <td>-0.001246</td>\n",
       "      <td>-0.000124</td>\n",
       "      <td>-0.000511</td>\n",
       "      <td>-0.001689</td>\n",
       "      <td>-0.000861</td>\n",
       "      <td>...</td>\n",
       "      <td>-0.000439</td>\n",
       "      <td>-0.002693</td>\n",
       "      <td>0.967604</td>\n",
       "      <td>-0.001424</td>\n",
       "      <td>-0.001116</td>\n",
       "      <td>-0.004593</td>\n",
       "      <td>-0.000253</td>\n",
       "      <td>-0.000893</td>\n",
       "      <td>-0.000969</td>\n",
       "      <td>-0.000249</td>\n",
       "    </tr>\n",
       "    <tr>\n",
       "      <th>...</th>\n",
       "      <td>...</td>\n",
       "      <td>...</td>\n",
       "      <td>...</td>\n",
       "      <td>...</td>\n",
       "      <td>...</td>\n",
       "      <td>...</td>\n",
       "      <td>...</td>\n",
       "      <td>...</td>\n",
       "      <td>...</td>\n",
       "      <td>...</td>\n",
       "      <td>...</td>\n",
       "      <td>...</td>\n",
       "      <td>...</td>\n",
       "      <td>...</td>\n",
       "      <td>...</td>\n",
       "      <td>...</td>\n",
       "      <td>...</td>\n",
       "      <td>...</td>\n",
       "      <td>...</td>\n",
       "      <td>...</td>\n",
       "      <td>...</td>\n",
       "    </tr>\n",
       "    <tr>\n",
       "      <th>938</th>\n",
       "      <td>-0.004862</td>\n",
       "      <td>-0.006177</td>\n",
       "      <td>-0.001971</td>\n",
       "      <td>-0.002638</td>\n",
       "      <td>-0.002108</td>\n",
       "      <td>-0.003962</td>\n",
       "      <td>-0.000411</td>\n",
       "      <td>0.374273</td>\n",
       "      <td>-0.003213</td>\n",
       "      <td>1.055057</td>\n",
       "      <td>...</td>\n",
       "      <td>0.514456</td>\n",
       "      <td>0.289644</td>\n",
       "      <td>1.422936</td>\n",
       "      <td>-0.004468</td>\n",
       "      <td>1.464880</td>\n",
       "      <td>-0.013707</td>\n",
       "      <td>-0.000336</td>\n",
       "      <td>1.248008</td>\n",
       "      <td>0.295436</td>\n",
       "      <td>0.363475</td>\n",
       "    </tr>\n",
       "    <tr>\n",
       "      <th>939</th>\n",
       "      <td>-0.002549</td>\n",
       "      <td>-0.003143</td>\n",
       "      <td>-0.001116</td>\n",
       "      <td>-0.001401</td>\n",
       "      <td>-0.001207</td>\n",
       "      <td>-0.002238</td>\n",
       "      <td>-0.000229</td>\n",
       "      <td>0.194666</td>\n",
       "      <td>-0.002043</td>\n",
       "      <td>0.525443</td>\n",
       "      <td>...</td>\n",
       "      <td>0.260036</td>\n",
       "      <td>0.128470</td>\n",
       "      <td>0.711413</td>\n",
       "      <td>-0.002545</td>\n",
       "      <td>0.729693</td>\n",
       "      <td>-0.007782</td>\n",
       "      <td>-0.000321</td>\n",
       "      <td>0.628858</td>\n",
       "      <td>0.151933</td>\n",
       "      <td>0.185511</td>\n",
       "    </tr>\n",
       "    <tr>\n",
       "      <th>940</th>\n",
       "      <td>-0.005642</td>\n",
       "      <td>-0.002874</td>\n",
       "      <td>-0.001662</td>\n",
       "      <td>-0.002192</td>\n",
       "      <td>-0.001775</td>\n",
       "      <td>-0.003342</td>\n",
       "      <td>-0.000343</td>\n",
       "      <td>0.266110</td>\n",
       "      <td>-0.002961</td>\n",
       "      <td>0.750940</td>\n",
       "      <td>...</td>\n",
       "      <td>0.365410</td>\n",
       "      <td>0.116804</td>\n",
       "      <td>1.287590</td>\n",
       "      <td>-0.003771</td>\n",
       "      <td>1.044818</td>\n",
       "      <td>-0.011651</td>\n",
       "      <td>-0.000348</td>\n",
       "      <td>0.895617</td>\n",
       "      <td>0.197078</td>\n",
       "      <td>0.257924</td>\n",
       "    </tr>\n",
       "    <tr>\n",
       "      <th>941</th>\n",
       "      <td>-0.002615</td>\n",
       "      <td>-0.004317</td>\n",
       "      <td>-0.001258</td>\n",
       "      <td>-0.001595</td>\n",
       "      <td>-0.001358</td>\n",
       "      <td>-0.002524</td>\n",
       "      <td>-0.000260</td>\n",
       "      <td>0.235185</td>\n",
       "      <td>-0.002214</td>\n",
       "      <td>0.637353</td>\n",
       "      <td>...</td>\n",
       "      <td>0.313594</td>\n",
       "      <td>0.176814</td>\n",
       "      <td>0.761069</td>\n",
       "      <td>-0.002865</td>\n",
       "      <td>0.883903</td>\n",
       "      <td>-0.008751</td>\n",
       "      <td>-0.000320</td>\n",
       "      <td>0.763316</td>\n",
       "      <td>0.186613</td>\n",
       "      <td>0.222493</td>\n",
       "    </tr>\n",
       "    <tr>\n",
       "      <th>942</th>\n",
       "      <td>-0.000588</td>\n",
       "      <td>-0.002075</td>\n",
       "      <td>-0.000563</td>\n",
       "      <td>-0.000624</td>\n",
       "      <td>-0.000627</td>\n",
       "      <td>-0.001117</td>\n",
       "      <td>-0.000113</td>\n",
       "      <td>0.083724</td>\n",
       "      <td>-0.001369</td>\n",
       "      <td>0.224015</td>\n",
       "      <td>...</td>\n",
       "      <td>0.112144</td>\n",
       "      <td>0.077445</td>\n",
       "      <td>0.249597</td>\n",
       "      <td>-0.001299</td>\n",
       "      <td>0.311932</td>\n",
       "      <td>-0.003912</td>\n",
       "      <td>-0.000314</td>\n",
       "      <td>0.275678</td>\n",
       "      <td>0.068337</td>\n",
       "      <td>0.082068</td>\n",
       "    </tr>\n",
       "  </tbody>\n",
       "</table>\n",
       "<p>943 rows × 500 columns</p>\n",
       "</div>"
      ],
      "text/plain": [
       "            0         1         2         3         4         5         6  \\\n",
       "0   -0.002777  0.133102 -0.000427 -0.000499 -0.000466 -0.000832 -0.000081   \n",
       "1   -0.008771  0.366939 -0.001604 -0.002249 -0.001698 -0.003220 -0.000328   \n",
       "2   -0.005561 -0.003085 -0.001666 -0.002197 -0.001780 -0.003350 -0.000344   \n",
       "3   -0.008630  0.621194 -0.001155 -0.001561 -0.001222 -0.002320 -0.000232   \n",
       "4   -0.005992  0.508465 -0.000626 -0.000840 -0.000668 -0.001246 -0.000124   \n",
       "..        ...       ...       ...       ...       ...       ...       ...   \n",
       "938 -0.004862 -0.006177 -0.001971 -0.002638 -0.002108 -0.003962 -0.000411   \n",
       "939 -0.002549 -0.003143 -0.001116 -0.001401 -0.001207 -0.002238 -0.000229   \n",
       "940 -0.005642 -0.002874 -0.001662 -0.002192 -0.001775 -0.003342 -0.000343   \n",
       "941 -0.002615 -0.004317 -0.001258 -0.001595 -0.001358 -0.002524 -0.000260   \n",
       "942 -0.000588 -0.002075 -0.000563 -0.000624 -0.000627 -0.001117 -0.000113   \n",
       "\n",
       "            7         8         9  ...       490       491       492  \\\n",
       "0   -0.000320 -0.001322 -0.000568  ... -0.000275 -0.001560  0.489732   \n",
       "1    0.138042 -0.003031  0.467104  ...  0.229866 -0.001257  1.987406   \n",
       "2    0.269559 -0.002961  0.760151  ...  0.369748  0.123917  1.276766   \n",
       "3    0.027952 -0.002570  0.134248  ...  0.065190 -0.002695  1.524815   \n",
       "4   -0.000511 -0.001689 -0.000861  ... -0.000439 -0.002693  0.967604   \n",
       "..        ...       ...       ...  ...       ...       ...       ...   \n",
       "938  0.374273 -0.003213  1.055057  ...  0.514456  0.289644  1.422936   \n",
       "939  0.194666 -0.002043  0.525443  ...  0.260036  0.128470  0.711413   \n",
       "940  0.266110 -0.002961  0.750940  ...  0.365410  0.116804  1.287590   \n",
       "941  0.235185 -0.002214  0.637353  ...  0.313594  0.176814  0.761069   \n",
       "942  0.083724 -0.001369  0.224015  ...  0.112144  0.077445  0.249597   \n",
       "\n",
       "          493       494       495       496       497       498       499  \n",
       "0   -0.000981 -0.000686 -0.003094 -0.000294 -0.000514 -0.000571 -0.000156  \n",
       "1   -0.003631  0.666453 -0.011405 -0.000329  0.529317  0.070467  0.165439  \n",
       "2   -0.003779  1.057301 -0.011673 -0.000348  0.907381  0.199681  0.260925  \n",
       "3   -0.002617  0.199068 -0.008342 -0.000330  0.154600 -0.000251  0.049998  \n",
       "4   -0.001424 -0.001116 -0.004593 -0.000253 -0.000893 -0.000969 -0.000249  \n",
       "..        ...       ...       ...       ...       ...       ...       ...  \n",
       "938 -0.004468  1.464880 -0.013707 -0.000336  1.248008  0.295436  0.363475  \n",
       "939 -0.002545  0.729693 -0.007782 -0.000321  0.628858  0.151933  0.185511  \n",
       "940 -0.003771  1.044818 -0.011651 -0.000348  0.895617  0.197078  0.257924  \n",
       "941 -0.002865  0.883903 -0.008751 -0.000320  0.763316  0.186613  0.222493  \n",
       "942 -0.001299  0.311932 -0.003912 -0.000314  0.275678  0.068337  0.082068  \n",
       "\n",
       "[943 rows x 500 columns]"
      ]
     },
     "execution_count": 13,
     "metadata": {},
     "output_type": "execute_result"
    }
   ],
   "source": [
    "pd.read_csv(user_path)"
   ]
  },
  {
   "cell_type": "code",
   "execution_count": 14,
   "id": "2818e953",
   "metadata": {},
   "outputs": [
    {
     "data": {
      "text/plain": [
       "array([[1.        , 0.54148059, 0.54101969, ..., 0.87055876, 0.52666861,\n",
       "        0.54745216],\n",
       "       [0.54148059, 1.        , 0.99999804, ..., 0.70458299, 0.99974741,\n",
       "        0.99992643],\n",
       "       [0.54101969, 0.99999804, 1.        , ..., 0.70404377, 0.9997639 ,\n",
       "        0.99992708],\n",
       "       ...,\n",
       "       [0.87055876, 0.70458299, 0.70404377, ..., 1.        , 0.68851079,\n",
       "        0.71184059],\n",
       "       [0.52666861, 0.99974741, 0.9997639 , ..., 0.68851079, 1.        ,\n",
       "        0.99944335],\n",
       "       [0.54745216, 0.99992643, 0.99992708, ..., 0.71184059, 0.99944335,\n",
       "        1.        ]])"
      ]
     },
     "execution_count": 14,
     "metadata": {},
     "output_type": "execute_result"
    }
   ],
   "source": [
    "cosine_similarity(np.nan_to_num(pd.read_csv(item_path)))"
   ]
  },
  {
   "cell_type": "code",
   "execution_count": 15,
   "id": "12fe9d39",
   "metadata": {},
   "outputs": [
    {
     "data": {
      "text/plain": [
       "array([[1.        , 0.69819409, 0.34263208, ..., 0.34849673, 0.24775103,\n",
       "        0.22089895],\n",
       "       [0.69819409, 1.        , 0.88973318, ..., 0.89315   , 0.82885669,\n",
       "        0.8061673 ],\n",
       "       [0.34263208, 0.88973318, 1.        , ..., 0.99996599, 0.99162816,\n",
       "        0.98459626],\n",
       "       ...,\n",
       "       [0.34849673, 0.89315   , 0.99996599, ..., 1.        , 0.99055261,\n",
       "        0.98319433],\n",
       "       [0.24775103, 0.82885669, 0.99162816, ..., 0.99055261, 1.        ,\n",
       "        0.99806179],\n",
       "       [0.22089895, 0.8061673 , 0.98459626, ..., 0.98319433, 0.99806179,\n",
       "        1.        ]])"
      ]
     },
     "execution_count": 15,
     "metadata": {},
     "output_type": "execute_result"
    }
   ],
   "source": [
    "cosine_similarity(pd.read_csv(user_path))"
   ]
  },
  {
   "cell_type": "code",
   "execution_count": 16,
   "id": "38e64af3",
   "metadata": {},
   "outputs": [],
   "source": [
    "device = torch.device(\"cuda:0\" if torch.cuda.is_available() else \"cpu\")"
   ]
  },
  {
   "cell_type": "code",
   "execution_count": 17,
   "id": "3ac83157",
   "metadata": {},
   "outputs": [],
   "source": [
    "class MovielensDataset(Dataset):\n",
    "    def __init__(self, items_csv = items_csv, ratings = train_ratings, \n",
    "                 user_path = user_path, item_path = item_path, device = device):\n",
    "        self.items = pd.read_csv(items_csv).to_numpy()\n",
    "        self.item_embeddings = pd.read_csv(item_path).to_numpy()\n",
    "        self.user_embeddings = pd.read_csv(user_path).to_numpy()\n",
    "        self.ratings = pd.read_csv(ratings, sep='\\t', \n",
    "                                   names=['user_id', 'movie_id', 'rating', 'unix_timestamp'],encoding='latin-1')\n",
    "        self.indices = None\n",
    "        self.device = device\n",
    "        self.data = None\n",
    "        self.n_users = None\n",
    "        self.n_items = None\n",
    "        self.fill_ratings()\n",
    "        self.embeddings()\n",
    "    \n",
    "    def fill_ratings(self, threshold=4):\n",
    "        self.n_users = self.ratings.user_id.unique().shape[0]\n",
    "        self.n_items = self.ratings.movie_id.unique().shape[0]\n",
    "        \n",
    "        self.data = np.zeros((n_users, n_items))\n",
    "        for line in self.ratings.itertuples():\n",
    "            self.data[line[1]-1, line[2]-1] = line[3]\n",
    "            \n",
    "        self.indices = list(zip(*(np.where(self.data != 0))))\n",
    "            \n",
    "    def embeddings(self):\n",
    "#         self.item_embeddings = np.nan_to_num(self.item_embeddings)\n",
    "#         self.item_embeddings = normalize(self.item_embeddings)\n",
    "#         self.item_embeddings = np.append(data_matrix.T, self.item_embeddings, axis = 1)\n",
    "        self.user_embeddings = data_matrix\n",
    "#         self.user_embeddings = normalize(self.user_embeddings)\n",
    "        self.item_embedding_size = self.item_embeddings.shape[1]\n",
    "        self.user_embedding_size = self.user_embeddings.shape[1]\n",
    "        \n",
    "    def __len__(self):\n",
    "        return(len(self.indices))\n",
    "    \n",
    "    def __getitem__(self, idx):\n",
    "        user = self.indices[idx][0]\n",
    "        item = self.indices[idx][1]\n",
    "\n",
    "        x1 = torch.from_numpy(self.user_embeddings[user]).to(self.device)\n",
    "        x2 = torch.from_numpy(self.item_embeddings[item]).to(self.device)\n",
    "        \n",
    "        y = self.data[user][item]\n",
    "        return(x1.float(), x2.float(), int(y))"
   ]
  },
  {
   "cell_type": "code",
   "execution_count": 18,
   "id": "fba19cff",
   "metadata": {},
   "outputs": [],
   "source": [
    "train_dataset = MovielensDataset(ratings = train_ratings)\n",
    "test_dataset = MovielensDataset(ratings = test_ratings)\n",
    "\n",
    "# train_size = int(0.8 * len(dataset))\n",
    "# test_size = len(dataset) - train_size\n",
    "# train_dataset, val_dataset = torch.utils.data.random_split(dataset, [train_size, test_size])"
   ]
  },
  {
   "cell_type": "code",
   "execution_count": 19,
   "id": "3fd205f8",
   "metadata": {},
   "outputs": [],
   "source": [
    "target = [int(data_matrix[train_dataset.indices[i][0]][train_dataset.indices[i][1]]) - 1 for i in range(len(train_dataset))]"
   ]
  },
  {
   "cell_type": "code",
   "execution_count": 20,
   "id": "2d4ab993",
   "metadata": {},
   "outputs": [],
   "source": [
    "class_sample_count = np.unique(data_matrix, return_counts=True)[1][1::]\n",
    "\n",
    "weights = 1 / torch.Tensor(class_sample_count)\n",
    "weights = weights.double()\n",
    "weights_all = weights[target]"
   ]
  },
  {
   "cell_type": "code",
   "execution_count": 21,
   "id": "e5ed2b82",
   "metadata": {},
   "outputs": [],
   "source": [
    "sampler = torch.utils.data.sampler.WeightedRandomSampler(weights_all, len(weights_all))"
   ]
  },
  {
   "cell_type": "code",
   "execution_count": 22,
   "id": "65503aab",
   "metadata": {},
   "outputs": [],
   "source": [
    "trainloader = DataLoader(train_dataset, batch_size = 30000, shuffle = True)\n",
    "testloader = DataLoader(test_dataset, batch_size = 20000, shuffle = False)"
   ]
  },
  {
   "cell_type": "markdown",
   "id": "84adc387",
   "metadata": {},
   "source": [
    "## Architecture"
   ]
  },
  {
   "cell_type": "code",
   "execution_count": 23,
   "id": "e4ee32d5",
   "metadata": {},
   "outputs": [],
   "source": [
    "from tqdm import tqdm\n",
    "import torch.nn as nn\n",
    "import torch.optim as optim\n",
    "import torch.nn.functional as F\n",
    "from collections import OrderedDict"
   ]
  },
  {
   "cell_type": "code",
   "execution_count": 24,
   "id": "9f3398bf",
   "metadata": {},
   "outputs": [],
   "source": [
    "from ml_metrics import mapk\n",
    "from recmetrics import mark"
   ]
  },
  {
   "cell_type": "code",
   "execution_count": 25,
   "id": "849fd0c2",
   "metadata": {},
   "outputs": [],
   "source": [
    "class SiameseNet(nn.Module):\n",
    "    def __init__(self, device = device):\n",
    "        super(SiameseNet, self).__init__()\n",
    "        self.encoder_user = nn.Sequential(OrderedDict([\n",
    "            ('linr1', nn.Linear(train_dataset.user_embedding_size, 1024)),\n",
    "            ('relu1', nn.LeakyReLU()),\n",
    "            ('linr2', nn.Linear(1024, 800)),\n",
    "            ('relu2', nn.LeakyReLU()),\n",
    "            ('linr3', nn.Linear(800, 500)),\n",
    "            ('relu3', nn.LeakyReLU()),\n",
    "            ('linr4', nn.Linear(500, 100)),\n",
    "            ('relu4', nn.LeakyReLU()),\n",
    "        ]))\n",
    "        \n",
    "        self.encoder_item = nn.Sequential(OrderedDict([\n",
    "            ('linr1', nn.Linear(train_dataset.item_embedding_size, 1600)),\n",
    "            ('relu1', nn.Sigmoid()),\n",
    "            ('linr2', nn.Linear(1600, 1000)),\n",
    "            ('relu2', nn.ReLU()),\n",
    "            ('linr3', nn.Linear(1000, 800)),\n",
    "            ('relu3', nn.ReLU()),\n",
    "            ('linr4', nn.Linear(800, 100)),\n",
    "            ('relu4', nn.ReLU()),\n",
    "#             ('linr5', nn.Linear(600, 600)),\n",
    "#             ('relu5', nn.LeakyReLU()),\n",
    "        ]))\n",
    "        \n",
    "        self.siamese = nn.Sequential(OrderedDict([\n",
    "            ('linr1', nn.Linear(600, 512)),\n",
    "            ('relu1', nn.LeakyReLU()),\n",
    "            ('linr2', nn.Linear(512, 256)),\n",
    "            ('relu2', nn.LeakyReLU()),\n",
    "            ('linr3', nn.Linear(256, 100)),\n",
    "            ('relu3', nn.LeakyReLU()),\n",
    "#             ('linr4', nn.Linear(256, 100)),\n",
    "#             ('relu4', nn.LeakyReLU())\n",
    "        ]))\n",
    "        \n",
    "        self.ffn = nn.Sequential(OrderedDict([\n",
    "            ('linr1', nn.Linear(200, 164)),\n",
    "            ('actv1', nn.LeakyReLU()),\n",
    "            ('linr2', nn.Linear(164, 50)),\n",
    "            ('actv2', nn.LeakyReLU()),\n",
    "#             ('linr3', nn.Linear(50, 20)),\n",
    "#             ('actv3', nn.LeakyReLU()),\n",
    "            ('linr4', nn.Linear(50, 1)),\n",
    "        ]))\n",
    "        \n",
    "        self.device = device\n",
    "        self.encoder_user.apply(self.init_weights)\n",
    "        self.encoder_item.apply(self.init_weights)\n",
    "        self.siamese.apply(self.init_weights)\n",
    "        self.ffn.apply(self.init_weights)\n",
    "        \n",
    "    def init_weights(self, m):\n",
    "        if isinstance(m, nn.Linear):\n",
    "            nn.init.kaiming_normal_(m.weight)\n",
    "#             nn.init.zeros_(m.weight)\n",
    "            m.bias.data.fill_(0.01)\n",
    "        \n",
    "    def forward(self, x1, x2):\n",
    "        out1 = self.encoder_user(x1)\n",
    "        out2 = self.encoder_item(x2)\n",
    "#         out1 = self.siamese(emb1)\n",
    "#         out2 = self.siamese(emb2)\n",
    "        diff = torch.cat((out1, out2), axis=1)\n",
    "        out = self.ffn(diff)\n",
    "        return(out, out1, out2)\n",
    "    \n",
    "    def fit(self, trainloader = trainloader, \n",
    "            testloader = testloader, epochs = 200):\n",
    "        self.criterion_rate = nn.MSELoss()\n",
    "        self.criterion_embd = nn.CosineEmbeddingLoss()\n",
    "        self.optimizer = optim.Adam(self.parameters(), lr = 5e-4, weight_decay = 1e-4)\n",
    "        \n",
    "        train_loss = []\n",
    "        train_f1 = []\n",
    "        test_loss = []\n",
    "        test_f1 = []\n",
    "        for epoch in range(epochs):\n",
    "            running_loss = 0.0\n",
    "            running_loss_1 = 0.0\n",
    "            \n",
    "            for i, data in tqdm(enumerate(trainloader)):\n",
    "                self.train()\n",
    "                x1, x2, y = data\n",
    "#                 print(y.unique(return_counts = True))\n",
    "                y_flt = y.type(torch.FloatTensor).to(device)\n",
    "                y_lng = torch.div(y, 4, rounding_mode=\"floor\").to(device)\n",
    "                self.optimizer.zero_grad()\n",
    "                reg, out1, out2 = self.forward(x1, x2)\n",
    "                loss_1 = self.criterion_rate(reg.squeeze(), y_flt)\n",
    "                loss_2 = self.criterion_embd(out1, out2, y_lng * 2 - 1)\n",
    "                loss = (loss_1) #+ loss_2) \n",
    "                loss.backward()\n",
    "                self.optimizer.step()\n",
    "\n",
    "                running_loss_1 += torch.sqrt(loss_1)\n",
    "                running_loss += loss\n",
    "            vl, vp, vr, vf, tp, tr, tf = self.evaluate()\n",
    "            print('Epoch-%d: Loss = %.3f\\nTrain RMSE = %.3f||Train Precision = %.3f||Train Recall = %.3f\\nTest RMSE = %.3f || Test Precision = %.3f|| Test Recall = %.3f'%\n",
    "                  (epoch + 1, running_loss / i, running_loss_1 / i, \n",
    "                   tp, tr, vl, vp, vr))\n",
    "            train_loss.append((running_loss_1 / i).cpu().detach().numpy())\n",
    "            test_loss.append(vl.cpu().detach().numpy())\n",
    "            train_f1.append(tf)\n",
    "            test_f1.append(vf)\n",
    "        return(train_loss, test_loss, train_f1, test_f1)\n",
    "            \n",
    "    def evaluate(self, k = 3.35):\n",
    "        self.eval()\n",
    "        with torch.no_grad():\n",
    "            valdata = next(iter(testloader))\n",
    "            x1, x2, y = valdata\n",
    "            y_flt = y.type(torch.FloatTensor).to(device)\n",
    "            y_lng = torch.div(y, 4, rounding_mode=\"floor\").to(device)\n",
    "            otpt = self.forward(x1, x2)\n",
    "            print(otpt[0])\n",
    "            pred = (otpt[0] > k).float()\n",
    "            vl = torch.sqrt(self.criterion_rate(otpt[0].squeeze(), y_flt))\n",
    "            vp = precision_score(y_lng.cpu(), pred.cpu())\n",
    "            vr = recall_score(y_lng.cpu(), pred.cpu())\n",
    "            vf = f1_score(y_lng.cpu(), pred.cpu())\n",
    "            print(classification_report(y_lng.cpu(), pred.cpu(),\n",
    "                    target_names = [\"0\", \"1\"]))\n",
    "            \n",
    "            traindata = next(iter(trainloader))\n",
    "            x1, x2, y = traindata\n",
    "            y_flt = y.type(torch.FloatTensor).to(device)\n",
    "            y_lng = torch.div(y, 4, rounding_mode=\"floor\").to(device)\n",
    "            otpt = self.forward(x1, x2)\n",
    "            pred = (otpt[0] > k).float()\n",
    "            tp = precision_score(y_lng.cpu(), pred.cpu())\n",
    "            tr = recall_score(y_lng.cpu(), pred.cpu())\n",
    "            tf = f1_score(y_lng.cpu(), pred.cpu())\n",
    "        return(vl, vp*100, vr*100, vf*100, tp*100, tr*100, tf*100)"
   ]
  },
  {
   "cell_type": "code",
   "execution_count": 26,
   "id": "1db36b91",
   "metadata": {
    "scrolled": true
   },
   "outputs": [
    {
     "data": {
      "text/plain": [
       "SiameseNet(\n",
       "  (encoder_user): Sequential(\n",
       "    (linr1): Linear(in_features=500, out_features=1024, bias=True)\n",
       "    (relu1): LeakyReLU(negative_slope=0.01)\n",
       "    (linr2): Linear(in_features=1024, out_features=800, bias=True)\n",
       "    (relu2): LeakyReLU(negative_slope=0.01)\n",
       "    (linr3): Linear(in_features=800, out_features=500, bias=True)\n",
       "    (relu3): LeakyReLU(negative_slope=0.01)\n",
       "    (linr4): Linear(in_features=500, out_features=100, bias=True)\n",
       "    (relu4): LeakyReLU(negative_slope=0.01)\n",
       "  )\n",
       "  (encoder_item): Sequential(\n",
       "    (linr1): Linear(in_features=500, out_features=1600, bias=True)\n",
       "    (relu1): Sigmoid()\n",
       "    (linr2): Linear(in_features=1600, out_features=1000, bias=True)\n",
       "    (relu2): ReLU()\n",
       "    (linr3): Linear(in_features=1000, out_features=800, bias=True)\n",
       "    (relu3): ReLU()\n",
       "    (linr4): Linear(in_features=800, out_features=100, bias=True)\n",
       "    (relu4): ReLU()\n",
       "  )\n",
       "  (siamese): Sequential(\n",
       "    (linr1): Linear(in_features=600, out_features=512, bias=True)\n",
       "    (relu1): LeakyReLU(negative_slope=0.01)\n",
       "    (linr2): Linear(in_features=512, out_features=256, bias=True)\n",
       "    (relu2): LeakyReLU(negative_slope=0.01)\n",
       "    (linr3): Linear(in_features=256, out_features=100, bias=True)\n",
       "    (relu3): LeakyReLU(negative_slope=0.01)\n",
       "  )\n",
       "  (ffn): Sequential(\n",
       "    (linr1): Linear(in_features=200, out_features=164, bias=True)\n",
       "    (actv1): LeakyReLU(negative_slope=0.01)\n",
       "    (linr2): Linear(in_features=164, out_features=50, bias=True)\n",
       "    (actv2): LeakyReLU(negative_slope=0.01)\n",
       "    (linr4): Linear(in_features=50, out_features=1, bias=True)\n",
       "  )\n",
       ")"
      ]
     },
     "execution_count": 26,
     "metadata": {},
     "output_type": "execute_result"
    }
   ],
   "source": [
    "sm_net = SiameseNet()\n",
    "sm_net.to(device)"
   ]
  },
  {
   "cell_type": "code",
   "execution_count": 27,
   "id": "cd3d80be",
   "metadata": {
    "scrolled": true
   },
   "outputs": [
    {
     "name": "stderr",
     "output_type": "stream",
     "text": [
      "3it [00:09,  3.18s/it]\n"
     ]
    },
    {
     "name": "stdout",
     "output_type": "stream",
     "text": [
      "tensor([[3.8192],\n",
      "        [3.8254],\n",
      "        [3.8183],\n",
      "        ...,\n",
      "        [4.3857],\n",
      "        [4.1210],\n",
      "        [5.1122]], device='cuda:0')\n",
      "              precision    recall  f1-score   support\n",
      "\n",
      "           0       0.00      0.00      0.00      8765\n",
      "           1       0.56      1.00      0.72     11235\n",
      "\n",
      "    accuracy                           0.56     20000\n",
      "   macro avg       0.28      0.50      0.36     20000\n",
      "weighted avg       0.32      0.56      0.40     20000\n",
      "\n"
     ]
    },
    {
     "name": "stderr",
     "output_type": "stream",
     "text": [
      "/home/sriram_1801cs37/anaconda3/envs/pytorch/lib/python3.9/site-packages/sklearn/metrics/_classification.py:1221: UndefinedMetricWarning: Precision and F-score are ill-defined and being set to 0.0 in labels with no predicted samples. Use `zero_division` parameter to control this behavior.\n",
      "  _warn_prf(average, modifier, msg_start, len(result))\n"
     ]
    },
    {
     "name": "stdout",
     "output_type": "stream",
     "text": [
      "Epoch-1: Loss = 11.461\n",
      "Train RMSE = 3.902||Train Precision = 55.553||Train Recall = 100.000\n",
      "Test RMSE = 1.264 || Test Precision = 56.175|| Test Recall = 100.000\n"
     ]
    },
    {
     "name": "stderr",
     "output_type": "stream",
     "text": [
      "3it [00:08,  2.82s/it]\n"
     ]
    },
    {
     "name": "stdout",
     "output_type": "stream",
     "text": [
      "tensor([[3.2283],\n",
      "        [3.2356],\n",
      "        [3.2261],\n",
      "        ...,\n",
      "        [3.2849],\n",
      "        [3.2026],\n",
      "        [3.8053]], device='cuda:0')\n",
      "              precision    recall  f1-score   support\n",
      "\n",
      "           0       0.45      0.88      0.60      8765\n",
      "           1       0.65      0.17      0.27     11235\n",
      "\n",
      "    accuracy                           0.48     20000\n",
      "   macro avg       0.55      0.53      0.43     20000\n",
      "weighted avg       0.56      0.48      0.41     20000\n",
      "\n",
      "Epoch-2: Loss = 2.734\n",
      "Train RMSE = 2.025||Train Precision = 66.455||Train Recall = 46.647\n",
      "Test RMSE = 1.183 || Test Precision = 64.642|| Test Recall = 17.054\n"
     ]
    },
    {
     "name": "stderr",
     "output_type": "stream",
     "text": [
      "3it [00:08,  2.80s/it]\n"
     ]
    },
    {
     "name": "stdout",
     "output_type": "stream",
     "text": [
      "tensor([[3.5684],\n",
      "        [3.5754],\n",
      "        [3.5664],\n",
      "        ...,\n",
      "        [3.6098],\n",
      "        [3.5576],\n",
      "        [4.0451]], device='cuda:0')\n",
      "              precision    recall  f1-score   support\n",
      "\n",
      "           0       0.00      0.00      0.00      8765\n",
      "           1       0.56      1.00      0.72     11235\n",
      "\n",
      "    accuracy                           0.56     20000\n",
      "   macro avg       0.28      0.50      0.36     20000\n",
      "weighted avg       0.32      0.56      0.40     20000\n",
      "\n",
      "Epoch-3: Loss = 2.164\n",
      "Train RMSE = 1.799||Train Precision = 54.940||Train Recall = 100.000\n",
      "Test RMSE = 1.154 || Test Precision = 56.175|| Test Recall = 100.000\n"
     ]
    },
    {
     "name": "stderr",
     "output_type": "stream",
     "text": [
      "3it [00:08,  2.80s/it]\n"
     ]
    },
    {
     "name": "stdout",
     "output_type": "stream",
     "text": [
      "tensor([[3.2962],\n",
      "        [3.3051],\n",
      "        [3.2946],\n",
      "        ...,\n",
      "        [3.3045],\n",
      "        [3.2568],\n",
      "        [3.4597]], device='cuda:0')\n",
      "              precision    recall  f1-score   support\n",
      "\n",
      "           0       0.46      0.88      0.60      8765\n",
      "           1       0.66      0.19      0.29     11235\n",
      "\n",
      "    accuracy                           0.49     20000\n",
      "   macro avg       0.56      0.53      0.45     20000\n",
      "weighted avg       0.57      0.49      0.43     20000\n",
      "\n",
      "Epoch-4: Loss = 1.987\n",
      "Train RMSE = 1.726||Train Precision = 66.239||Train Recall = 49.985\n",
      "Test RMSE = 1.167 || Test Precision = 66.083|| Test Recall = 18.816\n"
     ]
    },
    {
     "name": "stderr",
     "output_type": "stream",
     "text": [
      "3it [00:08,  2.80s/it]\n"
     ]
    },
    {
     "name": "stdout",
     "output_type": "stream",
     "text": [
      "tensor([[3.6348],\n",
      "        [3.6433],\n",
      "        [3.6343],\n",
      "        ...,\n",
      "        [3.6452],\n",
      "        [3.4920],\n",
      "        [3.9742]], device='cuda:0')\n",
      "              precision    recall  f1-score   support\n",
      "\n",
      "           0       0.89      0.02      0.04      8765\n",
      "           1       0.57      1.00      0.72     11235\n",
      "\n",
      "    accuracy                           0.57     20000\n",
      "   macro avg       0.73      0.51      0.38     20000\n",
      "weighted avg       0.71      0.57      0.43     20000\n",
      "\n",
      "Epoch-5: Loss = 1.910\n",
      "Train RMSE = 1.693||Train Precision = 55.675||Train Recall = 99.385\n",
      "Test RMSE = 1.150 || Test Precision = 56.676|| Test Recall = 99.777\n"
     ]
    },
    {
     "name": "stderr",
     "output_type": "stream",
     "text": [
      "3it [00:08,  2.79s/it]\n"
     ]
    },
    {
     "name": "stdout",
     "output_type": "stream",
     "text": [
      "tensor([[3.1358],\n",
      "        [3.1414],\n",
      "        [3.1342],\n",
      "        ...,\n",
      "        [3.0804],\n",
      "        [2.8448],\n",
      "        [3.8001]], device='cuda:0')\n",
      "              precision    recall  f1-score   support\n",
      "\n",
      "           0       0.45      0.90      0.60      8765\n",
      "           1       0.67      0.16      0.26     11235\n",
      "\n",
      "    accuracy                           0.48     20000\n",
      "   macro avg       0.56      0.53      0.43     20000\n",
      "weighted avg       0.57      0.48      0.41     20000\n",
      "\n",
      "Epoch-6: Loss = 1.849\n",
      "Train RMSE = 1.666||Train Precision = 66.957||Train Recall = 50.573\n",
      "Test RMSE = 1.206 || Test Precision = 66.556|| Test Recall = 16.084\n"
     ]
    },
    {
     "name": "stderr",
     "output_type": "stream",
     "text": [
      "3it [00:08,  2.81s/it]\n"
     ]
    },
    {
     "name": "stdout",
     "output_type": "stream",
     "text": [
      "tensor([[3.5482],\n",
      "        [3.5541],\n",
      "        [3.5470],\n",
      "        ...,\n",
      "        [3.5134],\n",
      "        [3.2872],\n",
      "        [4.3061]], device='cuda:0')\n",
      "              precision    recall  f1-score   support\n",
      "\n",
      "           0       0.63      0.06      0.10      8765\n",
      "           1       0.57      0.97      0.72     11235\n",
      "\n",
      "    accuracy                           0.57     20000\n",
      "   macro avg       0.60      0.52      0.41     20000\n",
      "weighted avg       0.60      0.57      0.45     20000\n",
      "\n",
      "Epoch-7: Loss = 1.848\n",
      "Train RMSE = 1.665||Train Precision = 56.423||Train Recall = 96.319\n",
      "Test RMSE = 1.146 || Test Precision = 56.980|| Test Recall = 97.437\n"
     ]
    },
    {
     "name": "stderr",
     "output_type": "stream",
     "text": [
      "3it [00:08,  2.80s/it]\n"
     ]
    },
    {
     "name": "stdout",
     "output_type": "stream",
     "text": [
      "tensor([[3.2311],\n",
      "        [3.2377],\n",
      "        [3.2306],\n",
      "        ...,\n",
      "        [3.1149],\n",
      "        [2.9477],\n",
      "        [3.6598]], device='cuda:0')\n",
      "              precision    recall  f1-score   support\n",
      "\n",
      "           0       0.46      0.88      0.60      8765\n",
      "           1       0.66      0.19      0.29     11235\n",
      "\n",
      "    accuracy                           0.49     20000\n",
      "   macro avg       0.56      0.53      0.45     20000\n",
      "weighted avg       0.57      0.49      0.43     20000\n",
      "\n",
      "Epoch-8: Loss = 1.825\n",
      "Train RMSE = 1.655||Train Precision = 66.228||Train Recall = 51.007\n",
      "Test RMSE = 1.175 || Test Precision = 66.402|| Test Recall = 18.611\n"
     ]
    },
    {
     "name": "stderr",
     "output_type": "stream",
     "text": [
      "3it [00:08,  2.79s/it]\n"
     ]
    },
    {
     "name": "stdout",
     "output_type": "stream",
     "text": [
      "tensor([[3.5521],\n",
      "        [3.5585],\n",
      "        [3.5521],\n",
      "        ...,\n",
      "        [3.4737],\n",
      "        [3.3451],\n",
      "        [3.8727]], device='cuda:0')\n",
      "              precision    recall  f1-score   support\n",
      "\n",
      "           0       0.70      0.03      0.07      8765\n",
      "           1       0.57      0.99      0.72     11235\n",
      "\n",
      "    accuracy                           0.57     20000\n",
      "   macro avg       0.63      0.51      0.39     20000\n",
      "weighted avg       0.62      0.57      0.43     20000\n",
      "\n",
      "Epoch-9: Loss = 1.813\n",
      "Train RMSE = 1.649||Train Precision = 56.351||Train Recall = 97.312\n",
      "Test RMSE = 1.140 || Test Precision = 56.746|| Test Recall = 98.834\n"
     ]
    },
    {
     "name": "stderr",
     "output_type": "stream",
     "text": [
      "3it [00:08,  2.79s/it]\n"
     ]
    },
    {
     "name": "stdout",
     "output_type": "stream",
     "text": [
      "tensor([[3.4023],\n",
      "        [3.4096],\n",
      "        [3.4035],\n",
      "        ...,\n",
      "        [3.2765],\n",
      "        [3.1276],\n",
      "        [3.7179]], device='cuda:0')\n",
      "              precision    recall  f1-score   support\n",
      "\n",
      "           0       0.47      0.34      0.39      8765\n",
      "           1       0.57      0.70      0.63     11235\n",
      "\n",
      "    accuracy                           0.54     20000\n",
      "   macro avg       0.52      0.52      0.51     20000\n",
      "weighted avg       0.53      0.54      0.53     20000\n",
      "\n",
      "Epoch-10: Loss = 1.805\n",
      "Train RMSE = 1.645||Train Precision = 59.095||Train Recall = 79.746\n",
      "Test RMSE = 1.148 || Test Precision = 57.439|| Test Recall = 69.622\n"
     ]
    },
    {
     "name": "stderr",
     "output_type": "stream",
     "text": [
      "3it [00:08,  2.82s/it]\n"
     ]
    },
    {
     "name": "stdout",
     "output_type": "stream",
     "text": [
      "tensor([[3.4272],\n",
      "        [3.4307],\n",
      "        [3.4274],\n",
      "        ...,\n",
      "        [3.3003],\n",
      "        [3.1141],\n",
      "        [3.8515]], device='cuda:0')\n",
      "              precision    recall  f1-score   support\n",
      "\n",
      "           0       0.46      0.24      0.32      8765\n",
      "           1       0.57      0.78      0.66     11235\n",
      "\n",
      "    accuracy                           0.54     20000\n",
      "   macro avg       0.52      0.51      0.49     20000\n",
      "weighted avg       0.52      0.54      0.51     20000\n",
      "\n",
      "Epoch-11: Loss = 1.793\n",
      "Train RMSE = 1.640||Train Precision = 58.200||Train Recall = 83.343\n",
      "Test RMSE = 1.146 || Test Precision = 56.870|| Test Recall = 77.953\n"
     ]
    },
    {
     "name": "stderr",
     "output_type": "stream",
     "text": [
      "3it [00:08,  2.86s/it]\n"
     ]
    },
    {
     "name": "stdout",
     "output_type": "stream",
     "text": [
      "tensor([[3.3921],\n",
      "        [3.3969],\n",
      "        [3.3936],\n",
      "        ...,\n",
      "        [3.3425],\n",
      "        [3.1380],\n",
      "        [3.9211]], device='cuda:0')\n",
      "              precision    recall  f1-score   support\n",
      "\n",
      "           0       0.46      0.38      0.42      8765\n",
      "           1       0.58      0.66      0.61     11235\n",
      "\n",
      "    accuracy                           0.54     20000\n",
      "   macro avg       0.52      0.52      0.52     20000\n",
      "weighted avg       0.53      0.54      0.53     20000\n",
      "\n",
      "Epoch-12: Loss = 1.789\n",
      "Train RMSE = 1.638||Train Precision = 60.066||Train Recall = 76.766\n",
      "Test RMSE = 1.147 || Test Precision = 57.558|| Test Recall = 65.821\n"
     ]
    },
    {
     "name": "stderr",
     "output_type": "stream",
     "text": [
      "3it [00:08,  2.80s/it]\n"
     ]
    },
    {
     "name": "stdout",
     "output_type": "stream",
     "text": [
      "tensor([[3.3354],\n",
      "        [3.3403],\n",
      "        [3.3365],\n",
      "        ...,\n",
      "        [3.3682],\n",
      "        [3.1678],\n",
      "        [3.8739]], device='cuda:0')\n",
      "              precision    recall  f1-score   support\n",
      "\n",
      "           0       0.47      0.66      0.55      8765\n",
      "           1       0.61      0.41      0.49     11235\n",
      "\n",
      "    accuracy                           0.52     20000\n",
      "   macro avg       0.54      0.54      0.52     20000\n",
      "weighted avg       0.55      0.52      0.52     20000\n",
      "\n",
      "Epoch-13: Loss = 1.781\n",
      "Train RMSE = 1.634||Train Precision = 63.219||Train Recall = 62.890\n",
      "Test RMSE = 1.149 || Test Precision = 60.946|| Test Recall = 41.406\n"
     ]
    },
    {
     "name": "stderr",
     "output_type": "stream",
     "text": [
      "3it [00:08,  2.79s/it]\n"
     ]
    },
    {
     "name": "stdout",
     "output_type": "stream",
     "text": [
      "tensor([[3.3613],\n",
      "        [3.3678],\n",
      "        [3.3625],\n",
      "        ...,\n",
      "        [3.4557],\n",
      "        [3.2520],\n",
      "        [3.8668]], device='cuda:0')\n",
      "              precision    recall  f1-score   support\n",
      "\n",
      "           0       0.54      0.17      0.26      8765\n",
      "           1       0.58      0.89      0.70     11235\n",
      "\n",
      "    accuracy                           0.57     20000\n",
      "   macro avg       0.56      0.53      0.48     20000\n",
      "weighted avg       0.56      0.57      0.51     20000\n",
      "\n",
      "Epoch-14: Loss = 1.780\n",
      "Train RMSE = 1.634||Train Precision = 58.011||Train Recall = 88.956\n",
      "Test RMSE = 1.141 || Test Precision = 57.863|| Test Recall = 88.883\n"
     ]
    },
    {
     "name": "stderr",
     "output_type": "stream",
     "text": [
      "3it [00:08,  2.82s/it]\n"
     ]
    },
    {
     "name": "stdout",
     "output_type": "stream",
     "text": [
      "tensor([[3.3610],\n",
      "        [3.3647],\n",
      "        [3.3599],\n",
      "        ...,\n",
      "        [3.4320],\n",
      "        [3.1846],\n",
      "        [3.8133]], device='cuda:0')\n",
      "              precision    recall  f1-score   support\n",
      "\n",
      "           0       0.52      0.27      0.35      8765\n",
      "           1       0.59      0.81      0.68     11235\n",
      "\n",
      "    accuracy                           0.57     20000\n",
      "   macro avg       0.56      0.54      0.52     20000\n",
      "weighted avg       0.56      0.57      0.54     20000\n",
      "\n",
      "Epoch-15: Loss = 1.776\n",
      "Train RMSE = 1.632||Train Precision = 59.029||Train Recall = 84.596\n",
      "Test RMSE = 1.141 || Test Precision = 58.640|| Test Recall = 81.068\n"
     ]
    },
    {
     "name": "stderr",
     "output_type": "stream",
     "text": [
      "3it [00:08,  2.83s/it]\n"
     ]
    },
    {
     "name": "stdout",
     "output_type": "stream",
     "text": [
      "tensor([[3.3714],\n",
      "        [3.3773],\n",
      "        [3.3723],\n",
      "        ...,\n",
      "        [3.4265],\n",
      "        [3.1330],\n",
      "        [3.9009]], device='cuda:0')\n",
      "              precision    recall  f1-score   support\n",
      "\n",
      "           0       0.51      0.25      0.34      8765\n",
      "           1       0.58      0.81      0.68     11235\n",
      "\n",
      "    accuracy                           0.57     20000\n",
      "   macro avg       0.55      0.53      0.51     20000\n",
      "weighted avg       0.55      0.57      0.53     20000\n",
      "\n",
      "Epoch-16: Loss = 1.768\n",
      "Train RMSE = 1.629||Train Precision = 59.175||Train Recall = 84.636\n",
      "Test RMSE = 1.140 || Test Precision = 58.222|| Test Recall = 81.246\n"
     ]
    },
    {
     "name": "stderr",
     "output_type": "stream",
     "text": [
      "3it [00:08,  2.80s/it]\n"
     ]
    },
    {
     "name": "stdout",
     "output_type": "stream",
     "text": [
      "tensor([[3.3489],\n",
      "        [3.3518],\n",
      "        [3.3453],\n",
      "        ...,\n",
      "        [3.4299],\n",
      "        [3.1120],\n",
      "        [3.8949]], device='cuda:0')\n",
      "              precision    recall  f1-score   support\n",
      "\n",
      "           0       0.51      0.34      0.41      8765\n",
      "           1       0.59      0.75      0.66     11235\n",
      "\n",
      "    accuracy                           0.57     20000\n",
      "   macro avg       0.55      0.54      0.53     20000\n",
      "weighted avg       0.56      0.57      0.55     20000\n",
      "\n",
      "Epoch-17: Loss = 1.772\n",
      "Train RMSE = 1.630||Train Precision = 59.747||Train Recall = 80.710\n",
      "Test RMSE = 1.140 || Test Precision = 59.116|| Test Recall = 74.660\n"
     ]
    },
    {
     "name": "stderr",
     "output_type": "stream",
     "text": [
      "3it [00:08,  2.81s/it]\n"
     ]
    },
    {
     "name": "stdout",
     "output_type": "stream",
     "text": [
      "tensor([[3.3450],\n",
      "        [3.3505],\n",
      "        [3.3454],\n",
      "        ...,\n",
      "        [3.4601],\n",
      "        [3.1455],\n",
      "        [3.8575]], device='cuda:0')\n",
      "              precision    recall  f1-score   support\n",
      "\n",
      "           0       0.51      0.33      0.40      8765\n",
      "           1       0.59      0.76      0.66     11235\n",
      "\n",
      "    accuracy                           0.57     20000\n",
      "   macro avg       0.55      0.54      0.53     20000\n",
      "weighted avg       0.56      0.57      0.55     20000\n",
      "\n",
      "Epoch-18: Loss = 1.767\n",
      "Train RMSE = 1.628||Train Precision = 60.137||Train Recall = 81.483\n",
      "Test RMSE = 1.139 || Test Precision = 59.072|| Test Recall = 75.781\n"
     ]
    },
    {
     "name": "stderr",
     "output_type": "stream",
     "text": [
      "3it [00:08,  2.80s/it]\n"
     ]
    },
    {
     "name": "stdout",
     "output_type": "stream",
     "text": [
      "tensor([[3.3551],\n",
      "        [3.3616],\n",
      "        [3.3557],\n",
      "        ...,\n",
      "        [3.5097],\n",
      "        [3.1896],\n",
      "        [3.9078]], device='cuda:0')\n",
      "              precision    recall  f1-score   support\n",
      "\n",
      "           0       0.53      0.28      0.36      8765\n",
      "           1       0.59      0.81      0.68     11235\n",
      "\n",
      "    accuracy                           0.57     20000\n",
      "   macro avg       0.56      0.54      0.52     20000\n",
      "weighted avg       0.56      0.57      0.54     20000\n",
      "\n",
      "Epoch-19: Loss = 1.764\n",
      "Train RMSE = 1.627||Train Precision = 59.504||Train Recall = 83.682\n",
      "Test RMSE = 1.137 || Test Precision = 58.857|| Test Recall = 80.739\n"
     ]
    },
    {
     "name": "stderr",
     "output_type": "stream",
     "text": [
      "3it [00:08,  2.84s/it]\n"
     ]
    },
    {
     "name": "stdout",
     "output_type": "stream",
     "text": [
      "tensor([[3.2988],\n",
      "        [3.3037],\n",
      "        [3.3000],\n",
      "        ...,\n",
      "        [3.4659],\n",
      "        [3.1196],\n",
      "        [3.8763]], device='cuda:0')\n",
      "              precision    recall  f1-score   support\n",
      "\n",
      "           0       0.51      0.41      0.46      8765\n",
      "           1       0.60      0.69      0.64     11235\n",
      "\n",
      "    accuracy                           0.57     20000\n",
      "   macro avg       0.55      0.55      0.55     20000\n",
      "weighted avg       0.56      0.57      0.56     20000\n",
      "\n",
      "Epoch-20: Loss = 1.764\n",
      "Train RMSE = 1.627||Train Precision = 61.203||Train Recall = 75.981\n",
      "Test RMSE = 1.141 || Test Precision = 60.033|| Test Recall = 68.625\n"
     ]
    },
    {
     "name": "stderr",
     "output_type": "stream",
     "text": [
      "3it [00:08,  2.80s/it]\n"
     ]
    },
    {
     "name": "stdout",
     "output_type": "stream",
     "text": [
      "tensor([[3.3233],\n",
      "        [3.3272],\n",
      "        [3.3228],\n",
      "        ...,\n",
      "        [3.4848],\n",
      "        [3.1284],\n",
      "        [3.8738]], device='cuda:0')\n",
      "              precision    recall  f1-score   support\n",
      "\n",
      "           0       0.51      0.37      0.43      8765\n",
      "           1       0.60      0.73      0.66     11235\n",
      "\n",
      "    accuracy                           0.57     20000\n",
      "   macro avg       0.56      0.55      0.54     20000\n",
      "weighted avg       0.56      0.57      0.56     20000\n",
      "\n",
      "Epoch-21: Loss = 1.764\n",
      "Train RMSE = 1.627||Train Precision = 60.190||Train Recall = 78.961\n",
      "Test RMSE = 1.139 || Test Precision = 59.690|| Test Recall = 72.701\n"
     ]
    },
    {
     "name": "stderr",
     "output_type": "stream",
     "text": [
      "3it [00:08,  2.80s/it]\n"
     ]
    },
    {
     "name": "stdout",
     "output_type": "stream",
     "text": [
      "tensor([[3.3781],\n",
      "        [3.3827],\n",
      "        [3.3792],\n",
      "        ...,\n",
      "        [3.5430],\n",
      "        [3.1780],\n",
      "        [3.9200]], device='cuda:0')\n",
      "              precision    recall  f1-score   support\n",
      "\n",
      "           0       0.53      0.22      0.31      8765\n",
      "           1       0.58      0.85      0.69     11235\n",
      "\n",
      "    accuracy                           0.57     20000\n",
      "   macro avg       0.56      0.53      0.50     20000\n",
      "weighted avg       0.56      0.57      0.52     20000\n",
      "\n",
      "Epoch-22: Loss = 1.766\n",
      "Train RMSE = 1.627||Train Precision = 58.934||Train Recall = 85.134\n",
      "Test RMSE = 1.134 || Test Precision = 58.239|| Test Recall = 84.593\n"
     ]
    },
    {
     "name": "stderr",
     "output_type": "stream",
     "text": [
      "3it [00:08,  2.80s/it]\n"
     ]
    },
    {
     "name": "stdout",
     "output_type": "stream",
     "text": [
      "tensor([[3.3185],\n",
      "        [3.3233],\n",
      "        [3.3176],\n",
      "        ...,\n",
      "        [3.4932],\n",
      "        [3.1109],\n",
      "        [3.8937]], device='cuda:0')\n",
      "              precision    recall  f1-score   support\n",
      "\n",
      "           0       0.51      0.38      0.43      8765\n",
      "           1       0.60      0.72      0.65     11235\n",
      "\n",
      "    accuracy                           0.57     20000\n",
      "   macro avg       0.56      0.55      0.54     20000\n",
      "weighted avg       0.56      0.57      0.56     20000\n",
      "\n",
      "Epoch-23: Loss = 1.761\n",
      "Train RMSE = 1.625||Train Precision = 59.920||Train Recall = 79.087\n",
      "Test RMSE = 1.138 || Test Precision = 59.746|| Test Recall = 72.105\n"
     ]
    },
    {
     "name": "stderr",
     "output_type": "stream",
     "text": [
      "3it [00:08,  2.81s/it]\n"
     ]
    },
    {
     "name": "stdout",
     "output_type": "stream",
     "text": [
      "tensor([[3.2802],\n",
      "        [3.2840],\n",
      "        [3.2793],\n",
      "        ...,\n",
      "        [3.4649],\n",
      "        [3.0830],\n",
      "        [3.8602]], device='cuda:0')\n",
      "              precision    recall  f1-score   support\n",
      "\n",
      "           0       0.51      0.43      0.46      8765\n",
      "           1       0.60      0.67      0.64     11235\n",
      "\n",
      "    accuracy                           0.57     20000\n",
      "   macro avg       0.55      0.55      0.55     20000\n",
      "weighted avg       0.56      0.57      0.56     20000\n",
      "\n",
      "Epoch-24: Loss = 1.762\n",
      "Train RMSE = 1.626||Train Precision = 61.233||Train Recall = 74.843\n",
      "Test RMSE = 1.141 || Test Precision = 60.175|| Test Recall = 67.379\n"
     ]
    },
    {
     "name": "stderr",
     "output_type": "stream",
     "text": [
      "3it [00:08,  2.85s/it]\n"
     ]
    },
    {
     "name": "stdout",
     "output_type": "stream",
     "text": [
      "tensor([[3.3282],\n",
      "        [3.3334],\n",
      "        [3.3283],\n",
      "        ...,\n",
      "        [3.5342],\n",
      "        [3.1709],\n",
      "        [3.9057]], device='cuda:0')\n",
      "              precision    recall  f1-score   support\n",
      "\n",
      "           0       0.52      0.34      0.41      8765\n",
      "           1       0.60      0.76      0.67     11235\n",
      "\n",
      "    accuracy                           0.57     20000\n",
      "   macro avg       0.56      0.55      0.54     20000\n",
      "weighted avg       0.56      0.57      0.56     20000\n",
      "\n",
      "Epoch-25: Loss = 1.763\n",
      "Train RMSE = 1.626||Train Precision = 60.120||Train Recall = 80.503\n",
      "Test RMSE = 1.136 || Test Precision = 59.544|| Test Recall = 75.576\n"
     ]
    },
    {
     "name": "stderr",
     "output_type": "stream",
     "text": [
      "3it [00:08,  2.82s/it]\n"
     ]
    },
    {
     "name": "stdout",
     "output_type": "stream",
     "text": [
      "tensor([[3.2991],\n",
      "        [3.3024],\n",
      "        [3.2984],\n",
      "        ...,\n",
      "        [3.4988],\n",
      "        [3.1157],\n",
      "        [3.9002]], device='cuda:0')\n",
      "              precision    recall  f1-score   support\n",
      "\n",
      "           0       0.51      0.39      0.44      8765\n",
      "           1       0.60      0.71      0.65     11235\n",
      "\n",
      "    accuracy                           0.57     20000\n",
      "   macro avg       0.56      0.55      0.55     20000\n",
      "weighted avg       0.56      0.57      0.56     20000\n",
      "\n",
      "Epoch-26: Loss = 1.760\n",
      "Train RMSE = 1.625||Train Precision = 60.783||Train Recall = 77.959\n",
      "Test RMSE = 1.138 || Test Precision = 59.917|| Test Recall = 70.743\n"
     ]
    },
    {
     "name": "stderr",
     "output_type": "stream",
     "text": [
      "3it [00:08,  2.84s/it]\n"
     ]
    },
    {
     "name": "stdout",
     "output_type": "stream",
     "text": [
      "tensor([[3.3110],\n",
      "        [3.3163],\n",
      "        [3.3105],\n",
      "        ...,\n",
      "        [3.5031],\n",
      "        [3.1066],\n",
      "        [3.8886]], device='cuda:0')\n",
      "              precision    recall  f1-score   support\n",
      "\n",
      "           0       0.51      0.38      0.43      8765\n",
      "           1       0.60      0.72      0.65     11235\n",
      "\n",
      "    accuracy                           0.57     20000\n",
      "   macro avg       0.56      0.55      0.54     20000\n",
      "weighted avg       0.56      0.57      0.56     20000\n",
      "\n",
      "Epoch-27: Loss = 1.761\n",
      "Train RMSE = 1.625||Train Precision = 60.577||Train Recall = 78.687\n",
      "Test RMSE = 1.137 || Test Precision = 59.722|| Test Recall = 72.150\n"
     ]
    },
    {
     "name": "stderr",
     "output_type": "stream",
     "text": [
      "3it [00:08,  2.80s/it]\n"
     ]
    },
    {
     "name": "stdout",
     "output_type": "stream",
     "text": [
      "tensor([[3.3149],\n",
      "        [3.3185],\n",
      "        [3.3144],\n",
      "        ...,\n",
      "        [3.5132],\n",
      "        [3.1168],\n",
      "        [3.9081]], device='cuda:0')\n",
      "              precision    recall  f1-score   support\n",
      "\n",
      "           0       0.51      0.36      0.43      8765\n",
      "           1       0.60      0.73      0.66     11235\n",
      "\n",
      "    accuracy                           0.57     20000\n",
      "   macro avg       0.56      0.55      0.54     20000\n",
      "weighted avg       0.56      0.57      0.56     20000\n",
      "\n",
      "Epoch-28: Loss = 1.760\n",
      "Train RMSE = 1.625||Train Precision = 60.315||Train Recall = 79.744\n",
      "Test RMSE = 1.136 || Test Precision = 59.593|| Test Recall = 73.155\n"
     ]
    },
    {
     "name": "stderr",
     "output_type": "stream",
     "text": [
      "3it [00:08,  2.84s/it]\n"
     ]
    },
    {
     "name": "stdout",
     "output_type": "stream",
     "text": [
      "tensor([[3.2980],\n",
      "        [3.3040],\n",
      "        [3.2996],\n",
      "        ...,\n",
      "        [3.5000],\n",
      "        [3.1130],\n",
      "        [3.8720]], device='cuda:0')\n",
      "              precision    recall  f1-score   support\n",
      "\n",
      "           0       0.51      0.39      0.44      8765\n",
      "           1       0.60      0.71      0.65     11235\n",
      "\n",
      "    accuracy                           0.57     20000\n",
      "   macro avg       0.56      0.55      0.55     20000\n",
      "weighted avg       0.56      0.57      0.56     20000\n",
      "\n",
      "Epoch-29: Loss = 1.759\n",
      "Train RMSE = 1.624||Train Precision = 60.279||Train Recall = 78.132\n",
      "Test RMSE = 1.137 || Test Precision = 59.910|| Test Recall = 71.055\n"
     ]
    },
    {
     "name": "stderr",
     "output_type": "stream",
     "text": [
      "3it [00:08,  2.81s/it]\n"
     ]
    },
    {
     "name": "stdout",
     "output_type": "stream",
     "text": [
      "tensor([[3.3334],\n",
      "        [3.3390],\n",
      "        [3.3325],\n",
      "        ...,\n",
      "        [3.5398],\n",
      "        [3.1597],\n",
      "        [3.9291]], device='cuda:0')\n",
      "              precision    recall  f1-score   support\n",
      "\n",
      "           0       0.52      0.33      0.40      8765\n",
      "           1       0.59      0.76      0.67     11235\n",
      "\n",
      "    accuracy                           0.57     20000\n",
      "   macro avg       0.56      0.55      0.54     20000\n",
      "weighted avg       0.56      0.57      0.55     20000\n",
      "\n",
      "Epoch-30: Loss = 1.758\n",
      "Train RMSE = 1.624||Train Precision = 59.757||Train Recall = 81.545\n",
      "Test RMSE = 1.134 || Test Precision = 59.300|| Test Recall = 76.110\n"
     ]
    },
    {
     "name": "stderr",
     "output_type": "stream",
     "text": [
      "3it [00:08,  2.83s/it]\n"
     ]
    },
    {
     "name": "stdout",
     "output_type": "stream",
     "text": [
      "tensor([[3.3210],\n",
      "        [3.3277],\n",
      "        [3.3243],\n",
      "        ...,\n",
      "        [3.5167],\n",
      "        [3.1294],\n",
      "        [3.8995]], device='cuda:0')\n",
      "              precision    recall  f1-score   support\n",
      "\n",
      "           0       0.52      0.35      0.42      8765\n",
      "           1       0.60      0.74      0.66     11235\n",
      "\n",
      "    accuracy                           0.57     20000\n",
      "   macro avg       0.56      0.55      0.54     20000\n",
      "weighted avg       0.56      0.57      0.56     20000\n",
      "\n",
      "Epoch-31: Loss = 1.759\n",
      "Train RMSE = 1.624||Train Precision = 60.158||Train Recall = 80.430\n",
      "Test RMSE = 1.135 || Test Precision = 59.609|| Test Recall = 74.268\n"
     ]
    },
    {
     "name": "stderr",
     "output_type": "stream",
     "text": [
      "3it [00:08,  2.81s/it]\n"
     ]
    },
    {
     "name": "stdout",
     "output_type": "stream",
     "text": [
      "tensor([[3.2962],\n",
      "        [3.2983],\n",
      "        [3.2961],\n",
      "        ...,\n",
      "        [3.4856],\n",
      "        [3.0845],\n",
      "        [3.8881]], device='cuda:0')\n",
      "              precision    recall  f1-score   support\n",
      "\n",
      "           0       0.51      0.40      0.45      8765\n",
      "           1       0.60      0.70      0.65     11235\n",
      "\n",
      "    accuracy                           0.57     20000\n",
      "   macro avg       0.56      0.55      0.55     20000\n",
      "weighted avg       0.56      0.57      0.56     20000\n",
      "\n",
      "Epoch-32: Loss = 1.757\n",
      "Train RMSE = 1.624||Train Precision = 60.807||Train Recall = 77.814\n",
      "Test RMSE = 1.137 || Test Precision = 60.026|| Test Recall = 69.942\n"
     ]
    },
    {
     "name": "stderr",
     "output_type": "stream",
     "text": [
      "3it [00:08,  2.85s/it]\n"
     ]
    },
    {
     "name": "stdout",
     "output_type": "stream",
     "text": [
      "tensor([[3.2764],\n",
      "        [3.2810],\n",
      "        [3.2767],\n",
      "        ...,\n",
      "        [3.4683],\n",
      "        [3.0629],\n",
      "        [3.8566]], device='cuda:0')\n",
      "              precision    recall  f1-score   support\n",
      "\n",
      "           0       0.51      0.42      0.46      8765\n",
      "           1       0.60      0.68      0.64     11235\n",
      "\n",
      "    accuracy                           0.57     20000\n",
      "   macro avg       0.55      0.55      0.55     20000\n",
      "weighted avg       0.56      0.57      0.56     20000\n",
      "\n",
      "Epoch-33: Loss = 1.760\n",
      "Train RMSE = 1.625||Train Precision = 61.178||Train Recall = 76.446\n",
      "Test RMSE = 1.138 || Test Precision = 60.019|| Test Recall = 68.251\n"
     ]
    },
    {
     "name": "stderr",
     "output_type": "stream",
     "text": [
      "3it [00:08,  2.80s/it]\n"
     ]
    },
    {
     "name": "stdout",
     "output_type": "stream",
     "text": [
      "tensor([[3.2719],\n",
      "        [3.2751],\n",
      "        [3.2741],\n",
      "        ...,\n",
      "        [3.4769],\n",
      "        [3.0767],\n",
      "        [3.8767]], device='cuda:0')\n",
      "              precision    recall  f1-score   support\n",
      "\n",
      "           0       0.51      0.42      0.46      8765\n",
      "           1       0.60      0.68      0.64     11235\n",
      "\n",
      "    accuracy                           0.57     20000\n",
      "   macro avg       0.55      0.55      0.55     20000\n",
      "weighted avg       0.56      0.57      0.56     20000\n",
      "\n",
      "Epoch-34: Loss = 1.758\n",
      "Train RMSE = 1.624||Train Precision = 60.531||Train Recall = 76.989\n",
      "Test RMSE = 1.138 || Test Precision = 60.017|| Test Recall = 68.420\n"
     ]
    },
    {
     "name": "stderr",
     "output_type": "stream",
     "text": [
      "3it [00:08,  2.79s/it]\n"
     ]
    },
    {
     "name": "stdout",
     "output_type": "stream",
     "text": [
      "tensor([[3.3294],\n",
      "        [3.3324],\n",
      "        [3.3267],\n",
      "        ...,\n",
      "        [3.5360],\n",
      "        [3.1430],\n",
      "        [3.9205]], device='cuda:0')\n",
      "              precision    recall  f1-score   support\n",
      "\n",
      "           0       0.52      0.34      0.41      8765\n",
      "           1       0.59      0.75      0.67     11235\n",
      "\n",
      "    accuracy                           0.57     20000\n",
      "   macro avg       0.56      0.55      0.54     20000\n",
      "weighted avg       0.56      0.57      0.55     20000\n",
      "\n",
      "Epoch-35: Loss = 1.756\n",
      "Train RMSE = 1.623||Train Precision = 59.859||Train Recall = 80.781\n",
      "Test RMSE = 1.133 || Test Precision = 59.489|| Test Recall = 75.416\n"
     ]
    },
    {
     "name": "stderr",
     "output_type": "stream",
     "text": [
      "3it [00:08,  2.82s/it]\n"
     ]
    },
    {
     "name": "stdout",
     "output_type": "stream",
     "text": [
      "tensor([[3.3150],\n",
      "        [3.3211],\n",
      "        [3.3151],\n",
      "        ...,\n",
      "        [3.5090],\n",
      "        [3.1044],\n",
      "        [3.8971]], device='cuda:0')\n",
      "              precision    recall  f1-score   support\n",
      "\n",
      "           0       0.52      0.38      0.43      8765\n",
      "           1       0.60      0.73      0.66     11235\n",
      "\n",
      "    accuracy                           0.57     20000\n",
      "   macro avg       0.56      0.55      0.55     20000\n",
      "weighted avg       0.56      0.57      0.56     20000\n",
      "\n",
      "Epoch-36: Loss = 1.759\n",
      "Train RMSE = 1.624||Train Precision = 60.308||Train Recall = 78.934\n",
      "Test RMSE = 1.135 || Test Precision = 59.834|| Test Recall = 72.621\n"
     ]
    },
    {
     "name": "stderr",
     "output_type": "stream",
     "text": [
      "3it [00:08,  2.80s/it]\n"
     ]
    },
    {
     "name": "stdout",
     "output_type": "stream",
     "text": [
      "tensor([[3.2689],\n",
      "        [3.2727],\n",
      "        [3.2667],\n",
      "        ...,\n",
      "        [3.4600],\n",
      "        [3.0535],\n",
      "        [3.8562]], device='cuda:0')\n",
      "              precision    recall  f1-score   support\n",
      "\n",
      "           0       0.50      0.42      0.46      8765\n",
      "           1       0.60      0.68      0.64     11235\n",
      "\n",
      "    accuracy                           0.57     20000\n",
      "   macro avg       0.55      0.55      0.55     20000\n",
      "weighted avg       0.56      0.57      0.56     20000\n",
      "\n",
      "Epoch-37: Loss = 1.759\n",
      "Train RMSE = 1.624||Train Precision = 61.415||Train Recall = 75.047\n",
      "Test RMSE = 1.139 || Test Precision = 60.017|| Test Recall = 67.646\n"
     ]
    },
    {
     "name": "stderr",
     "output_type": "stream",
     "text": [
      "3it [00:08,  2.83s/it]\n"
     ]
    },
    {
     "name": "stdout",
     "output_type": "stream",
     "text": [
      "tensor([[3.2840],\n",
      "        [3.2881],\n",
      "        [3.2842],\n",
      "        ...,\n",
      "        [3.4819],\n",
      "        [3.0826],\n",
      "        [3.8501]], device='cuda:0')\n",
      "              precision    recall  f1-score   support\n",
      "\n",
      "           0       0.51      0.41      0.45      8765\n",
      "           1       0.60      0.69      0.64     11235\n",
      "\n",
      "    accuracy                           0.57     20000\n",
      "   macro avg       0.55      0.55      0.55     20000\n",
      "weighted avg       0.56      0.57      0.56     20000\n",
      "\n",
      "Epoch-38: Loss = 1.755\n",
      "Train RMSE = 1.623||Train Precision = 60.494||Train Recall = 76.671\n",
      "Test RMSE = 1.137 || Test Precision = 60.012|| Test Recall = 69.301\n"
     ]
    },
    {
     "name": "stderr",
     "output_type": "stream",
     "text": [
      "3it [00:08,  2.79s/it]\n"
     ]
    },
    {
     "name": "stdout",
     "output_type": "stream",
     "text": [
      "tensor([[3.3488],\n",
      "        [3.3543],\n",
      "        [3.3482],\n",
      "        ...,\n",
      "        [3.5583],\n",
      "        [3.1689],\n",
      "        [3.9512]], device='cuda:0')\n",
      "              precision    recall  f1-score   support\n",
      "\n",
      "           0       0.52      0.29      0.38      8765\n",
      "           1       0.59      0.79      0.68     11235\n",
      "\n",
      "    accuracy                           0.57     20000\n",
      "   macro avg       0.56      0.54      0.53     20000\n",
      "weighted avg       0.56      0.57      0.54     20000\n",
      "\n",
      "Epoch-39: Loss = 1.756\n",
      "Train RMSE = 1.623||Train Precision = 59.568||Train Recall = 83.180\n",
      "Test RMSE = 1.132 || Test Precision = 58.971|| Test Recall = 79.368\n"
     ]
    },
    {
     "name": "stderr",
     "output_type": "stream",
     "text": [
      "3it [00:08,  2.84s/it]\n"
     ]
    },
    {
     "name": "stdout",
     "output_type": "stream",
     "text": [
      "tensor([[3.2937],\n",
      "        [3.2985],\n",
      "        [3.2949],\n",
      "        ...,\n",
      "        [3.4875],\n",
      "        [3.0818],\n",
      "        [3.8652]], device='cuda:0')\n",
      "              precision    recall  f1-score   support\n",
      "\n",
      "           0       0.51      0.40      0.45      8765\n",
      "           1       0.60      0.70      0.65     11235\n",
      "\n",
      "    accuracy                           0.57     20000\n",
      "   macro avg       0.56      0.55      0.55     20000\n",
      "weighted avg       0.56      0.57      0.56     20000\n",
      "\n",
      "Epoch-40: Loss = 1.760\n",
      "Train RMSE = 1.625||Train Precision = 60.809||Train Recall = 77.719\n",
      "Test RMSE = 1.136 || Test Precision = 60.015|| Test Recall = 70.165\n"
     ]
    },
    {
     "name": "stderr",
     "output_type": "stream",
     "text": [
      "3it [00:08,  2.79s/it]\n"
     ]
    },
    {
     "name": "stdout",
     "output_type": "stream",
     "text": [
      "tensor([[3.2810],\n",
      "        [3.2844],\n",
      "        [3.2792],\n",
      "        ...,\n",
      "        [3.4674],\n",
      "        [3.0522],\n",
      "        [3.8712]], device='cuda:0')\n",
      "              precision    recall  f1-score   support\n",
      "\n",
      "           0       0.51      0.41      0.46      8765\n",
      "           1       0.60      0.69      0.64     11235\n",
      "\n",
      "    accuracy                           0.57     20000\n",
      "   macro avg       0.55      0.55      0.55     20000\n",
      "weighted avg       0.56      0.57      0.56     20000\n",
      "\n",
      "Epoch-41: Loss = 1.760\n",
      "Train RMSE = 1.625||Train Precision = 60.773||Train Recall = 76.360\n",
      "Test RMSE = 1.137 || Test Precision = 59.961|| Test Recall = 68.554\n"
     ]
    },
    {
     "name": "stderr",
     "output_type": "stream",
     "text": [
      "3it [00:08,  2.81s/it]\n"
     ]
    },
    {
     "name": "stdout",
     "output_type": "stream",
     "text": [
      "tensor([[3.3342],\n",
      "        [3.3375],\n",
      "        [3.3353],\n",
      "        ...,\n",
      "        [3.5322],\n",
      "        [3.1441],\n",
      "        [3.9006]], device='cuda:0')\n",
      "              precision    recall  f1-score   support\n",
      "\n",
      "           0       0.52      0.32      0.40      8765\n",
      "           1       0.59      0.77      0.67     11235\n",
      "\n",
      "    accuracy                           0.57     20000\n",
      "   macro avg       0.56      0.55      0.53     20000\n",
      "weighted avg       0.56      0.57      0.55     20000\n",
      "\n",
      "Epoch-42: Loss = 1.755\n",
      "Train RMSE = 1.622||Train Precision = 59.909||Train Recall = 81.717\n",
      "Test RMSE = 1.133 || Test Precision = 59.245|| Test Recall = 76.600\n"
     ]
    },
    {
     "name": "stderr",
     "output_type": "stream",
     "text": [
      "3it [00:08,  2.79s/it]\n"
     ]
    },
    {
     "name": "stdout",
     "output_type": "stream",
     "text": [
      "tensor([[3.3170],\n",
      "        [3.3223],\n",
      "        [3.3179],\n",
      "        ...,\n",
      "        [3.5195],\n",
      "        [3.1213],\n",
      "        [3.9177]], device='cuda:0')\n",
      "              precision    recall  f1-score   support\n",
      "\n",
      "           0       0.52      0.36      0.43      8765\n",
      "           1       0.60      0.74      0.66     11235\n",
      "\n",
      "    accuracy                           0.57     20000\n",
      "   macro avg       0.56      0.55      0.54     20000\n",
      "weighted avg       0.56      0.57      0.56     20000\n",
      "\n",
      "Epoch-43: Loss = 1.756\n",
      "Train RMSE = 1.623||Train Precision = 59.930||Train Recall = 79.685\n",
      "Test RMSE = 1.134 || Test Precision = 59.815|| Test Recall = 73.823\n"
     ]
    },
    {
     "name": "stderr",
     "output_type": "stream",
     "text": [
      "3it [00:08,  2.82s/it]\n"
     ]
    },
    {
     "name": "stdout",
     "output_type": "stream",
     "text": [
      "tensor([[3.3290],\n",
      "        [3.3348],\n",
      "        [3.3288],\n",
      "        ...,\n",
      "        [3.5262],\n",
      "        [3.1278],\n",
      "        [3.9046]], device='cuda:0')\n",
      "              precision    recall  f1-score   support\n",
      "\n",
      "           0       0.52      0.34      0.41      8765\n",
      "           1       0.59      0.76      0.67     11235\n",
      "\n",
      "    accuracy                           0.57     20000\n",
      "   macro avg       0.56      0.55      0.54     20000\n",
      "weighted avg       0.56      0.57      0.55     20000\n",
      "\n",
      "Epoch-44: Loss = 1.757\n",
      "Train RMSE = 1.623||Train Precision = 59.840||Train Recall = 80.977\n",
      "Test RMSE = 1.133 || Test Precision = 59.420|| Test Recall = 75.656\n"
     ]
    },
    {
     "name": "stderr",
     "output_type": "stream",
     "text": [
      "3it [00:08,  2.77s/it]\n"
     ]
    },
    {
     "name": "stdout",
     "output_type": "stream",
     "text": [
      "tensor([[3.2850],\n",
      "        [3.2895],\n",
      "        [3.2845],\n",
      "        ...,\n",
      "        [3.4618],\n",
      "        [3.0601],\n",
      "        [3.8705]], device='cuda:0')\n",
      "              precision    recall  f1-score   support\n",
      "\n",
      "           0       0.51      0.41      0.45      8765\n",
      "           1       0.60      0.69      0.64     11235\n",
      "\n",
      "    accuracy                           0.57     20000\n",
      "   macro avg       0.55      0.55      0.55     20000\n",
      "weighted avg       0.56      0.57      0.56     20000\n",
      "\n",
      "Epoch-45: Loss = 1.755\n",
      "Train RMSE = 1.622||Train Precision = 60.879||Train Recall = 76.721\n",
      "Test RMSE = 1.137 || Test Precision = 59.958|| Test Recall = 68.705\n"
     ]
    },
    {
     "name": "stderr",
     "output_type": "stream",
     "text": [
      "3it [00:08,  2.77s/it]\n"
     ]
    },
    {
     "name": "stdout",
     "output_type": "stream",
     "text": [
      "tensor([[3.2650],\n",
      "        [3.2719],\n",
      "        [3.2655],\n",
      "        ...,\n",
      "        [3.4378],\n",
      "        [3.0489],\n",
      "        [3.8297]], device='cuda:0')\n",
      "              precision    recall  f1-score   support\n",
      "\n",
      "           0       0.51      0.43      0.47      8765\n",
      "           1       0.60      0.67      0.64     11235\n",
      "\n",
      "    accuracy                           0.57     20000\n",
      "   macro avg       0.56      0.55      0.55     20000\n",
      "weighted avg       0.56      0.57      0.56     20000\n",
      "\n",
      "Epoch-46: Loss = 1.756\n",
      "Train RMSE = 1.623||Train Precision = 61.539||Train Recall = 74.206\n",
      "Test RMSE = 1.139 || Test Precision = 60.328|| Test Recall = 67.067\n"
     ]
    },
    {
     "name": "stderr",
     "output_type": "stream",
     "text": [
      "3it [00:08,  2.80s/it]\n"
     ]
    },
    {
     "name": "stdout",
     "output_type": "stream",
     "text": [
      "tensor([[3.3243],\n",
      "        [3.3304],\n",
      "        [3.3239],\n",
      "        ...,\n",
      "        [3.5084],\n",
      "        [3.1189],\n",
      "        [3.9071]], device='cuda:0')\n",
      "              precision    recall  f1-score   support\n",
      "\n",
      "           0       0.52      0.36      0.42      8765\n",
      "           1       0.60      0.74      0.66     11235\n",
      "\n",
      "    accuracy                           0.57     20000\n",
      "   macro avg       0.56      0.55      0.54     20000\n",
      "weighted avg       0.56      0.57      0.56     20000\n",
      "\n",
      "Epoch-47: Loss = 1.754\n",
      "Train RMSE = 1.622||Train Precision = 59.992||Train Recall = 79.852\n",
      "Test RMSE = 1.133 || Test Precision = 59.688|| Test Recall = 74.143\n"
     ]
    },
    {
     "name": "stderr",
     "output_type": "stream",
     "text": [
      "3it [00:08,  2.79s/it]\n"
     ]
    },
    {
     "name": "stdout",
     "output_type": "stream",
     "text": [
      "tensor([[3.3293],\n",
      "        [3.3340],\n",
      "        [3.3299],\n",
      "        ...,\n",
      "        [3.5078],\n",
      "        [3.1268],\n",
      "        [3.9012]], device='cuda:0')\n",
      "              precision    recall  f1-score   support\n",
      "\n",
      "           0       0.52      0.35      0.41      8765\n",
      "           1       0.60      0.75      0.66     11235\n",
      "\n",
      "    accuracy                           0.57     20000\n",
      "   macro avg       0.56      0.55      0.54     20000\n",
      "weighted avg       0.56      0.57      0.55     20000\n",
      "\n",
      "Epoch-48: Loss = 1.756\n",
      "Train RMSE = 1.623||Train Precision = 59.827||Train Recall = 79.872\n",
      "Test RMSE = 1.133 || Test Precision = 59.519|| Test Recall = 75.105\n"
     ]
    },
    {
     "name": "stderr",
     "output_type": "stream",
     "text": [
      "3it [00:08,  2.80s/it]\n"
     ]
    },
    {
     "name": "stdout",
     "output_type": "stream",
     "text": [
      "tensor([[3.2589],\n",
      "        [3.2637],\n",
      "        [3.2587],\n",
      "        ...,\n",
      "        [3.4398],\n",
      "        [3.0472],\n",
      "        [3.8601]], device='cuda:0')\n",
      "              precision    recall  f1-score   support\n",
      "\n",
      "           0       0.51      0.44      0.47      8765\n",
      "           1       0.60      0.66      0.63     11235\n",
      "\n",
      "    accuracy                           0.57     20000\n",
      "   macro avg       0.55      0.55      0.55     20000\n",
      "weighted avg       0.56      0.57      0.56     20000\n",
      "\n",
      "Epoch-49: Loss = 1.755\n",
      "Train RMSE = 1.623||Train Precision = 61.816||Train Recall = 73.557\n",
      "Test RMSE = 1.139 || Test Precision = 60.354|| Test Recall = 66.382\n"
     ]
    },
    {
     "name": "stderr",
     "output_type": "stream",
     "text": [
      "3it [00:08,  2.78s/it]\n"
     ]
    },
    {
     "name": "stdout",
     "output_type": "stream",
     "text": [
      "tensor([[3.2822],\n",
      "        [3.2841],\n",
      "        [3.2810],\n",
      "        ...,\n",
      "        [3.4411],\n",
      "        [3.0462],\n",
      "        [3.8405]], device='cuda:0')\n",
      "              precision    recall  f1-score   support\n",
      "\n",
      "           0       0.50      0.42      0.46      8765\n",
      "           1       0.60      0.68      0.64     11235\n",
      "\n",
      "    accuracy                           0.56     20000\n",
      "   macro avg       0.55      0.55      0.55     20000\n",
      "weighted avg       0.56      0.56      0.56     20000\n",
      "\n",
      "Epoch-50: Loss = 1.755\n",
      "Train RMSE = 1.623||Train Precision = 61.284||Train Recall = 75.198\n",
      "Test RMSE = 1.137 || Test Precision = 59.936|| Test Recall = 67.868\n"
     ]
    },
    {
     "name": "stderr",
     "output_type": "stream",
     "text": [
      "3it [00:08,  2.80s/it]\n"
     ]
    },
    {
     "name": "stdout",
     "output_type": "stream",
     "text": [
      "tensor([[3.3157],\n",
      "        [3.3210],\n",
      "        [3.3155],\n",
      "        ...,\n",
      "        [3.4778],\n",
      "        [3.0802],\n",
      "        [3.8845]], device='cuda:0')\n",
      "              precision    recall  f1-score   support\n",
      "\n",
      "           0       0.52      0.38      0.44      8765\n",
      "           1       0.60      0.72      0.65     11235\n",
      "\n",
      "    accuracy                           0.57     20000\n",
      "   macro avg       0.56      0.55      0.55     20000\n",
      "weighted avg       0.56      0.57      0.56     20000\n",
      "\n",
      "Epoch-51: Loss = 1.755\n",
      "Train RMSE = 1.622||Train Precision = 60.460||Train Recall = 78.872\n",
      "Test RMSE = 1.134 || Test Precision = 59.870|| Test Recall = 72.105\n"
     ]
    },
    {
     "name": "stderr",
     "output_type": "stream",
     "text": [
      "3it [00:08,  2.77s/it]\n"
     ]
    },
    {
     "name": "stdout",
     "output_type": "stream",
     "text": [
      "tensor([[3.3281],\n",
      "        [3.3331],\n",
      "        [3.3298],\n",
      "        ...,\n",
      "        [3.5010],\n",
      "        [3.1259],\n",
      "        [3.9056]], device='cuda:0')\n",
      "              precision    recall  f1-score   support\n",
      "\n",
      "           0       0.52      0.34      0.41      8765\n",
      "           1       0.59      0.76      0.67     11235\n",
      "\n",
      "    accuracy                           0.57     20000\n",
      "   macro avg       0.56      0.55      0.54     20000\n",
      "weighted avg       0.56      0.57      0.55     20000\n",
      "\n",
      "Epoch-52: Loss = 1.754\n",
      "Train RMSE = 1.622||Train Precision = 59.914||Train Recall = 80.510\n",
      "Test RMSE = 1.133 || Test Precision = 59.416|| Test Recall = 75.541\n"
     ]
    },
    {
     "name": "stderr",
     "output_type": "stream",
     "text": [
      "3it [00:08,  2.83s/it]\n"
     ]
    },
    {
     "name": "stdout",
     "output_type": "stream",
     "text": [
      "tensor([[3.2947],\n",
      "        [3.2989],\n",
      "        [3.2948],\n",
      "        ...,\n",
      "        [3.4700],\n",
      "        [3.0938],\n",
      "        [3.8835]], device='cuda:0')\n",
      "              precision    recall  f1-score   support\n",
      "\n",
      "           0       0.51      0.40      0.45      8765\n",
      "           1       0.60      0.70      0.65     11235\n",
      "\n",
      "    accuracy                           0.57     20000\n",
      "   macro avg       0.56      0.55      0.55     20000\n",
      "weighted avg       0.56      0.57      0.56     20000\n",
      "\n",
      "Epoch-53: Loss = 1.754\n",
      "Train RMSE = 1.622||Train Precision = 60.317||Train Recall = 77.611\n",
      "Test RMSE = 1.135 || Test Precision = 59.939|| Test Recall = 70.236\n"
     ]
    },
    {
     "name": "stderr",
     "output_type": "stream",
     "text": [
      "3it [00:08,  2.78s/it]\n"
     ]
    },
    {
     "name": "stdout",
     "output_type": "stream",
     "text": [
      "tensor([[3.2847],\n",
      "        [3.2877],\n",
      "        [3.2852],\n",
      "        ...,\n",
      "        [3.4400],\n",
      "        [3.0578],\n",
      "        [3.8556]], device='cuda:0')\n",
      "              precision    recall  f1-score   support\n",
      "\n",
      "           0       0.51      0.41      0.45      8765\n",
      "           1       0.60      0.69      0.64     11235\n",
      "\n",
      "    accuracy                           0.57     20000\n",
      "   macro avg       0.55      0.55      0.55     20000\n",
      "weighted avg       0.56      0.57      0.56     20000\n",
      "\n",
      "Epoch-54: Loss = 1.756\n",
      "Train RMSE = 1.623||Train Precision = 60.847||Train Recall = 75.898\n",
      "Test RMSE = 1.137 || Test Precision = 59.963|| Test Recall = 68.812\n"
     ]
    },
    {
     "name": "stderr",
     "output_type": "stream",
     "text": [
      "3it [00:08,  2.81s/it]\n"
     ]
    },
    {
     "name": "stdout",
     "output_type": "stream",
     "text": [
      "tensor([[3.2934],\n",
      "        [3.2983],\n",
      "        [3.2929],\n",
      "        ...,\n",
      "        [3.4507],\n",
      "        [3.0705],\n",
      "        [3.8751]], device='cuda:0')\n",
      "              precision    recall  f1-score   support\n",
      "\n",
      "           0       0.51      0.41      0.45      8765\n",
      "           1       0.60      0.69      0.64     11235\n",
      "\n",
      "    accuracy                           0.57     20000\n",
      "   macro avg       0.55      0.55      0.55     20000\n",
      "weighted avg       0.56      0.57      0.56     20000\n",
      "\n",
      "Epoch-55: Loss = 1.754\n",
      "Train RMSE = 1.622||Train Precision = 60.606||Train Recall = 77.091\n",
      "Test RMSE = 1.136 || Test Precision = 59.986|| Test Recall = 69.292\n"
     ]
    },
    {
     "name": "stderr",
     "output_type": "stream",
     "text": [
      "3it [00:08,  2.76s/it]\n"
     ]
    },
    {
     "name": "stdout",
     "output_type": "stream",
     "text": [
      "tensor([[3.3512],\n",
      "        [3.3535],\n",
      "        [3.3482],\n",
      "        ...,\n",
      "        [3.5124],\n",
      "        [3.1579],\n",
      "        [3.9078]], device='cuda:0')\n",
      "              precision    recall  f1-score   support\n",
      "\n",
      "           0       0.52      0.30      0.38      8765\n",
      "           1       0.59      0.78      0.67     11235\n",
      "\n",
      "    accuracy                           0.57     20000\n",
      "   macro avg       0.56      0.54      0.53     20000\n",
      "weighted avg       0.56      0.57      0.55     20000\n",
      "\n",
      "Epoch-56: Loss = 1.754\n",
      "Train RMSE = 1.622||Train Precision = 59.503||Train Recall = 82.464\n",
      "Test RMSE = 1.132 || Test Precision = 59.009|| Test Recall = 78.264\n"
     ]
    },
    {
     "name": "stderr",
     "output_type": "stream",
     "text": [
      "3it [00:08,  2.79s/it]\n"
     ]
    },
    {
     "name": "stdout",
     "output_type": "stream",
     "text": [
      "tensor([[3.3600],\n",
      "        [3.3643],\n",
      "        [3.3606],\n",
      "        ...,\n",
      "        [3.5327],\n",
      "        [3.1828],\n",
      "        [3.9597]], device='cuda:0')\n",
      "              precision    recall  f1-score   support\n",
      "\n",
      "           0       0.53      0.28      0.36      8765\n",
      "           1       0.59      0.81      0.68     11235\n",
      "\n",
      "    accuracy                           0.58     20000\n",
      "   macro avg       0.56      0.54      0.52     20000\n",
      "weighted avg       0.56      0.58      0.54     20000\n",
      "\n",
      "Epoch-57: Loss = 1.757\n",
      "Train RMSE = 1.623||Train Precision = 58.892||Train Recall = 84.481\n",
      "Test RMSE = 1.131 || Test Precision = 58.958|| Test Recall = 81.166\n"
     ]
    },
    {
     "name": "stderr",
     "output_type": "stream",
     "text": [
      "3it [00:08,  2.78s/it]\n"
     ]
    },
    {
     "name": "stdout",
     "output_type": "stream",
     "text": [
      "tensor([[3.3534],\n",
      "        [3.3591],\n",
      "        [3.3543],\n",
      "        ...,\n",
      "        [3.5080],\n",
      "        [3.1509],\n",
      "        [3.9181]], device='cuda:0')\n",
      "              precision    recall  f1-score   support\n",
      "\n",
      "           0       0.52      0.29      0.37      8765\n",
      "           1       0.59      0.79      0.68     11235\n",
      "\n",
      "    accuracy                           0.57     20000\n",
      "   macro avg       0.56      0.54      0.53     20000\n",
      "weighted avg       0.56      0.57      0.54     20000\n",
      "\n",
      "Epoch-58: Loss = 1.759\n",
      "Train RMSE = 1.624||Train Precision = 59.538||Train Recall = 83.428\n",
      "Test RMSE = 1.131 || Test Precision = 58.928|| Test Recall = 79.226\n"
     ]
    },
    {
     "name": "stderr",
     "output_type": "stream",
     "text": [
      "3it [00:08,  2.77s/it]\n"
     ]
    },
    {
     "name": "stdout",
     "output_type": "stream",
     "text": [
      "tensor([[3.3091],\n",
      "        [3.3149],\n",
      "        [3.3087],\n",
      "        ...,\n",
      "        [3.4627],\n",
      "        [3.0697],\n",
      "        [3.8893]], device='cuda:0')\n",
      "              precision    recall  f1-score   support\n",
      "\n",
      "           0       0.51      0.39      0.45      8765\n",
      "           1       0.60      0.71      0.65     11235\n",
      "\n",
      "    accuracy                           0.57     20000\n",
      "   macro avg       0.56      0.55      0.55     20000\n",
      "weighted avg       0.56      0.57      0.56     20000\n",
      "\n",
      "Epoch-59: Loss = 1.758\n",
      "Train RMSE = 1.624||Train Precision = 60.192||Train Recall = 77.821\n",
      "Test RMSE = 1.134 || Test Precision = 59.967|| Test Recall = 70.717\n"
     ]
    },
    {
     "name": "stderr",
     "output_type": "stream",
     "text": [
      "3it [00:08,  2.79s/it]\n"
     ]
    },
    {
     "name": "stdout",
     "output_type": "stream",
     "text": [
      "tensor([[3.2684],\n",
      "        [3.2733],\n",
      "        [3.2703],\n",
      "        ...,\n",
      "        [3.4281],\n",
      "        [3.0351],\n",
      "        [3.8632]], device='cuda:0')\n",
      "              precision    recall  f1-score   support\n",
      "\n",
      "           0       0.51      0.43      0.47      8765\n",
      "           1       0.60      0.67      0.64     11235\n",
      "\n",
      "    accuracy                           0.57     20000\n",
      "   macro avg       0.56      0.55      0.55     20000\n",
      "weighted avg       0.56      0.57      0.56     20000\n",
      "\n",
      "Epoch-60: Loss = 1.756\n",
      "Train RMSE = 1.623||Train Precision = 61.927||Train Recall = 74.397\n",
      "Test RMSE = 1.138 || Test Precision = 60.296|| Test Recall = 67.138\n"
     ]
    },
    {
     "name": "stderr",
     "output_type": "stream",
     "text": [
      "3it [00:08,  2.79s/it]\n"
     ]
    },
    {
     "name": "stdout",
     "output_type": "stream",
     "text": [
      "tensor([[3.2741],\n",
      "        [3.2813],\n",
      "        [3.2742],\n",
      "        ...,\n",
      "        [3.4292],\n",
      "        [3.0601],\n",
      "        [3.8436]], device='cuda:0')\n",
      "              precision    recall  f1-score   support\n",
      "\n",
      "           0       0.51      0.41      0.46      8765\n",
      "           1       0.60      0.69      0.64     11235\n",
      "\n",
      "    accuracy                           0.57     20000\n",
      "   macro avg       0.55      0.55      0.55     20000\n",
      "weighted avg       0.56      0.57      0.56     20000\n",
      "\n",
      "Epoch-61: Loss = 1.754\n",
      "Train RMSE = 1.622||Train Precision = 61.275||Train Recall = 76.527\n",
      "Test RMSE = 1.137 || Test Precision = 60.011|| Test Recall = 68.616\n"
     ]
    },
    {
     "name": "stderr",
     "output_type": "stream",
     "text": [
      "3it [00:08,  2.81s/it]\n"
     ]
    },
    {
     "name": "stdout",
     "output_type": "stream",
     "text": [
      "tensor([[3.2588],\n",
      "        [3.2640],\n",
      "        [3.2597],\n",
      "        ...,\n",
      "        [3.3917],\n",
      "        [3.0042],\n",
      "        [3.8280]], device='cuda:0')\n",
      "              precision    recall  f1-score   support\n",
      "\n",
      "           0       0.50      0.47      0.49      8765\n",
      "           1       0.61      0.64      0.62     11235\n",
      "\n",
      "    accuracy                           0.57     20000\n",
      "   macro avg       0.56      0.55      0.55     20000\n",
      "weighted avg       0.56      0.57      0.56     20000\n",
      "\n",
      "Epoch-62: Loss = 1.755\n",
      "Train RMSE = 1.623||Train Precision = 61.951||Train Recall = 72.221\n",
      "Test RMSE = 1.140 || Test Precision = 60.739|| Test Recall = 64.059\n"
     ]
    },
    {
     "name": "stderr",
     "output_type": "stream",
     "text": [
      "3it [00:08,  2.79s/it]\n"
     ]
    },
    {
     "name": "stdout",
     "output_type": "stream",
     "text": [
      "tensor([[3.2691],\n",
      "        [3.2706],\n",
      "        [3.2658],\n",
      "        ...,\n",
      "        [3.3922],\n",
      "        [3.0081],\n",
      "        [3.8311]], device='cuda:0')\n",
      "              precision    recall  f1-score   support\n",
      "\n",
      "           0       0.51      0.45      0.48      8765\n",
      "           1       0.60      0.66      0.63     11235\n",
      "\n",
      "    accuracy                           0.57     20000\n",
      "   macro avg       0.56      0.55      0.55     20000\n",
      "weighted avg       0.56      0.57      0.56     20000\n",
      "\n",
      "Epoch-63: Loss = 1.755\n",
      "Train RMSE = 1.622||Train Precision = 62.039||Train Recall = 73.080\n",
      "Test RMSE = 1.139 || Test Precision = 60.463|| Test Recall = 65.812\n"
     ]
    },
    {
     "name": "stderr",
     "output_type": "stream",
     "text": [
      "3it [00:08,  2.80s/it]\n"
     ]
    },
    {
     "name": "stdout",
     "output_type": "stream",
     "text": [
      "tensor([[3.2935],\n",
      "        [3.2969],\n",
      "        [3.2942],\n",
      "        ...,\n",
      "        [3.4339],\n",
      "        [3.0830],\n",
      "        [3.8749]], device='cuda:0')\n",
      "              precision    recall  f1-score   support\n",
      "\n",
      "           0       0.51      0.40      0.45      8765\n",
      "           1       0.60      0.70      0.65     11235\n",
      "\n",
      "    accuracy                           0.57     20000\n",
      "   macro avg       0.55      0.55      0.55     20000\n",
      "weighted avg       0.56      0.57      0.56     20000\n",
      "\n",
      "Epoch-64: Loss = 1.759\n",
      "Train RMSE = 1.624||Train Precision = 60.583||Train Recall = 77.437\n",
      "Test RMSE = 1.135 || Test Precision = 59.900|| Test Recall = 70.067\n"
     ]
    },
    {
     "name": "stderr",
     "output_type": "stream",
     "text": [
      "3it [00:08,  2.76s/it]\n"
     ]
    },
    {
     "name": "stdout",
     "output_type": "stream",
     "text": [
      "tensor([[3.3283],\n",
      "        [3.3342],\n",
      "        [3.3292],\n",
      "        ...,\n",
      "        [3.4703],\n",
      "        [3.1105],\n",
      "        [3.9075]], device='cuda:0')\n",
      "              precision    recall  f1-score   support\n",
      "\n",
      "           0       0.52      0.35      0.42      8765\n",
      "           1       0.60      0.75      0.66     11235\n",
      "\n",
      "    accuracy                           0.57     20000\n",
      "   macro avg       0.56      0.55      0.54     20000\n",
      "weighted avg       0.56      0.57      0.56     20000\n",
      "\n",
      "Epoch-65: Loss = 1.758\n",
      "Train RMSE = 1.624||Train Precision = 60.356||Train Recall = 80.750\n",
      "Test RMSE = 1.132 || Test Precision = 59.671|| Test Recall = 74.526\n"
     ]
    },
    {
     "name": "stderr",
     "output_type": "stream",
     "text": [
      "3it [00:08,  2.81s/it]\n"
     ]
    },
    {
     "name": "stdout",
     "output_type": "stream",
     "text": [
      "tensor([[3.3814],\n",
      "        [3.3879],\n",
      "        [3.3822],\n",
      "        ...,\n",
      "        [3.5299],\n",
      "        [3.1714],\n",
      "        [3.9432]], device='cuda:0')\n",
      "              precision    recall  f1-score   support\n",
      "\n",
      "           0       0.53      0.24      0.33      8765\n",
      "           1       0.58      0.84      0.69     11235\n",
      "\n",
      "    accuracy                           0.57     20000\n",
      "   macro avg       0.56      0.54      0.51     20000\n",
      "weighted avg       0.56      0.57      0.53     20000\n",
      "\n",
      "Epoch-66: Loss = 1.754\n",
      "Train RMSE = 1.622||Train Precision = 59.237||Train Recall = 86.101\n",
      "Test RMSE = 1.131 || Test Precision = 58.454|| Test Recall = 83.667\n"
     ]
    },
    {
     "name": "stderr",
     "output_type": "stream",
     "text": [
      "3it [00:08,  2.79s/it]\n"
     ]
    },
    {
     "name": "stdout",
     "output_type": "stream",
     "text": [
      "tensor([[3.3538],\n",
      "        [3.3593],\n",
      "        [3.3525],\n",
      "        ...,\n",
      "        [3.4995],\n",
      "        [3.1380],\n",
      "        [3.9378]], device='cuda:0')\n",
      "              precision    recall  f1-score   support\n",
      "\n",
      "           0       0.52      0.30      0.38      8765\n",
      "           1       0.59      0.79      0.67     11235\n",
      "\n",
      "    accuracy                           0.57     20000\n",
      "   macro avg       0.56      0.54      0.53     20000\n",
      "weighted avg       0.56      0.57      0.54     20000\n",
      "\n",
      "Epoch-67: Loss = 1.758\n",
      "Train RMSE = 1.624||Train Precision = 59.358||Train Recall = 82.925\n",
      "Test RMSE = 1.131 || Test Precision = 58.958|| Test Recall = 78.531\n"
     ]
    },
    {
     "name": "stderr",
     "output_type": "stream",
     "text": [
      "3it [00:08,  2.79s/it]\n"
     ]
    },
    {
     "name": "stdout",
     "output_type": "stream",
     "text": [
      "tensor([[3.3088],\n",
      "        [3.3116],\n",
      "        [3.3088],\n",
      "        ...,\n",
      "        [3.4442],\n",
      "        [3.0904],\n",
      "        [3.8662]], device='cuda:0')\n",
      "              precision    recall  f1-score   support\n",
      "\n",
      "           0       0.51      0.39      0.44      8765\n",
      "           1       0.60      0.71      0.65     11235\n",
      "\n",
      "    accuracy                           0.57     20000\n",
      "   macro avg       0.56      0.55      0.55     20000\n",
      "weighted avg       0.56      0.57      0.56     20000\n",
      "\n",
      "Epoch-68: Loss = 1.753\n",
      "Train RMSE = 1.621||Train Precision = 61.275||Train Recall = 78.515\n",
      "Test RMSE = 1.134 || Test Precision = 59.859|| Test Recall = 70.930\n"
     ]
    },
    {
     "name": "stderr",
     "output_type": "stream",
     "text": [
      "3it [00:08,  2.79s/it]\n"
     ]
    },
    {
     "name": "stdout",
     "output_type": "stream",
     "text": [
      "tensor([[3.2982],\n",
      "        [3.3021],\n",
      "        [3.2989],\n",
      "        ...,\n",
      "        [3.4279],\n",
      "        [3.0556],\n",
      "        [3.8900]], device='cuda:0')\n",
      "              precision    recall  f1-score   support\n",
      "\n",
      "           0       0.51      0.41      0.45      8765\n",
      "           1       0.60      0.69      0.64     11235\n",
      "\n",
      "    accuracy                           0.57     20000\n",
      "   macro avg       0.55      0.55      0.55     20000\n",
      "weighted avg       0.56      0.57      0.56     20000\n",
      "\n",
      "Epoch-69: Loss = 1.752\n",
      "Train RMSE = 1.621||Train Precision = 61.132||Train Recall = 76.987\n",
      "Test RMSE = 1.135 || Test Precision = 59.968|| Test Recall = 69.292\n"
     ]
    },
    {
     "name": "stderr",
     "output_type": "stream",
     "text": [
      "3it [00:08,  2.81s/it]\n"
     ]
    },
    {
     "name": "stdout",
     "output_type": "stream",
     "text": [
      "tensor([[3.2968],\n",
      "        [3.3025],\n",
      "        [3.2965],\n",
      "        ...,\n",
      "        [3.4313],\n",
      "        [3.0551],\n",
      "        [3.8516]], device='cuda:0')\n",
      "              precision    recall  f1-score   support\n",
      "\n",
      "           0       0.51      0.41      0.45      8765\n",
      "           1       0.60      0.69      0.64     11235\n",
      "\n",
      "    accuracy                           0.57     20000\n",
      "   macro avg       0.55      0.55      0.55     20000\n",
      "weighted avg       0.56      0.57      0.56     20000\n",
      "\n",
      "Epoch-70: Loss = 1.756\n",
      "Train RMSE = 1.623||Train Precision = 60.931||Train Recall = 76.863\n",
      "Test RMSE = 1.135 || Test Precision = 59.971|| Test Recall = 69.248\n"
     ]
    },
    {
     "name": "stderr",
     "output_type": "stream",
     "text": [
      "3it [00:08,  2.81s/it]\n"
     ]
    },
    {
     "name": "stdout",
     "output_type": "stream",
     "text": [
      "tensor([[3.2751],\n",
      "        [3.2756],\n",
      "        [3.2746],\n",
      "        ...,\n",
      "        [3.4039],\n",
      "        [3.0256],\n",
      "        [3.8601]], device='cuda:0')\n",
      "              precision    recall  f1-score   support\n",
      "\n",
      "           0       0.51      0.44      0.47      8765\n",
      "           1       0.60      0.67      0.63     11235\n",
      "\n",
      "    accuracy                           0.57     20000\n",
      "   macro avg       0.55      0.55      0.55     20000\n",
      "weighted avg       0.56      0.57      0.56     20000\n",
      "\n",
      "Epoch-71: Loss = 1.751\n",
      "Train RMSE = 1.620||Train Precision = 61.448||Train Recall = 73.803\n",
      "Test RMSE = 1.137 || Test Precision = 60.360|| Test Recall = 66.533\n"
     ]
    },
    {
     "name": "stderr",
     "output_type": "stream",
     "text": [
      "3it [00:08,  2.78s/it]\n"
     ]
    },
    {
     "name": "stdout",
     "output_type": "stream",
     "text": [
      "tensor([[3.3070],\n",
      "        [3.3134],\n",
      "        [3.3081],\n",
      "        ...,\n",
      "        [3.4494],\n",
      "        [3.0789],\n",
      "        [3.8590]], device='cuda:0')\n",
      "              precision    recall  f1-score   support\n",
      "\n",
      "           0       0.51      0.39      0.44      8765\n",
      "           1       0.60      0.71      0.65     11235\n",
      "\n",
      "    accuracy                           0.57     20000\n",
      "   macro avg       0.55      0.55      0.55     20000\n",
      "weighted avg       0.56      0.57      0.56     20000\n",
      "\n",
      "Epoch-72: Loss = 1.755\n",
      "Train RMSE = 1.623||Train Precision = 60.434||Train Recall = 78.328\n",
      "Test RMSE = 1.134 || Test Precision = 59.857|| Test Recall = 70.619\n"
     ]
    },
    {
     "name": "stderr",
     "output_type": "stream",
     "text": [
      "3it [00:08,  2.78s/it]\n"
     ]
    },
    {
     "name": "stdout",
     "output_type": "stream",
     "text": [
      "tensor([[3.2913],\n",
      "        [3.2971],\n",
      "        [3.2914],\n",
      "        ...,\n",
      "        [3.4435],\n",
      "        [3.0666],\n",
      "        [3.8820]], device='cuda:0')\n",
      "              precision    recall  f1-score   support\n",
      "\n",
      "           0       0.51      0.40      0.45      8765\n",
      "           1       0.60      0.70      0.64     11235\n",
      "\n",
      "    accuracy                           0.57     20000\n",
      "   macro avg       0.55      0.55      0.55     20000\n",
      "weighted avg       0.56      0.57      0.56     20000\n",
      "\n",
      "Epoch-73: Loss = 1.755\n",
      "Train RMSE = 1.622||Train Precision = 61.186||Train Recall = 76.965\n",
      "Test RMSE = 1.135 || Test Precision = 59.916|| Test Recall = 69.515\n"
     ]
    },
    {
     "name": "stderr",
     "output_type": "stream",
     "text": [
      "3it [00:08,  2.79s/it]\n"
     ]
    },
    {
     "name": "stdout",
     "output_type": "stream",
     "text": [
      "tensor([[3.2952],\n",
      "        [3.3000],\n",
      "        [3.2936],\n",
      "        ...,\n",
      "        [3.4326],\n",
      "        [3.0483],\n",
      "        [3.8705]], device='cuda:0')\n",
      "              precision    recall  f1-score   support\n",
      "\n",
      "           0       0.51      0.41      0.45      8765\n",
      "           1       0.60      0.69      0.64     11235\n",
      "\n",
      "    accuracy                           0.57     20000\n",
      "   macro avg       0.55      0.55      0.55     20000\n",
      "weighted avg       0.56      0.57      0.56     20000\n",
      "\n",
      "Epoch-74: Loss = 1.753\n",
      "Train RMSE = 1.622||Train Precision = 60.855||Train Recall = 76.270\n",
      "Test RMSE = 1.135 || Test Precision = 59.981|| Test Recall = 69.239\n"
     ]
    },
    {
     "name": "stderr",
     "output_type": "stream",
     "text": [
      "3it [00:08,  2.82s/it]\n"
     ]
    },
    {
     "name": "stdout",
     "output_type": "stream",
     "text": [
      "tensor([[3.3440],\n",
      "        [3.3466],\n",
      "        [3.3417],\n",
      "        ...,\n",
      "        [3.4791],\n",
      "        [3.1054],\n",
      "        [3.9263]], device='cuda:0')\n",
      "              precision    recall  f1-score   support\n",
      "\n",
      "           0       0.52      0.33      0.41      8765\n",
      "           1       0.59      0.76      0.67     11235\n",
      "\n",
      "    accuracy                           0.57     20000\n",
      "   macro avg       0.56      0.55      0.54     20000\n",
      "weighted avg       0.56      0.57      0.55     20000\n",
      "\n",
      "Epoch-75: Loss = 1.749\n",
      "Train RMSE = 1.620||Train Precision = 59.843||Train Recall = 81.821\n",
      "Test RMSE = 1.132 || Test Precision = 59.402|| Test Recall = 76.057\n"
     ]
    },
    {
     "name": "stderr",
     "output_type": "stream",
     "text": [
      "3it [00:08,  2.77s/it]\n"
     ]
    },
    {
     "name": "stdout",
     "output_type": "stream",
     "text": [
      "tensor([[3.3273],\n",
      "        [3.3319],\n",
      "        [3.3271],\n",
      "        ...,\n",
      "        [3.4686],\n",
      "        [3.1115],\n",
      "        [3.8872]], device='cuda:0')\n",
      "              precision    recall  f1-score   support\n",
      "\n",
      "           0       0.52      0.36      0.42      8765\n",
      "           1       0.60      0.74      0.66     11235\n",
      "\n",
      "    accuracy                           0.57     20000\n",
      "   macro avg       0.56      0.55      0.54     20000\n",
      "weighted avg       0.56      0.57      0.56     20000\n",
      "\n",
      "Epoch-76: Loss = 1.754\n",
      "Train RMSE = 1.622||Train Precision = 60.361||Train Recall = 80.156\n",
      "Test RMSE = 1.132 || Test Precision = 59.667|| Test Recall = 74.054\n"
     ]
    },
    {
     "name": "stderr",
     "output_type": "stream",
     "text": [
      "3it [00:08,  2.81s/it]\n"
     ]
    },
    {
     "name": "stdout",
     "output_type": "stream",
     "text": [
      "tensor([[3.3061],\n",
      "        [3.3088],\n",
      "        [3.3031],\n",
      "        ...,\n",
      "        [3.4446],\n",
      "        [3.0801],\n",
      "        [3.8749]], device='cuda:0')\n",
      "              precision    recall  f1-score   support\n",
      "\n",
      "           0       0.51      0.40      0.45      8765\n",
      "           1       0.60      0.70      0.65     11235\n",
      "\n",
      "    accuracy                           0.57     20000\n",
      "   macro avg       0.55      0.55      0.55     20000\n",
      "weighted avg       0.56      0.57      0.56     20000\n",
      "\n",
      "Epoch-77: Loss = 1.752\n",
      "Train RMSE = 1.621||Train Precision = 60.464||Train Recall = 78.082\n",
      "Test RMSE = 1.134 || Test Precision = 59.885|| Test Recall = 70.263\n"
     ]
    },
    {
     "name": "stderr",
     "output_type": "stream",
     "text": [
      "3it [00:08,  2.77s/it]\n"
     ]
    },
    {
     "name": "stdout",
     "output_type": "stream",
     "text": [
      "tensor([[3.2771],\n",
      "        [3.2817],\n",
      "        [3.2797],\n",
      "        ...,\n",
      "        [3.4033],\n",
      "        [3.0197],\n",
      "        [3.8606]], device='cuda:0')\n",
      "              precision    recall  f1-score   support\n",
      "\n",
      "           0       0.51      0.44      0.47      8765\n",
      "           1       0.60      0.66      0.63     11235\n",
      "\n",
      "    accuracy                           0.57     20000\n",
      "   macro avg       0.56      0.55      0.55     20000\n",
      "weighted avg       0.56      0.57      0.56     20000\n",
      "\n",
      "Epoch-78: Loss = 1.755\n",
      "Train RMSE = 1.622||Train Precision = 61.970||Train Recall = 73.969\n",
      "Test RMSE = 1.137 || Test Precision = 60.455|| Test Recall = 66.417\n"
     ]
    },
    {
     "name": "stderr",
     "output_type": "stream",
     "text": [
      "3it [00:08,  2.82s/it]\n"
     ]
    },
    {
     "name": "stdout",
     "output_type": "stream",
     "text": [
      "tensor([[3.3126],\n",
      "        [3.3179],\n",
      "        [3.3118],\n",
      "        ...,\n",
      "        [3.4327],\n",
      "        [3.0721],\n",
      "        [3.8652]], device='cuda:0')\n",
      "              precision    recall  f1-score   support\n",
      "\n",
      "           0       0.51      0.39      0.44      8765\n",
      "           1       0.60      0.71      0.65     11235\n",
      "\n",
      "    accuracy                           0.57     20000\n",
      "   macro avg       0.55      0.55      0.55     20000\n",
      "weighted avg       0.56      0.57      0.56     20000\n",
      "\n",
      "Epoch-79: Loss = 1.753\n",
      "Train RMSE = 1.622||Train Precision = 60.029||Train Recall = 77.975\n",
      "Test RMSE = 1.134 || Test Precision = 59.839|| Test Recall = 70.912\n"
     ]
    },
    {
     "name": "stderr",
     "output_type": "stream",
     "text": [
      "3it [00:08,  2.76s/it]\n"
     ]
    },
    {
     "name": "stdout",
     "output_type": "stream",
     "text": [
      "tensor([[3.3048],\n",
      "        [3.3122],\n",
      "        [3.3070],\n",
      "        ...,\n",
      "        [3.4437],\n",
      "        [3.0723],\n",
      "        [3.8985]], device='cuda:0')\n",
      "              precision    recall  f1-score   support\n",
      "\n",
      "           0       0.51      0.39      0.44      8765\n",
      "           1       0.60      0.71      0.65     11235\n",
      "\n",
      "    accuracy                           0.57     20000\n",
      "   macro avg       0.55      0.55      0.55     20000\n",
      "weighted avg       0.56      0.57      0.56     20000\n",
      "\n",
      "Epoch-80: Loss = 1.751\n",
      "Train RMSE = 1.620||Train Precision = 59.830||Train Recall = 77.852\n",
      "Test RMSE = 1.134 || Test Precision = 59.850|| Test Recall = 70.547\n"
     ]
    },
    {
     "name": "stderr",
     "output_type": "stream",
     "text": [
      "3it [00:08,  2.81s/it]\n"
     ]
    },
    {
     "name": "stdout",
     "output_type": "stream",
     "text": [
      "tensor([[3.3116],\n",
      "        [3.3143],\n",
      "        [3.3085],\n",
      "        ...,\n",
      "        [3.4372],\n",
      "        [3.0627],\n",
      "        [3.8696]], device='cuda:0')\n",
      "              precision    recall  f1-score   support\n",
      "\n",
      "           0       0.51      0.40      0.45      8765\n",
      "           1       0.60      0.70      0.65     11235\n",
      "\n",
      "    accuracy                           0.57     20000\n",
      "   macro avg       0.55      0.55      0.55     20000\n",
      "weighted avg       0.56      0.57      0.56     20000\n",
      "\n",
      "Epoch-81: Loss = 1.752\n",
      "Train RMSE = 1.621||Train Precision = 60.567||Train Recall = 77.995\n",
      "Test RMSE = 1.134 || Test Precision = 59.836|| Test Recall = 70.200\n"
     ]
    },
    {
     "name": "stderr",
     "output_type": "stream",
     "text": [
      "3it [00:08,  2.78s/it]\n"
     ]
    },
    {
     "name": "stdout",
     "output_type": "stream",
     "text": [
      "tensor([[3.2973],\n",
      "        [3.3038],\n",
      "        [3.2981],\n",
      "        ...,\n",
      "        [3.4336],\n",
      "        [3.0443],\n",
      "        [3.8934]], device='cuda:0')\n",
      "              precision    recall  f1-score   support\n",
      "\n",
      "           0       0.51      0.40      0.45      8765\n",
      "           1       0.60      0.70      0.64     11235\n",
      "\n",
      "    accuracy                           0.57     20000\n",
      "   macro avg       0.55      0.55      0.55     20000\n",
      "weighted avg       0.56      0.57      0.56     20000\n",
      "\n",
      "Epoch-82: Loss = 1.754\n",
      "Train RMSE = 1.622||Train Precision = 60.429||Train Recall = 76.557\n",
      "Test RMSE = 1.134 || Test Precision = 59.928|| Test Recall = 69.604\n"
     ]
    },
    {
     "name": "stderr",
     "output_type": "stream",
     "text": [
      "3it [00:08,  2.80s/it]\n"
     ]
    },
    {
     "name": "stdout",
     "output_type": "stream",
     "text": [
      "tensor([[3.3364],\n",
      "        [3.3378],\n",
      "        [3.3320],\n",
      "        ...,\n",
      "        [3.4642],\n",
      "        [3.1180],\n",
      "        [3.8806]], device='cuda:0')\n",
      "              precision    recall  f1-score   support\n",
      "\n",
      "           0       0.52      0.35      0.42      8765\n",
      "           1       0.60      0.75      0.67     11235\n",
      "\n",
      "    accuracy                           0.58     20000\n",
      "   macro avg       0.56      0.55      0.54     20000\n",
      "weighted avg       0.56      0.58      0.56     20000\n",
      "\n",
      "Epoch-83: Loss = 1.749\n",
      "Train RMSE = 1.620||Train Precision = 59.930||Train Recall = 81.058\n",
      "Test RMSE = 1.132 || Test Precision = 59.645|| Test Recall = 75.354\n"
     ]
    },
    {
     "name": "stderr",
     "output_type": "stream",
     "text": [
      "3it [00:08,  2.78s/it]\n"
     ]
    },
    {
     "name": "stdout",
     "output_type": "stream",
     "text": [
      "tensor([[3.3231],\n",
      "        [3.3292],\n",
      "        [3.3235],\n",
      "        ...,\n",
      "        [3.4647],\n",
      "        [3.1043],\n",
      "        [3.9284]], device='cuda:0')\n",
      "              precision    recall  f1-score   support\n",
      "\n",
      "           0       0.51      0.37      0.43      8765\n",
      "           1       0.60      0.73      0.66     11235\n",
      "\n",
      "    accuracy                           0.57     20000\n",
      "   macro avg       0.56      0.55      0.54     20000\n",
      "weighted avg       0.56      0.57      0.56     20000\n",
      "\n",
      "Epoch-84: Loss = 1.752\n",
      "Train RMSE = 1.621||Train Precision = 60.323||Train Recall = 79.840\n",
      "Test RMSE = 1.132 || Test Precision = 59.644|| Test Recall = 72.746\n"
     ]
    },
    {
     "name": "stderr",
     "output_type": "stream",
     "text": [
      "3it [00:08,  2.78s/it]\n"
     ]
    },
    {
     "name": "stdout",
     "output_type": "stream",
     "text": [
      "tensor([[3.3095],\n",
      "        [3.3159],\n",
      "        [3.3102],\n",
      "        ...,\n",
      "        [3.4340],\n",
      "        [3.0626],\n",
      "        [3.8752]], device='cuda:0')\n",
      "              precision    recall  f1-score   support\n",
      "\n",
      "           0       0.51      0.40      0.45      8765\n",
      "           1       0.60      0.70      0.65     11235\n",
      "\n",
      "    accuracy                           0.57     20000\n",
      "   macro avg       0.55      0.55      0.55     20000\n",
      "weighted avg       0.56      0.57      0.56     20000\n",
      "\n",
      "Epoch-85: Loss = 1.751\n",
      "Train RMSE = 1.621||Train Precision = 60.728||Train Recall = 77.722\n",
      "Test RMSE = 1.134 || Test Precision = 59.831|| Test Recall = 70.067\n"
     ]
    },
    {
     "name": "stderr",
     "output_type": "stream",
     "text": [
      "3it [00:08,  2.78s/it]\n"
     ]
    },
    {
     "name": "stdout",
     "output_type": "stream",
     "text": [
      "tensor([[3.2660],\n",
      "        [3.2714],\n",
      "        [3.2663],\n",
      "        ...,\n",
      "        [3.3664],\n",
      "        [2.9893],\n",
      "        [3.8329]], device='cuda:0')\n",
      "              precision    recall  f1-score   support\n",
      "\n",
      "           0       0.50      0.48      0.49      8765\n",
      "           1       0.61      0.64      0.62     11235\n",
      "\n",
      "    accuracy                           0.57     20000\n",
      "   macro avg       0.56      0.56      0.56     20000\n",
      "weighted avg       0.56      0.57      0.56     20000\n",
      "\n",
      "Epoch-86: Loss = 1.752\n",
      "Train RMSE = 1.621||Train Precision = 62.328||Train Recall = 72.034\n",
      "Test RMSE = 1.139 || Test Precision = 60.843|| Test Recall = 63.605\n"
     ]
    },
    {
     "name": "stderr",
     "output_type": "stream",
     "text": [
      "3it [00:08,  2.79s/it]\n"
     ]
    },
    {
     "name": "stdout",
     "output_type": "stream",
     "text": [
      "tensor([[3.2362],\n",
      "        [3.2432],\n",
      "        [3.2374],\n",
      "        ...,\n",
      "        [3.3425],\n",
      "        [2.9752],\n",
      "        [3.7922]], device='cuda:0')\n",
      "              precision    recall  f1-score   support\n",
      "\n",
      "           0       0.50      0.52      0.51      8765\n",
      "           1       0.61      0.59      0.60     11235\n",
      "\n",
      "    accuracy                           0.56     20000\n",
      "   macro avg       0.55      0.55      0.55     20000\n",
      "weighted avg       0.56      0.56      0.56     20000\n",
      "\n",
      "Epoch-87: Loss = 1.754\n",
      "Train RMSE = 1.622||Train Precision = 62.602||Train Recall = 69.977\n",
      "Test RMSE = 1.142 || Test Precision = 61.071|| Test Recall = 58.549\n"
     ]
    },
    {
     "name": "stderr",
     "output_type": "stream",
     "text": [
      "3it [00:08,  2.80s/it]\n"
     ]
    },
    {
     "name": "stdout",
     "output_type": "stream",
     "text": [
      "tensor([[3.2393],\n",
      "        [3.2457],\n",
      "        [3.2392],\n",
      "        ...,\n",
      "        [3.3487],\n",
      "        [2.9629],\n",
      "        [3.8010]], device='cuda:0')\n",
      "              precision    recall  f1-score   support\n",
      "\n",
      "           0       0.49      0.53      0.51      8765\n",
      "           1       0.61      0.58      0.59     11235\n",
      "\n",
      "    accuracy                           0.56     20000\n",
      "   macro avg       0.55      0.55      0.55     20000\n",
      "weighted avg       0.56      0.56      0.56     20000\n",
      "\n",
      "Epoch-88: Loss = 1.754\n",
      "Train RMSE = 1.622||Train Precision = 63.165||Train Recall = 69.226\n",
      "Test RMSE = 1.142 || Test Precision = 61.130|| Test Recall = 57.953\n"
     ]
    },
    {
     "name": "stderr",
     "output_type": "stream",
     "text": [
      "3it [00:08,  2.80s/it]\n"
     ]
    },
    {
     "name": "stdout",
     "output_type": "stream",
     "text": [
      "tensor([[3.2290],\n",
      "        [3.2350],\n",
      "        [3.2286],\n",
      "        ...,\n",
      "        [3.3337],\n",
      "        [2.9357],\n",
      "        [3.7987]], device='cuda:0')\n",
      "              precision    recall  f1-score   support\n",
      "\n",
      "           0       0.49      0.58      0.53      8765\n",
      "           1       0.61      0.53      0.57     11235\n",
      "\n",
      "    accuracy                           0.55     20000\n",
      "   macro avg       0.55      0.55      0.55     20000\n",
      "weighted avg       0.56      0.55      0.55     20000\n",
      "\n",
      "Epoch-89: Loss = 1.761\n",
      "Train RMSE = 1.625||Train Precision = 62.533||Train Recall = 66.213\n",
      "Test RMSE = 1.144 || Test Precision = 61.441|| Test Recall = 52.817\n"
     ]
    },
    {
     "name": "stderr",
     "output_type": "stream",
     "text": [
      "3it [00:08,  2.81s/it]\n"
     ]
    },
    {
     "name": "stdout",
     "output_type": "stream",
     "text": [
      "tensor([[3.2572],\n",
      "        [3.2624],\n",
      "        [3.2570],\n",
      "        ...,\n",
      "        [3.3553],\n",
      "        [3.0029],\n",
      "        [3.7944]], device='cuda:0')\n",
      "              precision    recall  f1-score   support\n",
      "\n",
      "           0       0.51      0.48      0.49      8765\n",
      "           1       0.61      0.63      0.62     11235\n",
      "\n",
      "    accuracy                           0.57     20000\n",
      "   macro avg       0.56      0.56      0.56     20000\n",
      "weighted avg       0.57      0.57      0.57     20000\n",
      "\n",
      "Epoch-90: Loss = 1.760\n",
      "Train RMSE = 1.625||Train Precision = 62.503||Train Recall = 72.306\n",
      "Test RMSE = 1.139 || Test Precision = 61.055|| Test Recall = 63.489\n"
     ]
    },
    {
     "name": "stderr",
     "output_type": "stream",
     "text": [
      "3it [00:08,  2.79s/it]\n"
     ]
    },
    {
     "name": "stdout",
     "output_type": "stream",
     "text": [
      "tensor([[3.3136],\n",
      "        [3.3193],\n",
      "        [3.3130],\n",
      "        ...,\n",
      "        [3.4484],\n",
      "        [3.0930],\n",
      "        [3.9072]], device='cuda:0')\n",
      "              precision    recall  f1-score   support\n",
      "\n",
      "           0       0.51      0.39      0.44      8765\n",
      "           1       0.60      0.71      0.65     11235\n",
      "\n",
      "    accuracy                           0.57     20000\n",
      "   macro avg       0.55      0.55      0.54     20000\n",
      "weighted avg       0.56      0.57      0.56     20000\n",
      "\n",
      "Epoch-91: Loss = 1.756\n",
      "Train RMSE = 1.623||Train Precision = 60.157||Train Recall = 78.682\n",
      "Test RMSE = 1.133 || Test Precision = 59.750|| Test Recall = 70.939\n"
     ]
    },
    {
     "name": "stderr",
     "output_type": "stream",
     "text": [
      "3it [00:08,  2.82s/it]\n"
     ]
    },
    {
     "name": "stdout",
     "output_type": "stream",
     "text": [
      "tensor([[3.3939],\n",
      "        [3.3992],\n",
      "        [3.3946],\n",
      "        ...,\n",
      "        [3.5273],\n",
      "        [3.1789],\n",
      "        [3.9715]], device='cuda:0')\n",
      "              precision    recall  f1-score   support\n",
      "\n",
      "           0       0.54      0.20      0.29      8765\n",
      "           1       0.58      0.87      0.70     11235\n",
      "\n",
      "    accuracy                           0.58     20000\n",
      "   macro avg       0.56      0.53      0.49     20000\n",
      "weighted avg       0.57      0.58      0.52     20000\n",
      "\n",
      "Epoch-92: Loss = 1.756\n",
      "Train RMSE = 1.623||Train Precision = 58.533||Train Recall = 87.089\n",
      "Test RMSE = 1.130 || Test Precision = 58.170|| Test Recall = 87.076\n"
     ]
    },
    {
     "name": "stderr",
     "output_type": "stream",
     "text": [
      "3it [00:08,  2.77s/it]\n"
     ]
    },
    {
     "name": "stdout",
     "output_type": "stream",
     "text": [
      "tensor([[3.3871],\n",
      "        [3.3946],\n",
      "        [3.3886],\n",
      "        ...,\n",
      "        [3.5164],\n",
      "        [3.1749],\n",
      "        [3.9413]], device='cuda:0')\n",
      "              precision    recall  f1-score   support\n",
      "\n",
      "           0       0.53      0.21      0.30      8765\n",
      "           1       0.58      0.86      0.69     11235\n",
      "\n",
      "    accuracy                           0.57     20000\n",
      "   macro avg       0.56      0.53      0.50     20000\n",
      "weighted avg       0.56      0.57      0.52     20000\n",
      "\n",
      "Epoch-93: Loss = 1.756\n",
      "Train RMSE = 1.623||Train Precision = 58.670||Train Recall = 86.782\n",
      "Test RMSE = 1.130 || Test Precision = 58.105|| Test Recall = 85.599\n"
     ]
    },
    {
     "name": "stderr",
     "output_type": "stream",
     "text": [
      "3it [00:08,  2.79s/it]\n"
     ]
    },
    {
     "name": "stdout",
     "output_type": "stream",
     "text": [
      "tensor([[3.3543],\n",
      "        [3.3575],\n",
      "        [3.3539],\n",
      "        ...,\n",
      "        [3.4871],\n",
      "        [3.1388],\n",
      "        [3.9459]], device='cuda:0')\n",
      "              precision    recall  f1-score   support\n",
      "\n",
      "           0       0.52      0.29      0.37      8765\n",
      "           1       0.59      0.79      0.67     11235\n",
      "\n",
      "    accuracy                           0.57     20000\n",
      "   macro avg       0.55      0.54      0.52     20000\n",
      "weighted avg       0.56      0.57      0.54     20000\n",
      "\n",
      "Epoch-94: Loss = 1.752\n",
      "Train RMSE = 1.621||Train Precision = 59.516||Train Recall = 82.913\n",
      "Test RMSE = 1.131 || Test Precision = 58.767|| Test Recall = 79.235\n"
     ]
    },
    {
     "name": "stderr",
     "output_type": "stream",
     "text": [
      "3it [00:08,  2.78s/it]\n"
     ]
    },
    {
     "name": "stdout",
     "output_type": "stream",
     "text": [
      "tensor([[3.3346],\n",
      "        [3.3400],\n",
      "        [3.3343],\n",
      "        ...,\n",
      "        [3.4543],\n",
      "        [3.0998],\n",
      "        [3.8998]], device='cuda:0')\n",
      "              precision    recall  f1-score   support\n",
      "\n",
      "           0       0.52      0.35      0.42      8765\n",
      "           1       0.60      0.74      0.66     11235\n",
      "\n",
      "    accuracy                           0.57     20000\n",
      "   macro avg       0.56      0.55      0.54     20000\n",
      "weighted avg       0.56      0.57      0.56     20000\n",
      "\n",
      "Epoch-95: Loss = 1.752\n",
      "Train RMSE = 1.621||Train Precision = 59.985||Train Recall = 80.768\n",
      "Test RMSE = 1.131 || Test Precision = 59.553|| Test Recall = 74.437\n"
     ]
    },
    {
     "name": "stderr",
     "output_type": "stream",
     "text": [
      "3it [00:08,  2.80s/it]\n"
     ]
    },
    {
     "name": "stdout",
     "output_type": "stream",
     "text": [
      "tensor([[3.3292],\n",
      "        [3.3324],\n",
      "        [3.3298],\n",
      "        ...,\n",
      "        [3.4445],\n",
      "        [3.0824],\n",
      "        [3.8947]], device='cuda:0')\n",
      "              precision    recall  f1-score   support\n",
      "\n",
      "           0       0.51      0.37      0.43      8765\n",
      "           1       0.60      0.72      0.65     11235\n",
      "\n",
      "    accuracy                           0.57     20000\n",
      "   macro avg       0.55      0.55      0.54     20000\n",
      "weighted avg       0.56      0.57      0.56     20000\n",
      "\n",
      "Epoch-96: Loss = 1.753\n",
      "Train RMSE = 1.621||Train Precision = 60.077||Train Recall = 79.684\n",
      "Test RMSE = 1.132 || Test Precision = 59.624|| Test Recall = 72.461\n"
     ]
    },
    {
     "name": "stderr",
     "output_type": "stream",
     "text": [
      "3it [00:08,  2.79s/it]\n"
     ]
    },
    {
     "name": "stdout",
     "output_type": "stream",
     "text": [
      "tensor([[3.3013],\n",
      "        [3.3074],\n",
      "        [3.3013],\n",
      "        ...,\n",
      "        [3.4226],\n",
      "        [3.0570],\n",
      "        [3.8957]], device='cuda:0')\n",
      "              precision    recall  f1-score   support\n",
      "\n",
      "           0       0.51      0.40      0.45      8765\n",
      "           1       0.60      0.70      0.64     11235\n",
      "\n",
      "    accuracy                           0.57     20000\n",
      "   macro avg       0.55      0.55      0.55     20000\n",
      "weighted avg       0.56      0.57      0.56     20000\n",
      "\n",
      "Epoch-97: Loss = 1.751\n",
      "Train RMSE = 1.621||Train Precision = 61.325||Train Recall = 77.038\n",
      "Test RMSE = 1.134 || Test Precision = 59.908|| Test Recall = 69.746\n"
     ]
    },
    {
     "name": "stderr",
     "output_type": "stream",
     "text": [
      "3it [00:08,  2.77s/it]\n"
     ]
    },
    {
     "name": "stdout",
     "output_type": "stream",
     "text": [
      "tensor([[3.2978],\n",
      "        [3.3024],\n",
      "        [3.2980],\n",
      "        ...,\n",
      "        [3.4026],\n",
      "        [3.0536],\n",
      "        [3.8477]], device='cuda:0')\n",
      "              precision    recall  f1-score   support\n",
      "\n",
      "           0       0.51      0.41      0.45      8765\n",
      "           1       0.60      0.69      0.64     11235\n",
      "\n",
      "    accuracy                           0.57     20000\n",
      "   macro avg       0.55      0.55      0.55     20000\n",
      "weighted avg       0.56      0.57      0.56     20000\n",
      "\n",
      "Epoch-98: Loss = 1.749\n",
      "Train RMSE = 1.620||Train Precision = 61.099||Train Recall = 76.353\n",
      "Test RMSE = 1.135 || Test Precision = 59.961|| Test Recall = 69.275\n"
     ]
    },
    {
     "name": "stderr",
     "output_type": "stream",
     "text": [
      "3it [00:08,  2.79s/it]\n"
     ]
    },
    {
     "name": "stdout",
     "output_type": "stream",
     "text": [
      "tensor([[3.3029],\n",
      "        [3.3085],\n",
      "        [3.3029],\n",
      "        ...,\n",
      "        [3.4001],\n",
      "        [3.0363],\n",
      "        [3.8798]], device='cuda:0')\n",
      "              precision    recall  f1-score   support\n",
      "\n",
      "           0       0.51      0.41      0.45      8765\n",
      "           1       0.60      0.69      0.64     11235\n",
      "\n",
      "    accuracy                           0.57     20000\n",
      "   macro avg       0.55      0.55      0.55     20000\n",
      "weighted avg       0.56      0.57      0.56     20000\n",
      "\n",
      "Epoch-99: Loss = 1.746\n",
      "Train RMSE = 1.618||Train Precision = 61.116||Train Recall = 76.572\n",
      "Test RMSE = 1.134 || Test Precision = 59.926|| Test Recall = 69.372\n"
     ]
    },
    {
     "name": "stderr",
     "output_type": "stream",
     "text": [
      "3it [00:08,  2.78s/it]\n"
     ]
    },
    {
     "name": "stdout",
     "output_type": "stream",
     "text": [
      "tensor([[3.2990],\n",
      "        [3.3053],\n",
      "        [3.2988],\n",
      "        ...,\n",
      "        [3.4004],\n",
      "        [3.0364],\n",
      "        [3.8742]], device='cuda:0')\n",
      "              precision    recall  f1-score   support\n",
      "\n",
      "           0       0.51      0.41      0.46      8765\n",
      "           1       0.60      0.69      0.64     11235\n",
      "\n",
      "    accuracy                           0.57     20000\n",
      "   macro avg       0.55      0.55      0.55     20000\n",
      "weighted avg       0.56      0.57      0.56     20000\n",
      "\n",
      "Epoch-100: Loss = 1.748\n",
      "Train RMSE = 1.619||Train Precision = 61.017||Train Recall = 75.677\n",
      "Test RMSE = 1.134 || Test Precision = 60.096|| Test Recall = 68.794\n"
     ]
    },
    {
     "name": "stderr",
     "output_type": "stream",
     "text": [
      "3it [00:08,  2.81s/it]\n"
     ]
    },
    {
     "name": "stdout",
     "output_type": "stream",
     "text": [
      "tensor([[3.3048],\n",
      "        [3.3111],\n",
      "        [3.3044],\n",
      "        ...,\n",
      "        [3.4209],\n",
      "        [3.0620],\n",
      "        [3.8663]], device='cuda:0')\n",
      "              precision    recall  f1-score   support\n",
      "\n",
      "           0       0.51      0.40      0.45      8765\n",
      "           1       0.60      0.70      0.65     11235\n",
      "\n",
      "    accuracy                           0.57     20000\n",
      "   macro avg       0.55      0.55      0.55     20000\n",
      "weighted avg       0.56      0.57      0.56     20000\n",
      "\n",
      "Epoch-101: Loss = 1.751\n",
      "Train RMSE = 1.621||Train Precision = 61.393||Train Recall = 76.751\n",
      "Test RMSE = 1.133 || Test Precision = 59.912|| Test Recall = 69.969\n"
     ]
    },
    {
     "name": "stderr",
     "output_type": "stream",
     "text": [
      "3it [00:08,  2.77s/it]\n"
     ]
    },
    {
     "name": "stdout",
     "output_type": "stream",
     "text": [
      "tensor([[3.3216],\n",
      "        [3.3268],\n",
      "        [3.3237],\n",
      "        ...,\n",
      "        [3.4414],\n",
      "        [3.0818],\n",
      "        [3.9110]], device='cuda:0')\n",
      "              precision    recall  f1-score   support\n",
      "\n",
      "           0       0.51      0.38      0.44      8765\n",
      "           1       0.60      0.71      0.65     11235\n",
      "\n",
      "    accuracy                           0.57     20000\n",
      "   macro avg       0.55      0.55      0.54     20000\n",
      "weighted avg       0.56      0.57      0.56     20000\n",
      "\n",
      "Epoch-102: Loss = 1.753\n",
      "Train RMSE = 1.622||Train Precision = 60.387||Train Recall = 78.966\n",
      "Test RMSE = 1.132 || Test Precision = 59.682|| Test Recall = 71.268\n"
     ]
    },
    {
     "name": "stderr",
     "output_type": "stream",
     "text": [
      "3it [00:08,  2.78s/it]\n"
     ]
    },
    {
     "name": "stdout",
     "output_type": "stream",
     "text": [
      "tensor([[3.3536],\n",
      "        [3.3551],\n",
      "        [3.3527],\n",
      "        ...,\n",
      "        [3.4621],\n",
      "        [3.1038],\n",
      "        [3.9009]], device='cuda:0')\n",
      "              precision    recall  f1-score   support\n",
      "\n",
      "           0       0.52      0.31      0.39      8765\n",
      "           1       0.59      0.78      0.67     11235\n",
      "\n",
      "    accuracy                           0.57     20000\n",
      "   macro avg       0.55      0.54      0.53     20000\n",
      "weighted avg       0.56      0.57      0.55     20000\n",
      "\n",
      "Epoch-103: Loss = 1.749\n",
      "Train RMSE = 1.620||Train Precision = 59.228||Train Recall = 82.474\n",
      "Test RMSE = 1.130 || Test Precision = 58.954|| Test Recall = 77.677\n"
     ]
    },
    {
     "name": "stderr",
     "output_type": "stream",
     "text": [
      "3it [00:08,  2.78s/it]\n"
     ]
    },
    {
     "name": "stdout",
     "output_type": "stream",
     "text": [
      "tensor([[3.3183],\n",
      "        [3.3243],\n",
      "        [3.3182],\n",
      "        ...,\n",
      "        [3.4166],\n",
      "        [3.0569],\n",
      "        [3.8891]], device='cuda:0')\n",
      "              precision    recall  f1-score   support\n",
      "\n",
      "           0       0.51      0.39      0.44      8765\n",
      "           1       0.60      0.71      0.65     11235\n",
      "\n",
      "    accuracy                           0.57     20000\n",
      "   macro avg       0.55      0.55      0.54     20000\n",
      "weighted avg       0.56      0.57      0.56     20000\n",
      "\n",
      "Epoch-104: Loss = 1.749\n",
      "Train RMSE = 1.620||Train Precision = 59.886||Train Recall = 78.255\n",
      "Test RMSE = 1.132 || Test Precision = 59.758|| Test Recall = 70.645\n"
     ]
    },
    {
     "name": "stderr",
     "output_type": "stream",
     "text": [
      "3it [00:08,  2.79s/it]\n"
     ]
    },
    {
     "name": "stdout",
     "output_type": "stream",
     "text": [
      "tensor([[3.3253],\n",
      "        [3.3278],\n",
      "        [3.3255],\n",
      "        ...,\n",
      "        [3.4412],\n",
      "        [3.0852],\n",
      "        [3.8842]], device='cuda:0')\n",
      "              precision    recall  f1-score   support\n",
      "\n",
      "           0       0.51      0.38      0.44      8765\n",
      "           1       0.60      0.71      0.65     11235\n",
      "\n",
      "    accuracy                           0.57     20000\n",
      "   macro avg       0.55      0.55      0.54     20000\n",
      "weighted avg       0.56      0.57      0.56     20000\n",
      "\n",
      "Epoch-105: Loss = 1.751\n",
      "Train RMSE = 1.621||Train Precision = 59.915||Train Recall = 78.885\n",
      "Test RMSE = 1.132 || Test Precision = 59.705|| Test Recall = 71.322\n"
     ]
    },
    {
     "name": "stderr",
     "output_type": "stream",
     "text": [
      "3it [00:08,  2.79s/it]\n"
     ]
    },
    {
     "name": "stdout",
     "output_type": "stream",
     "text": [
      "tensor([[3.3707],\n",
      "        [3.3754],\n",
      "        [3.3707],\n",
      "        ...,\n",
      "        [3.5043],\n",
      "        [3.1449],\n",
      "        [3.9551]], device='cuda:0')\n",
      "              precision    recall  f1-score   support\n",
      "\n",
      "           0       0.52      0.25      0.34      8765\n",
      "           1       0.58      0.82      0.68     11235\n",
      "\n",
      "    accuracy                           0.57     20000\n",
      "   macro avg       0.55      0.53      0.51     20000\n",
      "weighted avg       0.55      0.57      0.53     20000\n",
      "\n",
      "Epoch-106: Loss = 1.749\n",
      "Train RMSE = 1.620||Train Precision = 58.641||Train Recall = 84.702\n",
      "Test RMSE = 1.130 || Test Precision = 58.317|| Test Recall = 81.940\n"
     ]
    },
    {
     "name": "stderr",
     "output_type": "stream",
     "text": [
      "3it [00:08,  2.81s/it]\n"
     ]
    },
    {
     "name": "stdout",
     "output_type": "stream",
     "text": [
      "tensor([[3.3627],\n",
      "        [3.3684],\n",
      "        [3.3617],\n",
      "        ...,\n",
      "        [3.4859],\n",
      "        [3.1393],\n",
      "        [3.9502]], device='cuda:0')\n",
      "              precision    recall  f1-score   support\n",
      "\n",
      "           0       0.52      0.27      0.35      8765\n",
      "           1       0.58      0.80      0.68     11235\n",
      "\n",
      "    accuracy                           0.57     20000\n",
      "   macro avg       0.55      0.54      0.52     20000\n",
      "weighted avg       0.56      0.57      0.54     20000\n",
      "\n",
      "Epoch-107: Loss = 1.750\n",
      "Train RMSE = 1.620||Train Precision = 59.467||Train Recall = 84.950\n",
      "Test RMSE = 1.130 || Test Precision = 58.499|| Test Recall = 80.498\n"
     ]
    },
    {
     "name": "stderr",
     "output_type": "stream",
     "text": [
      "3it [00:08,  2.77s/it]\n"
     ]
    },
    {
     "name": "stdout",
     "output_type": "stream",
     "text": [
      "tensor([[3.3860],\n",
      "        [3.3889],\n",
      "        [3.3814],\n",
      "        ...,\n",
      "        [3.4987],\n",
      "        [3.1599],\n",
      "        [3.9286]], device='cuda:0')\n",
      "              precision    recall  f1-score   support\n",
      "\n",
      "           0       0.52      0.21      0.30      8765\n",
      "           1       0.58      0.85      0.69     11235\n",
      "\n",
      "    accuracy                           0.57     20000\n",
      "   macro avg       0.55      0.53      0.50     20000\n",
      "weighted avg       0.56      0.57      0.52     20000\n",
      "\n",
      "Epoch-108: Loss = 1.750\n",
      "Train RMSE = 1.620||Train Precision = 59.079||Train Recall = 86.502\n",
      "Test RMSE = 1.129 || Test Precision = 58.048|| Test Recall = 84.806\n"
     ]
    },
    {
     "name": "stderr",
     "output_type": "stream",
     "text": [
      "3it [00:08,  2.81s/it]\n"
     ]
    },
    {
     "name": "stdout",
     "output_type": "stream",
     "text": [
      "tensor([[3.3808],\n",
      "        [3.3855],\n",
      "        [3.3793],\n",
      "        ...,\n",
      "        [3.5127],\n",
      "        [3.1547],\n",
      "        [3.9702]], device='cuda:0')\n",
      "              precision    recall  f1-score   support\n",
      "\n",
      "           0       0.52      0.22      0.31      8765\n",
      "           1       0.58      0.84      0.69     11235\n",
      "\n",
      "    accuracy                           0.57     20000\n",
      "   macro avg       0.55      0.53      0.50     20000\n",
      "weighted avg       0.55      0.57      0.52     20000\n",
      "\n",
      "Epoch-109: Loss = 1.747\n",
      "Train RMSE = 1.619||Train Precision = 59.076||Train Recall = 85.978\n",
      "Test RMSE = 1.129 || Test Precision = 58.044|| Test Recall = 83.747\n"
     ]
    },
    {
     "name": "stderr",
     "output_type": "stream",
     "text": [
      "3it [00:08,  2.77s/it]\n"
     ]
    },
    {
     "name": "stdout",
     "output_type": "stream",
     "text": [
      "tensor([[3.3740],\n",
      "        [3.3805],\n",
      "        [3.3741],\n",
      "        ...,\n",
      "        [3.5014],\n",
      "        [3.1650],\n",
      "        [3.9348]], device='cuda:0')\n",
      "              precision    recall  f1-score   support\n",
      "\n",
      "           0       0.52      0.23      0.32      8765\n",
      "           1       0.58      0.84      0.69     11235\n",
      "\n",
      "    accuracy                           0.57     20000\n",
      "   macro avg       0.55      0.53      0.50     20000\n",
      "weighted avg       0.56      0.57      0.53     20000\n",
      "\n",
      "Epoch-110: Loss = 1.750\n",
      "Train RMSE = 1.620||Train Precision = 58.592||Train Recall = 86.114\n",
      "Test RMSE = 1.129 || Test Precision = 58.262|| Test Recall = 83.507\n"
     ]
    },
    {
     "name": "stderr",
     "output_type": "stream",
     "text": [
      "3it [00:08,  2.76s/it]\n"
     ]
    },
    {
     "name": "stdout",
     "output_type": "stream",
     "text": [
      "tensor([[3.3481],\n",
      "        [3.3536],\n",
      "        [3.3486],\n",
      "        ...,\n",
      "        [3.4586],\n",
      "        [3.0959],\n",
      "        [3.9286]], device='cuda:0')\n",
      "              precision    recall  f1-score   support\n",
      "\n",
      "           0       0.52      0.32      0.39      8765\n",
      "           1       0.59      0.77      0.67     11235\n",
      "\n",
      "    accuracy                           0.57     20000\n",
      "   macro avg       0.55      0.54      0.53     20000\n",
      "weighted avg       0.56      0.57      0.55     20000\n",
      "\n",
      "Epoch-111: Loss = 1.748\n",
      "Train RMSE = 1.619||Train Precision = 60.092||Train Recall = 82.955\n",
      "Test RMSE = 1.130 || Test Precision = 59.120|| Test Recall = 77.000\n"
     ]
    },
    {
     "name": "stderr",
     "output_type": "stream",
     "text": [
      "3it [00:08,  2.80s/it]\n"
     ]
    },
    {
     "name": "stdout",
     "output_type": "stream",
     "text": [
      "tensor([[3.3628],\n",
      "        [3.3703],\n",
      "        [3.3645],\n",
      "        ...,\n",
      "        [3.4759],\n",
      "        [3.1348],\n",
      "        [3.9125]], device='cuda:0')\n",
      "              precision    recall  f1-score   support\n",
      "\n",
      "           0       0.52      0.27      0.35      8765\n",
      "           1       0.58      0.80      0.68     11235\n",
      "\n",
      "    accuracy                           0.57     20000\n",
      "   macro avg       0.55      0.54      0.51     20000\n",
      "weighted avg       0.55      0.57      0.53     20000\n",
      "\n",
      "Epoch-112: Loss = 1.749\n",
      "Train RMSE = 1.620||Train Precision = 59.069||Train Recall = 84.367\n",
      "Test RMSE = 1.129 || Test Precision = 58.453|| Test Recall = 80.294\n"
     ]
    },
    {
     "name": "stderr",
     "output_type": "stream",
     "text": [
      "3it [00:08,  2.80s/it]\n"
     ]
    },
    {
     "name": "stdout",
     "output_type": "stream",
     "text": [
      "tensor([[3.3645],\n",
      "        [3.3681],\n",
      "        [3.3640],\n",
      "        ...,\n",
      "        [3.4878],\n",
      "        [3.1442],\n",
      "        [3.9591]], device='cuda:0')\n",
      "              precision    recall  f1-score   support\n",
      "\n",
      "           0       0.52      0.26      0.35      8765\n",
      "           1       0.58      0.81      0.68     11235\n",
      "\n",
      "    accuracy                           0.57     20000\n",
      "   macro avg       0.55      0.54      0.51     20000\n",
      "weighted avg       0.55      0.57      0.53     20000\n",
      "\n",
      "Epoch-113: Loss = 1.748\n",
      "Train RMSE = 1.619||Train Precision = 59.095||Train Recall = 84.750\n",
      "Test RMSE = 1.129 || Test Precision = 58.450|| Test Recall = 80.748\n"
     ]
    },
    {
     "name": "stderr",
     "output_type": "stream",
     "text": [
      "3it [00:08,  2.80s/it]\n"
     ]
    },
    {
     "name": "stdout",
     "output_type": "stream",
     "text": [
      "tensor([[3.3648],\n",
      "        [3.3698],\n",
      "        [3.3647],\n",
      "        ...,\n",
      "        [3.4730],\n",
      "        [3.1262],\n",
      "        [3.9296]], device='cuda:0')\n",
      "              precision    recall  f1-score   support\n",
      "\n",
      "           0       0.51      0.27      0.35      8765\n",
      "           1       0.58      0.80      0.68     11235\n",
      "\n",
      "    accuracy                           0.57     20000\n",
      "   macro avg       0.55      0.53      0.51     20000\n",
      "weighted avg       0.55      0.57      0.53     20000\n",
      "\n",
      "Epoch-114: Loss = 1.749\n",
      "Train RMSE = 1.620||Train Precision = 58.799||Train Recall = 84.605\n",
      "Test RMSE = 1.129 || Test Precision = 58.382|| Test Recall = 80.374\n"
     ]
    },
    {
     "name": "stderr",
     "output_type": "stream",
     "text": [
      "3it [00:08,  2.79s/it]\n"
     ]
    },
    {
     "name": "stdout",
     "output_type": "stream",
     "text": [
      "tensor([[3.3536],\n",
      "        [3.3594],\n",
      "        [3.3538],\n",
      "        ...,\n",
      "        [3.4576],\n",
      "        [3.1091],\n",
      "        [3.9234]], device='cuda:0')\n",
      "              precision    recall  f1-score   support\n",
      "\n",
      "           0       0.52      0.30      0.38      8765\n",
      "           1       0.59      0.78      0.67     11235\n",
      "\n",
      "    accuracy                           0.57     20000\n",
      "   macro avg       0.55      0.54      0.53     20000\n",
      "weighted avg       0.56      0.57      0.54     20000\n",
      "\n",
      "Epoch-115: Loss = 1.750\n",
      "Train RMSE = 1.620||Train Precision = 59.167||Train Recall = 82.832\n",
      "Test RMSE = 1.129 || Test Precision = 58.930|| Test Recall = 78.060\n"
     ]
    },
    {
     "name": "stderr",
     "output_type": "stream",
     "text": [
      "3it [00:08,  2.80s/it]\n"
     ]
    },
    {
     "name": "stdout",
     "output_type": "stream",
     "text": [
      "tensor([[3.2927],\n",
      "        [3.2954],\n",
      "        [3.2923],\n",
      "        ...,\n",
      "        [3.3923],\n",
      "        [3.0397],\n",
      "        [3.8717]], device='cuda:0')\n",
      "              precision    recall  f1-score   support\n",
      "\n",
      "           0       0.51      0.43      0.47      8765\n",
      "           1       0.60      0.67      0.64     11235\n",
      "\n",
      "    accuracy                           0.57     20000\n",
      "   macro avg       0.56      0.55      0.55     20000\n",
      "weighted avg       0.56      0.57      0.56     20000\n",
      "\n",
      "Epoch-116: Loss = 1.749\n",
      "Train RMSE = 1.620||Train Precision = 61.771||Train Recall = 74.785\n",
      "Test RMSE = 1.133 || Test Precision = 60.448|| Test Recall = 67.486\n"
     ]
    },
    {
     "name": "stderr",
     "output_type": "stream",
     "text": [
      "3it [00:08,  2.78s/it]\n"
     ]
    },
    {
     "name": "stdout",
     "output_type": "stream",
     "text": [
      "tensor([[3.2914],\n",
      "        [3.2987],\n",
      "        [3.2916],\n",
      "        ...,\n",
      "        [3.3881],\n",
      "        [3.0317],\n",
      "        [3.8555]], device='cuda:0')\n",
      "              precision    recall  f1-score   support\n",
      "\n",
      "           0       0.51      0.44      0.47      8765\n",
      "           1       0.60      0.67      0.64     11235\n",
      "\n",
      "    accuracy                           0.57     20000\n",
      "   macro avg       0.56      0.55      0.55     20000\n",
      "weighted avg       0.56      0.57      0.56     20000\n",
      "\n",
      "Epoch-117: Loss = 1.747\n",
      "Train RMSE = 1.619||Train Precision = 61.730||Train Recall = 74.864\n",
      "Test RMSE = 1.134 || Test Precision = 60.446|| Test Recall = 67.263\n"
     ]
    },
    {
     "name": "stderr",
     "output_type": "stream",
     "text": [
      "3it [00:08,  2.81s/it]\n"
     ]
    },
    {
     "name": "stdout",
     "output_type": "stream",
     "text": [
      "tensor([[3.3121],\n",
      "        [3.3170],\n",
      "        [3.3100],\n",
      "        ...,\n",
      "        [3.4020],\n",
      "        [3.0521],\n",
      "        [3.8950]], device='cuda:0')\n",
      "              precision    recall  f1-score   support\n",
      "\n",
      "           0       0.51      0.38      0.44      8765\n",
      "           1       0.60      0.71      0.65     11235\n",
      "\n",
      "    accuracy                           0.57     20000\n",
      "   macro avg       0.55      0.55      0.54     20000\n",
      "weighted avg       0.56      0.57      0.56     20000\n",
      "\n",
      "Epoch-118: Loss = 1.746\n",
      "Train RMSE = 1.618||Train Precision = 60.982||Train Recall = 77.876\n",
      "Test RMSE = 1.131 || Test Precision = 59.588|| Test Recall = 70.752\n"
     ]
    },
    {
     "name": "stderr",
     "output_type": "stream",
     "text": [
      "3it [00:08,  2.78s/it]\n"
     ]
    },
    {
     "name": "stdout",
     "output_type": "stream",
     "text": [
      "tensor([[3.3270],\n",
      "        [3.3326],\n",
      "        [3.3269],\n",
      "        ...,\n",
      "        [3.4162],\n",
      "        [3.0649],\n",
      "        [3.8658]], device='cuda:0')\n",
      "              precision    recall  f1-score   support\n",
      "\n",
      "           0       0.51      0.37      0.43      8765\n",
      "           1       0.59      0.72      0.65     11235\n",
      "\n",
      "    accuracy                           0.57     20000\n",
      "   macro avg       0.55      0.55      0.54     20000\n",
      "weighted avg       0.56      0.57      0.55     20000\n",
      "\n",
      "Epoch-119: Loss = 1.744\n",
      "Train RMSE = 1.618||Train Precision = 60.387||Train Recall = 78.922\n",
      "Test RMSE = 1.131 || Test Precision = 59.469|| Test Recall = 71.633\n"
     ]
    },
    {
     "name": "stderr",
     "output_type": "stream",
     "text": [
      "3it [00:08,  2.81s/it]\n"
     ]
    },
    {
     "name": "stdout",
     "output_type": "stream",
     "text": [
      "tensor([[3.3255],\n",
      "        [3.3321],\n",
      "        [3.3257],\n",
      "        ...,\n",
      "        [3.4374],\n",
      "        [3.0654],\n",
      "        [3.9296]], device='cuda:0')\n",
      "              precision    recall  f1-score   support\n",
      "\n",
      "           0       0.51      0.37      0.43      8765\n",
      "           1       0.59      0.72      0.65     11235\n",
      "\n",
      "    accuracy                           0.57     20000\n",
      "   macro avg       0.55      0.54      0.54     20000\n",
      "weighted avg       0.56      0.57      0.55     20000\n",
      "\n",
      "Epoch-120: Loss = 1.745\n",
      "Train RMSE = 1.618||Train Precision = 60.627||Train Recall = 79.056\n",
      "Test RMSE = 1.130 || Test Precision = 59.426|| Test Recall = 71.687\n"
     ]
    },
    {
     "name": "stderr",
     "output_type": "stream",
     "text": [
      "3it [00:08,  2.76s/it]\n"
     ]
    },
    {
     "name": "stdout",
     "output_type": "stream",
     "text": [
      "tensor([[3.3415],\n",
      "        [3.3454],\n",
      "        [3.3399],\n",
      "        ...,\n",
      "        [3.4347],\n",
      "        [3.0937],\n",
      "        [3.8952]], device='cuda:0')\n",
      "              precision    recall  f1-score   support\n",
      "\n",
      "           0       0.51      0.34      0.41      8765\n",
      "           1       0.59      0.75      0.66     11235\n",
      "\n",
      "    accuracy                           0.57     20000\n",
      "   macro avg       0.55      0.54      0.54     20000\n",
      "weighted avg       0.56      0.57      0.55     20000\n",
      "\n",
      "Epoch-121: Loss = 1.743\n",
      "Train RMSE = 1.617||Train Precision = 60.226||Train Recall = 81.152\n",
      "Test RMSE = 1.130 || Test Precision = 59.272|| Test Recall = 74.909\n"
     ]
    },
    {
     "name": "stderr",
     "output_type": "stream",
     "text": [
      "3it [00:08,  2.80s/it]\n"
     ]
    },
    {
     "name": "stdout",
     "output_type": "stream",
     "text": [
      "tensor([[3.2970],\n",
      "        [3.3028],\n",
      "        [3.2967],\n",
      "        ...,\n",
      "        [3.3817],\n",
      "        [3.0294],\n",
      "        [3.8930]], device='cuda:0')\n",
      "              precision    recall  f1-score   support\n",
      "\n",
      "           0       0.51      0.42      0.46      8765\n",
      "           1       0.60      0.68      0.64     11235\n",
      "\n",
      "    accuracy                           0.57     20000\n",
      "   macro avg       0.55      0.55      0.55     20000\n",
      "weighted avg       0.56      0.57      0.56     20000\n",
      "\n",
      "Epoch-122: Loss = 1.747\n",
      "Train RMSE = 1.619||Train Precision = 61.845||Train Recall = 76.110\n",
      "Test RMSE = 1.132 || Test Precision = 60.130|| Test Recall = 68.126\n"
     ]
    },
    {
     "name": "stderr",
     "output_type": "stream",
     "text": [
      "3it [00:08,  2.78s/it]\n"
     ]
    },
    {
     "name": "stdout",
     "output_type": "stream",
     "text": [
      "tensor([[3.3365],\n",
      "        [3.3396],\n",
      "        [3.3344],\n",
      "        ...,\n",
      "        [3.4211],\n",
      "        [3.0898],\n",
      "        [3.8698]], device='cuda:0')\n",
      "              precision    recall  f1-score   support\n",
      "\n",
      "           0       0.51      0.35      0.42      8765\n",
      "           1       0.59      0.73      0.66     11235\n",
      "\n",
      "    accuracy                           0.57     20000\n",
      "   macro avg       0.55      0.54      0.54     20000\n",
      "weighted avg       0.56      0.57      0.55     20000\n",
      "\n",
      "Epoch-123: Loss = 1.743\n",
      "Train RMSE = 1.617||Train Precision = 60.138||Train Recall = 80.517\n",
      "Test RMSE = 1.130 || Test Precision = 59.327|| Test Recall = 73.485\n"
     ]
    },
    {
     "name": "stderr",
     "output_type": "stream",
     "text": [
      "3it [00:08,  2.77s/it]\n"
     ]
    },
    {
     "name": "stdout",
     "output_type": "stream",
     "text": [
      "tensor([[3.3120],\n",
      "        [3.3147],\n",
      "        [3.3094],\n",
      "        ...,\n",
      "        [3.4126],\n",
      "        [3.0505],\n",
      "        [3.9148]], device='cuda:0')\n",
      "              precision    recall  f1-score   support\n",
      "\n",
      "           0       0.51      0.39      0.44      8765\n",
      "           1       0.60      0.70      0.65     11235\n",
      "\n",
      "    accuracy                           0.57     20000\n",
      "   macro avg       0.55      0.55      0.54     20000\n",
      "weighted avg       0.56      0.57      0.56     20000\n",
      "\n",
      "Epoch-124: Loss = 1.746\n",
      "Train RMSE = 1.619||Train Precision = 61.117||Train Recall = 77.629\n",
      "Test RMSE = 1.131 || Test Precision = 59.740|| Test Recall = 70.316\n"
     ]
    },
    {
     "name": "stderr",
     "output_type": "stream",
     "text": [
      "3it [00:08,  2.77s/it]\n"
     ]
    },
    {
     "name": "stdout",
     "output_type": "stream",
     "text": [
      "tensor([[3.3716],\n",
      "        [3.3745],\n",
      "        [3.3709],\n",
      "        ...,\n",
      "        [3.4771],\n",
      "        [3.1350],\n",
      "        [3.9032]], device='cuda:0')\n",
      "              precision    recall  f1-score   support\n",
      "\n",
      "           0       0.52      0.24      0.33      8765\n",
      "           1       0.58      0.82      0.68     11235\n",
      "\n",
      "    accuracy                           0.57     20000\n",
      "   macro avg       0.55      0.53      0.50     20000\n",
      "weighted avg       0.55      0.57      0.53     20000\n",
      "\n",
      "Epoch-125: Loss = 1.745\n",
      "Train RMSE = 1.618||Train Precision = 58.815||Train Recall = 84.934\n",
      "Test RMSE = 1.128 || Test Precision = 58.147|| Test Recall = 82.394\n"
     ]
    },
    {
     "name": "stderr",
     "output_type": "stream",
     "text": [
      "3it [00:08,  2.77s/it]\n"
     ]
    },
    {
     "name": "stdout",
     "output_type": "stream",
     "text": [
      "tensor([[3.3456],\n",
      "        [3.3508],\n",
      "        [3.3421],\n",
      "        ...,\n",
      "        [3.4552],\n",
      "        [3.0801],\n",
      "        [3.9412]], device='cuda:0')\n",
      "              precision    recall  f1-score   support\n",
      "\n",
      "           0       0.51      0.34      0.41      8765\n",
      "           1       0.59      0.75      0.66     11235\n",
      "\n",
      "    accuracy                           0.57     20000\n",
      "   macro avg       0.55      0.54      0.53     20000\n",
      "weighted avg       0.56      0.57      0.55     20000\n",
      "\n",
      "Epoch-126: Loss = 1.746\n",
      "Train RMSE = 1.618||Train Precision = 59.610||Train Recall = 81.176\n",
      "Test RMSE = 1.129 || Test Precision = 59.190|| Test Recall = 74.838\n"
     ]
    },
    {
     "name": "stderr",
     "output_type": "stream",
     "text": [
      "3it [00:08,  2.79s/it]\n"
     ]
    },
    {
     "name": "stdout",
     "output_type": "stream",
     "text": [
      "tensor([[3.2696],\n",
      "        [3.2768],\n",
      "        [3.2699],\n",
      "        ...,\n",
      "        [3.3541],\n",
      "        [2.9916],\n",
      "        [3.8235]], device='cuda:0')\n",
      "              precision    recall  f1-score   support\n",
      "\n",
      "           0       0.51      0.47      0.49      8765\n",
      "           1       0.61      0.64      0.62     11235\n",
      "\n",
      "    accuracy                           0.57     20000\n",
      "   macro avg       0.56      0.56      0.56     20000\n",
      "weighted avg       0.56      0.57      0.56     20000\n",
      "\n",
      "Epoch-127: Loss = 1.749\n",
      "Train RMSE = 1.620||Train Precision = 62.684||Train Recall = 73.261\n",
      "Test RMSE = 1.135 || Test Precision = 60.857|| Test Recall = 63.810\n"
     ]
    },
    {
     "name": "stderr",
     "output_type": "stream",
     "text": [
      "3it [00:08,  2.79s/it]\n"
     ]
    },
    {
     "name": "stdout",
     "output_type": "stream",
     "text": [
      "tensor([[3.2260],\n",
      "        [3.2303],\n",
      "        [3.2217],\n",
      "        ...,\n",
      "        [3.3096],\n",
      "        [2.9444],\n",
      "        [3.8144]], device='cuda:0')\n",
      "              precision    recall  f1-score   support\n",
      "\n",
      "           0       0.49      0.57      0.53      8765\n",
      "           1       0.62      0.54      0.58     11235\n",
      "\n",
      "    accuracy                           0.55     20000\n",
      "   macro avg       0.55      0.56      0.55     20000\n",
      "weighted avg       0.56      0.55      0.56     20000\n",
      "\n",
      "Epoch-128: Loss = 1.747\n",
      "Train RMSE = 1.619||Train Precision = 62.623||Train Recall = 67.204\n",
      "Test RMSE = 1.140 || Test Precision = 61.718|| Test Recall = 54.170\n"
     ]
    },
    {
     "name": "stderr",
     "output_type": "stream",
     "text": [
      "3it [00:08,  2.81s/it]\n"
     ]
    },
    {
     "name": "stdout",
     "output_type": "stream",
     "text": [
      "tensor([[3.2449],\n",
      "        [3.2510],\n",
      "        [3.2442],\n",
      "        ...,\n",
      "        [3.3174],\n",
      "        [2.9583],\n",
      "        [3.7990]], device='cuda:0')\n",
      "              precision    recall  f1-score   support\n",
      "\n",
      "           0       0.49      0.52      0.51      8765\n",
      "           1       0.61      0.59      0.60     11235\n",
      "\n",
      "    accuracy                           0.56     20000\n",
      "   macro avg       0.55      0.55      0.55     20000\n",
      "weighted avg       0.56      0.56      0.56     20000\n",
      "\n",
      "Epoch-129: Loss = 1.746\n",
      "Train RMSE = 1.618||Train Precision = 62.932||Train Recall = 69.553\n",
      "Test RMSE = 1.138 || Test Precision = 60.990|| Test Recall = 58.585\n"
     ]
    },
    {
     "name": "stderr",
     "output_type": "stream",
     "text": [
      "3it [00:08,  2.77s/it]\n"
     ]
    },
    {
     "name": "stdout",
     "output_type": "stream",
     "text": [
      "tensor([[3.2734],\n",
      "        [3.2758],\n",
      "        [3.2736],\n",
      "        ...,\n",
      "        [3.3587],\n",
      "        [2.9925],\n",
      "        [3.8498]], device='cuda:0')\n",
      "              precision    recall  f1-score   support\n",
      "\n",
      "           0       0.50      0.47      0.49      8765\n",
      "           1       0.61      0.64      0.62     11235\n",
      "\n",
      "    accuracy                           0.57     20000\n",
      "   macro avg       0.56      0.55      0.55     20000\n",
      "weighted avg       0.56      0.57      0.56     20000\n",
      "\n",
      "Epoch-130: Loss = 1.743\n",
      "Train RMSE = 1.617||Train Precision = 62.488||Train Recall = 73.109\n",
      "Test RMSE = 1.134 || Test Precision = 60.699|| Test Recall = 64.032\n"
     ]
    },
    {
     "name": "stderr",
     "output_type": "stream",
     "text": [
      "3it [00:08,  2.80s/it]\n"
     ]
    },
    {
     "name": "stdout",
     "output_type": "stream",
     "text": [
      "tensor([[3.2772],\n",
      "        [3.2819],\n",
      "        [3.2768],\n",
      "        ...,\n",
      "        [3.3717],\n",
      "        [2.9997],\n",
      "        [3.8687]], device='cuda:0')\n",
      "              precision    recall  f1-score   support\n",
      "\n",
      "           0       0.50      0.45      0.47      8765\n",
      "           1       0.60      0.65      0.63     11235\n",
      "\n",
      "    accuracy                           0.56     20000\n",
      "   macro avg       0.55      0.55      0.55     20000\n",
      "weighted avg       0.56      0.56      0.56     20000\n",
      "\n",
      "Epoch-131: Loss = 1.740\n",
      "Train RMSE = 1.616||Train Precision = 62.320||Train Recall = 74.075\n",
      "Test RMSE = 1.133 || Test Precision = 60.318|| Test Recall = 65.251\n"
     ]
    },
    {
     "name": "stderr",
     "output_type": "stream",
     "text": [
      "3it [00:08,  2.76s/it]\n"
     ]
    },
    {
     "name": "stdout",
     "output_type": "stream",
     "text": [
      "tensor([[3.2991],\n",
      "        [3.3052],\n",
      "        [3.2992],\n",
      "        ...,\n",
      "        [3.3852],\n",
      "        [3.0326],\n",
      "        [3.8527]], device='cuda:0')\n",
      "              precision    recall  f1-score   support\n",
      "\n",
      "           0       0.51      0.41      0.45      8765\n",
      "           1       0.60      0.69      0.64     11235\n",
      "\n",
      "    accuracy                           0.57     20000\n",
      "   macro avg       0.55      0.55      0.55     20000\n",
      "weighted avg       0.56      0.57      0.56     20000\n",
      "\n",
      "Epoch-132: Loss = 1.742\n",
      "Train RMSE = 1.616||Train Precision = 61.076||Train Recall = 76.101\n",
      "Test RMSE = 1.131 || Test Precision = 60.060|| Test Recall = 69.079\n"
     ]
    },
    {
     "name": "stderr",
     "output_type": "stream",
     "text": [
      "3it [00:08,  2.80s/it]\n"
     ]
    },
    {
     "name": "stdout",
     "output_type": "stream",
     "text": [
      "tensor([[3.2118],\n",
      "        [3.2161],\n",
      "        [3.2124],\n",
      "        ...,\n",
      "        [3.2900],\n",
      "        [2.9143],\n",
      "        [3.8099]], device='cuda:0')\n",
      "              precision    recall  f1-score   support\n",
      "\n",
      "           0       0.49      0.60      0.54      8765\n",
      "           1       0.62      0.50      0.55     11235\n",
      "\n",
      "    accuracy                           0.55     20000\n",
      "   macro avg       0.55      0.55      0.55     20000\n",
      "weighted avg       0.56      0.55      0.55     20000\n",
      "\n",
      "Epoch-133: Loss = 1.743\n",
      "Train RMSE = 1.617||Train Precision = 63.270||Train Recall = 65.421\n",
      "Test RMSE = 1.142 || Test Precision = 61.738|| Test Recall = 50.396\n"
     ]
    },
    {
     "name": "stderr",
     "output_type": "stream",
     "text": [
      "3it [00:08,  2.77s/it]\n"
     ]
    },
    {
     "name": "stdout",
     "output_type": "stream",
     "text": [
      "tensor([[3.2514],\n",
      "        [3.2569],\n",
      "        [3.2524],\n",
      "        ...,\n",
      "        [3.3284],\n",
      "        [2.9611],\n",
      "        [3.8084]], device='cuda:0')\n",
      "              precision    recall  f1-score   support\n",
      "\n",
      "           0       0.50      0.52      0.51      8765\n",
      "           1       0.61      0.59      0.60     11235\n",
      "\n",
      "    accuracy                           0.56     20000\n",
      "   macro avg       0.56      0.56      0.56     20000\n",
      "weighted avg       0.56      0.56      0.56     20000\n",
      "\n",
      "Epoch-134: Loss = 1.742\n",
      "Train RMSE = 1.617||Train Precision = 62.610||Train Recall = 70.806\n",
      "Test RMSE = 1.136 || Test Precision = 61.418|| Test Recall = 59.368\n"
     ]
    },
    {
     "name": "stderr",
     "output_type": "stream",
     "text": [
      "3it [00:08,  2.80s/it]\n"
     ]
    },
    {
     "name": "stdout",
     "output_type": "stream",
     "text": [
      "tensor([[3.2771],\n",
      "        [3.2830],\n",
      "        [3.2777],\n",
      "        ...,\n",
      "        [3.3680],\n",
      "        [2.9990],\n",
      "        [3.8410]], device='cuda:0')\n",
      "              precision    recall  f1-score   support\n",
      "\n",
      "           0       0.50      0.46      0.48      8765\n",
      "           1       0.61      0.65      0.63     11235\n",
      "\n",
      "    accuracy                           0.57     20000\n",
      "   macro avg       0.56      0.55      0.55     20000\n",
      "weighted avg       0.56      0.57      0.56     20000\n",
      "\n",
      "Epoch-135: Loss = 1.747\n",
      "Train RMSE = 1.619||Train Precision = 61.608||Train Recall = 72.846\n",
      "Test RMSE = 1.133 || Test Precision = 60.626|| Test Recall = 64.673\n"
     ]
    },
    {
     "name": "stderr",
     "output_type": "stream",
     "text": [
      "3it [00:08,  2.78s/it]\n"
     ]
    },
    {
     "name": "stdout",
     "output_type": "stream",
     "text": [
      "tensor([[3.3240],\n",
      "        [3.3289],\n",
      "        [3.3234],\n",
      "        ...,\n",
      "        [3.4209],\n",
      "        [3.0628],\n",
      "        [3.9059]], device='cuda:0')\n",
      "              precision    recall  f1-score   support\n",
      "\n",
      "           0       0.51      0.38      0.43      8765\n",
      "           1       0.59      0.72      0.65     11235\n",
      "\n",
      "    accuracy                           0.57     20000\n",
      "   macro avg       0.55      0.55      0.54     20000\n",
      "weighted avg       0.56      0.57      0.55     20000\n",
      "\n",
      "Epoch-136: Loss = 1.752\n",
      "Train RMSE = 1.621||Train Precision = 60.611||Train Recall = 79.053\n",
      "Test RMSE = 1.128 || Test Precision = 59.498|| Test Recall = 71.535\n"
     ]
    },
    {
     "name": "stderr",
     "output_type": "stream",
     "text": [
      "3it [00:08,  2.77s/it]\n"
     ]
    },
    {
     "name": "stdout",
     "output_type": "stream",
     "text": [
      "tensor([[3.4485],\n",
      "        [3.4533],\n",
      "        [3.4474],\n",
      "        ...,\n",
      "        [3.5758],\n",
      "        [3.2542],\n",
      "        [4.0004]], device='cuda:0')\n",
      "              precision    recall  f1-score   support\n",
      "\n",
      "           0       0.57      0.11      0.18      8765\n",
      "           1       0.57      0.94      0.71     11235\n",
      "\n",
      "    accuracy                           0.57     20000\n",
      "   macro avg       0.57      0.52      0.45     20000\n",
      "weighted avg       0.57      0.57      0.48     20000\n",
      "\n",
      "Epoch-137: Loss = 1.750\n",
      "Train RMSE = 1.620||Train Precision = 57.173||Train Recall = 93.199\n",
      "Test RMSE = 1.128 || Test Precision = 57.325|| Test Recall = 93.583\n"
     ]
    },
    {
     "name": "stderr",
     "output_type": "stream",
     "text": [
      "3it [00:08,  2.78s/it]\n"
     ]
    },
    {
     "name": "stdout",
     "output_type": "stream",
     "text": [
      "tensor([[3.3942],\n",
      "        [3.4013],\n",
      "        [3.3934],\n",
      "        ...,\n",
      "        [3.5198],\n",
      "        [3.1881],\n",
      "        [3.9950]], device='cuda:0')\n",
      "              precision    recall  f1-score   support\n",
      "\n",
      "           0       0.56      0.15      0.23      8765\n",
      "           1       0.58      0.91      0.71     11235\n",
      "\n",
      "    accuracy                           0.57     20000\n",
      "   macro avg       0.57      0.53      0.47     20000\n",
      "weighted avg       0.57      0.57      0.50     20000\n",
      "\n",
      "Epoch-138: Loss = 1.753\n",
      "Train RMSE = 1.621||Train Precision = 57.800||Train Recall = 89.968\n",
      "Test RMSE = 1.126 || Test Precision = 57.719|| Test Recall = 90.779\n"
     ]
    },
    {
     "name": "stderr",
     "output_type": "stream",
     "text": [
      "3it [00:08,  2.77s/it]\n"
     ]
    },
    {
     "name": "stdout",
     "output_type": "stream",
     "text": [
      "tensor([[3.3615],\n",
      "        [3.3662],\n",
      "        [3.3615],\n",
      "        ...,\n",
      "        [3.4520],\n",
      "        [3.1297],\n",
      "        [3.9178]], device='cuda:0')\n",
      "              precision    recall  f1-score   support\n",
      "\n",
      "           0       0.53      0.22      0.31      8765\n",
      "           1       0.58      0.84      0.69     11235\n",
      "\n",
      "    accuracy                           0.57     20000\n",
      "   macro avg       0.55      0.53      0.50     20000\n",
      "weighted avg       0.56      0.57      0.52     20000\n",
      "\n",
      "Epoch-139: Loss = 1.746\n",
      "Train RMSE = 1.618||Train Precision = 58.335||Train Recall = 86.706\n",
      "Test RMSE = 1.126 || Test Precision = 58.179|| Test Recall = 84.174\n"
     ]
    },
    {
     "name": "stderr",
     "output_type": "stream",
     "text": [
      "3it [00:08,  2.79s/it]\n"
     ]
    },
    {
     "name": "stdout",
     "output_type": "stream",
     "text": [
      "tensor([[3.3370],\n",
      "        [3.3442],\n",
      "        [3.3347],\n",
      "        ...,\n",
      "        [3.4370],\n",
      "        [3.1000],\n",
      "        [3.9180]], device='cuda:0')\n",
      "              precision    recall  f1-score   support\n",
      "\n",
      "           0       0.51      0.35      0.42      8765\n",
      "           1       0.59      0.74      0.66     11235\n",
      "\n",
      "    accuracy                           0.57     20000\n",
      "   macro avg       0.55      0.55      0.54     20000\n",
      "weighted avg       0.56      0.57      0.55     20000\n",
      "\n",
      "Epoch-140: Loss = 1.741\n",
      "Train RMSE = 1.616||Train Precision = 59.623||Train Recall = 80.934\n",
      "Test RMSE = 1.127 || Test Precision = 59.387|| Test Recall = 74.304\n"
     ]
    },
    {
     "name": "stderr",
     "output_type": "stream",
     "text": [
      "3it [00:08,  2.76s/it]\n"
     ]
    },
    {
     "name": "stdout",
     "output_type": "stream",
     "text": [
      "tensor([[3.3504],\n",
      "        [3.3557],\n",
      "        [3.3495],\n",
      "        ...,\n",
      "        [3.4536],\n",
      "        [3.0954],\n",
      "        [3.9042]], device='cuda:0')\n",
      "              precision    recall  f1-score   support\n",
      "\n",
      "           0       0.52      0.31      0.39      8765\n",
      "           1       0.59      0.77      0.67     11235\n",
      "\n",
      "    accuracy                           0.57     20000\n",
      "   macro avg       0.55      0.54      0.53     20000\n",
      "weighted avg       0.56      0.57      0.55     20000\n",
      "\n",
      "Epoch-141: Loss = 1.740\n",
      "Train RMSE = 1.615||Train Precision = 59.271||Train Recall = 82.834\n",
      "Test RMSE = 1.126 || Test Precision = 58.980|| Test Recall = 77.285\n"
     ]
    },
    {
     "name": "stderr",
     "output_type": "stream",
     "text": [
      "3it [00:08,  2.79s/it]\n"
     ]
    },
    {
     "name": "stdout",
     "output_type": "stream",
     "text": [
      "tensor([[3.3647],\n",
      "        [3.3704],\n",
      "        [3.3644],\n",
      "        ...,\n",
      "        [3.4832],\n",
      "        [3.1217],\n",
      "        [3.9224]], device='cuda:0')\n",
      "              precision    recall  f1-score   support\n",
      "\n",
      "           0       0.52      0.21      0.30      8765\n",
      "           1       0.58      0.85      0.69     11235\n",
      "\n",
      "    accuracy                           0.57     20000\n",
      "   macro avg       0.55      0.53      0.49     20000\n",
      "weighted avg       0.55      0.57      0.52     20000\n",
      "\n",
      "Epoch-142: Loss = 1.740\n",
      "Train RMSE = 1.616||Train Precision = 58.579||Train Recall = 86.329\n",
      "Test RMSE = 1.126 || Test Precision = 57.912|| Test Recall = 84.726\n"
     ]
    },
    {
     "name": "stderr",
     "output_type": "stream",
     "text": [
      "3it [00:08,  2.76s/it]\n"
     ]
    },
    {
     "name": "stdout",
     "output_type": "stream",
     "text": [
      "tensor([[3.3387],\n",
      "        [3.3446],\n",
      "        [3.3381],\n",
      "        ...,\n",
      "        [3.4461],\n",
      "        [3.1000],\n",
      "        [3.9244]], device='cuda:0')\n",
      "              precision    recall  f1-score   support\n",
      "\n",
      "           0       0.51      0.34      0.41      8765\n",
      "           1       0.59      0.75      0.66     11235\n",
      "\n",
      "    accuracy                           0.57     20000\n",
      "   macro avg       0.55      0.55      0.54     20000\n",
      "weighted avg       0.56      0.57      0.55     20000\n",
      "\n",
      "Epoch-143: Loss = 1.745\n",
      "Train RMSE = 1.618||Train Precision = 59.781||Train Recall = 81.145\n",
      "Test RMSE = 1.127 || Test Precision = 59.329|| Test Recall = 74.553\n"
     ]
    },
    {
     "name": "stderr",
     "output_type": "stream",
     "text": [
      "3it [00:08,  2.78s/it]\n"
     ]
    },
    {
     "name": "stdout",
     "output_type": "stream",
     "text": [
      "tensor([[3.3190],\n",
      "        [3.3252],\n",
      "        [3.3190],\n",
      "        ...,\n",
      "        [3.4113],\n",
      "        [3.0982],\n",
      "        [3.8632]], device='cuda:0')\n",
      "              precision    recall  f1-score   support\n",
      "\n",
      "           0       0.51      0.37      0.43      8765\n",
      "           1       0.59      0.72      0.65     11235\n",
      "\n",
      "    accuracy                           0.57     20000\n",
      "   macro avg       0.55      0.55      0.54     20000\n",
      "weighted avg       0.56      0.57      0.55     20000\n",
      "\n",
      "Epoch-144: Loss = 1.747\n",
      "Train RMSE = 1.619||Train Precision = 60.430||Train Recall = 79.252\n",
      "Test RMSE = 1.128 || Test Precision = 59.452|| Test Recall = 71.829\n"
     ]
    },
    {
     "name": "stderr",
     "output_type": "stream",
     "text": [
      "3it [00:08,  2.78s/it]\n"
     ]
    },
    {
     "name": "stdout",
     "output_type": "stream",
     "text": [
      "tensor([[3.2949],\n",
      "        [3.3011],\n",
      "        [3.2944],\n",
      "        ...,\n",
      "        [3.3922],\n",
      "        [3.0130],\n",
      "        [3.8894]], device='cuda:0')\n",
      "              precision    recall  f1-score   support\n",
      "\n",
      "           0       0.51      0.43      0.47      8765\n",
      "           1       0.60      0.67      0.64     11235\n",
      "\n",
      "    accuracy                           0.57     20000\n",
      "   macro avg       0.56      0.55      0.55     20000\n",
      "weighted avg       0.56      0.57      0.56     20000\n",
      "\n",
      "Epoch-145: Loss = 1.748\n",
      "Train RMSE = 1.619||Train Precision = 61.362||Train Recall = 76.131\n",
      "Test RMSE = 1.130 || Test Precision = 60.374|| Test Recall = 67.494\n"
     ]
    },
    {
     "name": "stderr",
     "output_type": "stream",
     "text": [
      "3it [00:08,  2.79s/it]\n"
     ]
    },
    {
     "name": "stdout",
     "output_type": "stream",
     "text": [
      "tensor([[3.2924],\n",
      "        [3.2943],\n",
      "        [3.2879],\n",
      "        ...,\n",
      "        [3.3901],\n",
      "        [3.0272],\n",
      "        [3.8417]], device='cuda:0')\n",
      "              precision    recall  f1-score   support\n",
      "\n",
      "           0       0.51      0.44      0.47      8765\n",
      "           1       0.61      0.67      0.64     11235\n",
      "\n",
      "    accuracy                           0.57     20000\n",
      "   macro avg       0.56      0.56      0.56     20000\n",
      "weighted avg       0.57      0.57      0.57     20000\n",
      "\n",
      "Epoch-146: Loss = 1.745\n",
      "Train RMSE = 1.618||Train Precision = 61.475||Train Recall = 75.978\n",
      "Test RMSE = 1.130 || Test Precision = 60.640|| Test Recall = 67.263\n"
     ]
    },
    {
     "name": "stderr",
     "output_type": "stream",
     "text": [
      "3it [00:08,  2.77s/it]\n"
     ]
    },
    {
     "name": "stdout",
     "output_type": "stream",
     "text": [
      "tensor([[3.2712],\n",
      "        [3.2771],\n",
      "        [3.2716],\n",
      "        ...,\n",
      "        [3.3759],\n",
      "        [3.0037],\n",
      "        [3.8811]], device='cuda:0')\n",
      "              precision    recall  f1-score   support\n",
      "\n",
      "           0       0.51      0.46      0.48      8765\n",
      "           1       0.61      0.65      0.63     11235\n",
      "\n",
      "    accuracy                           0.57     20000\n",
      "   macro avg       0.56      0.56      0.55     20000\n",
      "weighted avg       0.56      0.57      0.56     20000\n",
      "\n",
      "Epoch-147: Loss = 1.737\n",
      "Train RMSE = 1.614||Train Precision = 61.655||Train Recall = 74.172\n",
      "Test RMSE = 1.131 || Test Precision = 60.692|| Test Recall = 64.922\n"
     ]
    },
    {
     "name": "stderr",
     "output_type": "stream",
     "text": [
      "3it [00:08,  2.80s/it]\n"
     ]
    },
    {
     "name": "stdout",
     "output_type": "stream",
     "text": [
      "tensor([[3.2782],\n",
      "        [3.2818],\n",
      "        [3.2764],\n",
      "        ...,\n",
      "        [3.3472],\n",
      "        [3.0039],\n",
      "        [3.8167]], device='cuda:0')\n",
      "              precision    recall  f1-score   support\n",
      "\n",
      "           0       0.51      0.47      0.49      8765\n",
      "           1       0.61      0.65      0.63     11235\n",
      "\n",
      "    accuracy                           0.57     20000\n",
      "   macro avg       0.56      0.56      0.56     20000\n",
      "weighted avg       0.57      0.57      0.57     20000\n",
      "\n",
      "Epoch-148: Loss = 1.739\n",
      "Train RMSE = 1.615||Train Precision = 61.955||Train Recall = 73.747\n",
      "Test RMSE = 1.131 || Test Precision = 61.044|| Test Recall = 64.717\n"
     ]
    },
    {
     "name": "stderr",
     "output_type": "stream",
     "text": [
      "3it [00:08,  2.76s/it]\n"
     ]
    },
    {
     "name": "stdout",
     "output_type": "stream",
     "text": [
      "tensor([[3.3104],\n",
      "        [3.3167],\n",
      "        [3.3104],\n",
      "        ...,\n",
      "        [3.4013],\n",
      "        [3.0483],\n",
      "        [3.9194]], device='cuda:0')\n",
      "              precision    recall  f1-score   support\n",
      "\n",
      "           0       0.51      0.40      0.45      8765\n",
      "           1       0.60      0.71      0.65     11235\n",
      "\n",
      "    accuracy                           0.57     20000\n",
      "   macro avg       0.56      0.55      0.55     20000\n",
      "weighted avg       0.56      0.57      0.56     20000\n",
      "\n",
      "Epoch-149: Loss = 1.740\n",
      "Train RMSE = 1.615||Train Precision = 60.954||Train Recall = 77.775\n",
      "Test RMSE = 1.127 || Test Precision = 60.017|| Test Recall = 70.503\n"
     ]
    },
    {
     "name": "stderr",
     "output_type": "stream",
     "text": [
      "3it [00:08,  2.80s/it]\n"
     ]
    },
    {
     "name": "stdout",
     "output_type": "stream",
     "text": [
      "tensor([[3.3770],\n",
      "        [3.3835],\n",
      "        [3.3776],\n",
      "        ...,\n",
      "        [3.4872],\n",
      "        [3.1569],\n",
      "        [3.9203]], device='cuda:0')\n",
      "              precision    recall  f1-score   support\n",
      "\n",
      "           0       0.54      0.17      0.26      8765\n",
      "           1       0.58      0.89      0.70     11235\n",
      "\n",
      "    accuracy                           0.57     20000\n",
      "   macro avg       0.56      0.53      0.48     20000\n",
      "weighted avg       0.56      0.57      0.51     20000\n",
      "\n",
      "Epoch-150: Loss = 1.735\n",
      "Train RMSE = 1.613||Train Precision = 58.269||Train Recall = 88.042\n",
      "Test RMSE = 1.125 || Test Precision = 57.858|| Test Recall = 88.901\n"
     ]
    },
    {
     "name": "stderr",
     "output_type": "stream",
     "text": [
      "3it [00:08,  2.79s/it]\n"
     ]
    },
    {
     "name": "stdout",
     "output_type": "stream",
     "text": [
      "tensor([[3.3191],\n",
      "        [3.3244],\n",
      "        [3.3188],\n",
      "        ...,\n",
      "        [3.4408],\n",
      "        [3.0687],\n",
      "        [3.9075]], device='cuda:0')\n",
      "              precision    recall  f1-score   support\n",
      "\n",
      "           0       0.51      0.39      0.44      8765\n",
      "           1       0.60      0.71      0.65     11235\n",
      "\n",
      "    accuracy                           0.57     20000\n",
      "   macro avg       0.56      0.55      0.55     20000\n",
      "weighted avg       0.56      0.57      0.56     20000\n",
      "\n",
      "Epoch-151: Loss = 1.737\n",
      "Train RMSE = 1.614||Train Precision = 60.935||Train Recall = 77.732\n",
      "Test RMSE = 1.126 || Test Precision = 59.827|| Test Recall = 71.233\n"
     ]
    },
    {
     "name": "stderr",
     "output_type": "stream",
     "text": [
      "3it [00:08,  2.77s/it]\n"
     ]
    },
    {
     "name": "stdout",
     "output_type": "stream",
     "text": [
      "tensor([[3.3710],\n",
      "        [3.3780],\n",
      "        [3.3714],\n",
      "        ...,\n",
      "        [3.4644],\n",
      "        [3.1452],\n",
      "        [3.9039]], device='cuda:0')\n",
      "              precision    recall  f1-score   support\n",
      "\n",
      "           0       0.54      0.17      0.26      8765\n",
      "           1       0.58      0.88      0.70     11235\n",
      "\n",
      "    accuracy                           0.57     20000\n",
      "   macro avg       0.56      0.53      0.48     20000\n",
      "weighted avg       0.56      0.57      0.51     20000\n",
      "\n",
      "Epoch-152: Loss = 1.740\n",
      "Train RMSE = 1.615||Train Precision = 58.755||Train Recall = 88.529\n",
      "Test RMSE = 1.124 || Test Precision = 57.867|| Test Recall = 88.456\n"
     ]
    },
    {
     "name": "stderr",
     "output_type": "stream",
     "text": [
      "3it [00:08,  2.79s/it]\n"
     ]
    },
    {
     "name": "stdout",
     "output_type": "stream",
     "text": [
      "tensor([[3.3486],\n",
      "        [3.3544],\n",
      "        [3.3453],\n",
      "        ...,\n",
      "        [3.4689],\n",
      "        [3.1260],\n",
      "        [3.9581]], device='cuda:0')\n",
      "              precision    recall  f1-score   support\n",
      "\n",
      "           0       0.53      0.26      0.35      8765\n",
      "           1       0.59      0.82      0.68     11235\n",
      "\n",
      "    accuracy                           0.57     20000\n",
      "   macro avg       0.56      0.54      0.51     20000\n",
      "weighted avg       0.56      0.57      0.54     20000\n",
      "\n",
      "Epoch-153: Loss = 1.736\n",
      "Train RMSE = 1.614||Train Precision = 59.237||Train Recall = 85.079\n",
      "Test RMSE = 1.125 || Test Precision = 58.581|| Test Recall = 81.816\n"
     ]
    },
    {
     "name": "stderr",
     "output_type": "stream",
     "text": [
      "3it [00:08,  2.77s/it]\n"
     ]
    },
    {
     "name": "stdout",
     "output_type": "stream",
     "text": [
      "tensor([[3.3293],\n",
      "        [3.3341],\n",
      "        [3.3285],\n",
      "        ...,\n",
      "        [3.4354],\n",
      "        [3.0928],\n",
      "        [3.8824]], device='cuda:0')\n",
      "              precision    recall  f1-score   support\n",
      "\n",
      "           0       0.52      0.37      0.43      8765\n",
      "           1       0.60      0.73      0.66     11235\n",
      "\n",
      "    accuracy                           0.57     20000\n",
      "   macro avg       0.56      0.55      0.54     20000\n",
      "weighted avg       0.56      0.57      0.56     20000\n",
      "\n",
      "Epoch-154: Loss = 1.739\n",
      "Train RMSE = 1.615||Train Precision = 60.417||Train Recall = 79.785\n",
      "Test RMSE = 1.126 || Test Precision = 59.739|| Test Recall = 73.431\n"
     ]
    },
    {
     "name": "stderr",
     "output_type": "stream",
     "text": [
      "3it [00:08,  2.78s/it]\n"
     ]
    },
    {
     "name": "stdout",
     "output_type": "stream",
     "text": [
      "tensor([[3.2718],\n",
      "        [3.2772],\n",
      "        [3.2715],\n",
      "        ...,\n",
      "        [3.3668],\n",
      "        [2.9760],\n",
      "        [3.8725]], device='cuda:0')\n",
      "              precision    recall  f1-score   support\n",
      "\n",
      "           0       0.51      0.47      0.49      8765\n",
      "           1       0.61      0.64      0.62     11235\n",
      "\n",
      "    accuracy                           0.57     20000\n",
      "   macro avg       0.56      0.56      0.56     20000\n",
      "weighted avg       0.56      0.57      0.56     20000\n",
      "\n",
      "Epoch-155: Loss = 1.743\n",
      "Train RMSE = 1.617||Train Precision = 61.223||Train Recall = 73.525\n",
      "Test RMSE = 1.130 || Test Precision = 60.820|| Test Recall = 64.192\n"
     ]
    },
    {
     "name": "stderr",
     "output_type": "stream",
     "text": [
      "3it [00:08,  2.75s/it]\n"
     ]
    },
    {
     "name": "stdout",
     "output_type": "stream",
     "text": [
      "tensor([[3.2780],\n",
      "        [3.2856],\n",
      "        [3.2771],\n",
      "        ...,\n",
      "        [3.3732],\n",
      "        [3.0267],\n",
      "        [3.8344]], device='cuda:0')\n",
      "              precision    recall  f1-score   support\n",
      "\n",
      "           0       0.51      0.45      0.48      8765\n",
      "           1       0.61      0.66      0.63     11235\n",
      "\n",
      "    accuracy                           0.57     20000\n",
      "   macro avg       0.56      0.56      0.56     20000\n",
      "weighted avg       0.57      0.57      0.57     20000\n",
      "\n",
      "Epoch-156: Loss = 1.735\n",
      "Train RMSE = 1.613||Train Precision = 62.006||Train Recall = 75.677\n",
      "Test RMSE = 1.129 || Test Precision = 60.797|| Test Recall = 66.409\n"
     ]
    },
    {
     "name": "stderr",
     "output_type": "stream",
     "text": [
      "3it [00:08,  2.80s/it]\n"
     ]
    },
    {
     "name": "stdout",
     "output_type": "stream",
     "text": [
      "tensor([[3.2729],\n",
      "        [3.2754],\n",
      "        [3.2694],\n",
      "        ...,\n",
      "        [3.3593],\n",
      "        [3.0086],\n",
      "        [3.8501]], device='cuda:0')\n",
      "              precision    recall  f1-score   support\n",
      "\n",
      "           0       0.51      0.47      0.49      8765\n",
      "           1       0.61      0.65      0.63     11235\n",
      "\n",
      "    accuracy                           0.57     20000\n",
      "   macro avg       0.56      0.56      0.56     20000\n",
      "weighted avg       0.57      0.57      0.57     20000\n",
      "\n",
      "Epoch-157: Loss = 1.736\n",
      "Train RMSE = 1.614||Train Precision = 61.867||Train Recall = 74.223\n",
      "Test RMSE = 1.130 || Test Precision = 60.996|| Test Recall = 64.878\n"
     ]
    },
    {
     "name": "stderr",
     "output_type": "stream",
     "text": [
      "3it [00:08,  2.77s/it]\n"
     ]
    },
    {
     "name": "stdout",
     "output_type": "stream",
     "text": [
      "tensor([[3.2613],\n",
      "        [3.2685],\n",
      "        [3.2615],\n",
      "        ...,\n",
      "        [3.3305],\n",
      "        [2.9871],\n",
      "        [3.8267]], device='cuda:0')\n",
      "              precision    recall  f1-score   support\n",
      "\n",
      "           0       0.51      0.49      0.50      8765\n",
      "           1       0.61      0.63      0.62     11235\n",
      "\n",
      "    accuracy                           0.57     20000\n",
      "   macro avg       0.56      0.56      0.56     20000\n",
      "weighted avg       0.57      0.57      0.57     20000\n",
      "\n",
      "Epoch-158: Loss = 1.733\n",
      "Train RMSE = 1.612||Train Precision = 62.215||Train Recall = 72.841\n",
      "Test RMSE = 1.131 || Test Precision = 61.279|| Test Recall = 63.347\n"
     ]
    },
    {
     "name": "stderr",
     "output_type": "stream",
     "text": [
      "3it [00:08,  2.79s/it]\n"
     ]
    },
    {
     "name": "stdout",
     "output_type": "stream",
     "text": [
      "tensor([[3.2348],\n",
      "        [3.2425],\n",
      "        [3.2356],\n",
      "        ...,\n",
      "        [3.3162],\n",
      "        [2.9327],\n",
      "        [3.8391]], device='cuda:0')\n",
      "              precision    recall  f1-score   support\n",
      "\n",
      "           0       0.50      0.55      0.52      8765\n",
      "           1       0.62      0.57      0.59     11235\n",
      "\n",
      "    accuracy                           0.56     20000\n",
      "   macro avg       0.56      0.56      0.56     20000\n",
      "weighted avg       0.57      0.56      0.56     20000\n",
      "\n",
      "Epoch-159: Loss = 1.733\n",
      "Train RMSE = 1.612||Train Precision = 62.888||Train Recall = 69.944\n",
      "Test RMSE = 1.135 || Test Precision = 61.767|| Test Recall = 57.000\n"
     ]
    },
    {
     "name": "stderr",
     "output_type": "stream",
     "text": [
      "3it [00:08,  2.77s/it]\n"
     ]
    },
    {
     "name": "stdout",
     "output_type": "stream",
     "text": [
      "tensor([[3.3553],\n",
      "        [3.3613],\n",
      "        [3.3558],\n",
      "        ...,\n",
      "        [3.4821],\n",
      "        [3.1321],\n",
      "        [3.9227]], device='cuda:0')\n",
      "              precision    recall  f1-score   support\n",
      "\n",
      "           0       0.54      0.21      0.30      8765\n",
      "           1       0.58      0.86      0.69     11235\n",
      "\n",
      "    accuracy                           0.57     20000\n",
      "   macro avg       0.56      0.53      0.50     20000\n",
      "weighted avg       0.56      0.57      0.52     20000\n",
      "\n",
      "Epoch-160: Loss = 1.740\n",
      "Train RMSE = 1.616||Train Precision = 58.696||Train Recall = 87.060\n",
      "Test RMSE = 1.124 || Test Precision = 58.217|| Test Recall = 86.142\n"
     ]
    },
    {
     "name": "stderr",
     "output_type": "stream",
     "text": [
      "3it [00:08,  2.78s/it]\n"
     ]
    },
    {
     "name": "stdout",
     "output_type": "stream",
     "text": [
      "tensor([[3.3228],\n",
      "        [3.3316],\n",
      "        [3.3227],\n",
      "        ...,\n",
      "        [3.4273],\n",
      "        [3.0916],\n",
      "        [3.9053]], device='cuda:0')\n",
      "              precision    recall  f1-score   support\n",
      "\n",
      "           0       0.52      0.36      0.42      8765\n",
      "           1       0.60      0.74      0.66     11235\n",
      "\n",
      "    accuracy                           0.57     20000\n",
      "   macro avg       0.56      0.55      0.54     20000\n",
      "weighted avg       0.56      0.57      0.56     20000\n",
      "\n",
      "Epoch-161: Loss = 1.737\n",
      "Train RMSE = 1.614||Train Precision = 60.349||Train Recall = 80.364\n",
      "Test RMSE = 1.125 || Test Precision = 59.656|| Test Recall = 73.769\n"
     ]
    },
    {
     "name": "stderr",
     "output_type": "stream",
     "text": [
      "3it [00:08,  2.76s/it]\n"
     ]
    },
    {
     "name": "stdout",
     "output_type": "stream",
     "text": [
      "tensor([[3.2517],\n",
      "        [3.2583],\n",
      "        [3.2509],\n",
      "        ...,\n",
      "        [3.3431],\n",
      "        [2.9591],\n",
      "        [3.8554]], device='cuda:0')\n",
      "              precision    recall  f1-score   support\n",
      "\n",
      "           0       0.50      0.51      0.51      8765\n",
      "           1       0.61      0.61      0.61     11235\n",
      "\n",
      "    accuracy                           0.56     20000\n",
      "   macro avg       0.56      0.56      0.56     20000\n",
      "weighted avg       0.56      0.56      0.56     20000\n",
      "\n",
      "Epoch-162: Loss = 1.742\n",
      "Train RMSE = 1.616||Train Precision = 62.192||Train Recall = 72.183\n",
      "Test RMSE = 1.132 || Test Precision = 61.283|| Test Recall = 60.525\n"
     ]
    },
    {
     "name": "stderr",
     "output_type": "stream",
     "text": [
      "3it [00:08,  2.78s/it]\n"
     ]
    },
    {
     "name": "stdout",
     "output_type": "stream",
     "text": [
      "tensor([[3.1163],\n",
      "        [3.1216],\n",
      "        [3.1150],\n",
      "        ...,\n",
      "        [3.1546],\n",
      "        [2.7833],\n",
      "        [3.6484]], device='cuda:0')\n",
      "              precision    recall  f1-score   support\n",
      "\n",
      "           0       0.48      0.77      0.59      8765\n",
      "           1       0.65      0.34      0.45     11235\n",
      "\n",
      "    accuracy                           0.53     20000\n",
      "   macro avg       0.56      0.55      0.52     20000\n",
      "weighted avg       0.57      0.53      0.51     20000\n",
      "\n",
      "Epoch-163: Loss = 1.753\n",
      "Train RMSE = 1.622||Train Precision = 66.853||Train Recall = 55.917\n",
      "Test RMSE = 1.160 || Test Precision = 65.194|| Test Recall = 33.876\n"
     ]
    },
    {
     "name": "stderr",
     "output_type": "stream",
     "text": [
      "3it [00:08,  2.77s/it]\n"
     ]
    },
    {
     "name": "stdout",
     "output_type": "stream",
     "text": [
      "tensor([[3.0969],\n",
      "        [3.1029],\n",
      "        [3.0963],\n",
      "        ...,\n",
      "        [3.2139],\n",
      "        [2.8091],\n",
      "        [3.7207]], device='cuda:0')\n",
      "              precision    recall  f1-score   support\n",
      "\n",
      "           0       0.48      0.76      0.59      8765\n",
      "           1       0.65      0.35      0.45     11235\n",
      "\n",
      "    accuracy                           0.53     20000\n",
      "   macro avg       0.56      0.55      0.52     20000\n",
      "weighted avg       0.58      0.53      0.51     20000\n",
      "\n",
      "Epoch-164: Loss = 1.762\n",
      "Train RMSE = 1.626||Train Precision = 66.040||Train Recall = 57.253\n",
      "Test RMSE = 1.159 || Test Precision = 65.179|| Test Recall = 34.704\n"
     ]
    },
    {
     "name": "stderr",
     "output_type": "stream",
     "text": [
      "3it [00:08,  2.77s/it]\n"
     ]
    },
    {
     "name": "stdout",
     "output_type": "stream",
     "text": [
      "tensor([[3.1752],\n",
      "        [3.1810],\n",
      "        [3.1754],\n",
      "        ...,\n",
      "        [3.2691],\n",
      "        [2.8871],\n",
      "        [3.7189]], device='cuda:0')\n",
      "              precision    recall  f1-score   support\n",
      "\n",
      "           0       0.49      0.67      0.56      8765\n",
      "           1       0.64      0.45      0.52     11235\n",
      "\n",
      "    accuracy                           0.55     20000\n",
      "   macro avg       0.56      0.56      0.54     20000\n",
      "weighted avg       0.57      0.55      0.54     20000\n",
      "\n",
      "Epoch-165: Loss = 1.762\n",
      "Train RMSE = 1.626||Train Precision = 64.693||Train Recall = 62.259\n",
      "Test RMSE = 1.146 || Test Precision = 63.562|| Test Recall = 44.700\n"
     ]
    },
    {
     "name": "stderr",
     "output_type": "stream",
     "text": [
      "3it [00:08,  2.81s/it]\n"
     ]
    },
    {
     "name": "stdout",
     "output_type": "stream",
     "text": [
      "tensor([[3.1724],\n",
      "        [3.1763],\n",
      "        [3.1702],\n",
      "        ...,\n",
      "        [3.2537],\n",
      "        [2.8345],\n",
      "        [3.7647]], device='cuda:0')\n",
      "              precision    recall  f1-score   support\n",
      "\n",
      "           0       0.49      0.69      0.57      8765\n",
      "           1       0.64      0.43      0.52     11235\n",
      "\n",
      "    accuracy                           0.54     20000\n",
      "   macro avg       0.56      0.56      0.54     20000\n",
      "weighted avg       0.57      0.54      0.54     20000\n",
      "\n",
      "Epoch-166: Loss = 1.747\n",
      "Train RMSE = 1.619||Train Precision = 65.184||Train Recall = 61.151\n",
      "Test RMSE = 1.146 || Test Precision = 63.909|| Test Recall = 43.391\n"
     ]
    },
    {
     "name": "stderr",
     "output_type": "stream",
     "text": [
      "3it [00:08,  2.76s/it]\n"
     ]
    },
    {
     "name": "stdout",
     "output_type": "stream",
     "text": [
      "tensor([[3.2087],\n",
      "        [3.2139],\n",
      "        [3.2058],\n",
      "        ...,\n",
      "        [3.3167],\n",
      "        [2.9523],\n",
      "        [3.7588]], device='cuda:0')\n",
      "              precision    recall  f1-score   support\n",
      "\n",
      "           0       0.50      0.57      0.53      8765\n",
      "           1       0.62      0.55      0.58     11235\n",
      "\n",
      "    accuracy                           0.56     20000\n",
      "   macro avg       0.56      0.56      0.56     20000\n",
      "weighted avg       0.57      0.56      0.56     20000\n",
      "\n",
      "Epoch-167: Loss = 1.754\n",
      "Train RMSE = 1.622||Train Precision = 62.909||Train Recall = 68.180\n",
      "Test RMSE = 1.138 || Test Precision = 61.954|| Test Recall = 54.962\n"
     ]
    },
    {
     "name": "stderr",
     "output_type": "stream",
     "text": [
      "3it [00:08,  2.79s/it]\n"
     ]
    },
    {
     "name": "stdout",
     "output_type": "stream",
     "text": [
      "tensor([[3.2026],\n",
      "        [3.2081],\n",
      "        [3.2023],\n",
      "        ...,\n",
      "        [3.3201],\n",
      "        [2.9468],\n",
      "        [3.8062]], device='cuda:0')\n",
      "              precision    recall  f1-score   support\n",
      "\n",
      "           0       0.49      0.59      0.54      8765\n",
      "           1       0.62      0.53      0.57     11235\n",
      "\n",
      "    accuracy                           0.56     20000\n",
      "   macro avg       0.56      0.56      0.56     20000\n",
      "weighted avg       0.57      0.56      0.56     20000\n",
      "\n",
      "Epoch-168: Loss = 1.748\n",
      "Train RMSE = 1.619||Train Precision = 63.219||Train Recall = 67.248\n",
      "Test RMSE = 1.138 || Test Precision = 62.301|| Test Recall = 53.013\n"
     ]
    },
    {
     "name": "stderr",
     "output_type": "stream",
     "text": [
      "3it [00:08,  2.80s/it]\n"
     ]
    },
    {
     "name": "stdout",
     "output_type": "stream",
     "text": [
      "tensor([[3.2448],\n",
      "        [3.2517],\n",
      "        [3.2446],\n",
      "        ...,\n",
      "        [3.3183],\n",
      "        [2.9615],\n",
      "        [3.8096]], device='cuda:0')\n",
      "              precision    recall  f1-score   support\n",
      "\n",
      "           0       0.50      0.52      0.51      8765\n",
      "           1       0.61      0.60      0.61     11235\n",
      "\n",
      "    accuracy                           0.56     20000\n",
      "   macro avg       0.56      0.56      0.56     20000\n",
      "weighted avg       0.56      0.56      0.56     20000\n",
      "\n",
      "Epoch-169: Loss = 1.741\n",
      "Train RMSE = 1.616||Train Precision = 62.600||Train Recall = 71.684\n",
      "Test RMSE = 1.133 || Test Precision = 61.370|| Test Recall = 60.053\n"
     ]
    },
    {
     "name": "stderr",
     "output_type": "stream",
     "text": [
      "3it [00:08,  2.80s/it]\n"
     ]
    },
    {
     "name": "stdout",
     "output_type": "stream",
     "text": [
      "tensor([[3.2785],\n",
      "        [3.2862],\n",
      "        [3.2780],\n",
      "        ...,\n",
      "        [3.3813],\n",
      "        [3.0375],\n",
      "        [3.8513]], device='cuda:0')\n",
      "              precision    recall  f1-score   support\n",
      "\n",
      "           0       0.51      0.43      0.47      8765\n",
      "           1       0.60      0.68      0.64     11235\n",
      "\n",
      "    accuracy                           0.57     20000\n",
      "   macro avg       0.56      0.55      0.55     20000\n",
      "weighted avg       0.56      0.57      0.56     20000\n",
      "\n",
      "Epoch-170: Loss = 1.736\n",
      "Train RMSE = 1.614||Train Precision = 61.400||Train Recall = 76.335\n",
      "Test RMSE = 1.128 || Test Precision = 60.393|| Test Recall = 67.859\n"
     ]
    },
    {
     "name": "stderr",
     "output_type": "stream",
     "text": [
      "3it [00:08,  2.77s/it]\n"
     ]
    },
    {
     "name": "stdout",
     "output_type": "stream",
     "text": [
      "tensor([[3.2274],\n",
      "        [3.2337],\n",
      "        [3.2276],\n",
      "        ...,\n",
      "        [3.3358],\n",
      "        [2.9940],\n",
      "        [3.8151]], device='cuda:0')\n",
      "              precision    recall  f1-score   support\n",
      "\n",
      "           0       0.51      0.51      0.51      8765\n",
      "           1       0.62      0.61      0.61     11235\n",
      "\n",
      "    accuracy                           0.57     20000\n",
      "   macro avg       0.56      0.56      0.56     20000\n",
      "weighted avg       0.57      0.57      0.57     20000\n",
      "\n",
      "Epoch-171: Loss = 1.734\n",
      "Train RMSE = 1.613||Train Precision = 62.501||Train Recall = 71.999\n",
      "Test RMSE = 1.133 || Test Precision = 61.584|| Test Recall = 60.828\n"
     ]
    },
    {
     "name": "stderr",
     "output_type": "stream",
     "text": [
      "3it [00:08,  2.81s/it]\n"
     ]
    },
    {
     "name": "stdout",
     "output_type": "stream",
     "text": [
      "tensor([[3.2777],\n",
      "        [3.2827],\n",
      "        [3.2755],\n",
      "        ...,\n",
      "        [3.3672],\n",
      "        [3.0105],\n",
      "        [3.8471]], device='cuda:0')\n",
      "              precision    recall  f1-score   support\n",
      "\n",
      "           0       0.51      0.44      0.47      8765\n",
      "           1       0.61      0.67      0.64     11235\n",
      "\n",
      "    accuracy                           0.57     20000\n",
      "   macro avg       0.56      0.56      0.56     20000\n",
      "weighted avg       0.57      0.57      0.57     20000\n",
      "\n",
      "Epoch-172: Loss = 1.742\n",
      "Train RMSE = 1.616||Train Precision = 61.323||Train Recall = 75.589\n",
      "Test RMSE = 1.128 || Test Precision = 60.645|| Test Recall = 67.468\n"
     ]
    },
    {
     "name": "stderr",
     "output_type": "stream",
     "text": [
      "3it [00:08,  2.78s/it]\n"
     ]
    },
    {
     "name": "stdout",
     "output_type": "stream",
     "text": [
      "tensor([[3.2892],\n",
      "        [3.2931],\n",
      "        [3.2879],\n",
      "        ...,\n",
      "        [3.3952],\n",
      "        [3.0486],\n",
      "        [3.8645]], device='cuda:0')\n",
      "              precision    recall  f1-score   support\n",
      "\n",
      "           0       0.51      0.41      0.46      8765\n",
      "           1       0.60      0.70      0.65     11235\n",
      "\n",
      "    accuracy                           0.57     20000\n",
      "   macro avg       0.56      0.55      0.55     20000\n",
      "weighted avg       0.56      0.57      0.56     20000\n",
      "\n",
      "Epoch-173: Loss = 1.738\n",
      "Train RMSE = 1.615||Train Precision = 61.182||Train Recall = 77.040\n",
      "Test RMSE = 1.127 || Test Precision = 60.209|| Test Recall = 69.711\n"
     ]
    },
    {
     "name": "stderr",
     "output_type": "stream",
     "text": [
      "3it [00:08,  2.80s/it]\n"
     ]
    },
    {
     "name": "stdout",
     "output_type": "stream",
     "text": [
      "tensor([[3.2535],\n",
      "        [3.2594],\n",
      "        [3.2510],\n",
      "        ...,\n",
      "        [3.3700],\n",
      "        [3.0216],\n",
      "        [3.8516]], device='cuda:0')\n",
      "              precision    recall  f1-score   support\n",
      "\n",
      "           0       0.51      0.47      0.49      8765\n",
      "           1       0.61      0.65      0.63     11235\n",
      "\n",
      "    accuracy                           0.57     20000\n",
      "   macro avg       0.56      0.56      0.56     20000\n",
      "weighted avg       0.57      0.57      0.57     20000\n",
      "\n",
      "Epoch-174: Loss = 1.733\n",
      "Train RMSE = 1.612||Train Precision = 61.912||Train Recall = 74.678\n",
      "Test RMSE = 1.129 || Test Precision = 61.182|| Test Recall = 64.842\n"
     ]
    },
    {
     "name": "stderr",
     "output_type": "stream",
     "text": [
      "3it [00:08,  2.77s/it]\n"
     ]
    },
    {
     "name": "stdout",
     "output_type": "stream",
     "text": [
      "tensor([[3.2748],\n",
      "        [3.2821],\n",
      "        [3.2725],\n",
      "        ...,\n",
      "        [3.3624],\n",
      "        [3.0219],\n",
      "        [3.8158]], device='cuda:0')\n",
      "              precision    recall  f1-score   support\n",
      "\n",
      "           0       0.51      0.44      0.48      8765\n",
      "           1       0.61      0.67      0.64     11235\n",
      "\n",
      "    accuracy                           0.57     20000\n",
      "   macro avg       0.56      0.56      0.56     20000\n",
      "weighted avg       0.57      0.57      0.57     20000\n",
      "\n",
      "Epoch-175: Loss = 1.733\n",
      "Train RMSE = 1.612||Train Precision = 61.262||Train Recall = 75.266\n",
      "Test RMSE = 1.128 || Test Precision = 60.752|| Test Recall = 67.290\n"
     ]
    },
    {
     "name": "stderr",
     "output_type": "stream",
     "text": [
      "3it [00:08,  2.77s/it]\n"
     ]
    },
    {
     "name": "stdout",
     "output_type": "stream",
     "text": [
      "tensor([[3.2494],\n",
      "        [3.2556],\n",
      "        [3.2483],\n",
      "        ...,\n",
      "        [3.3458],\n",
      "        [2.9817],\n",
      "        [3.8653]], device='cuda:0')\n",
      "              precision    recall  f1-score   support\n",
      "\n",
      "           0       0.51      0.50      0.50      8765\n",
      "           1       0.61      0.62      0.62     11235\n",
      "\n",
      "    accuracy                           0.57     20000\n",
      "   macro avg       0.56      0.56      0.56     20000\n",
      "weighted avg       0.57      0.57      0.57     20000\n",
      "\n",
      "Epoch-176: Loss = 1.736\n",
      "Train RMSE = 1.614||Train Precision = 62.182||Train Recall = 72.695\n",
      "Test RMSE = 1.131 || Test Precision = 61.436|| Test Recall = 62.234\n"
     ]
    },
    {
     "name": "stderr",
     "output_type": "stream",
     "text": [
      "3it [00:08,  2.79s/it]\n"
     ]
    },
    {
     "name": "stdout",
     "output_type": "stream",
     "text": [
      "tensor([[3.3048],\n",
      "        [3.3087],\n",
      "        [3.3018],\n",
      "        ...,\n",
      "        [3.4110],\n",
      "        [3.0735],\n",
      "        [3.8557]], device='cuda:0')\n",
      "              precision    recall  f1-score   support\n",
      "\n",
      "           0       0.51      0.38      0.44      8765\n",
      "           1       0.60      0.72      0.65     11235\n",
      "\n",
      "    accuracy                           0.57     20000\n",
      "   macro avg       0.56      0.55      0.55     20000\n",
      "weighted avg       0.56      0.57      0.56     20000\n",
      "\n",
      "Epoch-177: Loss = 1.734\n",
      "Train RMSE = 1.613||Train Precision = 61.529||Train Recall = 78.559\n",
      "Test RMSE = 1.125 || Test Precision = 59.848|| Test Recall = 71.972\n"
     ]
    },
    {
     "name": "stderr",
     "output_type": "stream",
     "text": [
      "3it [00:08,  2.76s/it]\n"
     ]
    },
    {
     "name": "stdout",
     "output_type": "stream",
     "text": [
      "tensor([[3.2675],\n",
      "        [3.2741],\n",
      "        [3.2651],\n",
      "        ...,\n",
      "        [3.3820],\n",
      "        [3.0265],\n",
      "        [3.8797]], device='cuda:0')\n",
      "              precision    recall  f1-score   support\n",
      "\n",
      "           0       0.51      0.43      0.47      8765\n",
      "           1       0.60      0.68      0.64     11235\n",
      "\n",
      "    accuracy                           0.57     20000\n",
      "   macro avg       0.56      0.55      0.55     20000\n",
      "weighted avg       0.56      0.57      0.56     20000\n",
      "\n",
      "Epoch-178: Loss = 1.734\n",
      "Train RMSE = 1.613||Train Precision = 61.762||Train Recall = 76.121\n",
      "Test RMSE = 1.127 || Test Precision = 60.429|| Test Recall = 67.948\n"
     ]
    },
    {
     "name": "stderr",
     "output_type": "stream",
     "text": [
      "3it [00:08,  2.81s/it]\n"
     ]
    },
    {
     "name": "stdout",
     "output_type": "stream",
     "text": [
      "tensor([[3.2934],\n",
      "        [3.3016],\n",
      "        [3.2934],\n",
      "        ...,\n",
      "        [3.4104],\n",
      "        [3.0857],\n",
      "        [3.8787]], device='cuda:0')\n",
      "              precision    recall  f1-score   support\n",
      "\n",
      "           0       0.51      0.39      0.44      8765\n",
      "           1       0.60      0.72      0.65     11235\n",
      "\n",
      "    accuracy                           0.57     20000\n",
      "   macro avg       0.56      0.55      0.55     20000\n",
      "weighted avg       0.56      0.57      0.56     20000\n",
      "\n",
      "Epoch-179: Loss = 1.731\n",
      "Train RMSE = 1.611||Train Precision = 61.594||Train Recall = 78.000\n",
      "Test RMSE = 1.125 || Test Precision = 59.940|| Test Recall = 71.571\n"
     ]
    },
    {
     "name": "stderr",
     "output_type": "stream",
     "text": [
      "3it [00:08,  2.78s/it]\n"
     ]
    },
    {
     "name": "stdout",
     "output_type": "stream",
     "text": [
      "tensor([[3.2672],\n",
      "        [3.2739],\n",
      "        [3.2658],\n",
      "        ...,\n",
      "        [3.3446],\n",
      "        [2.9940],\n",
      "        [3.8375]], device='cuda:0')\n",
      "              precision    recall  f1-score   support\n",
      "\n",
      "           0       0.51      0.45      0.48      8765\n",
      "           1       0.61      0.67      0.64     11235\n",
      "\n",
      "    accuracy                           0.57     20000\n",
      "   macro avg       0.56      0.56      0.56     20000\n",
      "weighted avg       0.57      0.57      0.57     20000\n",
      "\n",
      "Epoch-180: Loss = 1.735\n",
      "Train RMSE = 1.613||Train Precision = 61.858||Train Recall = 74.320\n",
      "Test RMSE = 1.128 || Test Precision = 60.770|| Test Recall = 66.720\n"
     ]
    },
    {
     "name": "stderr",
     "output_type": "stream",
     "text": [
      "3it [00:08,  2.81s/it]\n"
     ]
    },
    {
     "name": "stdout",
     "output_type": "stream",
     "text": [
      "tensor([[3.2533],\n",
      "        [3.2594],\n",
      "        [3.2540],\n",
      "        ...,\n",
      "        [3.3588],\n",
      "        [3.0113],\n",
      "        [3.8467]], device='cuda:0')\n",
      "              precision    recall  f1-score   support\n",
      "\n",
      "           0       0.51      0.48      0.50      8765\n",
      "           1       0.61      0.65      0.63     11235\n",
      "\n",
      "    accuracy                           0.57     20000\n",
      "   macro avg       0.56      0.56      0.56     20000\n",
      "weighted avg       0.57      0.57      0.57     20000\n",
      "\n",
      "Epoch-181: Loss = 1.732\n",
      "Train RMSE = 1.612||Train Precision = 61.783||Train Recall = 74.402\n",
      "Test RMSE = 1.129 || Test Precision = 61.373|| Test Recall = 64.700\n"
     ]
    },
    {
     "name": "stderr",
     "output_type": "stream",
     "text": [
      "3it [00:08,  2.78s/it]\n"
     ]
    },
    {
     "name": "stdout",
     "output_type": "stream",
     "text": [
      "tensor([[3.3171],\n",
      "        [3.3230],\n",
      "        [3.3156],\n",
      "        ...,\n",
      "        [3.4349],\n",
      "        [3.1068],\n",
      "        [3.8821]], device='cuda:0')\n",
      "              precision    recall  f1-score   support\n",
      "\n",
      "           0       0.52      0.34      0.41      8765\n",
      "           1       0.59      0.76      0.67     11235\n",
      "\n",
      "    accuracy                           0.57     20000\n",
      "   macro avg       0.56      0.55      0.54     20000\n",
      "weighted avg       0.56      0.57      0.55     20000\n",
      "\n",
      "Epoch-182: Loss = 1.735\n",
      "Train RMSE = 1.613||Train Precision = 60.628||Train Recall = 80.676\n",
      "Test RMSE = 1.124 || Test Precision = 59.432|| Test Recall = 75.683\n"
     ]
    },
    {
     "name": "stderr",
     "output_type": "stream",
     "text": [
      "3it [00:08,  2.80s/it]\n"
     ]
    },
    {
     "name": "stdout",
     "output_type": "stream",
     "text": [
      "tensor([[3.3454],\n",
      "        [3.3532],\n",
      "        [3.3438],\n",
      "        ...,\n",
      "        [3.4575],\n",
      "        [3.1129],\n",
      "        [3.9450]], device='cuda:0')\n",
      "              precision    recall  f1-score   support\n",
      "\n",
      "           0       0.54      0.24      0.33      8765\n",
      "           1       0.59      0.84      0.69     11235\n",
      "\n",
      "    accuracy                           0.58     20000\n",
      "   macro avg       0.57      0.54      0.51     20000\n",
      "weighted avg       0.57      0.58      0.53     20000\n",
      "\n",
      "Epoch-183: Loss = 1.731\n",
      "Train RMSE = 1.611||Train Precision = 59.376||Train Recall = 86.030\n",
      "Test RMSE = 1.123 || Test Precision = 58.725|| Test Recall = 84.379\n"
     ]
    },
    {
     "name": "stderr",
     "output_type": "stream",
     "text": [
      "3it [00:08,  2.79s/it]\n"
     ]
    },
    {
     "name": "stdout",
     "output_type": "stream",
     "text": [
      "tensor([[3.2749],\n",
      "        [3.2821],\n",
      "        [3.2749],\n",
      "        ...,\n",
      "        [3.3811],\n",
      "        [3.0410],\n",
      "        [3.8407]], device='cuda:0')\n",
      "              precision    recall  f1-score   support\n",
      "\n",
      "           0       0.51      0.42      0.46      8765\n",
      "           1       0.60      0.69      0.64     11235\n",
      "\n",
      "    accuracy                           0.57     20000\n",
      "   macro avg       0.56      0.55      0.55     20000\n",
      "weighted avg       0.56      0.57      0.56     20000\n",
      "\n",
      "Epoch-184: Loss = 1.735\n",
      "Train RMSE = 1.613||Train Precision = 61.618||Train Recall = 76.373\n",
      "Test RMSE = 1.126 || Test Precision = 60.261|| Test Recall = 69.159\n"
     ]
    },
    {
     "name": "stderr",
     "output_type": "stream",
     "text": [
      "3it [00:08,  2.82s/it]\n"
     ]
    },
    {
     "name": "stdout",
     "output_type": "stream",
     "text": [
      "tensor([[3.2386],\n",
      "        [3.2457],\n",
      "        [3.2377],\n",
      "        ...,\n",
      "        [3.3510],\n",
      "        [2.9973],\n",
      "        [3.8714]], device='cuda:0')\n",
      "              precision    recall  f1-score   support\n",
      "\n",
      "           0       0.51      0.48      0.50      8765\n",
      "           1       0.61      0.63      0.62     11235\n",
      "\n",
      "    accuracy                           0.57     20000\n",
      "   macro avg       0.56      0.56      0.56     20000\n",
      "weighted avg       0.57      0.57      0.57     20000\n",
      "\n",
      "Epoch-185: Loss = 1.730\n",
      "Train RMSE = 1.611||Train Precision = 62.313||Train Recall = 73.627\n",
      "Test RMSE = 1.129 || Test Precision = 61.135|| Test Recall = 63.311\n"
     ]
    },
    {
     "name": "stderr",
     "output_type": "stream",
     "text": [
      "3it [00:08,  2.79s/it]\n"
     ]
    },
    {
     "name": "stdout",
     "output_type": "stream",
     "text": [
      "tensor([[3.2316],\n",
      "        [3.2367],\n",
      "        [3.2302],\n",
      "        ...,\n",
      "        [3.2852],\n",
      "        [2.9710],\n",
      "        [3.7701]], device='cuda:0')\n",
      "              precision    recall  f1-score   support\n",
      "\n",
      "           0       0.51      0.51      0.51      8765\n",
      "           1       0.62      0.61      0.61     11235\n",
      "\n",
      "    accuracy                           0.57     20000\n",
      "   macro avg       0.56      0.56      0.56     20000\n",
      "weighted avg       0.57      0.57      0.57     20000\n",
      "\n",
      "Epoch-186: Loss = 1.737\n",
      "Train RMSE = 1.614||Train Precision = 62.823||Train Recall = 70.939\n",
      "Test RMSE = 1.133 || Test Precision = 61.634|| Test Recall = 61.113\n"
     ]
    },
    {
     "name": "stderr",
     "output_type": "stream",
     "text": [
      "3it [00:08,  2.82s/it]\n"
     ]
    },
    {
     "name": "stdout",
     "output_type": "stream",
     "text": [
      "tensor([[3.2374],\n",
      "        [3.2454],\n",
      "        [3.2367],\n",
      "        ...,\n",
      "        [3.3468],\n",
      "        [2.9967],\n",
      "        [3.8923]], device='cuda:0')\n",
      "              precision    recall  f1-score   support\n",
      "\n",
      "           0       0.51      0.48      0.50      8765\n",
      "           1       0.61      0.64      0.62     11235\n",
      "\n",
      "    accuracy                           0.57     20000\n",
      "   macro avg       0.56      0.56      0.56     20000\n",
      "weighted avg       0.57      0.57      0.57     20000\n",
      "\n",
      "Epoch-187: Loss = 1.734\n",
      "Train RMSE = 1.613||Train Precision = 62.083||Train Recall = 73.324\n",
      "Test RMSE = 1.129 || Test Precision = 61.200|| Test Recall = 63.667\n"
     ]
    },
    {
     "name": "stderr",
     "output_type": "stream",
     "text": [
      "3it [00:08,  2.76s/it]\n"
     ]
    },
    {
     "name": "stdout",
     "output_type": "stream",
     "text": [
      "tensor([[3.2616],\n",
      "        [3.2678],\n",
      "        [3.2629],\n",
      "        ...,\n",
      "        [3.3388],\n",
      "        [3.0085],\n",
      "        [3.7924]], device='cuda:0')\n",
      "              precision    recall  f1-score   support\n",
      "\n",
      "           0       0.52      0.46      0.49      8765\n",
      "           1       0.61      0.66      0.64     11235\n",
      "\n",
      "    accuracy                           0.57     20000\n",
      "   macro avg       0.56      0.56      0.56     20000\n",
      "weighted avg       0.57      0.57      0.57     20000\n",
      "\n",
      "Epoch-188: Loss = 1.731\n",
      "Train RMSE = 1.612||Train Precision = 61.661||Train Recall = 74.433\n",
      "Test RMSE = 1.128 || Test Precision = 61.183|| Test Recall = 66.177\n"
     ]
    },
    {
     "name": "stderr",
     "output_type": "stream",
     "text": [
      "3it [00:08,  2.77s/it]\n"
     ]
    },
    {
     "name": "stdout",
     "output_type": "stream",
     "text": [
      "tensor([[3.1703],\n",
      "        [3.1775],\n",
      "        [3.1693],\n",
      "        ...,\n",
      "        [3.3069],\n",
      "        [2.9281],\n",
      "        [3.8444]], device='cuda:0')\n",
      "              precision    recall  f1-score   support\n",
      "\n",
      "           0       0.49      0.60      0.54      8765\n",
      "           1       0.62      0.52      0.57     11235\n",
      "\n",
      "    accuracy                           0.55     20000\n",
      "   macro avg       0.56      0.56      0.55     20000\n",
      "weighted avg       0.57      0.55      0.55     20000\n",
      "\n",
      "Epoch-189: Loss = 1.737\n",
      "Train RMSE = 1.614||Train Precision = 63.640||Train Recall = 66.004\n",
      "Test RMSE = 1.138 || Test Precision = 62.394|| Test Recall = 51.642\n"
     ]
    },
    {
     "name": "stderr",
     "output_type": "stream",
     "text": [
      "3it [00:08,  2.78s/it]\n"
     ]
    },
    {
     "name": "stdout",
     "output_type": "stream",
     "text": [
      "tensor([[3.1776],\n",
      "        [3.1840],\n",
      "        [3.1767],\n",
      "        ...,\n",
      "        [3.2294],\n",
      "        [2.8853],\n",
      "        [3.7162]], device='cuda:0')\n",
      "              precision    recall  f1-score   support\n",
      "\n",
      "           0       0.49      0.65      0.56      8765\n",
      "           1       0.63      0.46      0.54     11235\n",
      "\n",
      "    accuracy                           0.55     20000\n",
      "   macro avg       0.56      0.56      0.55     20000\n",
      "weighted avg       0.57      0.55      0.55     20000\n",
      "\n",
      "Epoch-190: Loss = 1.738\n",
      "Train RMSE = 1.615||Train Precision = 64.570||Train Recall = 62.599\n",
      "Test RMSE = 1.142 || Test Precision = 63.219|| Test Recall = 46.400\n"
     ]
    },
    {
     "name": "stderr",
     "output_type": "stream",
     "text": [
      "3it [00:08,  2.76s/it]\n"
     ]
    },
    {
     "name": "stdout",
     "output_type": "stream",
     "text": [
      "tensor([[3.1784],\n",
      "        [3.1851],\n",
      "        [3.1776],\n",
      "        ...,\n",
      "        [3.2769],\n",
      "        [2.9267],\n",
      "        [3.8056]], device='cuda:0')\n",
      "              precision    recall  f1-score   support\n",
      "\n",
      "           0       0.49      0.60      0.54      8765\n",
      "           1       0.62      0.51      0.56     11235\n",
      "\n",
      "    accuracy                           0.55     20000\n",
      "   macro avg       0.56      0.56      0.55     20000\n",
      "weighted avg       0.56      0.55      0.55     20000\n",
      "\n",
      "Epoch-191: Loss = 1.744\n",
      "Train RMSE = 1.617||Train Precision = 63.952||Train Recall = 66.094\n",
      "Test RMSE = 1.137 || Test Precision = 62.221|| Test Recall = 51.073\n"
     ]
    },
    {
     "name": "stderr",
     "output_type": "stream",
     "text": [
      "3it [00:08,  2.79s/it]\n"
     ]
    },
    {
     "name": "stdout",
     "output_type": "stream",
     "text": [
      "tensor([[3.3018],\n",
      "        [3.3076],\n",
      "        [3.3018],\n",
      "        ...,\n",
      "        [3.4067],\n",
      "        [3.0795],\n",
      "        [3.8704]], device='cuda:0')\n",
      "              precision    recall  f1-score   support\n",
      "\n",
      "           0       0.51      0.37      0.43      8765\n",
      "           1       0.60      0.73      0.65     11235\n",
      "\n",
      "    accuracy                           0.57     20000\n",
      "   macro avg       0.56      0.55      0.54     20000\n",
      "weighted avg       0.56      0.57      0.56     20000\n",
      "\n",
      "Epoch-192: Loss = 1.749\n",
      "Train RMSE = 1.620||Train Precision = 60.962||Train Recall = 78.604\n",
      "Test RMSE = 1.124 || Test Precision = 59.674|| Test Recall = 72.586\n"
     ]
    },
    {
     "name": "stderr",
     "output_type": "stream",
     "text": [
      "3it [00:33, 11.07s/it]\n"
     ]
    },
    {
     "name": "stdout",
     "output_type": "stream",
     "text": [
      "tensor([[3.2935],\n",
      "        [3.2998],\n",
      "        [3.2937],\n",
      "        ...,\n",
      "        [3.4047],\n",
      "        [3.0544],\n",
      "        [3.8958]], device='cuda:0')\n",
      "              precision    recall  f1-score   support\n",
      "\n",
      "           0       0.51      0.38      0.44      8765\n",
      "           1       0.60      0.72      0.65     11235\n",
      "\n",
      "    accuracy                           0.57     20000\n",
      "   macro avg       0.56      0.55      0.54     20000\n",
      "weighted avg       0.56      0.57      0.56     20000\n",
      "\n",
      "Epoch-193: Loss = 1.734\n",
      "Train RMSE = 1.613||Train Precision = 60.496||Train Recall = 78.366\n",
      "Test RMSE = 1.124 || Test Precision = 59.774|| Test Recall = 71.607\n"
     ]
    },
    {
     "name": "stderr",
     "output_type": "stream",
     "text": [
      "3it [00:15,  5.12s/it]\n"
     ]
    },
    {
     "name": "stdout",
     "output_type": "stream",
     "text": [
      "tensor([[3.3313],\n",
      "        [3.3406],\n",
      "        [3.3316],\n",
      "        ...,\n",
      "        [3.4372],\n",
      "        [3.1149],\n",
      "        [3.9078]], device='cuda:0')\n",
      "              precision    recall  f1-score   support\n",
      "\n",
      "           0       0.53      0.28      0.36      8765\n",
      "           1       0.59      0.81      0.68     11235\n",
      "\n",
      "    accuracy                           0.58     20000\n",
      "   macro avg       0.56      0.54      0.52     20000\n",
      "weighted avg       0.57      0.58      0.54     20000\n",
      "\n",
      "Epoch-194: Loss = 1.729\n",
      "Train RMSE = 1.611||Train Precision = 59.670||Train Recall = 83.059\n",
      "Test RMSE = 1.122 || Test Precision = 58.994|| Test Recall = 81.211\n"
     ]
    },
    {
     "name": "stderr",
     "output_type": "stream",
     "text": [
      "3it [00:21,  7.02s/it]\n"
     ]
    },
    {
     "name": "stdout",
     "output_type": "stream",
     "text": [
      "tensor([[3.4284],\n",
      "        [3.4373],\n",
      "        [3.4288],\n",
      "        ...,\n",
      "        [3.5151],\n",
      "        [3.2211],\n",
      "        [3.9866]], device='cuda:0')\n",
      "              precision    recall  f1-score   support\n",
      "\n",
      "           0       0.61      0.13      0.22      8765\n",
      "           1       0.58      0.93      0.72     11235\n",
      "\n",
      "    accuracy                           0.58     20000\n",
      "   macro avg       0.59      0.53      0.47     20000\n",
      "weighted avg       0.59      0.58      0.50     20000\n",
      "\n",
      "Epoch-195: Loss = 1.735\n",
      "Train RMSE = 1.613||Train Precision = 57.594||Train Recall = 92.976\n",
      "Test RMSE = 1.123 || Test Precision = 57.991|| Test Recall = 93.307\n"
     ]
    },
    {
     "name": "stderr",
     "output_type": "stream",
     "text": [
      "3it [01:19, 26.52s/it]\n"
     ]
    },
    {
     "name": "stdout",
     "output_type": "stream",
     "text": [
      "tensor([[3.3921],\n",
      "        [3.4007],\n",
      "        [3.3920],\n",
      "        ...,\n",
      "        [3.4831],\n",
      "        [3.1680],\n",
      "        [3.9735]], device='cuda:0')\n",
      "              precision    recall  f1-score   support\n",
      "\n",
      "           0       0.58      0.15      0.23      8765\n",
      "           1       0.58      0.92      0.71     11235\n",
      "\n",
      "    accuracy                           0.58     20000\n",
      "   macro avg       0.58      0.53      0.47     20000\n",
      "weighted avg       0.58      0.58      0.50     20000\n",
      "\n",
      "Epoch-196: Loss = 1.740\n",
      "Train RMSE = 1.615||Train Precision = 57.933||Train Recall = 91.221\n",
      "Test RMSE = 1.122 || Test Precision = 57.959|| Test Recall = 91.749\n"
     ]
    },
    {
     "name": "stderr",
     "output_type": "stream",
     "text": [
      "3it [01:24, 28.28s/it]\n"
     ]
    },
    {
     "name": "stdout",
     "output_type": "stream",
     "text": [
      "tensor([[3.3398],\n",
      "        [3.3464],\n",
      "        [3.3374],\n",
      "        ...,\n",
      "        [3.4596],\n",
      "        [3.1610],\n",
      "        [3.8994]], device='cuda:0')\n",
      "              precision    recall  f1-score   support\n",
      "\n",
      "           0       0.54      0.25      0.34      8765\n",
      "           1       0.59      0.83      0.69     11235\n",
      "\n",
      "    accuracy                           0.58     20000\n",
      "   macro avg       0.56      0.54      0.52     20000\n",
      "weighted avg       0.57      0.58      0.54     20000\n",
      "\n",
      "Epoch-197: Loss = 1.739\n",
      "Train RMSE = 1.615||Train Precision = 59.751||Train Recall = 84.538\n",
      "Test RMSE = 1.123 || Test Precision = 58.787|| Test Recall = 83.400\n"
     ]
    },
    {
     "name": "stderr",
     "output_type": "stream",
     "text": [
      "3it [01:26, 28.89s/it]\n"
     ]
    },
    {
     "name": "stdout",
     "output_type": "stream",
     "text": [
      "tensor([[3.3162],\n",
      "        [3.3230],\n",
      "        [3.3148],\n",
      "        ...,\n",
      "        [3.4194],\n",
      "        [3.0731],\n",
      "        [3.9397]], device='cuda:0')\n",
      "              precision    recall  f1-score   support\n",
      "\n",
      "           0       0.53      0.34      0.41      8765\n",
      "           1       0.60      0.77      0.67     11235\n",
      "\n",
      "    accuracy                           0.58     20000\n",
      "   macro avg       0.57      0.55      0.54     20000\n",
      "weighted avg       0.57      0.58      0.56     20000\n",
      "\n",
      "Epoch-198: Loss = 1.729\n",
      "Train RMSE = 1.611||Train Precision = 60.923||Train Recall = 81.529\n",
      "Test RMSE = 1.123 || Test Precision = 59.817|| Test Recall = 77.009\n"
     ]
    },
    {
     "name": "stderr",
     "output_type": "stream",
     "text": [
      "3it [01:27, 29.06s/it]\n"
     ]
    },
    {
     "name": "stdout",
     "output_type": "stream",
     "text": [
      "tensor([[3.2826],\n",
      "        [3.2896],\n",
      "        [3.2807],\n",
      "        ...,\n",
      "        [3.3461],\n",
      "        [3.0327],\n",
      "        [3.8114]], device='cuda:0')\n",
      "              precision    recall  f1-score   support\n",
      "\n",
      "           0       0.52      0.41      0.46      8765\n",
      "           1       0.60      0.70      0.65     11235\n",
      "\n",
      "    accuracy                           0.57     20000\n",
      "   macro avg       0.56      0.56      0.55     20000\n",
      "weighted avg       0.57      0.57      0.57     20000\n",
      "\n",
      "Epoch-199: Loss = 1.734\n",
      "Train RMSE = 1.613||Train Precision = 61.308||Train Recall = 75.874\n",
      "Test RMSE = 1.126 || Test Precision = 60.403|| Test Recall = 69.924\n"
     ]
    },
    {
     "name": "stderr",
     "output_type": "stream",
     "text": [
      "3it [01:28, 29.36s/it]\n"
     ]
    },
    {
     "name": "stdout",
     "output_type": "stream",
     "text": [
      "tensor([[3.2491],\n",
      "        [3.2559],\n",
      "        [3.2479],\n",
      "        ...,\n",
      "        [3.3726],\n",
      "        [3.0379],\n",
      "        [3.9105]], device='cuda:0')\n",
      "              precision    recall  f1-score   support\n",
      "\n",
      "           0       0.51      0.46      0.49      8765\n",
      "           1       0.61      0.66      0.63     11235\n",
      "\n",
      "    accuracy                           0.57     20000\n",
      "   macro avg       0.56      0.56      0.56     20000\n",
      "weighted avg       0.57      0.57      0.57     20000\n",
      "\n",
      "Epoch-200: Loss = 1.729\n",
      "Train RMSE = 1.611||Train Precision = 62.190||Train Recall = 74.807\n",
      "Test RMSE = 1.127 || Test Precision = 61.068|| Test Recall = 65.785\n"
     ]
    }
   ],
   "source": [
    "train_loss, test_loss, train_f1, test_f1 = sm_net.fit()"
   ]
  },
  {
   "cell_type": "code",
   "execution_count": 28,
   "id": "f721ad65",
   "metadata": {},
   "outputs": [],
   "source": [
    "torch.save(sm_net, \"./pretrained/rating_video_text.pth\")"
   ]
  },
  {
   "cell_type": "code",
   "execution_count": 29,
   "id": "2e011c07",
   "metadata": {},
   "outputs": [
    {
     "data": {
      "image/png": "[encoded data removed]",
      "text/plain": [
       "<Figure size 432x288 with 1 Axes>"
      ]
     },
     "metadata": {
      "needs_background": "light"
     },
     "output_type": "display_data"
    },
    {
     "data": {
      "image/png": "[encoded data removed]",
      "text/plain": [
       "<Figure size 432x288 with 1 Axes>"
      ]
     },
     "metadata": {
      "needs_background": "light"
     },
     "output_type": "display_data"
    }
   ],
   "source": [
    "import matplotlib.pyplot as plt\n",
    "\n",
    "plt.plot(train_loss[10::], label = \"Train Loss\")\n",
    "plt.plot(test_loss[10::], label = \"Test Loss\")\n",
    "plt.legend()\n",
    "plt.show()\n",
    "plt.plot(train_f1, label = \"Train F1\")\n",
    "plt.plot(test_f1, label = \"Test F1\")\n",
    "plt.legend()\n",
    "plt.show()"
   ]
  },
  {
   "cell_type": "markdown",
   "id": "03ca6d45",
   "metadata": {},
   "source": [
    "# Test"
   ]
  },
  {
   "cell_type": "code",
   "execution_count": 30,
   "id": "57f49a6a",
   "metadata": {},
   "outputs": [],
   "source": [
    "import matplotlib.pyplot as plt\n",
    "import torch"
   ]
  },
  {
   "cell_type": "code",
   "execution_count": 31,
   "id": "20f07f29",
   "metadata": {},
   "outputs": [],
   "source": [
    "sm_net = torch.load(\"./pretrained/rating_video_text.pth\")"
   ]
  },
  {
   "cell_type": "code",
   "execution_count": null,
   "id": "6a083187",
   "metadata": {},
   "outputs": [
    {
     "name": "stdout",
     "output_type": "stream",
     "text": [
      "tensor([[3.2491],\n",
      "        [3.2559],\n",
      "        [3.2479],\n",
      "        ...,\n",
      "        [3.3726],\n",
      "        [3.0379],\n",
      "        [3.9105]], device='cuda:0')\n",
      "              precision    recall  f1-score   support\n",
      "\n",
      "           0       0.83      0.05      0.09      8765\n",
      "           1       0.57      0.99      0.73     11235\n",
      "\n",
      "    accuracy                           0.58     20000\n",
      "   macro avg       0.70      0.52      0.41     20000\n",
      "weighted avg       0.68      0.58      0.45     20000\n",
      "\n"
     ]
    }
   ],
   "source": [
    "prs = []\n",
    "rec = []\n",
    "f1 = []\n",
    "\n",
    "for i in np.arange(3, 4, 0.1):\n",
    "    _, p, r, f, _, _, _ = sm_net.evaluate(i)\n",
    "    prs.append(p)\n",
    "    rec.append(r)\n",
    "    f1.append(f)\n",
    "    \n",
    "plt.plot(prs, label = \"Test Precision\")\n",
    "plt.plot(rec, label = \"Test Recall\")\n",
    "plt.plot(f1, label = \"Test F1\")\n",
    "\n",
    "plt.legend()\n",
    "plt.show()"
   ]
  },
  {
   "cell_type": "code",
   "execution_count": null,
   "id": "a7e3aab5",
   "metadata": {},
   "outputs": [],
   "source": [
    "prs"
   ]
  },
  {
   "cell_type": "code",
   "execution_count": null,
   "id": "072ba36d",
   "metadata": {},
   "outputs": [],
   "source": [
    "rec"
   ]
  },
  {
   "cell_type": "code",
   "execution_count": null,
   "id": "0522e510",
   "metadata": {},
   "outputs": [],
   "source": []
  }
 ],
 "metadata": {
  "kernelspec": {
   "display_name": "Python 3",
   "language": "python",
   "name": "python3"
  },
  "language_info": {
   "codemirror_mode": {
    "name": "ipython",
    "version": 3
   },
   "file_extension": ".py",
   "mimetype": "text/x-python",
   "name": "python",
   "nbconvert_exporter": "python",
   "pygments_lexer": "ipython3",
   "version": "3.9.7"
  }
 },
 "nbformat": 4,
 "nbformat_minor": 5
}
