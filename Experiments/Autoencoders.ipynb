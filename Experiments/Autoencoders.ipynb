{
 "cells": [
  {
   "cell_type": "markdown",
   "id": "e99f6d7a",
   "metadata": {},
   "source": [
    "# Setup"
   ]
  },
  {
   "cell_type": "code",
   "execution_count": 1,
   "id": "51ecc18c",
   "metadata": {},
   "outputs": [],
   "source": [
    "import os\n",
    "os.environ['TF_CPP_MIN_LOG_LEVEL'] = '3' "
   ]
  },
  {
   "cell_type": "code",
   "execution_count": 2,
   "id": "436b3c6b",
   "metadata": {},
   "outputs": [],
   "source": [
    "import numpy as np\n",
    "import pandas as pd\n",
    "import tensorflow as tf"
   ]
  },
  {
   "cell_type": "code",
   "execution_count": 3,
   "id": "28efa8ef",
   "metadata": {},
   "outputs": [
    {
     "data": {
      "text/plain": [
       "'2.2.0'"
      ]
     },
     "execution_count": 3,
     "metadata": {},
     "output_type": "execute_result"
    }
   ],
   "source": [
    "tf.__version__"
   ]
  },
  {
   "cell_type": "code",
   "execution_count": 4,
   "id": "d7dad33a",
   "metadata": {},
   "outputs": [
    {
     "data": {
      "text/plain": [
       "[PhysicalDevice(name='/physical_device:CPU:0', device_type='CPU'),\n",
       " PhysicalDevice(name='/physical_device:XLA_CPU:0', device_type='XLA_CPU'),\n",
       " PhysicalDevice(name='/physical_device:GPU:0', device_type='GPU'),\n",
       " PhysicalDevice(name='/physical_device:XLA_GPU:0', device_type='XLA_GPU')]"
      ]
     },
     "execution_count": 4,
     "metadata": {},
     "output_type": "execute_result"
    }
   ],
   "source": [
    "tf.config.list_physical_devices()"
   ]
  },
  {
   "cell_type": "code",
   "execution_count": 5,
   "id": "687684d3",
   "metadata": {},
   "outputs": [],
   "source": [
    "items = pd.read_csv(\"../Datasets/ml-100k/Text/items.csv\")"
   ]
  },
  {
   "cell_type": "code",
   "execution_count": 6,
   "id": "dba629d9",
   "metadata": {},
   "outputs": [],
   "source": [
    "data_text = items['Summary']"
   ]
  },
  {
   "cell_type": "code",
   "execution_count": 7,
   "id": "ea9aac7a",
   "metadata": {},
   "outputs": [
    {
     "data": {
      "text/plain": [
       "'A little boy named Andy loves to be in his room, playing with his toys, especially his doll named \"Woody\". But, what do the toys do when Andy is not with them, they come to life. Woody believes that his life (as a toy) is good. However, he must worry about Andy\\'s family moving, and what Woody does not know is about Andy\\'s birthday party. Woody does not realize that Andy\\'s mother gave him an action figure known as Buzz Lightyear, who does not believe that he is a toy, and quickly becomes Andy\\'s new favorite toy. Woody, who is now consumed with jealousy, tries to get rid of Buzz. Then, both Woody and Buzz are now lost. They must find a way to get back to Andy before he moves without them, but they will have to pass through a ruthless toy killer, Sid Phillips. —John Wiggins'"
      ]
     },
     "execution_count": 7,
     "metadata": {},
     "output_type": "execute_result"
    }
   ],
   "source": [
    "data_text[0]"
   ]
  },
  {
   "cell_type": "markdown",
   "id": "3877effb",
   "metadata": {},
   "source": [
    "# AutoEncoder\n",
    "## Text Data"
   ]
  },
  {
   "cell_type": "code",
   "execution_count": 8,
   "id": "50189246",
   "metadata": {},
   "outputs": [
    {
     "name": "stderr",
     "output_type": "stream",
     "text": [
      "Using TensorFlow backend.\n",
      "[nltk_data] Downloading package punkt to /home/sriram/nltk_data...\n",
      "[nltk_data]   Package punkt is already up-to-date!\n",
      "[nltk_data] Downloading package wordnet to /home/sriram/nltk_data...\n",
      "[nltk_data]   Package wordnet is already up-to-date!\n",
      "[nltk_data] Downloading package stopwords to /home/sriram/nltk_data...\n",
      "[nltk_data]   Package stopwords is already up-to-date!\n"
     ]
    }
   ],
   "source": [
    "import re\n",
    "\n",
    "from keras.optimizers import Adam\n",
    "from keras.models import Model, Sequential\n",
    "\n",
    "import nltk\n",
    "nltk.download('punkt')\n",
    "nltk.download('wordnet')\n",
    "nltk.download('stopwords')\n",
    "from nltk.stem import wordnet\n",
    "from nltk.corpus import stopwords \n",
    "from nltk.stem.porter import PorterStemmer \n",
    "from nltk.tokenize import word_tokenize as wt\n",
    "\n",
    "from keras.preprocessing.text import Tokenizer\n",
    "from keras.preprocessing.sequence import pad_sequences\n",
    "from keras.losses import sparse_categorical_crossentropy\n",
    "from keras.layers import LSTM, Input, TimeDistributed, Dense, Activation, RepeatVector, Embedding, Bidirectional"
   ]
  },
  {
   "cell_type": "code",
   "execution_count": 9,
   "id": "950933fd",
   "metadata": {},
   "outputs": [],
   "source": [
    "lem = wordnet.WordNetLemmatizer()\n",
    "sw = set(stopwords.words(\"english\")) "
   ]
  },
  {
   "cell_type": "code",
   "execution_count": 10,
   "id": "85a24d98",
   "metadata": {},
   "outputs": [],
   "source": [
    "# self.input_sequence = Input(shape = (self.max_len,))\n",
    "# self.embedding = Embedding(input_dim = self.vocab, output_dim=128,)(self.input_sequence)\n",
    "# self.encoder = Bidirectional(LSTM(self.hidden, return_sequences=False))(self.embedding)\n",
    "# self.r_vec = RepeatVector(self.max_len)(self.encoder)\n",
    "# self.decoder = Bidirectional(LSTM(self.hidden, return_sequences=True, dropout=0.2))(self.r_vec)\n",
    "# self.logits = TimeDistributed(Dense(self.vocab))(self.decoder)\n",
    "# self.enc_dec_model = Model(inputs = self.input_sequence, outputs = Activation('softmax')(self.logits))\n",
    "# enc_inp = Input(shape = (self.max_len,))"
   ]
  },
  {
   "cell_type": "code",
   "execution_count": 11,
   "id": "dfee7a8a",
   "metadata": {},
   "outputs": [],
   "source": [
    "class Autoencoder_Text(Model):\n",
    "    def __init__(self, input_=300, hidden=50):\n",
    "        super(Autoencoder_Text, self).__init__()\n",
    "        self.max_len = input_\n",
    "        self.hidden = hidden\n",
    "    \n",
    "    def clean_text(self, text):\n",
    "        text = str(text).lower()\n",
    "        text = re.sub(r\"@[A-Za-z0-9]+\", ' ', text)\n",
    "        text = re.sub(r\"https?://[A-Za-z0-9./]+\", ' ', text)\n",
    "        text = re.sub(r\"[^a-zA-z.!?'0-9]\", ' ', text)\n",
    "        text = re.sub('\\t', ' ',  text)\n",
    "        text = re.sub(r\" +\", ' ', text)\n",
    "        text = wt(text)\n",
    "        text = (\" \").join([lem.lemmatize(i, pos ='v') \n",
    "                           for i in text if i not in sw])\n",
    "        return(text)\n",
    "    \n",
    "    def tokenize(self, sentences):\n",
    "        text_tokenizer = Tokenizer()\n",
    "        text_tokenizer.fit_on_texts(sentences)\n",
    "        return(text_tokenizer.texts_to_sequences(sentences), text_tokenizer)\n",
    "    \n",
    "    def pre_process(self, data_text, train=False):\n",
    "        data_text = data_text.apply(self.clean_text)\n",
    "        text_tokenized, self.text_tokenizer = self.tokenize(data_text)\n",
    "        \n",
    "        if train:\n",
    "            self.vocab = len(self.text_tokenizer.word_index) + 1\n",
    "            self.max_len = int(len(max(text_tokenized,key=len)))\n",
    "            \n",
    "        pad_sentence = pad_sequences(text_tokenized, self.max_len, padding = \"post\")\n",
    "        return(pad_sentence.reshape(*pad_sentence.shape, 1))\n",
    "    \n",
    "    def model(self):\n",
    "        self.encoder = Sequential([\n",
    "            Embedding(input_dim = self.vocab, output_dim=128,),\n",
    "            Bidirectional(LSTM(self.hidden, return_sequences=False))\n",
    "        ])\n",
    "        \n",
    "        self.r_vec = RepeatVector(self.max_len)\n",
    "        self.decoder = Sequential([\n",
    "            Bidirectional(LSTM(self.hidden, return_sequences=True, dropout=0.2)),\n",
    "            TimeDistributed(Dense(self.vocab))\n",
    "        ])\n",
    "        self.enc_dec_model = Sequential([self.encoder, self.r_vec, self.decoder])\n",
    "    \n",
    "    def train(self, data_text, epochs=10, batch_size=20):\n",
    "        pad_sentence = self.pre_process(data_text, True)\n",
    "        self.model()\n",
    "        self.enc_dec_model.compile(loss=sparse_categorical_crossentropy,\n",
    "              optimizer=Adam(1e-3),\n",
    "              metrics=['accuracy'])\n",
    "        \n",
    "        self.enc_dec_model.summary()\n",
    "        self.enc_dec_model.fit(np.squeeze(pad_sentence, axis = 2), \n",
    "                                      pad_sentence, batch_size=batch_size, epochs=epochs)\n",
    "        self.enc_dec_model.save('./pretrained/text_model')\n",
    "        \n",
    "    def call(self, inputs):\n",
    "        pad_sentences = self.pre_process(inputs, False)\n",
    "        print(tf.convert_to_tensor(pad_sentences).shape)\n",
    "        return(self.enc_dec_model(tf.squeeze(pad_sentences, axis = 2)))"
   ]
  },
  {
   "cell_type": "code",
   "execution_count": 16,
   "id": "249957c2",
   "metadata": {
    "tags": []
   },
   "outputs": [
    {
     "name": "stdout",
     "output_type": "stream",
     "text": [
      "Model: \"sequential_6\"\n",
      "_________________________________________________________________\n",
      "Layer (type)                 Output Shape              Param #   \n",
      "=================================================================\n",
      "sequential_4 (Sequential)    (None, 100)               1821616   \n",
      "_________________________________________________________________\n",
      "repeat_vector_2 (RepeatVecto (None, 240, 100)          0         \n",
      "_________________________________________________________________\n",
      "sequential_5 (Sequential)    (None, 240, 13672)        1441272   \n",
      "=================================================================\n",
      "Total params: 3,262,888\n",
      "Trainable params: 3,262,888\n",
      "Non-trainable params: 0\n",
      "_________________________________________________________________\n",
      "Epoch 1/10\n",
      "1682/1682 [==============================] - 37s 22ms/step - loss: 3.2861 - accuracy: 0.7713\n",
      "Epoch 2/10\n",
      "1682/1682 [==============================] - 40s 24ms/step - loss: 2.5532 - accuracy: 0.7894\n",
      "Epoch 3/10\n",
      "1682/1682 [==============================] - 46s 27ms/step - loss: 2.6254 - accuracy: 0.7886\n",
      "Epoch 4/10\n",
      "1682/1682 [==============================] - 49s 29ms/step - loss: 2.6611 - accuracy: 0.7884\n",
      "Epoch 5/10\n",
      "1682/1682 [==============================] - 51s 30ms/step - loss: 2.6736 - accuracy: 0.7887\n",
      "Epoch 6/10\n",
      "1682/1682 [==============================] - 52s 31ms/step - loss: 2.8645 - accuracy: 0.7893\n",
      "Epoch 7/10\n",
      "1682/1682 [==============================] - 56s 33ms/step - loss: 2.6839 - accuracy: 0.7877\n",
      "Epoch 8/10\n",
      "1682/1682 [==============================] - 56s 34ms/step - loss: 2.6957 - accuracy: 0.7875\n",
      "Epoch 9/10\n",
      "1682/1682 [==============================] - 58s 35ms/step - loss: 2.5598 - accuracy: 0.7891\n",
      "Epoch 10/10\n",
      "1682/1682 [==============================] - 59s 35ms/step - loss: 2.5381 - accuracy: 0.7890\n"
     ]
    }
   ],
   "source": [
    "AE = Autoencoder_Text()\n",
    "AE.train(data_text, epochs = 10, batch_size = 30)"
   ]
  },
  {
   "cell_type": "code",
   "execution_count": 17,
   "id": "2b82e659",
   "metadata": {},
   "outputs": [
    {
     "name": "stdout",
     "output_type": "stream",
     "text": [
      "[[ 0.00580708  0.00328717 -0.06211844  0.04372958  0.01164463 -0.01974315\n",
      "  -0.01029312  0.0251993  -0.03299069  0.00252017 -0.02111654  0.02876656\n",
      "  -0.05950402  0.00679381  0.0250336   0.00219231 -0.001321   -0.10219908\n",
      "  -0.01739231 -0.0861205   0.00977161 -0.01802992  0.00991577  0.01871123\n",
      "  -0.04014775 -0.01935747  0.00491042  0.02275256  0.01923463  0.03762147\n",
      "  -0.01565715 -0.0399536  -0.00464426  0.02601043 -0.04974602 -0.00426659\n",
      "   0.01237303 -0.04691805 -0.01704604 -0.00839573  0.03441707 -0.02830616\n",
      "  -0.03396834  0.02059674  0.03532096  0.01276242 -0.05463283  0.00992401\n",
      "   0.03215405  0.00380808  0.03851245 -0.01175375 -0.03278746 -0.03338955\n",
      "  -0.00962947 -0.01989641 -0.00212314 -0.06176991  0.00432015  0.01511423\n",
      "  -0.00444017 -0.02132732  0.00099115  0.04299232 -0.00759095  0.03637276\n",
      "  -0.00100477 -0.00238583 -0.00583881 -0.00277562  0.01362262  0.01131153\n",
      "   0.01879097  0.00358059  0.02546507 -0.04044672  0.01184742  0.01985254\n",
      "  -0.02415028  0.01888555  0.01400695  0.04704826  0.04175095  0.05082399\n",
      "   0.01927172 -0.02864361  0.00202705  0.01797729  0.03442186  0.02755541\n",
      "   0.01853398  0.02595262 -0.01156918  0.04485878  0.00333988 -0.00682059\n",
      "  -0.00244601  0.01364408  0.04668883  0.00917135]\n",
      " [ 0.00580708  0.00328717 -0.06211845  0.04372958  0.01164463 -0.01974315\n",
      "  -0.01029312  0.02519929 -0.03299069  0.00252017 -0.02111654  0.02876656\n",
      "  -0.05950401  0.00679381  0.0250336   0.00219231 -0.00132101 -0.10219908\n",
      "  -0.01739231 -0.0861205   0.00977161 -0.01802992  0.00991578  0.01871123\n",
      "  -0.04014776 -0.01935747  0.00491042  0.02275255  0.01923463  0.03762146\n",
      "  -0.01565715 -0.0399536  -0.00464426  0.02601043 -0.04974602 -0.00426659\n",
      "   0.01237303 -0.04691805 -0.01704604 -0.00839573  0.03441707 -0.02830617\n",
      "  -0.03396834  0.02059674  0.03532096  0.01276242 -0.05463283  0.00992401\n",
      "   0.03215405  0.00380808 -0.00067892 -0.01113393 -0.05270546 -0.02576461\n",
      "  -0.03935397 -0.02329693 -0.03308505 -0.04315247  0.01124049 -0.00072883\n",
      "  -0.02200205 -0.07099367  0.03796843  0.04494444 -0.02737948  0.02956263\n",
      "  -0.02037157 -0.0037511  -0.00583518  0.02764392 -0.00094753 -0.01675526\n",
      "   0.00379142  0.00337794 -0.01439811 -0.00054165  0.03667098  0.00406926\n",
      "  -0.02433214 -0.0153536   0.03130832  0.03048215  0.02993791  0.00749777\n",
      "  -0.00871742 -0.00859304 -0.00508284 -0.02006711  0.00291676  0.03527142\n",
      "   0.01260088  0.03981023 -0.00868337  0.01644656 -0.01191472  0.00443259\n",
      "  -0.00948783  0.02424077  0.0369799  -0.00250557]]\n"
     ]
    }
   ],
   "source": [
    "inputs = np.squeeze(AE.pre_process(data_text), axis = 2)\n",
    "output = AE.encoder.predict(inputs)\n",
    "print(output[:2])"
   ]
  },
  {
   "cell_type": "markdown",
   "id": "2747881d",
   "metadata": {},
   "source": [
    "## Meta-Data"
   ]
  }
 ],
 "metadata": {
  "kernelspec": {
   "display_name": "Python 3 (ipykernel)",
   "language": "python",
   "name": "python3"
  },
  "language_info": {
   "codemirror_mode": {
    "name": "ipython",
    "version": 3
   },
   "file_extension": ".py",
   "mimetype": "text/x-python",
   "name": "python",
   "nbconvert_exporter": "python",
   "pygments_lexer": "ipython3",
   "version": "3.8.12"
  }
 },
 "nbformat": 4,
 "nbformat_minor": 5
}
