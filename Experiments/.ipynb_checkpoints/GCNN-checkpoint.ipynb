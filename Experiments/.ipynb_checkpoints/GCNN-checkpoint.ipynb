{
 "cells": [
  {
   "cell_type": "markdown",
   "id": "9f00f8a9",
   "metadata": {
    "id": "9f00f8a9"
   },
   "source": [
    "# Setup"
   ]
  },
  {
   "cell_type": "code",
   "execution_count": 1,
   "id": "0d376d13",
   "metadata": {
    "id": "0d376d13"
   },
   "outputs": [],
   "source": [
    "import os\n",
    "os.environ[\"CUDA_VISIBLE_DEVICES\"]=\"2\"\n",
    "os.environ[\"CUDA_LAUNCH_BLOCKING\"]=\"0, 1, 2, 3, 4\""
   ]
  },
  {
   "cell_type": "code",
   "execution_count": 2,
   "id": "f8d734b3",
   "metadata": {
    "id": "f8d734b3"
   },
   "outputs": [],
   "source": [
    "import torch\n",
    "import random\n",
    "import numpy as np\n",
    "import pandas as pd"
   ]
  },
  {
   "cell_type": "code",
   "execution_count": 3,
   "id": "9d3f2e9c",
   "metadata": {
    "id": "9d3f2e9c"
   },
   "outputs": [],
   "source": [
    "from torch_geometric.data import HeteroData\n",
    "from sklearn.preprocessing import normalize\n",
    "from sklearn.metrics.pairwise import cosine_similarity\n",
    "from torch_geometric.transforms import RandomLinkSplit\n",
    "from torch_geometric.loader import DataLoader, NeighborLoader, HGTLoader\n",
    "from sklearn.metrics import confusion_matrix, classification_report\n",
    "from sklearn.metrics import f1_score, precision_score, recall_score"
   ]
  },
  {
   "cell_type": "code",
   "execution_count": 4,
   "id": "5a31d8cc",
   "metadata": {
    "id": "5a31d8cc",
    "outputId": "55d6dfa3-5a84-47c7-c9c0-c15edd741ccc"
   },
   "outputs": [
    {
     "data": {
      "text/plain": [
       "True"
      ]
     },
     "execution_count": 4,
     "metadata": {},
     "output_type": "execute_result"
    }
   ],
   "source": [
    "torch.cuda.is_available()"
   ]
  },
  {
   "cell_type": "code",
   "execution_count": 5,
   "id": "e88960e9",
   "metadata": {
    "id": "e88960e9",
    "outputId": "607a1a5c-3dcb-4f21-a18c-6931672b3dcc"
   },
   "outputs": [
    {
     "data": {
      "text/plain": [
       "'1.10.1'"
      ]
     },
     "execution_count": 5,
     "metadata": {},
     "output_type": "execute_result"
    }
   ],
   "source": [
    "torch.__version__"
   ]
  },
  {
   "cell_type": "code",
   "execution_count": 6,
   "id": "bdf29826",
   "metadata": {
    "id": "bdf29826"
   },
   "outputs": [],
   "source": [
    "device = torch.device(\"cuda:0\" if torch.cuda.is_available() else \"cpu\")"
   ]
  },
  {
   "cell_type": "code",
   "execution_count": 7,
   "id": "68193062",
   "metadata": {
    "id": "68193062"
   },
   "outputs": [],
   "source": [
    "items_csv = \"../Datasets/ml-100k/Text/items.csv\"\n",
    "train_ratings = \"../Datasets/ml-100k/Text/u1.base\"\n",
    "test_ratings = \"../Datasets/ml-100k/Text/u1.test\"\n",
    "item_path = \"../Datasets/ml-100k/\""
   ]
  },
  {
   "cell_type": "code",
   "execution_count": 8,
   "id": "06fd8195",
   "metadata": {
    "id": "06fd8195"
   },
   "outputs": [],
   "source": [
    "n_users = 943\n",
    "n_items = 1682"
   ]
  },
  {
   "cell_type": "markdown",
   "id": "64284205",
   "metadata": {
    "id": "64284205"
   },
   "source": [
    "## Construct Graph"
   ]
  },
  {
   "cell_type": "code",
   "execution_count": 9,
   "id": "58a88987",
   "metadata": {
    "id": "58a88987"
   },
   "outputs": [],
   "source": [
    "# class MovielensDataset():\n",
    "#     def __init__(self, ratings = train_ratings, item_path = item_path, device = device):\n",
    "#         self.video_embeddings = pd.read_csv(item_path + \"Video/embeddings.csv\").to_numpy()\n",
    "#         self.audio_embeddings = pd.read_csv(item_path + \"Audio/embeddings.csv\").to_numpy()\n",
    "#         self.meta_embeddings = pd.read_csv(item_path + \"Meta/embeddings.csv\").to_numpy()\n",
    "#         self.text_embeddings = pd.read_csv(item_path + \"Text/embeddings.csv\").to_numpy()\n",
    "#         self.user_embeddings = pd.read_csv(item_path + \"User/embeddings.csv\").to_numpy()\n",
    "#         self.ratings = pd.read_csv(ratings, sep='\\t', \n",
    "#                                    names=['user_id', 'movie_id', 'rating', 'unix_timestamp'],encoding='latin-1')\n",
    "#         self.indices = None\n",
    "#         self.device = device\n",
    "#         self.data = None\n",
    "#         self.n_users = None\n",
    "#         self.n_items = None\n",
    "#         self.dataset = HeteroData()\n",
    "#         self.fill_ratings()\n",
    "#         self.embeddings()\n",
    "    \n",
    "#     def fill_ratings(self, threshold=4):\n",
    "#         self.n_users = self.ratings.user_id.unique().shape[0]\n",
    "#         self.n_items = self.ratings.movie_id.unique().shape[0]\n",
    "#         self.edge_index = []\n",
    "#         self.edge_label = []\n",
    "        \n",
    "#         self.data = np.zeros((n_users, n_items))\n",
    "#         for line in self.ratings.itertuples():\n",
    "#             if(line[3] >= 1):\n",
    "#                 self.data[line[1] - 1, line[2] - 1] = line[3]\n",
    "#                 self.edge_index.append(torch.tensor([line[1] - 1, line[2] - 1], dtype = torch.long))\n",
    "#                 self.edge_label.append(line[3] - 1)\n",
    "\n",
    "#         self.edge_index = torch.stack(self.edge_index, 1).to(self.device)\n",
    "#         self.edge_label = torch.tensor(self.edge_label, dtype = torch.long).to(self.device)\n",
    "    \n",
    "#     def embeddings(self):\n",
    "#         self.audio_embeddings = np.nan_to_num(self.audio_embeddings)\n",
    "#         self.video_embeddings = np.nan_to_num(self.video_embeddings)\n",
    "#         self.audio_embeddings = normalize(self.audio_embeddings, axis = 0)\n",
    "        \n",
    "#         self.dataset['movies'].x = torch.tensor(self.audio_embeddings, dtype = torch.float).to(self.device)\n",
    "#         self.dataset['users'].x  = torch.tensor(self.user_embeddings, dtype = torch.float).to(self.device)\n",
    "#         self.dataset['users', 'likes', 'movies'].edge_index = self.edge_index\n",
    "#         self.dataset['users', 'likes', 'movies'].edge_label  = self.edge_label"
   ]
  },
  {
   "cell_type": "code",
   "execution_count": 10,
   "id": "f6323a6d",
   "metadata": {},
   "outputs": [],
   "source": [
    "class MovielensDataset():\n",
    "    def __init__(self, ratings = train_ratings, item_path = item_path, device = device):\n",
    "        self.video_embeddings = pd.read_csv(item_path + \"Video/embeddings.csv\").to_numpy()\n",
    "        self.audio_embeddings = pd.read_csv(item_path + \"Audio/embeddings.csv\").to_numpy()\n",
    "        self.meta_embeddings = pd.read_csv(item_path + \"Meta/embeddings.csv\").to_numpy()\n",
    "        self.text_embeddings = pd.read_csv(item_path + \"Text/embeddings.csv\").to_numpy()\n",
    "        self.user_embeddings = pd.read_csv(item_path + \"User/embeddings.csv\").to_numpy()\n",
    "        self.ratings = pd.read_csv(ratings, sep='\\t', \n",
    "                                   names=['user_id', 'movie_id', 'rating', 'unix_timestamp'],encoding='latin-1')\n",
    "        self.indices = None\n",
    "        self.device = device\n",
    "        self.data = None\n",
    "        self.n_users = None\n",
    "        self.n_items = None\n",
    "        self.dataset = HeteroData()\n",
    "        self.fill_ratings()\n",
    "        self.embeddings()\n",
    "    \n",
    "    def fill_ratings(self, threshold=4):\n",
    "        self.n_users = self.ratings.user_id.unique().shape[0]\n",
    "        self.n_items = self.ratings.movie_id.unique().shape[0]\n",
    "        self.edge_index = []\n",
    "        self.edge_label = []\n",
    "        \n",
    "        self.data = np.zeros((n_users, n_items))\n",
    "        for line in self.ratings.itertuples():\n",
    "            if(line[3] >= 1):\n",
    "                self.data[line[1] - 1, line[2] - 1] = line[3]\n",
    "                self.edge_index.append(torch.tensor([line[1] - 1, line[2] - 1], dtype = torch.long))\n",
    "                self.edge_label.append(line[3] - 1)\n",
    "        \n",
    "        self.edge_index = torch.stack(self.edge_index, 1).to(self.device)\n",
    "        self.edge_label = torch.tensor(self.edge_label, dtype = torch.long).to(self.device)\n",
    "    \n",
    "    def embeddings(self):\n",
    "#         self.audio_embeddings = np.nan_to_num(self.audio_embeddings)\n",
    "#         self.video_embeddings = np.nan_to_num(self.video_embeddings)\n",
    "#         self.audio_embeddings = normalize(self.audio_embeddings, axis = 0)\n",
    "        in_ = torch.cat( (torch.tensor(self.text_embeddings, dtype = torch.float).to(self.device),\n",
    "                        torch.tensor(self.video_embeddings, dtype = torch.float).to(self.device)), axis=1)\n",
    "#         print(in_.shape)\n",
    "        self.dataset['movies'].x  = in_\n",
    "#         self.dataset['movies'].x = torch.tensor(self.meta_embeddings, dtype = torch.float).to(self.device)\n",
    "        self.dataset['users'].x  = torch.tensor(self.user_embeddings, dtype = torch.float).to(self.device)\n",
    "#         self.dataset['movies'].x = torch.tensor(self.data.T, dtype = torch.float).to(self.device)\n",
    "#         self.dataset['users'].x  = torch.tensor(self.data, dtype = torch.float).to(self.device)\n",
    "        self.dataset['users', 'likes', 'movies'].edge_index = self.edge_index\n",
    "        self.dataset['users', 'likes', 'movies'].edge_label  = self.edge_label"
   ]
  },
  {
   "cell_type": "code",
   "execution_count": 11,
   "id": "cfe61cb3",
   "metadata": {
    "id": "cfe61cb3"
   },
   "outputs": [],
   "source": [
    "train_data = MovielensDataset(ratings = train_ratings).dataset\n",
    "test_data = MovielensDataset(ratings = test_ratings).dataset"
   ]
  },
  {
   "cell_type": "code",
   "execution_count": 12,
   "id": "7da00061",
   "metadata": {
    "id": "7da00061",
    "outputId": "d5610b24-1493-4b38-ff95-7f97167d329f",
    "scrolled": true
   },
   "outputs": [
    {
     "data": {
      "text/plain": [
       "HeteroData(\n",
       "  \u001b[1mmovies\u001b[0m={ x=[1682, 2432] },\n",
       "  \u001b[1musers\u001b[0m={ x=[943, 1220] },\n",
       "  \u001b[1m(users, likes, movies)\u001b[0m={\n",
       "    edge_index=[2, 80000],\n",
       "    edge_label=[80000]\n",
       "  }\n",
       ")"
      ]
     },
     "execution_count": 12,
     "metadata": {},
     "output_type": "execute_result"
    }
   ],
   "source": [
    "train_data"
   ]
  },
  {
   "cell_type": "code",
   "execution_count": 13,
   "id": "ea00fcf2",
   "metadata": {
    "id": "ea00fcf2",
    "outputId": "fc8d9a92-c071-453d-c62a-5445131db68e",
    "scrolled": true
   },
   "outputs": [
    {
     "data": {
      "text/plain": [
       "HeteroData(\n",
       "  \u001b[1mmovies\u001b[0m={ x=[1682, 2432] },\n",
       "  \u001b[1musers\u001b[0m={ x=[943, 1220] },\n",
       "  \u001b[1m(users, likes, movies)\u001b[0m={\n",
       "    edge_index=[2, 20000],\n",
       "    edge_label=[20000]\n",
       "  }\n",
       ")"
      ]
     },
     "execution_count": 13,
     "metadata": {},
     "output_type": "execute_result"
    }
   ],
   "source": [
    "test_data"
   ]
  },
  {
   "cell_type": "markdown",
   "id": "0fca0a21",
   "metadata": {
    "id": "0fca0a21"
   },
   "source": [
    "## DataLoader"
   ]
  },
  {
   "cell_type": "code",
   "execution_count": 14,
   "id": "1f5bd850",
   "metadata": {
    "id": "1f5bd850"
   },
   "outputs": [],
   "source": [
    "import torch_geometric.transforms as T\n",
    "\n",
    "train_data  = T.ToUndirected()(train_data)\n",
    "test_data  = T.ToUndirected()(test_data)\n",
    "train_data, val_data, temp = T.RandomLinkSplit(edge_types=[('users', 'likes', 'movies')], \n",
    "                                            rev_edge_types=[('movies', 'rev_likes', 'users')],\n",
    "                                            num_val = 0,\n",
    "                                            num_test = 0)(train_data)"
   ]
  },
  {
   "cell_type": "code",
   "execution_count": 15,
   "id": "857a5322",
   "metadata": {
    "id": "857a5322",
    "outputId": "51adae4b-80f1-49a2-dacb-ca800d0242ae",
    "scrolled": true
   },
   "outputs": [
    {
     "data": {
      "text/plain": [
       "HeteroData(\n",
       "  \u001b[1mmovies\u001b[0m={ x=[1682, 2432] },\n",
       "  \u001b[1musers\u001b[0m={ x=[943, 1220] },\n",
       "  \u001b[1m(users, likes, movies)\u001b[0m={\n",
       "    edge_index=[2, 80000],\n",
       "    edge_label=[160000],\n",
       "    edge_label_index=[2, 160000]\n",
       "  },\n",
       "  \u001b[1m(movies, rev_likes, users)\u001b[0m={\n",
       "    edge_index=[2, 80000],\n",
       "    edge_label=[80000]\n",
       "  }\n",
       ")"
      ]
     },
     "execution_count": 15,
     "metadata": {},
     "output_type": "execute_result"
    }
   ],
   "source": [
    "train_data"
   ]
  },
  {
   "cell_type": "code",
   "execution_count": 16,
   "id": "17da5487",
   "metadata": {
    "id": "17da5487",
    "outputId": "f25ee3af-314a-4bbc-9704-5222f53de5cd",
    "scrolled": true
   },
   "outputs": [
    {
     "data": {
      "text/plain": [
       "HeteroData(\n",
       "  \u001b[1mmovies\u001b[0m={ x=[1682, 2432] },\n",
       "  \u001b[1musers\u001b[0m={ x=[943, 1220] },\n",
       "  \u001b[1m(users, likes, movies)\u001b[0m={\n",
       "    edge_index=[2, 80000],\n",
       "    edge_label=[0],\n",
       "    edge_label_index=[2, 0]\n",
       "  },\n",
       "  \u001b[1m(movies, rev_likes, users)\u001b[0m={\n",
       "    edge_index=[2, 80000],\n",
       "    edge_label=[80000]\n",
       "  }\n",
       ")"
      ]
     },
     "execution_count": 16,
     "metadata": {},
     "output_type": "execute_result"
    }
   ],
   "source": [
    "val_data"
   ]
  },
  {
   "cell_type": "code",
   "execution_count": 17,
   "id": "f551dbac",
   "metadata": {
    "id": "f551dbac",
    "outputId": "bbf05d55-d6a8-49dd-b0f6-6d616fc82e69"
   },
   "outputs": [
    {
     "data": {
      "text/plain": [
       "HeteroData(\n",
       "  \u001b[1mmovies\u001b[0m={ x=[1682, 2432] },\n",
       "  \u001b[1musers\u001b[0m={ x=[943, 1220] },\n",
       "  \u001b[1m(users, likes, movies)\u001b[0m={\n",
       "    edge_index=[2, 20000],\n",
       "    edge_label=[20000]\n",
       "  },\n",
       "  \u001b[1m(movies, rev_likes, users)\u001b[0m={\n",
       "    edge_index=[2, 20000],\n",
       "    edge_label=[20000]\n",
       "  }\n",
       ")"
      ]
     },
     "execution_count": 17,
     "metadata": {},
     "output_type": "execute_result"
    }
   ],
   "source": [
    "test_data"
   ]
  },
  {
   "cell_type": "code",
   "execution_count": 18,
   "id": "0dca5362",
   "metadata": {
    "id": "0dca5362",
    "scrolled": true
   },
   "outputs": [],
   "source": [
    "test_data['users', 'movies'].edge_label_index = test_data['users', 'movies'].edge_index"
   ]
  },
  {
   "cell_type": "code",
   "execution_count": 19,
   "id": "84d43980",
   "metadata": {
    "id": "84d43980"
   },
   "outputs": [],
   "source": [
    "# train_loader = HGTLoader(\n",
    "#     train_data,\n",
    "#     # Sample 15 neighbors for each node and each edge type for 2 iterations:\n",
    "#     num_neighbors = [15] * 2,\n",
    "#     # Use a batch size of 128 for sampling training nodes of type \"paper\":\n",
    "#     batch_size = 10,\n",
    "#     input_nodes = torch.arange(0, n_users)\n",
    "# )"
   ]
  },
  {
   "cell_type": "code",
   "execution_count": 20,
   "id": "85bd0fb5",
   "metadata": {
    "id": "85bd0fb5"
   },
   "outputs": [],
   "source": [
    "# sampled_data = next(iter(train_loader))"
   ]
  },
  {
   "cell_type": "code",
   "execution_count": 21,
   "id": "ac0ebdb9",
   "metadata": {},
   "outputs": [],
   "source": [
    "weight = torch.bincount(train_data['users', 'movies'].edge_label)\n",
    "weight = weight.max() / weight"
   ]
  },
  {
   "cell_type": "code",
   "execution_count": 22,
   "id": "d07dc31e",
   "metadata": {},
   "outputs": [],
   "source": [
    "def weighted_mse_loss(pred, target, weight=weight):\n",
    "    target = target.long()\n",
    "    weight = weight[target].to(pred.dtype)\n",
    "    loss = (pred - target.to(pred.dtype)).pow(2)\n",
    "    return ((weight * loss).mean(), loss.mean())"
   ]
  },
  {
   "cell_type": "code",
   "execution_count": 23,
   "id": "9a555be8",
   "metadata": {
    "id": "9a555be8"
   },
   "outputs": [],
   "source": [
    "import torch.nn as nn\n",
    "from tqdm import tqdm\n",
    "import torch.nn.functional as F\n",
    "import torch_geometric.nn as nng \n",
    "from collections import OrderedDict\n",
    "from sklearn.metrics import f1_score, precision_score, recall_score, classification_report\n",
    "\n",
    "class GNNEncoder(torch.nn.Module):\n",
    "    def __init__(self, hidden_channels, out_channels):\n",
    "        super().__init__()\n",
    "        self.conv1 = nng.GATConv((-1, -1), hidden_channels)#, train_data.metadata())\n",
    "        self.conv2 = nng.GATConv((-1, -1), hidden_channels)#, train_data.metadata())\n",
    "        self.conv3 = nng.GATConv((-1, -1), out_channels)#, train_data.metadata())\n",
    "\n",
    "    def forward(self, x, edge_index):\n",
    "        x = self.conv1(x, edge_index).sigmoid()\n",
    "        x = self.conv2(x, edge_index).relu()\n",
    "        return x\n",
    "    \n",
    "class EdgeDecoder(torch.nn.Module):\n",
    "    def __init__(self, hidden_channels):\n",
    "        super().__init__()\n",
    "        self.lin1 = nn.Linear(2 * hidden_channels, hidden_channels)\n",
    "        self.lin2 = nn.Linear(hidden_channels, hidden_channels)\n",
    "        self.lin3 = nn.Linear(hidden_channels, hidden_channels)\n",
    "        self.lin4 = nn.Linear(hidden_channels, 1)\n",
    "\n",
    "    def forward(self, z_dict, edge_label_index):\n",
    "        row, col = edge_label_index\n",
    "        z = torch.cat([z_dict['users'][row], z_dict['movies'][col]], dim=-1)\n",
    "        z = self.lin1(z).sigmoid()\n",
    "#         z = self.lin2(z).relu()\n",
    "#         z = self.lin3(z).sigmoid()\n",
    "        z = self.lin4(z).relu()\n",
    "        return z.view(-1)\n",
    "\n",
    "class Model(torch.nn.Module):\n",
    "    def __init__(self, hidden_channels):\n",
    "        super().__init__()\n",
    "        self.encoder = GNNEncoder(hidden_channels, hidden_channels)\n",
    "        self.encoder = nng.to_hetero(self.encoder, train_data.metadata(), aggr='sum')\n",
    "        self.decoder = EdgeDecoder(hidden_channels)\n",
    "        \n",
    "    def forward(self, X):\n",
    "        x_dict, edge_index_dict, edge_label_index = X.x_dict, X.edge_index_dict, X['users', 'movies'].edge_label_index\n",
    "        z_dict = self.encoder(x_dict, edge_index_dict)\n",
    "        return self.decoder(z_dict, edge_label_index)\n",
    "    \n",
    "    def train(self, train_data = train_data, epochs = 1000):\n",
    "        self.loss = weighted_mse_loss\n",
    "        self.optim = torch.optim.Adam(self.parameters(), lr = 1e-4)\n",
    "        self.train_loss = []\n",
    "        self.val_loss = []\n",
    "        for i in tqdm(range(epochs)):\n",
    "            self.optim.zero_grad()\n",
    "            otpt = self.forward(train_data)\n",
    "            trgt = train_data['users', 'movies'].edge_label.float()\n",
    "            loss, loss_ = self.loss(otpt, trgt)\n",
    "            loss.backward()\n",
    "            self.optim.step()\n",
    "            self.train_loss.append(torch.sqrt(loss_).cpu().detach().numpy())\n",
    "            self.val_loss.append(self.test()[0].cpu())\n",
    "        return(self.train_loss, self.val_loss)\n",
    "            \n",
    "    def test(self, data = test_data):\n",
    "        with torch.no_grad():\n",
    "            otpt_cont = self.forward(data)\n",
    "            print(otpt_cont)\n",
    "            trgt_cont = data['users', 'movies'].edge_label.float()\n",
    "            loss, loss_ = self.loss(otpt_cont, trgt_cont)\n",
    "            trgt = torch.div(trgt_cont, 4, rounding_mode=\"floor\").cpu()\n",
    "            otpt = (otpt_cont > 2.5).float().cpu()\n",
    "            print(classification_report(trgt, otpt, zero_division=0))\n",
    "        return(torch.sqrt(loss_),\n",
    "               precision_score(trgt, otpt, zero_division=0, average='weighted'), \n",
    "               recall_score(trgt, otpt, average='weighted'))\n",
    "\n",
    "model = Model(hidden_channels = 500).to(device)"
   ]
  },
  {
   "cell_type": "code",
   "execution_count": 24,
   "id": "5332038d",
   "metadata": {
    "id": "5332038d",
    "outputId": "67fb6272-aa4f-45f7-9d66-d783d7a1cf28",
    "scrolled": true
   },
   "outputs": [
    {
     "name": "stderr",
     "output_type": "stream",
     "text": [
      "  0%|          | 1/1000 [00:03<53:19,  3.20s/it]"
     ]
    },
    {
     "name": "stdout",
     "output_type": "stream",
     "text": [
      "tensor([nan, nan, nan,  ..., nan, nan, nan], device='cuda:0')\n",
      "              precision    recall  f1-score   support\n",
      "\n",
      "         0.0       0.78      1.00      0.87     15543\n",
      "         1.0       0.00      0.00      0.00      4457\n",
      "\n",
      "    accuracy                           0.78     20000\n",
      "   macro avg       0.39      0.50      0.44     20000\n",
      "weighted avg       0.60      0.78      0.68     20000\n",
      "\n",
      "tensor([nan, nan, nan,  ..., nan, nan, nan], device='cuda:0')\n",
      "              precision    recall  f1-score   support\n",
      "\n",
      "         0.0       0.78      1.00      0.87     15543\n",
      "         1.0       0.00      0.00      0.00      4457\n",
      "\n",
      "    accuracy                           0.78     20000\n",
      "   macro avg       0.39      0.50      0.44     20000\n",
      "weighted avg       0.60      0.78      0.68     20000\n",
      "\n"
     ]
    },
    {
     "name": "stderr",
     "output_type": "stream",
     "text": [
      "  0%|          | 3/1000 [00:03<13:31,  1.23it/s]"
     ]
    },
    {
     "name": "stdout",
     "output_type": "stream",
     "text": [
      "tensor([nan, nan, nan,  ..., nan, nan, nan], device='cuda:0')\n",
      "              precision    recall  f1-score   support\n",
      "\n",
      "         0.0       0.78      1.00      0.87     15543\n",
      "         1.0       0.00      0.00      0.00      4457\n",
      "\n",
      "    accuracy                           0.78     20000\n",
      "   macro avg       0.39      0.50      0.44     20000\n",
      "weighted avg       0.60      0.78      0.68     20000\n",
      "\n",
      "tensor([nan, nan, nan,  ..., nan, nan, nan], device='cuda:0')\n",
      "              precision    recall  f1-score   support\n",
      "\n",
      "         0.0       0.78      1.00      0.87     15543\n",
      "         1.0       0.00      0.00      0.00      4457\n",
      "\n",
      "    accuracy                           0.78     20000\n",
      "   macro avg       0.39      0.50      0.44     20000\n",
      "weighted avg       0.60      0.78      0.68     20000\n",
      "\n"
     ]
    },
    {
     "name": "stderr",
     "output_type": "stream",
     "text": [
      "  1%|          | 6/1000 [00:03<05:18,  3.12it/s]"
     ]
    },
    {
     "name": "stdout",
     "output_type": "stream",
     "text": [
      "tensor([nan, nan, nan,  ..., nan, nan, nan], device='cuda:0')\n",
      "              precision    recall  f1-score   support\n",
      "\n",
      "         0.0       0.78      1.00      0.87     15543\n",
      "         1.0       0.00      0.00      0.00      4457\n",
      "\n",
      "    accuracy                           0.78     20000\n",
      "   macro avg       0.39      0.50      0.44     20000\n",
      "weighted avg       0.60      0.78      0.68     20000\n",
      "\n",
      "tensor([nan, nan, nan,  ..., nan, nan, nan], device='cuda:0')\n",
      "              precision    recall  f1-score   support\n",
      "\n",
      "         0.0       0.78      1.00      0.87     15543\n",
      "         1.0       0.00      0.00      0.00      4457\n",
      "\n",
      "    accuracy                           0.78     20000\n",
      "   macro avg       0.39      0.50      0.44     20000\n",
      "weighted avg       0.60      0.78      0.68     20000\n",
      "\n",
      "tensor([nan, nan, nan,  ..., nan, nan, nan], device='cuda:0')\n"
     ]
    },
    {
     "name": "stderr",
     "output_type": "stream",
     "text": [
      "\r",
      "  1%|          | 8/1000 [00:03<03:41,  4.48it/s]"
     ]
    },
    {
     "name": "stdout",
     "output_type": "stream",
     "text": [
      "              precision    recall  f1-score   support\n",
      "\n",
      "         0.0       0.78      1.00      0.87     15543\n",
      "         1.0       0.00      0.00      0.00      4457\n",
      "\n",
      "    accuracy                           0.78     20000\n",
      "   macro avg       0.39      0.50      0.44     20000\n",
      "weighted avg       0.60      0.78      0.68     20000\n",
      "\n",
      "tensor([nan, nan, nan,  ..., nan, nan, nan], device='cuda:0')\n",
      "              precision    recall  f1-score   support\n",
      "\n",
      "         0.0       0.78      1.00      0.87     15543\n",
      "         1.0       0.00      0.00      0.00      4457\n",
      "\n",
      "    accuracy                           0.78     20000\n",
      "   macro avg       0.39      0.50      0.44     20000\n",
      "weighted avg       0.60      0.78      0.68     20000\n",
      "\n",
      "tensor([nan, nan, nan,  ..., nan, nan, nan], device='cuda:0')\n"
     ]
    },
    {
     "name": "stderr",
     "output_type": "stream",
     "text": [
      "\r",
      "  1%|          | 9/1000 [00:04<03:16,  5.03it/s]"
     ]
    },
    {
     "name": "stdout",
     "output_type": "stream",
     "text": [
      "              precision    recall  f1-score   support\n",
      "\n",
      "         0.0       0.78      1.00      0.87     15543\n",
      "         1.0       0.00      0.00      0.00      4457\n",
      "\n",
      "    accuracy                           0.78     20000\n",
      "   macro avg       0.39      0.50      0.44     20000\n",
      "weighted avg       0.60      0.78      0.68     20000\n",
      "\n",
      "tensor([nan, nan, nan,  ..., nan, nan, nan], device='cuda:0')\n",
      "              precision    recall  f1-score   support\n",
      "\n",
      "         0.0       0.78      1.00      0.87     15543\n",
      "         1.0       0.00      0.00      0.00      4457\n",
      "\n",
      "    accuracy                           0.78     20000\n",
      "   macro avg       0.39      0.50      0.44     20000\n",
      "weighted avg       0.60      0.78      0.68     20000\n",
      "\n",
      "tensor([nan, nan, nan,  ..., nan, nan, nan], device='cuda:0')\n"
     ]
    },
    {
     "name": "stderr",
     "output_type": "stream",
     "text": [
      "  1%|          | 12/1000 [00:04<02:39,  6.21it/s]"
     ]
    },
    {
     "name": "stdout",
     "output_type": "stream",
     "text": [
      "              precision    recall  f1-score   support\n",
      "\n",
      "         0.0       0.78      1.00      0.87     15543\n",
      "         1.0       0.00      0.00      0.00      4457\n",
      "\n",
      "    accuracy                           0.78     20000\n",
      "   macro avg       0.39      0.50      0.44     20000\n",
      "weighted avg       0.60      0.78      0.68     20000\n",
      "\n",
      "tensor([nan, nan, nan,  ..., nan, nan, nan], device='cuda:0')\n",
      "              precision    recall  f1-score   support\n",
      "\n",
      "         0.0       0.78      1.00      0.87     15543\n",
      "         1.0       0.00      0.00      0.00      4457\n",
      "\n",
      "    accuracy                           0.78     20000\n",
      "   macro avg       0.39      0.50      0.44     20000\n",
      "weighted avg       0.60      0.78      0.68     20000\n",
      "\n"
     ]
    },
    {
     "name": "stderr",
     "output_type": "stream",
     "text": [
      "\r",
      "  1%|▏         | 13/1000 [00:04<02:27,  6.67it/s]"
     ]
    },
    {
     "name": "stdout",
     "output_type": "stream",
     "text": [
      "tensor([nan, nan, nan,  ..., nan, nan, nan], device='cuda:0')\n",
      "              precision    recall  f1-score   support\n",
      "\n",
      "         0.0       0.78      1.00      0.87     15543\n",
      "         1.0       0.00      0.00      0.00      4457\n",
      "\n",
      "    accuracy                           0.78     20000\n",
      "   macro avg       0.39      0.50      0.44     20000\n",
      "weighted avg       0.60      0.78      0.68     20000\n",
      "\n",
      "tensor([nan, nan, nan,  ..., nan, nan, nan], device='cuda:0')\n",
      "              precision    recall  f1-score   support\n",
      "\n",
      "         0.0       0.78      1.00      0.87     15543\n",
      "         1.0       0.00      0.00      0.00      4457\n",
      "\n",
      "    accuracy                           0.78     20000\n",
      "   macro avg       0.39      0.50      0.44     20000\n",
      "weighted avg       0.60      0.78      0.68     20000\n",
      "\n"
     ]
    },
    {
     "name": "stderr",
     "output_type": "stream",
     "text": [
      "  2%|▏         | 15/1000 [00:04<02:25,  6.75it/s]"
     ]
    },
    {
     "name": "stdout",
     "output_type": "stream",
     "text": [
      "tensor([nan, nan, nan,  ..., nan, nan, nan], device='cuda:0')\n",
      "              precision    recall  f1-score   support\n",
      "\n",
      "         0.0       0.78      1.00      0.87     15543\n",
      "         1.0       0.00      0.00      0.00      4457\n",
      "\n",
      "    accuracy                           0.78     20000\n",
      "   macro avg       0.39      0.50      0.44     20000\n",
      "weighted avg       0.60      0.78      0.68     20000\n",
      "\n",
      "tensor([nan, nan, nan,  ..., nan, nan, nan], device='cuda:0')\n"
     ]
    },
    {
     "name": "stderr",
     "output_type": "stream",
     "text": [
      "  2%|▏         | 17/1000 [00:05<02:18,  7.08it/s]"
     ]
    },
    {
     "name": "stdout",
     "output_type": "stream",
     "text": [
      "              precision    recall  f1-score   support\n",
      "\n",
      "         0.0       0.78      1.00      0.87     15543\n",
      "         1.0       0.00      0.00      0.00      4457\n",
      "\n",
      "    accuracy                           0.78     20000\n",
      "   macro avg       0.39      0.50      0.44     20000\n",
      "weighted avg       0.60      0.78      0.68     20000\n",
      "\n",
      "tensor([nan, nan, nan,  ..., nan, nan, nan], device='cuda:0')\n",
      "              precision    recall  f1-score   support\n",
      "\n",
      "         0.0       0.78      1.00      0.87     15543\n",
      "         1.0       0.00      0.00      0.00      4457\n",
      "\n",
      "    accuracy                           0.78     20000\n",
      "   macro avg       0.39      0.50      0.44     20000\n",
      "weighted avg       0.60      0.78      0.68     20000\n",
      "\n"
     ]
    },
    {
     "name": "stderr",
     "output_type": "stream",
     "text": [
      "\r",
      "  2%|▏         | 18/1000 [00:05<02:22,  6.91it/s]"
     ]
    },
    {
     "name": "stdout",
     "output_type": "stream",
     "text": [
      "tensor([nan, nan, nan,  ..., nan, nan, nan], device='cuda:0')\n",
      "              precision    recall  f1-score   support\n",
      "\n",
      "         0.0       0.78      1.00      0.87     15543\n",
      "         1.0       0.00      0.00      0.00      4457\n",
      "\n",
      "    accuracy                           0.78     20000\n",
      "   macro avg       0.39      0.50      0.44     20000\n",
      "weighted avg       0.60      0.78      0.68     20000\n",
      "\n",
      "tensor([nan, nan, nan,  ..., nan, nan, nan], device='cuda:0')\n",
      "              precision    recall  f1-score   support\n",
      "\n",
      "         0.0       0.78      1.00      0.87     15543\n",
      "         1.0       0.00      0.00      0.00      4457\n",
      "\n",
      "    accuracy                           0.78     20000\n",
      "   macro avg       0.39      0.50      0.44     20000\n",
      "weighted avg       0.60      0.78      0.68     20000\n",
      "\n"
     ]
    },
    {
     "name": "stderr",
     "output_type": "stream",
     "text": [
      "  2%|▏         | 20/1000 [00:05<02:22,  6.89it/s]"
     ]
    },
    {
     "name": "stdout",
     "output_type": "stream",
     "text": [
      "tensor([nan, nan, nan,  ..., nan, nan, nan], device='cuda:0')\n",
      "              precision    recall  f1-score   support\n",
      "\n",
      "         0.0       0.78      1.00      0.87     15543\n",
      "         1.0       0.00      0.00      0.00      4457\n",
      "\n",
      "    accuracy                           0.78     20000\n",
      "   macro avg       0.39      0.50      0.44     20000\n",
      "weighted avg       0.60      0.78      0.68     20000\n",
      "\n",
      "tensor([nan, nan, nan,  ..., nan, nan, nan], device='cuda:0')\n"
     ]
    },
    {
     "name": "stderr",
     "output_type": "stream",
     "text": [
      "  2%|▏         | 22/1000 [00:05<02:25,  6.71it/s]"
     ]
    },
    {
     "name": "stdout",
     "output_type": "stream",
     "text": [
      "              precision    recall  f1-score   support\n",
      "\n",
      "         0.0       0.78      1.00      0.87     15543\n",
      "         1.0       0.00      0.00      0.00      4457\n",
      "\n",
      "    accuracy                           0.78     20000\n",
      "   macro avg       0.39      0.50      0.44     20000\n",
      "weighted avg       0.60      0.78      0.68     20000\n",
      "\n",
      "tensor([nan, nan, nan,  ..., nan, nan, nan], device='cuda:0')\n",
      "              precision    recall  f1-score   support\n",
      "\n",
      "         0.0       0.78      1.00      0.87     15543\n",
      "         1.0       0.00      0.00      0.00      4457\n",
      "\n",
      "    accuracy                           0.78     20000\n",
      "   macro avg       0.39      0.50      0.44     20000\n",
      "weighted avg       0.60      0.78      0.68     20000\n",
      "\n"
     ]
    },
    {
     "name": "stderr",
     "output_type": "stream",
     "text": [
      "\r",
      "  2%|▏         | 23/1000 [00:06<02:37,  6.22it/s]"
     ]
    },
    {
     "name": "stdout",
     "output_type": "stream",
     "text": [
      "tensor([nan, nan, nan,  ..., nan, nan, nan], device='cuda:0')\n",
      "              precision    recall  f1-score   support\n",
      "\n",
      "         0.0       0.78      1.00      0.87     15543\n",
      "         1.0       0.00      0.00      0.00      4457\n",
      "\n",
      "    accuracy                           0.78     20000\n",
      "   macro avg       0.39      0.50      0.44     20000\n",
      "weighted avg       0.60      0.78      0.68     20000\n",
      "\n",
      "tensor([nan, nan, nan,  ..., nan, nan, nan], device='cuda:0')\n"
     ]
    },
    {
     "name": "stderr",
     "output_type": "stream",
     "text": [
      "  2%|▎         | 25/1000 [00:06<02:17,  7.07it/s]"
     ]
    },
    {
     "name": "stdout",
     "output_type": "stream",
     "text": [
      "              precision    recall  f1-score   support\n",
      "\n",
      "         0.0       0.78      1.00      0.87     15543\n",
      "         1.0       0.00      0.00      0.00      4457\n",
      "\n",
      "    accuracy                           0.78     20000\n",
      "   macro avg       0.39      0.50      0.44     20000\n",
      "weighted avg       0.60      0.78      0.68     20000\n",
      "\n",
      "tensor([nan, nan, nan,  ..., nan, nan, nan], device='cuda:0')\n",
      "              precision    recall  f1-score   support\n",
      "\n",
      "         0.0       0.78      1.00      0.87     15543\n",
      "         1.0       0.00      0.00      0.00      4457\n",
      "\n",
      "    accuracy                           0.78     20000\n",
      "   macro avg       0.39      0.50      0.44     20000\n",
      "weighted avg       0.60      0.78      0.68     20000\n",
      "\n",
      "tensor([nan, nan, nan,  ..., nan, nan, nan], device='cuda:0')\n"
     ]
    },
    {
     "name": "stderr",
     "output_type": "stream",
     "text": [
      "  3%|▎         | 27/1000 [00:06<01:57,  8.26it/s]"
     ]
    },
    {
     "name": "stdout",
     "output_type": "stream",
     "text": [
      "              precision    recall  f1-score   support\n",
      "\n",
      "         0.0       0.78      1.00      0.87     15543\n",
      "         1.0       0.00      0.00      0.00      4457\n",
      "\n",
      "    accuracy                           0.78     20000\n",
      "   macro avg       0.39      0.50      0.44     20000\n",
      "weighted avg       0.60      0.78      0.68     20000\n",
      "\n",
      "tensor([nan, nan, nan,  ..., nan, nan, nan], device='cuda:0')\n",
      "              precision    recall  f1-score   support\n",
      "\n",
      "         0.0       0.78      1.00      0.87     15543\n",
      "         1.0       0.00      0.00      0.00      4457\n",
      "\n",
      "    accuracy                           0.78     20000\n",
      "   macro avg       0.39      0.50      0.44     20000\n",
      "weighted avg       0.60      0.78      0.68     20000\n",
      "\n",
      "tensor([nan, nan, nan,  ..., nan, nan, nan], device='cuda:0')\n",
      "              precision    recall  f1-score   support\n",
      "\n",
      "         0.0       0.78      1.00      0.87     15543\n",
      "         1.0       0.00      0.00      0.00      4457\n",
      "\n",
      "    accuracy                           0.78     20000\n",
      "   macro avg       0.39      0.50      0.44     20000\n",
      "weighted avg       0.60      0.78      0.68     20000\n"
     ]
    },
    {
     "name": "stderr",
     "output_type": "stream",
     "text": [
      "  3%|▎         | 30/1000 [00:06<01:41,  9.58it/s]"
     ]
    },
    {
     "name": "stdout",
     "output_type": "stream",
     "text": [
      "\n",
      "tensor([nan, nan, nan,  ..., nan, nan, nan], device='cuda:0')\n",
      "              precision    recall  f1-score   support\n",
      "\n",
      "         0.0       0.78      1.00      0.87     15543\n",
      "         1.0       0.00      0.00      0.00      4457\n",
      "\n",
      "    accuracy                           0.78     20000\n",
      "   macro avg       0.39      0.50      0.44     20000\n",
      "weighted avg       0.60      0.78      0.68     20000\n",
      "\n",
      "tensor([nan, nan, nan,  ..., nan, nan, nan], device='cuda:0')\n",
      "              precision    recall  f1-score   support\n",
      "\n",
      "         0.0       0.78      1.00      0.87     15543\n",
      "         1.0       0.00      0.00      0.00      4457\n",
      "\n",
      "    accuracy                           0.78     20000\n",
      "   macro avg       0.39      0.50      0.44     20000\n",
      "weighted avg       0.60      0.78      0.68     20000\n",
      "\n"
     ]
    },
    {
     "name": "stderr",
     "output_type": "stream",
     "text": [
      "\r",
      "  3%|▎         | 31/1000 [00:07<01:51,  8.67it/s]"
     ]
    },
    {
     "name": "stdout",
     "output_type": "stream",
     "text": [
      "tensor([nan, nan, nan,  ..., nan, nan, nan], device='cuda:0')\n",
      "              precision    recall  f1-score   support\n",
      "\n",
      "         0.0       0.78      1.00      0.87     15543\n",
      "         1.0       0.00      0.00      0.00      4457\n",
      "\n",
      "    accuracy                           0.78     20000\n",
      "   macro avg       0.39      0.50      0.44     20000\n",
      "weighted avg       0.60      0.78      0.68     20000\n",
      "\n",
      "tensor([nan, nan, nan,  ..., nan, nan, nan], device='cuda:0')\n"
     ]
    },
    {
     "name": "stderr",
     "output_type": "stream",
     "text": [
      "  3%|▎         | 33/1000 [00:07<01:58,  8.19it/s]"
     ]
    },
    {
     "name": "stdout",
     "output_type": "stream",
     "text": [
      "              precision    recall  f1-score   support\n",
      "\n",
      "         0.0       0.78      1.00      0.87     15543\n",
      "         1.0       0.00      0.00      0.00      4457\n",
      "\n",
      "    accuracy                           0.78     20000\n",
      "   macro avg       0.39      0.50      0.44     20000\n",
      "weighted avg       0.60      0.78      0.68     20000\n",
      "\n",
      "tensor([nan, nan, nan,  ..., nan, nan, nan], device='cuda:0')\n",
      "              precision    recall  f1-score   support\n",
      "\n",
      "         0.0       0.78      1.00      0.87     15543\n",
      "         1.0       0.00      0.00      0.00      4457\n",
      "\n",
      "    accuracy                           0.78     20000\n",
      "   macro avg       0.39      0.50      0.44     20000\n",
      "weighted avg       0.60      0.78      0.68     20000\n",
      "\n",
      "tensor([nan, nan, nan,  ..., nan, nan, nan], device='cuda:0')\n"
     ]
    },
    {
     "name": "stderr",
     "output_type": "stream",
     "text": [
      "\r",
      "  4%|▎         | 35/1000 [00:07<01:45,  9.12it/s]"
     ]
    },
    {
     "name": "stdout",
     "output_type": "stream",
     "text": [
      "              precision    recall  f1-score   support\n",
      "\n",
      "         0.0       0.78      1.00      0.87     15543\n",
      "         1.0       0.00      0.00      0.00      4457\n",
      "\n",
      "    accuracy                           0.78     20000\n",
      "   macro avg       0.39      0.50      0.44     20000\n",
      "weighted avg       0.60      0.78      0.68     20000\n",
      "\n",
      "tensor([nan, nan, nan,  ..., nan, nan, nan], device='cuda:0')\n",
      "              precision    recall  f1-score   support\n",
      "\n",
      "         0.0       0.78      1.00      0.87     15543\n",
      "         1.0       0.00      0.00      0.00      4457\n",
      "\n",
      "    accuracy                           0.78     20000\n",
      "   macro avg       0.39      0.50      0.44     20000\n",
      "weighted avg       0.60      0.78      0.68     20000\n",
      "\n",
      "tensor([nan, nan, nan,  ..., nan, nan, nan], device='cuda:0')\n",
      "              precision    recall  f1-score   support\n",
      "\n",
      "         0.0       0.78      1.00      0.87     15543\n",
      "         1.0       0.00      0.00      0.00      4457\n",
      "\n",
      "    accuracy                           0.78     20000\n",
      "   macro avg       0.39      0.50      0.44     20000\n",
      "weighted avg       0.60      0.78      0.68     20000\n",
      "\n"
     ]
    },
    {
     "name": "stderr",
     "output_type": "stream",
     "text": [
      "  4%|▎         | 37/1000 [00:07<01:46,  9.02it/s]"
     ]
    },
    {
     "name": "stdout",
     "output_type": "stream",
     "text": [
      "tensor([nan, nan, nan,  ..., nan, nan, nan], device='cuda:0')\n",
      "              precision    recall  f1-score   support\n",
      "\n",
      "         0.0       0.78      1.00      0.87     15543\n",
      "         1.0       0.00      0.00      0.00      4457\n",
      "\n",
      "    accuracy                           0.78     20000\n",
      "   macro avg       0.39      0.50      0.44     20000\n",
      "weighted avg       0.60      0.78      0.68     20000\n",
      "\n",
      "tensor([nan, nan, nan,  ..., nan, nan, nan], device='cuda:0')\n",
      "              precision    recall  f1-score   support\n",
      "\n",
      "         0.0       0.78      1.00      0.87     15543\n",
      "         1.0       0.00      0.00      0.00      4457\n",
      "\n",
      "    accuracy                           0.78     20000\n",
      "   macro avg       0.39      0.50      0.44     20000\n",
      "weighted avg       0.60      0.78      0.68     20000\n",
      "\n",
      "tensor([nan, nan, nan,  ..., nan, nan, nan], device='cuda:0')\n"
     ]
    },
    {
     "name": "stderr",
     "output_type": "stream",
     "text": [
      "  4%|▍         | 40/1000 [00:07<01:42,  9.39it/s]"
     ]
    },
    {
     "name": "stdout",
     "output_type": "stream",
     "text": [
      "              precision    recall  f1-score   support\n",
      "\n",
      "         0.0       0.78      1.00      0.87     15543\n",
      "         1.0       0.00      0.00      0.00      4457\n",
      "\n",
      "    accuracy                           0.78     20000\n",
      "   macro avg       0.39      0.50      0.44     20000\n",
      "weighted avg       0.60      0.78      0.68     20000\n",
      "\n",
      "tensor([nan, nan, nan,  ..., nan, nan, nan], device='cuda:0')\n",
      "              precision    recall  f1-score   support\n",
      "\n",
      "         0.0       0.78      1.00      0.87     15543\n",
      "         1.0       0.00      0.00      0.00      4457\n",
      "\n",
      "    accuracy                           0.78     20000\n",
      "   macro avg       0.39      0.50      0.44     20000\n",
      "weighted avg       0.60      0.78      0.68     20000\n",
      "\n",
      "tensor([nan, nan, nan,  ..., nan, nan, nan], device='cuda:0')\n",
      "              precision    recall  f1-score   support\n",
      "\n",
      "         0.0       0.78      1.00      0.87     15543\n",
      "         1.0       0.00      0.00      0.00      4457\n",
      "\n",
      "    accuracy                           0.78     20000\n",
      "   macro avg       0.39      0.50      0.44     20000\n",
      "weighted avg       0.60      0.78      0.68     20000\n"
     ]
    },
    {
     "name": "stderr",
     "output_type": "stream",
     "text": [
      "\r",
      "  4%|▍         | 42/1000 [00:08<01:46,  9.03it/s]"
     ]
    },
    {
     "name": "stdout",
     "output_type": "stream",
     "text": [
      "\n",
      "tensor([nan, nan, nan,  ..., nan, nan, nan], device='cuda:0')\n",
      "              precision    recall  f1-score   support\n",
      "\n",
      "         0.0       0.78      1.00      0.87     15543\n",
      "         1.0       0.00      0.00      0.00      4457\n",
      "\n",
      "    accuracy                           0.78     20000\n",
      "   macro avg       0.39      0.50      0.44     20000\n",
      "weighted avg       0.60      0.78      0.68     20000\n",
      "\n",
      "tensor([nan, nan, nan,  ..., nan, nan, nan], device='cuda:0')\n"
     ]
    },
    {
     "name": "stderr",
     "output_type": "stream",
     "text": [
      "\r",
      "  4%|▍         | 44/1000 [00:08<01:45,  9.10it/s]"
     ]
    },
    {
     "name": "stdout",
     "output_type": "stream",
     "text": [
      "              precision    recall  f1-score   support\n",
      "\n",
      "         0.0       0.78      1.00      0.87     15543\n",
      "         1.0       0.00      0.00      0.00      4457\n",
      "\n",
      "    accuracy                           0.78     20000\n",
      "   macro avg       0.39      0.50      0.44     20000\n",
      "weighted avg       0.60      0.78      0.68     20000\n",
      "\n",
      "tensor([nan, nan, nan,  ..., nan, nan, nan], device='cuda:0')\n",
      "              precision    recall  f1-score   support\n",
      "\n",
      "         0.0       0.78      1.00      0.87     15543\n",
      "         1.0       0.00      0.00      0.00      4457\n",
      "\n",
      "    accuracy                           0.78     20000\n",
      "   macro avg       0.39      0.50      0.44     20000\n",
      "weighted avg       0.60      0.78      0.68     20000\n",
      "\n"
     ]
    },
    {
     "name": "stderr",
     "output_type": "stream",
     "text": [
      "\r",
      "  4%|▍         | 45/1000 [00:08<01:50,  8.65it/s]"
     ]
    },
    {
     "name": "stdout",
     "output_type": "stream",
     "text": [
      "tensor([nan, nan, nan,  ..., nan, nan, nan], device='cuda:0')\n",
      "              precision    recall  f1-score   support\n",
      "\n",
      "         0.0       0.78      1.00      0.87     15543\n",
      "         1.0       0.00      0.00      0.00      4457\n",
      "\n",
      "    accuracy                           0.78     20000\n",
      "   macro avg       0.39      0.50      0.44     20000\n",
      "weighted avg       0.60      0.78      0.68     20000\n",
      "\n",
      "tensor([nan, nan, nan,  ..., nan, nan, nan], device='cuda:0')\n",
      "              precision    recall  f1-score   support\n",
      "\n",
      "         0.0       0.78      1.00      0.87     15543\n",
      "         1.0       0.00      0.00      0.00      4457\n",
      "\n",
      "    accuracy                           0.78     20000\n",
      "   macro avg       0.39      0.50      0.44     20000\n",
      "weighted avg       0.60      0.78      0.68     20000\n",
      "\n"
     ]
    },
    {
     "name": "stderr",
     "output_type": "stream",
     "text": [
      "  5%|▍         | 48/1000 [00:08<01:42,  9.26it/s]"
     ]
    },
    {
     "name": "stdout",
     "output_type": "stream",
     "text": [
      "tensor([nan, nan, nan,  ..., nan, nan, nan], device='cuda:0')\n",
      "              precision    recall  f1-score   support\n",
      "\n",
      "         0.0       0.78      1.00      0.87     15543\n",
      "         1.0       0.00      0.00      0.00      4457\n",
      "\n",
      "    accuracy                           0.78     20000\n",
      "   macro avg       0.39      0.50      0.44     20000\n",
      "weighted avg       0.60      0.78      0.68     20000\n",
      "\n",
      "tensor([nan, nan, nan,  ..., nan, nan, nan], device='cuda:0')\n",
      "              precision    recall  f1-score   support\n",
      "\n",
      "         0.0       0.78      1.00      0.87     15543\n",
      "         1.0       0.00      0.00      0.00      4457\n",
      "\n",
      "    accuracy                           0.78     20000\n",
      "   macro avg       0.39      0.50      0.44     20000\n",
      "weighted avg       0.60      0.78      0.68     20000\n",
      "\n"
     ]
    },
    {
     "name": "stderr",
     "output_type": "stream",
     "text": [
      "\r",
      "  5%|▍         | 49/1000 [00:09<01:45,  9.05it/s]"
     ]
    },
    {
     "name": "stdout",
     "output_type": "stream",
     "text": [
      "tensor([nan, nan, nan,  ..., nan, nan, nan], device='cuda:0')\n",
      "              precision    recall  f1-score   support\n",
      "\n",
      "         0.0       0.78      1.00      0.87     15543\n",
      "         1.0       0.00      0.00      0.00      4457\n",
      "\n",
      "    accuracy                           0.78     20000\n",
      "   macro avg       0.39      0.50      0.44     20000\n",
      "weighted avg       0.60      0.78      0.68     20000\n",
      "\n",
      "tensor([nan, nan, nan,  ..., nan, nan, nan], device='cuda:0')\n",
      "              precision    recall  f1-score   support\n",
      "\n",
      "         0.0       0.78      1.00      0.87     15543\n",
      "         1.0       0.00      0.00      0.00      4457\n",
      "\n",
      "    accuracy                           0.78     20000\n",
      "   macro avg       0.39      0.50      0.44     20000\n",
      "weighted avg       0.60      0.78      0.68     20000\n",
      "\n"
     ]
    },
    {
     "name": "stderr",
     "output_type": "stream",
     "text": [
      "  5%|▌         | 51/1000 [00:09<01:52,  8.47it/s]"
     ]
    },
    {
     "name": "stdout",
     "output_type": "stream",
     "text": [
      "tensor([nan, nan, nan,  ..., nan, nan, nan], device='cuda:0')\n",
      "              precision    recall  f1-score   support\n",
      "\n",
      "         0.0       0.78      1.00      0.87     15543\n",
      "         1.0       0.00      0.00      0.00      4457\n",
      "\n",
      "    accuracy                           0.78     20000\n",
      "   macro avg       0.39      0.50      0.44     20000\n",
      "weighted avg       0.60      0.78      0.68     20000\n",
      "\n",
      "tensor([nan, nan, nan,  ..., nan, nan, nan], device='cuda:0')\n",
      "              precision    recall  f1-score   support\n",
      "\n",
      "         0.0       0.78      1.00      0.87     15543\n",
      "         1.0       0.00      0.00      0.00      4457\n",
      "\n",
      "    accuracy                           0.78     20000\n",
      "   macro avg       0.39      0.50      0.44     20000\n",
      "weighted avg       0.60      0.78      0.68     20000\n",
      "\n"
     ]
    },
    {
     "name": "stderr",
     "output_type": "stream",
     "text": [
      "  5%|▌         | 53/1000 [00:09<01:56,  8.13it/s]"
     ]
    },
    {
     "name": "stdout",
     "output_type": "stream",
     "text": [
      "tensor([nan, nan, nan,  ..., nan, nan, nan], device='cuda:0')\n",
      "              precision    recall  f1-score   support\n",
      "\n",
      "         0.0       0.78      1.00      0.87     15543\n",
      "         1.0       0.00      0.00      0.00      4457\n",
      "\n",
      "    accuracy                           0.78     20000\n",
      "   macro avg       0.39      0.50      0.44     20000\n",
      "weighted avg       0.60      0.78      0.68     20000\n",
      "\n",
      "tensor([nan, nan, nan,  ..., nan, nan, nan], device='cuda:0')\n",
      "              precision    recall  f1-score   support\n",
      "\n",
      "         0.0       0.78      1.00      0.87     15543\n",
      "         1.0       0.00      0.00      0.00      4457\n",
      "\n",
      "    accuracy                           0.78     20000\n",
      "   macro avg       0.39      0.50      0.44     20000\n",
      "weighted avg       0.60      0.78      0.68     20000\n",
      "\n"
     ]
    },
    {
     "name": "stderr",
     "output_type": "stream",
     "text": [
      "  6%|▌         | 55/1000 [00:09<01:56,  8.12it/s]"
     ]
    },
    {
     "name": "stdout",
     "output_type": "stream",
     "text": [
      "tensor([nan, nan, nan,  ..., nan, nan, nan], device='cuda:0')\n",
      "              precision    recall  f1-score   support\n",
      "\n",
      "         0.0       0.78      1.00      0.87     15543\n",
      "         1.0       0.00      0.00      0.00      4457\n",
      "\n",
      "    accuracy                           0.78     20000\n",
      "   macro avg       0.39      0.50      0.44     20000\n",
      "weighted avg       0.60      0.78      0.68     20000\n",
      "\n",
      "tensor([nan, nan, nan,  ..., nan, nan, nan], device='cuda:0')\n",
      "              precision    recall  f1-score   support\n",
      "\n",
      "         0.0       0.78      1.00      0.87     15543\n",
      "         1.0       0.00      0.00      0.00      4457\n",
      "\n",
      "    accuracy                           0.78     20000\n",
      "   macro avg       0.39      0.50      0.44     20000\n",
      "weighted avg       0.60      0.78      0.68     20000\n",
      "\n",
      "tensor([nan, nan, nan,  ..., nan, nan, nan], device='cuda:0')\n"
     ]
    },
    {
     "name": "stderr",
     "output_type": "stream",
     "text": [
      "  6%|▌         | 58/1000 [00:10<01:57,  7.99it/s]"
     ]
    },
    {
     "name": "stdout",
     "output_type": "stream",
     "text": [
      "              precision    recall  f1-score   support\n",
      "\n",
      "         0.0       0.78      1.00      0.87     15543\n",
      "         1.0       0.00      0.00      0.00      4457\n",
      "\n",
      "    accuracy                           0.78     20000\n",
      "   macro avg       0.39      0.50      0.44     20000\n",
      "weighted avg       0.60      0.78      0.68     20000\n",
      "\n",
      "tensor([nan, nan, nan,  ..., nan, nan, nan], device='cuda:0')\n",
      "              precision    recall  f1-score   support\n",
      "\n",
      "         0.0       0.78      1.00      0.87     15543\n",
      "         1.0       0.00      0.00      0.00      4457\n",
      "\n",
      "    accuracy                           0.78     20000\n",
      "   macro avg       0.39      0.50      0.44     20000\n",
      "weighted avg       0.60      0.78      0.68     20000\n",
      "\n"
     ]
    },
    {
     "name": "stderr",
     "output_type": "stream",
     "text": [
      "\r",
      "  6%|▌         | 59/1000 [00:10<01:56,  8.05it/s]"
     ]
    },
    {
     "name": "stdout",
     "output_type": "stream",
     "text": [
      "tensor([nan, nan, nan,  ..., nan, nan, nan], device='cuda:0')\n",
      "              precision    recall  f1-score   support\n",
      "\n",
      "         0.0       0.78      1.00      0.87     15543\n",
      "         1.0       0.00      0.00      0.00      4457\n",
      "\n",
      "    accuracy                           0.78     20000\n",
      "   macro avg       0.39      0.50      0.44     20000\n",
      "weighted avg       0.60      0.78      0.68     20000\n",
      "\n",
      "tensor([nan, nan, nan,  ..., nan, nan, nan], device='cuda:0')\n",
      "              precision    recall  f1-score   support\n",
      "\n",
      "         0.0       0.78      1.00      0.87     15543\n",
      "         1.0       0.00      0.00      0.00      4457\n",
      "\n",
      "    accuracy                           0.78     20000\n",
      "   macro avg       0.39      0.50      0.44     20000\n",
      "weighted avg       0.60      0.78      0.68     20000\n",
      "\n",
      "tensor([nan, nan, nan,  ..., nan, nan, nan], device='cuda:0')\n"
     ]
    },
    {
     "name": "stderr",
     "output_type": "stream",
     "text": [
      "  6%|▌         | 62/1000 [00:10<01:56,  8.07it/s]"
     ]
    },
    {
     "name": "stdout",
     "output_type": "stream",
     "text": [
      "              precision    recall  f1-score   support\n",
      "\n",
      "         0.0       0.78      1.00      0.87     15543\n",
      "         1.0       0.00      0.00      0.00      4457\n",
      "\n",
      "    accuracy                           0.78     20000\n",
      "   macro avg       0.39      0.50      0.44     20000\n",
      "weighted avg       0.60      0.78      0.68     20000\n",
      "\n",
      "tensor([nan, nan, nan,  ..., nan, nan, nan], device='cuda:0')\n",
      "              precision    recall  f1-score   support\n",
      "\n",
      "         0.0       0.78      1.00      0.87     15543\n",
      "         1.0       0.00      0.00      0.00      4457\n",
      "\n",
      "    accuracy                           0.78     20000\n",
      "   macro avg       0.39      0.50      0.44     20000\n",
      "weighted avg       0.60      0.78      0.68     20000\n",
      "\n"
     ]
    },
    {
     "name": "stderr",
     "output_type": "stream",
     "text": [
      "\r",
      "  6%|▋         | 63/1000 [00:10<02:06,  7.41it/s]"
     ]
    },
    {
     "name": "stdout",
     "output_type": "stream",
     "text": [
      "tensor([nan, nan, nan,  ..., nan, nan, nan], device='cuda:0')\n",
      "              precision    recall  f1-score   support\n",
      "\n",
      "         0.0       0.78      1.00      0.87     15543\n",
      "         1.0       0.00      0.00      0.00      4457\n",
      "\n",
      "    accuracy                           0.78     20000\n",
      "   macro avg       0.39      0.50      0.44     20000\n",
      "weighted avg       0.60      0.78      0.68     20000\n",
      "\n",
      "tensor([nan, nan, nan,  ..., nan, nan, nan], device='cuda:0')\n"
     ]
    },
    {
     "name": "stderr",
     "output_type": "stream",
     "text": [
      "  6%|▋         | 65/1000 [00:11<02:03,  7.54it/s]"
     ]
    },
    {
     "name": "stdout",
     "output_type": "stream",
     "text": [
      "              precision    recall  f1-score   support\n",
      "\n",
      "         0.0       0.78      1.00      0.87     15543\n",
      "         1.0       0.00      0.00      0.00      4457\n",
      "\n",
      "    accuracy                           0.78     20000\n",
      "   macro avg       0.39      0.50      0.44     20000\n",
      "weighted avg       0.60      0.78      0.68     20000\n",
      "\n",
      "tensor([nan, nan, nan,  ..., nan, nan, nan], device='cuda:0')\n",
      "              precision    recall  f1-score   support\n",
      "\n",
      "         0.0       0.78      1.00      0.87     15543\n",
      "         1.0       0.00      0.00      0.00      4457\n",
      "\n",
      "    accuracy                           0.78     20000\n",
      "   macro avg       0.39      0.50      0.44     20000\n",
      "weighted avg       0.60      0.78      0.68     20000\n",
      "\n",
      "tensor([nan, nan, nan,  ..., nan, nan, nan], device='cuda:0')"
     ]
    },
    {
     "name": "stderr",
     "output_type": "stream",
     "text": [
      "\r",
      "  7%|▋         | 66/1000 [00:11<01:58,  7.86it/s]"
     ]
    },
    {
     "name": "stdout",
     "output_type": "stream",
     "text": [
      "\n",
      "              precision    recall  f1-score   support\n",
      "\n",
      "         0.0       0.78      1.00      0.87     15543\n",
      "         1.0       0.00      0.00      0.00      4457\n",
      "\n",
      "    accuracy                           0.78     20000\n",
      "   macro avg       0.39      0.50      0.44     20000\n",
      "weighted avg       0.60      0.78      0.68     20000\n",
      "\n",
      "tensor([nan, nan, nan,  ..., nan, nan, nan], device='cuda:0')\n",
      "              precision    recall  f1-score   support\n",
      "\n",
      "         0.0       0.78      1.00      0.87     15543\n",
      "         1.0       0.00      0.00      0.00      4457\n",
      "\n",
      "    accuracy                           0.78     20000\n",
      "   macro avg       0.39      0.50      0.44     20000\n",
      "weighted avg       0.60      0.78      0.68     20000\n",
      "\n"
     ]
    },
    {
     "name": "stderr",
     "output_type": "stream",
     "text": [
      "\r",
      "  7%|▋         | 68/1000 [00:11<01:50,  8.42it/s]"
     ]
    },
    {
     "name": "stdout",
     "output_type": "stream",
     "text": [
      "tensor([nan, nan, nan,  ..., nan, nan, nan], device='cuda:0')\n",
      "              precision    recall  f1-score   support\n",
      "\n",
      "         0.0       0.78      1.00      0.87     15543\n",
      "         1.0       0.00      0.00      0.00      4457\n",
      "\n",
      "    accuracy                           0.78     20000\n",
      "   macro avg       0.39      0.50      0.44     20000\n",
      "weighted avg       0.60      0.78      0.68     20000\n",
      "\n",
      "tensor([nan, nan, nan,  ..., nan, nan, nan], device='cuda:0')\n",
      "              precision    recall  f1-score   support\n",
      "\n",
      "         0.0       0.78      1.00      0.87     15543\n",
      "         1.0       0.00      0.00      0.00      4457\n",
      "\n",
      "    accuracy                           0.78     20000\n",
      "   macro avg       0.39      0.50      0.44     20000\n",
      "weighted avg       0.60      0.78      0.68     20000\n",
      "\n"
     ]
    },
    {
     "name": "stderr",
     "output_type": "stream",
     "text": [
      "  7%|▋         | 70/1000 [00:11<02:04,  7.49it/s]"
     ]
    },
    {
     "name": "stdout",
     "output_type": "stream",
     "text": [
      "tensor([nan, nan, nan,  ..., nan, nan, nan], device='cuda:0')\n",
      "              precision    recall  f1-score   support\n",
      "\n",
      "         0.0       0.78      1.00      0.87     15543\n",
      "         1.0       0.00      0.00      0.00      4457\n",
      "\n",
      "    accuracy                           0.78     20000\n",
      "   macro avg       0.39      0.50      0.44     20000\n",
      "weighted avg       0.60      0.78      0.68     20000\n",
      "\n",
      "tensor([nan, nan, nan,  ..., nan, nan, nan], device='cuda:0')\n"
     ]
    },
    {
     "name": "stderr",
     "output_type": "stream",
     "text": [
      "  7%|▋         | 72/1000 [00:11<02:00,  7.72it/s]"
     ]
    },
    {
     "name": "stdout",
     "output_type": "stream",
     "text": [
      "              precision    recall  f1-score   support\n",
      "\n",
      "         0.0       0.78      1.00      0.87     15543\n",
      "         1.0       0.00      0.00      0.00      4457\n",
      "\n",
      "    accuracy                           0.78     20000\n",
      "   macro avg       0.39      0.50      0.44     20000\n",
      "weighted avg       0.60      0.78      0.68     20000\n",
      "\n",
      "tensor([nan, nan, nan,  ..., nan, nan, nan], device='cuda:0')\n",
      "              precision    recall  f1-score   support\n",
      "\n",
      "         0.0       0.78      1.00      0.87     15543\n",
      "         1.0       0.00      0.00      0.00      4457\n",
      "\n",
      "    accuracy                           0.78     20000\n",
      "   macro avg       0.39      0.50      0.44     20000\n",
      "weighted avg       0.60      0.78      0.68     20000\n",
      "\n",
      "tensor([nan, nan, nan,  ..., nan, nan, nan], device='cuda:0')\n"
     ]
    },
    {
     "name": "stderr",
     "output_type": "stream",
     "text": [
      "\r",
      "  7%|▋         | 74/1000 [00:12<01:47,  8.58it/s]"
     ]
    },
    {
     "name": "stdout",
     "output_type": "stream",
     "text": [
      "              precision    recall  f1-score   support\n",
      "\n",
      "         0.0       0.78      1.00      0.87     15543\n",
      "         1.0       0.00      0.00      0.00      4457\n",
      "\n",
      "    accuracy                           0.78     20000\n",
      "   macro avg       0.39      0.50      0.44     20000\n",
      "weighted avg       0.60      0.78      0.68     20000\n",
      "\n",
      "tensor([nan, nan, nan,  ..., nan, nan, nan], device='cuda:0')\n",
      "              precision    recall  f1-score   support\n",
      "\n",
      "         0.0       0.78      1.00      0.87     15543\n",
      "         1.0       0.00      0.00      0.00      4457\n",
      "\n",
      "    accuracy                           0.78     20000\n",
      "   macro avg       0.39      0.50      0.44     20000\n",
      "weighted avg       0.60      0.78      0.68     20000\n",
      "\n",
      "tensor([nan, nan, nan,  ..., nan, nan, nan], device='cuda:0')\n"
     ]
    },
    {
     "name": "stderr",
     "output_type": "stream",
     "text": [
      "  8%|▊         | 76/1000 [00:12<01:49,  8.43it/s]"
     ]
    },
    {
     "name": "stdout",
     "output_type": "stream",
     "text": [
      "              precision    recall  f1-score   support\n",
      "\n",
      "         0.0       0.78      1.00      0.87     15543\n",
      "         1.0       0.00      0.00      0.00      4457\n",
      "\n",
      "    accuracy                           0.78     20000\n",
      "   macro avg       0.39      0.50      0.44     20000\n",
      "weighted avg       0.60      0.78      0.68     20000\n",
      "\n",
      "tensor([nan, nan, nan,  ..., nan, nan, nan], device='cuda:0')\n",
      "              precision    recall  f1-score   support\n",
      "\n",
      "         0.0       0.78      1.00      0.87     15543\n",
      "         1.0       0.00      0.00      0.00      4457\n",
      "\n",
      "    accuracy                           0.78     20000\n",
      "   macro avg       0.39      0.50      0.44     20000\n",
      "weighted avg       0.60      0.78      0.68     20000\n",
      "\n",
      "tensor([nan, nan, nan,  ..., nan, nan, nan], device='cuda:0')\n"
     ]
    },
    {
     "name": "stderr",
     "output_type": "stream",
     "text": [
      "  8%|▊         | 78/1000 [00:12<01:52,  8.17it/s]"
     ]
    },
    {
     "name": "stdout",
     "output_type": "stream",
     "text": [
      "              precision    recall  f1-score   support\n",
      "\n",
      "         0.0       0.78      1.00      0.87     15543\n",
      "         1.0       0.00      0.00      0.00      4457\n",
      "\n",
      "    accuracy                           0.78     20000\n",
      "   macro avg       0.39      0.50      0.44     20000\n",
      "weighted avg       0.60      0.78      0.68     20000\n",
      "\n",
      "tensor([nan, nan, nan,  ..., nan, nan, nan], device='cuda:0')\n",
      "              precision    recall  f1-score   support\n",
      "\n",
      "         0.0       0.78      1.00      0.87     15543\n",
      "         1.0       0.00      0.00      0.00      4457\n",
      "\n",
      "    accuracy                           0.78     20000\n",
      "   macro avg       0.39      0.50      0.44     20000\n",
      "weighted avg       0.60      0.78      0.68     20000\n",
      "\n",
      "tensor([nan, nan, nan,  ..., nan, nan, nan], device='cuda:0')\n"
     ]
    },
    {
     "name": "stderr",
     "output_type": "stream",
     "text": [
      "  8%|▊         | 80/1000 [00:13<02:18,  6.64it/s]"
     ]
    },
    {
     "name": "stdout",
     "output_type": "stream",
     "text": [
      "              precision    recall  f1-score   support\n",
      "\n",
      "         0.0       0.78      1.00      0.87     15543\n",
      "         1.0       0.00      0.00      0.00      4457\n",
      "\n",
      "    accuracy                           0.78     20000\n",
      "   macro avg       0.39      0.50      0.44     20000\n",
      "weighted avg       0.60      0.78      0.68     20000\n",
      "\n",
      "tensor([nan, nan, nan,  ..., nan, nan, nan], device='cuda:0')\n",
      "              precision    recall  f1-score   support\n",
      "\n",
      "         0.0       0.78      1.00      0.87     15543\n",
      "         1.0       0.00      0.00      0.00      4457\n",
      "\n",
      "    accuracy                           0.78     20000\n",
      "   macro avg       0.39      0.50      0.44     20000\n",
      "weighted avg       0.60      0.78      0.68     20000\n",
      "\n"
     ]
    },
    {
     "name": "stderr",
     "output_type": "stream",
     "text": [
      "\r",
      "  8%|▊         | 81/1000 [00:13<02:04,  7.35it/s]"
     ]
    },
    {
     "name": "stdout",
     "output_type": "stream",
     "text": [
      "tensor([nan, nan, nan,  ..., nan, nan, nan], device='cuda:0')\n",
      "              precision    recall  f1-score   support\n",
      "\n",
      "         0.0       0.78      1.00      0.87     15543\n",
      "         1.0       0.00      0.00      0.00      4457\n",
      "\n",
      "    accuracy                           0.78     20000\n",
      "   macro avg       0.39      0.50      0.44     20000\n",
      "weighted avg       0.60      0.78      0.68     20000\n",
      "\n",
      "tensor([nan, nan, nan,  ..., nan, nan, nan], device='cuda:0')\n",
      "              precision    recall  f1-score   support\n",
      "\n",
      "         0.0       0.78      1.00      0.87     15543\n",
      "         1.0       0.00      0.00      0.00      4457\n",
      "\n",
      "    accuracy                           0.78     20000\n",
      "   macro avg       0.39      0.50      0.44     20000\n",
      "weighted avg       0.60      0.78      0.68     20000\n",
      "\n",
      "tensor([nan, nan, nan,  ..., nan, nan, nan], device='cuda:0')\n"
     ]
    },
    {
     "name": "stderr",
     "output_type": "stream",
     "text": [
      "  8%|▊         | 84/1000 [00:13<01:51,  8.22it/s]"
     ]
    },
    {
     "name": "stdout",
     "output_type": "stream",
     "text": [
      "              precision    recall  f1-score   support\n",
      "\n",
      "         0.0       0.78      1.00      0.87     15543\n",
      "         1.0       0.00      0.00      0.00      4457\n",
      "\n",
      "    accuracy                           0.78     20000\n",
      "   macro avg       0.39      0.50      0.44     20000\n",
      "weighted avg       0.60      0.78      0.68     20000\n",
      "\n",
      "tensor([nan, nan, nan,  ..., nan, nan, nan], device='cuda:0')\n",
      "              precision    recall  f1-score   support\n",
      "\n",
      "         0.0       0.78      1.00      0.87     15543\n",
      "         1.0       0.00      0.00      0.00      4457\n",
      "\n",
      "    accuracy                           0.78     20000\n",
      "   macro avg       0.39      0.50      0.44     20000\n",
      "weighted avg       0.60      0.78      0.68     20000\n",
      "\n",
      "tensor([nan, nan, nan,  ..., nan, nan, nan], device='cuda:0')\n"
     ]
    },
    {
     "name": "stderr",
     "output_type": "stream",
     "text": [
      "  9%|▊         | 86/1000 [00:13<01:43,  8.86it/s]"
     ]
    },
    {
     "name": "stdout",
     "output_type": "stream",
     "text": [
      "              precision    recall  f1-score   support\n",
      "\n",
      "         0.0       0.78      1.00      0.87     15543\n",
      "         1.0       0.00      0.00      0.00      4457\n",
      "\n",
      "    accuracy                           0.78     20000\n",
      "   macro avg       0.39      0.50      0.44     20000\n",
      "weighted avg       0.60      0.78      0.68     20000\n",
      "\n",
      "tensor([nan, nan, nan,  ..., nan, nan, nan], device='cuda:0')\n",
      "              precision    recall  f1-score   support\n",
      "\n",
      "         0.0       0.78      1.00      0.87     15543\n",
      "         1.0       0.00      0.00      0.00      4457\n",
      "\n",
      "    accuracy                           0.78     20000\n",
      "   macro avg       0.39      0.50      0.44     20000\n",
      "weighted avg       0.60      0.78      0.68     20000\n",
      "\n",
      "tensor([nan, nan, nan,  ..., nan, nan, nan], device='cuda:0')\n",
      "              precision    recall  f1-score   support\n",
      "\n",
      "         0.0       0.78      1.00      0.87     15543\n",
      "         1.0       0.00      0.00      0.00      4457\n",
      "\n",
      "    accuracy                           0.78     20000\n",
      "   macro avg       0.39      0.50      0.44     20000\n",
      "weighted avg       0.60      0.78      0.68     20000\n",
      "\n"
     ]
    },
    {
     "name": "stderr",
     "output_type": "stream",
     "text": [
      "\r",
      "  9%|▉         | 88/1000 [00:13<01:36,  9.41it/s]"
     ]
    },
    {
     "name": "stdout",
     "output_type": "stream",
     "text": [
      "tensor([nan, nan, nan,  ..., nan, nan, nan], device='cuda:0')\n",
      "              precision    recall  f1-score   support\n",
      "\n",
      "         0.0       0.78      1.00      0.87     15543\n",
      "         1.0       0.00      0.00      0.00      4457\n",
      "\n",
      "    accuracy                           0.78     20000\n",
      "   macro avg       0.39      0.50      0.44     20000\n",
      "weighted avg       0.60      0.78      0.68     20000\n",
      "\n",
      "tensor([nan, nan, nan,  ..., nan, nan, nan], device='cuda:0')\n",
      "              precision    recall  f1-score   support\n",
      "\n",
      "         0.0       0.78      1.00      0.87     15543\n",
      "         1.0       0.00      0.00      0.00      4457\n",
      "\n",
      "    accuracy                           0.78     20000\n",
      "   macro avg       0.39      0.50      0.44     20000\n",
      "weighted avg       0.60      0.78      0.68     20000\n",
      "\n",
      "tensor([nan, nan, nan,  ..., nan, nan, nan], device='cuda:0')\n"
     ]
    },
    {
     "name": "stderr",
     "output_type": "stream",
     "text": [
      "\r",
      "  9%|▉         | 90/1000 [00:14<01:31,  9.94it/s]"
     ]
    },
    {
     "name": "stdout",
     "output_type": "stream",
     "text": [
      "              precision    recall  f1-score   support\n",
      "\n",
      "         0.0       0.78      1.00      0.87     15543\n",
      "         1.0       0.00      0.00      0.00      4457\n",
      "\n",
      "    accuracy                           0.78     20000\n",
      "   macro avg       0.39      0.50      0.44     20000\n",
      "weighted avg       0.60      0.78      0.68     20000\n",
      "\n",
      "tensor([nan, nan, nan,  ..., nan, nan, nan], device='cuda:0')\n",
      "              precision    recall  f1-score   support\n",
      "\n",
      "         0.0       0.78      1.00      0.87     15543\n",
      "         1.0       0.00      0.00      0.00      4457\n",
      "\n",
      "    accuracy                           0.78     20000\n",
      "   macro avg       0.39      0.50      0.44     20000\n",
      "weighted avg       0.60      0.78      0.68     20000\n",
      "\n",
      "tensor([nan, nan, nan,  ..., nan, nan, nan], device='cuda:0')\n"
     ]
    },
    {
     "name": "stderr",
     "output_type": "stream",
     "text": [
      "\r",
      "  9%|▉         | 92/1000 [00:14<01:32,  9.82it/s]"
     ]
    },
    {
     "name": "stdout",
     "output_type": "stream",
     "text": [
      "              precision    recall  f1-score   support\n",
      "\n",
      "         0.0       0.78      1.00      0.87     15543\n",
      "         1.0       0.00      0.00      0.00      4457\n",
      "\n",
      "    accuracy                           0.78     20000\n",
      "   macro avg       0.39      0.50      0.44     20000\n",
      "weighted avg       0.60      0.78      0.68     20000\n",
      "\n",
      "tensor([nan, nan, nan,  ..., nan, nan, nan], device='cuda:0')\n",
      "              precision    recall  f1-score   support\n",
      "\n",
      "         0.0       0.78      1.00      0.87     15543\n",
      "         1.0       0.00      0.00      0.00      4457\n",
      "\n",
      "    accuracy                           0.78     20000\n",
      "   macro avg       0.39      0.50      0.44     20000\n",
      "weighted avg       0.60      0.78      0.68     20000\n",
      "\n",
      "tensor([nan, nan, nan,  ..., nan, nan, nan], device='cuda:0')\n",
      "              precision    recall  f1-score   support\n",
      "\n",
      "         0.0       0.78      1.00      0.87     15543\n",
      "         1.0       0.00      0.00      0.00      4457\n",
      "\n",
      "    accuracy                           0.78     20000\n",
      "   macro avg       0.39      0.50      0.44     20000\n",
      "weighted avg       0.60      0.78      0.68     20000\n",
      "\n"
     ]
    },
    {
     "name": "stderr",
     "output_type": "stream",
     "text": [
      "\r",
      "  9%|▉         | 94/1000 [00:14<01:28, 10.23it/s]"
     ]
    },
    {
     "name": "stdout",
     "output_type": "stream",
     "text": [
      "tensor([nan, nan, nan,  ..., nan, nan, nan], device='cuda:0')\n",
      "              precision    recall  f1-score   support\n",
      "\n",
      "         0.0       0.78      1.00      0.87     15543\n",
      "         1.0       0.00      0.00      0.00      4457\n",
      "\n",
      "    accuracy                           0.78     20000\n",
      "   macro avg       0.39      0.50      0.44     20000\n",
      "weighted avg       0.60      0.78      0.68     20000\n",
      "\n",
      "tensor([nan, nan, nan,  ..., nan, nan, nan], device='cuda:0')\n",
      "              precision    recall  f1-score   support\n",
      "\n",
      "         0.0       0.78      1.00      0.87     15543\n",
      "         1.0       0.00      0.00      0.00      4457\n",
      "\n",
      "    accuracy                           0.78     20000\n",
      "   macro avg       0.39      0.50      0.44     20000\n",
      "weighted avg       0.60      0.78      0.68     20000\n",
      "\n"
     ]
    },
    {
     "name": "stderr",
     "output_type": "stream",
     "text": [
      " 10%|▉         | 97/1000 [00:14<01:40,  8.97it/s]"
     ]
    },
    {
     "name": "stdout",
     "output_type": "stream",
     "text": [
      "tensor([nan, nan, nan,  ..., nan, nan, nan], device='cuda:0')\n",
      "              precision    recall  f1-score   support\n",
      "\n",
      "         0.0       0.78      1.00      0.87     15543\n",
      "         1.0       0.00      0.00      0.00      4457\n",
      "\n",
      "    accuracy                           0.78     20000\n",
      "   macro avg       0.39      0.50      0.44     20000\n",
      "weighted avg       0.60      0.78      0.68     20000\n",
      "\n",
      "tensor([nan, nan, nan,  ..., nan, nan, nan], device='cuda:0')\n",
      "              precision    recall  f1-score   support\n",
      "\n",
      "         0.0       0.78      1.00      0.87     15543\n",
      "         1.0       0.00      0.00      0.00      4457\n",
      "\n",
      "    accuracy                           0.78     20000\n",
      "   macro avg       0.39      0.50      0.44     20000\n",
      "weighted avg       0.60      0.78      0.68     20000\n",
      "\n"
     ]
    },
    {
     "name": "stderr",
     "output_type": "stream",
     "text": [
      "\r",
      " 10%|▉         | 99/1000 [00:15<01:36,  9.30it/s]"
     ]
    },
    {
     "name": "stdout",
     "output_type": "stream",
     "text": [
      "tensor([nan, nan, nan,  ..., nan, nan, nan], device='cuda:0')\n",
      "              precision    recall  f1-score   support\n",
      "\n",
      "         0.0       0.78      1.00      0.87     15543\n",
      "         1.0       0.00      0.00      0.00      4457\n",
      "\n",
      "    accuracy                           0.78     20000\n",
      "   macro avg       0.39      0.50      0.44     20000\n",
      "weighted avg       0.60      0.78      0.68     20000\n",
      "\n",
      "tensor([nan, nan, nan,  ..., nan, nan, nan], device='cuda:0')\n",
      "              precision    recall  f1-score   support\n",
      "\n",
      "         0.0       0.78      1.00      0.87     15543\n",
      "         1.0       0.00      0.00      0.00      4457\n",
      "\n",
      "    accuracy                           0.78     20000\n",
      "   macro avg       0.39      0.50      0.44     20000\n",
      "weighted avg       0.60      0.78      0.68     20000\n",
      "\n",
      "tensor([nan, nan, nan,  ..., nan, nan, nan], device='cuda:0')\n"
     ]
    },
    {
     "name": "stderr",
     "output_type": "stream",
     "text": [
      " 10%|█         | 103/1000 [00:15<01:29, 10.08it/s]"
     ]
    },
    {
     "name": "stdout",
     "output_type": "stream",
     "text": [
      "              precision    recall  f1-score   support\n",
      "\n",
      "         0.0       0.78      1.00      0.87     15543\n",
      "         1.0       0.00      0.00      0.00      4457\n",
      "\n",
      "    accuracy                           0.78     20000\n",
      "   macro avg       0.39      0.50      0.44     20000\n",
      "weighted avg       0.60      0.78      0.68     20000\n",
      "\n",
      "tensor([nan, nan, nan,  ..., nan, nan, nan], device='cuda:0')\n",
      "              precision    recall  f1-score   support\n",
      "\n",
      "         0.0       0.78      1.00      0.87     15543\n",
      "         1.0       0.00      0.00      0.00      4457\n",
      "\n",
      "    accuracy                           0.78     20000\n",
      "   macro avg       0.39      0.50      0.44     20000\n",
      "weighted avg       0.60      0.78      0.68     20000\n",
      "\n",
      "tensor([nan, nan, nan,  ..., nan, nan, nan], device='cuda:0')\n",
      "              precision    recall  f1-score   support\n",
      "\n",
      "         0.0       0.78      1.00      0.87     15543\n",
      "         1.0       0.00      0.00      0.00      4457\n",
      "\n",
      "    accuracy                           0.78     20000\n",
      "   macro avg       0.39      0.50      0.44     20000\n",
      "weighted avg       0.60      0.78      0.68     20000\n",
      "\n"
     ]
    },
    {
     "name": "stderr",
     "output_type": "stream",
     "text": [
      "\r",
      " 10%|█         | 105/1000 [00:15<01:30,  9.93it/s]"
     ]
    },
    {
     "name": "stdout",
     "output_type": "stream",
     "text": [
      "tensor([nan, nan, nan,  ..., nan, nan, nan], device='cuda:0')\n",
      "              precision    recall  f1-score   support\n",
      "\n",
      "         0.0       0.78      1.00      0.87     15543\n",
      "         1.0       0.00      0.00      0.00      4457\n",
      "\n",
      "    accuracy                           0.78     20000\n",
      "   macro avg       0.39      0.50      0.44     20000\n",
      "weighted avg       0.60      0.78      0.68     20000\n",
      "\n",
      "tensor([nan, nan, nan,  ..., nan, nan, nan], device='cuda:0')\n",
      "              precision    recall  f1-score   support\n",
      "\n",
      "         0.0       0.78      1.00      0.87     15543\n",
      "         1.0       0.00      0.00      0.00      4457\n",
      "\n",
      "    accuracy                           0.78     20000\n",
      "   macro avg       0.39      0.50      0.44     20000\n",
      "weighted avg       0.60      0.78      0.68     20000\n",
      "\n"
     ]
    },
    {
     "name": "stderr",
     "output_type": "stream",
     "text": [
      "\r",
      " 11%|█         | 106/1000 [00:15<01:37,  9.13it/s]"
     ]
    },
    {
     "name": "stdout",
     "output_type": "stream",
     "text": [
      "tensor([nan, nan, nan,  ..., nan, nan, nan], device='cuda:0')\n",
      "              precision    recall  f1-score   support\n",
      "\n",
      "         0.0       0.78      1.00      0.87     15543\n",
      "         1.0       0.00      0.00      0.00      4457\n",
      "\n",
      "    accuracy                           0.78     20000\n",
      "   macro avg       0.39      0.50      0.44     20000\n",
      "weighted avg       0.60      0.78      0.68     20000\n",
      "\n",
      "tensor([nan, nan, nan,  ..., nan, nan, nan], device='cuda:0')\n",
      "              precision    recall  f1-score   support\n",
      "\n",
      "         0.0       0.78      1.00      0.87     15543\n",
      "         1.0       0.00      0.00      0.00      4457\n",
      "\n",
      "    accuracy                           0.78     20000\n",
      "   macro avg       0.39      0.50      0.44     20000\n",
      "weighted avg       0.60      0.78      0.68     20000\n",
      "\n"
     ]
    },
    {
     "name": "stderr",
     "output_type": "stream",
     "text": [
      " 11%|█         | 109/1000 [00:16<01:38,  9.08it/s]"
     ]
    },
    {
     "name": "stdout",
     "output_type": "stream",
     "text": [
      "tensor([nan, nan, nan,  ..., nan, nan, nan], device='cuda:0')\n",
      "              precision    recall  f1-score   support\n",
      "\n",
      "         0.0       0.78      1.00      0.87     15543\n",
      "         1.0       0.00      0.00      0.00      4457\n",
      "\n",
      "    accuracy                           0.78     20000\n",
      "   macro avg       0.39      0.50      0.44     20000\n",
      "weighted avg       0.60      0.78      0.68     20000\n",
      "\n",
      "tensor([nan, nan, nan,  ..., nan, nan, nan], device='cuda:0')\n",
      "              precision    recall  f1-score   support\n",
      "\n",
      "         0.0       0.78      1.00      0.87     15543\n",
      "         1.0       0.00      0.00      0.00      4457\n",
      "\n",
      "    accuracy                           0.78     20000\n",
      "   macro avg       0.39      0.50      0.44     20000\n",
      "weighted avg       0.60      0.78      0.68     20000\n",
      "\n"
     ]
    },
    {
     "name": "stderr",
     "output_type": "stream",
     "text": [
      "\r",
      " 11%|█         | 110/1000 [00:16<01:37,  9.13it/s]"
     ]
    },
    {
     "name": "stdout",
     "output_type": "stream",
     "text": [
      "tensor([nan, nan, nan,  ..., nan, nan, nan], device='cuda:0')\n",
      "              precision    recall  f1-score   support\n",
      "\n",
      "         0.0       0.78      1.00      0.87     15543\n",
      "         1.0       0.00      0.00      0.00      4457\n",
      "\n",
      "    accuracy                           0.78     20000\n",
      "   macro avg       0.39      0.50      0.44     20000\n",
      "weighted avg       0.60      0.78      0.68     20000\n",
      "\n",
      "tensor([nan, nan, nan,  ..., nan, nan, nan], device='cuda:0')\n",
      "              precision    recall  f1-score   support\n",
      "\n",
      "         0.0       0.78      1.00      0.87     15543\n",
      "         1.0       0.00      0.00      0.00      4457\n",
      "\n",
      "    accuracy                           0.78     20000\n",
      "   macro avg       0.39      0.50      0.44     20000\n",
      "weighted avg       0.60      0.78      0.68     20000\n",
      "\n",
      "tensor([nan, nan, nan,  ..., nan, nan, nan], device='cuda:0')\n"
     ]
    },
    {
     "name": "stderr",
     "output_type": "stream",
     "text": [
      "\r",
      " 11%|█         | 112/1000 [00:16<01:35,  9.30it/s]"
     ]
    },
    {
     "name": "stdout",
     "output_type": "stream",
     "text": [
      "              precision    recall  f1-score   support\n",
      "\n",
      "         0.0       0.78      1.00      0.87     15543\n",
      "         1.0       0.00      0.00      0.00      4457\n",
      "\n",
      "    accuracy                           0.78     20000\n",
      "   macro avg       0.39      0.50      0.44     20000\n",
      "weighted avg       0.60      0.78      0.68     20000\n",
      "\n",
      "tensor([nan, nan, nan,  ..., nan, nan, nan], device='cuda:0')\n",
      "              precision    recall  f1-score   support\n",
      "\n",
      "         0.0       0.78      1.00      0.87     15543\n",
      "         1.0       0.00      0.00      0.00      4457\n",
      "\n",
      "    accuracy                           0.78     20000\n",
      "   macro avg       0.39      0.50      0.44     20000\n",
      "weighted avg       0.60      0.78      0.68     20000\n",
      "\n",
      "tensor([nan, nan, nan,  ..., nan, nan, nan], device='cuda:0')\n"
     ]
    },
    {
     "name": "stderr",
     "output_type": "stream",
     "text": [
      " 12%|█▏        | 115/1000 [00:16<01:39,  8.91it/s]"
     ]
    },
    {
     "name": "stdout",
     "output_type": "stream",
     "text": [
      "              precision    recall  f1-score   support\n",
      "\n",
      "         0.0       0.78      1.00      0.87     15543\n",
      "         1.0       0.00      0.00      0.00      4457\n",
      "\n",
      "    accuracy                           0.78     20000\n",
      "   macro avg       0.39      0.50      0.44     20000\n",
      "weighted avg       0.60      0.78      0.68     20000\n",
      "\n",
      "tensor([nan, nan, nan,  ..., nan, nan, nan], device='cuda:0')\n",
      "              precision    recall  f1-score   support\n",
      "\n",
      "         0.0       0.78      1.00      0.87     15543\n",
      "         1.0       0.00      0.00      0.00      4457\n",
      "\n",
      "    accuracy                           0.78     20000\n",
      "   macro avg       0.39      0.50      0.44     20000\n",
      "weighted avg       0.60      0.78      0.68     20000\n",
      "\n",
      "tensor([nan, nan, nan,  ..., nan, nan, nan], device='cuda:0')\n"
     ]
    },
    {
     "name": "stderr",
     "output_type": "stream",
     "text": [
      "\r",
      " 12%|█▏        | 116/1000 [00:16<01:36,  9.12it/s]"
     ]
    },
    {
     "name": "stdout",
     "output_type": "stream",
     "text": [
      "              precision    recall  f1-score   support\n",
      "\n",
      "         0.0       0.78      1.00      0.87     15543\n",
      "         1.0       0.00      0.00      0.00      4457\n",
      "\n",
      "    accuracy                           0.78     20000\n",
      "   macro avg       0.39      0.50      0.44     20000\n",
      "weighted avg       0.60      0.78      0.68     20000\n",
      "\n",
      "tensor([nan, nan, nan,  ..., nan, nan, nan], device='cuda:0')\n",
      "              precision    recall  f1-score   support\n",
      "\n",
      "         0.0       0.78      1.00      0.87     15543\n",
      "         1.0       0.00      0.00      0.00      4457\n",
      "\n",
      "    accuracy                           0.78     20000\n",
      "   macro avg       0.39      0.50      0.44     20000\n",
      "weighted avg       0.60      0.78      0.68     20000\n",
      "\n",
      "tensor([nan, nan, nan,  ..., nan, nan, nan], device='cuda:0')\n",
      "              precision    recall  f1-score   support\n",
      "\n",
      "         0.0       0.78      1.00      0.87     15543\n",
      "         1.0       0.00      0.00      0.00      4457\n",
      "\n",
      "    accuracy                           0.78     20000\n",
      "   macro avg       0.39      0.50      0.44     20000\n",
      "weighted avg       0.60      0.78      0.68     20000\n",
      "\n"
     ]
    },
    {
     "name": "stderr",
     "output_type": "stream",
     "text": [
      " 12%|█▏        | 119/1000 [00:17<01:33,  9.38it/s]"
     ]
    },
    {
     "name": "stdout",
     "output_type": "stream",
     "text": [
      "tensor([nan, nan, nan,  ..., nan, nan, nan], device='cuda:0')\n",
      "              precision    recall  f1-score   support\n",
      "\n",
      "         0.0       0.78      1.00      0.87     15543\n",
      "         1.0       0.00      0.00      0.00      4457\n",
      "\n",
      "    accuracy                           0.78     20000\n",
      "   macro avg       0.39      0.50      0.44     20000\n",
      "weighted avg       0.60      0.78      0.68     20000\n",
      "\n",
      "tensor([nan, nan, nan,  ..., nan, nan, nan], device='cuda:0')\n",
      "              precision    recall  f1-score   support\n",
      "\n",
      "         0.0       0.78      1.00      0.87     15543\n",
      "         1.0       0.00      0.00      0.00      4457\n",
      "\n",
      "    accuracy                           0.78     20000\n",
      "   macro avg       0.39      0.50      0.44     20000\n",
      "weighted avg       0.60      0.78      0.68     20000\n",
      "\n",
      "tensor([nan, nan, nan,  ..., nan, nan, nan], device='cuda:0')\n"
     ]
    },
    {
     "name": "stderr",
     "output_type": "stream",
     "text": [
      " 12%|█▏        | 122/1000 [00:17<01:38,  8.88it/s]"
     ]
    },
    {
     "name": "stdout",
     "output_type": "stream",
     "text": [
      "              precision    recall  f1-score   support\n",
      "\n",
      "         0.0       0.78      1.00      0.87     15543\n",
      "         1.0       0.00      0.00      0.00      4457\n",
      "\n",
      "    accuracy                           0.78     20000\n",
      "   macro avg       0.39      0.50      0.44     20000\n",
      "weighted avg       0.60      0.78      0.68     20000\n",
      "\n",
      "tensor([nan, nan, nan,  ..., nan, nan, nan], device='cuda:0')\n",
      "              precision    recall  f1-score   support\n",
      "\n",
      "         0.0       0.78      1.00      0.87     15543\n",
      "         1.0       0.00      0.00      0.00      4457\n",
      "\n",
      "    accuracy                           0.78     20000\n",
      "   macro avg       0.39      0.50      0.44     20000\n",
      "weighted avg       0.60      0.78      0.68     20000\n",
      "\n"
     ]
    },
    {
     "name": "stderr",
     "output_type": "stream",
     "text": [
      "\r",
      " 12%|█▏        | 123/1000 [00:17<01:46,  8.27it/s]"
     ]
    },
    {
     "name": "stdout",
     "output_type": "stream",
     "text": [
      "tensor([nan, nan, nan,  ..., nan, nan, nan], device='cuda:0')\n",
      "              precision    recall  f1-score   support\n",
      "\n",
      "         0.0       0.78      1.00      0.87     15543\n",
      "         1.0       0.00      0.00      0.00      4457\n",
      "\n",
      "    accuracy                           0.78     20000\n",
      "   macro avg       0.39      0.50      0.44     20000\n",
      "weighted avg       0.60      0.78      0.68     20000\n",
      "\n",
      "tensor([nan, nan, nan,  ..., nan, nan, nan], device='cuda:0')\n",
      "              precision    recall  f1-score   support\n",
      "\n",
      "         0.0       0.78      1.00      0.87     15543\n",
      "         1.0       0.00      0.00      0.00      4457\n",
      "\n",
      "    accuracy                           0.78     20000\n",
      "   macro avg       0.39      0.50      0.44     20000\n",
      "weighted avg       0.60      0.78      0.68     20000\n",
      "\n"
     ]
    },
    {
     "name": "stderr",
     "output_type": "stream",
     "text": [
      "\r",
      " 12%|█▎        | 125/1000 [00:17<01:36,  9.11it/s]"
     ]
    },
    {
     "name": "stdout",
     "output_type": "stream",
     "text": [
      "tensor([nan, nan, nan,  ..., nan, nan, nan], device='cuda:0')\n",
      "              precision    recall  f1-score   support\n",
      "\n",
      "         0.0       0.78      1.00      0.87     15543\n",
      "         1.0       0.00      0.00      0.00      4457\n",
      "\n",
      "    accuracy                           0.78     20000\n",
      "   macro avg       0.39      0.50      0.44     20000\n",
      "weighted avg       0.60      0.78      0.68     20000\n",
      "\n",
      "tensor([nan, nan, nan,  ..., nan, nan, nan], device='cuda:0')\n",
      "              precision    recall  f1-score   support\n",
      "\n",
      "         0.0       0.78      1.00      0.87     15543\n",
      "         1.0       0.00      0.00      0.00      4457\n",
      "\n",
      "    accuracy                           0.78     20000\n",
      "   macro avg       0.39      0.50      0.44     20000\n",
      "weighted avg       0.60      0.78      0.68     20000\n",
      "\n",
      "tensor([nan, nan, nan,  ..., nan, nan, nan], device='cuda:0')\n"
     ]
    },
    {
     "name": "stderr",
     "output_type": "stream",
     "text": [
      " 13%|█▎        | 128/1000 [00:18<01:34,  9.27it/s]"
     ]
    },
    {
     "name": "stdout",
     "output_type": "stream",
     "text": [
      "              precision    recall  f1-score   support\n",
      "\n",
      "         0.0       0.78      1.00      0.87     15543\n",
      "         1.0       0.00      0.00      0.00      4457\n",
      "\n",
      "    accuracy                           0.78     20000\n",
      "   macro avg       0.39      0.50      0.44     20000\n",
      "weighted avg       0.60      0.78      0.68     20000\n",
      "\n",
      "tensor([nan, nan, nan,  ..., nan, nan, nan], device='cuda:0')\n",
      "              precision    recall  f1-score   support\n",
      "\n",
      "         0.0       0.78      1.00      0.87     15543\n",
      "         1.0       0.00      0.00      0.00      4457\n",
      "\n",
      "    accuracy                           0.78     20000\n",
      "   macro avg       0.39      0.50      0.44     20000\n",
      "weighted avg       0.60      0.78      0.68     20000\n",
      "\n",
      "tensor([nan, nan, nan,  ..., nan, nan, nan], device='cuda:0')\n"
     ]
    },
    {
     "name": "stderr",
     "output_type": "stream",
     "text": [
      " 13%|█▎        | 130/1000 [00:18<01:39,  8.70it/s]"
     ]
    },
    {
     "name": "stdout",
     "output_type": "stream",
     "text": [
      "              precision    recall  f1-score   support\n",
      "\n",
      "         0.0       0.78      1.00      0.87     15543\n",
      "         1.0       0.00      0.00      0.00      4457\n",
      "\n",
      "    accuracy                           0.78     20000\n",
      "   macro avg       0.39      0.50      0.44     20000\n",
      "weighted avg       0.60      0.78      0.68     20000\n",
      "\n",
      "tensor([nan, nan, nan,  ..., nan, nan, nan], device='cuda:0')\n",
      "              precision    recall  f1-score   support\n",
      "\n",
      "         0.0       0.78      1.00      0.87     15543\n",
      "         1.0       0.00      0.00      0.00      4457\n",
      "\n",
      "    accuracy                           0.78     20000\n",
      "   macro avg       0.39      0.50      0.44     20000\n",
      "weighted avg       0.60      0.78      0.68     20000\n",
      "\n",
      "tensor([nan, nan, nan,  ..., nan, nan, nan], device='cuda:0')\n"
     ]
    },
    {
     "name": "stderr",
     "output_type": "stream",
     "text": [
      "\r",
      " 13%|█▎        | 131/1000 [00:18<01:43,  8.38it/s]"
     ]
    },
    {
     "name": "stdout",
     "output_type": "stream",
     "text": [
      "              precision    recall  f1-score   support\n",
      "\n",
      "         0.0       0.78      1.00      0.87     15543\n",
      "         1.0       0.00      0.00      0.00      4457\n",
      "\n",
      "    accuracy                           0.78     20000\n",
      "   macro avg       0.39      0.50      0.44     20000\n",
      "weighted avg       0.60      0.78      0.68     20000\n",
      "\n",
      "tensor([nan, nan, nan,  ..., nan, nan, nan], device='cuda:0')\n",
      "              precision    recall  f1-score   support\n",
      "\n",
      "         0.0       0.78      1.00      0.87     15543\n",
      "         1.0       0.00      0.00      0.00      4457\n",
      "\n",
      "    accuracy                           0.78     20000\n",
      "   macro avg       0.39      0.50      0.44     20000\n",
      "weighted avg       0.60      0.78      0.68     20000\n",
      "\n"
     ]
    },
    {
     "name": "stderr",
     "output_type": "stream",
     "text": [
      " 13%|█▎        | 133/1000 [00:18<01:55,  7.53it/s]"
     ]
    },
    {
     "name": "stdout",
     "output_type": "stream",
     "text": [
      "tensor([nan, nan, nan,  ..., nan, nan, nan], device='cuda:0')\n",
      "              precision    recall  f1-score   support\n",
      "\n",
      "         0.0       0.78      1.00      0.87     15543\n",
      "         1.0       0.00      0.00      0.00      4457\n",
      "\n",
      "    accuracy                           0.78     20000\n",
      "   macro avg       0.39      0.50      0.44     20000\n",
      "weighted avg       0.60      0.78      0.68     20000\n",
      "\n",
      "tensor([nan, nan, nan,  ..., nan, nan, nan], device='cuda:0')\n",
      "              precision    recall  f1-score   support\n",
      "\n",
      "         0.0       0.78      1.00      0.87     15543\n",
      "         1.0       0.00      0.00      0.00      4457\n",
      "\n",
      "    accuracy                           0.78     20000\n",
      "   macro avg       0.39      0.50      0.44     20000\n",
      "weighted avg       0.60      0.78      0.68     20000\n",
      "\n"
     ]
    },
    {
     "name": "stderr",
     "output_type": "stream",
     "text": [
      "\r",
      " 14%|█▎        | 135/1000 [00:19<01:54,  7.53it/s]"
     ]
    },
    {
     "name": "stdout",
     "output_type": "stream",
     "text": [
      "tensor([nan, nan, nan,  ..., nan, nan, nan], device='cuda:0')\n",
      "              precision    recall  f1-score   support\n",
      "\n",
      "         0.0       0.78      1.00      0.87     15543\n",
      "         1.0       0.00      0.00      0.00      4457\n",
      "\n",
      "    accuracy                           0.78     20000\n",
      "   macro avg       0.39      0.50      0.44     20000\n",
      "weighted avg       0.60      0.78      0.68     20000\n",
      "\n",
      "tensor([nan, nan, nan,  ..., nan, nan, nan], device='cuda:0')\n",
      "              precision    recall  f1-score   support\n",
      "\n",
      "         0.0       0.78      1.00      0.87     15543\n",
      "         1.0       0.00      0.00      0.00      4457\n",
      "\n",
      "    accuracy                           0.78     20000\n",
      "   macro avg       0.39      0.50      0.44     20000\n",
      "weighted avg       0.60      0.78      0.68     20000\n",
      "\n"
     ]
    },
    {
     "name": "stderr",
     "output_type": "stream",
     "text": [
      "\r",
      " 14%|█▎        | 137/1000 [00:19<01:41,  8.50it/s]"
     ]
    },
    {
     "name": "stdout",
     "output_type": "stream",
     "text": [
      "tensor([nan, nan, nan,  ..., nan, nan, nan], device='cuda:0')\n",
      "              precision    recall  f1-score   support\n",
      "\n",
      "         0.0       0.78      1.00      0.87     15543\n",
      "         1.0       0.00      0.00      0.00      4457\n",
      "\n",
      "    accuracy                           0.78     20000\n",
      "   macro avg       0.39      0.50      0.44     20000\n",
      "weighted avg       0.60      0.78      0.68     20000\n",
      "\n",
      "tensor([nan, nan, nan,  ..., nan, nan, nan], device='cuda:0')\n",
      "              precision    recall  f1-score   support\n",
      "\n",
      "         0.0       0.78      1.00      0.87     15543\n",
      "         1.0       0.00      0.00      0.00      4457\n",
      "\n",
      "    accuracy                           0.78     20000\n",
      "   macro avg       0.39      0.50      0.44     20000\n",
      "weighted avg       0.60      0.78      0.68     20000\n",
      "\n",
      "tensor([nan, nan, nan,  ..., nan, nan, nan], device='cuda:0')\n"
     ]
    },
    {
     "name": "stderr",
     "output_type": "stream",
     "text": [
      " 14%|█▍        | 140/1000 [00:19<01:39,  8.66it/s]"
     ]
    },
    {
     "name": "stdout",
     "output_type": "stream",
     "text": [
      "              precision    recall  f1-score   support\n",
      "\n",
      "         0.0       0.78      1.00      0.87     15543\n",
      "         1.0       0.00      0.00      0.00      4457\n",
      "\n",
      "    accuracy                           0.78     20000\n",
      "   macro avg       0.39      0.50      0.44     20000\n",
      "weighted avg       0.60      0.78      0.68     20000\n",
      "\n",
      "tensor([nan, nan, nan,  ..., nan, nan, nan], device='cuda:0')\n",
      "              precision    recall  f1-score   support\n",
      "\n",
      "         0.0       0.78      1.00      0.87     15543\n",
      "         1.0       0.00      0.00      0.00      4457\n",
      "\n",
      "    accuracy                           0.78     20000\n",
      "   macro avg       0.39      0.50      0.44     20000\n",
      "weighted avg       0.60      0.78      0.68     20000\n",
      "\n"
     ]
    },
    {
     "name": "stderr",
     "output_type": "stream",
     "text": [
      "\r",
      " 14%|█▍        | 141/1000 [00:19<01:38,  8.76it/s]"
     ]
    },
    {
     "name": "stdout",
     "output_type": "stream",
     "text": [
      "tensor([nan, nan, nan,  ..., nan, nan, nan], device='cuda:0')\n",
      "              precision    recall  f1-score   support\n",
      "\n",
      "         0.0       0.78      1.00      0.87     15543\n",
      "         1.0       0.00      0.00      0.00      4457\n",
      "\n",
      "    accuracy                           0.78     20000\n",
      "   macro avg       0.39      0.50      0.44     20000\n",
      "weighted avg       0.60      0.78      0.68     20000\n",
      "\n",
      "tensor([nan, nan, nan,  ..., nan, nan, nan], device='cuda:0')\n",
      "              precision    recall  f1-score   support\n",
      "\n",
      "         0.0       0.78      1.00      0.87     15543\n",
      "         1.0       0.00      0.00      0.00      4457\n",
      "\n",
      "    accuracy                           0.78     20000\n",
      "   macro avg       0.39      0.50      0.44     20000\n",
      "weighted avg       0.60      0.78      0.68     20000\n",
      "\n"
     ]
    },
    {
     "name": "stderr",
     "output_type": "stream",
     "text": [
      " 14%|█▍        | 144/1000 [00:20<01:46,  8.05it/s]"
     ]
    },
    {
     "name": "stdout",
     "output_type": "stream",
     "text": [
      "tensor([nan, nan, nan,  ..., nan, nan, nan], device='cuda:0')\n",
      "              precision    recall  f1-score   support\n",
      "\n",
      "         0.0       0.78      1.00      0.87     15543\n",
      "         1.0       0.00      0.00      0.00      4457\n",
      "\n",
      "    accuracy                           0.78     20000\n",
      "   macro avg       0.39      0.50      0.44     20000\n",
      "weighted avg       0.60      0.78      0.68     20000\n",
      "\n",
      "tensor([nan, nan, nan,  ..., nan, nan, nan], device='cuda:0')\n",
      "              precision    recall  f1-score   support\n",
      "\n",
      "         0.0       0.78      1.00      0.87     15543\n",
      "         1.0       0.00      0.00      0.00      4457\n",
      "\n",
      "    accuracy                           0.78     20000\n",
      "   macro avg       0.39      0.50      0.44     20000\n",
      "weighted avg       0.60      0.78      0.68     20000\n",
      "\n"
     ]
    },
    {
     "name": "stderr",
     "output_type": "stream",
     "text": [
      " 15%|█▍        | 146/1000 [00:20<01:48,  7.85it/s]"
     ]
    },
    {
     "name": "stdout",
     "output_type": "stream",
     "text": [
      "tensor([nan, nan, nan,  ..., nan, nan, nan], device='cuda:0')\n",
      "              precision    recall  f1-score   support\n",
      "\n",
      "         0.0       0.78      1.00      0.87     15543\n",
      "         1.0       0.00      0.00      0.00      4457\n",
      "\n",
      "    accuracy                           0.78     20000\n",
      "   macro avg       0.39      0.50      0.44     20000\n",
      "weighted avg       0.60      0.78      0.68     20000\n",
      "\n",
      "tensor([nan, nan, nan,  ..., nan, nan, nan], device='cuda:0')\n",
      "              precision    recall  f1-score   support\n",
      "\n",
      "         0.0       0.78      1.00      0.87     15543\n",
      "         1.0       0.00      0.00      0.00      4457\n",
      "\n",
      "    accuracy                           0.78     20000\n",
      "   macro avg       0.39      0.50      0.44     20000\n",
      "weighted avg       0.60      0.78      0.68     20000\n",
      "\n",
      "tensor([nan, nan, nan,  ..., nan, nan, nan], device='cuda:0')\n",
      "              precision    recall  f1-score   support\n",
      "\n",
      "         0.0       0.78      1.00      0.87     15543\n",
      "         1.0       0.00      0.00      0.00      4457\n",
      "\n",
      "    accuracy                           0.78     20000\n",
      "   macro avg       0.39      0.50      0.44     20000\n",
      "weighted avg       0.60      0.78      0.68     20000\n",
      "\n",
      "tensor([nan, nan, nan,  ..., nan, nan, nan], device='cuda:0')\n"
     ]
    },
    {
     "name": "stderr",
     "output_type": "stream",
     "text": [
      " 15%|█▍        | 149/1000 [00:20<01:51,  7.66it/s]"
     ]
    },
    {
     "name": "stdout",
     "output_type": "stream",
     "text": [
      "              precision    recall  f1-score   support\n",
      "\n",
      "         0.0       0.78      1.00      0.87     15543\n",
      "         1.0       0.00      0.00      0.00      4457\n",
      "\n",
      "    accuracy                           0.78     20000\n",
      "   macro avg       0.39      0.50      0.44     20000\n",
      "weighted avg       0.60      0.78      0.68     20000\n",
      "\n",
      "tensor([nan, nan, nan,  ..., nan, nan, nan], device='cuda:0')\n",
      "              precision    recall  f1-score   support\n",
      "\n",
      "         0.0       0.78      1.00      0.87     15543\n",
      "         1.0       0.00      0.00      0.00      4457\n",
      "\n",
      "    accuracy                           0.78     20000\n",
      "   macro avg       0.39      0.50      0.44     20000\n",
      "weighted avg       0.60      0.78      0.68     20000\n",
      "\n",
      "tensor([nan, nan, nan,  ..., nan, nan, nan], device='cuda:0')\n"
     ]
    },
    {
     "name": "stderr",
     "output_type": "stream",
     "text": [
      "\r",
      " 15%|█▌        | 150/1000 [00:20<01:55,  7.36it/s]"
     ]
    },
    {
     "name": "stdout",
     "output_type": "stream",
     "text": [
      "              precision    recall  f1-score   support\n",
      "\n",
      "         0.0       0.78      1.00      0.87     15543\n",
      "         1.0       0.00      0.00      0.00      4457\n",
      "\n",
      "    accuracy                           0.78     20000\n",
      "   macro avg       0.39      0.50      0.44     20000\n",
      "weighted avg       0.60      0.78      0.68     20000\n",
      "\n",
      "tensor([nan, nan, nan,  ..., nan, nan, nan], device='cuda:0')\n",
      "              precision    recall  f1-score   support\n",
      "\n",
      "         0.0       0.78      1.00      0.87     15543\n",
      "         1.0       0.00      0.00      0.00      4457\n",
      "\n",
      "    accuracy                           0.78     20000\n",
      "   macro avg       0.39      0.50      0.44     20000\n",
      "weighted avg       0.60      0.78      0.68     20000\n",
      "\n"
     ]
    },
    {
     "name": "stderr",
     "output_type": "stream",
     "text": [
      " 15%|█▌        | 152/1000 [00:21<01:51,  7.63it/s]"
     ]
    },
    {
     "name": "stdout",
     "output_type": "stream",
     "text": [
      "tensor([nan, nan, nan,  ..., nan, nan, nan], device='cuda:0')\n",
      "              precision    recall  f1-score   support\n",
      "\n",
      "         0.0       0.78      1.00      0.87     15543\n",
      "         1.0       0.00      0.00      0.00      4457\n",
      "\n",
      "    accuracy                           0.78     20000\n",
      "   macro avg       0.39      0.50      0.44     20000\n",
      "weighted avg       0.60      0.78      0.68     20000\n",
      "\n",
      "tensor([nan, nan, nan,  ..., nan, nan, nan], device='cuda:0')\n",
      "              precision    recall  f1-score   support\n",
      "\n",
      "         0.0       0.78      1.00      0.87     15543\n",
      "         1.0       0.00      0.00      0.00      4457\n",
      "\n",
      "    accuracy                           0.78     20000\n",
      "   macro avg       0.39      0.50      0.44     20000\n",
      "weighted avg       0.60      0.78      0.68     20000\n",
      "\n",
      "tensor([nan, nan, nan,  ..., nan, nan, nan], device='cuda:0')\n"
     ]
    },
    {
     "name": "stderr",
     "output_type": "stream",
     "text": [
      "\r",
      " 15%|█▌        | 154/1000 [00:21<01:43,  8.17it/s]"
     ]
    },
    {
     "name": "stdout",
     "output_type": "stream",
     "text": [
      "              precision    recall  f1-score   support\n",
      "\n",
      "         0.0       0.78      1.00      0.87     15543\n",
      "         1.0       0.00      0.00      0.00      4457\n",
      "\n",
      "    accuracy                           0.78     20000\n",
      "   macro avg       0.39      0.50      0.44     20000\n",
      "weighted avg       0.60      0.78      0.68     20000\n",
      "\n",
      "tensor([nan, nan, nan,  ..., nan, nan, nan], device='cuda:0')\n",
      "              precision    recall  f1-score   support\n",
      "\n",
      "         0.0       0.78      1.00      0.87     15543\n",
      "         1.0       0.00      0.00      0.00      4457\n",
      "\n",
      "    accuracy                           0.78     20000\n",
      "   macro avg       0.39      0.50      0.44     20000\n",
      "weighted avg       0.60      0.78      0.68     20000\n",
      "\n"
     ]
    },
    {
     "name": "stderr",
     "output_type": "stream",
     "text": [
      " 16%|█▌        | 157/1000 [00:21<01:43,  8.17it/s]"
     ]
    },
    {
     "name": "stdout",
     "output_type": "stream",
     "text": [
      "tensor([nan, nan, nan,  ..., nan, nan, nan], device='cuda:0')\n",
      "              precision    recall  f1-score   support\n",
      "\n",
      "         0.0       0.78      1.00      0.87     15543\n",
      "         1.0       0.00      0.00      0.00      4457\n",
      "\n",
      "    accuracy                           0.78     20000\n",
      "   macro avg       0.39      0.50      0.44     20000\n",
      "weighted avg       0.60      0.78      0.68     20000\n",
      "\n",
      "tensor([nan, nan, nan,  ..., nan, nan, nan], device='cuda:0')\n",
      "              precision    recall  f1-score   support\n",
      "\n",
      "         0.0       0.78      1.00      0.87     15543\n",
      "         1.0       0.00      0.00      0.00      4457\n",
      "\n",
      "    accuracy                           0.78     20000\n",
      "   macro avg       0.39      0.50      0.44     20000\n",
      "weighted avg       0.60      0.78      0.68     20000\n",
      "\n"
     ]
    },
    {
     "name": "stderr",
     "output_type": "stream",
     "text": [
      " 16%|█▌        | 159/1000 [00:22<01:39,  8.42it/s]"
     ]
    },
    {
     "name": "stdout",
     "output_type": "stream",
     "text": [
      "tensor([nan, nan, nan,  ..., nan, nan, nan], device='cuda:0')\n",
      "              precision    recall  f1-score   support\n",
      "\n",
      "         0.0       0.78      1.00      0.87     15543\n",
      "         1.0       0.00      0.00      0.00      4457\n",
      "\n",
      "    accuracy                           0.78     20000\n",
      "   macro avg       0.39      0.50      0.44     20000\n",
      "weighted avg       0.60      0.78      0.68     20000\n",
      "\n",
      "tensor([nan, nan, nan,  ..., nan, nan, nan], device='cuda:0')\n",
      "              precision    recall  f1-score   support\n",
      "\n",
      "         0.0       0.78      1.00      0.87     15543\n",
      "         1.0       0.00      0.00      0.00      4457\n",
      "\n",
      "    accuracy                           0.78     20000\n",
      "   macro avg       0.39      0.50      0.44     20000\n",
      "weighted avg       0.60      0.78      0.68     20000\n",
      "\n"
     ]
    },
    {
     "name": "stderr",
     "output_type": "stream",
     "text": [
      "\r",
      " 16%|█▌        | 160/1000 [00:22<01:51,  7.51it/s]"
     ]
    },
    {
     "name": "stdout",
     "output_type": "stream",
     "text": [
      "tensor([nan, nan, nan,  ..., nan, nan, nan], device='cuda:0')\n",
      "              precision    recall  f1-score   support\n",
      "\n",
      "         0.0       0.78      1.00      0.87     15543\n",
      "         1.0       0.00      0.00      0.00      4457\n",
      "\n",
      "    accuracy                           0.78     20000\n",
      "   macro avg       0.39      0.50      0.44     20000\n",
      "weighted avg       0.60      0.78      0.68     20000\n",
      "\n",
      "tensor([nan, nan, nan,  ..., nan, nan, nan], device='cuda:0')\n"
     ]
    },
    {
     "name": "stderr",
     "output_type": "stream",
     "text": [
      "\r",
      " 16%|█▌        | 161/1000 [00:22<02:01,  6.90it/s]"
     ]
    },
    {
     "name": "stdout",
     "output_type": "stream",
     "text": [
      "              precision    recall  f1-score   support\n",
      "\n",
      "         0.0       0.78      1.00      0.87     15543\n",
      "         1.0       0.00      0.00      0.00      4457\n",
      "\n",
      "    accuracy                           0.78     20000\n",
      "   macro avg       0.39      0.50      0.44     20000\n",
      "weighted avg       0.60      0.78      0.68     20000\n",
      "\n",
      "tensor([nan, nan, nan,  ..., nan, nan, nan], device='cuda:0')\n",
      "              precision    recall  f1-score   support\n",
      "\n",
      "         0.0       0.78      1.00      0.87     15543\n",
      "         1.0       0.00      0.00      0.00      4457\n",
      "\n",
      "    accuracy                           0.78     20000\n",
      "   macro avg       0.39      0.50      0.44     20000\n",
      "weighted avg       0.60      0.78      0.68     20000\n",
      "\n",
      "tensor([nan, nan, nan,  ..., nan, nan, nan], device='cuda:0')\n",
      "              precision    recall  f1-score   support\n",
      "\n",
      "         0.0       0.78      1.00      0.87     15543\n",
      "         1.0       0.00      0.00      0.00      4457\n",
      "\n",
      "    accuracy                           0.78     20000\n",
      "   macro avg       0.39      0.50      0.44     20000\n",
      "weighted avg       0.60      0.78      0.68     20000\n",
      "\n"
     ]
    },
    {
     "name": "stderr",
     "output_type": "stream",
     "text": [
      " 16%|█▋        | 164/1000 [00:22<01:40,  8.31it/s]"
     ]
    },
    {
     "name": "stdout",
     "output_type": "stream",
     "text": [
      "tensor([nan, nan, nan,  ..., nan, nan, nan], device='cuda:0')\n",
      "              precision    recall  f1-score   support\n",
      "\n",
      "         0.0       0.78      1.00      0.87     15543\n",
      "         1.0       0.00      0.00      0.00      4457\n",
      "\n",
      "    accuracy                           0.78     20000\n",
      "   macro avg       0.39      0.50      0.44     20000\n",
      "weighted avg       0.60      0.78      0.68     20000\n",
      "\n",
      "tensor([nan, nan, nan,  ..., nan, nan, nan], device='cuda:0')\n",
      "              precision    recall  f1-score   support\n",
      "\n",
      "         0.0       0.78      1.00      0.87     15543\n",
      "         1.0       0.00      0.00      0.00      4457\n",
      "\n",
      "    accuracy                           0.78     20000\n",
      "   macro avg       0.39      0.50      0.44     20000\n",
      "weighted avg       0.60      0.78      0.68     20000\n",
      "\n"
     ]
    },
    {
     "name": "stderr",
     "output_type": "stream",
     "text": [
      " 17%|█▋        | 167/1000 [00:23<01:35,  8.76it/s]"
     ]
    },
    {
     "name": "stdout",
     "output_type": "stream",
     "text": [
      "tensor([nan, nan, nan,  ..., nan, nan, nan], device='cuda:0')\n",
      "              precision    recall  f1-score   support\n",
      "\n",
      "         0.0       0.78      1.00      0.87     15543\n",
      "         1.0       0.00      0.00      0.00      4457\n",
      "\n",
      "    accuracy                           0.78     20000\n",
      "   macro avg       0.39      0.50      0.44     20000\n",
      "weighted avg       0.60      0.78      0.68     20000\n",
      "\n",
      "tensor([nan, nan, nan,  ..., nan, nan, nan], device='cuda:0')\n",
      "              precision    recall  f1-score   support\n",
      "\n",
      "         0.0       0.78      1.00      0.87     15543\n",
      "         1.0       0.00      0.00      0.00      4457\n",
      "\n",
      "    accuracy                           0.78     20000\n",
      "   macro avg       0.39      0.50      0.44     20000\n",
      "weighted avg       0.60      0.78      0.68     20000\n",
      "\n"
     ]
    },
    {
     "name": "stderr",
     "output_type": "stream",
     "text": [
      " 17%|█▋        | 169/1000 [00:23<01:37,  8.49it/s]"
     ]
    },
    {
     "name": "stdout",
     "output_type": "stream",
     "text": [
      "tensor([nan, nan, nan,  ..., nan, nan, nan], device='cuda:0')\n",
      "              precision    recall  f1-score   support\n",
      "\n",
      "         0.0       0.78      1.00      0.87     15543\n",
      "         1.0       0.00      0.00      0.00      4457\n",
      "\n",
      "    accuracy                           0.78     20000\n",
      "   macro avg       0.39      0.50      0.44     20000\n",
      "weighted avg       0.60      0.78      0.68     20000\n",
      "\n",
      "tensor([nan, nan, nan,  ..., nan, nan, nan], device='cuda:0')\n",
      "              precision    recall  f1-score   support\n",
      "\n",
      "         0.0       0.78      1.00      0.87     15543\n",
      "         1.0       0.00      0.00      0.00      4457\n",
      "\n",
      "    accuracy                           0.78     20000\n",
      "   macro avg       0.39      0.50      0.44     20000\n",
      "weighted avg       0.60      0.78      0.68     20000\n",
      "\n"
     ]
    },
    {
     "name": "stderr",
     "output_type": "stream",
     "text": [
      "\r",
      " 17%|█▋        | 170/1000 [00:23<01:33,  8.84it/s]"
     ]
    },
    {
     "name": "stdout",
     "output_type": "stream",
     "text": [
      "tensor([nan, nan, nan,  ..., nan, nan, nan], device='cuda:0')\n",
      "              precision    recall  f1-score   support\n",
      "\n",
      "         0.0       0.78      1.00      0.87     15543\n",
      "         1.0       0.00      0.00      0.00      4457\n",
      "\n",
      "    accuracy                           0.78     20000\n",
      "   macro avg       0.39      0.50      0.44     20000\n",
      "weighted avg       0.60      0.78      0.68     20000\n",
      "\n",
      "tensor([nan, nan, nan,  ..., nan, nan, nan], device='cuda:0')\n",
      "              precision    recall  f1-score   support\n",
      "\n",
      "         0.0       0.78      1.00      0.87     15543\n",
      "         1.0       0.00      0.00      0.00      4457\n",
      "\n",
      "    accuracy                           0.78     20000\n",
      "   macro avg       0.39      0.50      0.44     20000\n",
      "weighted avg       0.60      0.78      0.68     20000\n",
      "\n"
     ]
    },
    {
     "name": "stderr",
     "output_type": "stream",
     "text": [
      " 17%|█▋        | 173/1000 [00:23<01:40,  8.20it/s]"
     ]
    },
    {
     "name": "stdout",
     "output_type": "stream",
     "text": [
      "tensor([nan, nan, nan,  ..., nan, nan, nan], device='cuda:0')\n",
      "              precision    recall  f1-score   support\n",
      "\n",
      "         0.0       0.78      1.00      0.87     15543\n",
      "         1.0       0.00      0.00      0.00      4457\n",
      "\n",
      "    accuracy                           0.78     20000\n",
      "   macro avg       0.39      0.50      0.44     20000\n",
      "weighted avg       0.60      0.78      0.68     20000\n",
      "\n",
      "tensor([nan, nan, nan,  ..., nan, nan, nan], device='cuda:0')\n",
      "              precision    recall  f1-score   support\n",
      "\n",
      "         0.0       0.78      1.00      0.87     15543\n",
      "         1.0       0.00      0.00      0.00      4457\n",
      "\n",
      "    accuracy                           0.78     20000\n",
      "   macro avg       0.39      0.50      0.44     20000\n",
      "weighted avg       0.60      0.78      0.68     20000\n",
      "\n"
     ]
    },
    {
     "name": "stderr",
     "output_type": "stream",
     "text": [
      "\r",
      " 17%|█▋        | 174/1000 [00:23<01:46,  7.78it/s]"
     ]
    },
    {
     "name": "stdout",
     "output_type": "stream",
     "text": [
      "tensor([nan, nan, nan,  ..., nan, nan, nan], device='cuda:0')\n",
      "              precision    recall  f1-score   support\n",
      "\n",
      "         0.0       0.78      1.00      0.87     15543\n",
      "         1.0       0.00      0.00      0.00      4457\n",
      "\n",
      "    accuracy                           0.78     20000\n",
      "   macro avg       0.39      0.50      0.44     20000\n",
      "weighted avg       0.60      0.78      0.68     20000\n",
      "\n",
      "tensor([nan, nan, nan,  ..., nan, nan, nan], device='cuda:0')\n",
      "              precision    recall  f1-score   support\n",
      "\n",
      "         0.0       0.78      1.00      0.87     15543\n",
      "         1.0       0.00      0.00      0.00      4457\n",
      "\n",
      "    accuracy                           0.78     20000\n",
      "   macro avg       0.39      0.50      0.44     20000\n",
      "weighted avg       0.60      0.78      0.68     20000\n",
      "\n"
     ]
    },
    {
     "name": "stderr",
     "output_type": "stream",
     "text": [
      "\r",
      " 18%|█▊        | 176/1000 [00:24<01:43,  7.99it/s]"
     ]
    },
    {
     "name": "stdout",
     "output_type": "stream",
     "text": [
      "tensor([nan, nan, nan,  ..., nan, nan, nan], device='cuda:0')\n",
      "              precision    recall  f1-score   support\n",
      "\n",
      "         0.0       0.78      1.00      0.87     15543\n",
      "         1.0       0.00      0.00      0.00      4457\n",
      "\n",
      "    accuracy                           0.78     20000\n",
      "   macro avg       0.39      0.50      0.44     20000\n",
      "weighted avg       0.60      0.78      0.68     20000\n",
      "\n",
      "tensor([nan, nan, nan,  ..., nan, nan, nan], device='cuda:0')\n"
     ]
    },
    {
     "name": "stderr",
     "output_type": "stream",
     "text": [
      " 18%|█▊        | 178/1000 [00:24<01:43,  7.93it/s]"
     ]
    },
    {
     "name": "stdout",
     "output_type": "stream",
     "text": [
      "              precision    recall  f1-score   support\n",
      "\n",
      "         0.0       0.78      1.00      0.87     15543\n",
      "         1.0       0.00      0.00      0.00      4457\n",
      "\n",
      "    accuracy                           0.78     20000\n",
      "   macro avg       0.39      0.50      0.44     20000\n",
      "weighted avg       0.60      0.78      0.68     20000\n",
      "\n",
      "tensor([nan, nan, nan,  ..., nan, nan, nan], device='cuda:0')\n",
      "              precision    recall  f1-score   support\n",
      "\n",
      "         0.0       0.78      1.00      0.87     15543\n",
      "         1.0       0.00      0.00      0.00      4457\n",
      "\n",
      "    accuracy                           0.78     20000\n",
      "   macro avg       0.39      0.50      0.44     20000\n",
      "weighted avg       0.60      0.78      0.68     20000\n",
      "\n",
      "tensor([nan, nan, nan,  ..., nan, nan, nan], device='cuda:0')\n"
     ]
    },
    {
     "name": "stderr",
     "output_type": "stream",
     "text": [
      " 18%|█▊        | 180/1000 [00:24<01:46,  7.73it/s]"
     ]
    },
    {
     "name": "stdout",
     "output_type": "stream",
     "text": [
      "              precision    recall  f1-score   support\n",
      "\n",
      "         0.0       0.78      1.00      0.87     15543\n",
      "         1.0       0.00      0.00      0.00      4457\n",
      "\n",
      "    accuracy                           0.78     20000\n",
      "   macro avg       0.39      0.50      0.44     20000\n",
      "weighted avg       0.60      0.78      0.68     20000\n",
      "\n",
      "tensor([nan, nan, nan,  ..., nan, nan, nan], device='cuda:0')\n",
      "              precision    recall  f1-score   support\n",
      "\n",
      "         0.0       0.78      1.00      0.87     15543\n",
      "         1.0       0.00      0.00      0.00      4457\n",
      "\n",
      "    accuracy                           0.78     20000\n",
      "   macro avg       0.39      0.50      0.44     20000\n",
      "weighted avg       0.60      0.78      0.68     20000\n",
      "\n"
     ]
    },
    {
     "name": "stderr",
     "output_type": "stream",
     "text": [
      " 18%|█▊        | 182/1000 [00:24<01:41,  8.06it/s]"
     ]
    },
    {
     "name": "stdout",
     "output_type": "stream",
     "text": [
      "tensor([nan, nan, nan,  ..., nan, nan, nan], device='cuda:0')\n",
      "              precision    recall  f1-score   support\n",
      "\n",
      "         0.0       0.78      1.00      0.87     15543\n",
      "         1.0       0.00      0.00      0.00      4457\n",
      "\n",
      "    accuracy                           0.78     20000\n",
      "   macro avg       0.39      0.50      0.44     20000\n",
      "weighted avg       0.60      0.78      0.68     20000\n",
      "\n",
      "tensor([nan, nan, nan,  ..., nan, nan, nan], device='cuda:0')\n",
      "              precision    recall  f1-score   support\n",
      "\n",
      "         0.0       0.78      1.00      0.87     15543\n",
      "         1.0       0.00      0.00      0.00      4457\n",
      "\n",
      "    accuracy                           0.78     20000\n",
      "   macro avg       0.39      0.50      0.44     20000\n",
      "weighted avg       0.60      0.78      0.68     20000\n",
      "\n"
     ]
    },
    {
     "name": "stderr",
     "output_type": "stream",
     "text": [
      "\r",
      " 18%|█▊        | 183/1000 [00:25<01:38,  8.33it/s]"
     ]
    },
    {
     "name": "stdout",
     "output_type": "stream",
     "text": [
      "tensor([nan, nan, nan,  ..., nan, nan, nan], device='cuda:0')\n",
      "              precision    recall  f1-score   support\n",
      "\n",
      "         0.0       0.78      1.00      0.87     15543\n",
      "         1.0       0.00      0.00      0.00      4457\n",
      "\n",
      "    accuracy                           0.78     20000\n",
      "   macro avg       0.39      0.50      0.44     20000\n",
      "weighted avg       0.60      0.78      0.68     20000\n",
      "\n",
      "tensor([nan, nan, nan,  ..., nan, nan, nan], device='cuda:0')\n",
      "              precision    recall  f1-score   support\n",
      "\n",
      "         0.0       0.78      1.00      0.87     15543\n",
      "         1.0       0.00      0.00      0.00      4457\n",
      "\n",
      "    accuracy                           0.78     20000\n",
      "   macro avg       0.39      0.50      0.44     20000\n",
      "weighted avg       0.60      0.78      0.68     20000\n",
      "\n",
      "tensor([nan, nan, nan,  ..., nan, nan, nan], device='cuda:0')\n"
     ]
    },
    {
     "name": "stderr",
     "output_type": "stream",
     "text": [
      "\r",
      " 18%|█▊        | 185/1000 [00:25<01:28,  9.16it/s]"
     ]
    },
    {
     "name": "stdout",
     "output_type": "stream",
     "text": [
      "              precision    recall  f1-score   support\n",
      "\n",
      "         0.0       0.78      1.00      0.87     15543\n",
      "         1.0       0.00      0.00      0.00      4457\n",
      "\n",
      "    accuracy                           0.78     20000\n",
      "   macro avg       0.39      0.50      0.44     20000\n",
      "weighted avg       0.60      0.78      0.68     20000\n",
      "\n",
      "tensor([nan, nan, nan,  ..., nan, nan, nan], device='cuda:0')\n",
      "              precision    recall  f1-score   support\n",
      "\n",
      "         0.0       0.78      1.00      0.87     15543\n",
      "         1.0       0.00      0.00      0.00      4457\n",
      "\n",
      "    accuracy                           0.78     20000\n",
      "   macro avg       0.39      0.50      0.44     20000\n",
      "weighted avg       0.60      0.78      0.68     20000\n",
      "\n",
      "tensor([nan, nan, nan,  ..., nan, nan, nan], device='cuda:0')\n",
      "              precision    recall  f1-score   support\n",
      "\n",
      "         0.0       0.78      1.00      0.87     15543\n",
      "         1.0       0.00      0.00      0.00      4457\n",
      "\n",
      "    accuracy                           0.78     20000\n",
      "   macro avg       0.39      0.50      0.44     20000\n",
      "weighted avg       0.60      0.78      0.68     20000\n",
      "\n"
     ]
    },
    {
     "name": "stderr",
     "output_type": "stream",
     "text": [
      " 19%|█▉        | 189/1000 [00:25<01:30,  8.94it/s]"
     ]
    },
    {
     "name": "stdout",
     "output_type": "stream",
     "text": [
      "tensor([nan, nan, nan,  ..., nan, nan, nan], device='cuda:0')\n",
      "              precision    recall  f1-score   support\n",
      "\n",
      "         0.0       0.78      1.00      0.87     15543\n",
      "         1.0       0.00      0.00      0.00      4457\n",
      "\n",
      "    accuracy                           0.78     20000\n",
      "   macro avg       0.39      0.50      0.44     20000\n",
      "weighted avg       0.60      0.78      0.68     20000\n",
      "\n",
      "tensor([nan, nan, nan,  ..., nan, nan, nan], device='cuda:0')\n",
      "              precision    recall  f1-score   support\n",
      "\n",
      "         0.0       0.78      1.00      0.87     15543\n",
      "         1.0       0.00      0.00      0.00      4457\n",
      "\n",
      "    accuracy                           0.78     20000\n",
      "   macro avg       0.39      0.50      0.44     20000\n",
      "weighted avg       0.60      0.78      0.68     20000\n",
      "\n"
     ]
    },
    {
     "name": "stderr",
     "output_type": "stream",
     "text": [
      "\r",
      " 19%|█▉        | 191/1000 [00:25<01:23,  9.69it/s]"
     ]
    },
    {
     "name": "stdout",
     "output_type": "stream",
     "text": [
      "tensor([nan, nan, nan,  ..., nan, nan, nan], device='cuda:0')\n",
      "              precision    recall  f1-score   support\n",
      "\n",
      "         0.0       0.78      1.00      0.87     15543\n",
      "         1.0       0.00      0.00      0.00      4457\n",
      "\n",
      "    accuracy                           0.78     20000\n",
      "   macro avg       0.39      0.50      0.44     20000\n",
      "weighted avg       0.60      0.78      0.68     20000\n",
      "\n",
      "tensor([nan, nan, nan,  ..., nan, nan, nan], device='cuda:0')\n",
      "              precision    recall  f1-score   support\n",
      "\n",
      "         0.0       0.78      1.00      0.87     15543\n",
      "         1.0       0.00      0.00      0.00      4457\n",
      "\n",
      "    accuracy                           0.78     20000\n",
      "   macro avg       0.39      0.50      0.44     20000\n",
      "weighted avg       0.60      0.78      0.68     20000\n",
      "\n"
     ]
    },
    {
     "name": "stderr",
     "output_type": "stream",
     "text": [
      "\r",
      " 19%|█▉        | 192/1000 [00:26<01:40,  8.08it/s]"
     ]
    },
    {
     "name": "stdout",
     "output_type": "stream",
     "text": [
      "tensor([nan, nan, nan,  ..., nan, nan, nan], device='cuda:0')\n",
      "              precision    recall  f1-score   support\n",
      "\n",
      "         0.0       0.78      1.00      0.87     15543\n",
      "         1.0       0.00      0.00      0.00      4457\n",
      "\n",
      "    accuracy                           0.78     20000\n",
      "   macro avg       0.39      0.50      0.44     20000\n",
      "weighted avg       0.60      0.78      0.68     20000\n",
      "\n",
      "tensor([nan, nan, nan,  ..., nan, nan, nan], device='cuda:0')\n",
      "              precision    recall  f1-score   support\n",
      "\n",
      "         0.0       0.78      1.00      0.87     15543\n",
      "         1.0       0.00      0.00      0.00      4457\n",
      "\n",
      "    accuracy                           0.78     20000\n",
      "   macro avg       0.39      0.50      0.44     20000\n",
      "weighted avg       0.60      0.78      0.68     20000\n",
      "\n"
     ]
    },
    {
     "name": "stderr",
     "output_type": "stream",
     "text": [
      "\r",
      " 19%|█▉        | 194/1000 [00:26<01:32,  8.75it/s]"
     ]
    },
    {
     "name": "stdout",
     "output_type": "stream",
     "text": [
      "tensor([nan, nan, nan,  ..., nan, nan, nan], device='cuda:0')\n",
      "              precision    recall  f1-score   support\n",
      "\n",
      "         0.0       0.78      1.00      0.87     15543\n",
      "         1.0       0.00      0.00      0.00      4457\n",
      "\n",
      "    accuracy                           0.78     20000\n",
      "   macro avg       0.39      0.50      0.44     20000\n",
      "weighted avg       0.60      0.78      0.68     20000\n",
      "\n",
      "tensor([nan, nan, nan,  ..., nan, nan, nan], device='cuda:0')\n",
      "              precision    recall  f1-score   support\n",
      "\n",
      "         0.0       0.78      1.00      0.87     15543\n",
      "         1.0       0.00      0.00      0.00      4457\n",
      "\n",
      "    accuracy                           0.78     20000\n",
      "   macro avg       0.39      0.50      0.44     20000\n",
      "weighted avg       0.60      0.78      0.68     20000\n",
      "\n"
     ]
    },
    {
     "name": "stderr",
     "output_type": "stream",
     "text": [
      "\r",
      " 20%|█▉        | 196/1000 [00:26<01:27,  9.21it/s]"
     ]
    },
    {
     "name": "stdout",
     "output_type": "stream",
     "text": [
      "tensor([nan, nan, nan,  ..., nan, nan, nan], device='cuda:0')\n",
      "              precision    recall  f1-score   support\n",
      "\n",
      "         0.0       0.78      1.00      0.87     15543\n",
      "         1.0       0.00      0.00      0.00      4457\n",
      "\n",
      "    accuracy                           0.78     20000\n",
      "   macro avg       0.39      0.50      0.44     20000\n",
      "weighted avg       0.60      0.78      0.68     20000\n",
      "\n",
      "tensor([nan, nan, nan,  ..., nan, nan, nan], device='cuda:0')\n",
      "              precision    recall  f1-score   support\n",
      "\n",
      "         0.0       0.78      1.00      0.87     15543\n",
      "         1.0       0.00      0.00      0.00      4457\n",
      "\n",
      "    accuracy                           0.78     20000\n",
      "   macro avg       0.39      0.50      0.44     20000\n",
      "weighted avg       0.60      0.78      0.68     20000\n",
      "\n"
     ]
    },
    {
     "name": "stderr",
     "output_type": "stream",
     "text": [
      " 20%|█▉        | 199/1000 [00:26<01:29,  8.92it/s]"
     ]
    },
    {
     "name": "stdout",
     "output_type": "stream",
     "text": [
      "tensor([nan, nan, nan,  ..., nan, nan, nan], device='cuda:0')\n",
      "              precision    recall  f1-score   support\n",
      "\n",
      "         0.0       0.78      1.00      0.87     15543\n",
      "         1.0       0.00      0.00      0.00      4457\n",
      "\n",
      "    accuracy                           0.78     20000\n",
      "   macro avg       0.39      0.50      0.44     20000\n",
      "weighted avg       0.60      0.78      0.68     20000\n",
      "\n",
      "tensor([nan, nan, nan,  ..., nan, nan, nan], device='cuda:0')\n",
      "              precision    recall  f1-score   support\n",
      "\n",
      "         0.0       0.78      1.00      0.87     15543\n",
      "         1.0       0.00      0.00      0.00      4457\n",
      "\n",
      "    accuracy                           0.78     20000\n",
      "   macro avg       0.39      0.50      0.44     20000\n",
      "weighted avg       0.60      0.78      0.68     20000\n",
      "\n"
     ]
    },
    {
     "name": "stderr",
     "output_type": "stream",
     "text": [
      "\r",
      " 20%|██        | 200/1000 [00:26<01:27,  9.12it/s]"
     ]
    },
    {
     "name": "stdout",
     "output_type": "stream",
     "text": [
      "tensor([nan, nan, nan,  ..., nan, nan, nan], device='cuda:0')\n",
      "              precision    recall  f1-score   support\n",
      "\n",
      "         0.0       0.78      1.00      0.87     15543\n",
      "         1.0       0.00      0.00      0.00      4457\n",
      "\n",
      "    accuracy                           0.78     20000\n",
      "   macro avg       0.39      0.50      0.44     20000\n",
      "weighted avg       0.60      0.78      0.68     20000\n",
      "\n",
      "tensor([nan, nan, nan,  ..., nan, nan, nan], device='cuda:0')\n",
      "              precision    recall  f1-score   support\n",
      "\n",
      "         0.0       0.78      1.00      0.87     15543\n",
      "         1.0       0.00      0.00      0.00      4457\n",
      "\n",
      "    accuracy                           0.78     20000\n",
      "   macro avg       0.39      0.50      0.44     20000\n",
      "weighted avg       0.60      0.78      0.68     20000\n",
      "\n",
      "tensor([nan, nan, nan,  ..., nan, nan, nan], device='cuda:0')\n"
     ]
    },
    {
     "name": "stderr",
     "output_type": "stream",
     "text": [
      " 20%|██        | 203/1000 [00:27<01:34,  8.45it/s]"
     ]
    },
    {
     "name": "stdout",
     "output_type": "stream",
     "text": [
      "              precision    recall  f1-score   support\n",
      "\n",
      "         0.0       0.78      1.00      0.87     15543\n",
      "         1.0       0.00      0.00      0.00      4457\n",
      "\n",
      "    accuracy                           0.78     20000\n",
      "   macro avg       0.39      0.50      0.44     20000\n",
      "weighted avg       0.60      0.78      0.68     20000\n",
      "\n",
      "tensor([nan, nan, nan,  ..., nan, nan, nan], device='cuda:0')\n",
      "              precision    recall  f1-score   support\n",
      "\n",
      "         0.0       0.78      1.00      0.87     15543\n",
      "         1.0       0.00      0.00      0.00      4457\n",
      "\n",
      "    accuracy                           0.78     20000\n",
      "   macro avg       0.39      0.50      0.44     20000\n",
      "weighted avg       0.60      0.78      0.68     20000\n",
      "\n",
      "tensor([nan, nan, nan,  ..., nan, nan, nan], device='cuda:0')\n"
     ]
    },
    {
     "name": "stderr",
     "output_type": "stream",
     "text": [
      " 20%|██        | 205/1000 [00:27<01:46,  7.46it/s]"
     ]
    },
    {
     "name": "stdout",
     "output_type": "stream",
     "text": [
      "              precision    recall  f1-score   support\n",
      "\n",
      "         0.0       0.78      1.00      0.87     15543\n",
      "         1.0       0.00      0.00      0.00      4457\n",
      "\n",
      "    accuracy                           0.78     20000\n",
      "   macro avg       0.39      0.50      0.44     20000\n",
      "weighted avg       0.60      0.78      0.68     20000\n",
      "\n",
      "tensor([nan, nan, nan,  ..., nan, nan, nan], device='cuda:0')\n",
      "              precision    recall  f1-score   support\n",
      "\n",
      "         0.0       0.78      1.00      0.87     15543\n",
      "         1.0       0.00      0.00      0.00      4457\n",
      "\n",
      "    accuracy                           0.78     20000\n",
      "   macro avg       0.39      0.50      0.44     20000\n",
      "weighted avg       0.60      0.78      0.68     20000\n",
      "\n"
     ]
    },
    {
     "name": "stderr",
     "output_type": "stream",
     "text": [
      "\r",
      " 21%|██        | 206/1000 [00:27<01:50,  7.18it/s]"
     ]
    },
    {
     "name": "stdout",
     "output_type": "stream",
     "text": [
      "tensor([nan, nan, nan,  ..., nan, nan, nan], device='cuda:0')\n",
      "              precision    recall  f1-score   support\n",
      "\n",
      "         0.0       0.78      1.00      0.87     15543\n",
      "         1.0       0.00      0.00      0.00      4457\n",
      "\n",
      "    accuracy                           0.78     20000\n",
      "   macro avg       0.39      0.50      0.44     20000\n",
      "weighted avg       0.60      0.78      0.68     20000\n",
      "\n",
      "tensor([nan, nan, nan,  ..., nan, nan, nan], device='cuda:0')\n"
     ]
    },
    {
     "name": "stderr",
     "output_type": "stream",
     "text": [
      " 21%|██        | 208/1000 [00:27<01:42,  7.71it/s]"
     ]
    },
    {
     "name": "stdout",
     "output_type": "stream",
     "text": [
      "              precision    recall  f1-score   support\n",
      "\n",
      "         0.0       0.78      1.00      0.87     15543\n",
      "         1.0       0.00      0.00      0.00      4457\n",
      "\n",
      "    accuracy                           0.78     20000\n",
      "   macro avg       0.39      0.50      0.44     20000\n",
      "weighted avg       0.60      0.78      0.68     20000\n",
      "\n",
      "tensor([nan, nan, nan,  ..., nan, nan, nan], device='cuda:0')\n",
      "              precision    recall  f1-score   support\n",
      "\n",
      "         0.0       0.78      1.00      0.87     15543\n",
      "         1.0       0.00      0.00      0.00      4457\n",
      "\n",
      "    accuracy                           0.78     20000\n",
      "   macro avg       0.39      0.50      0.44     20000\n",
      "weighted avg       0.60      0.78      0.68     20000\n",
      "\n",
      "tensor([nan, nan, nan,  ..., nan, nan, nan], device='cuda:0')\n"
     ]
    },
    {
     "name": "stderr",
     "output_type": "stream",
     "text": [
      "\r",
      " 21%|██        | 209/1000 [00:28<01:40,  7.89it/s]"
     ]
    },
    {
     "name": "stdout",
     "output_type": "stream",
     "text": [
      "              precision    recall  f1-score   support\n",
      "\n",
      "         0.0       0.78      1.00      0.87     15543\n",
      "         1.0       0.00      0.00      0.00      4457\n",
      "\n",
      "    accuracy                           0.78     20000\n",
      "   macro avg       0.39      0.50      0.44     20000\n",
      "weighted avg       0.60      0.78      0.68     20000\n",
      "\n",
      "tensor([nan, nan, nan,  ..., nan, nan, nan], device='cuda:0')\n",
      "              precision    recall  f1-score   support\n",
      "\n",
      "         0.0       0.78      1.00      0.87     15543\n",
      "         1.0       0.00      0.00      0.00      4457\n",
      "\n",
      "    accuracy                           0.78     20000\n",
      "   macro avg       0.39      0.50      0.44     20000\n",
      "weighted avg       0.60      0.78      0.68     20000\n",
      "\n"
     ]
    },
    {
     "name": "stderr",
     "output_type": "stream",
     "text": [
      " 21%|██        | 211/1000 [00:28<02:16,  5.78it/s]"
     ]
    },
    {
     "name": "stdout",
     "output_type": "stream",
     "text": [
      "tensor([nan, nan, nan,  ..., nan, nan, nan], device='cuda:0')\n",
      "              precision    recall  f1-score   support\n",
      "\n",
      "         0.0       0.78      1.00      0.87     15543\n",
      "         1.0       0.00      0.00      0.00      4457\n",
      "\n",
      "    accuracy                           0.78     20000\n",
      "   macro avg       0.39      0.50      0.44     20000\n",
      "weighted avg       0.60      0.78      0.68     20000\n",
      "\n"
     ]
    },
    {
     "name": "stderr",
     "output_type": "stream",
     "text": [
      "\r",
      " 21%|██        | 212/1000 [00:28<02:08,  6.12it/s]"
     ]
    },
    {
     "name": "stdout",
     "output_type": "stream",
     "text": [
      "tensor([nan, nan, nan,  ..., nan, nan, nan], device='cuda:0')\n",
      "              precision    recall  f1-score   support\n",
      "\n",
      "         0.0       0.78      1.00      0.87     15543\n",
      "         1.0       0.00      0.00      0.00      4457\n",
      "\n",
      "    accuracy                           0.78     20000\n",
      "   macro avg       0.39      0.50      0.44     20000\n",
      "weighted avg       0.60      0.78      0.68     20000\n",
      "\n",
      "tensor([nan, nan, nan,  ..., nan, nan, nan], device='cuda:0')\n",
      "              precision    recall  f1-score   support\n",
      "\n",
      "         0.0       0.78      1.00      0.87     15543\n",
      "         1.0       0.00      0.00      0.00      4457\n",
      "\n",
      "    accuracy                           0.78     20000\n",
      "   macro avg       0.39      0.50      0.44     20000\n",
      "weighted avg       0.60      0.78      0.68     20000\n",
      "\n"
     ]
    },
    {
     "name": "stderr",
     "output_type": "stream",
     "text": [
      "\r",
      " 21%|██▏       | 214/1000 [00:28<01:48,  7.23it/s]"
     ]
    },
    {
     "name": "stdout",
     "output_type": "stream",
     "text": [
      "tensor([nan, nan, nan,  ..., nan, nan, nan], device='cuda:0')\n",
      "              precision    recall  f1-score   support\n",
      "\n",
      "         0.0       0.78      1.00      0.87     15543\n",
      "         1.0       0.00      0.00      0.00      4457\n",
      "\n",
      "    accuracy                           0.78     20000\n",
      "   macro avg       0.39      0.50      0.44     20000\n",
      "weighted avg       0.60      0.78      0.68     20000\n",
      "\n",
      "tensor([nan, nan, nan,  ..., nan, nan, nan], device='cuda:0')\n",
      "              precision    recall  f1-score   support\n",
      "\n",
      "         0.0       0.78      1.00      0.87     15543\n",
      "         1.0       0.00      0.00      0.00      4457\n",
      "\n",
      "    accuracy                           0.78     20000\n",
      "   macro avg       0.39      0.50      0.44     20000\n",
      "weighted avg       0.60      0.78      0.68     20000\n",
      "\n"
     ]
    },
    {
     "name": "stderr",
     "output_type": "stream",
     "text": [
      " 22%|██▏       | 217/1000 [00:29<01:41,  7.68it/s]"
     ]
    },
    {
     "name": "stdout",
     "output_type": "stream",
     "text": [
      "tensor([nan, nan, nan,  ..., nan, nan, nan], device='cuda:0')\n",
      "              precision    recall  f1-score   support\n",
      "\n",
      "         0.0       0.78      1.00      0.87     15543\n",
      "         1.0       0.00      0.00      0.00      4457\n",
      "\n",
      "    accuracy                           0.78     20000\n",
      "   macro avg       0.39      0.50      0.44     20000\n",
      "weighted avg       0.60      0.78      0.68     20000\n",
      "\n",
      "tensor([nan, nan, nan,  ..., nan, nan, nan], device='cuda:0')\n",
      "              precision    recall  f1-score   support\n",
      "\n",
      "         0.0       0.78      1.00      0.87     15543\n",
      "         1.0       0.00      0.00      0.00      4457\n",
      "\n",
      "    accuracy                           0.78     20000\n",
      "   macro avg       0.39      0.50      0.44     20000\n",
      "weighted avg       0.60      0.78      0.68     20000\n",
      "\n"
     ]
    },
    {
     "name": "stderr",
     "output_type": "stream",
     "text": [
      "\r",
      " 22%|██▏       | 218/1000 [00:29<01:40,  7.76it/s]"
     ]
    },
    {
     "name": "stdout",
     "output_type": "stream",
     "text": [
      "tensor([nan, nan, nan,  ..., nan, nan, nan], device='cuda:0')\n",
      "              precision    recall  f1-score   support\n",
      "\n",
      "         0.0       0.78      1.00      0.87     15543\n",
      "         1.0       0.00      0.00      0.00      4457\n",
      "\n",
      "    accuracy                           0.78     20000\n",
      "   macro avg       0.39      0.50      0.44     20000\n",
      "weighted avg       0.60      0.78      0.68     20000\n",
      "\n",
      "tensor([nan, nan, nan,  ..., nan, nan, nan], device='cuda:0')\n",
      "              precision    recall  f1-score   support\n",
      "\n",
      "         0.0       0.78      1.00      0.87     15543\n",
      "         1.0       0.00      0.00      0.00      4457\n",
      "\n",
      "    accuracy                           0.78     20000\n",
      "   macro avg       0.39      0.50      0.44     20000\n",
      "weighted avg       0.60      0.78      0.68     20000\n",
      "\n"
     ]
    },
    {
     "name": "stderr",
     "output_type": "stream",
     "text": [
      "\r",
      " 22%|██▏       | 220/1000 [00:29<01:48,  7.19it/s]"
     ]
    },
    {
     "name": "stdout",
     "output_type": "stream",
     "text": [
      "tensor([nan, nan, nan,  ..., nan, nan, nan], device='cuda:0')\n",
      "              precision    recall  f1-score   support\n",
      "\n",
      "         0.0       0.78      1.00      0.87     15543\n",
      "         1.0       0.00      0.00      0.00      4457\n",
      "\n",
      "    accuracy                           0.78     20000\n",
      "   macro avg       0.39      0.50      0.44     20000\n",
      "weighted avg       0.60      0.78      0.68     20000\n",
      "\n",
      "tensor([nan, nan, nan,  ..., nan, nan, nan], device='cuda:0')\n"
     ]
    },
    {
     "name": "stderr",
     "output_type": "stream",
     "text": [
      " 22%|██▏       | 222/1000 [00:29<01:43,  7.48it/s]"
     ]
    },
    {
     "name": "stdout",
     "output_type": "stream",
     "text": [
      "              precision    recall  f1-score   support\n",
      "\n",
      "         0.0       0.78      1.00      0.87     15543\n",
      "         1.0       0.00      0.00      0.00      4457\n",
      "\n",
      "    accuracy                           0.78     20000\n",
      "   macro avg       0.39      0.50      0.44     20000\n",
      "weighted avg       0.60      0.78      0.68     20000\n",
      "\n",
      "tensor([nan, nan, nan,  ..., nan, nan, nan], device='cuda:0')\n",
      "              precision    recall  f1-score   support\n",
      "\n",
      "         0.0       0.78      1.00      0.87     15543\n",
      "         1.0       0.00      0.00      0.00      4457\n",
      "\n",
      "    accuracy                           0.78     20000\n",
      "   macro avg       0.39      0.50      0.44     20000\n",
      "weighted avg       0.60      0.78      0.68     20000\n",
      "\n"
     ]
    },
    {
     "name": "stderr",
     "output_type": "stream",
     "text": [
      "\r",
      " 22%|██▏       | 223/1000 [00:30<01:38,  7.86it/s]"
     ]
    },
    {
     "name": "stdout",
     "output_type": "stream",
     "text": [
      "tensor([nan, nan, nan,  ..., nan, nan, nan], device='cuda:0')\n",
      "              precision    recall  f1-score   support\n",
      "\n",
      "         0.0       0.78      1.00      0.87     15543\n",
      "         1.0       0.00      0.00      0.00      4457\n",
      "\n",
      "    accuracy                           0.78     20000\n",
      "   macro avg       0.39      0.50      0.44     20000\n",
      "weighted avg       0.60      0.78      0.68     20000\n",
      "\n",
      "tensor([nan, nan, nan,  ..., nan, nan, nan], device='cuda:0')\n",
      "              precision    recall  f1-score   support\n",
      "\n",
      "         0.0       0.78      1.00      0.87     15543\n",
      "         1.0       0.00      0.00      0.00      4457\n",
      "\n",
      "    accuracy                           0.78     20000\n",
      "   macro avg       0.39      0.50      0.44     20000\n",
      "weighted avg       0.60      0.78      0.68     20000\n",
      "\n"
     ]
    },
    {
     "name": "stderr",
     "output_type": "stream",
     "text": [
      "\r",
      " 22%|██▎       | 225/1000 [00:30<01:30,  8.61it/s]"
     ]
    },
    {
     "name": "stdout",
     "output_type": "stream",
     "text": [
      "tensor([nan, nan, nan,  ..., nan, nan, nan], device='cuda:0')\n",
      "              precision    recall  f1-score   support\n",
      "\n",
      "         0.0       0.78      1.00      0.87     15543\n",
      "         1.0       0.00      0.00      0.00      4457\n",
      "\n",
      "    accuracy                           0.78     20000\n",
      "   macro avg       0.39      0.50      0.44     20000\n",
      "weighted avg       0.60      0.78      0.68     20000\n",
      "\n",
      "tensor([nan, nan, nan,  ..., nan, nan, nan], device='cuda:0')\n",
      "              precision    recall  f1-score   support\n",
      "\n",
      "         0.0       0.78      1.00      0.87     15543\n",
      "         1.0       0.00      0.00      0.00      4457\n",
      "\n",
      "    accuracy                           0.78     20000\n",
      "   macro avg       0.39      0.50      0.44     20000\n",
      "weighted avg       0.60      0.78      0.68     20000\n",
      "\n",
      "tensor([nan, nan, nan,  ..., nan, nan, nan], device='cuda:0')\n"
     ]
    },
    {
     "name": "stderr",
     "output_type": "stream",
     "text": [
      " 23%|██▎       | 228/1000 [00:30<01:31,  8.47it/s]"
     ]
    },
    {
     "name": "stdout",
     "output_type": "stream",
     "text": [
      "              precision    recall  f1-score   support\n",
      "\n",
      "         0.0       0.78      1.00      0.87     15543\n",
      "         1.0       0.00      0.00      0.00      4457\n",
      "\n",
      "    accuracy                           0.78     20000\n",
      "   macro avg       0.39      0.50      0.44     20000\n",
      "weighted avg       0.60      0.78      0.68     20000\n",
      "\n",
      "tensor([nan, nan, nan,  ..., nan, nan, nan], device='cuda:0')\n",
      "              precision    recall  f1-score   support\n",
      "\n",
      "         0.0       0.78      1.00      0.87     15543\n",
      "         1.0       0.00      0.00      0.00      4457\n",
      "\n",
      "    accuracy                           0.78     20000\n",
      "   macro avg       0.39      0.50      0.44     20000\n",
      "weighted avg       0.60      0.78      0.68     20000\n",
      "\n"
     ]
    },
    {
     "name": "stderr",
     "output_type": "stream",
     "text": [
      "\r",
      " 23%|██▎       | 229/1000 [00:30<01:36,  7.98it/s]"
     ]
    },
    {
     "name": "stdout",
     "output_type": "stream",
     "text": [
      "tensor([nan, nan, nan,  ..., nan, nan, nan], device='cuda:0')\n",
      "              precision    recall  f1-score   support\n",
      "\n",
      "         0.0       0.78      1.00      0.87     15543\n",
      "         1.0       0.00      0.00      0.00      4457\n",
      "\n",
      "    accuracy                           0.78     20000\n",
      "   macro avg       0.39      0.50      0.44     20000\n",
      "weighted avg       0.60      0.78      0.68     20000\n",
      "\n",
      "tensor([nan, nan, nan,  ..., nan, nan, nan], device='cuda:0')\n",
      "              precision    recall  f1-score   support\n",
      "\n",
      "         0.0       0.78      1.00      0.87     15543\n",
      "         1.0       0.00      0.00      0.00      4457\n",
      "\n",
      "    accuracy                           0.78     20000\n",
      "   macro avg       0.39      0.50      0.44     20000\n",
      "weighted avg       0.60      0.78      0.68     20000\n",
      "\n"
     ]
    },
    {
     "name": "stderr",
     "output_type": "stream",
     "text": [
      " 23%|██▎       | 232/1000 [00:31<01:27,  8.82it/s]"
     ]
    },
    {
     "name": "stdout",
     "output_type": "stream",
     "text": [
      "tensor([nan, nan, nan,  ..., nan, nan, nan], device='cuda:0')\n",
      "              precision    recall  f1-score   support\n",
      "\n",
      "         0.0       0.78      1.00      0.87     15543\n",
      "         1.0       0.00      0.00      0.00      4457\n",
      "\n",
      "    accuracy                           0.78     20000\n",
      "   macro avg       0.39      0.50      0.44     20000\n",
      "weighted avg       0.60      0.78      0.68     20000\n",
      "\n",
      "tensor([nan, nan, nan,  ..., nan, nan, nan], device='cuda:0')\n",
      "              precision    recall  f1-score   support\n",
      "\n",
      "         0.0       0.78      1.00      0.87     15543\n",
      "         1.0       0.00      0.00      0.00      4457\n",
      "\n",
      "    accuracy                           0.78     20000\n",
      "   macro avg       0.39      0.50      0.44     20000\n",
      "weighted avg       0.60      0.78      0.68     20000\n",
      "\n"
     ]
    },
    {
     "name": "stderr",
     "output_type": "stream",
     "text": [
      "\r",
      " 23%|██▎       | 234/1000 [00:31<01:20,  9.53it/s]"
     ]
    },
    {
     "name": "stdout",
     "output_type": "stream",
     "text": [
      "tensor([nan, nan, nan,  ..., nan, nan, nan], device='cuda:0')\n",
      "              precision    recall  f1-score   support\n",
      "\n",
      "         0.0       0.78      1.00      0.87     15543\n",
      "         1.0       0.00      0.00      0.00      4457\n",
      "\n",
      "    accuracy                           0.78     20000\n",
      "   macro avg       0.39      0.50      0.44     20000\n",
      "weighted avg       0.60      0.78      0.68     20000\n",
      "\n",
      "tensor([nan, nan, nan,  ..., nan, nan, nan], device='cuda:0')\n",
      "              precision    recall  f1-score   support\n",
      "\n",
      "         0.0       0.78      1.00      0.87     15543\n",
      "         1.0       0.00      0.00      0.00      4457\n",
      "\n",
      "    accuracy                           0.78     20000\n",
      "   macro avg       0.39      0.50      0.44     20000\n",
      "weighted avg       0.60      0.78      0.68     20000\n",
      "\n",
      "tensor([nan, nan, nan,  ..., nan, nan, nan], device='cuda:0')\n"
     ]
    },
    {
     "name": "stderr",
     "output_type": "stream",
     "text": [
      " 24%|██▎       | 237/1000 [00:31<01:15, 10.07it/s]"
     ]
    },
    {
     "name": "stdout",
     "output_type": "stream",
     "text": [
      "              precision    recall  f1-score   support\n",
      "\n",
      "         0.0       0.78      1.00      0.87     15543\n",
      "         1.0       0.00      0.00      0.00      4457\n",
      "\n",
      "    accuracy                           0.78     20000\n",
      "   macro avg       0.39      0.50      0.44     20000\n",
      "weighted avg       0.60      0.78      0.68     20000\n",
      "\n",
      "tensor([nan, nan, nan,  ..., nan, nan, nan], device='cuda:0')\n",
      "              precision    recall  f1-score   support\n",
      "\n",
      "         0.0       0.78      1.00      0.87     15543\n",
      "         1.0       0.00      0.00      0.00      4457\n",
      "\n",
      "    accuracy                           0.78     20000\n",
      "   macro avg       0.39      0.50      0.44     20000\n",
      "weighted avg       0.60      0.78      0.68     20000\n",
      "\n",
      "tensor([nan, nan, nan,  ..., nan, nan, nan], device='cuda:0')\n",
      "              precision    recall  f1-score   support\n",
      "\n",
      "         0.0       0.78      1.00      0.87     15543\n",
      "         1.0       0.00      0.00      0.00      4457\n",
      "\n",
      "    accuracy                           0.78     20000\n",
      "   macro avg       0.39      0.50      0.44     20000\n",
      "weighted avg       0.60      0.78      0.68     20000\n",
      "\n"
     ]
    },
    {
     "name": "stderr",
     "output_type": "stream",
     "text": [
      "\r",
      " 24%|██▍       | 239/1000 [00:31<01:14, 10.16it/s]"
     ]
    },
    {
     "name": "stdout",
     "output_type": "stream",
     "text": [
      "tensor([nan, nan, nan,  ..., nan, nan, nan], device='cuda:0')\n",
      "              precision    recall  f1-score   support\n",
      "\n",
      "         0.0       0.78      1.00      0.87     15543\n",
      "         1.0       0.00      0.00      0.00      4457\n",
      "\n",
      "    accuracy                           0.78     20000\n",
      "   macro avg       0.39      0.50      0.44     20000\n",
      "weighted avg       0.60      0.78      0.68     20000\n",
      "\n",
      "tensor([nan, nan, nan,  ..., nan, nan, nan], device='cuda:0')\n",
      "              precision    recall  f1-score   support\n",
      "\n",
      "         0.0       0.78      1.00      0.87     15543\n",
      "         1.0       0.00      0.00      0.00      4457\n",
      "\n",
      "    accuracy                           0.78     20000\n",
      "   macro avg       0.39      0.50      0.44     20000\n",
      "weighted avg       0.60      0.78      0.68     20000\n",
      "\n",
      "tensor([nan, nan, nan,  ..., nan, nan, nan], device='cuda:0')\n",
      "              precision    recall  f1-score   support\n",
      "\n",
      "         0.0       0.78      1.00      0.87     15543\n",
      "         1.0       0.00      0.00      0.00      4457\n",
      "\n",
      "    accuracy                           0.78     20000\n",
      "   macro avg       0.39      0.50      0.44     20000\n",
      "weighted avg       0.60      0.78      0.68     20000\n",
      "\n",
      "tensor([nan, nan, nan,  ..., nan, nan, nan], device='cuda:0')\n",
      "              precision    recall  f1-score   support\n",
      "\n",
      "         0.0       0.78      1.00      0.87     15543\n",
      "         1.0       0.00      0.00      0.00      4457\n",
      "\n",
      "    accuracy                           0.78     20000\n",
      "   macro avg       0.39      0.50      0.44     20000\n",
      "weighted avg       0.60      0.78      0.68     20000\n",
      "\n"
     ]
    },
    {
     "name": "stderr",
     "output_type": "stream",
     "text": [
      " 24%|██▍       | 242/1000 [00:32<01:43,  7.34it/s]"
     ]
    },
    {
     "name": "stdout",
     "output_type": "stream",
     "text": [
      "tensor([nan, nan, nan,  ..., nan, nan, nan], device='cuda:0')\n",
      "              precision    recall  f1-score   support\n",
      "\n",
      "         0.0       0.78      1.00      0.87     15543\n",
      "         1.0       0.00      0.00      0.00      4457\n",
      "\n",
      "    accuracy                           0.78     20000\n",
      "   macro avg       0.39      0.50      0.44     20000\n",
      "weighted avg       0.60      0.78      0.68     20000\n",
      "\n",
      "tensor([nan, nan, nan,  ..., nan, nan, nan], device='cuda:0')\n"
     ]
    },
    {
     "name": "stderr",
     "output_type": "stream",
     "text": [
      "\r",
      " 24%|██▍       | 244/1000 [00:32<01:32,  8.18it/s]"
     ]
    },
    {
     "name": "stdout",
     "output_type": "stream",
     "text": [
      "              precision    recall  f1-score   support\n",
      "\n",
      "         0.0       0.78      1.00      0.87     15543\n",
      "         1.0       0.00      0.00      0.00      4457\n",
      "\n",
      "    accuracy                           0.78     20000\n",
      "   macro avg       0.39      0.50      0.44     20000\n",
      "weighted avg       0.60      0.78      0.68     20000\n",
      "\n",
      "tensor([nan, nan, nan,  ..., nan, nan, nan], device='cuda:0')\n",
      "              precision    recall  f1-score   support\n",
      "\n",
      "         0.0       0.78      1.00      0.87     15543\n",
      "         1.0       0.00      0.00      0.00      4457\n",
      "\n",
      "    accuracy                           0.78     20000\n",
      "   macro avg       0.39      0.50      0.44     20000\n",
      "weighted avg       0.60      0.78      0.68     20000\n",
      "\n",
      "tensor([nan, nan, nan,  ..., nan, nan, nan], device='cuda:0')\n"
     ]
    },
    {
     "name": "stderr",
     "output_type": "stream",
     "text": [
      "\r",
      " 24%|██▍       | 245/1000 [00:32<01:29,  8.40it/s]"
     ]
    },
    {
     "name": "stdout",
     "output_type": "stream",
     "text": [
      "              precision    recall  f1-score   support\n",
      "\n",
      "         0.0       0.78      1.00      0.87     15543\n",
      "         1.0       0.00      0.00      0.00      4457\n",
      "\n",
      "    accuracy                           0.78     20000\n",
      "   macro avg       0.39      0.50      0.44     20000\n",
      "weighted avg       0.60      0.78      0.68     20000\n",
      "\n",
      "tensor([nan, nan, nan,  ..., nan, nan, nan], device='cuda:0')\n",
      "              precision    recall  f1-score   support\n",
      "\n",
      "         0.0       0.78      1.00      0.87     15543\n",
      "         1.0       0.00      0.00      0.00      4457\n",
      "\n",
      "    accuracy                           0.78     20000\n",
      "   macro avg       0.39      0.50      0.44     20000\n",
      "weighted avg       0.60      0.78      0.68     20000\n",
      "\n",
      "tensor([nan, nan, nan,  ..., nan, nan, nan], device='cuda:0')\n",
      "              precision    recall  f1-score   support\n",
      "\n",
      "         0.0       0.78      1.00      0.87     15543\n",
      "         1.0       0.00      0.00      0.00      4457\n",
      "\n",
      "    accuracy                           0.78     20000\n",
      "   macro avg       0.39      0.50      0.44     20000\n",
      "weighted avg       0.60      0.78      0.68     20000\n",
      "\n"
     ]
    },
    {
     "name": "stderr",
     "output_type": "stream",
     "text": [
      " 25%|██▍       | 248/1000 [00:32<01:27,  8.64it/s]"
     ]
    },
    {
     "name": "stdout",
     "output_type": "stream",
     "text": [
      "tensor([nan, nan, nan,  ..., nan, nan, nan], device='cuda:0')\n",
      "              precision    recall  f1-score   support\n",
      "\n",
      "         0.0       0.78      1.00      0.87     15543\n",
      "         1.0       0.00      0.00      0.00      4457\n",
      "\n",
      "    accuracy                           0.78     20000\n",
      "   macro avg       0.39      0.50      0.44     20000\n",
      "weighted avg       0.60      0.78      0.68     20000\n",
      "\n",
      "tensor([nan, nan, nan,  ..., nan, nan, nan], device='cuda:0')\n"
     ]
    },
    {
     "name": "stderr",
     "output_type": "stream",
     "text": [
      " 25%|██▌       | 250/1000 [00:33<01:29,  8.34it/s]"
     ]
    },
    {
     "name": "stdout",
     "output_type": "stream",
     "text": [
      "              precision    recall  f1-score   support\n",
      "\n",
      "         0.0       0.78      1.00      0.87     15543\n",
      "         1.0       0.00      0.00      0.00      4457\n",
      "\n",
      "    accuracy                           0.78     20000\n",
      "   macro avg       0.39      0.50      0.44     20000\n",
      "weighted avg       0.60      0.78      0.68     20000\n",
      "\n",
      "tensor([nan, nan, nan,  ..., nan, nan, nan], device='cuda:0')\n",
      "              precision    recall  f1-score   support\n",
      "\n",
      "         0.0       0.78      1.00      0.87     15543\n",
      "         1.0       0.00      0.00      0.00      4457\n",
      "\n",
      "    accuracy                           0.78     20000\n",
      "   macro avg       0.39      0.50      0.44     20000\n",
      "weighted avg       0.60      0.78      0.68     20000\n",
      "\n",
      "tensor([nan, nan, nan,  ..., nan, nan, nan], device='cuda:0')\n"
     ]
    },
    {
     "name": "stderr",
     "output_type": "stream",
     "text": [
      " 25%|██▌       | 252/1000 [00:33<01:31,  8.20it/s]"
     ]
    },
    {
     "name": "stdout",
     "output_type": "stream",
     "text": [
      "              precision    recall  f1-score   support\n",
      "\n",
      "         0.0       0.78      1.00      0.87     15543\n",
      "         1.0       0.00      0.00      0.00      4457\n",
      "\n",
      "    accuracy                           0.78     20000\n",
      "   macro avg       0.39      0.50      0.44     20000\n",
      "weighted avg       0.60      0.78      0.68     20000\n",
      "\n",
      "tensor([nan, nan, nan,  ..., nan, nan, nan], device='cuda:0')\n",
      "              precision    recall  f1-score   support\n",
      "\n",
      "         0.0       0.78      1.00      0.87     15543\n",
      "         1.0       0.00      0.00      0.00      4457\n",
      "\n",
      "    accuracy                           0.78     20000\n",
      "   macro avg       0.39      0.50      0.44     20000\n",
      "weighted avg       0.60      0.78      0.68     20000\n",
      "\n",
      "tensor([nan, nan, nan,  ..., nan, nan, nan], device='cuda:0')\n"
     ]
    },
    {
     "name": "stderr",
     "output_type": "stream",
     "text": [
      " 25%|██▌       | 254/1000 [00:33<01:44,  7.13it/s]"
     ]
    },
    {
     "name": "stdout",
     "output_type": "stream",
     "text": [
      "              precision    recall  f1-score   support\n",
      "\n",
      "         0.0       0.78      1.00      0.87     15543\n",
      "         1.0       0.00      0.00      0.00      4457\n",
      "\n",
      "    accuracy                           0.78     20000\n",
      "   macro avg       0.39      0.50      0.44     20000\n",
      "weighted avg       0.60      0.78      0.68     20000\n",
      "\n",
      "tensor([nan, nan, nan,  ..., nan, nan, nan], device='cuda:0')\n",
      "              precision    recall  f1-score   support\n",
      "\n",
      "         0.0       0.78      1.00      0.87     15543\n",
      "         1.0       0.00      0.00      0.00      4457\n",
      "\n",
      "    accuracy                           0.78     20000\n",
      "   macro avg       0.39      0.50      0.44     20000\n",
      "weighted avg       0.60      0.78      0.68     20000\n",
      "\n"
     ]
    },
    {
     "name": "stderr",
     "output_type": "stream",
     "text": [
      "\r",
      " 26%|██▌       | 255/1000 [00:33<01:43,  7.22it/s]"
     ]
    },
    {
     "name": "stdout",
     "output_type": "stream",
     "text": [
      "tensor([nan, nan, nan,  ..., nan, nan, nan], device='cuda:0')\n",
      "              precision    recall  f1-score   support\n",
      "\n",
      "         0.0       0.78      1.00      0.87     15543\n",
      "         1.0       0.00      0.00      0.00      4457\n",
      "\n",
      "    accuracy                           0.78     20000\n",
      "   macro avg       0.39      0.50      0.44     20000\n",
      "weighted avg       0.60      0.78      0.68     20000\n",
      "\n",
      "tensor([nan, nan, nan,  ..., nan, nan, nan], device='cuda:0')\n"
     ]
    },
    {
     "name": "stderr",
     "output_type": "stream",
     "text": [
      "\r",
      " 26%|██▌       | 256/1000 [00:34<01:51,  6.68it/s]"
     ]
    },
    {
     "name": "stdout",
     "output_type": "stream",
     "text": [
      "              precision    recall  f1-score   support\n",
      "\n",
      "         0.0       0.78      1.00      0.87     15543\n",
      "         1.0       0.00      0.00      0.00      4457\n",
      "\n",
      "    accuracy                           0.78     20000\n",
      "   macro avg       0.39      0.50      0.44     20000\n",
      "weighted avg       0.60      0.78      0.68     20000\n",
      "\n",
      "tensor([nan, nan, nan,  ..., nan, nan, nan], device='cuda:0')\n",
      "              precision    recall  f1-score   support\n",
      "\n",
      "         0.0       0.78      1.00      0.87     15543\n",
      "         1.0       0.00      0.00      0.00      4457\n",
      "\n",
      "    accuracy                           0.78     20000\n",
      "   macro avg       0.39      0.50      0.44     20000\n",
      "weighted avg       0.60      0.78      0.68     20000\n",
      "\n",
      "tensor([nan, nan, nan,  ..., nan, nan, nan], device='cuda:0')\n"
     ]
    },
    {
     "name": "stderr",
     "output_type": "stream",
     "text": [
      " 26%|██▌       | 259/1000 [00:34<01:40,  7.34it/s]"
     ]
    },
    {
     "name": "stdout",
     "output_type": "stream",
     "text": [
      "              precision    recall  f1-score   support\n",
      "\n",
      "         0.0       0.78      1.00      0.87     15543\n",
      "         1.0       0.00      0.00      0.00      4457\n",
      "\n",
      "    accuracy                           0.78     20000\n",
      "   macro avg       0.39      0.50      0.44     20000\n",
      "weighted avg       0.60      0.78      0.68     20000\n",
      "\n",
      "tensor([nan, nan, nan,  ..., nan, nan, nan], device='cuda:0')\n",
      "              precision    recall  f1-score   support\n",
      "\n",
      "         0.0       0.78      1.00      0.87     15543\n",
      "         1.0       0.00      0.00      0.00      4457\n",
      "\n",
      "    accuracy                           0.78     20000\n",
      "   macro avg       0.39      0.50      0.44     20000\n",
      "weighted avg       0.60      0.78      0.68     20000\n",
      "\n"
     ]
    },
    {
     "name": "stderr",
     "output_type": "stream",
     "text": [
      "\r",
      " 26%|██▌       | 261/1000 [00:34<01:27,  8.41it/s]"
     ]
    },
    {
     "name": "stdout",
     "output_type": "stream",
     "text": [
      "tensor([nan, nan, nan,  ..., nan, nan, nan], device='cuda:0')\n",
      "              precision    recall  f1-score   support\n",
      "\n",
      "         0.0       0.78      1.00      0.87     15543\n",
      "         1.0       0.00      0.00      0.00      4457\n",
      "\n",
      "    accuracy                           0.78     20000\n",
      "   macro avg       0.39      0.50      0.44     20000\n",
      "weighted avg       0.60      0.78      0.68     20000\n",
      "\n",
      "tensor([nan, nan, nan,  ..., nan, nan, nan], device='cuda:0')\n",
      "              precision    recall  f1-score   support\n",
      "\n",
      "         0.0       0.78      1.00      0.87     15543\n",
      "         1.0       0.00      0.00      0.00      4457\n",
      "\n",
      "    accuracy                           0.78     20000\n",
      "   macro avg       0.39      0.50      0.44     20000\n",
      "weighted avg       0.60      0.78      0.68     20000\n",
      "\n",
      "tensor([nan, nan, nan,  ..., nan, nan, nan], device='cuda:0')\n"
     ]
    },
    {
     "name": "stderr",
     "output_type": "stream",
     "text": [
      " 26%|██▋       | 263/1000 [00:34<01:39,  7.40it/s]"
     ]
    },
    {
     "name": "stdout",
     "output_type": "stream",
     "text": [
      "              precision    recall  f1-score   support\n",
      "\n",
      "         0.0       0.78      1.00      0.87     15543\n",
      "         1.0       0.00      0.00      0.00      4457\n",
      "\n",
      "    accuracy                           0.78     20000\n",
      "   macro avg       0.39      0.50      0.44     20000\n",
      "weighted avg       0.60      0.78      0.68     20000\n",
      "\n",
      "tensor([nan, nan, nan,  ..., nan, nan, nan], device='cuda:0')\n",
      "              precision    recall  f1-score   support\n",
      "\n",
      "         0.0       0.78      1.00      0.87     15543\n",
      "         1.0       0.00      0.00      0.00      4457\n",
      "\n",
      "    accuracy                           0.78     20000\n",
      "   macro avg       0.39      0.50      0.44     20000\n",
      "weighted avg       0.60      0.78      0.68     20000\n",
      "\n"
     ]
    },
    {
     "name": "stderr",
     "output_type": "stream",
     "text": [
      " 26%|██▋       | 265/1000 [00:35<01:27,  8.37it/s]"
     ]
    },
    {
     "name": "stdout",
     "output_type": "stream",
     "text": [
      "tensor([nan, nan, nan,  ..., nan, nan, nan], device='cuda:0')\n",
      "              precision    recall  f1-score   support\n",
      "\n",
      "         0.0       0.78      1.00      0.87     15543\n",
      "         1.0       0.00      0.00      0.00      4457\n",
      "\n",
      "    accuracy                           0.78     20000\n",
      "   macro avg       0.39      0.50      0.44     20000\n",
      "weighted avg       0.60      0.78      0.68     20000\n",
      "\n",
      "tensor([nan, nan, nan,  ..., nan, nan, nan], device='cuda:0')\n",
      "              precision    recall  f1-score   support\n",
      "\n",
      "         0.0       0.78      1.00      0.87     15543\n",
      "         1.0       0.00      0.00      0.00      4457\n",
      "\n",
      "    accuracy                           0.78     20000\n",
      "   macro avg       0.39      0.50      0.44     20000\n",
      "weighted avg       0.60      0.78      0.68     20000\n",
      "\n",
      "tensor([nan, nan, nan,  ..., nan, nan, nan], device='cuda:0')"
     ]
    },
    {
     "name": "stderr",
     "output_type": "stream",
     "text": [
      "\r",
      " 27%|██▋       | 266/1000 [00:35<01:24,  8.65it/s]"
     ]
    },
    {
     "name": "stdout",
     "output_type": "stream",
     "text": [
      "\n",
      "              precision    recall  f1-score   support\n",
      "\n",
      "         0.0       0.78      1.00      0.87     15543\n",
      "         1.0       0.00      0.00      0.00      4457\n",
      "\n",
      "    accuracy                           0.78     20000\n",
      "   macro avg       0.39      0.50      0.44     20000\n",
      "weighted avg       0.60      0.78      0.68     20000\n",
      "\n",
      "tensor([nan, nan, nan,  ..., nan, nan, nan], device='cuda:0')\n",
      "              precision    recall  f1-score   support\n",
      "\n",
      "         0.0       0.78      1.00      0.87     15543\n",
      "         1.0       0.00      0.00      0.00      4457\n",
      "\n",
      "    accuracy                           0.78     20000\n",
      "   macro avg       0.39      0.50      0.44     20000\n",
      "weighted avg       0.60      0.78      0.68     20000\n",
      "\n"
     ]
    },
    {
     "name": "stderr",
     "output_type": "stream",
     "text": [
      "\r",
      " 27%|██▋       | 268/1000 [00:35<01:21,  8.99it/s]"
     ]
    },
    {
     "name": "stdout",
     "output_type": "stream",
     "text": [
      "tensor([nan, nan, nan,  ..., nan, nan, nan], device='cuda:0')\n",
      "              precision    recall  f1-score   support\n",
      "\n",
      "         0.0       0.78      1.00      0.87     15543\n",
      "         1.0       0.00      0.00      0.00      4457\n",
      "\n",
      "    accuracy                           0.78     20000\n",
      "   macro avg       0.39      0.50      0.44     20000\n",
      "weighted avg       0.60      0.78      0.68     20000\n",
      "\n",
      "tensor([nan, nan, nan,  ..., nan, nan, nan], device='cuda:0')\n",
      "              precision    recall  f1-score   support\n",
      "\n",
      "         0.0       0.78      1.00      0.87     15543\n",
      "         1.0       0.00      0.00      0.00      4457\n",
      "\n",
      "    accuracy                           0.78     20000\n",
      "   macro avg       0.39      0.50      0.44     20000\n",
      "weighted avg       0.60      0.78      0.68     20000\n",
      "\n",
      "tensor([nan, nan, nan,  ..., nan, nan, nan], device='cuda:0')\n"
     ]
    },
    {
     "name": "stderr",
     "output_type": "stream",
     "text": [
      "\r",
      " 27%|██▋       | 270/1000 [00:35<01:20,  9.06it/s]"
     ]
    },
    {
     "name": "stdout",
     "output_type": "stream",
     "text": [
      "              precision    recall  f1-score   support\n",
      "\n",
      "         0.0       0.78      1.00      0.87     15543\n",
      "         1.0       0.00      0.00      0.00      4457\n",
      "\n",
      "    accuracy                           0.78     20000\n",
      "   macro avg       0.39      0.50      0.44     20000\n",
      "weighted avg       0.60      0.78      0.68     20000\n",
      "\n",
      "tensor([nan, nan, nan,  ..., nan, nan, nan], device='cuda:0')\n",
      "              precision    recall  f1-score   support\n",
      "\n",
      "         0.0       0.78      1.00      0.87     15543\n",
      "         1.0       0.00      0.00      0.00      4457\n",
      "\n",
      "    accuracy                           0.78     20000\n",
      "   macro avg       0.39      0.50      0.44     20000\n",
      "weighted avg       0.60      0.78      0.68     20000\n",
      "\n"
     ]
    },
    {
     "name": "stderr",
     "output_type": "stream",
     "text": [
      " 27%|██▋       | 273/1000 [00:36<01:23,  8.75it/s]"
     ]
    },
    {
     "name": "stdout",
     "output_type": "stream",
     "text": [
      "tensor([nan, nan, nan,  ..., nan, nan, nan], device='cuda:0')\n",
      "              precision    recall  f1-score   support\n",
      "\n",
      "         0.0       0.78      1.00      0.87     15543\n",
      "         1.0       0.00      0.00      0.00      4457\n",
      "\n",
      "    accuracy                           0.78     20000\n",
      "   macro avg       0.39      0.50      0.44     20000\n",
      "weighted avg       0.60      0.78      0.68     20000\n",
      "\n",
      "tensor([nan, nan, nan,  ..., nan, nan, nan], device='cuda:0')\n",
      "              precision    recall  f1-score   support\n",
      "\n",
      "         0.0       0.78      1.00      0.87     15543\n",
      "         1.0       0.00      0.00      0.00      4457\n",
      "\n",
      "    accuracy                           0.78     20000\n",
      "   macro avg       0.39      0.50      0.44     20000\n",
      "weighted avg       0.60      0.78      0.68     20000\n",
      "\n",
      "tensor([nan, nan, nan,  ..., nan, nan, nan], device='cuda:0')\n"
     ]
    },
    {
     "name": "stderr",
     "output_type": "stream",
     "text": [
      " 28%|██▊       | 275/1000 [00:36<01:28,  8.15it/s]"
     ]
    },
    {
     "name": "stdout",
     "output_type": "stream",
     "text": [
      "              precision    recall  f1-score   support\n",
      "\n",
      "         0.0       0.78      1.00      0.87     15543\n",
      "         1.0       0.00      0.00      0.00      4457\n",
      "\n",
      "    accuracy                           0.78     20000\n",
      "   macro avg       0.39      0.50      0.44     20000\n",
      "weighted avg       0.60      0.78      0.68     20000\n",
      "\n",
      "tensor([nan, nan, nan,  ..., nan, nan, nan], device='cuda:0')\n",
      "              precision    recall  f1-score   support\n",
      "\n",
      "         0.0       0.78      1.00      0.87     15543\n",
      "         1.0       0.00      0.00      0.00      4457\n",
      "\n",
      "    accuracy                           0.78     20000\n",
      "   macro avg       0.39      0.50      0.44     20000\n",
      "weighted avg       0.60      0.78      0.68     20000\n",
      "\n"
     ]
    },
    {
     "name": "stderr",
     "output_type": "stream",
     "text": [
      "\r",
      " 28%|██▊       | 276/1000 [00:36<01:34,  7.68it/s]"
     ]
    },
    {
     "name": "stdout",
     "output_type": "stream",
     "text": [
      "tensor([nan, nan, nan,  ..., nan, nan, nan], device='cuda:0')\n",
      "              precision    recall  f1-score   support\n",
      "\n",
      "         0.0       0.78      1.00      0.87     15543\n",
      "         1.0       0.00      0.00      0.00      4457\n",
      "\n",
      "    accuracy                           0.78     20000\n",
      "   macro avg       0.39      0.50      0.44     20000\n",
      "weighted avg       0.60      0.78      0.68     20000\n",
      "\n",
      "tensor([nan, nan, nan,  ..., nan, nan, nan], device='cuda:0')\n"
     ]
    },
    {
     "name": "stderr",
     "output_type": "stream",
     "text": [
      " 28%|██▊       | 278/1000 [00:36<01:35,  7.56it/s]"
     ]
    },
    {
     "name": "stdout",
     "output_type": "stream",
     "text": [
      "              precision    recall  f1-score   support\n",
      "\n",
      "         0.0       0.78      1.00      0.87     15543\n",
      "         1.0       0.00      0.00      0.00      4457\n",
      "\n",
      "    accuracy                           0.78     20000\n",
      "   macro avg       0.39      0.50      0.44     20000\n",
      "weighted avg       0.60      0.78      0.68     20000\n",
      "\n",
      "tensor([nan, nan, nan,  ..., nan, nan, nan], device='cuda:0')\n",
      "              precision    recall  f1-score   support\n",
      "\n",
      "         0.0       0.78      1.00      0.87     15543\n",
      "         1.0       0.00      0.00      0.00      4457\n",
      "\n",
      "    accuracy                           0.78     20000\n",
      "   macro avg       0.39      0.50      0.44     20000\n",
      "weighted avg       0.60      0.78      0.68     20000\n",
      "\n"
     ]
    },
    {
     "name": "stderr",
     "output_type": "stream",
     "text": [
      " 28%|██▊       | 280/1000 [00:36<01:31,  7.84it/s]"
     ]
    },
    {
     "name": "stdout",
     "output_type": "stream",
     "text": [
      "tensor([nan, nan, nan,  ..., nan, nan, nan], device='cuda:0')\n",
      "              precision    recall  f1-score   support\n",
      "\n",
      "         0.0       0.78      1.00      0.87     15543\n",
      "         1.0       0.00      0.00      0.00      4457\n",
      "\n",
      "    accuracy                           0.78     20000\n",
      "   macro avg       0.39      0.50      0.44     20000\n",
      "weighted avg       0.60      0.78      0.68     20000\n",
      "\n",
      "tensor([nan, nan, nan,  ..., nan, nan, nan], device='cuda:0')\n",
      "              precision    recall  f1-score   support\n",
      "\n",
      "         0.0       0.78      1.00      0.87     15543\n",
      "         1.0       0.00      0.00      0.00      4457\n",
      "\n",
      "    accuracy                           0.78     20000\n",
      "   macro avg       0.39      0.50      0.44     20000\n",
      "weighted avg       0.60      0.78      0.68     20000\n",
      "\n"
     ]
    },
    {
     "name": "stderr",
     "output_type": "stream",
     "text": [
      "\r",
      " 28%|██▊       | 281/1000 [00:37<01:40,  7.15it/s]"
     ]
    },
    {
     "name": "stdout",
     "output_type": "stream",
     "text": [
      "tensor([nan, nan, nan,  ..., nan, nan, nan], device='cuda:0')\n",
      "              precision    recall  f1-score   support\n",
      "\n",
      "         0.0       0.78      1.00      0.87     15543\n",
      "         1.0       0.00      0.00      0.00      4457\n",
      "\n",
      "    accuracy                           0.78     20000\n",
      "   macro avg       0.39      0.50      0.44     20000\n",
      "weighted avg       0.60      0.78      0.68     20000\n",
      "\n",
      "tensor([nan, nan, nan,  ..., nan, nan, nan], device='cuda:0')\n"
     ]
    },
    {
     "name": "stderr",
     "output_type": "stream",
     "text": [
      "\r",
      " 28%|██▊       | 282/1000 [00:37<01:49,  6.58it/s]"
     ]
    },
    {
     "name": "stdout",
     "output_type": "stream",
     "text": [
      "              precision    recall  f1-score   support\n",
      "\n",
      "         0.0       0.78      1.00      0.87     15543\n",
      "         1.0       0.00      0.00      0.00      4457\n",
      "\n",
      "    accuracy                           0.78     20000\n",
      "   macro avg       0.39      0.50      0.44     20000\n",
      "weighted avg       0.60      0.78      0.68     20000\n",
      "\n",
      "tensor([nan, nan, nan,  ..., nan, nan, nan], device='cuda:0')\n",
      "              precision    recall  f1-score   support\n",
      "\n",
      "         0.0       0.78      1.00      0.87     15543\n",
      "         1.0       0.00      0.00      0.00      4457\n",
      "\n",
      "    accuracy                           0.78     20000\n",
      "   macro avg       0.39      0.50      0.44     20000\n",
      "weighted avg       0.60      0.78      0.68     20000\n",
      "\n"
     ]
    },
    {
     "name": "stderr",
     "output_type": "stream",
     "text": [
      " 28%|██▊       | 284/1000 [00:37<01:53,  6.31it/s]"
     ]
    },
    {
     "name": "stdout",
     "output_type": "stream",
     "text": [
      "tensor([nan, nan, nan,  ..., nan, nan, nan], device='cuda:0')\n",
      "              precision    recall  f1-score   support\n",
      "\n",
      "         0.0       0.78      1.00      0.87     15543\n",
      "         1.0       0.00      0.00      0.00      4457\n",
      "\n",
      "    accuracy                           0.78     20000\n",
      "   macro avg       0.39      0.50      0.44     20000\n",
      "weighted avg       0.60      0.78      0.68     20000\n",
      "\n",
      "tensor([nan, nan, nan,  ..., nan, nan, nan], device='cuda:0')\n",
      "              precision    recall  f1-score   support\n",
      "\n",
      "         0.0       0.78      1.00      0.87     15543\n",
      "         1.0       0.00      0.00      0.00      4457\n",
      "\n",
      "    accuracy                           0.78     20000\n",
      "   macro avg       0.39      0.50      0.44     20000\n",
      "weighted avg       0.60      0.78      0.68     20000\n",
      "\n"
     ]
    },
    {
     "name": "stderr",
     "output_type": "stream",
     "text": [
      "\r",
      " 28%|██▊       | 285/1000 [00:37<01:52,  6.36it/s]"
     ]
    },
    {
     "name": "stdout",
     "output_type": "stream",
     "text": [
      "tensor([nan, nan, nan,  ..., nan, nan, nan], device='cuda:0')\n",
      "              precision    recall  f1-score   support\n",
      "\n",
      "         0.0       0.78      1.00      0.87     15543\n",
      "         1.0       0.00      0.00      0.00      4457\n",
      "\n",
      "    accuracy                           0.78     20000\n",
      "   macro avg       0.39      0.50      0.44     20000\n",
      "weighted avg       0.60      0.78      0.68     20000\n",
      "\n",
      "tensor([nan, nan, nan,  ..., nan, nan, nan], device='cuda:0')"
     ]
    },
    {
     "name": "stderr",
     "output_type": "stream",
     "text": [
      " 29%|██▉       | 288/1000 [00:38<01:31,  7.79it/s]"
     ]
    },
    {
     "name": "stdout",
     "output_type": "stream",
     "text": [
      "\n",
      "              precision    recall  f1-score   support\n",
      "\n",
      "         0.0       0.78      1.00      0.87     15543\n",
      "         1.0       0.00      0.00      0.00      4457\n",
      "\n",
      "    accuracy                           0.78     20000\n",
      "   macro avg       0.39      0.50      0.44     20000\n",
      "weighted avg       0.60      0.78      0.68     20000\n",
      "\n",
      "tensor([nan, nan, nan,  ..., nan, nan, nan], device='cuda:0')\n",
      "              precision    recall  f1-score   support\n",
      "\n",
      "         0.0       0.78      1.00      0.87     15543\n",
      "         1.0       0.00      0.00      0.00      4457\n",
      "\n",
      "    accuracy                           0.78     20000\n",
      "   macro avg       0.39      0.50      0.44     20000\n",
      "weighted avg       0.60      0.78      0.68     20000\n",
      "\n"
     ]
    },
    {
     "name": "stderr",
     "output_type": "stream",
     "text": [
      "\r",
      " 29%|██▉       | 290/1000 [00:38<01:21,  8.76it/s]"
     ]
    },
    {
     "name": "stdout",
     "output_type": "stream",
     "text": [
      "tensor([nan, nan, nan,  ..., nan, nan, nan], device='cuda:0')\n",
      "              precision    recall  f1-score   support\n",
      "\n",
      "         0.0       0.78      1.00      0.87     15543\n",
      "         1.0       0.00      0.00      0.00      4457\n",
      "\n",
      "    accuracy                           0.78     20000\n",
      "   macro avg       0.39      0.50      0.44     20000\n",
      "weighted avg       0.60      0.78      0.68     20000\n",
      "\n",
      "tensor([nan, nan, nan,  ..., nan, nan, nan], device='cuda:0')\n",
      "              precision    recall  f1-score   support\n",
      "\n",
      "         0.0       0.78      1.00      0.87     15543\n",
      "         1.0       0.00      0.00      0.00      4457\n",
      "\n",
      "    accuracy                           0.78     20000\n",
      "   macro avg       0.39      0.50      0.44     20000\n",
      "weighted avg       0.60      0.78      0.68     20000\n",
      "\n",
      "tensor([nan, nan, nan,  ..., nan, nan, nan], device='cuda:0')\n"
     ]
    },
    {
     "name": "stderr",
     "output_type": "stream",
     "text": [
      " 29%|██▉       | 292/1000 [00:38<01:18,  8.98it/s]"
     ]
    },
    {
     "name": "stdout",
     "output_type": "stream",
     "text": [
      "              precision    recall  f1-score   support\n",
      "\n",
      "         0.0       0.78      1.00      0.87     15543\n",
      "         1.0       0.00      0.00      0.00      4457\n",
      "\n",
      "    accuracy                           0.78     20000\n",
      "   macro avg       0.39      0.50      0.44     20000\n",
      "weighted avg       0.60      0.78      0.68     20000\n",
      "\n",
      "tensor([nan, nan, nan,  ..., nan, nan, nan], device='cuda:0')\n",
      "              precision    recall  f1-score   support\n",
      "\n",
      "         0.0       0.78      1.00      0.87     15543\n",
      "         1.0       0.00      0.00      0.00      4457\n",
      "\n",
      "    accuracy                           0.78     20000\n",
      "   macro avg       0.39      0.50      0.44     20000\n",
      "weighted avg       0.60      0.78      0.68     20000\n",
      "\n",
      "tensor([nan, nan, nan,  ..., nan, nan, nan], device='cuda:0')\n"
     ]
    },
    {
     "name": "stderr",
     "output_type": "stream",
     "text": [
      "\r",
      " 29%|██▉       | 293/1000 [00:38<01:17,  9.14it/s]"
     ]
    },
    {
     "name": "stdout",
     "output_type": "stream",
     "text": [
      "              precision    recall  f1-score   support\n",
      "\n",
      "         0.0       0.78      1.00      0.87     15543\n",
      "         1.0       0.00      0.00      0.00      4457\n",
      "\n",
      "    accuracy                           0.78     20000\n",
      "   macro avg       0.39      0.50      0.44     20000\n",
      "weighted avg       0.60      0.78      0.68     20000\n",
      "\n",
      "tensor([nan, nan, nan,  ..., nan, nan, nan], device='cuda:0')\n",
      "              precision    recall  f1-score   support\n",
      "\n",
      "         0.0       0.78      1.00      0.87     15543\n",
      "         1.0       0.00      0.00      0.00      4457\n",
      "\n",
      "    accuracy                           0.78     20000\n",
      "   macro avg       0.39      0.50      0.44     20000\n",
      "weighted avg       0.60      0.78      0.68     20000\n",
      "\n"
     ]
    },
    {
     "name": "stderr",
     "output_type": "stream",
     "text": [
      " 30%|██▉       | 295/1000 [00:39<01:43,  6.81it/s]"
     ]
    },
    {
     "name": "stdout",
     "output_type": "stream",
     "text": [
      "tensor([nan, nan, nan,  ..., nan, nan, nan], device='cuda:0')\n",
      "              precision    recall  f1-score   support\n",
      "\n",
      "         0.0       0.78      1.00      0.87     15543\n",
      "         1.0       0.00      0.00      0.00      4457\n",
      "\n",
      "    accuracy                           0.78     20000\n",
      "   macro avg       0.39      0.50      0.44     20000\n",
      "weighted avg       0.60      0.78      0.68     20000\n",
      "\n",
      "tensor([nan, nan, nan,  ..., nan, nan, nan], device='cuda:0')\n"
     ]
    },
    {
     "name": "stderr",
     "output_type": "stream",
     "text": [
      "\r",
      " 30%|██▉       | 296/1000 [00:39<01:37,  7.20it/s]"
     ]
    },
    {
     "name": "stdout",
     "output_type": "stream",
     "text": [
      "              precision    recall  f1-score   support\n",
      "\n",
      "         0.0       0.78      1.00      0.87     15543\n",
      "         1.0       0.00      0.00      0.00      4457\n",
      "\n",
      "    accuracy                           0.78     20000\n",
      "   macro avg       0.39      0.50      0.44     20000\n",
      "weighted avg       0.60      0.78      0.68     20000\n",
      "\n",
      "tensor([nan, nan, nan,  ..., nan, nan, nan], device='cuda:0')\n",
      "              precision    recall  f1-score   support\n",
      "\n",
      "         0.0       0.78      1.00      0.87     15543\n",
      "         1.0       0.00      0.00      0.00      4457\n",
      "\n",
      "    accuracy                           0.78     20000\n",
      "   macro avg       0.39      0.50      0.44     20000\n",
      "weighted avg       0.60      0.78      0.68     20000\n",
      "\n",
      "tensor([nan, nan, nan,  ..., nan, nan, nan], device='cuda:0')\n"
     ]
    },
    {
     "name": "stderr",
     "output_type": "stream",
     "text": [
      " 30%|██▉       | 299/1000 [00:39<01:31,  7.64it/s]"
     ]
    },
    {
     "name": "stdout",
     "output_type": "stream",
     "text": [
      "              precision    recall  f1-score   support\n",
      "\n",
      "         0.0       0.78      1.00      0.87     15543\n",
      "         1.0       0.00      0.00      0.00      4457\n",
      "\n",
      "    accuracy                           0.78     20000\n",
      "   macro avg       0.39      0.50      0.44     20000\n",
      "weighted avg       0.60      0.78      0.68     20000\n",
      "\n",
      "tensor([nan, nan, nan,  ..., nan, nan, nan], device='cuda:0')\n",
      "              precision    recall  f1-score   support\n",
      "\n",
      "         0.0       0.78      1.00      0.87     15543\n",
      "         1.0       0.00      0.00      0.00      4457\n",
      "\n",
      "    accuracy                           0.78     20000\n",
      "   macro avg       0.39      0.50      0.44     20000\n",
      "weighted avg       0.60      0.78      0.68     20000\n",
      "\n"
     ]
    },
    {
     "name": "stderr",
     "output_type": "stream",
     "text": [
      " 30%|███       | 301/1000 [00:39<01:23,  8.37it/s]"
     ]
    },
    {
     "name": "stdout",
     "output_type": "stream",
     "text": [
      "tensor([nan, nan, nan,  ..., nan, nan, nan], device='cuda:0')\n",
      "              precision    recall  f1-score   support\n",
      "\n",
      "         0.0       0.78      1.00      0.87     15543\n",
      "         1.0       0.00      0.00      0.00      4457\n",
      "\n",
      "    accuracy                           0.78     20000\n",
      "   macro avg       0.39      0.50      0.44     20000\n",
      "weighted avg       0.60      0.78      0.68     20000\n",
      "\n",
      "tensor([nan, nan, nan,  ..., nan, nan, nan], device='cuda:0')\n",
      "              precision    recall  f1-score   support\n",
      "\n",
      "         0.0       0.78      1.00      0.87     15543\n",
      "         1.0       0.00      0.00      0.00      4457\n",
      "\n",
      "    accuracy                           0.78     20000\n",
      "   macro avg       0.39      0.50      0.44     20000\n",
      "weighted avg       0.60      0.78      0.68     20000\n",
      "\n"
     ]
    },
    {
     "name": "stderr",
     "output_type": "stream",
     "text": [
      " 30%|███       | 303/1000 [00:39<01:21,  8.58it/s]"
     ]
    },
    {
     "name": "stdout",
     "output_type": "stream",
     "text": [
      "tensor([nan, nan, nan,  ..., nan, nan, nan], device='cuda:0')\n",
      "              precision    recall  f1-score   support\n",
      "\n",
      "         0.0       0.78      1.00      0.87     15543\n",
      "         1.0       0.00      0.00      0.00      4457\n",
      "\n",
      "    accuracy                           0.78     20000\n",
      "   macro avg       0.39      0.50      0.44     20000\n",
      "weighted avg       0.60      0.78      0.68     20000\n",
      "\n",
      "tensor([nan, nan, nan,  ..., nan, nan, nan], device='cuda:0')\n",
      "              precision    recall  f1-score   support\n",
      "\n",
      "         0.0       0.78      1.00      0.87     15543\n",
      "         1.0       0.00      0.00      0.00      4457\n",
      "\n",
      "    accuracy                           0.78     20000\n",
      "   macro avg       0.39      0.50      0.44     20000\n",
      "weighted avg       0.60      0.78      0.68     20000\n",
      "\n"
     ]
    },
    {
     "name": "stderr",
     "output_type": "stream",
     "text": [
      "\r",
      " 30%|███       | 304/1000 [00:40<01:19,  8.81it/s]"
     ]
    },
    {
     "name": "stdout",
     "output_type": "stream",
     "text": [
      "tensor([nan, nan, nan,  ..., nan, nan, nan], device='cuda:0')\n",
      "              precision    recall  f1-score   support\n",
      "\n",
      "         0.0       0.78      1.00      0.87     15543\n",
      "         1.0       0.00      0.00      0.00      4457\n",
      "\n",
      "    accuracy                           0.78     20000\n",
      "   macro avg       0.39      0.50      0.44     20000\n",
      "weighted avg       0.60      0.78      0.68     20000\n",
      "\n",
      "tensor([nan, nan, nan,  ..., nan, nan, nan], device='cuda:0')\n",
      "              precision    recall  f1-score   support\n",
      "\n",
      "         0.0       0.78      1.00      0.87     15543\n",
      "         1.0       0.00      0.00      0.00      4457\n",
      "\n",
      "    accuracy                           0.78     20000\n",
      "   macro avg       0.39      0.50      0.44     20000\n",
      "weighted avg       0.60      0.78      0.68     20000\n",
      "\n"
     ]
    },
    {
     "name": "stderr",
     "output_type": "stream",
     "text": [
      "\r",
      " 31%|███       | 306/1000 [00:40<01:19,  8.70it/s]"
     ]
    },
    {
     "name": "stdout",
     "output_type": "stream",
     "text": [
      "tensor([nan, nan, nan,  ..., nan, nan, nan], device='cuda:0')\n",
      "              precision    recall  f1-score   support\n",
      "\n",
      "         0.0       0.78      1.00      0.87     15543\n",
      "         1.0       0.00      0.00      0.00      4457\n",
      "\n",
      "    accuracy                           0.78     20000\n",
      "   macro avg       0.39      0.50      0.44     20000\n",
      "weighted avg       0.60      0.78      0.68     20000\n",
      "\n",
      "tensor([nan, nan, nan,  ..., nan, nan, nan], device='cuda:0')\n",
      "              precision    recall  f1-score   support\n",
      "\n",
      "         0.0       0.78      1.00      0.87     15543\n",
      "         1.0       0.00      0.00      0.00      4457\n",
      "\n",
      "    accuracy                           0.78     20000\n",
      "   macro avg       0.39      0.50      0.44     20000\n",
      "weighted avg       0.60      0.78      0.68     20000\n",
      "\n"
     ]
    },
    {
     "name": "stderr",
     "output_type": "stream",
     "text": [
      " 31%|███       | 308/1000 [00:40<01:19,  8.70it/s]"
     ]
    },
    {
     "name": "stdout",
     "output_type": "stream",
     "text": [
      "tensor([nan, nan, nan,  ..., nan, nan, nan], device='cuda:0')\n",
      "              precision    recall  f1-score   support\n",
      "\n",
      "         0.0       0.78      1.00      0.87     15543\n",
      "         1.0       0.00      0.00      0.00      4457\n",
      "\n",
      "    accuracy                           0.78     20000\n",
      "   macro avg       0.39      0.50      0.44     20000\n",
      "weighted avg       0.60      0.78      0.68     20000\n",
      "\n",
      "tensor([nan, nan, nan,  ..., nan, nan, nan], device='cuda:0')\n",
      "              precision    recall  f1-score   support\n",
      "\n",
      "         0.0       0.78      1.00      0.87     15543\n",
      "         1.0       0.00      0.00      0.00      4457\n",
      "\n",
      "    accuracy                           0.78     20000\n",
      "   macro avg       0.39      0.50      0.44     20000\n",
      "weighted avg       0.60      0.78      0.68     20000\n",
      "\n"
     ]
    },
    {
     "name": "stderr",
     "output_type": "stream",
     "text": [
      " 31%|███       | 311/1000 [00:40<01:17,  8.94it/s]"
     ]
    },
    {
     "name": "stdout",
     "output_type": "stream",
     "text": [
      "tensor([nan, nan, nan,  ..., nan, nan, nan], device='cuda:0')\n",
      "              precision    recall  f1-score   support\n",
      "\n",
      "         0.0       0.78      1.00      0.87     15543\n",
      "         1.0       0.00      0.00      0.00      4457\n",
      "\n",
      "    accuracy                           0.78     20000\n",
      "   macro avg       0.39      0.50      0.44     20000\n",
      "weighted avg       0.60      0.78      0.68     20000\n",
      "\n",
      "tensor([nan, nan, nan,  ..., nan, nan, nan], device='cuda:0')\n",
      "              precision    recall  f1-score   support\n",
      "\n",
      "         0.0       0.78      1.00      0.87     15543\n",
      "         1.0       0.00      0.00      0.00      4457\n",
      "\n",
      "    accuracy                           0.78     20000\n",
      "   macro avg       0.39      0.50      0.44     20000\n",
      "weighted avg       0.60      0.78      0.68     20000\n",
      "\n",
      "tensor([nan, nan, nan,  ..., nan, nan, nan], device='cuda:0')\n"
     ]
    },
    {
     "name": "stderr",
     "output_type": "stream",
     "text": [
      "\r",
      " 31%|███       | 312/1000 [00:40<01:20,  8.51it/s]"
     ]
    },
    {
     "name": "stdout",
     "output_type": "stream",
     "text": [
      "              precision    recall  f1-score   support\n",
      "\n",
      "         0.0       0.78      1.00      0.87     15543\n",
      "         1.0       0.00      0.00      0.00      4457\n",
      "\n",
      "    accuracy                           0.78     20000\n",
      "   macro avg       0.39      0.50      0.44     20000\n",
      "weighted avg       0.60      0.78      0.68     20000\n",
      "\n",
      "tensor([nan, nan, nan,  ..., nan, nan, nan], device='cuda:0')\n",
      "              precision    recall  f1-score   support\n",
      "\n",
      "         0.0       0.78      1.00      0.87     15543\n",
      "         1.0       0.00      0.00      0.00      4457\n",
      "\n",
      "    accuracy                           0.78     20000\n",
      "   macro avg       0.39      0.50      0.44     20000\n",
      "weighted avg       0.60      0.78      0.68     20000\n",
      "\n",
      "tensor([nan, nan, nan,  ..., nan, nan, nan], device='cuda:0')\n"
     ]
    },
    {
     "name": "stderr",
     "output_type": "stream",
     "text": [
      "\r",
      " 31%|███▏      | 314/1000 [00:41<01:18,  8.79it/s]"
     ]
    },
    {
     "name": "stdout",
     "output_type": "stream",
     "text": [
      "              precision    recall  f1-score   support\n",
      "\n",
      "         0.0       0.78      1.00      0.87     15543\n",
      "         1.0       0.00      0.00      0.00      4457\n",
      "\n",
      "    accuracy                           0.78     20000\n",
      "   macro avg       0.39      0.50      0.44     20000\n",
      "weighted avg       0.60      0.78      0.68     20000\n",
      "\n",
      "tensor([nan, nan, nan,  ..., nan, nan, nan], device='cuda:0')\n",
      "              precision    recall  f1-score   support\n",
      "\n",
      "         0.0       0.78      1.00      0.87     15543\n",
      "         1.0       0.00      0.00      0.00      4457\n",
      "\n",
      "    accuracy                           0.78     20000\n",
      "   macro avg       0.39      0.50      0.44     20000\n",
      "weighted avg       0.60      0.78      0.68     20000\n",
      "\n",
      "tensor([nan, nan, nan,  ..., nan, nan, nan], device='cuda:0')\n"
     ]
    },
    {
     "name": "stderr",
     "output_type": "stream",
     "text": [
      " 32%|███▏      | 317/1000 [00:41<01:20,  8.52it/s]"
     ]
    },
    {
     "name": "stdout",
     "output_type": "stream",
     "text": [
      "              precision    recall  f1-score   support\n",
      "\n",
      "         0.0       0.78      1.00      0.87     15543\n",
      "         1.0       0.00      0.00      0.00      4457\n",
      "\n",
      "    accuracy                           0.78     20000\n",
      "   macro avg       0.39      0.50      0.44     20000\n",
      "weighted avg       0.60      0.78      0.68     20000\n",
      "\n",
      "tensor([nan, nan, nan,  ..., nan, nan, nan], device='cuda:0')\n",
      "              precision    recall  f1-score   support\n",
      "\n",
      "         0.0       0.78      1.00      0.87     15543\n",
      "         1.0       0.00      0.00      0.00      4457\n",
      "\n",
      "    accuracy                           0.78     20000\n",
      "   macro avg       0.39      0.50      0.44     20000\n",
      "weighted avg       0.60      0.78      0.68     20000\n",
      "\n"
     ]
    },
    {
     "name": "stderr",
     "output_type": "stream",
     "text": [
      "\r",
      " 32%|███▏      | 318/1000 [00:41<01:33,  7.32it/s]"
     ]
    },
    {
     "name": "stdout",
     "output_type": "stream",
     "text": [
      "tensor([nan, nan, nan,  ..., nan, nan, nan], device='cuda:0')\n",
      "              precision    recall  f1-score   support\n",
      "\n",
      "         0.0       0.78      1.00      0.87     15543\n",
      "         1.0       0.00      0.00      0.00      4457\n",
      "\n",
      "    accuracy                           0.78     20000\n",
      "   macro avg       0.39      0.50      0.44     20000\n",
      "weighted avg       0.60      0.78      0.68     20000\n",
      "\n",
      "tensor([nan, nan, nan,  ..., nan, nan, nan], device='cuda:0')\n"
     ]
    },
    {
     "name": "stderr",
     "output_type": "stream",
     "text": [
      "\r",
      " 32%|███▏      | 320/1000 [00:41<01:23,  8.14it/s]"
     ]
    },
    {
     "name": "stdout",
     "output_type": "stream",
     "text": [
      "              precision    recall  f1-score   support\n",
      "\n",
      "         0.0       0.78      1.00      0.87     15543\n",
      "         1.0       0.00      0.00      0.00      4457\n",
      "\n",
      "    accuracy                           0.78     20000\n",
      "   macro avg       0.39      0.50      0.44     20000\n",
      "weighted avg       0.60      0.78      0.68     20000\n",
      "\n",
      "tensor([nan, nan, nan,  ..., nan, nan, nan], device='cuda:0')\n",
      "              precision    recall  f1-score   support\n",
      "\n",
      "         0.0       0.78      1.00      0.87     15543\n",
      "         1.0       0.00      0.00      0.00      4457\n",
      "\n",
      "    accuracy                           0.78     20000\n",
      "   macro avg       0.39      0.50      0.44     20000\n",
      "weighted avg       0.60      0.78      0.68     20000\n",
      "\n",
      "tensor([nan, nan, nan,  ..., nan, nan, nan], device='cuda:0')\n"
     ]
    },
    {
     "name": "stderr",
     "output_type": "stream",
     "text": [
      " 32%|███▏      | 322/1000 [00:42<01:22,  8.25it/s]"
     ]
    },
    {
     "name": "stdout",
     "output_type": "stream",
     "text": [
      "              precision    recall  f1-score   support\n",
      "\n",
      "         0.0       0.78      1.00      0.87     15543\n",
      "         1.0       0.00      0.00      0.00      4457\n",
      "\n",
      "    accuracy                           0.78     20000\n",
      "   macro avg       0.39      0.50      0.44     20000\n",
      "weighted avg       0.60      0.78      0.68     20000\n",
      "\n",
      "tensor([nan, nan, nan,  ..., nan, nan, nan], device='cuda:0')\n",
      "              precision    recall  f1-score   support\n",
      "\n",
      "         0.0       0.78      1.00      0.87     15543\n",
      "         1.0       0.00      0.00      0.00      4457\n",
      "\n",
      "    accuracy                           0.78     20000\n",
      "   macro avg       0.39      0.50      0.44     20000\n",
      "weighted avg       0.60      0.78      0.68     20000\n",
      "\n",
      "tensor([nan, nan, nan,  ..., nan, nan, nan], device='cuda:0')\n"
     ]
    },
    {
     "name": "stderr",
     "output_type": "stream",
     "text": [
      "\r",
      " 32%|███▏      | 323/1000 [00:42<01:25,  7.95it/s]"
     ]
    },
    {
     "name": "stdout",
     "output_type": "stream",
     "text": [
      "              precision    recall  f1-score   support\n",
      "\n",
      "         0.0       0.78      1.00      0.87     15543\n",
      "         1.0       0.00      0.00      0.00      4457\n",
      "\n",
      "    accuracy                           0.78     20000\n",
      "   macro avg       0.39      0.50      0.44     20000\n",
      "weighted avg       0.60      0.78      0.68     20000\n",
      "\n",
      "tensor([nan, nan, nan,  ..., nan, nan, nan], device='cuda:0')\n",
      "              precision    recall  f1-score   support\n",
      "\n",
      "         0.0       0.78      1.00      0.87     15543\n",
      "         1.0       0.00      0.00      0.00      4457\n",
      "\n",
      "    accuracy                           0.78     20000\n",
      "   macro avg       0.39      0.50      0.44     20000\n",
      "weighted avg       0.60      0.78      0.68     20000\n",
      "\n",
      "tensor([nan, nan, nan,  ..., nan, nan, nan], device='cuda:0')\n",
      "              precision    recall  f1-score   support\n",
      "\n",
      "         0.0       0.78      1.00      0.87     15543\n",
      "         1.0       0.00      0.00      0.00      4457\n",
      "\n",
      "    accuracy                           0.78     20000\n",
      "   macro avg       0.39      0.50      0.44     20000\n",
      "weighted avg       0.60      0.78      0.68     20000\n",
      "\n"
     ]
    },
    {
     "name": "stderr",
     "output_type": "stream",
     "text": [
      " 33%|███▎      | 326/1000 [00:42<01:17,  8.73it/s]"
     ]
    },
    {
     "name": "stdout",
     "output_type": "stream",
     "text": [
      "tensor([nan, nan, nan,  ..., nan, nan, nan], device='cuda:0')\n",
      "              precision    recall  f1-score   support\n",
      "\n",
      "         0.0       0.78      1.00      0.87     15543\n",
      "         1.0       0.00      0.00      0.00      4457\n",
      "\n",
      "    accuracy                           0.78     20000\n",
      "   macro avg       0.39      0.50      0.44     20000\n",
      "weighted avg       0.60      0.78      0.68     20000\n",
      "\n",
      "tensor([nan, nan, nan,  ..., nan, nan, nan], device='cuda:0')\n"
     ]
    },
    {
     "name": "stderr",
     "output_type": "stream",
     "text": [
      " 33%|███▎      | 328/1000 [00:42<01:24,  7.94it/s]"
     ]
    },
    {
     "name": "stdout",
     "output_type": "stream",
     "text": [
      "              precision    recall  f1-score   support\n",
      "\n",
      "         0.0       0.78      1.00      0.87     15543\n",
      "         1.0       0.00      0.00      0.00      4457\n",
      "\n",
      "    accuracy                           0.78     20000\n",
      "   macro avg       0.39      0.50      0.44     20000\n",
      "weighted avg       0.60      0.78      0.68     20000\n",
      "\n",
      "tensor([nan, nan, nan,  ..., nan, nan, nan], device='cuda:0')\n",
      "              precision    recall  f1-score   support\n",
      "\n",
      "         0.0       0.78      1.00      0.87     15543\n",
      "         1.0       0.00      0.00      0.00      4457\n",
      "\n",
      "    accuracy                           0.78     20000\n",
      "   macro avg       0.39      0.50      0.44     20000\n",
      "weighted avg       0.60      0.78      0.68     20000\n",
      "\n",
      "tensor([nan, nan, nan,  ..., nan, nan, nan], device='cuda:0')\n"
     ]
    },
    {
     "name": "stderr",
     "output_type": "stream",
     "text": [
      "\r",
      " 33%|███▎      | 330/1000 [00:43<01:17,  8.64it/s]"
     ]
    },
    {
     "name": "stdout",
     "output_type": "stream",
     "text": [
      "              precision    recall  f1-score   support\n",
      "\n",
      "         0.0       0.78      1.00      0.87     15543\n",
      "         1.0       0.00      0.00      0.00      4457\n",
      "\n",
      "    accuracy                           0.78     20000\n",
      "   macro avg       0.39      0.50      0.44     20000\n",
      "weighted avg       0.60      0.78      0.68     20000\n",
      "\n",
      "tensor([nan, nan, nan,  ..., nan, nan, nan], device='cuda:0')\n",
      "              precision    recall  f1-score   support\n",
      "\n",
      "         0.0       0.78      1.00      0.87     15543\n",
      "         1.0       0.00      0.00      0.00      4457\n",
      "\n",
      "    accuracy                           0.78     20000\n",
      "   macro avg       0.39      0.50      0.44     20000\n",
      "weighted avg       0.60      0.78      0.68     20000\n",
      "\n",
      "tensor([nan, nan, nan,  ..., nan, nan, nan], device='cuda:0')\n"
     ]
    },
    {
     "name": "stderr",
     "output_type": "stream",
     "text": [
      " 33%|███▎      | 332/1000 [00:43<01:17,  8.62it/s]"
     ]
    },
    {
     "name": "stdout",
     "output_type": "stream",
     "text": [
      "              precision    recall  f1-score   support\n",
      "\n",
      "         0.0       0.78      1.00      0.87     15543\n",
      "         1.0       0.00      0.00      0.00      4457\n",
      "\n",
      "    accuracy                           0.78     20000\n",
      "   macro avg       0.39      0.50      0.44     20000\n",
      "weighted avg       0.60      0.78      0.68     20000\n",
      "\n",
      "tensor([nan, nan, nan,  ..., nan, nan, nan], device='cuda:0')\n",
      "              precision    recall  f1-score   support\n",
      "\n",
      "         0.0       0.78      1.00      0.87     15543\n",
      "         1.0       0.00      0.00      0.00      4457\n",
      "\n",
      "    accuracy                           0.78     20000\n",
      "   macro avg       0.39      0.50      0.44     20000\n",
      "weighted avg       0.60      0.78      0.68     20000\n",
      "\n",
      "tensor([nan, nan, nan,  ..., nan, nan, nan], device='cuda:0')\n",
      "              precision    recall  f1-score   support\n",
      "\n",
      "         0.0       0.78      1.00      0.87     15543\n",
      "         1.0       0.00      0.00      0.00      4457\n",
      "\n",
      "    accuracy                           0.78     20000\n",
      "   macro avg       0.39      0.50      0.44     20000\n",
      "weighted avg       0.60      0.78      0.68     20000\n",
      "\n"
     ]
    },
    {
     "name": "stderr",
     "output_type": "stream",
     "text": [
      "\r",
      " 33%|███▎      | 334/1000 [00:43<01:11,  9.30it/s]"
     ]
    },
    {
     "name": "stdout",
     "output_type": "stream",
     "text": [
      "tensor([nan, nan, nan,  ..., nan, nan, nan], device='cuda:0')\n",
      "              precision    recall  f1-score   support\n",
      "\n",
      "         0.0       0.78      1.00      0.87     15543\n",
      "         1.0       0.00      0.00      0.00      4457\n",
      "\n",
      "    accuracy                           0.78     20000\n",
      "   macro avg       0.39      0.50      0.44     20000\n",
      "weighted avg       0.60      0.78      0.68     20000\n",
      "\n",
      "tensor([nan, nan, nan,  ..., nan, nan, nan], device='cuda:0')\n",
      "              precision    recall  f1-score   support\n",
      "\n",
      "         0.0       0.78      1.00      0.87     15543\n",
      "         1.0       0.00      0.00      0.00      4457\n",
      "\n",
      "    accuracy                           0.78     20000\n",
      "   macro avg       0.39      0.50      0.44     20000\n",
      "weighted avg       0.60      0.78      0.68     20000\n",
      "\n",
      "tensor([nan, nan, nan,  ..., nan, nan, nan], device='cuda:0')\n"
     ]
    },
    {
     "name": "stderr",
     "output_type": "stream",
     "text": [
      " 34%|███▎      | 337/1000 [00:43<01:14,  8.94it/s]"
     ]
    },
    {
     "name": "stdout",
     "output_type": "stream",
     "text": [
      "              precision    recall  f1-score   support\n",
      "\n",
      "         0.0       0.78      1.00      0.87     15543\n",
      "         1.0       0.00      0.00      0.00      4457\n",
      "\n",
      "    accuracy                           0.78     20000\n",
      "   macro avg       0.39      0.50      0.44     20000\n",
      "weighted avg       0.60      0.78      0.68     20000\n",
      "\n",
      "tensor([nan, nan, nan,  ..., nan, nan, nan], device='cuda:0')\n",
      "              precision    recall  f1-score   support\n",
      "\n",
      "         0.0       0.78      1.00      0.87     15543\n",
      "         1.0       0.00      0.00      0.00      4457\n",
      "\n",
      "    accuracy                           0.78     20000\n",
      "   macro avg       0.39      0.50      0.44     20000\n",
      "weighted avg       0.60      0.78      0.68     20000\n",
      "\n",
      "tensor([nan, nan, nan,  ..., nan, nan, nan], device='cuda:0')\n"
     ]
    },
    {
     "name": "stderr",
     "output_type": "stream",
     "text": [
      "\r",
      " 34%|███▍      | 339/1000 [00:44<01:13,  9.05it/s]"
     ]
    },
    {
     "name": "stdout",
     "output_type": "stream",
     "text": [
      "              precision    recall  f1-score   support\n",
      "\n",
      "         0.0       0.78      1.00      0.87     15543\n",
      "         1.0       0.00      0.00      0.00      4457\n",
      "\n",
      "    accuracy                           0.78     20000\n",
      "   macro avg       0.39      0.50      0.44     20000\n",
      "weighted avg       0.60      0.78      0.68     20000\n",
      "\n",
      "tensor([nan, nan, nan,  ..., nan, nan, nan], device='cuda:0')\n",
      "              precision    recall  f1-score   support\n",
      "\n",
      "         0.0       0.78      1.00      0.87     15543\n",
      "         1.0       0.00      0.00      0.00      4457\n",
      "\n",
      "    accuracy                           0.78     20000\n",
      "   macro avg       0.39      0.50      0.44     20000\n",
      "weighted avg       0.60      0.78      0.68     20000\n",
      "\n"
     ]
    },
    {
     "name": "stderr",
     "output_type": "stream",
     "text": [
      "\r",
      " 34%|███▍      | 340/1000 [00:44<01:17,  8.49it/s]"
     ]
    },
    {
     "name": "stdout",
     "output_type": "stream",
     "text": [
      "tensor([nan, nan, nan,  ..., nan, nan, nan], device='cuda:0')\n",
      "              precision    recall  f1-score   support\n",
      "\n",
      "         0.0       0.78      1.00      0.87     15543\n",
      "         1.0       0.00      0.00      0.00      4457\n",
      "\n",
      "    accuracy                           0.78     20000\n",
      "   macro avg       0.39      0.50      0.44     20000\n",
      "weighted avg       0.60      0.78      0.68     20000\n",
      "\n",
      "tensor([nan, nan, nan,  ..., nan, nan, nan], device='cuda:0')\n",
      "              precision    recall  f1-score   support\n",
      "\n",
      "         0.0       0.78      1.00      0.87     15543\n",
      "         1.0       0.00      0.00      0.00      4457\n",
      "\n",
      "    accuracy                           0.78     20000\n",
      "   macro avg       0.39      0.50      0.44     20000\n",
      "weighted avg       0.60      0.78      0.68     20000\n",
      "\n"
     ]
    },
    {
     "name": "stderr",
     "output_type": "stream",
     "text": [
      " 34%|███▍      | 343/1000 [00:44<01:17,  8.48it/s]"
     ]
    },
    {
     "name": "stdout",
     "output_type": "stream",
     "text": [
      "tensor([nan, nan, nan,  ..., nan, nan, nan], device='cuda:0')\n",
      "              precision    recall  f1-score   support\n",
      "\n",
      "         0.0       0.78      1.00      0.87     15543\n",
      "         1.0       0.00      0.00      0.00      4457\n",
      "\n",
      "    accuracy                           0.78     20000\n",
      "   macro avg       0.39      0.50      0.44     20000\n",
      "weighted avg       0.60      0.78      0.68     20000\n",
      "\n",
      "tensor([nan, nan, nan,  ..., nan, nan, nan], device='cuda:0')\n",
      "              precision    recall  f1-score   support\n",
      "\n",
      "         0.0       0.78      1.00      0.87     15543\n",
      "         1.0       0.00      0.00      0.00      4457\n",
      "\n",
      "    accuracy                           0.78     20000\n",
      "   macro avg       0.39      0.50      0.44     20000\n",
      "weighted avg       0.60      0.78      0.68     20000\n",
      "\n"
     ]
    },
    {
     "name": "stderr",
     "output_type": "stream",
     "text": [
      "\r",
      " 34%|███▍      | 344/1000 [00:44<01:17,  8.48it/s]"
     ]
    },
    {
     "name": "stdout",
     "output_type": "stream",
     "text": [
      "tensor([nan, nan, nan,  ..., nan, nan, nan], device='cuda:0')\n",
      "              precision    recall  f1-score   support\n",
      "\n",
      "         0.0       0.78      1.00      0.87     15543\n",
      "         1.0       0.00      0.00      0.00      4457\n",
      "\n",
      "    accuracy                           0.78     20000\n",
      "   macro avg       0.39      0.50      0.44     20000\n",
      "weighted avg       0.60      0.78      0.68     20000\n",
      "\n",
      "tensor([nan, nan, nan,  ..., nan, nan, nan], device='cuda:0')\n",
      "              precision    recall  f1-score   support\n",
      "\n",
      "         0.0       0.78      1.00      0.87     15543\n",
      "         1.0       0.00      0.00      0.00      4457\n",
      "\n",
      "    accuracy                           0.78     20000\n",
      "   macro avg       0.39      0.50      0.44     20000\n",
      "weighted avg       0.60      0.78      0.68     20000\n",
      "\n"
     ]
    },
    {
     "name": "stderr",
     "output_type": "stream",
     "text": [
      " 35%|███▍      | 346/1000 [00:45<01:22,  7.96it/s]"
     ]
    },
    {
     "name": "stdout",
     "output_type": "stream",
     "text": [
      "tensor([nan, nan, nan,  ..., nan, nan, nan], device='cuda:0')\n",
      "              precision    recall  f1-score   support\n",
      "\n",
      "         0.0       0.78      1.00      0.87     15543\n",
      "         1.0       0.00      0.00      0.00      4457\n",
      "\n",
      "    accuracy                           0.78     20000\n",
      "   macro avg       0.39      0.50      0.44     20000\n",
      "weighted avg       0.60      0.78      0.68     20000\n",
      "\n",
      "tensor([nan, nan, nan,  ..., nan, nan, nan], device='cuda:0')\n",
      "              precision    recall  f1-score   support\n",
      "\n",
      "         0.0       0.78      1.00      0.87     15543\n",
      "         1.0       0.00      0.00      0.00      4457\n",
      "\n",
      "    accuracy                           0.78     20000\n",
      "   macro avg       0.39      0.50      0.44     20000\n",
      "weighted avg       0.60      0.78      0.68     20000\n",
      "\n",
      "tensor([nan, nan, nan,  ..., nan, nan, nan], device='cuda:0')\n"
     ]
    },
    {
     "name": "stderr",
     "output_type": "stream",
     "text": [
      " 35%|███▍      | 349/1000 [00:45<01:14,  8.79it/s]"
     ]
    },
    {
     "name": "stdout",
     "output_type": "stream",
     "text": [
      "              precision    recall  f1-score   support\n",
      "\n",
      "         0.0       0.78      1.00      0.87     15543\n",
      "         1.0       0.00      0.00      0.00      4457\n",
      "\n",
      "    accuracy                           0.78     20000\n",
      "   macro avg       0.39      0.50      0.44     20000\n",
      "weighted avg       0.60      0.78      0.68     20000\n",
      "\n",
      "tensor([nan, nan, nan,  ..., nan, nan, nan], device='cuda:0')\n",
      "              precision    recall  f1-score   support\n",
      "\n",
      "         0.0       0.78      1.00      0.87     15543\n",
      "         1.0       0.00      0.00      0.00      4457\n",
      "\n",
      "    accuracy                           0.78     20000\n",
      "   macro avg       0.39      0.50      0.44     20000\n",
      "weighted avg       0.60      0.78      0.68     20000\n",
      "\n",
      "tensor([nan, nan, nan,  ..., nan, nan, nan], device='cuda:0')\n"
     ]
    },
    {
     "name": "stderr",
     "output_type": "stream",
     "text": [
      "\r",
      " 35%|███▌      | 350/1000 [00:45<01:22,  7.88it/s]"
     ]
    },
    {
     "name": "stdout",
     "output_type": "stream",
     "text": [
      "              precision    recall  f1-score   support\n",
      "\n",
      "         0.0       0.78      1.00      0.87     15543\n",
      "         1.0       0.00      0.00      0.00      4457\n",
      "\n",
      "    accuracy                           0.78     20000\n",
      "   macro avg       0.39      0.50      0.44     20000\n",
      "weighted avg       0.60      0.78      0.68     20000\n",
      "\n",
      "tensor([nan, nan, nan,  ..., nan, nan, nan], device='cuda:0')\n",
      "              precision    recall  f1-score   support\n",
      "\n",
      "         0.0       0.78      1.00      0.87     15543\n",
      "         1.0       0.00      0.00      0.00      4457\n",
      "\n",
      "    accuracy                           0.78     20000\n",
      "   macro avg       0.39      0.50      0.44     20000\n",
      "weighted avg       0.60      0.78      0.68     20000\n",
      "\n"
     ]
    },
    {
     "name": "stderr",
     "output_type": "stream",
     "text": [
      " 35%|███▌      | 353/1000 [00:45<01:29,  7.21it/s]"
     ]
    },
    {
     "name": "stdout",
     "output_type": "stream",
     "text": [
      "tensor([nan, nan, nan,  ..., nan, nan, nan], device='cuda:0')\n",
      "              precision    recall  f1-score   support\n",
      "\n",
      "         0.0       0.78      1.00      0.87     15543\n",
      "         1.0       0.00      0.00      0.00      4457\n",
      "\n",
      "    accuracy                           0.78     20000\n",
      "   macro avg       0.39      0.50      0.44     20000\n",
      "weighted avg       0.60      0.78      0.68     20000\n",
      "\n",
      "tensor([nan, nan, nan,  ..., nan, nan, nan], device='cuda:0')\n",
      "              precision    recall  f1-score   support\n",
      "\n",
      "         0.0       0.78      1.00      0.87     15543\n",
      "         1.0       0.00      0.00      0.00      4457\n",
      "\n",
      "    accuracy                           0.78     20000\n",
      "   macro avg       0.39      0.50      0.44     20000\n",
      "weighted avg       0.60      0.78      0.68     20000\n",
      "\n"
     ]
    },
    {
     "name": "stderr",
     "output_type": "stream",
     "text": [
      "\r",
      " 35%|███▌      | 354/1000 [00:46<01:28,  7.29it/s]"
     ]
    },
    {
     "name": "stdout",
     "output_type": "stream",
     "text": [
      "tensor([nan, nan, nan,  ..., nan, nan, nan], device='cuda:0')\n",
      "              precision    recall  f1-score   support\n",
      "\n",
      "         0.0       0.78      1.00      0.87     15543\n",
      "         1.0       0.00      0.00      0.00      4457\n",
      "\n",
      "    accuracy                           0.78     20000\n",
      "   macro avg       0.39      0.50      0.44     20000\n",
      "weighted avg       0.60      0.78      0.68     20000\n",
      "\n",
      "tensor([nan, nan, nan,  ..., nan, nan, nan], device='cuda:0')\n"
     ]
    },
    {
     "name": "stderr",
     "output_type": "stream",
     "text": [
      " 36%|███▌      | 356/1000 [00:46<01:28,  7.31it/s]"
     ]
    },
    {
     "name": "stdout",
     "output_type": "stream",
     "text": [
      "              precision    recall  f1-score   support\n",
      "\n",
      "         0.0       0.78      1.00      0.87     15543\n",
      "         1.0       0.00      0.00      0.00      4457\n",
      "\n",
      "    accuracy                           0.78     20000\n",
      "   macro avg       0.39      0.50      0.44     20000\n",
      "weighted avg       0.60      0.78      0.68     20000\n",
      "\n",
      "tensor([nan, nan, nan,  ..., nan, nan, nan], device='cuda:0')\n",
      "              precision    recall  f1-score   support\n",
      "\n",
      "         0.0       0.78      1.00      0.87     15543\n",
      "         1.0       0.00      0.00      0.00      4457\n",
      "\n",
      "    accuracy                           0.78     20000\n",
      "   macro avg       0.39      0.50      0.44     20000\n",
      "weighted avg       0.60      0.78      0.68     20000\n",
      "\n",
      "tensor([nan, nan, nan,  ..., nan, nan, nan], device='cuda:0')\n"
     ]
    },
    {
     "name": "stderr",
     "output_type": "stream",
     "text": [
      " 36%|███▌      | 358/1000 [00:46<01:24,  7.61it/s]"
     ]
    },
    {
     "name": "stdout",
     "output_type": "stream",
     "text": [
      "              precision    recall  f1-score   support\n",
      "\n",
      "         0.0       0.78      1.00      0.87     15543\n",
      "         1.0       0.00      0.00      0.00      4457\n",
      "\n",
      "    accuracy                           0.78     20000\n",
      "   macro avg       0.39      0.50      0.44     20000\n",
      "weighted avg       0.60      0.78      0.68     20000\n",
      "\n",
      "tensor([nan, nan, nan,  ..., nan, nan, nan], device='cuda:0')\n",
      "              precision    recall  f1-score   support\n",
      "\n",
      "         0.0       0.78      1.00      0.87     15543\n",
      "         1.0       0.00      0.00      0.00      4457\n",
      "\n",
      "    accuracy                           0.78     20000\n",
      "   macro avg       0.39      0.50      0.44     20000\n",
      "weighted avg       0.60      0.78      0.68     20000\n",
      "\n"
     ]
    },
    {
     "name": "stderr",
     "output_type": "stream",
     "text": [
      "\r",
      " 36%|███▌      | 359/1000 [00:46<01:20,  7.96it/s]"
     ]
    },
    {
     "name": "stdout",
     "output_type": "stream",
     "text": [
      "tensor([nan, nan, nan,  ..., nan, nan, nan], device='cuda:0')\n",
      "              precision    recall  f1-score   support\n",
      "\n",
      "         0.0       0.78      1.00      0.87     15543\n",
      "         1.0       0.00      0.00      0.00      4457\n",
      "\n",
      "    accuracy                           0.78     20000\n",
      "   macro avg       0.39      0.50      0.44     20000\n",
      "weighted avg       0.60      0.78      0.68     20000\n",
      "\n",
      "tensor([nan, nan, nan,  ..., nan, nan, nan], device='cuda:0')\n",
      "              precision    recall  f1-score   support\n",
      "\n",
      "         0.0       0.78      1.00      0.87     15543\n",
      "         1.0       0.00      0.00      0.00      4457\n",
      "\n",
      "    accuracy                           0.78     20000\n",
      "   macro avg       0.39      0.50      0.44     20000\n",
      "weighted avg       0.60      0.78      0.68     20000\n",
      "\n"
     ]
    },
    {
     "name": "stderr",
     "output_type": "stream",
     "text": [
      "\r",
      " 36%|███▌      | 361/1000 [00:46<01:15,  8.47it/s]"
     ]
    },
    {
     "name": "stdout",
     "output_type": "stream",
     "text": [
      "tensor([nan, nan, nan,  ..., nan, nan, nan], device='cuda:0')\n",
      "              precision    recall  f1-score   support\n",
      "\n",
      "         0.0       0.78      1.00      0.87     15543\n",
      "         1.0       0.00      0.00      0.00      4457\n",
      "\n",
      "    accuracy                           0.78     20000\n",
      "   macro avg       0.39      0.50      0.44     20000\n",
      "weighted avg       0.60      0.78      0.68     20000\n",
      "\n",
      "tensor([nan, nan, nan,  ..., nan, nan, nan], device='cuda:0')\n",
      "              precision    recall  f1-score   support\n",
      "\n",
      "         0.0       0.78      1.00      0.87     15543\n",
      "         1.0       0.00      0.00      0.00      4457\n",
      "\n",
      "    accuracy                           0.78     20000\n",
      "   macro avg       0.39      0.50      0.44     20000\n",
      "weighted avg       0.60      0.78      0.68     20000\n",
      "\n"
     ]
    },
    {
     "name": "stderr",
     "output_type": "stream",
     "text": [
      " 36%|███▋      | 364/1000 [00:47<01:17,  8.19it/s]"
     ]
    },
    {
     "name": "stdout",
     "output_type": "stream",
     "text": [
      "tensor([nan, nan, nan,  ..., nan, nan, nan], device='cuda:0')\n",
      "              precision    recall  f1-score   support\n",
      "\n",
      "         0.0       0.78      1.00      0.87     15543\n",
      "         1.0       0.00      0.00      0.00      4457\n",
      "\n",
      "    accuracy                           0.78     20000\n",
      "   macro avg       0.39      0.50      0.44     20000\n",
      "weighted avg       0.60      0.78      0.68     20000\n",
      "\n",
      "tensor([nan, nan, nan,  ..., nan, nan, nan], device='cuda:0')\n",
      "              precision    recall  f1-score   support\n",
      "\n",
      "         0.0       0.78      1.00      0.87     15543\n",
      "         1.0       0.00      0.00      0.00      4457\n",
      "\n",
      "    accuracy                           0.78     20000\n",
      "   macro avg       0.39      0.50      0.44     20000\n",
      "weighted avg       0.60      0.78      0.68     20000\n",
      "\n"
     ]
    },
    {
     "name": "stderr",
     "output_type": "stream",
     "text": [
      "\r",
      " 37%|███▋      | 366/1000 [00:47<01:12,  8.78it/s]"
     ]
    },
    {
     "name": "stdout",
     "output_type": "stream",
     "text": [
      "tensor([nan, nan, nan,  ..., nan, nan, nan], device='cuda:0')\n",
      "              precision    recall  f1-score   support\n",
      "\n",
      "         0.0       0.78      1.00      0.87     15543\n",
      "         1.0       0.00      0.00      0.00      4457\n",
      "\n",
      "    accuracy                           0.78     20000\n",
      "   macro avg       0.39      0.50      0.44     20000\n",
      "weighted avg       0.60      0.78      0.68     20000\n",
      "\n",
      "tensor([nan, nan, nan,  ..., nan, nan, nan], device='cuda:0')\n",
      "              precision    recall  f1-score   support\n",
      "\n",
      "         0.0       0.78      1.00      0.87     15543\n",
      "         1.0       0.00      0.00      0.00      4457\n",
      "\n",
      "    accuracy                           0.78     20000\n",
      "   macro avg       0.39      0.50      0.44     20000\n",
      "weighted avg       0.60      0.78      0.68     20000\n",
      "\n"
     ]
    },
    {
     "name": "stderr",
     "output_type": "stream",
     "text": [
      "\r",
      " 37%|███▋      | 367/1000 [00:47<01:18,  8.05it/s]"
     ]
    },
    {
     "name": "stdout",
     "output_type": "stream",
     "text": [
      "tensor([nan, nan, nan,  ..., nan, nan, nan], device='cuda:0')\n",
      "              precision    recall  f1-score   support\n",
      "\n",
      "         0.0       0.78      1.00      0.87     15543\n",
      "         1.0       0.00      0.00      0.00      4457\n",
      "\n",
      "    accuracy                           0.78     20000\n",
      "   macro avg       0.39      0.50      0.44     20000\n",
      "weighted avg       0.60      0.78      0.68     20000\n",
      "\n",
      "tensor([nan, nan, nan,  ..., nan, nan, nan], device='cuda:0')\n"
     ]
    },
    {
     "name": "stderr",
     "output_type": "stream",
     "text": [
      " 37%|███▋      | 369/1000 [00:47<01:17,  8.13it/s]"
     ]
    },
    {
     "name": "stdout",
     "output_type": "stream",
     "text": [
      "              precision    recall  f1-score   support\n",
      "\n",
      "         0.0       0.78      1.00      0.87     15543\n",
      "         1.0       0.00      0.00      0.00      4457\n",
      "\n",
      "    accuracy                           0.78     20000\n",
      "   macro avg       0.39      0.50      0.44     20000\n",
      "weighted avg       0.60      0.78      0.68     20000\n",
      "\n",
      "tensor([nan, nan, nan,  ..., nan, nan, nan], device='cuda:0')\n",
      "              precision    recall  f1-score   support\n",
      "\n",
      "         0.0       0.78      1.00      0.87     15543\n",
      "         1.0       0.00      0.00      0.00      4457\n",
      "\n",
      "    accuracy                           0.78     20000\n",
      "   macro avg       0.39      0.50      0.44     20000\n",
      "weighted avg       0.60      0.78      0.68     20000\n",
      "\n",
      "tensor([nan, nan, nan,  ..., nan, nan, nan], device='cuda:0')\n"
     ]
    },
    {
     "name": "stderr",
     "output_type": "stream",
     "text": [
      " 37%|███▋      | 371/1000 [00:48<01:13,  8.52it/s]"
     ]
    },
    {
     "name": "stdout",
     "output_type": "stream",
     "text": [
      "              precision    recall  f1-score   support\n",
      "\n",
      "         0.0       0.78      1.00      0.87     15543\n",
      "         1.0       0.00      0.00      0.00      4457\n",
      "\n",
      "    accuracy                           0.78     20000\n",
      "   macro avg       0.39      0.50      0.44     20000\n",
      "weighted avg       0.60      0.78      0.68     20000\n",
      "\n",
      "tensor([nan, nan, nan,  ..., nan, nan, nan], device='cuda:0')\n",
      "              precision    recall  f1-score   support\n",
      "\n",
      "         0.0       0.78      1.00      0.87     15543\n",
      "         1.0       0.00      0.00      0.00      4457\n",
      "\n",
      "    accuracy                           0.78     20000\n",
      "   macro avg       0.39      0.50      0.44     20000\n",
      "weighted avg       0.60      0.78      0.68     20000\n",
      "\n",
      "tensor([nan, nan, nan,  ..., nan, nan, nan], device='cuda:0')\n"
     ]
    },
    {
     "name": "stderr",
     "output_type": "stream",
     "text": [
      "\r",
      " 37%|███▋      | 372/1000 [00:48<01:16,  8.16it/s]"
     ]
    },
    {
     "name": "stdout",
     "output_type": "stream",
     "text": [
      "              precision    recall  f1-score   support\n",
      "\n",
      "         0.0       0.78      1.00      0.87     15543\n",
      "         1.0       0.00      0.00      0.00      4457\n",
      "\n",
      "    accuracy                           0.78     20000\n",
      "   macro avg       0.39      0.50      0.44     20000\n",
      "weighted avg       0.60      0.78      0.68     20000\n",
      "\n",
      "tensor([nan, nan, nan,  ..., nan, nan, nan], device='cuda:0')\n",
      "              precision    recall  f1-score   support\n",
      "\n",
      "         0.0       0.78      1.00      0.87     15543\n",
      "         1.0       0.00      0.00      0.00      4457\n",
      "\n",
      "    accuracy                           0.78     20000\n",
      "   macro avg       0.39      0.50      0.44     20000\n",
      "weighted avg       0.60      0.78      0.68     20000\n",
      "\n",
      "tensor([nan, nan, nan,  ..., nan, nan, nan], device='cuda:0')\n"
     ]
    },
    {
     "name": "stderr",
     "output_type": "stream",
     "text": [
      "\r",
      " 37%|███▋      | 374/1000 [00:48<01:13,  8.55it/s]"
     ]
    },
    {
     "name": "stdout",
     "output_type": "stream",
     "text": [
      "              precision    recall  f1-score   support\n",
      "\n",
      "         0.0       0.78      1.00      0.87     15543\n",
      "         1.0       0.00      0.00      0.00      4457\n",
      "\n",
      "    accuracy                           0.78     20000\n",
      "   macro avg       0.39      0.50      0.44     20000\n",
      "weighted avg       0.60      0.78      0.68     20000\n",
      "\n",
      "tensor([nan, nan, nan,  ..., nan, nan, nan], device='cuda:0')\n",
      "              precision    recall  f1-score   support\n",
      "\n",
      "         0.0       0.78      1.00      0.87     15543\n",
      "         1.0       0.00      0.00      0.00      4457\n",
      "\n",
      "    accuracy                           0.78     20000\n",
      "   macro avg       0.39      0.50      0.44     20000\n",
      "weighted avg       0.60      0.78      0.68     20000\n",
      "\n",
      "tensor([nan, nan, nan,  ..., nan, nan, nan], device='cuda:0')\n"
     ]
    },
    {
     "name": "stderr",
     "output_type": "stream",
     "text": [
      " 38%|███▊      | 377/1000 [00:48<01:11,  8.72it/s]"
     ]
    },
    {
     "name": "stdout",
     "output_type": "stream",
     "text": [
      "              precision    recall  f1-score   support\n",
      "\n",
      "         0.0       0.78      1.00      0.87     15543\n",
      "         1.0       0.00      0.00      0.00      4457\n",
      "\n",
      "    accuracy                           0.78     20000\n",
      "   macro avg       0.39      0.50      0.44     20000\n",
      "weighted avg       0.60      0.78      0.68     20000\n",
      "\n",
      "tensor([nan, nan, nan,  ..., nan, nan, nan], device='cuda:0')\n",
      "              precision    recall  f1-score   support\n",
      "\n",
      "         0.0       0.78      1.00      0.87     15543\n",
      "         1.0       0.00      0.00      0.00      4457\n",
      "\n",
      "    accuracy                           0.78     20000\n",
      "   macro avg       0.39      0.50      0.44     20000\n",
      "weighted avg       0.60      0.78      0.68     20000\n",
      "\n",
      "tensor([nan, nan, nan,  ..., nan, nan, nan], device='cuda:0')"
     ]
    },
    {
     "name": "stderr",
     "output_type": "stream",
     "text": [
      " 38%|███▊      | 379/1000 [00:49<01:10,  8.79it/s]"
     ]
    },
    {
     "name": "stdout",
     "output_type": "stream",
     "text": [
      "\n",
      "              precision    recall  f1-score   support\n",
      "\n",
      "         0.0       0.78      1.00      0.87     15543\n",
      "         1.0       0.00      0.00      0.00      4457\n",
      "\n",
      "    accuracy                           0.78     20000\n",
      "   macro avg       0.39      0.50      0.44     20000\n",
      "weighted avg       0.60      0.78      0.68     20000\n",
      "\n",
      "tensor([nan, nan, nan,  ..., nan, nan, nan], device='cuda:0')\n",
      "              precision    recall  f1-score   support\n",
      "\n",
      "         0.0       0.78      1.00      0.87     15543\n",
      "         1.0       0.00      0.00      0.00      4457\n",
      "\n",
      "    accuracy                           0.78     20000\n",
      "   macro avg       0.39      0.50      0.44     20000\n",
      "weighted avg       0.60      0.78      0.68     20000\n",
      "\n"
     ]
    },
    {
     "name": "stderr",
     "output_type": "stream",
     "text": [
      "\r",
      " 38%|███▊      | 380/1000 [00:49<01:19,  7.81it/s]"
     ]
    },
    {
     "name": "stdout",
     "output_type": "stream",
     "text": [
      "tensor([nan, nan, nan,  ..., nan, nan, nan], device='cuda:0')\n",
      "              precision    recall  f1-score   support\n",
      "\n",
      "         0.0       0.78      1.00      0.87     15543\n",
      "         1.0       0.00      0.00      0.00      4457\n",
      "\n",
      "    accuracy                           0.78     20000\n",
      "   macro avg       0.39      0.50      0.44     20000\n",
      "weighted avg       0.60      0.78      0.68     20000\n",
      "\n",
      "tensor([nan, nan, nan,  ..., nan, nan, nan], device='cuda:0')\n",
      "              precision    recall  f1-score   support\n",
      "\n",
      "         0.0       0.78      1.00      0.87     15543\n",
      "         1.0       0.00      0.00      0.00      4457\n",
      "\n",
      "    accuracy                           0.78     20000\n",
      "   macro avg       0.39      0.50      0.44     20000\n",
      "weighted avg       0.60      0.78      0.68     20000\n",
      "\n"
     ]
    },
    {
     "name": "stderr",
     "output_type": "stream",
     "text": [
      " 38%|███▊      | 383/1000 [00:49<01:14,  8.30it/s]"
     ]
    },
    {
     "name": "stdout",
     "output_type": "stream",
     "text": [
      "tensor([nan, nan, nan,  ..., nan, nan, nan], device='cuda:0')\n",
      "              precision    recall  f1-score   support\n",
      "\n",
      "         0.0       0.78      1.00      0.87     15543\n",
      "         1.0       0.00      0.00      0.00      4457\n",
      "\n",
      "    accuracy                           0.78     20000\n",
      "   macro avg       0.39      0.50      0.44     20000\n",
      "weighted avg       0.60      0.78      0.68     20000\n",
      "\n",
      "tensor([nan, nan, nan,  ..., nan, nan, nan], device='cuda:0')\n",
      "              precision    recall  f1-score   support\n",
      "\n",
      "         0.0       0.78      1.00      0.87     15543\n",
      "         1.0       0.00      0.00      0.00      4457\n",
      "\n",
      "    accuracy                           0.78     20000\n",
      "   macro avg       0.39      0.50      0.44     20000\n",
      "weighted avg       0.60      0.78      0.68     20000\n",
      "\n"
     ]
    },
    {
     "name": "stderr",
     "output_type": "stream",
     "text": [
      " 38%|███▊      | 385/1000 [00:49<01:10,  8.68it/s]"
     ]
    },
    {
     "name": "stdout",
     "output_type": "stream",
     "text": [
      "tensor([nan, nan, nan,  ..., nan, nan, nan], device='cuda:0')\n",
      "              precision    recall  f1-score   support\n",
      "\n",
      "         0.0       0.78      1.00      0.87     15543\n",
      "         1.0       0.00      0.00      0.00      4457\n",
      "\n",
      "    accuracy                           0.78     20000\n",
      "   macro avg       0.39      0.50      0.44     20000\n",
      "weighted avg       0.60      0.78      0.68     20000\n",
      "\n",
      "tensor([nan, nan, nan,  ..., nan, nan, nan], device='cuda:0')\n",
      "              precision    recall  f1-score   support\n",
      "\n",
      "         0.0       0.78      1.00      0.87     15543\n",
      "         1.0       0.00      0.00      0.00      4457\n",
      "\n",
      "    accuracy                           0.78     20000\n",
      "   macro avg       0.39      0.50      0.44     20000\n",
      "weighted avg       0.60      0.78      0.68     20000\n",
      "\n"
     ]
    },
    {
     "name": "stderr",
     "output_type": "stream",
     "text": [
      "\r",
      " 39%|███▊      | 386/1000 [00:49<01:11,  8.59it/s]"
     ]
    },
    {
     "name": "stdout",
     "output_type": "stream",
     "text": [
      "tensor([nan, nan, nan,  ..., nan, nan, nan], device='cuda:0')\n",
      "              precision    recall  f1-score   support\n",
      "\n",
      "         0.0       0.78      1.00      0.87     15543\n",
      "         1.0       0.00      0.00      0.00      4457\n",
      "\n",
      "    accuracy                           0.78     20000\n",
      "   macro avg       0.39      0.50      0.44     20000\n",
      "weighted avg       0.60      0.78      0.68     20000\n",
      "\n",
      "tensor([nan, nan, nan,  ..., nan, nan, nan], device='cuda:0')\n",
      "              precision    recall  f1-score   support\n",
      "\n",
      "         0.0       0.78      1.00      0.87     15543\n",
      "         1.0       0.00      0.00      0.00      4457\n",
      "\n",
      "    accuracy                           0.78     20000\n",
      "   macro avg       0.39      0.50      0.44     20000\n",
      "weighted avg       0.60      0.78      0.68     20000\n",
      "\n"
     ]
    },
    {
     "name": "stderr",
     "output_type": "stream",
     "text": [
      " 39%|███▉      | 389/1000 [00:50<01:06,  9.24it/s]"
     ]
    },
    {
     "name": "stdout",
     "output_type": "stream",
     "text": [
      "tensor([nan, nan, nan,  ..., nan, nan, nan], device='cuda:0')\n",
      "              precision    recall  f1-score   support\n",
      "\n",
      "         0.0       0.78      1.00      0.87     15543\n",
      "         1.0       0.00      0.00      0.00      4457\n",
      "\n",
      "    accuracy                           0.78     20000\n",
      "   macro avg       0.39      0.50      0.44     20000\n",
      "weighted avg       0.60      0.78      0.68     20000\n",
      "\n",
      "tensor([nan, nan, nan,  ..., nan, nan, nan], device='cuda:0')\n",
      "              precision    recall  f1-score   support\n",
      "\n",
      "         0.0       0.78      1.00      0.87     15543\n",
      "         1.0       0.00      0.00      0.00      4457\n",
      "\n",
      "    accuracy                           0.78     20000\n",
      "   macro avg       0.39      0.50      0.44     20000\n",
      "weighted avg       0.60      0.78      0.68     20000\n",
      "\n",
      "tensor([nan, nan, nan,  ..., nan, nan, nan], device='cuda:0')\n"
     ]
    },
    {
     "name": "stderr",
     "output_type": "stream",
     "text": [
      "\r",
      " 39%|███▉      | 391/1000 [00:50<01:06,  9.20it/s]"
     ]
    },
    {
     "name": "stdout",
     "output_type": "stream",
     "text": [
      "              precision    recall  f1-score   support\n",
      "\n",
      "         0.0       0.78      1.00      0.87     15543\n",
      "         1.0       0.00      0.00      0.00      4457\n",
      "\n",
      "    accuracy                           0.78     20000\n",
      "   macro avg       0.39      0.50      0.44     20000\n",
      "weighted avg       0.60      0.78      0.68     20000\n",
      "\n",
      "tensor([nan, nan, nan,  ..., nan, nan, nan], device='cuda:0')\n",
      "              precision    recall  f1-score   support\n",
      "\n",
      "         0.0       0.78      1.00      0.87     15543\n",
      "         1.0       0.00      0.00      0.00      4457\n",
      "\n",
      "    accuracy                           0.78     20000\n",
      "   macro avg       0.39      0.50      0.44     20000\n",
      "weighted avg       0.60      0.78      0.68     20000\n",
      "\n",
      "tensor([nan, nan, nan,  ..., nan, nan, nan], device='cuda:0')\n"
     ]
    },
    {
     "name": "stderr",
     "output_type": "stream",
     "text": [
      "\r",
      " 39%|███▉      | 393/1000 [00:50<01:03,  9.51it/s]"
     ]
    },
    {
     "name": "stdout",
     "output_type": "stream",
     "text": [
      "              precision    recall  f1-score   support\n",
      "\n",
      "         0.0       0.78      1.00      0.87     15543\n",
      "         1.0       0.00      0.00      0.00      4457\n",
      "\n",
      "    accuracy                           0.78     20000\n",
      "   macro avg       0.39      0.50      0.44     20000\n",
      "weighted avg       0.60      0.78      0.68     20000\n",
      "\n",
      "tensor([nan, nan, nan,  ..., nan, nan, nan], device='cuda:0')\n",
      "              precision    recall  f1-score   support\n",
      "\n",
      "         0.0       0.78      1.00      0.87     15543\n",
      "         1.0       0.00      0.00      0.00      4457\n",
      "\n",
      "    accuracy                           0.78     20000\n",
      "   macro avg       0.39      0.50      0.44     20000\n",
      "weighted avg       0.60      0.78      0.68     20000\n",
      "\n",
      "tensor([nan, nan, nan,  ..., nan, nan, nan], device='cuda:0')\n"
     ]
    },
    {
     "name": "stderr",
     "output_type": "stream",
     "text": [
      " 40%|███▉      | 395/1000 [00:51<01:14,  8.09it/s]"
     ]
    },
    {
     "name": "stdout",
     "output_type": "stream",
     "text": [
      "              precision    recall  f1-score   support\n",
      "\n",
      "         0.0       0.78      1.00      0.87     15543\n",
      "         1.0       0.00      0.00      0.00      4457\n",
      "\n",
      "    accuracy                           0.78     20000\n",
      "   macro avg       0.39      0.50      0.44     20000\n",
      "weighted avg       0.60      0.78      0.68     20000\n",
      "\n",
      "tensor([nan, nan, nan,  ..., nan, nan, nan], device='cuda:0')\n",
      "              precision    recall  f1-score   support\n",
      "\n",
      "         0.0       0.78      1.00      0.87     15543\n",
      "         1.0       0.00      0.00      0.00      4457\n",
      "\n",
      "    accuracy                           0.78     20000\n",
      "   macro avg       0.39      0.50      0.44     20000\n",
      "weighted avg       0.60      0.78      0.68     20000\n",
      "\n"
     ]
    },
    {
     "name": "stderr",
     "output_type": "stream",
     "text": [
      "\r",
      " 40%|███▉      | 396/1000 [00:51<01:12,  8.38it/s]"
     ]
    },
    {
     "name": "stdout",
     "output_type": "stream",
     "text": [
      "tensor([nan, nan, nan,  ..., nan, nan, nan], device='cuda:0')\n",
      "              precision    recall  f1-score   support\n",
      "\n",
      "         0.0       0.78      1.00      0.87     15543\n",
      "         1.0       0.00      0.00      0.00      4457\n",
      "\n",
      "    accuracy                           0.78     20000\n",
      "   macro avg       0.39      0.50      0.44     20000\n",
      "weighted avg       0.60      0.78      0.68     20000\n",
      "\n",
      "tensor([nan, nan, nan,  ..., nan, nan, nan], device='cuda:0')\n"
     ]
    },
    {
     "name": "stderr",
     "output_type": "stream",
     "text": [
      "\r",
      " 40%|███▉      | 397/1000 [00:51<01:22,  7.32it/s]"
     ]
    },
    {
     "name": "stdout",
     "output_type": "stream",
     "text": [
      "              precision    recall  f1-score   support\n",
      "\n",
      "         0.0       0.78      1.00      0.87     15543\n",
      "         1.0       0.00      0.00      0.00      4457\n",
      "\n",
      "    accuracy                           0.78     20000\n",
      "   macro avg       0.39      0.50      0.44     20000\n",
      "weighted avg       0.60      0.78      0.68     20000\n",
      "\n",
      "tensor([nan, nan, nan,  ..., nan, nan, nan], device='cuda:0')\n",
      "              precision    recall  f1-score   support\n",
      "\n",
      "         0.0       0.78      1.00      0.87     15543\n",
      "         1.0       0.00      0.00      0.00      4457\n",
      "\n",
      "    accuracy                           0.78     20000\n",
      "   macro avg       0.39      0.50      0.44     20000\n",
      "weighted avg       0.60      0.78      0.68     20000\n",
      "\n",
      "tensor([nan, nan, nan,  ..., nan, nan, nan], device='cuda:0')\n",
      "              precision    recall  f1-score   support\n",
      "\n",
      "         0.0       0.78      1.00      0.87     15543\n",
      "         1.0       0.00      0.00      0.00      4457\n",
      "\n",
      "    accuracy                           0.78     20000\n",
      "   macro avg       0.39      0.50      0.44     20000\n",
      "weighted avg       0.60      0.78      0.68     20000\n",
      "\n"
     ]
    },
    {
     "name": "stderr",
     "output_type": "stream",
     "text": [
      " 40%|████      | 400/1000 [00:51<01:15,  7.97it/s]"
     ]
    },
    {
     "name": "stdout",
     "output_type": "stream",
     "text": [
      "tensor([nan, nan, nan,  ..., nan, nan, nan], device='cuda:0')\n",
      "              precision    recall  f1-score   support\n",
      "\n",
      "         0.0       0.78      1.00      0.87     15543\n",
      "         1.0       0.00      0.00      0.00      4457\n",
      "\n",
      "    accuracy                           0.78     20000\n",
      "   macro avg       0.39      0.50      0.44     20000\n",
      "weighted avg       0.60      0.78      0.68     20000\n",
      "\n",
      "tensor([nan, nan, nan,  ..., nan, nan, nan], device='cuda:0')\n",
      "              precision    recall  f1-score   support\n",
      "\n",
      "         0.0       0.78      1.00      0.87     15543\n",
      "         1.0       0.00      0.00      0.00      4457\n",
      "\n",
      "    accuracy                           0.78     20000\n",
      "   macro avg       0.39      0.50      0.44     20000\n",
      "weighted avg       0.60      0.78      0.68     20000\n",
      "\n"
     ]
    },
    {
     "name": "stderr",
     "output_type": "stream",
     "text": [
      " 40%|████      | 402/1000 [00:51<01:17,  7.68it/s]"
     ]
    },
    {
     "name": "stdout",
     "output_type": "stream",
     "text": [
      "tensor([nan, nan, nan,  ..., nan, nan, nan], device='cuda:0')\n",
      "              precision    recall  f1-score   support\n",
      "\n",
      "         0.0       0.78      1.00      0.87     15543\n",
      "         1.0       0.00      0.00      0.00      4457\n",
      "\n",
      "    accuracy                           0.78     20000\n",
      "   macro avg       0.39      0.50      0.44     20000\n",
      "weighted avg       0.60      0.78      0.68     20000\n",
      "\n",
      "tensor([nan, nan, nan,  ..., nan, nan, nan], device='cuda:0')\n",
      "              precision    recall  f1-score   support\n",
      "\n",
      "         0.0       0.78      1.00      0.87     15543\n",
      "         1.0       0.00      0.00      0.00      4457\n",
      "\n",
      "    accuracy                           0.78     20000\n",
      "   macro avg       0.39      0.50      0.44     20000\n",
      "weighted avg       0.60      0.78      0.68     20000\n",
      "\n"
     ]
    },
    {
     "name": "stderr",
     "output_type": "stream",
     "text": [
      " 40%|████      | 404/1000 [00:52<01:11,  8.29it/s]"
     ]
    },
    {
     "name": "stdout",
     "output_type": "stream",
     "text": [
      "tensor([nan, nan, nan,  ..., nan, nan, nan], device='cuda:0')\n",
      "              precision    recall  f1-score   support\n",
      "\n",
      "         0.0       0.78      1.00      0.87     15543\n",
      "         1.0       0.00      0.00      0.00      4457\n",
      "\n",
      "    accuracy                           0.78     20000\n",
      "   macro avg       0.39      0.50      0.44     20000\n",
      "weighted avg       0.60      0.78      0.68     20000\n",
      "\n",
      "tensor([nan, nan, nan,  ..., nan, nan, nan], device='cuda:0')\n",
      "              precision    recall  f1-score   support\n",
      "\n",
      "         0.0       0.78      1.00      0.87     15543\n",
      "         1.0       0.00      0.00      0.00      4457\n",
      "\n",
      "    accuracy                           0.78     20000\n",
      "   macro avg       0.39      0.50      0.44     20000\n",
      "weighted avg       0.60      0.78      0.68     20000\n",
      "\n"
     ]
    },
    {
     "name": "stderr",
     "output_type": "stream",
     "text": [
      " 41%|████      | 406/1000 [00:52<01:21,  7.27it/s]"
     ]
    },
    {
     "name": "stdout",
     "output_type": "stream",
     "text": [
      "tensor([nan, nan, nan,  ..., nan, nan, nan], device='cuda:0')\n",
      "              precision    recall  f1-score   support\n",
      "\n",
      "         0.0       0.78      1.00      0.87     15543\n",
      "         1.0       0.00      0.00      0.00      4457\n",
      "\n",
      "    accuracy                           0.78     20000\n",
      "   macro avg       0.39      0.50      0.44     20000\n",
      "weighted avg       0.60      0.78      0.68     20000\n",
      "\n",
      "tensor([nan, nan, nan,  ..., nan, nan, nan], device='cuda:0')\n"
     ]
    },
    {
     "name": "stderr",
     "output_type": "stream",
     "text": [
      "\r",
      " 41%|████      | 407/1000 [00:52<01:33,  6.33it/s]"
     ]
    },
    {
     "name": "stdout",
     "output_type": "stream",
     "text": [
      "              precision    recall  f1-score   support\n",
      "\n",
      "         0.0       0.78      1.00      0.87     15543\n",
      "         1.0       0.00      0.00      0.00      4457\n",
      "\n",
      "    accuracy                           0.78     20000\n",
      "   macro avg       0.39      0.50      0.44     20000\n",
      "weighted avg       0.60      0.78      0.68     20000\n",
      "\n",
      "tensor([nan, nan, nan,  ..., nan, nan, nan], device='cuda:0')\n"
     ]
    },
    {
     "name": "stderr",
     "output_type": "stream",
     "text": [
      " 41%|████      | 409/1000 [00:52<01:26,  6.82it/s]"
     ]
    },
    {
     "name": "stdout",
     "output_type": "stream",
     "text": [
      "              precision    recall  f1-score   support\n",
      "\n",
      "         0.0       0.78      1.00      0.87     15543\n",
      "         1.0       0.00      0.00      0.00      4457\n",
      "\n",
      "    accuracy                           0.78     20000\n",
      "   macro avg       0.39      0.50      0.44     20000\n",
      "weighted avg       0.60      0.78      0.68     20000\n",
      "\n",
      "tensor([nan, nan, nan,  ..., nan, nan, nan], device='cuda:0')\n",
      "              precision    recall  f1-score   support\n",
      "\n",
      "         0.0       0.78      1.00      0.87     15543\n",
      "         1.0       0.00      0.00      0.00      4457\n",
      "\n",
      "    accuracy                           0.78     20000\n",
      "   macro avg       0.39      0.50      0.44     20000\n",
      "weighted avg       0.60      0.78      0.68     20000\n",
      "\n",
      "tensor([nan, nan, nan,  ..., nan, nan, nan], device='cuda:0')\n"
     ]
    },
    {
     "name": "stderr",
     "output_type": "stream",
     "text": [
      " 41%|████      | 411/1000 [00:53<01:16,  7.66it/s]"
     ]
    },
    {
     "name": "stdout",
     "output_type": "stream",
     "text": [
      "              precision    recall  f1-score   support\n",
      "\n",
      "         0.0       0.78      1.00      0.87     15543\n",
      "         1.0       0.00      0.00      0.00      4457\n",
      "\n",
      "    accuracy                           0.78     20000\n",
      "   macro avg       0.39      0.50      0.44     20000\n",
      "weighted avg       0.60      0.78      0.68     20000\n",
      "\n",
      "tensor([nan, nan, nan,  ..., nan, nan, nan], device='cuda:0')\n",
      "              precision    recall  f1-score   support\n",
      "\n",
      "         0.0       0.78      1.00      0.87     15543\n",
      "         1.0       0.00      0.00      0.00      4457\n",
      "\n",
      "    accuracy                           0.78     20000\n",
      "   macro avg       0.39      0.50      0.44     20000\n",
      "weighted avg       0.60      0.78      0.68     20000\n",
      "\n",
      "tensor([nan, nan, nan,  ..., nan, nan, nan], device='cuda:0')\n"
     ]
    },
    {
     "name": "stderr",
     "output_type": "stream",
     "text": [
      " 41%|████▏     | 413/1000 [00:53<01:16,  7.64it/s]"
     ]
    },
    {
     "name": "stdout",
     "output_type": "stream",
     "text": [
      "              precision    recall  f1-score   support\n",
      "\n",
      "         0.0       0.78      1.00      0.87     15543\n",
      "         1.0       0.00      0.00      0.00      4457\n",
      "\n",
      "    accuracy                           0.78     20000\n",
      "   macro avg       0.39      0.50      0.44     20000\n",
      "weighted avg       0.60      0.78      0.68     20000\n",
      "\n",
      "tensor([nan, nan, nan,  ..., nan, nan, nan], device='cuda:0')\n",
      "              precision    recall  f1-score   support\n",
      "\n",
      "         0.0       0.78      1.00      0.87     15543\n",
      "         1.0       0.00      0.00      0.00      4457\n",
      "\n",
      "    accuracy                           0.78     20000\n",
      "   macro avg       0.39      0.50      0.44     20000\n",
      "weighted avg       0.60      0.78      0.68     20000\n",
      "\n"
     ]
    },
    {
     "name": "stderr",
     "output_type": "stream",
     "text": [
      "\r",
      " 41%|████▏     | 414/1000 [00:53<01:14,  7.84it/s]"
     ]
    },
    {
     "name": "stdout",
     "output_type": "stream",
     "text": [
      "tensor([nan, nan, nan,  ..., nan, nan, nan], device='cuda:0')\n",
      "              precision    recall  f1-score   support\n",
      "\n",
      "         0.0       0.78      1.00      0.87     15543\n",
      "         1.0       0.00      0.00      0.00      4457\n",
      "\n",
      "    accuracy                           0.78     20000\n",
      "   macro avg       0.39      0.50      0.44     20000\n",
      "weighted avg       0.60      0.78      0.68     20000\n",
      "\n",
      "tensor([nan, nan, nan,  ..., nan, nan, nan], device='cuda:0')\n",
      "              precision    recall  f1-score   support\n",
      "\n",
      "         0.0       0.78      1.00      0.87     15543\n",
      "         1.0       0.00      0.00      0.00      4457\n",
      "\n",
      "    accuracy                           0.78     20000\n",
      "   macro avg       0.39      0.50      0.44     20000\n",
      "weighted avg       0.60      0.78      0.68     20000\n",
      "\n",
      "tensor([nan, nan, nan,  ..., nan, nan, nan], device='cuda:0')\n"
     ]
    },
    {
     "name": "stderr",
     "output_type": "stream",
     "text": [
      "\r",
      " 42%|████▏     | 416/1000 [00:53<01:07,  8.66it/s]"
     ]
    },
    {
     "name": "stdout",
     "output_type": "stream",
     "text": [
      "              precision    recall  f1-score   support\n",
      "\n",
      "         0.0       0.78      1.00      0.87     15543\n",
      "         1.0       0.00      0.00      0.00      4457\n",
      "\n",
      "    accuracy                           0.78     20000\n",
      "   macro avg       0.39      0.50      0.44     20000\n",
      "weighted avg       0.60      0.78      0.68     20000\n",
      "\n",
      "tensor([nan, nan, nan,  ..., nan, nan, nan], device='cuda:0')\n",
      "              precision    recall  f1-score   support\n",
      "\n",
      "         0.0       0.78      1.00      0.87     15543\n",
      "         1.0       0.00      0.00      0.00      4457\n",
      "\n",
      "    accuracy                           0.78     20000\n",
      "   macro avg       0.39      0.50      0.44     20000\n",
      "weighted avg       0.60      0.78      0.68     20000\n",
      "\n",
      "tensor([nan, nan, nan,  ..., nan, nan, nan], device='cuda:0')\n",
      "              precision    recall  f1-score   support\n",
      "\n",
      "         0.0       0.78      1.00      0.87     15543\n",
      "         1.0       0.00      0.00      0.00      4457\n",
      "\n",
      "    accuracy                           0.78     20000\n",
      "   macro avg       0.39      0.50      0.44     20000\n",
      "weighted avg       0.60      0.78      0.68     20000\n",
      "\n"
     ]
    },
    {
     "name": "stderr",
     "output_type": "stream",
     "text": [
      " 42%|████▏     | 419/1000 [00:54<01:07,  8.64it/s]"
     ]
    },
    {
     "name": "stdout",
     "output_type": "stream",
     "text": [
      "tensor([nan, nan, nan,  ..., nan, nan, nan], device='cuda:0')\n",
      "              precision    recall  f1-score   support\n",
      "\n",
      "         0.0       0.78      1.00      0.87     15543\n",
      "         1.0       0.00      0.00      0.00      4457\n",
      "\n",
      "    accuracy                           0.78     20000\n",
      "   macro avg       0.39      0.50      0.44     20000\n",
      "weighted avg       0.60      0.78      0.68     20000\n",
      "\n",
      "tensor([nan, nan, nan,  ..., nan, nan, nan], device='cuda:0')\n",
      "              precision    recall  f1-score   support\n",
      "\n",
      "         0.0       0.78      1.00      0.87     15543\n",
      "         1.0       0.00      0.00      0.00      4457\n",
      "\n",
      "    accuracy                           0.78     20000\n",
      "   macro avg       0.39      0.50      0.44     20000\n",
      "weighted avg       0.60      0.78      0.68     20000\n",
      "\n"
     ]
    },
    {
     "name": "stderr",
     "output_type": "stream",
     "text": [
      " 42%|████▏     | 422/1000 [00:54<01:03,  9.07it/s]"
     ]
    },
    {
     "name": "stdout",
     "output_type": "stream",
     "text": [
      "tensor([nan, nan, nan,  ..., nan, nan, nan], device='cuda:0')\n",
      "              precision    recall  f1-score   support\n",
      "\n",
      "         0.0       0.78      1.00      0.87     15543\n",
      "         1.0       0.00      0.00      0.00      4457\n",
      "\n",
      "    accuracy                           0.78     20000\n",
      "   macro avg       0.39      0.50      0.44     20000\n",
      "weighted avg       0.60      0.78      0.68     20000\n",
      "\n",
      "tensor([nan, nan, nan,  ..., nan, nan, nan], device='cuda:0')\n",
      "              precision    recall  f1-score   support\n",
      "\n",
      "         0.0       0.78      1.00      0.87     15543\n",
      "         1.0       0.00      0.00      0.00      4457\n",
      "\n",
      "    accuracy                           0.78     20000\n",
      "   macro avg       0.39      0.50      0.44     20000\n",
      "weighted avg       0.60      0.78      0.68     20000\n",
      "\n"
     ]
    },
    {
     "name": "stderr",
     "output_type": "stream",
     "text": [
      "\r",
      " 42%|████▏     | 423/1000 [00:54<01:14,  7.77it/s]"
     ]
    },
    {
     "name": "stdout",
     "output_type": "stream",
     "text": [
      "tensor([nan, nan, nan,  ..., nan, nan, nan], device='cuda:0')\n",
      "              precision    recall  f1-score   support\n",
      "\n",
      "         0.0       0.78      1.00      0.87     15543\n",
      "         1.0       0.00      0.00      0.00      4457\n",
      "\n",
      "    accuracy                           0.78     20000\n",
      "   macro avg       0.39      0.50      0.44     20000\n",
      "weighted avg       0.60      0.78      0.68     20000\n",
      "\n",
      "tensor([nan, nan, nan,  ..., nan, nan, nan], device='cuda:0')\n"
     ]
    },
    {
     "name": "stderr",
     "output_type": "stream",
     "text": [
      "\r",
      " 42%|████▏     | 424/1000 [00:54<01:25,  6.71it/s]"
     ]
    },
    {
     "name": "stdout",
     "output_type": "stream",
     "text": [
      "              precision    recall  f1-score   support\n",
      "\n",
      "         0.0       0.78      1.00      0.87     15543\n",
      "         1.0       0.00      0.00      0.00      4457\n",
      "\n",
      "    accuracy                           0.78     20000\n",
      "   macro avg       0.39      0.50      0.44     20000\n",
      "weighted avg       0.60      0.78      0.68     20000\n",
      "\n",
      "tensor([nan, nan, nan,  ..., nan, nan, nan], device='cuda:0')\n",
      "              precision    recall  f1-score   support\n",
      "\n",
      "         0.0       0.78      1.00      0.87     15543\n",
      "         1.0       0.00      0.00      0.00      4457\n",
      "\n",
      "    accuracy                           0.78     20000\n",
      "   macro avg       0.39      0.50      0.44     20000\n",
      "weighted avg       0.60      0.78      0.68     20000\n",
      "\n",
      "tensor([nan, nan, nan,  ..., nan, nan, nan], device='cuda:0')\n"
     ]
    },
    {
     "name": "stderr",
     "output_type": "stream",
     "text": [
      "\r",
      " 43%|████▎     | 426/1000 [00:54<01:16,  7.47it/s]"
     ]
    },
    {
     "name": "stdout",
     "output_type": "stream",
     "text": [
      "              precision    recall  f1-score   support\n",
      "\n",
      "         0.0       0.78      1.00      0.87     15543\n",
      "         1.0       0.00      0.00      0.00      4457\n",
      "\n",
      "    accuracy                           0.78     20000\n",
      "   macro avg       0.39      0.50      0.44     20000\n",
      "weighted avg       0.60      0.78      0.68     20000\n",
      "\n",
      "tensor([nan, nan, nan,  ..., nan, nan, nan], device='cuda:0')\n",
      "              precision    recall  f1-score   support\n",
      "\n",
      "         0.0       0.78      1.00      0.87     15543\n",
      "         1.0       0.00      0.00      0.00      4457\n",
      "\n",
      "    accuracy                           0.78     20000\n",
      "   macro avg       0.39      0.50      0.44     20000\n",
      "weighted avg       0.60      0.78      0.68     20000\n",
      "\n",
      "tensor([nan, nan, nan,  ..., nan, nan, nan], device='cuda:0')\n"
     ]
    },
    {
     "name": "stderr",
     "output_type": "stream",
     "text": [
      " 43%|████▎     | 429/1000 [00:55<01:12,  7.84it/s]"
     ]
    },
    {
     "name": "stdout",
     "output_type": "stream",
     "text": [
      "              precision    recall  f1-score   support\n",
      "\n",
      "         0.0       0.78      1.00      0.87     15543\n",
      "         1.0       0.00      0.00      0.00      4457\n",
      "\n",
      "    accuracy                           0.78     20000\n",
      "   macro avg       0.39      0.50      0.44     20000\n",
      "weighted avg       0.60      0.78      0.68     20000\n",
      "\n",
      "tensor([nan, nan, nan,  ..., nan, nan, nan], device='cuda:0')\n",
      "              precision    recall  f1-score   support\n",
      "\n",
      "         0.0       0.78      1.00      0.87     15543\n",
      "         1.0       0.00      0.00      0.00      4457\n",
      "\n",
      "    accuracy                           0.78     20000\n",
      "   macro avg       0.39      0.50      0.44     20000\n",
      "weighted avg       0.60      0.78      0.68     20000\n",
      "\n"
     ]
    },
    {
     "name": "stderr",
     "output_type": "stream",
     "text": [
      "\r",
      " 43%|████▎     | 430/1000 [00:55<01:18,  7.29it/s]"
     ]
    },
    {
     "name": "stdout",
     "output_type": "stream",
     "text": [
      "tensor([nan, nan, nan,  ..., nan, nan, nan], device='cuda:0')\n",
      "              precision    recall  f1-score   support\n",
      "\n",
      "         0.0       0.78      1.00      0.87     15543\n",
      "         1.0       0.00      0.00      0.00      4457\n",
      "\n",
      "    accuracy                           0.78     20000\n",
      "   macro avg       0.39      0.50      0.44     20000\n",
      "weighted avg       0.60      0.78      0.68     20000\n",
      "\n",
      "tensor([nan, nan, nan,  ..., nan, nan, nan], device='cuda:0')\n",
      "              precision    recall  f1-score   support\n",
      "\n",
      "         0.0       0.78      1.00      0.87     15543\n",
      "         1.0       0.00      0.00      0.00      4457\n",
      "\n",
      "    accuracy                           0.78     20000\n",
      "   macro avg       0.39      0.50      0.44     20000\n",
      "weighted avg       0.60      0.78      0.68     20000\n",
      "\n"
     ]
    },
    {
     "name": "stderr",
     "output_type": "stream",
     "text": [
      " 43%|████▎     | 433/1000 [00:55<01:10,  8.00it/s]"
     ]
    },
    {
     "name": "stdout",
     "output_type": "stream",
     "text": [
      "tensor([nan, nan, nan,  ..., nan, nan, nan], device='cuda:0')\n",
      "              precision    recall  f1-score   support\n",
      "\n",
      "         0.0       0.78      1.00      0.87     15543\n",
      "         1.0       0.00      0.00      0.00      4457\n",
      "\n",
      "    accuracy                           0.78     20000\n",
      "   macro avg       0.39      0.50      0.44     20000\n",
      "weighted avg       0.60      0.78      0.68     20000\n",
      "\n",
      "tensor([nan, nan, nan,  ..., nan, nan, nan], device='cuda:0')\n",
      "              precision    recall  f1-score   support\n",
      "\n",
      "         0.0       0.78      1.00      0.87     15543\n",
      "         1.0       0.00      0.00      0.00      4457\n",
      "\n",
      "    accuracy                           0.78     20000\n",
      "   macro avg       0.39      0.50      0.44     20000\n",
      "weighted avg       0.60      0.78      0.68     20000\n",
      "\n"
     ]
    },
    {
     "name": "stderr",
     "output_type": "stream",
     "text": [
      " 44%|████▎     | 435/1000 [00:56<01:06,  8.46it/s]"
     ]
    },
    {
     "name": "stdout",
     "output_type": "stream",
     "text": [
      "tensor([nan, nan, nan,  ..., nan, nan, nan], device='cuda:0')\n",
      "              precision    recall  f1-score   support\n",
      "\n",
      "         0.0       0.78      1.00      0.87     15543\n",
      "         1.0       0.00      0.00      0.00      4457\n",
      "\n",
      "    accuracy                           0.78     20000\n",
      "   macro avg       0.39      0.50      0.44     20000\n",
      "weighted avg       0.60      0.78      0.68     20000\n",
      "\n",
      "tensor([nan, nan, nan,  ..., nan, nan, nan], device='cuda:0')\n",
      "              precision    recall  f1-score   support\n",
      "\n",
      "         0.0       0.78      1.00      0.87     15543\n",
      "         1.0       0.00      0.00      0.00      4457\n",
      "\n",
      "    accuracy                           0.78     20000\n",
      "   macro avg       0.39      0.50      0.44     20000\n",
      "weighted avg       0.60      0.78      0.68     20000\n",
      "\n"
     ]
    },
    {
     "name": "stderr",
     "output_type": "stream",
     "text": [
      "\r",
      " 44%|████▎     | 436/1000 [00:56<01:12,  7.81it/s]"
     ]
    },
    {
     "name": "stdout",
     "output_type": "stream",
     "text": [
      "tensor([nan, nan, nan,  ..., nan, nan, nan], device='cuda:0')\n",
      "              precision    recall  f1-score   support\n",
      "\n",
      "         0.0       0.78      1.00      0.87     15543\n",
      "         1.0       0.00      0.00      0.00      4457\n",
      "\n",
      "    accuracy                           0.78     20000\n",
      "   macro avg       0.39      0.50      0.44     20000\n",
      "weighted avg       0.60      0.78      0.68     20000\n",
      "\n",
      "tensor([nan, nan, nan,  ..., nan, nan, nan], device='cuda:0')\n",
      "              precision    recall  f1-score   support\n",
      "\n",
      "         0.0       0.78      1.00      0.87     15543\n",
      "         1.0       0.00      0.00      0.00      4457\n",
      "\n",
      "    accuracy                           0.78     20000\n",
      "   macro avg       0.39      0.50      0.44     20000\n",
      "weighted avg       0.60      0.78      0.68     20000\n",
      "\n"
     ]
    },
    {
     "name": "stderr",
     "output_type": "stream",
     "text": [
      " 44%|████▍     | 438/1000 [00:56<01:17,  7.22it/s]"
     ]
    },
    {
     "name": "stdout",
     "output_type": "stream",
     "text": [
      "tensor([nan, nan, nan,  ..., nan, nan, nan], device='cuda:0')\n",
      "              precision    recall  f1-score   support\n",
      "\n",
      "         0.0       0.78      1.00      0.87     15543\n",
      "         1.0       0.00      0.00      0.00      4457\n",
      "\n",
      "    accuracy                           0.78     20000\n",
      "   macro avg       0.39      0.50      0.44     20000\n",
      "weighted avg       0.60      0.78      0.68     20000\n",
      "\n",
      "tensor([nan, nan, nan,  ..., nan, nan, nan], device='cuda:0')\n"
     ]
    },
    {
     "name": "stderr",
     "output_type": "stream",
     "text": [
      " 44%|████▍     | 440/1000 [00:56<01:18,  7.13it/s]"
     ]
    },
    {
     "name": "stdout",
     "output_type": "stream",
     "text": [
      "              precision    recall  f1-score   support\n",
      "\n",
      "         0.0       0.78      1.00      0.87     15543\n",
      "         1.0       0.00      0.00      0.00      4457\n",
      "\n",
      "    accuracy                           0.78     20000\n",
      "   macro avg       0.39      0.50      0.44     20000\n",
      "weighted avg       0.60      0.78      0.68     20000\n",
      "\n",
      "tensor([nan, nan, nan,  ..., nan, nan, nan], device='cuda:0')\n",
      "              precision    recall  f1-score   support\n",
      "\n",
      "         0.0       0.78      1.00      0.87     15543\n",
      "         1.0       0.00      0.00      0.00      4457\n",
      "\n",
      "    accuracy                           0.78     20000\n",
      "   macro avg       0.39      0.50      0.44     20000\n",
      "weighted avg       0.60      0.78      0.68     20000\n",
      "\n"
     ]
    },
    {
     "name": "stderr",
     "output_type": "stream",
     "text": [
      "\r",
      " 44%|████▍     | 441/1000 [00:56<01:26,  6.44it/s]"
     ]
    },
    {
     "name": "stdout",
     "output_type": "stream",
     "text": [
      "tensor([nan, nan, nan,  ..., nan, nan, nan], device='cuda:0')\n",
      "              precision    recall  f1-score   support\n",
      "\n",
      "         0.0       0.78      1.00      0.87     15543\n",
      "         1.0       0.00      0.00      0.00      4457\n",
      "\n",
      "    accuracy                           0.78     20000\n",
      "   macro avg       0.39      0.50      0.44     20000\n",
      "weighted avg       0.60      0.78      0.68     20000\n",
      "\n",
      "tensor([nan, nan, nan,  ..., nan, nan, nan], device='cuda:0')\n"
     ]
    },
    {
     "name": "stderr",
     "output_type": "stream",
     "text": [
      "\r",
      " 44%|████▍     | 442/1000 [00:57<01:28,  6.27it/s]"
     ]
    },
    {
     "name": "stdout",
     "output_type": "stream",
     "text": [
      "              precision    recall  f1-score   support\n",
      "\n",
      "         0.0       0.78      1.00      0.87     15543\n",
      "         1.0       0.00      0.00      0.00      4457\n",
      "\n",
      "    accuracy                           0.78     20000\n",
      "   macro avg       0.39      0.50      0.44     20000\n",
      "weighted avg       0.60      0.78      0.68     20000\n",
      "\n",
      "tensor([nan, nan, nan,  ..., nan, nan, nan], device='cuda:0')\n",
      "              precision    recall  f1-score   support\n",
      "\n",
      "         0.0       0.78      1.00      0.87     15543\n",
      "         1.0       0.00      0.00      0.00      4457\n",
      "\n",
      "    accuracy                           0.78     20000\n",
      "   macro avg       0.39      0.50      0.44     20000\n",
      "weighted avg       0.60      0.78      0.68     20000\n",
      "\n"
     ]
    },
    {
     "name": "stderr",
     "output_type": "stream",
     "text": [
      " 44%|████▍     | 444/1000 [00:57<01:25,  6.51it/s]"
     ]
    },
    {
     "name": "stdout",
     "output_type": "stream",
     "text": [
      "tensor([nan, nan, nan,  ..., nan, nan, nan], device='cuda:0')\n",
      "              precision    recall  f1-score   support\n",
      "\n",
      "         0.0       0.78      1.00      0.87     15543\n",
      "         1.0       0.00      0.00      0.00      4457\n",
      "\n",
      "    accuracy                           0.78     20000\n",
      "   macro avg       0.39      0.50      0.44     20000\n",
      "weighted avg       0.60      0.78      0.68     20000\n",
      "\n",
      "tensor([nan, nan, nan,  ..., nan, nan, nan], device='cuda:0')\n",
      "              precision    recall  f1-score   support\n",
      "\n",
      "         0.0       0.78      1.00      0.87     15543\n",
      "         1.0       0.00      0.00      0.00      4457\n",
      "\n",
      "    accuracy                           0.78     20000\n",
      "   macro avg       0.39      0.50      0.44     20000\n",
      "weighted avg       0.60      0.78      0.68     20000\n",
      "\n"
     ]
    },
    {
     "name": "stderr",
     "output_type": "stream",
     "text": [
      " 45%|████▍     | 447/1000 [00:57<01:17,  7.12it/s]"
     ]
    },
    {
     "name": "stdout",
     "output_type": "stream",
     "text": [
      "tensor([nan, nan, nan,  ..., nan, nan, nan], device='cuda:0')\n",
      "              precision    recall  f1-score   support\n",
      "\n",
      "         0.0       0.78      1.00      0.87     15543\n",
      "         1.0       0.00      0.00      0.00      4457\n",
      "\n",
      "    accuracy                           0.78     20000\n",
      "   macro avg       0.39      0.50      0.44     20000\n",
      "weighted avg       0.60      0.78      0.68     20000\n",
      "\n",
      "tensor([nan, nan, nan,  ..., nan, nan, nan], device='cuda:0')\n",
      "              precision    recall  f1-score   support\n",
      "\n",
      "         0.0       0.78      1.00      0.87     15543\n",
      "         1.0       0.00      0.00      0.00      4457\n",
      "\n",
      "    accuracy                           0.78     20000\n",
      "   macro avg       0.39      0.50      0.44     20000\n",
      "weighted avg       0.60      0.78      0.68     20000\n",
      "\n"
     ]
    },
    {
     "name": "stderr",
     "output_type": "stream",
     "text": [
      " 45%|████▍     | 449/1000 [00:58<01:11,  7.69it/s]"
     ]
    },
    {
     "name": "stdout",
     "output_type": "stream",
     "text": [
      "tensor([nan, nan, nan,  ..., nan, nan, nan], device='cuda:0')\n",
      "              precision    recall  f1-score   support\n",
      "\n",
      "         0.0       0.78      1.00      0.87     15543\n",
      "         1.0       0.00      0.00      0.00      4457\n",
      "\n",
      "    accuracy                           0.78     20000\n",
      "   macro avg       0.39      0.50      0.44     20000\n",
      "weighted avg       0.60      0.78      0.68     20000\n",
      "\n",
      "tensor([nan, nan, nan,  ..., nan, nan, nan], device='cuda:0')\n",
      "              precision    recall  f1-score   support\n",
      "\n",
      "         0.0       0.78      1.00      0.87     15543\n",
      "         1.0       0.00      0.00      0.00      4457\n",
      "\n",
      "    accuracy                           0.78     20000\n",
      "   macro avg       0.39      0.50      0.44     20000\n",
      "weighted avg       0.60      0.78      0.68     20000\n",
      "\n"
     ]
    },
    {
     "name": "stderr",
     "output_type": "stream",
     "text": [
      "\r",
      " 45%|████▌     | 451/1000 [00:58<01:06,  8.26it/s]"
     ]
    },
    {
     "name": "stdout",
     "output_type": "stream",
     "text": [
      "tensor([nan, nan, nan,  ..., nan, nan, nan], device='cuda:0')\n",
      "              precision    recall  f1-score   support\n",
      "\n",
      "         0.0       0.78      1.00      0.87     15543\n",
      "         1.0       0.00      0.00      0.00      4457\n",
      "\n",
      "    accuracy                           0.78     20000\n",
      "   macro avg       0.39      0.50      0.44     20000\n",
      "weighted avg       0.60      0.78      0.68     20000\n",
      "\n",
      "tensor([nan, nan, nan,  ..., nan, nan, nan], device='cuda:0')\n",
      "              precision    recall  f1-score   support\n",
      "\n",
      "         0.0       0.78      1.00      0.87     15543\n",
      "         1.0       0.00      0.00      0.00      4457\n",
      "\n",
      "    accuracy                           0.78     20000\n",
      "   macro avg       0.39      0.50      0.44     20000\n",
      "weighted avg       0.60      0.78      0.68     20000\n",
      "\n"
     ]
    },
    {
     "name": "stderr",
     "output_type": "stream",
     "text": [
      "\r",
      " 45%|████▌     | 452/1000 [00:58<01:16,  7.13it/s]"
     ]
    },
    {
     "name": "stdout",
     "output_type": "stream",
     "text": [
      "tensor([nan, nan, nan,  ..., nan, nan, nan], device='cuda:0')\n",
      "              precision    recall  f1-score   support\n",
      "\n",
      "         0.0       0.78      1.00      0.87     15543\n",
      "         1.0       0.00      0.00      0.00      4457\n",
      "\n",
      "    accuracy                           0.78     20000\n",
      "   macro avg       0.39      0.50      0.44     20000\n",
      "weighted avg       0.60      0.78      0.68     20000\n",
      "\n",
      "tensor([nan, nan, nan,  ..., nan, nan, nan], device='cuda:0')"
     ]
    },
    {
     "name": "stderr",
     "output_type": "stream",
     "text": [
      " 45%|████▌     | 454/1000 [00:58<01:13,  7.46it/s]"
     ]
    },
    {
     "name": "stdout",
     "output_type": "stream",
     "text": [
      "\n",
      "              precision    recall  f1-score   support\n",
      "\n",
      "         0.0       0.78      1.00      0.87     15543\n",
      "         1.0       0.00      0.00      0.00      4457\n",
      "\n",
      "    accuracy                           0.78     20000\n",
      "   macro avg       0.39      0.50      0.44     20000\n",
      "weighted avg       0.60      0.78      0.68     20000\n",
      "\n",
      "tensor([nan, nan, nan,  ..., nan, nan, nan], device='cuda:0')\n",
      "              precision    recall  f1-score   support\n",
      "\n",
      "         0.0       0.78      1.00      0.87     15543\n",
      "         1.0       0.00      0.00      0.00      4457\n",
      "\n",
      "    accuracy                           0.78     20000\n",
      "   macro avg       0.39      0.50      0.44     20000\n",
      "weighted avg       0.60      0.78      0.68     20000\n",
      "\n"
     ]
    },
    {
     "name": "stderr",
     "output_type": "stream",
     "text": [
      "\r",
      " 46%|████▌     | 455/1000 [00:58<01:07,  8.03it/s]"
     ]
    },
    {
     "name": "stdout",
     "output_type": "stream",
     "text": [
      "tensor([nan, nan, nan,  ..., nan, nan, nan], device='cuda:0')\n",
      "              precision    recall  f1-score   support\n",
      "\n",
      "         0.0       0.78      1.00      0.87     15543\n",
      "         1.0       0.00      0.00      0.00      4457\n",
      "\n",
      "    accuracy                           0.78     20000\n",
      "   macro avg       0.39      0.50      0.44     20000\n",
      "weighted avg       0.60      0.78      0.68     20000\n",
      "\n",
      "tensor([nan, nan, nan,  ..., nan, nan, nan], device='cuda:0')\n",
      "              precision    recall  f1-score   support\n",
      "\n",
      "         0.0       0.78      1.00      0.87     15543\n",
      "         1.0       0.00      0.00      0.00      4457\n",
      "\n",
      "    accuracy                           0.78     20000\n",
      "   macro avg       0.39      0.50      0.44     20000\n",
      "weighted avg       0.60      0.78      0.68     20000\n",
      "\n"
     ]
    },
    {
     "name": "stderr",
     "output_type": "stream",
     "text": [
      " 46%|████▌     | 458/1000 [00:59<01:04,  8.45it/s]"
     ]
    },
    {
     "name": "stdout",
     "output_type": "stream",
     "text": [
      "tensor([nan, nan, nan,  ..., nan, nan, nan], device='cuda:0')\n",
      "              precision    recall  f1-score   support\n",
      "\n",
      "         0.0       0.78      1.00      0.87     15543\n",
      "         1.0       0.00      0.00      0.00      4457\n",
      "\n",
      "    accuracy                           0.78     20000\n",
      "   macro avg       0.39      0.50      0.44     20000\n",
      "weighted avg       0.60      0.78      0.68     20000\n",
      "\n",
      "tensor([nan, nan, nan,  ..., nan, nan, nan], device='cuda:0')\n",
      "              precision    recall  f1-score   support\n",
      "\n",
      "         0.0       0.78      1.00      0.87     15543\n",
      "         1.0       0.00      0.00      0.00      4457\n",
      "\n",
      "    accuracy                           0.78     20000\n",
      "   macro avg       0.39      0.50      0.44     20000\n",
      "weighted avg       0.60      0.78      0.68     20000\n",
      "\n",
      "tensor([nan, nan, nan,  ..., nan, nan, nan], device='cuda:0')\n"
     ]
    },
    {
     "name": "stderr",
     "output_type": "stream",
     "text": [
      "\r",
      " 46%|████▌     | 459/1000 [00:59<01:06,  8.08it/s]"
     ]
    },
    {
     "name": "stdout",
     "output_type": "stream",
     "text": [
      "              precision    recall  f1-score   support\n",
      "\n",
      "         0.0       0.78      1.00      0.87     15543\n",
      "         1.0       0.00      0.00      0.00      4457\n",
      "\n",
      "    accuracy                           0.78     20000\n",
      "   macro avg       0.39      0.50      0.44     20000\n",
      "weighted avg       0.60      0.78      0.68     20000\n",
      "\n",
      "tensor([nan, nan, nan,  ..., nan, nan, nan], device='cuda:0')\n",
      "              precision    recall  f1-score   support\n",
      "\n",
      "         0.0       0.78      1.00      0.87     15543\n",
      "         1.0       0.00      0.00      0.00      4457\n",
      "\n",
      "    accuracy                           0.78     20000\n",
      "   macro avg       0.39      0.50      0.44     20000\n",
      "weighted avg       0.60      0.78      0.68     20000\n",
      "\n",
      "tensor([nan, nan, nan,  ..., nan, nan, nan], device='cuda:0')\n"
     ]
    },
    {
     "name": "stderr",
     "output_type": "stream",
     "text": [
      " 46%|████▌     | 462/1000 [00:59<01:08,  7.84it/s]"
     ]
    },
    {
     "name": "stdout",
     "output_type": "stream",
     "text": [
      "              precision    recall  f1-score   support\n",
      "\n",
      "         0.0       0.78      1.00      0.87     15543\n",
      "         1.0       0.00      0.00      0.00      4457\n",
      "\n",
      "    accuracy                           0.78     20000\n",
      "   macro avg       0.39      0.50      0.44     20000\n",
      "weighted avg       0.60      0.78      0.68     20000\n",
      "\n",
      "tensor([nan, nan, nan,  ..., nan, nan, nan], device='cuda:0')\n",
      "              precision    recall  f1-score   support\n",
      "\n",
      "         0.0       0.78      1.00      0.87     15543\n",
      "         1.0       0.00      0.00      0.00      4457\n",
      "\n",
      "    accuracy                           0.78     20000\n",
      "   macro avg       0.39      0.50      0.44     20000\n",
      "weighted avg       0.60      0.78      0.68     20000\n",
      "\n"
     ]
    },
    {
     "name": "stderr",
     "output_type": "stream",
     "text": [
      "\r",
      " 46%|████▋     | 463/1000 [00:59<01:05,  8.23it/s]"
     ]
    },
    {
     "name": "stdout",
     "output_type": "stream",
     "text": [
      "tensor([nan, nan, nan,  ..., nan, nan, nan], device='cuda:0')\n",
      "              precision    recall  f1-score   support\n",
      "\n",
      "         0.0       0.78      1.00      0.87     15543\n",
      "         1.0       0.00      0.00      0.00      4457\n",
      "\n",
      "    accuracy                           0.78     20000\n",
      "   macro avg       0.39      0.50      0.44     20000\n",
      "weighted avg       0.60      0.78      0.68     20000\n",
      "\n",
      "tensor([nan, nan, nan,  ..., nan, nan, nan], device='cuda:0')\n",
      "              precision    recall  f1-score   support\n",
      "\n",
      "         0.0       0.78      1.00      0.87     15543\n",
      "         1.0       0.00      0.00      0.00      4457\n",
      "\n",
      "    accuracy                           0.78     20000\n",
      "   macro avg       0.39      0.50      0.44     20000\n",
      "weighted avg       0.60      0.78      0.68     20000\n",
      "\n",
      "tensor([nan, nan, nan,  ..., nan, nan, nan], device='cuda:0')\n"
     ]
    },
    {
     "name": "stderr",
     "output_type": "stream",
     "text": [
      " 47%|████▋     | 467/1000 [01:00<00:54,  9.80it/s]"
     ]
    },
    {
     "name": "stdout",
     "output_type": "stream",
     "text": [
      "              precision    recall  f1-score   support\n",
      "\n",
      "         0.0       0.78      1.00      0.87     15543\n",
      "         1.0       0.00      0.00      0.00      4457\n",
      "\n",
      "    accuracy                           0.78     20000\n",
      "   macro avg       0.39      0.50      0.44     20000\n",
      "weighted avg       0.60      0.78      0.68     20000\n",
      "\n",
      "tensor([nan, nan, nan,  ..., nan, nan, nan], device='cuda:0')\n",
      "              precision    recall  f1-score   support\n",
      "\n",
      "         0.0       0.78      1.00      0.87     15543\n",
      "         1.0       0.00      0.00      0.00      4457\n",
      "\n",
      "    accuracy                           0.78     20000\n",
      "   macro avg       0.39      0.50      0.44     20000\n",
      "weighted avg       0.60      0.78      0.68     20000\n",
      "\n",
      "tensor([nan, nan, nan,  ..., nan, nan, nan], device='cuda:0')\n",
      "              precision    recall  f1-score   support\n",
      "\n",
      "         0.0       0.78      1.00      0.87     15543\n",
      "         1.0       0.00      0.00      0.00      4457\n",
      "\n",
      "    accuracy                           0.78     20000\n",
      "   macro avg       0.39      0.50      0.44     20000\n",
      "weighted avg       0.60      0.78      0.68     20000\n",
      "\n"
     ]
    },
    {
     "name": "stderr",
     "output_type": "stream",
     "text": [
      "\r",
      " 47%|████▋     | 469/1000 [01:00<00:51, 10.29it/s]"
     ]
    },
    {
     "name": "stdout",
     "output_type": "stream",
     "text": [
      "tensor([nan, nan, nan,  ..., nan, nan, nan], device='cuda:0')\n",
      "              precision    recall  f1-score   support\n",
      "\n",
      "         0.0       0.78      1.00      0.87     15543\n",
      "         1.0       0.00      0.00      0.00      4457\n",
      "\n",
      "    accuracy                           0.78     20000\n",
      "   macro avg       0.39      0.50      0.44     20000\n",
      "weighted avg       0.60      0.78      0.68     20000\n",
      "\n",
      "tensor([nan, nan, nan,  ..., nan, nan, nan], device='cuda:0')\n",
      "              precision    recall  f1-score   support\n",
      "\n",
      "         0.0       0.78      1.00      0.87     15543\n",
      "         1.0       0.00      0.00      0.00      4457\n",
      "\n",
      "    accuracy                           0.78     20000\n",
      "   macro avg       0.39      0.50      0.44     20000\n",
      "weighted avg       0.60      0.78      0.68     20000\n",
      "\n",
      "tensor([nan, nan, nan,  ..., nan, nan, nan], device='cuda:0')\n"
     ]
    },
    {
     "name": "stderr",
     "output_type": "stream",
     "text": [
      "\r",
      " 47%|████▋     | 471/1000 [01:00<00:50, 10.44it/s]"
     ]
    },
    {
     "name": "stdout",
     "output_type": "stream",
     "text": [
      "              precision    recall  f1-score   support\n",
      "\n",
      "         0.0       0.78      1.00      0.87     15543\n",
      "         1.0       0.00      0.00      0.00      4457\n",
      "\n",
      "    accuracy                           0.78     20000\n",
      "   macro avg       0.39      0.50      0.44     20000\n",
      "weighted avg       0.60      0.78      0.68     20000\n",
      "\n",
      "tensor([nan, nan, nan,  ..., nan, nan, nan], device='cuda:0')\n",
      "              precision    recall  f1-score   support\n",
      "\n",
      "         0.0       0.78      1.00      0.87     15543\n",
      "         1.0       0.00      0.00      0.00      4457\n",
      "\n",
      "    accuracy                           0.78     20000\n",
      "   macro avg       0.39      0.50      0.44     20000\n",
      "weighted avg       0.60      0.78      0.68     20000\n",
      "\n",
      "tensor([nan, nan, nan,  ..., nan, nan, nan], device='cuda:0')\n"
     ]
    },
    {
     "name": "stderr",
     "output_type": "stream",
     "text": [
      "\r",
      " 47%|████▋     | 473/1000 [01:00<00:55,  9.41it/s]"
     ]
    },
    {
     "name": "stdout",
     "output_type": "stream",
     "text": [
      "              precision    recall  f1-score   support\n",
      "\n",
      "         0.0       0.78      1.00      0.87     15543\n",
      "         1.0       0.00      0.00      0.00      4457\n",
      "\n",
      "    accuracy                           0.78     20000\n",
      "   macro avg       0.39      0.50      0.44     20000\n",
      "weighted avg       0.60      0.78      0.68     20000\n",
      "\n",
      "tensor([nan, nan, nan,  ..., nan, nan, nan], device='cuda:0')\n",
      "              precision    recall  f1-score   support\n",
      "\n",
      "         0.0       0.78      1.00      0.87     15543\n",
      "         1.0       0.00      0.00      0.00      4457\n",
      "\n",
      "    accuracy                           0.78     20000\n",
      "   macro avg       0.39      0.50      0.44     20000\n",
      "weighted avg       0.60      0.78      0.68     20000\n",
      "\n",
      "tensor([nan, nan, nan,  ..., nan, nan, nan], device='cuda:0')\n"
     ]
    },
    {
     "name": "stderr",
     "output_type": "stream",
     "text": [
      "\r",
      " 47%|████▋     | 474/1000 [01:00<00:55,  9.49it/s]"
     ]
    },
    {
     "name": "stdout",
     "output_type": "stream",
     "text": [
      "              precision    recall  f1-score   support\n",
      "\n",
      "         0.0       0.78      1.00      0.87     15543\n",
      "         1.0       0.00      0.00      0.00      4457\n",
      "\n",
      "    accuracy                           0.78     20000\n",
      "   macro avg       0.39      0.50      0.44     20000\n",
      "weighted avg       0.60      0.78      0.68     20000\n",
      "\n",
      "tensor([nan, nan, nan,  ..., nan, nan, nan], device='cuda:0')\n",
      "              precision    recall  f1-score   support\n",
      "\n",
      "         0.0       0.78      1.00      0.87     15543\n",
      "         1.0       0.00      0.00      0.00      4457\n",
      "\n",
      "    accuracy                           0.78     20000\n",
      "   macro avg       0.39      0.50      0.44     20000\n",
      "weighted avg       0.60      0.78      0.68     20000\n",
      "\n",
      "tensor([nan, nan, nan,  ..., nan, nan, nan], device='cuda:0')\n",
      "              precision    recall  f1-score   support\n",
      "\n",
      "         0.0       0.78      1.00      0.87     15543\n",
      "         1.0       0.00      0.00      0.00      4457\n",
      "\n",
      "    accuracy                           0.78     20000\n",
      "   macro avg       0.39      0.50      0.44     20000\n",
      "weighted avg       0.60      0.78      0.68     20000\n",
      "\n"
     ]
    },
    {
     "name": "stderr",
     "output_type": "stream",
     "text": [
      " 48%|████▊     | 477/1000 [01:01<00:53,  9.71it/s]"
     ]
    },
    {
     "name": "stdout",
     "output_type": "stream",
     "text": [
      "tensor([nan, nan, nan,  ..., nan, nan, nan], device='cuda:0')\n",
      "              precision    recall  f1-score   support\n",
      "\n",
      "         0.0       0.78      1.00      0.87     15543\n",
      "         1.0       0.00      0.00      0.00      4457\n",
      "\n",
      "    accuracy                           0.78     20000\n",
      "   macro avg       0.39      0.50      0.44     20000\n",
      "weighted avg       0.60      0.78      0.68     20000\n",
      "\n",
      "tensor([nan, nan, nan,  ..., nan, nan, nan], device='cuda:0')\n",
      "              precision    recall  f1-score   support\n",
      "\n",
      "         0.0       0.78      1.00      0.87     15543\n",
      "         1.0       0.00      0.00      0.00      4457\n",
      "\n",
      "    accuracy                           0.78     20000\n",
      "   macro avg       0.39      0.50      0.44     20000\n",
      "weighted avg       0.60      0.78      0.68     20000\n"
     ]
    },
    {
     "name": "stderr",
     "output_type": "stream",
     "text": [
      " 48%|████▊     | 479/1000 [01:01<00:59,  8.71it/s]"
     ]
    },
    {
     "name": "stdout",
     "output_type": "stream",
     "text": [
      "\n",
      "tensor([nan, nan, nan,  ..., nan, nan, nan], device='cuda:0')\n",
      "              precision    recall  f1-score   support\n",
      "\n",
      "         0.0       0.78      1.00      0.87     15543\n",
      "         1.0       0.00      0.00      0.00      4457\n",
      "\n",
      "    accuracy                           0.78     20000\n",
      "   macro avg       0.39      0.50      0.44     20000\n",
      "weighted avg       0.60      0.78      0.68     20000\n",
      "\n",
      "tensor([nan, nan, nan,  ..., nan, nan, nan], device='cuda:0')\n"
     ]
    },
    {
     "name": "stderr",
     "output_type": "stream",
     "text": [
      "\r",
      " 48%|████▊     | 480/1000 [01:01<00:59,  8.80it/s]"
     ]
    },
    {
     "name": "stdout",
     "output_type": "stream",
     "text": [
      "              precision    recall  f1-score   support\n",
      "\n",
      "         0.0       0.78      1.00      0.87     15543\n",
      "         1.0       0.00      0.00      0.00      4457\n",
      "\n",
      "    accuracy                           0.78     20000\n",
      "   macro avg       0.39      0.50      0.44     20000\n",
      "weighted avg       0.60      0.78      0.68     20000\n",
      "\n",
      "tensor([nan, nan, nan,  ..., nan, nan, nan], device='cuda:0')\n",
      "              precision    recall  f1-score   support\n",
      "\n",
      "         0.0       0.78      1.00      0.87     15543\n",
      "         1.0       0.00      0.00      0.00      4457\n",
      "\n",
      "    accuracy                           0.78     20000\n",
      "   macro avg       0.39      0.50      0.44     20000\n",
      "weighted avg       0.60      0.78      0.68     20000\n",
      "\n",
      "tensor([nan, nan, nan,  ..., nan, nan, nan], device='cuda:0')\n"
     ]
    },
    {
     "name": "stderr",
     "output_type": "stream",
     "text": [
      " 48%|████▊     | 483/1000 [01:01<00:56,  9.08it/s]"
     ]
    },
    {
     "name": "stdout",
     "output_type": "stream",
     "text": [
      "              precision    recall  f1-score   support\n",
      "\n",
      "         0.0       0.78      1.00      0.87     15543\n",
      "         1.0       0.00      0.00      0.00      4457\n",
      "\n",
      "    accuracy                           0.78     20000\n",
      "   macro avg       0.39      0.50      0.44     20000\n",
      "weighted avg       0.60      0.78      0.68     20000\n",
      "\n",
      "tensor([nan, nan, nan,  ..., nan, nan, nan], device='cuda:0')\n",
      "              precision    recall  f1-score   support\n",
      "\n",
      "         0.0       0.78      1.00      0.87     15543\n",
      "         1.0       0.00      0.00      0.00      4457\n",
      "\n",
      "    accuracy                           0.78     20000\n",
      "   macro avg       0.39      0.50      0.44     20000\n",
      "weighted avg       0.60      0.78      0.68     20000\n",
      "\n",
      "tensor([nan, nan, nan,  ..., nan, nan, nan], device='cuda:0')\n"
     ]
    },
    {
     "name": "stderr",
     "output_type": "stream",
     "text": [
      "\r",
      " 48%|████▊     | 484/1000 [01:02<01:00,  8.55it/s]"
     ]
    },
    {
     "name": "stdout",
     "output_type": "stream",
     "text": [
      "              precision    recall  f1-score   support\n",
      "\n",
      "         0.0       0.78      1.00      0.87     15543\n",
      "         1.0       0.00      0.00      0.00      4457\n",
      "\n",
      "    accuracy                           0.78     20000\n",
      "   macro avg       0.39      0.50      0.44     20000\n",
      "weighted avg       0.60      0.78      0.68     20000\n",
      "\n",
      "tensor([nan, nan, nan,  ..., nan, nan, nan], device='cuda:0')\n",
      "              precision    recall  f1-score   support\n",
      "\n",
      "         0.0       0.78      1.00      0.87     15543\n",
      "         1.0       0.00      0.00      0.00      4457\n",
      "\n",
      "    accuracy                           0.78     20000\n",
      "   macro avg       0.39      0.50      0.44     20000\n",
      "weighted avg       0.60      0.78      0.68     20000\n",
      "\n"
     ]
    },
    {
     "name": "stderr",
     "output_type": "stream",
     "text": [
      " 49%|████▊     | 487/1000 [01:02<01:03,  8.12it/s]"
     ]
    },
    {
     "name": "stdout",
     "output_type": "stream",
     "text": [
      "tensor([nan, nan, nan,  ..., nan, nan, nan], device='cuda:0')\n",
      "              precision    recall  f1-score   support\n",
      "\n",
      "         0.0       0.78      1.00      0.87     15543\n",
      "         1.0       0.00      0.00      0.00      4457\n",
      "\n",
      "    accuracy                           0.78     20000\n",
      "   macro avg       0.39      0.50      0.44     20000\n",
      "weighted avg       0.60      0.78      0.68     20000\n",
      "\n",
      "tensor([nan, nan, nan,  ..., nan, nan, nan], device='cuda:0')\n",
      "              precision    recall  f1-score   support\n",
      "\n",
      "         0.0       0.78      1.00      0.87     15543\n",
      "         1.0       0.00      0.00      0.00      4457\n",
      "\n",
      "    accuracy                           0.78     20000\n",
      "   macro avg       0.39      0.50      0.44     20000\n",
      "weighted avg       0.60      0.78      0.68     20000\n",
      "\n"
     ]
    },
    {
     "name": "stderr",
     "output_type": "stream",
     "text": [
      "\r",
      " 49%|████▉     | 488/1000 [01:02<01:03,  8.12it/s]"
     ]
    },
    {
     "name": "stdout",
     "output_type": "stream",
     "text": [
      "tensor([nan, nan, nan,  ..., nan, nan, nan], device='cuda:0')\n",
      "              precision    recall  f1-score   support\n",
      "\n",
      "         0.0       0.78      1.00      0.87     15543\n",
      "         1.0       0.00      0.00      0.00      4457\n",
      "\n",
      "    accuracy                           0.78     20000\n",
      "   macro avg       0.39      0.50      0.44     20000\n",
      "weighted avg       0.60      0.78      0.68     20000\n",
      "\n",
      "tensor([nan, nan, nan,  ..., nan, nan, nan], device='cuda:0')\n"
     ]
    },
    {
     "name": "stderr",
     "output_type": "stream",
     "text": [
      " 49%|████▉     | 490/1000 [01:02<01:08,  7.48it/s]"
     ]
    },
    {
     "name": "stdout",
     "output_type": "stream",
     "text": [
      "              precision    recall  f1-score   support\n",
      "\n",
      "         0.0       0.78      1.00      0.87     15543\n",
      "         1.0       0.00      0.00      0.00      4457\n",
      "\n",
      "    accuracy                           0.78     20000\n",
      "   macro avg       0.39      0.50      0.44     20000\n",
      "weighted avg       0.60      0.78      0.68     20000\n",
      "\n",
      "tensor([nan, nan, nan,  ..., nan, nan, nan], device='cuda:0')\n",
      "              precision    recall  f1-score   support\n",
      "\n",
      "         0.0       0.78      1.00      0.87     15543\n",
      "         1.0       0.00      0.00      0.00      4457\n",
      "\n",
      "    accuracy                           0.78     20000\n",
      "   macro avg       0.39      0.50      0.44     20000\n",
      "weighted avg       0.60      0.78      0.68     20000\n",
      "\n",
      "tensor([nan, nan, nan,  ..., nan, nan, nan], device='cuda:0')\n"
     ]
    },
    {
     "name": "stderr",
     "output_type": "stream",
     "text": [
      "\r",
      " 49%|████▉     | 491/1000 [01:03<01:11,  7.09it/s]"
     ]
    },
    {
     "name": "stdout",
     "output_type": "stream",
     "text": [
      "              precision    recall  f1-score   support\n",
      "\n",
      "         0.0       0.78      1.00      0.87     15543\n",
      "         1.0       0.00      0.00      0.00      4457\n",
      "\n",
      "    accuracy                           0.78     20000\n",
      "   macro avg       0.39      0.50      0.44     20000\n",
      "weighted avg       0.60      0.78      0.68     20000\n",
      "\n",
      "tensor([nan, nan, nan,  ..., nan, nan, nan], device='cuda:0')\n",
      "              precision    recall  f1-score   support\n",
      "\n",
      "         0.0       0.78      1.00      0.87     15543\n",
      "         1.0       0.00      0.00      0.00      4457\n",
      "\n",
      "    accuracy                           0.78     20000\n",
      "   macro avg       0.39      0.50      0.44     20000\n",
      "weighted avg       0.60      0.78      0.68     20000\n",
      "\n",
      "tensor([nan, nan, nan,  ..., nan, nan, nan], device='cuda:0')\n"
     ]
    },
    {
     "name": "stderr",
     "output_type": "stream",
     "text": [
      " 49%|████▉     | 494/1000 [01:03<01:07,  7.51it/s]"
     ]
    },
    {
     "name": "stdout",
     "output_type": "stream",
     "text": [
      "              precision    recall  f1-score   support\n",
      "\n",
      "         0.0       0.78      1.00      0.87     15543\n",
      "         1.0       0.00      0.00      0.00      4457\n",
      "\n",
      "    accuracy                           0.78     20000\n",
      "   macro avg       0.39      0.50      0.44     20000\n",
      "weighted avg       0.60      0.78      0.68     20000\n",
      "\n",
      "tensor([nan, nan, nan,  ..., nan, nan, nan], device='cuda:0')\n",
      "              precision    recall  f1-score   support\n",
      "\n",
      "         0.0       0.78      1.00      0.87     15543\n",
      "         1.0       0.00      0.00      0.00      4457\n",
      "\n",
      "    accuracy                           0.78     20000\n",
      "   macro avg       0.39      0.50      0.44     20000\n",
      "weighted avg       0.60      0.78      0.68     20000\n",
      "\n"
     ]
    },
    {
     "name": "stderr",
     "output_type": "stream",
     "text": [
      " 50%|████▉     | 496/1000 [01:03<01:03,  7.98it/s]"
     ]
    },
    {
     "name": "stdout",
     "output_type": "stream",
     "text": [
      "tensor([nan, nan, nan,  ..., nan, nan, nan], device='cuda:0')\n",
      "              precision    recall  f1-score   support\n",
      "\n",
      "         0.0       0.78      1.00      0.87     15543\n",
      "         1.0       0.00      0.00      0.00      4457\n",
      "\n",
      "    accuracy                           0.78     20000\n",
      "   macro avg       0.39      0.50      0.44     20000\n",
      "weighted avg       0.60      0.78      0.68     20000\n",
      "\n",
      "tensor([nan, nan, nan,  ..., nan, nan, nan], device='cuda:0')\n",
      "              precision    recall  f1-score   support\n",
      "\n",
      "         0.0       0.78      1.00      0.87     15543\n",
      "         1.0       0.00      0.00      0.00      4457\n",
      "\n",
      "    accuracy                           0.78     20000\n",
      "   macro avg       0.39      0.50      0.44     20000\n",
      "weighted avg       0.60      0.78      0.68     20000\n",
      "\n"
     ]
    },
    {
     "name": "stderr",
     "output_type": "stream",
     "text": [
      "\r",
      " 50%|████▉     | 498/1000 [01:03<00:55,  9.05it/s]"
     ]
    },
    {
     "name": "stdout",
     "output_type": "stream",
     "text": [
      "tensor([nan, nan, nan,  ..., nan, nan, nan], device='cuda:0')\n",
      "              precision    recall  f1-score   support\n",
      "\n",
      "         0.0       0.78      1.00      0.87     15543\n",
      "         1.0       0.00      0.00      0.00      4457\n",
      "\n",
      "    accuracy                           0.78     20000\n",
      "   macro avg       0.39      0.50      0.44     20000\n",
      "weighted avg       0.60      0.78      0.68     20000\n",
      "\n",
      "tensor([nan, nan, nan,  ..., nan, nan, nan], device='cuda:0')\n",
      "              precision    recall  f1-score   support\n",
      "\n",
      "         0.0       0.78      1.00      0.87     15543\n",
      "         1.0       0.00      0.00      0.00      4457\n",
      "\n",
      "    accuracy                           0.78     20000\n",
      "   macro avg       0.39      0.50      0.44     20000\n",
      "weighted avg       0.60      0.78      0.68     20000\n",
      "\n",
      "tensor([nan, nan, nan,  ..., nan, nan, nan], device='cuda:0')\n"
     ]
    },
    {
     "name": "stderr",
     "output_type": "stream",
     "text": [
      "\r",
      " 50%|█████     | 500/1000 [01:04<00:54,  9.11it/s]"
     ]
    },
    {
     "name": "stdout",
     "output_type": "stream",
     "text": [
      "              precision    recall  f1-score   support\n",
      "\n",
      "         0.0       0.78      1.00      0.87     15543\n",
      "         1.0       0.00      0.00      0.00      4457\n",
      "\n",
      "    accuracy                           0.78     20000\n",
      "   macro avg       0.39      0.50      0.44     20000\n",
      "weighted avg       0.60      0.78      0.68     20000\n",
      "\n",
      "tensor([nan, nan, nan,  ..., nan, nan, nan], device='cuda:0')\n",
      "              precision    recall  f1-score   support\n",
      "\n",
      "         0.0       0.78      1.00      0.87     15543\n",
      "         1.0       0.00      0.00      0.00      4457\n",
      "\n",
      "    accuracy                           0.78     20000\n",
      "   macro avg       0.39      0.50      0.44     20000\n",
      "weighted avg       0.60      0.78      0.68     20000\n",
      "\n",
      "tensor([nan, nan, nan,  ..., nan, nan, nan], device='cuda:0')\n"
     ]
    },
    {
     "name": "stderr",
     "output_type": "stream",
     "text": [
      " 50%|█████     | 502/1000 [01:04<01:01,  8.04it/s]"
     ]
    },
    {
     "name": "stdout",
     "output_type": "stream",
     "text": [
      "              precision    recall  f1-score   support\n",
      "\n",
      "         0.0       0.78      1.00      0.87     15543\n",
      "         1.0       0.00      0.00      0.00      4457\n",
      "\n",
      "    accuracy                           0.78     20000\n",
      "   macro avg       0.39      0.50      0.44     20000\n",
      "weighted avg       0.60      0.78      0.68     20000\n",
      "\n",
      "tensor([nan, nan, nan,  ..., nan, nan, nan], device='cuda:0')\n",
      "              precision    recall  f1-score   support\n",
      "\n",
      "         0.0       0.78      1.00      0.87     15543\n",
      "         1.0       0.00      0.00      0.00      4457\n",
      "\n",
      "    accuracy                           0.78     20000\n",
      "   macro avg       0.39      0.50      0.44     20000\n",
      "weighted avg       0.60      0.78      0.68     20000\n",
      "\n"
     ]
    },
    {
     "name": "stderr",
     "output_type": "stream",
     "text": [
      "\r",
      " 50%|█████     | 503/1000 [01:04<01:13,  6.78it/s]"
     ]
    },
    {
     "name": "stdout",
     "output_type": "stream",
     "text": [
      "tensor([nan, nan, nan,  ..., nan, nan, nan], device='cuda:0')\n",
      "              precision    recall  f1-score   support\n",
      "\n",
      "         0.0       0.78      1.00      0.87     15543\n",
      "         1.0       0.00      0.00      0.00      4457\n",
      "\n",
      "    accuracy                           0.78     20000\n",
      "   macro avg       0.39      0.50      0.44     20000\n",
      "weighted avg       0.60      0.78      0.68     20000\n",
      "\n",
      "tensor([nan, nan, nan,  ..., nan, nan, nan], device='cuda:0')\n"
     ]
    },
    {
     "name": "stderr",
     "output_type": "stream",
     "text": [
      " 50%|█████     | 505/1000 [01:04<01:04,  7.70it/s]"
     ]
    },
    {
     "name": "stdout",
     "output_type": "stream",
     "text": [
      "              precision    recall  f1-score   support\n",
      "\n",
      "         0.0       0.78      1.00      0.87     15543\n",
      "         1.0       0.00      0.00      0.00      4457\n",
      "\n",
      "    accuracy                           0.78     20000\n",
      "   macro avg       0.39      0.50      0.44     20000\n",
      "weighted avg       0.60      0.78      0.68     20000\n",
      "\n",
      "tensor([nan, nan, nan,  ..., nan, nan, nan], device='cuda:0')\n",
      "              precision    recall  f1-score   support\n",
      "\n",
      "         0.0       0.78      1.00      0.87     15543\n",
      "         1.0       0.00      0.00      0.00      4457\n",
      "\n",
      "    accuracy                           0.78     20000\n",
      "   macro avg       0.39      0.50      0.44     20000\n",
      "weighted avg       0.60      0.78      0.68     20000\n",
      "\n",
      "tensor([nan, nan, nan,  ..., nan, nan, nan], device='cuda:0')\n"
     ]
    },
    {
     "name": "stderr",
     "output_type": "stream",
     "text": [
      " 51%|█████     | 507/1000 [01:05<00:58,  8.43it/s]"
     ]
    },
    {
     "name": "stdout",
     "output_type": "stream",
     "text": [
      "              precision    recall  f1-score   support\n",
      "\n",
      "         0.0       0.78      1.00      0.87     15543\n",
      "         1.0       0.00      0.00      0.00      4457\n",
      "\n",
      "    accuracy                           0.78     20000\n",
      "   macro avg       0.39      0.50      0.44     20000\n",
      "weighted avg       0.60      0.78      0.68     20000\n",
      "\n",
      "tensor([nan, nan, nan,  ..., nan, nan, nan], device='cuda:0')\n",
      "              precision    recall  f1-score   support\n",
      "\n",
      "         0.0       0.78      1.00      0.87     15543\n",
      "         1.0       0.00      0.00      0.00      4457\n",
      "\n",
      "    accuracy                           0.78     20000\n",
      "   macro avg       0.39      0.50      0.44     20000\n",
      "weighted avg       0.60      0.78      0.68     20000\n",
      "\n",
      "tensor([nan, nan, nan,  ..., nan, nan, nan], device='cuda:0')\n"
     ]
    },
    {
     "name": "stderr",
     "output_type": "stream",
     "text": [
      " 51%|█████     | 509/1000 [01:05<01:04,  7.63it/s]"
     ]
    },
    {
     "name": "stdout",
     "output_type": "stream",
     "text": [
      "              precision    recall  f1-score   support\n",
      "\n",
      "         0.0       0.78      1.00      0.87     15543\n",
      "         1.0       0.00      0.00      0.00      4457\n",
      "\n",
      "    accuracy                           0.78     20000\n",
      "   macro avg       0.39      0.50      0.44     20000\n",
      "weighted avg       0.60      0.78      0.68     20000\n",
      "\n",
      "tensor([nan, nan, nan,  ..., nan, nan, nan], device='cuda:0')\n",
      "              precision    recall  f1-score   support\n",
      "\n",
      "         0.0       0.78      1.00      0.87     15543\n",
      "         1.0       0.00      0.00      0.00      4457\n",
      "\n",
      "    accuracy                           0.78     20000\n",
      "   macro avg       0.39      0.50      0.44     20000\n",
      "weighted avg       0.60      0.78      0.68     20000\n",
      "\n"
     ]
    },
    {
     "name": "stderr",
     "output_type": "stream",
     "text": [
      "\r",
      " 51%|█████     | 510/1000 [01:05<01:06,  7.33it/s]"
     ]
    },
    {
     "name": "stdout",
     "output_type": "stream",
     "text": [
      "tensor([nan, nan, nan,  ..., nan, nan, nan], device='cuda:0')\n",
      "              precision    recall  f1-score   support\n",
      "\n",
      "         0.0       0.78      1.00      0.87     15543\n",
      "         1.0       0.00      0.00      0.00      4457\n",
      "\n",
      "    accuracy                           0.78     20000\n",
      "   macro avg       0.39      0.50      0.44     20000\n",
      "weighted avg       0.60      0.78      0.68     20000\n",
      "\n",
      "tensor([nan, nan, nan,  ..., nan, nan, nan], device='cuda:0')\n",
      "              precision    recall  f1-score   support\n",
      "\n",
      "         0.0       0.78      1.00      0.87     15543\n",
      "         1.0       0.00      0.00      0.00      4457\n",
      "\n",
      "    accuracy                           0.78     20000\n",
      "   macro avg       0.39      0.50      0.44     20000\n",
      "weighted avg       0.60      0.78      0.68     20000\n",
      "\n"
     ]
    },
    {
     "name": "stderr",
     "output_type": "stream",
     "text": [
      "\r",
      " 51%|█████     | 512/1000 [01:05<01:03,  7.66it/s]"
     ]
    },
    {
     "name": "stdout",
     "output_type": "stream",
     "text": [
      "tensor([nan, nan, nan,  ..., nan, nan, nan], device='cuda:0')\n",
      "              precision    recall  f1-score   support\n",
      "\n",
      "         0.0       0.78      1.00      0.87     15543\n",
      "         1.0       0.00      0.00      0.00      4457\n",
      "\n",
      "    accuracy                           0.78     20000\n",
      "   macro avg       0.39      0.50      0.44     20000\n",
      "weighted avg       0.60      0.78      0.68     20000\n",
      "\n",
      "tensor([nan, nan, nan,  ..., nan, nan, nan], device='cuda:0')\n"
     ]
    },
    {
     "name": "stderr",
     "output_type": "stream",
     "text": [
      " 51%|█████▏    | 514/1000 [01:05<01:03,  7.71it/s]"
     ]
    },
    {
     "name": "stdout",
     "output_type": "stream",
     "text": [
      "              precision    recall  f1-score   support\n",
      "\n",
      "         0.0       0.78      1.00      0.87     15543\n",
      "         1.0       0.00      0.00      0.00      4457\n",
      "\n",
      "    accuracy                           0.78     20000\n",
      "   macro avg       0.39      0.50      0.44     20000\n",
      "weighted avg       0.60      0.78      0.68     20000\n",
      "\n",
      "tensor([nan, nan, nan,  ..., nan, nan, nan], device='cuda:0')\n",
      "              precision    recall  f1-score   support\n",
      "\n",
      "         0.0       0.78      1.00      0.87     15543\n",
      "         1.0       0.00      0.00      0.00      4457\n",
      "\n",
      "    accuracy                           0.78     20000\n",
      "   macro avg       0.39      0.50      0.44     20000\n",
      "weighted avg       0.60      0.78      0.68     20000\n",
      "\n"
     ]
    },
    {
     "name": "stderr",
     "output_type": "stream",
     "text": [
      "\r",
      " 52%|█████▏    | 515/1000 [01:06<01:08,  7.11it/s]"
     ]
    },
    {
     "name": "stdout",
     "output_type": "stream",
     "text": [
      "tensor([nan, nan, nan,  ..., nan, nan, nan], device='cuda:0')\n",
      "              precision    recall  f1-score   support\n",
      "\n",
      "         0.0       0.78      1.00      0.87     15543\n",
      "         1.0       0.00      0.00      0.00      4457\n",
      "\n",
      "    accuracy                           0.78     20000\n",
      "   macro avg       0.39      0.50      0.44     20000\n",
      "weighted avg       0.60      0.78      0.68     20000\n",
      "\n",
      "tensor([nan, nan, nan,  ..., nan, nan, nan], device='cuda:0')\n"
     ]
    },
    {
     "name": "stderr",
     "output_type": "stream",
     "text": [
      " 52%|█████▏    | 517/1000 [01:06<01:11,  6.73it/s]"
     ]
    },
    {
     "name": "stdout",
     "output_type": "stream",
     "text": [
      "              precision    recall  f1-score   support\n",
      "\n",
      "         0.0       0.78      1.00      0.87     15543\n",
      "         1.0       0.00      0.00      0.00      4457\n",
      "\n",
      "    accuracy                           0.78     20000\n",
      "   macro avg       0.39      0.50      0.44     20000\n",
      "weighted avg       0.60      0.78      0.68     20000\n",
      "\n",
      "tensor([nan, nan, nan,  ..., nan, nan, nan], device='cuda:0')\n",
      "              precision    recall  f1-score   support\n",
      "\n",
      "         0.0       0.78      1.00      0.87     15543\n",
      "         1.0       0.00      0.00      0.00      4457\n",
      "\n",
      "    accuracy                           0.78     20000\n",
      "   macro avg       0.39      0.50      0.44     20000\n",
      "weighted avg       0.60      0.78      0.68     20000\n",
      "\n"
     ]
    },
    {
     "name": "stderr",
     "output_type": "stream",
     "text": [
      " 52%|█████▏    | 519/1000 [01:06<01:05,  7.34it/s]"
     ]
    },
    {
     "name": "stdout",
     "output_type": "stream",
     "text": [
      "tensor([nan, nan, nan,  ..., nan, nan, nan], device='cuda:0')\n",
      "              precision    recall  f1-score   support\n",
      "\n",
      "         0.0       0.78      1.00      0.87     15543\n",
      "         1.0       0.00      0.00      0.00      4457\n",
      "\n",
      "    accuracy                           0.78     20000\n",
      "   macro avg       0.39      0.50      0.44     20000\n",
      "weighted avg       0.60      0.78      0.68     20000\n",
      "\n",
      "tensor([nan, nan, nan,  ..., nan, nan, nan], device='cuda:0')\n",
      "              precision    recall  f1-score   support\n",
      "\n",
      "         0.0       0.78      1.00      0.87     15543\n",
      "         1.0       0.00      0.00      0.00      4457\n",
      "\n",
      "    accuracy                           0.78     20000\n",
      "   macro avg       0.39      0.50      0.44     20000\n",
      "weighted avg       0.60      0.78      0.68     20000\n",
      "\n"
     ]
    },
    {
     "name": "stderr",
     "output_type": "stream",
     "text": [
      "\r",
      " 52%|█████▏    | 520/1000 [01:06<01:09,  6.86it/s]"
     ]
    },
    {
     "name": "stdout",
     "output_type": "stream",
     "text": [
      "tensor([nan, nan, nan,  ..., nan, nan, nan], device='cuda:0')\n",
      "              precision    recall  f1-score   support\n",
      "\n",
      "         0.0       0.78      1.00      0.87     15543\n",
      "         1.0       0.00      0.00      0.00      4457\n",
      "\n",
      "    accuracy                           0.78     20000\n",
      "   macro avg       0.39      0.50      0.44     20000\n",
      "weighted avg       0.60      0.78      0.68     20000\n",
      "\n",
      "tensor([nan, nan, nan,  ..., nan, nan, nan], device='cuda:0')\n"
     ]
    },
    {
     "name": "stderr",
     "output_type": "stream",
     "text": [
      " 52%|█████▏    | 522/1000 [01:07<01:11,  6.67it/s]"
     ]
    },
    {
     "name": "stdout",
     "output_type": "stream",
     "text": [
      "              precision    recall  f1-score   support\n",
      "\n",
      "         0.0       0.78      1.00      0.87     15543\n",
      "         1.0       0.00      0.00      0.00      4457\n",
      "\n",
      "    accuracy                           0.78     20000\n",
      "   macro avg       0.39      0.50      0.44     20000\n",
      "weighted avg       0.60      0.78      0.68     20000\n",
      "\n",
      "tensor([nan, nan, nan,  ..., nan, nan, nan], device='cuda:0')\n",
      "              precision    recall  f1-score   support\n",
      "\n",
      "         0.0       0.78      1.00      0.87     15543\n",
      "         1.0       0.00      0.00      0.00      4457\n",
      "\n",
      "    accuracy                           0.78     20000\n",
      "   macro avg       0.39      0.50      0.44     20000\n",
      "weighted avg       0.60      0.78      0.68     20000\n",
      "\n",
      "tensor([nan, nan, nan,  ..., nan, nan, nan], device='cuda:0')\n"
     ]
    },
    {
     "name": "stderr",
     "output_type": "stream",
     "text": [
      "\r",
      " 52%|█████▏    | 524/1000 [01:07<00:59,  7.96it/s]"
     ]
    },
    {
     "name": "stdout",
     "output_type": "stream",
     "text": [
      "              precision    recall  f1-score   support\n",
      "\n",
      "         0.0       0.78      1.00      0.87     15543\n",
      "         1.0       0.00      0.00      0.00      4457\n",
      "\n",
      "    accuracy                           0.78     20000\n",
      "   macro avg       0.39      0.50      0.44     20000\n",
      "weighted avg       0.60      0.78      0.68     20000\n",
      "\n",
      "tensor([nan, nan, nan,  ..., nan, nan, nan], device='cuda:0')\n",
      "              precision    recall  f1-score   support\n",
      "\n",
      "         0.0       0.78      1.00      0.87     15543\n",
      "         1.0       0.00      0.00      0.00      4457\n",
      "\n",
      "    accuracy                           0.78     20000\n",
      "   macro avg       0.39      0.50      0.44     20000\n",
      "weighted avg       0.60      0.78      0.68     20000\n",
      "\n",
      "tensor([nan, nan, nan,  ..., nan, nan, nan], device='cuda:0')\n",
      "              precision    recall  f1-score   support\n",
      "\n",
      "         0.0       0.78      1.00      0.87     15543\n",
      "         1.0       0.00      0.00      0.00      4457\n",
      "\n",
      "    accuracy                           0.78     20000\n",
      "   macro avg       0.39      0.50      0.44     20000\n",
      "weighted avg       0.60      0.78      0.68     20000\n",
      "\n"
     ]
    },
    {
     "name": "stderr",
     "output_type": "stream",
     "text": [
      "\r",
      " 53%|█████▎    | 526/1000 [01:07<00:54,  8.76it/s]"
     ]
    },
    {
     "name": "stdout",
     "output_type": "stream",
     "text": [
      "tensor([nan, nan, nan,  ..., nan, nan, nan], device='cuda:0')\n",
      "              precision    recall  f1-score   support\n",
      "\n",
      "         0.0       0.78      1.00      0.87     15543\n",
      "         1.0       0.00      0.00      0.00      4457\n",
      "\n",
      "    accuracy                           0.78     20000\n",
      "   macro avg       0.39      0.50      0.44     20000\n",
      "weighted avg       0.60      0.78      0.68     20000\n",
      "\n",
      "tensor([nan, nan, nan,  ..., nan, nan, nan], device='cuda:0')\n",
      "              precision    recall  f1-score   support\n",
      "\n",
      "         0.0       0.78      1.00      0.87     15543\n",
      "         1.0       0.00      0.00      0.00      4457\n",
      "\n",
      "    accuracy                           0.78     20000\n",
      "   macro avg       0.39      0.50      0.44     20000\n",
      "weighted avg       0.60      0.78      0.68     20000\n",
      "\n",
      "tensor([nan, nan, nan,  ..., nan, nan, nan], device='cuda:0')\n"
     ]
    },
    {
     "name": "stderr",
     "output_type": "stream",
     "text": [
      "\r",
      " 53%|█████▎    | 528/1000 [01:07<00:53,  8.83it/s]"
     ]
    },
    {
     "name": "stdout",
     "output_type": "stream",
     "text": [
      "              precision    recall  f1-score   support\n",
      "\n",
      "         0.0       0.78      1.00      0.87     15543\n",
      "         1.0       0.00      0.00      0.00      4457\n",
      "\n",
      "    accuracy                           0.78     20000\n",
      "   macro avg       0.39      0.50      0.44     20000\n",
      "weighted avg       0.60      0.78      0.68     20000\n",
      "\n",
      "tensor([nan, nan, nan,  ..., nan, nan, nan], device='cuda:0')\n",
      "              precision    recall  f1-score   support\n",
      "\n",
      "         0.0       0.78      1.00      0.87     15543\n",
      "         1.0       0.00      0.00      0.00      4457\n",
      "\n",
      "    accuracy                           0.78     20000\n",
      "   macro avg       0.39      0.50      0.44     20000\n",
      "weighted avg       0.60      0.78      0.68     20000\n",
      "\n",
      "tensor([nan, nan, nan,  ..., nan, nan, nan], device='cuda:0')\n",
      "              precision    recall  f1-score   support\n",
      "\n",
      "         0.0       0.78      1.00      0.87     15543\n",
      "         1.0       0.00      0.00      0.00      4457\n",
      "\n",
      "    accuracy                           0.78     20000\n",
      "   macro avg       0.39      0.50      0.44     20000\n",
      "weighted avg       0.60      0.78      0.68     20000\n",
      "\n"
     ]
    },
    {
     "name": "stderr",
     "output_type": "stream",
     "text": [
      " 53%|█████▎    | 531/1000 [01:08<00:50,  9.26it/s]"
     ]
    },
    {
     "name": "stdout",
     "output_type": "stream",
     "text": [
      "tensor([nan, nan, nan,  ..., nan, nan, nan], device='cuda:0')\n",
      "              precision    recall  f1-score   support\n",
      "\n",
      "         0.0       0.78      1.00      0.87     15543\n",
      "         1.0       0.00      0.00      0.00      4457\n",
      "\n",
      "    accuracy                           0.78     20000\n",
      "   macro avg       0.39      0.50      0.44     20000\n",
      "weighted avg       0.60      0.78      0.68     20000\n",
      "\n",
      "tensor([nan, nan, nan,  ..., nan, nan, nan], device='cuda:0')\n",
      "              precision    recall  f1-score   support\n",
      "\n",
      "         0.0       0.78      1.00      0.87     15543\n",
      "         1.0       0.00      0.00      0.00      4457\n",
      "\n",
      "    accuracy                           0.78     20000\n",
      "   macro avg       0.39      0.50      0.44     20000\n",
      "weighted avg       0.60      0.78      0.68     20000\n"
     ]
    },
    {
     "name": "stderr",
     "output_type": "stream",
     "text": [
      " 53%|█████▎    | 533/1000 [01:08<00:54,  8.59it/s]"
     ]
    },
    {
     "name": "stdout",
     "output_type": "stream",
     "text": [
      "\n",
      "tensor([nan, nan, nan,  ..., nan, nan, nan], device='cuda:0')\n",
      "              precision    recall  f1-score   support\n",
      "\n",
      "         0.0       0.78      1.00      0.87     15543\n",
      "         1.0       0.00      0.00      0.00      4457\n",
      "\n",
      "    accuracy                           0.78     20000\n",
      "   macro avg       0.39      0.50      0.44     20000\n",
      "weighted avg       0.60      0.78      0.68     20000\n",
      "\n",
      "tensor([nan, nan, nan,  ..., nan, nan, nan], device='cuda:0')\n"
     ]
    },
    {
     "name": "stderr",
     "output_type": "stream",
     "text": [
      " 54%|█████▎    | 535/1000 [01:08<00:59,  7.85it/s]"
     ]
    },
    {
     "name": "stdout",
     "output_type": "stream",
     "text": [
      "              precision    recall  f1-score   support\n",
      "\n",
      "         0.0       0.78      1.00      0.87     15543\n",
      "         1.0       0.00      0.00      0.00      4457\n",
      "\n",
      "    accuracy                           0.78     20000\n",
      "   macro avg       0.39      0.50      0.44     20000\n",
      "weighted avg       0.60      0.78      0.68     20000\n",
      "\n",
      "tensor([nan, nan, nan,  ..., nan, nan, nan], device='cuda:0')\n",
      "              precision    recall  f1-score   support\n",
      "\n",
      "         0.0       0.78      1.00      0.87     15543\n",
      "         1.0       0.00      0.00      0.00      4457\n",
      "\n",
      "    accuracy                           0.78     20000\n",
      "   macro avg       0.39      0.50      0.44     20000\n",
      "weighted avg       0.60      0.78      0.68     20000\n",
      "\n"
     ]
    },
    {
     "name": "stderr",
     "output_type": "stream",
     "text": [
      "\r",
      " 54%|█████▎    | 536/1000 [01:08<00:57,  8.12it/s]"
     ]
    },
    {
     "name": "stdout",
     "output_type": "stream",
     "text": [
      "tensor([nan, nan, nan,  ..., nan, nan, nan], device='cuda:0')\n",
      "              precision    recall  f1-score   support\n",
      "\n",
      "         0.0       0.78      1.00      0.87     15543\n",
      "         1.0       0.00      0.00      0.00      4457\n",
      "\n",
      "    accuracy                           0.78     20000\n",
      "   macro avg       0.39      0.50      0.44     20000\n",
      "weighted avg       0.60      0.78      0.68     20000\n",
      "\n",
      "tensor([nan, nan, nan,  ..., nan, nan, nan], device='cuda:0')\n",
      "              precision    recall  f1-score   support\n",
      "\n",
      "         0.0       0.78      1.00      0.87     15543\n",
      "         1.0       0.00      0.00      0.00      4457\n",
      "\n",
      "    accuracy                           0.78     20000\n",
      "   macro avg       0.39      0.50      0.44     20000\n",
      "weighted avg       0.60      0.78      0.68     20000\n",
      "\n",
      "tensor([nan, nan, nan,  ..., nan, nan, nan], device='cuda:0')\n"
     ]
    },
    {
     "name": "stderr",
     "output_type": "stream",
     "text": [
      " 54%|█████▍    | 539/1000 [01:09<00:54,  8.49it/s]"
     ]
    },
    {
     "name": "stdout",
     "output_type": "stream",
     "text": [
      "              precision    recall  f1-score   support\n",
      "\n",
      "         0.0       0.78      1.00      0.87     15543\n",
      "         1.0       0.00      0.00      0.00      4457\n",
      "\n",
      "    accuracy                           0.78     20000\n",
      "   macro avg       0.39      0.50      0.44     20000\n",
      "weighted avg       0.60      0.78      0.68     20000\n",
      "\n",
      "tensor([nan, nan, nan,  ..., nan, nan, nan], device='cuda:0')\n",
      "              precision    recall  f1-score   support\n",
      "\n",
      "         0.0       0.78      1.00      0.87     15543\n",
      "         1.0       0.00      0.00      0.00      4457\n",
      "\n",
      "    accuracy                           0.78     20000\n",
      "   macro avg       0.39      0.50      0.44     20000\n",
      "weighted avg       0.60      0.78      0.68     20000\n",
      "\n",
      "tensor([nan, nan, nan,  ..., nan, nan, nan], device='cuda:0')\n"
     ]
    },
    {
     "name": "stderr",
     "output_type": "stream",
     "text": [
      " 54%|█████▍    | 541/1000 [01:09<00:53,  8.59it/s]"
     ]
    },
    {
     "name": "stdout",
     "output_type": "stream",
     "text": [
      "              precision    recall  f1-score   support\n",
      "\n",
      "         0.0       0.78      1.00      0.87     15543\n",
      "         1.0       0.00      0.00      0.00      4457\n",
      "\n",
      "    accuracy                           0.78     20000\n",
      "   macro avg       0.39      0.50      0.44     20000\n",
      "weighted avg       0.60      0.78      0.68     20000\n",
      "\n",
      "tensor([nan, nan, nan,  ..., nan, nan, nan], device='cuda:0')\n",
      "              precision    recall  f1-score   support\n",
      "\n",
      "         0.0       0.78      1.00      0.87     15543\n",
      "         1.0       0.00      0.00      0.00      4457\n",
      "\n",
      "    accuracy                           0.78     20000\n",
      "   macro avg       0.39      0.50      0.44     20000\n",
      "weighted avg       0.60      0.78      0.68     20000\n",
      "\n",
      "tensor([nan, nan, nan,  ..., nan, nan, nan], device='cuda:0')\n"
     ]
    },
    {
     "name": "stderr",
     "output_type": "stream",
     "text": [
      "\r",
      " 54%|█████▍    | 543/1000 [01:09<00:49,  9.26it/s]"
     ]
    },
    {
     "name": "stdout",
     "output_type": "stream",
     "text": [
      "              precision    recall  f1-score   support\n",
      "\n",
      "         0.0       0.78      1.00      0.87     15543\n",
      "         1.0       0.00      0.00      0.00      4457\n",
      "\n",
      "    accuracy                           0.78     20000\n",
      "   macro avg       0.39      0.50      0.44     20000\n",
      "weighted avg       0.60      0.78      0.68     20000\n",
      "\n",
      "tensor([nan, nan, nan,  ..., nan, nan, nan], device='cuda:0')\n",
      "              precision    recall  f1-score   support\n",
      "\n",
      "         0.0       0.78      1.00      0.87     15543\n",
      "         1.0       0.00      0.00      0.00      4457\n",
      "\n",
      "    accuracy                           0.78     20000\n",
      "   macro avg       0.39      0.50      0.44     20000\n",
      "weighted avg       0.60      0.78      0.68     20000\n",
      "\n",
      "tensor([nan, nan, nan,  ..., nan, nan, nan], device='cuda:0')\n"
     ]
    },
    {
     "name": "stderr",
     "output_type": "stream",
     "text": [
      " 55%|█████▍    | 545/1000 [01:09<00:49,  9.27it/s]"
     ]
    },
    {
     "name": "stdout",
     "output_type": "stream",
     "text": [
      "              precision    recall  f1-score   support\n",
      "\n",
      "         0.0       0.78      1.00      0.87     15543\n",
      "         1.0       0.00      0.00      0.00      4457\n",
      "\n",
      "    accuracy                           0.78     20000\n",
      "   macro avg       0.39      0.50      0.44     20000\n",
      "weighted avg       0.60      0.78      0.68     20000\n",
      "\n",
      "tensor([nan, nan, nan,  ..., nan, nan, nan], device='cuda:0')\n",
      "              precision    recall  f1-score   support\n",
      "\n",
      "         0.0       0.78      1.00      0.87     15543\n",
      "         1.0       0.00      0.00      0.00      4457\n",
      "\n",
      "    accuracy                           0.78     20000\n",
      "   macro avg       0.39      0.50      0.44     20000\n",
      "weighted avg       0.60      0.78      0.68     20000\n",
      "\n",
      "tensor([nan, nan, nan,  ..., nan, nan, nan], device='cuda:0')\n",
      "              precision    recall  f1-score   support\n",
      "\n",
      "         0.0       0.78      1.00      0.87     15543\n",
      "         1.0       0.00      0.00      0.00      4457\n",
      "\n",
      "    accuracy                           0.78     20000\n",
      "   macro avg       0.39      0.50      0.44     20000\n",
      "weighted avg       0.60      0.78      0.68     20000\n",
      "\n"
     ]
    },
    {
     "name": "stderr",
     "output_type": "stream",
     "text": [
      " 55%|█████▍    | 548/1000 [01:10<00:47,  9.47it/s]"
     ]
    },
    {
     "name": "stdout",
     "output_type": "stream",
     "text": [
      "tensor([nan, nan, nan,  ..., nan, nan, nan], device='cuda:0')\n",
      "              precision    recall  f1-score   support\n",
      "\n",
      "         0.0       0.78      1.00      0.87     15543\n",
      "         1.0       0.00      0.00      0.00      4457\n",
      "\n",
      "    accuracy                           0.78     20000\n",
      "   macro avg       0.39      0.50      0.44     20000\n",
      "weighted avg       0.60      0.78      0.68     20000\n",
      "\n",
      "tensor([nan, nan, nan,  ..., nan, nan, nan], device='cuda:0')\n",
      "              precision    recall  f1-score   support\n",
      "\n",
      "         0.0       0.78      1.00      0.87     15543\n",
      "         1.0       0.00      0.00      0.00      4457\n",
      "\n",
      "    accuracy                           0.78     20000\n",
      "   macro avg       0.39      0.50      0.44     20000\n",
      "weighted avg       0.60      0.78      0.68     20000\n",
      "\n"
     ]
    },
    {
     "name": "stderr",
     "output_type": "stream",
     "text": [
      "\r",
      " 55%|█████▌    | 550/1000 [01:10<00:46,  9.71it/s]"
     ]
    },
    {
     "name": "stdout",
     "output_type": "stream",
     "text": [
      "tensor([nan, nan, nan,  ..., nan, nan, nan], device='cuda:0')\n",
      "              precision    recall  f1-score   support\n",
      "\n",
      "         0.0       0.78      1.00      0.87     15543\n",
      "         1.0       0.00      0.00      0.00      4457\n",
      "\n",
      "    accuracy                           0.78     20000\n",
      "   macro avg       0.39      0.50      0.44     20000\n",
      "weighted avg       0.60      0.78      0.68     20000\n",
      "\n",
      "tensor([nan, nan, nan,  ..., nan, nan, nan], device='cuda:0')\n",
      "              precision    recall  f1-score   support\n",
      "\n",
      "         0.0       0.78      1.00      0.87     15543\n",
      "         1.0       0.00      0.00      0.00      4457\n",
      "\n",
      "    accuracy                           0.78     20000\n",
      "   macro avg       0.39      0.50      0.44     20000\n",
      "weighted avg       0.60      0.78      0.68     20000\n",
      "\n"
     ]
    },
    {
     "name": "stderr",
     "output_type": "stream",
     "text": [
      " 55%|█████▌    | 552/1000 [01:10<00:47,  9.33it/s]"
     ]
    },
    {
     "name": "stdout",
     "output_type": "stream",
     "text": [
      "tensor([nan, nan, nan,  ..., nan, nan, nan], device='cuda:0')\n",
      "              precision    recall  f1-score   support\n",
      "\n",
      "         0.0       0.78      1.00      0.87     15543\n",
      "         1.0       0.00      0.00      0.00      4457\n",
      "\n",
      "    accuracy                           0.78     20000\n",
      "   macro avg       0.39      0.50      0.44     20000\n",
      "weighted avg       0.60      0.78      0.68     20000\n",
      "\n",
      "tensor([nan, nan, nan,  ..., nan, nan, nan], device='cuda:0')\n",
      "              precision    recall  f1-score   support\n",
      "\n",
      "         0.0       0.78      1.00      0.87     15543\n",
      "         1.0       0.00      0.00      0.00      4457\n",
      "\n",
      "    accuracy                           0.78     20000\n",
      "   macro avg       0.39      0.50      0.44     20000\n",
      "weighted avg       0.60      0.78      0.68     20000\n",
      "\n"
     ]
    },
    {
     "name": "stderr",
     "output_type": "stream",
     "text": [
      "\r",
      " 55%|█████▌    | 553/1000 [01:10<00:48,  9.25it/s]"
     ]
    },
    {
     "name": "stdout",
     "output_type": "stream",
     "text": [
      "tensor([nan, nan, nan,  ..., nan, nan, nan], device='cuda:0')\n",
      "              precision    recall  f1-score   support\n",
      "\n",
      "         0.0       0.78      1.00      0.87     15543\n",
      "         1.0       0.00      0.00      0.00      4457\n",
      "\n",
      "    accuracy                           0.78     20000\n",
      "   macro avg       0.39      0.50      0.44     20000\n",
      "weighted avg       0.60      0.78      0.68     20000\n",
      "\n",
      "tensor([nan, nan, nan,  ..., nan, nan, nan], device='cuda:0')\n",
      "              precision    recall  f1-score   support\n",
      "\n",
      "         0.0       0.78      1.00      0.87     15543\n",
      "         1.0       0.00      0.00      0.00      4457\n",
      "\n",
      "    accuracy                           0.78     20000\n",
      "   macro avg       0.39      0.50      0.44     20000\n",
      "weighted avg       0.60      0.78      0.68     20000\n",
      "\n",
      "tensor([nan, nan, nan,  ..., nan, nan, nan], device='cuda:0')\n"
     ]
    },
    {
     "name": "stderr",
     "output_type": "stream",
     "text": [
      " 56%|█████▌    | 556/1000 [01:10<00:47,  9.37it/s]"
     ]
    },
    {
     "name": "stdout",
     "output_type": "stream",
     "text": [
      "              precision    recall  f1-score   support\n",
      "\n",
      "         0.0       0.78      1.00      0.87     15543\n",
      "         1.0       0.00      0.00      0.00      4457\n",
      "\n",
      "    accuracy                           0.78     20000\n",
      "   macro avg       0.39      0.50      0.44     20000\n",
      "weighted avg       0.60      0.78      0.68     20000\n",
      "\n",
      "tensor([nan, nan, nan,  ..., nan, nan, nan], device='cuda:0')\n",
      "              precision    recall  f1-score   support\n",
      "\n",
      "         0.0       0.78      1.00      0.87     15543\n",
      "         1.0       0.00      0.00      0.00      4457\n",
      "\n",
      "    accuracy                           0.78     20000\n",
      "   macro avg       0.39      0.50      0.44     20000\n",
      "weighted avg       0.60      0.78      0.68     20000\n",
      "\n",
      "tensor([nan, nan, nan,  ..., nan, nan, nan], device='cuda:0')\n"
     ]
    },
    {
     "name": "stderr",
     "output_type": "stream",
     "text": [
      "\r",
      " 56%|█████▌    | 558/1000 [01:11<00:46,  9.57it/s]"
     ]
    },
    {
     "name": "stdout",
     "output_type": "stream",
     "text": [
      "              precision    recall  f1-score   support\n",
      "\n",
      "         0.0       0.78      1.00      0.87     15543\n",
      "         1.0       0.00      0.00      0.00      4457\n",
      "\n",
      "    accuracy                           0.78     20000\n",
      "   macro avg       0.39      0.50      0.44     20000\n",
      "weighted avg       0.60      0.78      0.68     20000\n",
      "\n",
      "tensor([nan, nan, nan,  ..., nan, nan, nan], device='cuda:0')\n",
      "              precision    recall  f1-score   support\n",
      "\n",
      "         0.0       0.78      1.00      0.87     15543\n",
      "         1.0       0.00      0.00      0.00      4457\n",
      "\n",
      "    accuracy                           0.78     20000\n",
      "   macro avg       0.39      0.50      0.44     20000\n",
      "weighted avg       0.60      0.78      0.68     20000\n",
      "\n",
      "tensor([nan, nan, nan,  ..., nan, nan, nan], device='cuda:0')\n"
     ]
    },
    {
     "name": "stderr",
     "output_type": "stream",
     "text": [
      "\r",
      " 56%|█████▌    | 559/1000 [01:11<00:45,  9.63it/s]"
     ]
    },
    {
     "name": "stdout",
     "output_type": "stream",
     "text": [
      "              precision    recall  f1-score   support\n",
      "\n",
      "         0.0       0.78      1.00      0.87     15543\n",
      "         1.0       0.00      0.00      0.00      4457\n",
      "\n",
      "    accuracy                           0.78     20000\n",
      "   macro avg       0.39      0.50      0.44     20000\n",
      "weighted avg       0.60      0.78      0.68     20000\n",
      "\n",
      "tensor([nan, nan, nan,  ..., nan, nan, nan], device='cuda:0')\n",
      "              precision    recall  f1-score   support\n",
      "\n",
      "         0.0       0.78      1.00      0.87     15543\n",
      "         1.0       0.00      0.00      0.00      4457\n",
      "\n",
      "    accuracy                           0.78     20000\n",
      "   macro avg       0.39      0.50      0.44     20000\n",
      "weighted avg       0.60      0.78      0.68     20000\n",
      "\n",
      "tensor([nan, nan, nan,  ..., nan, nan, nan], device='cuda:0')\n"
     ]
    },
    {
     "name": "stderr",
     "output_type": "stream",
     "text": [
      "\r",
      " 56%|█████▌    | 561/1000 [01:11<00:45,  9.56it/s]"
     ]
    },
    {
     "name": "stdout",
     "output_type": "stream",
     "text": [
      "              precision    recall  f1-score   support\n",
      "\n",
      "         0.0       0.78      1.00      0.87     15543\n",
      "         1.0       0.00      0.00      0.00      4457\n",
      "\n",
      "    accuracy                           0.78     20000\n",
      "   macro avg       0.39      0.50      0.44     20000\n",
      "weighted avg       0.60      0.78      0.68     20000\n",
      "\n",
      "tensor([nan, nan, nan,  ..., nan, nan, nan], device='cuda:0')\n",
      "              precision    recall  f1-score   support\n",
      "\n",
      "         0.0       0.78      1.00      0.87     15543\n",
      "         1.0       0.00      0.00      0.00      4457\n",
      "\n",
      "    accuracy                           0.78     20000\n",
      "   macro avg       0.39      0.50      0.44     20000\n",
      "weighted avg       0.60      0.78      0.68     20000\n",
      "\n"
     ]
    },
    {
     "name": "stderr",
     "output_type": "stream",
     "text": [
      " 56%|█████▋    | 564/1000 [01:11<00:50,  8.64it/s]"
     ]
    },
    {
     "name": "stdout",
     "output_type": "stream",
     "text": [
      "tensor([nan, nan, nan,  ..., nan, nan, nan], device='cuda:0')\n",
      "              precision    recall  f1-score   support\n",
      "\n",
      "         0.0       0.78      1.00      0.87     15543\n",
      "         1.0       0.00      0.00      0.00      4457\n",
      "\n",
      "    accuracy                           0.78     20000\n",
      "   macro avg       0.39      0.50      0.44     20000\n",
      "weighted avg       0.60      0.78      0.68     20000\n",
      "\n",
      "tensor([nan, nan, nan,  ..., nan, nan, nan], device='cuda:0')\n",
      "              precision    recall  f1-score   support\n",
      "\n",
      "         0.0       0.78      1.00      0.87     15543\n",
      "         1.0       0.00      0.00      0.00      4457\n",
      "\n",
      "    accuracy                           0.78     20000\n",
      "   macro avg       0.39      0.50      0.44     20000\n",
      "weighted avg       0.60      0.78      0.68     20000\n",
      "\n"
     ]
    },
    {
     "name": "stderr",
     "output_type": "stream",
     "text": [
      " 57%|█████▋    | 566/1000 [01:12<00:47,  9.09it/s]"
     ]
    },
    {
     "name": "stdout",
     "output_type": "stream",
     "text": [
      "tensor([nan, nan, nan,  ..., nan, nan, nan], device='cuda:0')\n",
      "              precision    recall  f1-score   support\n",
      "\n",
      "         0.0       0.78      1.00      0.87     15543\n",
      "         1.0       0.00      0.00      0.00      4457\n",
      "\n",
      "    accuracy                           0.78     20000\n",
      "   macro avg       0.39      0.50      0.44     20000\n",
      "weighted avg       0.60      0.78      0.68     20000\n",
      "\n",
      "tensor([nan, nan, nan,  ..., nan, nan, nan], device='cuda:0')\n",
      "              precision    recall  f1-score   support\n",
      "\n",
      "         0.0       0.78      1.00      0.87     15543\n",
      "         1.0       0.00      0.00      0.00      4457\n",
      "\n",
      "    accuracy                           0.78     20000\n",
      "   macro avg       0.39      0.50      0.44     20000\n",
      "weighted avg       0.60      0.78      0.68     20000\n",
      "\n"
     ]
    },
    {
     "name": "stderr",
     "output_type": "stream",
     "text": [
      "\r",
      " 57%|█████▋    | 567/1000 [01:12<00:46,  9.24it/s]"
     ]
    },
    {
     "name": "stdout",
     "output_type": "stream",
     "text": [
      "tensor([nan, nan, nan,  ..., nan, nan, nan], device='cuda:0')\n",
      "              precision    recall  f1-score   support\n",
      "\n",
      "         0.0       0.78      1.00      0.87     15543\n",
      "         1.0       0.00      0.00      0.00      4457\n",
      "\n",
      "    accuracy                           0.78     20000\n",
      "   macro avg       0.39      0.50      0.44     20000\n",
      "weighted avg       0.60      0.78      0.68     20000\n",
      "\n",
      "tensor([nan, nan, nan,  ..., nan, nan, nan], device='cuda:0')\n",
      "              precision    recall  f1-score   support\n",
      "\n",
      "         0.0       0.78      1.00      0.87     15543\n",
      "         1.0       0.00      0.00      0.00      4457\n",
      "\n",
      "    accuracy                           0.78     20000\n",
      "   macro avg       0.39      0.50      0.44     20000\n",
      "weighted avg       0.60      0.78      0.68     20000\n",
      "\n",
      "tensor([nan, nan, nan,  ..., nan, nan, nan], device='cuda:0')\n"
     ]
    },
    {
     "name": "stderr",
     "output_type": "stream",
     "text": [
      "\r",
      " 57%|█████▋    | 569/1000 [01:12<00:45,  9.55it/s]"
     ]
    },
    {
     "name": "stdout",
     "output_type": "stream",
     "text": [
      "              precision    recall  f1-score   support\n",
      "\n",
      "         0.0       0.78      1.00      0.87     15543\n",
      "         1.0       0.00      0.00      0.00      4457\n",
      "\n",
      "    accuracy                           0.78     20000\n",
      "   macro avg       0.39      0.50      0.44     20000\n",
      "weighted avg       0.60      0.78      0.68     20000\n",
      "\n",
      "tensor([nan, nan, nan,  ..., nan, nan, nan], device='cuda:0')\n",
      "              precision    recall  f1-score   support\n",
      "\n",
      "         0.0       0.78      1.00      0.87     15543\n",
      "         1.0       0.00      0.00      0.00      4457\n",
      "\n",
      "    accuracy                           0.78     20000\n",
      "   macro avg       0.39      0.50      0.44     20000\n",
      "weighted avg       0.60      0.78      0.68     20000\n",
      "\n",
      "tensor([nan, nan, nan,  ..., nan, nan, nan], device='cuda:0')\n",
      "              precision    recall  f1-score   support\n",
      "\n",
      "         0.0       0.78      1.00      0.87     15543\n",
      "         1.0       0.00      0.00      0.00      4457\n",
      "\n",
      "    accuracy                           0.78     20000\n",
      "   macro avg       0.39      0.50      0.44     20000\n",
      "weighted avg       0.60      0.78      0.68     20000\n",
      "\n"
     ]
    },
    {
     "name": "stderr",
     "output_type": "stream",
     "text": [
      " 57%|█████▋    | 573/1000 [01:12<00:42, 10.12it/s]"
     ]
    },
    {
     "name": "stdout",
     "output_type": "stream",
     "text": [
      "tensor([nan, nan, nan,  ..., nan, nan, nan], device='cuda:0')\n",
      "              precision    recall  f1-score   support\n",
      "\n",
      "         0.0       0.78      1.00      0.87     15543\n",
      "         1.0       0.00      0.00      0.00      4457\n",
      "\n",
      "    accuracy                           0.78     20000\n",
      "   macro avg       0.39      0.50      0.44     20000\n",
      "weighted avg       0.60      0.78      0.68     20000\n",
      "\n",
      "tensor([nan, nan, nan,  ..., nan, nan, nan], device='cuda:0')\n",
      "              precision    recall  f1-score   support\n",
      "\n",
      "         0.0       0.78      1.00      0.87     15543\n",
      "         1.0       0.00      0.00      0.00      4457\n",
      "\n",
      "    accuracy                           0.78     20000\n",
      "   macro avg       0.39      0.50      0.44     20000\n",
      "weighted avg       0.60      0.78      0.68     20000\n",
      "\n",
      "tensor([nan, nan, nan,  ..., nan, nan, nan], device='cuda:0')\n"
     ]
    },
    {
     "name": "stderr",
     "output_type": "stream",
     "text": [
      "\r",
      " 57%|█████▊    | 575/1000 [01:12<00:45,  9.25it/s]"
     ]
    },
    {
     "name": "stdout",
     "output_type": "stream",
     "text": [
      "              precision    recall  f1-score   support\n",
      "\n",
      "         0.0       0.78      1.00      0.87     15543\n",
      "         1.0       0.00      0.00      0.00      4457\n",
      "\n",
      "    accuracy                           0.78     20000\n",
      "   macro avg       0.39      0.50      0.44     20000\n",
      "weighted avg       0.60      0.78      0.68     20000\n",
      "\n",
      "tensor([nan, nan, nan,  ..., nan, nan, nan], device='cuda:0')\n",
      "              precision    recall  f1-score   support\n",
      "\n",
      "         0.0       0.78      1.00      0.87     15543\n",
      "         1.0       0.00      0.00      0.00      4457\n",
      "\n",
      "    accuracy                           0.78     20000\n",
      "   macro avg       0.39      0.50      0.44     20000\n",
      "weighted avg       0.60      0.78      0.68     20000\n",
      "\n",
      "tensor([nan, nan, nan,  ..., nan, nan, nan], device='cuda:0')\n"
     ]
    },
    {
     "name": "stderr",
     "output_type": "stream",
     "text": [
      "\r",
      " 58%|█████▊    | 576/1000 [01:13<00:50,  8.38it/s]"
     ]
    },
    {
     "name": "stdout",
     "output_type": "stream",
     "text": [
      "              precision    recall  f1-score   support\n",
      "\n",
      "         0.0       0.78      1.00      0.87     15543\n",
      "         1.0       0.00      0.00      0.00      4457\n",
      "\n",
      "    accuracy                           0.78     20000\n",
      "   macro avg       0.39      0.50      0.44     20000\n",
      "weighted avg       0.60      0.78      0.68     20000\n",
      "\n",
      "tensor([nan, nan, nan,  ..., nan, nan, nan], device='cuda:0')\n",
      "              precision    recall  f1-score   support\n",
      "\n",
      "         0.0       0.78      1.00      0.87     15543\n",
      "         1.0       0.00      0.00      0.00      4457\n",
      "\n",
      "    accuracy                           0.78     20000\n",
      "   macro avg       0.39      0.50      0.44     20000\n",
      "weighted avg       0.60      0.78      0.68     20000\n",
      "\n",
      "tensor([nan, nan, nan,  ..., nan, nan, nan], device='cuda:0')\n"
     ]
    },
    {
     "name": "stderr",
     "output_type": "stream",
     "text": [
      " 58%|█████▊    | 579/1000 [01:13<00:50,  8.28it/s]"
     ]
    },
    {
     "name": "stdout",
     "output_type": "stream",
     "text": [
      "              precision    recall  f1-score   support\n",
      "\n",
      "         0.0       0.78      1.00      0.87     15543\n",
      "         1.0       0.00      0.00      0.00      4457\n",
      "\n",
      "    accuracy                           0.78     20000\n",
      "   macro avg       0.39      0.50      0.44     20000\n",
      "weighted avg       0.60      0.78      0.68     20000\n",
      "\n",
      "tensor([nan, nan, nan,  ..., nan, nan, nan], device='cuda:0')\n",
      "              precision    recall  f1-score   support\n",
      "\n",
      "         0.0       0.78      1.00      0.87     15543\n",
      "         1.0       0.00      0.00      0.00      4457\n",
      "\n",
      "    accuracy                           0.78     20000\n",
      "   macro avg       0.39      0.50      0.44     20000\n",
      "weighted avg       0.60      0.78      0.68     20000\n",
      "\n"
     ]
    },
    {
     "name": "stderr",
     "output_type": "stream",
     "text": [
      "\r",
      " 58%|█████▊    | 580/1000 [01:13<00:59,  7.07it/s]"
     ]
    },
    {
     "name": "stdout",
     "output_type": "stream",
     "text": [
      "tensor([nan, nan, nan,  ..., nan, nan, nan], device='cuda:0')\n",
      "              precision    recall  f1-score   support\n",
      "\n",
      "         0.0       0.78      1.00      0.87     15543\n",
      "         1.0       0.00      0.00      0.00      4457\n",
      "\n",
      "    accuracy                           0.78     20000\n",
      "   macro avg       0.39      0.50      0.44     20000\n",
      "weighted avg       0.60      0.78      0.68     20000\n",
      "\n",
      "tensor([nan, nan, nan,  ..., nan, nan, nan], device='cuda:0')\n"
     ]
    },
    {
     "name": "stderr",
     "output_type": "stream",
     "text": [
      "\r",
      " 58%|█████▊    | 582/1000 [01:13<00:54,  7.74it/s]"
     ]
    },
    {
     "name": "stdout",
     "output_type": "stream",
     "text": [
      "              precision    recall  f1-score   support\n",
      "\n",
      "         0.0       0.78      1.00      0.87     15543\n",
      "         1.0       0.00      0.00      0.00      4457\n",
      "\n",
      "    accuracy                           0.78     20000\n",
      "   macro avg       0.39      0.50      0.44     20000\n",
      "weighted avg       0.60      0.78      0.68     20000\n",
      "\n",
      "tensor([nan, nan, nan,  ..., nan, nan, nan], device='cuda:0')\n",
      "              precision    recall  f1-score   support\n",
      "\n",
      "         0.0       0.78      1.00      0.87     15543\n",
      "         1.0       0.00      0.00      0.00      4457\n",
      "\n",
      "    accuracy                           0.78     20000\n",
      "   macro avg       0.39      0.50      0.44     20000\n",
      "weighted avg       0.60      0.78      0.68     20000\n",
      "\n"
     ]
    },
    {
     "name": "stderr",
     "output_type": "stream",
     "text": [
      "\r",
      " 58%|█████▊    | 583/1000 [01:14<00:56,  7.37it/s]"
     ]
    },
    {
     "name": "stdout",
     "output_type": "stream",
     "text": [
      "tensor([nan, nan, nan,  ..., nan, nan, nan], device='cuda:0')\n",
      "              precision    recall  f1-score   support\n",
      "\n",
      "         0.0       0.78      1.00      0.87     15543\n",
      "         1.0       0.00      0.00      0.00      4457\n",
      "\n",
      "    accuracy                           0.78     20000\n",
      "   macro avg       0.39      0.50      0.44     20000\n",
      "weighted avg       0.60      0.78      0.68     20000\n",
      "\n",
      "tensor([nan, nan, nan,  ..., nan, nan, nan], device='cuda:0')\n",
      "              precision    recall  f1-score   support\n",
      "\n",
      "         0.0       0.78      1.00      0.87     15543\n",
      "         1.0       0.00      0.00      0.00      4457\n",
      "\n",
      "    accuracy                           0.78     20000\n",
      "   macro avg       0.39      0.50      0.44     20000\n",
      "weighted avg       0.60      0.78      0.68     20000\n",
      "\n"
     ]
    },
    {
     "name": "stderr",
     "output_type": "stream",
     "text": [
      " 59%|█████▊    | 586/1000 [01:14<00:52,  7.83it/s]"
     ]
    },
    {
     "name": "stdout",
     "output_type": "stream",
     "text": [
      "tensor([nan, nan, nan,  ..., nan, nan, nan], device='cuda:0')\n",
      "              precision    recall  f1-score   support\n",
      "\n",
      "         0.0       0.78      1.00      0.87     15543\n",
      "         1.0       0.00      0.00      0.00      4457\n",
      "\n",
      "    accuracy                           0.78     20000\n",
      "   macro avg       0.39      0.50      0.44     20000\n",
      "weighted avg       0.60      0.78      0.68     20000\n",
      "\n",
      "tensor([nan, nan, nan,  ..., nan, nan, nan], device='cuda:0')\n",
      "              precision    recall  f1-score   support\n",
      "\n",
      "         0.0       0.78      1.00      0.87     15543\n",
      "         1.0       0.00      0.00      0.00      4457\n",
      "\n",
      "    accuracy                           0.78     20000\n",
      "   macro avg       0.39      0.50      0.44     20000\n",
      "weighted avg       0.60      0.78      0.68     20000\n",
      "\n"
     ]
    },
    {
     "name": "stderr",
     "output_type": "stream",
     "text": [
      "\r",
      " 59%|█████▉    | 588/1000 [01:14<00:47,  8.60it/s]"
     ]
    },
    {
     "name": "stdout",
     "output_type": "stream",
     "text": [
      "tensor([nan, nan, nan,  ..., nan, nan, nan], device='cuda:0')\n",
      "              precision    recall  f1-score   support\n",
      "\n",
      "         0.0       0.78      1.00      0.87     15543\n",
      "         1.0       0.00      0.00      0.00      4457\n",
      "\n",
      "    accuracy                           0.78     20000\n",
      "   macro avg       0.39      0.50      0.44     20000\n",
      "weighted avg       0.60      0.78      0.68     20000\n",
      "\n",
      "tensor([nan, nan, nan,  ..., nan, nan, nan], device='cuda:0')\n",
      "              precision    recall  f1-score   support\n",
      "\n",
      "         0.0       0.78      1.00      0.87     15543\n",
      "         1.0       0.00      0.00      0.00      4457\n",
      "\n",
      "    accuracy                           0.78     20000\n",
      "   macro avg       0.39      0.50      0.44     20000\n",
      "weighted avg       0.60      0.78      0.68     20000\n",
      "\n"
     ]
    },
    {
     "name": "stderr",
     "output_type": "stream",
     "text": [
      "\r",
      " 59%|█████▉    | 589/1000 [01:14<00:50,  8.13it/s]"
     ]
    },
    {
     "name": "stdout",
     "output_type": "stream",
     "text": [
      "tensor([nan, nan, nan,  ..., nan, nan, nan], device='cuda:0')\n",
      "              precision    recall  f1-score   support\n",
      "\n",
      "         0.0       0.78      1.00      0.87     15543\n",
      "         1.0       0.00      0.00      0.00      4457\n",
      "\n",
      "    accuracy                           0.78     20000\n",
      "   macro avg       0.39      0.50      0.44     20000\n",
      "weighted avg       0.60      0.78      0.68     20000\n",
      "\n",
      "tensor([nan, nan, nan,  ..., nan, nan, nan], device='cuda:0')\n"
     ]
    },
    {
     "name": "stderr",
     "output_type": "stream",
     "text": [
      " 59%|█████▉    | 591/1000 [01:15<00:51,  7.94it/s]"
     ]
    },
    {
     "name": "stdout",
     "output_type": "stream",
     "text": [
      "              precision    recall  f1-score   support\n",
      "\n",
      "         0.0       0.78      1.00      0.87     15543\n",
      "         1.0       0.00      0.00      0.00      4457\n",
      "\n",
      "    accuracy                           0.78     20000\n",
      "   macro avg       0.39      0.50      0.44     20000\n",
      "weighted avg       0.60      0.78      0.68     20000\n",
      "\n",
      "tensor([nan, nan, nan,  ..., nan, nan, nan], device='cuda:0')\n",
      "              precision    recall  f1-score   support\n",
      "\n",
      "         0.0       0.78      1.00      0.87     15543\n",
      "         1.0       0.00      0.00      0.00      4457\n",
      "\n",
      "    accuracy                           0.78     20000\n",
      "   macro avg       0.39      0.50      0.44     20000\n",
      "weighted avg       0.60      0.78      0.68     20000\n",
      "\n",
      "tensor([nan, nan, nan,  ..., nan, nan, nan], device='cuda:0')\n"
     ]
    },
    {
     "name": "stderr",
     "output_type": "stream",
     "text": [
      "\r",
      " 59%|█████▉    | 592/1000 [01:15<00:58,  7.00it/s]"
     ]
    },
    {
     "name": "stdout",
     "output_type": "stream",
     "text": [
      "              precision    recall  f1-score   support\n",
      "\n",
      "         0.0       0.78      1.00      0.87     15543\n",
      "         1.0       0.00      0.00      0.00      4457\n",
      "\n",
      "    accuracy                           0.78     20000\n",
      "   macro avg       0.39      0.50      0.44     20000\n",
      "weighted avg       0.60      0.78      0.68     20000\n",
      "\n",
      "tensor([nan, nan, nan,  ..., nan, nan, nan], device='cuda:0')\n",
      "              precision    recall  f1-score   support\n",
      "\n",
      "         0.0       0.78      1.00      0.87     15543\n",
      "         1.0       0.00      0.00      0.00      4457\n",
      "\n",
      "    accuracy                           0.78     20000\n",
      "   macro avg       0.39      0.50      0.44     20000\n",
      "weighted avg       0.60      0.78      0.68     20000\n",
      "\n"
     ]
    },
    {
     "name": "stderr",
     "output_type": "stream",
     "text": [
      " 59%|█████▉    | 594/1000 [01:15<00:56,  7.24it/s]"
     ]
    },
    {
     "name": "stdout",
     "output_type": "stream",
     "text": [
      "tensor([nan, nan, nan,  ..., nan, nan, nan], device='cuda:0')\n",
      "              precision    recall  f1-score   support\n",
      "\n",
      "         0.0       0.78      1.00      0.87     15543\n",
      "         1.0       0.00      0.00      0.00      4457\n",
      "\n",
      "    accuracy                           0.78     20000\n",
      "   macro avg       0.39      0.50      0.44     20000\n",
      "weighted avg       0.60      0.78      0.68     20000\n",
      "\n",
      "tensor([nan, nan, nan,  ..., nan, nan, nan], device='cuda:0')\n",
      "              precision    recall  f1-score   support\n",
      "\n",
      "         0.0       0.78      1.00      0.87     15543\n",
      "         1.0       0.00      0.00      0.00      4457\n",
      "\n",
      "    accuracy                           0.78     20000\n",
      "   macro avg       0.39      0.50      0.44     20000\n",
      "weighted avg       0.60      0.78      0.68     20000\n",
      "\n"
     ]
    },
    {
     "name": "stderr",
     "output_type": "stream",
     "text": [
      " 60%|█████▉    | 596/1000 [01:15<01:05,  6.15it/s]"
     ]
    },
    {
     "name": "stdout",
     "output_type": "stream",
     "text": [
      "tensor([nan, nan, nan,  ..., nan, nan, nan], device='cuda:0')\n",
      "              precision    recall  f1-score   support\n",
      "\n",
      "         0.0       0.78      1.00      0.87     15543\n",
      "         1.0       0.00      0.00      0.00      4457\n",
      "\n",
      "    accuracy                           0.78     20000\n",
      "   macro avg       0.39      0.50      0.44     20000\n",
      "weighted avg       0.60      0.78      0.68     20000\n",
      "\n",
      "tensor([nan, nan, nan,  ..., nan, nan, nan], device='cuda:0')\n",
      "              precision    recall  f1-score   support\n",
      "\n",
      "         0.0       0.78      1.00      0.87     15543\n",
      "         1.0       0.00      0.00      0.00      4457\n",
      "\n",
      "    accuracy                           0.78     20000\n",
      "   macro avg       0.39      0.50      0.44     20000\n",
      "weighted avg       0.60      0.78      0.68     20000\n",
      "\n"
     ]
    },
    {
     "name": "stderr",
     "output_type": "stream",
     "text": [
      " 60%|█████▉    | 599/1000 [01:16<00:49,  8.05it/s]"
     ]
    },
    {
     "name": "stdout",
     "output_type": "stream",
     "text": [
      "tensor([nan, nan, nan,  ..., nan, nan, nan], device='cuda:0')\n",
      "              precision    recall  f1-score   support\n",
      "\n",
      "         0.0       0.78      1.00      0.87     15543\n",
      "         1.0       0.00      0.00      0.00      4457\n",
      "\n",
      "    accuracy                           0.78     20000\n",
      "   macro avg       0.39      0.50      0.44     20000\n",
      "weighted avg       0.60      0.78      0.68     20000\n",
      "\n",
      "tensor([nan, nan, nan,  ..., nan, nan, nan], device='cuda:0')\n",
      "              precision    recall  f1-score   support\n",
      "\n",
      "         0.0       0.78      1.00      0.87     15543\n",
      "         1.0       0.00      0.00      0.00      4457\n",
      "\n",
      "    accuracy                           0.78     20000\n",
      "   macro avg       0.39      0.50      0.44     20000\n",
      "weighted avg       0.60      0.78      0.68     20000\n",
      "\n",
      "tensor([nan, nan, nan,  ..., nan, nan, nan], device='cuda:0')\n"
     ]
    },
    {
     "name": "stderr",
     "output_type": "stream",
     "text": [
      "\r",
      " 60%|██████    | 601/1000 [01:16<00:44,  8.97it/s]"
     ]
    },
    {
     "name": "stdout",
     "output_type": "stream",
     "text": [
      "              precision    recall  f1-score   support\n",
      "\n",
      "         0.0       0.78      1.00      0.87     15543\n",
      "         1.0       0.00      0.00      0.00      4457\n",
      "\n",
      "    accuracy                           0.78     20000\n",
      "   macro avg       0.39      0.50      0.44     20000\n",
      "weighted avg       0.60      0.78      0.68     20000\n",
      "\n",
      "tensor([nan, nan, nan,  ..., nan, nan, nan], device='cuda:0')\n",
      "              precision    recall  f1-score   support\n",
      "\n",
      "         0.0       0.78      1.00      0.87     15543\n",
      "         1.0       0.00      0.00      0.00      4457\n",
      "\n",
      "    accuracy                           0.78     20000\n",
      "   macro avg       0.39      0.50      0.44     20000\n",
      "weighted avg       0.60      0.78      0.68     20000\n",
      "\n",
      "tensor([nan, nan, nan,  ..., nan, nan, nan], device='cuda:0')\n",
      "              precision    recall  f1-score   support\n",
      "\n",
      "         0.0       0.78      1.00      0.87     15543\n",
      "         1.0       0.00      0.00      0.00      4457\n",
      "\n",
      "    accuracy                           0.78     20000\n",
      "   macro avg       0.39      0.50      0.44     20000\n",
      "weighted avg       0.60      0.78      0.68     20000\n",
      "\n"
     ]
    },
    {
     "name": "stderr",
     "output_type": "stream",
     "text": [
      " 60%|██████    | 604/1000 [01:16<00:44,  8.98it/s]"
     ]
    },
    {
     "name": "stdout",
     "output_type": "stream",
     "text": [
      "tensor([nan, nan, nan,  ..., nan, nan, nan], device='cuda:0')\n",
      "              precision    recall  f1-score   support\n",
      "\n",
      "         0.0       0.78      1.00      0.87     15543\n",
      "         1.0       0.00      0.00      0.00      4457\n",
      "\n",
      "    accuracy                           0.78     20000\n",
      "   macro avg       0.39      0.50      0.44     20000\n",
      "weighted avg       0.60      0.78      0.68     20000\n",
      "\n",
      "tensor([nan, nan, nan,  ..., nan, nan, nan], device='cuda:0')\n",
      "              precision    recall  f1-score   support\n",
      "\n",
      "         0.0       0.78      1.00      0.87     15543\n",
      "         1.0       0.00      0.00      0.00      4457\n",
      "\n",
      "    accuracy                           0.78     20000\n",
      "   macro avg       0.39      0.50      0.44     20000\n",
      "weighted avg       0.60      0.78      0.68     20000\n",
      "\n"
     ]
    },
    {
     "name": "stderr",
     "output_type": "stream",
     "text": [
      " 61%|██████    | 606/1000 [01:16<00:44,  8.91it/s]"
     ]
    },
    {
     "name": "stdout",
     "output_type": "stream",
     "text": [
      "tensor([nan, nan, nan,  ..., nan, nan, nan], device='cuda:0')\n",
      "              precision    recall  f1-score   support\n",
      "\n",
      "         0.0       0.78      1.00      0.87     15543\n",
      "         1.0       0.00      0.00      0.00      4457\n",
      "\n",
      "    accuracy                           0.78     20000\n",
      "   macro avg       0.39      0.50      0.44     20000\n",
      "weighted avg       0.60      0.78      0.68     20000\n",
      "\n",
      "tensor([nan, nan, nan,  ..., nan, nan, nan], device='cuda:0')\n",
      "              precision    recall  f1-score   support\n",
      "\n",
      "         0.0       0.78      1.00      0.87     15543\n",
      "         1.0       0.00      0.00      0.00      4457\n",
      "\n",
      "    accuracy                           0.78     20000\n",
      "   macro avg       0.39      0.50      0.44     20000\n",
      "weighted avg       0.60      0.78      0.68     20000\n",
      "\n"
     ]
    },
    {
     "name": "stderr",
     "output_type": "stream",
     "text": [
      " 61%|██████    | 608/1000 [01:17<00:43,  9.06it/s]"
     ]
    },
    {
     "name": "stdout",
     "output_type": "stream",
     "text": [
      "tensor([nan, nan, nan,  ..., nan, nan, nan], device='cuda:0')\n",
      "              precision    recall  f1-score   support\n",
      "\n",
      "         0.0       0.78      1.00      0.87     15543\n",
      "         1.0       0.00      0.00      0.00      4457\n",
      "\n",
      "    accuracy                           0.78     20000\n",
      "   macro avg       0.39      0.50      0.44     20000\n",
      "weighted avg       0.60      0.78      0.68     20000\n",
      "\n",
      "tensor([nan, nan, nan,  ..., nan, nan, nan], device='cuda:0')\n",
      "              precision    recall  f1-score   support\n",
      "\n",
      "         0.0       0.78      1.00      0.87     15543\n",
      "         1.0       0.00      0.00      0.00      4457\n",
      "\n",
      "    accuracy                           0.78     20000\n",
      "   macro avg       0.39      0.50      0.44     20000\n",
      "weighted avg       0.60      0.78      0.68     20000\n",
      "\n"
     ]
    },
    {
     "name": "stderr",
     "output_type": "stream",
     "text": [
      "\r",
      " 61%|██████    | 610/1000 [01:17<00:43,  8.89it/s]"
     ]
    },
    {
     "name": "stdout",
     "output_type": "stream",
     "text": [
      "tensor([nan, nan, nan,  ..., nan, nan, nan], device='cuda:0')\n",
      "              precision    recall  f1-score   support\n",
      "\n",
      "         0.0       0.78      1.00      0.87     15543\n",
      "         1.0       0.00      0.00      0.00      4457\n",
      "\n",
      "    accuracy                           0.78     20000\n",
      "   macro avg       0.39      0.50      0.44     20000\n",
      "weighted avg       0.60      0.78      0.68     20000\n",
      "\n",
      "tensor([nan, nan, nan,  ..., nan, nan, nan], device='cuda:0')\n",
      "              precision    recall  f1-score   support\n",
      "\n",
      "         0.0       0.78      1.00      0.87     15543\n",
      "         1.0       0.00      0.00      0.00      4457\n",
      "\n",
      "    accuracy                           0.78     20000\n",
      "   macro avg       0.39      0.50      0.44     20000\n",
      "weighted avg       0.60      0.78      0.68     20000\n",
      "\n"
     ]
    },
    {
     "name": "stderr",
     "output_type": "stream",
     "text": [
      "\r",
      " 61%|██████    | 611/1000 [01:17<00:46,  8.34it/s]"
     ]
    },
    {
     "name": "stdout",
     "output_type": "stream",
     "text": [
      "tensor([nan, nan, nan,  ..., nan, nan, nan], device='cuda:0')\n",
      "              precision    recall  f1-score   support\n",
      "\n",
      "         0.0       0.78      1.00      0.87     15543\n",
      "         1.0       0.00      0.00      0.00      4457\n",
      "\n",
      "    accuracy                           0.78     20000\n",
      "   macro avg       0.39      0.50      0.44     20000\n",
      "weighted avg       0.60      0.78      0.68     20000\n",
      "\n",
      "tensor([nan, nan, nan,  ..., nan, nan, nan], device='cuda:0')\n",
      "              precision    recall  f1-score   support\n",
      "\n",
      "         0.0       0.78      1.00      0.87     15543\n",
      "         1.0       0.00      0.00      0.00      4457\n",
      "\n",
      "    accuracy                           0.78     20000\n",
      "   macro avg       0.39      0.50      0.44     20000\n",
      "weighted avg       0.60      0.78      0.68     20000\n",
      "\n"
     ]
    },
    {
     "name": "stderr",
     "output_type": "stream",
     "text": [
      "\r",
      " 61%|██████▏   | 613/1000 [01:17<00:43,  8.95it/s]"
     ]
    },
    {
     "name": "stdout",
     "output_type": "stream",
     "text": [
      "tensor([nan, nan, nan,  ..., nan, nan, nan], device='cuda:0')\n",
      "              precision    recall  f1-score   support\n",
      "\n",
      "         0.0       0.78      1.00      0.87     15543\n",
      "         1.0       0.00      0.00      0.00      4457\n",
      "\n",
      "    accuracy                           0.78     20000\n",
      "   macro avg       0.39      0.50      0.44     20000\n",
      "weighted avg       0.60      0.78      0.68     20000\n",
      "\n",
      "tensor([nan, nan, nan,  ..., nan, nan, nan], device='cuda:0')\n",
      "              precision    recall  f1-score   support\n",
      "\n",
      "         0.0       0.78      1.00      0.87     15543\n",
      "         1.0       0.00      0.00      0.00      4457\n",
      "\n",
      "    accuracy                           0.78     20000\n",
      "   macro avg       0.39      0.50      0.44     20000\n",
      "weighted avg       0.60      0.78      0.68     20000\n",
      "\n"
     ]
    },
    {
     "name": "stderr",
     "output_type": "stream",
     "text": [
      " 62%|██████▏   | 616/1000 [01:18<00:45,  8.44it/s]"
     ]
    },
    {
     "name": "stdout",
     "output_type": "stream",
     "text": [
      "tensor([nan, nan, nan,  ..., nan, nan, nan], device='cuda:0')\n",
      "              precision    recall  f1-score   support\n",
      "\n",
      "         0.0       0.78      1.00      0.87     15543\n",
      "         1.0       0.00      0.00      0.00      4457\n",
      "\n",
      "    accuracy                           0.78     20000\n",
      "   macro avg       0.39      0.50      0.44     20000\n",
      "weighted avg       0.60      0.78      0.68     20000\n",
      "\n",
      "tensor([nan, nan, nan,  ..., nan, nan, nan], device='cuda:0')\n",
      "              precision    recall  f1-score   support\n",
      "\n",
      "         0.0       0.78      1.00      0.87     15543\n",
      "         1.0       0.00      0.00      0.00      4457\n",
      "\n",
      "    accuracy                           0.78     20000\n",
      "   macro avg       0.39      0.50      0.44     20000\n",
      "weighted avg       0.60      0.78      0.68     20000\n",
      "\n"
     ]
    },
    {
     "name": "stderr",
     "output_type": "stream",
     "text": [
      "\r",
      " 62%|██████▏   | 617/1000 [01:18<00:48,  7.94it/s]"
     ]
    },
    {
     "name": "stdout",
     "output_type": "stream",
     "text": [
      "tensor([nan, nan, nan,  ..., nan, nan, nan], device='cuda:0')\n",
      "              precision    recall  f1-score   support\n",
      "\n",
      "         0.0       0.78      1.00      0.87     15543\n",
      "         1.0       0.00      0.00      0.00      4457\n",
      "\n",
      "    accuracy                           0.78     20000\n",
      "   macro avg       0.39      0.50      0.44     20000\n",
      "weighted avg       0.60      0.78      0.68     20000\n",
      "\n",
      "tensor([nan, nan, nan,  ..., nan, nan, nan], device='cuda:0')\n"
     ]
    },
    {
     "name": "stderr",
     "output_type": "stream",
     "text": [
      "\r",
      " 62%|██████▏   | 618/1000 [01:18<00:54,  7.05it/s]"
     ]
    },
    {
     "name": "stdout",
     "output_type": "stream",
     "text": [
      "              precision    recall  f1-score   support\n",
      "\n",
      "         0.0       0.78      1.00      0.87     15543\n",
      "         1.0       0.00      0.00      0.00      4457\n",
      "\n",
      "    accuracy                           0.78     20000\n",
      "   macro avg       0.39      0.50      0.44     20000\n",
      "weighted avg       0.60      0.78      0.68     20000\n",
      "\n",
      "tensor([nan, nan, nan,  ..., nan, nan, nan], device='cuda:0')\n",
      "              precision    recall  f1-score   support\n",
      "\n",
      "         0.0       0.78      1.00      0.87     15543\n",
      "         1.0       0.00      0.00      0.00      4457\n",
      "\n",
      "    accuracy                           0.78     20000\n",
      "   macro avg       0.39      0.50      0.44     20000\n",
      "weighted avg       0.60      0.78      0.68     20000\n",
      "\n"
     ]
    },
    {
     "name": "stderr",
     "output_type": "stream",
     "text": [
      " 62%|██████▏   | 621/1000 [01:18<00:52,  7.28it/s]"
     ]
    },
    {
     "name": "stdout",
     "output_type": "stream",
     "text": [
      "tensor([nan, nan, nan,  ..., nan, nan, nan], device='cuda:0')\n",
      "              precision    recall  f1-score   support\n",
      "\n",
      "         0.0       0.78      1.00      0.87     15543\n",
      "         1.0       0.00      0.00      0.00      4457\n",
      "\n",
      "    accuracy                           0.78     20000\n",
      "   macro avg       0.39      0.50      0.44     20000\n",
      "weighted avg       0.60      0.78      0.68     20000\n",
      "\n",
      "tensor([nan, nan, nan,  ..., nan, nan, nan], device='cuda:0')\n",
      "              precision    recall  f1-score   support\n",
      "\n",
      "         0.0       0.78      1.00      0.87     15543\n",
      "         1.0       0.00      0.00      0.00      4457\n",
      "\n",
      "    accuracy                           0.78     20000\n",
      "   macro avg       0.39      0.50      0.44     20000\n",
      "weighted avg       0.60      0.78      0.68     20000\n",
      "\n"
     ]
    },
    {
     "name": "stderr",
     "output_type": "stream",
     "text": [
      " 62%|██████▏   | 623/1000 [01:19<00:46,  8.07it/s]"
     ]
    },
    {
     "name": "stdout",
     "output_type": "stream",
     "text": [
      "tensor([nan, nan, nan,  ..., nan, nan, nan], device='cuda:0')\n",
      "              precision    recall  f1-score   support\n",
      "\n",
      "         0.0       0.78      1.00      0.87     15543\n",
      "         1.0       0.00      0.00      0.00      4457\n",
      "\n",
      "    accuracy                           0.78     20000\n",
      "   macro avg       0.39      0.50      0.44     20000\n",
      "weighted avg       0.60      0.78      0.68     20000\n",
      "\n",
      "tensor([nan, nan, nan,  ..., nan, nan, nan], device='cuda:0')\n",
      "              precision    recall  f1-score   support\n",
      "\n",
      "         0.0       0.78      1.00      0.87     15543\n",
      "         1.0       0.00      0.00      0.00      4457\n",
      "\n",
      "    accuracy                           0.78     20000\n",
      "   macro avg       0.39      0.50      0.44     20000\n",
      "weighted avg       0.60      0.78      0.68     20000\n",
      "\n"
     ]
    },
    {
     "name": "stderr",
     "output_type": "stream",
     "text": [
      "\r",
      " 62%|██████▎   | 625/1000 [01:19<00:45,  8.19it/s]"
     ]
    },
    {
     "name": "stdout",
     "output_type": "stream",
     "text": [
      "tensor([nan, nan, nan,  ..., nan, nan, nan], device='cuda:0')\n",
      "              precision    recall  f1-score   support\n",
      "\n",
      "         0.0       0.78      1.00      0.87     15543\n",
      "         1.0       0.00      0.00      0.00      4457\n",
      "\n",
      "    accuracy                           0.78     20000\n",
      "   macro avg       0.39      0.50      0.44     20000\n",
      "weighted avg       0.60      0.78      0.68     20000\n",
      "\n",
      "tensor([nan, nan, nan,  ..., nan, nan, nan], device='cuda:0')\n",
      "              precision    recall  f1-score   support\n",
      "\n",
      "         0.0       0.78      1.00      0.87     15543\n",
      "         1.0       0.00      0.00      0.00      4457\n",
      "\n",
      "    accuracy                           0.78     20000\n",
      "   macro avg       0.39      0.50      0.44     20000\n",
      "weighted avg       0.60      0.78      0.68     20000\n",
      "\n"
     ]
    },
    {
     "name": "stderr",
     "output_type": "stream",
     "text": [
      " 63%|██████▎   | 627/1000 [01:19<00:45,  8.17it/s]"
     ]
    },
    {
     "name": "stdout",
     "output_type": "stream",
     "text": [
      "tensor([nan, nan, nan,  ..., nan, nan, nan], device='cuda:0')\n",
      "              precision    recall  f1-score   support\n",
      "\n",
      "         0.0       0.78      1.00      0.87     15543\n",
      "         1.0       0.00      0.00      0.00      4457\n",
      "\n",
      "    accuracy                           0.78     20000\n",
      "   macro avg       0.39      0.50      0.44     20000\n",
      "weighted avg       0.60      0.78      0.68     20000\n",
      "\n",
      "tensor([nan, nan, nan,  ..., nan, nan, nan], device='cuda:0')\n",
      "              precision    recall  f1-score   support\n",
      "\n",
      "         0.0       0.78      1.00      0.87     15543\n",
      "         1.0       0.00      0.00      0.00      4457\n",
      "\n",
      "    accuracy                           0.78     20000\n",
      "   macro avg       0.39      0.50      0.44     20000\n",
      "weighted avg       0.60      0.78      0.68     20000\n",
      "\n"
     ]
    },
    {
     "name": "stderr",
     "output_type": "stream",
     "text": [
      "\r",
      " 63%|██████▎   | 629/1000 [01:19<00:40,  9.14it/s]"
     ]
    },
    {
     "name": "stdout",
     "output_type": "stream",
     "text": [
      "tensor([nan, nan, nan,  ..., nan, nan, nan], device='cuda:0')\n",
      "              precision    recall  f1-score   support\n",
      "\n",
      "         0.0       0.78      1.00      0.87     15543\n",
      "         1.0       0.00      0.00      0.00      4457\n",
      "\n",
      "    accuracy                           0.78     20000\n",
      "   macro avg       0.39      0.50      0.44     20000\n",
      "weighted avg       0.60      0.78      0.68     20000\n",
      "\n",
      "tensor([nan, nan, nan,  ..., nan, nan, nan], device='cuda:0')\n",
      "              precision    recall  f1-score   support\n",
      "\n",
      "         0.0       0.78      1.00      0.87     15543\n",
      "         1.0       0.00      0.00      0.00      4457\n",
      "\n",
      "    accuracy                           0.78     20000\n",
      "   macro avg       0.39      0.50      0.44     20000\n",
      "weighted avg       0.60      0.78      0.68     20000\n",
      "\n",
      "tensor([nan, nan, nan,  ..., nan, nan, nan], device='cuda:0')\n"
     ]
    },
    {
     "name": "stderr",
     "output_type": "stream",
     "text": [
      "\r",
      " 63%|██████▎   | 631/1000 [01:19<00:38,  9.51it/s]"
     ]
    },
    {
     "name": "stdout",
     "output_type": "stream",
     "text": [
      "              precision    recall  f1-score   support\n",
      "\n",
      "         0.0       0.78      1.00      0.87     15543\n",
      "         1.0       0.00      0.00      0.00      4457\n",
      "\n",
      "    accuracy                           0.78     20000\n",
      "   macro avg       0.39      0.50      0.44     20000\n",
      "weighted avg       0.60      0.78      0.68     20000\n",
      "\n",
      "tensor([nan, nan, nan,  ..., nan, nan, nan], device='cuda:0')\n",
      "              precision    recall  f1-score   support\n",
      "\n",
      "         0.0       0.78      1.00      0.87     15543\n",
      "         1.0       0.00      0.00      0.00      4457\n",
      "\n",
      "    accuracy                           0.78     20000\n",
      "   macro avg       0.39      0.50      0.44     20000\n",
      "weighted avg       0.60      0.78      0.68     20000\n",
      "\n",
      "tensor([nan, nan, nan,  ..., nan, nan, nan], device='cuda:0')\n",
      "              precision    recall  f1-score   support\n",
      "\n",
      "         0.0       0.78      1.00      0.87     15543\n",
      "         1.0       0.00      0.00      0.00      4457\n",
      "\n",
      "    accuracy                           0.78     20000\n",
      "   macro avg       0.39      0.50      0.44     20000\n",
      "weighted avg       0.60      0.78      0.68     20000\n",
      "\n"
     ]
    },
    {
     "name": "stderr",
     "output_type": "stream",
     "text": [
      "\r",
      " 63%|██████▎   | 633/1000 [01:20<00:37,  9.80it/s]"
     ]
    },
    {
     "name": "stdout",
     "output_type": "stream",
     "text": [
      "tensor([nan, nan, nan,  ..., nan, nan, nan], device='cuda:0')\n",
      "              precision    recall  f1-score   support\n",
      "\n",
      "         0.0       0.78      1.00      0.87     15543\n",
      "         1.0       0.00      0.00      0.00      4457\n",
      "\n",
      "    accuracy                           0.78     20000\n",
      "   macro avg       0.39      0.50      0.44     20000\n",
      "weighted avg       0.60      0.78      0.68     20000\n",
      "\n",
      "tensor([nan, nan, nan,  ..., nan, nan, nan], device='cuda:0')\n",
      "              precision    recall  f1-score   support\n",
      "\n",
      "         0.0       0.78      1.00      0.87     15543\n",
      "         1.0       0.00      0.00      0.00      4457\n",
      "\n",
      "    accuracy                           0.78     20000\n",
      "   macro avg       0.39      0.50      0.44     20000\n",
      "weighted avg       0.60      0.78      0.68     20000\n",
      "\n",
      "tensor([nan, nan, nan,  ..., nan, nan, nan], device='cuda:0')\n"
     ]
    },
    {
     "name": "stderr",
     "output_type": "stream",
     "text": [
      "\r",
      " 64%|██████▎   | 635/1000 [01:20<00:35, 10.34it/s]"
     ]
    },
    {
     "name": "stdout",
     "output_type": "stream",
     "text": [
      "              precision    recall  f1-score   support\n",
      "\n",
      "         0.0       0.78      1.00      0.87     15543\n",
      "         1.0       0.00      0.00      0.00      4457\n",
      "\n",
      "    accuracy                           0.78     20000\n",
      "   macro avg       0.39      0.50      0.44     20000\n",
      "weighted avg       0.60      0.78      0.68     20000\n",
      "\n",
      "tensor([nan, nan, nan,  ..., nan, nan, nan], device='cuda:0')\n",
      "              precision    recall  f1-score   support\n",
      "\n",
      "         0.0       0.78      1.00      0.87     15543\n",
      "         1.0       0.00      0.00      0.00      4457\n",
      "\n",
      "    accuracy                           0.78     20000\n",
      "   macro avg       0.39      0.50      0.44     20000\n",
      "weighted avg       0.60      0.78      0.68     20000\n",
      "\n",
      "tensor([nan, nan, nan,  ..., nan, nan, nan], device='cuda:0')\n",
      "              precision    recall  f1-score   support\n",
      "\n",
      "         0.0       0.78      1.00      0.87     15543\n",
      "         1.0       0.00      0.00      0.00      4457\n",
      "\n",
      "    accuracy                           0.78     20000\n",
      "   macro avg       0.39      0.50      0.44     20000\n",
      "weighted avg       0.60      0.78      0.68     20000\n",
      "\n"
     ]
    },
    {
     "name": "stderr",
     "output_type": "stream",
     "text": [
      " 64%|██████▍   | 639/1000 [01:20<00:36,  9.89it/s]"
     ]
    },
    {
     "name": "stdout",
     "output_type": "stream",
     "text": [
      "tensor([nan, nan, nan,  ..., nan, nan, nan], device='cuda:0')\n",
      "              precision    recall  f1-score   support\n",
      "\n",
      "         0.0       0.78      1.00      0.87     15543\n",
      "         1.0       0.00      0.00      0.00      4457\n",
      "\n",
      "    accuracy                           0.78     20000\n",
      "   macro avg       0.39      0.50      0.44     20000\n",
      "weighted avg       0.60      0.78      0.68     20000\n",
      "\n",
      "tensor([nan, nan, nan,  ..., nan, nan, nan], device='cuda:0')\n",
      "              precision    recall  f1-score   support\n",
      "\n",
      "         0.0       0.78      1.00      0.87     15543\n",
      "         1.0       0.00      0.00      0.00      4457\n",
      "\n",
      "    accuracy                           0.78     20000\n",
      "   macro avg       0.39      0.50      0.44     20000\n",
      "weighted avg       0.60      0.78      0.68     20000\n",
      "\n"
     ]
    },
    {
     "name": "stderr",
     "output_type": "stream",
     "text": [
      "\r",
      " 64%|██████▍   | 641/1000 [01:20<00:35, 10.19it/s]"
     ]
    },
    {
     "name": "stdout",
     "output_type": "stream",
     "text": [
      "tensor([nan, nan, nan,  ..., nan, nan, nan], device='cuda:0')\n",
      "              precision    recall  f1-score   support\n",
      "\n",
      "         0.0       0.78      1.00      0.87     15543\n",
      "         1.0       0.00      0.00      0.00      4457\n",
      "\n",
      "    accuracy                           0.78     20000\n",
      "   macro avg       0.39      0.50      0.44     20000\n",
      "weighted avg       0.60      0.78      0.68     20000\n",
      "\n",
      "tensor([nan, nan, nan,  ..., nan, nan, nan], device='cuda:0')\n",
      "              precision    recall  f1-score   support\n",
      "\n",
      "         0.0       0.78      1.00      0.87     15543\n",
      "         1.0       0.00      0.00      0.00      4457\n",
      "\n",
      "    accuracy                           0.78     20000\n",
      "   macro avg       0.39      0.50      0.44     20000\n",
      "weighted avg       0.60      0.78      0.68     20000\n",
      "\n",
      "tensor([nan, nan, nan,  ..., nan, nan, nan], device='cuda:0')\n"
     ]
    },
    {
     "name": "stderr",
     "output_type": "stream",
     "text": [
      "\r",
      " 64%|██████▍   | 643/1000 [01:21<00:38,  9.28it/s]"
     ]
    },
    {
     "name": "stdout",
     "output_type": "stream",
     "text": [
      "              precision    recall  f1-score   support\n",
      "\n",
      "         0.0       0.78      1.00      0.87     15543\n",
      "         1.0       0.00      0.00      0.00      4457\n",
      "\n",
      "    accuracy                           0.78     20000\n",
      "   macro avg       0.39      0.50      0.44     20000\n",
      "weighted avg       0.60      0.78      0.68     20000\n",
      "\n",
      "tensor([nan, nan, nan,  ..., nan, nan, nan], device='cuda:0')\n",
      "              precision    recall  f1-score   support\n",
      "\n",
      "         0.0       0.78      1.00      0.87     15543\n",
      "         1.0       0.00      0.00      0.00      4457\n",
      "\n",
      "    accuracy                           0.78     20000\n",
      "   macro avg       0.39      0.50      0.44     20000\n",
      "weighted avg       0.60      0.78      0.68     20000\n",
      "\n",
      "tensor([nan, nan, nan,  ..., nan, nan, nan], device='cuda:0')\n"
     ]
    },
    {
     "name": "stderr",
     "output_type": "stream",
     "text": [
      "\r",
      " 64%|██████▍   | 644/1000 [01:21<00:40,  8.88it/s]"
     ]
    },
    {
     "name": "stdout",
     "output_type": "stream",
     "text": [
      "              precision    recall  f1-score   support\n",
      "\n",
      "         0.0       0.78      1.00      0.87     15543\n",
      "         1.0       0.00      0.00      0.00      4457\n",
      "\n",
      "    accuracy                           0.78     20000\n",
      "   macro avg       0.39      0.50      0.44     20000\n",
      "weighted avg       0.60      0.78      0.68     20000\n",
      "\n",
      "tensor([nan, nan, nan,  ..., nan, nan, nan], device='cuda:0')\n",
      "              precision    recall  f1-score   support\n",
      "\n",
      "         0.0       0.78      1.00      0.87     15543\n",
      "         1.0       0.00      0.00      0.00      4457\n",
      "\n",
      "    accuracy                           0.78     20000\n",
      "   macro avg       0.39      0.50      0.44     20000\n",
      "weighted avg       0.60      0.78      0.68     20000\n",
      "\n"
     ]
    },
    {
     "name": "stderr",
     "output_type": "stream",
     "text": [
      " 65%|██████▍   | 646/1000 [01:21<00:53,  6.62it/s]"
     ]
    },
    {
     "name": "stdout",
     "output_type": "stream",
     "text": [
      "tensor([nan, nan, nan,  ..., nan, nan, nan], device='cuda:0')\n",
      "              precision    recall  f1-score   support\n",
      "\n",
      "         0.0       0.78      1.00      0.87     15543\n",
      "         1.0       0.00      0.00      0.00      4457\n",
      "\n",
      "    accuracy                           0.78     20000\n",
      "   macro avg       0.39      0.50      0.44     20000\n",
      "weighted avg       0.60      0.78      0.68     20000\n",
      "\n",
      "tensor([nan, nan, nan,  ..., nan, nan, nan], device='cuda:0')"
     ]
    },
    {
     "name": "stderr",
     "output_type": "stream",
     "text": [
      "\r",
      " 65%|██████▍   | 647/1000 [01:21<00:51,  6.81it/s]"
     ]
    },
    {
     "name": "stdout",
     "output_type": "stream",
     "text": [
      "\n",
      "              precision    recall  f1-score   support\n",
      "\n",
      "         0.0       0.78      1.00      0.87     15543\n",
      "         1.0       0.00      0.00      0.00      4457\n",
      "\n",
      "    accuracy                           0.78     20000\n",
      "   macro avg       0.39      0.50      0.44     20000\n",
      "weighted avg       0.60      0.78      0.68     20000\n",
      "\n",
      "tensor([nan, nan, nan,  ..., nan, nan, nan], device='cuda:0')\n",
      "              precision    recall  f1-score   support\n",
      "\n",
      "         0.0       0.78      1.00      0.87     15543\n",
      "         1.0       0.00      0.00      0.00      4457\n",
      "\n",
      "    accuracy                           0.78     20000\n",
      "   macro avg       0.39      0.50      0.44     20000\n",
      "weighted avg       0.60      0.78      0.68     20000\n",
      "\n"
     ]
    },
    {
     "name": "stderr",
     "output_type": "stream",
     "text": [
      "\r",
      " 65%|██████▍   | 649/1000 [01:22<00:50,  7.00it/s]"
     ]
    },
    {
     "name": "stdout",
     "output_type": "stream",
     "text": [
      "tensor([nan, nan, nan,  ..., nan, nan, nan], device='cuda:0')\n",
      "              precision    recall  f1-score   support\n",
      "\n",
      "         0.0       0.78      1.00      0.87     15543\n",
      "         1.0       0.00      0.00      0.00      4457\n",
      "\n",
      "    accuracy                           0.78     20000\n",
      "   macro avg       0.39      0.50      0.44     20000\n",
      "weighted avg       0.60      0.78      0.68     20000\n",
      "\n",
      "tensor([nan, nan, nan,  ..., nan, nan, nan], device='cuda:0')\n"
     ]
    },
    {
     "name": "stderr",
     "output_type": "stream",
     "text": [
      "\r",
      " 65%|██████▌   | 650/1000 [01:22<00:48,  7.15it/s]"
     ]
    },
    {
     "name": "stdout",
     "output_type": "stream",
     "text": [
      "              precision    recall  f1-score   support\n",
      "\n",
      "         0.0       0.78      1.00      0.87     15543\n",
      "         1.0       0.00      0.00      0.00      4457\n",
      "\n",
      "    accuracy                           0.78     20000\n",
      "   macro avg       0.39      0.50      0.44     20000\n",
      "weighted avg       0.60      0.78      0.68     20000\n",
      "\n",
      "tensor([nan, nan, nan,  ..., nan, nan, nan], device='cuda:0')\n",
      "              precision    recall  f1-score   support\n",
      "\n",
      "         0.0       0.78      1.00      0.87     15543\n",
      "         1.0       0.00      0.00      0.00      4457\n",
      "\n",
      "    accuracy                           0.78     20000\n",
      "   macro avg       0.39      0.50      0.44     20000\n",
      "weighted avg       0.60      0.78      0.68     20000\n",
      "\n"
     ]
    },
    {
     "name": "stderr",
     "output_type": "stream",
     "text": [
      " 65%|██████▌   | 652/1000 [01:22<00:54,  6.43it/s]"
     ]
    },
    {
     "name": "stdout",
     "output_type": "stream",
     "text": [
      "tensor([nan, nan, nan,  ..., nan, nan, nan], device='cuda:0')\n",
      "              precision    recall  f1-score   support\n",
      "\n",
      "         0.0       0.78      1.00      0.87     15543\n",
      "         1.0       0.00      0.00      0.00      4457\n",
      "\n",
      "    accuracy                           0.78     20000\n",
      "   macro avg       0.39      0.50      0.44     20000\n",
      "weighted avg       0.60      0.78      0.68     20000\n",
      "\n",
      "tensor([nan, nan, nan,  ..., nan, nan, nan], device='cuda:0')\n"
     ]
    },
    {
     "name": "stderr",
     "output_type": "stream",
     "text": [
      "\r",
      " 65%|██████▌   | 653/1000 [01:22<00:53,  6.47it/s]"
     ]
    },
    {
     "name": "stdout",
     "output_type": "stream",
     "text": [
      "              precision    recall  f1-score   support\n",
      "\n",
      "         0.0       0.78      1.00      0.87     15543\n",
      "         1.0       0.00      0.00      0.00      4457\n",
      "\n",
      "    accuracy                           0.78     20000\n",
      "   macro avg       0.39      0.50      0.44     20000\n",
      "weighted avg       0.60      0.78      0.68     20000\n",
      "\n",
      "tensor([nan, nan, nan,  ..., nan, nan, nan], device='cuda:0')\n",
      "              precision    recall  f1-score   support\n",
      "\n",
      "         0.0       0.78      1.00      0.87     15543\n",
      "         1.0       0.00      0.00      0.00      4457\n",
      "\n",
      "    accuracy                           0.78     20000\n",
      "   macro avg       0.39      0.50      0.44     20000\n",
      "weighted avg       0.60      0.78      0.68     20000\n",
      "\n"
     ]
    },
    {
     "name": "stderr",
     "output_type": "stream",
     "text": [
      " 66%|██████▌   | 655/1000 [01:23<00:53,  6.41it/s]"
     ]
    },
    {
     "name": "stdout",
     "output_type": "stream",
     "text": [
      "tensor([nan, nan, nan,  ..., nan, nan, nan], device='cuda:0')\n",
      "              precision    recall  f1-score   support\n",
      "\n",
      "         0.0       0.78      1.00      0.87     15543\n",
      "         1.0       0.00      0.00      0.00      4457\n",
      "\n",
      "    accuracy                           0.78     20000\n",
      "   macro avg       0.39      0.50      0.44     20000\n",
      "weighted avg       0.60      0.78      0.68     20000\n",
      "\n",
      "tensor([nan, nan, nan,  ..., nan, nan, nan], device='cuda:0')\n",
      "              precision    recall  f1-score   support\n",
      "\n",
      "         0.0       0.78      1.00      0.87     15543\n",
      "         1.0       0.00      0.00      0.00      4457\n",
      "\n",
      "    accuracy                           0.78     20000\n",
      "   macro avg       0.39      0.50      0.44     20000\n",
      "weighted avg       0.60      0.78      0.68     20000\n",
      "\n"
     ]
    },
    {
     "name": "stderr",
     "output_type": "stream",
     "text": [
      "\r",
      " 66%|██████▌   | 657/1000 [01:23<00:46,  7.40it/s]"
     ]
    },
    {
     "name": "stdout",
     "output_type": "stream",
     "text": [
      "tensor([nan, nan, nan,  ..., nan, nan, nan], device='cuda:0')\n",
      "              precision    recall  f1-score   support\n",
      "\n",
      "         0.0       0.78      1.00      0.87     15543\n",
      "         1.0       0.00      0.00      0.00      4457\n",
      "\n",
      "    accuracy                           0.78     20000\n",
      "   macro avg       0.39      0.50      0.44     20000\n",
      "weighted avg       0.60      0.78      0.68     20000\n",
      "\n",
      "tensor([nan, nan, nan,  ..., nan, nan, nan], device='cuda:0')\n",
      "              precision    recall  f1-score   support\n",
      "\n",
      "         0.0       0.78      1.00      0.87     15543\n",
      "         1.0       0.00      0.00      0.00      4457\n",
      "\n",
      "    accuracy                           0.78     20000\n",
      "   macro avg       0.39      0.50      0.44     20000\n",
      "weighted avg       0.60      0.78      0.68     20000\n",
      "\n"
     ]
    },
    {
     "name": "stderr",
     "output_type": "stream",
     "text": [
      " 66%|██████▌   | 660/1000 [01:23<00:41,  8.26it/s]"
     ]
    },
    {
     "name": "stdout",
     "output_type": "stream",
     "text": [
      "tensor([nan, nan, nan,  ..., nan, nan, nan], device='cuda:0')\n",
      "              precision    recall  f1-score   support\n",
      "\n",
      "         0.0       0.78      1.00      0.87     15543\n",
      "         1.0       0.00      0.00      0.00      4457\n",
      "\n",
      "    accuracy                           0.78     20000\n",
      "   macro avg       0.39      0.50      0.44     20000\n",
      "weighted avg       0.60      0.78      0.68     20000\n",
      "\n",
      "tensor([nan, nan, nan,  ..., nan, nan, nan], device='cuda:0')\n",
      "              precision    recall  f1-score   support\n",
      "\n",
      "         0.0       0.78      1.00      0.87     15543\n",
      "         1.0       0.00      0.00      0.00      4457\n",
      "\n",
      "    accuracy                           0.78     20000\n",
      "   macro avg       0.39      0.50      0.44     20000\n",
      "weighted avg       0.60      0.78      0.68     20000\n",
      "\n",
      "tensor([nan, nan, nan,  ..., nan, nan, nan], device='cuda:0')"
     ]
    },
    {
     "name": "stderr",
     "output_type": "stream",
     "text": [
      "\r",
      " 66%|██████▌   | 662/1000 [01:23<00:38,  8.78it/s]"
     ]
    },
    {
     "name": "stdout",
     "output_type": "stream",
     "text": [
      "\n",
      "              precision    recall  f1-score   support\n",
      "\n",
      "         0.0       0.78      1.00      0.87     15543\n",
      "         1.0       0.00      0.00      0.00      4457\n",
      "\n",
      "    accuracy                           0.78     20000\n",
      "   macro avg       0.39      0.50      0.44     20000\n",
      "weighted avg       0.60      0.78      0.68     20000\n",
      "\n",
      "tensor([nan, nan, nan,  ..., nan, nan, nan], device='cuda:0')\n",
      "              precision    recall  f1-score   support\n",
      "\n",
      "         0.0       0.78      1.00      0.87     15543\n",
      "         1.0       0.00      0.00      0.00      4457\n",
      "\n",
      "    accuracy                           0.78     20000\n",
      "   macro avg       0.39      0.50      0.44     20000\n",
      "weighted avg       0.60      0.78      0.68     20000\n",
      "\n",
      "tensor([nan, nan, nan,  ..., nan, nan, nan], device='cuda:0')\n"
     ]
    },
    {
     "name": "stderr",
     "output_type": "stream",
     "text": [
      "\r",
      " 66%|██████▋   | 664/1000 [01:24<00:36,  9.23it/s]"
     ]
    },
    {
     "name": "stdout",
     "output_type": "stream",
     "text": [
      "              precision    recall  f1-score   support\n",
      "\n",
      "         0.0       0.78      1.00      0.87     15543\n",
      "         1.0       0.00      0.00      0.00      4457\n",
      "\n",
      "    accuracy                           0.78     20000\n",
      "   macro avg       0.39      0.50      0.44     20000\n",
      "weighted avg       0.60      0.78      0.68     20000\n",
      "\n",
      "tensor([nan, nan, nan,  ..., nan, nan, nan], device='cuda:0')\n",
      "              precision    recall  f1-score   support\n",
      "\n",
      "         0.0       0.78      1.00      0.87     15543\n",
      "         1.0       0.00      0.00      0.00      4457\n",
      "\n",
      "    accuracy                           0.78     20000\n",
      "   macro avg       0.39      0.50      0.44     20000\n",
      "weighted avg       0.60      0.78      0.68     20000\n",
      "\n",
      "tensor([nan, nan, nan,  ..., nan, nan, nan], device='cuda:0')\n",
      "              precision    recall  f1-score   support\n",
      "\n",
      "         0.0       0.78      1.00      0.87     15543\n",
      "         1.0       0.00      0.00      0.00      4457\n",
      "\n",
      "    accuracy                           0.78     20000\n",
      "   macro avg       0.39      0.50      0.44     20000\n",
      "weighted avg       0.60      0.78      0.68     20000\n",
      "\n"
     ]
    },
    {
     "name": "stderr",
     "output_type": "stream",
     "text": [
      "\r",
      " 67%|██████▋   | 666/1000 [01:24<00:36,  9.03it/s]"
     ]
    },
    {
     "name": "stdout",
     "output_type": "stream",
     "text": [
      "tensor([nan, nan, nan,  ..., nan, nan, nan], device='cuda:0')\n",
      "              precision    recall  f1-score   support\n",
      "\n",
      "         0.0       0.78      1.00      0.87     15543\n",
      "         1.0       0.00      0.00      0.00      4457\n",
      "\n",
      "    accuracy                           0.78     20000\n",
      "   macro avg       0.39      0.50      0.44     20000\n",
      "weighted avg       0.60      0.78      0.68     20000\n",
      "\n",
      "tensor([nan, nan, nan,  ..., nan, nan, nan], device='cuda:0')\n",
      "              precision    recall  f1-score   support\n",
      "\n",
      "         0.0       0.78      1.00      0.87     15543\n",
      "         1.0       0.00      0.00      0.00      4457\n",
      "\n",
      "    accuracy                           0.78     20000\n",
      "   macro avg       0.39      0.50      0.44     20000\n",
      "weighted avg       0.60      0.78      0.68     20000\n",
      "\n"
     ]
    },
    {
     "name": "stderr",
     "output_type": "stream",
     "text": [
      "\r",
      " 67%|██████▋   | 668/1000 [01:24<00:35,  9.34it/s]"
     ]
    },
    {
     "name": "stdout",
     "output_type": "stream",
     "text": [
      "tensor([nan, nan, nan,  ..., nan, nan, nan], device='cuda:0')\n",
      "              precision    recall  f1-score   support\n",
      "\n",
      "         0.0       0.78      1.00      0.87     15543\n",
      "         1.0       0.00      0.00      0.00      4457\n",
      "\n",
      "    accuracy                           0.78     20000\n",
      "   macro avg       0.39      0.50      0.44     20000\n",
      "weighted avg       0.60      0.78      0.68     20000\n",
      "\n",
      "tensor([nan, nan, nan,  ..., nan, nan, nan], device='cuda:0')\n",
      "              precision    recall  f1-score   support\n",
      "\n",
      "         0.0       0.78      1.00      0.87     15543\n",
      "         1.0       0.00      0.00      0.00      4457\n",
      "\n",
      "    accuracy                           0.78     20000\n",
      "   macro avg       0.39      0.50      0.44     20000\n",
      "weighted avg       0.60      0.78      0.68     20000\n",
      "\n",
      "tensor([nan, nan, nan,  ..., nan, nan, nan], device='cuda:0')\n"
     ]
    },
    {
     "name": "stderr",
     "output_type": "stream",
     "text": [
      " 67%|██████▋   | 671/1000 [01:24<00:35,  9.36it/s]"
     ]
    },
    {
     "name": "stdout",
     "output_type": "stream",
     "text": [
      "              precision    recall  f1-score   support\n",
      "\n",
      "         0.0       0.78      1.00      0.87     15543\n",
      "         1.0       0.00      0.00      0.00      4457\n",
      "\n",
      "    accuracy                           0.78     20000\n",
      "   macro avg       0.39      0.50      0.44     20000\n",
      "weighted avg       0.60      0.78      0.68     20000\n",
      "\n",
      "tensor([nan, nan, nan,  ..., nan, nan, nan], device='cuda:0')\n",
      "              precision    recall  f1-score   support\n",
      "\n",
      "         0.0       0.78      1.00      0.87     15543\n",
      "         1.0       0.00      0.00      0.00      4457\n",
      "\n",
      "    accuracy                           0.78     20000\n",
      "   macro avg       0.39      0.50      0.44     20000\n",
      "weighted avg       0.60      0.78      0.68     20000\n",
      "\n",
      "tensor([nan, nan, nan,  ..., nan, nan, nan], device='cuda:0')\n"
     ]
    },
    {
     "name": "stderr",
     "output_type": "stream",
     "text": [
      " 67%|██████▋   | 674/1000 [01:25<00:32, 10.02it/s]"
     ]
    },
    {
     "name": "stdout",
     "output_type": "stream",
     "text": [
      "              precision    recall  f1-score   support\n",
      "\n",
      "         0.0       0.78      1.00      0.87     15543\n",
      "         1.0       0.00      0.00      0.00      4457\n",
      "\n",
      "    accuracy                           0.78     20000\n",
      "   macro avg       0.39      0.50      0.44     20000\n",
      "weighted avg       0.60      0.78      0.68     20000\n",
      "\n",
      "tensor([nan, nan, nan,  ..., nan, nan, nan], device='cuda:0')\n",
      "              precision    recall  f1-score   support\n",
      "\n",
      "         0.0       0.78      1.00      0.87     15543\n",
      "         1.0       0.00      0.00      0.00      4457\n",
      "\n",
      "    accuracy                           0.78     20000\n",
      "   macro avg       0.39      0.50      0.44     20000\n",
      "weighted avg       0.60      0.78      0.68     20000\n",
      "\n",
      "tensor([nan, nan, nan,  ..., nan, nan, nan], device='cuda:0')\n",
      "              precision    recall  f1-score   support\n",
      "\n",
      "         0.0       0.78      1.00      0.87     15543\n",
      "         1.0       0.00      0.00      0.00      4457\n",
      "\n",
      "    accuracy                           0.78     20000\n",
      "   macro avg       0.39      0.50      0.44     20000\n",
      "weighted avg       0.60      0.78      0.68     20000\n",
      "\n"
     ]
    },
    {
     "name": "stderr",
     "output_type": "stream",
     "text": [
      "\r",
      " 68%|██████▊   | 675/1000 [01:25<00:36,  8.89it/s]"
     ]
    },
    {
     "name": "stdout",
     "output_type": "stream",
     "text": [
      "tensor([nan, nan, nan,  ..., nan, nan, nan], device='cuda:0')\n",
      "              precision    recall  f1-score   support\n",
      "\n",
      "         0.0       0.78      1.00      0.87     15543\n",
      "         1.0       0.00      0.00      0.00      4457\n",
      "\n",
      "    accuracy                           0.78     20000\n",
      "   macro avg       0.39      0.50      0.44     20000\n",
      "weighted avg       0.60      0.78      0.68     20000\n",
      "\n",
      "tensor([nan, nan, nan,  ..., nan, nan, nan], device='cuda:0')\n"
     ]
    },
    {
     "name": "stderr",
     "output_type": "stream",
     "text": [
      " 68%|██████▊   | 677/1000 [01:25<00:41,  7.86it/s]"
     ]
    },
    {
     "name": "stdout",
     "output_type": "stream",
     "text": [
      "              precision    recall  f1-score   support\n",
      "\n",
      "         0.0       0.78      1.00      0.87     15543\n",
      "         1.0       0.00      0.00      0.00      4457\n",
      "\n",
      "    accuracy                           0.78     20000\n",
      "   macro avg       0.39      0.50      0.44     20000\n",
      "weighted avg       0.60      0.78      0.68     20000\n",
      "\n",
      "tensor([nan, nan, nan,  ..., nan, nan, nan], device='cuda:0')\n",
      "              precision    recall  f1-score   support\n",
      "\n",
      "         0.0       0.78      1.00      0.87     15543\n",
      "         1.0       0.00      0.00      0.00      4457\n",
      "\n",
      "    accuracy                           0.78     20000\n",
      "   macro avg       0.39      0.50      0.44     20000\n",
      "weighted avg       0.60      0.78      0.68     20000\n",
      "\n"
     ]
    },
    {
     "name": "stderr",
     "output_type": "stream",
     "text": [
      "\r",
      " 68%|██████▊   | 678/1000 [01:25<00:40,  8.00it/s]"
     ]
    },
    {
     "name": "stdout",
     "output_type": "stream",
     "text": [
      "tensor([nan, nan, nan,  ..., nan, nan, nan], device='cuda:0')\n",
      "              precision    recall  f1-score   support\n",
      "\n",
      "         0.0       0.78      1.00      0.87     15543\n",
      "         1.0       0.00      0.00      0.00      4457\n",
      "\n",
      "    accuracy                           0.78     20000\n",
      "   macro avg       0.39      0.50      0.44     20000\n",
      "weighted avg       0.60      0.78      0.68     20000\n",
      "\n",
      "tensor([nan, nan, nan,  ..., nan, nan, nan], device='cuda:0')\n",
      "              precision    recall  f1-score   support\n",
      "\n",
      "         0.0       0.78      1.00      0.87     15543\n",
      "         1.0       0.00      0.00      0.00      4457\n",
      "\n",
      "    accuracy                           0.78     20000\n",
      "   macro avg       0.39      0.50      0.44     20000\n",
      "weighted avg       0.60      0.78      0.68     20000\n",
      "\n"
     ]
    },
    {
     "name": "stderr",
     "output_type": "stream",
     "text": [
      " 68%|██████▊   | 680/1000 [01:26<00:46,  6.89it/s]"
     ]
    },
    {
     "name": "stdout",
     "output_type": "stream",
     "text": [
      "tensor([nan, nan, nan,  ..., nan, nan, nan], device='cuda:0')\n",
      "              precision    recall  f1-score   support\n",
      "\n",
      "         0.0       0.78      1.00      0.87     15543\n",
      "         1.0       0.00      0.00      0.00      4457\n",
      "\n",
      "    accuracy                           0.78     20000\n",
      "   macro avg       0.39      0.50      0.44     20000\n",
      "weighted avg       0.60      0.78      0.68     20000\n",
      "\n",
      "tensor([nan, nan, nan,  ..., nan, nan, nan], device='cuda:0')\n"
     ]
    },
    {
     "name": "stderr",
     "output_type": "stream",
     "text": [
      "\r",
      " 68%|██████▊   | 682/1000 [01:26<00:39,  8.08it/s]"
     ]
    },
    {
     "name": "stdout",
     "output_type": "stream",
     "text": [
      "              precision    recall  f1-score   support\n",
      "\n",
      "         0.0       0.78      1.00      0.87     15543\n",
      "         1.0       0.00      0.00      0.00      4457\n",
      "\n",
      "    accuracy                           0.78     20000\n",
      "   macro avg       0.39      0.50      0.44     20000\n",
      "weighted avg       0.60      0.78      0.68     20000\n",
      "\n",
      "tensor([nan, nan, nan,  ..., nan, nan, nan], device='cuda:0')\n",
      "              precision    recall  f1-score   support\n",
      "\n",
      "         0.0       0.78      1.00      0.87     15543\n",
      "         1.0       0.00      0.00      0.00      4457\n",
      "\n",
      "    accuracy                           0.78     20000\n",
      "   macro avg       0.39      0.50      0.44     20000\n",
      "weighted avg       0.60      0.78      0.68     20000\n",
      "\n",
      "tensor([nan, nan, nan,  ..., nan, nan, nan], device='cuda:0')\n",
      "              precision    recall  f1-score   support\n",
      "\n",
      "         0.0       0.78      1.00      0.87     15543\n",
      "         1.0       0.00      0.00      0.00      4457\n",
      "\n",
      "    accuracy                           0.78     20000\n",
      "   macro avg       0.39      0.50      0.44     20000\n",
      "weighted avg       0.60      0.78      0.68     20000\n",
      "\n"
     ]
    },
    {
     "name": "stderr",
     "output_type": "stream",
     "text": [
      "\r",
      " 68%|██████▊   | 684/1000 [01:26<00:37,  8.32it/s]"
     ]
    },
    {
     "name": "stdout",
     "output_type": "stream",
     "text": [
      "tensor([nan, nan, nan,  ..., nan, nan, nan], device='cuda:0')\n",
      "              precision    recall  f1-score   support\n",
      "\n",
      "         0.0       0.78      1.00      0.87     15543\n",
      "         1.0       0.00      0.00      0.00      4457\n",
      "\n",
      "    accuracy                           0.78     20000\n",
      "   macro avg       0.39      0.50      0.44     20000\n",
      "weighted avg       0.60      0.78      0.68     20000\n",
      "\n",
      "tensor([nan, nan, nan,  ..., nan, nan, nan], device='cuda:0')\n"
     ]
    },
    {
     "name": "stderr",
     "output_type": "stream",
     "text": [
      " 69%|██████▊   | 686/1000 [01:26<00:39,  8.02it/s]"
     ]
    },
    {
     "name": "stdout",
     "output_type": "stream",
     "text": [
      "              precision    recall  f1-score   support\n",
      "\n",
      "         0.0       0.78      1.00      0.87     15543\n",
      "         1.0       0.00      0.00      0.00      4457\n",
      "\n",
      "    accuracy                           0.78     20000\n",
      "   macro avg       0.39      0.50      0.44     20000\n",
      "weighted avg       0.60      0.78      0.68     20000\n",
      "\n",
      "tensor([nan, nan, nan,  ..., nan, nan, nan], device='cuda:0')\n",
      "              precision    recall  f1-score   support\n",
      "\n",
      "         0.0       0.78      1.00      0.87     15543\n",
      "         1.0       0.00      0.00      0.00      4457\n",
      "\n",
      "    accuracy                           0.78     20000\n",
      "   macro avg       0.39      0.50      0.44     20000\n",
      "weighted avg       0.60      0.78      0.68     20000\n",
      "\n",
      "tensor([nan, nan, nan,  ..., nan, nan, nan], device='cuda:0')\n"
     ]
    },
    {
     "name": "stderr",
     "output_type": "stream",
     "text": [
      "\r",
      " 69%|██████▉   | 688/1000 [01:26<00:35,  8.68it/s]"
     ]
    },
    {
     "name": "stdout",
     "output_type": "stream",
     "text": [
      "              precision    recall  f1-score   support\n",
      "\n",
      "         0.0       0.78      1.00      0.87     15543\n",
      "         1.0       0.00      0.00      0.00      4457\n",
      "\n",
      "    accuracy                           0.78     20000\n",
      "   macro avg       0.39      0.50      0.44     20000\n",
      "weighted avg       0.60      0.78      0.68     20000\n",
      "\n",
      "tensor([nan, nan, nan,  ..., nan, nan, nan], device='cuda:0')\n",
      "              precision    recall  f1-score   support\n",
      "\n",
      "         0.0       0.78      1.00      0.87     15543\n",
      "         1.0       0.00      0.00      0.00      4457\n",
      "\n",
      "    accuracy                           0.78     20000\n",
      "   macro avg       0.39      0.50      0.44     20000\n",
      "weighted avg       0.60      0.78      0.68     20000\n",
      "\n",
      "tensor([nan, nan, nan,  ..., nan, nan, nan], device='cuda:0')\n"
     ]
    },
    {
     "name": "stderr",
     "output_type": "stream",
     "text": [
      " 69%|██████▉   | 690/1000 [01:27<00:36,  8.58it/s]"
     ]
    },
    {
     "name": "stdout",
     "output_type": "stream",
     "text": [
      "              precision    recall  f1-score   support\n",
      "\n",
      "         0.0       0.78      1.00      0.87     15543\n",
      "         1.0       0.00      0.00      0.00      4457\n",
      "\n",
      "    accuracy                           0.78     20000\n",
      "   macro avg       0.39      0.50      0.44     20000\n",
      "weighted avg       0.60      0.78      0.68     20000\n",
      "\n",
      "tensor([nan, nan, nan,  ..., nan, nan, nan], device='cuda:0')\n",
      "              precision    recall  f1-score   support\n",
      "\n",
      "         0.0       0.78      1.00      0.87     15543\n",
      "         1.0       0.00      0.00      0.00      4457\n",
      "\n",
      "    accuracy                           0.78     20000\n",
      "   macro avg       0.39      0.50      0.44     20000\n",
      "weighted avg       0.60      0.78      0.68     20000\n",
      "\n",
      "tensor([nan, nan, nan,  ..., nan, nan, nan], device='cuda:0')\n"
     ]
    },
    {
     "name": "stderr",
     "output_type": "stream",
     "text": [
      " 69%|██████▉   | 692/1000 [01:27<00:35,  8.58it/s]"
     ]
    },
    {
     "name": "stdout",
     "output_type": "stream",
     "text": [
      "              precision    recall  f1-score   support\n",
      "\n",
      "         0.0       0.78      1.00      0.87     15543\n",
      "         1.0       0.00      0.00      0.00      4457\n",
      "\n",
      "    accuracy                           0.78     20000\n",
      "   macro avg       0.39      0.50      0.44     20000\n",
      "weighted avg       0.60      0.78      0.68     20000\n",
      "\n",
      "tensor([nan, nan, nan,  ..., nan, nan, nan], device='cuda:0')\n",
      "              precision    recall  f1-score   support\n",
      "\n",
      "         0.0       0.78      1.00      0.87     15543\n",
      "         1.0       0.00      0.00      0.00      4457\n",
      "\n",
      "    accuracy                           0.78     20000\n",
      "   macro avg       0.39      0.50      0.44     20000\n",
      "weighted avg       0.60      0.78      0.68     20000\n",
      "\n",
      "tensor([nan, nan, nan,  ..., nan, nan, nan], device='cuda:0')\n"
     ]
    },
    {
     "name": "stderr",
     "output_type": "stream",
     "text": [
      " 69%|██████▉   | 694/1000 [01:27<00:35,  8.65it/s]"
     ]
    },
    {
     "name": "stdout",
     "output_type": "stream",
     "text": [
      "              precision    recall  f1-score   support\n",
      "\n",
      "         0.0       0.78      1.00      0.87     15543\n",
      "         1.0       0.00      0.00      0.00      4457\n",
      "\n",
      "    accuracy                           0.78     20000\n",
      "   macro avg       0.39      0.50      0.44     20000\n",
      "weighted avg       0.60      0.78      0.68     20000\n",
      "\n",
      "tensor([nan, nan, nan,  ..., nan, nan, nan], device='cuda:0')\n",
      "              precision    recall  f1-score   support\n",
      "\n",
      "         0.0       0.78      1.00      0.87     15543\n",
      "         1.0       0.00      0.00      0.00      4457\n",
      "\n",
      "    accuracy                           0.78     20000\n",
      "   macro avg       0.39      0.50      0.44     20000\n",
      "weighted avg       0.60      0.78      0.68     20000\n",
      "\n",
      "tensor([nan, nan, nan,  ..., nan, nan, nan], device='cuda:0')\n",
      "              precision    recall  f1-score   support\n",
      "\n",
      "         0.0       0.78      1.00      0.87     15543\n",
      "         1.0       0.00      0.00      0.00      4457\n",
      "\n",
      "    accuracy                           0.78     20000\n",
      "   macro avg       0.39      0.50      0.44     20000\n",
      "weighted avg       0.60      0.78      0.68     20000\n",
      "\n"
     ]
    },
    {
     "name": "stderr",
     "output_type": "stream",
     "text": [
      "\r",
      " 70%|██████▉   | 696/1000 [01:27<00:33,  8.98it/s]"
     ]
    },
    {
     "name": "stdout",
     "output_type": "stream",
     "text": [
      "tensor([nan, nan, nan,  ..., nan, nan, nan], device='cuda:0')\n",
      "              precision    recall  f1-score   support\n",
      "\n",
      "         0.0       0.78      1.00      0.87     15543\n",
      "         1.0       0.00      0.00      0.00      4457\n",
      "\n",
      "    accuracy                           0.78     20000\n",
      "   macro avg       0.39      0.50      0.44     20000\n",
      "weighted avg       0.60      0.78      0.68     20000\n",
      "\n",
      "tensor([nan, nan, nan,  ..., nan, nan, nan], device='cuda:0')\n",
      "              precision    recall  f1-score   support\n",
      "\n",
      "         0.0       0.78      1.00      0.87     15543\n",
      "         1.0       0.00      0.00      0.00      4457\n",
      "\n",
      "    accuracy                           0.78     20000\n",
      "   macro avg       0.39      0.50      0.44     20000\n",
      "weighted avg       0.60      0.78      0.68     20000\n",
      "\n"
     ]
    },
    {
     "name": "stderr",
     "output_type": "stream",
     "text": [
      " 70%|██████▉   | 698/1000 [01:28<00:35,  8.56it/s]"
     ]
    },
    {
     "name": "stdout",
     "output_type": "stream",
     "text": [
      "tensor([nan, nan, nan,  ..., nan, nan, nan], device='cuda:0')\n",
      "              precision    recall  f1-score   support\n",
      "\n",
      "         0.0       0.78      1.00      0.87     15543\n",
      "         1.0       0.00      0.00      0.00      4457\n",
      "\n",
      "    accuracy                           0.78     20000\n",
      "   macro avg       0.39      0.50      0.44     20000\n",
      "weighted avg       0.60      0.78      0.68     20000\n",
      "\n",
      "tensor([nan, nan, nan,  ..., nan, nan, nan], device='cuda:0')\n",
      "              precision    recall  f1-score   support\n",
      "\n",
      "         0.0       0.78      1.00      0.87     15543\n",
      "         1.0       0.00      0.00      0.00      4457\n",
      "\n",
      "    accuracy                           0.78     20000\n",
      "   macro avg       0.39      0.50      0.44     20000\n",
      "weighted avg       0.60      0.78      0.68     20000\n",
      "\n",
      "tensor([nan, nan, nan,  ..., nan, nan, nan], device='cuda:0')\n"
     ]
    },
    {
     "name": "stderr",
     "output_type": "stream",
     "text": [
      " 70%|███████   | 701/1000 [01:28<00:35,  8.41it/s]"
     ]
    },
    {
     "name": "stdout",
     "output_type": "stream",
     "text": [
      "              precision    recall  f1-score   support\n",
      "\n",
      "         0.0       0.78      1.00      0.87     15543\n",
      "         1.0       0.00      0.00      0.00      4457\n",
      "\n",
      "    accuracy                           0.78     20000\n",
      "   macro avg       0.39      0.50      0.44     20000\n",
      "weighted avg       0.60      0.78      0.68     20000\n",
      "\n",
      "tensor([nan, nan, nan,  ..., nan, nan, nan], device='cuda:0')\n",
      "              precision    recall  f1-score   support\n",
      "\n",
      "         0.0       0.78      1.00      0.87     15543\n",
      "         1.0       0.00      0.00      0.00      4457\n",
      "\n",
      "    accuracy                           0.78     20000\n",
      "   macro avg       0.39      0.50      0.44     20000\n",
      "weighted avg       0.60      0.78      0.68     20000\n",
      "\n"
     ]
    },
    {
     "name": "stderr",
     "output_type": "stream",
     "text": [
      " 70%|███████   | 703/1000 [01:28<00:35,  8.30it/s]"
     ]
    },
    {
     "name": "stdout",
     "output_type": "stream",
     "text": [
      "tensor([nan, nan, nan,  ..., nan, nan, nan], device='cuda:0')\n",
      "              precision    recall  f1-score   support\n",
      "\n",
      "         0.0       0.78      1.00      0.87     15543\n",
      "         1.0       0.00      0.00      0.00      4457\n",
      "\n",
      "    accuracy                           0.78     20000\n",
      "   macro avg       0.39      0.50      0.44     20000\n",
      "weighted avg       0.60      0.78      0.68     20000\n",
      "\n",
      "tensor([nan, nan, nan,  ..., nan, nan, nan], device='cuda:0')\n",
      "              precision    recall  f1-score   support\n",
      "\n",
      "         0.0       0.78      1.00      0.87     15543\n",
      "         1.0       0.00      0.00      0.00      4457\n",
      "\n",
      "    accuracy                           0.78     20000\n",
      "   macro avg       0.39      0.50      0.44     20000\n",
      "weighted avg       0.60      0.78      0.68     20000\n",
      "\n"
     ]
    },
    {
     "name": "stderr",
     "output_type": "stream",
     "text": [
      "\r",
      " 70%|███████   | 704/1000 [01:28<00:36,  8.03it/s]"
     ]
    },
    {
     "name": "stdout",
     "output_type": "stream",
     "text": [
      "tensor([nan, nan, nan,  ..., nan, nan, nan], device='cuda:0')\n",
      "              precision    recall  f1-score   support\n",
      "\n",
      "         0.0       0.78      1.00      0.87     15543\n",
      "         1.0       0.00      0.00      0.00      4457\n",
      "\n",
      "    accuracy                           0.78     20000\n",
      "   macro avg       0.39      0.50      0.44     20000\n",
      "weighted avg       0.60      0.78      0.68     20000\n",
      "\n",
      "tensor([nan, nan, nan,  ..., nan, nan, nan], device='cuda:0')\n",
      "              precision    recall  f1-score   support\n",
      "\n",
      "         0.0       0.78      1.00      0.87     15543\n",
      "         1.0       0.00      0.00      0.00      4457\n",
      "\n",
      "    accuracy                           0.78     20000\n",
      "   macro avg       0.39      0.50      0.44     20000\n",
      "weighted avg       0.60      0.78      0.68     20000\n",
      "\n"
     ]
    },
    {
     "name": "stderr",
     "output_type": "stream",
     "text": [
      "\r",
      " 71%|███████   | 706/1000 [01:29<00:32,  9.00it/s]"
     ]
    },
    {
     "name": "stdout",
     "output_type": "stream",
     "text": [
      "tensor([nan, nan, nan,  ..., nan, nan, nan], device='cuda:0')\n",
      "              precision    recall  f1-score   support\n",
      "\n",
      "         0.0       0.78      1.00      0.87     15543\n",
      "         1.0       0.00      0.00      0.00      4457\n",
      "\n",
      "    accuracy                           0.78     20000\n",
      "   macro avg       0.39      0.50      0.44     20000\n",
      "weighted avg       0.60      0.78      0.68     20000\n",
      "\n",
      "tensor([nan, nan, nan,  ..., nan, nan, nan], device='cuda:0')\n",
      "              precision    recall  f1-score   support\n",
      "\n",
      "         0.0       0.78      1.00      0.87     15543\n",
      "         1.0       0.00      0.00      0.00      4457\n",
      "\n",
      "    accuracy                           0.78     20000\n",
      "   macro avg       0.39      0.50      0.44     20000\n",
      "weighted avg       0.60      0.78      0.68     20000\n",
      "\n",
      "tensor([nan, nan, nan,  ..., nan, nan, nan], device='cuda:0')\n"
     ]
    },
    {
     "name": "stderr",
     "output_type": "stream",
     "text": [
      " 71%|███████   | 709/1000 [01:29<00:31,  9.11it/s]"
     ]
    },
    {
     "name": "stdout",
     "output_type": "stream",
     "text": [
      "              precision    recall  f1-score   support\n",
      "\n",
      "         0.0       0.78      1.00      0.87     15543\n",
      "         1.0       0.00      0.00      0.00      4457\n",
      "\n",
      "    accuracy                           0.78     20000\n",
      "   macro avg       0.39      0.50      0.44     20000\n",
      "weighted avg       0.60      0.78      0.68     20000\n",
      "\n",
      "tensor([nan, nan, nan,  ..., nan, nan, nan], device='cuda:0')\n",
      "              precision    recall  f1-score   support\n",
      "\n",
      "         0.0       0.78      1.00      0.87     15543\n",
      "         1.0       0.00      0.00      0.00      4457\n",
      "\n",
      "    accuracy                           0.78     20000\n",
      "   macro avg       0.39      0.50      0.44     20000\n",
      "weighted avg       0.60      0.78      0.68     20000\n",
      "\n",
      "tensor([nan, nan, nan,  ..., nan, nan, nan], device='cuda:0')\n"
     ]
    },
    {
     "name": "stderr",
     "output_type": "stream",
     "text": [
      " 71%|███████   | 711/1000 [01:29<00:34,  8.30it/s]"
     ]
    },
    {
     "name": "stdout",
     "output_type": "stream",
     "text": [
      "              precision    recall  f1-score   support\n",
      "\n",
      "         0.0       0.78      1.00      0.87     15543\n",
      "         1.0       0.00      0.00      0.00      4457\n",
      "\n",
      "    accuracy                           0.78     20000\n",
      "   macro avg       0.39      0.50      0.44     20000\n",
      "weighted avg       0.60      0.78      0.68     20000\n",
      "\n",
      "tensor([nan, nan, nan,  ..., nan, nan, nan], device='cuda:0')\n",
      "              precision    recall  f1-score   support\n",
      "\n",
      "         0.0       0.78      1.00      0.87     15543\n",
      "         1.0       0.00      0.00      0.00      4457\n",
      "\n",
      "    accuracy                           0.78     20000\n",
      "   macro avg       0.39      0.50      0.44     20000\n",
      "weighted avg       0.60      0.78      0.68     20000\n",
      "\n"
     ]
    },
    {
     "name": "stderr",
     "output_type": "stream",
     "text": [
      "\r",
      " 71%|███████   | 712/1000 [01:29<00:33,  8.61it/s]"
     ]
    },
    {
     "name": "stdout",
     "output_type": "stream",
     "text": [
      "tensor([nan, nan, nan,  ..., nan, nan, nan], device='cuda:0')\n",
      "              precision    recall  f1-score   support\n",
      "\n",
      "         0.0       0.78      1.00      0.87     15543\n",
      "         1.0       0.00      0.00      0.00      4457\n",
      "\n",
      "    accuracy                           0.78     20000\n",
      "   macro avg       0.39      0.50      0.44     20000\n",
      "weighted avg       0.60      0.78      0.68     20000\n",
      "\n",
      "tensor([nan, nan, nan,  ..., nan, nan, nan], device='cuda:0')\n",
      "              precision    recall  f1-score   support\n",
      "\n",
      "         0.0       0.78      1.00      0.87     15543\n",
      "         1.0       0.00      0.00      0.00      4457\n",
      "\n",
      "    accuracy                           0.78     20000\n",
      "   macro avg       0.39      0.50      0.44     20000\n",
      "weighted avg       0.60      0.78      0.68     20000\n",
      "\n"
     ]
    },
    {
     "name": "stderr",
     "output_type": "stream",
     "text": [
      " 71%|███████▏  | 714/1000 [01:30<00:37,  7.53it/s]"
     ]
    },
    {
     "name": "stdout",
     "output_type": "stream",
     "text": [
      "tensor([nan, nan, nan,  ..., nan, nan, nan], device='cuda:0')\n",
      "              precision    recall  f1-score   support\n",
      "\n",
      "         0.0       0.78      1.00      0.87     15543\n",
      "         1.0       0.00      0.00      0.00      4457\n",
      "\n",
      "    accuracy                           0.78     20000\n",
      "   macro avg       0.39      0.50      0.44     20000\n",
      "weighted avg       0.60      0.78      0.68     20000\n",
      "\n",
      "tensor([nan, nan, nan,  ..., nan, nan, nan], device='cuda:0')\n"
     ]
    },
    {
     "name": "stderr",
     "output_type": "stream",
     "text": [
      " 72%|███████▏  | 716/1000 [01:30<00:40,  6.99it/s]"
     ]
    },
    {
     "name": "stdout",
     "output_type": "stream",
     "text": [
      "              precision    recall  f1-score   support\n",
      "\n",
      "         0.0       0.78      1.00      0.87     15543\n",
      "         1.0       0.00      0.00      0.00      4457\n",
      "\n",
      "    accuracy                           0.78     20000\n",
      "   macro avg       0.39      0.50      0.44     20000\n",
      "weighted avg       0.60      0.78      0.68     20000\n",
      "\n",
      "tensor([nan, nan, nan,  ..., nan, nan, nan], device='cuda:0')\n",
      "              precision    recall  f1-score   support\n",
      "\n",
      "         0.0       0.78      1.00      0.87     15543\n",
      "         1.0       0.00      0.00      0.00      4457\n",
      "\n",
      "    accuracy                           0.78     20000\n",
      "   macro avg       0.39      0.50      0.44     20000\n",
      "weighted avg       0.60      0.78      0.68     20000\n",
      "\n"
     ]
    },
    {
     "name": "stderr",
     "output_type": "stream",
     "text": [
      " 72%|███████▏  | 718/1000 [01:30<00:35,  7.92it/s]"
     ]
    },
    {
     "name": "stdout",
     "output_type": "stream",
     "text": [
      "tensor([nan, nan, nan,  ..., nan, nan, nan], device='cuda:0')\n",
      "              precision    recall  f1-score   support\n",
      "\n",
      "         0.0       0.78      1.00      0.87     15543\n",
      "         1.0       0.00      0.00      0.00      4457\n",
      "\n",
      "    accuracy                           0.78     20000\n",
      "   macro avg       0.39      0.50      0.44     20000\n",
      "weighted avg       0.60      0.78      0.68     20000\n",
      "\n",
      "tensor([nan, nan, nan,  ..., nan, nan, nan], device='cuda:0')\n",
      "              precision    recall  f1-score   support\n",
      "\n",
      "         0.0       0.78      1.00      0.87     15543\n",
      "         1.0       0.00      0.00      0.00      4457\n",
      "\n",
      "    accuracy                           0.78     20000\n",
      "   macro avg       0.39      0.50      0.44     20000\n",
      "weighted avg       0.60      0.78      0.68     20000\n",
      "\n"
     ]
    },
    {
     "name": "stderr",
     "output_type": "stream",
     "text": [
      "\r",
      " 72%|███████▏  | 719/1000 [01:30<00:36,  7.70it/s]"
     ]
    },
    {
     "name": "stdout",
     "output_type": "stream",
     "text": [
      "tensor([nan, nan, nan,  ..., nan, nan, nan], device='cuda:0')\n",
      "              precision    recall  f1-score   support\n",
      "\n",
      "         0.0       0.78      1.00      0.87     15543\n",
      "         1.0       0.00      0.00      0.00      4457\n",
      "\n",
      "    accuracy                           0.78     20000\n",
      "   macro avg       0.39      0.50      0.44     20000\n",
      "weighted avg       0.60      0.78      0.68     20000\n",
      "\n",
      "tensor([nan, nan, nan,  ..., nan, nan, nan], device='cuda:0')\n",
      "              precision    recall  f1-score   support\n",
      "\n",
      "         0.0       0.78      1.00      0.87     15543\n",
      "         1.0       0.00      0.00      0.00      4457\n",
      "\n",
      "    accuracy                           0.78     20000\n",
      "   macro avg       0.39      0.50      0.44     20000\n",
      "weighted avg       0.60      0.78      0.68     20000\n",
      "\n"
     ]
    },
    {
     "name": "stderr",
     "output_type": "stream",
     "text": [
      "\r",
      " 72%|███████▏  | 721/1000 [01:30<00:32,  8.62it/s]"
     ]
    },
    {
     "name": "stdout",
     "output_type": "stream",
     "text": [
      "tensor([nan, nan, nan,  ..., nan, nan, nan], device='cuda:0')\n",
      "              precision    recall  f1-score   support\n",
      "\n",
      "         0.0       0.78      1.00      0.87     15543\n",
      "         1.0       0.00      0.00      0.00      4457\n",
      "\n",
      "    accuracy                           0.78     20000\n",
      "   macro avg       0.39      0.50      0.44     20000\n",
      "weighted avg       0.60      0.78      0.68     20000\n",
      "\n",
      "tensor([nan, nan, nan,  ..., nan, nan, nan], device='cuda:0')\n",
      "              precision    recall  f1-score   support\n",
      "\n",
      "         0.0       0.78      1.00      0.87     15543\n",
      "         1.0       0.00      0.00      0.00      4457\n",
      "\n",
      "    accuracy                           0.78     20000\n",
      "   macro avg       0.39      0.50      0.44     20000\n",
      "weighted avg       0.60      0.78      0.68     20000\n",
      "\n"
     ]
    },
    {
     "name": "stderr",
     "output_type": "stream",
     "text": [
      " 72%|███████▏  | 724/1000 [01:31<00:30,  8.96it/s]"
     ]
    },
    {
     "name": "stdout",
     "output_type": "stream",
     "text": [
      "tensor([nan, nan, nan,  ..., nan, nan, nan], device='cuda:0')\n",
      "              precision    recall  f1-score   support\n",
      "\n",
      "         0.0       0.78      1.00      0.87     15543\n",
      "         1.0       0.00      0.00      0.00      4457\n",
      "\n",
      "    accuracy                           0.78     20000\n",
      "   macro avg       0.39      0.50      0.44     20000\n",
      "weighted avg       0.60      0.78      0.68     20000\n",
      "\n",
      "tensor([nan, nan, nan,  ..., nan, nan, nan], device='cuda:0')\n",
      "              precision    recall  f1-score   support\n",
      "\n",
      "         0.0       0.78      1.00      0.87     15543\n",
      "         1.0       0.00      0.00      0.00      4457\n",
      "\n",
      "    accuracy                           0.78     20000\n",
      "   macro avg       0.39      0.50      0.44     20000\n",
      "weighted avg       0.60      0.78      0.68     20000\n",
      "\n",
      "tensor([nan, nan, nan,  ..., nan, nan, nan], device='cuda:0')\n"
     ]
    },
    {
     "name": "stderr",
     "output_type": "stream",
     "text": [
      " 73%|███████▎  | 726/1000 [01:31<00:30,  9.12it/s]"
     ]
    },
    {
     "name": "stdout",
     "output_type": "stream",
     "text": [
      "              precision    recall  f1-score   support\n",
      "\n",
      "         0.0       0.78      1.00      0.87     15543\n",
      "         1.0       0.00      0.00      0.00      4457\n",
      "\n",
      "    accuracy                           0.78     20000\n",
      "   macro avg       0.39      0.50      0.44     20000\n",
      "weighted avg       0.60      0.78      0.68     20000\n",
      "\n",
      "tensor([nan, nan, nan,  ..., nan, nan, nan], device='cuda:0')\n",
      "              precision    recall  f1-score   support\n",
      "\n",
      "         0.0       0.78      1.00      0.87     15543\n",
      "         1.0       0.00      0.00      0.00      4457\n",
      "\n",
      "    accuracy                           0.78     20000\n",
      "   macro avg       0.39      0.50      0.44     20000\n",
      "weighted avg       0.60      0.78      0.68     20000\n",
      "\n",
      "tensor([nan, nan, nan,  ..., nan, nan, nan], device='cuda:0')\n"
     ]
    },
    {
     "name": "stderr",
     "output_type": "stream",
     "text": [
      " 73%|███████▎  | 728/1000 [01:31<00:30,  8.90it/s]"
     ]
    },
    {
     "name": "stdout",
     "output_type": "stream",
     "text": [
      "              precision    recall  f1-score   support\n",
      "\n",
      "         0.0       0.78      1.00      0.87     15543\n",
      "         1.0       0.00      0.00      0.00      4457\n",
      "\n",
      "    accuracy                           0.78     20000\n",
      "   macro avg       0.39      0.50      0.44     20000\n",
      "weighted avg       0.60      0.78      0.68     20000\n",
      "\n",
      "tensor([nan, nan, nan,  ..., nan, nan, nan], device='cuda:0')\n",
      "              precision    recall  f1-score   support\n",
      "\n",
      "         0.0       0.78      1.00      0.87     15543\n",
      "         1.0       0.00      0.00      0.00      4457\n",
      "\n",
      "    accuracy                           0.78     20000\n",
      "   macro avg       0.39      0.50      0.44     20000\n",
      "weighted avg       0.60      0.78      0.68     20000\n",
      "\n",
      "tensor([nan, nan, nan,  ..., nan, nan, nan], device='cuda:0')\n"
     ]
    },
    {
     "name": "stderr",
     "output_type": "stream",
     "text": [
      "\r",
      " 73%|███████▎  | 729/1000 [01:31<00:29,  9.13it/s]"
     ]
    },
    {
     "name": "stdout",
     "output_type": "stream",
     "text": [
      "              precision    recall  f1-score   support\n",
      "\n",
      "         0.0       0.78      1.00      0.87     15543\n",
      "         1.0       0.00      0.00      0.00      4457\n",
      "\n",
      "    accuracy                           0.78     20000\n",
      "   macro avg       0.39      0.50      0.44     20000\n",
      "weighted avg       0.60      0.78      0.68     20000\n",
      "\n",
      "tensor([nan, nan, nan,  ..., nan, nan, nan], device='cuda:0')\n",
      "              precision    recall  f1-score   support\n",
      "\n",
      "         0.0       0.78      1.00      0.87     15543\n",
      "         1.0       0.00      0.00      0.00      4457\n",
      "\n",
      "    accuracy                           0.78     20000\n",
      "   macro avg       0.39      0.50      0.44     20000\n",
      "weighted avg       0.60      0.78      0.68     20000\n",
      "\n",
      "tensor([nan, nan, nan,  ..., nan, nan, nan], device='cuda:0')\n",
      "              precision    recall  f1-score   support\n",
      "\n",
      "         0.0       0.78      1.00      0.87     15543\n",
      "         1.0       0.00      0.00      0.00      4457\n",
      "\n",
      "    accuracy                           0.78     20000\n",
      "   macro avg       0.39      0.50      0.44     20000\n",
      "weighted avg       0.60      0.78      0.68     20000\n",
      "\n"
     ]
    },
    {
     "name": "stderr",
     "output_type": "stream",
     "text": [
      " 73%|███████▎  | 732/1000 [01:32<00:31,  8.57it/s]"
     ]
    },
    {
     "name": "stdout",
     "output_type": "stream",
     "text": [
      "tensor([nan, nan, nan,  ..., nan, nan, nan], device='cuda:0')\n",
      "              precision    recall  f1-score   support\n",
      "\n",
      "         0.0       0.78      1.00      0.87     15543\n",
      "         1.0       0.00      0.00      0.00      4457\n",
      "\n",
      "    accuracy                           0.78     20000\n",
      "   macro avg       0.39      0.50      0.44     20000\n",
      "weighted avg       0.60      0.78      0.68     20000\n",
      "\n",
      "tensor([nan, nan, nan,  ..., nan, nan, nan], device='cuda:0')\n",
      "              precision    recall  f1-score   support\n",
      "\n",
      "         0.0       0.78      1.00      0.87     15543\n",
      "         1.0       0.00      0.00      0.00      4457\n",
      "\n",
      "    accuracy                           0.78     20000\n",
      "   macro avg       0.39      0.50      0.44     20000\n",
      "weighted avg       0.60      0.78      0.68     20000\n",
      "\n"
     ]
    },
    {
     "name": "stderr",
     "output_type": "stream",
     "text": [
      " 73%|███████▎  | 734/1000 [01:32<00:38,  6.95it/s]"
     ]
    },
    {
     "name": "stdout",
     "output_type": "stream",
     "text": [
      "tensor([nan, nan, nan,  ..., nan, nan, nan], device='cuda:0')\n",
      "              precision    recall  f1-score   support\n",
      "\n",
      "         0.0       0.78      1.00      0.87     15543\n",
      "         1.0       0.00      0.00      0.00      4457\n",
      "\n",
      "    accuracy                           0.78     20000\n",
      "   macro avg       0.39      0.50      0.44     20000\n",
      "weighted avg       0.60      0.78      0.68     20000\n",
      "\n"
     ]
    },
    {
     "name": "stderr",
     "output_type": "stream",
     "text": [
      "\r",
      " 74%|███████▎  | 735/1000 [01:32<00:37,  7.03it/s]"
     ]
    },
    {
     "name": "stdout",
     "output_type": "stream",
     "text": [
      "tensor([nan, nan, nan,  ..., nan, nan, nan], device='cuda:0')\n",
      "              precision    recall  f1-score   support\n",
      "\n",
      "         0.0       0.78      1.00      0.87     15543\n",
      "         1.0       0.00      0.00      0.00      4457\n",
      "\n",
      "    accuracy                           0.78     20000\n",
      "   macro avg       0.39      0.50      0.44     20000\n",
      "weighted avg       0.60      0.78      0.68     20000\n",
      "\n",
      "tensor([nan, nan, nan,  ..., nan, nan, nan], device='cuda:0')\n",
      "              precision    recall  f1-score   support\n",
      "\n",
      "         0.0       0.78      1.00      0.87     15543\n",
      "         1.0       0.00      0.00      0.00      4457\n",
      "\n",
      "    accuracy                           0.78     20000\n",
      "   macro avg       0.39      0.50      0.44     20000\n",
      "weighted avg       0.60      0.78      0.68     20000\n",
      "\n"
     ]
    },
    {
     "name": "stderr",
     "output_type": "stream",
     "text": [
      " 74%|███████▎  | 737/1000 [01:32<00:38,  6.83it/s]"
     ]
    },
    {
     "name": "stdout",
     "output_type": "stream",
     "text": [
      "tensor([nan, nan, nan,  ..., nan, nan, nan], device='cuda:0')\n",
      "              precision    recall  f1-score   support\n",
      "\n",
      "         0.0       0.78      1.00      0.87     15543\n",
      "         1.0       0.00      0.00      0.00      4457\n",
      "\n",
      "    accuracy                           0.78     20000\n",
      "   macro avg       0.39      0.50      0.44     20000\n",
      "weighted avg       0.60      0.78      0.68     20000\n",
      "\n",
      "tensor([nan, nan, nan,  ..., nan, nan, nan], device='cuda:0')\n",
      "              precision    recall  f1-score   support\n",
      "\n",
      "         0.0       0.78      1.00      0.87     15543\n",
      "         1.0       0.00      0.00      0.00      4457\n",
      "\n",
      "    accuracy                           0.78     20000\n",
      "   macro avg       0.39      0.50      0.44     20000\n",
      "weighted avg       0.60      0.78      0.68     20000\n",
      "\n"
     ]
    },
    {
     "name": "stderr",
     "output_type": "stream",
     "text": [
      " 74%|███████▍  | 740/1000 [01:33<00:31,  8.27it/s]"
     ]
    },
    {
     "name": "stdout",
     "output_type": "stream",
     "text": [
      "tensor([nan, nan, nan,  ..., nan, nan, nan], device='cuda:0')\n",
      "              precision    recall  f1-score   support\n",
      "\n",
      "         0.0       0.78      1.00      0.87     15543\n",
      "         1.0       0.00      0.00      0.00      4457\n",
      "\n",
      "    accuracy                           0.78     20000\n",
      "   macro avg       0.39      0.50      0.44     20000\n",
      "weighted avg       0.60      0.78      0.68     20000\n",
      "\n",
      "tensor([nan, nan, nan,  ..., nan, nan, nan], device='cuda:0')\n",
      "              precision    recall  f1-score   support\n",
      "\n",
      "         0.0       0.78      1.00      0.87     15543\n",
      "         1.0       0.00      0.00      0.00      4457\n",
      "\n",
      "    accuracy                           0.78     20000\n",
      "   macro avg       0.39      0.50      0.44     20000\n",
      "weighted avg       0.60      0.78      0.68     20000\n",
      "\n"
     ]
    },
    {
     "name": "stderr",
     "output_type": "stream",
     "text": [
      "\r",
      " 74%|███████▍  | 742/1000 [01:33<00:27,  9.22it/s]"
     ]
    },
    {
     "name": "stdout",
     "output_type": "stream",
     "text": [
      "tensor([nan, nan, nan,  ..., nan, nan, nan], device='cuda:0')\n",
      "              precision    recall  f1-score   support\n",
      "\n",
      "         0.0       0.78      1.00      0.87     15543\n",
      "         1.0       0.00      0.00      0.00      4457\n",
      "\n",
      "    accuracy                           0.78     20000\n",
      "   macro avg       0.39      0.50      0.44     20000\n",
      "weighted avg       0.60      0.78      0.68     20000\n",
      "\n",
      "tensor([nan, nan, nan,  ..., nan, nan, nan], device='cuda:0')\n",
      "              precision    recall  f1-score   support\n",
      "\n",
      "         0.0       0.78      1.00      0.87     15543\n",
      "         1.0       0.00      0.00      0.00      4457\n",
      "\n",
      "    accuracy                           0.78     20000\n",
      "   macro avg       0.39      0.50      0.44     20000\n",
      "weighted avg       0.60      0.78      0.68     20000\n",
      "\n",
      "tensor([nan, nan, nan,  ..., nan, nan, nan], device='cuda:0')\n"
     ]
    },
    {
     "name": "stderr",
     "output_type": "stream",
     "text": [
      " 74%|███████▍  | 744/1000 [01:33<00:28,  9.14it/s]"
     ]
    },
    {
     "name": "stdout",
     "output_type": "stream",
     "text": [
      "              precision    recall  f1-score   support\n",
      "\n",
      "         0.0       0.78      1.00      0.87     15543\n",
      "         1.0       0.00      0.00      0.00      4457\n",
      "\n",
      "    accuracy                           0.78     20000\n",
      "   macro avg       0.39      0.50      0.44     20000\n",
      "weighted avg       0.60      0.78      0.68     20000\n",
      "\n",
      "tensor([nan, nan, nan,  ..., nan, nan, nan], device='cuda:0')\n",
      "              precision    recall  f1-score   support\n",
      "\n",
      "         0.0       0.78      1.00      0.87     15543\n",
      "         1.0       0.00      0.00      0.00      4457\n",
      "\n",
      "    accuracy                           0.78     20000\n",
      "   macro avg       0.39      0.50      0.44     20000\n",
      "weighted avg       0.60      0.78      0.68     20000\n",
      "\n",
      "tensor([nan, nan, nan,  ..., nan, nan, nan], device='cuda:0')\n"
     ]
    },
    {
     "name": "stderr",
     "output_type": "stream",
     "text": [
      " 75%|███████▍  | 746/1000 [01:33<00:29,  8.57it/s]"
     ]
    },
    {
     "name": "stdout",
     "output_type": "stream",
     "text": [
      "              precision    recall  f1-score   support\n",
      "\n",
      "         0.0       0.78      1.00      0.87     15543\n",
      "         1.0       0.00      0.00      0.00      4457\n",
      "\n",
      "    accuracy                           0.78     20000\n",
      "   macro avg       0.39      0.50      0.44     20000\n",
      "weighted avg       0.60      0.78      0.68     20000\n",
      "\n",
      "tensor([nan, nan, nan,  ..., nan, nan, nan], device='cuda:0')\n",
      "              precision    recall  f1-score   support\n",
      "\n",
      "         0.0       0.78      1.00      0.87     15543\n",
      "         1.0       0.00      0.00      0.00      4457\n",
      "\n",
      "    accuracy                           0.78     20000\n",
      "   macro avg       0.39      0.50      0.44     20000\n",
      "weighted avg       0.60      0.78      0.68     20000\n",
      "\n"
     ]
    },
    {
     "name": "stderr",
     "output_type": "stream",
     "text": [
      "\r",
      " 75%|███████▍  | 747/1000 [01:34<00:31,  7.92it/s]"
     ]
    },
    {
     "name": "stdout",
     "output_type": "stream",
     "text": [
      "tensor([nan, nan, nan,  ..., nan, nan, nan], device='cuda:0')\n",
      "              precision    recall  f1-score   support\n",
      "\n",
      "         0.0       0.78      1.00      0.87     15543\n",
      "         1.0       0.00      0.00      0.00      4457\n",
      "\n",
      "    accuracy                           0.78     20000\n",
      "   macro avg       0.39      0.50      0.44     20000\n",
      "weighted avg       0.60      0.78      0.68     20000\n",
      "\n",
      "tensor([nan, nan, nan,  ..., nan, nan, nan], device='cuda:0')\n",
      "              precision    recall  f1-score   support\n",
      "\n",
      "         0.0       0.78      1.00      0.87     15543\n",
      "         1.0       0.00      0.00      0.00      4457\n",
      "\n",
      "    accuracy                           0.78     20000\n",
      "   macro avg       0.39      0.50      0.44     20000\n",
      "weighted avg       0.60      0.78      0.68     20000\n",
      "\n"
     ]
    },
    {
     "name": "stderr",
     "output_type": "stream",
     "text": [
      " 75%|███████▌  | 750/1000 [01:34<00:26,  9.33it/s]"
     ]
    },
    {
     "name": "stdout",
     "output_type": "stream",
     "text": [
      "tensor([nan, nan, nan,  ..., nan, nan, nan], device='cuda:0')\n",
      "              precision    recall  f1-score   support\n",
      "\n",
      "         0.0       0.78      1.00      0.87     15543\n",
      "         1.0       0.00      0.00      0.00      4457\n",
      "\n",
      "    accuracy                           0.78     20000\n",
      "   macro avg       0.39      0.50      0.44     20000\n",
      "weighted avg       0.60      0.78      0.68     20000\n",
      "\n",
      "tensor([nan, nan, nan,  ..., nan, nan, nan], device='cuda:0')\n",
      "              precision    recall  f1-score   support\n",
      "\n",
      "         0.0       0.78      1.00      0.87     15543\n",
      "         1.0       0.00      0.00      0.00      4457\n",
      "\n",
      "    accuracy                           0.78     20000\n",
      "   macro avg       0.39      0.50      0.44     20000\n",
      "weighted avg       0.60      0.78      0.68     20000\n",
      "\n",
      "tensor([nan, nan, nan,  ..., nan, nan, nan], device='cuda:0')\n"
     ]
    },
    {
     "name": "stderr",
     "output_type": "stream",
     "text": [
      " 75%|███████▌  | 752/1000 [01:34<00:31,  7.96it/s]"
     ]
    },
    {
     "name": "stdout",
     "output_type": "stream",
     "text": [
      "              precision    recall  f1-score   support\n",
      "\n",
      "         0.0       0.78      1.00      0.87     15543\n",
      "         1.0       0.00      0.00      0.00      4457\n",
      "\n",
      "    accuracy                           0.78     20000\n",
      "   macro avg       0.39      0.50      0.44     20000\n",
      "weighted avg       0.60      0.78      0.68     20000\n",
      "\n",
      "tensor([nan, nan, nan,  ..., nan, nan, nan], device='cuda:0')\n",
      "              precision    recall  f1-score   support\n",
      "\n",
      "         0.0       0.78      1.00      0.87     15543\n",
      "         1.0       0.00      0.00      0.00      4457\n",
      "\n",
      "    accuracy                           0.78     20000\n",
      "   macro avg       0.39      0.50      0.44     20000\n",
      "weighted avg       0.60      0.78      0.68     20000\n",
      "\n"
     ]
    },
    {
     "name": "stderr",
     "output_type": "stream",
     "text": [
      " 75%|███████▌  | 754/1000 [01:34<00:28,  8.59it/s]"
     ]
    },
    {
     "name": "stdout",
     "output_type": "stream",
     "text": [
      "tensor([nan, nan, nan,  ..., nan, nan, nan], device='cuda:0')\n",
      "              precision    recall  f1-score   support\n",
      "\n",
      "         0.0       0.78      1.00      0.87     15543\n",
      "         1.0       0.00      0.00      0.00      4457\n",
      "\n",
      "    accuracy                           0.78     20000\n",
      "   macro avg       0.39      0.50      0.44     20000\n",
      "weighted avg       0.60      0.78      0.68     20000\n",
      "\n",
      "tensor([nan, nan, nan,  ..., nan, nan, nan], device='cuda:0')\n",
      "              precision    recall  f1-score   support\n",
      "\n",
      "         0.0       0.78      1.00      0.87     15543\n",
      "         1.0       0.00      0.00      0.00      4457\n",
      "\n",
      "    accuracy                           0.78     20000\n",
      "   macro avg       0.39      0.50      0.44     20000\n",
      "weighted avg       0.60      0.78      0.68     20000\n",
      "\n"
     ]
    },
    {
     "name": "stderr",
     "output_type": "stream",
     "text": [
      " 76%|███████▌  | 756/1000 [01:35<00:29,  8.24it/s]"
     ]
    },
    {
     "name": "stdout",
     "output_type": "stream",
     "text": [
      "tensor([nan, nan, nan,  ..., nan, nan, nan], device='cuda:0')\n",
      "              precision    recall  f1-score   support\n",
      "\n",
      "         0.0       0.78      1.00      0.87     15543\n",
      "         1.0       0.00      0.00      0.00      4457\n",
      "\n",
      "    accuracy                           0.78     20000\n",
      "   macro avg       0.39      0.50      0.44     20000\n",
      "weighted avg       0.60      0.78      0.68     20000\n",
      "\n",
      "tensor([nan, nan, nan,  ..., nan, nan, nan], device='cuda:0')\n",
      "              precision    recall  f1-score   support\n",
      "\n",
      "         0.0       0.78      1.00      0.87     15543\n",
      "         1.0       0.00      0.00      0.00      4457\n",
      "\n",
      "    accuracy                           0.78     20000\n",
      "   macro avg       0.39      0.50      0.44     20000\n",
      "weighted avg       0.60      0.78      0.68     20000\n",
      "\n"
     ]
    },
    {
     "name": "stderr",
     "output_type": "stream",
     "text": [
      "\r",
      " 76%|███████▌  | 757/1000 [01:35<00:33,  7.30it/s]"
     ]
    },
    {
     "name": "stdout",
     "output_type": "stream",
     "text": [
      "tensor([nan, nan, nan,  ..., nan, nan, nan], device='cuda:0')\n",
      "              precision    recall  f1-score   support\n",
      "\n",
      "         0.0       0.78      1.00      0.87     15543\n",
      "         1.0       0.00      0.00      0.00      4457\n",
      "\n",
      "    accuracy                           0.78     20000\n",
      "   macro avg       0.39      0.50      0.44     20000\n",
      "weighted avg       0.60      0.78      0.68     20000\n",
      "\n",
      "tensor([nan, nan, nan,  ..., nan, nan, nan], device='cuda:0')\n"
     ]
    },
    {
     "name": "stderr",
     "output_type": "stream",
     "text": [
      "\r",
      " 76%|███████▌  | 758/1000 [01:35<00:31,  7.62it/s]"
     ]
    },
    {
     "name": "stdout",
     "output_type": "stream",
     "text": [
      "              precision    recall  f1-score   support\n",
      "\n",
      "         0.0       0.78      1.00      0.87     15543\n",
      "         1.0       0.00      0.00      0.00      4457\n",
      "\n",
      "    accuracy                           0.78     20000\n",
      "   macro avg       0.39      0.50      0.44     20000\n",
      "weighted avg       0.60      0.78      0.68     20000\n",
      "\n",
      "tensor([nan, nan, nan,  ..., nan, nan, nan], device='cuda:0')\n",
      "              precision    recall  f1-score   support\n",
      "\n",
      "         0.0       0.78      1.00      0.87     15543\n",
      "         1.0       0.00      0.00      0.00      4457\n",
      "\n",
      "    accuracy                           0.78     20000\n",
      "   macro avg       0.39      0.50      0.44     20000\n",
      "weighted avg       0.60      0.78      0.68     20000\n",
      "\n"
     ]
    },
    {
     "name": "stderr",
     "output_type": "stream",
     "text": [
      " 76%|███████▌  | 761/1000 [01:35<00:29,  8.15it/s]"
     ]
    },
    {
     "name": "stdout",
     "output_type": "stream",
     "text": [
      "tensor([nan, nan, nan,  ..., nan, nan, nan], device='cuda:0')\n",
      "              precision    recall  f1-score   support\n",
      "\n",
      "         0.0       0.78      1.00      0.87     15543\n",
      "         1.0       0.00      0.00      0.00      4457\n",
      "\n",
      "    accuracy                           0.78     20000\n",
      "   macro avg       0.39      0.50      0.44     20000\n",
      "weighted avg       0.60      0.78      0.68     20000\n",
      "\n",
      "tensor([nan, nan, nan,  ..., nan, nan, nan], device='cuda:0')\n",
      "              precision    recall  f1-score   support\n",
      "\n",
      "         0.0       0.78      1.00      0.87     15543\n",
      "         1.0       0.00      0.00      0.00      4457\n",
      "\n",
      "    accuracy                           0.78     20000\n",
      "   macro avg       0.39      0.50      0.44     20000\n",
      "weighted avg       0.60      0.78      0.68     20000\n",
      "\n",
      "tensor([nan, nan, nan,  ..., nan, nan, nan], device='cuda:0')\n"
     ]
    },
    {
     "name": "stderr",
     "output_type": "stream",
     "text": [
      " 76%|███████▋  | 763/1000 [01:35<00:29,  8.14it/s]"
     ]
    },
    {
     "name": "stdout",
     "output_type": "stream",
     "text": [
      "              precision    recall  f1-score   support\n",
      "\n",
      "         0.0       0.78      1.00      0.87     15543\n",
      "         1.0       0.00      0.00      0.00      4457\n",
      "\n",
      "    accuracy                           0.78     20000\n",
      "   macro avg       0.39      0.50      0.44     20000\n",
      "weighted avg       0.60      0.78      0.68     20000\n",
      "\n",
      "tensor([nan, nan, nan,  ..., nan, nan, nan], device='cuda:0')\n",
      "              precision    recall  f1-score   support\n",
      "\n",
      "         0.0       0.78      1.00      0.87     15543\n",
      "         1.0       0.00      0.00      0.00      4457\n",
      "\n",
      "    accuracy                           0.78     20000\n",
      "   macro avg       0.39      0.50      0.44     20000\n",
      "weighted avg       0.60      0.78      0.68     20000\n",
      "\n",
      "tensor([nan, nan, nan,  ..., nan, nan, nan], device='cuda:0')\n"
     ]
    },
    {
     "name": "stderr",
     "output_type": "stream",
     "text": [
      "\r",
      " 76%|███████▋  | 765/1000 [01:36<00:25,  9.21it/s]"
     ]
    },
    {
     "name": "stdout",
     "output_type": "stream",
     "text": [
      "              precision    recall  f1-score   support\n",
      "\n",
      "         0.0       0.78      1.00      0.87     15543\n",
      "         1.0       0.00      0.00      0.00      4457\n",
      "\n",
      "    accuracy                           0.78     20000\n",
      "   macro avg       0.39      0.50      0.44     20000\n",
      "weighted avg       0.60      0.78      0.68     20000\n",
      "\n",
      "tensor([nan, nan, nan,  ..., nan, nan, nan], device='cuda:0')\n",
      "              precision    recall  f1-score   support\n",
      "\n",
      "         0.0       0.78      1.00      0.87     15543\n",
      "         1.0       0.00      0.00      0.00      4457\n",
      "\n",
      "    accuracy                           0.78     20000\n",
      "   macro avg       0.39      0.50      0.44     20000\n",
      "weighted avg       0.60      0.78      0.68     20000\n",
      "\n",
      "tensor([nan, nan, nan,  ..., nan, nan, nan], device='cuda:0')\n",
      "              precision    recall  f1-score   support\n",
      "\n",
      "         0.0       0.78      1.00      0.87     15543\n",
      "         1.0       0.00      0.00      0.00      4457\n",
      "\n",
      "    accuracy                           0.78     20000\n",
      "   macro avg       0.39      0.50      0.44     20000\n",
      "weighted avg       0.60      0.78      0.68     20000\n",
      "\n"
     ]
    },
    {
     "name": "stderr",
     "output_type": "stream",
     "text": [
      "\r",
      " 77%|███████▋  | 767/1000 [01:36<00:25,  9.02it/s]"
     ]
    },
    {
     "name": "stdout",
     "output_type": "stream",
     "text": [
      "tensor([nan, nan, nan,  ..., nan, nan, nan], device='cuda:0')\n",
      "              precision    recall  f1-score   support\n",
      "\n",
      "         0.0       0.78      1.00      0.87     15543\n",
      "         1.0       0.00      0.00      0.00      4457\n",
      "\n",
      "    accuracy                           0.78     20000\n",
      "   macro avg       0.39      0.50      0.44     20000\n",
      "weighted avg       0.60      0.78      0.68     20000\n",
      "\n",
      "tensor([nan, nan, nan,  ..., nan, nan, nan], device='cuda:0')\n",
      "              precision    recall  f1-score   support\n",
      "\n",
      "         0.0       0.78      1.00      0.87     15543\n",
      "         1.0       0.00      0.00      0.00      4457\n",
      "\n",
      "    accuracy                           0.78     20000\n",
      "   macro avg       0.39      0.50      0.44     20000\n",
      "weighted avg       0.60      0.78      0.68     20000\n",
      "\n"
     ]
    },
    {
     "name": "stderr",
     "output_type": "stream",
     "text": [
      " 77%|███████▋  | 769/1000 [01:36<00:27,  8.46it/s]"
     ]
    },
    {
     "name": "stdout",
     "output_type": "stream",
     "text": [
      "tensor([nan, nan, nan,  ..., nan, nan, nan], device='cuda:0')\n",
      "              precision    recall  f1-score   support\n",
      "\n",
      "         0.0       0.78      1.00      0.87     15543\n",
      "         1.0       0.00      0.00      0.00      4457\n",
      "\n",
      "    accuracy                           0.78     20000\n",
      "   macro avg       0.39      0.50      0.44     20000\n",
      "weighted avg       0.60      0.78      0.68     20000\n",
      "\n",
      "tensor([nan, nan, nan,  ..., nan, nan, nan], device='cuda:0')\n",
      "              precision    recall  f1-score   support\n",
      "\n",
      "         0.0       0.78      1.00      0.87     15543\n",
      "         1.0       0.00      0.00      0.00      4457\n",
      "\n",
      "    accuracy                           0.78     20000\n",
      "   macro avg       0.39      0.50      0.44     20000\n",
      "weighted avg       0.60      0.78      0.68     20000\n",
      "\n"
     ]
    },
    {
     "name": "stderr",
     "output_type": "stream",
     "text": [
      "\r",
      " 77%|███████▋  | 771/1000 [01:36<00:24,  9.19it/s]"
     ]
    },
    {
     "name": "stdout",
     "output_type": "stream",
     "text": [
      "tensor([nan, nan, nan,  ..., nan, nan, nan], device='cuda:0')\n",
      "              precision    recall  f1-score   support\n",
      "\n",
      "         0.0       0.78      1.00      0.87     15543\n",
      "         1.0       0.00      0.00      0.00      4457\n",
      "\n",
      "    accuracy                           0.78     20000\n",
      "   macro avg       0.39      0.50      0.44     20000\n",
      "weighted avg       0.60      0.78      0.68     20000\n",
      "\n",
      "tensor([nan, nan, nan,  ..., nan, nan, nan], device='cuda:0')\n",
      "              precision    recall  f1-score   support\n",
      "\n",
      "         0.0       0.78      1.00      0.87     15543\n",
      "         1.0       0.00      0.00      0.00      4457\n",
      "\n",
      "    accuracy                           0.78     20000\n",
      "   macro avg       0.39      0.50      0.44     20000\n",
      "weighted avg       0.60      0.78      0.68     20000\n",
      "\n",
      "tensor([nan, nan, nan,  ..., nan, nan, nan], device='cuda:0')\n"
     ]
    },
    {
     "name": "stderr",
     "output_type": "stream",
     "text": [
      " 77%|███████▋  | 774/1000 [01:37<00:23,  9.47it/s]"
     ]
    },
    {
     "name": "stdout",
     "output_type": "stream",
     "text": [
      "              precision    recall  f1-score   support\n",
      "\n",
      "         0.0       0.78      1.00      0.87     15543\n",
      "         1.0       0.00      0.00      0.00      4457\n",
      "\n",
      "    accuracy                           0.78     20000\n",
      "   macro avg       0.39      0.50      0.44     20000\n",
      "weighted avg       0.60      0.78      0.68     20000\n",
      "\n",
      "tensor([nan, nan, nan,  ..., nan, nan, nan], device='cuda:0')\n",
      "              precision    recall  f1-score   support\n",
      "\n",
      "         0.0       0.78      1.00      0.87     15543\n",
      "         1.0       0.00      0.00      0.00      4457\n",
      "\n",
      "    accuracy                           0.78     20000\n",
      "   macro avg       0.39      0.50      0.44     20000\n",
      "weighted avg       0.60      0.78      0.68     20000\n",
      "\n",
      "tensor([nan, nan, nan,  ..., nan, nan, nan], device='cuda:0')\n"
     ]
    },
    {
     "name": "stderr",
     "output_type": "stream",
     "text": [
      " 78%|███████▊  | 776/1000 [01:37<00:26,  8.38it/s]"
     ]
    },
    {
     "name": "stdout",
     "output_type": "stream",
     "text": [
      "              precision    recall  f1-score   support\n",
      "\n",
      "         0.0       0.78      1.00      0.87     15543\n",
      "         1.0       0.00      0.00      0.00      4457\n",
      "\n",
      "    accuracy                           0.78     20000\n",
      "   macro avg       0.39      0.50      0.44     20000\n",
      "weighted avg       0.60      0.78      0.68     20000\n",
      "\n",
      "tensor([nan, nan, nan,  ..., nan, nan, nan], device='cuda:0')\n",
      "              precision    recall  f1-score   support\n",
      "\n",
      "         0.0       0.78      1.00      0.87     15543\n",
      "         1.0       0.00      0.00      0.00      4457\n",
      "\n",
      "    accuracy                           0.78     20000\n",
      "   macro avg       0.39      0.50      0.44     20000\n",
      "weighted avg       0.60      0.78      0.68     20000\n",
      "\n"
     ]
    },
    {
     "name": "stderr",
     "output_type": "stream",
     "text": [
      "\r",
      " 78%|███████▊  | 777/1000 [01:37<00:31,  7.08it/s]"
     ]
    },
    {
     "name": "stdout",
     "output_type": "stream",
     "text": [
      "tensor([nan, nan, nan,  ..., nan, nan, nan], device='cuda:0')\n",
      "              precision    recall  f1-score   support\n",
      "\n",
      "         0.0       0.78      1.00      0.87     15543\n",
      "         1.0       0.00      0.00      0.00      4457\n",
      "\n",
      "    accuracy                           0.78     20000\n",
      "   macro avg       0.39      0.50      0.44     20000\n",
      "weighted avg       0.60      0.78      0.68     20000\n",
      "\n",
      "tensor([nan, nan, nan,  ..., nan, nan, nan], device='cuda:0')\n"
     ]
    },
    {
     "name": "stderr",
     "output_type": "stream",
     "text": [
      " 78%|███████▊  | 779/1000 [01:37<00:29,  7.49it/s]"
     ]
    },
    {
     "name": "stdout",
     "output_type": "stream",
     "text": [
      "              precision    recall  f1-score   support\n",
      "\n",
      "         0.0       0.78      1.00      0.87     15543\n",
      "         1.0       0.00      0.00      0.00      4457\n",
      "\n",
      "    accuracy                           0.78     20000\n",
      "   macro avg       0.39      0.50      0.44     20000\n",
      "weighted avg       0.60      0.78      0.68     20000\n",
      "\n",
      "tensor([nan, nan, nan,  ..., nan, nan, nan], device='cuda:0')\n",
      "              precision    recall  f1-score   support\n",
      "\n",
      "         0.0       0.78      1.00      0.87     15543\n",
      "         1.0       0.00      0.00      0.00      4457\n",
      "\n",
      "    accuracy                           0.78     20000\n",
      "   macro avg       0.39      0.50      0.44     20000\n",
      "weighted avg       0.60      0.78      0.68     20000\n",
      "\n"
     ]
    },
    {
     "name": "stderr",
     "output_type": "stream",
     "text": [
      "\r",
      " 78%|███████▊  | 780/1000 [01:38<00:31,  6.98it/s]"
     ]
    },
    {
     "name": "stdout",
     "output_type": "stream",
     "text": [
      "tensor([nan, nan, nan,  ..., nan, nan, nan], device='cuda:0')\n",
      "              precision    recall  f1-score   support\n",
      "\n",
      "         0.0       0.78      1.00      0.87     15543\n",
      "         1.0       0.00      0.00      0.00      4457\n",
      "\n",
      "    accuracy                           0.78     20000\n",
      "   macro avg       0.39      0.50      0.44     20000\n",
      "weighted avg       0.60      0.78      0.68     20000\n",
      "\n",
      "tensor([nan, nan, nan,  ..., nan, nan, nan], device='cuda:0')\n",
      "              precision    recall  f1-score   support\n",
      "\n",
      "         0.0       0.78      1.00      0.87     15543\n",
      "         1.0       0.00      0.00      0.00      4457\n",
      "\n",
      "    accuracy                           0.78     20000\n",
      "   macro avg       0.39      0.50      0.44     20000\n",
      "weighted avg       0.60      0.78      0.68     20000\n",
      "\n"
     ]
    },
    {
     "name": "stderr",
     "output_type": "stream",
     "text": [
      " 78%|███████▊  | 782/1000 [01:38<00:27,  8.04it/s]"
     ]
    },
    {
     "name": "stdout",
     "output_type": "stream",
     "text": [
      "tensor([nan, nan, nan,  ..., nan, nan, nan], device='cuda:0')\n",
      "              precision    recall  f1-score   support\n",
      "\n",
      "         0.0       0.78      1.00      0.87     15543\n",
      "         1.0       0.00      0.00      0.00      4457\n",
      "\n",
      "    accuracy                           0.78     20000\n",
      "   macro avg       0.39      0.50      0.44     20000\n",
      "weighted avg       0.60      0.78      0.68     20000\n",
      "\n",
      "tensor([nan, nan, nan,  ..., nan, nan, nan], device='cuda:0')\n",
      "              precision    recall  f1-score   support\n",
      "\n",
      "         0.0       0.78      1.00      0.87     15543\n",
      "         1.0       0.00      0.00      0.00      4457\n",
      "\n",
      "    accuracy                           0.78     20000\n",
      "   macro avg       0.39      0.50      0.44     20000\n",
      "weighted avg       0.60      0.78      0.68     20000\n",
      "\n"
     ]
    },
    {
     "name": "stderr",
     "output_type": "stream",
     "text": [
      "\r",
      " 78%|███████▊  | 784/1000 [01:38<00:26,  8.26it/s]"
     ]
    },
    {
     "name": "stdout",
     "output_type": "stream",
     "text": [
      "tensor([nan, nan, nan,  ..., nan, nan, nan], device='cuda:0')\n",
      "              precision    recall  f1-score   support\n",
      "\n",
      "         0.0       0.78      1.00      0.87     15543\n",
      "         1.0       0.00      0.00      0.00      4457\n",
      "\n",
      "    accuracy                           0.78     20000\n",
      "   macro avg       0.39      0.50      0.44     20000\n",
      "weighted avg       0.60      0.78      0.68     20000\n",
      "\n",
      "tensor([nan, nan, nan,  ..., nan, nan, nan], device='cuda:0')\n",
      "              precision    recall  f1-score   support\n",
      "\n",
      "         0.0       0.78      1.00      0.87     15543\n",
      "         1.0       0.00      0.00      0.00      4457\n",
      "\n",
      "    accuracy                           0.78     20000\n",
      "   macro avg       0.39      0.50      0.44     20000\n",
      "weighted avg       0.60      0.78      0.68     20000\n",
      "\n"
     ]
    },
    {
     "name": "stderr",
     "output_type": "stream",
     "text": [
      "\r",
      " 79%|███████▊  | 786/1000 [01:38<00:24,  8.69it/s]"
     ]
    },
    {
     "name": "stdout",
     "output_type": "stream",
     "text": [
      "tensor([nan, nan, nan,  ..., nan, nan, nan], device='cuda:0')\n",
      "              precision    recall  f1-score   support\n",
      "\n",
      "         0.0       0.78      1.00      0.87     15543\n",
      "         1.0       0.00      0.00      0.00      4457\n",
      "\n",
      "    accuracy                           0.78     20000\n",
      "   macro avg       0.39      0.50      0.44     20000\n",
      "weighted avg       0.60      0.78      0.68     20000\n",
      "\n",
      "tensor([nan, nan, nan,  ..., nan, nan, nan], device='cuda:0')\n",
      "              precision    recall  f1-score   support\n",
      "\n",
      "         0.0       0.78      1.00      0.87     15543\n",
      "         1.0       0.00      0.00      0.00      4457\n",
      "\n",
      "    accuracy                           0.78     20000\n",
      "   macro avg       0.39      0.50      0.44     20000\n",
      "weighted avg       0.60      0.78      0.68     20000\n",
      "\n"
     ]
    },
    {
     "name": "stderr",
     "output_type": "stream",
     "text": [
      " 79%|███████▉  | 789/1000 [01:39<00:23,  8.96it/s]"
     ]
    },
    {
     "name": "stdout",
     "output_type": "stream",
     "text": [
      "tensor([nan, nan, nan,  ..., nan, nan, nan], device='cuda:0')\n",
      "              precision    recall  f1-score   support\n",
      "\n",
      "         0.0       0.78      1.00      0.87     15543\n",
      "         1.0       0.00      0.00      0.00      4457\n",
      "\n",
      "    accuracy                           0.78     20000\n",
      "   macro avg       0.39      0.50      0.44     20000\n",
      "weighted avg       0.60      0.78      0.68     20000\n",
      "\n",
      "tensor([nan, nan, nan,  ..., nan, nan, nan], device='cuda:0')\n",
      "              precision    recall  f1-score   support\n",
      "\n",
      "         0.0       0.78      1.00      0.87     15543\n",
      "         1.0       0.00      0.00      0.00      4457\n",
      "\n",
      "    accuracy                           0.78     20000\n",
      "   macro avg       0.39      0.50      0.44     20000\n",
      "weighted avg       0.60      0.78      0.68     20000\n",
      "\n"
     ]
    },
    {
     "name": "stderr",
     "output_type": "stream",
     "text": [
      " 79%|███████▉  | 791/1000 [01:39<00:24,  8.37it/s]"
     ]
    },
    {
     "name": "stdout",
     "output_type": "stream",
     "text": [
      "tensor([nan, nan, nan,  ..., nan, nan, nan], device='cuda:0')\n",
      "              precision    recall  f1-score   support\n",
      "\n",
      "         0.0       0.78      1.00      0.87     15543\n",
      "         1.0       0.00      0.00      0.00      4457\n",
      "\n",
      "    accuracy                           0.78     20000\n",
      "   macro avg       0.39      0.50      0.44     20000\n",
      "weighted avg       0.60      0.78      0.68     20000\n",
      "\n",
      "tensor([nan, nan, nan,  ..., nan, nan, nan], device='cuda:0')\n",
      "              precision    recall  f1-score   support\n",
      "\n",
      "         0.0       0.78      1.00      0.87     15543\n",
      "         1.0       0.00      0.00      0.00      4457\n",
      "\n",
      "    accuracy                           0.78     20000\n",
      "   macro avg       0.39      0.50      0.44     20000\n",
      "weighted avg       0.60      0.78      0.68     20000\n",
      "\n"
     ]
    },
    {
     "name": "stderr",
     "output_type": "stream",
     "text": [
      " 79%|███████▉  | 793/1000 [01:39<00:23,  8.63it/s]"
     ]
    },
    {
     "name": "stdout",
     "output_type": "stream",
     "text": [
      "tensor([nan, nan, nan,  ..., nan, nan, nan], device='cuda:0')\n",
      "              precision    recall  f1-score   support\n",
      "\n",
      "         0.0       0.78      1.00      0.87     15543\n",
      "         1.0       0.00      0.00      0.00      4457\n",
      "\n",
      "    accuracy                           0.78     20000\n",
      "   macro avg       0.39      0.50      0.44     20000\n",
      "weighted avg       0.60      0.78      0.68     20000\n",
      "\n",
      "tensor([nan, nan, nan,  ..., nan, nan, nan], device='cuda:0')\n",
      "              precision    recall  f1-score   support\n",
      "\n",
      "         0.0       0.78      1.00      0.87     15543\n",
      "         1.0       0.00      0.00      0.00      4457\n",
      "\n",
      "    accuracy                           0.78     20000\n",
      "   macro avg       0.39      0.50      0.44     20000\n",
      "weighted avg       0.60      0.78      0.68     20000\n",
      "\n"
     ]
    },
    {
     "name": "stderr",
     "output_type": "stream",
     "text": [
      "\r",
      " 79%|███████▉  | 794/1000 [01:39<00:23,  8.79it/s]"
     ]
    },
    {
     "name": "stdout",
     "output_type": "stream",
     "text": [
      "tensor([nan, nan, nan,  ..., nan, nan, nan], device='cuda:0')\n",
      "              precision    recall  f1-score   support\n",
      "\n",
      "         0.0       0.78      1.00      0.87     15543\n",
      "         1.0       0.00      0.00      0.00      4457\n",
      "\n",
      "    accuracy                           0.78     20000\n",
      "   macro avg       0.39      0.50      0.44     20000\n",
      "weighted avg       0.60      0.78      0.68     20000\n",
      "\n",
      "tensor([nan, nan, nan,  ..., nan, nan, nan], device='cuda:0')\n"
     ]
    },
    {
     "name": "stderr",
     "output_type": "stream",
     "text": [
      " 80%|███████▉  | 796/1000 [01:39<00:28,  7.24it/s]"
     ]
    },
    {
     "name": "stdout",
     "output_type": "stream",
     "text": [
      "              precision    recall  f1-score   support\n",
      "\n",
      "         0.0       0.78      1.00      0.87     15543\n",
      "         1.0       0.00      0.00      0.00      4457\n",
      "\n",
      "    accuracy                           0.78     20000\n",
      "   macro avg       0.39      0.50      0.44     20000\n",
      "weighted avg       0.60      0.78      0.68     20000\n",
      "\n",
      "tensor([nan, nan, nan,  ..., nan, nan, nan], device='cuda:0')\n",
      "              precision    recall  f1-score   support\n",
      "\n",
      "         0.0       0.78      1.00      0.87     15543\n",
      "         1.0       0.00      0.00      0.00      4457\n",
      "\n",
      "    accuracy                           0.78     20000\n",
      "   macro avg       0.39      0.50      0.44     20000\n",
      "weighted avg       0.60      0.78      0.68     20000\n",
      "\n"
     ]
    },
    {
     "name": "stderr",
     "output_type": "stream",
     "text": [
      "\r",
      " 80%|███████▉  | 797/1000 [01:40<00:28,  7.01it/s]"
     ]
    },
    {
     "name": "stdout",
     "output_type": "stream",
     "text": [
      "tensor([nan, nan, nan,  ..., nan, nan, nan], device='cuda:0')\n",
      "              precision    recall  f1-score   support\n",
      "\n",
      "         0.0       0.78      1.00      0.87     15543\n",
      "         1.0       0.00      0.00      0.00      4457\n",
      "\n",
      "    accuracy                           0.78     20000\n",
      "   macro avg       0.39      0.50      0.44     20000\n",
      "weighted avg       0.60      0.78      0.68     20000\n",
      "\n",
      "tensor([nan, nan, nan,  ..., nan, nan, nan], device='cuda:0')\n",
      "              precision    recall  f1-score   support\n",
      "\n",
      "         0.0       0.78      1.00      0.87     15543\n",
      "         1.0       0.00      0.00      0.00      4457\n",
      "\n",
      "    accuracy                           0.78     20000\n",
      "   macro avg       0.39      0.50      0.44     20000\n",
      "weighted avg       0.60      0.78      0.68     20000\n",
      "\n"
     ]
    },
    {
     "name": "stderr",
     "output_type": "stream",
     "text": [
      " 80%|████████  | 800/1000 [01:40<00:23,  8.62it/s]"
     ]
    },
    {
     "name": "stdout",
     "output_type": "stream",
     "text": [
      "tensor([nan, nan, nan,  ..., nan, nan, nan], device='cuda:0')\n",
      "              precision    recall  f1-score   support\n",
      "\n",
      "         0.0       0.78      1.00      0.87     15543\n",
      "         1.0       0.00      0.00      0.00      4457\n",
      "\n",
      "    accuracy                           0.78     20000\n",
      "   macro avg       0.39      0.50      0.44     20000\n",
      "weighted avg       0.60      0.78      0.68     20000\n",
      "\n",
      "tensor([nan, nan, nan,  ..., nan, nan, nan], device='cuda:0')\n",
      "              precision    recall  f1-score   support\n",
      "\n",
      "         0.0       0.78      1.00      0.87     15543\n",
      "         1.0       0.00      0.00      0.00      4457\n",
      "\n",
      "    accuracy                           0.78     20000\n",
      "   macro avg       0.39      0.50      0.44     20000\n",
      "weighted avg       0.60      0.78      0.68     20000\n",
      "\n",
      "tensor([nan, nan, nan,  ..., nan, nan, nan], device='cuda:0')\n"
     ]
    },
    {
     "name": "stderr",
     "output_type": "stream",
     "text": [
      " 80%|████████  | 802/1000 [01:40<00:25,  7.82it/s]"
     ]
    },
    {
     "name": "stdout",
     "output_type": "stream",
     "text": [
      "              precision    recall  f1-score   support\n",
      "\n",
      "         0.0       0.78      1.00      0.87     15543\n",
      "         1.0       0.00      0.00      0.00      4457\n",
      "\n",
      "    accuracy                           0.78     20000\n",
      "   macro avg       0.39      0.50      0.44     20000\n",
      "weighted avg       0.60      0.78      0.68     20000\n",
      "\n",
      "tensor([nan, nan, nan,  ..., nan, nan, nan], device='cuda:0')\n",
      "              precision    recall  f1-score   support\n",
      "\n",
      "         0.0       0.78      1.00      0.87     15543\n",
      "         1.0       0.00      0.00      0.00      4457\n",
      "\n",
      "    accuracy                           0.78     20000\n",
      "   macro avg       0.39      0.50      0.44     20000\n",
      "weighted avg       0.60      0.78      0.68     20000\n",
      "\n"
     ]
    },
    {
     "name": "stderr",
     "output_type": "stream",
     "text": [
      "\r",
      " 80%|████████  | 803/1000 [01:40<00:24,  8.09it/s]"
     ]
    },
    {
     "name": "stdout",
     "output_type": "stream",
     "text": [
      "tensor([nan, nan, nan,  ..., nan, nan, nan], device='cuda:0')\n",
      "              precision    recall  f1-score   support\n",
      "\n",
      "         0.0       0.78      1.00      0.87     15543\n",
      "         1.0       0.00      0.00      0.00      4457\n",
      "\n",
      "    accuracy                           0.78     20000\n",
      "   macro avg       0.39      0.50      0.44     20000\n",
      "weighted avg       0.60      0.78      0.68     20000\n",
      "\n",
      "tensor([nan, nan, nan,  ..., nan, nan, nan], device='cuda:0')\n"
     ]
    },
    {
     "name": "stderr",
     "output_type": "stream",
     "text": [
      " 80%|████████  | 805/1000 [01:41<00:27,  7.13it/s]"
     ]
    },
    {
     "name": "stdout",
     "output_type": "stream",
     "text": [
      "              precision    recall  f1-score   support\n",
      "\n",
      "         0.0       0.78      1.00      0.87     15543\n",
      "         1.0       0.00      0.00      0.00      4457\n",
      "\n",
      "    accuracy                           0.78     20000\n",
      "   macro avg       0.39      0.50      0.44     20000\n",
      "weighted avg       0.60      0.78      0.68     20000\n",
      "\n",
      "tensor([nan, nan, nan,  ..., nan, nan, nan], device='cuda:0')\n",
      "              precision    recall  f1-score   support\n",
      "\n",
      "         0.0       0.78      1.00      0.87     15543\n",
      "         1.0       0.00      0.00      0.00      4457\n",
      "\n",
      "    accuracy                           0.78     20000\n",
      "   macro avg       0.39      0.50      0.44     20000\n",
      "weighted avg       0.60      0.78      0.68     20000\n",
      "\n",
      "tensor([nan, nan, nan,  ..., nan, nan, nan], device='cuda:0')\n"
     ]
    },
    {
     "name": "stderr",
     "output_type": "stream",
     "text": [
      "\r",
      " 81%|████████  | 807/1000 [01:41<00:25,  7.71it/s]"
     ]
    },
    {
     "name": "stdout",
     "output_type": "stream",
     "text": [
      "              precision    recall  f1-score   support\n",
      "\n",
      "         0.0       0.78      1.00      0.87     15543\n",
      "         1.0       0.00      0.00      0.00      4457\n",
      "\n",
      "    accuracy                           0.78     20000\n",
      "   macro avg       0.39      0.50      0.44     20000\n",
      "weighted avg       0.60      0.78      0.68     20000\n",
      "\n",
      "tensor([nan, nan, nan,  ..., nan, nan, nan], device='cuda:0')\n",
      "              precision    recall  f1-score   support\n",
      "\n",
      "         0.0       0.78      1.00      0.87     15543\n",
      "         1.0       0.00      0.00      0.00      4457\n",
      "\n",
      "    accuracy                           0.78     20000\n",
      "   macro avg       0.39      0.50      0.44     20000\n",
      "weighted avg       0.60      0.78      0.68     20000\n",
      "\n"
     ]
    },
    {
     "name": "stderr",
     "output_type": "stream",
     "text": [
      " 81%|████████  | 809/1000 [01:41<00:24,  7.80it/s]"
     ]
    },
    {
     "name": "stdout",
     "output_type": "stream",
     "text": [
      "tensor([nan, nan, nan,  ..., nan, nan, nan], device='cuda:0')\n",
      "              precision    recall  f1-score   support\n",
      "\n",
      "         0.0       0.78      1.00      0.87     15543\n",
      "         1.0       0.00      0.00      0.00      4457\n",
      "\n",
      "    accuracy                           0.78     20000\n",
      "   macro avg       0.39      0.50      0.44     20000\n",
      "weighted avg       0.60      0.78      0.68     20000\n",
      "\n",
      "tensor([nan, nan, nan,  ..., nan, nan, nan], device='cuda:0')\n",
      "              precision    recall  f1-score   support\n",
      "\n",
      "         0.0       0.78      1.00      0.87     15543\n",
      "         1.0       0.00      0.00      0.00      4457\n",
      "\n",
      "    accuracy                           0.78     20000\n",
      "   macro avg       0.39      0.50      0.44     20000\n",
      "weighted avg       0.60      0.78      0.68     20000\n",
      "\n"
     ]
    },
    {
     "name": "stderr",
     "output_type": "stream",
     "text": [
      "\r",
      " 81%|████████  | 810/1000 [01:41<00:24,  7.64it/s]"
     ]
    },
    {
     "name": "stdout",
     "output_type": "stream",
     "text": [
      "tensor([nan, nan, nan,  ..., nan, nan, nan], device='cuda:0')\n",
      "              precision    recall  f1-score   support\n",
      "\n",
      "         0.0       0.78      1.00      0.87     15543\n",
      "         1.0       0.00      0.00      0.00      4457\n",
      "\n",
      "    accuracy                           0.78     20000\n",
      "   macro avg       0.39      0.50      0.44     20000\n",
      "weighted avg       0.60      0.78      0.68     20000\n",
      "\n",
      "tensor([nan, nan, nan,  ..., nan, nan, nan], device='cuda:0')\n",
      "              precision    recall  f1-score   support\n",
      "\n",
      "         0.0       0.78      1.00      0.87     15543\n",
      "         1.0       0.00      0.00      0.00      4457\n",
      "\n",
      "    accuracy                           0.78     20000\n",
      "   macro avg       0.39      0.50      0.44     20000\n",
      "weighted avg       0.60      0.78      0.68     20000\n",
      "\n"
     ]
    },
    {
     "name": "stderr",
     "output_type": "stream",
     "text": [
      " 81%|████████▏ | 813/1000 [01:42<00:21,  8.78it/s]"
     ]
    },
    {
     "name": "stdout",
     "output_type": "stream",
     "text": [
      "tensor([nan, nan, nan,  ..., nan, nan, nan], device='cuda:0')\n",
      "              precision    recall  f1-score   support\n",
      "\n",
      "         0.0       0.78      1.00      0.87     15543\n",
      "         1.0       0.00      0.00      0.00      4457\n",
      "\n",
      "    accuracy                           0.78     20000\n",
      "   macro avg       0.39      0.50      0.44     20000\n",
      "weighted avg       0.60      0.78      0.68     20000\n",
      "\n",
      "tensor([nan, nan, nan,  ..., nan, nan, nan], device='cuda:0')\n",
      "              precision    recall  f1-score   support\n",
      "\n",
      "         0.0       0.78      1.00      0.87     15543\n",
      "         1.0       0.00      0.00      0.00      4457\n",
      "\n",
      "    accuracy                           0.78     20000\n",
      "   macro avg       0.39      0.50      0.44     20000\n",
      "weighted avg       0.60      0.78      0.68     20000\n",
      "\n"
     ]
    },
    {
     "name": "stderr",
     "output_type": "stream",
     "text": [
      "\r",
      " 82%|████████▏ | 815/1000 [01:42<00:19,  9.33it/s]"
     ]
    },
    {
     "name": "stdout",
     "output_type": "stream",
     "text": [
      "tensor([nan, nan, nan,  ..., nan, nan, nan], device='cuda:0')\n",
      "              precision    recall  f1-score   support\n",
      "\n",
      "         0.0       0.78      1.00      0.87     15543\n",
      "         1.0       0.00      0.00      0.00      4457\n",
      "\n",
      "    accuracy                           0.78     20000\n",
      "   macro avg       0.39      0.50      0.44     20000\n",
      "weighted avg       0.60      0.78      0.68     20000\n",
      "\n",
      "tensor([nan, nan, nan,  ..., nan, nan, nan], device='cuda:0')\n",
      "              precision    recall  f1-score   support\n",
      "\n",
      "         0.0       0.78      1.00      0.87     15543\n",
      "         1.0       0.00      0.00      0.00      4457\n",
      "\n",
      "    accuracy                           0.78     20000\n",
      "   macro avg       0.39      0.50      0.44     20000\n",
      "weighted avg       0.60      0.78      0.68     20000\n",
      "\n",
      "tensor([nan, nan, nan,  ..., nan, nan, nan], device='cuda:0')\n"
     ]
    },
    {
     "name": "stderr",
     "output_type": "stream",
     "text": [
      "\r",
      " 82%|████████▏ | 816/1000 [01:42<00:20,  8.90it/s]"
     ]
    },
    {
     "name": "stdout",
     "output_type": "stream",
     "text": [
      "              precision    recall  f1-score   support\n",
      "\n",
      "         0.0       0.78      1.00      0.87     15543\n",
      "         1.0       0.00      0.00      0.00      4457\n",
      "\n",
      "    accuracy                           0.78     20000\n",
      "   macro avg       0.39      0.50      0.44     20000\n",
      "weighted avg       0.60      0.78      0.68     20000\n",
      "\n",
      "tensor([nan, nan, nan,  ..., nan, nan, nan], device='cuda:0')\n",
      "              precision    recall  f1-score   support\n",
      "\n",
      "         0.0       0.78      1.00      0.87     15543\n",
      "         1.0       0.00      0.00      0.00      4457\n",
      "\n",
      "    accuracy                           0.78     20000\n",
      "   macro avg       0.39      0.50      0.44     20000\n",
      "weighted avg       0.60      0.78      0.68     20000\n",
      "\n"
     ]
    },
    {
     "name": "stderr",
     "output_type": "stream",
     "text": [
      " 82%|████████▏ | 819/1000 [01:42<00:22,  8.01it/s]"
     ]
    },
    {
     "name": "stdout",
     "output_type": "stream",
     "text": [
      "tensor([nan, nan, nan,  ..., nan, nan, nan], device='cuda:0')\n",
      "              precision    recall  f1-score   support\n",
      "\n",
      "         0.0       0.78      1.00      0.87     15543\n",
      "         1.0       0.00      0.00      0.00      4457\n",
      "\n",
      "    accuracy                           0.78     20000\n",
      "   macro avg       0.39      0.50      0.44     20000\n",
      "weighted avg       0.60      0.78      0.68     20000\n",
      "\n",
      "tensor([nan, nan, nan,  ..., nan, nan, nan], device='cuda:0')\n",
      "              precision    recall  f1-score   support\n",
      "\n",
      "         0.0       0.78      1.00      0.87     15543\n",
      "         1.0       0.00      0.00      0.00      4457\n",
      "\n",
      "    accuracy                           0.78     20000\n",
      "   macro avg       0.39      0.50      0.44     20000\n",
      "weighted avg       0.60      0.78      0.68     20000\n",
      "\n"
     ]
    },
    {
     "name": "stderr",
     "output_type": "stream",
     "text": [
      "\r",
      " 82%|████████▏ | 821/1000 [01:42<00:20,  8.88it/s]"
     ]
    },
    {
     "name": "stdout",
     "output_type": "stream",
     "text": [
      "tensor([nan, nan, nan,  ..., nan, nan, nan], device='cuda:0')\n",
      "              precision    recall  f1-score   support\n",
      "\n",
      "         0.0       0.78      1.00      0.87     15543\n",
      "         1.0       0.00      0.00      0.00      4457\n",
      "\n",
      "    accuracy                           0.78     20000\n",
      "   macro avg       0.39      0.50      0.44     20000\n",
      "weighted avg       0.60      0.78      0.68     20000\n",
      "\n",
      "tensor([nan, nan, nan,  ..., nan, nan, nan], device='cuda:0')\n",
      "              precision    recall  f1-score   support\n",
      "\n",
      "         0.0       0.78      1.00      0.87     15543\n",
      "         1.0       0.00      0.00      0.00      4457\n",
      "\n",
      "    accuracy                           0.78     20000\n",
      "   macro avg       0.39      0.50      0.44     20000\n",
      "weighted avg       0.60      0.78      0.68     20000\n",
      "\n",
      "tensor([nan, nan, nan,  ..., nan, nan, nan], device='cuda:0')\n"
     ]
    },
    {
     "name": "stderr",
     "output_type": "stream",
     "text": [
      "\r",
      " 82%|████████▏ | 822/1000 [01:43<00:19,  9.12it/s]"
     ]
    },
    {
     "name": "stdout",
     "output_type": "stream",
     "text": [
      "              precision    recall  f1-score   support\n",
      "\n",
      "         0.0       0.78      1.00      0.87     15543\n",
      "         1.0       0.00      0.00      0.00      4457\n",
      "\n",
      "    accuracy                           0.78     20000\n",
      "   macro avg       0.39      0.50      0.44     20000\n",
      "weighted avg       0.60      0.78      0.68     20000\n",
      "\n",
      "tensor([nan, nan, nan,  ..., nan, nan, nan], device='cuda:0')\n",
      "              precision    recall  f1-score   support\n",
      "\n",
      "         0.0       0.78      1.00      0.87     15543\n",
      "         1.0       0.00      0.00      0.00      4457\n",
      "\n",
      "    accuracy                           0.78     20000\n",
      "   macro avg       0.39      0.50      0.44     20000\n",
      "weighted avg       0.60      0.78      0.68     20000\n",
      "\n",
      "tensor([nan, nan, nan,  ..., nan, nan, nan], device='cuda:0')\n"
     ]
    },
    {
     "name": "stderr",
     "output_type": "stream",
     "text": [
      " 82%|████████▎ | 825/1000 [01:43<00:21,  8.02it/s]"
     ]
    },
    {
     "name": "stdout",
     "output_type": "stream",
     "text": [
      "              precision    recall  f1-score   support\n",
      "\n",
      "         0.0       0.78      1.00      0.87     15543\n",
      "         1.0       0.00      0.00      0.00      4457\n",
      "\n",
      "    accuracy                           0.78     20000\n",
      "   macro avg       0.39      0.50      0.44     20000\n",
      "weighted avg       0.60      0.78      0.68     20000\n",
      "\n",
      "tensor([nan, nan, nan,  ..., nan, nan, nan], device='cuda:0')\n",
      "              precision    recall  f1-score   support\n",
      "\n",
      "         0.0       0.78      1.00      0.87     15543\n",
      "         1.0       0.00      0.00      0.00      4457\n",
      "\n",
      "    accuracy                           0.78     20000\n",
      "   macro avg       0.39      0.50      0.44     20000\n",
      "weighted avg       0.60      0.78      0.68     20000\n",
      "\n",
      "tensor([nan, nan, nan,  ..., nan, nan, nan], device='cuda:0')\n",
      "              precision    recall  f1-score   support\n",
      "\n",
      "         0.0       0.78      1.00      0.87     15543\n",
      "         1.0       0.00      0.00      0.00      4457\n",
      "\n",
      "    accuracy                           0.78     20000\n",
      "   macro avg       0.39      0.50      0.44     20000\n",
      "weighted avg       0.60      0.78      0.68     20000\n",
      "\n",
      "tensor([nan, nan, nan,  ..., nan, nan, nan], device='cuda:0')\n"
     ]
    },
    {
     "name": "stderr",
     "output_type": "stream",
     "text": [
      " 83%|████████▎ | 828/1000 [01:43<00:21,  8.10it/s]"
     ]
    },
    {
     "name": "stdout",
     "output_type": "stream",
     "text": [
      "              precision    recall  f1-score   support\n",
      "\n",
      "         0.0       0.78      1.00      0.87     15543\n",
      "         1.0       0.00      0.00      0.00      4457\n",
      "\n",
      "    accuracy                           0.78     20000\n",
      "   macro avg       0.39      0.50      0.44     20000\n",
      "weighted avg       0.60      0.78      0.68     20000\n",
      "\n",
      "tensor([nan, nan, nan,  ..., nan, nan, nan], device='cuda:0')\n",
      "              precision    recall  f1-score   support\n",
      "\n",
      "         0.0       0.78      1.00      0.87     15543\n",
      "         1.0       0.00      0.00      0.00      4457\n",
      "\n",
      "    accuracy                           0.78     20000\n",
      "   macro avg       0.39      0.50      0.44     20000\n",
      "weighted avg       0.60      0.78      0.68     20000\n",
      "\n",
      "tensor([nan, nan, nan,  ..., nan, nan, nan], device='cuda:0')\n",
      "              precision    recall  f1-score   support\n",
      "\n",
      "         0.0       0.78      1.00      0.87     15543\n",
      "         1.0       0.00      0.00      0.00      4457\n",
      "\n",
      "    accuracy                           0.78     20000\n",
      "   macro avg       0.39      0.50      0.44     20000\n",
      "weighted avg       0.60      0.78      0.68     20000\n",
      "\n"
     ]
    },
    {
     "name": "stderr",
     "output_type": "stream",
     "text": [
      "\r",
      " 83%|████████▎ | 830/1000 [01:44<00:19,  8.94it/s]"
     ]
    },
    {
     "name": "stdout",
     "output_type": "stream",
     "text": [
      "tensor([nan, nan, nan,  ..., nan, nan, nan], device='cuda:0')\n",
      "              precision    recall  f1-score   support\n",
      "\n",
      "         0.0       0.78      1.00      0.87     15543\n",
      "         1.0       0.00      0.00      0.00      4457\n",
      "\n",
      "    accuracy                           0.78     20000\n",
      "   macro avg       0.39      0.50      0.44     20000\n",
      "weighted avg       0.60      0.78      0.68     20000\n",
      "\n",
      "tensor([nan, nan, nan,  ..., nan, nan, nan], device='cuda:0')\n",
      "              precision    recall  f1-score   support\n",
      "\n",
      "         0.0       0.78      1.00      0.87     15543\n",
      "         1.0       0.00      0.00      0.00      4457\n",
      "\n",
      "    accuracy                           0.78     20000\n",
      "   macro avg       0.39      0.50      0.44     20000\n",
      "weighted avg       0.60      0.78      0.68     20000\n",
      "\n",
      "tensor([nan, nan, nan,  ..., nan, nan, nan], device='cuda:0')\n"
     ]
    },
    {
     "name": "stderr",
     "output_type": "stream",
     "text": [
      "\r",
      " 83%|████████▎ | 832/1000 [01:44<00:18,  8.95it/s]"
     ]
    },
    {
     "name": "stdout",
     "output_type": "stream",
     "text": [
      "              precision    recall  f1-score   support\n",
      "\n",
      "         0.0       0.78      1.00      0.87     15543\n",
      "         1.0       0.00      0.00      0.00      4457\n",
      "\n",
      "    accuracy                           0.78     20000\n",
      "   macro avg       0.39      0.50      0.44     20000\n",
      "weighted avg       0.60      0.78      0.68     20000\n",
      "\n",
      "tensor([nan, nan, nan,  ..., nan, nan, nan], device='cuda:0')\n",
      "              precision    recall  f1-score   support\n",
      "\n",
      "         0.0       0.78      1.00      0.87     15543\n",
      "         1.0       0.00      0.00      0.00      4457\n",
      "\n",
      "    accuracy                           0.78     20000\n",
      "   macro avg       0.39      0.50      0.44     20000\n",
      "weighted avg       0.60      0.78      0.68     20000\n",
      "\n"
     ]
    },
    {
     "name": "stderr",
     "output_type": "stream",
     "text": [
      " 83%|████████▎ | 834/1000 [01:44<00:20,  7.96it/s]"
     ]
    },
    {
     "name": "stdout",
     "output_type": "stream",
     "text": [
      "tensor([nan, nan, nan,  ..., nan, nan, nan], device='cuda:0')\n",
      "              precision    recall  f1-score   support\n",
      "\n",
      "         0.0       0.78      1.00      0.87     15543\n",
      "         1.0       0.00      0.00      0.00      4457\n",
      "\n",
      "    accuracy                           0.78     20000\n",
      "   macro avg       0.39      0.50      0.44     20000\n",
      "weighted avg       0.60      0.78      0.68     20000\n",
      "\n",
      "tensor([nan, nan, nan,  ..., nan, nan, nan], device='cuda:0')\n",
      "              precision    recall  f1-score   support\n",
      "\n",
      "         0.0       0.78      1.00      0.87     15543\n",
      "         1.0       0.00      0.00      0.00      4457\n",
      "\n",
      "    accuracy                           0.78     20000\n",
      "   macro avg       0.39      0.50      0.44     20000\n",
      "weighted avg       0.60      0.78      0.68     20000\n",
      "\n"
     ]
    },
    {
     "name": "stderr",
     "output_type": "stream",
     "text": [
      "\r",
      " 84%|████████▎ | 836/1000 [01:44<00:19,  8.31it/s]"
     ]
    },
    {
     "name": "stdout",
     "output_type": "stream",
     "text": [
      "tensor([nan, nan, nan,  ..., nan, nan, nan], device='cuda:0')\n",
      "              precision    recall  f1-score   support\n",
      "\n",
      "         0.0       0.78      1.00      0.87     15543\n",
      "         1.0       0.00      0.00      0.00      4457\n",
      "\n",
      "    accuracy                           0.78     20000\n",
      "   macro avg       0.39      0.50      0.44     20000\n",
      "weighted avg       0.60      0.78      0.68     20000\n",
      "\n",
      "tensor([nan, nan, nan,  ..., nan, nan, nan], device='cuda:0')\n"
     ]
    },
    {
     "name": "stderr",
     "output_type": "stream",
     "text": [
      " 84%|████████▍ | 838/1000 [01:45<00:22,  7.25it/s]"
     ]
    },
    {
     "name": "stdout",
     "output_type": "stream",
     "text": [
      "              precision    recall  f1-score   support\n",
      "\n",
      "         0.0       0.78      1.00      0.87     15543\n",
      "         1.0       0.00      0.00      0.00      4457\n",
      "\n",
      "    accuracy                           0.78     20000\n",
      "   macro avg       0.39      0.50      0.44     20000\n",
      "weighted avg       0.60      0.78      0.68     20000\n",
      "\n",
      "tensor([nan, nan, nan,  ..., nan, nan, nan], device='cuda:0')\n",
      "              precision    recall  f1-score   support\n",
      "\n",
      "         0.0       0.78      1.00      0.87     15543\n",
      "         1.0       0.00      0.00      0.00      4457\n",
      "\n",
      "    accuracy                           0.78     20000\n",
      "   macro avg       0.39      0.50      0.44     20000\n",
      "weighted avg       0.60      0.78      0.68     20000\n",
      "\n"
     ]
    },
    {
     "name": "stderr",
     "output_type": "stream",
     "text": [
      "\r",
      " 84%|████████▍ | 839/1000 [01:45<00:22,  7.20it/s]"
     ]
    },
    {
     "name": "stdout",
     "output_type": "stream",
     "text": [
      "tensor([nan, nan, nan,  ..., nan, nan, nan], device='cuda:0')\n",
      "              precision    recall  f1-score   support\n",
      "\n",
      "         0.0       0.78      1.00      0.87     15543\n",
      "         1.0       0.00      0.00      0.00      4457\n",
      "\n",
      "    accuracy                           0.78     20000\n",
      "   macro avg       0.39      0.50      0.44     20000\n",
      "weighted avg       0.60      0.78      0.68     20000\n",
      "\n",
      "tensor([nan, nan, nan,  ..., nan, nan, nan], device='cuda:0')\n",
      "              precision    recall  f1-score   support\n",
      "\n",
      "         0.0       0.78      1.00      0.87     15543\n",
      "         1.0       0.00      0.00      0.00      4457\n",
      "\n",
      "    accuracy                           0.78     20000\n",
      "   macro avg       0.39      0.50      0.44     20000\n",
      "weighted avg       0.60      0.78      0.68     20000\n",
      "\n"
     ]
    },
    {
     "name": "stderr",
     "output_type": "stream",
     "text": [
      " 84%|████████▍ | 842/1000 [01:45<00:20,  7.55it/s]"
     ]
    },
    {
     "name": "stdout",
     "output_type": "stream",
     "text": [
      "tensor([nan, nan, nan,  ..., nan, nan, nan], device='cuda:0')\n",
      "              precision    recall  f1-score   support\n",
      "\n",
      "         0.0       0.78      1.00      0.87     15543\n",
      "         1.0       0.00      0.00      0.00      4457\n",
      "\n",
      "    accuracy                           0.78     20000\n",
      "   macro avg       0.39      0.50      0.44     20000\n",
      "weighted avg       0.60      0.78      0.68     20000\n",
      "\n",
      "tensor([nan, nan, nan,  ..., nan, nan, nan], device='cuda:0')\n",
      "              precision    recall  f1-score   support\n",
      "\n",
      "         0.0       0.78      1.00      0.87     15543\n",
      "         1.0       0.00      0.00      0.00      4457\n",
      "\n",
      "    accuracy                           0.78     20000\n",
      "   macro avg       0.39      0.50      0.44     20000\n",
      "weighted avg       0.60      0.78      0.68     20000\n",
      "\n"
     ]
    },
    {
     "name": "stderr",
     "output_type": "stream",
     "text": [
      "\r",
      " 84%|████████▍ | 843/1000 [01:45<00:21,  7.24it/s]"
     ]
    },
    {
     "name": "stdout",
     "output_type": "stream",
     "text": [
      "tensor([nan, nan, nan,  ..., nan, nan, nan], device='cuda:0')\n",
      "              precision    recall  f1-score   support\n",
      "\n",
      "         0.0       0.78      1.00      0.87     15543\n",
      "         1.0       0.00      0.00      0.00      4457\n",
      "\n",
      "    accuracy                           0.78     20000\n",
      "   macro avg       0.39      0.50      0.44     20000\n",
      "weighted avg       0.60      0.78      0.68     20000\n",
      "\n",
      "tensor([nan, nan, nan,  ..., nan, nan, nan], device='cuda:0')\n"
     ]
    },
    {
     "name": "stderr",
     "output_type": "stream",
     "text": [
      "\r",
      " 84%|████████▍ | 844/1000 [01:45<00:21,  7.19it/s]"
     ]
    },
    {
     "name": "stdout",
     "output_type": "stream",
     "text": [
      "              precision    recall  f1-score   support\n",
      "\n",
      "         0.0       0.78      1.00      0.87     15543\n",
      "         1.0       0.00      0.00      0.00      4457\n",
      "\n",
      "    accuracy                           0.78     20000\n",
      "   macro avg       0.39      0.50      0.44     20000\n",
      "weighted avg       0.60      0.78      0.68     20000\n",
      "\n",
      "tensor([nan, nan, nan,  ..., nan, nan, nan], device='cuda:0')\n",
      "              precision    recall  f1-score   support\n",
      "\n",
      "         0.0       0.78      1.00      0.87     15543\n",
      "         1.0       0.00      0.00      0.00      4457\n",
      "\n",
      "    accuracy                           0.78     20000\n",
      "   macro avg       0.39      0.50      0.44     20000\n",
      "weighted avg       0.60      0.78      0.68     20000\n",
      "\n",
      "tensor([nan, nan, nan,  ..., nan, nan, nan], device='cuda:0')\n"
     ]
    },
    {
     "name": "stderr",
     "output_type": "stream",
     "text": [
      "\r",
      " 85%|████████▍ | 846/1000 [01:46<00:18,  8.12it/s]"
     ]
    },
    {
     "name": "stdout",
     "output_type": "stream",
     "text": [
      "              precision    recall  f1-score   support\n",
      "\n",
      "         0.0       0.78      1.00      0.87     15543\n",
      "         1.0       0.00      0.00      0.00      4457\n",
      "\n",
      "    accuracy                           0.78     20000\n",
      "   macro avg       0.39      0.50      0.44     20000\n",
      "weighted avg       0.60      0.78      0.68     20000\n",
      "\n",
      "tensor([nan, nan, nan,  ..., nan, nan, nan], device='cuda:0')\n",
      "              precision    recall  f1-score   support\n",
      "\n",
      "         0.0       0.78      1.00      0.87     15543\n",
      "         1.0       0.00      0.00      0.00      4457\n",
      "\n",
      "    accuracy                           0.78     20000\n",
      "   macro avg       0.39      0.50      0.44     20000\n",
      "weighted avg       0.60      0.78      0.68     20000\n",
      "\n",
      "tensor([nan, nan, nan,  ..., nan, nan, nan], device='cuda:0')\n"
     ]
    },
    {
     "name": "stderr",
     "output_type": "stream",
     "text": [
      " 85%|████████▍ | 849/1000 [01:46<00:19,  7.87it/s]"
     ]
    },
    {
     "name": "stdout",
     "output_type": "stream",
     "text": [
      "              precision    recall  f1-score   support\n",
      "\n",
      "         0.0       0.78      1.00      0.87     15543\n",
      "         1.0       0.00      0.00      0.00      4457\n",
      "\n",
      "    accuracy                           0.78     20000\n",
      "   macro avg       0.39      0.50      0.44     20000\n",
      "weighted avg       0.60      0.78      0.68     20000\n",
      "\n",
      "tensor([nan, nan, nan,  ..., nan, nan, nan], device='cuda:0')\n",
      "              precision    recall  f1-score   support\n",
      "\n",
      "         0.0       0.78      1.00      0.87     15543\n",
      "         1.0       0.00      0.00      0.00      4457\n",
      "\n",
      "    accuracy                           0.78     20000\n",
      "   macro avg       0.39      0.50      0.44     20000\n",
      "weighted avg       0.60      0.78      0.68     20000\n",
      "\n"
     ]
    },
    {
     "name": "stderr",
     "output_type": "stream",
     "text": [
      " 85%|████████▌ | 851/1000 [01:46<00:18,  8.18it/s]"
     ]
    },
    {
     "name": "stdout",
     "output_type": "stream",
     "text": [
      "tensor([nan, nan, nan,  ..., nan, nan, nan], device='cuda:0')\n",
      "              precision    recall  f1-score   support\n",
      "\n",
      "         0.0       0.78      1.00      0.87     15543\n",
      "         1.0       0.00      0.00      0.00      4457\n",
      "\n",
      "    accuracy                           0.78     20000\n",
      "   macro avg       0.39      0.50      0.44     20000\n",
      "weighted avg       0.60      0.78      0.68     20000\n",
      "\n",
      "tensor([nan, nan, nan,  ..., nan, nan, nan], device='cuda:0')\n",
      "              precision    recall  f1-score   support\n",
      "\n",
      "         0.0       0.78      1.00      0.87     15543\n",
      "         1.0       0.00      0.00      0.00      4457\n",
      "\n",
      "    accuracy                           0.78     20000\n",
      "   macro avg       0.39      0.50      0.44     20000\n",
      "weighted avg       0.60      0.78      0.68     20000\n",
      "\n"
     ]
    },
    {
     "name": "stderr",
     "output_type": "stream",
     "text": [
      " 85%|████████▌ | 853/1000 [01:47<00:17,  8.45it/s]"
     ]
    },
    {
     "name": "stdout",
     "output_type": "stream",
     "text": [
      "tensor([nan, nan, nan,  ..., nan, nan, nan], device='cuda:0')\n",
      "              precision    recall  f1-score   support\n",
      "\n",
      "         0.0       0.78      1.00      0.87     15543\n",
      "         1.0       0.00      0.00      0.00      4457\n",
      "\n",
      "    accuracy                           0.78     20000\n",
      "   macro avg       0.39      0.50      0.44     20000\n",
      "weighted avg       0.60      0.78      0.68     20000\n",
      "\n",
      "tensor([nan, nan, nan,  ..., nan, nan, nan], device='cuda:0')\n",
      "              precision    recall  f1-score   support\n",
      "\n",
      "         0.0       0.78      1.00      0.87     15543\n",
      "         1.0       0.00      0.00      0.00      4457\n",
      "\n",
      "    accuracy                           0.78     20000\n",
      "   macro avg       0.39      0.50      0.44     20000\n",
      "weighted avg       0.60      0.78      0.68     20000\n",
      "\n"
     ]
    },
    {
     "name": "stderr",
     "output_type": "stream",
     "text": [
      "\r",
      " 86%|████████▌ | 855/1000 [01:47<00:15,  9.27it/s]"
     ]
    },
    {
     "name": "stdout",
     "output_type": "stream",
     "text": [
      "tensor([nan, nan, nan,  ..., nan, nan, nan], device='cuda:0')\n",
      "              precision    recall  f1-score   support\n",
      "\n",
      "         0.0       0.78      1.00      0.87     15543\n",
      "         1.0       0.00      0.00      0.00      4457\n",
      "\n",
      "    accuracy                           0.78     20000\n",
      "   macro avg       0.39      0.50      0.44     20000\n",
      "weighted avg       0.60      0.78      0.68     20000\n",
      "\n",
      "tensor([nan, nan, nan,  ..., nan, nan, nan], device='cuda:0')\n",
      "              precision    recall  f1-score   support\n",
      "\n",
      "         0.0       0.78      1.00      0.87     15543\n",
      "         1.0       0.00      0.00      0.00      4457\n",
      "\n",
      "    accuracy                           0.78     20000\n",
      "   macro avg       0.39      0.50      0.44     20000\n",
      "weighted avg       0.60      0.78      0.68     20000\n",
      "\n",
      "tensor([nan, nan, nan,  ..., nan, nan, nan], device='cuda:0')\n"
     ]
    },
    {
     "name": "stderr",
     "output_type": "stream",
     "text": [
      "\r",
      " 86%|████████▌ | 856/1000 [01:47<00:15,  9.32it/s]"
     ]
    },
    {
     "name": "stdout",
     "output_type": "stream",
     "text": [
      "              precision    recall  f1-score   support\n",
      "\n",
      "         0.0       0.78      1.00      0.87     15543\n",
      "         1.0       0.00      0.00      0.00      4457\n",
      "\n",
      "    accuracy                           0.78     20000\n",
      "   macro avg       0.39      0.50      0.44     20000\n",
      "weighted avg       0.60      0.78      0.68     20000\n",
      "\n",
      "tensor([nan, nan, nan,  ..., nan, nan, nan], device='cuda:0')\n",
      "              precision    recall  f1-score   support\n",
      "\n",
      "         0.0       0.78      1.00      0.87     15543\n",
      "         1.0       0.00      0.00      0.00      4457\n",
      "\n",
      "    accuracy                           0.78     20000\n",
      "   macro avg       0.39      0.50      0.44     20000\n",
      "weighted avg       0.60      0.78      0.68     20000\n",
      "\n",
      "tensor([nan, nan, nan,  ..., nan, nan, nan], device='cuda:0')\n",
      "              precision    recall  f1-score   support\n",
      "\n",
      "         0.0       0.78      1.00      0.87     15543\n",
      "         1.0       0.00      0.00      0.00      4457\n",
      "\n",
      "    accuracy                           0.78     20000\n",
      "   macro avg       0.39      0.50      0.44     20000\n",
      "weighted avg       0.60      0.78      0.68     20000\n",
      "\n"
     ]
    },
    {
     "name": "stderr",
     "output_type": "stream",
     "text": [
      " 86%|████████▌ | 859/1000 [01:47<00:14,  9.73it/s]"
     ]
    },
    {
     "name": "stdout",
     "output_type": "stream",
     "text": [
      "tensor([nan, nan, nan,  ..., nan, nan, nan], device='cuda:0')\n",
      "              precision    recall  f1-score   support\n",
      "\n",
      "         0.0       0.78      1.00      0.87     15543\n",
      "         1.0       0.00      0.00      0.00      4457\n",
      "\n",
      "    accuracy                           0.78     20000\n",
      "   macro avg       0.39      0.50      0.44     20000\n",
      "weighted avg       0.60      0.78      0.68     20000\n",
      "\n",
      "tensor([nan, nan, nan,  ..., nan, nan, nan], device='cuda:0')\n",
      "              precision    recall  f1-score   support\n",
      "\n",
      "         0.0       0.78      1.00      0.87     15543\n",
      "         1.0       0.00      0.00      0.00      4457\n",
      "\n",
      "    accuracy                           0.78     20000\n",
      "   macro avg       0.39      0.50      0.44     20000\n",
      "weighted avg       0.60      0.78      0.68     20000\n",
      "\n",
      "tensor([nan, nan, nan,  ..., nan, nan, nan], device='cuda:0')\n"
     ]
    },
    {
     "name": "stderr",
     "output_type": "stream",
     "text": [
      " 86%|████████▌ | 862/1000 [01:47<00:15,  8.98it/s]"
     ]
    },
    {
     "name": "stdout",
     "output_type": "stream",
     "text": [
      "              precision    recall  f1-score   support\n",
      "\n",
      "         0.0       0.78      1.00      0.87     15543\n",
      "         1.0       0.00      0.00      0.00      4457\n",
      "\n",
      "    accuracy                           0.78     20000\n",
      "   macro avg       0.39      0.50      0.44     20000\n",
      "weighted avg       0.60      0.78      0.68     20000\n",
      "\n",
      "tensor([nan, nan, nan,  ..., nan, nan, nan], device='cuda:0')\n",
      "              precision    recall  f1-score   support\n",
      "\n",
      "         0.0       0.78      1.00      0.87     15543\n",
      "         1.0       0.00      0.00      0.00      4457\n",
      "\n",
      "    accuracy                           0.78     20000\n",
      "   macro avg       0.39      0.50      0.44     20000\n",
      "weighted avg       0.60      0.78      0.68     20000\n",
      "\n",
      "tensor([nan, nan, nan,  ..., nan, nan, nan], device='cuda:0')\n"
     ]
    },
    {
     "name": "stderr",
     "output_type": "stream",
     "text": [
      " 86%|████████▋ | 864/1000 [01:48<00:16,  8.10it/s]"
     ]
    },
    {
     "name": "stdout",
     "output_type": "stream",
     "text": [
      "              precision    recall  f1-score   support\n",
      "\n",
      "         0.0       0.78      1.00      0.87     15543\n",
      "         1.0       0.00      0.00      0.00      4457\n",
      "\n",
      "    accuracy                           0.78     20000\n",
      "   macro avg       0.39      0.50      0.44     20000\n",
      "weighted avg       0.60      0.78      0.68     20000\n",
      "\n",
      "tensor([nan, nan, nan,  ..., nan, nan, nan], device='cuda:0')\n",
      "              precision    recall  f1-score   support\n",
      "\n",
      "         0.0       0.78      1.00      0.87     15543\n",
      "         1.0       0.00      0.00      0.00      4457\n",
      "\n",
      "    accuracy                           0.78     20000\n",
      "   macro avg       0.39      0.50      0.44     20000\n",
      "weighted avg       0.60      0.78      0.68     20000\n",
      "\n"
     ]
    },
    {
     "name": "stderr",
     "output_type": "stream",
     "text": [
      "\r",
      " 87%|████████▋ | 866/1000 [01:48<00:14,  8.97it/s]"
     ]
    },
    {
     "name": "stdout",
     "output_type": "stream",
     "text": [
      "tensor([nan, nan, nan,  ..., nan, nan, nan], device='cuda:0')\n",
      "              precision    recall  f1-score   support\n",
      "\n",
      "         0.0       0.78      1.00      0.87     15543\n",
      "         1.0       0.00      0.00      0.00      4457\n",
      "\n",
      "    accuracy                           0.78     20000\n",
      "   macro avg       0.39      0.50      0.44     20000\n",
      "weighted avg       0.60      0.78      0.68     20000\n",
      "\n",
      "tensor([nan, nan, nan,  ..., nan, nan, nan], device='cuda:0')\n",
      "              precision    recall  f1-score   support\n",
      "\n",
      "         0.0       0.78      1.00      0.87     15543\n",
      "         1.0       0.00      0.00      0.00      4457\n",
      "\n",
      "    accuracy                           0.78     20000\n",
      "   macro avg       0.39      0.50      0.44     20000\n",
      "weighted avg       0.60      0.78      0.68     20000\n",
      "\n"
     ]
    },
    {
     "name": "stderr",
     "output_type": "stream",
     "text": [
      "\r",
      " 87%|████████▋ | 867/1000 [01:48<00:16,  8.17it/s]"
     ]
    },
    {
     "name": "stdout",
     "output_type": "stream",
     "text": [
      "tensor([nan, nan, nan,  ..., nan, nan, nan], device='cuda:0')\n",
      "              precision    recall  f1-score   support\n",
      "\n",
      "         0.0       0.78      1.00      0.87     15543\n",
      "         1.0       0.00      0.00      0.00      4457\n",
      "\n",
      "    accuracy                           0.78     20000\n",
      "   macro avg       0.39      0.50      0.44     20000\n",
      "weighted avg       0.60      0.78      0.68     20000\n",
      "\n",
      "tensor([nan, nan, nan,  ..., nan, nan, nan], device='cuda:0')\n"
     ]
    },
    {
     "name": "stderr",
     "output_type": "stream",
     "text": [
      " 87%|████████▋ | 869/1000 [01:48<00:16,  7.97it/s]"
     ]
    },
    {
     "name": "stdout",
     "output_type": "stream",
     "text": [
      "              precision    recall  f1-score   support\n",
      "\n",
      "         0.0       0.78      1.00      0.87     15543\n",
      "         1.0       0.00      0.00      0.00      4457\n",
      "\n",
      "    accuracy                           0.78     20000\n",
      "   macro avg       0.39      0.50      0.44     20000\n",
      "weighted avg       0.60      0.78      0.68     20000\n",
      "\n",
      "tensor([nan, nan, nan,  ..., nan, nan, nan], device='cuda:0')\n",
      "              precision    recall  f1-score   support\n",
      "\n",
      "         0.0       0.78      1.00      0.87     15543\n",
      "         1.0       0.00      0.00      0.00      4457\n",
      "\n",
      "    accuracy                           0.78     20000\n",
      "   macro avg       0.39      0.50      0.44     20000\n",
      "weighted avg       0.60      0.78      0.68     20000\n",
      "\n",
      "tensor([nan, nan, nan,  ..., nan, nan, nan], device='cuda:0')\n"
     ]
    },
    {
     "name": "stderr",
     "output_type": "stream",
     "text": [
      " 87%|████████▋ | 871/1000 [01:49<00:17,  7.18it/s]"
     ]
    },
    {
     "name": "stdout",
     "output_type": "stream",
     "text": [
      "              precision    recall  f1-score   support\n",
      "\n",
      "         0.0       0.78      1.00      0.87     15543\n",
      "         1.0       0.00      0.00      0.00      4457\n",
      "\n",
      "    accuracy                           0.78     20000\n",
      "   macro avg       0.39      0.50      0.44     20000\n",
      "weighted avg       0.60      0.78      0.68     20000\n",
      "\n",
      "tensor([nan, nan, nan,  ..., nan, nan, nan], device='cuda:0')\n",
      "              precision    recall  f1-score   support\n",
      "\n",
      "         0.0       0.78      1.00      0.87     15543\n",
      "         1.0       0.00      0.00      0.00      4457\n",
      "\n",
      "    accuracy                           0.78     20000\n",
      "   macro avg       0.39      0.50      0.44     20000\n",
      "weighted avg       0.60      0.78      0.68     20000\n",
      "\n"
     ]
    },
    {
     "name": "stderr",
     "output_type": "stream",
     "text": [
      "\r",
      " 87%|████████▋ | 873/1000 [01:49<00:14,  8.47it/s]"
     ]
    },
    {
     "name": "stdout",
     "output_type": "stream",
     "text": [
      "tensor([nan, nan, nan,  ..., nan, nan, nan], device='cuda:0')\n",
      "              precision    recall  f1-score   support\n",
      "\n",
      "         0.0       0.78      1.00      0.87     15543\n",
      "         1.0       0.00      0.00      0.00      4457\n",
      "\n",
      "    accuracy                           0.78     20000\n",
      "   macro avg       0.39      0.50      0.44     20000\n",
      "weighted avg       0.60      0.78      0.68     20000\n",
      "\n",
      "tensor([nan, nan, nan,  ..., nan, nan, nan], device='cuda:0')\n",
      "              precision    recall  f1-score   support\n",
      "\n",
      "         0.0       0.78      1.00      0.87     15543\n",
      "         1.0       0.00      0.00      0.00      4457\n",
      "\n",
      "    accuracy                           0.78     20000\n",
      "   macro avg       0.39      0.50      0.44     20000\n",
      "weighted avg       0.60      0.78      0.68     20000\n",
      "\n",
      "tensor([nan, nan, nan,  ..., nan, nan, nan], device='cuda:0')\n"
     ]
    },
    {
     "name": "stderr",
     "output_type": "stream",
     "text": [
      " 88%|████████▊ | 875/1000 [01:49<00:14,  8.38it/s]"
     ]
    },
    {
     "name": "stdout",
     "output_type": "stream",
     "text": [
      "              precision    recall  f1-score   support\n",
      "\n",
      "         0.0       0.78      1.00      0.87     15543\n",
      "         1.0       0.00      0.00      0.00      4457\n",
      "\n",
      "    accuracy                           0.78     20000\n",
      "   macro avg       0.39      0.50      0.44     20000\n",
      "weighted avg       0.60      0.78      0.68     20000\n",
      "\n",
      "tensor([nan, nan, nan,  ..., nan, nan, nan], device='cuda:0')\n",
      "              precision    recall  f1-score   support\n",
      "\n",
      "         0.0       0.78      1.00      0.87     15543\n",
      "         1.0       0.00      0.00      0.00      4457\n",
      "\n",
      "    accuracy                           0.78     20000\n",
      "   macro avg       0.39      0.50      0.44     20000\n",
      "weighted avg       0.60      0.78      0.68     20000\n",
      "\n",
      "tensor([nan, nan, nan,  ..., nan, nan, nan], device='cuda:0')\n"
     ]
    },
    {
     "name": "stderr",
     "output_type": "stream",
     "text": [
      "\r",
      " 88%|████████▊ | 877/1000 [01:49<00:13,  9.08it/s]"
     ]
    },
    {
     "name": "stdout",
     "output_type": "stream",
     "text": [
      "              precision    recall  f1-score   support\n",
      "\n",
      "         0.0       0.78      1.00      0.87     15543\n",
      "         1.0       0.00      0.00      0.00      4457\n",
      "\n",
      "    accuracy                           0.78     20000\n",
      "   macro avg       0.39      0.50      0.44     20000\n",
      "weighted avg       0.60      0.78      0.68     20000\n",
      "\n",
      "tensor([nan, nan, nan,  ..., nan, nan, nan], device='cuda:0')\n",
      "              precision    recall  f1-score   support\n",
      "\n",
      "         0.0       0.78      1.00      0.87     15543\n",
      "         1.0       0.00      0.00      0.00      4457\n",
      "\n",
      "    accuracy                           0.78     20000\n",
      "   macro avg       0.39      0.50      0.44     20000\n",
      "weighted avg       0.60      0.78      0.68     20000\n",
      "\n",
      "tensor([nan, nan, nan,  ..., nan, nan, nan], device='cuda:0')\n",
      "              precision    recall  f1-score   support\n",
      "\n",
      "         0.0       0.78      1.00      0.87     15543\n",
      "         1.0       0.00      0.00      0.00      4457\n",
      "\n",
      "    accuracy                           0.78     20000\n",
      "   macro avg       0.39      0.50      0.44     20000\n",
      "weighted avg       0.60      0.78      0.68     20000\n",
      "\n"
     ]
    },
    {
     "name": "stderr",
     "output_type": "stream",
     "text": [
      " 88%|████████▊ | 880/1000 [01:50<00:13,  9.12it/s]"
     ]
    },
    {
     "name": "stdout",
     "output_type": "stream",
     "text": [
      "tensor([nan, nan, nan,  ..., nan, nan, nan], device='cuda:0')\n",
      "              precision    recall  f1-score   support\n",
      "\n",
      "         0.0       0.78      1.00      0.87     15543\n",
      "         1.0       0.00      0.00      0.00      4457\n",
      "\n",
      "    accuracy                           0.78     20000\n",
      "   macro avg       0.39      0.50      0.44     20000\n",
      "weighted avg       0.60      0.78      0.68     20000\n",
      "\n",
      "tensor([nan, nan, nan,  ..., nan, nan, nan], device='cuda:0')\n",
      "              precision    recall  f1-score   support\n",
      "\n",
      "         0.0       0.78      1.00      0.87     15543\n",
      "         1.0       0.00      0.00      0.00      4457\n",
      "\n",
      "    accuracy                           0.78     20000\n",
      "   macro avg       0.39      0.50      0.44     20000\n",
      "weighted avg       0.60      0.78      0.68     20000\n",
      "\n"
     ]
    },
    {
     "name": "stderr",
     "output_type": "stream",
     "text": [
      "\r",
      " 88%|████████▊ | 881/1000 [01:50<00:13,  9.06it/s]"
     ]
    },
    {
     "name": "stdout",
     "output_type": "stream",
     "text": [
      "tensor([nan, nan, nan,  ..., nan, nan, nan], device='cuda:0')\n",
      "              precision    recall  f1-score   support\n",
      "\n",
      "         0.0       0.78      1.00      0.87     15543\n",
      "         1.0       0.00      0.00      0.00      4457\n",
      "\n",
      "    accuracy                           0.78     20000\n",
      "   macro avg       0.39      0.50      0.44     20000\n",
      "weighted avg       0.60      0.78      0.68     20000\n",
      "\n",
      "tensor([nan, nan, nan,  ..., nan, nan, nan], device='cuda:0')\n",
      "              precision    recall  f1-score   support\n",
      "\n",
      "         0.0       0.78      1.00      0.87     15543\n",
      "         1.0       0.00      0.00      0.00      4457\n",
      "\n",
      "    accuracy                           0.78     20000\n",
      "   macro avg       0.39      0.50      0.44     20000\n",
      "weighted avg       0.60      0.78      0.68     20000\n",
      "\n"
     ]
    },
    {
     "name": "stderr",
     "output_type": "stream",
     "text": [
      "\r",
      " 88%|████████▊ | 883/1000 [01:50<00:12,  9.48it/s]"
     ]
    },
    {
     "name": "stdout",
     "output_type": "stream",
     "text": [
      "tensor([nan, nan, nan,  ..., nan, nan, nan], device='cuda:0')\n",
      "              precision    recall  f1-score   support\n",
      "\n",
      "         0.0       0.78      1.00      0.87     15543\n",
      "         1.0       0.00      0.00      0.00      4457\n",
      "\n",
      "    accuracy                           0.78     20000\n",
      "   macro avg       0.39      0.50      0.44     20000\n",
      "weighted avg       0.60      0.78      0.68     20000\n",
      "\n",
      "tensor([nan, nan, nan,  ..., nan, nan, nan], device='cuda:0')\n",
      "              precision    recall  f1-score   support\n",
      "\n",
      "         0.0       0.78      1.00      0.87     15543\n",
      "         1.0       0.00      0.00      0.00      4457\n",
      "\n",
      "    accuracy                           0.78     20000\n",
      "   macro avg       0.39      0.50      0.44     20000\n",
      "weighted avg       0.60      0.78      0.68     20000\n",
      "\n",
      "tensor([nan, nan, nan,  ..., nan, nan, nan], device='cuda:0')\n"
     ]
    },
    {
     "name": "stderr",
     "output_type": "stream",
     "text": [
      " 89%|████████▊ | 887/1000 [01:50<00:10, 10.42it/s]"
     ]
    },
    {
     "name": "stdout",
     "output_type": "stream",
     "text": [
      "              precision    recall  f1-score   support\n",
      "\n",
      "         0.0       0.78      1.00      0.87     15543\n",
      "         1.0       0.00      0.00      0.00      4457\n",
      "\n",
      "    accuracy                           0.78     20000\n",
      "   macro avg       0.39      0.50      0.44     20000\n",
      "weighted avg       0.60      0.78      0.68     20000\n",
      "\n",
      "tensor([nan, nan, nan,  ..., nan, nan, nan], device='cuda:0')\n",
      "              precision    recall  f1-score   support\n",
      "\n",
      "         0.0       0.78      1.00      0.87     15543\n",
      "         1.0       0.00      0.00      0.00      4457\n",
      "\n",
      "    accuracy                           0.78     20000\n",
      "   macro avg       0.39      0.50      0.44     20000\n",
      "weighted avg       0.60      0.78      0.68     20000\n",
      "\n",
      "tensor([nan, nan, nan,  ..., nan, nan, nan], device='cuda:0')\n",
      "              precision    recall  f1-score   support\n",
      "\n",
      "         0.0       0.78      1.00      0.87     15543\n",
      "         1.0       0.00      0.00      0.00      4457\n",
      "\n",
      "    accuracy                           0.78     20000\n",
      "   macro avg       0.39      0.50      0.44     20000\n",
      "weighted avg       0.60      0.78      0.68     20000\n",
      "\n"
     ]
    },
    {
     "name": "stderr",
     "output_type": "stream",
     "text": [
      "\r",
      " 89%|████████▉ | 889/1000 [01:51<00:10, 10.41it/s]"
     ]
    },
    {
     "name": "stdout",
     "output_type": "stream",
     "text": [
      "tensor([nan, nan, nan,  ..., nan, nan, nan], device='cuda:0')\n",
      "              precision    recall  f1-score   support\n",
      "\n",
      "         0.0       0.78      1.00      0.87     15543\n",
      "         1.0       0.00      0.00      0.00      4457\n",
      "\n",
      "    accuracy                           0.78     20000\n",
      "   macro avg       0.39      0.50      0.44     20000\n",
      "weighted avg       0.60      0.78      0.68     20000\n",
      "\n",
      "tensor([nan, nan, nan,  ..., nan, nan, nan], device='cuda:0')\n",
      "              precision    recall  f1-score   support\n",
      "\n",
      "         0.0       0.78      1.00      0.87     15543\n",
      "         1.0       0.00      0.00      0.00      4457\n",
      "\n",
      "    accuracy                           0.78     20000\n",
      "   macro avg       0.39      0.50      0.44     20000\n",
      "weighted avg       0.60      0.78      0.68     20000\n",
      "\n",
      "tensor([nan, nan, nan,  ..., nan, nan, nan], device='cuda:0')\n"
     ]
    },
    {
     "name": "stderr",
     "output_type": "stream",
     "text": [
      "\r",
      " 89%|████████▉ | 891/1000 [01:51<00:10, 10.17it/s]"
     ]
    },
    {
     "name": "stdout",
     "output_type": "stream",
     "text": [
      "              precision    recall  f1-score   support\n",
      "\n",
      "         0.0       0.78      1.00      0.87     15543\n",
      "         1.0       0.00      0.00      0.00      4457\n",
      "\n",
      "    accuracy                           0.78     20000\n",
      "   macro avg       0.39      0.50      0.44     20000\n",
      "weighted avg       0.60      0.78      0.68     20000\n",
      "\n",
      "tensor([nan, nan, nan,  ..., nan, nan, nan], device='cuda:0')\n",
      "              precision    recall  f1-score   support\n",
      "\n",
      "         0.0       0.78      1.00      0.87     15543\n",
      "         1.0       0.00      0.00      0.00      4457\n",
      "\n",
      "    accuracy                           0.78     20000\n",
      "   macro avg       0.39      0.50      0.44     20000\n",
      "weighted avg       0.60      0.78      0.68     20000\n",
      "\n",
      "tensor([nan, nan, nan,  ..., nan, nan, nan], device='cuda:0')\n",
      "              precision    recall  f1-score   support\n",
      "\n",
      "         0.0       0.78      1.00      0.87     15543\n",
      "         1.0       0.00      0.00      0.00      4457\n",
      "\n",
      "    accuracy                           0.78     20000\n",
      "   macro avg       0.39      0.50      0.44     20000\n",
      "weighted avg       0.60      0.78      0.68     20000\n"
     ]
    },
    {
     "name": "stderr",
     "output_type": "stream",
     "text": [
      "\r",
      " 89%|████████▉ | 893/1000 [01:51<00:10, 10.32it/s]"
     ]
    },
    {
     "name": "stdout",
     "output_type": "stream",
     "text": [
      "\n",
      "tensor([nan, nan, nan,  ..., nan, nan, nan], device='cuda:0')\n",
      "              precision    recall  f1-score   support\n",
      "\n",
      "         0.0       0.78      1.00      0.87     15543\n",
      "         1.0       0.00      0.00      0.00      4457\n",
      "\n",
      "    accuracy                           0.78     20000\n",
      "   macro avg       0.39      0.50      0.44     20000\n",
      "weighted avg       0.60      0.78      0.68     20000\n",
      "\n",
      "tensor([nan, nan, nan,  ..., nan, nan, nan], device='cuda:0')\n",
      "              precision    recall  f1-score   support\n",
      "\n",
      "         0.0       0.78      1.00      0.87     15543\n",
      "         1.0       0.00      0.00      0.00      4457\n",
      "\n",
      "    accuracy                           0.78     20000\n",
      "   macro avg       0.39      0.50      0.44     20000\n",
      "weighted avg       0.60      0.78      0.68     20000\n",
      "\n"
     ]
    },
    {
     "name": "stderr",
     "output_type": "stream",
     "text": [
      "\r",
      " 90%|████████▉ | 895/1000 [01:51<00:10, 10.35it/s]"
     ]
    },
    {
     "name": "stdout",
     "output_type": "stream",
     "text": [
      "tensor([nan, nan, nan,  ..., nan, nan, nan], device='cuda:0')\n",
      "              precision    recall  f1-score   support\n",
      "\n",
      "         0.0       0.78      1.00      0.87     15543\n",
      "         1.0       0.00      0.00      0.00      4457\n",
      "\n",
      "    accuracy                           0.78     20000\n",
      "   macro avg       0.39      0.50      0.44     20000\n",
      "weighted avg       0.60      0.78      0.68     20000\n",
      "\n",
      "tensor([nan, nan, nan,  ..., nan, nan, nan], device='cuda:0')\n",
      "              precision    recall  f1-score   support\n",
      "\n",
      "         0.0       0.78      1.00      0.87     15543\n",
      "         1.0       0.00      0.00      0.00      4457\n",
      "\n",
      "    accuracy                           0.78     20000\n",
      "   macro avg       0.39      0.50      0.44     20000\n",
      "weighted avg       0.60      0.78      0.68     20000\n",
      "\n",
      "tensor([nan, nan, nan,  ..., nan, nan, nan], device='cuda:0')\n"
     ]
    },
    {
     "name": "stderr",
     "output_type": "stream",
     "text": [
      "\r",
      " 90%|████████▉ | 897/1000 [01:51<00:10, 10.02it/s]"
     ]
    },
    {
     "name": "stdout",
     "output_type": "stream",
     "text": [
      "              precision    recall  f1-score   support\n",
      "\n",
      "         0.0       0.78      1.00      0.87     15543\n",
      "         1.0       0.00      0.00      0.00      4457\n",
      "\n",
      "    accuracy                           0.78     20000\n",
      "   macro avg       0.39      0.50      0.44     20000\n",
      "weighted avg       0.60      0.78      0.68     20000\n",
      "\n",
      "tensor([nan, nan, nan,  ..., nan, nan, nan], device='cuda:0')\n",
      "              precision    recall  f1-score   support\n",
      "\n",
      "         0.0       0.78      1.00      0.87     15543\n",
      "         1.0       0.00      0.00      0.00      4457\n",
      "\n",
      "    accuracy                           0.78     20000\n",
      "   macro avg       0.39      0.50      0.44     20000\n",
      "weighted avg       0.60      0.78      0.68     20000\n",
      "\n",
      "tensor([nan, nan, nan,  ..., nan, nan, nan], device='cuda:0')\n"
     ]
    },
    {
     "name": "stderr",
     "output_type": "stream",
     "text": [
      " 90%|█████████ | 900/1000 [01:52<00:10,  9.94it/s]"
     ]
    },
    {
     "name": "stdout",
     "output_type": "stream",
     "text": [
      "              precision    recall  f1-score   support\n",
      "\n",
      "         0.0       0.78      1.00      0.87     15543\n",
      "         1.0       0.00      0.00      0.00      4457\n",
      "\n",
      "    accuracy                           0.78     20000\n",
      "   macro avg       0.39      0.50      0.44     20000\n",
      "weighted avg       0.60      0.78      0.68     20000\n",
      "\n",
      "tensor([nan, nan, nan,  ..., nan, nan, nan], device='cuda:0')\n",
      "              precision    recall  f1-score   support\n",
      "\n",
      "         0.0       0.78      1.00      0.87     15543\n",
      "         1.0       0.00      0.00      0.00      4457\n",
      "\n",
      "    accuracy                           0.78     20000\n",
      "   macro avg       0.39      0.50      0.44     20000\n",
      "weighted avg       0.60      0.78      0.68     20000\n",
      "\n",
      "tensor([nan, nan, nan,  ..., nan, nan, nan], device='cuda:0')\n"
     ]
    },
    {
     "name": "stderr",
     "output_type": "stream",
     "text": [
      "\r",
      " 90%|█████████ | 901/1000 [01:52<00:10,  9.05it/s]"
     ]
    },
    {
     "name": "stdout",
     "output_type": "stream",
     "text": [
      "              precision    recall  f1-score   support\n",
      "\n",
      "         0.0       0.78      1.00      0.87     15543\n",
      "         1.0       0.00      0.00      0.00      4457\n",
      "\n",
      "    accuracy                           0.78     20000\n",
      "   macro avg       0.39      0.50      0.44     20000\n",
      "weighted avg       0.60      0.78      0.68     20000\n",
      "\n",
      "tensor([nan, nan, nan,  ..., nan, nan, nan], device='cuda:0')\n",
      "              precision    recall  f1-score   support\n",
      "\n",
      "         0.0       0.78      1.00      0.87     15543\n",
      "         1.0       0.00      0.00      0.00      4457\n",
      "\n",
      "    accuracy                           0.78     20000\n",
      "   macro avg       0.39      0.50      0.44     20000\n",
      "weighted avg       0.60      0.78      0.68     20000\n",
      "\n"
     ]
    },
    {
     "name": "stderr",
     "output_type": "stream",
     "text": [
      " 90%|█████████ | 903/1000 [01:52<00:12,  7.90it/s]"
     ]
    },
    {
     "name": "stdout",
     "output_type": "stream",
     "text": [
      "tensor([nan, nan, nan,  ..., nan, nan, nan], device='cuda:0')\n",
      "              precision    recall  f1-score   support\n",
      "\n",
      "         0.0       0.78      1.00      0.87     15543\n",
      "         1.0       0.00      0.00      0.00      4457\n",
      "\n",
      "    accuracy                           0.78     20000\n",
      "   macro avg       0.39      0.50      0.44     20000\n",
      "weighted avg       0.60      0.78      0.68     20000\n",
      "\n",
      "tensor([nan, nan, nan,  ..., nan, nan, nan], device='cuda:0')\n",
      "              precision    recall  f1-score   support\n",
      "\n",
      "         0.0       0.78      1.00      0.87     15543\n",
      "         1.0       0.00      0.00      0.00      4457\n",
      "\n",
      "    accuracy                           0.78     20000\n",
      "   macro avg       0.39      0.50      0.44     20000\n",
      "weighted avg       0.60      0.78      0.68     20000\n",
      "\n"
     ]
    },
    {
     "name": "stderr",
     "output_type": "stream",
     "text": [
      " 90%|█████████ | 905/1000 [01:52<00:13,  7.09it/s]"
     ]
    },
    {
     "name": "stdout",
     "output_type": "stream",
     "text": [
      "tensor([nan, nan, nan,  ..., nan, nan, nan], device='cuda:0')\n",
      "              precision    recall  f1-score   support\n",
      "\n",
      "         0.0       0.78      1.00      0.87     15543\n",
      "         1.0       0.00      0.00      0.00      4457\n",
      "\n",
      "    accuracy                           0.78     20000\n",
      "   macro avg       0.39      0.50      0.44     20000\n",
      "weighted avg       0.60      0.78      0.68     20000\n",
      "\n",
      "tensor([nan, nan, nan,  ..., nan, nan, nan], device='cuda:0')\n",
      "              precision    recall  f1-score   support\n",
      "\n",
      "         0.0       0.78      1.00      0.87     15543\n",
      "         1.0       0.00      0.00      0.00      4457\n",
      "\n",
      "    accuracy                           0.78     20000\n",
      "   macro avg       0.39      0.50      0.44     20000\n",
      "weighted avg       0.60      0.78      0.68     20000\n",
      "\n"
     ]
    },
    {
     "name": "stderr",
     "output_type": "stream",
     "text": [
      " 91%|█████████ | 908/1000 [01:53<00:11,  7.86it/s]"
     ]
    },
    {
     "name": "stdout",
     "output_type": "stream",
     "text": [
      "tensor([nan, nan, nan,  ..., nan, nan, nan], device='cuda:0')\n",
      "              precision    recall  f1-score   support\n",
      "\n",
      "         0.0       0.78      1.00      0.87     15543\n",
      "         1.0       0.00      0.00      0.00      4457\n",
      "\n",
      "    accuracy                           0.78     20000\n",
      "   macro avg       0.39      0.50      0.44     20000\n",
      "weighted avg       0.60      0.78      0.68     20000\n",
      "\n",
      "tensor([nan, nan, nan,  ..., nan, nan, nan], device='cuda:0')\n",
      "              precision    recall  f1-score   support\n",
      "\n",
      "         0.0       0.78      1.00      0.87     15543\n",
      "         1.0       0.00      0.00      0.00      4457\n",
      "\n",
      "    accuracy                           0.78     20000\n",
      "   macro avg       0.39      0.50      0.44     20000\n",
      "weighted avg       0.60      0.78      0.68     20000\n",
      "\n"
     ]
    },
    {
     "name": "stderr",
     "output_type": "stream",
     "text": [
      "\r",
      " 91%|█████████ | 909/1000 [01:53<00:12,  7.04it/s]"
     ]
    },
    {
     "name": "stdout",
     "output_type": "stream",
     "text": [
      "tensor([nan, nan, nan,  ..., nan, nan, nan], device='cuda:0')\n",
      "              precision    recall  f1-score   support\n",
      "\n",
      "         0.0       0.78      1.00      0.87     15543\n",
      "         1.0       0.00      0.00      0.00      4457\n",
      "\n",
      "    accuracy                           0.78     20000\n",
      "   macro avg       0.39      0.50      0.44     20000\n",
      "weighted avg       0.60      0.78      0.68     20000\n",
      "\n",
      "tensor([nan, nan, nan,  ..., nan, nan, nan], device='cuda:0')\n"
     ]
    },
    {
     "name": "stderr",
     "output_type": "stream",
     "text": [
      " 91%|█████████ | 911/1000 [01:53<00:13,  6.69it/s]"
     ]
    },
    {
     "name": "stdout",
     "output_type": "stream",
     "text": [
      "              precision    recall  f1-score   support\n",
      "\n",
      "         0.0       0.78      1.00      0.87     15543\n",
      "         1.0       0.00      0.00      0.00      4457\n",
      "\n",
      "    accuracy                           0.78     20000\n",
      "   macro avg       0.39      0.50      0.44     20000\n",
      "weighted avg       0.60      0.78      0.68     20000\n",
      "\n",
      "tensor([nan, nan, nan,  ..., nan, nan, nan], device='cuda:0')\n",
      "              precision    recall  f1-score   support\n",
      "\n",
      "         0.0       0.78      1.00      0.87     15543\n",
      "         1.0       0.00      0.00      0.00      4457\n",
      "\n",
      "    accuracy                           0.78     20000\n",
      "   macro avg       0.39      0.50      0.44     20000\n",
      "weighted avg       0.60      0.78      0.68     20000\n",
      "\n",
      "tensor([nan, nan, nan,  ..., nan, nan, nan], device='cuda:0')\n"
     ]
    },
    {
     "name": "stderr",
     "output_type": "stream",
     "text": [
      " 91%|█████████▏| 913/1000 [01:54<00:13,  6.66it/s]"
     ]
    },
    {
     "name": "stdout",
     "output_type": "stream",
     "text": [
      "              precision    recall  f1-score   support\n",
      "\n",
      "         0.0       0.78      1.00      0.87     15543\n",
      "         1.0       0.00      0.00      0.00      4457\n",
      "\n",
      "    accuracy                           0.78     20000\n",
      "   macro avg       0.39      0.50      0.44     20000\n",
      "weighted avg       0.60      0.78      0.68     20000\n",
      "\n",
      "tensor([nan, nan, nan,  ..., nan, nan, nan], device='cuda:0')\n",
      "              precision    recall  f1-score   support\n",
      "\n",
      "         0.0       0.78      1.00      0.87     15543\n",
      "         1.0       0.00      0.00      0.00      4457\n",
      "\n",
      "    accuracy                           0.78     20000\n",
      "   macro avg       0.39      0.50      0.44     20000\n",
      "weighted avg       0.60      0.78      0.68     20000\n",
      "\n"
     ]
    },
    {
     "name": "stderr",
     "output_type": "stream",
     "text": [
      " 92%|█████████▏| 915/1000 [01:54<00:12,  7.07it/s]"
     ]
    },
    {
     "name": "stdout",
     "output_type": "stream",
     "text": [
      "tensor([nan, nan, nan,  ..., nan, nan, nan], device='cuda:0')\n",
      "              precision    recall  f1-score   support\n",
      "\n",
      "         0.0       0.78      1.00      0.87     15543\n",
      "         1.0       0.00      0.00      0.00      4457\n",
      "\n",
      "    accuracy                           0.78     20000\n",
      "   macro avg       0.39      0.50      0.44     20000\n",
      "weighted avg       0.60      0.78      0.68     20000\n",
      "\n",
      "tensor([nan, nan, nan,  ..., nan, nan, nan], device='cuda:0')\n",
      "              precision    recall  f1-score   support\n",
      "\n",
      "         0.0       0.78      1.00      0.87     15543\n",
      "         1.0       0.00      0.00      0.00      4457\n",
      "\n",
      "    accuracy                           0.78     20000\n",
      "   macro avg       0.39      0.50      0.44     20000\n",
      "weighted avg       0.60      0.78      0.68     20000\n",
      "\n"
     ]
    },
    {
     "name": "stderr",
     "output_type": "stream",
     "text": [
      "\r",
      " 92%|█████████▏| 917/1000 [01:54<00:10,  8.28it/s]"
     ]
    },
    {
     "name": "stdout",
     "output_type": "stream",
     "text": [
      "tensor([nan, nan, nan,  ..., nan, nan, nan], device='cuda:0')\n",
      "              precision    recall  f1-score   support\n",
      "\n",
      "         0.0       0.78      1.00      0.87     15543\n",
      "         1.0       0.00      0.00      0.00      4457\n",
      "\n",
      "    accuracy                           0.78     20000\n",
      "   macro avg       0.39      0.50      0.44     20000\n",
      "weighted avg       0.60      0.78      0.68     20000\n",
      "\n",
      "tensor([nan, nan, nan,  ..., nan, nan, nan], device='cuda:0')\n",
      "              precision    recall  f1-score   support\n",
      "\n",
      "         0.0       0.78      1.00      0.87     15543\n",
      "         1.0       0.00      0.00      0.00      4457\n",
      "\n",
      "    accuracy                           0.78     20000\n",
      "   macro avg       0.39      0.50      0.44     20000\n",
      "weighted avg       0.60      0.78      0.68     20000\n",
      "\n",
      "tensor([nan, nan, nan,  ..., nan, nan, nan], device='cuda:0')\n"
     ]
    },
    {
     "name": "stderr",
     "output_type": "stream",
     "text": [
      "\r",
      " 92%|█████████▏| 919/1000 [01:54<00:08,  9.13it/s]"
     ]
    },
    {
     "name": "stdout",
     "output_type": "stream",
     "text": [
      "              precision    recall  f1-score   support\n",
      "\n",
      "         0.0       0.78      1.00      0.87     15543\n",
      "         1.0       0.00      0.00      0.00      4457\n",
      "\n",
      "    accuracy                           0.78     20000\n",
      "   macro avg       0.39      0.50      0.44     20000\n",
      "weighted avg       0.60      0.78      0.68     20000\n",
      "\n",
      "tensor([nan, nan, nan,  ..., nan, nan, nan], device='cuda:0')\n",
      "              precision    recall  f1-score   support\n",
      "\n",
      "         0.0       0.78      1.00      0.87     15543\n",
      "         1.0       0.00      0.00      0.00      4457\n",
      "\n",
      "    accuracy                           0.78     20000\n",
      "   macro avg       0.39      0.50      0.44     20000\n",
      "weighted avg       0.60      0.78      0.68     20000\n",
      "\n",
      "tensor([nan, nan, nan,  ..., nan, nan, nan], device='cuda:0')\n"
     ]
    },
    {
     "name": "stderr",
     "output_type": "stream",
     "text": [
      "\r",
      " 92%|█████████▏| 920/1000 [01:54<00:09,  8.38it/s]"
     ]
    },
    {
     "name": "stdout",
     "output_type": "stream",
     "text": [
      "              precision    recall  f1-score   support\n",
      "\n",
      "         0.0       0.78      1.00      0.87     15543\n",
      "         1.0       0.00      0.00      0.00      4457\n",
      "\n",
      "    accuracy                           0.78     20000\n",
      "   macro avg       0.39      0.50      0.44     20000\n",
      "weighted avg       0.60      0.78      0.68     20000\n",
      "\n",
      "tensor([nan, nan, nan,  ..., nan, nan, nan], device='cuda:0')\n",
      "              precision    recall  f1-score   support\n",
      "\n",
      "         0.0       0.78      1.00      0.87     15543\n",
      "         1.0       0.00      0.00      0.00      4457\n",
      "\n",
      "    accuracy                           0.78     20000\n",
      "   macro avg       0.39      0.50      0.44     20000\n",
      "weighted avg       0.60      0.78      0.68     20000\n",
      "\n",
      "tensor([nan, nan, nan,  ..., nan, nan, nan], device='cuda:0')\n"
     ]
    },
    {
     "name": "stderr",
     "output_type": "stream",
     "text": [
      "\r",
      " 92%|█████████▏| 922/1000 [01:55<00:08,  8.92it/s]"
     ]
    },
    {
     "name": "stdout",
     "output_type": "stream",
     "text": [
      "              precision    recall  f1-score   support\n",
      "\n",
      "         0.0       0.78      1.00      0.87     15543\n",
      "         1.0       0.00      0.00      0.00      4457\n",
      "\n",
      "    accuracy                           0.78     20000\n",
      "   macro avg       0.39      0.50      0.44     20000\n",
      "weighted avg       0.60      0.78      0.68     20000\n",
      "\n",
      "tensor([nan, nan, nan,  ..., nan, nan, nan], device='cuda:0')\n",
      "              precision    recall  f1-score   support\n",
      "\n",
      "         0.0       0.78      1.00      0.87     15543\n",
      "         1.0       0.00      0.00      0.00      4457\n",
      "\n",
      "    accuracy                           0.78     20000\n",
      "   macro avg       0.39      0.50      0.44     20000\n",
      "weighted avg       0.60      0.78      0.68     20000\n",
      "\n",
      "tensor([nan, nan, nan,  ..., nan, nan, nan], device='cuda:0')\n"
     ]
    },
    {
     "name": "stderr",
     "output_type": "stream",
     "text": [
      " 92%|█████████▎| 925/1000 [01:55<00:08,  8.85it/s]"
     ]
    },
    {
     "name": "stdout",
     "output_type": "stream",
     "text": [
      "              precision    recall  f1-score   support\n",
      "\n",
      "         0.0       0.78      1.00      0.87     15543\n",
      "         1.0       0.00      0.00      0.00      4457\n",
      "\n",
      "    accuracy                           0.78     20000\n",
      "   macro avg       0.39      0.50      0.44     20000\n",
      "weighted avg       0.60      0.78      0.68     20000\n",
      "\n",
      "tensor([nan, nan, nan,  ..., nan, nan, nan], device='cuda:0')\n",
      "              precision    recall  f1-score   support\n",
      "\n",
      "         0.0       0.78      1.00      0.87     15543\n",
      "         1.0       0.00      0.00      0.00      4457\n",
      "\n",
      "    accuracy                           0.78     20000\n",
      "   macro avg       0.39      0.50      0.44     20000\n",
      "weighted avg       0.60      0.78      0.68     20000\n",
      "\n",
      "tensor([nan, nan, nan,  ..., nan, nan, nan], device='cuda:0')\n"
     ]
    },
    {
     "name": "stderr",
     "output_type": "stream",
     "text": [
      "\r",
      " 93%|█████████▎| 927/1000 [01:55<00:07,  9.31it/s]"
     ]
    },
    {
     "name": "stdout",
     "output_type": "stream",
     "text": [
      "              precision    recall  f1-score   support\n",
      "\n",
      "         0.0       0.78      1.00      0.87     15543\n",
      "         1.0       0.00      0.00      0.00      4457\n",
      "\n",
      "    accuracy                           0.78     20000\n",
      "   macro avg       0.39      0.50      0.44     20000\n",
      "weighted avg       0.60      0.78      0.68     20000\n",
      "\n",
      "tensor([nan, nan, nan,  ..., nan, nan, nan], device='cuda:0')\n",
      "              precision    recall  f1-score   support\n",
      "\n",
      "         0.0       0.78      1.00      0.87     15543\n",
      "         1.0       0.00      0.00      0.00      4457\n",
      "\n",
      "    accuracy                           0.78     20000\n",
      "   macro avg       0.39      0.50      0.44     20000\n",
      "weighted avg       0.60      0.78      0.68     20000\n",
      "\n",
      "tensor([nan, nan, nan,  ..., nan, nan, nan], device='cuda:0')\n",
      "              precision    recall  f1-score   support\n",
      "\n",
      "         0.0       0.78      1.00      0.87     15543\n",
      "         1.0       0.00      0.00      0.00      4457\n",
      "\n",
      "    accuracy                           0.78     20000\n",
      "   macro avg       0.39      0.50      0.44     20000\n",
      "weighted avg       0.60      0.78      0.68     20000\n"
     ]
    },
    {
     "name": "stderr",
     "output_type": "stream",
     "text": [
      " 93%|█████████▎| 929/1000 [01:55<00:08,  8.55it/s]"
     ]
    },
    {
     "name": "stdout",
     "output_type": "stream",
     "text": [
      "\n",
      "tensor([nan, nan, nan,  ..., nan, nan, nan], device='cuda:0')\n",
      "              precision    recall  f1-score   support\n",
      "\n",
      "         0.0       0.78      1.00      0.87     15543\n",
      "         1.0       0.00      0.00      0.00      4457\n",
      "\n",
      "    accuracy                           0.78     20000\n",
      "   macro avg       0.39      0.50      0.44     20000\n",
      "weighted avg       0.60      0.78      0.68     20000\n",
      "\n",
      "tensor([nan, nan, nan,  ..., nan, nan, nan], device='cuda:0')\n",
      "              precision    recall  f1-score   support\n",
      "\n",
      "         0.0       0.78      1.00      0.87     15543\n",
      "         1.0       0.00      0.00      0.00      4457\n",
      "\n",
      "    accuracy                           0.78     20000\n",
      "   macro avg       0.39      0.50      0.44     20000\n",
      "weighted avg       0.60      0.78      0.68     20000\n",
      "\n",
      "tensor([nan, nan, nan,  ..., nan, nan, nan], device='cuda:0')\n",
      "              precision    recall  f1-score   support\n",
      "\n",
      "         0.0       0.78      1.00      0.87     15543\n",
      "         1.0       0.00      0.00      0.00      4457\n",
      "\n",
      "    accuracy                           0.78     20000\n",
      "   macro avg       0.39      0.50      0.44     20000\n",
      "weighted avg       0.60      0.78      0.68     20000\n",
      "\n"
     ]
    },
    {
     "name": "stderr",
     "output_type": "stream",
     "text": [
      " 93%|█████████▎| 932/1000 [01:56<00:09,  7.29it/s]"
     ]
    },
    {
     "name": "stdout",
     "output_type": "stream",
     "text": [
      "tensor([nan, nan, nan,  ..., nan, nan, nan], device='cuda:0')\n",
      "              precision    recall  f1-score   support\n",
      "\n",
      "         0.0       0.78      1.00      0.87     15543\n",
      "         1.0       0.00      0.00      0.00      4457\n",
      "\n",
      "    accuracy                           0.78     20000\n",
      "   macro avg       0.39      0.50      0.44     20000\n",
      "weighted avg       0.60      0.78      0.68     20000\n",
      "\n",
      "tensor([nan, nan, nan,  ..., nan, nan, nan], device='cuda:0')\n"
     ]
    },
    {
     "name": "stderr",
     "output_type": "stream",
     "text": [
      " 93%|█████████▎| 934/1000 [01:56<00:09,  6.70it/s]"
     ]
    },
    {
     "name": "stdout",
     "output_type": "stream",
     "text": [
      "              precision    recall  f1-score   support\n",
      "\n",
      "         0.0       0.78      1.00      0.87     15543\n",
      "         1.0       0.00      0.00      0.00      4457\n",
      "\n",
      "    accuracy                           0.78     20000\n",
      "   macro avg       0.39      0.50      0.44     20000\n",
      "weighted avg       0.60      0.78      0.68     20000\n",
      "\n",
      "tensor([nan, nan, nan,  ..., nan, nan, nan], device='cuda:0')\n",
      "              precision    recall  f1-score   support\n",
      "\n",
      "         0.0       0.78      1.00      0.87     15543\n",
      "         1.0       0.00      0.00      0.00      4457\n",
      "\n",
      "    accuracy                           0.78     20000\n",
      "   macro avg       0.39      0.50      0.44     20000\n",
      "weighted avg       0.60      0.78      0.68     20000\n",
      "\n"
     ]
    },
    {
     "name": "stderr",
     "output_type": "stream",
     "text": [
      " 94%|█████████▎| 936/1000 [01:56<00:09,  7.08it/s]"
     ]
    },
    {
     "name": "stdout",
     "output_type": "stream",
     "text": [
      "tensor([nan, nan, nan,  ..., nan, nan, nan], device='cuda:0')\n",
      "              precision    recall  f1-score   support\n",
      "\n",
      "         0.0       0.78      1.00      0.87     15543\n",
      "         1.0       0.00      0.00      0.00      4457\n",
      "\n",
      "    accuracy                           0.78     20000\n",
      "   macro avg       0.39      0.50      0.44     20000\n",
      "weighted avg       0.60      0.78      0.68     20000\n",
      "\n",
      "tensor([nan, nan, nan,  ..., nan, nan, nan], device='cuda:0')\n",
      "              precision    recall  f1-score   support\n",
      "\n",
      "         0.0       0.78      1.00      0.87     15543\n",
      "         1.0       0.00      0.00      0.00      4457\n",
      "\n",
      "    accuracy                           0.78     20000\n",
      "   macro avg       0.39      0.50      0.44     20000\n",
      "weighted avg       0.60      0.78      0.68     20000\n",
      "\n"
     ]
    },
    {
     "name": "stderr",
     "output_type": "stream",
     "text": [
      "\r",
      " 94%|█████████▎| 937/1000 [01:57<00:09,  6.38it/s]"
     ]
    },
    {
     "name": "stdout",
     "output_type": "stream",
     "text": [
      "tensor([nan, nan, nan,  ..., nan, nan, nan], device='cuda:0')\n",
      "              precision    recall  f1-score   support\n",
      "\n",
      "         0.0       0.78      1.00      0.87     15543\n",
      "         1.0       0.00      0.00      0.00      4457\n",
      "\n",
      "    accuracy                           0.78     20000\n",
      "   macro avg       0.39      0.50      0.44     20000\n",
      "weighted avg       0.60      0.78      0.68     20000\n",
      "\n",
      "tensor([nan, nan, nan,  ..., nan, nan, nan], device='cuda:0')\n",
      "              precision    recall  f1-score   support\n",
      "\n",
      "         0.0       0.78      1.00      0.87     15543\n",
      "         1.0       0.00      0.00      0.00      4457\n",
      "\n",
      "    accuracy                           0.78     20000\n",
      "   macro avg       0.39      0.50      0.44     20000\n",
      "weighted avg       0.60      0.78      0.68     20000\n",
      "\n"
     ]
    },
    {
     "name": "stderr",
     "output_type": "stream",
     "text": [
      " 94%|█████████▍| 940/1000 [01:57<00:07,  7.70it/s]"
     ]
    },
    {
     "name": "stdout",
     "output_type": "stream",
     "text": [
      "tensor([nan, nan, nan,  ..., nan, nan, nan], device='cuda:0')\n",
      "              precision    recall  f1-score   support\n",
      "\n",
      "         0.0       0.78      1.00      0.87     15543\n",
      "         1.0       0.00      0.00      0.00      4457\n",
      "\n",
      "    accuracy                           0.78     20000\n",
      "   macro avg       0.39      0.50      0.44     20000\n",
      "weighted avg       0.60      0.78      0.68     20000\n",
      "\n",
      "tensor([nan, nan, nan,  ..., nan, nan, nan], device='cuda:0')\n",
      "              precision    recall  f1-score   support\n",
      "\n",
      "         0.0       0.78      1.00      0.87     15543\n",
      "         1.0       0.00      0.00      0.00      4457\n",
      "\n",
      "    accuracy                           0.78     20000\n",
      "   macro avg       0.39      0.50      0.44     20000\n",
      "weighted avg       0.60      0.78      0.68     20000\n",
      "\n"
     ]
    },
    {
     "name": "stderr",
     "output_type": "stream",
     "text": [
      " 94%|█████████▍| 942/1000 [01:57<00:07,  8.17it/s]"
     ]
    },
    {
     "name": "stdout",
     "output_type": "stream",
     "text": [
      "tensor([nan, nan, nan,  ..., nan, nan, nan], device='cuda:0')\n",
      "              precision    recall  f1-score   support\n",
      "\n",
      "         0.0       0.78      1.00      0.87     15543\n",
      "         1.0       0.00      0.00      0.00      4457\n",
      "\n",
      "    accuracy                           0.78     20000\n",
      "   macro avg       0.39      0.50      0.44     20000\n",
      "weighted avg       0.60      0.78      0.68     20000\n",
      "\n",
      "tensor([nan, nan, nan,  ..., nan, nan, nan], device='cuda:0')\n",
      "              precision    recall  f1-score   support\n",
      "\n",
      "         0.0       0.78      1.00      0.87     15543\n",
      "         1.0       0.00      0.00      0.00      4457\n",
      "\n",
      "    accuracy                           0.78     20000\n",
      "   macro avg       0.39      0.50      0.44     20000\n",
      "weighted avg       0.60      0.78      0.68     20000\n",
      "\n"
     ]
    },
    {
     "name": "stderr",
     "output_type": "stream",
     "text": [
      "\r",
      " 94%|█████████▍| 944/1000 [01:57<00:06,  9.08it/s]"
     ]
    },
    {
     "name": "stdout",
     "output_type": "stream",
     "text": [
      "tensor([nan, nan, nan,  ..., nan, nan, nan], device='cuda:0')\n",
      "              precision    recall  f1-score   support\n",
      "\n",
      "         0.0       0.78      1.00      0.87     15543\n",
      "         1.0       0.00      0.00      0.00      4457\n",
      "\n",
      "    accuracy                           0.78     20000\n",
      "   macro avg       0.39      0.50      0.44     20000\n",
      "weighted avg       0.60      0.78      0.68     20000\n",
      "\n",
      "tensor([nan, nan, nan,  ..., nan, nan, nan], device='cuda:0')\n",
      "              precision    recall  f1-score   support\n",
      "\n",
      "         0.0       0.78      1.00      0.87     15543\n",
      "         1.0       0.00      0.00      0.00      4457\n",
      "\n",
      "    accuracy                           0.78     20000\n",
      "   macro avg       0.39      0.50      0.44     20000\n",
      "weighted avg       0.60      0.78      0.68     20000\n",
      "\n",
      "tensor([nan, nan, nan,  ..., nan, nan, nan], device='cuda:0')\n"
     ]
    },
    {
     "name": "stderr",
     "output_type": "stream",
     "text": [
      " 95%|█████████▍| 946/1000 [01:58<00:06,  8.45it/s]"
     ]
    },
    {
     "name": "stdout",
     "output_type": "stream",
     "text": [
      "              precision    recall  f1-score   support\n",
      "\n",
      "         0.0       0.78      1.00      0.87     15543\n",
      "         1.0       0.00      0.00      0.00      4457\n",
      "\n",
      "    accuracy                           0.78     20000\n",
      "   macro avg       0.39      0.50      0.44     20000\n",
      "weighted avg       0.60      0.78      0.68     20000\n",
      "\n",
      "tensor([nan, nan, nan,  ..., nan, nan, nan], device='cuda:0')\n",
      "              precision    recall  f1-score   support\n",
      "\n",
      "         0.0       0.78      1.00      0.87     15543\n",
      "         1.0       0.00      0.00      0.00      4457\n",
      "\n",
      "    accuracy                           0.78     20000\n",
      "   macro avg       0.39      0.50      0.44     20000\n",
      "weighted avg       0.60      0.78      0.68     20000\n",
      "\n"
     ]
    },
    {
     "name": "stderr",
     "output_type": "stream",
     "text": [
      "\r",
      " 95%|█████████▍| 947/1000 [01:58<00:06,  8.00it/s]"
     ]
    },
    {
     "name": "stdout",
     "output_type": "stream",
     "text": [
      "tensor([nan, nan, nan,  ..., nan, nan, nan], device='cuda:0')\n",
      "              precision    recall  f1-score   support\n",
      "\n",
      "         0.0       0.78      1.00      0.87     15543\n",
      "         1.0       0.00      0.00      0.00      4457\n",
      "\n",
      "    accuracy                           0.78     20000\n",
      "   macro avg       0.39      0.50      0.44     20000\n",
      "weighted avg       0.60      0.78      0.68     20000\n",
      "\n",
      "tensor([nan, nan, nan,  ..., nan, nan, nan], device='cuda:0')\n",
      "              precision    recall  f1-score   support\n",
      "\n",
      "         0.0       0.78      1.00      0.87     15543\n",
      "         1.0       0.00      0.00      0.00      4457\n",
      "\n",
      "    accuracy                           0.78     20000\n",
      "   macro avg       0.39      0.50      0.44     20000\n",
      "weighted avg       0.60      0.78      0.68     20000\n",
      "\n"
     ]
    },
    {
     "name": "stderr",
     "output_type": "stream",
     "text": [
      " 95%|█████████▌| 950/1000 [01:58<00:05,  8.67it/s]"
     ]
    },
    {
     "name": "stdout",
     "output_type": "stream",
     "text": [
      "tensor([nan, nan, nan,  ..., nan, nan, nan], device='cuda:0')\n",
      "              precision    recall  f1-score   support\n",
      "\n",
      "         0.0       0.78      1.00      0.87     15543\n",
      "         1.0       0.00      0.00      0.00      4457\n",
      "\n",
      "    accuracy                           0.78     20000\n",
      "   macro avg       0.39      0.50      0.44     20000\n",
      "weighted avg       0.60      0.78      0.68     20000\n",
      "\n",
      "tensor([nan, nan, nan,  ..., nan, nan, nan], device='cuda:0')\n",
      "              precision    recall  f1-score   support\n",
      "\n",
      "         0.0       0.78      1.00      0.87     15543\n",
      "         1.0       0.00      0.00      0.00      4457\n",
      "\n",
      "    accuracy                           0.78     20000\n",
      "   macro avg       0.39      0.50      0.44     20000\n",
      "weighted avg       0.60      0.78      0.68     20000\n",
      "\n"
     ]
    },
    {
     "name": "stderr",
     "output_type": "stream",
     "text": [
      " 95%|█████████▌| 952/1000 [01:58<00:05,  8.84it/s]"
     ]
    },
    {
     "name": "stdout",
     "output_type": "stream",
     "text": [
      "tensor([nan, nan, nan,  ..., nan, nan, nan], device='cuda:0')\n",
      "              precision    recall  f1-score   support\n",
      "\n",
      "         0.0       0.78      1.00      0.87     15543\n",
      "         1.0       0.00      0.00      0.00      4457\n",
      "\n",
      "    accuracy                           0.78     20000\n",
      "   macro avg       0.39      0.50      0.44     20000\n",
      "weighted avg       0.60      0.78      0.68     20000\n",
      "\n",
      "tensor([nan, nan, nan,  ..., nan, nan, nan], device='cuda:0')\n",
      "              precision    recall  f1-score   support\n",
      "\n",
      "         0.0       0.78      1.00      0.87     15543\n",
      "         1.0       0.00      0.00      0.00      4457\n",
      "\n",
      "    accuracy                           0.78     20000\n",
      "   macro avg       0.39      0.50      0.44     20000\n",
      "weighted avg       0.60      0.78      0.68     20000\n",
      "\n"
     ]
    },
    {
     "name": "stderr",
     "output_type": "stream",
     "text": [
      " 95%|█████████▌| 954/1000 [01:58<00:05,  9.05it/s]"
     ]
    },
    {
     "name": "stdout",
     "output_type": "stream",
     "text": [
      "tensor([nan, nan, nan,  ..., nan, nan, nan], device='cuda:0')\n",
      "              precision    recall  f1-score   support\n",
      "\n",
      "         0.0       0.78      1.00      0.87     15543\n",
      "         1.0       0.00      0.00      0.00      4457\n",
      "\n",
      "    accuracy                           0.78     20000\n",
      "   macro avg       0.39      0.50      0.44     20000\n",
      "weighted avg       0.60      0.78      0.68     20000\n",
      "\n",
      "tensor([nan, nan, nan,  ..., nan, nan, nan], device='cuda:0')\n",
      "              precision    recall  f1-score   support\n",
      "\n",
      "         0.0       0.78      1.00      0.87     15543\n",
      "         1.0       0.00      0.00      0.00      4457\n",
      "\n",
      "    accuracy                           0.78     20000\n",
      "   macro avg       0.39      0.50      0.44     20000\n",
      "weighted avg       0.60      0.78      0.68     20000\n",
      "\n"
     ]
    },
    {
     "name": "stderr",
     "output_type": "stream",
     "text": [
      "\r",
      " 96%|█████████▌| 956/1000 [01:59<00:04,  9.72it/s]"
     ]
    },
    {
     "name": "stdout",
     "output_type": "stream",
     "text": [
      "tensor([nan, nan, nan,  ..., nan, nan, nan], device='cuda:0')\n",
      "              precision    recall  f1-score   support\n",
      "\n",
      "         0.0       0.78      1.00      0.87     15543\n",
      "         1.0       0.00      0.00      0.00      4457\n",
      "\n",
      "    accuracy                           0.78     20000\n",
      "   macro avg       0.39      0.50      0.44     20000\n",
      "weighted avg       0.60      0.78      0.68     20000\n",
      "\n",
      "tensor([nan, nan, nan,  ..., nan, nan, nan], device='cuda:0')\n",
      "              precision    recall  f1-score   support\n",
      "\n",
      "         0.0       0.78      1.00      0.87     15543\n",
      "         1.0       0.00      0.00      0.00      4457\n",
      "\n",
      "    accuracy                           0.78     20000\n",
      "   macro avg       0.39      0.50      0.44     20000\n",
      "weighted avg       0.60      0.78      0.68     20000\n",
      "\n",
      "tensor([nan, nan, nan,  ..., nan, nan, nan], device='cuda:0')\n"
     ]
    },
    {
     "name": "stderr",
     "output_type": "stream",
     "text": [
      " 96%|█████████▌| 959/1000 [01:59<00:04,  9.80it/s]"
     ]
    },
    {
     "name": "stdout",
     "output_type": "stream",
     "text": [
      "              precision    recall  f1-score   support\n",
      "\n",
      "         0.0       0.78      1.00      0.87     15543\n",
      "         1.0       0.00      0.00      0.00      4457\n",
      "\n",
      "    accuracy                           0.78     20000\n",
      "   macro avg       0.39      0.50      0.44     20000\n",
      "weighted avg       0.60      0.78      0.68     20000\n",
      "\n",
      "tensor([nan, nan, nan,  ..., nan, nan, nan], device='cuda:0')\n",
      "              precision    recall  f1-score   support\n",
      "\n",
      "         0.0       0.78      1.00      0.87     15543\n",
      "         1.0       0.00      0.00      0.00      4457\n",
      "\n",
      "    accuracy                           0.78     20000\n",
      "   macro avg       0.39      0.50      0.44     20000\n",
      "weighted avg       0.60      0.78      0.68     20000\n",
      "\n",
      "tensor([nan, nan, nan,  ..., nan, nan, nan], device='cuda:0')\n",
      "              precision    recall  f1-score   support\n",
      "\n",
      "         0.0       0.78      1.00      0.87     15543\n",
      "         1.0       0.00      0.00      0.00      4457\n",
      "\n",
      "    accuracy                           0.78     20000\n",
      "   macro avg       0.39      0.50      0.44     20000\n",
      "weighted avg       0.60      0.78      0.68     20000\n",
      "\n"
     ]
    },
    {
     "name": "stderr",
     "output_type": "stream",
     "text": [
      "\r",
      " 96%|█████████▌| 960/1000 [01:59<00:04,  8.64it/s]"
     ]
    },
    {
     "name": "stdout",
     "output_type": "stream",
     "text": [
      "tensor([nan, nan, nan,  ..., nan, nan, nan], device='cuda:0')\n",
      "              precision    recall  f1-score   support\n",
      "\n",
      "         0.0       0.78      1.00      0.87     15543\n",
      "         1.0       0.00      0.00      0.00      4457\n",
      "\n",
      "    accuracy                           0.78     20000\n",
      "   macro avg       0.39      0.50      0.44     20000\n",
      "weighted avg       0.60      0.78      0.68     20000\n",
      "\n",
      "tensor([nan, nan, nan,  ..., nan, nan, nan], device='cuda:0')\n"
     ]
    },
    {
     "name": "stderr",
     "output_type": "stream",
     "text": [
      " 96%|█████████▌| 962/1000 [01:59<00:04,  8.33it/s]"
     ]
    },
    {
     "name": "stdout",
     "output_type": "stream",
     "text": [
      "              precision    recall  f1-score   support\n",
      "\n",
      "         0.0       0.78      1.00      0.87     15543\n",
      "         1.0       0.00      0.00      0.00      4457\n",
      "\n",
      "    accuracy                           0.78     20000\n",
      "   macro avg       0.39      0.50      0.44     20000\n",
      "weighted avg       0.60      0.78      0.68     20000\n",
      "\n",
      "tensor([nan, nan, nan,  ..., nan, nan, nan], device='cuda:0')\n",
      "              precision    recall  f1-score   support\n",
      "\n",
      "         0.0       0.78      1.00      0.87     15543\n",
      "         1.0       0.00      0.00      0.00      4457\n",
      "\n",
      "    accuracy                           0.78     20000\n",
      "   macro avg       0.39      0.50      0.44     20000\n",
      "weighted avg       0.60      0.78      0.68     20000\n",
      "\n",
      "tensor([nan, nan, nan,  ..., nan, nan, nan], device='cuda:0')\n"
     ]
    },
    {
     "name": "stderr",
     "output_type": "stream",
     "text": [
      " 96%|█████████▋| 964/1000 [02:00<00:04,  7.43it/s]"
     ]
    },
    {
     "name": "stdout",
     "output_type": "stream",
     "text": [
      "              precision    recall  f1-score   support\n",
      "\n",
      "         0.0       0.78      1.00      0.87     15543\n",
      "         1.0       0.00      0.00      0.00      4457\n",
      "\n",
      "    accuracy                           0.78     20000\n",
      "   macro avg       0.39      0.50      0.44     20000\n",
      "weighted avg       0.60      0.78      0.68     20000\n",
      "\n",
      "tensor([nan, nan, nan,  ..., nan, nan, nan], device='cuda:0')\n",
      "              precision    recall  f1-score   support\n",
      "\n",
      "         0.0       0.78      1.00      0.87     15543\n",
      "         1.0       0.00      0.00      0.00      4457\n",
      "\n",
      "    accuracy                           0.78     20000\n",
      "   macro avg       0.39      0.50      0.44     20000\n",
      "weighted avg       0.60      0.78      0.68     20000\n",
      "\n"
     ]
    },
    {
     "name": "stderr",
     "output_type": "stream",
     "text": [
      "\r",
      " 96%|█████████▋| 965/1000 [02:00<00:04,  7.83it/s]"
     ]
    },
    {
     "name": "stdout",
     "output_type": "stream",
     "text": [
      "tensor([nan, nan, nan,  ..., nan, nan, nan], device='cuda:0')\n",
      "              precision    recall  f1-score   support\n",
      "\n",
      "         0.0       0.78      1.00      0.87     15543\n",
      "         1.0       0.00      0.00      0.00      4457\n",
      "\n",
      "    accuracy                           0.78     20000\n",
      "   macro avg       0.39      0.50      0.44     20000\n",
      "weighted avg       0.60      0.78      0.68     20000\n",
      "\n",
      "tensor([nan, nan, nan,  ..., nan, nan, nan], device='cuda:0')\n",
      "              precision    recall  f1-score   support\n",
      "\n",
      "         0.0       0.78      1.00      0.87     15543\n",
      "         1.0       0.00      0.00      0.00      4457\n",
      "\n",
      "    accuracy                           0.78     20000\n",
      "   macro avg       0.39      0.50      0.44     20000\n",
      "weighted avg       0.60      0.78      0.68     20000\n",
      "\n",
      "tensor([nan, nan, nan,  ..., nan, nan, nan], device='cuda:0')\n"
     ]
    },
    {
     "name": "stderr",
     "output_type": "stream",
     "text": [
      " 97%|█████████▋| 968/1000 [02:00<00:03,  8.21it/s]"
     ]
    },
    {
     "name": "stdout",
     "output_type": "stream",
     "text": [
      "              precision    recall  f1-score   support\n",
      "\n",
      "         0.0       0.78      1.00      0.87     15543\n",
      "         1.0       0.00      0.00      0.00      4457\n",
      "\n",
      "    accuracy                           0.78     20000\n",
      "   macro avg       0.39      0.50      0.44     20000\n",
      "weighted avg       0.60      0.78      0.68     20000\n",
      "\n",
      "tensor([nan, nan, nan,  ..., nan, nan, nan], device='cuda:0')\n",
      "              precision    recall  f1-score   support\n",
      "\n",
      "         0.0       0.78      1.00      0.87     15543\n",
      "         1.0       0.00      0.00      0.00      4457\n",
      "\n",
      "    accuracy                           0.78     20000\n",
      "   macro avg       0.39      0.50      0.44     20000\n",
      "weighted avg       0.60      0.78      0.68     20000\n",
      "\n",
      "tensor([nan, nan, nan,  ..., nan, nan, nan], device='cuda:0')\n"
     ]
    },
    {
     "name": "stderr",
     "output_type": "stream",
     "text": [
      "\r",
      " 97%|█████████▋| 970/1000 [02:00<00:03,  9.10it/s]"
     ]
    },
    {
     "name": "stdout",
     "output_type": "stream",
     "text": [
      "              precision    recall  f1-score   support\n",
      "\n",
      "         0.0       0.78      1.00      0.87     15543\n",
      "         1.0       0.00      0.00      0.00      4457\n",
      "\n",
      "    accuracy                           0.78     20000\n",
      "   macro avg       0.39      0.50      0.44     20000\n",
      "weighted avg       0.60      0.78      0.68     20000\n",
      "\n",
      "tensor([nan, nan, nan,  ..., nan, nan, nan], device='cuda:0')\n",
      "              precision    recall  f1-score   support\n",
      "\n",
      "         0.0       0.78      1.00      0.87     15543\n",
      "         1.0       0.00      0.00      0.00      4457\n",
      "\n",
      "    accuracy                           0.78     20000\n",
      "   macro avg       0.39      0.50      0.44     20000\n",
      "weighted avg       0.60      0.78      0.68     20000\n",
      "\n",
      "tensor([nan, nan, nan,  ..., nan, nan, nan], device='cuda:0')\n"
     ]
    },
    {
     "name": "stderr",
     "output_type": "stream",
     "text": [
      " 97%|█████████▋| 972/1000 [02:01<00:03,  8.29it/s]"
     ]
    },
    {
     "name": "stdout",
     "output_type": "stream",
     "text": [
      "              precision    recall  f1-score   support\n",
      "\n",
      "         0.0       0.78      1.00      0.87     15543\n",
      "         1.0       0.00      0.00      0.00      4457\n",
      "\n",
      "    accuracy                           0.78     20000\n",
      "   macro avg       0.39      0.50      0.44     20000\n",
      "weighted avg       0.60      0.78      0.68     20000\n",
      "\n",
      "tensor([nan, nan, nan,  ..., nan, nan, nan], device='cuda:0')\n",
      "              precision    recall  f1-score   support\n",
      "\n",
      "         0.0       0.78      1.00      0.87     15543\n",
      "         1.0       0.00      0.00      0.00      4457\n",
      "\n",
      "    accuracy                           0.78     20000\n",
      "   macro avg       0.39      0.50      0.44     20000\n",
      "weighted avg       0.60      0.78      0.68     20000\n",
      "\n"
     ]
    },
    {
     "name": "stderr",
     "output_type": "stream",
     "text": [
      "\r",
      " 97%|█████████▋| 973/1000 [02:01<00:03,  8.50it/s]"
     ]
    },
    {
     "name": "stdout",
     "output_type": "stream",
     "text": [
      "tensor([nan, nan, nan,  ..., nan, nan, nan], device='cuda:0')\n",
      "              precision    recall  f1-score   support\n",
      "\n",
      "         0.0       0.78      1.00      0.87     15543\n",
      "         1.0       0.00      0.00      0.00      4457\n",
      "\n",
      "    accuracy                           0.78     20000\n",
      "   macro avg       0.39      0.50      0.44     20000\n",
      "weighted avg       0.60      0.78      0.68     20000\n",
      "\n",
      "tensor([nan, nan, nan,  ..., nan, nan, nan], device='cuda:0')\n",
      "              precision    recall  f1-score   support\n",
      "\n",
      "         0.0       0.78      1.00      0.87     15543\n",
      "         1.0       0.00      0.00      0.00      4457\n",
      "\n",
      "    accuracy                           0.78     20000\n",
      "   macro avg       0.39      0.50      0.44     20000\n",
      "weighted avg       0.60      0.78      0.68     20000\n",
      "\n"
     ]
    },
    {
     "name": "stderr",
     "output_type": "stream",
     "text": [
      " 98%|█████████▊| 975/1000 [02:01<00:03,  7.05it/s]"
     ]
    },
    {
     "name": "stdout",
     "output_type": "stream",
     "text": [
      "tensor([nan, nan, nan,  ..., nan, nan, nan], device='cuda:0')\n",
      "              precision    recall  f1-score   support\n",
      "\n",
      "         0.0       0.78      1.00      0.87     15543\n",
      "         1.0       0.00      0.00      0.00      4457\n",
      "\n",
      "    accuracy                           0.78     20000\n",
      "   macro avg       0.39      0.50      0.44     20000\n",
      "weighted avg       0.60      0.78      0.68     20000\n",
      "\n",
      "tensor([nan, nan, nan,  ..., nan, nan, nan], device='cuda:0')\n"
     ]
    },
    {
     "name": "stderr",
     "output_type": "stream",
     "text": [
      "\r",
      " 98%|█████████▊| 976/1000 [02:01<00:03,  7.08it/s]"
     ]
    },
    {
     "name": "stdout",
     "output_type": "stream",
     "text": [
      "              precision    recall  f1-score   support\n",
      "\n",
      "         0.0       0.78      1.00      0.87     15543\n",
      "         1.0       0.00      0.00      0.00      4457\n",
      "\n",
      "    accuracy                           0.78     20000\n",
      "   macro avg       0.39      0.50      0.44     20000\n",
      "weighted avg       0.60      0.78      0.68     20000\n",
      "\n",
      "tensor([nan, nan, nan,  ..., nan, nan, nan], device='cuda:0')\n",
      "              precision    recall  f1-score   support\n",
      "\n",
      "         0.0       0.78      1.00      0.87     15543\n",
      "         1.0       0.00      0.00      0.00      4457\n",
      "\n",
      "    accuracy                           0.78     20000\n",
      "   macro avg       0.39      0.50      0.44     20000\n",
      "weighted avg       0.60      0.78      0.68     20000\n",
      "\n"
     ]
    },
    {
     "name": "stderr",
     "output_type": "stream",
     "text": [
      " 98%|█████████▊| 979/1000 [02:02<00:02,  7.73it/s]"
     ]
    },
    {
     "name": "stdout",
     "output_type": "stream",
     "text": [
      "tensor([nan, nan, nan,  ..., nan, nan, nan], device='cuda:0')\n",
      "              precision    recall  f1-score   support\n",
      "\n",
      "         0.0       0.78      1.00      0.87     15543\n",
      "         1.0       0.00      0.00      0.00      4457\n",
      "\n",
      "    accuracy                           0.78     20000\n",
      "   macro avg       0.39      0.50      0.44     20000\n",
      "weighted avg       0.60      0.78      0.68     20000\n",
      "\n",
      "tensor([nan, nan, nan,  ..., nan, nan, nan], device='cuda:0')\n",
      "              precision    recall  f1-score   support\n",
      "\n",
      "         0.0       0.78      1.00      0.87     15543\n",
      "         1.0       0.00      0.00      0.00      4457\n",
      "\n",
      "    accuracy                           0.78     20000\n",
      "   macro avg       0.39      0.50      0.44     20000\n",
      "weighted avg       0.60      0.78      0.68     20000\n",
      "\n"
     ]
    },
    {
     "name": "stderr",
     "output_type": "stream",
     "text": [
      "\r",
      " 98%|█████████▊| 980/1000 [02:02<00:02,  8.01it/s]"
     ]
    },
    {
     "name": "stdout",
     "output_type": "stream",
     "text": [
      "tensor([nan, nan, nan,  ..., nan, nan, nan], device='cuda:0')\n",
      "              precision    recall  f1-score   support\n",
      "\n",
      "         0.0       0.78      1.00      0.87     15543\n",
      "         1.0       0.00      0.00      0.00      4457\n",
      "\n",
      "    accuracy                           0.78     20000\n",
      "   macro avg       0.39      0.50      0.44     20000\n",
      "weighted avg       0.60      0.78      0.68     20000\n",
      "\n",
      "tensor([nan, nan, nan,  ..., nan, nan, nan], device='cuda:0')\n",
      "              precision    recall  f1-score   support\n",
      "\n",
      "         0.0       0.78      1.00      0.87     15543\n",
      "         1.0       0.00      0.00      0.00      4457\n",
      "\n",
      "    accuracy                           0.78     20000\n",
      "   macro avg       0.39      0.50      0.44     20000\n",
      "weighted avg       0.60      0.78      0.68     20000\n",
      "\n",
      "tensor([nan, nan, nan,  ..., nan, nan, nan], device='cuda:0')\n"
     ]
    },
    {
     "name": "stderr",
     "output_type": "stream",
     "text": [
      " 98%|█████████▊| 983/1000 [02:02<00:01,  8.76it/s]"
     ]
    },
    {
     "name": "stdout",
     "output_type": "stream",
     "text": [
      "              precision    recall  f1-score   support\n",
      "\n",
      "         0.0       0.78      1.00      0.87     15543\n",
      "         1.0       0.00      0.00      0.00      4457\n",
      "\n",
      "    accuracy                           0.78     20000\n",
      "   macro avg       0.39      0.50      0.44     20000\n",
      "weighted avg       0.60      0.78      0.68     20000\n",
      "\n",
      "tensor([nan, nan, nan,  ..., nan, nan, nan], device='cuda:0')\n",
      "              precision    recall  f1-score   support\n",
      "\n",
      "         0.0       0.78      1.00      0.87     15543\n",
      "         1.0       0.00      0.00      0.00      4457\n",
      "\n",
      "    accuracy                           0.78     20000\n",
      "   macro avg       0.39      0.50      0.44     20000\n",
      "weighted avg       0.60      0.78      0.68     20000\n",
      "\n",
      "tensor([nan, nan, nan,  ..., nan, nan, nan], device='cuda:0')\n"
     ]
    },
    {
     "name": "stderr",
     "output_type": "stream",
     "text": [
      " 99%|█████████▊| 986/1000 [02:02<00:01,  9.73it/s]"
     ]
    },
    {
     "name": "stdout",
     "output_type": "stream",
     "text": [
      "              precision    recall  f1-score   support\n",
      "\n",
      "         0.0       0.78      1.00      0.87     15543\n",
      "         1.0       0.00      0.00      0.00      4457\n",
      "\n",
      "    accuracy                           0.78     20000\n",
      "   macro avg       0.39      0.50      0.44     20000\n",
      "weighted avg       0.60      0.78      0.68     20000\n",
      "\n",
      "tensor([nan, nan, nan,  ..., nan, nan, nan], device='cuda:0')\n",
      "              precision    recall  f1-score   support\n",
      "\n",
      "         0.0       0.78      1.00      0.87     15543\n",
      "         1.0       0.00      0.00      0.00      4457\n",
      "\n",
      "    accuracy                           0.78     20000\n",
      "   macro avg       0.39      0.50      0.44     20000\n",
      "weighted avg       0.60      0.78      0.68     20000\n",
      "\n",
      "tensor([nan, nan, nan,  ..., nan, nan, nan], device='cuda:0')\n",
      "              precision    recall  f1-score   support\n",
      "\n",
      "         0.0       0.78      1.00      0.87     15543\n",
      "         1.0       0.00      0.00      0.00      4457\n",
      "\n",
      "    accuracy                           0.78     20000\n",
      "   macro avg       0.39      0.50      0.44     20000\n",
      "weighted avg       0.60      0.78      0.68     20000\n",
      "\n"
     ]
    },
    {
     "name": "stderr",
     "output_type": "stream",
     "text": [
      "\r",
      " 99%|█████████▉| 988/1000 [02:02<00:01, 10.12it/s]"
     ]
    },
    {
     "name": "stdout",
     "output_type": "stream",
     "text": [
      "tensor([nan, nan, nan,  ..., nan, nan, nan], device='cuda:0')\n",
      "              precision    recall  f1-score   support\n",
      "\n",
      "         0.0       0.78      1.00      0.87     15543\n",
      "         1.0       0.00      0.00      0.00      4457\n",
      "\n",
      "    accuracy                           0.78     20000\n",
      "   macro avg       0.39      0.50      0.44     20000\n",
      "weighted avg       0.60      0.78      0.68     20000\n",
      "\n",
      "tensor([nan, nan, nan,  ..., nan, nan, nan], device='cuda:0')\n",
      "              precision    recall  f1-score   support\n",
      "\n",
      "         0.0       0.78      1.00      0.87     15543\n",
      "         1.0       0.00      0.00      0.00      4457\n",
      "\n",
      "    accuracy                           0.78     20000\n",
      "   macro avg       0.39      0.50      0.44     20000\n",
      "weighted avg       0.60      0.78      0.68     20000\n",
      "\n",
      "tensor([nan, nan, nan,  ..., nan, nan, nan], device='cuda:0')\n"
     ]
    },
    {
     "name": "stderr",
     "output_type": "stream",
     "text": [
      "\r",
      " 99%|█████████▉| 989/1000 [02:03<00:01,  9.98it/s]"
     ]
    },
    {
     "name": "stdout",
     "output_type": "stream",
     "text": [
      "              precision    recall  f1-score   support\n",
      "\n",
      "         0.0       0.78      1.00      0.87     15543\n",
      "         1.0       0.00      0.00      0.00      4457\n",
      "\n",
      "    accuracy                           0.78     20000\n",
      "   macro avg       0.39      0.50      0.44     20000\n",
      "weighted avg       0.60      0.78      0.68     20000\n",
      "\n",
      "tensor([nan, nan, nan,  ..., nan, nan, nan], device='cuda:0')\n",
      "              precision    recall  f1-score   support\n",
      "\n",
      "         0.0       0.78      1.00      0.87     15543\n",
      "         1.0       0.00      0.00      0.00      4457\n",
      "\n",
      "    accuracy                           0.78     20000\n",
      "   macro avg       0.39      0.50      0.44     20000\n",
      "weighted avg       0.60      0.78      0.68     20000\n",
      "\n",
      "tensor([nan, nan, nan,  ..., nan, nan, nan], device='cuda:0')\n",
      "              precision    recall  f1-score   support\n",
      "\n",
      "         0.0       0.78      1.00      0.87     15543\n",
      "         1.0       0.00      0.00      0.00      4457\n",
      "\n",
      "    accuracy                           0.78     20000\n",
      "   macro avg       0.39      0.50      0.44     20000\n",
      "weighted avg       0.60      0.78      0.68     20000\n"
     ]
    },
    {
     "name": "stderr",
     "output_type": "stream",
     "text": [
      " 99%|█████████▉| 992/1000 [02:03<00:00,  9.18it/s]"
     ]
    },
    {
     "name": "stdout",
     "output_type": "stream",
     "text": [
      "\n",
      "tensor([nan, nan, nan,  ..., nan, nan, nan], device='cuda:0')\n",
      "              precision    recall  f1-score   support\n",
      "\n",
      "         0.0       0.78      1.00      0.87     15543\n",
      "         1.0       0.00      0.00      0.00      4457\n",
      "\n",
      "    accuracy                           0.78     20000\n",
      "   macro avg       0.39      0.50      0.44     20000\n",
      "weighted avg       0.60      0.78      0.68     20000\n",
      "\n"
     ]
    },
    {
     "name": "stderr",
     "output_type": "stream",
     "text": [
      "\r",
      " 99%|█████████▉| 993/1000 [02:03<00:00,  9.03it/s]"
     ]
    },
    {
     "name": "stdout",
     "output_type": "stream",
     "text": [
      "tensor([nan, nan, nan,  ..., nan, nan, nan], device='cuda:0')\n",
      "              precision    recall  f1-score   support\n",
      "\n",
      "         0.0       0.78      1.00      0.87     15543\n",
      "         1.0       0.00      0.00      0.00      4457\n",
      "\n",
      "    accuracy                           0.78     20000\n",
      "   macro avg       0.39      0.50      0.44     20000\n",
      "weighted avg       0.60      0.78      0.68     20000\n",
      "\n",
      "tensor([nan, nan, nan,  ..., nan, nan, nan], device='cuda:0')\n",
      "              precision    recall  f1-score   support\n",
      "\n",
      "         0.0       0.78      1.00      0.87     15543\n",
      "         1.0       0.00      0.00      0.00      4457\n",
      "\n",
      "    accuracy                           0.78     20000\n",
      "   macro avg       0.39      0.50      0.44     20000\n",
      "weighted avg       0.60      0.78      0.68     20000\n",
      "\n"
     ]
    },
    {
     "name": "stderr",
     "output_type": "stream",
     "text": [
      "100%|█████████▉| 996/1000 [02:03<00:00,  9.14it/s]"
     ]
    },
    {
     "name": "stdout",
     "output_type": "stream",
     "text": [
      "tensor([nan, nan, nan,  ..., nan, nan, nan], device='cuda:0')\n",
      "              precision    recall  f1-score   support\n",
      "\n",
      "         0.0       0.78      1.00      0.87     15543\n",
      "         1.0       0.00      0.00      0.00      4457\n",
      "\n",
      "    accuracy                           0.78     20000\n",
      "   macro avg       0.39      0.50      0.44     20000\n",
      "weighted avg       0.60      0.78      0.68     20000\n",
      "\n",
      "tensor([nan, nan, nan,  ..., nan, nan, nan], device='cuda:0')\n",
      "              precision    recall  f1-score   support\n",
      "\n",
      "         0.0       0.78      1.00      0.87     15543\n",
      "         1.0       0.00      0.00      0.00      4457\n",
      "\n",
      "    accuracy                           0.78     20000\n",
      "   macro avg       0.39      0.50      0.44     20000\n",
      "weighted avg       0.60      0.78      0.68     20000\n",
      "\n"
     ]
    },
    {
     "name": "stderr",
     "output_type": "stream",
     "text": [
      "\r",
      "100%|█████████▉| 997/1000 [02:03<00:00,  9.19it/s]"
     ]
    },
    {
     "name": "stdout",
     "output_type": "stream",
     "text": [
      "tensor([nan, nan, nan,  ..., nan, nan, nan], device='cuda:0')\n",
      "              precision    recall  f1-score   support\n",
      "\n",
      "         0.0       0.78      1.00      0.87     15543\n",
      "         1.0       0.00      0.00      0.00      4457\n",
      "\n",
      "    accuracy                           0.78     20000\n",
      "   macro avg       0.39      0.50      0.44     20000\n",
      "weighted avg       0.60      0.78      0.68     20000\n",
      "\n",
      "tensor([nan, nan, nan,  ..., nan, nan, nan], device='cuda:0')\n"
     ]
    },
    {
     "name": "stderr",
     "output_type": "stream",
     "text": [
      "\r",
      "100%|█████████▉| 998/1000 [02:04<00:00,  8.08it/s]"
     ]
    },
    {
     "name": "stdout",
     "output_type": "stream",
     "text": [
      "              precision    recall  f1-score   support\n",
      "\n",
      "         0.0       0.78      1.00      0.87     15543\n",
      "         1.0       0.00      0.00      0.00      4457\n",
      "\n",
      "    accuracy                           0.78     20000\n",
      "   macro avg       0.39      0.50      0.44     20000\n",
      "weighted avg       0.60      0.78      0.68     20000\n",
      "\n",
      "tensor([nan, nan, nan,  ..., nan, nan, nan], device='cuda:0')\n",
      "              precision    recall  f1-score   support\n",
      "\n",
      "         0.0       0.78      1.00      0.87     15543\n",
      "         1.0       0.00      0.00      0.00      4457\n",
      "\n",
      "    accuracy                           0.78     20000\n",
      "   macro avg       0.39      0.50      0.44     20000\n",
      "weighted avg       0.60      0.78      0.68     20000\n",
      "\n",
      "tensor([nan, nan, nan,  ..., nan, nan, nan], device='cuda:0')\n"
     ]
    },
    {
     "name": "stderr",
     "output_type": "stream",
     "text": [
      "100%|██████████| 1000/1000 [02:04<00:00,  8.04it/s]"
     ]
    },
    {
     "name": "stdout",
     "output_type": "stream",
     "text": [
      "              precision    recall  f1-score   support\n",
      "\n",
      "         0.0       0.78      1.00      0.87     15543\n",
      "         1.0       0.00      0.00      0.00      4457\n",
      "\n",
      "    accuracy                           0.78     20000\n",
      "   macro avg       0.39      0.50      0.44     20000\n",
      "weighted avg       0.60      0.78      0.68     20000\n",
      "\n"
     ]
    },
    {
     "name": "stderr",
     "output_type": "stream",
     "text": [
      "\n"
     ]
    }
   ],
   "source": [
    "output = model.train(train_data, epochs= 1000)"
   ]
  },
  {
   "cell_type": "code",
   "execution_count": 25,
   "id": "ad13c2fd",
   "metadata": {
    "id": "ad13c2fd"
   },
   "outputs": [
    {
     "name": "stdout",
     "output_type": "stream",
     "text": [
      "tensor([nan, nan, nan,  ..., nan, nan, nan], device='cuda:0')\n",
      "              precision    recall  f1-score   support\n",
      "\n",
      "         0.0       0.72      1.00      0.84    115860\n",
      "         1.0       0.00      0.00      0.00     44140\n",
      "\n",
      "    accuracy                           0.72    160000\n",
      "   macro avg       0.36      0.50      0.42    160000\n",
      "weighted avg       0.52      0.72      0.61    160000\n",
      "\n"
     ]
    },
    {
     "data": {
      "text/plain": [
       "(tensor(nan, device='cuda:0'), 0.524357015625, 0.724125)"
      ]
     },
     "execution_count": 25,
     "metadata": {},
     "output_type": "execute_result"
    }
   ],
   "source": [
    "model.test(train_data)"
   ]
  },
  {
   "cell_type": "code",
   "execution_count": 26,
   "id": "984a9c75",
   "metadata": {
    "id": "984a9c75"
   },
   "outputs": [
    {
     "data": {
      "text/plain": [
       "tensor(nan)"
      ]
     },
     "execution_count": 26,
     "metadata": {},
     "output_type": "execute_result"
    }
   ],
   "source": [
    "min(output[1])"
   ]
  },
  {
   "cell_type": "code",
   "execution_count": 27,
   "id": "1edd7eaf",
   "metadata": {
    "id": "1edd7eaf"
   },
   "outputs": [
    {
     "data": {
      "image/png": "[encoded data removed]",
      "text/plain": [
       "<Figure size 432x288 with 2 Axes>"
      ]
     },
     "metadata": {
      "needs_background": "light"
     },
     "output_type": "display_data"
    }
   ],
   "source": [
    "import warnings\n",
    "import matplotlib.pyplot as plt\n",
    "warnings.filterwarnings(\"ignore\")\n",
    "\n",
    "fig, ax = plt.subplots()\n",
    "ax2 = ax.twinx()\n",
    "ax.plot(output[0][50:], label = \"Train Loss\", color = \"orange\")\n",
    "ax2.plot(output[1][50:], label = \"Test Loss\")\n",
    "fig.legend([ax, ax2], labels = [\"Train Loss\", \"Test Loss\"], loc = \"upper right\")\n",
    "plt.show()"
   ]
  },
  {
   "cell_type": "code",
   "execution_count": 28,
   "id": "2c588773",
   "metadata": {
    "id": "2c588773"
   },
   "outputs": [],
   "source": [
    "pred = model(train_data).cpu().detach().numpy()"
   ]
  },
  {
   "cell_type": "code",
   "execution_count": 29,
   "id": "c6d604ab",
   "metadata": {
    "id": "c6d604ab"
   },
   "outputs": [],
   "source": [
    "true = train_data['users', 'movies'].edge_label.cpu().detach().numpy()"
   ]
  },
  {
   "cell_type": "code",
   "execution_count": 30,
   "id": "044652fd",
   "metadata": {
    "id": "044652fd"
   },
   "outputs": [
    {
     "data": {
      "text/plain": [
       "[(nan, 2),\n",
       " (nan, 3),\n",
       " (nan, 2),\n",
       " (nan, 2),\n",
       " (nan, 3),\n",
       " (nan, 3),\n",
       " (nan, 5),\n",
       " (nan, 3),\n",
       " (nan, 4),\n",
       " (nan, 2),\n",
       " (nan, 4),\n",
       " (nan, 4),\n",
       " (nan, 4),\n",
       " (nan, 3),\n",
       " (nan, 3),\n",
       " (nan, 5),\n",
       " (nan, 3),\n",
       " (nan, 5),\n",
       " (nan, 4),\n",
       " (nan, 4),\n",
       " (nan, 5),\n",
       " (nan, 4),\n",
       " (nan, 3),\n",
       " (nan, 4),\n",
       " (nan, 3),\n",
       " (nan, 4),\n",
       " (nan, 4),\n",
       " (nan, 1),\n",
       " (nan, 4),\n",
       " (nan, 3),\n",
       " (nan, 3),\n",
       " (nan, 1),\n",
       " (nan, 2),\n",
       " (nan, 3),\n",
       " (nan, 2),\n",
       " (nan, 5),\n",
       " (nan, 3),\n",
       " (nan, 3),\n",
       " (nan, 4),\n",
       " (nan, 5),\n",
       " (nan, 2),\n",
       " (nan, 2),\n",
       " (nan, 3),\n",
       " (nan, 4),\n",
       " (nan, 3),\n",
       " (nan, 4),\n",
       " (nan, 1),\n",
       " (nan, 3),\n",
       " (nan, 1),\n",
       " (nan, 3),\n",
       " (nan, 3),\n",
       " (nan, 4),\n",
       " (nan, 3),\n",
       " (nan, 5),\n",
       " (nan, 4),\n",
       " (nan, 3),\n",
       " (nan, 2),\n",
       " (nan, 4),\n",
       " (nan, 5),\n",
       " (nan, 2),\n",
       " (nan, 3),\n",
       " (nan, 5),\n",
       " (nan, 4),\n",
       " (nan, 5),\n",
       " (nan, 4),\n",
       " (nan, 2),\n",
       " (nan, 3),\n",
       " (nan, 2),\n",
       " (nan, 4),\n",
       " (nan, 4),\n",
       " (nan, 3),\n",
       " (nan, 4),\n",
       " (nan, 5),\n",
       " (nan, 2),\n",
       " (nan, 3),\n",
       " (nan, 3),\n",
       " (nan, 5),\n",
       " (nan, 1),\n",
       " (nan, 4),\n",
       " (nan, 3),\n",
       " (nan, 2),\n",
       " (nan, 5),\n",
       " (nan, 4),\n",
       " (nan, 3),\n",
       " (nan, 4),\n",
       " (nan, 5),\n",
       " (nan, 4),\n",
       " (nan, 4),\n",
       " (nan, 2),\n",
       " (nan, 4),\n",
       " (nan, 4),\n",
       " (nan, 4),\n",
       " (nan, 4),\n",
       " (nan, 4),\n",
       " (nan, 5),\n",
       " (nan, 5),\n",
       " (nan, 4),\n",
       " (nan, 3),\n",
       " (nan, 4),\n",
       " (nan, 5),\n",
       " (nan, 4),\n",
       " (nan, 4),\n",
       " (nan, 4),\n",
       " (nan, 4),\n",
       " (nan, 4),\n",
       " (nan, 5),\n",
       " (nan, 5),\n",
       " (nan, 4),\n",
       " (nan, 4),\n",
       " (nan, 2),\n",
       " (nan, 2),\n",
       " (nan, 2),\n",
       " (nan, 4),\n",
       " (nan, 4),\n",
       " (nan, 4),\n",
       " (nan, 4),\n",
       " (nan, 3),\n",
       " (nan, 3),\n",
       " (nan, 4),\n",
       " (nan, 2),\n",
       " (nan, 4),\n",
       " (nan, 4),\n",
       " (nan, 4),\n",
       " (nan, 2),\n",
       " (nan, 5),\n",
       " (nan, 5),\n",
       " (nan, 5),\n",
       " (nan, 3),\n",
       " (nan, 3),\n",
       " (nan, 4),\n",
       " (nan, 4),\n",
       " (nan, 4),\n",
       " (nan, 5),\n",
       " (nan, 2),\n",
       " (nan, 2),\n",
       " (nan, 2),\n",
       " (nan, 4),\n",
       " (nan, 4),\n",
       " (nan, 5),\n",
       " (nan, 5),\n",
       " (nan, 3),\n",
       " (nan, 3),\n",
       " (nan, 2),\n",
       " (nan, 4),\n",
       " (nan, 4),\n",
       " (nan, 4),\n",
       " (nan, 3),\n",
       " (nan, 5),\n",
       " (nan, 3),\n",
       " (nan, 4),\n",
       " (nan, 4),\n",
       " (nan, 5),\n",
       " (nan, 3),\n",
       " (nan, 3),\n",
       " (nan, 2),\n",
       " (nan, 3),\n",
       " (nan, 4),\n",
       " (nan, 3),\n",
       " (nan, 3),\n",
       " (nan, 5),\n",
       " (nan, 3),\n",
       " (nan, 5),\n",
       " (nan, 5),\n",
       " (nan, 2),\n",
       " (nan, 5),\n",
       " (nan, 3),\n",
       " (nan, 5),\n",
       " (nan, 4),\n",
       " (nan, 1),\n",
       " (nan, 3),\n",
       " (nan, 3),\n",
       " (nan, 5),\n",
       " (nan, 4),\n",
       " (nan, 2),\n",
       " (nan, 4),\n",
       " (nan, 3),\n",
       " (nan, 4),\n",
       " (nan, 2),\n",
       " (nan, 5),\n",
       " (nan, 1),\n",
       " (nan, 5),\n",
       " (nan, 3),\n",
       " (nan, 4),\n",
       " (nan, 5),\n",
       " (nan, 4),\n",
       " (nan, 5),\n",
       " (nan, 5),\n",
       " (nan, 5),\n",
       " (nan, 4),\n",
       " (nan, 4),\n",
       " (nan, 5),\n",
       " (nan, 3),\n",
       " (nan, 4),\n",
       " (nan, 3),\n",
       " (nan, 4),\n",
       " (nan, 1),\n",
       " (nan, 4),\n",
       " (nan, 4),\n",
       " (nan, 3),\n",
       " (nan, 4),\n",
       " (nan, 3),\n",
       " (nan, 4),\n",
       " (nan, 3),\n",
       " (nan, 5),\n",
       " (nan, 3),\n",
       " (nan, 4),\n",
       " (nan, 2),\n",
       " (nan, 4),\n",
       " (nan, 2),\n",
       " (nan, 4),\n",
       " (nan, 3),\n",
       " (nan, 4),\n",
       " (nan, 4),\n",
       " (nan, 5),\n",
       " (nan, 4),\n",
       " (nan, 3),\n",
       " (nan, 4),\n",
       " (nan, 4),\n",
       " (nan, 2),\n",
       " (nan, 4),\n",
       " (nan, 4),\n",
       " (nan, 4),\n",
       " (nan, 4),\n",
       " (nan, 4),\n",
       " (nan, 4),\n",
       " (nan, 4),\n",
       " (nan, 4),\n",
       " (nan, 3),\n",
       " (nan, 5),\n",
       " (nan, 3),\n",
       " (nan, 4),\n",
       " (nan, 4),\n",
       " (nan, 4),\n",
       " (nan, 5),\n",
       " (nan, 2),\n",
       " (nan, 3),\n",
       " (nan, 5),\n",
       " (nan, 4),\n",
       " (nan, 5),\n",
       " (nan, 2),\n",
       " (nan, 3),\n",
       " (nan, 5),\n",
       " (nan, 4),\n",
       " (nan, 3),\n",
       " (nan, 5),\n",
       " (nan, 2),\n",
       " (nan, 4),\n",
       " (nan, 3),\n",
       " (nan, 3),\n",
       " (nan, 4),\n",
       " (nan, 4),\n",
       " (nan, 5),\n",
       " (nan, 4),\n",
       " (nan, 3),\n",
       " (nan, 4),\n",
       " (nan, 3),\n",
       " (nan, 3),\n",
       " (nan, 5),\n",
       " (nan, 5),\n",
       " (nan, 3),\n",
       " (nan, 4),\n",
       " (nan, 4),\n",
       " (nan, 2),\n",
       " (nan, 2),\n",
       " (nan, 3),\n",
       " (nan, 4),\n",
       " (nan, 3),\n",
       " (nan, 4),\n",
       " (nan, 5),\n",
       " (nan, 3),\n",
       " (nan, 4),\n",
       " (nan, 1),\n",
       " (nan, 4),\n",
       " (nan, 3),\n",
       " (nan, 5),\n",
       " (nan, 4),\n",
       " (nan, 2),\n",
       " (nan, 3),\n",
       " (nan, 5),\n",
       " (nan, 3),\n",
       " (nan, 4),\n",
       " (nan, 4),\n",
       " (nan, 5),\n",
       " (nan, 3),\n",
       " (nan, 5),\n",
       " (nan, 2),\n",
       " (nan, 4),\n",
       " (nan, 3),\n",
       " (nan, 5),\n",
       " (nan, 3),\n",
       " (nan, 2),\n",
       " (nan, 3),\n",
       " (nan, 1),\n",
       " (nan, 3),\n",
       " (nan, 3),\n",
       " (nan, 3),\n",
       " (nan, 4),\n",
       " (nan, 3),\n",
       " (nan, 4),\n",
       " (nan, 4),\n",
       " (nan, 3),\n",
       " (nan, 4),\n",
       " (nan, 3),\n",
       " (nan, 5),\n",
       " (nan, 3),\n",
       " (nan, 5),\n",
       " (nan, 3),\n",
       " (nan, 3),\n",
       " (nan, 3),\n",
       " (nan, 2),\n",
       " (nan, 5),\n",
       " (nan, 1),\n",
       " (nan, 3),\n",
       " (nan, 2),\n",
       " (nan, 3),\n",
       " (nan, 3),\n",
       " (nan, 4),\n",
       " (nan, 3),\n",
       " (nan, 5),\n",
       " (nan, 4),\n",
       " (nan, 2),\n",
       " (nan, 5),\n",
       " (nan, 5),\n",
       " (nan, 5),\n",
       " (nan, 3),\n",
       " (nan, 3),\n",
       " (nan, 3),\n",
       " (nan, 5),\n",
       " (nan, 1),\n",
       " (nan, 5),\n",
       " (nan, 1),\n",
       " (nan, 4),\n",
       " (nan, 5),\n",
       " (nan, 4),\n",
       " (nan, 3),\n",
       " (nan, 4),\n",
       " (nan, 5),\n",
       " (nan, 2),\n",
       " (nan, 4),\n",
       " (nan, 4),\n",
       " (nan, 5),\n",
       " (nan, 3),\n",
       " (nan, 5),\n",
       " (nan, 5),\n",
       " (nan, 5),\n",
       " (nan, 3),\n",
       " (nan, 4),\n",
       " (nan, 4),\n",
       " (nan, 4),\n",
       " (nan, 5),\n",
       " (nan, 3),\n",
       " (nan, 5),\n",
       " (nan, 2),\n",
       " (nan, 3),\n",
       " (nan, 4),\n",
       " (nan, 4),\n",
       " (nan, 3),\n",
       " (nan, 3),\n",
       " (nan, 4),\n",
       " (nan, 3),\n",
       " (nan, 5),\n",
       " (nan, 1),\n",
       " (nan, 4),\n",
       " (nan, 2),\n",
       " (nan, 3),\n",
       " (nan, 5),\n",
       " (nan, 5),\n",
       " (nan, 3),\n",
       " (nan, 5),\n",
       " (nan, 4),\n",
       " (nan, 4),\n",
       " (nan, 4),\n",
       " (nan, 5),\n",
       " (nan, 5),\n",
       " (nan, 5),\n",
       " (nan, 3),\n",
       " (nan, 1),\n",
       " (nan, 4),\n",
       " (nan, 4),\n",
       " (nan, 5),\n",
       " (nan, 4),\n",
       " (nan, 4),\n",
       " (nan, 4),\n",
       " (nan, 4),\n",
       " (nan, 4),\n",
       " (nan, 3),\n",
       " (nan, 4),\n",
       " (nan, 2),\n",
       " (nan, 3),\n",
       " (nan, 4),\n",
       " (nan, 1),\n",
       " (nan, 3),\n",
       " (nan, 4),\n",
       " (nan, 5),\n",
       " (nan, 4),\n",
       " (nan, 5),\n",
       " (nan, 4),\n",
       " (nan, 3),\n",
       " (nan, 5),\n",
       " (nan, 4),\n",
       " (nan, 4),\n",
       " (nan, 5),\n",
       " (nan, 4),\n",
       " (nan, 3),\n",
       " (nan, 3),\n",
       " (nan, 1),\n",
       " (nan, 4),\n",
       " (nan, 4),\n",
       " (nan, 5),\n",
       " (nan, 1),\n",
       " (nan, 4),\n",
       " (nan, 4),\n",
       " (nan, 1),\n",
       " (nan, 5),\n",
       " (nan, 4),\n",
       " (nan, 5),\n",
       " (nan, 3),\n",
       " (nan, 3),\n",
       " (nan, 4),\n",
       " (nan, 4),\n",
       " (nan, 3),\n",
       " (nan, 4),\n",
       " (nan, 4),\n",
       " (nan, 5),\n",
       " (nan, 5),\n",
       " (nan, 4),\n",
       " (nan, 3),\n",
       " (nan, 5),\n",
       " (nan, 5),\n",
       " (nan, 3),\n",
       " (nan, 4),\n",
       " (nan, 2),\n",
       " (nan, 5),\n",
       " (nan, 3),\n",
       " (nan, 5),\n",
       " (nan, 1),\n",
       " (nan, 5),\n",
       " (nan, 3),\n",
       " (nan, 2),\n",
       " (nan, 3),\n",
       " (nan, 4),\n",
       " (nan, 5),\n",
       " (nan, 4),\n",
       " (nan, 5),\n",
       " (nan, 1),\n",
       " (nan, 4),\n",
       " (nan, 4),\n",
       " (nan, 4),\n",
       " (nan, 4),\n",
       " (nan, 2),\n",
       " (nan, 1),\n",
       " (nan, 1),\n",
       " (nan, 3),\n",
       " (nan, 3),\n",
       " (nan, 1),\n",
       " (nan, 3),\n",
       " (nan, 3),\n",
       " (nan, 5),\n",
       " (nan, 5),\n",
       " (nan, 3),\n",
       " (nan, 1),\n",
       " (nan, 3),\n",
       " (nan, 3),\n",
       " (nan, 3),\n",
       " (nan, 4),\n",
       " (nan, 1),\n",
       " (nan, 5),\n",
       " (nan, 2),\n",
       " (nan, 3),\n",
       " (nan, 4),\n",
       " (nan, 4),\n",
       " (nan, 2),\n",
       " (nan, 5),\n",
       " (nan, 4),\n",
       " (nan, 2),\n",
       " (nan, 2),\n",
       " (nan, 5),\n",
       " (nan, 4),\n",
       " (nan, 3),\n",
       " (nan, 2),\n",
       " (nan, 3),\n",
       " (nan, 5),\n",
       " (nan, 4),\n",
       " (nan, 2),\n",
       " (nan, 3),\n",
       " (nan, 4),\n",
       " (nan, 5),\n",
       " (nan, 3),\n",
       " (nan, 4),\n",
       " (nan, 4),\n",
       " (nan, 4),\n",
       " (nan, 4),\n",
       " (nan, 5),\n",
       " (nan, 4),\n",
       " (nan, 3),\n",
       " (nan, 4),\n",
       " (nan, 3),\n",
       " (nan, 3),\n",
       " (nan, 2),\n",
       " (nan, 5),\n",
       " (nan, 5),\n",
       " (nan, 3),\n",
       " (nan, 4),\n",
       " (nan, 3),\n",
       " (nan, 5),\n",
       " (nan, 4),\n",
       " (nan, 5),\n",
       " (nan, 2),\n",
       " (nan, 4),\n",
       " (nan, 3),\n",
       " (nan, 2),\n",
       " (nan, 3),\n",
       " (nan, 4),\n",
       " (nan, 4),\n",
       " (nan, 2),\n",
       " (nan, 4),\n",
       " (nan, 4),\n",
       " (nan, 5),\n",
       " (nan, 4),\n",
       " (nan, 5),\n",
       " (nan, 2),\n",
       " (nan, 3),\n",
       " (nan, 4),\n",
       " (nan, 5),\n",
       " (nan, 3),\n",
       " (nan, 5),\n",
       " (nan, 4),\n",
       " (nan, 5),\n",
       " (nan, 3),\n",
       " (nan, 5),\n",
       " (nan, 4),\n",
       " (nan, 4),\n",
       " (nan, 4),\n",
       " (nan, 2),\n",
       " (nan, 4),\n",
       " (nan, 3),\n",
       " (nan, 3),\n",
       " (nan, 3),\n",
       " (nan, 4),\n",
       " (nan, 4),\n",
       " (nan, 5),\n",
       " (nan, 4),\n",
       " (nan, 5),\n",
       " (nan, 3),\n",
       " (nan, 1),\n",
       " (nan, 4),\n",
       " (nan, 3),\n",
       " (nan, 3),\n",
       " (nan, 3),\n",
       " (nan, 3),\n",
       " (nan, 3),\n",
       " (nan, 3),\n",
       " (nan, 3),\n",
       " (nan, 4),\n",
       " (nan, 5),\n",
       " (nan, 3),\n",
       " (nan, 5),\n",
       " (nan, 4),\n",
       " (nan, 4),\n",
       " (nan, 5),\n",
       " (nan, 4),\n",
       " (nan, 4),\n",
       " (nan, 2),\n",
       " (nan, 1),\n",
       " (nan, 1),\n",
       " (nan, 4),\n",
       " (nan, 3),\n",
       " (nan, 2),\n",
       " (nan, 3),\n",
       " (nan, 4),\n",
       " (nan, 5),\n",
       " (nan, 4),\n",
       " (nan, 3),\n",
       " (nan, 4),\n",
       " (nan, 1),\n",
       " (nan, 4),\n",
       " (nan, 4),\n",
       " (nan, 3),\n",
       " (nan, 5),\n",
       " (nan, 4),\n",
       " (nan, 3),\n",
       " (nan, 4),\n",
       " (nan, 4),\n",
       " (nan, 3),\n",
       " (nan, 3),\n",
       " (nan, 5),\n",
       " (nan, 4),\n",
       " (nan, 5),\n",
       " (nan, 5),\n",
       " (nan, 4),\n",
       " (nan, 3),\n",
       " (nan, 5),\n",
       " (nan, 5),\n",
       " (nan, 4),\n",
       " (nan, 5),\n",
       " (nan, 4),\n",
       " (nan, 4),\n",
       " (nan, 5),\n",
       " (nan, 4),\n",
       " (nan, 5),\n",
       " (nan, 3),\n",
       " (nan, 5),\n",
       " (nan, 4),\n",
       " (nan, 1),\n",
       " (nan, 5),\n",
       " (nan, 3),\n",
       " (nan, 2),\n",
       " (nan, 5),\n",
       " (nan, 3),\n",
       " (nan, 5),\n",
       " (nan, 3),\n",
       " (nan, 5),\n",
       " (nan, 3),\n",
       " (nan, 3),\n",
       " (nan, 1),\n",
       " (nan, 4),\n",
       " (nan, 3),\n",
       " (nan, 2),\n",
       " (nan, 4),\n",
       " (nan, 4),\n",
       " (nan, 5),\n",
       " (nan, 3),\n",
       " (nan, 4),\n",
       " (nan, 5),\n",
       " (nan, 3),\n",
       " (nan, 3),\n",
       " (nan, 3),\n",
       " (nan, 3),\n",
       " (nan, 4),\n",
       " (nan, 5),\n",
       " (nan, 2),\n",
       " (nan, 4),\n",
       " (nan, 3),\n",
       " (nan, 4),\n",
       " (nan, 5),\n",
       " (nan, 5),\n",
       " (nan, 2),\n",
       " (nan, 2),\n",
       " (nan, 5),\n",
       " (nan, 2),\n",
       " (nan, 3),\n",
       " (nan, 4),\n",
       " (nan, 3),\n",
       " (nan, 5),\n",
       " (nan, 3),\n",
       " (nan, 2),\n",
       " (nan, 1),\n",
       " (nan, 4),\n",
       " (nan, 3),\n",
       " (nan, 4),\n",
       " (nan, 3),\n",
       " (nan, 1),\n",
       " (nan, 3),\n",
       " (nan, 5),\n",
       " (nan, 4),\n",
       " (nan, 4),\n",
       " (nan, 4),\n",
       " (nan, 4),\n",
       " (nan, 3),\n",
       " (nan, 5),\n",
       " (nan, 2),\n",
       " (nan, 1),\n",
       " (nan, 2),\n",
       " (nan, 4),\n",
       " (nan, 5),\n",
       " (nan, 3),\n",
       " (nan, 4),\n",
       " (nan, 4),\n",
       " (nan, 5),\n",
       " (nan, 4),\n",
       " (nan, 1),\n",
       " (nan, 2),\n",
       " (nan, 2),\n",
       " (nan, 4),\n",
       " (nan, 4),\n",
       " (nan, 4),\n",
       " (nan, 4),\n",
       " (nan, 5),\n",
       " (nan, 5),\n",
       " (nan, 2),\n",
       " (nan, 4),\n",
       " (nan, 4),\n",
       " (nan, 2),\n",
       " (nan, 3),\n",
       " (nan, 3),\n",
       " (nan, 5),\n",
       " (nan, 4),\n",
       " (nan, 3),\n",
       " (nan, 3),\n",
       " (nan, 4),\n",
       " (nan, 2),\n",
       " (nan, 3),\n",
       " (nan, 3),\n",
       " (nan, 4),\n",
       " (nan, 2),\n",
       " (nan, 1),\n",
       " (nan, 1),\n",
       " (nan, 5),\n",
       " (nan, 3),\n",
       " (nan, 5),\n",
       " (nan, 3),\n",
       " (nan, 4),\n",
       " (nan, 4),\n",
       " (nan, 4),\n",
       " (nan, 1),\n",
       " (nan, 4),\n",
       " (nan, 2),\n",
       " (nan, 3),\n",
       " (nan, 5),\n",
       " (nan, 5),\n",
       " (nan, 4),\n",
       " (nan, 2),\n",
       " (nan, 5),\n",
       " (nan, 5),\n",
       " (nan, 4),\n",
       " (nan, 3),\n",
       " (nan, 2),\n",
       " (nan, 4),\n",
       " (nan, 3),\n",
       " (nan, 3),\n",
       " (nan, 4),\n",
       " (nan, 3),\n",
       " (nan, 4),\n",
       " (nan, 2),\n",
       " (nan, 3),\n",
       " (nan, 2),\n",
       " (nan, 3),\n",
       " (nan, 3),\n",
       " (nan, 3),\n",
       " (nan, 1),\n",
       " (nan, 4),\n",
       " (nan, 5),\n",
       " (nan, 2),\n",
       " (nan, 3),\n",
       " (nan, 5),\n",
       " (nan, 5),\n",
       " (nan, 4),\n",
       " (nan, 3),\n",
       " (nan, 3),\n",
       " (nan, 1),\n",
       " (nan, 3),\n",
       " (nan, 5),\n",
       " (nan, 4),\n",
       " (nan, 4),\n",
       " (nan, 4),\n",
       " (nan, 5),\n",
       " (nan, 3),\n",
       " (nan, 3),\n",
       " (nan, 4),\n",
       " (nan, 4),\n",
       " (nan, 4),\n",
       " (nan, 4),\n",
       " (nan, 4),\n",
       " (nan, 4),\n",
       " (nan, 4),\n",
       " (nan, 5),\n",
       " (nan, 4),\n",
       " (nan, 2),\n",
       " (nan, 3),\n",
       " (nan, 4),\n",
       " (nan, 3),\n",
       " (nan, 3),\n",
       " (nan, 2),\n",
       " (nan, 3),\n",
       " (nan, 3),\n",
       " (nan, 4),\n",
       " (nan, 5),\n",
       " (nan, 5),\n",
       " (nan, 5),\n",
       " (nan, 1),\n",
       " (nan, 5),\n",
       " (nan, 1),\n",
       " (nan, 5),\n",
       " (nan, 5),\n",
       " (nan, 5),\n",
       " (nan, 4),\n",
       " (nan, 4),\n",
       " (nan, 5),\n",
       " (nan, 3),\n",
       " (nan, 3),\n",
       " (nan, 5),\n",
       " (nan, 5),\n",
       " (nan, 2),\n",
       " (nan, 4),\n",
       " (nan, 1),\n",
       " (nan, 2),\n",
       " (nan, 4),\n",
       " (nan, 5),\n",
       " (nan, 1),\n",
       " (nan, 3),\n",
       " (nan, 5),\n",
       " (nan, 4),\n",
       " (nan, 5),\n",
       " (nan, 3),\n",
       " (nan, 5),\n",
       " (nan, 4),\n",
       " (nan, 5),\n",
       " (nan, 4),\n",
       " (nan, 5),\n",
       " (nan, 3),\n",
       " (nan, 4),\n",
       " (nan, 3),\n",
       " (nan, 2),\n",
       " (nan, 3),\n",
       " (nan, 3),\n",
       " (nan, 5),\n",
       " (nan, 2),\n",
       " (nan, 4),\n",
       " (nan, 4),\n",
       " (nan, 2),\n",
       " (nan, 5),\n",
       " (nan, 4),\n",
       " (nan, 4),\n",
       " (nan, 4),\n",
       " (nan, 3),\n",
       " (nan, 5),\n",
       " (nan, 4),\n",
       " (nan, 5),\n",
       " (nan, 5),\n",
       " (nan, 4),\n",
       " (nan, 4),\n",
       " (nan, 4),\n",
       " (nan, 4),\n",
       " (nan, 4),\n",
       " (nan, 4),\n",
       " (nan, 4),\n",
       " (nan, 5),\n",
       " (nan, 4),\n",
       " (nan, 5),\n",
       " (nan, 4),\n",
       " (nan, 3),\n",
       " (nan, 3),\n",
       " (nan, 4),\n",
       " (nan, 3),\n",
       " (nan, 4),\n",
       " (nan, 3),\n",
       " (nan, 3),\n",
       " (nan, 5),\n",
       " (nan, 3),\n",
       " (nan, 3),\n",
       " (nan, 3),\n",
       " (nan, 5),\n",
       " (nan, 4),\n",
       " (nan, 2),\n",
       " (nan, 2),\n",
       " (nan, 5),\n",
       " (nan, 3),\n",
       " (nan, 2),\n",
       " (nan, 5),\n",
       " (nan, 3),\n",
       " (nan, 3),\n",
       " (nan, 2),\n",
       " (nan, 3),\n",
       " (nan, 4),\n",
       " (nan, 3),\n",
       " (nan, 4),\n",
       " (nan, 3),\n",
       " (nan, 2),\n",
       " (nan, 5),\n",
       " (nan, 5),\n",
       " (nan, 4),\n",
       " (nan, 5),\n",
       " (nan, 3),\n",
       " (nan, 4),\n",
       " (nan, 4),\n",
       " (nan, 3),\n",
       " (nan, 5),\n",
       " (nan, 3),\n",
       " (nan, 4),\n",
       " (nan, 1),\n",
       " (nan, 4),\n",
       " (nan, 4),\n",
       " (nan, 4),\n",
       " (nan, 5),\n",
       " (nan, 3),\n",
       " (nan, 4),\n",
       " (nan, 4),\n",
       " (nan, 2),\n",
       " (nan, 4),\n",
       " (nan, 3),\n",
       " (nan, 4),\n",
       " (nan, 3),\n",
       " (nan, 4),\n",
       " (nan, 4),\n",
       " (nan, 3),\n",
       " (nan, 3),\n",
       " (nan, 3),\n",
       " (nan, 3),\n",
       " (nan, 4),\n",
       " (nan, 2),\n",
       " (nan, 4),\n",
       " (nan, 3),\n",
       " (nan, 3),\n",
       " (nan, 4),\n",
       " (nan, 5),\n",
       " (nan, 3),\n",
       " (nan, 5),\n",
       " (nan, 4),\n",
       " (nan, 3),\n",
       " (nan, 4),\n",
       " (nan, 2),\n",
       " (nan, 4),\n",
       " (nan, 4),\n",
       " (nan, 4),\n",
       " (nan, 3),\n",
       " (nan, 5),\n",
       " (nan, 4),\n",
       " (nan, 1),\n",
       " (nan, 4),\n",
       " (nan, 4),\n",
       " (nan, 4),\n",
       " (nan, 2),\n",
       " (nan, 3),\n",
       " (nan, 3),\n",
       " (nan, 4),\n",
       " (nan, 2),\n",
       " (nan, 4),\n",
       " (nan, 3),\n",
       " (nan, 4),\n",
       " (nan, 5),\n",
       " (nan, 2),\n",
       " (nan, 5),\n",
       " (nan, 3),\n",
       " (nan, 3),\n",
       " (nan, 4),\n",
       " (nan, 4),\n",
       " (nan, 1),\n",
       " (nan, 3),\n",
       " (nan, 5),\n",
       " (nan, 4),\n",
       " (nan, 1),\n",
       " (nan, 4),\n",
       " (nan, 4),\n",
       " (nan, 2),\n",
       " (nan, 3),\n",
       " (nan, 3),\n",
       " (nan, 3),\n",
       " (nan, 2),\n",
       " (nan, 5),\n",
       " (nan, 5),\n",
       " (nan, 3),\n",
       " (nan, 4),\n",
       " (nan, 3),\n",
       " (nan, 3),\n",
       " (nan, 4),\n",
       " (nan, 5),\n",
       " (nan, 3),\n",
       " (nan, 5),\n",
       " (nan, 4),\n",
       " (nan, 5),\n",
       " (nan, 4),\n",
       " (nan, 4),\n",
       " (nan, 5),\n",
       " (nan, 2),\n",
       " (nan, 4),\n",
       " (nan, 4),\n",
       " (nan, 4),\n",
       " (nan, 2),\n",
       " (nan, 3),\n",
       " (nan, 5),\n",
       " (nan, 5),\n",
       " (nan, 5),\n",
       " (nan, 5),\n",
       " (nan, 4),\n",
       " (nan, 5),\n",
       " (nan, 5),\n",
       " (nan, 4),\n",
       " (nan, 4),\n",
       " (nan, 5),\n",
       " (nan, 4),\n",
       " (nan, 4),\n",
       " (nan, 3),\n",
       " (nan, 5),\n",
       " (nan, 4),\n",
       " (nan, 3),\n",
       " (nan, 3),\n",
       " (nan, 3),\n",
       " (nan, 5),\n",
       " (nan, 2),\n",
       " (nan, 4),\n",
       " (nan, 4),\n",
       " (nan, 2),\n",
       " (nan, 5),\n",
       " (nan, 3),\n",
       " (nan, 2),\n",
       " (nan, 4),\n",
       " (nan, 4),\n",
       " (nan, 3),\n",
       " (nan, 2),\n",
       " (nan, 4),\n",
       " (nan, 3),\n",
       " (nan, 3),\n",
       " (nan, 3),\n",
       " (nan, 3),\n",
       " (nan, 5),\n",
       " (nan, 5),\n",
       " (nan, 3),\n",
       " (nan, 4),\n",
       " (nan, 5),\n",
       " (nan, 3),\n",
       " ...]"
      ]
     },
     "execution_count": 30,
     "metadata": {},
     "output_type": "execute_result"
    }
   ],
   "source": [
    "list(zip(pred, true))"
   ]
  },
  {
   "cell_type": "code",
   "execution_count": null,
   "id": "b1bacc37",
   "metadata": {
    "id": "b1bacc37"
   },
   "outputs": [],
   "source": []
  }
 ],
 "metadata": {
  "colab": {
   "name": "GCNN.ipynb",
   "provenance": []
  },
  "kernelspec": {
   "display_name": "Python 3",
   "language": "python",
   "name": "python3"
  },
  "language_info": {
   "codemirror_mode": {
    "name": "ipython",
    "version": 3
   },
   "file_extension": ".py",
   "mimetype": "text/x-python",
   "name": "python",
   "nbconvert_exporter": "python",
   "pygments_lexer": "ipython3",
   "version": "3.9.7"
  }
 },
 "nbformat": 4,
 "nbformat_minor": 5
}
