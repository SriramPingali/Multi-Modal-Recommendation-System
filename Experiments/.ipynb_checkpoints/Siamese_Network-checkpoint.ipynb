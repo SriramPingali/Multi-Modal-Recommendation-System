{
 "cells": [
  {
   "cell_type": "markdown",
   "id": "692b6491",
   "metadata": {},
   "source": [
    "# Setup"
   ]
  },
  {
   "cell_type": "code",
   "execution_count": 1,
   "id": "0ff90498",
   "metadata": {},
   "outputs": [],
   "source": [
    "import os\n",
    "os.environ[\"CUDA_VISIBLE_DEVICES\"]=\"1\"\n",
    "os.environ[\"CUDA_LAUNCH_BLOCKING\"]=\"1, 2, 3, 4\""
   ]
  },
  {
   "cell_type": "code",
   "execution_count": 2,
   "id": "5054d1f2",
   "metadata": {},
   "outputs": [],
   "source": [
    "import numpy as np\n",
    "import pandas as pd\n",
    "\n",
    "from sklearn.metrics.pairwise import cosine_similarity"
   ]
  },
  {
   "cell_type": "code",
   "execution_count": 3,
   "id": "8bcef385",
   "metadata": {},
   "outputs": [],
   "source": [
    "import torch\n",
    "from sklearn.preprocessing import normalize\n",
    "from torch.utils.data import Dataset, DataLoader\n",
    "from torchsampler import ImbalancedDatasetSampler\n",
    "from sklearn.metrics.pairwise import cosine_similarity\n",
    "from sklearn.metrics import confusion_matrix, classification_report\n",
    "from sklearn.metrics import f1_score, precision_score, recall_score"
   ]
  },
  {
   "cell_type": "markdown",
   "id": "aef5c06f",
   "metadata": {},
   "source": [
    "# Import Data"
   ]
  },
  {
   "cell_type": "code",
   "execution_count": 4,
   "id": "50d58348",
   "metadata": {},
   "outputs": [],
   "source": [
    "items = pd.read_csv(\"../Datasets/ml-100k/Text/items.csv\")\n",
    "\n",
    "r_cols = ['user_id', 'movie_id', 'rating', 'unix_timestamp']\n",
    "ratings = pd.read_csv('../Datasets/ml-100k/Text/u1.base', sep='\\t', names=r_cols,encoding='latin-1')"
   ]
  },
  {
   "cell_type": "code",
   "execution_count": 5,
   "id": "51978161",
   "metadata": {},
   "outputs": [],
   "source": [
    "# n_users = ratings.user_id.unique().shape[0]\n",
    "# n_items = ratings.movie_id.unique().shape[0]\n",
    "n_users = 943\n",
    "n_items = 1682"
   ]
  },
  {
   "cell_type": "code",
   "execution_count": 6,
   "id": "1c5dab53",
   "metadata": {},
   "outputs": [],
   "source": [
    "data_matrix = np.zeros((n_users, n_items))\n",
    "for line in ratings.itertuples():\n",
    "    data_matrix[line[1]-1, line[2]-1] = line[3]"
   ]
  },
  {
   "cell_type": "code",
   "execution_count": 7,
   "id": "661915da",
   "metadata": {},
   "outputs": [],
   "source": [
    "data_matrix_emp = data_matrix.copy()\n",
    "data_matrix_emp[data_matrix < 4] = 0\n",
    "data_matrix_emp[data_matrix >= 4]= 1 "
   ]
  },
  {
   "cell_type": "code",
   "execution_count": 8,
   "id": "92d4e998",
   "metadata": {},
   "outputs": [],
   "source": [
    "train_indices = list(zip(*(np.where(data_matrix != 0))))"
   ]
  },
  {
   "cell_type": "code",
   "execution_count": 9,
   "id": "4fd23cd7",
   "metadata": {},
   "outputs": [
    {
     "data": {
      "text/plain": [
       "80000"
      ]
     },
     "execution_count": 9,
     "metadata": {},
     "output_type": "execute_result"
    }
   ],
   "source": [
    "len(train_indices)"
   ]
  },
  {
   "cell_type": "markdown",
   "id": "6969385c",
   "metadata": {},
   "source": [
    "# Siamese network"
   ]
  },
  {
   "cell_type": "markdown",
   "id": "41e75e2a",
   "metadata": {},
   "source": [
    "## Data loader"
   ]
  },
  {
   "cell_type": "code",
   "execution_count": 10,
   "id": "86f11aad",
   "metadata": {},
   "outputs": [
    {
     "data": {
      "text/plain": [
       "True"
      ]
     },
     "execution_count": 10,
     "metadata": {},
     "output_type": "execute_result"
    }
   ],
   "source": [
    "torch.cuda.is_available()"
   ]
  },
  {
   "cell_type": "code",
   "execution_count": 11,
   "id": "89cc8a89",
   "metadata": {},
   "outputs": [
    {
     "data": {
      "text/plain": [
       "'1.10.1'"
      ]
     },
     "execution_count": 11,
     "metadata": {},
     "output_type": "execute_result"
    }
   ],
   "source": [
    "torch.__version__"
   ]
  },
  {
   "cell_type": "code",
   "execution_count": 12,
   "id": "5fce506a",
   "metadata": {},
   "outputs": [],
   "source": [
    "items_csv = \"../Datasets/ml-100k/Text/items.csv\"\n",
    "train_ratings = \"../Datasets/ml-100k/Text/u1.base\"\n",
    "test_ratings = \"../Datasets/ml-100k/Text/u1.test\"\n",
    "\n",
    "item_path = \"../Datasets/ml-100k/\""
   ]
  },
  {
   "cell_type": "code",
   "execution_count": 13,
   "id": "2818e953",
   "metadata": {},
   "outputs": [],
   "source": [
    "# cosine_similarity(np.nan_to_num(pd.read_csv(item_path)))"
   ]
  },
  {
   "cell_type": "code",
   "execution_count": 14,
   "id": "38e64af3",
   "metadata": {},
   "outputs": [],
   "source": [
    "device = torch.device(\"cuda:0\" if torch.cuda.is_available() else \"cpu\")"
   ]
  },
  {
   "cell_type": "code",
   "execution_count": 15,
   "id": "3ac83157",
   "metadata": {},
   "outputs": [],
   "source": [
    "class MovielensDataset(Dataset):\n",
    "    def __init__(self, ratings = train_ratings, item_path = item_path, device = device):\n",
    "        self.video_embeddings = pd.read_csv(item_path + \"Video/embeddings.csv\").to_numpy()\n",
    "        self.audio_embeddings = pd.read_csv(item_path + \"Audio/embeddings.csv\").to_numpy()\n",
    "        self.text_embeddings = pd.read_csv(item_path + \"Text/embeddings.csv\").to_numpy()\n",
    "        self.ratings = pd.read_csv(ratings, sep='\\t', \n",
    "                                   names=['user_id', 'movie_id', 'rating', 'unix_timestamp'],encoding='latin-1')\n",
    "        self.indices = None\n",
    "        self.device = device\n",
    "        self.data = None\n",
    "        self.n_users = None\n",
    "        self.n_items = None\n",
    "        self.fill_ratings()\n",
    "        self.embeddings()\n",
    "    \n",
    "    def fill_ratings(self, threshold=4):\n",
    "        self.n_users = self.ratings.user_id.unique().shape[0]\n",
    "        self.n_items = self.ratings.movie_id.unique().shape[0]\n",
    "        \n",
    "        self.data = np.zeros((n_users, n_items))\n",
    "        for line in self.ratings.itertuples():\n",
    "            self.data[line[1]-1, line[2]-1] = line[3]\n",
    "            \n",
    "        self.indices = list(zip(*(np.where(self.data != 0))))\n",
    "            \n",
    "    def embeddings(self):\n",
    "        self.audio_embeddings = np.nan_to_num(self.audio_embeddings)\n",
    "        self.video_embeddings = np.nan_to_num(self.video_embeddings)\n",
    "        self.audio_embeddings = normalize(self.audio_embeddings, axis = 1)\n",
    "#         self.item_embeddings = np.append(data_matrix.T, self.item_embeddings, axis = 1)\n",
    "        self.user_embeddings = data_matrix\n",
    "        self.item_embeddings = data_matrix.T\n",
    "        self.video_embedding_size = self.video_embeddings.shape[1]\n",
    "        self.audio_embedding_size = self.audio_embeddings.shape[1]\n",
    "        self.text_embedding_size = self.text_embeddings.shape[1]\n",
    "        self.user_embedding_size = self.user_embeddings.shape[1]\n",
    "        self.item_embedding_size = self.item_embeddings.shape[1]\n",
    "        \n",
    "    def __len__(self):\n",
    "        return(len(self.indices))\n",
    "    \n",
    "    def __getitem__(self, idx):\n",
    "        user = self.indices[idx][0]\n",
    "        item = self.indices[idx][1]\n",
    "\n",
    "        xu = torch.from_numpy(self.user_embeddings[user]).to(self.device)\n",
    "        xv = torch.from_numpy(self.video_embeddings[item]).to(self.device)\n",
    "        xa = torch.from_numpy(self.audio_embeddings[item]).to(self.device)\n",
    "        xt = torch.from_numpy(self.text_embeddings[item]).to(self.device)\n",
    "        xi = torch.from_numpy(self.item_embeddings[item]).to(self.device)\n",
    "        \n",
    "        y = self.data[user][item]\n",
    "        return(xu.float(), [xv.float(), xa.float(), xt.float(), xi.float()], int(y))"
   ]
  },
  {
   "cell_type": "code",
   "execution_count": 16,
   "id": "fba19cff",
   "metadata": {},
   "outputs": [
    {
     "name": "stderr",
     "output_type": "stream",
     "text": [
      "/home/sriram_1801cs37/anaconda3/envs/pytorch/lib/python3.9/site-packages/numpy/core/fromnumeric.py:86: RuntimeWarning: overflow encountered in reduce\n",
      "  return ufunc.reduce(obj, axis, dtype, out, **passkwargs)\n",
      "/home/sriram_1801cs37/anaconda3/envs/pytorch/lib/python3.9/site-packages/numpy/core/fromnumeric.py:86: RuntimeWarning: invalid value encountered in reduce\n",
      "  return ufunc.reduce(obj, axis, dtype, out, **passkwargs)\n",
      "/home/sriram_1801cs37/anaconda3/envs/pytorch/lib/python3.9/site-packages/numpy/core/fromnumeric.py:86: RuntimeWarning: overflow encountered in reduce\n",
      "  return ufunc.reduce(obj, axis, dtype, out, **passkwargs)\n",
      "/home/sriram_1801cs37/anaconda3/envs/pytorch/lib/python3.9/site-packages/numpy/core/fromnumeric.py:86: RuntimeWarning: invalid value encountered in reduce\n",
      "  return ufunc.reduce(obj, axis, dtype, out, **passkwargs)\n"
     ]
    }
   ],
   "source": [
    "train_dataset = MovielensDataset(ratings = train_ratings)\n",
    "test_dataset = MovielensDataset(ratings = test_ratings)"
   ]
  },
  {
   "cell_type": "code",
   "execution_count": 17,
   "id": "3fd205f8",
   "metadata": {},
   "outputs": [],
   "source": [
    "target = [int(data_matrix[train_dataset.indices[i][0]][train_dataset.indices[i][1]]) - 1 for i in range(len(train_dataset))]"
   ]
  },
  {
   "cell_type": "code",
   "execution_count": 18,
   "id": "2d4ab993",
   "metadata": {},
   "outputs": [],
   "source": [
    "class_sample_count = np.unique(data_matrix, return_counts=True)[1][1::]\n",
    "\n",
    "weights = 1 / torch.Tensor(class_sample_count)\n",
    "weights = weights.double()\n",
    "weights_all = weights[target]"
   ]
  },
  {
   "cell_type": "code",
   "execution_count": 19,
   "id": "e5ed2b82",
   "metadata": {},
   "outputs": [],
   "source": [
    "sampler = torch.utils.data.sampler.WeightedRandomSampler(weights_all, len(weights_all))"
   ]
  },
  {
   "cell_type": "code",
   "execution_count": 20,
   "id": "65503aab",
   "metadata": {},
   "outputs": [],
   "source": [
    "trainloader = DataLoader(train_dataset, batch_size = 30000, shuffle = True)\n",
    "testloader = DataLoader(test_dataset, batch_size = 20000, shuffle = False)"
   ]
  },
  {
   "cell_type": "markdown",
   "id": "84adc387",
   "metadata": {},
   "source": [
    "## Architecture"
   ]
  },
  {
   "cell_type": "code",
   "execution_count": 21,
   "id": "e4ee32d5",
   "metadata": {},
   "outputs": [],
   "source": [
    "from tqdm import tqdm\n",
    "import torch.nn as nn\n",
    "import torch.optim as optim\n",
    "import torch.nn.functional as F\n",
    "from collections import OrderedDict"
   ]
  },
  {
   "cell_type": "code",
   "execution_count": 22,
   "id": "9f3398bf",
   "metadata": {},
   "outputs": [],
   "source": [
    "from ml_metrics import mapk\n",
    "from recmetrics import mark"
   ]
  },
  {
   "cell_type": "code",
   "execution_count": 23,
   "id": "849fd0c2",
   "metadata": {},
   "outputs": [],
   "source": [
    "class SiameseNet(nn.Module):\n",
    "    def __init__(self, device = device):\n",
    "        super(SiameseNet, self).__init__()\n",
    "        self.encoder_user = nn.Sequential(OrderedDict([\n",
    "            ('linr1', nn.Linear(train_dataset.user_embedding_size, 1024)),\n",
    "            ('relu1', nn.LeakyReLU()),\n",
    "            ('linr2', nn.Linear(1024, 400)),\n",
    "            ('relu2', nn.LeakyReLU()),\n",
    "#             ('linr3', nn.Linear(800, 500)),\n",
    "#             ('relu3', nn.LeakyReLU()),\n",
    "#             ('linr4', nn.Linear(500, 600)),\n",
    "#             ('relu4', nn.LeakyReLU()),\n",
    "        ]))\n",
    "        \n",
    "        self.encoder_item = nn.Sequential(OrderedDict([\n",
    "            ('linr1', nn.Linear(train_dataset.item_embedding_size, 256)),\n",
    "            ('relu1', nn.Sigmoid()),\n",
    "            ('linr2', nn.Linear(256, 200)),\n",
    "            ('relu2', nn.LeakyReLU()),\n",
    "        ]))\n",
    "        \n",
    "        self.encoder_video = nn.Sequential(OrderedDict([\n",
    "            ('linr1', nn.Linear(train_dataset.video_embedding_size, 1600)),\n",
    "            ('relu1', nn.Sigmoid()),\n",
    "            ('linr2', nn.Linear(1600, 1000)),\n",
    "            ('relu2', nn.Sigmoid()),\n",
    "            ('linr3', nn.Linear(1000, 500)),\n",
    "            ('relu3', nn.LeakyReLU()),\n",
    "            ('linr4', nn.Linear(500, 200)),\n",
    "            ('relu4', nn.LeakyReLU()),\n",
    "        ]))\n",
    "        \n",
    "        self.encoder_audio = nn.Sequential(OrderedDict([\n",
    "            ('linr1', nn.Linear(train_dataset.audio_embedding_size, 256)),\n",
    "            ('relu1', nn.Sigmoid()),\n",
    "            ('linr2', nn.Linear(256, 200)),\n",
    "            ('relu2', nn.LeakyReLU()),\n",
    "        ]))\n",
    "        \n",
    "        self.encoder_text = nn.Sequential(OrderedDict([\n",
    "            ('linr1', nn.Linear(train_dataset.text_embedding_size, 100)),\n",
    "            ('relu1', nn.LeakyReLU()),\n",
    "            ('linr2', nn.Linear(100, 200)),\n",
    "            ('relu2', nn.LeakyReLU()),\n",
    "        ]))\n",
    "        \n",
    "        self.siamese = nn.Sequential(OrderedDict([\n",
    "            ('linr1', nn.Linear(600, 512)),\n",
    "            ('relu1', nn.LeakyReLU()),\n",
    "            ('linr2', nn.Linear(512, 256)),\n",
    "            ('relu2', nn.LeakyReLU()),\n",
    "            ('linr3', nn.Linear(256, 100)),\n",
    "            ('relu3', nn.LeakyReLU()),\n",
    "        ]))\n",
    "        \n",
    "        self.ffn = nn.Sequential(OrderedDict([\n",
    "            ('linr1', nn.Linear(200, 164)),\n",
    "            ('actv1', nn.LeakyReLU()),\n",
    "            ('linr2', nn.Linear(164, 50)),\n",
    "            ('actv2', nn.LeakyReLU()),\n",
    "            ('linr4', nn.Linear(50, 1)),\n",
    "        ]))\n",
    "        \n",
    "        self.device = device\n",
    "        self.encoder_user.apply(self.init_weights)\n",
    "        self.encoder_item.apply(self.init_weights)\n",
    "        self.encoder_video.apply(self.init_weights)\n",
    "        self.encoder_audio.apply(self.init_weights)\n",
    "        self.encoder_text.apply(self.init_weights)\n",
    "        self.siamese.apply(self.init_weights)\n",
    "        self.ffn.apply(self.init_weights)\n",
    "        \n",
    "    def init_weights(self, m):\n",
    "        if isinstance(m, nn.Linear):\n",
    "            nn.init.kaiming_normal_(m.weight)\n",
    "            m.bias.data.fill_(0.01)\n",
    "        \n",
    "    def forward(self, x1, x2):\n",
    "        outu = self.encoder_user(x1)\n",
    "        outr = self.encoder_item(x2[3])\n",
    "        outv = self.encoder_video(x2[0])\n",
    "        outa = self.encoder_audio(x2[1])\n",
    "        outt = self.encoder_text(x2[2])\n",
    "        outi = torch.cat((outv, outa, outt), axis=1)\n",
    "        out1 = self.siamese(outu)\n",
    "        out2 = self.siamese(outi)\n",
    "        diff = torch.cat((out1, out2), axis=1)\n",
    "        out = self.ffn(diff)\n",
    "        return(out, outu, outi)\n",
    "    \n",
    "    def fit(self, trainloader = trainloader, \n",
    "            testloader = testloader, epochs = 200):\n",
    "        self.criterion_rate = nn.MSELoss()\n",
    "        self.criterion_embd = nn.CosineEmbeddingLoss()\n",
    "        self.optimizer = optim.Adam(self.parameters(), lr = 5e-3, weight_decay = 1e-4)\n",
    "        \n",
    "        train_loss = []\n",
    "        train_f1 = []\n",
    "        test_loss = []\n",
    "        test_f1 = []\n",
    "        for epoch in range(epochs):\n",
    "            running_loss = 0.0\n",
    "            running_loss_1 = 0.0\n",
    "            \n",
    "            for i, data in tqdm(enumerate(trainloader)):\n",
    "                self.train()\n",
    "                x1, x2, y = data\n",
    "                y_flt = y.type(torch.FloatTensor).to(device)\n",
    "                y_lng = torch.div(y, 4, rounding_mode=\"floor\").to(device)\n",
    "                self.optimizer.zero_grad()\n",
    "                reg, outu, outi = self.forward(x1, x2)\n",
    "                loss_1 = self.criterion_rate(reg.squeeze(), y_flt)\n",
    "                loss_2 = self.criterion_embd(outu, outi, y_lng * 2 - 1)\n",
    "                loss = loss_1 + loss_2 \n",
    "                loss.backward()\n",
    "                self.optimizer.step()\n",
    "\n",
    "                running_loss_1 += torch.sqrt(loss_1)\n",
    "                running_loss += loss\n",
    "            vl, vp, vr, vf, tp, tr, tf = self.evaluate()\n",
    "            print('Epoch-%d: Loss = %.3f\\nTrain RMSE = %.3f||Train Precision = %.3f||Train Recall = %.3f\\nTest RMSE = %.3f || Test Precision = %.3f|| Test Recall = %.3f'%\n",
    "                  (epoch + 1, running_loss / i, running_loss_1 / i, \n",
    "                   tp, tr, vl, vp, vr))\n",
    "            train_loss.append((running_loss_1 / i).cpu().detach().numpy())\n",
    "            test_loss.append(vl.cpu().detach().numpy())\n",
    "            train_f1.append(tf)\n",
    "            test_f1.append(vf)\n",
    "        return(train_loss, test_loss, train_f1, test_f1)\n",
    "            \n",
    "    def evaluate(self, k = 3.35):\n",
    "        self.eval()\n",
    "        with torch.no_grad():\n",
    "            valdata = next(iter(testloader))\n",
    "            x1, x2, y = valdata\n",
    "            y_flt = y.type(torch.FloatTensor).to(device)\n",
    "            y_lng = torch.div(y, 4, rounding_mode=\"floor\").to(device)\n",
    "            otpt = self.forward(x1, x2)\n",
    "            print(otpt[0])\n",
    "            pred = (otpt[0] > k).float()\n",
    "            vl = torch.sqrt(self.criterion_rate(otpt[0].squeeze(), y_flt))\n",
    "            vp = precision_score(y_lng.cpu(), pred.cpu())\n",
    "            vr = recall_score(y_lng.cpu(), pred.cpu())\n",
    "            vf = f1_score(y_lng.cpu(), pred.cpu())\n",
    "            print(classification_report(y_lng.cpu(), pred.cpu(),\n",
    "                    target_names = [\"0\", \"1\"]))\n",
    "            \n",
    "            traindata = next(iter(trainloader))\n",
    "            x1, x2, y = traindata\n",
    "            y_flt = y.type(torch.FloatTensor).to(device)\n",
    "            y_lng = torch.div(y, 4, rounding_mode=\"floor\").to(device)\n",
    "            otpt = self.forward(x1, x2)\n",
    "            pred = (otpt[0] > k).float()\n",
    "            tp = precision_score(y_lng.cpu(), pred.cpu())\n",
    "            tr = recall_score(y_lng.cpu(), pred.cpu())\n",
    "            tf = f1_score(y_lng.cpu(), pred.cpu())\n",
    "        return(vl, vp*100, vr*100, vf*100, tp*100, tr*100, tf*100)"
   ]
  },
  {
   "cell_type": "code",
   "execution_count": 24,
   "id": "1db36b91",
   "metadata": {
    "scrolled": true
   },
   "outputs": [
    {
     "data": {
      "text/plain": [
       "SiameseNet(\n",
       "  (encoder_user): Sequential(\n",
       "    (linr1): Linear(in_features=1682, out_features=1024, bias=True)\n",
       "    (relu1): LeakyReLU(negative_slope=0.01)\n",
       "    (linr2): Linear(in_features=1024, out_features=600, bias=True)\n",
       "    (relu2): LeakyReLU(negative_slope=0.01)\n",
       "  )\n",
       "  (encoder_item): Sequential(\n",
       "    (linr1): Linear(in_features=943, out_features=256, bias=True)\n",
       "    (relu1): Sigmoid()\n",
       "    (linr2): Linear(in_features=256, out_features=200, bias=True)\n",
       "    (relu2): LeakyReLU(negative_slope=0.01)\n",
       "  )\n",
       "  (encoder_video): Sequential(\n",
       "    (linr1): Linear(in_features=2048, out_features=1600, bias=True)\n",
       "    (relu1): Sigmoid()\n",
       "    (linr2): Linear(in_features=1600, out_features=1000, bias=True)\n",
       "    (relu2): Sigmoid()\n",
       "    (linr3): Linear(in_features=1000, out_features=500, bias=True)\n",
       "    (relu3): LeakyReLU(negative_slope=0.01)\n",
       "    (linr4): Linear(in_features=500, out_features=200, bias=True)\n",
       "    (relu4): LeakyReLU(negative_slope=0.01)\n",
       "  )\n",
       "  (encoder_audio): Sequential(\n",
       "    (linr1): Linear(in_features=128, out_features=256, bias=True)\n",
       "    (relu1): Sigmoid()\n",
       "    (linr2): Linear(in_features=256, out_features=200, bias=True)\n",
       "    (relu2): LeakyReLU(negative_slope=0.01)\n",
       "  )\n",
       "  (encoder_text): Sequential(\n",
       "    (linr1): Linear(in_features=384, out_features=100, bias=True)\n",
       "    (relu1): LeakyReLU(negative_slope=0.01)\n",
       "    (linr2): Linear(in_features=100, out_features=200, bias=True)\n",
       "    (relu2): LeakyReLU(negative_slope=0.01)\n",
       "  )\n",
       "  (siamese): Sequential(\n",
       "    (linr1): Linear(in_features=600, out_features=512, bias=True)\n",
       "    (relu1): LeakyReLU(negative_slope=0.01)\n",
       "    (linr2): Linear(in_features=512, out_features=256, bias=True)\n",
       "    (relu2): LeakyReLU(negative_slope=0.01)\n",
       "    (linr3): Linear(in_features=256, out_features=100, bias=True)\n",
       "    (relu3): LeakyReLU(negative_slope=0.01)\n",
       "  )\n",
       "  (ffn): Sequential(\n",
       "    (linr1): Linear(in_features=200, out_features=164, bias=True)\n",
       "    (actv1): LeakyReLU(negative_slope=0.01)\n",
       "    (linr2): Linear(in_features=164, out_features=50, bias=True)\n",
       "    (actv2): LeakyReLU(negative_slope=0.01)\n",
       "    (linr4): Linear(in_features=50, out_features=1, bias=True)\n",
       "  )\n",
       ")"
      ]
     },
     "execution_count": 24,
     "metadata": {},
     "output_type": "execute_result"
    }
   ],
   "source": [
    "sm_net = SiameseNet()\n",
    "sm_net.to(device)"
   ]
  },
  {
   "cell_type": "code",
   "execution_count": 25,
   "id": "cd3d80be",
   "metadata": {},
   "outputs": [
    {
     "name": "stderr",
     "output_type": "stream",
     "text": [
      "3it [00:24,  8.17s/it]\n"
     ]
    },
    {
     "name": "stdout",
     "output_type": "stream",
     "text": [
      "tensor([[0.6103],\n",
      "        [0.5051],\n",
      "        [0.4884],\n",
      "        ...,\n",
      "        [0.5195],\n",
      "        [0.3315],\n",
      "        [0.2881]], device='cuda:0')\n",
      "              precision    recall  f1-score   support\n",
      "\n",
      "           0       0.44      1.00      0.61      8765\n",
      "           1       0.00      0.00      0.00     11235\n",
      "\n",
      "    accuracy                           0.44     20000\n",
      "   macro avg       0.22      0.50      0.30     20000\n",
      "weighted avg       0.19      0.44      0.27     20000\n",
      "\n"
     ]
    },
    {
     "name": "stderr",
     "output_type": "stream",
     "text": [
      "/home/sriram_1801cs37/anaconda3/envs/pytorch/lib/python3.9/site-packages/sklearn/metrics/_classification.py:1221: UndefinedMetricWarning: Precision is ill-defined and being set to 0.0 due to no predicted samples. Use `zero_division` parameter to control this behavior.\n",
      "  _warn_prf(average, modifier, msg_start, len(result))\n",
      "/home/sriram_1801cs37/anaconda3/envs/pytorch/lib/python3.9/site-packages/sklearn/metrics/_classification.py:1221: UndefinedMetricWarning: Precision and F-score are ill-defined and being set to 0.0 in labels with no predicted samples. Use `zero_division` parameter to control this behavior.\n",
      "  _warn_prf(average, modifier, msg_start, len(result))\n"
     ]
    },
    {
     "name": "stdout",
     "output_type": "stream",
     "text": [
      "Epoch-1: Loss = 7730.156\n",
      "Train RMSE = 65.552||Train Precision = 0.000||Train Recall = 0.000\n",
      "Test RMSE = 3.328 || Test Precision = 0.000|| Test Recall = 0.000\n"
     ]
    },
    {
     "name": "stderr",
     "output_type": "stream",
     "text": [
      "3it [00:21,  7.13s/it]\n"
     ]
    },
    {
     "name": "stdout",
     "output_type": "stream",
     "text": [
      "tensor([[2.5919],\n",
      "        [2.0372],\n",
      "        [3.6330],\n",
      "        ...,\n",
      "        [2.8860],\n",
      "        [2.4190],\n",
      "        [2.5707]], device='cuda:0')\n",
      "              precision    recall  f1-score   support\n",
      "\n",
      "           0       0.44      1.00      0.61      8765\n",
      "           1       0.85      0.00      0.01     11235\n",
      "\n",
      "    accuracy                           0.44     20000\n",
      "   macro avg       0.65      0.50      0.31     20000\n",
      "weighted avg       0.67      0.44      0.27     20000\n",
      "\n",
      "Epoch-2: Loss = 11.178\n",
      "Train RMSE = 3.797||Train Precision = 86.207||Train Recall = 0.303\n",
      "Test RMSE = 1.666 || Test Precision = 85.417|| Test Recall = 0.365\n"
     ]
    },
    {
     "name": "stderr",
     "output_type": "stream",
     "text": [
      "3it [00:21,  7.12s/it]\n"
     ]
    },
    {
     "name": "stdout",
     "output_type": "stream",
     "text": [
      "tensor([[5.1800],\n",
      "        [4.4941],\n",
      "        [6.7817],\n",
      "        ...,\n",
      "        [5.2520],\n",
      "        [4.2265],\n",
      "        [4.3087]], device='cuda:0')\n",
      "              precision    recall  f1-score   support\n",
      "\n",
      "           0       0.00      0.00      0.00      8765\n",
      "           1       0.56      1.00      0.72     11235\n",
      "\n",
      "    accuracy                           0.56     20000\n",
      "   macro avg       0.28      0.50      0.36     20000\n",
      "weighted avg       0.32      0.56      0.40     20000\n",
      "\n",
      "Epoch-3: Loss = 5.460\n",
      "Train RMSE = 2.584||Train Precision = 54.853||Train Recall = 100.000\n",
      "Test RMSE = 1.673 || Test Precision = 56.175|| Test Recall = 100.000\n"
     ]
    },
    {
     "name": "stderr",
     "output_type": "stream",
     "text": [
      "3it [00:21,  7.13s/it]\n"
     ]
    },
    {
     "name": "stdout",
     "output_type": "stream",
     "text": [
      "tensor([[5.3425],\n",
      "        [3.9491],\n",
      "        [7.0283],\n",
      "        ...,\n",
      "        [5.5445],\n",
      "        [4.5792],\n",
      "        [4.5445]], device='cuda:0')\n",
      "              precision    recall  f1-score   support\n",
      "\n",
      "           0       0.26      0.00      0.00      8765\n",
      "           1       0.56      1.00      0.72     11235\n",
      "\n",
      "    accuracy                           0.56     20000\n",
      "   macro avg       0.41      0.50      0.36     20000\n",
      "weighted avg       0.43      0.56      0.40     20000\n",
      "\n",
      "Epoch-4: Loss = 4.971\n",
      "Train RMSE = 2.475||Train Precision = 55.570||Train Recall = 99.397\n",
      "Test RMSE = 1.460 || Test Precision = 56.158|| Test Recall = 99.875\n"
     ]
    },
    {
     "name": "stderr",
     "output_type": "stream",
     "text": [
      "3it [00:21,  7.10s/it]\n"
     ]
    },
    {
     "name": "stdout",
     "output_type": "stream",
     "text": [
      "tensor([[4.2432],\n",
      "        [3.4480],\n",
      "        [5.3828],\n",
      "        ...,\n",
      "        [4.2736],\n",
      "        [3.1908],\n",
      "        [2.6474]], device='cuda:0')\n",
      "              precision    recall  f1-score   support\n",
      "\n",
      "           0       0.44      0.38      0.40      8765\n",
      "           1       0.56      0.62      0.59     11235\n",
      "\n",
      "    accuracy                           0.51     20000\n",
      "   macro avg       0.50      0.50      0.50     20000\n",
      "weighted avg       0.51      0.51      0.51     20000\n",
      "\n",
      "Epoch-5: Loss = 3.893\n",
      "Train RMSE = 2.147||Train Precision = 54.954||Train Recall = 73.598\n",
      "Test RMSE = 1.287 || Test Precision = 56.006|| Test Recall = 61.789\n"
     ]
    },
    {
     "name": "stderr",
     "output_type": "stream",
     "text": [
      "3it [00:21,  7.12s/it]\n"
     ]
    },
    {
     "name": "stdout",
     "output_type": "stream",
     "text": [
      "tensor([[3.5154],\n",
      "        [2.6474],\n",
      "        [4.9544],\n",
      "        ...,\n",
      "        [3.8170],\n",
      "        [3.2839],\n",
      "        [3.3794]], device='cuda:0')\n",
      "              precision    recall  f1-score   support\n",
      "\n",
      "           0       0.46      0.64      0.54      8765\n",
      "           1       0.60      0.41      0.49     11235\n",
      "\n",
      "    accuracy                           0.51     20000\n",
      "   macro avg       0.53      0.53      0.51     20000\n",
      "weighted avg       0.54      0.51      0.51     20000\n",
      "\n",
      "Epoch-6: Loss = 3.243\n",
      "Train RMSE = 1.911||Train Precision = 58.951||Train Recall = 30.387\n",
      "Test RMSE = 1.300 || Test Precision = 59.528|| Test Recall = 41.095\n"
     ]
    },
    {
     "name": "stderr",
     "output_type": "stream",
     "text": [
      "3it [00:21,  7.28s/it]\n"
     ]
    },
    {
     "name": "stdout",
     "output_type": "stream",
     "text": [
      "tensor([[3.2676],\n",
      "        [2.9338],\n",
      "        [4.2227],\n",
      "        ...,\n",
      "        [3.1140],\n",
      "        [2.7246],\n",
      "        [2.7854]], device='cuda:0')\n",
      "              precision    recall  f1-score   support\n",
      "\n",
      "           0       0.44      0.96      0.60      8765\n",
      "           1       0.62      0.05      0.09     11235\n",
      "\n",
      "    accuracy                           0.45     20000\n",
      "   macro avg       0.53      0.51      0.35     20000\n",
      "weighted avg       0.54      0.45      0.31     20000\n",
      "\n",
      "Epoch-7: Loss = 3.202\n",
      "Train RMSE = 1.896||Train Precision = 60.528||Train Recall = 14.245\n",
      "Test RMSE = 1.288 || Test Precision = 62.009|| Test Recall = 4.780\n"
     ]
    },
    {
     "name": "stderr",
     "output_type": "stream",
     "text": [
      "3it [00:21,  7.13s/it]\n"
     ]
    },
    {
     "name": "stdout",
     "output_type": "stream",
     "text": [
      "tensor([[4.1527],\n",
      "        [3.7068],\n",
      "        [5.5841],\n",
      "        ...,\n",
      "        [4.2323],\n",
      "        [3.7400],\n",
      "        [3.8452]], device='cuda:0')\n",
      "              precision    recall  f1-score   support\n",
      "\n",
      "           0       0.93      0.00      0.01      8765\n",
      "           1       0.56      1.00      0.72     11235\n",
      "\n",
      "    accuracy                           0.56     20000\n",
      "   macro avg       0.75      0.50      0.36     20000\n",
      "weighted avg       0.73      0.56      0.41     20000\n",
      "\n",
      "Epoch-8: Loss = 3.016\n",
      "Train RMSE = 1.825||Train Precision = 55.092||Train Recall = 99.970\n",
      "Test RMSE = 1.210 || Test Precision = 56.249|| Test Recall = 99.982\n"
     ]
    },
    {
     "name": "stderr",
     "output_type": "stream",
     "text": [
      "3it [00:21,  7.11s/it]\n"
     ]
    },
    {
     "name": "stdout",
     "output_type": "stream",
     "text": [
      "tensor([[4.0979],\n",
      "        [3.7004],\n",
      "        [5.3884],\n",
      "        ...,\n",
      "        [4.2040],\n",
      "        [3.6509],\n",
      "        [3.7304]], device='cuda:0')\n",
      "              precision    recall  f1-score   support\n",
      "\n",
      "           0       0.88      0.01      0.03      8765\n",
      "           1       0.56      1.00      0.72     11235\n",
      "\n",
      "    accuracy                           0.57     20000\n",
      "   macro avg       0.72      0.51      0.37     20000\n",
      "weighted avg       0.70      0.57      0.42     20000\n",
      "\n",
      "Epoch-9: Loss = 2.886\n",
      "Train RMSE = 1.772||Train Precision = 56.001||Train Recall = 99.579\n",
      "Test RMSE = 1.192 || Test Precision = 56.471|| Test Recall = 99.858\n"
     ]
    },
    {
     "name": "stderr",
     "output_type": "stream",
     "text": [
      "3it [00:21,  7.11s/it]\n"
     ]
    },
    {
     "name": "stdout",
     "output_type": "stream",
     "text": [
      "tensor([[3.3724],\n",
      "        [3.1153],\n",
      "        [4.2703],\n",
      "        ...,\n",
      "        [3.4602],\n",
      "        [2.9176],\n",
      "        [2.9657]], device='cuda:0')\n",
      "              precision    recall  f1-score   support\n",
      "\n",
      "           0       0.45      0.92      0.60      8765\n",
      "           1       0.64      0.11      0.19     11235\n",
      "\n",
      "    accuracy                           0.46     20000\n",
      "   macro avg       0.54      0.51      0.39     20000\n",
      "weighted avg       0.55      0.46      0.37     20000\n",
      "\n",
      "Epoch-10: Loss = 2.768\n",
      "Train RMSE = 1.721||Train Precision = 64.058||Train Recall = 14.814\n",
      "Test RMSE = 1.218 || Test Precision = 63.627|| Test Recall = 11.055\n"
     ]
    },
    {
     "name": "stderr",
     "output_type": "stream",
     "text": [
      "3it [00:21,  7.10s/it]\n"
     ]
    },
    {
     "name": "stdout",
     "output_type": "stream",
     "text": [
      "tensor([[3.6918],\n",
      "        [3.4257],\n",
      "        [4.6550],\n",
      "        ...,\n",
      "        [3.7855],\n",
      "        [3.2087],\n",
      "        [3.2300]], device='cuda:0')\n",
      "              precision    recall  f1-score   support\n",
      "\n",
      "           0       0.50      0.29      0.36      8765\n",
      "           1       0.58      0.77      0.66     11235\n",
      "\n",
      "    accuracy                           0.56     20000\n",
      "   macro avg       0.54      0.53      0.51     20000\n",
      "weighted avg       0.54      0.56      0.53     20000\n",
      "\n",
      "Epoch-11: Loss = 2.774\n",
      "Train RMSE = 1.725||Train Precision = 56.396||Train Recall = 79.397\n",
      "Test RMSE = 1.147 || Test Precision = 58.115|| Test Recall = 77.259\n"
     ]
    },
    {
     "name": "stderr",
     "output_type": "stream",
     "text": [
      "3it [00:21,  7.17s/it]\n"
     ]
    },
    {
     "name": "stdout",
     "output_type": "stream",
     "text": [
      "tensor([[4.0433],\n",
      "        [3.7823],\n",
      "        [5.1959],\n",
      "        ...,\n",
      "        [4.1300],\n",
      "        [3.6158],\n",
      "        [3.6047]], device='cuda:0')\n",
      "              precision    recall  f1-score   support\n",
      "\n",
      "           0       0.81      0.02      0.04      8765\n",
      "           1       0.57      1.00      0.72     11235\n",
      "\n",
      "    accuracy                           0.57     20000\n",
      "   macro avg       0.69      0.51      0.38     20000\n",
      "weighted avg       0.67      0.57      0.42     20000\n",
      "\n",
      "Epoch-12: Loss = 2.669\n",
      "Train RMSE = 1.679||Train Precision = 56.033||Train Recall = 99.338\n",
      "Test RMSE = 1.172 || Test Precision = 56.539|| Test Recall = 99.662\n"
     ]
    },
    {
     "name": "stderr",
     "output_type": "stream",
     "text": [
      "3it [00:21,  7.10s/it]\n"
     ]
    },
    {
     "name": "stdout",
     "output_type": "stream",
     "text": [
      "tensor([[3.6075],\n",
      "        [3.4455],\n",
      "        [4.6758],\n",
      "        ...,\n",
      "        [3.6779],\n",
      "        [3.2812],\n",
      "        [3.2531]], device='cuda:0')\n",
      "              precision    recall  f1-score   support\n",
      "\n",
      "           0       0.52      0.31      0.38      8765\n",
      "           1       0.59      0.78      0.67     11235\n",
      "\n",
      "    accuracy                           0.57     20000\n",
      "   macro avg       0.55      0.54      0.53     20000\n",
      "weighted avg       0.56      0.57      0.55     20000\n",
      "\n",
      "Epoch-13: Loss = 2.679\n",
      "Train RMSE = 1.684||Train Precision = 58.141||Train Recall = 74.905\n",
      "Test RMSE = 1.141 || Test Precision = 58.991|| Test Recall = 77.962\n"
     ]
    },
    {
     "name": "stderr",
     "output_type": "stream",
     "text": [
      "3it [00:21,  7.12s/it]\n"
     ]
    },
    {
     "name": "stdout",
     "output_type": "stream",
     "text": [
      "tensor([[3.4884],\n",
      "        [3.3478],\n",
      "        [4.5276],\n",
      "        ...,\n",
      "        [3.5352],\n",
      "        [3.2102],\n",
      "        [3.1480]], device='cuda:0')\n",
      "              precision    recall  f1-score   support\n",
      "\n",
      "           0       0.48      0.62      0.54      8765\n",
      "           1       0.62      0.48      0.54     11235\n",
      "\n",
      "    accuracy                           0.54     20000\n",
      "   macro avg       0.55      0.55      0.54     20000\n",
      "weighted avg       0.56      0.54      0.54     20000\n",
      "\n",
      "Epoch-14: Loss = 2.639\n",
      "Train RMSE = 1.667||Train Precision = 60.897||Train Recall = 52.228\n",
      "Test RMSE = 1.150 || Test Precision = 61.964|| Test Recall = 47.735\n"
     ]
    },
    {
     "name": "stderr",
     "output_type": "stream",
     "text": [
      "3it [00:21,  7.12s/it]\n"
     ]
    },
    {
     "name": "stdout",
     "output_type": "stream",
     "text": [
      "tensor([[3.8654],\n",
      "        [3.6357],\n",
      "        [4.9819],\n",
      "        ...,\n",
      "        [3.8355],\n",
      "        [3.5438],\n",
      "        [3.4582]], device='cuda:0')\n",
      "              precision    recall  f1-score   support\n",
      "\n",
      "           0       0.68      0.04      0.07      8765\n",
      "           1       0.57      0.99      0.72     11235\n",
      "\n",
      "    accuracy                           0.57     20000\n",
      "   macro avg       0.62      0.51      0.40     20000\n",
      "weighted avg       0.62      0.57      0.44     20000\n",
      "\n",
      "Epoch-15: Loss = 2.628\n",
      "Train RMSE = 1.663||Train Precision = 56.086||Train Recall = 98.580\n",
      "Test RMSE = 1.137 || Test Precision = 56.800|| Test Recall = 98.549\n"
     ]
    },
    {
     "name": "stderr",
     "output_type": "stream",
     "text": [
      "3it [00:21,  7.12s/it]\n"
     ]
    },
    {
     "name": "stdout",
     "output_type": "stream",
     "text": [
      "tensor([[3.8064],\n",
      "        [3.5910],\n",
      "        [4.9003],\n",
      "        ...,\n",
      "        [3.7739],\n",
      "        [3.5008],\n",
      "        [3.4166]], device='cuda:0')\n",
      "              precision    recall  f1-score   support\n",
      "\n",
      "           0       0.70      0.07      0.12      8765\n",
      "           1       0.57      0.98      0.72     11235\n",
      "\n",
      "    accuracy                           0.58     20000\n",
      "   macro avg       0.64      0.52      0.42     20000\n",
      "weighted avg       0.63      0.58      0.46     20000\n",
      "\n",
      "Epoch-16: Loss = 2.605\n",
      "Train RMSE = 1.654||Train Precision = 56.245||Train Recall = 97.404\n",
      "Test RMSE = 1.130 || Test Precision = 57.320|| Test Recall = 97.721\n"
     ]
    },
    {
     "name": "stderr",
     "output_type": "stream",
     "text": [
      "3it [00:21,  7.11s/it]\n"
     ]
    },
    {
     "name": "stdout",
     "output_type": "stream",
     "text": [
      "tensor([[3.5453],\n",
      "        [3.3807],\n",
      "        [4.5412],\n",
      "        ...,\n",
      "        [3.5263],\n",
      "        [3.2457],\n",
      "        [3.1798]], device='cuda:0')\n",
      "              precision    recall  f1-score   support\n",
      "\n",
      "           0       0.52      0.45      0.48      8765\n",
      "           1       0.61      0.68      0.64     11235\n",
      "\n",
      "    accuracy                           0.58     20000\n",
      "   macro avg       0.57      0.56      0.56     20000\n",
      "weighted avg       0.57      0.58      0.57     20000\n",
      "\n",
      "Epoch-17: Loss = 2.583\n",
      "Train RMSE = 1.645||Train Precision = 60.548||Train Recall = 69.073\n",
      "Test RMSE = 1.136 || Test Precision = 61.149|| Test Recall = 67.539\n"
     ]
    },
    {
     "name": "stderr",
     "output_type": "stream",
     "text": [
      "3it [00:21,  7.12s/it]\n"
     ]
    },
    {
     "name": "stdout",
     "output_type": "stream",
     "text": [
      "tensor([[3.6343],\n",
      "        [3.4549],\n",
      "        [4.6345],\n",
      "        ...,\n",
      "        [3.6049],\n",
      "        [3.3150],\n",
      "        [3.2559]], device='cuda:0')\n",
      "              precision    recall  f1-score   support\n",
      "\n",
      "           0       0.59      0.27      0.37      8765\n",
      "           1       0.60      0.86      0.71     11235\n",
      "\n",
      "    accuracy                           0.60     20000\n",
      "   macro avg       0.60      0.56      0.54     20000\n",
      "weighted avg       0.60      0.60      0.56     20000\n",
      "\n",
      "Epoch-18: Loss = 2.581\n",
      "Train RMSE = 1.645||Train Precision = 58.869||Train Recall = 84.892\n",
      "Test RMSE = 1.125 || Test Precision = 59.953|| Test Recall = 85.599\n"
     ]
    },
    {
     "name": "stderr",
     "output_type": "stream",
     "text": [
      "3it [00:21,  7.13s/it]\n"
     ]
    },
    {
     "name": "stdout",
     "output_type": "stream",
     "text": [
      "tensor([[3.8176],\n",
      "        [3.6059],\n",
      "        [4.8302],\n",
      "        ...,\n",
      "        [3.7592],\n",
      "        [3.4366],\n",
      "        [3.3843]], device='cuda:0')\n",
      "              precision    recall  f1-score   support\n",
      "\n",
      "           0       0.69      0.11      0.18      8765\n",
      "           1       0.58      0.96      0.72     11235\n",
      "\n",
      "    accuracy                           0.59     20000\n",
      "   macro avg       0.63      0.53      0.45     20000\n",
      "weighted avg       0.63      0.59      0.49     20000\n",
      "\n",
      "Epoch-19: Loss = 2.555\n",
      "Train RMSE = 1.635||Train Precision = 57.169||Train Recall = 95.962\n",
      "Test RMSE = 1.119 || Test Precision = 57.965|| Test Recall = 96.253\n"
     ]
    },
    {
     "name": "stderr",
     "output_type": "stream",
     "text": [
      "3it [00:21,  7.13s/it]\n"
     ]
    },
    {
     "name": "stdout",
     "output_type": "stream",
     "text": [
      "tensor([[3.8484],\n",
      "        [3.6360],\n",
      "        [4.8285],\n",
      "        ...,\n",
      "        [3.7634],\n",
      "        [3.4062],\n",
      "        [3.3419]], device='cuda:0')\n",
      "              precision    recall  f1-score   support\n",
      "\n",
      "           0       0.69      0.12      0.20      8765\n",
      "           1       0.58      0.96      0.72     11235\n",
      "\n",
      "    accuracy                           0.59     20000\n",
      "   macro avg       0.64      0.54      0.46     20000\n",
      "weighted avg       0.63      0.59      0.50     20000\n",
      "\n",
      "Epoch-20: Loss = 2.547\n",
      "Train RMSE = 1.632||Train Precision = 57.706||Train Recall = 95.683\n",
      "Test RMSE = 1.116 || Test Precision = 58.259|| Test Recall = 95.870\n"
     ]
    },
    {
     "name": "stderr",
     "output_type": "stream",
     "text": [
      "3it [00:21,  7.12s/it]\n"
     ]
    },
    {
     "name": "stdout",
     "output_type": "stream",
     "text": [
      "tensor([[3.9038],\n",
      "        [3.6671],\n",
      "        [4.8511],\n",
      "        ...,\n",
      "        [3.7872],\n",
      "        [3.4131],\n",
      "        [3.3455]], device='cuda:0')\n",
      "              precision    recall  f1-score   support\n",
      "\n",
      "           0       0.68      0.14      0.23      8765\n",
      "           1       0.59      0.95      0.72     11235\n",
      "\n",
      "    accuracy                           0.59     20000\n",
      "   macro avg       0.64      0.54      0.48     20000\n",
      "weighted avg       0.63      0.59      0.51     20000\n",
      "\n",
      "Epoch-21: Loss = 2.527\n",
      "Train RMSE = 1.625||Train Precision = 57.642||Train Recall = 94.491\n",
      "Test RMSE = 1.112 || Test Precision = 58.593|| Test Recall = 94.980\n"
     ]
    },
    {
     "name": "stderr",
     "output_type": "stream",
     "text": [
      "3it [00:21,  7.13s/it]\n"
     ]
    },
    {
     "name": "stdout",
     "output_type": "stream",
     "text": [
      "tensor([[3.9205],\n",
      "        [3.6852],\n",
      "        [4.8283],\n",
      "        ...,\n",
      "        [3.8009],\n",
      "        [3.4219],\n",
      "        [3.3350]], device='cuda:0')\n",
      "              precision    recall  f1-score   support\n",
      "\n",
      "           0       0.67      0.17      0.27      8765\n",
      "           1       0.59      0.93      0.72     11235\n",
      "\n",
      "    accuracy                           0.60     20000\n",
      "   macro avg       0.63      0.55      0.50     20000\n",
      "weighted avg       0.62      0.60      0.53     20000\n",
      "\n",
      "Epoch-22: Loss = 2.507\n",
      "Train RMSE = 1.617||Train Precision = 57.934||Train Recall = 92.668\n",
      "Test RMSE = 1.107 || Test Precision = 59.055|| Test Recall = 93.316\n"
     ]
    },
    {
     "name": "stderr",
     "output_type": "stream",
     "text": [
      "3it [00:21,  7.11s/it]\n"
     ]
    },
    {
     "name": "stdout",
     "output_type": "stream",
     "text": [
      "tensor([[3.9498],\n",
      "        [3.7233],\n",
      "        [4.8418],\n",
      "        ...,\n",
      "        [3.8215],\n",
      "        [3.4334],\n",
      "        [3.3225]], device='cuda:0')\n",
      "              precision    recall  f1-score   support\n",
      "\n",
      "           0       0.67      0.17      0.27      8765\n",
      "           1       0.59      0.93      0.72     11235\n",
      "\n",
      "    accuracy                           0.60     20000\n",
      "   macro avg       0.63      0.55      0.50     20000\n",
      "weighted avg       0.63      0.60      0.53     20000\n",
      "\n",
      "Epoch-23: Loss = 2.495\n",
      "Train RMSE = 1.613||Train Precision = 58.141||Train Recall = 92.958\n",
      "Test RMSE = 1.104 || Test Precision = 59.098|| Test Recall = 93.405\n"
     ]
    },
    {
     "name": "stderr",
     "output_type": "stream",
     "text": [
      "3it [00:21,  7.14s/it]\n"
     ]
    },
    {
     "name": "stdout",
     "output_type": "stream",
     "text": [
      "tensor([[3.8906],\n",
      "        [3.6789],\n",
      "        [4.7684],\n",
      "        ...,\n",
      "        [3.7903],\n",
      "        [3.4243],\n",
      "        [3.3097]], device='cuda:0')\n",
      "              precision    recall  f1-score   support\n",
      "\n",
      "           0       0.65      0.24      0.35      8765\n",
      "           1       0.60      0.90      0.72     11235\n",
      "\n",
      "    accuracy                           0.61     20000\n",
      "   macro avg       0.62      0.57      0.53     20000\n",
      "weighted avg       0.62      0.61      0.56     20000\n",
      "\n",
      "Epoch-24: Loss = 2.488\n",
      "Train RMSE = 1.611||Train Precision = 59.450||Train Recall = 88.205\n",
      "Test RMSE = 1.099 || Test Precision = 60.143|| Test Recall = 89.853\n"
     ]
    },
    {
     "name": "stderr",
     "output_type": "stream",
     "text": [
      "3it [00:21,  7.09s/it]\n"
     ]
    },
    {
     "name": "stdout",
     "output_type": "stream",
     "text": [
      "tensor([[3.8317],\n",
      "        [3.6394],\n",
      "        [4.6900],\n",
      "        ...,\n",
      "        [3.7467],\n",
      "        [3.3986],\n",
      "        [3.2769]], device='cuda:0')\n",
      "              precision    recall  f1-score   support\n",
      "\n",
      "           0       0.62      0.31      0.41      8765\n",
      "           1       0.61      0.85      0.71     11235\n",
      "\n",
      "    accuracy                           0.62     20000\n",
      "   macro avg       0.62      0.58      0.56     20000\n",
      "weighted avg       0.62      0.62      0.58     20000\n",
      "\n",
      "Epoch-25: Loss = 2.467\n",
      "Train RMSE = 1.602||Train Precision = 60.971||Train Recall = 83.841\n",
      "Test RMSE = 1.096 || Test Precision = 61.314|| Test Recall = 85.447\n"
     ]
    },
    {
     "name": "stderr",
     "output_type": "stream",
     "text": [
      "3it [00:21,  7.13s/it]\n"
     ]
    },
    {
     "name": "stdout",
     "output_type": "stream",
     "text": [
      "tensor([[3.7016],\n",
      "        [3.5394],\n",
      "        [4.5208],\n",
      "        ...,\n",
      "        [3.6550],\n",
      "        [3.3193],\n",
      "        [3.1963]], device='cuda:0')\n",
      "              precision    recall  f1-score   support\n",
      "\n",
      "           0       0.57      0.48      0.52      8765\n",
      "           1       0.64      0.72      0.68     11235\n",
      "\n",
      "    accuracy                           0.61     20000\n",
      "   macro avg       0.61      0.60      0.60     20000\n",
      "weighted avg       0.61      0.61      0.61     20000\n",
      "\n",
      "Epoch-26: Loss = 2.461\n",
      "Train RMSE = 1.601||Train Precision = 63.958||Train Recall = 69.874\n",
      "Test RMSE = 1.104 || Test Precision = 63.881|| Test Recall = 72.052\n"
     ]
    },
    {
     "name": "stderr",
     "output_type": "stream",
     "text": [
      "3it [00:21,  7.12s/it]\n"
     ]
    },
    {
     "name": "stdout",
     "output_type": "stream",
     "text": [
      "tensor([[3.8553],\n",
      "        [3.7182],\n",
      "        [4.6890],\n",
      "        ...,\n",
      "        [3.8295],\n",
      "        [3.4614],\n",
      "        [3.3009]], device='cuda:0')\n",
      "              precision    recall  f1-score   support\n",
      "\n",
      "           0       0.66      0.27      0.38      8765\n",
      "           1       0.61      0.89      0.72     11235\n",
      "\n",
      "    accuracy                           0.62     20000\n",
      "   macro avg       0.63      0.58      0.55     20000\n",
      "weighted avg       0.63      0.62      0.57     20000\n",
      "\n",
      "Epoch-27: Loss = 2.475\n",
      "Train RMSE = 1.609||Train Precision = 60.930||Train Recall = 86.987\n",
      "Test RMSE = 1.088 || Test Precision = 60.900|| Test Recall = 89.114\n"
     ]
    },
    {
     "name": "stderr",
     "output_type": "stream",
     "text": [
      "3it [00:21,  7.11s/it]\n"
     ]
    },
    {
     "name": "stdout",
     "output_type": "stream",
     "text": [
      "tensor([[3.9477],\n",
      "        [3.8155],\n",
      "        [4.7871],\n",
      "        ...,\n",
      "        [3.8888],\n",
      "        [3.5325],\n",
      "        [3.3431]], device='cuda:0')\n",
      "              precision    recall  f1-score   support\n",
      "\n",
      "           0       0.70      0.19      0.30      8765\n",
      "           1       0.60      0.93      0.73     11235\n",
      "\n",
      "    accuracy                           0.61     20000\n",
      "   macro avg       0.65      0.56      0.51     20000\n",
      "weighted avg       0.64      0.61      0.54     20000\n",
      "\n",
      "Epoch-28: Loss = 2.445\n",
      "Train RMSE = 1.596||Train Precision = 59.237||Train Recall = 92.221\n",
      "Test RMSE = 1.087 || Test Precision = 59.717|| Test Recall = 93.458\n"
     ]
    },
    {
     "name": "stderr",
     "output_type": "stream",
     "text": [
      "3it [00:21,  7.14s/it]\n"
     ]
    },
    {
     "name": "stdout",
     "output_type": "stream",
     "text": [
      "tensor([[4.0141],\n",
      "        [3.8795],\n",
      "        [4.8533],\n",
      "        ...,\n",
      "        [3.9194],\n",
      "        [3.5929],\n",
      "        [3.3739]], device='cuda:0')\n",
      "              precision    recall  f1-score   support\n",
      "\n",
      "           0       0.71      0.17      0.28      8765\n",
      "           1       0.59      0.95      0.73     11235\n",
      "\n",
      "    accuracy                           0.61     20000\n",
      "   macro avg       0.65      0.56      0.50     20000\n",
      "weighted avg       0.64      0.61      0.53     20000\n",
      "\n",
      "Epoch-29: Loss = 2.424\n",
      "Train RMSE = 1.588||Train Precision = 59.148||Train Recall = 93.425\n",
      "Test RMSE = 1.087 || Test Precision = 59.380|| Test Recall = 94.517\n"
     ]
    },
    {
     "name": "stderr",
     "output_type": "stream",
     "text": [
      "3it [00:21,  7.11s/it]\n"
     ]
    },
    {
     "name": "stdout",
     "output_type": "stream",
     "text": [
      "tensor([[3.9720],\n",
      "        [3.8603],\n",
      "        [4.8034],\n",
      "        ...,\n",
      "        [3.8827],\n",
      "        [3.5772],\n",
      "        [3.3341]], device='cuda:0')\n",
      "              precision    recall  f1-score   support\n",
      "\n",
      "           0       0.69      0.23      0.35      8765\n",
      "           1       0.61      0.92      0.73     11235\n",
      "\n",
      "    accuracy                           0.62     20000\n",
      "   macro avg       0.65      0.58      0.54     20000\n",
      "weighted avg       0.64      0.62      0.56     20000\n",
      "\n",
      "Epoch-30: Loss = 2.418\n",
      "Train RMSE = 1.587||Train Precision = 60.515||Train Recall = 90.402\n",
      "Test RMSE = 1.081 || Test Precision = 60.578|| Test Recall = 91.927\n"
     ]
    },
    {
     "name": "stderr",
     "output_type": "stream",
     "text": [
      "3it [00:21,  7.14s/it]\n"
     ]
    },
    {
     "name": "stdout",
     "output_type": "stream",
     "text": [
      "tensor([[3.8577],\n",
      "        [3.7862],\n",
      "        [4.6664],\n",
      "        ...,\n",
      "        [3.8005],\n",
      "        [3.5085],\n",
      "        [3.2378]], device='cuda:0')\n",
      "              precision    recall  f1-score   support\n",
      "\n",
      "           0       0.63      0.36      0.46      8765\n",
      "           1       0.63      0.84      0.72     11235\n",
      "\n",
      "    accuracy                           0.63     20000\n",
      "   macro avg       0.63      0.60      0.59     20000\n",
      "weighted avg       0.63      0.63      0.60     20000\n",
      "\n",
      "Epoch-31: Loss = 2.407\n",
      "Train RMSE = 1.583||Train Precision = 62.729||Train Recall = 83.445\n",
      "Test RMSE = 1.078 || Test Precision = 62.705|| Test Recall = 83.685\n"
     ]
    },
    {
     "name": "stderr",
     "output_type": "stream",
     "text": [
      "3it [00:21,  7.11s/it]\n"
     ]
    },
    {
     "name": "stdout",
     "output_type": "stream",
     "text": [
      "tensor([[3.6556],\n",
      "        [3.6106],\n",
      "        [4.4413],\n",
      "        ...,\n",
      "        [3.6392],\n",
      "        [3.3937],\n",
      "        [3.1095]], device='cuda:0')\n",
      "              precision    recall  f1-score   support\n",
      "\n",
      "           0       0.56      0.62      0.59      8765\n",
      "           1       0.67      0.62      0.65     11235\n",
      "\n",
      "    accuracy                           0.62     20000\n",
      "   macro avg       0.62      0.62      0.62     20000\n",
      "weighted avg       0.62      0.62      0.62     20000\n",
      "\n",
      "Epoch-32: Loss = 2.394\n",
      "Train RMSE = 1.578||Train Precision = 67.879||Train Recall = 60.574\n",
      "Test RMSE = 1.100 || Test Precision = 67.480|| Test Recall = 62.261\n"
     ]
    },
    {
     "name": "stderr",
     "output_type": "stream",
     "text": [
      "3it [00:21,  7.10s/it]\n"
     ]
    },
    {
     "name": "stdout",
     "output_type": "stream",
     "text": [
      "tensor([[3.8431],\n",
      "        [3.8159],\n",
      "        [4.6671],\n",
      "        ...,\n",
      "        [3.7918],\n",
      "        [3.5379],\n",
      "        [3.2103]], device='cuda:0')\n",
      "              precision    recall  f1-score   support\n",
      "\n",
      "           0       0.63      0.39      0.48      8765\n",
      "           1       0.63      0.83      0.72     11235\n",
      "\n",
      "    accuracy                           0.63     20000\n",
      "   macro avg       0.63      0.61      0.60     20000\n",
      "weighted avg       0.63      0.63      0.61     20000\n",
      "\n",
      "Epoch-33: Loss = 2.424\n",
      "Train RMSE = 1.594||Train Precision = 63.283||Train Recall = 81.636\n",
      "Test RMSE = 1.075 || Test Precision = 63.310|| Test Recall = 82.537\n"
     ]
    },
    {
     "name": "stderr",
     "output_type": "stream",
     "text": [
      "3it [00:21,  7.15s/it]\n"
     ]
    },
    {
     "name": "stdout",
     "output_type": "stream",
     "text": [
      "tensor([[3.9550],\n",
      "        [3.9586],\n",
      "        [4.8104],\n",
      "        ...,\n",
      "        [3.8575],\n",
      "        [3.6410],\n",
      "        [3.2784]], device='cuda:0')\n",
      "              precision    recall  f1-score   support\n",
      "\n",
      "           0       0.68      0.28      0.40      8765\n",
      "           1       0.62      0.90      0.73     11235\n",
      "\n",
      "    accuracy                           0.63     20000\n",
      "   macro avg       0.65      0.59      0.57     20000\n",
      "weighted avg       0.65      0.63      0.59     20000\n",
      "\n",
      "Epoch-34: Loss = 2.374\n",
      "Train RMSE = 1.572||Train Precision = 61.297||Train Recall = 88.219\n",
      "Test RMSE = 1.072 || Test Precision = 61.610|| Test Recall = 89.693\n"
     ]
    },
    {
     "name": "stderr",
     "output_type": "stream",
     "text": [
      "3it [00:21,  7.11s/it]\n"
     ]
    },
    {
     "name": "stdout",
     "output_type": "stream",
     "text": [
      "tensor([[4.0191],\n",
      "        [4.0488],\n",
      "        [4.8749],\n",
      "        ...,\n",
      "        [3.9053],\n",
      "        [3.7064],\n",
      "        [3.3062]], device='cuda:0')\n",
      "              precision    recall  f1-score   support\n",
      "\n",
      "           0       0.70      0.25      0.37      8765\n",
      "           1       0.61      0.92      0.73     11235\n",
      "\n",
      "    accuracy                           0.62     20000\n",
      "   macro avg       0.66      0.58      0.55     20000\n",
      "weighted avg       0.65      0.62      0.57     20000\n",
      "\n",
      "Epoch-35: Loss = 2.349\n",
      "Train RMSE = 1.561||Train Precision = 60.195||Train Recall = 90.406\n",
      "Test RMSE = 1.073 || Test Precision = 61.086|| Test Recall = 91.518\n"
     ]
    },
    {
     "name": "stderr",
     "output_type": "stream",
     "text": [
      "3it [00:21,  7.13s/it]\n"
     ]
    },
    {
     "name": "stdout",
     "output_type": "stream",
     "text": [
      "tensor([[3.8630],\n",
      "        [3.9221],\n",
      "        [4.6914],\n",
      "        ...,\n",
      "        [3.8038],\n",
      "        [3.6415],\n",
      "        [3.2085]], device='cuda:0')\n",
      "              precision    recall  f1-score   support\n",
      "\n",
      "           0       0.65      0.39      0.49      8765\n",
      "           1       0.64      0.83      0.72     11235\n",
      "\n",
      "    accuracy                           0.64     20000\n",
      "   macro avg       0.64      0.61      0.60     20000\n",
      "weighted avg       0.64      0.64      0.62     20000\n",
      "\n",
      "Epoch-36: Loss = 2.353\n",
      "Train RMSE = 1.564||Train Precision = 63.665||Train Recall = 82.530\n",
      "Test RMSE = 1.067 || Test Precision = 63.705|| Test Recall = 83.160\n"
     ]
    },
    {
     "name": "stderr",
     "output_type": "stream",
     "text": [
      "3it [00:21,  7.11s/it]\n"
     ]
    },
    {
     "name": "stdout",
     "output_type": "stream",
     "text": [
      "tensor([[3.7097],\n",
      "        [3.7896],\n",
      "        [4.5103],\n",
      "        ...,\n",
      "        [3.6935],\n",
      "        [3.5669],\n",
      "        [3.1125]], device='cuda:0')\n",
      "              precision    recall  f1-score   support\n",
      "\n",
      "           0       0.60      0.55      0.57      8765\n",
      "           1       0.67      0.71      0.69     11235\n",
      "\n",
      "    accuracy                           0.64     20000\n",
      "   macro avg       0.64      0.63      0.63     20000\n",
      "weighted avg       0.64      0.64      0.64     20000\n",
      "\n",
      "Epoch-37: Loss = 2.331\n",
      "Train RMSE = 1.555||Train Precision = 66.959||Train Recall = 69.565\n",
      "Test RMSE = 1.075 || Test Precision = 67.003|| Test Recall = 71.482\n"
     ]
    },
    {
     "name": "stderr",
     "output_type": "stream",
     "text": [
      "3it [00:21,  7.10s/it]\n"
     ]
    },
    {
     "name": "stdout",
     "output_type": "stream",
     "text": [
      "tensor([[3.8590],\n",
      "        [3.9574],\n",
      "        [4.6750],\n",
      "        ...,\n",
      "        [3.8159],\n",
      "        [3.6863],\n",
      "        [3.1730]], device='cuda:0')\n",
      "              precision    recall  f1-score   support\n",
      "\n",
      "           0       0.64      0.41      0.50      8765\n",
      "           1       0.64      0.82      0.72     11235\n",
      "\n",
      "    accuracy                           0.64     20000\n",
      "   macro avg       0.64      0.62      0.61     20000\n",
      "weighted avg       0.64      0.64      0.63     20000\n",
      "\n",
      "Epoch-38: Loss = 2.341\n",
      "Train RMSE = 1.561||Train Precision = 63.912||Train Recall = 81.795\n",
      "Test RMSE = 1.063 || Test Precision = 64.205|| Test Recall = 82.252\n"
     ]
    },
    {
     "name": "stderr",
     "output_type": "stream",
     "text": [
      "3it [00:21,  7.13s/it]\n"
     ]
    },
    {
     "name": "stdout",
     "output_type": "stream",
     "text": [
      "tensor([[4.0832],\n",
      "        [4.1900],\n",
      "        [4.9371],\n",
      "        ...,\n",
      "        [4.0222],\n",
      "        [3.9047],\n",
      "        [3.3298]], device='cuda:0')\n",
      "              precision    recall  f1-score   support\n",
      "\n",
      "           0       0.73      0.23      0.35      8765\n",
      "           1       0.61      0.93      0.74     11235\n",
      "\n",
      "    accuracy                           0.63     20000\n",
      "   macro avg       0.67      0.58      0.54     20000\n",
      "weighted avg       0.66      0.63      0.57     20000\n",
      "\n",
      "Epoch-39: Loss = 2.320\n",
      "Train RMSE = 1.552||Train Precision = 60.439||Train Recall = 92.101\n",
      "Test RMSE = 1.073 || Test Precision = 60.855|| Test Recall = 93.235\n"
     ]
    },
    {
     "name": "stderr",
     "output_type": "stream",
     "text": [
      "3it [00:21,  7.10s/it]\n"
     ]
    },
    {
     "name": "stdout",
     "output_type": "stream",
     "text": [
      "tensor([[3.8439],\n",
      "        [3.9783],\n",
      "        [4.6296],\n",
      "        ...,\n",
      "        [3.7394],\n",
      "        [3.6977],\n",
      "        [3.1094]], device='cuda:0')\n",
      "              precision    recall  f1-score   support\n",
      "\n",
      "           0       0.64      0.46      0.54      8765\n",
      "           1       0.65      0.79      0.72     11235\n",
      "\n",
      "    accuracy                           0.65     20000\n",
      "   macro avg       0.65      0.63      0.63     20000\n",
      "weighted avg       0.65      0.65      0.64     20000\n",
      "\n",
      "Epoch-40: Loss = 2.335\n",
      "Train RMSE = 1.561||Train Precision = 64.979||Train Recall = 79.079\n",
      "Test RMSE = 1.060 || Test Precision = 65.488|| Test Recall = 79.430\n"
     ]
    },
    {
     "name": "stderr",
     "output_type": "stream",
     "text": [
      "3it [00:21,  7.12s/it]\n"
     ]
    },
    {
     "name": "stdout",
     "output_type": "stream",
     "text": [
      "tensor([[3.6853],\n",
      "        [3.8366],\n",
      "        [4.4693],\n",
      "        ...,\n",
      "        [3.6503],\n",
      "        [3.6620],\n",
      "        [3.0534]], device='cuda:0')\n",
      "              precision    recall  f1-score   support\n",
      "\n",
      "           0       0.59      0.59      0.59      8765\n",
      "           1       0.68      0.68      0.68     11235\n",
      "\n",
      "    accuracy                           0.64     20000\n",
      "   macro avg       0.63      0.63      0.63     20000\n",
      "weighted avg       0.64      0.64      0.64     20000\n",
      "\n",
      "Epoch-41: Loss = 2.296\n",
      "Train RMSE = 1.543||Train Precision = 68.803||Train Recall = 64.865\n",
      "Test RMSE = 1.073 || Test Precision = 68.063|| Test Recall = 67.681\n"
     ]
    },
    {
     "name": "stderr",
     "output_type": "stream",
     "text": [
      "3it [00:21,  7.10s/it]\n"
     ]
    },
    {
     "name": "stdout",
     "output_type": "stream",
     "text": [
      "tensor([[4.0412],\n",
      "        [4.1937],\n",
      "        [4.8992],\n",
      "        ...,\n",
      "        [3.9896],\n",
      "        [3.9685],\n",
      "        [3.2981]], device='cuda:0')\n",
      "              precision    recall  f1-score   support\n",
      "\n",
      "           0       0.73      0.25      0.37      8765\n",
      "           1       0.61      0.93      0.74     11235\n",
      "\n",
      "    accuracy                           0.63     20000\n",
      "   macro avg       0.67      0.59      0.55     20000\n",
      "weighted avg       0.66      0.63      0.58     20000\n",
      "\n",
      "Epoch-42: Loss = 2.367\n",
      "Train RMSE = 1.578||Train Precision = 60.451||Train Recall = 92.256\n",
      "Test RMSE = 1.067 || Test Precision = 61.297|| Test Recall = 92.897\n"
     ]
    },
    {
     "name": "stderr",
     "output_type": "stream",
     "text": [
      "3it [00:21,  7.09s/it]\n"
     ]
    },
    {
     "name": "stdout",
     "output_type": "stream",
     "text": [
      "tensor([[4.0627],\n",
      "        [4.1996],\n",
      "        [4.9341],\n",
      "        ...,\n",
      "        [4.0115],\n",
      "        [3.9697],\n",
      "        [3.2984]], device='cuda:0')\n",
      "              precision    recall  f1-score   support\n",
      "\n",
      "           0       0.74      0.23      0.35      8765\n",
      "           1       0.61      0.93      0.74     11235\n",
      "\n",
      "    accuracy                           0.63     20000\n",
      "   macro avg       0.67      0.58      0.55     20000\n",
      "weighted avg       0.66      0.63      0.57     20000\n",
      "\n",
      "Epoch-43: Loss = 2.293\n",
      "Train RMSE = 1.544||Train Precision = 60.399||Train Recall = 93.055\n",
      "Test RMSE = 1.069 || Test Precision = 60.978|| Test Recall = 93.440\n"
     ]
    },
    {
     "name": "stderr",
     "output_type": "stream",
     "text": [
      "3it [00:21,  7.11s/it]\n"
     ]
    },
    {
     "name": "stdout",
     "output_type": "stream",
     "text": [
      "tensor([[3.9484],\n",
      "        [4.0756],\n",
      "        [4.8297],\n",
      "        ...,\n",
      "        [3.9193],\n",
      "        [3.8999],\n",
      "        [3.2314]], device='cuda:0')\n",
      "              precision    recall  f1-score   support\n",
      "\n",
      "           0       0.69      0.35      0.46      8765\n",
      "           1       0.63      0.88      0.73     11235\n",
      "\n",
      "    accuracy                           0.64     20000\n",
      "   macro avg       0.66      0.61      0.60     20000\n",
      "weighted avg       0.66      0.64      0.61     20000\n",
      "\n",
      "Epoch-44: Loss = 2.315\n",
      "Train RMSE = 1.556||Train Precision = 62.294||Train Recall = 87.753\n",
      "Test RMSE = 1.054 || Test Precision = 63.203|| Test Recall = 87.646\n"
     ]
    },
    {
     "name": "stderr",
     "output_type": "stream",
     "text": [
      "3it [00:21,  7.07s/it]\n"
     ]
    },
    {
     "name": "stdout",
     "output_type": "stream",
     "text": [
      "tensor([[3.7290],\n",
      "        [3.8728],\n",
      "        [4.5829],\n",
      "        ...,\n",
      "        [3.7171],\n",
      "        [3.7164],\n",
      "        [3.0678]], device='cuda:0')\n",
      "              precision    recall  f1-score   support\n",
      "\n",
      "           0       0.62      0.55      0.58      8765\n",
      "           1       0.68      0.74      0.71     11235\n",
      "\n",
      "    accuracy                           0.65     20000\n",
      "   macro avg       0.65      0.64      0.64     20000\n",
      "weighted avg       0.65      0.65      0.65     20000\n",
      "\n",
      "Epoch-45: Loss = 2.292\n",
      "Train RMSE = 1.545||Train Precision = 67.381||Train Recall = 73.181\n",
      "Test RMSE = 1.058 || Test Precision = 67.535|| Test Recall = 73.823\n"
     ]
    },
    {
     "name": "stderr",
     "output_type": "stream",
     "text": [
      "3it [00:21,  7.11s/it]\n"
     ]
    },
    {
     "name": "stdout",
     "output_type": "stream",
     "text": [
      "tensor([[3.7209],\n",
      "        [3.8812],\n",
      "        [4.5664],\n",
      "        ...,\n",
      "        [3.6978],\n",
      "        [3.6952],\n",
      "        [3.0394]], device='cuda:0')\n",
      "              precision    recall  f1-score   support\n",
      "\n",
      "           0       0.62      0.56      0.59      8765\n",
      "           1       0.68      0.73      0.70     11235\n",
      "\n",
      "    accuracy                           0.65     20000\n",
      "   macro avg       0.65      0.64      0.64     20000\n",
      "weighted avg       0.65      0.65      0.65     20000\n",
      "\n",
      "Epoch-46: Loss = 2.258\n",
      "Train RMSE = 1.530||Train Precision = 67.812||Train Recall = 72.429\n",
      "Test RMSE = 1.057 || Test Precision = 67.874|| Test Recall = 73.075\n"
     ]
    },
    {
     "name": "stderr",
     "output_type": "stream",
     "text": [
      "3it [00:21,  7.08s/it]\n"
     ]
    },
    {
     "name": "stdout",
     "output_type": "stream",
     "text": [
      "tensor([[3.9468],\n",
      "        [4.0977],\n",
      "        [4.8231],\n",
      "        ...,\n",
      "        [3.9212],\n",
      "        [3.9008],\n",
      "        [3.2144]], device='cuda:0')\n",
      "              precision    recall  f1-score   support\n",
      "\n",
      "           0       0.68      0.36      0.47      8765\n",
      "           1       0.64      0.87      0.73     11235\n",
      "\n",
      "    accuracy                           0.65     20000\n",
      "   macro avg       0.66      0.62      0.60     20000\n",
      "weighted avg       0.66      0.65      0.62     20000\n",
      "\n",
      "Epoch-47: Loss = 2.260\n",
      "Train RMSE = 1.532||Train Precision = 62.964||Train Recall = 86.730\n",
      "Test RMSE = 1.050 || Test Precision = 63.611|| Test Recall = 86.836\n"
     ]
    },
    {
     "name": "stderr",
     "output_type": "stream",
     "text": [
      "3it [00:21,  7.10s/it]\n"
     ]
    },
    {
     "name": "stdout",
     "output_type": "stream",
     "text": [
      "tensor([[3.9299],\n",
      "        [4.0651],\n",
      "        [4.7794],\n",
      "        ...,\n",
      "        [3.8648],\n",
      "        [3.8466],\n",
      "        [3.1684]], device='cuda:0')\n",
      "              precision    recall  f1-score   support\n",
      "\n",
      "           0       0.67      0.40      0.50      8765\n",
      "           1       0.64      0.85      0.73     11235\n",
      "\n",
      "    accuracy                           0.65     20000\n",
      "   macro avg       0.66      0.62      0.62     20000\n",
      "weighted avg       0.66      0.65      0.63     20000\n",
      "\n",
      "Epoch-48: Loss = 2.237\n",
      "Train RMSE = 1.522||Train Precision = 63.857||Train Recall = 84.782\n",
      "Test RMSE = 1.047 || Test Precision = 64.415|| Test Recall = 85.056\n"
     ]
    },
    {
     "name": "stderr",
     "output_type": "stream",
     "text": [
      "3it [00:21,  7.13s/it]\n"
     ]
    },
    {
     "name": "stdout",
     "output_type": "stream",
     "text": [
      "tensor([[3.8011],\n",
      "        [3.9490],\n",
      "        [4.6254],\n",
      "        ...,\n",
      "        [3.7720],\n",
      "        [3.7682],\n",
      "        [3.0984]], device='cuda:0')\n",
      "              precision    recall  f1-score   support\n",
      "\n",
      "           0       0.64      0.49      0.56      8765\n",
      "           1       0.66      0.79      0.72     11235\n",
      "\n",
      "    accuracy                           0.66     20000\n",
      "   macro avg       0.65      0.64      0.64     20000\n",
      "weighted avg       0.65      0.66      0.65     20000\n",
      "\n",
      "Epoch-49: Loss = 2.232\n",
      "Train RMSE = 1.521||Train Precision = 66.218||Train Recall = 78.470\n",
      "Test RMSE = 1.046 || Test Precision = 66.388|| Test Recall = 78.585\n"
     ]
    },
    {
     "name": "stderr",
     "output_type": "stream",
     "text": [
      "3it [00:21,  7.09s/it]\n"
     ]
    },
    {
     "name": "stdout",
     "output_type": "stream",
     "text": [
      "tensor([[3.8031],\n",
      "        [3.9474],\n",
      "        [4.6247],\n",
      "        ...,\n",
      "        [3.7988],\n",
      "        [3.7969],\n",
      "        [3.1387]], device='cuda:0')\n",
      "              precision    recall  f1-score   support\n",
      "\n",
      "           0       0.65      0.47      0.54      8765\n",
      "           1       0.66      0.81      0.73     11235\n",
      "\n",
      "    accuracy                           0.66     20000\n",
      "   macro avg       0.66      0.64      0.64     20000\n",
      "weighted avg       0.66      0.66      0.65     20000\n",
      "\n",
      "Epoch-50: Loss = 2.219\n",
      "Train RMSE = 1.515||Train Precision = 65.587||Train Recall = 80.715\n",
      "Test RMSE = 1.044 || Test Precision = 65.976|| Test Recall = 80.792\n"
     ]
    },
    {
     "name": "stderr",
     "output_type": "stream",
     "text": [
      "3it [00:21,  7.12s/it]\n"
     ]
    },
    {
     "name": "stdout",
     "output_type": "stream",
     "text": [
      "tensor([[4.1479],\n",
      "        [4.2573],\n",
      "        [4.9848],\n",
      "        ...,\n",
      "        [4.0752],\n",
      "        [4.0301],\n",
      "        [3.3306]], device='cuda:0')\n",
      "              precision    recall  f1-score   support\n",
      "\n",
      "           0       0.75      0.26      0.39      8765\n",
      "           1       0.62      0.93      0.74     11235\n",
      "\n",
      "    accuracy                           0.64     20000\n",
      "   macro avg       0.68      0.60      0.56     20000\n",
      "weighted avg       0.68      0.64      0.59     20000\n",
      "\n",
      "Epoch-51: Loss = 2.227\n",
      "Train RMSE = 1.521||Train Precision = 60.490||Train Recall = 93.093\n",
      "Test RMSE = 1.070 || Test Precision = 61.749|| Test Recall = 93.209\n"
     ]
    },
    {
     "name": "stderr",
     "output_type": "stream",
     "text": [
      "3it [00:21,  7.10s/it]\n"
     ]
    },
    {
     "name": "stdout",
     "output_type": "stream",
     "text": [
      "tensor([[3.0848],\n",
      "        [3.2091],\n",
      "        [3.8643],\n",
      "        ...,\n",
      "        [3.1593],\n",
      "        [3.2164],\n",
      "        [2.6835]], device='cuda:0')\n",
      "              precision    recall  f1-score   support\n",
      "\n",
      "           0       0.47      0.95      0.63      8765\n",
      "           1       0.81      0.17      0.28     11235\n",
      "\n",
      "    accuracy                           0.51     20000\n",
      "   macro avg       0.64      0.56      0.46     20000\n",
      "weighted avg       0.66      0.51      0.43     20000\n",
      "\n",
      "Epoch-52: Loss = 2.571\n",
      "Train RMSE = 1.680||Train Precision = 80.911||Train Recall = 14.155\n",
      "Test RMSE = 1.210 || Test Precision = 81.098|| Test Recall = 16.956\n"
     ]
    },
    {
     "name": "stderr",
     "output_type": "stream",
     "text": [
      "3it [00:21,  7.10s/it]\n"
     ]
    },
    {
     "name": "stdout",
     "output_type": "stream",
     "text": [
      "tensor([[3.2935],\n",
      "        [3.3195],\n",
      "        [4.3154],\n",
      "        ...,\n",
      "        [3.3790],\n",
      "        [3.3882],\n",
      "        [2.8436]], device='cuda:0')\n",
      "              precision    recall  f1-score   support\n",
      "\n",
      "           0       0.50      0.88      0.64      8765\n",
      "           1       0.77      0.30      0.43     11235\n",
      "\n",
      "    accuracy                           0.56     20000\n",
      "   macro avg       0.63      0.59      0.53     20000\n",
      "weighted avg       0.65      0.56      0.52     20000\n",
      "\n",
      "Epoch-53: Loss = 2.562\n",
      "Train RMSE = 1.674||Train Precision = 75.769||Train Recall = 22.312\n",
      "Test RMSE = 1.172 || Test Precision = 76.851|| Test Recall = 29.933\n"
     ]
    },
    {
     "name": "stderr",
     "output_type": "stream",
     "text": [
      "3it [00:21,  7.10s/it]\n"
     ]
    },
    {
     "name": "stdout",
     "output_type": "stream",
     "text": [
      "tensor([[3.4468],\n",
      "        [3.5368],\n",
      "        [4.5144],\n",
      "        ...,\n",
      "        [3.3717],\n",
      "        [3.3642],\n",
      "        [2.8557]], device='cuda:0')\n",
      "              precision    recall  f1-score   support\n",
      "\n",
      "           0       0.54      0.77      0.64      8765\n",
      "           1       0.73      0.50      0.59     11235\n",
      "\n",
      "    accuracy                           0.62     20000\n",
      "   macro avg       0.64      0.63      0.62     20000\n",
      "weighted avg       0.65      0.62      0.61     20000\n",
      "\n",
      "Epoch-54: Loss = 2.529\n",
      "Train RMSE = 1.660||Train Precision = 73.375||Train Recall = 49.128\n",
      "Test RMSE = 1.097 || Test Precision = 73.488|| Test Recall = 49.640\n"
     ]
    },
    {
     "name": "stderr",
     "output_type": "stream",
     "text": [
      "3it [00:21,  7.09s/it]\n"
     ]
    },
    {
     "name": "stdout",
     "output_type": "stream",
     "text": [
      "tensor([[3.9808],\n",
      "        [4.0485],\n",
      "        [5.1966],\n",
      "        ...,\n",
      "        [3.9119],\n",
      "        [3.8593],\n",
      "        [3.3318]], device='cuda:0')\n",
      "              precision    recall  f1-score   support\n",
      "\n",
      "           0       0.77      0.21      0.33      8765\n",
      "           1       0.61      0.95      0.74     11235\n",
      "\n",
      "    accuracy                           0.63     20000\n",
      "   macro avg       0.69      0.58      0.53     20000\n",
      "weighted avg       0.68      0.63      0.56     20000\n",
      "\n",
      "Epoch-55: Loss = 2.373\n",
      "Train RMSE = 1.592||Train Precision = 59.246||Train Recall = 94.601\n",
      "Test RMSE = 1.067 || Test Precision = 60.605|| Test Recall = 95.167\n"
     ]
    },
    {
     "name": "stderr",
     "output_type": "stream",
     "text": [
      "3it [00:21,  7.11s/it]\n"
     ]
    },
    {
     "name": "stdout",
     "output_type": "stream",
     "text": [
      "tensor([[4.0973],\n",
      "        [4.1555],\n",
      "        [5.3756],\n",
      "        ...,\n",
      "        [4.0316],\n",
      "        [4.0149],\n",
      "        [3.4694]], device='cuda:0')\n",
      "              precision    recall  f1-score   support\n",
      "\n",
      "           0       0.78      0.18      0.29      8765\n",
      "           1       0.60      0.96      0.74     11235\n",
      "\n",
      "    accuracy                           0.62     20000\n",
      "   macro avg       0.69      0.57      0.51     20000\n",
      "weighted avg       0.68      0.62      0.54     20000\n",
      "\n",
      "Epoch-56: Loss = 2.327\n",
      "Train RMSE = 1.570||Train Precision = 59.219||Train Recall = 95.245\n",
      "Test RMSE = 1.079 || Test Precision = 59.987|| Test Recall = 96.208\n"
     ]
    },
    {
     "name": "stderr",
     "output_type": "stream",
     "text": [
      "3it [00:21,  7.07s/it]\n"
     ]
    },
    {
     "name": "stdout",
     "output_type": "stream",
     "text": [
      "tensor([[3.7227],\n",
      "        [3.8082],\n",
      "        [4.8614],\n",
      "        ...,\n",
      "        [3.6640],\n",
      "        [3.6571],\n",
      "        [3.1231]], device='cuda:0')\n",
      "              precision    recall  f1-score   support\n",
      "\n",
      "           0       0.63      0.54      0.58      8765\n",
      "           1       0.68      0.75      0.71     11235\n",
      "\n",
      "    accuracy                           0.66     20000\n",
      "   macro avg       0.65      0.65      0.65     20000\n",
      "weighted avg       0.66      0.66      0.65     20000\n",
      "\n",
      "Epoch-57: Loss = 2.312\n",
      "Train RMSE = 1.563||Train Precision = 67.655||Train Recall = 72.370\n",
      "Test RMSE = 1.054 || Test Precision = 67.765|| Test Recall = 74.864\n"
     ]
    },
    {
     "name": "stderr",
     "output_type": "stream",
     "text": [
      "3it [00:21,  7.10s/it]\n"
     ]
    },
    {
     "name": "stdout",
     "output_type": "stream",
     "text": [
      "tensor([[3.6938],\n",
      "        [3.7882],\n",
      "        [4.7005],\n",
      "        ...,\n",
      "        [3.5718],\n",
      "        [3.5856],\n",
      "        [2.9916]], device='cuda:0')\n",
      "              precision    recall  f1-score   support\n",
      "\n",
      "           0       0.59      0.64      0.62      8765\n",
      "           1       0.70      0.65      0.68     11235\n",
      "\n",
      "    accuracy                           0.65     20000\n",
      "   macro avg       0.65      0.65      0.65     20000\n",
      "weighted avg       0.65      0.65      0.65     20000\n",
      "\n",
      "Epoch-58: Loss = 2.261\n",
      "Train RMSE = 1.539||Train Precision = 69.879||Train Recall = 65.623\n",
      "Test RMSE = 1.067 || Test Precision = 70.095|| Test Recall = 65.091\n"
     ]
    },
    {
     "name": "stderr",
     "output_type": "stream",
     "text": [
      "3it [00:21,  7.10s/it]\n"
     ]
    },
    {
     "name": "stdout",
     "output_type": "stream",
     "text": [
      "tensor([[3.9805],\n",
      "        [4.0727],\n",
      "        [5.0362],\n",
      "        ...,\n",
      "        [3.8685],\n",
      "        [3.8690],\n",
      "        [3.2291]], device='cuda:0')\n",
      "              precision    recall  f1-score   support\n",
      "\n",
      "           0       0.68      0.38      0.49      8765\n",
      "           1       0.64      0.86      0.73     11235\n",
      "\n",
      "    accuracy                           0.65     20000\n",
      "   macro avg       0.66      0.62      0.61     20000\n",
      "weighted avg       0.66      0.65      0.63     20000\n",
      "\n",
      "Epoch-59: Loss = 2.252\n",
      "Train RMSE = 1.536||Train Precision = 63.657||Train Recall = 86.264\n",
      "Test RMSE = 1.046 || Test Precision = 63.964|| Test Recall = 86.168\n"
     ]
    },
    {
     "name": "stderr",
     "output_type": "stream",
     "text": [
      "3it [00:21,  7.07s/it]\n"
     ]
    },
    {
     "name": "stdout",
     "output_type": "stream",
     "text": [
      "tensor([[4.0341],\n",
      "        [4.1563],\n",
      "        [5.1214],\n",
      "        ...,\n",
      "        [3.9404],\n",
      "        [3.9869],\n",
      "        [3.3487]], device='cuda:0')\n",
      "              precision    recall  f1-score   support\n",
      "\n",
      "           0       0.73      0.30      0.42      8765\n",
      "           1       0.62      0.91      0.74     11235\n",
      "\n",
      "    accuracy                           0.64     20000\n",
      "   macro avg       0.68      0.61      0.58     20000\n",
      "weighted avg       0.67      0.64      0.60     20000\n",
      "\n",
      "Epoch-60: Loss = 2.220\n",
      "Train RMSE = 1.522||Train Precision = 61.953||Train Recall = 90.400\n",
      "Test RMSE = 1.056 || Test Precision = 62.481|| Test Recall = 91.500\n"
     ]
    },
    {
     "name": "stderr",
     "output_type": "stream",
     "text": [
      "3it [00:21,  7.09s/it]\n"
     ]
    },
    {
     "name": "stdout",
     "output_type": "stream",
     "text": [
      "tensor([[3.8389],\n",
      "        [3.9932],\n",
      "        [4.8690],\n",
      "        ...,\n",
      "        [3.7247],\n",
      "        [3.8263],\n",
      "        [3.1855]], device='cuda:0')\n",
      "              precision    recall  f1-score   support\n",
      "\n",
      "           0       0.67      0.43      0.52      8765\n",
      "           1       0.65      0.83      0.73     11235\n",
      "\n",
      "    accuracy                           0.66     20000\n",
      "   macro avg       0.66      0.63      0.63     20000\n",
      "weighted avg       0.66      0.66      0.64     20000\n",
      "\n",
      "Epoch-61: Loss = 2.220\n",
      "Train RMSE = 1.523||Train Precision = 65.178||Train Recall = 82.914\n",
      "Test RMSE = 1.039 || Test Precision = 65.274|| Test Recall = 83.302\n"
     ]
    },
    {
     "name": "stderr",
     "output_type": "stream",
     "text": [
      "3it [00:21,  7.08s/it]\n"
     ]
    },
    {
     "name": "stdout",
     "output_type": "stream",
     "text": [
      "tensor([[3.7414],\n",
      "        [3.8920],\n",
      "        [4.6794],\n",
      "        ...,\n",
      "        [3.6129],\n",
      "        [3.7040],\n",
      "        [3.0523]], device='cuda:0')\n",
      "              precision    recall  f1-score   support\n",
      "\n",
      "           0       0.63      0.56      0.59      8765\n",
      "           1       0.68      0.75      0.71     11235\n",
      "\n",
      "    accuracy                           0.66     20000\n",
      "   macro avg       0.66      0.65      0.65     20000\n",
      "weighted avg       0.66      0.66      0.66     20000\n",
      "\n",
      "Epoch-62: Loss = 2.202\n",
      "Train RMSE = 1.516||Train Precision = 67.651||Train Recall = 74.487\n",
      "Test RMSE = 1.043 || Test Precision = 68.369|| Test Recall = 74.606\n"
     ]
    },
    {
     "name": "stderr",
     "output_type": "stream",
     "text": [
      "3it [00:21,  7.09s/it]\n"
     ]
    },
    {
     "name": "stdout",
     "output_type": "stream",
     "text": [
      "tensor([[3.7062],\n",
      "        [3.8523],\n",
      "        [4.6339],\n",
      "        ...,\n",
      "        [3.5842],\n",
      "        [3.6917],\n",
      "        [3.0650]], device='cuda:0')\n",
      "              precision    recall  f1-score   support\n",
      "\n",
      "           0       0.62      0.58      0.60      8765\n",
      "           1       0.69      0.73      0.71     11235\n",
      "\n",
      "    accuracy                           0.66     20000\n",
      "   macro avg       0.66      0.65      0.65     20000\n",
      "weighted avg       0.66      0.66      0.66     20000\n",
      "\n",
      "Epoch-63: Loss = 2.187\n",
      "Train RMSE = 1.510||Train Precision = 68.491||Train Recall = 72.606\n",
      "Test RMSE = 1.045 || Test Precision = 69.022|| Test Recall = 72.523\n"
     ]
    },
    {
     "name": "stderr",
     "output_type": "stream",
     "text": [
      "3it [00:21,  7.09s/it]\n"
     ]
    },
    {
     "name": "stdout",
     "output_type": "stream",
     "text": [
      "tensor([[3.8355],\n",
      "        [3.9585],\n",
      "        [4.7523],\n",
      "        ...,\n",
      "        [3.6901],\n",
      "        [3.7941],\n",
      "        [3.1776]], device='cuda:0')\n",
      "              precision    recall  f1-score   support\n",
      "\n",
      "           0       0.66      0.49      0.56      8765\n",
      "           1       0.67      0.80      0.73     11235\n",
      "\n",
      "    accuracy                           0.67     20000\n",
      "   macro avg       0.66      0.65      0.65     20000\n",
      "weighted avg       0.66      0.67      0.66     20000\n",
      "\n",
      "Epoch-64: Loss = 2.184\n",
      "Train RMSE = 1.509||Train Precision = 66.412||Train Recall = 79.920\n",
      "Test RMSE = 1.035 || Test Precision = 66.760|| Test Recall = 80.498\n"
     ]
    },
    {
     "name": "stderr",
     "output_type": "stream",
     "text": [
      "3it [00:21,  7.07s/it]\n"
     ]
    },
    {
     "name": "stdout",
     "output_type": "stream",
     "text": [
      "tensor([[3.9313],\n",
      "        [4.0537],\n",
      "        [4.8299],\n",
      "        ...,\n",
      "        [3.7625],\n",
      "        [3.8643],\n",
      "        [3.2596]], device='cuda:0')\n",
      "              precision    recall  f1-score   support\n",
      "\n",
      "           0       0.69      0.42      0.52      8765\n",
      "           1       0.65      0.85      0.74     11235\n",
      "\n",
      "    accuracy                           0.66     20000\n",
      "   macro avg       0.67      0.63      0.63     20000\n",
      "weighted avg       0.67      0.66      0.64     20000\n",
      "\n",
      "Epoch-65: Loss = 2.169\n",
      "Train RMSE = 1.503||Train Precision = 65.310||Train Recall = 84.793\n",
      "Test RMSE = 1.035 || Test Precision = 65.123|| Test Recall = 85.109\n"
     ]
    },
    {
     "name": "stderr",
     "output_type": "stream",
     "text": [
      "3it [00:21,  7.09s/it]\n"
     ]
    },
    {
     "name": "stdout",
     "output_type": "stream",
     "text": [
      "tensor([[3.9794],\n",
      "        [4.0967],\n",
      "        [4.8591],\n",
      "        ...,\n",
      "        [3.8043],\n",
      "        [3.8876],\n",
      "        [3.2988]], device='cuda:0')\n",
      "              precision    recall  f1-score   support\n",
      "\n",
      "           0       0.69      0.39      0.50      8765\n",
      "           1       0.65      0.86      0.74     11235\n",
      "\n",
      "    accuracy                           0.66     20000\n",
      "   macro avg       0.67      0.63      0.62     20000\n",
      "weighted avg       0.67      0.66      0.64     20000\n",
      "\n",
      "Epoch-66: Loss = 2.159\n",
      "Train RMSE = 1.500||Train Precision = 64.138||Train Recall = 85.365\n",
      "Test RMSE = 1.036 || Test Precision = 64.640|| Test Recall = 86.417\n"
     ]
    },
    {
     "name": "stderr",
     "output_type": "stream",
     "text": [
      "3it [00:21,  7.07s/it]\n"
     ]
    },
    {
     "name": "stdout",
     "output_type": "stream",
     "text": [
      "tensor([[3.9584],\n",
      "        [4.0886],\n",
      "        [4.8418],\n",
      "        ...,\n",
      "        [3.8451],\n",
      "        [3.8926],\n",
      "        [3.3391]], device='cuda:0')\n",
      "              precision    recall  f1-score   support\n",
      "\n",
      "           0       0.70      0.39      0.50      8765\n",
      "           1       0.65      0.87      0.74     11235\n",
      "\n",
      "    accuracy                           0.66     20000\n",
      "   macro avg       0.67      0.63      0.62     20000\n",
      "weighted avg       0.67      0.66      0.64     20000\n",
      "\n",
      "Epoch-67: Loss = 2.153\n",
      "Train RMSE = 1.498||Train Precision = 64.459||Train Recall = 86.584\n",
      "Test RMSE = 1.034 || Test Precision = 64.689|| Test Recall = 86.684\n"
     ]
    },
    {
     "name": "stderr",
     "output_type": "stream",
     "text": [
      "3it [00:21,  7.08s/it]\n"
     ]
    },
    {
     "name": "stdout",
     "output_type": "stream",
     "text": [
      "tensor([[3.9153],\n",
      "        [4.0605],\n",
      "        [4.7993],\n",
      "        ...,\n",
      "        [3.8221],\n",
      "        [3.8374],\n",
      "        [3.3324]], device='cuda:0')\n",
      "              precision    recall  f1-score   support\n",
      "\n",
      "           0       0.69      0.43      0.53      8765\n",
      "           1       0.66      0.85      0.74     11235\n",
      "\n",
      "    accuracy                           0.66     20000\n",
      "   macro avg       0.67      0.64      0.63     20000\n",
      "weighted avg       0.67      0.66      0.65     20000\n",
      "\n",
      "Epoch-68: Loss = 2.147\n",
      "Train RMSE = 1.496||Train Precision = 65.223||Train Recall = 84.574\n",
      "Test RMSE = 1.030 || Test Precision = 65.574|| Test Recall = 84.717\n"
     ]
    },
    {
     "name": "stderr",
     "output_type": "stream",
     "text": [
      "3it [00:21,  7.08s/it]\n"
     ]
    },
    {
     "name": "stdout",
     "output_type": "stream",
     "text": [
      "tensor([[3.8745],\n",
      "        [4.0036],\n",
      "        [4.7246],\n",
      "        ...,\n",
      "        [3.7855],\n",
      "        [3.7455],\n",
      "        [3.2919]], device='cuda:0')\n",
      "              precision    recall  f1-score   support\n",
      "\n",
      "           0       0.66      0.49      0.56      8765\n",
      "           1       0.67      0.81      0.73     11235\n",
      "\n",
      "    accuracy                           0.67     20000\n",
      "   macro avg       0.67      0.65      0.65     20000\n",
      "weighted avg       0.67      0.67      0.66     20000\n",
      "\n",
      "Epoch-69: Loss = 2.136\n",
      "Train RMSE = 1.492||Train Precision = 66.500||Train Recall = 80.357\n",
      "Test RMSE = 1.028 || Test Precision = 66.943|| Test Recall = 80.587\n"
     ]
    },
    {
     "name": "stderr",
     "output_type": "stream",
     "text": [
      "3it [00:21,  7.08s/it]\n"
     ]
    },
    {
     "name": "stdout",
     "output_type": "stream",
     "text": [
      "tensor([[3.9756],\n",
      "        [4.0782],\n",
      "        [4.8355],\n",
      "        ...,\n",
      "        [3.8893],\n",
      "        [3.8193],\n",
      "        [3.3919]], device='cuda:0')\n",
      "              precision    recall  f1-score   support\n",
      "\n",
      "           0       0.69      0.42      0.52      8765\n",
      "           1       0.65      0.86      0.74     11235\n",
      "\n",
      "    accuracy                           0.66     20000\n",
      "   macro avg       0.67      0.64      0.63     20000\n",
      "weighted avg       0.67      0.66      0.64     20000\n",
      "\n",
      "Epoch-70: Loss = 2.133\n",
      "Train RMSE = 1.492||Train Precision = 65.170||Train Recall = 84.734\n",
      "Test RMSE = 1.029 || Test Precision = 65.336|| Test Recall = 85.661\n"
     ]
    },
    {
     "name": "stderr",
     "output_type": "stream",
     "text": [
      "3it [00:21,  7.09s/it]\n"
     ]
    },
    {
     "name": "stdout",
     "output_type": "stream",
     "text": [
      "tensor([[3.9294],\n",
      "        [4.0233],\n",
      "        [4.7916],\n",
      "        ...,\n",
      "        [3.8224],\n",
      "        [3.7399],\n",
      "        [3.3468]], device='cuda:0')\n",
      "              precision    recall  f1-score   support\n",
      "\n",
      "           0       0.67      0.48      0.56      8765\n",
      "           1       0.67      0.82      0.73     11235\n",
      "\n",
      "    accuracy                           0.67     20000\n",
      "   macro avg       0.67      0.65      0.65     20000\n",
      "weighted avg       0.67      0.67      0.66     20000\n",
      "\n",
      "Epoch-71: Loss = 2.123\n",
      "Train RMSE = 1.489||Train Precision = 65.982||Train Recall = 81.749\n",
      "Test RMSE = 1.026 || Test Precision = 66.645|| Test Recall = 81.736\n"
     ]
    },
    {
     "name": "stderr",
     "output_type": "stream",
     "text": [
      "3it [00:21,  7.08s/it]\n"
     ]
    },
    {
     "name": "stdout",
     "output_type": "stream",
     "text": [
      "tensor([[3.7995],\n",
      "        [3.9081],\n",
      "        [4.6443],\n",
      "        ...,\n",
      "        [3.7531],\n",
      "        [3.6795],\n",
      "        [3.3158]], device='cuda:0')\n",
      "              precision    recall  f1-score   support\n",
      "\n",
      "           0       0.65      0.55      0.60      8765\n",
      "           1       0.69      0.77      0.72     11235\n",
      "\n",
      "    accuracy                           0.67     20000\n",
      "   macro avg       0.67      0.66      0.66     20000\n",
      "weighted avg       0.67      0.67      0.67     20000\n",
      "\n",
      "Epoch-72: Loss = 2.119\n",
      "Train RMSE = 1.488||Train Precision = 68.356||Train Recall = 75.901\n",
      "Test RMSE = 1.027 || Test Precision = 68.727|| Test Recall = 76.600\n"
     ]
    },
    {
     "name": "stderr",
     "output_type": "stream",
     "text": [
      "3it [00:21,  7.10s/it]\n"
     ]
    },
    {
     "name": "stdout",
     "output_type": "stream",
     "text": [
      "tensor([[3.8520],\n",
      "        [3.9749],\n",
      "        [4.6969],\n",
      "        ...,\n",
      "        [3.7558],\n",
      "        [3.6996],\n",
      "        [3.3511]], device='cuda:0')\n",
      "              precision    recall  f1-score   support\n",
      "\n",
      "           0       0.66      0.52      0.58      8765\n",
      "           1       0.68      0.79      0.73     11235\n",
      "\n",
      "    accuracy                           0.67     20000\n",
      "   macro avg       0.67      0.66      0.66     20000\n",
      "weighted avg       0.67      0.67      0.67     20000\n",
      "\n",
      "Epoch-73: Loss = 2.110\n",
      "Train RMSE = 1.485||Train Precision = 68.301||Train Recall = 78.960\n",
      "Test RMSE = 1.023 || Test Precision = 67.897|| Test Recall = 79.421\n"
     ]
    },
    {
     "name": "stderr",
     "output_type": "stream",
     "text": [
      "3it [00:21,  7.09s/it]\n"
     ]
    },
    {
     "name": "stdout",
     "output_type": "stream",
     "text": [
      "tensor([[3.9573],\n",
      "        [4.0713],\n",
      "        [4.8228],\n",
      "        ...,\n",
      "        [3.8415],\n",
      "        [3.7775],\n",
      "        [3.4388]], device='cuda:0')\n",
      "              precision    recall  f1-score   support\n",
      "\n",
      "           0       0.69      0.44      0.54      8765\n",
      "           1       0.66      0.85      0.74     11235\n",
      "\n",
      "    accuracy                           0.67     20000\n",
      "   macro avg       0.68      0.64      0.64     20000\n",
      "weighted avg       0.67      0.67      0.65     20000\n",
      "\n",
      "Epoch-74: Loss = 2.104\n",
      "Train RMSE = 1.483||Train Precision = 65.758||Train Recall = 84.239\n",
      "Test RMSE = 1.023 || Test Precision = 66.040|| Test Recall = 84.709\n"
     ]
    },
    {
     "name": "stderr",
     "output_type": "stream",
     "text": [
      "3it [00:21,  7.07s/it]\n"
     ]
    },
    {
     "name": "stdout",
     "output_type": "stream",
     "text": [
      "tensor([[3.8705],\n",
      "        [3.9968],\n",
      "        [4.7152],\n",
      "        ...,\n",
      "        [3.7609],\n",
      "        [3.7422],\n",
      "        [3.4050]], device='cuda:0')\n",
      "              precision    recall  f1-score   support\n",
      "\n",
      "           0       0.67      0.51      0.58      8765\n",
      "           1       0.68      0.81      0.74     11235\n",
      "\n",
      "    accuracy                           0.67     20000\n",
      "   macro avg       0.67      0.66      0.66     20000\n",
      "weighted avg       0.67      0.67      0.67     20000\n",
      "\n",
      "Epoch-75: Loss = 2.096\n",
      "Train RMSE = 1.481||Train Precision = 67.469||Train Recall = 80.217\n",
      "Test RMSE = 1.020 || Test Precision = 67.637|| Test Recall = 80.659\n"
     ]
    },
    {
     "name": "stderr",
     "output_type": "stream",
     "text": [
      "3it [00:21,  7.10s/it]\n"
     ]
    },
    {
     "name": "stdout",
     "output_type": "stream",
     "text": [
      "tensor([[3.7735],\n",
      "        [3.8898],\n",
      "        [4.5960],\n",
      "        ...,\n",
      "        [3.6604],\n",
      "        [3.6342],\n",
      "        [3.3422]], device='cuda:0')\n",
      "              precision    recall  f1-score   support\n",
      "\n",
      "           0       0.64      0.59      0.61      8765\n",
      "           1       0.70      0.74      0.72     11235\n",
      "\n",
      "    accuracy                           0.67     20000\n",
      "   macro avg       0.67      0.67      0.67     20000\n",
      "weighted avg       0.67      0.67      0.67     20000\n",
      "\n",
      "Epoch-76: Loss = 2.087\n",
      "Train RMSE = 1.478||Train Precision = 69.890||Train Recall = 73.231\n",
      "Test RMSE = 1.025 || Test Precision = 69.809|| Test Recall = 74.090\n"
     ]
    },
    {
     "name": "stderr",
     "output_type": "stream",
     "text": [
      "3it [00:21,  7.08s/it]\n"
     ]
    },
    {
     "name": "stdout",
     "output_type": "stream",
     "text": [
      "tensor([[4.0523],\n",
      "        [4.1784],\n",
      "        [4.9365],\n",
      "        ...,\n",
      "        [4.0008],\n",
      "        [3.9451],\n",
      "        [3.6075]], device='cuda:0')\n",
      "              precision    recall  f1-score   support\n",
      "\n",
      "           0       0.74      0.35      0.47      8765\n",
      "           1       0.64      0.90      0.75     11235\n",
      "\n",
      "    accuracy                           0.66     20000\n",
      "   macro avg       0.69      0.63      0.61     20000\n",
      "weighted avg       0.68      0.66      0.63     20000\n",
      "\n",
      "Epoch-77: Loss = 2.121\n",
      "Train RMSE = 1.497||Train Precision = 63.267||Train Recall = 89.935\n",
      "Test RMSE = 1.034 || Test Precision = 63.950|| Test Recall = 90.441\n"
     ]
    },
    {
     "name": "stderr",
     "output_type": "stream",
     "text": [
      "3it [00:21,  7.10s/it]\n"
     ]
    },
    {
     "name": "stdout",
     "output_type": "stream",
     "text": [
      "tensor([[3.8986],\n",
      "        [4.0109],\n",
      "        [4.7993],\n",
      "        ...,\n",
      "        [3.8445],\n",
      "        [3.7743],\n",
      "        [3.4580]], device='cuda:0')\n",
      "              precision    recall  f1-score   support\n",
      "\n",
      "           0       0.69      0.47      0.56      8765\n",
      "           1       0.67      0.84      0.74     11235\n",
      "\n",
      "    accuracy                           0.67     20000\n",
      "   macro avg       0.68      0.65      0.65     20000\n",
      "weighted avg       0.68      0.67      0.66     20000\n",
      "\n",
      "Epoch-78: Loss = 2.108\n",
      "Train RMSE = 1.491||Train Precision = 66.269||Train Recall = 83.670\n",
      "Test RMSE = 1.018 || Test Precision = 66.785|| Test Recall = 83.649\n"
     ]
    },
    {
     "name": "stderr",
     "output_type": "stream",
     "text": [
      "3it [00:21,  7.09s/it]\n"
     ]
    },
    {
     "name": "stdout",
     "output_type": "stream",
     "text": [
      "tensor([[3.7748],\n",
      "        [3.8738],\n",
      "        [4.6262],\n",
      "        ...,\n",
      "        [3.6798],\n",
      "        [3.6175],\n",
      "        [3.3112]], device='cuda:0')\n",
      "              precision    recall  f1-score   support\n",
      "\n",
      "           0       0.64      0.59      0.62      8765\n",
      "           1       0.70      0.74      0.72     11235\n",
      "\n",
      "    accuracy                           0.68     20000\n",
      "   macro avg       0.67      0.67      0.67     20000\n",
      "weighted avg       0.67      0.68      0.68     20000\n",
      "\n",
      "Epoch-79: Loss = 2.090\n",
      "Train RMSE = 1.483||Train Precision = 70.232||Train Recall = 73.589\n",
      "Test RMSE = 1.023 || Test Precision = 70.028|| Test Recall = 74.241\n"
     ]
    },
    {
     "name": "stderr",
     "output_type": "stream",
     "text": [
      "3it [00:21,  7.11s/it]\n"
     ]
    },
    {
     "name": "stdout",
     "output_type": "stream",
     "text": [
      "tensor([[3.6788],\n",
      "        [3.8093],\n",
      "        [4.4402],\n",
      "        ...,\n",
      "        [3.5248],\n",
      "        [3.5282],\n",
      "        [3.2339]], device='cuda:0')\n",
      "              precision    recall  f1-score   support\n",
      "\n",
      "           0       0.61      0.68      0.64      8765\n",
      "           1       0.73      0.65      0.69     11235\n",
      "\n",
      "    accuracy                           0.67     20000\n",
      "   macro avg       0.67      0.67      0.67     20000\n",
      "weighted avg       0.67      0.67      0.67     20000\n",
      "\n",
      "Epoch-80: Loss = 2.079\n",
      "Train RMSE = 1.479||Train Precision = 73.292||Train Recall = 64.170\n",
      "Test RMSE = 1.040 || Test Precision = 72.647|| Test Recall = 65.412\n"
     ]
    },
    {
     "name": "stderr",
     "output_type": "stream",
     "text": [
      "3it [00:21,  7.12s/it]\n"
     ]
    },
    {
     "name": "stdout",
     "output_type": "stream",
     "text": [
      "tensor([[3.9222],\n",
      "        [4.0581],\n",
      "        [4.8363],\n",
      "        ...,\n",
      "        [3.8142],\n",
      "        [3.8452],\n",
      "        [3.4674]], device='cuda:0')\n",
      "              precision    recall  f1-score   support\n",
      "\n",
      "           0       0.71      0.43      0.54      8765\n",
      "           1       0.66      0.86      0.75     11235\n",
      "\n",
      "    accuracy                           0.67     20000\n",
      "   macro avg       0.69      0.65      0.64     20000\n",
      "weighted avg       0.68      0.67      0.66     20000\n",
      "\n",
      "Epoch-81: Loss = 2.144\n",
      "Train RMSE = 1.512||Train Precision = 65.393||Train Recall = 85.786\n",
      "Test RMSE = 1.017 || Test Precision = 66.042|| Test Recall = 86.222\n"
     ]
    },
    {
     "name": "stderr",
     "output_type": "stream",
     "text": [
      "3it [00:21,  7.10s/it]\n"
     ]
    },
    {
     "name": "stdout",
     "output_type": "stream",
     "text": [
      "tensor([[4.0821],\n",
      "        [4.2145],\n",
      "        [5.0487],\n",
      "        ...,\n",
      "        [4.0276],\n",
      "        [4.0134],\n",
      "        [3.5852]], device='cuda:0')\n",
      "              precision    recall  f1-score   support\n",
      "\n",
      "           0       0.75      0.33      0.46      8765\n",
      "           1       0.64      0.91      0.75     11235\n",
      "\n",
      "    accuracy                           0.66     20000\n",
      "   macro avg       0.69      0.62      0.61     20000\n",
      "weighted avg       0.69      0.66      0.62     20000\n",
      "\n",
      "Epoch-82: Loss = 2.106\n",
      "Train RMSE = 1.494||Train Precision = 62.846||Train Recall = 91.070\n",
      "Test RMSE = 1.036 || Test Precision = 63.689|| Test Recall = 91.375\n"
     ]
    },
    {
     "name": "stderr",
     "output_type": "stream",
     "text": [
      "3it [00:21,  7.12s/it]\n"
     ]
    },
    {
     "name": "stdout",
     "output_type": "stream",
     "text": [
      "tensor([[4.0589],\n",
      "        [4.1909],\n",
      "        [5.0508],\n",
      "        ...,\n",
      "        [4.0220],\n",
      "        [4.0217],\n",
      "        [3.5613]], device='cuda:0')\n",
      "              precision    recall  f1-score   support\n",
      "\n",
      "           0       0.76      0.33      0.46      8765\n",
      "           1       0.64      0.92      0.75     11235\n",
      "\n",
      "    accuracy                           0.66     20000\n",
      "   macro avg       0.70      0.62      0.61     20000\n",
      "weighted avg       0.69      0.66      0.62     20000\n",
      "\n",
      "Epoch-83: Loss = 2.094\n",
      "Train RMSE = 1.489||Train Precision = 62.461||Train Recall = 91.084\n",
      "Test RMSE = 1.032 || Test Precision = 63.690|| Test Recall = 91.660\n"
     ]
    },
    {
     "name": "stderr",
     "output_type": "stream",
     "text": [
      "3it [00:21,  7.12s/it]\n"
     ]
    },
    {
     "name": "stdout",
     "output_type": "stream",
     "text": [
      "tensor([[4.0734],\n",
      "        [4.2102],\n",
      "        [4.9965],\n",
      "        ...,\n",
      "        [3.9228],\n",
      "        [3.9420],\n",
      "        [3.4867]], device='cuda:0')\n",
      "              precision    recall  f1-score   support\n",
      "\n",
      "           0       0.73      0.39      0.51      8765\n",
      "           1       0.65      0.89      0.75     11235\n",
      "\n",
      "    accuracy                           0.67     20000\n",
      "   macro avg       0.69      0.64      0.63     20000\n",
      "weighted avg       0.69      0.67      0.64     20000\n",
      "\n",
      "Epoch-84: Loss = 2.078\n",
      "Train RMSE = 1.482||Train Precision = 64.520||Train Recall = 88.462\n",
      "Test RMSE = 1.023 || Test Precision = 65.075|| Test Recall = 88.696\n"
     ]
    },
    {
     "name": "stderr",
     "output_type": "stream",
     "text": [
      "3it [00:21,  7.09s/it]\n"
     ]
    },
    {
     "name": "stdout",
     "output_type": "stream",
     "text": [
      "tensor([[4.0512],\n",
      "        [4.2301],\n",
      "        [4.8892],\n",
      "        ...,\n",
      "        [3.8696],\n",
      "        [3.9538],\n",
      "        [3.4965]], device='cuda:0')\n",
      "              precision    recall  f1-score   support\n",
      "\n",
      "           0       0.72      0.40      0.51      8765\n",
      "           1       0.65      0.88      0.75     11235\n",
      "\n",
      "    accuracy                           0.67     20000\n",
      "   macro avg       0.69      0.64      0.63     20000\n",
      "weighted avg       0.68      0.67      0.65     20000\n",
      "\n",
      "Epoch-85: Loss = 2.056\n",
      "Train RMSE = 1.473||Train Precision = 64.774||Train Recall = 88.160\n",
      "Test RMSE = 1.021 || Test Precision = 65.268|| Test Recall = 88.162\n"
     ]
    },
    {
     "name": "stderr",
     "output_type": "stream",
     "text": [
      "3it [00:21,  7.11s/it]\n"
     ]
    },
    {
     "name": "stdout",
     "output_type": "stream",
     "text": [
      "tensor([[3.9680],\n",
      "        [4.1845],\n",
      "        [4.7601],\n",
      "        ...,\n",
      "        [3.8140],\n",
      "        [3.9276],\n",
      "        [3.4770]], device='cuda:0')\n",
      "              precision    recall  f1-score   support\n",
      "\n",
      "           0       0.71      0.43      0.54      8765\n",
      "           1       0.66      0.87      0.75     11235\n",
      "\n",
      "    accuracy                           0.68     20000\n",
      "   macro avg       0.69      0.65      0.64     20000\n",
      "weighted avg       0.68      0.68      0.66     20000\n",
      "\n",
      "Epoch-86: Loss = 2.048\n",
      "Train RMSE = 1.470||Train Precision = 65.989||Train Recall = 86.311\n",
      "Test RMSE = 1.015 || Test Precision = 66.094|| Test Recall = 86.595\n"
     ]
    },
    {
     "name": "stderr",
     "output_type": "stream",
     "text": [
      "3it [00:21,  7.07s/it]\n"
     ]
    },
    {
     "name": "stdout",
     "output_type": "stream",
     "text": [
      "tensor([[3.7825],\n",
      "        [3.9603],\n",
      "        [4.5589],\n",
      "        ...,\n",
      "        [3.6260],\n",
      "        [3.6966],\n",
      "        [3.3079]], device='cuda:0')\n",
      "              precision    recall  f1-score   support\n",
      "\n",
      "           0       0.65      0.59      0.62      8765\n",
      "           1       0.70      0.75      0.73     11235\n",
      "\n",
      "    accuracy                           0.68     20000\n",
      "   macro avg       0.68      0.67      0.67     20000\n",
      "weighted avg       0.68      0.68      0.68     20000\n",
      "\n",
      "Epoch-87: Loss = 2.062\n",
      "Train RMSE = 1.478||Train Precision = 70.826||Train Recall = 74.919\n",
      "Test RMSE = 1.015 || Test Precision = 70.208|| Test Recall = 75.113\n"
     ]
    },
    {
     "name": "stderr",
     "output_type": "stream",
     "text": [
      "3it [00:21,  7.10s/it]\n"
     ]
    },
    {
     "name": "stdout",
     "output_type": "stream",
     "text": [
      "tensor([[3.8275],\n",
      "        [3.9801],\n",
      "        [4.6512],\n",
      "        ...,\n",
      "        [3.6938],\n",
      "        [3.7304],\n",
      "        [3.3404]], device='cuda:0')\n",
      "              precision    recall  f1-score   support\n",
      "\n",
      "           0       0.66      0.57      0.61      8765\n",
      "           1       0.70      0.78      0.73     11235\n",
      "\n",
      "    accuracy                           0.68     20000\n",
      "   macro avg       0.68      0.67      0.67     20000\n",
      "weighted avg       0.68      0.68      0.68     20000\n",
      "\n",
      "Epoch-88: Loss = 2.036\n",
      "Train RMSE = 1.466||Train Precision = 69.491||Train Recall = 76.411\n",
      "Test RMSE = 1.011 || Test Precision = 69.605|| Test Recall = 77.597\n"
     ]
    },
    {
     "name": "stderr",
     "output_type": "stream",
     "text": [
      "3it [00:21,  7.08s/it]\n"
     ]
    },
    {
     "name": "stdout",
     "output_type": "stream",
     "text": [
      "tensor([[3.8474],\n",
      "        [4.0244],\n",
      "        [4.6715],\n",
      "        ...,\n",
      "        [3.6770],\n",
      "        [3.7610],\n",
      "        [3.3652]], device='cuda:0')\n",
      "              precision    recall  f1-score   support\n",
      "\n",
      "           0       0.67      0.55      0.60      8765\n",
      "           1       0.69      0.79      0.74     11235\n",
      "\n",
      "    accuracy                           0.68     20000\n",
      "   macro avg       0.68      0.67      0.67     20000\n",
      "weighted avg       0.68      0.68      0.68     20000\n",
      "\n",
      "Epoch-89: Loss = 2.025\n",
      "Train RMSE = 1.462||Train Precision = 69.505||Train Recall = 77.677\n",
      "Test RMSE = 1.009 || Test Precision = 69.231|| Test Recall = 78.825\n"
     ]
    },
    {
     "name": "stderr",
     "output_type": "stream",
     "text": [
      "3it [00:21,  7.09s/it]\n"
     ]
    },
    {
     "name": "stdout",
     "output_type": "stream",
     "text": [
      "tensor([[4.0432],\n",
      "        [4.2484],\n",
      "        [4.8606],\n",
      "        ...,\n",
      "        [3.9111],\n",
      "        [3.9833],\n",
      "        [3.5349]], device='cuda:0')\n",
      "              precision    recall  f1-score   support\n",
      "\n",
      "           0       0.74      0.38      0.50      8765\n",
      "           1       0.65      0.90      0.75     11235\n",
      "\n",
      "    accuracy                           0.67     20000\n",
      "   macro avg       0.70      0.64      0.63     20000\n",
      "weighted avg       0.69      0.67      0.64     20000\n",
      "\n",
      "Epoch-90: Loss = 2.033\n",
      "Train RMSE = 1.468||Train Precision = 64.373||Train Recall = 89.880\n",
      "Test RMSE = 1.022 || Test Precision = 64.878|| Test Recall = 89.871\n"
     ]
    },
    {
     "name": "stderr",
     "output_type": "stream",
     "text": [
      "3it [00:21,  7.10s/it]\n"
     ]
    },
    {
     "name": "stdout",
     "output_type": "stream",
     "text": [
      "tensor([[3.7779],\n",
      "        [3.9867],\n",
      "        [4.5868],\n",
      "        ...,\n",
      "        [3.6557],\n",
      "        [3.7222],\n",
      "        [3.2970]], device='cuda:0')\n",
      "              precision    recall  f1-score   support\n",
      "\n",
      "           0       0.66      0.57      0.61      8765\n",
      "           1       0.70      0.78      0.73     11235\n",
      "\n",
      "    accuracy                           0.69     20000\n",
      "   macro avg       0.68      0.67      0.67     20000\n",
      "weighted avg       0.68      0.69      0.68     20000\n",
      "\n",
      "Epoch-91: Loss = 2.063\n",
      "Train RMSE = 1.484||Train Precision = 69.459||Train Recall = 76.399\n",
      "Test RMSE = 1.009 || Test Precision = 69.781|| Test Recall = 77.570\n"
     ]
    },
    {
     "name": "stderr",
     "output_type": "stream",
     "text": [
      "3it [00:21,  7.08s/it]\n"
     ]
    },
    {
     "name": "stdout",
     "output_type": "stream",
     "text": [
      "tensor([[3.6419],\n",
      "        [3.8156],\n",
      "        [4.4419],\n",
      "        ...,\n",
      "        [3.5133],\n",
      "        [3.5358],\n",
      "        [3.1568]], device='cuda:0')\n",
      "              precision    recall  f1-score   support\n",
      "\n",
      "           0       0.61      0.70      0.65      8765\n",
      "           1       0.74      0.65      0.69     11235\n",
      "\n",
      "    accuracy                           0.67     20000\n",
      "   macro avg       0.67      0.68      0.67     20000\n",
      "weighted avg       0.68      0.67      0.68     20000\n",
      "\n",
      "Epoch-92: Loss = 2.030\n",
      "Train RMSE = 1.467||Train Precision = 73.624||Train Recall = 63.637\n",
      "Test RMSE = 1.034 || Test Precision = 73.633|| Test Recall = 65.447\n"
     ]
    },
    {
     "name": "stderr",
     "output_type": "stream",
     "text": [
      "3it [00:21,  7.10s/it]\n"
     ]
    },
    {
     "name": "stdout",
     "output_type": "stream",
     "text": [
      "tensor([[3.7864],\n",
      "        [3.9650],\n",
      "        [4.6658],\n",
      "        ...,\n",
      "        [3.6867],\n",
      "        [3.7132],\n",
      "        [3.3210]], device='cuda:0')\n",
      "              precision    recall  f1-score   support\n",
      "\n",
      "           0       0.68      0.54      0.60      8765\n",
      "           1       0.69      0.80      0.74     11235\n",
      "\n",
      "    accuracy                           0.69     20000\n",
      "   macro avg       0.68      0.67      0.67     20000\n",
      "weighted avg       0.69      0.69      0.68     20000\n",
      "\n",
      "Epoch-93: Loss = 2.070\n",
      "Train RMSE = 1.489||Train Precision = 68.898||Train Recall = 78.642\n",
      "Test RMSE = 1.007 || Test Precision = 69.141|| Test Recall = 79.911\n"
     ]
    },
    {
     "name": "stderr",
     "output_type": "stream",
     "text": [
      "3it [00:21,  7.09s/it]\n"
     ]
    },
    {
     "name": "stdout",
     "output_type": "stream",
     "text": [
      "tensor([[4.0754],\n",
      "        [4.2652],\n",
      "        [4.9237],\n",
      "        ...,\n",
      "        [3.9475],\n",
      "        [3.9630],\n",
      "        [3.5355]], device='cuda:0')\n",
      "              precision    recall  f1-score   support\n",
      "\n",
      "           0       0.75      0.36      0.49      8765\n",
      "           1       0.65      0.90      0.75     11235\n",
      "\n",
      "    accuracy                           0.67     20000\n",
      "   macro avg       0.70      0.63      0.62     20000\n",
      "weighted avg       0.69      0.67      0.64     20000\n",
      "\n",
      "Epoch-94: Loss = 2.044\n",
      "Train RMSE = 1.477||Train Precision = 64.469||Train Recall = 90.125\n",
      "Test RMSE = 1.023 || Test Precision = 64.597|| Test Recall = 90.458\n"
     ]
    },
    {
     "name": "stderr",
     "output_type": "stream",
     "text": [
      "3it [00:21,  7.10s/it]\n"
     ]
    },
    {
     "name": "stdout",
     "output_type": "stream",
     "text": [
      "tensor([[4.0543],\n",
      "        [4.2593],\n",
      "        [4.8539],\n",
      "        ...,\n",
      "        [3.9492],\n",
      "        [3.9743],\n",
      "        [3.5171]], device='cuda:0')\n",
      "              precision    recall  f1-score   support\n",
      "\n",
      "           0       0.75      0.36      0.49      8765\n",
      "           1       0.65      0.91      0.75     11235\n",
      "\n",
      "    accuracy                           0.67     20000\n",
      "   macro avg       0.70      0.63      0.62     20000\n",
      "weighted avg       0.69      0.67      0.64     20000\n",
      "\n",
      "Epoch-95: Loss = 2.021\n",
      "Train RMSE = 1.466||Train Precision = 64.088||Train Recall = 90.445\n",
      "Test RMSE = 1.022 || Test Precision = 64.554|| Test Recall = 90.725\n"
     ]
    },
    {
     "name": "stderr",
     "output_type": "stream",
     "text": [
      "3it [00:21,  7.12s/it]\n"
     ]
    },
    {
     "name": "stdout",
     "output_type": "stream",
     "text": [
      "tensor([[3.8837],\n",
      "        [4.0909],\n",
      "        [4.6392],\n",
      "        ...,\n",
      "        [3.6848],\n",
      "        [3.7735],\n",
      "        [3.3836]], device='cuda:0')\n",
      "              precision    recall  f1-score   support\n",
      "\n",
      "           0       0.70      0.50      0.58      8765\n",
      "           1       0.68      0.83      0.75     11235\n",
      "\n",
      "    accuracy                           0.69     20000\n",
      "   macro avg       0.69      0.67      0.67     20000\n",
      "weighted avg       0.69      0.69      0.68     20000\n",
      "\n",
      "Epoch-96: Loss = 2.040\n",
      "Train RMSE = 1.477||Train Precision = 68.657||Train Recall = 82.715\n",
      "Test RMSE = 1.003 || Test Precision = 68.079|| Test Recall = 82.822\n"
     ]
    },
    {
     "name": "stderr",
     "output_type": "stream",
     "text": [
      "3it [00:21,  7.07s/it]\n"
     ]
    },
    {
     "name": "stdout",
     "output_type": "stream",
     "text": [
      "tensor([[3.7702],\n",
      "        [3.9817],\n",
      "        [4.4781],\n",
      "        ...,\n",
      "        [3.5593],\n",
      "        [3.6681],\n",
      "        [3.3102]], device='cuda:0')\n",
      "              precision    recall  f1-score   support\n",
      "\n",
      "           0       0.66      0.59      0.63      8765\n",
      "           1       0.71      0.76      0.73     11235\n",
      "\n",
      "    accuracy                           0.69     20000\n",
      "   macro avg       0.68      0.68      0.68     20000\n",
      "weighted avg       0.69      0.69      0.69     20000\n",
      "\n",
      "Epoch-97: Loss = 1.999\n",
      "Train RMSE = 1.456||Train Precision = 70.620||Train Recall = 74.776\n",
      "Test RMSE = 1.006 || Test Precision = 70.674|| Test Recall = 76.297\n"
     ]
    },
    {
     "name": "stderr",
     "output_type": "stream",
     "text": [
      "3it [00:21,  7.09s/it]\n"
     ]
    },
    {
     "name": "stdout",
     "output_type": "stream",
     "text": [
      "tensor([[3.8548],\n",
      "        [4.0747],\n",
      "        [4.5282],\n",
      "        ...,\n",
      "        [3.6542],\n",
      "        [3.7678],\n",
      "        [3.3878]], device='cuda:0')\n",
      "              precision    recall  f1-score   support\n",
      "\n",
      "           0       0.69      0.53      0.60      8765\n",
      "           1       0.69      0.81      0.75     11235\n",
      "\n",
      "    accuracy                           0.69     20000\n",
      "   macro avg       0.69      0.67      0.67     20000\n",
      "weighted avg       0.69      0.69      0.68     20000\n",
      "\n",
      "Epoch-98: Loss = 1.991\n",
      "Train RMSE = 1.453||Train Precision = 68.978||Train Recall = 80.132\n",
      "Test RMSE = 1.001 || Test Precision = 69.065|| Test Recall = 81.077\n"
     ]
    },
    {
     "name": "stderr",
     "output_type": "stream",
     "text": [
      "3it [00:21,  7.08s/it]\n"
     ]
    },
    {
     "name": "stdout",
     "output_type": "stream",
     "text": [
      "tensor([[3.9505],\n",
      "        [4.2010],\n",
      "        [4.5997],\n",
      "        ...,\n",
      "        [3.7690],\n",
      "        [3.8931],\n",
      "        [3.4642]], device='cuda:0')\n",
      "              precision    recall  f1-score   support\n",
      "\n",
      "           0       0.72      0.46      0.56      8765\n",
      "           1       0.67      0.86      0.75     11235\n",
      "\n",
      "    accuracy                           0.68     20000\n",
      "   macro avg       0.69      0.66      0.66     20000\n",
      "weighted avg       0.69      0.68      0.67     20000\n",
      "\n",
      "Epoch-99: Loss = 1.980\n",
      "Train RMSE = 1.449||Train Precision = 67.034||Train Recall = 85.525\n",
      "Test RMSE = 1.004 || Test Precision = 67.178|| Test Recall = 85.696\n"
     ]
    },
    {
     "name": "stderr",
     "output_type": "stream",
     "text": [
      "3it [00:21,  7.06s/it]\n"
     ]
    },
    {
     "name": "stdout",
     "output_type": "stream",
     "text": [
      "tensor([[3.4466],\n",
      "        [3.6710],\n",
      "        [4.1208],\n",
      "        ...,\n",
      "        [3.2736],\n",
      "        [3.4234],\n",
      "        [3.0616]], device='cuda:0')\n",
      "              precision    recall  f1-score   support\n",
      "\n",
      "           0       0.57      0.80      0.67      8765\n",
      "           1       0.77      0.52      0.62     11235\n",
      "\n",
      "    accuracy                           0.65     20000\n",
      "   macro avg       0.67      0.66      0.64     20000\n",
      "weighted avg       0.68      0.65      0.64     20000\n",
      "\n",
      "Epoch-100: Loss = 2.034\n",
      "Train RMSE = 1.477||Train Precision = 78.189||Train Recall = 49.988\n",
      "Test RMSE = 1.073 || Test Precision = 77.325|| Test Recall = 52.176\n"
     ]
    },
    {
     "name": "stderr",
     "output_type": "stream",
     "text": [
      "3it [00:21,  7.15s/it]\n"
     ]
    },
    {
     "name": "stdout",
     "output_type": "stream",
     "text": [
      "tensor([[3.7077],\n",
      "        [3.8804],\n",
      "        [4.6435],\n",
      "        ...,\n",
      "        [3.6795],\n",
      "        [3.7047],\n",
      "        [3.2933]], device='cuda:0')\n",
      "              precision    recall  f1-score   support\n",
      "\n",
      "           0       0.67      0.58      0.62      8765\n",
      "           1       0.70      0.77      0.74     11235\n",
      "\n",
      "    accuracy                           0.69     20000\n",
      "   macro avg       0.68      0.68      0.68     20000\n",
      "weighted avg       0.69      0.69      0.68     20000\n",
      "\n",
      "Epoch-101: Loss = 2.144\n",
      "Train RMSE = 1.530||Train Precision = 69.838||Train Recall = 76.073\n",
      "Test RMSE = 1.011 || Test Precision = 70.205|| Test Recall = 77.285\n"
     ]
    },
    {
     "name": "stderr",
     "output_type": "stream",
     "text": [
      "3it [00:21,  7.09s/it]\n"
     ]
    },
    {
     "name": "stdout",
     "output_type": "stream",
     "text": [
      "tensor([[3.7697],\n",
      "        [3.9371],\n",
      "        [4.7895],\n",
      "        ...,\n",
      "        [3.6463],\n",
      "        [3.6449],\n",
      "        [3.2919]], device='cuda:0')\n",
      "              precision    recall  f1-score   support\n",
      "\n",
      "           0       0.66      0.58      0.62      8765\n",
      "           1       0.70      0.77      0.73     11235\n",
      "\n",
      "    accuracy                           0.69     20000\n",
      "   macro avg       0.68      0.67      0.68     20000\n",
      "weighted avg       0.68      0.69      0.68     20000\n",
      "\n",
      "Epoch-102: Loss = 2.054\n",
      "Train RMSE = 1.485||Train Precision = 70.282||Train Recall = 77.004\n",
      "Test RMSE = 1.011 || Test Precision = 70.043|| Test Recall = 77.000\n"
     ]
    },
    {
     "name": "stderr",
     "output_type": "stream",
     "text": [
      "3it [00:21,  7.11s/it]\n"
     ]
    },
    {
     "name": "stdout",
     "output_type": "stream",
     "text": [
      "tensor([[3.8033],\n",
      "        [3.9471],\n",
      "        [4.7090],\n",
      "        ...,\n",
      "        [3.5692],\n",
      "        [3.6333],\n",
      "        [3.2955]], device='cuda:0')\n",
      "              precision    recall  f1-score   support\n",
      "\n",
      "           0       0.66      0.59      0.62      8765\n",
      "           1       0.70      0.76      0.73     11235\n",
      "\n",
      "    accuracy                           0.69     20000\n",
      "   macro avg       0.68      0.68      0.68     20000\n",
      "weighted avg       0.69      0.69      0.68     20000\n",
      "\n",
      "Epoch-103: Loss = 2.027\n",
      "Train RMSE = 1.471||Train Precision = 70.415||Train Recall = 74.521\n",
      "Test RMSE = 1.009 || Test Precision = 70.401|| Test Recall = 76.466\n"
     ]
    },
    {
     "name": "stderr",
     "output_type": "stream",
     "text": [
      "3it [00:21,  7.10s/it]\n"
     ]
    },
    {
     "name": "stdout",
     "output_type": "stream",
     "text": [
      "tensor([[3.8035],\n",
      "        [3.9780],\n",
      "        [4.5414],\n",
      "        ...,\n",
      "        [3.4738],\n",
      "        [3.6694],\n",
      "        [3.3249]], device='cuda:0')\n",
      "              precision    recall  f1-score   support\n",
      "\n",
      "           0       0.67      0.59      0.62      8765\n",
      "           1       0.70      0.77      0.74     11235\n",
      "\n",
      "    accuracy                           0.69     20000\n",
      "   macro avg       0.69      0.68      0.68     20000\n",
      "weighted avg       0.69      0.69      0.69     20000\n",
      "\n",
      "Epoch-104: Loss = 2.007\n",
      "Train RMSE = 1.462||Train Precision = 70.684||Train Recall = 75.439\n",
      "Test RMSE = 1.005 || Test Precision = 70.492|| Test Recall = 77.098\n"
     ]
    },
    {
     "name": "stderr",
     "output_type": "stream",
     "text": [
      "3it [00:21,  7.08s/it]\n"
     ]
    },
    {
     "name": "stdout",
     "output_type": "stream",
     "text": [
      "tensor([[3.8499],\n",
      "        [4.0761],\n",
      "        [4.4959],\n",
      "        ...,\n",
      "        [3.6297],\n",
      "        [3.8183],\n",
      "        [3.3859]], device='cuda:0')\n",
      "              precision    recall  f1-score   support\n",
      "\n",
      "           0       0.69      0.54      0.61      8765\n",
      "           1       0.69      0.81      0.75     11235\n",
      "\n",
      "    accuracy                           0.69     20000\n",
      "   macro avg       0.69      0.67      0.68     20000\n",
      "weighted avg       0.69      0.69      0.68     20000\n",
      "\n",
      "Epoch-105: Loss = 2.000\n",
      "Train RMSE = 1.459||Train Precision = 69.245||Train Recall = 79.745\n",
      "Test RMSE = 1.000 || Test Precision = 69.268|| Test Recall = 81.050\n"
     ]
    },
    {
     "name": "stderr",
     "output_type": "stream",
     "text": [
      "3it [00:21,  7.11s/it]\n"
     ]
    },
    {
     "name": "stdout",
     "output_type": "stream",
     "text": [
      "tensor([[3.9227],\n",
      "        [4.1408],\n",
      "        [4.5340],\n",
      "        ...,\n",
      "        [3.8011],\n",
      "        [3.9126],\n",
      "        [3.4068]], device='cuda:0')\n",
      "              precision    recall  f1-score   support\n",
      "\n",
      "           0       0.70      0.51      0.59      8765\n",
      "           1       0.69      0.83      0.75     11235\n",
      "\n",
      "    accuracy                           0.69     20000\n",
      "   macro avg       0.69      0.67      0.67     20000\n",
      "weighted avg       0.69      0.69      0.68     20000\n",
      "\n",
      "Epoch-106: Loss = 1.979\n",
      "Train RMSE = 1.450||Train Precision = 68.358||Train Recall = 82.809\n",
      "Test RMSE = 1.000 || Test Precision = 68.553|| Test Recall = 83.142\n"
     ]
    },
    {
     "name": "stderr",
     "output_type": "stream",
     "text": [
      "3it [00:21,  7.08s/it]\n"
     ]
    },
    {
     "name": "stdout",
     "output_type": "stream",
     "text": [
      "tensor([[4.0009],\n",
      "        [4.2251],\n",
      "        [4.6676],\n",
      "        ...,\n",
      "        [3.8619],\n",
      "        [4.0218],\n",
      "        [3.4792]], device='cuda:0')\n",
      "              precision    recall  f1-score   support\n",
      "\n",
      "           0       0.73      0.46      0.56      8765\n",
      "           1       0.67      0.87      0.76     11235\n",
      "\n",
      "    accuracy                           0.69     20000\n",
      "   macro avg       0.70      0.66      0.66     20000\n",
      "weighted avg       0.69      0.69      0.67     20000\n",
      "\n",
      "Epoch-107: Loss = 1.971\n",
      "Train RMSE = 1.448||Train Precision = 66.230||Train Recall = 86.196\n",
      "Test RMSE = 1.004 || Test Precision = 67.067|| Test Recall = 86.551\n"
     ]
    },
    {
     "name": "stderr",
     "output_type": "stream",
     "text": [
      "3it [00:21,  7.11s/it]\n"
     ]
    },
    {
     "name": "stdout",
     "output_type": "stream",
     "text": [
      "tensor([[3.9335],\n",
      "        [4.1499],\n",
      "        [4.6151],\n",
      "        ...,\n",
      "        [3.7148],\n",
      "        [3.9273],\n",
      "        [3.4533]], device='cuda:0')\n",
      "              precision    recall  f1-score   support\n",
      "\n",
      "           0       0.71      0.49      0.58      8765\n",
      "           1       0.68      0.85      0.75     11235\n",
      "\n",
      "    accuracy                           0.69     20000\n",
      "   macro avg       0.70      0.67      0.67     20000\n",
      "weighted avg       0.69      0.69      0.68     20000\n",
      "\n",
      "Epoch-108: Loss = 1.970\n",
      "Train RMSE = 1.448||Train Precision = 67.702||Train Recall = 84.037\n",
      "Test RMSE = 0.998 || Test Precision = 68.013|| Test Recall = 84.655\n"
     ]
    },
    {
     "name": "stderr",
     "output_type": "stream",
     "text": [
      "3it [00:21,  7.08s/it]\n"
     ]
    },
    {
     "name": "stdout",
     "output_type": "stream",
     "text": [
      "tensor([[3.7277],\n",
      "        [3.9277],\n",
      "        [4.4281],\n",
      "        ...,\n",
      "        [3.4598],\n",
      "        [3.6648],\n",
      "        [3.3113]], device='cuda:0')\n",
      "              precision    recall  f1-score   support\n",
      "\n",
      "           0       0.65      0.64      0.65      8765\n",
      "           1       0.72      0.72      0.72     11235\n",
      "\n",
      "    accuracy                           0.69     20000\n",
      "   macro avg       0.68      0.68      0.68     20000\n",
      "weighted avg       0.69      0.69      0.69     20000\n",
      "\n",
      "Epoch-109: Loss = 1.973\n",
      "Train RMSE = 1.449||Train Precision = 72.118||Train Recall = 70.707\n",
      "Test RMSE = 1.008 || Test Precision = 72.319|| Test Recall = 72.390\n"
     ]
    },
    {
     "name": "stderr",
     "output_type": "stream",
     "text": [
      "3it [00:21,  7.09s/it]\n"
     ]
    },
    {
     "name": "stdout",
     "output_type": "stream",
     "text": [
      "tensor([[3.8335],\n",
      "        [3.9968],\n",
      "        [4.5377],\n",
      "        ...,\n",
      "        [3.6366],\n",
      "        [3.7831],\n",
      "        [3.4000]], device='cuda:0')\n",
      "              precision    recall  f1-score   support\n",
      "\n",
      "           0       0.69      0.56      0.61      8765\n",
      "           1       0.70      0.80      0.75     11235\n",
      "\n",
      "    accuracy                           0.69     20000\n",
      "   macro avg       0.69      0.68      0.68     20000\n",
      "weighted avg       0.69      0.69      0.69     20000\n",
      "\n",
      "Epoch-110: Loss = 1.981\n",
      "Train RMSE = 1.454||Train Precision = 69.458||Train Recall = 78.831\n",
      "Test RMSE = 0.996 || Test Precision = 69.789|| Test Recall = 80.187\n"
     ]
    },
    {
     "name": "stderr",
     "output_type": "stream",
     "text": [
      "3it [00:21,  7.11s/it]\n"
     ]
    },
    {
     "name": "stdout",
     "output_type": "stream",
     "text": [
      "tensor([[4.0283],\n",
      "        [4.1812],\n",
      "        [4.7301],\n",
      "        ...,\n",
      "        [3.8808],\n",
      "        [3.9768],\n",
      "        [3.5477]], device='cuda:0')\n",
      "              precision    recall  f1-score   support\n",
      "\n",
      "           0       0.74      0.42      0.54      8765\n",
      "           1       0.66      0.89      0.76     11235\n",
      "\n",
      "    accuracy                           0.68     20000\n",
      "   macro avg       0.70      0.65      0.65     20000\n",
      "weighted avg       0.70      0.68      0.66     20000\n",
      "\n",
      "Epoch-111: Loss = 1.972\n",
      "Train RMSE = 1.450||Train Precision = 65.871||Train Recall = 87.918\n",
      "Test RMSE = 1.004 || Test Precision = 66.294|| Test Recall = 88.598\n"
     ]
    },
    {
     "name": "stderr",
     "output_type": "stream",
     "text": [
      "3it [00:21,  7.09s/it]\n"
     ]
    },
    {
     "name": "stdout",
     "output_type": "stream",
     "text": [
      "tensor([[3.8214],\n",
      "        [3.9846],\n",
      "        [4.5228],\n",
      "        ...,\n",
      "        [3.6602],\n",
      "        [3.7909],\n",
      "        [3.3948]], device='cuda:0')\n",
      "              precision    recall  f1-score   support\n",
      "\n",
      "           0       0.68      0.56      0.62      8765\n",
      "           1       0.70      0.80      0.75     11235\n",
      "\n",
      "    accuracy                           0.69     20000\n",
      "   macro avg       0.69      0.68      0.68     20000\n",
      "weighted avg       0.69      0.69      0.69     20000\n",
      "\n",
      "Epoch-112: Loss = 1.971\n",
      "Train RMSE = 1.450||Train Precision = 69.915||Train Recall = 78.392\n",
      "Test RMSE = 0.995 || Test Precision = 69.965|| Test Recall = 79.866\n"
     ]
    },
    {
     "name": "stderr",
     "output_type": "stream",
     "text": [
      "3it [00:21,  7.11s/it]\n"
     ]
    },
    {
     "name": "stdout",
     "output_type": "stream",
     "text": [
      "tensor([[3.8082],\n",
      "        [3.9923],\n",
      "        [4.4831],\n",
      "        ...,\n",
      "        [3.5648],\n",
      "        [3.7185],\n",
      "        [3.3707]], device='cuda:0')\n",
      "              precision    recall  f1-score   support\n",
      "\n",
      "           0       0.67      0.59      0.63      8765\n",
      "           1       0.71      0.78      0.74     11235\n",
      "\n",
      "    accuracy                           0.69     20000\n",
      "   macro avg       0.69      0.68      0.68     20000\n",
      "weighted avg       0.69      0.69      0.69     20000\n",
      "\n",
      "Epoch-113: Loss = 1.945\n",
      "Train RMSE = 1.437||Train Precision = 70.533||Train Recall = 76.255\n",
      "Test RMSE = 0.997 || Test Precision = 70.716|| Test Recall = 77.721\n"
     ]
    },
    {
     "name": "stderr",
     "output_type": "stream",
     "text": [
      "3it [00:21,  7.11s/it]\n"
     ]
    },
    {
     "name": "stdout",
     "output_type": "stream",
     "text": [
      "tensor([[4.0674],\n",
      "        [4.2691],\n",
      "        [4.7341],\n",
      "        ...,\n",
      "        [3.9567],\n",
      "        [4.0751],\n",
      "        [3.6304]], device='cuda:0')\n",
      "              precision    recall  f1-score   support\n",
      "\n",
      "           0       0.77      0.36      0.49      8765\n",
      "           1       0.65      0.92      0.76     11235\n",
      "\n",
      "    accuracy                           0.67     20000\n",
      "   macro avg       0.71      0.64      0.62     20000\n",
      "weighted avg       0.70      0.67      0.64     20000\n",
      "\n",
      "Epoch-114: Loss = 1.969\n",
      "Train RMSE = 1.450||Train Precision = 64.071||Train Recall = 91.223\n",
      "Test RMSE = 1.019 || Test Precision = 64.650|| Test Recall = 91.794\n"
     ]
    },
    {
     "name": "stderr",
     "output_type": "stream",
     "text": [
      "3it [00:21,  7.12s/it]\n"
     ]
    },
    {
     "name": "stdout",
     "output_type": "stream",
     "text": [
      "tensor([[3.7348],\n",
      "        [3.9187],\n",
      "        [4.4723],\n",
      "        ...,\n",
      "        [3.6203],\n",
      "        [3.7115],\n",
      "        [3.3450]], device='cuda:0')\n",
      "              precision    recall  f1-score   support\n",
      "\n",
      "           0       0.67      0.59      0.63      8765\n",
      "           1       0.71      0.77      0.74     11235\n",
      "\n",
      "    accuracy                           0.69     20000\n",
      "   macro avg       0.69      0.68      0.68     20000\n",
      "weighted avg       0.69      0.69      0.69     20000\n",
      "\n",
      "Epoch-115: Loss = 2.012\n",
      "Train RMSE = 1.472||Train Precision = 70.894||Train Recall = 75.928\n",
      "Test RMSE = 0.998 || Test Precision = 70.889|| Test Recall = 77.463\n"
     ]
    },
    {
     "name": "stderr",
     "output_type": "stream",
     "text": [
      "3it [00:21,  7.11s/it]\n"
     ]
    },
    {
     "name": "stdout",
     "output_type": "stream",
     "text": [
      "tensor([[3.7460],\n",
      "        [3.9013],\n",
      "        [4.4763],\n",
      "        ...,\n",
      "        [3.5751],\n",
      "        [3.6328],\n",
      "        [3.3282]], device='cuda:0')\n",
      "              precision    recall  f1-score   support\n",
      "\n",
      "           0       0.66      0.61      0.64      8765\n",
      "           1       0.71      0.75      0.73     11235\n",
      "\n",
      "    accuracy                           0.69     20000\n",
      "   macro avg       0.69      0.68      0.68     20000\n",
      "weighted avg       0.69      0.69      0.69     20000\n",
      "\n",
      "Epoch-116: Loss = 1.953\n",
      "Train RMSE = 1.442||Train Precision = 71.448||Train Recall = 74.138\n",
      "Test RMSE = 1.000 || Test Precision = 71.395|| Test Recall = 75.131\n"
     ]
    },
    {
     "name": "stderr",
     "output_type": "stream",
     "text": [
      "3it [00:21,  7.10s/it]\n"
     ]
    },
    {
     "name": "stdout",
     "output_type": "stream",
     "text": [
      "tensor([[3.8522],\n",
      "        [4.0018],\n",
      "        [4.5160],\n",
      "        ...,\n",
      "        [3.6554],\n",
      "        [3.7361],\n",
      "        [3.4168]], device='cuda:0')\n",
      "              precision    recall  f1-score   support\n",
      "\n",
      "           0       0.69      0.54      0.61      8765\n",
      "           1       0.70      0.81      0.75     11235\n",
      "\n",
      "    accuracy                           0.70     20000\n",
      "   macro avg       0.70      0.68      0.68     20000\n",
      "weighted avg       0.70      0.70      0.69     20000\n",
      "\n",
      "Epoch-117: Loss = 1.951\n",
      "Train RMSE = 1.441||Train Precision = 68.902||Train Recall = 79.519\n",
      "Test RMSE = 0.992 || Test Precision = 69.608|| Test Recall = 81.317\n"
     ]
    },
    {
     "name": "stderr",
     "output_type": "stream",
     "text": [
      "3it [00:21,  7.11s/it]\n"
     ]
    },
    {
     "name": "stdout",
     "output_type": "stream",
     "text": [
      "tensor([[3.9469],\n",
      "        [4.1494],\n",
      "        [4.5634],\n",
      "        ...,\n",
      "        [3.7319],\n",
      "        [3.8785],\n",
      "        [3.5245]], device='cuda:0')\n",
      "              precision    recall  f1-score   support\n",
      "\n",
      "           0       0.73      0.47      0.57      8765\n",
      "           1       0.68      0.86      0.76     11235\n",
      "\n",
      "    accuracy                           0.69     20000\n",
      "   macro avg       0.70      0.67      0.66     20000\n",
      "weighted avg       0.70      0.69      0.68     20000\n",
      "\n",
      "Epoch-118: Loss = 1.937\n",
      "Train RMSE = 1.434||Train Precision = 67.657||Train Recall = 85.606\n",
      "Test RMSE = 0.996 || Test Precision = 67.573|| Test Recall = 86.231\n"
     ]
    },
    {
     "name": "stderr",
     "output_type": "stream",
     "text": [
      "3it [00:21,  7.08s/it]\n"
     ]
    },
    {
     "name": "stdout",
     "output_type": "stream",
     "text": [
      "tensor([[3.6754],\n",
      "        [3.8879],\n",
      "        [4.3159],\n",
      "        ...,\n",
      "        [3.5270],\n",
      "        [3.6850],\n",
      "        [3.2860]], device='cuda:0')\n",
      "              precision    recall  f1-score   support\n",
      "\n",
      "           0       0.65      0.64      0.65      8765\n",
      "           1       0.72      0.73      0.73     11235\n",
      "\n",
      "    accuracy                           0.69     20000\n",
      "   macro avg       0.69      0.69      0.69     20000\n",
      "weighted avg       0.69      0.69      0.69     20000\n",
      "\n",
      "Epoch-119: Loss = 1.948\n",
      "Train RMSE = 1.440||Train Precision = 72.960||Train Recall = 71.958\n",
      "Test RMSE = 1.001 || Test Precision = 72.466|| Test Recall = 73.040\n"
     ]
    },
    {
     "name": "stderr",
     "output_type": "stream",
     "text": [
      "3it [00:21,  7.03s/it]\n"
     ]
    },
    {
     "name": "stdout",
     "output_type": "stream",
     "text": [
      "tensor([[3.9635],\n",
      "        [4.1494],\n",
      "        [4.6723],\n",
      "        ...,\n",
      "        [3.8312],\n",
      "        [3.9338],\n",
      "        [3.5215]], device='cuda:0')\n",
      "              precision    recall  f1-score   support\n",
      "\n",
      "           0       0.74      0.45      0.56      8765\n",
      "           1       0.67      0.87      0.76     11235\n",
      "\n",
      "    accuracy                           0.69     20000\n",
      "   macro avg       0.70      0.66      0.66     20000\n",
      "weighted avg       0.70      0.69      0.67     20000\n",
      "\n",
      "Epoch-120: Loss = 1.973\n",
      "Train RMSE = 1.453||Train Precision = 66.753||Train Recall = 87.026\n",
      "Test RMSE = 0.997 || Test Precision = 67.095|| Test Recall = 87.405\n"
     ]
    },
    {
     "name": "stderr",
     "output_type": "stream",
     "text": [
      "3it [00:21,  7.02s/it]\n"
     ]
    },
    {
     "name": "stdout",
     "output_type": "stream",
     "text": [
      "tensor([[3.9669],\n",
      "        [4.1183],\n",
      "        [4.6942],\n",
      "        ...,\n",
      "        [3.7643],\n",
      "        [3.8539],\n",
      "        [3.5235]], device='cuda:0')\n",
      "              precision    recall  f1-score   support\n",
      "\n",
      "           0       0.73      0.47      0.57      8765\n",
      "           1       0.68      0.86      0.76     11235\n",
      "\n",
      "    accuracy                           0.69     20000\n",
      "   macro avg       0.70      0.67      0.66     20000\n",
      "weighted avg       0.70      0.69      0.68     20000\n",
      "\n",
      "Epoch-121: Loss = 1.934\n",
      "Train RMSE = 1.434||Train Precision = 66.898||Train Recall = 85.608\n",
      "Test RMSE = 0.994 || Test Precision = 67.500|| Test Recall = 86.480\n"
     ]
    },
    {
     "name": "stderr",
     "output_type": "stream",
     "text": [
      "3it [00:21,  7.03s/it]\n"
     ]
    },
    {
     "name": "stdout",
     "output_type": "stream",
     "text": [
      "tensor([[3.7297],\n",
      "        [3.8654],\n",
      "        [4.4347],\n",
      "        ...,\n",
      "        [3.4824],\n",
      "        [3.5963],\n",
      "        [3.3082]], device='cuda:0')\n",
      "              precision    recall  f1-score   support\n",
      "\n",
      "           0       0.65      0.64      0.65      8765\n",
      "           1       0.72      0.73      0.73     11235\n",
      "\n",
      "    accuracy                           0.69     20000\n",
      "   macro avg       0.69      0.69      0.69     20000\n",
      "weighted avg       0.69      0.69      0.69     20000\n",
      "\n",
      "Epoch-122: Loss = 1.940\n",
      "Train RMSE = 1.437||Train Precision = 72.754||Train Recall = 72.036\n",
      "Test RMSE = 1.000 || Test Precision = 72.274|| Test Recall = 73.458\n"
     ]
    },
    {
     "name": "stderr",
     "output_type": "stream",
     "text": [
      "3it [00:21,  7.06s/it]\n"
     ]
    },
    {
     "name": "stdout",
     "output_type": "stream",
     "text": [
      "tensor([[4.0458],\n",
      "        [4.2540],\n",
      "        [4.7611],\n",
      "        ...,\n",
      "        [3.9294],\n",
      "        [4.0855],\n",
      "        [3.6688]], device='cuda:0')\n",
      "              precision    recall  f1-score   support\n",
      "\n",
      "           0       0.78      0.34      0.48      8765\n",
      "           1       0.64      0.93      0.76     11235\n",
      "\n",
      "    accuracy                           0.67     20000\n",
      "   macro avg       0.71      0.63      0.62     20000\n",
      "weighted avg       0.70      0.67      0.64     20000\n",
      "\n",
      "Epoch-123: Loss = 1.991\n",
      "Train RMSE = 1.464||Train Precision = 63.235||Train Recall = 92.399\n",
      "Test RMSE = 1.020 || Test Precision = 64.333|| Test Recall = 92.506\n"
     ]
    },
    {
     "name": "stderr",
     "output_type": "stream",
     "text": [
      "3it [00:21,  7.03s/it]\n"
     ]
    },
    {
     "name": "stdout",
     "output_type": "stream",
     "text": [
      "tensor([[3.9027],\n",
      "        [4.0954],\n",
      "        [4.6928],\n",
      "        ...,\n",
      "        [3.8333],\n",
      "        [3.9107],\n",
      "        [3.5248]], device='cuda:0')\n",
      "              precision    recall  f1-score   support\n",
      "\n",
      "           0       0.74      0.45      0.56      8765\n",
      "           1       0.67      0.88      0.76     11235\n",
      "\n",
      "    accuracy                           0.69     20000\n",
      "   macro avg       0.71      0.66      0.66     20000\n",
      "weighted avg       0.70      0.69      0.67     20000\n",
      "\n",
      "Epoch-124: Loss = 1.988\n",
      "Train RMSE = 1.462||Train Precision = 66.365||Train Recall = 87.309\n",
      "Test RMSE = 0.996 || Test Precision = 67.052|| Test Recall = 87.850\n"
     ]
    },
    {
     "name": "stderr",
     "output_type": "stream",
     "text": [
      "3it [00:21,  7.13s/it]\n"
     ]
    },
    {
     "name": "stdout",
     "output_type": "stream",
     "text": [
      "tensor([[3.9072],\n",
      "        [4.0201],\n",
      "        [4.6455],\n",
      "        ...,\n",
      "        [3.7550],\n",
      "        [3.7928],\n",
      "        [3.4454]], device='cuda:0')\n",
      "              precision    recall  f1-score   support\n",
      "\n",
      "           0       0.72      0.49      0.58      8765\n",
      "           1       0.68      0.85      0.76     11235\n",
      "\n",
      "    accuracy                           0.69     20000\n",
      "   macro avg       0.70      0.67      0.67     20000\n",
      "weighted avg       0.70      0.69      0.68     20000\n",
      "\n",
      "Epoch-125: Loss = 1.963\n",
      "Train RMSE = 1.450||Train Precision = 68.117||Train Recall = 84.009\n",
      "Test RMSE = 0.991 || Test Precision = 68.231|| Test Recall = 84.913\n"
     ]
    },
    {
     "name": "stderr",
     "output_type": "stream",
     "text": [
      "3it [00:21,  7.12s/it]\n"
     ]
    },
    {
     "name": "stdout",
     "output_type": "stream",
     "text": [
      "tensor([[3.7752],\n",
      "        [3.8970],\n",
      "        [4.4421],\n",
      "        ...,\n",
      "        [3.5547],\n",
      "        [3.6473],\n",
      "        [3.3465]], device='cuda:0')\n",
      "              precision    recall  f1-score   support\n",
      "\n",
      "           0       0.68      0.60      0.63      8765\n",
      "           1       0.71      0.78      0.74     11235\n",
      "\n",
      "    accuracy                           0.70     20000\n",
      "   macro avg       0.69      0.69      0.69     20000\n",
      "weighted avg       0.70      0.70      0.70     20000\n",
      "\n",
      "Epoch-126: Loss = 1.964\n",
      "Train RMSE = 1.450||Train Precision = 70.965||Train Recall = 76.738\n",
      "Test RMSE = 0.994 || Test Precision = 71.203|| Test Recall = 77.579\n"
     ]
    },
    {
     "name": "stderr",
     "output_type": "stream",
     "text": [
      "3it [00:21,  7.12s/it]\n"
     ]
    },
    {
     "name": "stdout",
     "output_type": "stream",
     "text": [
      "tensor([[3.6968],\n",
      "        [3.8888],\n",
      "        [4.3472],\n",
      "        ...,\n",
      "        [3.4618],\n",
      "        [3.6172],\n",
      "        [3.3106]], device='cuda:0')\n",
      "              precision    recall  f1-score   support\n",
      "\n",
      "           0       0.66      0.63      0.64      8765\n",
      "           1       0.72      0.75      0.73     11235\n",
      "\n",
      "    accuracy                           0.69     20000\n",
      "   macro avg       0.69      0.69      0.69     20000\n",
      "weighted avg       0.69      0.69      0.69     20000\n",
      "\n",
      "Epoch-127: Loss = 1.940\n",
      "Train RMSE = 1.438||Train Precision = 72.265||Train Recall = 72.866\n",
      "Test RMSE = 0.998 || Test Precision = 72.042|| Test Recall = 74.517\n"
     ]
    },
    {
     "name": "stderr",
     "output_type": "stream",
     "text": [
      "3it [00:21,  7.14s/it]\n"
     ]
    },
    {
     "name": "stdout",
     "output_type": "stream",
     "text": [
      "tensor([[3.7206],\n",
      "        [3.9164],\n",
      "        [4.3726],\n",
      "        ...,\n",
      "        [3.5330],\n",
      "        [3.6636],\n",
      "        [3.2934]], device='cuda:0')\n",
      "              precision    recall  f1-score   support\n",
      "\n",
      "           0       0.66      0.62      0.64      8765\n",
      "           1       0.72      0.75      0.74     11235\n",
      "\n",
      "    accuracy                           0.70     20000\n",
      "   macro avg       0.69      0.69      0.69     20000\n",
      "weighted avg       0.69      0.70      0.69     20000\n",
      "\n",
      "Epoch-128: Loss = 1.932\n",
      "Train RMSE = 1.434||Train Precision = 71.576||Train Recall = 73.649\n",
      "Test RMSE = 0.996 || Test Precision = 71.971|| Test Recall = 75.194\n"
     ]
    },
    {
     "name": "stderr",
     "output_type": "stream",
     "text": [
      "3it [00:21,  7.09s/it]\n"
     ]
    },
    {
     "name": "stdout",
     "output_type": "stream",
     "text": [
      "tensor([[3.7733],\n",
      "        [3.9374],\n",
      "        [4.4439],\n",
      "        ...,\n",
      "        [3.5914],\n",
      "        [3.6813],\n",
      "        [3.3310]], device='cuda:0')\n",
      "              precision    recall  f1-score   support\n",
      "\n",
      "           0       0.67      0.61      0.64      8765\n",
      "           1       0.72      0.76      0.74     11235\n",
      "\n",
      "    accuracy                           0.70     20000\n",
      "   macro avg       0.69      0.69      0.69     20000\n",
      "weighted avg       0.69      0.70      0.69     20000\n",
      "\n",
      "Epoch-129: Loss = 1.926\n",
      "Train RMSE = 1.431||Train Precision = 71.882||Train Recall = 75.068\n",
      "Test RMSE = 0.993 || Test Precision = 71.544|| Test Recall = 76.333\n"
     ]
    },
    {
     "name": "stderr",
     "output_type": "stream",
     "text": [
      "3it [00:21,  7.13s/it]\n"
     ]
    },
    {
     "name": "stdout",
     "output_type": "stream",
     "text": [
      "tensor([[3.9383],\n",
      "        [4.1631],\n",
      "        [4.6800],\n",
      "        ...,\n",
      "        [3.8267],\n",
      "        [3.9519],\n",
      "        [3.5749]], device='cuda:0')\n",
      "              precision    recall  f1-score   support\n",
      "\n",
      "           0       0.75      0.42      0.54      8765\n",
      "           1       0.66      0.89      0.76     11235\n",
      "\n",
      "    accuracy                           0.69     20000\n",
      "   macro avg       0.71      0.66      0.65     20000\n",
      "weighted avg       0.70      0.69      0.67     20000\n",
      "\n",
      "Epoch-130: Loss = 1.950\n",
      "Train RMSE = 1.444||Train Precision = 65.582||Train Recall = 88.486\n",
      "Test RMSE = 0.998 || Test Precision = 66.487|| Test Recall = 89.159\n"
     ]
    },
    {
     "name": "stderr",
     "output_type": "stream",
     "text": [
      "3it [00:21,  7.14s/it]\n"
     ]
    },
    {
     "name": "stdout",
     "output_type": "stream",
     "text": [
      "tensor([[3.8868],\n",
      "        [4.0972],\n",
      "        [4.6494],\n",
      "        ...,\n",
      "        [3.7088],\n",
      "        [3.8077],\n",
      "        [3.4856]], device='cuda:0')\n",
      "              precision    recall  f1-score   support\n",
      "\n",
      "           0       0.72      0.50      0.59      8765\n",
      "           1       0.68      0.85      0.76     11235\n",
      "\n",
      "    accuracy                           0.70     20000\n",
      "   macro avg       0.70      0.67      0.67     20000\n",
      "weighted avg       0.70      0.70      0.68     20000\n",
      "\n",
      "Epoch-131: Loss = 1.927\n",
      "Train RMSE = 1.432||Train Precision = 68.242||Train Recall = 84.340\n",
      "Test RMSE = 0.989 || Test Precision = 68.423|| Test Recall = 85.287\n"
     ]
    },
    {
     "name": "stderr",
     "output_type": "stream",
     "text": [
      "3it [00:21,  7.09s/it]\n"
     ]
    },
    {
     "name": "stdout",
     "output_type": "stream",
     "text": [
      "tensor([[3.6949],\n",
      "        [3.8943],\n",
      "        [4.3900],\n",
      "        ...,\n",
      "        [3.6231],\n",
      "        [3.7004],\n",
      "        [3.2927]], device='cuda:0')\n",
      "              precision    recall  f1-score   support\n",
      "\n",
      "           0       0.66      0.63      0.65      8765\n",
      "           1       0.72      0.75      0.74     11235\n",
      "\n",
      "    accuracy                           0.70     20000\n",
      "   macro avg       0.69      0.69      0.69     20000\n",
      "weighted avg       0.70      0.70      0.70     20000\n",
      "\n",
      "Epoch-132: Loss = 1.920\n",
      "Train RMSE = 1.428||Train Precision = 71.955||Train Recall = 74.009\n",
      "Test RMSE = 0.992 || Test Precision = 72.111|| Test Recall = 75.372\n"
     ]
    },
    {
     "name": "stderr",
     "output_type": "stream",
     "text": [
      "3it [00:21,  7.06s/it]\n"
     ]
    },
    {
     "name": "stdout",
     "output_type": "stream",
     "text": [
      "tensor([[4.0862],\n",
      "        [4.3026],\n",
      "        [4.8165],\n",
      "        ...,\n",
      "        [3.9966],\n",
      "        [4.1163],\n",
      "        [3.6838]], device='cuda:0')\n",
      "              precision    recall  f1-score   support\n",
      "\n",
      "           0       0.79      0.33      0.47      8765\n",
      "           1       0.64      0.93      0.76     11235\n",
      "\n",
      "    accuracy                           0.67     20000\n",
      "   macro avg       0.72      0.63      0.62     20000\n",
      "weighted avg       0.71      0.67      0.63     20000\n",
      "\n",
      "Epoch-133: Loss = 1.958\n",
      "Train RMSE = 1.448||Train Precision = 64.162||Train Recall = 92.938\n",
      "Test RMSE = 1.026 || Test Precision = 64.216|| Test Recall = 93.120\n"
     ]
    },
    {
     "name": "stderr",
     "output_type": "stream",
     "text": [
      "3it [00:21,  7.09s/it]\n"
     ]
    },
    {
     "name": "stdout",
     "output_type": "stream",
     "text": [
      "tensor([[3.8356],\n",
      "        [4.0630],\n",
      "        [4.6740],\n",
      "        ...,\n",
      "        [3.7331],\n",
      "        [3.8739],\n",
      "        [3.5386]], device='cuda:0')\n",
      "              precision    recall  f1-score   support\n",
      "\n",
      "           0       0.75      0.44      0.56      8765\n",
      "           1       0.67      0.88      0.76     11235\n",
      "\n",
      "    accuracy                           0.69     20000\n",
      "   macro avg       0.71      0.66      0.66     20000\n",
      "weighted avg       0.70      0.69      0.67     20000\n",
      "\n",
      "Epoch-134: Loss = 2.027\n",
      "Train RMSE = 1.483||Train Precision = 65.738||Train Recall = 87.940\n",
      "Test RMSE = 0.993 || Test Precision = 67.011|| Test Recall = 88.429\n"
     ]
    },
    {
     "name": "stderr",
     "output_type": "stream",
     "text": [
      "3it [00:21,  7.08s/it]\n"
     ]
    },
    {
     "name": "stdout",
     "output_type": "stream",
     "text": [
      "tensor([[3.9176],\n",
      "        [4.0528],\n",
      "        [4.7891],\n",
      "        ...,\n",
      "        [3.7133],\n",
      "        [3.7472],\n",
      "        [3.4556]], device='cuda:0')\n",
      "              precision    recall  f1-score   support\n",
      "\n",
      "           0       0.72      0.49      0.58      8765\n",
      "           1       0.68      0.85      0.76     11235\n",
      "\n",
      "    accuracy                           0.69     20000\n",
      "   macro avg       0.70      0.67      0.67     20000\n",
      "weighted avg       0.70      0.69      0.68     20000\n",
      "\n",
      "Epoch-135: Loss = 1.973\n",
      "Train RMSE = 1.456||Train Precision = 67.787||Train Recall = 84.293\n",
      "Test RMSE = 0.991 || Test Precision = 68.113|| Test Recall = 85.349\n"
     ]
    },
    {
     "name": "stderr",
     "output_type": "stream",
     "text": [
      "3it [00:21,  7.01s/it]\n"
     ]
    },
    {
     "name": "stdout",
     "output_type": "stream",
     "text": [
      "tensor([[3.9471],\n",
      "        [4.0658],\n",
      "        [4.7280],\n",
      "        ...,\n",
      "        [3.7734],\n",
      "        [3.8177],\n",
      "        [3.4348]], device='cuda:0')\n",
      "              precision    recall  f1-score   support\n",
      "\n",
      "           0       0.73      0.48      0.58      8765\n",
      "           1       0.68      0.86      0.76     11235\n",
      "\n",
      "    accuracy                           0.69     20000\n",
      "   macro avg       0.70      0.67      0.67     20000\n",
      "weighted avg       0.70      0.69      0.68     20000\n",
      "\n",
      "Epoch-136: Loss = 1.937\n",
      "Train RMSE = 1.437||Train Precision = 67.079||Train Recall = 85.416\n",
      "Test RMSE = 0.989 || Test Precision = 67.915|| Test Recall = 86.213\n"
     ]
    },
    {
     "name": "stderr",
     "output_type": "stream",
     "text": [
      "3it [00:21,  7.01s/it]\n"
     ]
    },
    {
     "name": "stdout",
     "output_type": "stream",
     "text": [
      "tensor([[3.7925],\n",
      "        [4.0112],\n",
      "        [4.4749],\n",
      "        ...,\n",
      "        [3.6106],\n",
      "        [3.7521],\n",
      "        [3.3636]], device='cuda:0')\n",
      "              precision    recall  f1-score   support\n",
      "\n",
      "           0       0.69      0.56      0.62      8765\n",
      "           1       0.70      0.81      0.75     11235\n",
      "\n",
      "    accuracy                           0.70     20000\n",
      "   macro avg       0.70      0.68      0.68     20000\n",
      "weighted avg       0.70      0.70      0.69     20000\n",
      "\n",
      "Epoch-137: Loss = 1.945\n",
      "Train RMSE = 1.442||Train Precision = 69.563||Train Recall = 79.483\n",
      "Test RMSE = 0.986 || Test Precision = 70.099|| Test Recall = 80.774\n"
     ]
    },
    {
     "name": "stderr",
     "output_type": "stream",
     "text": [
      "3it [00:21,  7.02s/it]\n"
     ]
    },
    {
     "name": "stdout",
     "output_type": "stream",
     "text": [
      "tensor([[3.6789],\n",
      "        [3.9308],\n",
      "        [4.3016],\n",
      "        ...,\n",
      "        [3.5529],\n",
      "        [3.7269],\n",
      "        [3.3033]], device='cuda:0')\n",
      "              precision    recall  f1-score   support\n",
      "\n",
      "           0       0.67      0.62      0.65      8765\n",
      "           1       0.72      0.76      0.74     11235\n",
      "\n",
      "    accuracy                           0.70     20000\n",
      "   macro avg       0.70      0.69      0.69     20000\n",
      "weighted avg       0.70      0.70      0.70     20000\n",
      "\n",
      "Epoch-138: Loss = 1.930\n",
      "Train RMSE = 1.434||Train Precision = 72.148||Train Recall = 74.655\n",
      "Test RMSE = 0.992 || Test Precision = 72.102|| Test Recall = 76.004\n"
     ]
    },
    {
     "name": "stderr",
     "output_type": "stream",
     "text": [
      "3it [00:21,  7.01s/it]\n"
     ]
    },
    {
     "name": "stdout",
     "output_type": "stream",
     "text": [
      "tensor([[3.6698],\n",
      "        [3.8760],\n",
      "        [4.3444],\n",
      "        ...,\n",
      "        [3.5406],\n",
      "        [3.6814],\n",
      "        [3.3022]], device='cuda:0')\n",
      "              precision    recall  f1-score   support\n",
      "\n",
      "           0       0.65      0.65      0.65      8765\n",
      "           1       0.73      0.73      0.73     11235\n",
      "\n",
      "    accuracy                           0.70     20000\n",
      "   macro avg       0.69      0.69      0.69     20000\n",
      "weighted avg       0.69      0.70      0.69     20000\n",
      "\n",
      "Epoch-139: Loss = 1.918\n",
      "Train RMSE = 1.429||Train Precision = 72.818||Train Recall = 71.842\n",
      "Test RMSE = 0.997 || Test Precision = 72.748|| Test Recall = 73.111\n"
     ]
    },
    {
     "name": "stderr",
     "output_type": "stream",
     "text": [
      "3it [00:21,  7.02s/it]\n"
     ]
    },
    {
     "name": "stdout",
     "output_type": "stream",
     "text": [
      "tensor([[3.7754],\n",
      "        [3.9656],\n",
      "        [4.5117],\n",
      "        ...,\n",
      "        [3.6002],\n",
      "        [3.7189],\n",
      "        [3.3981]], device='cuda:0')\n",
      "              precision    recall  f1-score   support\n",
      "\n",
      "           0       0.69      0.58      0.63      8765\n",
      "           1       0.71      0.79      0.75     11235\n",
      "\n",
      "    accuracy                           0.70     20000\n",
      "   macro avg       0.70      0.69      0.69     20000\n",
      "weighted avg       0.70      0.70      0.70     20000\n",
      "\n",
      "Epoch-140: Loss = 1.927\n",
      "Train RMSE = 1.433||Train Precision = 70.550||Train Recall = 77.738\n",
      "Test RMSE = 0.986 || Test Precision = 70.745|| Test Recall = 79.359\n"
     ]
    },
    {
     "name": "stderr",
     "output_type": "stream",
     "text": [
      "3it [00:20,  6.99s/it]\n"
     ]
    },
    {
     "name": "stdout",
     "output_type": "stream",
     "text": [
      "tensor([[3.8752],\n",
      "        [4.0864],\n",
      "        [4.6233],\n",
      "        ...,\n",
      "        [3.7416],\n",
      "        [3.8564],\n",
      "        [3.5062]], device='cuda:0')\n",
      "              precision    recall  f1-score   support\n",
      "\n",
      "           0       0.73      0.48      0.58      8765\n",
      "           1       0.68      0.86      0.76     11235\n",
      "\n",
      "    accuracy                           0.70     20000\n",
      "   macro avg       0.71      0.67      0.67     20000\n",
      "weighted avg       0.70      0.70      0.68     20000\n",
      "\n",
      "Epoch-141: Loss = 1.921\n",
      "Train RMSE = 1.430||Train Precision = 67.618||Train Recall = 85.679\n",
      "Test RMSE = 0.986 || Test Precision = 68.032|| Test Recall = 86.320\n"
     ]
    },
    {
     "name": "stderr",
     "output_type": "stream",
     "text": [
      "3it [00:21,  7.03s/it]\n"
     ]
    },
    {
     "name": "stdout",
     "output_type": "stream",
     "text": [
      "tensor([[3.9415],\n",
      "        [4.2161],\n",
      "        [4.6762],\n",
      "        ...,\n",
      "        [3.8727],\n",
      "        [3.9680],\n",
      "        [3.5693]], device='cuda:0')\n",
      "              precision    recall  f1-score   support\n",
      "\n",
      "           0       0.76      0.43      0.54      8765\n",
      "           1       0.67      0.89      0.76     11235\n",
      "\n",
      "    accuracy                           0.69     20000\n",
      "   macro avg       0.71      0.66      0.65     20000\n",
      "weighted avg       0.71      0.69      0.67     20000\n",
      "\n",
      "Epoch-142: Loss = 1.911\n",
      "Train RMSE = 1.425||Train Precision = 66.225||Train Recall = 89.136\n",
      "Test RMSE = 0.998 || Test Precision = 66.578|| Test Recall = 89.275\n"
     ]
    },
    {
     "name": "stderr",
     "output_type": "stream",
     "text": [
      "3it [00:21,  7.01s/it]\n"
     ]
    },
    {
     "name": "stdout",
     "output_type": "stream",
     "text": [
      "tensor([[3.7368],\n",
      "        [3.9583],\n",
      "        [4.5129],\n",
      "        ...,\n",
      "        [3.6549],\n",
      "        [3.7423],\n",
      "        [3.3649]], device='cuda:0')\n",
      "              precision    recall  f1-score   support\n",
      "\n",
      "           0       0.69      0.56      0.62      8765\n",
      "           1       0.70      0.81      0.75     11235\n",
      "\n",
      "    accuracy                           0.70     20000\n",
      "   macro avg       0.70      0.68      0.69     20000\n",
      "weighted avg       0.70      0.70      0.69     20000\n",
      "\n",
      "Epoch-143: Loss = 1.945\n",
      "Train RMSE = 1.444||Train Precision = 70.345||Train Recall = 79.880\n",
      "Test RMSE = 0.984 || Test Precision = 70.291|| Test Recall = 80.614\n"
     ]
    },
    {
     "name": "stderr",
     "output_type": "stream",
     "text": [
      "3it [00:21,  7.01s/it]\n"
     ]
    },
    {
     "name": "stdout",
     "output_type": "stream",
     "text": [
      "tensor([[3.6095],\n",
      "        [3.7873],\n",
      "        [4.3803],\n",
      "        ...,\n",
      "        [3.4572],\n",
      "        [3.4979],\n",
      "        [3.1912]], device='cuda:0')\n",
      "              precision    recall  f1-score   support\n",
      "\n",
      "           0       0.63      0.69      0.66      8765\n",
      "           1       0.74      0.69      0.71     11235\n",
      "\n",
      "    accuracy                           0.69     20000\n",
      "   macro avg       0.69      0.69      0.69     20000\n",
      "weighted avg       0.69      0.69      0.69     20000\n",
      "\n",
      "Epoch-144: Loss = 1.920\n",
      "Train RMSE = 1.430||Train Precision = 75.015||Train Recall = 67.568\n",
      "Test RMSE = 1.009 || Test Precision = 74.073|| Test Recall = 68.838\n"
     ]
    },
    {
     "name": "stderr",
     "output_type": "stream",
     "text": [
      "3it [00:21,  7.01s/it]\n"
     ]
    },
    {
     "name": "stdout",
     "output_type": "stream",
     "text": [
      "tensor([[3.7001],\n",
      "        [3.9061],\n",
      "        [4.4775],\n",
      "        ...,\n",
      "        [3.5986],\n",
      "        [3.6531],\n",
      "        [3.2965]], device='cuda:0')\n",
      "              precision    recall  f1-score   support\n",
      "\n",
      "           0       0.68      0.60      0.64      8765\n",
      "           1       0.71      0.79      0.75     11235\n",
      "\n",
      "    accuracy                           0.70     20000\n",
      "   macro avg       0.70      0.69      0.69     20000\n",
      "weighted avg       0.70      0.70      0.70     20000\n",
      "\n",
      "Epoch-145: Loss = 1.942\n",
      "Train RMSE = 1.442||Train Precision = 71.526||Train Recall = 77.584\n",
      "Test RMSE = 0.987 || Test Precision = 71.432|| Test Recall = 78.540\n"
     ]
    },
    {
     "name": "stderr",
     "output_type": "stream",
     "text": [
      "3it [00:21,  7.02s/it]\n"
     ]
    },
    {
     "name": "stdout",
     "output_type": "stream",
     "text": [
      "tensor([[3.8097],\n",
      "        [4.0424],\n",
      "        [4.5517],\n",
      "        ...,\n",
      "        [3.7189],\n",
      "        [3.7896],\n",
      "        [3.4388]], device='cuda:0')\n",
      "              precision    recall  f1-score   support\n",
      "\n",
      "           0       0.72      0.51      0.60      8765\n",
      "           1       0.69      0.84      0.76     11235\n",
      "\n",
      "    accuracy                           0.70     20000\n",
      "   macro avg       0.70      0.68      0.68     20000\n",
      "weighted avg       0.70      0.70      0.69     20000\n",
      "\n",
      "Epoch-146: Loss = 1.922\n",
      "Train RMSE = 1.432||Train Precision = 68.912||Train Recall = 83.247\n",
      "Test RMSE = 0.984 || Test Precision = 68.988|| Test Recall = 84.192\n"
     ]
    },
    {
     "name": "stderr",
     "output_type": "stream",
     "text": [
      "3it [00:21,  7.04s/it]\n"
     ]
    },
    {
     "name": "stdout",
     "output_type": "stream",
     "text": [
      "tensor([[3.8453],\n",
      "        [4.1092],\n",
      "        [4.5652],\n",
      "        ...,\n",
      "        [3.8167],\n",
      "        [3.9413],\n",
      "        [3.5050]], device='cuda:0')\n",
      "              precision    recall  f1-score   support\n",
      "\n",
      "           0       0.75      0.45      0.56      8765\n",
      "           1       0.67      0.88      0.76     11235\n",
      "\n",
      "    accuracy                           0.69     20000\n",
      "   macro avg       0.71      0.67      0.66     20000\n",
      "weighted avg       0.71      0.69      0.67     20000\n",
      "\n",
      "Epoch-147: Loss = 1.906\n",
      "Train RMSE = 1.423||Train Precision = 66.455||Train Recall = 88.063\n",
      "Test RMSE = 0.989 || Test Precision = 67.262|| Test Recall = 88.109\n"
     ]
    },
    {
     "name": "stderr",
     "output_type": "stream",
     "text": [
      "3it [00:21,  7.03s/it]\n"
     ]
    },
    {
     "name": "stdout",
     "output_type": "stream",
     "text": [
      "tensor([[3.9054],\n",
      "        [4.1576],\n",
      "        [4.6343],\n",
      "        ...,\n",
      "        [3.7915],\n",
      "        [3.9148],\n",
      "        [3.5231]], device='cuda:0')\n",
      "              precision    recall  f1-score   support\n",
      "\n",
      "           0       0.74      0.47      0.57      8765\n",
      "           1       0.68      0.87      0.76     11235\n",
      "\n",
      "    accuracy                           0.69     20000\n",
      "   macro avg       0.71      0.67      0.67     20000\n",
      "weighted avg       0.70      0.69      0.68     20000\n",
      "\n",
      "Epoch-148: Loss = 1.901\n",
      "Train RMSE = 1.422||Train Precision = 67.073||Train Recall = 86.489\n",
      "Test RMSE = 0.989 || Test Precision = 67.758|| Test Recall = 87.147\n"
     ]
    },
    {
     "name": "stderr",
     "output_type": "stream",
     "text": [
      "3it [00:21,  7.01s/it]\n"
     ]
    },
    {
     "name": "stdout",
     "output_type": "stream",
     "text": [
      "tensor([[3.5601],\n",
      "        [3.8199],\n",
      "        [4.3500],\n",
      "        ...,\n",
      "        [3.4984],\n",
      "        [3.6177],\n",
      "        [3.2066]], device='cuda:0')\n",
      "              precision    recall  f1-score   support\n",
      "\n",
      "           0       0.65      0.66      0.66      8765\n",
      "           1       0.73      0.72      0.73     11235\n",
      "\n",
      "    accuracy                           0.70     20000\n",
      "   macro avg       0.69      0.69      0.69     20000\n",
      "weighted avg       0.70      0.70      0.70     20000\n",
      "\n",
      "Epoch-149: Loss = 1.939\n",
      "Train RMSE = 1.441||Train Precision = 73.143||Train Recall = 71.350\n",
      "Test RMSE = 0.997 || Test Precision = 73.241|| Test Recall = 72.381\n"
     ]
    },
    {
     "name": "stderr",
     "output_type": "stream",
     "text": [
      "3it [00:21,  7.01s/it]\n"
     ]
    },
    {
     "name": "stdout",
     "output_type": "stream",
     "text": [
      "tensor([[3.6165],\n",
      "        [3.8732],\n",
      "        [4.4186],\n",
      "        ...,\n",
      "        [3.5188],\n",
      "        [3.5965],\n",
      "        [3.2596]], device='cuda:0')\n",
      "              precision    recall  f1-score   support\n",
      "\n",
      "           0       0.67      0.63      0.65      8765\n",
      "           1       0.72      0.76      0.74     11235\n",
      "\n",
      "    accuracy                           0.70     20000\n",
      "   macro avg       0.70      0.69      0.69     20000\n",
      "weighted avg       0.70      0.70      0.70     20000\n",
      "\n",
      "Epoch-150: Loss = 1.911\n",
      "Train RMSE = 1.427||Train Precision = 72.273||Train Recall = 74.163\n",
      "Test RMSE = 0.990 || Test Precision = 72.353|| Test Recall = 75.656\n"
     ]
    },
    {
     "name": "stderr",
     "output_type": "stream",
     "text": [
      "3it [00:20,  7.00s/it]\n"
     ]
    },
    {
     "name": "stdout",
     "output_type": "stream",
     "text": [
      "tensor([[3.8083],\n",
      "        [4.0355],\n",
      "        [4.5527],\n",
      "        ...,\n",
      "        [3.7426],\n",
      "        [3.8166],\n",
      "        [3.4156]], device='cuda:0')\n",
      "              precision    recall  f1-score   support\n",
      "\n",
      "           0       0.72      0.50      0.59      8765\n",
      "           1       0.69      0.85      0.76     11235\n",
      "\n",
      "    accuracy                           0.70     20000\n",
      "   macro avg       0.71      0.68      0.68     20000\n",
      "weighted avg       0.70      0.70      0.69     20000\n",
      "\n",
      "Epoch-151: Loss = 1.913\n",
      "Train RMSE = 1.428||Train Precision = 68.392||Train Recall = 84.427\n",
      "Test RMSE = 0.981 || Test Precision = 68.627|| Test Recall = 85.082\n"
     ]
    },
    {
     "name": "stderr",
     "output_type": "stream",
     "text": [
      "3it [00:21,  7.03s/it]\n"
     ]
    },
    {
     "name": "stdout",
     "output_type": "stream",
     "text": [
      "tensor([[3.9395],\n",
      "        [4.2195],\n",
      "        [4.6670],\n",
      "        ...,\n",
      "        [3.8275],\n",
      "        [3.9508],\n",
      "        [3.5824]], device='cuda:0')\n",
      "              precision    recall  f1-score   support\n",
      "\n",
      "           0       0.76      0.42      0.54      8765\n",
      "           1       0.67      0.90      0.76     11235\n",
      "\n",
      "    accuracy                           0.69     20000\n",
      "   macro avg       0.71      0.66      0.65     20000\n",
      "weighted avg       0.71      0.69      0.67     20000\n",
      "\n",
      "Epoch-152: Loss = 1.897\n",
      "Train RMSE = 1.419||Train Precision = 66.038||Train Recall = 89.278\n",
      "Test RMSE = 0.997 || Test Precision = 66.565|| Test Recall = 89.613\n"
     ]
    },
    {
     "name": "stderr",
     "output_type": "stream",
     "text": [
      "3it [00:20,  6.98s/it]\n"
     ]
    },
    {
     "name": "stdout",
     "output_type": "stream",
     "text": [
      "tensor([[3.6770],\n",
      "        [3.9589],\n",
      "        [4.4876],\n",
      "        ...,\n",
      "        [3.5548],\n",
      "        [3.7124],\n",
      "        [3.3074]], device='cuda:0')\n",
      "              precision    recall  f1-score   support\n",
      "\n",
      "           0       0.69      0.58      0.63      8765\n",
      "           1       0.71      0.80      0.75     11235\n",
      "\n",
      "    accuracy                           0.70     20000\n",
      "   macro avg       0.70      0.69      0.69     20000\n",
      "weighted avg       0.70      0.70      0.70     20000\n",
      "\n",
      "Epoch-153: Loss = 1.935\n",
      "Train RMSE = 1.440||Train Precision = 70.795||Train Recall = 78.709\n",
      "Test RMSE = 0.982 || Test Precision = 70.840|| Test Recall = 80.027\n"
     ]
    },
    {
     "name": "stderr",
     "output_type": "stream",
     "text": [
      "3it [00:21,  7.01s/it]\n"
     ]
    },
    {
     "name": "stdout",
     "output_type": "stream",
     "text": [
      "tensor([[3.6444],\n",
      "        [3.8871],\n",
      "        [4.4319],\n",
      "        ...,\n",
      "        [3.5207],\n",
      "        [3.6033],\n",
      "        [3.2305]], device='cuda:0')\n",
      "              precision    recall  f1-score   support\n",
      "\n",
      "           0       0.66      0.65      0.65      8765\n",
      "           1       0.73      0.74      0.74     11235\n",
      "\n",
      "    accuracy                           0.70     20000\n",
      "   macro avg       0.70      0.69      0.69     20000\n",
      "weighted avg       0.70      0.70      0.70     20000\n",
      "\n",
      "Epoch-154: Loss = 1.896\n",
      "Train RMSE = 1.420||Train Precision = 72.428||Train Recall = 72.508\n",
      "Test RMSE = 0.991 || Test Precision = 72.861|| Test Recall = 74.295\n"
     ]
    },
    {
     "name": "stderr",
     "output_type": "stream",
     "text": [
      "3it [00:21,  7.04s/it]\n"
     ]
    },
    {
     "name": "stdout",
     "output_type": "stream",
     "text": [
      "tensor([[3.7679],\n",
      "        [4.0334],\n",
      "        [4.5191],\n",
      "        ...,\n",
      "        [3.7013],\n",
      "        [3.8337],\n",
      "        [3.4280]], device='cuda:0')\n",
      "              precision    recall  f1-score   support\n",
      "\n",
      "           0       0.72      0.52      0.60      8765\n",
      "           1       0.69      0.84      0.76     11235\n",
      "\n",
      "    accuracy                           0.70     20000\n",
      "   macro avg       0.70      0.68      0.68     20000\n",
      "weighted avg       0.70      0.70      0.69     20000\n",
      "\n",
      "Epoch-155: Loss = 1.914\n",
      "Train RMSE = 1.429||Train Precision = 68.967||Train Recall = 83.307\n",
      "Test RMSE = 0.979 || Test Precision = 69.147|| Test Recall = 84.103\n"
     ]
    },
    {
     "name": "stderr",
     "output_type": "stream",
     "text": [
      "3it [00:21,  7.02s/it]\n"
     ]
    },
    {
     "name": "stdout",
     "output_type": "stream",
     "text": [
      "tensor([[3.8822],\n",
      "        [4.1830],\n",
      "        [4.6340],\n",
      "        ...,\n",
      "        [3.7753],\n",
      "        [3.9567],\n",
      "        [3.5707]], device='cuda:0')\n",
      "              precision    recall  f1-score   support\n",
      "\n",
      "           0       0.75      0.45      0.56      8765\n",
      "           1       0.67      0.88      0.76     11235\n",
      "\n",
      "    accuracy                           0.69     20000\n",
      "   macro avg       0.71      0.67      0.66     20000\n",
      "weighted avg       0.71      0.69      0.67     20000\n",
      "\n",
      "Epoch-156: Loss = 1.890\n",
      "Train RMSE = 1.416||Train Precision = 66.592||Train Recall = 87.703\n",
      "Test RMSE = 0.990 || Test Precision = 67.167|| Test Recall = 88.385\n"
     ]
    },
    {
     "name": "stderr",
     "output_type": "stream",
     "text": [
      "3it [00:21,  7.06s/it]\n"
     ]
    },
    {
     "name": "stdout",
     "output_type": "stream",
     "text": [
      "tensor([[3.7029],\n",
      "        [3.9648],\n",
      "        [4.4956],\n",
      "        ...,\n",
      "        [3.5848],\n",
      "        [3.7510],\n",
      "        [3.3439]], device='cuda:0')\n",
      "              precision    recall  f1-score   support\n",
      "\n",
      "           0       0.69      0.58      0.63      8765\n",
      "           1       0.71      0.80      0.75     11235\n",
      "\n",
      "    accuracy                           0.70     20000\n",
      "   macro avg       0.70      0.69      0.69     20000\n",
      "weighted avg       0.70      0.70      0.70     20000\n",
      "\n",
      "Epoch-157: Loss = 1.904\n",
      "Train RMSE = 1.424||Train Precision = 70.823||Train Recall = 78.901\n",
      "Test RMSE = 0.981 || Test Precision = 71.072|| Test Recall = 79.644\n"
     ]
    },
    {
     "name": "stderr",
     "output_type": "stream",
     "text": [
      "3it [00:21,  7.03s/it]\n"
     ]
    },
    {
     "name": "stdout",
     "output_type": "stream",
     "text": [
      "tensor([[3.7195],\n",
      "        [3.9853],\n",
      "        [4.4918],\n",
      "        ...,\n",
      "        [3.5936],\n",
      "        [3.7309],\n",
      "        [3.3641]], device='cuda:0')\n",
      "              precision    recall  f1-score   support\n",
      "\n",
      "           0       0.70      0.58      0.63      8765\n",
      "           1       0.71      0.80      0.75     11235\n",
      "\n",
      "    accuracy                           0.70     20000\n",
      "   macro avg       0.70      0.69      0.69     20000\n",
      "weighted avg       0.70      0.70      0.70     20000\n",
      "\n",
      "Epoch-158: Loss = 1.878\n",
      "Train RMSE = 1.411||Train Precision = 70.613||Train Recall = 78.904\n",
      "Test RMSE = 0.979 || Test Precision = 71.024|| Test Recall = 80.134\n"
     ]
    },
    {
     "name": "stderr",
     "output_type": "stream",
     "text": [
      "3it [00:21,  7.02s/it]\n"
     ]
    },
    {
     "name": "stdout",
     "output_type": "stream",
     "text": [
      "tensor([[3.9753],\n",
      "        [4.2554],\n",
      "        [4.7208],\n",
      "        ...,\n",
      "        [3.8045],\n",
      "        [4.0252],\n",
      "        [3.6889]], device='cuda:0')\n",
      "              precision    recall  f1-score   support\n",
      "\n",
      "           0       0.78      0.39      0.52      8765\n",
      "           1       0.66      0.92      0.76     11235\n",
      "\n",
      "    accuracy                           0.68     20000\n",
      "   macro avg       0.72      0.65      0.64     20000\n",
      "weighted avg       0.71      0.68      0.66     20000\n",
      "\n",
      "Epoch-159: Loss = 1.891\n",
      "Train RMSE = 1.418||Train Precision = 64.922||Train Recall = 91.274\n",
      "Test RMSE = 1.004 || Test Precision = 65.654|| Test Recall = 91.553\n"
     ]
    },
    {
     "name": "stderr",
     "output_type": "stream",
     "text": [
      "3it [00:21,  7.04s/it]\n"
     ]
    },
    {
     "name": "stdout",
     "output_type": "stream",
     "text": [
      "tensor([[3.4112],\n",
      "        [3.6821],\n",
      "        [4.3283],\n",
      "        ...,\n",
      "        [3.2585],\n",
      "        [3.4589],\n",
      "        [3.2242]], device='cuda:0')\n",
      "              precision    recall  f1-score   support\n",
      "\n",
      "           0       0.62      0.72      0.67      8765\n",
      "           1       0.75      0.66      0.70     11235\n",
      "\n",
      "    accuracy                           0.69     20000\n",
      "   macro avg       0.69      0.69      0.69     20000\n",
      "weighted avg       0.70      0.69      0.69     20000\n",
      "\n",
      "Epoch-160: Loss = 2.025\n",
      "Train RMSE = 1.486||Train Precision = 75.923||Train Recall = 65.133\n",
      "Test RMSE = 1.019 || Test Precision = 75.320|| Test Recall = 66.061\n"
     ]
    },
    {
     "name": "stderr",
     "output_type": "stream",
     "text": [
      "3it [00:21,  7.04s/it]\n"
     ]
    },
    {
     "name": "stdout",
     "output_type": "stream",
     "text": [
      "tensor([[3.5461],\n",
      "        [3.6839],\n",
      "        [4.3821],\n",
      "        ...,\n",
      "        [3.4080],\n",
      "        [3.4361],\n",
      "        [3.2014]], device='cuda:0')\n",
      "              precision    recall  f1-score   support\n",
      "\n",
      "           0       0.63      0.70      0.66      8765\n",
      "           1       0.74      0.68      0.71     11235\n",
      "\n",
      "    accuracy                           0.69     20000\n",
      "   macro avg       0.69      0.69      0.69     20000\n",
      "weighted avg       0.69      0.69      0.69     20000\n",
      "\n",
      "Epoch-161: Loss = 1.979\n",
      "Train RMSE = 1.462||Train Precision = 74.400||Train Recall = 67.083\n",
      "Test RMSE = 1.014 || Test Precision = 74.424|| Test Recall = 67.833\n"
     ]
    },
    {
     "name": "stderr",
     "output_type": "stream",
     "text": [
      "3it [00:21,  7.05s/it]\n"
     ]
    },
    {
     "name": "stdout",
     "output_type": "stream",
     "text": [
      "tensor([[3.6617],\n",
      "        [3.7409],\n",
      "        [4.4223],\n",
      "        ...,\n",
      "        [3.5955],\n",
      "        [3.5383],\n",
      "        [3.1485]], device='cuda:0')\n",
      "              precision    recall  f1-score   support\n",
      "\n",
      "           0       0.65      0.67      0.66      8765\n",
      "           1       0.73      0.72      0.72     11235\n",
      "\n",
      "    accuracy                           0.69     20000\n",
      "   macro avg       0.69      0.69      0.69     20000\n",
      "weighted avg       0.70      0.69      0.69     20000\n",
      "\n",
      "Epoch-162: Loss = 1.987\n",
      "Train RMSE = 1.466||Train Precision = 73.006||Train Recall = 70.464\n",
      "Test RMSE = 1.004 || Test Precision = 73.375|| Test Recall = 71.526\n"
     ]
    },
    {
     "name": "stderr",
     "output_type": "stream",
     "text": [
      "3it [00:21,  7.04s/it]\n"
     ]
    },
    {
     "name": "stdout",
     "output_type": "stream",
     "text": [
      "tensor([[3.6736],\n",
      "        [3.8863],\n",
      "        [4.4409],\n",
      "        ...,\n",
      "        [3.5779],\n",
      "        [3.6312],\n",
      "        [3.2477]], device='cuda:0')\n",
      "              precision    recall  f1-score   support\n",
      "\n",
      "           0       0.68      0.60      0.64      8765\n",
      "           1       0.72      0.78      0.74     11235\n",
      "\n",
      "    accuracy                           0.70     20000\n",
      "   macro avg       0.70      0.69      0.69     20000\n",
      "weighted avg       0.70      0.70      0.70     20000\n",
      "\n",
      "Epoch-163: Loss = 1.962\n",
      "Train RMSE = 1.452||Train Precision = 71.165||Train Recall = 76.970\n",
      "Test RMSE = 0.988 || Test Precision = 71.554|| Test Recall = 77.623\n"
     ]
    },
    {
     "name": "stderr",
     "output_type": "stream",
     "text": [
      "3it [00:21,  7.08s/it]\n"
     ]
    },
    {
     "name": "stdout",
     "output_type": "stream",
     "text": [
      "tensor([[3.6987],\n",
      "        [3.9754],\n",
      "        [4.4227],\n",
      "        ...,\n",
      "        [3.6332],\n",
      "        [3.7616],\n",
      "        [3.2757]], device='cuda:0')\n",
      "              precision    recall  f1-score   support\n",
      "\n",
      "           0       0.70      0.55      0.62      8765\n",
      "           1       0.70      0.82      0.76     11235\n",
      "\n",
      "    accuracy                           0.70     20000\n",
      "   macro avg       0.70      0.69      0.69     20000\n",
      "weighted avg       0.70      0.70      0.70     20000\n",
      "\n",
      "Epoch-164: Loss = 1.937\n",
      "Train RMSE = 1.440||Train Precision = 69.348||Train Recall = 80.745\n",
      "Test RMSE = 0.981 || Test Precision = 70.067|| Test Recall = 81.985\n"
     ]
    },
    {
     "name": "stderr",
     "output_type": "stream",
     "text": [
      "3it [00:21,  7.05s/it]\n"
     ]
    },
    {
     "name": "stdout",
     "output_type": "stream",
     "text": [
      "tensor([[3.7055],\n",
      "        [3.9805],\n",
      "        [4.3640],\n",
      "        ...,\n",
      "        [3.6844],\n",
      "        [3.8029],\n",
      "        [3.3053]], device='cuda:0')\n",
      "              precision    recall  f1-score   support\n",
      "\n",
      "           0       0.70      0.56      0.62      8765\n",
      "           1       0.70      0.81      0.75     11235\n",
      "\n",
      "    accuracy                           0.70     20000\n",
      "   macro avg       0.70      0.68      0.69     20000\n",
      "weighted avg       0.70      0.70      0.69     20000\n",
      "\n",
      "Epoch-165: Loss = 1.918\n",
      "Train RMSE = 1.430||Train Precision = 70.130||Train Recall = 80.894\n",
      "Test RMSE = 0.980 || Test Precision = 70.142|| Test Recall = 81.317\n"
     ]
    },
    {
     "name": "stderr",
     "output_type": "stream",
     "text": [
      "3it [00:21,  7.06s/it]\n"
     ]
    },
    {
     "name": "stdout",
     "output_type": "stream",
     "text": [
      "tensor([[3.6745],\n",
      "        [3.9550],\n",
      "        [4.3230],\n",
      "        ...,\n",
      "        [3.6061],\n",
      "        [3.7476],\n",
      "        [3.3515]], device='cuda:0')\n",
      "              precision    recall  f1-score   support\n",
      "\n",
      "           0       0.69      0.58      0.63      8765\n",
      "           1       0.71      0.80      0.75     11235\n",
      "\n",
      "    accuracy                           0.70     20000\n",
      "   macro avg       0.70      0.69      0.69     20000\n",
      "weighted avg       0.70      0.70      0.70     20000\n",
      "\n",
      "Epoch-166: Loss = 1.909\n",
      "Train RMSE = 1.426||Train Precision = 70.458||Train Recall = 79.251\n",
      "Test RMSE = 0.981 || Test Precision = 70.911|| Test Recall = 79.911\n"
     ]
    },
    {
     "name": "stderr",
     "output_type": "stream",
     "text": [
      "3it [00:21,  7.06s/it]\n"
     ]
    },
    {
     "name": "stdout",
     "output_type": "stream",
     "text": [
      "tensor([[3.6455],\n",
      "        [3.9504],\n",
      "        [4.3358],\n",
      "        ...,\n",
      "        [3.5484],\n",
      "        [3.7162],\n",
      "        [3.3837]], device='cuda:0')\n",
      "              precision    recall  f1-score   support\n",
      "\n",
      "           0       0.69      0.59      0.64      8765\n",
      "           1       0.71      0.79      0.75     11235\n",
      "\n",
      "    accuracy                           0.70     20000\n",
      "   macro avg       0.70      0.69      0.69     20000\n",
      "weighted avg       0.70      0.70      0.70     20000\n",
      "\n",
      "Epoch-167: Loss = 1.896\n",
      "Train RMSE = 1.419||Train Precision = 71.681||Train Recall = 77.798\n",
      "Test RMSE = 0.981 || Test Precision = 71.280|| Test Recall = 79.261\n"
     ]
    },
    {
     "name": "stderr",
     "output_type": "stream",
     "text": [
      "3it [00:21,  7.04s/it]\n"
     ]
    },
    {
     "name": "stdout",
     "output_type": "stream",
     "text": [
      "tensor([[3.6019],\n",
      "        [3.8969],\n",
      "        [4.3157],\n",
      "        ...,\n",
      "        [3.5181],\n",
      "        [3.6865],\n",
      "        [3.2632]], device='cuda:0')\n",
      "              precision    recall  f1-score   support\n",
      "\n",
      "           0       0.67      0.64      0.65      8765\n",
      "           1       0.73      0.76      0.74     11235\n",
      "\n",
      "    accuracy                           0.70     20000\n",
      "   macro avg       0.70      0.70      0.70     20000\n",
      "weighted avg       0.70      0.70      0.70     20000\n",
      "\n",
      "Epoch-168: Loss = 1.894\n",
      "Train RMSE = 1.419||Train Precision = 72.652||Train Recall = 73.788\n",
      "Test RMSE = 0.986 || Test Precision = 72.680|| Test Recall = 75.559\n"
     ]
    },
    {
     "name": "stderr",
     "output_type": "stream",
     "text": [
      "3it [00:21,  7.07s/it]\n"
     ]
    },
    {
     "name": "stdout",
     "output_type": "stream",
     "text": [
      "tensor([[3.6542],\n",
      "        [3.9076],\n",
      "        [4.4307],\n",
      "        ...,\n",
      "        [3.5019],\n",
      "        [3.6509],\n",
      "        [3.2709]], device='cuda:0')\n",
      "              precision    recall  f1-score   support\n",
      "\n",
      "           0       0.67      0.64      0.65      8765\n",
      "           1       0.73      0.75      0.74     11235\n",
      "\n",
      "    accuracy                           0.70     20000\n",
      "   macro avg       0.70      0.69      0.70     20000\n",
      "weighted avg       0.70      0.70      0.70     20000\n",
      "\n",
      "Epoch-169: Loss = 1.894\n",
      "Train RMSE = 1.419||Train Precision = 73.097||Train Recall = 73.918\n",
      "Test RMSE = 0.988 || Test Precision = 72.779|| Test Recall = 74.891\n"
     ]
    },
    {
     "name": "stderr",
     "output_type": "stream",
     "text": [
      "3it [00:21,  7.04s/it]\n"
     ]
    },
    {
     "name": "stdout",
     "output_type": "stream",
     "text": [
      "tensor([[3.6815],\n",
      "        [3.9499],\n",
      "        [4.4827],\n",
      "        ...,\n",
      "        [3.5081],\n",
      "        [3.6706],\n",
      "        [3.3051]], device='cuda:0')\n",
      "              precision    recall  f1-score   support\n",
      "\n",
      "           0       0.68      0.61      0.65      8765\n",
      "           1       0.72      0.78      0.75     11235\n",
      "\n",
      "    accuracy                           0.71     20000\n",
      "   macro avg       0.70      0.70      0.70     20000\n",
      "weighted avg       0.70      0.71      0.70     20000\n",
      "\n",
      "Epoch-170: Loss = 1.889\n",
      "Train RMSE = 1.417||Train Precision = 71.819||Train Recall = 75.850\n",
      "Test RMSE = 0.982 || Test Precision = 72.077|| Test Recall = 77.543\n"
     ]
    },
    {
     "name": "stderr",
     "output_type": "stream",
     "text": [
      "3it [00:21,  7.06s/it]\n"
     ]
    },
    {
     "name": "stdout",
     "output_type": "stream",
     "text": [
      "tensor([[3.7193],\n",
      "        [3.9882],\n",
      "        [4.4812],\n",
      "        ...,\n",
      "        [3.5781],\n",
      "        [3.7417],\n",
      "        [3.3372]], device='cuda:0')\n",
      "              precision    recall  f1-score   support\n",
      "\n",
      "           0       0.70      0.58      0.63      8765\n",
      "           1       0.71      0.81      0.75     11235\n",
      "\n",
      "    accuracy                           0.70     20000\n",
      "   macro avg       0.70      0.69      0.69     20000\n",
      "weighted avg       0.70      0.70      0.70     20000\n",
      "\n",
      "Epoch-171: Loss = 1.882\n",
      "Train RMSE = 1.413||Train Precision = 70.068||Train Recall = 79.168\n",
      "Test RMSE = 0.977 || Test Precision = 70.836|| Test Recall = 80.507\n"
     ]
    },
    {
     "name": "stderr",
     "output_type": "stream",
     "text": [
      "3it [00:21,  7.06s/it]\n"
     ]
    },
    {
     "name": "stdout",
     "output_type": "stream",
     "text": [
      "tensor([[3.8282],\n",
      "        [4.0891],\n",
      "        [4.5568],\n",
      "        ...,\n",
      "        [3.6315],\n",
      "        [3.8108],\n",
      "        [3.4460]], device='cuda:0')\n",
      "              precision    recall  f1-score   support\n",
      "\n",
      "           0       0.73      0.51      0.60      8765\n",
      "           1       0.69      0.85      0.76     11235\n",
      "\n",
      "    accuracy                           0.70     20000\n",
      "   macro avg       0.71      0.68      0.68     20000\n",
      "weighted avg       0.71      0.70      0.69     20000\n",
      "\n",
      "Epoch-172: Loss = 1.875\n",
      "Train RMSE = 1.410||Train Precision = 68.705||Train Recall = 83.795\n",
      "Test RMSE = 0.978 || Test Precision = 69.070|| Test Recall = 84.913\n"
     ]
    },
    {
     "name": "stderr",
     "output_type": "stream",
     "text": [
      "3it [00:21,  7.05s/it]\n"
     ]
    },
    {
     "name": "stdout",
     "output_type": "stream",
     "text": [
      "tensor([[3.7285],\n",
      "        [4.0238],\n",
      "        [4.4816],\n",
      "        ...,\n",
      "        [3.5144],\n",
      "        [3.7080],\n",
      "        [3.3215]], device='cuda:0')\n",
      "              precision    recall  f1-score   support\n",
      "\n",
      "           0       0.70      0.58      0.63      8765\n",
      "           1       0.71      0.81      0.76     11235\n",
      "\n",
      "    accuracy                           0.71     20000\n",
      "   macro avg       0.70      0.69      0.69     20000\n",
      "weighted avg       0.71      0.71      0.70     20000\n",
      "\n",
      "Epoch-173: Loss = 1.869\n",
      "Train RMSE = 1.406||Train Precision = 70.700||Train Recall = 79.683\n",
      "Test RMSE = 0.977 || Test Precision = 70.949|| Test Recall = 80.757\n"
     ]
    },
    {
     "name": "stderr",
     "output_type": "stream",
     "text": [
      "3it [00:21,  7.06s/it]\n"
     ]
    },
    {
     "name": "stdout",
     "output_type": "stream",
     "text": [
      "tensor([[3.7856],\n",
      "        [4.0659],\n",
      "        [4.5292],\n",
      "        ...,\n",
      "        [3.6071],\n",
      "        [3.8109],\n",
      "        [3.4024]], device='cuda:0')\n",
      "              precision    recall  f1-score   support\n",
      "\n",
      "           0       0.72      0.53      0.61      8765\n",
      "           1       0.70      0.84      0.76     11235\n",
      "\n",
      "    accuracy                           0.70     20000\n",
      "   macro avg       0.71      0.69      0.69     20000\n",
      "weighted avg       0.71      0.70      0.70     20000\n",
      "\n",
      "Epoch-174: Loss = 1.871\n",
      "Train RMSE = 1.408||Train Precision = 69.009||Train Recall = 83.475\n",
      "Test RMSE = 0.976 || Test Precision = 69.625|| Test Recall = 83.996\n"
     ]
    },
    {
     "name": "stderr",
     "output_type": "stream",
     "text": [
      "3it [00:21,  7.04s/it]\n"
     ]
    },
    {
     "name": "stdout",
     "output_type": "stream",
     "text": [
      "tensor([[3.8936],\n",
      "        [4.1567],\n",
      "        [4.6323],\n",
      "        ...,\n",
      "        [3.7014],\n",
      "        [3.9078],\n",
      "        [3.5654]], device='cuda:0')\n",
      "              precision    recall  f1-score   support\n",
      "\n",
      "           0       0.75      0.46      0.57      8765\n",
      "           1       0.68      0.88      0.76     11235\n",
      "\n",
      "    accuracy                           0.70     20000\n",
      "   macro avg       0.71      0.67      0.67     20000\n",
      "weighted avg       0.71      0.70      0.68     20000\n",
      "\n",
      "Epoch-175: Loss = 1.871\n",
      "Train RMSE = 1.408||Train Precision = 67.092||Train Recall = 87.161\n",
      "Test RMSE = 0.985 || Test Precision = 67.655|| Test Recall = 87.966\n"
     ]
    },
    {
     "name": "stderr",
     "output_type": "stream",
     "text": [
      "3it [00:21,  7.04s/it]\n"
     ]
    },
    {
     "name": "stdout",
     "output_type": "stream",
     "text": [
      "tensor([[3.6316],\n",
      "        [3.8929],\n",
      "        [4.4524],\n",
      "        ...,\n",
      "        [3.4095],\n",
      "        [3.6244],\n",
      "        [3.3118]], device='cuda:0')\n",
      "              precision    recall  f1-score   support\n",
      "\n",
      "           0       0.68      0.62      0.65      8765\n",
      "           1       0.72      0.77      0.75     11235\n",
      "\n",
      "    accuracy                           0.71     20000\n",
      "   macro avg       0.70      0.70      0.70     20000\n",
      "weighted avg       0.70      0.71      0.70     20000\n",
      "\n",
      "Epoch-176: Loss = 1.892\n",
      "Train RMSE = 1.419||Train Precision = 72.849||Train Recall = 76.339\n",
      "Test RMSE = 0.982 || Test Precision = 72.177|| Test Recall = 77.419\n"
     ]
    },
    {
     "name": "stderr",
     "output_type": "stream",
     "text": [
      "3it [00:21,  7.02s/it]\n"
     ]
    },
    {
     "name": "stdout",
     "output_type": "stream",
     "text": [
      "tensor([[3.7493],\n",
      "        [4.0206],\n",
      "        [4.5446],\n",
      "        ...,\n",
      "        [3.5259],\n",
      "        [3.6972],\n",
      "        [3.3879]], device='cuda:0')\n",
      "              precision    recall  f1-score   support\n",
      "\n",
      "           0       0.71      0.57      0.63      8765\n",
      "           1       0.71      0.82      0.76     11235\n",
      "\n",
      "    accuracy                           0.71     20000\n",
      "   macro avg       0.71      0.69      0.69     20000\n",
      "weighted avg       0.71      0.71      0.70     20000\n",
      "\n",
      "Epoch-177: Loss = 1.871\n",
      "Train RMSE = 1.408||Train Precision = 69.998||Train Recall = 80.424\n",
      "Test RMSE = 0.976 || Test Precision = 70.702|| Test Recall = 81.513\n"
     ]
    },
    {
     "name": "stderr",
     "output_type": "stream",
     "text": [
      "3it [00:21,  7.05s/it]\n"
     ]
    },
    {
     "name": "stdout",
     "output_type": "stream",
     "text": [
      "tensor([[3.7654],\n",
      "        [4.0331],\n",
      "        [4.5226],\n",
      "        ...,\n",
      "        [3.5782],\n",
      "        [3.7601],\n",
      "        [3.3766]], device='cuda:0')\n",
      "              precision    recall  f1-score   support\n",
      "\n",
      "           0       0.71      0.55      0.62      8765\n",
      "           1       0.70      0.83      0.76     11235\n",
      "\n",
      "    accuracy                           0.70     20000\n",
      "   macro avg       0.71      0.69      0.69     20000\n",
      "weighted avg       0.71      0.70      0.70     20000\n",
      "\n",
      "Epoch-178: Loss = 1.861\n",
      "Train RMSE = 1.403||Train Precision = 69.640||Train Recall = 81.496\n",
      "Test RMSE = 0.974 || Test Precision = 70.121|| Test Recall = 82.697\n"
     ]
    },
    {
     "name": "stderr",
     "output_type": "stream",
     "text": [
      "3it [00:21,  7.05s/it]\n"
     ]
    },
    {
     "name": "stdout",
     "output_type": "stream",
     "text": [
      "tensor([[3.9306],\n",
      "        [4.2249],\n",
      "        [4.6653],\n",
      "        ...,\n",
      "        [3.7005],\n",
      "        [3.9429],\n",
      "        [3.6209]], device='cuda:0')\n",
      "              precision    recall  f1-score   support\n",
      "\n",
      "           0       0.77      0.42      0.54      8765\n",
      "           1       0.67      0.90      0.77     11235\n",
      "\n",
      "    accuracy                           0.69     20000\n",
      "   macro avg       0.72      0.66      0.65     20000\n",
      "weighted avg       0.71      0.69      0.67     20000\n",
      "\n",
      "Epoch-179: Loss = 1.867\n",
      "Train RMSE = 1.406||Train Precision = 66.166||Train Recall = 90.060\n",
      "Test RMSE = 0.993 || Test Precision = 66.511|| Test Recall = 90.245\n"
     ]
    },
    {
     "name": "stderr",
     "output_type": "stream",
     "text": [
      "3it [00:21,  7.06s/it]\n"
     ]
    },
    {
     "name": "stdout",
     "output_type": "stream",
     "text": [
      "tensor([[3.4213],\n",
      "        [3.7217],\n",
      "        [4.3269],\n",
      "        ...,\n",
      "        [3.2112],\n",
      "        [3.4882],\n",
      "        [3.2004]], device='cuda:0')\n",
      "              precision    recall  f1-score   support\n",
      "\n",
      "           0       0.63      0.71      0.67      8765\n",
      "           1       0.75      0.68      0.71     11235\n",
      "\n",
      "    accuracy                           0.69     20000\n",
      "   macro avg       0.69      0.69      0.69     20000\n",
      "weighted avg       0.70      0.69      0.69     20000\n",
      "\n",
      "Epoch-180: Loss = 1.964\n",
      "Train RMSE = 1.457||Train Precision = 75.751||Train Recall = 66.397\n",
      "Test RMSE = 1.008 || Test Precision = 74.888|| Test Recall = 68.189\n"
     ]
    },
    {
     "name": "stderr",
     "output_type": "stream",
     "text": [
      "3it [00:21,  7.06s/it]\n"
     ]
    },
    {
     "name": "stdout",
     "output_type": "stream",
     "text": [
      "tensor([[3.4647],\n",
      "        [3.6314],\n",
      "        [4.3164],\n",
      "        ...,\n",
      "        [3.2080],\n",
      "        [3.3383],\n",
      "        [3.0909]], device='cuda:0')\n",
      "              precision    recall  f1-score   support\n",
      "\n",
      "           0       0.61      0.76      0.67      8765\n",
      "           1       0.76      0.62      0.68     11235\n",
      "\n",
      "    accuracy                           0.68     20000\n",
      "   macro avg       0.69      0.69      0.68     20000\n",
      "weighted avg       0.70      0.68      0.68     20000\n",
      "\n",
      "Epoch-181: Loss = 1.922\n",
      "Train RMSE = 1.435||Train Precision = 77.516||Train Recall = 61.059\n",
      "Test RMSE = 1.032 || Test Precision = 76.478|| Test Recall = 61.842\n"
     ]
    },
    {
     "name": "stderr",
     "output_type": "stream",
     "text": [
      "3it [00:21,  7.06s/it]\n"
     ]
    },
    {
     "name": "stdout",
     "output_type": "stream",
     "text": [
      "tensor([[3.5599],\n",
      "        [3.7075],\n",
      "        [4.4151],\n",
      "        ...,\n",
      "        [3.4568],\n",
      "        [3.5186],\n",
      "        [3.1574]], device='cuda:0')\n",
      "              precision    recall  f1-score   support\n",
      "\n",
      "           0       0.65      0.68      0.66      8765\n",
      "           1       0.74      0.71      0.73     11235\n",
      "\n",
      "    accuracy                           0.70     20000\n",
      "   macro avg       0.69      0.70      0.70     20000\n",
      "weighted avg       0.70      0.70      0.70     20000\n",
      "\n",
      "Epoch-182: Loss = 1.949\n",
      "Train RMSE = 1.448||Train Precision = 74.184||Train Recall = 70.100\n",
      "Test RMSE = 1.000 || Test Precision = 74.167|| Test Recall = 71.117\n"
     ]
    },
    {
     "name": "stderr",
     "output_type": "stream",
     "text": [
      "3it [00:21,  7.06s/it]\n"
     ]
    },
    {
     "name": "stdout",
     "output_type": "stream",
     "text": [
      "tensor([[3.6217],\n",
      "        [3.8472],\n",
      "        [4.4365],\n",
      "        ...,\n",
      "        [3.4643],\n",
      "        [3.5546],\n",
      "        [3.2149]], device='cuda:0')\n",
      "              precision    recall  f1-score   support\n",
      "\n",
      "           0       0.67      0.63      0.65      8765\n",
      "           1       0.72      0.76      0.74     11235\n",
      "\n",
      "    accuracy                           0.70     20000\n",
      "   macro avg       0.70      0.69      0.70     20000\n",
      "weighted avg       0.70      0.70      0.70     20000\n",
      "\n",
      "Epoch-183: Loss = 1.909\n",
      "Train RMSE = 1.428||Train Precision = 72.733||Train Recall = 75.323\n",
      "Test RMSE = 0.985 || Test Precision = 72.450|| Test Recall = 76.048\n"
     ]
    },
    {
     "name": "stderr",
     "output_type": "stream",
     "text": [
      "3it [00:21,  7.04s/it]\n"
     ]
    },
    {
     "name": "stdout",
     "output_type": "stream",
     "text": [
      "tensor([[3.5916],\n",
      "        [3.8510],\n",
      "        [4.2949],\n",
      "        ...,\n",
      "        [3.5127],\n",
      "        [3.6531],\n",
      "        [3.2091]], device='cuda:0')\n",
      "              precision    recall  f1-score   support\n",
      "\n",
      "           0       0.68      0.62      0.65      8765\n",
      "           1       0.72      0.77      0.75     11235\n",
      "\n",
      "    accuracy                           0.71     20000\n",
      "   macro avg       0.70      0.70      0.70     20000\n",
      "weighted avg       0.70      0.71      0.70     20000\n",
      "\n",
      "Epoch-184: Loss = 1.880\n",
      "Train RMSE = 1.413||Train Precision = 72.213||Train Recall = 76.448\n",
      "Test RMSE = 0.980 || Test Precision = 72.253|| Test Recall = 77.134\n"
     ]
    },
    {
     "name": "stderr",
     "output_type": "stream",
     "text": [
      "3it [00:21,  7.03s/it]\n"
     ]
    },
    {
     "name": "stdout",
     "output_type": "stream",
     "text": [
      "tensor([[3.7861],\n",
      "        [4.0898],\n",
      "        [4.4919],\n",
      "        ...,\n",
      "        [3.6157],\n",
      "        [3.8360],\n",
      "        [3.4837]], device='cuda:0')\n",
      "              precision    recall  f1-score   support\n",
      "\n",
      "           0       0.74      0.49      0.59      8765\n",
      "           1       0.68      0.87      0.76     11235\n",
      "\n",
      "    accuracy                           0.70     20000\n",
      "   macro avg       0.71      0.68      0.68     20000\n",
      "weighted avg       0.71      0.70      0.69     20000\n",
      "\n",
      "Epoch-185: Loss = 1.891\n",
      "Train RMSE = 1.419||Train Precision = 68.566||Train Recall = 86.015\n",
      "Test RMSE = 0.979 || Test Precision = 68.364|| Test Recall = 86.515\n"
     ]
    },
    {
     "name": "stderr",
     "output_type": "stream",
     "text": [
      "3it [00:21,  7.05s/it]\n"
     ]
    },
    {
     "name": "stdout",
     "output_type": "stream",
     "text": [
      "tensor([[3.8422],\n",
      "        [4.0994],\n",
      "        [4.5254],\n",
      "        ...,\n",
      "        [3.6054],\n",
      "        [3.7959],\n",
      "        [3.4520]], device='cuda:0')\n",
      "              precision    recall  f1-score   support\n",
      "\n",
      "           0       0.73      0.49      0.59      8765\n",
      "           1       0.69      0.86      0.76     11235\n",
      "\n",
      "    accuracy                           0.70     20000\n",
      "   macro avg       0.71      0.68      0.68     20000\n",
      "weighted avg       0.71      0.70      0.69     20000\n",
      "\n",
      "Epoch-186: Loss = 1.862\n",
      "Train RMSE = 1.404||Train Precision = 68.309||Train Recall = 85.568\n",
      "Test RMSE = 0.978 || Test Precision = 68.536|| Test Recall = 86.061\n"
     ]
    },
    {
     "name": "stderr",
     "output_type": "stream",
     "text": [
      "3it [00:21,  7.05s/it]\n"
     ]
    },
    {
     "name": "stdout",
     "output_type": "stream",
     "text": [
      "tensor([[3.7142],\n",
      "        [4.0269],\n",
      "        [4.4727],\n",
      "        ...,\n",
      "        [3.5158],\n",
      "        [3.7700],\n",
      "        [3.4255]], device='cuda:0')\n",
      "              precision    recall  f1-score   support\n",
      "\n",
      "           0       0.71      0.55      0.62      8765\n",
      "           1       0.70      0.82      0.76     11235\n",
      "\n",
      "    accuracy                           0.71     20000\n",
      "   macro avg       0.71      0.69      0.69     20000\n",
      "weighted avg       0.71      0.71      0.70     20000\n",
      "\n",
      "Epoch-187: Loss = 1.869\n",
      "Train RMSE = 1.407||Train Precision = 70.490||Train Recall = 81.015\n",
      "Test RMSE = 0.973 || Test Precision = 70.364|| Test Recall = 82.483\n"
     ]
    },
    {
     "name": "stderr",
     "output_type": "stream",
     "text": [
      "3it [00:21,  7.06s/it]\n"
     ]
    },
    {
     "name": "stdout",
     "output_type": "stream",
     "text": [
      "tensor([[3.5917],\n",
      "        [3.9239],\n",
      "        [4.4364],\n",
      "        ...,\n",
      "        [3.4215],\n",
      "        [3.6988],\n",
      "        [3.3899]], device='cuda:0')\n",
      "              precision    recall  f1-score   support\n",
      "\n",
      "           0       0.69      0.60      0.64      8765\n",
      "           1       0.72      0.79      0.75     11235\n",
      "\n",
      "    accuracy                           0.71     20000\n",
      "   macro avg       0.70      0.69      0.70     20000\n",
      "weighted avg       0.70      0.71      0.70     20000\n",
      "\n",
      "Epoch-188: Loss = 1.859\n",
      "Train RMSE = 1.402||Train Precision = 71.676||Train Recall = 77.590\n",
      "Test RMSE = 0.976 || Test Precision = 71.602|| Test Recall = 79.065\n"
     ]
    },
    {
     "name": "stderr",
     "output_type": "stream",
     "text": [
      "3it [00:21,  7.03s/it]\n"
     ]
    },
    {
     "name": "stdout",
     "output_type": "stream",
     "text": [
      "tensor([[3.8235],\n",
      "        [4.0678],\n",
      "        [4.5953],\n",
      "        ...,\n",
      "        [3.5763],\n",
      "        [3.7964],\n",
      "        [3.5298]], device='cuda:0')\n",
      "              precision    recall  f1-score   support\n",
      "\n",
      "           0       0.74      0.51      0.60      8765\n",
      "           1       0.69      0.86      0.77     11235\n",
      "\n",
      "    accuracy                           0.70     20000\n",
      "   macro avg       0.71      0.68      0.68     20000\n",
      "weighted avg       0.71      0.70      0.69     20000\n",
      "\n",
      "Epoch-189: Loss = 1.863\n",
      "Train RMSE = 1.404||Train Precision = 69.044||Train Recall = 85.199\n",
      "Test RMSE = 0.975 || Test Precision = 69.004|| Test Recall = 85.857\n"
     ]
    },
    {
     "name": "stderr",
     "output_type": "stream",
     "text": [
      "3it [00:21,  7.05s/it]\n"
     ]
    },
    {
     "name": "stdout",
     "output_type": "stream",
     "text": [
      "tensor([[3.6486],\n",
      "        [3.8889],\n",
      "        [4.4315],\n",
      "        ...,\n",
      "        [3.4260],\n",
      "        [3.6647],\n",
      "        [3.3201]], device='cuda:0')\n",
      "              precision    recall  f1-score   support\n",
      "\n",
      "           0       0.69      0.61      0.65      8765\n",
      "           1       0.72      0.78      0.75     11235\n",
      "\n",
      "    accuracy                           0.71     20000\n",
      "   macro avg       0.70      0.70      0.70     20000\n",
      "weighted avg       0.71      0.71      0.70     20000\n",
      "\n",
      "Epoch-190: Loss = 1.861\n",
      "Train RMSE = 1.404||Train Precision = 71.647||Train Recall = 77.282\n",
      "Test RMSE = 0.977 || Test Precision = 72.083|| Test Recall = 78.095\n"
     ]
    },
    {
     "name": "stderr",
     "output_type": "stream",
     "text": [
      "3it [00:21,  7.03s/it]\n"
     ]
    },
    {
     "name": "stdout",
     "output_type": "stream",
     "text": [
      "tensor([[3.7903],\n",
      "        [4.0953],\n",
      "        [4.5932],\n",
      "        ...,\n",
      "        [3.5415],\n",
      "        [3.8583],\n",
      "        [3.5826]], device='cuda:0')\n",
      "              precision    recall  f1-score   support\n",
      "\n",
      "           0       0.75      0.47      0.58      8765\n",
      "           1       0.68      0.88      0.77     11235\n",
      "\n",
      "    accuracy                           0.70     20000\n",
      "   macro avg       0.71      0.67      0.67     20000\n",
      "weighted avg       0.71      0.70      0.68     20000\n",
      "\n",
      "Epoch-191: Loss = 1.871\n",
      "Train RMSE = 1.409||Train Precision = 68.234||Train Recall = 86.651\n",
      "Test RMSE = 0.979 || Test Precision = 68.038|| Test Recall = 87.557\n"
     ]
    },
    {
     "name": "stderr",
     "output_type": "stream",
     "text": [
      "3it [00:21,  7.03s/it]\n"
     ]
    },
    {
     "name": "stdout",
     "output_type": "stream",
     "text": [
      "tensor([[3.6114],\n",
      "        [3.8815],\n",
      "        [4.3890],\n",
      "        ...,\n",
      "        [3.3555],\n",
      "        [3.6379],\n",
      "        [3.3321]], device='cuda:0')\n",
      "              precision    recall  f1-score   support\n",
      "\n",
      "           0       0.69      0.61      0.65      8765\n",
      "           1       0.72      0.78      0.75     11235\n",
      "\n",
      "    accuracy                           0.71     20000\n",
      "   macro avg       0.70      0.70      0.70     20000\n",
      "weighted avg       0.71      0.71      0.71     20000\n",
      "\n",
      "Epoch-192: Loss = 1.865\n",
      "Train RMSE = 1.406||Train Precision = 71.782||Train Recall = 76.696\n",
      "Test RMSE = 0.976 || Test Precision = 72.174|| Test Recall = 78.264\n"
     ]
    },
    {
     "name": "stderr",
     "output_type": "stream",
     "text": [
      "3it [00:21,  7.05s/it]\n"
     ]
    },
    {
     "name": "stdout",
     "output_type": "stream",
     "text": [
      "tensor([[3.8783],\n",
      "        [4.1211],\n",
      "        [4.6199],\n",
      "        ...,\n",
      "        [3.6255],\n",
      "        [3.9062],\n",
      "        [3.5596]], device='cuda:0')\n",
      "              precision    recall  f1-score   support\n",
      "\n",
      "           0       0.76      0.45      0.56      8765\n",
      "           1       0.67      0.89      0.77     11235\n",
      "\n",
      "    accuracy                           0.70     20000\n",
      "   macro avg       0.72      0.67      0.67     20000\n",
      "weighted avg       0.71      0.70      0.68     20000\n",
      "\n",
      "Epoch-193: Loss = 1.870\n",
      "Train RMSE = 1.409||Train Precision = 67.236||Train Recall = 88.423\n",
      "Test RMSE = 0.982 || Test Precision = 67.419|| Test Recall = 88.830\n"
     ]
    },
    {
     "name": "stderr",
     "output_type": "stream",
     "text": [
      "3it [00:21,  7.03s/it]\n"
     ]
    },
    {
     "name": "stdout",
     "output_type": "stream",
     "text": [
      "tensor([[3.5454],\n",
      "        [3.8509],\n",
      "        [4.4057],\n",
      "        ...,\n",
      "        [3.3193],\n",
      "        [3.6428],\n",
      "        [3.3485]], device='cuda:0')\n",
      "              precision    recall  f1-score   support\n",
      "\n",
      "           0       0.69      0.62      0.65      8765\n",
      "           1       0.72      0.78      0.75     11235\n",
      "\n",
      "    accuracy                           0.71     20000\n",
      "   macro avg       0.70      0.70      0.70     20000\n",
      "weighted avg       0.71      0.71      0.71     20000\n",
      "\n",
      "Epoch-194: Loss = 1.885\n",
      "Train RMSE = 1.417||Train Precision = 72.255||Train Recall = 76.564\n",
      "Test RMSE = 0.978 || Test Precision = 72.290|| Test Recall = 77.926\n"
     ]
    },
    {
     "name": "stderr",
     "output_type": "stream",
     "text": [
      "3it [00:21,  7.04s/it]\n"
     ]
    },
    {
     "name": "stdout",
     "output_type": "stream",
     "text": [
      "tensor([[3.5479],\n",
      "        [3.7796],\n",
      "        [4.3096],\n",
      "        ...,\n",
      "        [3.3631],\n",
      "        [3.5777],\n",
      "        [3.1684]], device='cuda:0')\n",
      "              precision    recall  f1-score   support\n",
      "\n",
      "           0       0.66      0.66      0.66      8765\n",
      "           1       0.74      0.73      0.74     11235\n",
      "\n",
      "    accuracy                           0.70     20000\n",
      "   macro avg       0.70      0.70      0.70     20000\n",
      "weighted avg       0.70      0.70      0.70     20000\n",
      "\n",
      "Epoch-195: Loss = 1.860\n",
      "Train RMSE = 1.403||Train Precision = 73.508||Train Recall = 72.229\n",
      "Test RMSE = 0.986 || Test Precision = 73.664|| Test Recall = 73.396\n"
     ]
    },
    {
     "name": "stderr",
     "output_type": "stream",
     "text": [
      "3it [00:21,  7.05s/it]\n"
     ]
    },
    {
     "name": "stdout",
     "output_type": "stream",
     "text": [
      "tensor([[3.8321],\n",
      "        [4.1264],\n",
      "        [4.6414],\n",
      "        ...,\n",
      "        [3.6381],\n",
      "        [3.9386],\n",
      "        [3.6109]], device='cuda:0')\n",
      "              precision    recall  f1-score   support\n",
      "\n",
      "           0       0.79      0.39      0.52      8765\n",
      "           1       0.66      0.92      0.77     11235\n",
      "\n",
      "    accuracy                           0.68     20000\n",
      "   macro avg       0.72      0.65      0.64     20000\n",
      "weighted avg       0.71      0.68      0.66     20000\n",
      "\n",
      "Epoch-196: Loss = 1.974\n",
      "Train RMSE = 1.463||Train Precision = 64.724||Train Recall = 91.644\n",
      "Test RMSE = 0.993 || Test Precision = 65.692|| Test Recall = 91.758\n"
     ]
    },
    {
     "name": "stderr",
     "output_type": "stream",
     "text": [
      "3it [00:21,  7.01s/it]\n"
     ]
    },
    {
     "name": "stdout",
     "output_type": "stream",
     "text": [
      "tensor([[3.9069],\n",
      "        [4.1817],\n",
      "        [4.7822],\n",
      "        ...,\n",
      "        [3.7750],\n",
      "        [3.8622],\n",
      "        [3.5667]], device='cuda:0')\n",
      "              precision    recall  f1-score   support\n",
      "\n",
      "           0       0.76      0.43      0.55      8765\n",
      "           1       0.67      0.89      0.76     11235\n",
      "\n",
      "    accuracy                           0.69     20000\n",
      "   macro avg       0.71      0.66      0.65     20000\n",
      "weighted avg       0.71      0.69      0.67     20000\n",
      "\n",
      "Epoch-197: Loss = 1.916\n",
      "Train RMSE = 1.433||Train Precision = 66.541||Train Recall = 89.195\n",
      "Test RMSE = 0.991 || Test Precision = 66.625|| Test Recall = 89.212\n"
     ]
    },
    {
     "name": "stderr",
     "output_type": "stream",
     "text": [
      "3it [00:21,  7.03s/it]\n"
     ]
    },
    {
     "name": "stdout",
     "output_type": "stream",
     "text": [
      "tensor([[3.9381],\n",
      "        [4.0510],\n",
      "        [4.6453],\n",
      "        ...,\n",
      "        [3.7733],\n",
      "        [3.8758],\n",
      "        [3.4117]], device='cuda:0')\n",
      "              precision    recall  f1-score   support\n",
      "\n",
      "           0       0.75      0.46      0.57      8765\n",
      "           1       0.68      0.88      0.76     11235\n",
      "\n",
      "    accuracy                           0.70     20000\n",
      "   macro avg       0.71      0.67      0.67     20000\n",
      "weighted avg       0.71      0.70      0.68     20000\n",
      "\n",
      "Epoch-198: Loss = 1.875\n",
      "Train RMSE = 1.411||Train Precision = 67.223||Train Recall = 87.828\n",
      "Test RMSE = 0.982 || Test Precision = 67.615|| Test Recall = 88.028\n"
     ]
    },
    {
     "name": "stderr",
     "output_type": "stream",
     "text": [
      "3it [00:21,  7.01s/it]\n"
     ]
    },
    {
     "name": "stdout",
     "output_type": "stream",
     "text": [
      "tensor([[3.6956],\n",
      "        [4.0368],\n",
      "        [4.4936],\n",
      "        ...,\n",
      "        [3.4755],\n",
      "        [3.7506],\n",
      "        [3.4962]], device='cuda:0')\n",
      "              precision    recall  f1-score   support\n",
      "\n",
      "           0       0.73      0.52      0.61      8765\n",
      "           1       0.69      0.85      0.76     11235\n",
      "\n",
      "    accuracy                           0.71     20000\n",
      "   macro avg       0.71      0.68      0.69     20000\n",
      "weighted avg       0.71      0.71      0.70     20000\n",
      "\n",
      "Epoch-199: Loss = 1.866\n",
      "Train RMSE = 1.406||Train Precision = 68.830||Train Recall = 84.481\n",
      "Test RMSE = 0.975 || Test Precision = 69.364|| Test Recall = 85.065\n"
     ]
    },
    {
     "name": "stderr",
     "output_type": "stream",
     "text": [
      "3it [00:21,  7.04s/it]\n"
     ]
    },
    {
     "name": "stdout",
     "output_type": "stream",
     "text": [
      "tensor([[3.5715],\n",
      "        [3.9194],\n",
      "        [4.3135],\n",
      "        ...,\n",
      "        [3.4109],\n",
      "        [3.6795],\n",
      "        [3.3238]], device='cuda:0')\n",
      "              precision    recall  f1-score   support\n",
      "\n",
      "           0       0.70      0.58      0.64      8765\n",
      "           1       0.71      0.81      0.76     11235\n",
      "\n",
      "    accuracy                           0.71     20000\n",
      "   macro avg       0.71      0.70      0.70     20000\n",
      "weighted avg       0.71      0.71      0.70     20000\n",
      "\n",
      "Epoch-200: Loss = 1.858\n",
      "Train RMSE = 1.402||Train Precision = 71.128||Train Recall = 80.488\n",
      "Test RMSE = 0.973 || Test Precision = 71.222|| Test Recall = 80.952\n"
     ]
    }
   ],
   "source": [
    "train_loss, test_loss, train_f1, test_f1 = sm_net.fit()"
   ]
  },
  {
   "cell_type": "code",
   "execution_count": 26,
   "id": "f721ad65",
   "metadata": {},
   "outputs": [],
   "source": [
    "torch.save(sm_net, \"./pretrained/text_audio.pth\")"
   ]
  },
  {
   "cell_type": "code",
   "execution_count": 27,
   "id": "2e011c07",
   "metadata": {},
   "outputs": [
    {
     "data": {
      "image/png": "[encoded data removed]",
      "text/plain": [
       "<Figure size 432x288 with 1 Axes>"
      ]
     },
     "metadata": {
      "needs_background": "light"
     },
     "output_type": "display_data"
    },
    {
     "data": {
      "image/png": "[encoded data removed]",
      "text/plain": [
       "<Figure size 432x288 with 1 Axes>"
      ]
     },
     "metadata": {
      "needs_background": "light"
     },
     "output_type": "display_data"
    }
   ],
   "source": [
    "import matplotlib.pyplot as plt\n",
    "\n",
    "plt.plot(train_loss[10::], label = \"Train Loss\")\n",
    "plt.plot(test_loss[10::], label = \"Test Loss\")\n",
    "plt.legend()\n",
    "plt.show()\n",
    "plt.plot(train_f1, label = \"Train F1\")\n",
    "plt.plot(test_f1, label = \"Test F1\")\n",
    "plt.legend()\n",
    "plt.show()\n"
   ]
  },
  {
   "cell_type": "markdown",
   "id": "03ca6d45",
   "metadata": {},
   "source": [
    "# Test"
   ]
  },
  {
   "cell_type": "code",
   "execution_count": 28,
   "id": "57f49a6a",
   "metadata": {},
   "outputs": [],
   "source": [
    "import matplotlib.pyplot as plt\n",
    "import torch"
   ]
  },
  {
   "cell_type": "code",
   "execution_count": 29,
   "id": "20f07f29",
   "metadata": {},
   "outputs": [],
   "source": [
    "sm_net = torch.load(\"./pretrained/text_audio.pth\")"
   ]
  },
  {
   "cell_type": "code",
   "execution_count": 30,
   "id": "6a083187",
   "metadata": {},
   "outputs": [
    {
     "name": "stdout",
     "output_type": "stream",
     "text": [
      "tensor([[3.5715],\n",
      "        [3.9194],\n",
      "        [4.3135],\n",
      "        ...,\n",
      "        [3.4109],\n",
      "        [3.6795],\n",
      "        [3.3238]], device='cuda:0')\n",
      "              precision    recall  f1-score   support\n",
      "\n",
      "           0       0.80      0.35      0.49      8765\n",
      "           1       0.65      0.93      0.77     11235\n",
      "\n",
      "    accuracy                           0.68     20000\n",
      "   macro avg       0.73      0.64      0.63     20000\n",
      "weighted avg       0.72      0.68      0.64     20000\n",
      "\n",
      "tensor([[3.5715],\n",
      "        [3.9194],\n",
      "        [4.3135],\n",
      "        ...,\n",
      "        [3.4109],\n",
      "        [3.6795],\n",
      "        [3.3238]], device='cuda:0')\n",
      "              precision    recall  f1-score   support\n",
      "\n",
      "           0       0.78      0.41      0.54      8765\n",
      "           1       0.66      0.91      0.77     11235\n",
      "\n",
      "    accuracy                           0.69     20000\n",
      "   macro avg       0.72      0.66      0.65     20000\n",
      "weighted avg       0.71      0.69      0.67     20000\n",
      "\n",
      "tensor([[3.5715],\n",
      "        [3.9194],\n",
      "        [4.3135],\n",
      "        ...,\n",
      "        [3.4109],\n",
      "        [3.6795],\n",
      "        [3.3238]], device='cuda:0')\n",
      "              precision    recall  f1-score   support\n",
      "\n",
      "           0       0.75      0.48      0.58      8765\n",
      "           1       0.68      0.88      0.77     11235\n",
      "\n",
      "    accuracy                           0.70     20000\n",
      "   macro avg       0.72      0.68      0.68     20000\n",
      "weighted avg       0.71      0.70      0.69     20000\n",
      "\n",
      "tensor([[3.5715],\n",
      "        [3.9194],\n",
      "        [4.3135],\n",
      "        ...,\n",
      "        [3.4109],\n",
      "        [3.6795],\n",
      "        [3.3238]], device='cuda:0')\n",
      "              precision    recall  f1-score   support\n",
      "\n",
      "           0       0.72      0.54      0.62      8765\n",
      "           1       0.70      0.83      0.76     11235\n",
      "\n",
      "    accuracy                           0.71     20000\n",
      "   macro avg       0.71      0.69      0.69     20000\n",
      "weighted avg       0.71      0.71      0.70     20000\n",
      "\n",
      "tensor([[3.5715],\n",
      "        [3.9194],\n",
      "        [4.3135],\n",
      "        ...,\n",
      "        [3.4109],\n",
      "        [3.6795],\n",
      "        [3.3238]], device='cuda:0')\n",
      "              precision    recall  f1-score   support\n",
      "\n",
      "           0       0.69      0.62      0.65      8765\n",
      "           1       0.72      0.78      0.75     11235\n",
      "\n",
      "    accuracy                           0.71     20000\n",
      "   macro avg       0.70      0.70      0.70     20000\n",
      "weighted avg       0.71      0.71      0.71     20000\n",
      "\n",
      "tensor([[3.5715],\n",
      "        [3.9194],\n",
      "        [4.3135],\n",
      "        ...,\n",
      "        [3.4109],\n",
      "        [3.6795],\n",
      "        [3.3238]], device='cuda:0')\n",
      "              precision    recall  f1-score   support\n",
      "\n",
      "           0       0.65      0.68      0.67      8765\n",
      "           1       0.74      0.72      0.73     11235\n",
      "\n",
      "    accuracy                           0.70     20000\n",
      "   macro avg       0.70      0.70      0.70     20000\n",
      "weighted avg       0.70      0.70      0.70     20000\n",
      "\n",
      "tensor([[3.5715],\n",
      "        [3.9194],\n",
      "        [4.3135],\n",
      "        ...,\n",
      "        [3.4109],\n",
      "        [3.6795],\n",
      "        [3.3238]], device='cuda:0')\n",
      "              precision    recall  f1-score   support\n",
      "\n",
      "           0       0.62      0.75      0.68      8765\n",
      "           1       0.77      0.64      0.70     11235\n",
      "\n",
      "    accuracy                           0.69     20000\n",
      "   macro avg       0.69      0.70      0.69     20000\n",
      "weighted avg       0.70      0.69      0.69     20000\n",
      "\n",
      "tensor([[3.5715],\n",
      "        [3.9194],\n",
      "        [4.3135],\n",
      "        ...,\n",
      "        [3.4109],\n",
      "        [3.6795],\n",
      "        [3.3238]], device='cuda:0')\n",
      "              precision    recall  f1-score   support\n",
      "\n",
      "           0       0.58      0.81      0.68      8765\n",
      "           1       0.78      0.55      0.65     11235\n",
      "\n",
      "    accuracy                           0.66     20000\n",
      "   macro avg       0.68      0.68      0.66     20000\n",
      "weighted avg       0.70      0.66      0.66     20000\n",
      "\n",
      "tensor([[3.5715],\n",
      "        [3.9194],\n",
      "        [4.3135],\n",
      "        ...,\n",
      "        [3.4109],\n",
      "        [3.6795],\n",
      "        [3.3238]], device='cuda:0')\n",
      "              precision    recall  f1-score   support\n",
      "\n",
      "           0       0.56      0.86      0.67      8765\n",
      "           1       0.81      0.46      0.59     11235\n",
      "\n",
      "    accuracy                           0.64     20000\n",
      "   macro avg       0.68      0.66      0.63     20000\n",
      "weighted avg       0.70      0.64      0.63     20000\n",
      "\n",
      "tensor([[3.5715],\n",
      "        [3.9194],\n",
      "        [4.3135],\n",
      "        ...,\n",
      "        [3.4109],\n",
      "        [3.6795],\n",
      "        [3.3238]], device='cuda:0')\n",
      "              precision    recall  f1-score   support\n",
      "\n",
      "           0       0.53      0.90      0.66      8765\n",
      "           1       0.83      0.37      0.51     11235\n",
      "\n",
      "    accuracy                           0.60     20000\n",
      "   macro avg       0.68      0.63      0.59     20000\n",
      "weighted avg       0.69      0.60      0.58     20000\n",
      "\n"
     ]
    },
    {
     "data": {
      "image/png": "[encoded data removed]",
      "text/plain": [
       "<Figure size 432x288 with 1 Axes>"
      ]
     },
     "metadata": {
      "needs_background": "light"
     },
     "output_type": "display_data"
    }
   ],
   "source": [
    "prs = []\n",
    "rec = []\n",
    "f1 = []\n",
    "\n",
    "for i in np.arange(3, 4, 0.1):\n",
    "    _, p, r, f, _, _, _ = sm_net.evaluate(i)\n",
    "    prs.append(p)\n",
    "    rec.append(r)\n",
    "    f1.append(f)\n",
    "    \n",
    "plt.plot(prs, label = \"Test Precision\")\n",
    "plt.plot(rec, label = \"Test Recall\")\n",
    "plt.plot(f1, label = \"Test F1\")\n",
    "\n",
    "plt.legend()\n",
    "plt.show()"
   ]
  },
  {
   "cell_type": "code",
   "execution_count": 31,
   "id": "a7e3aab5",
   "metadata": {},
   "outputs": [
    {
     "data": {
      "text/plain": [
       "[64.82809794706901,\n",
       " 66.43630199504499,\n",
       " 68.23766224751857,\n",
       " 70.13385179092201,\n",
       " 72.22954058949448,\n",
       " 74.1727348142686,\n",
       " 76.51170178968549,\n",
       " 78.46425419240953,\n",
       " 80.68111455108358,\n",
       " 82.50099880143827]"
      ]
     },
     "execution_count": 31,
     "metadata": {},
     "output_type": "execute_result"
    }
   ],
   "source": [
    "prs"
   ]
  },
  {
   "cell_type": "code",
   "execution_count": 32,
   "id": "072ba36d",
   "metadata": {},
   "outputs": [
    {
     "data": {
      "text/plain": [
       "[93.31553182020473,\n",
       " 90.69870939029818,\n",
       " 87.50333778371161,\n",
       " 83.48019581664443,\n",
       " 78.08633733867379,\n",
       " 71.6243880729862,\n",
       " 64.30796617712505,\n",
       " 55.389408099688474,\n",
       " 46.39074321317312,\n",
       " 36.7601246105919]"
      ]
     },
     "execution_count": 32,
     "metadata": {},
     "output_type": "execute_result"
    }
   ],
   "source": [
    "rec"
   ]
  },
  {
   "cell_type": "code",
   "execution_count": null,
   "id": "0522e510",
   "metadata": {},
   "outputs": [],
   "source": []
  }
 ],
 "metadata": {
  "kernelspec": {
   "display_name": "Python 3",
   "language": "python",
   "name": "python3"
  },
  "language_info": {
   "codemirror_mode": {
    "name": "ipython",
    "version": 3
   },
   "file_extension": ".py",
   "mimetype": "text/x-python",
   "name": "python",
   "nbconvert_exporter": "python",
   "pygments_lexer": "ipython3",
   "version": "3.9.7"
  }
 },
 "nbformat": 4,
 "nbformat_minor": 5
}
