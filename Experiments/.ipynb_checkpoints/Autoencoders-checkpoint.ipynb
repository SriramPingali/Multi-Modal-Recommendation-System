{
 "cells": [
  {
   "cell_type": "markdown",
   "id": "e99f6d7a",
   "metadata": {},
   "source": [
    "# Setup"
   ]
  },
  {
   "cell_type": "code",
   "execution_count": 2,
   "id": "51ecc18c",
   "metadata": {},
   "outputs": [],
   "source": [
    "import os\n",
    "os.environ['TF_CPP_MIN_LOG_LEVEL'] = '3' "
   ]
  },
  {
   "cell_type": "code",
   "execution_count": 3,
   "id": "436b3c6b",
   "metadata": {},
   "outputs": [],
   "source": [
    "import numpy as np\n",
    "import pandas as pd\n",
    "import tensorflow as tf"
   ]
  },
  {
   "cell_type": "code",
   "execution_count": 4,
   "id": "28efa8ef",
   "metadata": {},
   "outputs": [
    {
     "data": {
      "text/plain": [
       "'2.2.0'"
      ]
     },
     "execution_count": 4,
     "metadata": {},
     "output_type": "execute_result"
    }
   ],
   "source": [
    "tf.__version__"
   ]
  },
  {
   "cell_type": "code",
   "execution_count": 5,
   "id": "d7dad33a",
   "metadata": {},
   "outputs": [
    {
     "data": {
      "text/plain": [
       "[PhysicalDevice(name='/physical_device:CPU:0', device_type='CPU'),\n",
       " PhysicalDevice(name='/physical_device:XLA_CPU:0', device_type='XLA_CPU'),\n",
       " PhysicalDevice(name='/physical_device:GPU:0', device_type='GPU'),\n",
       " PhysicalDevice(name='/physical_device:XLA_GPU:0', device_type='XLA_GPU')]"
      ]
     },
     "execution_count": 5,
     "metadata": {},
     "output_type": "execute_result"
    }
   ],
   "source": [
    "tf.config.list_physical_devices()"
   ]
  },
  {
   "cell_type": "code",
   "execution_count": 6,
   "id": "687684d3",
   "metadata": {},
   "outputs": [],
   "source": [
    "items = pd.read_csv(\"../Datasets/ml-100k/Text/items.csv\")"
   ]
  },
  {
   "cell_type": "code",
   "execution_count": 7,
   "id": "dba629d9",
   "metadata": {},
   "outputs": [],
   "source": [
    "data_text = items['Summary']"
   ]
  },
  {
   "cell_type": "code",
   "execution_count": 8,
   "id": "ea9aac7a",
   "metadata": {},
   "outputs": [
    {
     "data": {
      "text/plain": [
       "'A little boy named Andy loves to be in his room, playing with his toys, especially his doll named \"Woody\". But, what do the toys do when Andy is not with them, they come to life. Woody believes that his life (as a toy) is good. However, he must worry about Andy\\'s family moving, and what Woody does not know is about Andy\\'s birthday party. Woody does not realize that Andy\\'s mother gave him an action figure known as Buzz Lightyear, who does not believe that he is a toy, and quickly becomes Andy\\'s new favorite toy. Woody, who is now consumed with jealousy, tries to get rid of Buzz. Then, both Woody and Buzz are now lost. They must find a way to get back to Andy before he moves without them, but they will have to pass through a ruthless toy killer, Sid Phillips. —John Wiggins'"
      ]
     },
     "execution_count": 8,
     "metadata": {},
     "output_type": "execute_result"
    }
   ],
   "source": [
    "data_text[0]"
   ]
  },
  {
   "cell_type": "markdown",
   "id": "3877effb",
   "metadata": {},
   "source": [
    "# AutoEncoder\n",
    "## Text Data"
   ]
  },
  {
   "cell_type": "code",
   "execution_count": 9,
   "id": "50189246",
   "metadata": {},
   "outputs": [
    {
     "name": "stderr",
     "output_type": "stream",
     "text": [
      "Using TensorFlow backend.\n",
      "[nltk_data] Downloading package punkt to /home/sriram/nltk_data...\n",
      "[nltk_data]   Package punkt is already up-to-date!\n",
      "[nltk_data] Downloading package wordnet to /home/sriram/nltk_data...\n",
      "[nltk_data]   Package wordnet is already up-to-date!\n",
      "[nltk_data] Downloading package stopwords to /home/sriram/nltk_data...\n",
      "[nltk_data]   Package stopwords is already up-to-date!\n"
     ]
    }
   ],
   "source": [
    "import re\n",
    "\n",
    "from keras.optimizers import Adam\n",
    "from keras.models import Model, Sequential\n",
    "\n",
    "import nltk\n",
    "nltk.download('punkt')\n",
    "nltk.download('wordnet')\n",
    "nltk.download('stopwords')\n",
    "from nltk.stem import wordnet\n",
    "from nltk.corpus import stopwords \n",
    "from nltk.stem.porter import PorterStemmer \n",
    "from nltk.tokenize import word_tokenize as wt\n",
    "\n",
    "from keras.preprocessing.text import Tokenizer\n",
    "from keras.preprocessing.sequence import pad_sequences\n",
    "from keras.losses import sparse_categorical_crossentropy\n",
    "from keras.layers import LSTM, Input, TimeDistributed, Dense, Activation, RepeatVector, Embedding, Bidirectional"
   ]
  },
  {
   "cell_type": "code",
   "execution_count": 10,
   "id": "950933fd",
   "metadata": {},
   "outputs": [],
   "source": [
    "lem = wordnet.WordNetLemmatizer()\n",
    "sw = set(stopwords.words(\"english\")) "
   ]
  },
  {
   "cell_type": "code",
   "execution_count": 11,
   "id": "85a24d98",
   "metadata": {},
   "outputs": [],
   "source": [
    "# self.input_sequence = Input(shape = (self.max_len,))\n",
    "# self.embedding = Embedding(input_dim = self.vocab, output_dim=128,)(self.input_sequence)\n",
    "# self.encoder = Bidirectional(LSTM(self.hidden, return_sequences=False))(self.embedding)\n",
    "# self.r_vec = RepeatVector(self.max_len)(self.encoder)\n",
    "# self.decoder = Bidirectional(LSTM(self.hidden, return_sequences=True, dropout=0.2))(self.r_vec)\n",
    "# self.logits = TimeDistributed(Dense(self.vocab))(self.decoder)\n",
    "# self.enc_dec_model = Model(inputs = self.input_sequence, outputs = Activation('softmax')(self.logits))\n",
    "# enc_inp = Input(shape = (self.max_len,))"
   ]
  },
  {
   "cell_type": "code",
   "execution_count": 12,
   "id": "dfee7a8a",
   "metadata": {},
   "outputs": [],
   "source": [
    "class Autoencoder_Text(Model):\n",
    "    def __init__(self, input_=300, hidden=200):\n",
    "        super(Autoencoder_Text, self).__init__()\n",
    "        self.max_len = input_\n",
    "        self.hidden = hidden\n",
    "    \n",
    "    def clean_text(self, text):\n",
    "        text = str(text).lower()\n",
    "        text = re.sub(r\"@[A-Za-z0-9]+\", ' ', text)\n",
    "        text = re.sub(r\"https?://[A-Za-z0-9./]+\", ' ', text)\n",
    "        text = re.sub(r\"[^a-zA-z.!?'0-9]\", ' ', text)\n",
    "        text = re.sub('\\t', ' ',  text)\n",
    "        text = re.sub(r\" +\", ' ', text)\n",
    "        text = wt(text)\n",
    "        text = (\" \").join([lem.lemmatize(i, pos ='v') \n",
    "                           for i in text if i not in sw])\n",
    "        return(text)\n",
    "    \n",
    "    def tokenize(self, sentences):\n",
    "        text_tokenizer = Tokenizer()\n",
    "        text_tokenizer.fit_on_texts(sentences)\n",
    "        return(text_tokenizer.texts_to_sequences(sentences), text_tokenizer)\n",
    "    \n",
    "    def pre_process(self, data_text, train=False):\n",
    "        data_text = data_text.apply(self.clean_text)\n",
    "        text_tokenized, self.text_tokenizer = self.tokenize(data_text)\n",
    "        \n",
    "        if train:\n",
    "            self.vocab = len(self.text_tokenizer.word_index) + 1\n",
    "            self.max_len = int(len(max(text_tokenized,key=len)))\n",
    "            \n",
    "        pad_sentence = pad_sequences(text_tokenized, self.max_len, padding = \"post\")\n",
    "        return(pad_sentence.reshape(*pad_sentence.shape, 1))\n",
    "    \n",
    "    def model(self):\n",
    "        self.encoder = Sequential([\n",
    "            Embedding(input_dim = self.vocab, output_dim=128,),\n",
    "            Bidirectional(LSTM(self.hidden, return_sequences=False))\n",
    "        ])\n",
    "        \n",
    "        self.r_vec = RepeatVector(self.max_len)\n",
    "        self.decoder = Sequential([\n",
    "            Bidirectional(LSTM(self.hidden, return_sequences=True, dropout=0.2)),\n",
    "            TimeDistributed(Dense(self.vocab))\n",
    "        ])\n",
    "        self.enc_dec_model = Sequential([self.encoder, self.r_vec, self.decoder])\n",
    "    \n",
    "    def train(self, data_text, epochs=10, batch_size=20):\n",
    "        pad_sentence = self.pre_process(data_text, True)\n",
    "        self.model()\n",
    "        self.enc_dec_model.compile(loss=sparse_categorical_crossentropy,\n",
    "              optimizer=Adam(1e-3),\n",
    "              metrics=['accuracy'])\n",
    "        \n",
    "        self.enc_dec_model.summary()\n",
    "        self.enc_dec_model.fit(np.squeeze(pad_sentence, axis = 2), \n",
    "                                      pad_sentence, batch_size=batch_size, epochs=epochs)\n",
    "        self.enc_dec_model.save('./pretrained/text_model')\n",
    "        \n",
    "    def call(self, inputs):\n",
    "        pad_sentences = self.pre_process(inputs, False)\n",
    "        print(tf.convert_to_tensor(pad_sentences).shape)\n",
    "        return(self.enc_dec_model(tf.squeeze(pad_sentences, axis = 2)))"
   ]
  },
  {
   "cell_type": "code",
   "execution_count": 13,
   "id": "249957c2",
   "metadata": {
    "tags": []
   },
   "outputs": [
    {
     "name": "stdout",
     "output_type": "stream",
     "text": [
      "Model: \"sequential_3\"\n",
      "_________________________________________________________________\n",
      "Layer (type)                 Output Shape              Param #   \n",
      "=================================================================\n",
      "sequential_1 (Sequential)    (None, 400)               2276416   \n",
      "_________________________________________________________________\n",
      "repeat_vector_1 (RepeatVecto (None, 240, 400)          0         \n",
      "_________________________________________________________________\n",
      "sequential_2 (Sequential)    (None, 240, 13672)        6444072   \n",
      "=================================================================\n",
      "Total params: 8,720,488\n",
      "Trainable params: 8,720,488\n",
      "Non-trainable params: 0\n",
      "_________________________________________________________________\n"
     ]
    },
    {
     "name": "stderr",
     "output_type": "stream",
     "text": [
      "/home/sriram/anaconda3/envs/btp/lib/python3.8/site-packages/tensorflow/python/framework/indexed_slices.py:433: UserWarning: Converting sparse IndexedSlices to a dense Tensor of unknown shape. This may consume a large amount of memory.\n",
      "  warnings.warn(\n"
     ]
    },
    {
     "name": "stdout",
     "output_type": "stream",
     "text": [
      "Epoch 1/1\n",
      "1682/1682 [==============================] - 40s 24ms/step - loss: 3.1978 - accuracy: 0.7742\n"
     ]
    }
   ],
   "source": [
    "AE = Autoencoder_Text()\n",
    "AE.train(data_text, epochs = 1, batch_size = 30)"
   ]
  },
  {
   "cell_type": "code",
   "execution_count": 14,
   "id": "2b82e659",
   "metadata": {},
   "outputs": [
    {
     "name": "stdout",
     "output_type": "stream",
     "text": [
      "[[ 0.01623436  0.01716649 -0.00986839 ...  0.00332202 -0.00862998\n",
      "  -0.00149595]\n",
      " [ 0.01623436  0.01716649 -0.00986839 ... -0.00404957 -0.00246434\n",
      "   0.00259131]\n",
      " [ 0.01623436  0.01716649 -0.00986839 ... -0.00086781 -0.00186458\n",
      "  -0.00246912]\n",
      " ...\n",
      " [ 0.01623436  0.01716649 -0.00986839 ... -0.00932547 -0.00054978\n",
      "   0.01936425]\n",
      " [ 0.01623436  0.01716649 -0.00986839 ... -0.02240402 -0.015483\n",
      "   0.01854579]\n",
      " [ 0.01623436  0.01716649 -0.00986839 ... -0.00850242  0.00094222\n",
      "   0.00521836]]\n"
     ]
    }
   ],
   "source": [
    "inputs = np.squeeze(AE.pre_process(data_text), axis = 2)\n",
    "output = AE.encoder.predict(inputs)\n",
    "print(output)"
   ]
  },
  {
   "cell_type": "markdown",
   "id": "2747881d",
   "metadata": {},
   "source": [
    "## Meta-Data"
   ]
  }
 ],
 "metadata": {
  "kernelspec": {
   "display_name": "Python 3 (ipykernel)",
   "language": "python",
   "name": "python3"
  },
  "language_info": {
   "codemirror_mode": {
    "name": "ipython",
    "version": 3
   },
   "file_extension": ".py",
   "mimetype": "text/x-python",
   "name": "python",
   "nbconvert_exporter": "python",
   "pygments_lexer": "ipython3",
   "version": "3.8.12"
  }
 },
 "nbformat": 4,
 "nbformat_minor": 5
}
