{
 "cells": [
  {
   "cell_type": "code",
   "execution_count": 1,
   "id": "2dbf2c6d",
   "metadata": {},
   "outputs": [
    {
     "ename": "ModuleNotFoundError",
     "evalue": "No module named 'matplotlib'",
     "output_type": "error",
     "traceback": [
      "\u001b[0;31m---------------------------------------------------------------------------\u001b[0m",
      "\u001b[0;31mModuleNotFoundError\u001b[0m                       Traceback (most recent call last)",
      "\u001b[0;32m<ipython-input-1-e1f917f2e831>\u001b[0m in \u001b[0;36m<module>\u001b[0;34m\u001b[0m\n\u001b[1;32m      2\u001b[0m \u001b[0;34m\u001b[0m\u001b[0m\n\u001b[1;32m      3\u001b[0m \u001b[0;32mfrom\u001b[0m \u001b[0mIPython\u001b[0m \u001b[0;32mimport\u001b[0m \u001b[0mdisplay\u001b[0m\u001b[0;34m\u001b[0m\u001b[0;34m\u001b[0m\u001b[0m\n\u001b[0;32m----> 4\u001b[0;31m \u001b[0;32mimport\u001b[0m \u001b[0mmatplotlib\u001b[0m\u001b[0;34m.\u001b[0m\u001b[0mpyplot\u001b[0m \u001b[0;32mas\u001b[0m \u001b[0mplt\u001b[0m\u001b[0;34m\u001b[0m\u001b[0;34m\u001b[0m\u001b[0m\n\u001b[0m\u001b[1;32m      5\u001b[0m \u001b[0;32mimport\u001b[0m \u001b[0mnumpy\u001b[0m \u001b[0;32mas\u001b[0m \u001b[0mnp\u001b[0m\u001b[0;34m\u001b[0m\u001b[0;34m\u001b[0m\u001b[0m\n\u001b[1;32m      6\u001b[0m \u001b[0;32mimport\u001b[0m \u001b[0mpandas\u001b[0m \u001b[0;32mas\u001b[0m \u001b[0mpd\u001b[0m\u001b[0;34m\u001b[0m\u001b[0;34m\u001b[0m\u001b[0m\n",
      "\u001b[0;31mModuleNotFoundError\u001b[0m: No module named 'matplotlib'"
     ]
    }
   ],
   "source": [
    "import os\n",
    "\n",
    "from IPython import display\n",
    "import matplotlib.pyplot as plt\n",
    "import numpy as np\n",
    "import pandas as pd\n",
    "\n",
    "import tensorflow as tf\n",
    "import tensorflow_hub as hub\n",
    "import tensorflow_io as tfio"
   ]
  },
  {
   "cell_type": "code",
   "execution_count": null,
   "id": "35b28a6b",
   "metadata": {},
   "outputs": [],
   "source": [
    "items = pd.read_csv(\"../Datasets/ml-100k/Text/items.csv\")"
   ]
  },
  {
   "cell_type": "code",
   "execution_count": null,
   "id": "379ede9b",
   "metadata": {},
   "outputs": [],
   "source": [
    "# pip install tensorflow_hub"
   ]
  },
  {
   "cell_type": "code",
   "execution_count": null,
   "id": "7f85301f",
   "metadata": {},
   "outputs": [],
   "source": [
    "# pip install tensorflow.io"
   ]
  },
  {
   "cell_type": "code",
   "execution_count": null,
   "id": "0e45c282",
   "metadata": {},
   "outputs": [],
   "source": [
    "yamnet_model_handle = 'https://tfhub.dev/google/yamnet/1'\n",
    "yamnet_model = hub.load(yamnet_model_handle)"
   ]
  },
  {
   "cell_type": "code",
   "execution_count": null,
   "id": "c2651954",
   "metadata": {},
   "outputs": [],
   "source": [
    "# testing_wav_file_name = tf.keras.utils.get_file('miaow_16k.wav',\n",
    "#                                                 'https://storage.googleapis.com/audioset/miaow_16k.wav',\n",
    "#                                                 cache_dir='./',\n",
    "#                                                 cache_subdir='test_data')\n",
    "\n",
    "# print(testing_wav_file_name)"
   ]
  },
  {
   "cell_type": "code",
   "execution_count": null,
   "id": "ca138c27",
   "metadata": {},
   "outputs": [],
   "source": [
    "@tf.function\n",
    "def load_wav_16k_mono(filename):\n",
    "    \"\"\" Load a WAV file, convert it to a float tensor, resample to 16 kHz single-channel audio. \"\"\"\n",
    "    file_contents = tf.io.read_file(filename)\n",
    "    wav, sample_rate = tf.audio.decode_wav(\n",
    "          file_contents,\n",
    "          desired_channels=1)\n",
    "    wav = tf.squeeze(wav, axis=-1)\n",
    "    sample_rate = tf.cast(sample_rate, dtype=tf.int64)\n",
    "    wav = tfio.audio.resample(wav, rate_in=sample_rate, rate_out=16000)\n",
    "    return wav"
   ]
  },
  {
   "cell_type": "code",
   "execution_count": null,
   "id": "9d686dc2",
   "metadata": {},
   "outputs": [],
   "source": [
    "# testing_wav_data = load_wav_16k_mono(testing_wav_file_name)\n",
    "\n",
    "# _ = plt.plot(testing_wav_data)\n",
    "\n",
    "# # Play the audio file.\n",
    "# display.Audio(testing_wav_data,rate=16000)"
   ]
  },
  {
   "cell_type": "code",
   "execution_count": null,
   "id": "f05047cb",
   "metadata": {},
   "outputs": [],
   "source": [
    "# class_map_path = yamnet_model.class_map_path().numpy().decode('utf-8')\n",
    "# class_names =list(pd.read_csv(class_map_path)['display_name'])\n",
    "\n",
    "# for name in class_names[:20]:\n",
    "#   print(name)\n",
    "# print('...')"
   ]
  },
  {
   "cell_type": "code",
   "execution_count": null,
   "id": "85bd61b0",
   "metadata": {},
   "outputs": [],
   "source": [
    "def get_embeddings(testing_wav_data):\n",
    "    scores, embeddings, spectrogram = yamnet_model(testing_wav_data)\n",
    "#     class_scores = tf.reduce_mean(scores, axis=0)\n",
    "#     top_class = tf.argmax(class_scores)\n",
    "#     inferred_class = class_names[top_class]\n",
    "    return (np.mean(embeddings, axis = 0))\n",
    "#     print(np.mean(embeddings, axis = 0))\n",
    "#     print(f'The main sound is: {inferred_class}')\n",
    "#     print(f'The embeddings shape: {embeddings.shape}')"
   ]
  },
  {
   "cell_type": "code",
   "execution_count": null,
   "id": "75f9ab5e",
   "metadata": {
    "scrolled": false
   },
   "outputs": [],
   "source": [
    "import os\n",
    "embeddings=[]\n",
    "for index, movie in items.iterrows():\n",
    "    #print(index)\n",
    "    print(movie['YT-Trailer ID'])\n",
    "    path = \"../Datasets/ml-100k/Audio/{}.wav\".format(movie['YT-Trailer ID'])\n",
    "    print(path)\n",
    "#     if(movie['YT-Trailer ID'] in embeddings.columns):\n",
    "#         print(\"hello\")\n",
    "#         continue\n",
    "    if(os.path.exists(path) == False):\n",
    "        print(\"hello1\")\n",
    "        continue\n",
    "    elif(os.path.getsize(path)>=100000000):\n",
    "        continue\n",
    "    else:\n",
    "        print(os.path.getsize(path))\n",
    "        #print(get_embeddings(load_wav_16k_mono(path)))\n",
    "        embeddings.append(get_embeddings(load_wav_16k_mono(path)))\n",
    "        #print(embeddings)\n",
    "        print(\"Updating\")\n",
    "    #print(index)\n",
    "    pd.DataFrame(embeddings).to_csv(\"../Datasets/ml-100k/Audio/embeddings.csv\",index=False)\n",
    "#     if(index % 10 == 0):\n",
    "    "
   ]
  },
  {
   "cell_type": "code",
   "execution_count": null,
   "id": "3ca825b7",
   "metadata": {},
   "outputs": [],
   "source": []
  },
  {
   "cell_type": "code",
   "execution_count": null,
   "id": "5cd2ed62",
   "metadata": {},
   "outputs": [],
   "source": []
  }
 ],
 "metadata": {
  "kernelspec": {
   "display_name": "Python 3",
   "language": "python",
   "name": "python3"
  },
  "language_info": {
   "codemirror_mode": {
    "name": "ipython",
    "version": 3
   },
   "file_extension": ".py",
   "mimetype": "text/x-python",
   "name": "python",
   "nbconvert_exporter": "python",
   "pygments_lexer": "ipython3",
   "version": "3.7.11"
  }
 },
 "nbformat": 4,
 "nbformat_minor": 5
}
