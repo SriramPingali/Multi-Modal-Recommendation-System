{
 "cells": [
  {
   "cell_type": "markdown",
   "id": "95d17916",
   "metadata": {},
   "source": [
    "# Setup"
   ]
  },
  {
   "cell_type": "code",
   "execution_count": 1,
   "id": "e9fe9255-3051-4834-9967-64e7e2621fe5",
   "metadata": {},
   "outputs": [],
   "source": [
    "import os\n",
    "os.environ['TF_CPP_MIN_LOG_LEVEL'] = '3' "
   ]
  },
  {
   "cell_type": "code",
   "execution_count": 2,
   "id": "2388eb3d",
   "metadata": {},
   "outputs": [],
   "source": [
    "import numpy as np\n",
    "import pandas as pd\n",
    "from ml_metrics import mapk\n",
    "from recmetrics import mark\n",
    "from sklearn.metrics import jaccard_score\n",
    "from sklearn.preprocessing import LabelEncoder, OneHotEncoder\n",
    "from sklearn.metrics.pairwise import pairwise_distances "
   ]
  },
  {
   "cell_type": "code",
   "execution_count": 3,
   "id": "c61e01e5",
   "metadata": {},
   "outputs": [],
   "source": [
    "# reading users file:\n",
    "u_cols = ['user_id', 'age', 'sex', 'occupation', 'zip_code']\n",
    "users = pd.read_csv('../Datasets/ml-100k/Text/u.user', sep='|', names=u_cols,encoding='latin-1')\n",
    "\n",
    "# reading ratings file:\n",
    "r_cols = ['user_id', 'movie_id', 'rating', 'unix_timestamp']\n",
    "ratings = pd.read_csv('../Datasets/ml-100k/Text/u.data', sep='\\t', names=r_cols,encoding='latin-1')\n",
    "\n",
    "# # reading items file:\n",
    "items = pd.read_csv(\"../Datasets/ml-100k/Text/items.csv\")"
   ]
  },
  {
   "cell_type": "code",
   "execution_count": 4,
   "id": "79bdfcb4",
   "metadata": {},
   "outputs": [
    {
     "name": "stdout",
     "output_type": "stream",
     "text": [
      "\n",
      "User Data :\n",
      "shape :  (943, 5)\n"
     ]
    },
    {
     "data": {
      "text/html": [
       "<div>\n",
       "<style scoped>\n",
       "    .dataframe tbody tr th:only-of-type {\n",
       "        vertical-align: middle;\n",
       "    }\n",
       "\n",
       "    .dataframe tbody tr th {\n",
       "        vertical-align: top;\n",
       "    }\n",
       "\n",
       "    .dataframe thead th {\n",
       "        text-align: right;\n",
       "    }\n",
       "</style>\n",
       "<table border=\"1\" class=\"dataframe\">\n",
       "  <thead>\n",
       "    <tr style=\"text-align: right;\">\n",
       "      <th></th>\n",
       "      <th>user_id</th>\n",
       "      <th>age</th>\n",
       "      <th>sex</th>\n",
       "      <th>occupation</th>\n",
       "      <th>zip_code</th>\n",
       "    </tr>\n",
       "  </thead>\n",
       "  <tbody>\n",
       "    <tr>\n",
       "      <th>0</th>\n",
       "      <td>1</td>\n",
       "      <td>24</td>\n",
       "      <td>M</td>\n",
       "      <td>technician</td>\n",
       "      <td>85711</td>\n",
       "    </tr>\n",
       "    <tr>\n",
       "      <th>1</th>\n",
       "      <td>2</td>\n",
       "      <td>53</td>\n",
       "      <td>F</td>\n",
       "      <td>other</td>\n",
       "      <td>94043</td>\n",
       "    </tr>\n",
       "    <tr>\n",
       "      <th>2</th>\n",
       "      <td>3</td>\n",
       "      <td>23</td>\n",
       "      <td>M</td>\n",
       "      <td>writer</td>\n",
       "      <td>32067</td>\n",
       "    </tr>\n",
       "    <tr>\n",
       "      <th>3</th>\n",
       "      <td>4</td>\n",
       "      <td>24</td>\n",
       "      <td>M</td>\n",
       "      <td>technician</td>\n",
       "      <td>43537</td>\n",
       "    </tr>\n",
       "    <tr>\n",
       "      <th>4</th>\n",
       "      <td>5</td>\n",
       "      <td>33</td>\n",
       "      <td>F</td>\n",
       "      <td>other</td>\n",
       "      <td>15213</td>\n",
       "    </tr>\n",
       "  </tbody>\n",
       "</table>\n",
       "</div>"
      ],
      "text/plain": [
       "   user_id  age sex  occupation zip_code\n",
       "0        1   24   M  technician    85711\n",
       "1        2   53   F       other    94043\n",
       "2        3   23   M      writer    32067\n",
       "3        4   24   M  technician    43537\n",
       "4        5   33   F       other    15213"
      ]
     },
     "execution_count": 4,
     "metadata": {},
     "output_type": "execute_result"
    }
   ],
   "source": [
    "print(\"\\nUser Data :\")\n",
    "print(\"shape : \", users.shape)\n",
    "users.head()"
   ]
  },
  {
   "cell_type": "code",
   "execution_count": 5,
   "id": "b0b2cd08",
   "metadata": {},
   "outputs": [
    {
     "name": "stdout",
     "output_type": "stream",
     "text": [
      "\n",
      "Ratings Data :\n",
      "shape :  (100000, 4)\n"
     ]
    },
    {
     "data": {
      "text/html": [
       "<div>\n",
       "<style scoped>\n",
       "    .dataframe tbody tr th:only-of-type {\n",
       "        vertical-align: middle;\n",
       "    }\n",
       "\n",
       "    .dataframe tbody tr th {\n",
       "        vertical-align: top;\n",
       "    }\n",
       "\n",
       "    .dataframe thead th {\n",
       "        text-align: right;\n",
       "    }\n",
       "</style>\n",
       "<table border=\"1\" class=\"dataframe\">\n",
       "  <thead>\n",
       "    <tr style=\"text-align: right;\">\n",
       "      <th></th>\n",
       "      <th>user_id</th>\n",
       "      <th>movie_id</th>\n",
       "      <th>rating</th>\n",
       "      <th>unix_timestamp</th>\n",
       "    </tr>\n",
       "  </thead>\n",
       "  <tbody>\n",
       "    <tr>\n",
       "      <th>0</th>\n",
       "      <td>196</td>\n",
       "      <td>242</td>\n",
       "      <td>3</td>\n",
       "      <td>881250949</td>\n",
       "    </tr>\n",
       "    <tr>\n",
       "      <th>1</th>\n",
       "      <td>186</td>\n",
       "      <td>302</td>\n",
       "      <td>3</td>\n",
       "      <td>891717742</td>\n",
       "    </tr>\n",
       "    <tr>\n",
       "      <th>2</th>\n",
       "      <td>22</td>\n",
       "      <td>377</td>\n",
       "      <td>1</td>\n",
       "      <td>878887116</td>\n",
       "    </tr>\n",
       "    <tr>\n",
       "      <th>3</th>\n",
       "      <td>244</td>\n",
       "      <td>51</td>\n",
       "      <td>2</td>\n",
       "      <td>880606923</td>\n",
       "    </tr>\n",
       "    <tr>\n",
       "      <th>4</th>\n",
       "      <td>166</td>\n",
       "      <td>346</td>\n",
       "      <td>1</td>\n",
       "      <td>886397596</td>\n",
       "    </tr>\n",
       "  </tbody>\n",
       "</table>\n",
       "</div>"
      ],
      "text/plain": [
       "   user_id  movie_id  rating  unix_timestamp\n",
       "0      196       242       3       881250949\n",
       "1      186       302       3       891717742\n",
       "2       22       377       1       878887116\n",
       "3      244        51       2       880606923\n",
       "4      166       346       1       886397596"
      ]
     },
     "execution_count": 5,
     "metadata": {},
     "output_type": "execute_result"
    }
   ],
   "source": [
    "print(\"\\nRatings Data :\")\n",
    "print(\"shape : \", ratings.shape)\n",
    "ratings.head()"
   ]
  },
  {
   "cell_type": "code",
   "execution_count": 6,
   "id": "311b986e",
   "metadata": {},
   "outputs": [
    {
     "name": "stdout",
     "output_type": "stream",
     "text": [
      "\n",
      "Item Data :\n",
      "shape :  (1682, 35)\n"
     ]
    },
    {
     "data": {
      "text/html": [
       "<div>\n",
       "<style scoped>\n",
       "    .dataframe tbody tr th:only-of-type {\n",
       "        vertical-align: middle;\n",
       "    }\n",
       "\n",
       "    .dataframe tbody tr th {\n",
       "        vertical-align: top;\n",
       "    }\n",
       "\n",
       "    .dataframe thead th {\n",
       "        text-align: right;\n",
       "    }\n",
       "</style>\n",
       "<table border=\"1\" class=\"dataframe\">\n",
       "  <thead>\n",
       "    <tr style=\"text-align: right;\">\n",
       "      <th></th>\n",
       "      <th>Unnamed: 0</th>\n",
       "      <th>Unnamed: 0.1</th>\n",
       "      <th>Unnamed: 0.1.1</th>\n",
       "      <th>Unnamed: 0.1.1.1</th>\n",
       "      <th>movie id</th>\n",
       "      <th>movie title</th>\n",
       "      <th>release date</th>\n",
       "      <th>video release date</th>\n",
       "      <th>IMDb URL</th>\n",
       "      <th>unknown</th>\n",
       "      <th>...</th>\n",
       "      <th>Thriller</th>\n",
       "      <th>War</th>\n",
       "      <th>Western</th>\n",
       "      <th>Summary</th>\n",
       "      <th>Cast</th>\n",
       "      <th>Director</th>\n",
       "      <th>Rating</th>\n",
       "      <th>Runtime</th>\n",
       "      <th>No. of ratings</th>\n",
       "      <th>YT-Trailer ID</th>\n",
       "    </tr>\n",
       "  </thead>\n",
       "  <tbody>\n",
       "    <tr>\n",
       "      <th>0</th>\n",
       "      <td>0</td>\n",
       "      <td>0</td>\n",
       "      <td>0</td>\n",
       "      <td>0</td>\n",
       "      <td>1</td>\n",
       "      <td>Toy Story (1995)</td>\n",
       "      <td>01-Jan-95</td>\n",
       "      <td>NaN</td>\n",
       "      <td>https://www.imdb.com/title/tt0114709/</td>\n",
       "      <td>0</td>\n",
       "      <td>...</td>\n",
       "      <td>0</td>\n",
       "      <td>0</td>\n",
       "      <td>0</td>\n",
       "      <td>A little boy named Andy loves to be in his roo...</td>\n",
       "      <td>Tom Hanks|Tim Allen|Don Rickles|Jim Varney|Wal...</td>\n",
       "      <td>John Lasseter</td>\n",
       "      <td>8.3</td>\n",
       "      <td>81.0</td>\n",
       "      <td>930K</td>\n",
       "      <td>mGXHH9iAfLA</td>\n",
       "    </tr>\n",
       "    <tr>\n",
       "      <th>1</th>\n",
       "      <td>1</td>\n",
       "      <td>1</td>\n",
       "      <td>1</td>\n",
       "      <td>1</td>\n",
       "      <td>2</td>\n",
       "      <td>GoldenEye (1995)</td>\n",
       "      <td>01-Jan-95</td>\n",
       "      <td>NaN</td>\n",
       "      <td>https://www.imdb.com/title/tt0113189/</td>\n",
       "      <td>0</td>\n",
       "      <td>...</td>\n",
       "      <td>1</td>\n",
       "      <td>0</td>\n",
       "      <td>0</td>\n",
       "      <td>When a deadly satellite weapon system falls in...</td>\n",
       "      <td>Pierce Brosnan|Sean Bean|Izabella Scorupco|Fam...</td>\n",
       "      <td>Martin Campbell</td>\n",
       "      <td>7.2</td>\n",
       "      <td>130.0</td>\n",
       "      <td>248K</td>\n",
       "      <td>IWFtzQOX_nY</td>\n",
       "    </tr>\n",
       "    <tr>\n",
       "      <th>2</th>\n",
       "      <td>2</td>\n",
       "      <td>2</td>\n",
       "      <td>2</td>\n",
       "      <td>2</td>\n",
       "      <td>3</td>\n",
       "      <td>Four Rooms (1995)</td>\n",
       "      <td>01-Jan-95</td>\n",
       "      <td>NaN</td>\n",
       "      <td>https://www.imdb.com/title/tt0113101/</td>\n",
       "      <td>0</td>\n",
       "      <td>...</td>\n",
       "      <td>1</td>\n",
       "      <td>0</td>\n",
       "      <td>0</td>\n",
       "      <td>This movie features the collaborative director...</td>\n",
       "      <td>Sammi Davis|Amanda De Cadenet|Valeria Golino|M...</td>\n",
       "      <td>Allison Anders</td>\n",
       "      <td>6.8</td>\n",
       "      <td>98.0</td>\n",
       "      <td>102K</td>\n",
       "      <td>hugpRyTc1fE</td>\n",
       "    </tr>\n",
       "    <tr>\n",
       "      <th>3</th>\n",
       "      <td>3</td>\n",
       "      <td>3</td>\n",
       "      <td>3</td>\n",
       "      <td>3</td>\n",
       "      <td>4</td>\n",
       "      <td>Get Shorty (1995)</td>\n",
       "      <td>01-Jan-95</td>\n",
       "      <td>NaN</td>\n",
       "      <td>https://www.imdb.com/title/tt0113161/</td>\n",
       "      <td>0</td>\n",
       "      <td>...</td>\n",
       "      <td>0</td>\n",
       "      <td>0</td>\n",
       "      <td>0</td>\n",
       "      <td>Some guys get all the luck, whether they like ...</td>\n",
       "      <td>John Travolta|Gene Hackman|Rene Russo|Danny De...</td>\n",
       "      <td>Barry Sonnenfeld</td>\n",
       "      <td>6.9</td>\n",
       "      <td>105.0</td>\n",
       "      <td>81K</td>\n",
       "      <td>yvsnu3crV8g</td>\n",
       "    </tr>\n",
       "    <tr>\n",
       "      <th>4</th>\n",
       "      <td>4</td>\n",
       "      <td>4</td>\n",
       "      <td>4</td>\n",
       "      <td>4</td>\n",
       "      <td>5</td>\n",
       "      <td>Copycat (1995)</td>\n",
       "      <td>01-Jan-95</td>\n",
       "      <td>NaN</td>\n",
       "      <td>https://www.imdb.com/title/tt0112722/</td>\n",
       "      <td>0</td>\n",
       "      <td>...</td>\n",
       "      <td>1</td>\n",
       "      <td>0</td>\n",
       "      <td>0</td>\n",
       "      <td>In San Francisco, the criminal psychologist He...</td>\n",
       "      <td>Sigourney Weaver|Holly Hunter|Dermot Mulroney|...</td>\n",
       "      <td>Jon Amiel</td>\n",
       "      <td>6.6</td>\n",
       "      <td>123.0</td>\n",
       "      <td>57K</td>\n",
       "      <td>gMrMLbxEt5Y</td>\n",
       "    </tr>\n",
       "  </tbody>\n",
       "</table>\n",
       "<p>5 rows × 35 columns</p>\n",
       "</div>"
      ],
      "text/plain": [
       "   Unnamed: 0  Unnamed: 0.1  Unnamed: 0.1.1  Unnamed: 0.1.1.1  movie id  \\\n",
       "0           0             0               0                 0         1   \n",
       "1           1             1               1                 1         2   \n",
       "2           2             2               2                 2         3   \n",
       "3           3             3               3                 3         4   \n",
       "4           4             4               4                 4         5   \n",
       "\n",
       "         movie title release date  video release date  \\\n",
       "0   Toy Story (1995)    01-Jan-95                 NaN   \n",
       "1   GoldenEye (1995)    01-Jan-95                 NaN   \n",
       "2  Four Rooms (1995)    01-Jan-95                 NaN   \n",
       "3  Get Shorty (1995)    01-Jan-95                 NaN   \n",
       "4     Copycat (1995)    01-Jan-95                 NaN   \n",
       "\n",
       "                                IMDb URL  unknown  ...  Thriller  War  \\\n",
       "0  https://www.imdb.com/title/tt0114709/        0  ...         0    0   \n",
       "1  https://www.imdb.com/title/tt0113189/        0  ...         1    0   \n",
       "2  https://www.imdb.com/title/tt0113101/        0  ...         1    0   \n",
       "3  https://www.imdb.com/title/tt0113161/        0  ...         0    0   \n",
       "4  https://www.imdb.com/title/tt0112722/        0  ...         1    0   \n",
       "\n",
       "   Western                                            Summary  \\\n",
       "0        0  A little boy named Andy loves to be in his roo...   \n",
       "1        0  When a deadly satellite weapon system falls in...   \n",
       "2        0  This movie features the collaborative director...   \n",
       "3        0  Some guys get all the luck, whether they like ...   \n",
       "4        0  In San Francisco, the criminal psychologist He...   \n",
       "\n",
       "                                                Cast          Director  \\\n",
       "0  Tom Hanks|Tim Allen|Don Rickles|Jim Varney|Wal...     John Lasseter   \n",
       "1  Pierce Brosnan|Sean Bean|Izabella Scorupco|Fam...   Martin Campbell   \n",
       "2  Sammi Davis|Amanda De Cadenet|Valeria Golino|M...    Allison Anders   \n",
       "3  John Travolta|Gene Hackman|Rene Russo|Danny De...  Barry Sonnenfeld   \n",
       "4  Sigourney Weaver|Holly Hunter|Dermot Mulroney|...         Jon Amiel   \n",
       "\n",
       "   Rating  Runtime  No. of ratings  YT-Trailer ID  \n",
       "0     8.3     81.0            930K    mGXHH9iAfLA  \n",
       "1     7.2    130.0            248K    IWFtzQOX_nY  \n",
       "2     6.8     98.0            102K    hugpRyTc1fE  \n",
       "3     6.9    105.0             81K    yvsnu3crV8g  \n",
       "4     6.6    123.0             57K    gMrMLbxEt5Y  \n",
       "\n",
       "[5 rows x 35 columns]"
      ]
     },
     "execution_count": 6,
     "metadata": {},
     "output_type": "execute_result"
    }
   ],
   "source": [
    "print(\"\\nItem Data :\")\n",
    "print(\"shape : \", items.shape)\n",
    "items.head()"
   ]
  },
  {
   "cell_type": "code",
   "execution_count": 7,
   "id": "2e7799fb",
   "metadata": {},
   "outputs": [
    {
     "data": {
      "text/plain": [
       "((90570, 4), (9430, 4))"
      ]
     },
     "execution_count": 7,
     "metadata": {},
     "output_type": "execute_result"
    }
   ],
   "source": [
    "ratings_train = pd.read_csv('../Datasets/ml-100k/Text/ua.base', sep='\\t', names=r_cols, encoding='latin-1')\n",
    "ratings_test = pd.read_csv('../Datasets/ml-100k/Text/ua.test', sep='\\t', names=r_cols, encoding='latin-1')\n",
    "ratings_train.shape, ratings_test.shape"
   ]
  },
  {
   "cell_type": "code",
   "execution_count": 8,
   "id": "80abf4b5",
   "metadata": {},
   "outputs": [],
   "source": [
    "n_users = ratings.user_id.unique().shape[0]\n",
    "n_items = ratings.movie_id.unique().shape[0]"
   ]
  },
  {
   "cell_type": "code",
   "execution_count": 9,
   "id": "ec746cf8",
   "metadata": {},
   "outputs": [],
   "source": [
    "data_matrix = np.zeros((n_users, n_items))\n",
    "for line in ratings.itertuples():\n",
    "    data_matrix[line[1]-1, line[2]-1] = line[3]"
   ]
  },
  {
   "cell_type": "code",
   "execution_count": 10,
   "id": "4c6e5418",
   "metadata": {},
   "outputs": [
    {
     "data": {
      "text/plain": [
       "(array([0., 1., 2., 3., 4., 5.]),\n",
       " array([1486126,    6110,   11370,   27145,   34174,   21201]))"
      ]
     },
     "execution_count": 10,
     "metadata": {},
     "output_type": "execute_result"
    }
   ],
   "source": [
    "np.unique(data_matrix, return_counts=True)"
   ]
  },
  {
   "cell_type": "code",
   "execution_count": 11,
   "id": "2d080e9e-b39a-4d89-abdc-bf2cefdb6c31",
   "metadata": {},
   "outputs": [],
   "source": [
    "movie_embeddings = pd.read_csv(\"../Datasets/ml-100k/Audio/embeddings.csv\").drop(['Unnamed: 0', 'Unnamed: 0.1', 'Unnamed: 0.1.1', 'Unnamed: 0.1.1.1', 'Unnamed: 0.1.1.1.1', 'Unnamed: 0.1.1.1.1.1', 'Unnamed: 0.1.1.1.1.1.1'], axis=1).dropna(axis=1)\n",
    "temp = items[items[\"YT-Trailer ID\"].isin(list(movie_embeddings.columns))]\n",
    "items = items.iloc[list(temp.index)]\n",
    "data_matrix = data_matrix[:, list(temp.index)]"
   ]
  },
  {
   "cell_type": "markdown",
   "id": "a5e1ea1c",
   "metadata": {},
   "source": [
    "# Matrix Factorization"
   ]
  },
  {
   "cell_type": "code",
   "execution_count": 12,
   "id": "3daaa388",
   "metadata": {},
   "outputs": [],
   "source": [
    "user_similarity = pairwise_distances(data_matrix, metric='cosine')\n",
    "item_similarity = pairwise_distances(data_matrix.T, metric='cosine')"
   ]
  },
  {
   "cell_type": "code",
   "execution_count": 13,
   "id": "7acacd26",
   "metadata": {},
   "outputs": [],
   "source": [
    "def predict(ratings, similarity, type='user'):\n",
    "    if type == 'user':\n",
    "        mean_user_rating = ratings.mean(axis=1)\n",
    "        #We use np.newaxis so that mean_user_rating has same format as ratings\n",
    "        ratings_diff = (ratings - mean_user_rating[:, np.newaxis])\n",
    "        pred = mean_user_rating[:, np.newaxis] + similarity.dot(ratings_diff) / np.array([np.abs(similarity).sum(axis=1)]).T\n",
    "    elif type == 'item':\n",
    "        pred = ratings.dot(similarity) / np.array([np.abs(similarity).sum(axis=1)])\n",
    "    return pred"
   ]
  },
  {
   "cell_type": "code",
   "execution_count": 14,
   "id": "e64f1f55",
   "metadata": {},
   "outputs": [],
   "source": [
    "user_prediction = predict(data_matrix, user_similarity, type='user')\n",
    "item_prediction = predict(data_matrix, item_similarity, type='item')"
   ]
  },
  {
   "cell_type": "code",
   "execution_count": 15,
   "id": "c83d325e",
   "metadata": {},
   "outputs": [
    {
     "data": {
      "text/plain": [
       "(943, 174)"
      ]
     },
     "execution_count": 15,
     "metadata": {},
     "output_type": "execute_result"
    }
   ],
   "source": [
    "user_prediction.shape"
   ]
  },
  {
   "cell_type": "markdown",
   "id": "078ba978",
   "metadata": {},
   "source": [
    "## Evaluate"
   ]
  },
  {
   "cell_type": "code",
   "execution_count": 16,
   "id": "1d65424d",
   "metadata": {},
   "outputs": [],
   "source": [
    "def box(array, percentile):\n",
    "    threshold = np.percentile(array, percentile)\n",
    "    ret = np.where(array>threshold, 1, 0)\n",
    "    return(ret)"
   ]
  },
  {
   "cell_type": "code",
   "execution_count": 17,
   "id": "2b5c88ba",
   "metadata": {},
   "outputs": [],
   "source": [
    "def evaluate(y_true, y_pred, k = 3, percentile = 90, data_matrix = data_matrix):\n",
    "    score = []\n",
    "    y_true_box = box(y_true, percentile)\n",
    "    y_pred_box = box(y_pred, percentile)\n",
    "    for j in range(len(data_matrix)):\n",
    "        include = [i for i in range(len(data_matrix[j])) if data_matrix[j][i] != 0]\n",
    "        y_true_include = [y_true[j][i] for i in include]\n",
    "        y_pred_include = [y_pred[j][i] for i in include]\n",
    "        y_true_include_box = [y_true_box[j][i] for i in include]\n",
    "        y_pred_include_box = [y_pred_box[j][i] for i in include]\n",
    "        score.append([jaccard_score(y_true_include_box, y_pred_include_box, average=\"micro\"), \n",
    "                      mark([y_true_include], [y_pred_include], k = k),\n",
    "                      mapk([y_true_include], [y_pred_include], k = k)])\n",
    "    print(\"Jaccard Score: {}\\nMAR@K: {}\\nMAP@K: {}\".format(*np.mean(score, axis=0)))"
   ]
  },
  {
   "cell_type": "code",
   "execution_count": 18,
   "id": "b3201cfa",
   "metadata": {},
   "outputs": [],
   "source": [
    "y_true = data_matrix\n",
    "y_pred = user_prediction"
   ]
  },
  {
   "cell_type": "code",
   "execution_count": 20,
   "id": "759ffdbc",
   "metadata": {},
   "outputs": [
    {
     "name": "stderr",
     "output_type": "stream",
     "text": [
      "/home/sriram/.local/lib/python3.8/site-packages/sklearn/metrics/_classification.py:1221: UndefinedMetricWarning: Jaccard is ill-defined and being set to 0.0 due to no true or predicted samples. Use `zero_division` parameter to control this behavior.\n",
      "  _warn_prf(average, modifier, msg_start, len(result))\n"
     ]
    },
    {
     "name": "stdout",
     "output_type": "stream",
     "text": [
      "Jaccard Score: 0.4455022604528126\n",
      "MAR@K: 0.0\n",
      "MAP@K: 0.1357370095440085\n"
     ]
    }
   ],
   "source": [
    "evaluate(y_true, y_pred)"
   ]
  },
  {
   "cell_type": "markdown",
   "id": "8df86af8",
   "metadata": {},
   "source": [
    "# Textual Summaries"
   ]
  },
  {
   "cell_type": "code",
   "execution_count": 21,
   "id": "3eac38ad-4713-4eed-bc64-02c676275a12",
   "metadata": {},
   "outputs": [],
   "source": [
    "data_text = items['Summary']"
   ]
  },
  {
   "cell_type": "code",
   "execution_count": 22,
   "id": "3b3a3d3a",
   "metadata": {
    "tags": []
   },
   "outputs": [
    {
     "name": "stderr",
     "output_type": "stream",
     "text": [
      "Using TensorFlow backend.\n",
      "[nltk_data] Downloading package punkt to /home/sriram/nltk_data...\n",
      "[nltk_data]   Package punkt is already up-to-date!\n",
      "[nltk_data] Downloading package wordnet to /home/sriram/nltk_data...\n",
      "[nltk_data]   Package wordnet is already up-to-date!\n",
      "[nltk_data] Downloading package stopwords to /home/sriram/nltk_data...\n",
      "[nltk_data]   Package stopwords is already up-to-date!\n"
     ]
    }
   ],
   "source": [
    "import keras\n",
    "from utils.autoencoder import Autoencoder_Text\n",
    "\n",
    "AE = Autoencoder_Text(data_text)\n",
    "# AE.train(data_text, epochs = 10, batch_size = 100)"
   ]
  },
  {
   "cell_type": "code",
   "execution_count": 23,
   "id": "d54d7d6d-e986-41af-84db-705be0bb90dc",
   "metadata": {},
   "outputs": [],
   "source": [
    "AE.enc_dec_model = keras.models.load_model('./pretrained/text_model')"
   ]
  },
  {
   "cell_type": "code",
   "execution_count": 24,
   "id": "001c6e52-9825-43df-b157-9b1bdfb452e5",
   "metadata": {
    "tags": []
   },
   "outputs": [],
   "source": [
    "inputs = np.squeeze(AE.pre_process(data_text), axis = 2)\n",
    "movie_embeddings = AE.encoder.predict(inputs)"
   ]
  },
  {
   "cell_type": "code",
   "execution_count": 25,
   "id": "c23fd137",
   "metadata": {},
   "outputs": [],
   "source": [
    "# user_embeddings = np.dot(data_matrix, movie_embeddings)/np.array([np.sum(data_matrix, axis = 1)]).T"
   ]
  },
  {
   "cell_type": "code",
   "execution_count": 26,
   "id": "e0ba6775",
   "metadata": {},
   "outputs": [],
   "source": [
    "# p1=np.sqrt(np.sum(user_embeddings**2,axis=1))[:,np.newaxis]\n",
    "# p2=np.sqrt(np.sum(movie_embeddings**2,axis=1))[np.newaxis,:]\n",
    "# text_similarity = np.dot(user_embeddings, movie_embeddings.T) / (p1*p2)"
   ]
  },
  {
   "cell_type": "code",
   "execution_count": 27,
   "id": "ed6adb2d-5950-4f4e-a981-79b851bdbb5d",
   "metadata": {},
   "outputs": [],
   "source": [
    "movie_similarity = 1 - pairwise_distances(movie_embeddings, metric='hamming')\n",
    "text_similarity = predict(data_matrix, movie_similarity, type='item')"
   ]
  },
  {
   "cell_type": "code",
   "execution_count": 28,
   "id": "e5462174-e6c9-4169-8653-48125ab52538",
   "metadata": {},
   "outputs": [
    {
     "name": "stderr",
     "output_type": "stream",
     "text": [
      "/home/sriram/.local/lib/python3.8/site-packages/sklearn/metrics/_classification.py:1221: UndefinedMetricWarning: Jaccard is ill-defined and being set to 0.0 due to no true or predicted samples. Use `zero_division` parameter to control this behavior.\n",
      "  _warn_prf(average, modifier, msg_start, len(result))\n"
     ]
    },
    {
     "name": "stdout",
     "output_type": "stream",
     "text": [
      "Jaccard Score: 0.40584294334801385\n",
      "MAR@K: 0.10602131005358482\n",
      "MAP@K: 0.6644279486273115\n"
     ]
    }
   ],
   "source": [
    "y_pred = text_similarity\n",
    "evaluate(y_true, y_pred)"
   ]
  },
  {
   "cell_type": "markdown",
   "id": "14b2efbc-721f-47dd-926c-f4ae956f8482",
   "metadata": {},
   "source": [
    "# Meta Data"
   ]
  },
  {
   "cell_type": "markdown",
   "id": "d9da70fa-0a0f-46b4-a5ae-247dc5c7c176",
   "metadata": {},
   "source": [
    "## Genres"
   ]
  },
  {
   "cell_type": "code",
   "execution_count": 29,
   "id": "4cd74924-49d3-487c-8d0c-3eb0f3f13169",
   "metadata": {},
   "outputs": [],
   "source": [
    "movie_embeddings = items.iloc[:, 9:-7]"
   ]
  },
  {
   "cell_type": "code",
   "execution_count": 30,
   "id": "ef0a6015-3691-4c7c-8096-234f7d7ee429",
   "metadata": {},
   "outputs": [
    {
     "name": "stderr",
     "output_type": "stream",
     "text": [
      "/tmp/ipykernel_9201/2878296520.py:1: RuntimeWarning: invalid value encountered in true_divide\n",
      "  user_embeddings = np.dot(data_matrix, movie_embeddings)/np.array([np.sum(data_matrix, axis = 1)]).T\n"
     ]
    }
   ],
   "source": [
    "user_embeddings = np.dot(data_matrix, movie_embeddings)/np.array([np.sum(data_matrix, axis = 1)]).T"
   ]
  },
  {
   "cell_type": "code",
   "execution_count": 31,
   "id": "557d6b4c-9efa-45a0-b5b0-a77f5e05702c",
   "metadata": {},
   "outputs": [],
   "source": [
    "movie_similarity = 1 - pairwise_distances(movie_embeddings, metric='hamming')\n",
    "genre_similarity = predict(data_matrix, movie_similarity, type='item')"
   ]
  },
  {
   "cell_type": "code",
   "execution_count": 32,
   "id": "feb86e62-99ff-44a1-b520-32b378480c22",
   "metadata": {},
   "outputs": [
    {
     "data": {
      "text/plain": [
       "(943, 174)"
      ]
     },
     "execution_count": 32,
     "metadata": {},
     "output_type": "execute_result"
    }
   ],
   "source": [
    "genre_similarity.shape"
   ]
  },
  {
   "cell_type": "code",
   "execution_count": 33,
   "id": "146526e2-9da2-490a-981c-10a2f576956c",
   "metadata": {},
   "outputs": [
    {
     "name": "stderr",
     "output_type": "stream",
     "text": [
      "/home/sriram/.local/lib/python3.8/site-packages/sklearn/metrics/_classification.py:1221: UndefinedMetricWarning: Jaccard is ill-defined and being set to 0.0 due to no true or predicted samples. Use `zero_division` parameter to control this behavior.\n",
      "  _warn_prf(average, modifier, msg_start, len(result))\n"
     ]
    },
    {
     "name": "stdout",
     "output_type": "stream",
     "text": [
      "Jaccard Score: 0.4609932069761751\n",
      "MAR@K: 0.0\n",
      "MAP@K: 0.1357370095440085\n"
     ]
    }
   ],
   "source": [
    "y_pred = genre_similarity\n",
    "evaluate(y_true, y_pred)"
   ]
  },
  {
   "cell_type": "code",
   "execution_count": 34,
   "id": "a44a5d87-fbc5-458f-959c-489aeb0bd493",
   "metadata": {},
   "outputs": [],
   "source": [
    "print(*zip(y_true[1][:20], y_pred[1][:20]))"
   ]
  },
  {
   "cell_type": "markdown",
   "id": "b9ba4bcf-50d7-44ff-9ff3-a5b70169a5ff",
   "metadata": {},
   "source": [
    "# Crew"
   ]
  },
  {
   "cell_type": "markdown",
   "id": "0d97ece7-a85b-48dd-a97d-769eec504673",
   "metadata": {},
   "source": [
    "### Cast"
   ]
  },
  {
   "cell_type": "code",
   "execution_count": 35,
   "id": "2c535d56-733c-49d3-85d2-c6507cbe6b91",
   "metadata": {},
   "outputs": [],
   "source": [
    "def jaccard_similarity(list1, list2):\n",
    "    s1 = set(list1)\n",
    "    s2 = set(list2)\n",
    "    return float(len(s1.intersection(s2)) / len(s1.union(s2)))"
   ]
  },
  {
   "cell_type": "code",
   "execution_count": 36,
   "id": "ce867306-4cb6-413d-b601-2529edaad800",
   "metadata": {},
   "outputs": [],
   "source": [
    "def get_cast(text):\n",
    "    return(str(text).split(\"|\"))"
   ]
  },
  {
   "cell_type": "code",
   "execution_count": 37,
   "id": "1568987a-7d2b-4256-a39b-5b1ac786d852",
   "metadata": {},
   "outputs": [],
   "source": [
    "data_cast = items['Cast'].apply(get_cast)"
   ]
  },
  {
   "cell_type": "code",
   "execution_count": 38,
   "id": "7167a775-b65e-45fd-bb22-ab7aee3628b2",
   "metadata": {},
   "outputs": [],
   "source": [
    "movie_similarity = []\n",
    "for i in data_cast:\n",
    "    temp = []\n",
    "    for j in data_cast:\n",
    "        temp.append(jaccard_similarity(i, j))\n",
    "    movie_similarity.append(temp)\n",
    "    \n",
    "movie_similarity = np.array(movie_similarity)"
   ]
  },
  {
   "cell_type": "code",
   "execution_count": 39,
   "id": "17d6371a-ddb5-4ec2-aefc-62462e520536",
   "metadata": {},
   "outputs": [],
   "source": [
    "cast_similarity = predict(data_matrix, movie_similarity, type='item')"
   ]
  },
  {
   "cell_type": "code",
   "execution_count": 40,
   "id": "e0378ec3-09bc-4479-907a-eaf748a34dcf",
   "metadata": {},
   "outputs": [
    {
     "name": "stdout",
     "output_type": "stream",
     "text": [
      "Jaccard Score: 0.33664134785382155\n",
      "MAR@K: 0.025699497565852502\n",
      "MAP@K: 0.24867444326617152\n"
     ]
    }
   ],
   "source": [
    "y_pred = cast_similarity\n",
    "evaluate(y_true, y_pred)"
   ]
  },
  {
   "cell_type": "code",
   "execution_count": 41,
   "id": "0118aafc-0817-4fad-8067-ab242cccf6ef",
   "metadata": {},
   "outputs": [
    {
     "name": "stdout",
     "output_type": "stream",
     "text": [
      "(4.0, 2.9999999999999996) (0.0, 0.0) (0.0, 0.0) (0.0, 0.0) (0.0, 0.4) (0.0, 0.0) (0.0, 0.0) (2.0, 1.7999999999999998) (0.0, 0.0) (0.0, 0.4) (4.0, 4.0) (0.0, 0.4166666666666667) (0.0, 0.0) (0.0, 0.0) (0.0, 0.0) (3.0, 3.0) (0.0, 0.0) (0.0, 0.0) (0.0, 0.0) (0.0, 0.0)\n"
     ]
    }
   ],
   "source": [
    "print(*zip(y_true[1][:20], y_pred[1][:20]))"
   ]
  },
  {
   "cell_type": "markdown",
   "id": "1c3f0982-f5a3-4e24-a0c2-3ec229451584",
   "metadata": {},
   "source": [
    "### Director"
   ]
  },
  {
   "cell_type": "code",
   "execution_count": 42,
   "id": "43e2a663-6ff4-4cf0-86c6-75e480265b92",
   "metadata": {},
   "outputs": [],
   "source": [
    "data_dir = items['Director']"
   ]
  },
  {
   "cell_type": "code",
   "execution_count": 43,
   "id": "8b19f7e0-c691-4de9-bd1f-7e5493632815",
   "metadata": {},
   "outputs": [],
   "source": [
    "movie_similarity = []\n",
    "for i in data_dir:\n",
    "    temp = []\n",
    "    for j in data_dir:\n",
    "        temp.append(int(i == j))\n",
    "    movie_similarity.append(temp)\n",
    "    \n",
    "movie_similarity = np.array(movie_similarity)"
   ]
  },
  {
   "cell_type": "code",
   "execution_count": 44,
   "id": "9ab357b2-6fe2-44b7-99cd-ca49b96a5bd9",
   "metadata": {},
   "outputs": [
    {
     "name": "stderr",
     "output_type": "stream",
     "text": [
      "/tmp/ipykernel_9201/1318701591.py:8: RuntimeWarning: invalid value encountered in true_divide\n",
      "  pred = ratings.dot(similarity) / np.array([np.abs(similarity).sum(axis=1)])\n"
     ]
    }
   ],
   "source": [
    "dir_similarity = np.nan_to_num( predict(data_matrix, movie_similarity, type='item') )"
   ]
  },
  {
   "cell_type": "code",
   "execution_count": 45,
   "id": "280104c5-d746-4eac-ae5b-86db7a1cd69b",
   "metadata": {},
   "outputs": [
    {
     "name": "stdout",
     "output_type": "stream",
     "text": [
      "Jaccard Score: 0.31024054480577834\n",
      "MAR@K: 0.0902599476610703\n",
      "MAP@K: 0.626193001060444\n"
     ]
    }
   ],
   "source": [
    "y_pred = dir_similarity\n",
    "evaluate(y_true, y_pred)"
   ]
  },
  {
   "cell_type": "code",
   "execution_count": 46,
   "id": "2fc716f2-2d40-4124-b00f-9292f8d3cc25",
   "metadata": {},
   "outputs": [
    {
     "name": "stdout",
     "output_type": "stream",
     "text": [
      "(4.0, 4.0) (0.0, 0.0) (0.0, 0.0) (0.0, 0.0) (0.0, 0.0) (0.0, 0.0) (0.0, 0.0) (2.0, 2.0) (0.0, 0.0) (0.0, 0.0) (4.0, 2.0) (0.0, 0.0) (0.0, 0.0) (0.0, 0.0) (0.0, 0.0) (3.0, 3.0) (0.0, 0.0) (0.0, 0.0) (0.0, 0.0) (0.0, 0.0)\n"
     ]
    }
   ],
   "source": [
    "print(*zip(y_true[1][:20], y_pred[1][:20]))"
   ]
  },
  {
   "cell_type": "markdown",
   "id": "10b512d0-714e-411f-a5c1-6d5ad46cf11c",
   "metadata": {},
   "source": [
    "# Audio Features"
   ]
  },
  {
   "cell_type": "code",
   "execution_count": 47,
   "id": "623205fa-fadb-4d74-bc7a-2955a4c3433a",
   "metadata": {},
   "outputs": [],
   "source": [
    "movie_embeddings = pd.read_csv(\"../Datasets/ml-100k/Audio/embeddings.csv\").drop(['Unnamed: 0', 'Unnamed: 0.1', 'Unnamed: 0.1.1', 'Unnamed: 0.1.1.1', 'Unnamed: 0.1.1.1.1', 'Unnamed: 0.1.1.1.1.1', 'Unnamed: 0.1.1.1.1.1.1'], axis=1).dropna(axis=1)"
   ]
  },
  {
   "cell_type": "code",
   "execution_count": 48,
   "id": "48c9c4c0-f2f6-47bf-b224-6df37e0c55fb",
   "metadata": {},
   "outputs": [],
   "source": [
    "# temp = items[items[\"YT-Trailer ID\"].isin(list(movie_embeddings.columns))]"
   ]
  },
  {
   "cell_type": "code",
   "execution_count": 49,
   "id": "1d3e3e62-132d-4a2f-8415-49f39288d56d",
   "metadata": {},
   "outputs": [],
   "source": [
    "# data_matrix_ = data_matrix[:, list(temp.index)]"
   ]
  },
  {
   "cell_type": "code",
   "execution_count": 50,
   "id": "019af814-4f93-4472-a588-fb68bf59f9c0",
   "metadata": {},
   "outputs": [],
   "source": [
    "movie_similarity = 1 - pairwise_distances(movie_embeddings.T, metric='hamming')\n",
    "audio_similarity = predict(data_matrix, movie_similarity, type='item')"
   ]
  },
  {
   "cell_type": "code",
   "execution_count": 51,
   "id": "bf69536a-68fd-4753-ba38-7a0bf15484a8",
   "metadata": {},
   "outputs": [
    {
     "name": "stderr",
     "output_type": "stream",
     "text": [
      "/home/sriram/.local/lib/python3.8/site-packages/sklearn/metrics/_classification.py:1221: UndefinedMetricWarning: Jaccard is ill-defined and being set to 0.0 due to no true or predicted samples. Use `zero_division` parameter to control this behavior.\n",
      "  _warn_prf(average, modifier, msg_start, len(result))\n"
     ]
    },
    {
     "name": "stdout",
     "output_type": "stream",
     "text": [
      "Jaccard Score: 0.8642629904559915\n",
      "MAR@K: 0.11453127630691487\n",
      "MAP@K: 0.8700954400848356\n"
     ]
    }
   ],
   "source": [
    "y_pred = audio_similarity\n",
    "evaluate(y_true, y_pred, data_matrix = data_matrix, k=2)"
   ]
  },
  {
   "cell_type": "code",
   "execution_count": 52,
   "id": "eacaefc0-d06f-4377-83b1-0bd546e0b280",
   "metadata": {},
   "outputs": [
    {
     "name": "stdout",
     "output_type": "stream",
     "text": [
      "(4.0, 4.0) (0.0, 0.0) (0.0, 0.0) (0.0, 0.0) (0.0, 0.0) (0.0, 0.0) (0.0, 0.0) (2.0, 2.0) (0.0, 0.0) (0.0, 0.0) (4.0, 4.0) (0.0, 0.0) (0.0, 0.0) (0.0, 0.0) (0.0, 0.0) (3.0, 3.0) (0.0, 0.0) (0.0, 0.0) (0.0, 0.0) (0.0, 0.0)\n"
     ]
    }
   ],
   "source": [
    "print(*zip(y_true[1][:20], y_pred[1][:20]))"
   ]
  },
  {
   "cell_type": "markdown",
   "id": "21b28f6b-ca3b-4341-a7dd-4b8fc974aad2",
   "metadata": {},
   "source": [
    "# Aggregation"
   ]
  },
  {
   "cell_type": "code",
   "execution_count": 53,
   "id": "836f57c2-7e58-42d8-9f39-1cca32115c78",
   "metadata": {},
   "outputs": [],
   "source": [
    "similarity = np.mean([text_similarity, genre_similarity, cast_similarity, dir_similarity, audio_similarity], axis = 0)"
   ]
  },
  {
   "cell_type": "code",
   "execution_count": 54,
   "id": "76321cd0-ab39-4062-bb77-2b576314c261",
   "metadata": {},
   "outputs": [
    {
     "name": "stdout",
     "output_type": "stream",
     "text": [
      "Jaccard Score: 0.35372043160824057\n",
      "MAR@K: 0.0\n",
      "MAP@K: 0.1357370095440085\n"
     ]
    }
   ],
   "source": [
    "y_pred = similarity\n",
    "evaluate(y_true, y_pred)"
   ]
  },
  {
   "cell_type": "code",
   "execution_count": 55,
   "id": "7c736171-6b23-4257-bcb1-9719e5c71937",
   "metadata": {},
   "outputs": [
    {
     "name": "stdout",
     "output_type": "stream",
     "text": [
      "(4.0, 3.043106796116505) (0.0, 0.041429114405169123) (0.0, 0.041669614432260346) (0.0, 0.042689837551945595) (0.0, 0.20499982783752452) (0.0, 0.04288368636194724) (0.0, 0.04221837088388215) (2.0, 1.6027581174753738) (0.0, 0.042512077294686) (0.0, 0.2052935342483284) (4.0, 2.8426434782608694) (0.0, 0.12555170421721548) (0.0, 0.04254083484573504) (0.0, 0.04289879216992919) (0.0, 0.04221837088388215) (3.0, 2.4422183708838823) (0.0, 0.041718298223874434) (0.0, 0.04276587748966554) (0.0, 0.041825368307581746) (0.0, 0.042741624951867535)\n"
     ]
    }
   ],
   "source": [
    "print(*zip(y_true[1][:20], y_pred[1][:20]))"
   ]
  },
  {
   "cell_type": "markdown",
   "id": "bcb9f71f",
   "metadata": {},
   "source": [
    "## Evaluate"
   ]
  },
  {
   "cell_type": "code",
   "execution_count": 56,
   "id": "5b422772",
   "metadata": {},
   "outputs": [
    {
     "name": "stdout",
     "output_type": "stream",
     "text": [
      "Evaluating Aggregation....\n",
      "Jaccard Score: 0.35372043160824057\n",
      "MAR@K: 0.0\n",
      "MAP@K: 0.1357370095440085\n",
      "\n",
      "Evaluating Text....\n",
      "Jaccard Score: 0.40584294334801385\n",
      "MAR@K: 0.10602131005358482\n",
      "MAP@K: 0.6644279486273115\n",
      "\n",
      "Evaluating Genres....\n",
      "Jaccard Score: 0.4609932069761751\n",
      "MAR@K: 0.0\n",
      "MAP@K: 0.1357370095440085\n",
      "\n",
      "Evaluating Cast....\n",
      "Jaccard Score: 0.33664134785382155\n",
      "MAR@K: 0.025699497565852502\n",
      "MAP@K: 0.24867444326617152\n",
      "\n",
      "Evaluating Director....\n",
      "Jaccard Score: 0.31024054480577834\n",
      "MAR@K: 0.0902599476610703\n",
      "MAP@K: 0.626193001060444\n",
      "\n",
      "Evaluating Audio....\n",
      "Jaccard Score: 0.8642629904559915\n",
      "MAR@K: 0.13569870860313996\n",
      "MAP@K: 0.7464946388594299\n",
      "\n"
     ]
    }
   ],
   "source": [
    "sim = ['Aggregation', 'Text', 'Genres', 'Cast', 'Director', 'Audio']\n",
    "cases = {sim[0]:similarity, sim[1]:text_similarity, sim[2]:genre_similarity, sim[3]:cast_similarity, sim[4]:dir_similarity, sim[5]:audio_similarity}\n",
    "\n",
    "for case in sim:\n",
    "    print(\"Evaluating {}....\".format(case))\n",
    "    threshold = np.percentile(cases[case], 90)\n",
    "    # y_pred = [box(x, threshold) for x in cases[case]]\n",
    "    y_pred = cases[case]\n",
    "    evaluate(y_true, y_pred, k=3)\n",
    "    print()"
   ]
  },
  {
   "cell_type": "code",
   "execution_count": null,
   "id": "52288e37-67ea-4f56-a89b-ae8646f8723c",
   "metadata": {},
   "outputs": [],
   "source": []
  }
 ],
 "metadata": {
  "kernelspec": {
   "display_name": "Python 3 (ipykernel)",
   "language": "python",
   "name": "python3"
  },
  "language_info": {
   "codemirror_mode": {
    "name": "ipython",
    "version": 3
   },
   "file_extension": ".py",
   "mimetype": "text/x-python",
   "name": "python",
   "nbconvert_exporter": "python",
   "pygments_lexer": "ipython3",
   "version": "3.8.12"
  }
 },
 "nbformat": 4,
 "nbformat_minor": 5
}
