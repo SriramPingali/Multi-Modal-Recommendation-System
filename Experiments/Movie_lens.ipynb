{
 "cells": [
  {
   "cell_type": "markdown",
   "id": "95d17916",
   "metadata": {},
   "source": [
    "# Setup"
   ]
  },
  {
   "cell_type": "code",
   "execution_count": 1,
   "id": "e9fe9255-3051-4834-9967-64e7e2621fe5",
   "metadata": {},
   "outputs": [],
   "source": [
    "import os\n",
    "os.environ['TF_CPP_MIN_LOG_LEVEL'] = '3' "
   ]
  },
  {
   "cell_type": "code",
   "execution_count": 2,
   "id": "2388eb3d",
   "metadata": {},
   "outputs": [],
   "source": [
    "import numpy as np\n",
    "import pandas as pd\n",
    "from ml_metrics import mapk\n",
    "from recmetrics import mark\n",
    "from sklearn.metrics import jaccard_score\n",
    "from sklearn.metrics.pairwise import pairwise_distances "
   ]
  },
  {
   "cell_type": "code",
   "execution_count": 3,
   "id": "c61e01e5",
   "metadata": {},
   "outputs": [],
   "source": [
    "# reading users file:\n",
    "u_cols = ['user_id', 'age', 'sex', 'occupation', 'zip_code']\n",
    "users = pd.read_csv('../Datasets/ml-100k/Text/u.user', sep='|', names=u_cols,encoding='latin-1')\n",
    "\n",
    "# reading ratings file:\n",
    "r_cols = ['user_id', 'movie_id', 'rating', 'unix_timestamp']\n",
    "ratings = pd.read_csv('../Datasets/ml-100k/Text/u.data', sep='\\t', names=r_cols,encoding='latin-1')\n",
    "\n",
    "# reading items file:\n",
    "i_cols = ['movie id', 'movie title' ,'release date','video release date', 'IMDb URL', 'unknown', 'Action', 'Adventure',\n",
    "'Animation', 'Children\\'s', 'Comedy', 'Crime', 'Documentary', 'Drama', 'Fantasy',\n",
    "'Film-Noir', 'Horror', 'Musical', 'Mystery', 'Romance', 'Sci-Fi', 'Thriller', 'War', 'Western']\n",
    "items = pd.read_csv('../Datasets/ml-100k/Text/u.item', sep='|', names=i_cols, encoding='latin-1')"
   ]
  },
  {
   "cell_type": "code",
   "execution_count": 4,
   "id": "79bdfcb4",
   "metadata": {},
   "outputs": [
    {
     "name": "stdout",
     "output_type": "stream",
     "text": [
      "\n",
      "User Data :\n",
      "shape :  (943, 5)\n"
     ]
    },
    {
     "data": {
      "text/html": [
       "<div>\n",
       "<style scoped>\n",
       "    .dataframe tbody tr th:only-of-type {\n",
       "        vertical-align: middle;\n",
       "    }\n",
       "\n",
       "    .dataframe tbody tr th {\n",
       "        vertical-align: top;\n",
       "    }\n",
       "\n",
       "    .dataframe thead th {\n",
       "        text-align: right;\n",
       "    }\n",
       "</style>\n",
       "<table border=\"1\" class=\"dataframe\">\n",
       "  <thead>\n",
       "    <tr style=\"text-align: right;\">\n",
       "      <th></th>\n",
       "      <th>user_id</th>\n",
       "      <th>age</th>\n",
       "      <th>sex</th>\n",
       "      <th>occupation</th>\n",
       "      <th>zip_code</th>\n",
       "    </tr>\n",
       "  </thead>\n",
       "  <tbody>\n",
       "    <tr>\n",
       "      <th>0</th>\n",
       "      <td>1</td>\n",
       "      <td>24</td>\n",
       "      <td>M</td>\n",
       "      <td>technician</td>\n",
       "      <td>85711</td>\n",
       "    </tr>\n",
       "    <tr>\n",
       "      <th>1</th>\n",
       "      <td>2</td>\n",
       "      <td>53</td>\n",
       "      <td>F</td>\n",
       "      <td>other</td>\n",
       "      <td>94043</td>\n",
       "    </tr>\n",
       "    <tr>\n",
       "      <th>2</th>\n",
       "      <td>3</td>\n",
       "      <td>23</td>\n",
       "      <td>M</td>\n",
       "      <td>writer</td>\n",
       "      <td>32067</td>\n",
       "    </tr>\n",
       "    <tr>\n",
       "      <th>3</th>\n",
       "      <td>4</td>\n",
       "      <td>24</td>\n",
       "      <td>M</td>\n",
       "      <td>technician</td>\n",
       "      <td>43537</td>\n",
       "    </tr>\n",
       "    <tr>\n",
       "      <th>4</th>\n",
       "      <td>5</td>\n",
       "      <td>33</td>\n",
       "      <td>F</td>\n",
       "      <td>other</td>\n",
       "      <td>15213</td>\n",
       "    </tr>\n",
       "  </tbody>\n",
       "</table>\n",
       "</div>"
      ],
      "text/plain": [
       "   user_id  age sex  occupation zip_code\n",
       "0        1   24   M  technician    85711\n",
       "1        2   53   F       other    94043\n",
       "2        3   23   M      writer    32067\n",
       "3        4   24   M  technician    43537\n",
       "4        5   33   F       other    15213"
      ]
     },
     "execution_count": 4,
     "metadata": {},
     "output_type": "execute_result"
    }
   ],
   "source": [
    "print(\"\\nUser Data :\")\n",
    "print(\"shape : \", users.shape)\n",
    "users.head()"
   ]
  },
  {
   "cell_type": "code",
   "execution_count": 5,
   "id": "b0b2cd08",
   "metadata": {},
   "outputs": [
    {
     "name": "stdout",
     "output_type": "stream",
     "text": [
      "\n",
      "Ratings Data :\n",
      "shape :  (100000, 4)\n"
     ]
    },
    {
     "data": {
      "text/html": [
       "<div>\n",
       "<style scoped>\n",
       "    .dataframe tbody tr th:only-of-type {\n",
       "        vertical-align: middle;\n",
       "    }\n",
       "\n",
       "    .dataframe tbody tr th {\n",
       "        vertical-align: top;\n",
       "    }\n",
       "\n",
       "    .dataframe thead th {\n",
       "        text-align: right;\n",
       "    }\n",
       "</style>\n",
       "<table border=\"1\" class=\"dataframe\">\n",
       "  <thead>\n",
       "    <tr style=\"text-align: right;\">\n",
       "      <th></th>\n",
       "      <th>user_id</th>\n",
       "      <th>movie_id</th>\n",
       "      <th>rating</th>\n",
       "      <th>unix_timestamp</th>\n",
       "    </tr>\n",
       "  </thead>\n",
       "  <tbody>\n",
       "    <tr>\n",
       "      <th>0</th>\n",
       "      <td>196</td>\n",
       "      <td>242</td>\n",
       "      <td>3</td>\n",
       "      <td>881250949</td>\n",
       "    </tr>\n",
       "    <tr>\n",
       "      <th>1</th>\n",
       "      <td>186</td>\n",
       "      <td>302</td>\n",
       "      <td>3</td>\n",
       "      <td>891717742</td>\n",
       "    </tr>\n",
       "    <tr>\n",
       "      <th>2</th>\n",
       "      <td>22</td>\n",
       "      <td>377</td>\n",
       "      <td>1</td>\n",
       "      <td>878887116</td>\n",
       "    </tr>\n",
       "    <tr>\n",
       "      <th>3</th>\n",
       "      <td>244</td>\n",
       "      <td>51</td>\n",
       "      <td>2</td>\n",
       "      <td>880606923</td>\n",
       "    </tr>\n",
       "    <tr>\n",
       "      <th>4</th>\n",
       "      <td>166</td>\n",
       "      <td>346</td>\n",
       "      <td>1</td>\n",
       "      <td>886397596</td>\n",
       "    </tr>\n",
       "  </tbody>\n",
       "</table>\n",
       "</div>"
      ],
      "text/plain": [
       "   user_id  movie_id  rating  unix_timestamp\n",
       "0      196       242       3       881250949\n",
       "1      186       302       3       891717742\n",
       "2       22       377       1       878887116\n",
       "3      244        51       2       880606923\n",
       "4      166       346       1       886397596"
      ]
     },
     "execution_count": 5,
     "metadata": {},
     "output_type": "execute_result"
    }
   ],
   "source": [
    "print(\"\\nRatings Data :\")\n",
    "print(\"shape : \", ratings.shape)\n",
    "ratings.head()"
   ]
  },
  {
   "cell_type": "code",
   "execution_count": 6,
   "id": "311b986e",
   "metadata": {},
   "outputs": [
    {
     "name": "stdout",
     "output_type": "stream",
     "text": [
      "\n",
      "Item Data :\n",
      "shape :  (1682, 24)\n"
     ]
    },
    {
     "data": {
      "text/html": [
       "<div>\n",
       "<style scoped>\n",
       "    .dataframe tbody tr th:only-of-type {\n",
       "        vertical-align: middle;\n",
       "    }\n",
       "\n",
       "    .dataframe tbody tr th {\n",
       "        vertical-align: top;\n",
       "    }\n",
       "\n",
       "    .dataframe thead th {\n",
       "        text-align: right;\n",
       "    }\n",
       "</style>\n",
       "<table border=\"1\" class=\"dataframe\">\n",
       "  <thead>\n",
       "    <tr style=\"text-align: right;\">\n",
       "      <th></th>\n",
       "      <th>movie id</th>\n",
       "      <th>movie title</th>\n",
       "      <th>release date</th>\n",
       "      <th>video release date</th>\n",
       "      <th>IMDb URL</th>\n",
       "      <th>unknown</th>\n",
       "      <th>Action</th>\n",
       "      <th>Adventure</th>\n",
       "      <th>Animation</th>\n",
       "      <th>Children's</th>\n",
       "      <th>...</th>\n",
       "      <th>Fantasy</th>\n",
       "      <th>Film-Noir</th>\n",
       "      <th>Horror</th>\n",
       "      <th>Musical</th>\n",
       "      <th>Mystery</th>\n",
       "      <th>Romance</th>\n",
       "      <th>Sci-Fi</th>\n",
       "      <th>Thriller</th>\n",
       "      <th>War</th>\n",
       "      <th>Western</th>\n",
       "    </tr>\n",
       "  </thead>\n",
       "  <tbody>\n",
       "    <tr>\n",
       "      <th>0</th>\n",
       "      <td>1</td>\n",
       "      <td>Toy Story (1995)</td>\n",
       "      <td>01-Jan-1995</td>\n",
       "      <td>NaN</td>\n",
       "      <td>http://us.imdb.com/M/title-exact?Toy%20Story%2...</td>\n",
       "      <td>0</td>\n",
       "      <td>0</td>\n",
       "      <td>0</td>\n",
       "      <td>1</td>\n",
       "      <td>1</td>\n",
       "      <td>...</td>\n",
       "      <td>0</td>\n",
       "      <td>0</td>\n",
       "      <td>0</td>\n",
       "      <td>0</td>\n",
       "      <td>0</td>\n",
       "      <td>0</td>\n",
       "      <td>0</td>\n",
       "      <td>0</td>\n",
       "      <td>0</td>\n",
       "      <td>0</td>\n",
       "    </tr>\n",
       "    <tr>\n",
       "      <th>1</th>\n",
       "      <td>2</td>\n",
       "      <td>GoldenEye (1995)</td>\n",
       "      <td>01-Jan-1995</td>\n",
       "      <td>NaN</td>\n",
       "      <td>http://us.imdb.com/M/title-exact?GoldenEye%20(...</td>\n",
       "      <td>0</td>\n",
       "      <td>1</td>\n",
       "      <td>1</td>\n",
       "      <td>0</td>\n",
       "      <td>0</td>\n",
       "      <td>...</td>\n",
       "      <td>0</td>\n",
       "      <td>0</td>\n",
       "      <td>0</td>\n",
       "      <td>0</td>\n",
       "      <td>0</td>\n",
       "      <td>0</td>\n",
       "      <td>0</td>\n",
       "      <td>1</td>\n",
       "      <td>0</td>\n",
       "      <td>0</td>\n",
       "    </tr>\n",
       "    <tr>\n",
       "      <th>2</th>\n",
       "      <td>3</td>\n",
       "      <td>Four Rooms (1995)</td>\n",
       "      <td>01-Jan-1995</td>\n",
       "      <td>NaN</td>\n",
       "      <td>http://us.imdb.com/M/title-exact?Four%20Rooms%...</td>\n",
       "      <td>0</td>\n",
       "      <td>0</td>\n",
       "      <td>0</td>\n",
       "      <td>0</td>\n",
       "      <td>0</td>\n",
       "      <td>...</td>\n",
       "      <td>0</td>\n",
       "      <td>0</td>\n",
       "      <td>0</td>\n",
       "      <td>0</td>\n",
       "      <td>0</td>\n",
       "      <td>0</td>\n",
       "      <td>0</td>\n",
       "      <td>1</td>\n",
       "      <td>0</td>\n",
       "      <td>0</td>\n",
       "    </tr>\n",
       "    <tr>\n",
       "      <th>3</th>\n",
       "      <td>4</td>\n",
       "      <td>Get Shorty (1995)</td>\n",
       "      <td>01-Jan-1995</td>\n",
       "      <td>NaN</td>\n",
       "      <td>http://us.imdb.com/M/title-exact?Get%20Shorty%...</td>\n",
       "      <td>0</td>\n",
       "      <td>1</td>\n",
       "      <td>0</td>\n",
       "      <td>0</td>\n",
       "      <td>0</td>\n",
       "      <td>...</td>\n",
       "      <td>0</td>\n",
       "      <td>0</td>\n",
       "      <td>0</td>\n",
       "      <td>0</td>\n",
       "      <td>0</td>\n",
       "      <td>0</td>\n",
       "      <td>0</td>\n",
       "      <td>0</td>\n",
       "      <td>0</td>\n",
       "      <td>0</td>\n",
       "    </tr>\n",
       "    <tr>\n",
       "      <th>4</th>\n",
       "      <td>5</td>\n",
       "      <td>Copycat (1995)</td>\n",
       "      <td>01-Jan-1995</td>\n",
       "      <td>NaN</td>\n",
       "      <td>http://us.imdb.com/M/title-exact?Copycat%20(1995)</td>\n",
       "      <td>0</td>\n",
       "      <td>0</td>\n",
       "      <td>0</td>\n",
       "      <td>0</td>\n",
       "      <td>0</td>\n",
       "      <td>...</td>\n",
       "      <td>0</td>\n",
       "      <td>0</td>\n",
       "      <td>0</td>\n",
       "      <td>0</td>\n",
       "      <td>0</td>\n",
       "      <td>0</td>\n",
       "      <td>0</td>\n",
       "      <td>1</td>\n",
       "      <td>0</td>\n",
       "      <td>0</td>\n",
       "    </tr>\n",
       "  </tbody>\n",
       "</table>\n",
       "<p>5 rows × 24 columns</p>\n",
       "</div>"
      ],
      "text/plain": [
       "   movie id        movie title release date  video release date  \\\n",
       "0         1   Toy Story (1995)  01-Jan-1995                 NaN   \n",
       "1         2   GoldenEye (1995)  01-Jan-1995                 NaN   \n",
       "2         3  Four Rooms (1995)  01-Jan-1995                 NaN   \n",
       "3         4  Get Shorty (1995)  01-Jan-1995                 NaN   \n",
       "4         5     Copycat (1995)  01-Jan-1995                 NaN   \n",
       "\n",
       "                                            IMDb URL  unknown  Action  \\\n",
       "0  http://us.imdb.com/M/title-exact?Toy%20Story%2...        0       0   \n",
       "1  http://us.imdb.com/M/title-exact?GoldenEye%20(...        0       1   \n",
       "2  http://us.imdb.com/M/title-exact?Four%20Rooms%...        0       0   \n",
       "3  http://us.imdb.com/M/title-exact?Get%20Shorty%...        0       1   \n",
       "4  http://us.imdb.com/M/title-exact?Copycat%20(1995)        0       0   \n",
       "\n",
       "   Adventure  Animation  Children's  ...  Fantasy  Film-Noir  Horror  Musical  \\\n",
       "0          0          1           1  ...        0          0       0        0   \n",
       "1          1          0           0  ...        0          0       0        0   \n",
       "2          0          0           0  ...        0          0       0        0   \n",
       "3          0          0           0  ...        0          0       0        0   \n",
       "4          0          0           0  ...        0          0       0        0   \n",
       "\n",
       "   Mystery  Romance  Sci-Fi  Thriller  War  Western  \n",
       "0        0        0       0         0    0        0  \n",
       "1        0        0       0         1    0        0  \n",
       "2        0        0       0         1    0        0  \n",
       "3        0        0       0         0    0        0  \n",
       "4        0        0       0         1    0        0  \n",
       "\n",
       "[5 rows x 24 columns]"
      ]
     },
     "execution_count": 6,
     "metadata": {},
     "output_type": "execute_result"
    }
   ],
   "source": [
    "print(\"\\nItem Data :\")\n",
    "print(\"shape : \", items.shape)\n",
    "items.head()"
   ]
  },
  {
   "cell_type": "code",
   "execution_count": 7,
   "id": "2e7799fb",
   "metadata": {},
   "outputs": [
    {
     "data": {
      "text/plain": [
       "((90570, 4), (9430, 4))"
      ]
     },
     "execution_count": 7,
     "metadata": {},
     "output_type": "execute_result"
    }
   ],
   "source": [
    "ratings_train = pd.read_csv('../Datasets/ml-100k/Text/ua.base', sep='\\t', names=r_cols, encoding='latin-1')\n",
    "ratings_test = pd.read_csv('../Datasets/ml-100k/Text/ua.test', sep='\\t', names=r_cols, encoding='latin-1')\n",
    "ratings_train.shape, ratings_test.shape"
   ]
  },
  {
   "cell_type": "code",
   "execution_count": 8,
   "id": "80abf4b5",
   "metadata": {},
   "outputs": [],
   "source": [
    "n_users = ratings.user_id.unique().shape[0]\n",
    "n_items = ratings.movie_id.unique().shape[0]"
   ]
  },
  {
   "cell_type": "markdown",
   "id": "a5e1ea1c",
   "metadata": {},
   "source": [
    "# Matrix Factorization"
   ]
  },
  {
   "cell_type": "code",
   "execution_count": 9,
   "id": "ec746cf8",
   "metadata": {},
   "outputs": [],
   "source": [
    "data_matrix = np.zeros((n_users, n_items))\n",
    "for line in ratings.itertuples():\n",
    "    data_matrix[line[1]-1, line[2]-1] = line[3]"
   ]
  },
  {
   "cell_type": "code",
   "execution_count": 10,
   "id": "4c6e5418",
   "metadata": {},
   "outputs": [
    {
     "data": {
      "text/plain": [
       "(array([0., 1., 2., 3., 4., 5.]),\n",
       " array([1486126,    6110,   11370,   27145,   34174,   21201]))"
      ]
     },
     "execution_count": 10,
     "metadata": {},
     "output_type": "execute_result"
    }
   ],
   "source": [
    "np.unique(data_matrix, return_counts=True)"
   ]
  },
  {
   "cell_type": "code",
   "execution_count": 11,
   "id": "3daaa388",
   "metadata": {},
   "outputs": [],
   "source": [
    "user_similarity = pairwise_distances(data_matrix, metric='cosine')\n",
    "item_similarity = pairwise_distances(data_matrix.T, metric='cosine')"
   ]
  },
  {
   "cell_type": "code",
   "execution_count": 12,
   "id": "7acacd26",
   "metadata": {},
   "outputs": [],
   "source": [
    "def predict(ratings, similarity, type='user'):\n",
    "    if type == 'user':\n",
    "        mean_user_rating = ratings.mean(axis=1)\n",
    "        #We use np.newaxis so that mean_user_rating has same format as ratings\n",
    "        ratings_diff = (ratings - mean_user_rating[:, np.newaxis])\n",
    "        pred = mean_user_rating[:, np.newaxis] + similarity.dot(ratings_diff) / np.array([np.abs(similarity).sum(axis=1)]).T\n",
    "    elif type == 'item':\n",
    "        pred = ratings.dot(similarity) / np.array([np.abs(similarity).sum(axis=1)])\n",
    "    return pred"
   ]
  },
  {
   "cell_type": "code",
   "execution_count": 13,
   "id": "e64f1f55",
   "metadata": {},
   "outputs": [],
   "source": [
    "user_prediction = predict(data_matrix, user_similarity, type='user')\n",
    "item_prediction = predict(data_matrix, item_similarity, type='item')"
   ]
  },
  {
   "cell_type": "code",
   "execution_count": 14,
   "id": "c83d325e",
   "metadata": {},
   "outputs": [
    {
     "data": {
      "text/plain": [
       "(943, 1682)"
      ]
     },
     "execution_count": 14,
     "metadata": {},
     "output_type": "execute_result"
    }
   ],
   "source": [
    "user_prediction.shape"
   ]
  },
  {
   "cell_type": "markdown",
   "id": "078ba978",
   "metadata": {},
   "source": [
    "## Evaluate"
   ]
  },
  {
   "cell_type": "code",
   "execution_count": 15,
   "id": "1d65424d",
   "metadata": {},
   "outputs": [],
   "source": [
    "def box(array, threshold):\n",
    "    temp = []\n",
    "    for x in array:\n",
    "        if(x >= threshold):\n",
    "            temp.append(1)\n",
    "        else:\n",
    "            temp.append(0)\n",
    "    return(temp)"
   ]
  },
  {
   "cell_type": "code",
   "execution_count": 16,
   "id": "2b5c88ba",
   "metadata": {},
   "outputs": [],
   "source": [
    "def evaluate(y_true, y_pred):\n",
    "    score = []\n",
    "    for j in range(len(data_matrix)):\n",
    "        include = [i for i in range(len(data_matrix[j])) if data_matrix[j][i] != 0]\n",
    "        y_true_include = [y_true[j][i] for i in include]\n",
    "        y_pred_include = [y_pred[j][i] for i in include]\n",
    "        score.append([jaccard_score(y_true_include, y_pred_include, average=\"macro\"), \n",
    "                      mark([y_true_include], [y_pred_include], k = 10),\n",
    "                      mapk([y_true_include], [y_pred_include], k = 10)])\n",
    "    print(\"Jaccard Score: {}\\nMAR@10: {}\\nMAP@10: {}\".format(*np.mean(score, axis=0)))"
   ]
  },
  {
   "cell_type": "code",
   "execution_count": 17,
   "id": "b3201cfa",
   "metadata": {},
   "outputs": [],
   "source": [
    "y_true = [box(x, 4) for x in data_matrix]"
   ]
  },
  {
   "cell_type": "code",
   "execution_count": 18,
   "id": "f2f03a20",
   "metadata": {},
   "outputs": [],
   "source": [
    "threshold = np.percentile(user_prediction, 85)\n",
    "y_pred = [box(x, threshold) for x in user_prediction]"
   ]
  },
  {
   "cell_type": "code",
   "execution_count": 19,
   "id": "759ffdbc",
   "metadata": {},
   "outputs": [
    {
     "name": "stdout",
     "output_type": "stream",
     "text": [
      "Jaccard Score: 0.3820967009364004\n",
      "MAR@10: 0.0321625210702409\n",
      "MAP@10: 0.1578575636688047\n"
     ]
    }
   ],
   "source": [
    "evaluate(y_true, y_pred)"
   ]
  },
  {
   "cell_type": "markdown",
   "id": "8df86af8",
   "metadata": {},
   "source": [
    "# Text based Model"
   ]
  },
  {
   "cell_type": "code",
   "execution_count": 20,
   "id": "efc567e4-22d9-4c4b-8d56-bdf7e8943bd8",
   "metadata": {},
   "outputs": [],
   "source": [
    "items = pd.read_csv(\"../Datasets/ml-100k/Text/items.csv\")"
   ]
  },
  {
   "cell_type": "code",
   "execution_count": 21,
   "id": "3eac38ad-4713-4eed-bc64-02c676275a12",
   "metadata": {},
   "outputs": [],
   "source": [
    "data_text = items['Summary']"
   ]
  },
  {
   "cell_type": "code",
   "execution_count": 22,
   "id": "3b3a3d3a",
   "metadata": {
    "collapsed": true,
    "jupyter": {
     "outputs_hidden": true
    },
    "tags": []
   },
   "outputs": [
    {
     "name": "stderr",
     "output_type": "stream",
     "text": [
      "Using TensorFlow backend.\n",
      "[nltk_data] Downloading package punkt to /home/sriram/nltk_data...\n",
      "[nltk_data]   Package punkt is already up-to-date!\n",
      "[nltk_data] Downloading package wordnet to /home/sriram/nltk_data...\n",
      "[nltk_data]   Package wordnet is already up-to-date!\n",
      "[nltk_data] Downloading package stopwords to /home/sriram/nltk_data...\n",
      "[nltk_data]   Package stopwords is already up-to-date!\n"
     ]
    },
    {
     "name": "stdout",
     "output_type": "stream",
     "text": [
      "Model: \"sequential_3\"\n",
      "_________________________________________________________________\n",
      "Layer (type)                 Output Shape              Param #   \n",
      "=================================================================\n",
      "sequential_1 (Sequential)    (None, 400)               2276416   \n",
      "_________________________________________________________________\n",
      "repeat_vector_1 (RepeatVecto (None, 240, 400)          0         \n",
      "_________________________________________________________________\n",
      "sequential_2 (Sequential)    (None, 240, 13672)        6444072   \n",
      "=================================================================\n",
      "Total params: 8,720,488\n",
      "Trainable params: 8,720,488\n",
      "Non-trainable params: 0\n",
      "_________________________________________________________________\n"
     ]
    },
    {
     "name": "stderr",
     "output_type": "stream",
     "text": [
      "/home/sriram/anaconda3/envs/btp/lib/python3.8/site-packages/tensorflow/python/framework/indexed_slices.py:433: UserWarning: Converting sparse IndexedSlices to a dense Tensor of unknown shape. This may consume a large amount of memory.\n",
      "  warnings.warn(\n"
     ]
    },
    {
     "name": "stdout",
     "output_type": "stream",
     "text": [
      "Epoch 1/100\n",
      "1682/1682 [==============================] - 17s 10ms/step - loss: 4.5821 - accuracy: 0.7426\n",
      "Epoch 2/100\n",
      "1682/1682 [==============================] - 14s 9ms/step - loss: 2.8408 - accuracy: 0.7893\n",
      "Epoch 3/100\n",
      "1682/1682 [==============================] - 16s 9ms/step - loss: 3.1141 - accuracy: 0.7770\n",
      "Epoch 4/100\n",
      "1682/1682 [==============================] - 15s 9ms/step - loss: 2.9451 - accuracy: 0.7893\n",
      "Epoch 5/100\n",
      "1682/1682 [==============================] - 19s 11ms/step - loss: 2.9124 - accuracy: 0.7889\n",
      "Epoch 6/100\n",
      "1682/1682 [==============================] - 19s 11ms/step - loss: 2.9429 - accuracy: 0.7893\n",
      "Epoch 7/100\n",
      "1682/1682 [==============================] - 20s 12ms/step - loss: 2.7399 - accuracy: 0.7871\n",
      "Epoch 8/100\n",
      "1682/1682 [==============================] - 21s 12ms/step - loss: 2.6589 - accuracy: 0.7878\n",
      "Epoch 9/100\n",
      "1682/1682 [==============================] - 20s 12ms/step - loss: 2.9854 - accuracy: 0.7890\n",
      "Epoch 10/100\n",
      "1682/1682 [==============================] - 23s 13ms/step - loss: 2.9953 - accuracy: 0.7893\n",
      "Epoch 11/100\n",
      "1682/1682 [==============================] - 24s 14ms/step - loss: 2.7903 - accuracy: 0.7877\n",
      "Epoch 12/100\n",
      "1682/1682 [==============================] - 26s 15ms/step - loss: 2.7575 - accuracy: 0.7875\n",
      "Epoch 13/100\n",
      "1682/1682 [==============================] - 23s 14ms/step - loss: 2.7330 - accuracy: 0.7863\n",
      "Epoch 14/100\n",
      "1682/1682 [==============================] - 25s 15ms/step - loss: 2.8307 - accuracy: 0.7893\n",
      "Epoch 15/100\n",
      "1682/1682 [==============================] - 25s 15ms/step - loss: 2.7708 - accuracy: 0.7893\n",
      "Epoch 16/100\n",
      "1682/1682 [==============================] - 31s 18ms/step - loss: 2.6121 - accuracy: 0.7884\n",
      "Epoch 17/100\n",
      "1682/1682 [==============================] - 24s 14ms/step - loss: 2.7218 - accuracy: 0.7893\n",
      "Epoch 18/100\n",
      "1682/1682 [==============================] - 27s 16ms/step - loss: 2.6252 - accuracy: 0.7890\n",
      "Epoch 19/100\n",
      "1682/1682 [==============================] - 29s 17ms/step - loss: 2.7316 - accuracy: 0.7893\n",
      "Epoch 20/100\n",
      "1682/1682 [==============================] - 26s 15ms/step - loss: 2.6265 - accuracy: 0.7878\n",
      "Epoch 21/100\n",
      "1682/1682 [==============================] - 31s 18ms/step - loss: 2.6465 - accuracy: 0.7890\n",
      "Epoch 22/100\n",
      "1682/1682 [==============================] - 28s 16ms/step - loss: 2.5924 - accuracy: 0.7893\n",
      "Epoch 23/100\n",
      "1682/1682 [==============================] - 26s 15ms/step - loss: 2.5117 - accuracy: 0.7892\n",
      "Epoch 24/100\n",
      "1682/1682 [==============================] - 32s 19ms/step - loss: 2.5179 - accuracy: 0.7893\n",
      "Epoch 25/100\n",
      "1682/1682 [==============================] - 26s 16ms/step - loss: 2.6372 - accuracy: 0.7893\n",
      "Epoch 26/100\n",
      "1682/1682 [==============================] - 28s 17ms/step - loss: 2.6041 - accuracy: 0.7878\n",
      "Epoch 27/100\n",
      "1682/1682 [==============================] - 28s 17ms/step - loss: 2.6640 - accuracy: 0.7893\n",
      "Epoch 28/100\n",
      "1682/1682 [==============================] - 25s 15ms/step - loss: 2.5805 - accuracy: 0.7887\n",
      "Epoch 29/100\n",
      "1682/1682 [==============================] - 30s 18ms/step - loss: 2.5048 - accuracy: 0.7891\n",
      "Epoch 30/100\n",
      "1682/1682 [==============================] - 22s 13ms/step - loss: 2.5263 - accuracy: 0.7893\n",
      "Epoch 31/100\n",
      "1682/1682 [==============================] - 29s 17ms/step - loss: 2.5332 - accuracy: 0.7893\n",
      "Epoch 32/100\n",
      "1682/1682 [==============================] - 32s 19ms/step - loss: 2.6118 - accuracy: 0.7893\n",
      "Epoch 33/100\n",
      "1682/1682 [==============================] - 30s 18ms/step - loss: 2.5266 - accuracy: 0.7887\n",
      "Epoch 34/100\n",
      "1682/1682 [==============================] - 25s 15ms/step - loss: 2.4894 - accuracy: 0.7893\n",
      "Epoch 35/100\n",
      "1682/1682 [==============================] - 33s 20ms/step - loss: 2.4844 - accuracy: 0.7893\n",
      "Epoch 36/100\n",
      "1682/1682 [==============================] - 33s 20ms/step - loss: 2.4680 - accuracy: 0.7893\n",
      "Epoch 37/100\n",
      "1682/1682 [==============================] - 28s 17ms/step - loss: 2.5007 - accuracy: 0.7893\n",
      "Epoch 38/100\n",
      "1682/1682 [==============================] - 27s 16ms/step - loss: 2.5238 - accuracy: 0.7893\n",
      "Epoch 39/100\n",
      "1682/1682 [==============================] - 33s 20ms/step - loss: 2.3991 - accuracy: 0.7893\n",
      "Epoch 40/100\n",
      "1682/1682 [==============================] - 31s 18ms/step - loss: 2.4633 - accuracy: 0.7888\n",
      "Epoch 41/100\n",
      "1682/1682 [==============================] - 26s 15ms/step - loss: 3.9276 - accuracy: 0.6915\n",
      "Epoch 42/100\n",
      "1682/1682 [==============================] - 24s 14ms/step - loss: 3.3970 - accuracy: 0.7893\n",
      "Epoch 43/100\n",
      "1682/1682 [==============================] - 29s 18ms/step - loss: 3.3968 - accuracy: 0.7893\n",
      "Epoch 44/100\n",
      "1682/1682 [==============================] - 35s 21ms/step - loss: 3.3968 - accuracy: 0.7893\n",
      "Epoch 45/100\n",
      "1682/1682 [==============================] - 24s 14ms/step - loss: 3.3968 - accuracy: 0.7893\n",
      "Epoch 46/100\n",
      "1682/1682 [==============================] - 25s 15ms/step - loss: 3.3968 - accuracy: 0.7893\n",
      "Epoch 47/100\n",
      "1682/1682 [==============================] - 31s 18ms/step - loss: 3.3968 - accuracy: 0.7893\n",
      "Epoch 48/100\n",
      "1682/1682 [==============================] - 27s 16ms/step - loss: 3.3968 - accuracy: 0.7893\n",
      "Epoch 49/100\n",
      "1682/1682 [==============================] - 26s 16ms/step - loss: 3.3968 - accuracy: 0.7893\n",
      "Epoch 50/100\n",
      "1682/1682 [==============================] - 32s 19ms/step - loss: 3.3968 - accuracy: 0.7893\n",
      "Epoch 51/100\n",
      "1682/1682 [==============================] - 30s 18ms/step - loss: 3.3968 - accuracy: 0.7893\n",
      "Epoch 52/100\n",
      "1682/1682 [==============================] - 27s 16ms/step - loss: 3.3968 - accuracy: 0.7893\n",
      "Epoch 53/100\n",
      "1682/1682 [==============================] - 30s 18ms/step - loss: 3.3968 - accuracy: 0.7893\n",
      "Epoch 54/100\n",
      "1682/1682 [==============================] - 31s 18ms/step - loss: 3.3968 - accuracy: 0.7893\n",
      "Epoch 55/100\n",
      "1682/1682 [==============================] - 29s 18ms/step - loss: 3.3968 - accuracy: 0.7893\n",
      "Epoch 56/100\n",
      "1682/1682 [==============================] - 27s 16ms/step - loss: 3.3968 - accuracy: 0.7893\n",
      "Epoch 57/100\n",
      "1682/1682 [==============================] - 29s 17ms/step - loss: 3.3968 - accuracy: 0.7893\n",
      "Epoch 58/100\n",
      "1682/1682 [==============================] - 32s 19ms/step - loss: 3.3968 - accuracy: 0.7893\n",
      "Epoch 59/100\n",
      "1682/1682 [==============================] - 33s 20ms/step - loss: 3.3968 - accuracy: 0.7893\n",
      "Epoch 60/100\n",
      "1682/1682 [==============================] - 29s 17ms/step - loss: 3.3968 - accuracy: 0.7893\n",
      "Epoch 61/100\n",
      "1682/1682 [==============================] - 28s 17ms/step - loss: 3.3968 - accuracy: 0.7893\n",
      "Epoch 62/100\n",
      "1682/1682 [==============================] - 29s 17ms/step - loss: 3.3968 - accuracy: 0.7893\n",
      "Epoch 63/100\n",
      "1682/1682 [==============================] - 32s 19ms/step - loss: 3.3968 - accuracy: 0.7893\n",
      "Epoch 64/100\n",
      "1682/1682 [==============================] - 33s 20ms/step - loss: 3.3968 - accuracy: 0.7893\n",
      "Epoch 65/100\n",
      "1682/1682 [==============================] - 32s 19ms/step - loss: 3.3968 - accuracy: 0.7893\n",
      "Epoch 66/100\n",
      "1682/1682 [==============================] - 30s 18ms/step - loss: 3.3968 - accuracy: 0.7893\n",
      "Epoch 67/100\n",
      "1682/1682 [==============================] - 33s 20ms/step - loss: 3.3968 - accuracy: 0.7893\n",
      "Epoch 68/100\n",
      "1682/1682 [==============================] - 31s 19ms/step - loss: 3.3968 - accuracy: 0.7893\n",
      "Epoch 69/100\n",
      "1682/1682 [==============================] - 30s 18ms/step - loss: 3.3968 - accuracy: 0.7893\n",
      "Epoch 70/100\n",
      "1682/1682 [==============================] - 33s 20ms/step - loss: 3.3968 - accuracy: 0.7893\n",
      "Epoch 71/100\n",
      "1682/1682 [==============================] - 33s 20ms/step - loss: 3.3968 - accuracy: 0.7893\n",
      "Epoch 72/100\n",
      "1682/1682 [==============================] - 30s 18ms/step - loss: 3.3968 - accuracy: 0.7893\n",
      "Epoch 73/100\n",
      "1682/1682 [==============================] - 30s 18ms/step - loss: 3.3968 - accuracy: 0.7893\n",
      "Epoch 74/100\n",
      "1682/1682 [==============================] - 30s 18ms/step - loss: 3.3968 - accuracy: 0.7893\n",
      "Epoch 75/100\n",
      "1682/1682 [==============================] - 32s 19ms/step - loss: 3.3968 - accuracy: 0.7893\n",
      "Epoch 76/100\n",
      "1682/1682 [==============================] - 30s 18ms/step - loss: 3.3968 - accuracy: 0.7893\n",
      "Epoch 77/100\n",
      "1682/1682 [==============================] - 31s 18ms/step - loss: 3.3968 - accuracy: 0.7893\n",
      "Epoch 78/100\n",
      "1682/1682 [==============================] - 33s 19ms/step - loss: 3.3968 - accuracy: 0.7893\n",
      "Epoch 79/100\n",
      "1682/1682 [==============================] - 33s 20ms/step - loss: 3.3968 - accuracy: 0.7893\n",
      "Epoch 80/100\n",
      "1682/1682 [==============================] - 32s 19ms/step - loss: 3.3968 - accuracy: 0.7893\n",
      "Epoch 81/100\n",
      "1682/1682 [==============================] - 30s 18ms/step - loss: 3.3968 - accuracy: 0.7893\n",
      "Epoch 82/100\n",
      "1682/1682 [==============================] - 31s 19ms/step - loss: 3.3968 - accuracy: 0.7893\n",
      "Epoch 83/100\n",
      "1682/1682 [==============================] - 31s 18ms/step - loss: 3.3968 - accuracy: 0.7893\n",
      "Epoch 84/100\n",
      "1682/1682 [==============================] - 31s 19ms/step - loss: 3.3968 - accuracy: 0.7893\n",
      "Epoch 85/100\n",
      "1682/1682 [==============================] - 34s 20ms/step - loss: 3.3968 - accuracy: 0.7893\n",
      "Epoch 86/100\n",
      "1682/1682 [==============================] - 28s 17ms/step - loss: 3.3968 - accuracy: 0.7893\n",
      "Epoch 87/100\n",
      "1682/1682 [==============================] - 34s 20ms/step - loss: 3.3968 - accuracy: 0.7893\n",
      "Epoch 88/100\n",
      "1682/1682 [==============================] - 33s 20ms/step - loss: 3.3968 - accuracy: 0.7893\n",
      "Epoch 89/100\n",
      "1682/1682 [==============================] - 40s 24ms/step - loss: 3.3968 - accuracy: 0.7893\n",
      "Epoch 90/100\n",
      "1682/1682 [==============================] - 26s 16ms/step - loss: 3.3968 - accuracy: 0.7893\n",
      "Epoch 91/100\n",
      "1682/1682 [==============================] - 30s 18ms/step - loss: 3.3968 - accuracy: 0.7893\n",
      "Epoch 92/100\n",
      "1682/1682 [==============================] - 34s 20ms/step - loss: 3.3968 - accuracy: 0.7893\n",
      "Epoch 93/100\n",
      "1682/1682 [==============================] - 29s 17ms/step - loss: 3.3968 - accuracy: 0.7893\n",
      "Epoch 94/100\n",
      "1682/1682 [==============================] - 33s 20ms/step - loss: 3.3968 - accuracy: 0.7893\n",
      "Epoch 95/100\n",
      "1682/1682 [==============================] - 33s 20ms/step - loss: 3.3968 - accuracy: 0.7893\n",
      "Epoch 96/100\n",
      "1682/1682 [==============================] - 34s 20ms/step - loss: 3.3968 - accuracy: 0.7893\n",
      "Epoch 97/100\n",
      "1682/1682 [==============================] - 31s 18ms/step - loss: 3.3968 - accuracy: 0.7893\n",
      "Epoch 98/100\n",
      "1682/1682 [==============================] - 32s 19ms/step - loss: 3.3968 - accuracy: 0.7893\n",
      "Epoch 99/100\n",
      "1682/1682 [==============================] - 33s 19ms/step - loss: 3.3968 - accuracy: 0.7893\n",
      "Epoch 100/100\n",
      "1682/1682 [==============================] - 32s 19ms/step - loss: 3.3968 - accuracy: 0.7893\n"
     ]
    }
   ],
   "source": [
    "import keras\n",
    "from utils.autoencoder import Autoencoder_Text\n",
    "\n",
    "AE = Autoencoder_Text()\n",
    "AE.train(data_text, epochs = 100, batch_size = 100)"
   ]
  },
  {
   "cell_type": "code",
   "execution_count": 23,
   "id": "d54d7d6d-e986-41af-84db-705be0bb90dc",
   "metadata": {},
   "outputs": [],
   "source": [
    "# AE.enc_dec_model = keras.models.load_model('./pretrained/text_model')"
   ]
  },
  {
   "cell_type": "code",
   "execution_count": 24,
   "id": "001c6e52-9825-43df-b157-9b1bdfb452e5",
   "metadata": {
    "tags": []
   },
   "outputs": [],
   "source": [
    "inputs = np.squeeze(AE.pre_process(data_text), axis = 2)\n",
    "movie_embeddings = AE.encoder.predict(inputs)"
   ]
  },
  {
   "cell_type": "code",
   "execution_count": 25,
   "id": "c23fd137",
   "metadata": {},
   "outputs": [],
   "source": [
    "user_embeddings = np.dot(data_matrix, movie_embeddings)/np.array([np.sum(data_matrix, axis = 1)]).T"
   ]
  },
  {
   "cell_type": "code",
   "execution_count": 26,
   "id": "267c385b",
   "metadata": {},
   "outputs": [
    {
     "data": {
      "text/plain": [
       "(1682, 400)"
      ]
     },
     "execution_count": 26,
     "metadata": {},
     "output_type": "execute_result"
    }
   ],
   "source": [
    "movie_embeddings.shape"
   ]
  },
  {
   "cell_type": "code",
   "execution_count": 27,
   "id": "54af355f",
   "metadata": {},
   "outputs": [
    {
     "data": {
      "text/plain": [
       "(943, 400)"
      ]
     },
     "execution_count": 27,
     "metadata": {},
     "output_type": "execute_result"
    }
   ],
   "source": [
    "user_embeddings.shape"
   ]
  },
  {
   "cell_type": "code",
   "execution_count": 28,
   "id": "e0ba6775",
   "metadata": {},
   "outputs": [],
   "source": [
    "p1=np.sqrt(np.sum(user_embeddings**2,axis=1))[:,np.newaxis]\n",
    "p2=np.sqrt(np.sum(movie_embeddings**2,axis=1))[np.newaxis,:]\n",
    "predict_matrix = np.dot(user_embeddings, movie_embeddings.T) / (p1*p2)"
   ]
  },
  {
   "cell_type": "code",
   "execution_count": 29,
   "id": "fa88950c",
   "metadata": {},
   "outputs": [
    {
     "data": {
      "text/plain": [
       "(943, 1682)"
      ]
     },
     "execution_count": 29,
     "metadata": {},
     "output_type": "execute_result"
    }
   ],
   "source": [
    "predict_matrix.shape"
   ]
  },
  {
   "cell_type": "code",
   "execution_count": 30,
   "id": "5ef78731-e340-45fa-a00e-0030584c6898",
   "metadata": {},
   "outputs": [
    {
     "data": {
      "text/plain": [
       "array([[0.99997469, 0.9999714 , 0.99998506, ..., 0.99998141, 0.99999534,\n",
       "        0.99997482],\n",
       "       [0.99998775, 0.99998542, 0.99999234, ..., 0.99996721, 0.99999494,\n",
       "        0.99998772],\n",
       "       [0.99998604, 0.99998377, 0.99999166, ..., 0.99997014, 0.9999958 ,\n",
       "        0.99998613],\n",
       "       ...,\n",
       "       [0.99998533, 0.99998291, 0.999992  , ..., 0.99997115, 0.99999516,\n",
       "        0.99998488],\n",
       "       [0.99995762, 0.99995296, 0.99997372, ..., 0.99998944, 0.99999084,\n",
       "        0.99995757],\n",
       "       [0.99996535, 0.99996196, 0.99997938, ..., 0.99998706, 0.99999312,\n",
       "        0.99996575]])"
      ]
     },
     "execution_count": 30,
     "metadata": {},
     "output_type": "execute_result"
    }
   ],
   "source": [
    "predict_matrix"
   ]
  },
  {
   "cell_type": "markdown",
   "id": "bcb9f71f",
   "metadata": {},
   "source": [
    "## Evaluate"
   ]
  },
  {
   "cell_type": "code",
   "execution_count": 31,
   "id": "5b422772",
   "metadata": {},
   "outputs": [],
   "source": [
    "threshold = np.percentile(predict_matrix, 50)\n",
    "y_pred = [box(x, threshold) for x in predict_matrix]"
   ]
  },
  {
   "cell_type": "code",
   "execution_count": 32,
   "id": "4ac760d9",
   "metadata": {},
   "outputs": [
    {
     "name": "stdout",
     "output_type": "stream",
     "text": [
      "Jaccard Score: 0.29932596919653\n",
      "MAR@10: 0.03337140810385215\n",
      "MAP@10: 0.17366341800063934\n"
     ]
    }
   ],
   "source": [
    "evaluate(y_true, y_pred)"
   ]
  }
 ],
 "metadata": {
  "kernelspec": {
   "display_name": "Python 3 (ipykernel)",
   "language": "python",
   "name": "python3"
  },
  "language_info": {
   "codemirror_mode": {
    "name": "ipython",
    "version": 3
   },
   "file_extension": ".py",
   "mimetype": "text/x-python",
   "name": "python",
   "nbconvert_exporter": "python",
   "pygments_lexer": "ipython3",
   "version": "3.8.12"
  }
 },
 "nbformat": 4,
 "nbformat_minor": 5
}
