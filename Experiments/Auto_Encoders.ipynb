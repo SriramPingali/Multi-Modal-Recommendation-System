{
 "cells": [
  {
   "cell_type": "markdown",
   "id": "692b6491",
   "metadata": {},
   "source": [
    "# Setup"
   ]
  },
  {
   "cell_type": "code",
   "execution_count": 1,
   "id": "0ff90498",
   "metadata": {},
   "outputs": [],
   "source": [
    "import os\n",
    "os.environ[\"CUDA_VISIBLE_DEVICES\"]=\"4\"\n",
    "os.environ[\"CUDA_LAUNCH_BLOCKING\"]=\"1, 2, 3, 4\""
   ]
  },
  {
   "cell_type": "code",
   "execution_count": 2,
   "id": "5054d1f2",
   "metadata": {},
   "outputs": [],
   "source": [
    "import numpy as np\n",
    "import pandas as pd\n",
    "\n",
    "from sklearn.metrics.pairwise import cosine_similarity"
   ]
  },
  {
   "cell_type": "markdown",
   "id": "aef5c06f",
   "metadata": {},
   "source": [
    "# Import Data"
   ]
  },
  {
   "cell_type": "code",
   "execution_count": 3,
   "id": "50d58348",
   "metadata": {},
   "outputs": [],
   "source": [
    "items = pd.read_csv(\"../Datasets/ml-100k/Text/items.csv\")\n",
    "\n",
    "r_cols = ['user_id', 'movie_id', 'rating', 'unix_timestamp']\n",
    "ratings = pd.read_csv('../Datasets/ml-100k/Text/u.data', sep='\\t', names=r_cols,encoding='latin-1')"
   ]
  },
  {
   "cell_type": "code",
   "execution_count": 4,
   "id": "b2373ad1",
   "metadata": {},
   "outputs": [],
   "source": [
    "n_users = ratings.user_id.unique().shape[0]\n",
    "n_items = ratings.movie_id.unique().shape[0]"
   ]
  },
  {
   "cell_type": "code",
   "execution_count": 5,
   "id": "1c5dab53",
   "metadata": {},
   "outputs": [],
   "source": [
    "data_matrix = np.zeros((n_users, n_items))\n",
    "for line in ratings.itertuples():\n",
    "    data_matrix[line[1]-1, line[2]-1] = line[3]"
   ]
  },
  {
   "cell_type": "code",
   "execution_count": 6,
   "id": "661915da",
   "metadata": {},
   "outputs": [],
   "source": [
    "data_matrix_emp = data_matrix.copy()\n",
    "data_matrix_emp[data_matrix < 4] = 0\n",
    "data_matrix_emp[data_matrix >= 4]= 1 "
   ]
  },
  {
   "cell_type": "code",
   "execution_count": 7,
   "id": "92d4e998",
   "metadata": {},
   "outputs": [],
   "source": [
    "indices = list(zip(*(np.where(data_matrix != 0))))"
   ]
  },
  {
   "cell_type": "code",
   "execution_count": 8,
   "id": "346fb5c7",
   "metadata": {},
   "outputs": [
    {
     "data": {
      "text/plain": [
       "(array([0., 1., 2., 3., 4., 5.]),\n",
       " array([1486126,    6110,   11370,   27145,   34174,   21201]))"
      ]
     },
     "execution_count": 8,
     "metadata": {},
     "output_type": "execute_result"
    }
   ],
   "source": [
    "np.unique(data_matrix, return_counts=True)"
   ]
  },
  {
   "cell_type": "code",
   "execution_count": 9,
   "id": "5fce506a",
   "metadata": {},
   "outputs": [],
   "source": [
    "items_csv = \"../Datasets/ml-100k/Text/items.csv\"\n",
    "train_ratings = \"../Datasets/ml-100k/Text/u1.base\"\n",
    "test_ratings = \"../Datasets/ml-100k/Text/u1.test\"\n",
    "embeddings = \"../Datasets/ml-100k/Video/embeddings.csv\""
   ]
  },
  {
   "cell_type": "code",
   "execution_count": 10,
   "id": "d40888f6",
   "metadata": {},
   "outputs": [],
   "source": [
    "embeddings_ = pd.read_csv(embeddings).to_numpy()"
   ]
  },
  {
   "cell_type": "code",
   "execution_count": 11,
   "id": "1a3be1e7",
   "metadata": {},
   "outputs": [
    {
     "data": {
      "text/plain": [
       "(1682, 2048)"
      ]
     },
     "execution_count": 11,
     "metadata": {},
     "output_type": "execute_result"
    }
   ],
   "source": [
    "embeddings_.shape"
   ]
  },
  {
   "cell_type": "markdown",
   "id": "6969385c",
   "metadata": {},
   "source": [
    "# Encoder network"
   ]
  },
  {
   "cell_type": "markdown",
   "id": "41e75e2a",
   "metadata": {},
   "source": [
    "## Data loader"
   ]
  },
  {
   "cell_type": "code",
   "execution_count": 12,
   "id": "8bcef385",
   "metadata": {},
   "outputs": [],
   "source": [
    "import torch\n",
    "from sklearn.preprocessing import normalize\n",
    "from torch.utils.data import Dataset, DataLoader\n",
    "from sklearn.metrics import confusion_matrix, classification_report\n",
    "from sklearn.metrics import f1_score, precision_score, recall_score"
   ]
  },
  {
   "cell_type": "code",
   "execution_count": 13,
   "id": "86f11aad",
   "metadata": {},
   "outputs": [
    {
     "data": {
      "text/plain": [
       "True"
      ]
     },
     "execution_count": 13,
     "metadata": {},
     "output_type": "execute_result"
    }
   ],
   "source": [
    "torch.cuda.is_available()"
   ]
  },
  {
   "cell_type": "code",
   "execution_count": 14,
   "id": "89cc8a89",
   "metadata": {},
   "outputs": [
    {
     "data": {
      "text/plain": [
       "'1.10.1'"
      ]
     },
     "execution_count": 14,
     "metadata": {},
     "output_type": "execute_result"
    }
   ],
   "source": [
    "torch.__version__"
   ]
  },
  {
   "cell_type": "code",
   "execution_count": 15,
   "id": "38e64af3",
   "metadata": {},
   "outputs": [],
   "source": [
    "device = torch.device(\"cuda:0\" if torch.cuda.is_available() else \"cpu\")"
   ]
  },
  {
   "cell_type": "code",
   "execution_count": 16,
   "id": "3ac83157",
   "metadata": {},
   "outputs": [],
   "source": [
    "class MovielensDataset(Dataset):\n",
    "    def __init__(self, items_csv = items_csv, ratings = train_ratings, \n",
    "                 embeddings = embeddings, indices = indices, device = device):\n",
    "        self.items = pd.read_csv(items_csv).to_numpy()\n",
    "        self.item_embeddings = pd.read_csv(embeddings).to_numpy()\n",
    "        self.ratings = pd.read_csv(ratings, sep='\\t', \n",
    "                                   names=['user_id', 'movie_id', 'rating', 'unix_timestamp'],encoding='latin-1')\n",
    "        self.indices = indices\n",
    "        self.device = device\n",
    "        self.data = None\n",
    "        self.data_emp = None\n",
    "        self.n_users = None\n",
    "        self.n_items = None\n",
    "        self.fill_ratings()\n",
    "        self.embeddings()\n",
    "    \n",
    "    def fill_ratings(self, threshold=4):\n",
    "        self.n_users = self.ratings.user_id.unique().shape[0]\n",
    "        self.n_items = self.ratings.movie_id.unique().shape[0]\n",
    "        \n",
    "        self.data = np.zeros((943, 1682))\n",
    "        for line in self.ratings.itertuples():\n",
    "            self.data[line[1]-1, line[2]-1] = line[3]\n",
    "        \n",
    "    def embeddings(self):\n",
    "        self.item_embeddings = np.nan_to_num(self.item_embeddings)\n",
    "        self.item_embeddings = normalize(self.item_embeddings, axis=1, norm='l2')\n",
    "        self.user_embeddings = self.data\n",
    "#         self.user_embeddings = normalize(self.user_embeddings, axis=1, norm='l1')\n",
    "        self.item_embedding_size = self.item_embeddings.shape[1]\n",
    "        self.user_embedding_size = self.data.shape[1]\n",
    "        \n",
    "    def __len__(self):\n",
    "        return(len(self.indices))\n",
    "    \n",
    "    def __getitem__(self, idx):\n",
    "        user = self.indices[idx][0]\n",
    "        item = self.indices[idx][1]\n",
    "\n",
    "        x1 = torch.from_numpy(self.user_embeddings[user]).to(self.device)\n",
    "        x2 = torch.from_numpy(self.item_embeddings[item]).to(self.device)\n",
    "        \n",
    "        y = self.data[user][item]\n",
    "        return(x1.float(), x2.float(), int(y))"
   ]
  },
  {
   "cell_type": "code",
   "execution_count": 17,
   "id": "fba19cff",
   "metadata": {},
   "outputs": [],
   "source": [
    "train_dataset = MovielensDataset(ratings = train_ratings)\n",
    "test_dataset = MovielensDataset(ratings = test_ratings)"
   ]
  },
  {
   "cell_type": "code",
   "execution_count": 18,
   "id": "65503aab",
   "metadata": {},
   "outputs": [],
   "source": [
    "trainloader = DataLoader(train_dataset, batch_size = 30000, shuffle = True)\n",
    "validloader = DataLoader(test_dataset, batch_size = 10000, shuffle = False)"
   ]
  },
  {
   "cell_type": "markdown",
   "id": "84adc387",
   "metadata": {},
   "source": [
    "## Architecture"
   ]
  },
  {
   "cell_type": "code",
   "execution_count": 19,
   "id": "e4ee32d5",
   "metadata": {},
   "outputs": [],
   "source": [
    "from tqdm import tqdm\n",
    "import torch.nn as nn\n",
    "import torch.optim as optim\n",
    "import torch.nn.functional as F\n",
    "from collections import OrderedDict"
   ]
  },
  {
   "cell_type": "code",
   "execution_count": 20,
   "id": "9f3398bf",
   "metadata": {},
   "outputs": [],
   "source": [
    "from ml_metrics import mapk\n",
    "from recmetrics import mark"
   ]
  },
  {
   "cell_type": "code",
   "execution_count": 21,
   "id": "849fd0c2",
   "metadata": {},
   "outputs": [],
   "source": [
    "class SiameseNet(nn.Module):\n",
    "    def __init__(self, device = device):\n",
    "        super(SiameseNet, self).__init__()\n",
    "        self.encoder_user = nn.Sequential(OrderedDict([\n",
    "            ('linr1', nn.Linear(train_dataset.user_embedding_size, 512)),\n",
    "            ('relu1', nn.Sigmoid()),\n",
    "            ('linr2', nn.Linear(512, 300)),\n",
    "            ('relu2', nn.Sigmoid()),\n",
    "            ('linr3', nn.Linear(300, 256)),\n",
    "            ('relu3', nn.LeakyReLU()),\n",
    "            ('linr4', nn.Linear(256, 500)),\n",
    "            ('relu4', nn.LeakyReLU()),\n",
    "#             ('linr5', nn.Linear(300, dataset.item_embedding_size)),\n",
    "#             ('relu5', nn.LeakyReLU()),\n",
    "        ]))\n",
    "        self.decoder_user = nn.Sequential(OrderedDict([\n",
    "            ('linr1', nn.Linear(500, 256)),\n",
    "            ('relu1', nn.Sigmoid()),\n",
    "            ('linr2', nn.Linear(256, 300)),\n",
    "            ('relu2', nn.Sigmoid()),\n",
    "            ('linr3', nn.Linear(300, 512)),\n",
    "            ('relu3', nn.LeakyReLU()),\n",
    "            ('linr4', nn.Linear(512, train_dataset.user_embedding_size)),\n",
    "#             ('relu4', nn.LeakyReLU()),\n",
    "        ]))\n",
    "        self.encoder_item = nn.Sequential(OrderedDict([\n",
    "            ('linr1', nn.Linear(train_dataset.item_embedding_size, 1024)),\n",
    "            ('relu1', nn.Sigmoid()),\n",
    "            ('linr2', nn.Linear(1024, 512)),\n",
    "            ('relu2', nn.Sigmoid()),\n",
    "            ('linr3', nn.Linear(512, 500)),\n",
    "#             ('btch3', nn.BatchNorm1d(200)),\n",
    "#             ('relu3', nn.LeakyReLU()),\n",
    "        ]))\n",
    "        self.decoder_item = nn.Sequential(OrderedDict([\n",
    "            ('linr1', nn.Linear(500, 512)),\n",
    "            ('btch1', nn.BatchNorm1d(512)),\n",
    "            ('relu1', nn.Sigmoid()),\n",
    "            ('linr2', nn.Linear(512, 1024)),\n",
    "            ('relu2', nn.Sigmoid()),\n",
    "            ('linr3', nn.Linear(1024, train_dataset.item_embedding_size)),\n",
    "# #             ('drop3', nn.Dropout(p=0.1)),\n",
    "            ('btch3', nn.BatchNorm1d(train_dataset.item_embedding_size)),\n",
    "            ('relu3', nn.Sigmoid()),\n",
    "        ]))\n",
    "        \n",
    "        self.device = device\n",
    "        self.encoder_user.apply(self.init_weights)\n",
    "        self.encoder_item.apply(self.init_weights)\n",
    "        self.decoder_user.apply(self.init_weights)\n",
    "        self.decoder_item.apply(self.init_weights)\n",
    "        \n",
    "    def init_weights(self, m):\n",
    "        if isinstance(m, nn.Linear):\n",
    "            nn.init.xavier_uniform_(m.weight)\n",
    "            m.bias.data.fill_(0.01)\n",
    "        \n",
    "    def forward(self, x1, x2):\n",
    "        emb1 = self.encoder_user(x1)\n",
    "        emb2 = self.encoder_item(x2)\n",
    "        out1 = self.decoder_user(emb1)\n",
    "        out2 = self.decoder_item(emb2)\n",
    "        \n",
    "        return(emb1, emb2, out1, out2)\n",
    "    \n",
    "    def fit(self, trainloader = trainloader, \n",
    "            validloader = validloader, epochs = 100):\n",
    "        self.criterion_recon = nn.MSELoss()\n",
    "        self.criterion_embed = nn.CosineEmbeddingLoss()\n",
    "        self.optimizer = optim.Adam(self.parameters(), lr = 0.005, weight_decay = 1e-4)\n",
    "        \n",
    "        train_loss = []\n",
    "        test_loss = []\n",
    "        for epoch in range(epochs):\n",
    "            running_loss = 0.0\n",
    "            early_stop = 0\n",
    "            \n",
    "            for i, data in tqdm(enumerate(trainloader)):\n",
    "                self.train()\n",
    "                x1, x2, y = data\n",
    "                y_flt = y.type(torch.LongTensor).to(device)\n",
    "                y_lng = torch.div(y, 4, rounding_mode=\"floor\").to(device)\n",
    "                self.optimizer.zero_grad()\n",
    "                emb1, emb2, out1, out2 = self.forward(x1, x2)\n",
    "                loss_1 = self.criterion_recon(x1, out1)\n",
    "                loss_2 = self.criterion_recon(x2, out2)\n",
    "                loss_3 = self.criterion_embed(emb1, emb2, y_lng * 2 - 1)\n",
    "                loss = loss_1 + loss_3 + loss_2\n",
    "                loss.backward()\n",
    "                self.optimizer.step()\n",
    "\n",
    "                running_loss += loss\n",
    "            val_loss = self.evaluate()\n",
    "            \n",
    "            print('Epoch-%d: Train Loss = %.3f Test Loss = %.3f'%\n",
    "                  (epoch + 1, running_loss / i, val_loss))\n",
    "            train_loss.append((running_loss / i).cpu().detach().numpy())\n",
    "            test_loss.append(val_loss.cpu().detach().numpy())\n",
    "        return(train_loss, test_loss)\n",
    "            \n",
    "    def evaluate(self, k = 3):\n",
    "        self.eval()\n",
    "        with torch.no_grad():\n",
    "            valdata = next(iter(validloader))\n",
    "            x1, x2, y = valdata\n",
    "            y_flt = y.type(torch.FloatTensor).to(device)\n",
    "            y_lng = torch.div(y, 4, rounding_mode=\"floor\").to(device)\n",
    "            emb1, emb2, out1, out2 = self.forward(x1, x2)\n",
    "            loss_1 = self.criterion_recon(x1, out1)\n",
    "            loss_2 = self.criterion_recon(x2, out2)\n",
    "            loss_3 = self.criterion_embed(emb1, emb2, y_lng * 2 - 1)\n",
    "            print(loss_1, loss_2, loss_3)\n",
    "            loss = (loss_1 + loss_3 + loss_2) \n",
    "        return(loss)\n",
    "    \n",
    "    def predict(self, data):\n",
    "        return(self.encoder_user(torch.Tensor(data).to(device)).cpu().detach().numpy())"
   ]
  },
  {
   "cell_type": "code",
   "execution_count": 22,
   "id": "59940bce",
   "metadata": {},
   "outputs": [
    {
     "data": {
      "text/plain": [
       "SiameseNet(\n",
       "  (encoder_user): Sequential(\n",
       "    (linr1): Linear(in_features=1682, out_features=512, bias=True)\n",
       "    (relu1): Sigmoid()\n",
       "    (linr2): Linear(in_features=512, out_features=300, bias=True)\n",
       "    (relu2): Sigmoid()\n",
       "    (linr3): Linear(in_features=300, out_features=256, bias=True)\n",
       "    (relu3): LeakyReLU(negative_slope=0.01)\n",
       "    (linr4): Linear(in_features=256, out_features=500, bias=True)\n",
       "    (relu4): LeakyReLU(negative_slope=0.01)\n",
       "  )\n",
       "  (decoder_user): Sequential(\n",
       "    (linr1): Linear(in_features=500, out_features=256, bias=True)\n",
       "    (relu1): Sigmoid()\n",
       "    (linr2): Linear(in_features=256, out_features=300, bias=True)\n",
       "    (relu2): Sigmoid()\n",
       "    (linr3): Linear(in_features=300, out_features=512, bias=True)\n",
       "    (relu3): LeakyReLU(negative_slope=0.01)\n",
       "    (linr4): Linear(in_features=512, out_features=1682, bias=True)\n",
       "  )\n",
       "  (encoder_item): Sequential(\n",
       "    (linr1): Linear(in_features=2048, out_features=1024, bias=True)\n",
       "    (relu1): Sigmoid()\n",
       "    (linr2): Linear(in_features=1024, out_features=512, bias=True)\n",
       "    (relu2): Sigmoid()\n",
       "    (linr3): Linear(in_features=512, out_features=500, bias=True)\n",
       "  )\n",
       "  (decoder_item): Sequential(\n",
       "    (linr1): Linear(in_features=500, out_features=512, bias=True)\n",
       "    (btch1): BatchNorm1d(512, eps=1e-05, momentum=0.1, affine=True, track_running_stats=True)\n",
       "    (relu1): Sigmoid()\n",
       "    (linr2): Linear(in_features=512, out_features=1024, bias=True)\n",
       "    (relu2): Sigmoid()\n",
       "    (linr3): Linear(in_features=1024, out_features=2048, bias=True)\n",
       "    (btch3): BatchNorm1d(2048, eps=1e-05, momentum=0.1, affine=True, track_running_stats=True)\n",
       "    (relu3): Sigmoid()\n",
       "  )\n",
       ")"
      ]
     },
     "execution_count": 22,
     "metadata": {},
     "output_type": "execute_result"
    }
   ],
   "source": [
    "sm_net = SiameseNet()\n",
    "sm_net.to(device)"
   ]
  },
  {
   "cell_type": "code",
   "execution_count": null,
   "id": "cd3d80be",
   "metadata": {
    "scrolled": true
   },
   "outputs": [
    {
     "name": "stderr",
     "output_type": "stream",
     "text": [
      "4it [01:50, 27.71s/it]\n"
     ]
    },
    {
     "name": "stdout",
     "output_type": "stream",
     "text": [
      "tensor(0.7173, device='cuda:0') tensor(0.0840, device='cuda:0') tensor(0.3671, device='cuda:0')\n",
      "Epoch-1: Train Loss = 2.580 Test Loss = 1.168\n"
     ]
    },
    {
     "name": "stderr",
     "output_type": "stream",
     "text": [
      "4it [01:49, 27.26s/it]\n"
     ]
    },
    {
     "name": "stdout",
     "output_type": "stream",
     "text": [
      "tensor(0.7617, device='cuda:0') tensor(0.0761, device='cuda:0') tensor(0.3468, device='cuda:0')\n",
      "Epoch-2: Train Loss = 2.275 Test Loss = 1.185\n"
     ]
    },
    {
     "name": "stderr",
     "output_type": "stream",
     "text": [
      "1it [00:33, 33.35s/it]"
     ]
    }
   ],
   "source": [
    "train_loss, test_loss = sm_net.fit()"
   ]
  },
  {
   "cell_type": "code",
   "execution_count": null,
   "id": "2e011c07",
   "metadata": {},
   "outputs": [],
   "source": [
    "import matplotlib.pyplot as plt\n",
    "\n",
    "plt.plot(train_loss, label = \"Train Loss\")\n",
    "plt.plot(test_loss, label = \"Test Loss\")\n",
    "plt.legend()\n",
    "plt.show()"
   ]
  },
  {
   "cell_type": "code",
   "execution_count": null,
   "id": "6a083187",
   "metadata": {},
   "outputs": [],
   "source": [
    "# output_user = sm_net.encoder_user(torch.Tensor(data_matrix).to(device)).cpu().detach().numpy()"
   ]
  },
  {
   "cell_type": "code",
   "execution_count": null,
   "id": "b0e88a0c",
   "metadata": {},
   "outputs": [],
   "source": [
    "# pd.DataFrame(output_user).to_csv(\"user.csv\", index = False)"
   ]
  },
  {
   "cell_type": "code",
   "execution_count": null,
   "id": "cfe51284",
   "metadata": {},
   "outputs": [],
   "source": [
    "# sm_net.decoder_user(torch.Tensor(output_user).to(device)).cpu().detach().numpy()"
   ]
  },
  {
   "cell_type": "code",
   "execution_count": null,
   "id": "19effc16",
   "metadata": {},
   "outputs": [],
   "source": [
    "# data_matrix"
   ]
  },
  {
   "cell_type": "code",
   "execution_count": null,
   "id": "a6ebfb10",
   "metadata": {},
   "outputs": [],
   "source": [
    "output_item = sm_net.encoder_item(torch.Tensor(embeddings_).to(device)).cpu().detach().numpy()"
   ]
  },
  {
   "cell_type": "code",
   "execution_count": null,
   "id": "a976421e",
   "metadata": {},
   "outputs": [],
   "source": [
    "pd.DataFrame(output_item).to_csv(\"../Datasets/ml-100k/Compressed/video.csv\", index = False)"
   ]
  },
  {
   "cell_type": "code",
   "execution_count": null,
   "id": "cbc1f9ac",
   "metadata": {},
   "outputs": [],
   "source": [
    "sm_net.decoder_item(torch.Tensor(output_item).to(device)).cpu().detach().numpy()"
   ]
  },
  {
   "cell_type": "code",
   "execution_count": null,
   "id": "924d5f9d",
   "metadata": {},
   "outputs": [],
   "source": [
    "embeddings_"
   ]
  },
  {
   "cell_type": "markdown",
   "id": "3e8ea5e1",
   "metadata": {},
   "source": [
    "##### "
   ]
  }
 ],
 "metadata": {
  "kernelspec": {
   "display_name": "Python 3",
   "language": "python",
   "name": "python3"
  },
  "language_info": {
   "codemirror_mode": {
    "name": "ipython",
    "version": 3
   },
   "file_extension": ".py",
   "mimetype": "text/x-python",
   "name": "python",
   "nbconvert_exporter": "python",
   "pygments_lexer": "ipython3",
   "version": "3.9.7"
  }
 },
 "nbformat": 4,
 "nbformat_minor": 5
}
