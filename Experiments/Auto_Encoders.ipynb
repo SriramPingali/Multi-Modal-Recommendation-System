{
 "cells": [
  {
   "cell_type": "markdown",
   "id": "692b6491",
   "metadata": {},
   "source": [
    "# Setup"
   ]
  },
  {
   "cell_type": "code",
   "execution_count": 1,
   "id": "0ff90498",
   "metadata": {},
   "outputs": [],
   "source": [
    "import os\n",
    "os.environ[\"CUDA_VISIBLE_DEVICES\"]=\"4\"\n",
    "os.environ[\"CUDA_LAUNCH_BLOCKING\"]=\"1, 2, 3, 4\""
   ]
  },
  {
   "cell_type": "code",
   "execution_count": 2,
   "id": "5054d1f2",
   "metadata": {},
   "outputs": [],
   "source": [
    "import numpy as np\n",
    "import pandas as pd\n",
    "\n",
    "from sklearn.metrics.pairwise import cosine_similarity"
   ]
  },
  {
   "cell_type": "markdown",
   "id": "aef5c06f",
   "metadata": {},
   "source": [
    "# Import Data"
   ]
  },
  {
   "cell_type": "code",
   "execution_count": 3,
   "id": "50d58348",
   "metadata": {},
   "outputs": [],
   "source": [
    "items = pd.read_csv(\"../Datasets/ml-100k/Text/items.csv\")\n",
    "\n",
    "r_cols = ['user_id', 'movie_id', 'rating', 'unix_timestamp']\n",
    "ratings = pd.read_csv('../Datasets/ml-100k/Text/u.data', sep='\\t', names=r_cols,encoding='latin-1')"
   ]
  },
  {
   "cell_type": "code",
   "execution_count": 4,
   "id": "b2373ad1",
   "metadata": {},
   "outputs": [],
   "source": [
    "n_users = ratings.user_id.unique().shape[0]\n",
    "n_items = ratings.movie_id.unique().shape[0]"
   ]
  },
  {
   "cell_type": "code",
   "execution_count": 5,
   "id": "1c5dab53",
   "metadata": {},
   "outputs": [],
   "source": [
    "data_matrix = np.zeros((n_users, n_items))\n",
    "for line in ratings.itertuples():\n",
    "    data_matrix[line[1]-1, line[2]-1] = line[3]"
   ]
  },
  {
   "cell_type": "code",
   "execution_count": 6,
   "id": "661915da",
   "metadata": {},
   "outputs": [],
   "source": [
    "data_matrix_emp = data_matrix.copy()\n",
    "data_matrix_emp[data_matrix < 4] = 0\n",
    "data_matrix_emp[data_matrix >= 4]= 1 "
   ]
  },
  {
   "cell_type": "code",
   "execution_count": 7,
   "id": "92d4e998",
   "metadata": {},
   "outputs": [],
   "source": [
    "indices = list(zip(*(np.where(data_matrix != 0))))"
   ]
  },
  {
   "cell_type": "code",
   "execution_count": 8,
   "id": "346fb5c7",
   "metadata": {},
   "outputs": [
    {
     "data": {
      "text/plain": [
       "(array([0., 1., 2., 3., 4., 5.]),\n",
       " array([1486126,    6110,   11370,   27145,   34174,   21201]))"
      ]
     },
     "execution_count": 8,
     "metadata": {},
     "output_type": "execute_result"
    }
   ],
   "source": [
    "np.unique(data_matrix, return_counts=True)"
   ]
  },
  {
   "cell_type": "code",
   "execution_count": 9,
   "id": "5fce506a",
   "metadata": {},
   "outputs": [],
   "source": [
    "items_csv = \"../Datasets/ml-100k/Text/items.csv\"\n",
    "train_ratings = \"../Datasets/ml-100k/Text/u1.base\"\n",
    "test_ratings = \"../Datasets/ml-100k/Text/u1.test\"\n",
    "embeddings = \"../Datasets/ml-100k/Video/embeddings.csv\""
   ]
  },
  {
   "cell_type": "code",
   "execution_count": 10,
   "id": "d40888f6",
   "metadata": {},
   "outputs": [],
   "source": [
    "embeddings_ = pd.read_csv(embeddings).to_numpy()"
   ]
  },
  {
   "cell_type": "code",
   "execution_count": 11,
   "id": "1a3be1e7",
   "metadata": {},
   "outputs": [
    {
     "data": {
      "text/plain": [
       "(1682, 2048)"
      ]
     },
     "execution_count": 11,
     "metadata": {},
     "output_type": "execute_result"
    }
   ],
   "source": [
    "embeddings_.shape"
   ]
  },
  {
   "cell_type": "markdown",
   "id": "6969385c",
   "metadata": {},
   "source": [
    "# Encoder network"
   ]
  },
  {
   "cell_type": "markdown",
   "id": "41e75e2a",
   "metadata": {},
   "source": [
    "## Data loader"
   ]
  },
  {
   "cell_type": "code",
   "execution_count": 12,
   "id": "8bcef385",
   "metadata": {},
   "outputs": [],
   "source": [
    "import torch\n",
    "from sklearn.preprocessing import normalize\n",
    "from torch.utils.data import Dataset, DataLoader\n",
    "from sklearn.metrics import confusion_matrix, classification_report\n",
    "from sklearn.metrics import f1_score, precision_score, recall_score"
   ]
  },
  {
   "cell_type": "code",
   "execution_count": 13,
   "id": "86f11aad",
   "metadata": {},
   "outputs": [
    {
     "data": {
      "text/plain": [
       "True"
      ]
     },
     "execution_count": 13,
     "metadata": {},
     "output_type": "execute_result"
    }
   ],
   "source": [
    "torch.cuda.is_available()"
   ]
  },
  {
   "cell_type": "code",
   "execution_count": 14,
   "id": "89cc8a89",
   "metadata": {},
   "outputs": [
    {
     "data": {
      "text/plain": [
       "'1.10.1'"
      ]
     },
     "execution_count": 14,
     "metadata": {},
     "output_type": "execute_result"
    }
   ],
   "source": [
    "torch.__version__"
   ]
  },
  {
   "cell_type": "code",
   "execution_count": 15,
   "id": "38e64af3",
   "metadata": {},
   "outputs": [],
   "source": [
    "device = torch.device(\"cuda:0\" if torch.cuda.is_available() else \"cpu\")"
   ]
  },
  {
   "cell_type": "code",
   "execution_count": 16,
   "id": "3ac83157",
   "metadata": {},
   "outputs": [],
   "source": [
    "class MovielensDataset(Dataset):\n",
    "    def __init__(self, items_csv = items_csv, ratings = train_ratings, \n",
    "                 embeddings = embeddings, indices = indices, device = device):\n",
    "        self.items = pd.read_csv(items_csv).to_numpy()\n",
    "        self.item_embeddings = pd.read_csv(embeddings).to_numpy()\n",
    "        self.ratings = pd.read_csv(ratings, sep='\\t', \n",
    "                                   names=['user_id', 'movie_id', 'rating', 'unix_timestamp'],encoding='latin-1')\n",
    "        self.indices = indices\n",
    "        self.device = device\n",
    "        self.data = None\n",
    "        self.data_emp = None\n",
    "        self.n_users = None\n",
    "        self.n_items = None\n",
    "        self.fill_ratings()\n",
    "        self.embeddings()\n",
    "    \n",
    "    def fill_ratings(self, threshold=4):\n",
    "        self.n_users = self.ratings.user_id.unique().shape[0]\n",
    "        self.n_items = self.ratings.movie_id.unique().shape[0]\n",
    "        \n",
    "        self.data = np.zeros((943, 1682))\n",
    "        for line in self.ratings.itertuples():\n",
    "            self.data[line[1]-1, line[2]-1] = line[3]\n",
    "        \n",
    "    def embeddings(self):\n",
    "        self.item_embeddings = np.nan_to_num(self.item_embeddings)\n",
    "        self.item_embeddings = normalize(self.item_embeddings, axis=1, norm='l2')\n",
    "        self.user_embeddings = self.data\n",
    "#         self.user_embeddings = normalize(self.user_embeddings, axis=1, norm='l1')\n",
    "        self.item_embedding_size = self.item_embeddings.shape[1]\n",
    "        self.user_embedding_size = self.data.shape[1]\n",
    "        \n",
    "    def __len__(self):\n",
    "        return(len(self.indices))\n",
    "    \n",
    "    def __getitem__(self, idx):\n",
    "        user = self.indices[idx][0]\n",
    "        item = self.indices[idx][1]\n",
    "\n",
    "        x1 = torch.from_numpy(self.user_embeddings[user]).to(self.device)\n",
    "        x2 = torch.from_numpy(self.item_embeddings[item]).to(self.device)\n",
    "        \n",
    "        y = self.data[user][item]\n",
    "        return(x1.float(), x2.float(), int(y))"
   ]
  },
  {
   "cell_type": "code",
   "execution_count": 17,
   "id": "fba19cff",
   "metadata": {},
   "outputs": [],
   "source": [
    "train_dataset = MovielensDataset(ratings = train_ratings)\n",
    "test_dataset = MovielensDataset(ratings = test_ratings)"
   ]
  },
  {
   "cell_type": "code",
   "execution_count": 18,
   "id": "65503aab",
   "metadata": {},
   "outputs": [],
   "source": [
    "trainloader = DataLoader(train_dataset, batch_size = 30000, shuffle = True)\n",
    "validloader = DataLoader(test_dataset, batch_size = 10000, shuffle = False)"
   ]
  },
  {
   "cell_type": "markdown",
   "id": "84adc387",
   "metadata": {},
   "source": [
    "## Architecture"
   ]
  },
  {
   "cell_type": "code",
   "execution_count": 19,
   "id": "e4ee32d5",
   "metadata": {},
   "outputs": [],
   "source": [
    "from tqdm import tqdm\n",
    "import torch.nn as nn\n",
    "import torch.optim as optim\n",
    "import torch.nn.functional as F\n",
    "from collections import OrderedDict"
   ]
  },
  {
   "cell_type": "code",
   "execution_count": 20,
   "id": "9f3398bf",
   "metadata": {},
   "outputs": [],
   "source": [
    "from ml_metrics import mapk\n",
    "from recmetrics import mark"
   ]
  },
  {
   "cell_type": "code",
   "execution_count": 21,
   "id": "849fd0c2",
   "metadata": {},
   "outputs": [],
   "source": [
    "class SiameseNet(nn.Module):\n",
    "    def __init__(self, device = device):\n",
    "        super(SiameseNet, self).__init__()\n",
    "        self.encoder_user = nn.Sequential(OrderedDict([\n",
    "            ('linr1', nn.Linear(train_dataset.user_embedding_size, 512)),\n",
    "            ('relu1', nn.Sigmoid()),\n",
    "            ('linr2', nn.Linear(512, 300)),\n",
    "            ('relu2', nn.Sigmoid()),\n",
    "            ('linr3', nn.Linear(300, 256)),\n",
    "            ('relu3', nn.LeakyReLU()),\n",
    "            ('linr4', nn.Linear(256, 500)),\n",
    "            ('relu4', nn.LeakyReLU()),\n",
    "#             ('linr5', nn.Linear(300, dataset.item_embedding_size)),\n",
    "#             ('relu5', nn.LeakyReLU()),\n",
    "        ]))\n",
    "        self.decoder_user = nn.Sequential(OrderedDict([\n",
    "            ('linr1', nn.Linear(500, 256)),\n",
    "            ('relu1', nn.Sigmoid()),\n",
    "            ('linr2', nn.Linear(256, 300)),\n",
    "            ('relu2', nn.Sigmoid()),\n",
    "            ('linr3', nn.Linear(300, 512)),\n",
    "            ('relu3', nn.LeakyReLU()),\n",
    "            ('linr4', nn.Linear(512, train_dataset.user_embedding_size)),\n",
    "#             ('relu4', nn.LeakyReLU()),\n",
    "        ]))\n",
    "        self.encoder_item = nn.Sequential(OrderedDict([\n",
    "            ('linr1', nn.Linear(train_dataset.item_embedding_size, 1024)),\n",
    "            ('relu1', nn.Sigmoid()),\n",
    "            ('linr2', nn.Linear(1024, 512)),\n",
    "            ('relu2', nn.Sigmoid()),\n",
    "            ('linr3', nn.Linear(512, 500)),\n",
    "#             ('btch3', nn.BatchNorm1d(200)),\n",
    "#             ('relu3', nn.LeakyReLU()),\n",
    "        ]))\n",
    "        self.decoder_item = nn.Sequential(OrderedDict([\n",
    "            ('linr1', nn.Linear(500, 512)),\n",
    "            ('btch1', nn.BatchNorm1d(512)),\n",
    "            ('relu1', nn.Sigmoid()),\n",
    "            ('linr2', nn.Linear(512, 1024)),\n",
    "            ('relu2', nn.Sigmoid()),\n",
    "            ('linr3', nn.Linear(1024, train_dataset.item_embedding_size)),\n",
    "# #             ('drop3', nn.Dropout(p=0.1)),\n",
    "            ('btch3', nn.BatchNorm1d(train_dataset.item_embedding_size)),\n",
    "            ('relu3', nn.Sigmoid()),\n",
    "        ]))\n",
    "        \n",
    "        self.device = device\n",
    "        self.encoder_user.apply(self.init_weights)\n",
    "        self.encoder_item.apply(self.init_weights)\n",
    "        self.decoder_user.apply(self.init_weights)\n",
    "        self.decoder_item.apply(self.init_weights)\n",
    "        \n",
    "    def init_weights(self, m):\n",
    "        if isinstance(m, nn.Linear):\n",
    "            nn.init.xavier_uniform_(m.weight)\n",
    "            m.bias.data.fill_(0.01)\n",
    "        \n",
    "    def forward(self, x1, x2):\n",
    "        emb1 = self.encoder_user(x1)\n",
    "        emb2 = self.encoder_item(x2)\n",
    "        out1 = self.decoder_user(emb1)\n",
    "        out2 = self.decoder_item(emb2)\n",
    "        \n",
    "        return(emb1, emb2, out1, out2)\n",
    "    \n",
    "    def fit(self, trainloader = trainloader, \n",
    "            validloader = validloader, epochs = 100):\n",
    "        self.criterion_recon = nn.MSELoss()\n",
    "        self.criterion_embed = nn.CosineEmbeddingLoss()\n",
    "        self.optimizer = optim.Adam(self.parameters(), lr = 0.005, weight_decay = 1e-4)\n",
    "        \n",
    "        train_loss = []\n",
    "        test_loss = []\n",
    "        for epoch in range(epochs):\n",
    "            running_loss = 0.0\n",
    "            early_stop = 0\n",
    "            \n",
    "            for i, data in tqdm(enumerate(trainloader)):\n",
    "                self.train()\n",
    "                x1, x2, y = data\n",
    "                y_flt = y.type(torch.LongTensor).to(device)\n",
    "                y_lng = torch.div(y, 4, rounding_mode=\"floor\").to(device)\n",
    "                self.optimizer.zero_grad()\n",
    "                emb1, emb2, out1, out2 = self.forward(x1, x2)\n",
    "                loss_1 = self.criterion_recon(x1, out1)\n",
    "                loss_2 = self.criterion_recon(x2, out2)\n",
    "                loss_3 = self.criterion_embed(emb1, emb2, y_lng * 2 - 1)\n",
    "                loss = loss_1 + loss_3 + loss_2\n",
    "                loss.backward()\n",
    "                self.optimizer.step()\n",
    "\n",
    "                running_loss += loss\n",
    "            val_loss = self.evaluate()\n",
    "            \n",
    "            print('Epoch-%d: Train Loss = %.3f Test Loss = %.3f'%\n",
    "                  (epoch + 1, running_loss / i, val_loss))\n",
    "            train_loss.append((running_loss / i).cpu().detach().numpy())\n",
    "            test_loss.append(val_loss.cpu().detach().numpy())\n",
    "        return(train_loss, test_loss)\n",
    "            \n",
    "    def evaluate(self, k = 3):\n",
    "        self.eval()\n",
    "        with torch.no_grad():\n",
    "            valdata = next(iter(validloader))\n",
    "            x1, x2, y = valdata\n",
    "            y_flt = y.type(torch.FloatTensor).to(device)\n",
    "            y_lng = torch.div(y, 4, rounding_mode=\"floor\").to(device)\n",
    "            emb1, emb2, out1, out2 = self.forward(x1, x2)\n",
    "            loss_1 = self.criterion_recon(x1, out1)\n",
    "            loss_2 = self.criterion_recon(x2, out2)\n",
    "            loss_3 = self.criterion_embed(emb1, emb2, y_lng * 2 - 1)\n",
    "            print(loss_1, loss_2, loss_3)\n",
    "            loss = (loss_1 + loss_3 + loss_2) \n",
    "        return(loss)\n",
    "    \n",
    "    def predict(self, data):\n",
    "        return(self.encoder_user(torch.Tensor(data).to(device)).cpu().detach().numpy())"
   ]
  },
  {
   "cell_type": "code",
   "execution_count": 22,
   "id": "59940bce",
   "metadata": {},
   "outputs": [
    {
     "data": {
      "text/plain": [
       "SiameseNet(\n",
       "  (encoder_user): Sequential(\n",
       "    (linr1): Linear(in_features=1682, out_features=512, bias=True)\n",
       "    (relu1): Sigmoid()\n",
       "    (linr2): Linear(in_features=512, out_features=300, bias=True)\n",
       "    (relu2): Sigmoid()\n",
       "    (linr3): Linear(in_features=300, out_features=256, bias=True)\n",
       "    (relu3): LeakyReLU(negative_slope=0.01)\n",
       "    (linr4): Linear(in_features=256, out_features=500, bias=True)\n",
       "    (relu4): LeakyReLU(negative_slope=0.01)\n",
       "  )\n",
       "  (decoder_user): Sequential(\n",
       "    (linr1): Linear(in_features=500, out_features=256, bias=True)\n",
       "    (relu1): Sigmoid()\n",
       "    (linr2): Linear(in_features=256, out_features=300, bias=True)\n",
       "    (relu2): Sigmoid()\n",
       "    (linr3): Linear(in_features=300, out_features=512, bias=True)\n",
       "    (relu3): LeakyReLU(negative_slope=0.01)\n",
       "    (linr4): Linear(in_features=512, out_features=1682, bias=True)\n",
       "  )\n",
       "  (encoder_item): Sequential(\n",
       "    (linr1): Linear(in_features=2048, out_features=1024, bias=True)\n",
       "    (relu1): Sigmoid()\n",
       "    (linr2): Linear(in_features=1024, out_features=512, bias=True)\n",
       "    (relu2): Sigmoid()\n",
       "    (linr3): Linear(in_features=512, out_features=500, bias=True)\n",
       "  )\n",
       "  (decoder_item): Sequential(\n",
       "    (linr1): Linear(in_features=500, out_features=512, bias=True)\n",
       "    (btch1): BatchNorm1d(512, eps=1e-05, momentum=0.1, affine=True, track_running_stats=True)\n",
       "    (relu1): Sigmoid()\n",
       "    (linr2): Linear(in_features=512, out_features=1024, bias=True)\n",
       "    (relu2): Sigmoid()\n",
       "    (linr3): Linear(in_features=1024, out_features=2048, bias=True)\n",
       "    (btch3): BatchNorm1d(2048, eps=1e-05, momentum=0.1, affine=True, track_running_stats=True)\n",
       "    (relu3): Sigmoid()\n",
       "  )\n",
       ")"
      ]
     },
     "execution_count": 22,
     "metadata": {},
     "output_type": "execute_result"
    }
   ],
   "source": [
    "sm_net = SiameseNet()\n",
    "sm_net.to(device)"
   ]
  },
  {
   "cell_type": "code",
   "execution_count": 23,
   "id": "cd3d80be",
   "metadata": {
    "scrolled": true
   },
   "outputs": [
    {
     "name": "stderr",
     "output_type": "stream",
     "text": [
      "4it [00:11,  2.95s/it]\n"
     ]
    },
    {
     "name": "stdout",
     "output_type": "stream",
     "text": [
      "tensor(0.7308, device='cuda:0') tensor(0.1797, device='cuda:0') tensor(0.3718, device='cuda:0')\n",
      "Epoch-1: Train Loss = 2.574 Test Loss = 1.282\n"
     ]
    },
    {
     "name": "stderr",
     "output_type": "stream",
     "text": [
      "4it [00:11,  2.75s/it]\n"
     ]
    },
    {
     "name": "stdout",
     "output_type": "stream",
     "text": [
      "tensor(0.7442, device='cuda:0') tensor(0.3235, device='cuda:0') tensor(0.3534, device='cuda:0')\n",
      "Epoch-2: Train Loss = 2.257 Test Loss = 1.421\n"
     ]
    },
    {
     "name": "stderr",
     "output_type": "stream",
     "text": [
      "4it [00:10,  2.73s/it]\n"
     ]
    },
    {
     "name": "stdout",
     "output_type": "stream",
     "text": [
      "tensor(0.7404, device='cuda:0') tensor(0.6189, device='cuda:0') tensor(0.2904, device='cuda:0')\n",
      "Epoch-3: Train Loss = 2.192 Test Loss = 1.650\n"
     ]
    },
    {
     "name": "stderr",
     "output_type": "stream",
     "text": [
      "4it [00:10,  2.69s/it]\n"
     ]
    },
    {
     "name": "stdout",
     "output_type": "stream",
     "text": [
      "tensor(0.7128, device='cuda:0') tensor(0.6974, device='cuda:0') tensor(0.2691, device='cuda:0')\n",
      "Epoch-4: Train Loss = 2.161 Test Loss = 1.679\n"
     ]
    },
    {
     "name": "stderr",
     "output_type": "stream",
     "text": [
      "4it [00:10,  2.72s/it]\n"
     ]
    },
    {
     "name": "stdout",
     "output_type": "stream",
     "text": [
      "tensor(0.7110, device='cuda:0') tensor(0.6847, device='cuda:0') tensor(0.2994, device='cuda:0')\n",
      "Epoch-5: Train Loss = 2.143 Test Loss = 1.695\n"
     ]
    },
    {
     "name": "stderr",
     "output_type": "stream",
     "text": [
      "4it [00:10,  2.70s/it]\n"
     ]
    },
    {
     "name": "stdout",
     "output_type": "stream",
     "text": [
      "tensor(0.7143, device='cuda:0') tensor(0.5621, device='cuda:0') tensor(0.2979, device='cuda:0')\n",
      "Epoch-6: Train Loss = 2.141 Test Loss = 1.574\n"
     ]
    },
    {
     "name": "stderr",
     "output_type": "stream",
     "text": [
      "4it [00:10,  2.71s/it]\n"
     ]
    },
    {
     "name": "stdout",
     "output_type": "stream",
     "text": [
      "tensor(0.7150, device='cuda:0') tensor(0.5370, device='cuda:0') tensor(0.2732, device='cuda:0')\n",
      "Epoch-7: Train Loss = 2.132 Test Loss = 1.525\n"
     ]
    },
    {
     "name": "stderr",
     "output_type": "stream",
     "text": [
      "4it [00:10,  2.69s/it]\n"
     ]
    },
    {
     "name": "stdout",
     "output_type": "stream",
     "text": [
      "tensor(0.7165, device='cuda:0') tensor(0.4771, device='cuda:0') tensor(0.2737, device='cuda:0')\n",
      "Epoch-8: Train Loss = 2.120 Test Loss = 1.467\n"
     ]
    },
    {
     "name": "stderr",
     "output_type": "stream",
     "text": [
      "4it [00:10,  2.70s/it]\n"
     ]
    },
    {
     "name": "stdout",
     "output_type": "stream",
     "text": [
      "tensor(0.7181, device='cuda:0') tensor(0.4131, device='cuda:0') tensor(0.2708, device='cuda:0')\n",
      "Epoch-9: Train Loss = 2.118 Test Loss = 1.402\n"
     ]
    },
    {
     "name": "stderr",
     "output_type": "stream",
     "text": [
      "4it [00:10,  2.72s/it]\n"
     ]
    },
    {
     "name": "stdout",
     "output_type": "stream",
     "text": [
      "tensor(0.7199, device='cuda:0') tensor(0.4187, device='cuda:0') tensor(0.2672, device='cuda:0')\n",
      "Epoch-10: Train Loss = 2.112 Test Loss = 1.406\n"
     ]
    },
    {
     "name": "stderr",
     "output_type": "stream",
     "text": [
      "4it [00:10,  2.70s/it]\n"
     ]
    },
    {
     "name": "stdout",
     "output_type": "stream",
     "text": [
      "tensor(0.7153, device='cuda:0') tensor(0.4169, device='cuda:0') tensor(0.2691, device='cuda:0')\n",
      "Epoch-11: Train Loss = 2.106 Test Loss = 1.401\n"
     ]
    },
    {
     "name": "stderr",
     "output_type": "stream",
     "text": [
      "4it [00:10,  2.69s/it]\n"
     ]
    },
    {
     "name": "stdout",
     "output_type": "stream",
     "text": [
      "tensor(0.7186, device='cuda:0') tensor(0.3896, device='cuda:0') tensor(0.2678, device='cuda:0')\n",
      "Epoch-12: Train Loss = 2.102 Test Loss = 1.376\n"
     ]
    },
    {
     "name": "stderr",
     "output_type": "stream",
     "text": [
      "4it [00:10,  2.71s/it]\n"
     ]
    },
    {
     "name": "stdout",
     "output_type": "stream",
     "text": [
      "tensor(0.7354, device='cuda:0') tensor(0.3420, device='cuda:0') tensor(0.2748, device='cuda:0')\n",
      "Epoch-13: Train Loss = 2.102 Test Loss = 1.352\n"
     ]
    },
    {
     "name": "stderr",
     "output_type": "stream",
     "text": [
      "4it [00:10,  2.71s/it]\n"
     ]
    },
    {
     "name": "stdout",
     "output_type": "stream",
     "text": [
      "tensor(0.7187, device='cuda:0') tensor(0.3402, device='cuda:0') tensor(0.2709, device='cuda:0')\n",
      "Epoch-14: Train Loss = 2.098 Test Loss = 1.330\n"
     ]
    },
    {
     "name": "stderr",
     "output_type": "stream",
     "text": [
      "4it [00:10,  2.72s/it]\n"
     ]
    },
    {
     "name": "stdout",
     "output_type": "stream",
     "text": [
      "tensor(0.7357, device='cuda:0') tensor(0.3354, device='cuda:0') tensor(0.2692, device='cuda:0')\n",
      "Epoch-15: Train Loss = 2.086 Test Loss = 1.340\n"
     ]
    },
    {
     "name": "stderr",
     "output_type": "stream",
     "text": [
      "4it [00:10,  2.70s/it]\n"
     ]
    },
    {
     "name": "stdout",
     "output_type": "stream",
     "text": [
      "tensor(0.6814, device='cuda:0') tensor(0.4200, device='cuda:0') tensor(0.2724, device='cuda:0')\n",
      "Epoch-16: Train Loss = 2.069 Test Loss = 1.374\n"
     ]
    },
    {
     "name": "stderr",
     "output_type": "stream",
     "text": [
      "4it [00:10,  2.69s/it]\n"
     ]
    },
    {
     "name": "stdout",
     "output_type": "stream",
     "text": [
      "tensor(0.7805, device='cuda:0') tensor(0.6165, device='cuda:0') tensor(0.2879, device='cuda:0')\n",
      "Epoch-17: Train Loss = 2.046 Test Loss = 1.685\n"
     ]
    },
    {
     "name": "stderr",
     "output_type": "stream",
     "text": [
      "4it [00:10,  2.69s/it]\n"
     ]
    },
    {
     "name": "stdout",
     "output_type": "stream",
     "text": [
      "tensor(0.7188, device='cuda:0') tensor(0.6311, device='cuda:0') tensor(0.2734, device='cuda:0')\n",
      "Epoch-18: Train Loss = 2.013 Test Loss = 1.623\n"
     ]
    },
    {
     "name": "stderr",
     "output_type": "stream",
     "text": [
      "4it [00:10,  2.70s/it]\n"
     ]
    },
    {
     "name": "stdout",
     "output_type": "stream",
     "text": [
      "tensor(0.7165, device='cuda:0') tensor(0.8967, device='cuda:0') tensor(0.2943, device='cuda:0')\n",
      "Epoch-19: Train Loss = 2.008 Test Loss = 1.907\n"
     ]
    },
    {
     "name": "stderr",
     "output_type": "stream",
     "text": [
      "4it [00:10,  2.72s/it]\n"
     ]
    },
    {
     "name": "stdout",
     "output_type": "stream",
     "text": [
      "tensor(0.6707, device='cuda:0') tensor(0.8023, device='cuda:0') tensor(0.2834, device='cuda:0')\n",
      "Epoch-20: Train Loss = 1.993 Test Loss = 1.756\n"
     ]
    },
    {
     "name": "stderr",
     "output_type": "stream",
     "text": [
      "4it [00:10,  2.70s/it]\n"
     ]
    },
    {
     "name": "stdout",
     "output_type": "stream",
     "text": [
      "tensor(0.6607, device='cuda:0') tensor(0.0417, device='cuda:0') tensor(0.2785, device='cuda:0')\n",
      "Epoch-21: Train Loss = 1.980 Test Loss = 0.981\n"
     ]
    },
    {
     "name": "stderr",
     "output_type": "stream",
     "text": [
      "4it [00:10,  2.70s/it]\n"
     ]
    },
    {
     "name": "stdout",
     "output_type": "stream",
     "text": [
      "tensor(0.6644, device='cuda:0') tensor(0.0317, device='cuda:0') tensor(0.2831, device='cuda:0')\n",
      "Epoch-22: Train Loss = 1.977 Test Loss = 0.979\n"
     ]
    },
    {
     "name": "stderr",
     "output_type": "stream",
     "text": [
      "4it [00:10,  2.69s/it]\n"
     ]
    },
    {
     "name": "stdout",
     "output_type": "stream",
     "text": [
      "tensor(0.6702, device='cuda:0') tensor(0.0043, device='cuda:0') tensor(0.2712, device='cuda:0')\n",
      "Epoch-23: Train Loss = 1.953 Test Loss = 0.946\n"
     ]
    },
    {
     "name": "stderr",
     "output_type": "stream",
     "text": [
      "4it [00:10,  2.69s/it]\n"
     ]
    },
    {
     "name": "stdout",
     "output_type": "stream",
     "text": [
      "tensor(0.6812, device='cuda:0') tensor(0.0206, device='cuda:0') tensor(0.2724, device='cuda:0')\n",
      "Epoch-24: Train Loss = 1.925 Test Loss = 0.974\n"
     ]
    },
    {
     "name": "stderr",
     "output_type": "stream",
     "text": [
      "4it [00:10,  2.72s/it]\n"
     ]
    },
    {
     "name": "stdout",
     "output_type": "stream",
     "text": [
      "tensor(0.6572, device='cuda:0') tensor(0.2087, device='cuda:0') tensor(0.2745, device='cuda:0')\n",
      "Epoch-25: Train Loss = 1.911 Test Loss = 1.140\n"
     ]
    },
    {
     "name": "stderr",
     "output_type": "stream",
     "text": [
      "4it [00:10,  2.70s/it]\n"
     ]
    },
    {
     "name": "stdout",
     "output_type": "stream",
     "text": [
      "tensor(0.6606, device='cuda:0') tensor(0.5679, device='cuda:0') tensor(0.2817, device='cuda:0')\n",
      "Epoch-26: Train Loss = 1.903 Test Loss = 1.510\n"
     ]
    },
    {
     "name": "stderr",
     "output_type": "stream",
     "text": [
      "4it [00:10,  2.70s/it]\n"
     ]
    },
    {
     "name": "stdout",
     "output_type": "stream",
     "text": [
      "tensor(0.6840, device='cuda:0') tensor(0.8013, device='cuda:0') tensor(0.2811, device='cuda:0')\n",
      "Epoch-27: Train Loss = 1.897 Test Loss = 1.766\n"
     ]
    },
    {
     "name": "stderr",
     "output_type": "stream",
     "text": [
      "4it [00:10,  2.70s/it]\n"
     ]
    },
    {
     "name": "stdout",
     "output_type": "stream",
     "text": [
      "tensor(0.6965, device='cuda:0') tensor(0.8699, device='cuda:0') tensor(0.2932, device='cuda:0')\n",
      "Epoch-28: Train Loss = 1.880 Test Loss = 1.860\n"
     ]
    },
    {
     "name": "stderr",
     "output_type": "stream",
     "text": [
      "4it [00:10,  2.70s/it]\n"
     ]
    },
    {
     "name": "stdout",
     "output_type": "stream",
     "text": [
      "tensor(0.6738, device='cuda:0') tensor(0.8553, device='cuda:0') tensor(0.3220, device='cuda:0')\n",
      "Epoch-29: Train Loss = 1.873 Test Loss = 1.851\n"
     ]
    },
    {
     "name": "stderr",
     "output_type": "stream",
     "text": [
      "4it [00:10,  2.73s/it]\n"
     ]
    },
    {
     "name": "stdout",
     "output_type": "stream",
     "text": [
      "tensor(0.6759, device='cuda:0') tensor(0.7438, device='cuda:0') tensor(0.2841, device='cuda:0')\n",
      "Epoch-30: Train Loss = 1.859 Test Loss = 1.704\n"
     ]
    },
    {
     "name": "stderr",
     "output_type": "stream",
     "text": [
      "4it [00:10,  2.72s/it]\n"
     ]
    },
    {
     "name": "stdout",
     "output_type": "stream",
     "text": [
      "tensor(0.7764, device='cuda:0') tensor(0.5433, device='cuda:0') tensor(0.3646, device='cuda:0')\n",
      "Epoch-31: Train Loss = 1.838 Test Loss = 1.684\n"
     ]
    },
    {
     "name": "stderr",
     "output_type": "stream",
     "text": [
      "4it [00:10,  2.69s/it]\n"
     ]
    },
    {
     "name": "stdout",
     "output_type": "stream",
     "text": [
      "tensor(0.7321, device='cuda:0') tensor(0.4162, device='cuda:0') tensor(0.4036, device='cuda:0')\n",
      "Epoch-32: Train Loss = 1.878 Test Loss = 1.552\n"
     ]
    },
    {
     "name": "stderr",
     "output_type": "stream",
     "text": [
      "4it [00:11,  2.76s/it]\n"
     ]
    },
    {
     "name": "stdout",
     "output_type": "stream",
     "text": [
      "tensor(0.7717, device='cuda:0') tensor(0.4177, device='cuda:0') tensor(0.4113, device='cuda:0')\n",
      "Epoch-33: Train Loss = 1.843 Test Loss = 1.601\n"
     ]
    },
    {
     "name": "stderr",
     "output_type": "stream",
     "text": [
      "4it [00:10,  2.61s/it]\n"
     ]
    },
    {
     "name": "stdout",
     "output_type": "stream",
     "text": [
      "tensor(0.7197, device='cuda:0') tensor(0.4541, device='cuda:0') tensor(0.3613, device='cuda:0')\n",
      "Epoch-34: Train Loss = 1.835 Test Loss = 1.535\n"
     ]
    },
    {
     "name": "stderr",
     "output_type": "stream",
     "text": [
      "4it [00:10,  2.71s/it]\n"
     ]
    },
    {
     "name": "stdout",
     "output_type": "stream",
     "text": [
      "tensor(0.6902, device='cuda:0') tensor(0.9664, device='cuda:0') tensor(0.3112, device='cuda:0')\n",
      "Epoch-35: Train Loss = 1.825 Test Loss = 1.968\n"
     ]
    },
    {
     "name": "stderr",
     "output_type": "stream",
     "text": [
      "4it [00:10,  2.69s/it]\n"
     ]
    },
    {
     "name": "stdout",
     "output_type": "stream",
     "text": [
      "tensor(0.6922, device='cuda:0') tensor(0.9709, device='cuda:0') tensor(0.2971, device='cuda:0')\n",
      "Epoch-36: Train Loss = 1.815 Test Loss = 1.960\n"
     ]
    },
    {
     "name": "stderr",
     "output_type": "stream",
     "text": [
      "4it [00:10,  2.71s/it]\n"
     ]
    },
    {
     "name": "stdout",
     "output_type": "stream",
     "text": [
      "tensor(0.6906, device='cuda:0') tensor(0.9714, device='cuda:0') tensor(0.3076, device='cuda:0')\n",
      "Epoch-37: Train Loss = 1.808 Test Loss = 1.970\n"
     ]
    },
    {
     "name": "stderr",
     "output_type": "stream",
     "text": [
      "4it [00:10,  2.73s/it]\n"
     ]
    },
    {
     "name": "stdout",
     "output_type": "stream",
     "text": [
      "tensor(0.6802, device='cuda:0') tensor(0.9722, device='cuda:0') tensor(0.2929, device='cuda:0')\n",
      "Epoch-38: Train Loss = 1.801 Test Loss = 1.945\n"
     ]
    },
    {
     "name": "stderr",
     "output_type": "stream",
     "text": [
      "4it [00:10,  2.73s/it]\n"
     ]
    },
    {
     "name": "stdout",
     "output_type": "stream",
     "text": [
      "tensor(0.6654, device='cuda:0') tensor(0.9723, device='cuda:0') tensor(0.2829, device='cuda:0')\n",
      "Epoch-39: Train Loss = 1.795 Test Loss = 1.921\n"
     ]
    },
    {
     "name": "stderr",
     "output_type": "stream",
     "text": [
      "4it [00:10,  2.74s/it]\n"
     ]
    },
    {
     "name": "stdout",
     "output_type": "stream",
     "text": [
      "tensor(0.7247, device='cuda:0') tensor(0.9720, device='cuda:0') tensor(0.3822, device='cuda:0')\n",
      "Epoch-40: Train Loss = 1.823 Test Loss = 2.079\n"
     ]
    },
    {
     "name": "stderr",
     "output_type": "stream",
     "text": [
      "4it [00:10,  2.73s/it]\n"
     ]
    },
    {
     "name": "stdout",
     "output_type": "stream",
     "text": [
      "tensor(0.6870, device='cuda:0') tensor(0.9719, device='cuda:0') tensor(0.3093, device='cuda:0')\n",
      "Epoch-41: Train Loss = 1.827 Test Loss = 1.968\n"
     ]
    },
    {
     "name": "stderr",
     "output_type": "stream",
     "text": [
      "4it [00:10,  2.73s/it]\n"
     ]
    },
    {
     "name": "stdout",
     "output_type": "stream",
     "text": [
      "tensor(0.6639, device='cuda:0') tensor(0.9712, device='cuda:0') tensor(0.2914, device='cuda:0')\n",
      "Epoch-42: Train Loss = 1.811 Test Loss = 1.926\n"
     ]
    },
    {
     "name": "stderr",
     "output_type": "stream",
     "text": [
      "4it [00:10,  2.72s/it]\n"
     ]
    },
    {
     "name": "stdout",
     "output_type": "stream",
     "text": [
      "tensor(0.6762, device='cuda:0') tensor(0.9707, device='cuda:0') tensor(0.2926, device='cuda:0')\n",
      "Epoch-43: Train Loss = 1.803 Test Loss = 1.939\n"
     ]
    },
    {
     "name": "stderr",
     "output_type": "stream",
     "text": [
      "4it [00:10,  2.72s/it]\n"
     ]
    },
    {
     "name": "stdout",
     "output_type": "stream",
     "text": [
      "tensor(0.6899, device='cuda:0') tensor(0.9698, device='cuda:0') tensor(0.2965, device='cuda:0')\n",
      "Epoch-44: Train Loss = 1.793 Test Loss = 1.956\n"
     ]
    },
    {
     "name": "stderr",
     "output_type": "stream",
     "text": [
      "4it [00:11,  2.76s/it]\n"
     ]
    },
    {
     "name": "stdout",
     "output_type": "stream",
     "text": [
      "tensor(0.6951, device='cuda:0') tensor(0.9689, device='cuda:0') tensor(0.3124, device='cuda:0')\n",
      "Epoch-45: Train Loss = 1.788 Test Loss = 1.976\n"
     ]
    },
    {
     "name": "stderr",
     "output_type": "stream",
     "text": [
      "4it [00:10,  2.73s/it]\n"
     ]
    },
    {
     "name": "stdout",
     "output_type": "stream",
     "text": [
      "tensor(0.6876, device='cuda:0') tensor(0.9683, device='cuda:0') tensor(0.2921, device='cuda:0')\n",
      "Epoch-46: Train Loss = 1.785 Test Loss = 1.948\n"
     ]
    },
    {
     "name": "stderr",
     "output_type": "stream",
     "text": [
      "4it [00:10,  2.73s/it]\n"
     ]
    },
    {
     "name": "stdout",
     "output_type": "stream",
     "text": [
      "tensor(0.6847, device='cuda:0') tensor(0.9666, device='cuda:0') tensor(0.2968, device='cuda:0')\n",
      "Epoch-47: Train Loss = 1.780 Test Loss = 1.948\n"
     ]
    },
    {
     "name": "stderr",
     "output_type": "stream",
     "text": [
      "4it [00:10,  2.71s/it]\n"
     ]
    },
    {
     "name": "stdout",
     "output_type": "stream",
     "text": [
      "tensor(0.6863, device='cuda:0') tensor(0.9625, device='cuda:0') tensor(0.2978, device='cuda:0')\n",
      "Epoch-48: Train Loss = 1.776 Test Loss = 1.947\n"
     ]
    },
    {
     "name": "stderr",
     "output_type": "stream",
     "text": [
      "4it [00:10,  2.73s/it]\n"
     ]
    },
    {
     "name": "stdout",
     "output_type": "stream",
     "text": [
      "tensor(0.6830, device='cuda:0') tensor(0.9165, device='cuda:0') tensor(0.2941, device='cuda:0')\n",
      "Epoch-49: Train Loss = 1.774 Test Loss = 1.894\n"
     ]
    },
    {
     "name": "stderr",
     "output_type": "stream",
     "text": [
      "4it [00:10,  2.74s/it]\n"
     ]
    },
    {
     "name": "stdout",
     "output_type": "stream",
     "text": [
      "tensor(0.6774, device='cuda:0') tensor(0.1583, device='cuda:0') tensor(0.2962, device='cuda:0')\n",
      "Epoch-50: Train Loss = 1.770 Test Loss = 1.132\n"
     ]
    },
    {
     "name": "stderr",
     "output_type": "stream",
     "text": [
      "4it [00:10,  2.72s/it]\n"
     ]
    },
    {
     "name": "stdout",
     "output_type": "stream",
     "text": [
      "tensor(0.6723, device='cuda:0') tensor(0.1386, device='cuda:0') tensor(0.2955, device='cuda:0')\n",
      "Epoch-51: Train Loss = 1.769 Test Loss = 1.106\n"
     ]
    },
    {
     "name": "stderr",
     "output_type": "stream",
     "text": [
      "4it [00:10,  2.72s/it]\n"
     ]
    },
    {
     "name": "stdout",
     "output_type": "stream",
     "text": [
      "tensor(0.6847, device='cuda:0') tensor(0.1580, device='cuda:0') tensor(0.2908, device='cuda:0')\n",
      "Epoch-52: Train Loss = 1.764 Test Loss = 1.133\n"
     ]
    },
    {
     "name": "stderr",
     "output_type": "stream",
     "text": [
      "4it [00:10,  2.73s/it]\n"
     ]
    },
    {
     "name": "stdout",
     "output_type": "stream",
     "text": [
      "tensor(0.6861, device='cuda:0') tensor(0.2208, device='cuda:0') tensor(0.3038, device='cuda:0')\n",
      "Epoch-53: Train Loss = 1.766 Test Loss = 1.211\n"
     ]
    },
    {
     "name": "stderr",
     "output_type": "stream",
     "text": [
      "4it [00:10,  2.73s/it]\n"
     ]
    },
    {
     "name": "stdout",
     "output_type": "stream",
     "text": [
      "tensor(0.6673, device='cuda:0') tensor(0.6275, device='cuda:0') tensor(0.3051, device='cuda:0')\n",
      "Epoch-54: Train Loss = 1.762 Test Loss = 1.600\n"
     ]
    },
    {
     "name": "stderr",
     "output_type": "stream",
     "text": [
      "4it [00:10,  2.75s/it]\n"
     ]
    },
    {
     "name": "stdout",
     "output_type": "stream",
     "text": [
      "tensor(0.6941, device='cuda:0') tensor(0.8210, device='cuda:0') tensor(0.3428, device='cuda:0')\n",
      "Epoch-55: Train Loss = 1.757 Test Loss = 1.858\n"
     ]
    },
    {
     "name": "stderr",
     "output_type": "stream",
     "text": [
      "4it [00:10,  2.72s/it]\n"
     ]
    },
    {
     "name": "stdout",
     "output_type": "stream",
     "text": [
      "tensor(0.6772, device='cuda:0') tensor(0.8190, device='cuda:0') tensor(0.3212, device='cuda:0')\n",
      "Epoch-56: Train Loss = 1.760 Test Loss = 1.817\n"
     ]
    },
    {
     "name": "stderr",
     "output_type": "stream",
     "text": [
      "4it [00:10,  2.72s/it]\n"
     ]
    },
    {
     "name": "stdout",
     "output_type": "stream",
     "text": [
      "tensor(0.6674, device='cuda:0') tensor(0.6978, device='cuda:0') tensor(0.3291, device='cuda:0')\n",
      "Epoch-57: Train Loss = 1.759 Test Loss = 1.694\n"
     ]
    },
    {
     "name": "stderr",
     "output_type": "stream",
     "text": [
      "4it [00:10,  2.73s/it]\n"
     ]
    },
    {
     "name": "stdout",
     "output_type": "stream",
     "text": [
      "tensor(0.6971, device='cuda:0') tensor(0.4665, device='cuda:0') tensor(0.3691, device='cuda:0')\n",
      "Epoch-58: Train Loss = 1.760 Test Loss = 1.533\n"
     ]
    },
    {
     "name": "stderr",
     "output_type": "stream",
     "text": [
      "4it [00:10,  2.72s/it]\n"
     ]
    },
    {
     "name": "stdout",
     "output_type": "stream",
     "text": [
      "tensor(0.6772, device='cuda:0') tensor(0.2582, device='cuda:0') tensor(0.3572, device='cuda:0')\n",
      "Epoch-59: Train Loss = 1.752 Test Loss = 1.293\n"
     ]
    },
    {
     "name": "stderr",
     "output_type": "stream",
     "text": [
      "4it [00:10,  2.74s/it]\n"
     ]
    },
    {
     "name": "stdout",
     "output_type": "stream",
     "text": [
      "tensor(0.6679, device='cuda:0') tensor(0.1459, device='cuda:0') tensor(0.3393, device='cuda:0')\n",
      "Epoch-60: Train Loss = 1.750 Test Loss = 1.153\n"
     ]
    },
    {
     "name": "stderr",
     "output_type": "stream",
     "text": [
      "4it [00:10,  2.73s/it]\n"
     ]
    },
    {
     "name": "stdout",
     "output_type": "stream",
     "text": [
      "tensor(0.6865, device='cuda:0') tensor(0.0993, device='cuda:0') tensor(0.3793, device='cuda:0')\n",
      "Epoch-61: Train Loss = 1.743 Test Loss = 1.165\n"
     ]
    },
    {
     "name": "stderr",
     "output_type": "stream",
     "text": [
      "4it [00:10,  2.71s/it]\n"
     ]
    },
    {
     "name": "stdout",
     "output_type": "stream",
     "text": [
      "tensor(0.6702, device='cuda:0') tensor(0.0921, device='cuda:0') tensor(0.3712, device='cuda:0')\n",
      "Epoch-62: Train Loss = 1.743 Test Loss = 1.134\n"
     ]
    },
    {
     "name": "stderr",
     "output_type": "stream",
     "text": [
      "4it [00:10,  2.73s/it]\n"
     ]
    },
    {
     "name": "stdout",
     "output_type": "stream",
     "text": [
      "tensor(0.6678, device='cuda:0') tensor(0.0934, device='cuda:0') tensor(0.3671, device='cuda:0')\n",
      "Epoch-63: Train Loss = 1.742 Test Loss = 1.128\n"
     ]
    },
    {
     "name": "stderr",
     "output_type": "stream",
     "text": [
      "4it [00:10,  2.72s/it]\n"
     ]
    },
    {
     "name": "stdout",
     "output_type": "stream",
     "text": [
      "tensor(0.6599, device='cuda:0') tensor(0.0971, device='cuda:0') tensor(0.3211, device='cuda:0')\n",
      "Epoch-64: Train Loss = 1.738 Test Loss = 1.078\n"
     ]
    },
    {
     "name": "stderr",
     "output_type": "stream",
     "text": [
      "4it [00:10,  2.75s/it]\n"
     ]
    },
    {
     "name": "stdout",
     "output_type": "stream",
     "text": [
      "tensor(0.6542, device='cuda:0') tensor(0.1024, device='cuda:0') tensor(0.3070, device='cuda:0')\n",
      "Epoch-65: Train Loss = 1.740 Test Loss = 1.064\n"
     ]
    },
    {
     "name": "stderr",
     "output_type": "stream",
     "text": [
      "4it [00:10,  2.72s/it]\n"
     ]
    },
    {
     "name": "stdout",
     "output_type": "stream",
     "text": [
      "tensor(0.7238, device='cuda:0') tensor(0.1040, device='cuda:0') tensor(0.4005, device='cuda:0')\n",
      "Epoch-66: Train Loss = 1.757 Test Loss = 1.228\n"
     ]
    },
    {
     "name": "stderr",
     "output_type": "stream",
     "text": [
      "4it [00:10,  2.73s/it]\n"
     ]
    },
    {
     "name": "stdout",
     "output_type": "stream",
     "text": [
      "tensor(0.6491, device='cuda:0') tensor(0.1040, device='cuda:0') tensor(0.2850, device='cuda:0')\n",
      "Epoch-67: Train Loss = 1.776 Test Loss = 1.038\n"
     ]
    },
    {
     "name": "stderr",
     "output_type": "stream",
     "text": [
      "4it [00:10,  2.72s/it]\n"
     ]
    },
    {
     "name": "stdout",
     "output_type": "stream",
     "text": [
      "tensor(0.6827, device='cuda:0') tensor(0.1037, device='cuda:0') tensor(0.3424, device='cuda:0')\n",
      "Epoch-68: Train Loss = 1.803 Test Loss = 1.129\n"
     ]
    },
    {
     "name": "stderr",
     "output_type": "stream",
     "text": [
      "4it [00:10,  2.72s/it]\n"
     ]
    },
    {
     "name": "stdout",
     "output_type": "stream",
     "text": [
      "tensor(0.6553, device='cuda:0') tensor(0.1035, device='cuda:0') tensor(0.3038, device='cuda:0')\n",
      "Epoch-69: Train Loss = 1.780 Test Loss = 1.063\n"
     ]
    },
    {
     "name": "stderr",
     "output_type": "stream",
     "text": [
      "4it [00:10,  2.74s/it]\n"
     ]
    },
    {
     "name": "stdout",
     "output_type": "stream",
     "text": [
      "tensor(0.6544, device='cuda:0') tensor(0.1038, device='cuda:0') tensor(0.3139, device='cuda:0')\n",
      "Epoch-70: Train Loss = 1.766 Test Loss = 1.072\n"
     ]
    },
    {
     "name": "stderr",
     "output_type": "stream",
     "text": [
      "4it [00:10,  2.72s/it]\n"
     ]
    },
    {
     "name": "stdout",
     "output_type": "stream",
     "text": [
      "tensor(0.6615, device='cuda:0') tensor(0.1044, device='cuda:0') tensor(0.3179, device='cuda:0')\n",
      "Epoch-71: Train Loss = 1.745 Test Loss = 1.084\n"
     ]
    },
    {
     "name": "stderr",
     "output_type": "stream",
     "text": [
      "4it [00:10,  2.72s/it]\n"
     ]
    },
    {
     "name": "stdout",
     "output_type": "stream",
     "text": [
      "tensor(0.6508, device='cuda:0') tensor(0.1049, device='cuda:0') tensor(0.3088, device='cuda:0')\n",
      "Epoch-72: Train Loss = 1.739 Test Loss = 1.065\n"
     ]
    },
    {
     "name": "stderr",
     "output_type": "stream",
     "text": [
      "4it [00:10,  2.72s/it]\n"
     ]
    },
    {
     "name": "stdout",
     "output_type": "stream",
     "text": [
      "tensor(0.6492, device='cuda:0') tensor(0.1052, device='cuda:0') tensor(0.3272, device='cuda:0')\n",
      "Epoch-73: Train Loss = 1.730 Test Loss = 1.082\n"
     ]
    },
    {
     "name": "stderr",
     "output_type": "stream",
     "text": [
      "4it [00:10,  2.72s/it]\n"
     ]
    },
    {
     "name": "stdout",
     "output_type": "stream",
     "text": [
      "tensor(0.6541, device='cuda:0') tensor(0.1051, device='cuda:0') tensor(0.3499, device='cuda:0')\n",
      "Epoch-74: Train Loss = 1.728 Test Loss = 1.109\n"
     ]
    },
    {
     "name": "stderr",
     "output_type": "stream",
     "text": [
      "4it [00:10,  2.73s/it]\n"
     ]
    },
    {
     "name": "stdout",
     "output_type": "stream",
     "text": [
      "tensor(0.6488, device='cuda:0') tensor(0.1049, device='cuda:0') tensor(0.3431, device='cuda:0')\n",
      "Epoch-75: Train Loss = 1.721 Test Loss = 1.097\n"
     ]
    },
    {
     "name": "stderr",
     "output_type": "stream",
     "text": [
      "4it [00:10,  2.71s/it]\n"
     ]
    },
    {
     "name": "stdout",
     "output_type": "stream",
     "text": [
      "tensor(0.6522, device='cuda:0') tensor(0.1047, device='cuda:0') tensor(0.3702, device='cuda:0')\n",
      "Epoch-76: Train Loss = 1.720 Test Loss = 1.127\n"
     ]
    },
    {
     "name": "stderr",
     "output_type": "stream",
     "text": [
      "4it [00:10,  2.71s/it]\n"
     ]
    },
    {
     "name": "stdout",
     "output_type": "stream",
     "text": [
      "tensor(0.6713, device='cuda:0') tensor(0.1046, device='cuda:0') tensor(0.3969, device='cuda:0')\n",
      "Epoch-77: Train Loss = 1.716 Test Loss = 1.173\n"
     ]
    },
    {
     "name": "stderr",
     "output_type": "stream",
     "text": [
      "4it [00:10,  2.72s/it]\n"
     ]
    },
    {
     "name": "stdout",
     "output_type": "stream",
     "text": [
      "tensor(0.6453, device='cuda:0') tensor(0.1044, device='cuda:0') tensor(0.3359, device='cuda:0')\n",
      "Epoch-78: Train Loss = 1.745 Test Loss = 1.086\n"
     ]
    },
    {
     "name": "stderr",
     "output_type": "stream",
     "text": [
      "4it [00:10,  2.72s/it]\n"
     ]
    },
    {
     "name": "stdout",
     "output_type": "stream",
     "text": [
      "tensor(0.6607, device='cuda:0') tensor(0.1042, device='cuda:0') tensor(0.4006, device='cuda:0')\n",
      "Epoch-79: Train Loss = 1.728 Test Loss = 1.165\n"
     ]
    },
    {
     "name": "stderr",
     "output_type": "stream",
     "text": [
      "4it [00:10,  2.74s/it]\n"
     ]
    },
    {
     "name": "stdout",
     "output_type": "stream",
     "text": [
      "tensor(0.6604, device='cuda:0') tensor(0.1040, device='cuda:0') tensor(0.4302, device='cuda:0')\n",
      "Epoch-80: Train Loss = 1.719 Test Loss = 1.195\n"
     ]
    },
    {
     "name": "stderr",
     "output_type": "stream",
     "text": [
      "4it [00:10,  2.72s/it]\n"
     ]
    },
    {
     "name": "stdout",
     "output_type": "stream",
     "text": [
      "tensor(0.6642, device='cuda:0') tensor(0.1039, device='cuda:0') tensor(0.4337, device='cuda:0')\n",
      "Epoch-81: Train Loss = 1.708 Test Loss = 1.202\n"
     ]
    },
    {
     "name": "stderr",
     "output_type": "stream",
     "text": [
      "4it [00:10,  2.72s/it]\n"
     ]
    },
    {
     "name": "stdout",
     "output_type": "stream",
     "text": [
      "tensor(0.6532, device='cuda:0') tensor(0.1038, device='cuda:0') tensor(0.4346, device='cuda:0')\n",
      "Epoch-82: Train Loss = 1.699 Test Loss = 1.192\n"
     ]
    },
    {
     "name": "stderr",
     "output_type": "stream",
     "text": [
      "4it [00:10,  2.75s/it]\n"
     ]
    },
    {
     "name": "stdout",
     "output_type": "stream",
     "text": [
      "tensor(0.6522, device='cuda:0') tensor(0.1037, device='cuda:0') tensor(0.4313, device='cuda:0')\n",
      "Epoch-83: Train Loss = 1.691 Test Loss = 1.187\n"
     ]
    },
    {
     "name": "stderr",
     "output_type": "stream",
     "text": [
      "4it [00:10,  2.71s/it]\n"
     ]
    },
    {
     "name": "stdout",
     "output_type": "stream",
     "text": [
      "tensor(0.6530, device='cuda:0') tensor(0.1036, device='cuda:0') tensor(0.4426, device='cuda:0')\n",
      "Epoch-84: Train Loss = 1.690 Test Loss = 1.199\n"
     ]
    },
    {
     "name": "stderr",
     "output_type": "stream",
     "text": [
      "4it [00:10,  2.72s/it]\n"
     ]
    },
    {
     "name": "stdout",
     "output_type": "stream",
     "text": [
      "tensor(0.6694, device='cuda:0') tensor(0.1035, device='cuda:0') tensor(0.4670, device='cuda:0')\n",
      "Epoch-85: Train Loss = 1.697 Test Loss = 1.240\n"
     ]
    },
    {
     "name": "stderr",
     "output_type": "stream",
     "text": [
      "4it [00:10,  2.72s/it]\n"
     ]
    },
    {
     "name": "stdout",
     "output_type": "stream",
     "text": [
      "tensor(0.6555, device='cuda:0') tensor(0.1034, device='cuda:0') tensor(0.4792, device='cuda:0')\n",
      "Epoch-86: Train Loss = 1.691 Test Loss = 1.238\n"
     ]
    },
    {
     "name": "stderr",
     "output_type": "stream",
     "text": [
      "4it [00:10,  2.72s/it]\n"
     ]
    },
    {
     "name": "stdout",
     "output_type": "stream",
     "text": [
      "tensor(0.6528, device='cuda:0') tensor(0.1034, device='cuda:0') tensor(0.4614, device='cuda:0')\n",
      "Epoch-87: Train Loss = 1.684 Test Loss = 1.218\n"
     ]
    },
    {
     "name": "stderr",
     "output_type": "stream",
     "text": [
      "4it [00:10,  2.73s/it]\n"
     ]
    },
    {
     "name": "stdout",
     "output_type": "stream",
     "text": [
      "tensor(0.6629, device='cuda:0') tensor(0.1033, device='cuda:0') tensor(0.4610, device='cuda:0')\n",
      "Epoch-88: Train Loss = 1.675 Test Loss = 1.227\n"
     ]
    },
    {
     "name": "stderr",
     "output_type": "stream",
     "text": [
      "4it [00:11,  2.77s/it]\n"
     ]
    },
    {
     "name": "stdout",
     "output_type": "stream",
     "text": [
      "tensor(0.6477, device='cuda:0') tensor(0.1033, device='cuda:0') tensor(0.4418, device='cuda:0')\n",
      "Epoch-89: Train Loss = 1.679 Test Loss = 1.193\n"
     ]
    },
    {
     "name": "stderr",
     "output_type": "stream",
     "text": [
      "4it [00:10,  2.74s/it]\n"
     ]
    },
    {
     "name": "stdout",
     "output_type": "stream",
     "text": [
      "tensor(0.6497, device='cuda:0') tensor(0.1033, device='cuda:0') tensor(0.4623, device='cuda:0')\n",
      "Epoch-90: Train Loss = 1.664 Test Loss = 1.215\n"
     ]
    },
    {
     "name": "stderr",
     "output_type": "stream",
     "text": [
      "4it [00:10,  2.73s/it]\n"
     ]
    },
    {
     "name": "stdout",
     "output_type": "stream",
     "text": [
      "tensor(0.6578, device='cuda:0') tensor(0.1032, device='cuda:0') tensor(0.4703, device='cuda:0')\n",
      "Epoch-91: Train Loss = 1.681 Test Loss = 1.231\n"
     ]
    },
    {
     "name": "stderr",
     "output_type": "stream",
     "text": [
      "4it [00:10,  2.72s/it]\n"
     ]
    },
    {
     "name": "stdout",
     "output_type": "stream",
     "text": [
      "tensor(0.6625, device='cuda:0') tensor(0.1032, device='cuda:0') tensor(0.3763, device='cuda:0')\n",
      "Epoch-92: Train Loss = 1.704 Test Loss = 1.142\n"
     ]
    },
    {
     "name": "stderr",
     "output_type": "stream",
     "text": [
      "4it [00:11,  2.76s/it]\n"
     ]
    },
    {
     "name": "stdout",
     "output_type": "stream",
     "text": [
      "tensor(0.6643, device='cuda:0') tensor(0.1032, device='cuda:0') tensor(0.3915, device='cuda:0')\n",
      "Epoch-93: Train Loss = 1.685 Test Loss = 1.159\n"
     ]
    },
    {
     "name": "stderr",
     "output_type": "stream",
     "text": [
      "4it [00:10,  2.73s/it]\n"
     ]
    },
    {
     "name": "stdout",
     "output_type": "stream",
     "text": [
      "tensor(0.6708, device='cuda:0') tensor(0.1032, device='cuda:0') tensor(0.4080, device='cuda:0')\n",
      "Epoch-94: Train Loss = 1.679 Test Loss = 1.182\n"
     ]
    },
    {
     "name": "stderr",
     "output_type": "stream",
     "text": [
      "4it [00:10,  2.73s/it]\n"
     ]
    },
    {
     "name": "stdout",
     "output_type": "stream",
     "text": [
      "tensor(0.6477, device='cuda:0') tensor(0.1031, device='cuda:0') tensor(0.4038, device='cuda:0')\n",
      "Epoch-95: Train Loss = 1.662 Test Loss = 1.155\n"
     ]
    },
    {
     "name": "stderr",
     "output_type": "stream",
     "text": [
      "4it [00:10,  2.74s/it]\n"
     ]
    },
    {
     "name": "stdout",
     "output_type": "stream",
     "text": [
      "tensor(0.6527, device='cuda:0') tensor(0.1031, device='cuda:0') tensor(0.4584, device='cuda:0')\n",
      "Epoch-96: Train Loss = 1.662 Test Loss = 1.214\n"
     ]
    },
    {
     "name": "stderr",
     "output_type": "stream",
     "text": [
      "4it [00:10,  2.73s/it]\n"
     ]
    },
    {
     "name": "stdout",
     "output_type": "stream",
     "text": [
      "tensor(0.6560, device='cuda:0') tensor(0.1031, device='cuda:0') tensor(0.5071, device='cuda:0')\n",
      "Epoch-97: Train Loss = 1.647 Test Loss = 1.266\n"
     ]
    },
    {
     "name": "stderr",
     "output_type": "stream",
     "text": [
      "4it [00:11,  2.75s/it]\n"
     ]
    },
    {
     "name": "stdout",
     "output_type": "stream",
     "text": [
      "tensor(0.6524, device='cuda:0') tensor(0.1031, device='cuda:0') tensor(0.4053, device='cuda:0')\n",
      "Epoch-98: Train Loss = 1.650 Test Loss = 1.161\n"
     ]
    },
    {
     "name": "stderr",
     "output_type": "stream",
     "text": [
      "4it [00:10,  2.73s/it]\n"
     ]
    },
    {
     "name": "stdout",
     "output_type": "stream",
     "text": [
      "tensor(0.6512, device='cuda:0') tensor(0.1031, device='cuda:0') tensor(0.4413, device='cuda:0')\n",
      "Epoch-99: Train Loss = 1.654 Test Loss = 1.196\n"
     ]
    },
    {
     "name": "stderr",
     "output_type": "stream",
     "text": [
      "4it [00:10,  2.72s/it]\n"
     ]
    },
    {
     "name": "stdout",
     "output_type": "stream",
     "text": [
      "tensor(0.6885, device='cuda:0') tensor(0.1031, device='cuda:0') tensor(0.5212, device='cuda:0')\n",
      "Epoch-100: Train Loss = 1.652 Test Loss = 1.313\n"
     ]
    }
   ],
   "source": [
    "train_loss, test_loss = sm_net.fit()"
   ]
  },
  {
   "cell_type": "code",
   "execution_count": 24,
   "id": "2e011c07",
   "metadata": {},
   "outputs": [
    {
     "data": {
      "image/png": "[encoded data removed]",
      "text/plain": [
       "<Figure size 432x288 with 1 Axes>"
      ]
     },
     "metadata": {
      "needs_background": "light"
     },
     "output_type": "display_data"
    }
   ],
   "source": [
    "import matplotlib.pyplot as plt\n",
    "\n",
    "plt.plot(train_loss, label = \"Train Loss\")\n",
    "plt.plot(test_loss, label = \"Test Loss\")\n",
    "plt.legend()\n",
    "plt.show()"
   ]
  },
  {
   "cell_type": "code",
   "execution_count": 25,
   "id": "6a083187",
   "metadata": {},
   "outputs": [],
   "source": [
    "# output_user = sm_net.encoder_user(torch.Tensor(data_matrix).to(device)).cpu().detach().numpy()"
   ]
  },
  {
   "cell_type": "code",
   "execution_count": 26,
   "id": "b0e88a0c",
   "metadata": {},
   "outputs": [],
   "source": [
    "# pd.DataFrame(output_user).to_csv(\"user.csv\", index = False)"
   ]
  },
  {
   "cell_type": "code",
   "execution_count": 27,
   "id": "cfe51284",
   "metadata": {},
   "outputs": [],
   "source": [
    "# sm_net.decoder_user(torch.Tensor(output_user).to(device)).cpu().detach().numpy()"
   ]
  },
  {
   "cell_type": "code",
   "execution_count": 28,
   "id": "19effc16",
   "metadata": {},
   "outputs": [],
   "source": [
    "# data_matrix"
   ]
  },
  {
   "cell_type": "code",
   "execution_count": 29,
   "id": "a6ebfb10",
   "metadata": {},
   "outputs": [],
   "source": [
    "output_item = sm_net.encoder_item(torch.Tensor(embeddings_).to(device)).cpu().detach().numpy()"
   ]
  },
  {
   "cell_type": "code",
   "execution_count": 30,
   "id": "a976421e",
   "metadata": {},
   "outputs": [],
   "source": [
    "pd.DataFrame(output_item).to_csv(\"../Datasets/ml-100k/Compressed/video.csv\", index = False)"
   ]
  },
  {
   "cell_type": "code",
   "execution_count": 31,
   "id": "cbc1f9ac",
   "metadata": {},
   "outputs": [
    {
     "data": {
      "text/plain": [
       "array([[0.33217546, 0.33290118, 0.33056056, ..., 0.33211565, 0.33286873,\n",
       "        0.3322616 ],\n",
       "       [0.33217546, 0.33290118, 0.33056056, ..., 0.33211565, 0.33286873,\n",
       "        0.3322616 ],\n",
       "       [0.33217546, 0.33290118, 0.33056056, ..., 0.33211565, 0.33286873,\n",
       "        0.3322616 ],\n",
       "       ...,\n",
       "       [0.33217546, 0.33290118, 0.33056056, ..., 0.33211565, 0.33286873,\n",
       "        0.3322616 ],\n",
       "       [0.33217546, 0.33290118, 0.33056056, ..., 0.33211565, 0.33286873,\n",
       "        0.3322616 ],\n",
       "       [0.33217546, 0.33290118, 0.33056056, ..., 0.33211565, 0.33286873,\n",
       "        0.3322616 ]], dtype=float32)"
      ]
     },
     "execution_count": 31,
     "metadata": {},
     "output_type": "execute_result"
    }
   ],
   "source": [
    "sm_net.decoder_item(torch.Tensor(output_item).to(device)).cpu().detach().numpy()"
   ]
  },
  {
   "cell_type": "code",
   "execution_count": 32,
   "id": "924d5f9d",
   "metadata": {},
   "outputs": [
    {
     "data": {
      "text/plain": [
       "array([[0.49816228, 0.64105329, 0.17910998, ..., 0.60482278, 0.86077272,\n",
       "        0.27575648],\n",
       "       [0.34419216, 0.21264084, 0.10639793, ..., 0.15066184, 0.22562452,\n",
       "        0.38929238],\n",
       "       [0.53532769, 0.4175338 , 0.06497518, ..., 0.1537495 , 0.38028206,\n",
       "        0.22736926],\n",
       "       ...,\n",
       "       [0.27550164, 0.26147485, 0.04548932, ..., 0.48796912, 0.38855514,\n",
       "        0.2447573 ],\n",
       "       [0.18166006, 0.49854062, 0.17123461, ..., 0.4009553 , 0.26297376,\n",
       "        0.311853  ],\n",
       "       [0.32307922, 0.49533578, 0.10803397, ..., 0.19856427, 0.16038521,\n",
       "        0.38617495]])"
      ]
     },
     "execution_count": 32,
     "metadata": {},
     "output_type": "execute_result"
    }
   ],
   "source": [
    "embeddings_"
   ]
  },
  {
   "cell_type": "markdown",
   "id": "3e8ea5e1",
   "metadata": {},
   "source": [
    "##### "
   ]
  }
 ],
 "metadata": {
  "kernelspec": {
   "display_name": "Python 3",
   "language": "python",
   "name": "python3"
  },
  "language_info": {
   "codemirror_mode": {
    "name": "ipython",
    "version": 3
   },
   "file_extension": ".py",
   "mimetype": "text/x-python",
   "name": "python",
   "nbconvert_exporter": "python",
   "pygments_lexer": "ipython3",
   "version": "3.9.7"
  }
 },
 "nbformat": 4,
 "nbformat_minor": 5
}
