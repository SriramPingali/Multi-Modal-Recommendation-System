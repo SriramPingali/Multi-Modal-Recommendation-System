{
 "cells": [
  {
   "cell_type": "markdown",
   "id": "9611126e",
   "metadata": {},
   "source": [
    "# Setup"
   ]
  },
  {
   "cell_type": "code",
   "execution_count": 1,
   "id": "ce5af4cc",
   "metadata": {},
   "outputs": [],
   "source": [
    "import os\n",
    "os.environ[\"CUDA_VISIBLE_DEVICES\"]=\"0\"\n",
    "os.environ[\"CUDA_LAUNCH_BLOCKING\"]=\"0\""
   ]
  },
  {
   "cell_type": "code",
   "execution_count": 2,
   "id": "e377cca2",
   "metadata": {},
   "outputs": [
    {
     "name": "stderr",
     "output_type": "stream",
     "text": [
      "/home/srirampingali/anaconda3/envs/BTP/lib/python3.10/site-packages/tqdm/auto.py:22: TqdmWarning: IProgress not found. Please update jupyter and ipywidgets. See https://ipywidgets.readthedocs.io/en/stable/user_install.html\n",
      "  from .autonotebook import tqdm as notebook_tqdm\n"
     ]
    }
   ],
   "source": [
    "import torch\n",
    "import random\n",
    "import numpy as np\n",
    "import pandas as pd\n",
    "from glob import glob\n",
    "from tqdm import tqdm\n",
    "from numpy.ma import masked_where"
   ]
  },
  {
   "cell_type": "code",
   "execution_count": 3,
   "id": "90e5c3ab",
   "metadata": {},
   "outputs": [],
   "source": [
    "from sklearn.preprocessing import normalize\n",
    "from torch.utils.data import Dataset, DataLoader\n",
    "from torchsampler import ImbalancedDatasetSampler\n",
    "from sklearn.metrics.pairwise import cosine_similarity\n",
    "from sklearn.metrics import confusion_matrix, classification_report\n",
    "from sklearn.metrics import f1_score, precision_score, recall_score"
   ]
  },
  {
   "cell_type": "markdown",
   "id": "e5de9337",
   "metadata": {},
   "source": [
    "# Import Data"
   ]
  },
  {
   "cell_type": "code",
   "execution_count": 4,
   "id": "b51f39a6",
   "metadata": {},
   "outputs": [],
   "source": [
    "items = pd.read_csv(\"../Datasets/ml-100k/Text/items.csv\")\n",
    "\n",
    "r_cols = ['user_id', 'movie_id', 'rating', 'unix_timestamp']\n",
    "ratings = pd.read_csv('../Datasets/ml-100k/Text/u1.base', sep='\\t', names=r_cols,encoding='latin-1')"
   ]
  },
  {
   "cell_type": "code",
   "execution_count": 5,
   "id": "2c54c1c2",
   "metadata": {},
   "outputs": [],
   "source": [
    "n_users = 943\n",
    "n_items = 1682"
   ]
  },
  {
   "cell_type": "code",
   "execution_count": 6,
   "id": "a8b3a425",
   "metadata": {},
   "outputs": [],
   "source": [
    "data_matrix = np.zeros((n_users, n_items))\n",
    "for line in ratings.itertuples():\n",
    "    data_matrix[line[1]-1, line[2]-1] = line[3]"
   ]
  },
  {
   "cell_type": "code",
   "execution_count": 7,
   "id": "46e726f7",
   "metadata": {},
   "outputs": [],
   "source": [
    "data_matrix_emp = data_matrix.copy()\n",
    "data_matrix_emp[data_matrix < 4] = 0\n",
    "data_matrix_emp[data_matrix >= 4]= 1 "
   ]
  },
  {
   "cell_type": "code",
   "execution_count": 8,
   "id": "92c5e310",
   "metadata": {},
   "outputs": [],
   "source": [
    "train_indices = list(zip(*(np.where(data_matrix != 0))))"
   ]
  },
  {
   "cell_type": "markdown",
   "id": "da0ac7eb",
   "metadata": {},
   "source": [
    "# Siamese network"
   ]
  },
  {
   "cell_type": "markdown",
   "id": "1b2daa12",
   "metadata": {},
   "source": [
    "## Data loader"
   ]
  },
  {
   "cell_type": "code",
   "execution_count": 10,
   "id": "5b274424",
   "metadata": {},
   "outputs": [
    {
     "data": {
      "text/plain": [
       "True"
      ]
     },
     "execution_count": 10,
     "metadata": {},
     "output_type": "execute_result"
    }
   ],
   "source": [
    "torch.cuda.is_available()"
   ]
  },
  {
   "cell_type": "code",
   "execution_count": 11,
   "id": "32bab2f7",
   "metadata": {},
   "outputs": [
    {
     "data": {
      "text/plain": [
       "'1.13.1+cu117'"
      ]
     },
     "execution_count": 11,
     "metadata": {},
     "output_type": "execute_result"
    }
   ],
   "source": [
    "torch.__version__"
   ]
  },
  {
   "cell_type": "code",
   "execution_count": 12,
   "id": "1ac66b9f",
   "metadata": {},
   "outputs": [],
   "source": [
    "items_csv = \"../Datasets/ml-100k/Text/items.csv\"\n",
    "train_ratings = \"../Datasets/ml-100k/Text/u1.base\"\n",
    "test_ratings = \"../Datasets/ml-100k/Text/u1.test\"\n",
    "\n",
    "item_path = \"../Datasets/ml-100k/\"\n",
    "ROW = 30\n",
    "BATCH = 2000"
   ]
  },
  {
   "cell_type": "code",
   "execution_count": 13,
   "id": "54d80b62",
   "metadata": {},
   "outputs": [],
   "source": [
    "device = torch.device(\"cuda:0\" if torch.cuda.is_available() else \"cpu\")"
   ]
  },
  {
   "cell_type": "code",
   "execution_count": 14,
   "id": "52f21b3a",
   "metadata": {},
   "outputs": [],
   "source": [
    "class MovielensDataset(Dataset):\n",
    "    def __init__(self, ratings = train_ratings, item_path = item_path, device = device):\n",
    "        self.item_path = item_path\n",
    "        self.video_embeddings = pd.read_csv(item_path + \"Video/embeddings.csv\").to_numpy()\n",
    "        self.audio_embeddings = pd.read_csv(item_path + \"Audio/embeddings.csv\").to_numpy()\n",
    "        self.meta_embeddings = pd.read_csv(item_path + \"Meta/embeddings.csv\").to_numpy()\n",
    "        self.text_embeddings = pd.read_csv(item_path + \"Text/embeddings.csv\").to_numpy()\n",
    "        self.ratings = pd.read_csv(ratings, sep='\\t', \n",
    "                                   names=['user_id', 'movie_id', 'rating', 'unix_timestamp'],encoding='latin-1')\n",
    "        self.indices = None\n",
    "        self.device = device\n",
    "        self.data = None\n",
    "        self.n_users = None\n",
    "        self.n_items = None\n",
    "        self.fill_ratings()\n",
    "        self.embeddings()\n",
    "    \n",
    "    def fill_ratings(self, threshold=4):\n",
    "        self.n_users = self.ratings.user_id.unique().shape[0]\n",
    "        self.n_items = self.ratings.movie_id.unique().shape[0]\n",
    "        \n",
    "        self.data = np.zeros((n_users, n_items))\n",
    "        for line in self.ratings.itertuples():\n",
    "            self.data[line[1]-1, line[2]-1] = line[3]\n",
    "        \n",
    "        self.data_emp = np.where(np.logical_and(self.data > 3,\n",
    "                            np.random.random_sample(self.data.shape) <= 0.2), 1, 0)\n",
    "        self.indices = list(zip(*(np.where(self.data != 0))))\n",
    "        \n",
    "    def embeddings(self):\n",
    "        print(self.video_embeddings.shape)\n",
    "        self.audio_embeddings = normalize(self.audio_embeddings, axis = 0)\n",
    "        self.video_embeddings = normalize(self.video_embeddings, axis = 0)\n",
    "        self.user_embeddings = np.divide(np.dot(self.data_emp, self.meta_embeddings), \n",
    "                                         self.data_emp.sum(axis = 1)[:, None] + 0.001)\n",
    "#         self.user_embeddings = data_matrix\n",
    "        self.item_embeddings = data_matrix.T\n",
    "        self.video_embedding_size = self.video_embeddings.shape[1]\n",
    "        self.audio_embedding_size = self.audio_embeddings.shape[1]\n",
    "        self.text_embedding_size = self.text_embeddings.shape[1]\n",
    "        self.user_embedding_size = self.user_embeddings.shape[1]\n",
    "        self.item_embedding_size = self.item_embeddings.shape[1]\n",
    "        self.meta_embedding_size = self.meta_embeddings.shape[1]\n",
    "        \n",
    "    def __len__(self):\n",
    "        return(len(self.indices))\n",
    "    \n",
    "    def __getitem__(self, idx):\n",
    "        user = self.indices[idx][0]\n",
    "        item = self.indices[idx][1]\n",
    "        \n",
    "#         xu = self.user_embeddings(torch.LongTensor([user])).squeeze().to(self.device)\n",
    "        xu = torch.from_numpy(self.user_embeddings[user]).to(self.device)\n",
    "        xa = torch.from_numpy(self.audio_embeddings[item]).to(self.device)\n",
    "        xv = torch.from_numpy(self.video_embeddings[item]).to(self.device)\n",
    "        xt = torch.from_numpy(self.text_embeddings[item]).to(self.device)\n",
    "        xi = torch.from_numpy(self.item_embeddings[item]).to(self.device)\n",
    "        xm = torch.from_numpy(self.meta_embeddings[item]).to(self.device)\n",
    "        \n",
    "        y = self.data[user][item]\n",
    "        return(xu.float(), [xv.float(), xa.float(), xt.float(), xi.float(), xm.float()], int(y))"
   ]
  },
  {
   "cell_type": "code",
   "execution_count": 15,
   "id": "5ee88fdc",
   "metadata": {},
   "outputs": [
    {
     "name": "stdout",
     "output_type": "stream",
     "text": [
      "(1682, 1024)\n",
      "(1682, 1024)\n"
     ]
    }
   ],
   "source": [
    "train_dataset = MovielensDataset(ratings = train_ratings)\n",
    "test_dataset = MovielensDataset(ratings = test_ratings)"
   ]
  },
  {
   "cell_type": "code",
   "execution_count": 16,
   "id": "3e18107f",
   "metadata": {},
   "outputs": [],
   "source": [
    "trainloader = DataLoader(train_dataset, batch_size = BATCH, shuffle = True)\n",
    "testloader = DataLoader(test_dataset, batch_size = BATCH, shuffle = False)"
   ]
  },
  {
   "cell_type": "markdown",
   "id": "1f943bcc",
   "metadata": {},
   "source": [
    "## Architecture"
   ]
  },
  {
   "cell_type": "code",
   "execution_count": 18,
   "id": "d17f8b04",
   "metadata": {},
   "outputs": [],
   "source": [
    "from tqdm import tqdm\n",
    "import torch.nn as nn\n",
    "import torch.optim as optim\n",
    "import torch.nn.functional as F\n",
    "from collections import OrderedDict"
   ]
  },
  {
   "cell_type": "code",
   "execution_count": 19,
   "id": "83e938df",
   "metadata": {},
   "outputs": [],
   "source": [
    "# from ml_metrics import mapk\n",
    "# from recmetrics import mark"
   ]
  },
  {
   "cell_type": "code",
   "execution_count": 20,
   "id": "824a5c43",
   "metadata": {},
   "outputs": [],
   "source": [
    "weight = np.array([np.count_nonzero(train_dataset.data == i) for i in range(1, 6)])\n",
    "weight = weight.max() / weight\n",
    "weight = torch.Tensor(weight).to(device)"
   ]
  },
  {
   "cell_type": "code",
   "execution_count": 21,
   "id": "bd46f194",
   "metadata": {},
   "outputs": [],
   "source": [
    "def weighted_mse_loss(pred, target, weight=weight):\n",
    "    target = target.long()\n",
    "    weight = weight[target - 1].to(pred.dtype)\n",
    "    loss = (pred - target.to(pred.dtype)).pow(2)\n",
    "    return ((weight * loss).mean(), loss.mean())"
   ]
  },
  {
   "cell_type": "code",
   "execution_count": 22,
   "id": "c3e99d0e",
   "metadata": {},
   "outputs": [],
   "source": [
    "class SiameseNet(nn.Module):\n",
    "    def __init__(self, device = device, channel = 84):\n",
    "        super(SiameseNet, self).__init__()\n",
    "        self.encoder_user = nn.Sequential(OrderedDict([\n",
    "            ('linr1', nn.Linear(train_dataset.user_embedding_size, 1024)),\n",
    "            ('relu1', nn.LeakyReLU()),\n",
    "            ('linr2', nn.Linear(1024, channel)),\n",
    "            ('relu2', nn.LeakyReLU()),\n",
    "        ]))\n",
    "        \n",
    "        self.encoder_item = nn.Sequential(OrderedDict([\n",
    "            ('linr1', nn.Linear(train_dataset.item_embedding_size, 256)),\n",
    "            ('relu1', nn.LeakyReLU()),\n",
    "            ('linr2', nn.Linear(256, 300)),\n",
    "            ('relu2', nn.LeakyReLU()),\n",
    "        ]))\n",
    "        \n",
    "        self.encoder_video = nn.Sequential(OrderedDict([\n",
    "            ('linr1', nn.Linear(train_dataset.video_embedding_size, 1600)),\n",
    "            ('relu1', nn.LeakyReLU()),\n",
    "            ('linr2', nn.Linear(1600, 300)),\n",
    "            ('relu2', nn.LeakyReLU()),\n",
    "#             ('linr3', nn.Linear(1000, 500)),\n",
    "#             ('relu3', nn.LeakyReLU()),\n",
    "# #             ('norm2', nn.BatchNorm1d(500)),\n",
    "#             ('linr4', nn.Linear(500, 300)),\n",
    "#             ('relu4', nn.LeakyReLU()),\n",
    "        ]))\n",
    "        \n",
    "        self.encoder_audio = nn.Sequential(OrderedDict([\n",
    "            ('linr1', nn.Linear(train_dataset.audio_embedding_size, 600)),\n",
    "            ('relu1', nn.LeakyReLU()),\n",
    "            ('linr4', nn.Linear(600, 300)),\n",
    "            ('relu4', nn.LeakyReLU()),\n",
    "        ]))\n",
    "        \n",
    "        self.encoder_text = nn.Sequential(OrderedDict([\n",
    "            ('linr1', nn.Linear(train_dataset.text_embedding_size, 256)),\n",
    "            ('relu1', nn.LeakyReLU()),\n",
    "            ('linr2', nn.Linear(256, 300)),\n",
    "            ('relu2', nn.LeakyReLU()),\n",
    "        ]))\n",
    "        \n",
    "        self.encoder_meta = nn.Sequential(OrderedDict([\n",
    "            ('linr1', nn.Linear(train_dataset.meta_embedding_size, 1600)),\n",
    "            ('relu1', nn.LeakyReLU()),\n",
    "#             ('norm1', nn.BatchNorm1d(1600)),\n",
    "            ('linr2', nn.Linear(1600, 300)),\n",
    "            ('relu2', nn.LeakyReLU()),\n",
    "#             ('linr3', nn.Linear(1000, 500)),\n",
    "#             ('relu3', nn.LeakyReLU()),\n",
    "#             ('linr4', nn.Linear(500, 300)),\n",
    "#             ('relu4', nn.LeakyReLU()),\n",
    "        ]))\n",
    "        \n",
    "        self.fusion = nn.Sequential(OrderedDict([\n",
    "            ('conv1', nn.Conv2d(1, 1, (20, 20), stride=(2, 2))),\n",
    "            ('relu1', nn.LeakyReLU()),\n",
    "            ('conv2', nn.Conv2d(1, 1, (5, 50), stride=(1, 1))),\n",
    "            ('relu2', nn.LeakyReLU()),\n",
    "        ]))\n",
    "        \n",
    "        self.siamese = nn.Sequential(OrderedDict([\n",
    "            ('linr1', nn.Linear(channel, 200)),\n",
    "            ('relu1', nn.LeakyReLU()),\n",
    "            ('linr2', nn.Linear(200, 256)),\n",
    "            ('relu2', nn.LeakyReLU()),\n",
    "            ('linr3', nn.Linear(256, 100)),\n",
    "            ('relu3', nn.LeakyReLU()),\n",
    "        ]))\n",
    "        \n",
    "        self.ffn = nn.Sequential(OrderedDict([\n",
    "            ('linr1', nn.Linear(300, 164)),\n",
    "            ('actv1', nn.ReLU()),\n",
    "            ('linr2', nn.Linear(164, 1)),\n",
    "#             ('actv2', nn.ReLU()),\n",
    "#             ('linr3', nn.Linear(50, 1)),\n",
    "        ]))\n",
    "        \n",
    "        self.device = device\n",
    "        self.encoder_user.apply(self.init_weights)\n",
    "        self.encoder_item.apply(self.init_weights)\n",
    "        self.encoder_video.apply(self.init_weights)\n",
    "        self.encoder_audio.apply(self.init_weights)\n",
    "        self.encoder_text.apply(self.init_weights)\n",
    "        self.encoder_meta.apply(self.init_weights)\n",
    "        self.siamese.apply(self.init_weights)\n",
    "        self.ffn.apply(self.init_weights)\n",
    "        \n",
    "    def init_weights(self, m):\n",
    "        if isinstance(m, nn.Linear):\n",
    "            nn.init.kaiming_normal_(m.weight)\n",
    "            m.bias.data.fill_(0.01)\n",
    "            \n",
    "    def exp(self, q, k, v):\n",
    "        z = torch.bmm(q, k.permute(0, 2, 1))\n",
    "        z = F.normalize(z, p = 10, dim = 1)\n",
    "        z = torch.softmax(z, 1)\n",
    "        z = torch.bmm(z, v)\n",
    "        return(z)\n",
    "        \n",
    "    def forward(self, x1, x2):\n",
    "        # Modality-encoders\n",
    "        outu = self.encoder_user(x1)\n",
    "        outr = self.encoder_item(x2[3])\n",
    "        outv = torch.split(self.encoder_video(x2[0]), [100, 100, 100], 1)\n",
    "        outa = torch.split(self.encoder_audio(x2[1]), [100, 100, 100], 1)\n",
    "        outt = torch.split(self.encoder_text(x2[2]), 100, 1)\n",
    "        outm = torch.split(self.encoder_meta(x2[4]), [100, 100, 100], 1)\n",
    "        \n",
    "        # Attention\n",
    "        q_t = outt[0].unsqueeze(1).repeat(1, ROW, 1)\n",
    "        k_t = outt[1].unsqueeze(1).repeat(1, ROW, 1)\n",
    "        v_t = outt[2].unsqueeze(1).repeat(1, ROW, 1)\n",
    "\n",
    "        q_a = outa[0].unsqueeze(1).repeat(1, ROW, 1)\n",
    "        k_a = outa[1].unsqueeze(1).repeat(1, ROW, 1)\n",
    "        v_a = outa[2].unsqueeze(1).repeat(1, ROW, 1)\n",
    "        \n",
    "        q_v = outv[0].unsqueeze(1).repeat(1, ROW, 1)\n",
    "        k_v = outv[1].unsqueeze(1).repeat(1, ROW, 1)\n",
    "        v_v = outv[2].unsqueeze(1).repeat(1, ROW, 1)\n",
    "        \n",
    "        q_m = outm[0].unsqueeze(1).repeat(1, ROW, 1)\n",
    "        k_m = outm[1].unsqueeze(1).repeat(1, ROW, 1)\n",
    "        v_m = outm[2].unsqueeze(1).repeat(1, ROW, 1)\n",
    "        \n",
    "        # Self-Attention\n",
    "        st = self.exp(q_t, k_t, v_t)\n",
    "        sm = self.exp(q_m, k_m, v_m)\n",
    "        sa = self.exp(q_a, k_a, v_a)\n",
    "        sv = self.exp(q_v, k_v, v_v)\n",
    "\n",
    "        # Inter-Modal Attention\n",
    "        ita = self.exp(q_a, k_t, v_a)\n",
    "        imv = self.exp(q_v, k_m, v_v)\n",
    "        itm = self.exp(q_m, k_t, v_m)\n",
    "        \n",
    "        # Forward\n",
    "        ma = torch.mean(torch.stack([sa, ita]), 0)\n",
    "        mv = torch.mean(torch.stack([sv, imv]), 0)\n",
    "        sda = itm\n",
    "        se = torch.mul(ma, mv)\n",
    "        outi = torch.cat((sda, se), axis = 2)#.reshape(-1, ROW * 1200)\n",
    "        outi = self.fusion(outi.unsqueeze(1))\n",
    "        out1 = self.siamese(outu)\n",
    "        out2 = self.siamese(outi.reshape(BATCH, -1))\n",
    "        diff = torch.cat((out1, out2, outm[2]), axis=1)\n",
    "        out = self.ffn(diff)\n",
    "        return(out, out1, out2)\n",
    "    \n",
    "    def fit(self, trainloader = trainloader, \n",
    "            testloader = testloader, epochs = 100):\n",
    "        self.criterion_rate = weighted_mse_loss\n",
    "        self.criterion_embd = nn.CosineEmbeddingLoss()\n",
    "        self.optimizer = optim.Adam(self.parameters(), lr = 1e-4)\n",
    "        \n",
    "        train_loss = []\n",
    "        train_f1 = []\n",
    "        test_loss = []\n",
    "        test_f1 = []\n",
    "        for epoch in range(epochs):\n",
    "            running_loss = 0.0\n",
    "            running_loss_1 = 0.0\n",
    "            \n",
    "            for i, data in tqdm(enumerate(trainloader)):\n",
    "                self.train()\n",
    "                x1, x2, y = data\n",
    "                y_flt = y.type(torch.FloatTensor).to(device)\n",
    "                y_lng = torch.div(y, 4, rounding_mode=\"floor\").to(device)\n",
    "                self.optimizer.zero_grad()\n",
    "                reg, outu, outi = self.forward(x1, x2)\n",
    "                loss_1, loss_ = self.criterion_rate(reg.squeeze(), y_flt)\n",
    "                loss_2 = self.criterion_embd(outu, outi, y_lng * 2 - 1)\n",
    "                loss = loss_1 + loss_2 \n",
    "                loss.backward()\n",
    "                self.optimizer.step()\n",
    "\n",
    "                running_loss_1 += torch.sqrt(loss_)\n",
    "                running_loss += loss\n",
    "            vl, vp, vr, vf, tp, tr, tf = self.evaluate()\n",
    "            print('Epoch-%d: Loss = %.3f\\nTrain RMSE = %.3f||Train Precision = %.3f||Train Recall = %.3f\\nTest RMSE = %.3f || Test Precision = %.3f|| Test Recall = %.3f'%\n",
    "                  (epoch + 1, running_loss / i, running_loss_1 / i, \n",
    "                   tp, tr, vl, vp, vr))\n",
    "            train_loss.append((running_loss_1 / i).cpu().detach().numpy())\n",
    "            test_loss.append(vl.cpu().detach().numpy())\n",
    "            train_f1.append(tf)\n",
    "            test_f1.append(vf)\n",
    "        return(train_loss, test_loss, train_f1, test_f1)\n",
    "            \n",
    "    def evaluate(self, k = 3.5):\n",
    "        self.eval()\n",
    "        with torch.no_grad():\n",
    "            valdata = next(iter(testloader))\n",
    "            x1, x2, y = valdata\n",
    "            y_flt = y.type(torch.FloatTensor).to(device)\n",
    "            y_lng = torch.div(y, 4, rounding_mode=\"floor\").to(device)\n",
    "            otpt = self.forward(x1, x2)\n",
    "            pred = (otpt[0] > k).float()\n",
    "            vl = torch.sqrt(self.criterion_rate(otpt[0].squeeze(), y_flt)[1])\n",
    "            vp = precision_score(y_lng.cpu(), pred.cpu(), zero_division = 0)\n",
    "            vr = recall_score(y_lng.cpu(), pred.cpu(), zero_division = 0)\n",
    "            vf = f1_score(y_lng.cpu(), pred.cpu(), zero_division = 0)\n",
    "            print(classification_report(y_lng.cpu(), pred.cpu(),\n",
    "                    target_names = [\"0\", \"1\"], zero_division = 0))\n",
    "            \n",
    "            traindata = next(iter(trainloader))\n",
    "            x1, x2, y = traindata\n",
    "            y_flt = y.type(torch.FloatTensor).to(device)\n",
    "            y_lng = torch.div(y, 4, rounding_mode=\"floor\").to(device)\n",
    "            otpt = self.forward(x1, x2)\n",
    "            pred = (otpt[0] > k).float()\n",
    "            tp = precision_score(y_lng.cpu(), pred.cpu(), zero_division = 0)\n",
    "            tr = recall_score(y_lng.cpu(), pred.cpu(), zero_division = 0)\n",
    "            tf = f1_score(y_lng.cpu(), pred.cpu(), zero_division = 0)\n",
    "        return(vl, vp*100, vr*100, vf*100, tp*100, tr*100, tf*100)"
   ]
  },
  {
   "cell_type": "code",
   "execution_count": 23,
   "id": "356dfda8",
   "metadata": {
    "scrolled": true
   },
   "outputs": [
    {
     "data": {
      "text/plain": [
       "SiameseNet(\n",
       "  (encoder_user): Sequential(\n",
       "    (linr1): Linear(in_features=1220, out_features=1024, bias=True)\n",
       "    (relu1): LeakyReLU(negative_slope=0.01)\n",
       "    (linr2): Linear(in_features=1024, out_features=84, bias=True)\n",
       "    (relu2): LeakyReLU(negative_slope=0.01)\n",
       "  )\n",
       "  (encoder_item): Sequential(\n",
       "    (linr1): Linear(in_features=943, out_features=256, bias=True)\n",
       "    (relu1): LeakyReLU(negative_slope=0.01)\n",
       "    (linr2): Linear(in_features=256, out_features=300, bias=True)\n",
       "    (relu2): LeakyReLU(negative_slope=0.01)\n",
       "  )\n",
       "  (encoder_video): Sequential(\n",
       "    (linr1): Linear(in_features=1024, out_features=1600, bias=True)\n",
       "    (relu1): LeakyReLU(negative_slope=0.01)\n",
       "    (linr2): Linear(in_features=1600, out_features=300, bias=True)\n",
       "    (relu2): LeakyReLU(negative_slope=0.01)\n",
       "  )\n",
       "  (encoder_audio): Sequential(\n",
       "    (linr1): Linear(in_features=1024, out_features=600, bias=True)\n",
       "    (relu1): LeakyReLU(negative_slope=0.01)\n",
       "    (linr4): Linear(in_features=600, out_features=300, bias=True)\n",
       "    (relu4): LeakyReLU(negative_slope=0.01)\n",
       "  )\n",
       "  (encoder_text): Sequential(\n",
       "    (linr1): Linear(in_features=384, out_features=256, bias=True)\n",
       "    (relu1): LeakyReLU(negative_slope=0.01)\n",
       "    (linr2): Linear(in_features=256, out_features=300, bias=True)\n",
       "    (relu2): LeakyReLU(negative_slope=0.01)\n",
       "  )\n",
       "  (encoder_meta): Sequential(\n",
       "    (linr1): Linear(in_features=1220, out_features=1600, bias=True)\n",
       "    (relu1): LeakyReLU(negative_slope=0.01)\n",
       "    (linr2): Linear(in_features=1600, out_features=300, bias=True)\n",
       "    (relu2): LeakyReLU(negative_slope=0.01)\n",
       "  )\n",
       "  (fusion): Sequential(\n",
       "    (conv1): Conv2d(1, 1, kernel_size=(20, 20), stride=(2, 2))\n",
       "    (relu1): LeakyReLU(negative_slope=0.01)\n",
       "    (conv2): Conv2d(1, 1, kernel_size=(5, 50), stride=(1, 1))\n",
       "    (relu2): LeakyReLU(negative_slope=0.01)\n",
       "  )\n",
       "  (siamese): Sequential(\n",
       "    (linr1): Linear(in_features=84, out_features=200, bias=True)\n",
       "    (relu1): LeakyReLU(negative_slope=0.01)\n",
       "    (linr2): Linear(in_features=200, out_features=256, bias=True)\n",
       "    (relu2): LeakyReLU(negative_slope=0.01)\n",
       "    (linr3): Linear(in_features=256, out_features=100, bias=True)\n",
       "    (relu3): LeakyReLU(negative_slope=0.01)\n",
       "  )\n",
       "  (ffn): Sequential(\n",
       "    (linr1): Linear(in_features=300, out_features=164, bias=True)\n",
       "    (actv1): ReLU()\n",
       "    (linr2): Linear(in_features=164, out_features=1, bias=True)\n",
       "  )\n",
       ")"
      ]
     },
     "execution_count": 23,
     "metadata": {},
     "output_type": "execute_result"
    }
   ],
   "source": [
    "sm_net = SiameseNet()\n",
    "sm_net.to(device)"
   ]
  },
  {
   "cell_type": "code",
   "execution_count": 24,
   "id": "bb3fd8e7",
   "metadata": {
    "scrolled": true,
    "tags": []
   },
   "outputs": [
    {
     "name": "stderr",
     "output_type": "stream",
     "text": [
      "40it [00:20,  1.94it/s]\n"
     ]
    },
    {
     "name": "stdout",
     "output_type": "stream",
     "text": [
      "tensor([[1.5956],\n",
      "        [2.7136],\n",
      "        [1.5956],\n",
      "        ...,\n",
      "        [1.6860],\n",
      "        [2.8690],\n",
      "        [2.6537]], device='cuda:0')\n",
      "              precision    recall  f1-score   support\n",
      "\n",
      "           0       0.43      1.00      0.61       865\n",
      "           1       1.00      0.01      0.01      1135\n",
      "\n",
      "    accuracy                           0.44      2000\n",
      "   macro avg       0.72      0.50      0.31      2000\n",
      "weighted avg       0.76      0.44      0.27      2000\n",
      "\n",
      "Epoch-1: Loss = 7.350\n",
      "Train RMSE = 1.951||Train Precision = 83.333||Train Recall = 0.465\n",
      "Test RMSE = 1.549 || Test Precision = 100.000|| Test Recall = 0.529\n"
     ]
    },
    {
     "name": "stderr",
     "output_type": "stream",
     "text": [
      "40it [00:20,  2.00it/s]\n"
     ]
    },
    {
     "name": "stdout",
     "output_type": "stream",
     "text": [
      "tensor([[2.2138],\n",
      "        [3.0360],\n",
      "        [2.2138],\n",
      "        ...,\n",
      "        [2.3245],\n",
      "        [3.1502],\n",
      "        [2.8408]], device='cuda:0')\n",
      "              precision    recall  f1-score   support\n",
      "\n",
      "           0       0.44      0.86      0.59       865\n",
      "           1       0.63      0.17      0.27      1135\n",
      "\n",
      "    accuracy                           0.47      2000\n",
      "   macro avg       0.54      0.52      0.43      2000\n",
      "weighted avg       0.55      0.47      0.41      2000\n",
      "\n",
      "Epoch-2: Loss = 4.043\n",
      "Train RMSE = 1.321||Train Precision = 78.472||Train Recall = 10.180\n",
      "Test RMSE = 1.372 || Test Precision = 62.857|| Test Recall = 17.445\n"
     ]
    },
    {
     "name": "stderr",
     "output_type": "stream",
     "text": [
      "40it [00:19,  2.01it/s]\n"
     ]
    },
    {
     "name": "stdout",
     "output_type": "stream",
     "text": [
      "tensor([[2.3965],\n",
      "        [3.1351],\n",
      "        [2.3965],\n",
      "        ...,\n",
      "        [2.4304],\n",
      "        [3.1768],\n",
      "        [2.7001]], device='cuda:0')\n",
      "              precision    recall  f1-score   support\n",
      "\n",
      "           0       0.47      0.85      0.60       865\n",
      "           1       0.70      0.27      0.38      1135\n",
      "\n",
      "    accuracy                           0.52      2000\n",
      "   macro avg       0.58      0.56      0.49      2000\n",
      "weighted avg       0.60      0.52      0.48      2000\n",
      "\n",
      "Epoch-3: Loss = 3.649\n",
      "Train RMSE = 1.238||Train Precision = 79.336||Train Recall = 19.060\n",
      "Test RMSE = 1.326 || Test Precision = 69.676|| Test Recall = 26.520\n"
     ]
    },
    {
     "name": "stderr",
     "output_type": "stream",
     "text": [
      "40it [00:20,  1.93it/s]\n"
     ]
    },
    {
     "name": "stdout",
     "output_type": "stream",
     "text": [
      "tensor([[2.5916],\n",
      "        [3.2604],\n",
      "        [2.5918],\n",
      "        ...,\n",
      "        [2.4739],\n",
      "        [3.1511],\n",
      "        [2.4628]], device='cuda:0')\n",
      "              precision    recall  f1-score   support\n",
      "\n",
      "           0       0.49      0.83      0.61       865\n",
      "           1       0.72      0.34      0.46      1135\n",
      "\n",
      "    accuracy                           0.55      2000\n",
      "   macro avg       0.61      0.58      0.54      2000\n",
      "weighted avg       0.62      0.55      0.53      2000\n",
      "\n",
      "Epoch-4: Loss = 3.348\n",
      "Train RMSE = 1.181||Train Precision = 76.562||Train Recall = 26.703\n",
      "Test RMSE = 1.293 || Test Precision = 72.180|| Test Recall = 33.833\n"
     ]
    },
    {
     "name": "stderr",
     "output_type": "stream",
     "text": [
      "40it [00:21,  1.90it/s]\n"
     ]
    },
    {
     "name": "stdout",
     "output_type": "stream",
     "text": [
      "tensor([[2.8393],\n",
      "        [3.4132],\n",
      "        [2.8396],\n",
      "        ...,\n",
      "        [2.6163],\n",
      "        [3.0950],\n",
      "        [2.3736]], device='cuda:0')\n",
      "              precision    recall  f1-score   support\n",
      "\n",
      "           0       0.51      0.78      0.62       865\n",
      "           1       0.72      0.44      0.54      1135\n",
      "\n",
      "    accuracy                           0.58      2000\n",
      "   macro avg       0.62      0.61      0.58      2000\n",
      "weighted avg       0.63      0.58      0.57      2000\n",
      "\n",
      "Epoch-5: Loss = 3.089\n",
      "Train RMSE = 1.138||Train Precision = 79.562||Train Recall = 39.315\n",
      "Test RMSE = 1.250 || Test Precision = 71.843|| Test Recall = 43.612\n"
     ]
    },
    {
     "name": "stderr",
     "output_type": "stream",
     "text": [
      "40it [00:20,  1.97it/s]\n"
     ]
    },
    {
     "name": "stdout",
     "output_type": "stream",
     "text": [
      "tensor([[3.0059],\n",
      "        [3.4508],\n",
      "        [3.0066],\n",
      "        ...,\n",
      "        [2.7488],\n",
      "        [3.1403],\n",
      "        [2.4371]], device='cuda:0')\n",
      "              precision    recall  f1-score   support\n",
      "\n",
      "           0       0.51      0.74      0.60       865\n",
      "           1       0.70      0.47      0.56      1135\n",
      "\n",
      "    accuracy                           0.58      2000\n",
      "   macro avg       0.61      0.60      0.58      2000\n",
      "weighted avg       0.62      0.58      0.58      2000\n",
      "\n",
      "Epoch-6: Loss = 2.881\n",
      "Train RMSE = 1.103||Train Precision = 75.542||Train Recall = 45.227\n",
      "Test RMSE = 1.232 || Test Precision = 69.960|| Test Recall = 46.784\n"
     ]
    },
    {
     "name": "stderr",
     "output_type": "stream",
     "text": [
      "40it [00:20,  1.99it/s]\n"
     ]
    },
    {
     "name": "stdout",
     "output_type": "stream",
     "text": [
      "tensor([[3.0940],\n",
      "        [3.4964],\n",
      "        [3.0949],\n",
      "        ...,\n",
      "        [2.8252],\n",
      "        [3.1452],\n",
      "        [2.5168]], device='cuda:0')\n",
      "              precision    recall  f1-score   support\n",
      "\n",
      "           0       0.52      0.70      0.60       865\n",
      "           1       0.69      0.50      0.58      1135\n",
      "\n",
      "    accuracy                           0.59      2000\n",
      "   macro avg       0.60      0.60      0.59      2000\n",
      "weighted avg       0.61      0.59      0.58      2000\n",
      "\n",
      "Epoch-7: Loss = 2.745\n",
      "Train RMSE = 1.081||Train Precision = 74.403||Train Recall = 52.825\n",
      "Test RMSE = 1.224 || Test Precision = 68.742|| Test Recall = 49.604\n"
     ]
    },
    {
     "name": "stderr",
     "output_type": "stream",
     "text": [
      "40it [00:20,  1.97it/s]\n"
     ]
    },
    {
     "name": "stdout",
     "output_type": "stream",
     "text": [
      "tensor([[3.1926],\n",
      "        [3.5134],\n",
      "        [3.1936],\n",
      "        ...,\n",
      "        [2.8812],\n",
      "        [3.1252],\n",
      "        [2.4338]], device='cuda:0')\n",
      "              precision    recall  f1-score   support\n",
      "\n",
      "           0       0.53      0.68      0.59       865\n",
      "           1       0.69      0.54      0.60      1135\n",
      "\n",
      "    accuracy                           0.60      2000\n",
      "   macro avg       0.61      0.61      0.60      2000\n",
      "weighted avg       0.62      0.60      0.60      2000\n",
      "\n",
      "Epoch-8: Loss = 2.658\n",
      "Train RMSE = 1.069||Train Precision = 73.908||Train Recall = 53.769\n",
      "Test RMSE = 1.220 || Test Precision = 68.729|| Test Recall = 53.833\n"
     ]
    },
    {
     "name": "stderr",
     "output_type": "stream",
     "text": [
      "40it [00:21,  1.86it/s]\n"
     ]
    },
    {
     "name": "stdout",
     "output_type": "stream",
     "text": [
      "tensor([[3.1982],\n",
      "        [3.3818],\n",
      "        [3.1998],\n",
      "        ...,\n",
      "        [2.9029],\n",
      "        [3.0128],\n",
      "        [2.5647]], device='cuda:0')\n",
      "              precision    recall  f1-score   support\n",
      "\n",
      "           0       0.52      0.71      0.60       865\n",
      "           1       0.69      0.50      0.58      1135\n",
      "\n",
      "    accuracy                           0.59      2000\n",
      "   macro avg       0.61      0.60      0.59      2000\n",
      "weighted avg       0.62      0.59      0.59      2000\n",
      "\n",
      "Epoch-9: Loss = 2.615\n",
      "Train RMSE = 1.063||Train Precision = 78.100||Train Recall = 52.622\n",
      "Test RMSE = 1.229 || Test Precision = 69.250|| Test Recall = 49.604\n"
     ]
    },
    {
     "name": "stderr",
     "output_type": "stream",
     "text": [
      "40it [00:21,  1.85it/s]\n"
     ]
    },
    {
     "name": "stdout",
     "output_type": "stream",
     "text": [
      "tensor([[3.1931],\n",
      "        [3.3514],\n",
      "        [3.1973],\n",
      "        ...,\n",
      "        [2.9382],\n",
      "        [3.0193],\n",
      "        [2.6722]], device='cuda:0')\n",
      "              precision    recall  f1-score   support\n",
      "\n",
      "           0       0.53      0.71      0.60       865\n",
      "           1       0.70      0.51      0.59      1135\n",
      "\n",
      "    accuracy                           0.60      2000\n",
      "   macro avg       0.61      0.61      0.60      2000\n",
      "weighted avg       0.62      0.60      0.60      2000\n",
      "\n",
      "Epoch-10: Loss = 2.561\n",
      "Train RMSE = 1.055||Train Precision = 77.891||Train Recall = 54.781\n",
      "Test RMSE = 1.218 || Test Precision = 69.690|| Test Recall = 51.454\n"
     ]
    },
    {
     "name": "stderr",
     "output_type": "stream",
     "text": [
      "40it [00:20,  1.94it/s]\n"
     ]
    },
    {
     "name": "stdout",
     "output_type": "stream",
     "text": [
      "tensor([[3.1704],\n",
      "        [3.2941],\n",
      "        [3.1902],\n",
      "        ...,\n",
      "        [2.8432],\n",
      "        [2.8998],\n",
      "        [2.4956]], device='cuda:0')\n",
      "              precision    recall  f1-score   support\n",
      "\n",
      "           0       0.50      0.77      0.61       865\n",
      "           1       0.71      0.42      0.53      1135\n",
      "\n",
      "    accuracy                           0.57      2000\n",
      "   macro avg       0.60      0.60      0.57      2000\n",
      "weighted avg       0.62      0.57      0.56      2000\n",
      "\n",
      "Epoch-11: Loss = 2.544\n",
      "Train RMSE = 1.053||Train Precision = 80.873||Train Recall = 49.493\n",
      "Test RMSE = 1.231 || Test Precision = 70.623|| Test Recall = 41.938\n"
     ]
    },
    {
     "name": "stderr",
     "output_type": "stream",
     "text": [
      "40it [00:20,  1.91it/s]\n"
     ]
    },
    {
     "name": "stdout",
     "output_type": "stream",
     "text": [
      "tensor([[3.3560],\n",
      "        [3.5087],\n",
      "        [3.4592],\n",
      "        ...,\n",
      "        [3.1698],\n",
      "        [3.0654],\n",
      "        [2.5907]], device='cuda:0')\n",
      "              precision    recall  f1-score   support\n",
      "\n",
      "           0       0.54      0.68      0.60       865\n",
      "           1       0.69      0.55      0.62      1135\n",
      "\n",
      "    accuracy                           0.61      2000\n",
      "   macro avg       0.62      0.62      0.61      2000\n",
      "weighted avg       0.63      0.61      0.61      2000\n",
      "\n",
      "Epoch-12: Loss = 2.499\n",
      "Train RMSE = 1.046||Train Precision = 78.548||Train Recall = 63.864\n",
      "Test RMSE = 1.216 || Test Precision = 69.469|| Test Recall = 55.330\n"
     ]
    },
    {
     "name": "stderr",
     "output_type": "stream",
     "text": [
      "40it [00:21,  1.89it/s]\n"
     ]
    },
    {
     "name": "stdout",
     "output_type": "stream",
     "text": [
      "tensor([[2.9647],\n",
      "        [3.1629],\n",
      "        [3.3054],\n",
      "        ...,\n",
      "        [3.0482],\n",
      "        [2.8975],\n",
      "        [2.5402]], device='cuda:0')\n",
      "              precision    recall  f1-score   support\n",
      "\n",
      "           0       0.51      0.77      0.61       865\n",
      "           1       0.71      0.43      0.53      1135\n",
      "\n",
      "    accuracy                           0.57      2000\n",
      "   macro avg       0.61      0.60      0.57      2000\n",
      "weighted avg       0.62      0.57      0.57      2000\n",
      "\n",
      "Epoch-13: Loss = 2.475\n",
      "Train RMSE = 1.041||Train Precision = 79.943||Train Recall = 50.498\n",
      "Test RMSE = 1.241 || Test Precision = 70.622|| Test Recall = 42.996\n"
     ]
    },
    {
     "name": "stderr",
     "output_type": "stream",
     "text": [
      "40it [00:23,  1.70it/s]\n"
     ]
    },
    {
     "name": "stdout",
     "output_type": "stream",
     "text": [
      "tensor([[3.2415],\n",
      "        [3.3551],\n",
      "        [3.4970],\n",
      "        ...,\n",
      "        [3.2441],\n",
      "        [2.9551],\n",
      "        [2.5820]], device='cuda:0')\n",
      "              precision    recall  f1-score   support\n",
      "\n",
      "           0       0.53      0.72      0.61       865\n",
      "           1       0.71      0.51      0.59      1135\n",
      "\n",
      "    accuracy                           0.60      2000\n",
      "   macro avg       0.62      0.62      0.60      2000\n",
      "weighted avg       0.63      0.60      0.60      2000\n",
      "\n",
      "Epoch-14: Loss = 2.458\n",
      "Train RMSE = 1.041||Train Precision = 77.255||Train Recall = 56.037\n",
      "Test RMSE = 1.206 || Test Precision = 70.818|| Test Recall = 51.101\n"
     ]
    },
    {
     "name": "stderr",
     "output_type": "stream",
     "text": [
      "40it [00:21,  1.89it/s]\n"
     ]
    },
    {
     "name": "stdout",
     "output_type": "stream",
     "text": [
      "tensor([[3.0220],\n",
      "        [3.3015],\n",
      "        [3.5210],\n",
      "        ...,\n",
      "        [3.2272],\n",
      "        [2.9315],\n",
      "        [2.5255]], device='cuda:0')\n",
      "              precision    recall  f1-score   support\n",
      "\n",
      "           0       0.53      0.71      0.61       865\n",
      "           1       0.70      0.52      0.59      1135\n",
      "\n",
      "    accuracy                           0.60      2000\n",
      "   macro avg       0.62      0.61      0.60      2000\n",
      "weighted avg       0.63      0.60      0.60      2000\n",
      "\n",
      "Epoch-15: Loss = 2.445\n",
      "Train RMSE = 1.037||Train Precision = 79.106||Train Recall = 57.557\n",
      "Test RMSE = 1.214 || Test Precision = 70.312|| Test Recall = 51.542\n"
     ]
    },
    {
     "name": "stderr",
     "output_type": "stream",
     "text": [
      "40it [00:21,  1.86it/s]\n"
     ]
    },
    {
     "name": "stdout",
     "output_type": "stream",
     "text": [
      "tensor([[3.0084],\n",
      "        [3.2972],\n",
      "        [3.5398],\n",
      "        ...,\n",
      "        [3.3029],\n",
      "        [3.0000],\n",
      "        [2.5555]], device='cuda:0')\n",
      "              precision    recall  f1-score   support\n",
      "\n",
      "           0       0.54      0.72      0.62       865\n",
      "           1       0.71      0.52      0.60      1135\n",
      "\n",
      "    accuracy                           0.61      2000\n",
      "   macro avg       0.62      0.62      0.61      2000\n",
      "weighted avg       0.64      0.61      0.61      2000\n",
      "\n",
      "Epoch-16: Loss = 2.428\n",
      "Train RMSE = 1.035||Train Precision = 78.748||Train Recall = 53.737\n",
      "Test RMSE = 1.203 || Test Precision = 71.239|| Test Recall = 52.159\n"
     ]
    },
    {
     "name": "stderr",
     "output_type": "stream",
     "text": [
      "40it [00:20,  1.94it/s]\n"
     ]
    },
    {
     "name": "stdout",
     "output_type": "stream",
     "text": [
      "tensor([[3.3252],\n",
      "        [3.3622],\n",
      "        [3.6454],\n",
      "        ...,\n",
      "        [3.3421],\n",
      "        [3.0680],\n",
      "        [2.6347]], device='cuda:0')\n",
      "              precision    recall  f1-score   support\n",
      "\n",
      "           0       0.54      0.70      0.61       865\n",
      "           1       0.71      0.55      0.62      1135\n",
      "\n",
      "    accuracy                           0.62      2000\n",
      "   macro avg       0.63      0.63      0.62      2000\n",
      "weighted avg       0.64      0.62      0.62      2000\n",
      "\n",
      "Epoch-17: Loss = 2.423\n",
      "Train RMSE = 1.035||Train Precision = 79.361||Train Recall = 61.053\n",
      "Test RMSE = 1.204 || Test Precision = 70.833|| Test Recall = 55.419\n"
     ]
    },
    {
     "name": "stderr",
     "output_type": "stream",
     "text": [
      "40it [00:20,  1.93it/s]\n"
     ]
    },
    {
     "name": "stdout",
     "output_type": "stream",
     "text": [
      "tensor([[2.8217],\n",
      "        [3.0945],\n",
      "        [3.4919],\n",
      "        ...,\n",
      "        [3.3256],\n",
      "        [2.9002],\n",
      "        [2.4194]], device='cuda:0')\n",
      "              precision    recall  f1-score   support\n",
      "\n",
      "           0       0.52      0.76      0.62       865\n",
      "           1       0.71      0.46      0.56      1135\n",
      "\n",
      "    accuracy                           0.59      2000\n",
      "   macro avg       0.62      0.61      0.59      2000\n",
      "weighted avg       0.63      0.59      0.58      2000\n",
      "\n",
      "Epoch-18: Loss = 2.417\n",
      "Train RMSE = 1.034||Train Precision = 79.358||Train Recall = 51.680\n",
      "Test RMSE = 1.222 || Test Precision = 71.429|| Test Recall = 46.256\n"
     ]
    },
    {
     "name": "stderr",
     "output_type": "stream",
     "text": [
      "40it [00:20,  1.92it/s]\n"
     ]
    },
    {
     "name": "stdout",
     "output_type": "stream",
     "text": [
      "tensor([[2.7610],\n",
      "        [3.2381],\n",
      "        [3.6533],\n",
      "        ...,\n",
      "        [3.3449],\n",
      "        [2.9384],\n",
      "        [2.4969]], device='cuda:0')\n",
      "              precision    recall  f1-score   support\n",
      "\n",
      "           0       0.53      0.75      0.62       865\n",
      "           1       0.72      0.50      0.59      1135\n",
      "\n",
      "    accuracy                           0.61      2000\n",
      "   macro avg       0.63      0.62      0.61      2000\n",
      "weighted avg       0.64      0.61      0.60      2000\n",
      "\n",
      "Epoch-19: Loss = 2.404\n",
      "Train RMSE = 1.034||Train Precision = 81.603||Train Recall = 55.200\n",
      "Test RMSE = 1.207 || Test Precision = 72.401|| Test Recall = 49.692\n"
     ]
    },
    {
     "name": "stderr",
     "output_type": "stream",
     "text": [
      "40it [00:20,  1.91it/s]\n"
     ]
    },
    {
     "name": "stdout",
     "output_type": "stream",
     "text": [
      "tensor([[3.2329],\n",
      "        [3.3034],\n",
      "        [3.7045],\n",
      "        ...,\n",
      "        [3.4748],\n",
      "        [3.0666],\n",
      "        [2.5374]], device='cuda:0')\n",
      "              precision    recall  f1-score   support\n",
      "\n",
      "           0       0.55      0.69      0.61       865\n",
      "           1       0.71      0.57      0.63      1135\n",
      "\n",
      "    accuracy                           0.62      2000\n",
      "   macro avg       0.63      0.63      0.62      2000\n",
      "weighted avg       0.64      0.62      0.62      2000\n",
      "\n",
      "Epoch-20: Loss = 2.402\n",
      "Train RMSE = 1.033||Train Precision = 79.200||Train Recall = 61.986\n",
      "Test RMSE = 1.204 || Test Precision = 70.504|| Test Recall = 56.652\n"
     ]
    },
    {
     "name": "stderr",
     "output_type": "stream",
     "text": [
      "40it [00:20,  1.96it/s]\n"
     ]
    },
    {
     "name": "stdout",
     "output_type": "stream",
     "text": [
      "tensor([[2.8721],\n",
      "        [3.3233],\n",
      "        [3.6945],\n",
      "        ...,\n",
      "        [3.4249],\n",
      "        [3.0203],\n",
      "        [2.5574]], device='cuda:0')\n",
      "              precision    recall  f1-score   support\n",
      "\n",
      "           0       0.55      0.72      0.62       865\n",
      "           1       0.72      0.55      0.62      1135\n",
      "\n",
      "    accuracy                           0.62      2000\n",
      "   macro avg       0.63      0.63      0.62      2000\n",
      "weighted avg       0.64      0.62      0.62      2000\n",
      "\n",
      "Epoch-21: Loss = 2.395\n",
      "Train RMSE = 1.033||Train Precision = 80.751||Train Recall = 58.870\n",
      "Test RMSE = 1.190 || Test Precision = 71.824|| Test Recall = 54.802\n"
     ]
    },
    {
     "name": "stderr",
     "output_type": "stream",
     "text": [
      "40it [00:21,  1.87it/s]\n"
     ]
    },
    {
     "name": "stdout",
     "output_type": "stream",
     "text": [
      "tensor([[2.9393],\n",
      "        [3.1966],\n",
      "        [3.6754],\n",
      "        ...,\n",
      "        [3.4929],\n",
      "        [2.9873],\n",
      "        [2.6350]], device='cuda:0')\n",
      "              precision    recall  f1-score   support\n",
      "\n",
      "           0       0.53      0.73      0.62       865\n",
      "           1       0.71      0.51      0.60      1135\n",
      "\n",
      "    accuracy                           0.61      2000\n",
      "   macro avg       0.62      0.62      0.61      2000\n",
      "weighted avg       0.63      0.61      0.61      2000\n",
      "\n",
      "Epoch-22: Loss = 2.389\n",
      "Train RMSE = 1.029||Train Precision = 78.479||Train Recall = 54.964\n",
      "Test RMSE = 1.200 || Test Precision = 71.220|| Test Recall = 51.454\n"
     ]
    },
    {
     "name": "stderr",
     "output_type": "stream",
     "text": [
      "40it [00:22,  1.79it/s]\n"
     ]
    },
    {
     "name": "stdout",
     "output_type": "stream",
     "text": [
      "tensor([[2.7705],\n",
      "        [3.2558],\n",
      "        [3.7498],\n",
      "        ...,\n",
      "        [3.4042],\n",
      "        [2.9421],\n",
      "        [2.5224]], device='cuda:0')\n",
      "              precision    recall  f1-score   support\n",
      "\n",
      "           0       0.53      0.74      0.62       865\n",
      "           1       0.72      0.51      0.59      1135\n",
      "\n",
      "    accuracy                           0.61      2000\n",
      "   macro avg       0.63      0.62      0.61      2000\n",
      "weighted avg       0.64      0.61      0.60      2000\n",
      "\n",
      "Epoch-23: Loss = 2.381\n",
      "Train RMSE = 1.030||Train Precision = 75.876||Train Recall = 51.228\n",
      "Test RMSE = 1.212 || Test Precision = 71.840|| Test Recall = 50.573\n"
     ]
    },
    {
     "name": "stderr",
     "output_type": "stream",
     "text": [
      "40it [00:20,  1.93it/s]\n"
     ]
    },
    {
     "name": "stdout",
     "output_type": "stream",
     "text": [
      "tensor([[3.0520],\n",
      "        [3.2757],\n",
      "        [3.7468],\n",
      "        ...,\n",
      "        [3.5474],\n",
      "        [3.0093],\n",
      "        [2.5744]], device='cuda:0')\n",
      "              precision    recall  f1-score   support\n",
      "\n",
      "           0       0.55      0.70      0.61       865\n",
      "           1       0.71      0.56      0.62      1135\n",
      "\n",
      "    accuracy                           0.62      2000\n",
      "   macro avg       0.63      0.63      0.62      2000\n",
      "weighted avg       0.64      0.62      0.62      2000\n",
      "\n",
      "Epoch-24: Loss = 2.387\n",
      "Train RMSE = 1.032||Train Precision = 78.353||Train Recall = 60.381\n",
      "Test RMSE = 1.181 || Test Precision = 70.946|| Test Recall = 55.507\n"
     ]
    },
    {
     "name": "stderr",
     "output_type": "stream",
     "text": [
      "40it [00:20,  1.95it/s]\n"
     ]
    },
    {
     "name": "stdout",
     "output_type": "stream",
     "text": [
      "tensor([[2.7034],\n",
      "        [3.3144],\n",
      "        [3.8055],\n",
      "        ...,\n",
      "        [3.4600],\n",
      "        [3.0557],\n",
      "        [2.5796]], device='cuda:0')\n",
      "              precision    recall  f1-score   support\n",
      "\n",
      "           0       0.55      0.71      0.62       865\n",
      "           1       0.71      0.55      0.62      1135\n",
      "\n",
      "    accuracy                           0.62      2000\n",
      "   macro avg       0.63      0.63      0.62      2000\n",
      "weighted avg       0.64      0.62      0.62      2000\n",
      "\n",
      "Epoch-25: Loss = 2.370\n",
      "Train RMSE = 1.027||Train Precision = 78.674||Train Recall = 62.511\n",
      "Test RMSE = 1.187 || Test Precision = 71.364|| Test Recall = 55.330\n"
     ]
    },
    {
     "name": "stderr",
     "output_type": "stream",
     "text": [
      "40it [00:20,  1.94it/s]\n"
     ]
    },
    {
     "name": "stdout",
     "output_type": "stream",
     "text": [
      "tensor([[3.0383],\n",
      "        [3.3453],\n",
      "        [3.7788],\n",
      "        ...,\n",
      "        [3.4962],\n",
      "        [3.0426],\n",
      "        [2.5414]], device='cuda:0')\n",
      "              precision    recall  f1-score   support\n",
      "\n",
      "           0       0.54      0.71      0.62       865\n",
      "           1       0.71      0.55      0.62      1135\n",
      "\n",
      "    accuracy                           0.62      2000\n",
      "   macro avg       0.63      0.63      0.62      2000\n",
      "weighted avg       0.64      0.62      0.62      2000\n",
      "\n",
      "Epoch-26: Loss = 2.364\n",
      "Train RMSE = 1.027||Train Precision = 79.507||Train Recall = 63.677\n",
      "Test RMSE = 1.192 || Test Precision = 71.216|| Test Recall = 54.714\n"
     ]
    },
    {
     "name": "stderr",
     "output_type": "stream",
     "text": [
      "40it [00:20,  1.92it/s]\n"
     ]
    },
    {
     "name": "stdout",
     "output_type": "stream",
     "text": [
      "tensor([[2.9549],\n",
      "        [3.1762],\n",
      "        [3.7500],\n",
      "        ...,\n",
      "        [3.4018],\n",
      "        [2.8973],\n",
      "        [2.3598]], device='cuda:0')\n",
      "              precision    recall  f1-score   support\n",
      "\n",
      "           0       0.52      0.76      0.62       865\n",
      "           1       0.72      0.48      0.57      1135\n",
      "\n",
      "    accuracy                           0.60      2000\n",
      "   macro avg       0.62      0.62      0.60      2000\n",
      "weighted avg       0.64      0.60      0.59      2000\n",
      "\n",
      "Epoch-27: Loss = 2.361\n",
      "Train RMSE = 1.026||Train Precision = 79.076||Train Recall = 49.414\n",
      "Test RMSE = 1.223 || Test Precision = 72.000|| Test Recall = 47.577\n"
     ]
    },
    {
     "name": "stderr",
     "output_type": "stream",
     "text": [
      "40it [00:21,  1.88it/s]\n"
     ]
    },
    {
     "name": "stdout",
     "output_type": "stream",
     "text": [
      "tensor([[2.7318],\n",
      "        [3.2509],\n",
      "        [3.7694],\n",
      "        ...,\n",
      "        [3.3879],\n",
      "        [2.9998],\n",
      "        [2.4626]], device='cuda:0')\n",
      "              precision    recall  f1-score   support\n",
      "\n",
      "           0       0.54      0.74      0.62       865\n",
      "           1       0.72      0.52      0.60      1135\n",
      "\n",
      "    accuracy                           0.61      2000\n",
      "   macro avg       0.63      0.63      0.61      2000\n",
      "weighted avg       0.64      0.61      0.61      2000\n",
      "\n",
      "Epoch-28: Loss = 2.368\n",
      "Train RMSE = 1.029||Train Precision = 75.941||Train Recall = 51.645\n",
      "Test RMSE = 1.205 || Test Precision = 72.215|| Test Recall = 51.982\n"
     ]
    },
    {
     "name": "stderr",
     "output_type": "stream",
     "text": [
      "40it [00:21,  1.90it/s]\n"
     ]
    },
    {
     "name": "stdout",
     "output_type": "stream",
     "text": [
      "tensor([[2.8628],\n",
      "        [3.4093],\n",
      "        [3.8558],\n",
      "        ...,\n",
      "        [3.4947],\n",
      "        [2.9770],\n",
      "        [2.6464]], device='cuda:0')\n",
      "              precision    recall  f1-score   support\n",
      "\n",
      "           0       0.54      0.72      0.62       865\n",
      "           1       0.71      0.54      0.61      1135\n",
      "\n",
      "    accuracy                           0.61      2000\n",
      "   macro avg       0.63      0.63      0.61      2000\n",
      "weighted avg       0.64      0.61      0.61      2000\n",
      "\n",
      "Epoch-29: Loss = 2.354\n",
      "Train RMSE = 1.026||Train Precision = 77.576||Train Recall = 58.129\n",
      "Test RMSE = 1.201 || Test Precision = 71.311|| Test Recall = 53.656\n"
     ]
    },
    {
     "name": "stderr",
     "output_type": "stream",
     "text": [
      "40it [00:20,  1.94it/s]\n"
     ]
    },
    {
     "name": "stdout",
     "output_type": "stream",
     "text": [
      "tensor([[2.5902],\n",
      "        [3.1222],\n",
      "        [3.7596],\n",
      "        ...,\n",
      "        [3.3072],\n",
      "        [2.9094],\n",
      "        [2.4285]], device='cuda:0')\n",
      "              precision    recall  f1-score   support\n",
      "\n",
      "           0       0.52      0.77      0.62       865\n",
      "           1       0.72      0.46      0.56      1135\n",
      "\n",
      "    accuracy                           0.59      2000\n",
      "   macro avg       0.62      0.61      0.59      2000\n",
      "weighted avg       0.63      0.59      0.59      2000\n",
      "\n",
      "Epoch-30: Loss = 2.349\n",
      "Train RMSE = 1.024||Train Precision = 81.344||Train Recall = 52.385\n",
      "Test RMSE = 1.225 || Test Precision = 72.039|| Test Recall = 46.079\n"
     ]
    },
    {
     "name": "stderr",
     "output_type": "stream",
     "text": [
      "40it [00:20,  1.94it/s]\n"
     ]
    },
    {
     "name": "stdout",
     "output_type": "stream",
     "text": [
      "tensor([[2.8603],\n",
      "        [3.2264],\n",
      "        [3.8752],\n",
      "        ...,\n",
      "        [3.3777],\n",
      "        [2.9403],\n",
      "        [2.4733]], device='cuda:0')\n",
      "              precision    recall  f1-score   support\n",
      "\n",
      "           0       0.54      0.75      0.63       865\n",
      "           1       0.73      0.50      0.60      1135\n",
      "\n",
      "    accuracy                           0.61      2000\n",
      "   macro avg       0.63      0.63      0.61      2000\n",
      "weighted avg       0.65      0.61      0.61      2000\n",
      "\n",
      "Epoch-31: Loss = 2.350\n",
      "Train RMSE = 1.025||Train Precision = 80.336||Train Recall = 55.595\n",
      "Test RMSE = 1.202 || Test Precision = 72.808|| Test Recall = 50.485\n"
     ]
    },
    {
     "name": "stderr",
     "output_type": "stream",
     "text": [
      "40it [00:21,  1.88it/s]\n"
     ]
    },
    {
     "name": "stdout",
     "output_type": "stream",
     "text": [
      "tensor([[2.9843],\n",
      "        [3.3229],\n",
      "        [3.8910],\n",
      "        ...,\n",
      "        [3.4821],\n",
      "        [3.0351],\n",
      "        [2.5595]], device='cuda:0')\n",
      "              precision    recall  f1-score   support\n",
      "\n",
      "           0       0.55      0.71      0.62       865\n",
      "           1       0.71      0.55      0.62      1135\n",
      "\n",
      "    accuracy                           0.62      2000\n",
      "   macro avg       0.63      0.63      0.62      2000\n",
      "weighted avg       0.64      0.62      0.62      2000\n",
      "\n",
      "Epoch-32: Loss = 2.340\n",
      "Train RMSE = 1.022||Train Precision = 76.687||Train Recall = 57.978\n",
      "Test RMSE = 1.199 || Test Precision = 71.314|| Test Recall = 54.978\n"
     ]
    },
    {
     "name": "stderr",
     "output_type": "stream",
     "text": [
      "40it [00:20,  1.98it/s]\n"
     ]
    },
    {
     "name": "stdout",
     "output_type": "stream",
     "text": [
      "tensor([[2.4989],\n",
      "        [3.2273],\n",
      "        [3.8916],\n",
      "        ...,\n",
      "        [3.2621],\n",
      "        [2.9780],\n",
      "        [2.5428]], device='cuda:0')\n",
      "              precision    recall  f1-score   support\n",
      "\n",
      "           0       0.54      0.75      0.62       865\n",
      "           1       0.73      0.50      0.59      1135\n",
      "\n",
      "    accuracy                           0.61      2000\n",
      "   macro avg       0.63      0.63      0.61      2000\n",
      "weighted avg       0.64      0.61      0.61      2000\n",
      "\n",
      "Epoch-33: Loss = 2.333\n",
      "Train RMSE = 1.021||Train Precision = 80.224||Train Recall = 53.962\n",
      "Test RMSE = 1.214 || Test Precision = 72.589|| Test Recall = 50.396\n"
     ]
    },
    {
     "name": "stderr",
     "output_type": "stream",
     "text": [
      "40it [00:20,  1.94it/s]\n"
     ]
    },
    {
     "name": "stdout",
     "output_type": "stream",
     "text": [
      "tensor([[2.7668],\n",
      "        [3.2290],\n",
      "        [3.8362],\n",
      "        ...,\n",
      "        [3.3093],\n",
      "        [2.9908],\n",
      "        [2.5027]], device='cuda:0')\n",
      "              precision    recall  f1-score   support\n",
      "\n",
      "           0       0.55      0.74      0.63       865\n",
      "           1       0.73      0.53      0.62      1135\n",
      "\n",
      "    accuracy                           0.62      2000\n",
      "   macro avg       0.64      0.64      0.62      2000\n",
      "weighted avg       0.65      0.62      0.62      2000\n",
      "\n",
      "Epoch-34: Loss = 2.334\n",
      "Train RMSE = 1.022||Train Precision = 77.407||Train Recall = 57.682\n",
      "Test RMSE = 1.202 || Test Precision = 72.979|| Test Recall = 53.304\n"
     ]
    },
    {
     "name": "stderr",
     "output_type": "stream",
     "text": [
      "40it [00:20,  1.95it/s]\n"
     ]
    },
    {
     "name": "stdout",
     "output_type": "stream",
     "text": [
      "tensor([[2.6240],\n",
      "        [3.2416],\n",
      "        [3.8774],\n",
      "        ...,\n",
      "        [3.2808],\n",
      "        [3.0111],\n",
      "        [2.5015]], device='cuda:0')\n",
      "              precision    recall  f1-score   support\n",
      "\n",
      "           0       0.54      0.74      0.62       865\n",
      "           1       0.72      0.51      0.60      1135\n",
      "\n",
      "    accuracy                           0.61      2000\n",
      "   macro avg       0.63      0.63      0.61      2000\n",
      "weighted avg       0.64      0.61      0.61      2000\n",
      "\n",
      "Epoch-35: Loss = 2.319\n",
      "Train RMSE = 1.017||Train Precision = 81.586||Train Recall = 55.637\n",
      "Test RMSE = 1.210 || Test Precision = 72.139|| Test Recall = 51.101\n"
     ]
    },
    {
     "name": "stderr",
     "output_type": "stream",
     "text": [
      "40it [00:20,  1.93it/s]\n"
     ]
    },
    {
     "name": "stdout",
     "output_type": "stream",
     "text": [
      "tensor([[2.8470],\n",
      "        [3.2784],\n",
      "        [3.8996],\n",
      "        ...,\n",
      "        [3.3583],\n",
      "        [3.0960],\n",
      "        [2.6320]], device='cuda:0')\n",
      "              precision    recall  f1-score   support\n",
      "\n",
      "           0       0.55      0.73      0.63       865\n",
      "           1       0.73      0.54      0.62      1135\n",
      "\n",
      "    accuracy                           0.62      2000\n",
      "   macro avg       0.64      0.64      0.62      2000\n",
      "weighted avg       0.65      0.62      0.62      2000\n",
      "\n",
      "Epoch-36: Loss = 2.307\n",
      "Train RMSE = 1.015||Train Precision = 78.266||Train Recall = 58.114\n",
      "Test RMSE = 1.188 || Test Precision = 72.512|| Test Recall = 53.921\n"
     ]
    },
    {
     "name": "stderr",
     "output_type": "stream",
     "text": [
      "40it [00:21,  1.86it/s]\n"
     ]
    },
    {
     "name": "stdout",
     "output_type": "stream",
     "text": [
      "tensor([[2.5121],\n",
      "        [3.1870],\n",
      "        [3.8589],\n",
      "        ...,\n",
      "        [3.1566],\n",
      "        [2.9848],\n",
      "        [2.5169]], device='cuda:0')\n",
      "              precision    recall  f1-score   support\n",
      "\n",
      "           0       0.52      0.77      0.62       865\n",
      "           1       0.73      0.47      0.57      1135\n",
      "\n",
      "    accuracy                           0.60      2000\n",
      "   macro avg       0.63      0.62      0.60      2000\n",
      "weighted avg       0.64      0.60      0.59      2000\n",
      "\n",
      "Epoch-37: Loss = 2.297\n",
      "Train RMSE = 1.012||Train Precision = 80.417||Train Recall = 52.636\n",
      "Test RMSE = 1.227 || Test Precision = 72.865|| Test Recall = 46.608\n"
     ]
    },
    {
     "name": "stderr",
     "output_type": "stream",
     "text": [
      "40it [00:21,  1.86it/s]\n"
     ]
    },
    {
     "name": "stdout",
     "output_type": "stream",
     "text": [
      "tensor([[2.8401],\n",
      "        [3.4728],\n",
      "        [4.0908],\n",
      "        ...,\n",
      "        [3.3596],\n",
      "        [3.1087],\n",
      "        [2.6203]], device='cuda:0')\n",
      "              precision    recall  f1-score   support\n",
      "\n",
      "           0       0.56      0.69      0.62       865\n",
      "           1       0.72      0.59      0.65      1135\n",
      "\n",
      "    accuracy                           0.63      2000\n",
      "   macro avg       0.64      0.64      0.63      2000\n",
      "weighted avg       0.65      0.63      0.64      2000\n",
      "\n",
      "Epoch-38: Loss = 2.299\n",
      "Train RMSE = 1.014||Train Precision = 78.041||Train Recall = 63.403\n",
      "Test RMSE = 1.188 || Test Precision = 71.505|| Test Recall = 59.031\n"
     ]
    },
    {
     "name": "stderr",
     "output_type": "stream",
     "text": [
      "40it [00:21,  1.82it/s]\n"
     ]
    },
    {
     "name": "stdout",
     "output_type": "stream",
     "text": [
      "tensor([[2.4862],\n",
      "        [3.2741],\n",
      "        [3.9759],\n",
      "        ...,\n",
      "        [3.0948],\n",
      "        [3.0330],\n",
      "        [2.6061]], device='cuda:0')\n",
      "              precision    recall  f1-score   support\n",
      "\n",
      "           0       0.54      0.74      0.62       865\n",
      "           1       0.72      0.52      0.60      1135\n",
      "\n",
      "    accuracy                           0.61      2000\n",
      "   macro avg       0.63      0.63      0.61      2000\n",
      "weighted avg       0.64      0.61      0.61      2000\n",
      "\n",
      "Epoch-39: Loss = 2.284\n",
      "Train RMSE = 1.011||Train Precision = 77.763||Train Recall = 55.064\n",
      "Test RMSE = 1.205 || Test Precision = 72.133|| Test Recall = 51.542\n"
     ]
    },
    {
     "name": "stderr",
     "output_type": "stream",
     "text": [
      "40it [00:20,  1.94it/s]\n"
     ]
    },
    {
     "name": "stdout",
     "output_type": "stream",
     "text": [
      "tensor([[2.8444],\n",
      "        [3.3586],\n",
      "        [3.9695],\n",
      "        ...,\n",
      "        [3.2436],\n",
      "        [3.0974],\n",
      "        [2.6184]], device='cuda:0')\n",
      "              precision    recall  f1-score   support\n",
      "\n",
      "           0       0.54      0.74      0.62       865\n",
      "           1       0.72      0.53      0.61      1135\n",
      "\n",
      "    accuracy                           0.62      2000\n",
      "   macro avg       0.63      0.63      0.62      2000\n",
      "weighted avg       0.64      0.62      0.62      2000\n",
      "\n",
      "Epoch-40: Loss = 2.279\n",
      "Train RMSE = 1.008||Train Precision = 79.208||Train Recall = 57.451\n",
      "Test RMSE = 1.201 || Test Precision = 72.330|| Test Recall = 52.511\n"
     ]
    },
    {
     "name": "stderr",
     "output_type": "stream",
     "text": [
      "40it [00:20,  1.93it/s]\n"
     ]
    },
    {
     "name": "stdout",
     "output_type": "stream",
     "text": [
      "tensor([[2.8807],\n",
      "        [3.3937],\n",
      "        [4.0918],\n",
      "        ...,\n",
      "        [3.2630],\n",
      "        [3.1539],\n",
      "        [2.7044]], device='cuda:0')\n",
      "              precision    recall  f1-score   support\n",
      "\n",
      "           0       0.56      0.70      0.62       865\n",
      "           1       0.72      0.59      0.65      1135\n",
      "\n",
      "    accuracy                           0.64      2000\n",
      "   macro avg       0.64      0.64      0.63      2000\n",
      "weighted avg       0.65      0.64      0.64      2000\n",
      "\n",
      "Epoch-41: Loss = 2.265\n",
      "Train RMSE = 1.005||Train Precision = 78.305||Train Recall = 61.004\n",
      "Test RMSE = 1.183 || Test Precision = 71.892|| Test Recall = 58.590\n"
     ]
    },
    {
     "name": "stderr",
     "output_type": "stream",
     "text": [
      "40it [00:21,  1.87it/s]\n"
     ]
    },
    {
     "name": "stdout",
     "output_type": "stream",
     "text": [
      "tensor([[2.6777],\n",
      "        [3.3020],\n",
      "        [4.0549],\n",
      "        ...,\n",
      "        [3.2294],\n",
      "        [3.2160],\n",
      "        [2.6679]], device='cuda:0')\n",
      "              precision    recall  f1-score   support\n",
      "\n",
      "           0       0.54      0.74      0.62       865\n",
      "           1       0.72      0.52      0.60      1135\n",
      "\n",
      "    accuracy                           0.61      2000\n",
      "   macro avg       0.63      0.63      0.61      2000\n",
      "weighted avg       0.64      0.61      0.61      2000\n",
      "\n",
      "Epoch-42: Loss = 2.257\n",
      "Train RMSE = 1.002||Train Precision = 77.027||Train Recall = 58.543\n",
      "Test RMSE = 1.195 || Test Precision = 72.414|| Test Recall = 51.806\n"
     ]
    },
    {
     "name": "stderr",
     "output_type": "stream",
     "text": [
      "40it [00:20,  1.93it/s]\n"
     ]
    },
    {
     "name": "stdout",
     "output_type": "stream",
     "text": [
      "tensor([[3.0557],\n",
      "        [3.3531],\n",
      "        [4.0914],\n",
      "        ...,\n",
      "        [3.2277],\n",
      "        [3.2481],\n",
      "        [2.7230]], device='cuda:0')\n",
      "              precision    recall  f1-score   support\n",
      "\n",
      "           0       0.56      0.72      0.63       865\n",
      "           1       0.72      0.56      0.63      1135\n",
      "\n",
      "    accuracy                           0.63      2000\n",
      "   macro avg       0.64      0.64      0.63      2000\n",
      "weighted avg       0.65      0.63      0.63      2000\n",
      "\n",
      "Epoch-43: Loss = 2.255\n",
      "Train RMSE = 1.004||Train Precision = 80.914||Train Recall = 62.933\n",
      "Test RMSE = 1.181 || Test Precision = 72.429|| Test Recall = 56.476\n"
     ]
    },
    {
     "name": "stderr",
     "output_type": "stream",
     "text": [
      "40it [00:21,  1.83it/s]\n"
     ]
    },
    {
     "name": "stdout",
     "output_type": "stream",
     "text": [
      "tensor([[2.5323],\n",
      "        [3.0974],\n",
      "        [3.8880],\n",
      "        ...,\n",
      "        [2.9617],\n",
      "        [3.1786],\n",
      "        [2.7549]], device='cuda:0')\n",
      "              precision    recall  f1-score   support\n",
      "\n",
      "           0       0.52      0.78      0.62       865\n",
      "           1       0.73      0.44      0.55      1135\n",
      "\n",
      "    accuracy                           0.59      2000\n",
      "   macro avg       0.62      0.61      0.59      2000\n",
      "weighted avg       0.64      0.59      0.58      2000\n",
      "\n",
      "Epoch-44: Loss = 2.254\n",
      "Train RMSE = 1.003||Train Precision = 83.528||Train Recall = 51.206\n",
      "Test RMSE = 1.205 || Test Precision = 72.688|| Test Recall = 44.317\n"
     ]
    },
    {
     "name": "stderr",
     "output_type": "stream",
     "text": [
      "40it [00:21,  1.90it/s]\n"
     ]
    },
    {
     "name": "stdout",
     "output_type": "stream",
     "text": [
      "tensor([[2.7593],\n",
      "        [3.2869],\n",
      "        [4.0490],\n",
      "        ...,\n",
      "        [3.1103],\n",
      "        [3.3445],\n",
      "        [2.9344]], device='cuda:0')\n",
      "              precision    recall  f1-score   support\n",
      "\n",
      "           0       0.55      0.72      0.62       865\n",
      "           1       0.72      0.54      0.62      1135\n",
      "\n",
      "    accuracy                           0.62      2000\n",
      "   macro avg       0.63      0.63      0.62      2000\n",
      "weighted avg       0.64      0.62      0.62      2000\n",
      "\n",
      "Epoch-45: Loss = 2.231\n",
      "Train RMSE = 0.997||Train Precision = 80.138||Train Recall = 61.825\n",
      "Test RMSE = 1.183 || Test Precision = 71.981|| Test Recall = 54.097\n"
     ]
    },
    {
     "name": "stderr",
     "output_type": "stream",
     "text": [
      "40it [00:20,  1.96it/s]\n"
     ]
    },
    {
     "name": "stdout",
     "output_type": "stream",
     "text": [
      "tensor([[2.7827],\n",
      "        [3.4190],\n",
      "        [4.1219],\n",
      "        ...,\n",
      "        [3.1269],\n",
      "        [3.3405],\n",
      "        [2.8914]], device='cuda:0')\n",
      "              precision    recall  f1-score   support\n",
      "\n",
      "           0       0.55      0.72      0.62       865\n",
      "           1       0.72      0.55      0.62      1135\n",
      "\n",
      "    accuracy                           0.62      2000\n",
      "   macro avg       0.64      0.64      0.62      2000\n",
      "weighted avg       0.65      0.62      0.62      2000\n",
      "\n",
      "Epoch-46: Loss = 2.224\n",
      "Train RMSE = 0.995||Train Precision = 77.661||Train Recall = 60.973\n",
      "Test RMSE = 1.192 || Test Precision = 72.209|| Test Recall = 54.714\n"
     ]
    },
    {
     "name": "stderr",
     "output_type": "stream",
     "text": [
      "40it [00:20,  1.93it/s]\n"
     ]
    },
    {
     "name": "stdout",
     "output_type": "stream",
     "text": [
      "tensor([[2.9102],\n",
      "        [3.3615],\n",
      "        [4.0377],\n",
      "        ...,\n",
      "        [3.0106],\n",
      "        [3.3202],\n",
      "        [2.8189]], device='cuda:0')\n",
      "              precision    recall  f1-score   support\n",
      "\n",
      "           0       0.54      0.77      0.63       865\n",
      "           1       0.74      0.50      0.60      1135\n",
      "\n",
      "    accuracy                           0.62      2000\n",
      "   macro avg       0.64      0.64      0.62      2000\n",
      "weighted avg       0.65      0.62      0.61      2000\n",
      "\n",
      "Epoch-47: Loss = 2.207\n",
      "Train RMSE = 0.993||Train Precision = 81.423||Train Recall = 57.649\n",
      "Test RMSE = 1.188 || Test Precision = 73.935|| Test Recall = 50.485\n"
     ]
    },
    {
     "name": "stderr",
     "output_type": "stream",
     "text": [
      "40it [00:20,  1.91it/s]\n"
     ]
    },
    {
     "name": "stdout",
     "output_type": "stream",
     "text": [
      "tensor([[2.8299],\n",
      "        [3.4039],\n",
      "        [4.1181],\n",
      "        ...,\n",
      "        [3.0955],\n",
      "        [3.3810],\n",
      "        [2.8516]], device='cuda:0')\n",
      "              precision    recall  f1-score   support\n",
      "\n",
      "           0       0.56      0.72      0.63       865\n",
      "           1       0.73      0.57      0.64      1135\n",
      "\n",
      "    accuracy                           0.64      2000\n",
      "   macro avg       0.65      0.65      0.64      2000\n",
      "weighted avg       0.66      0.64      0.64      2000\n",
      "\n",
      "Epoch-48: Loss = 2.202\n",
      "Train RMSE = 0.991||Train Precision = 79.210||Train Recall = 61.166\n",
      "Test RMSE = 1.191 || Test Precision = 72.943|| Test Recall = 57.004\n"
     ]
    },
    {
     "name": "stderr",
     "output_type": "stream",
     "text": [
      "40it [00:20,  1.98it/s]\n"
     ]
    },
    {
     "name": "stdout",
     "output_type": "stream",
     "text": [
      "tensor([[2.9165],\n",
      "        [3.3515],\n",
      "        [4.0875],\n",
      "        ...,\n",
      "        [2.9490],\n",
      "        [3.5136],\n",
      "        [2.9966]], device='cuda:0')\n",
      "              precision    recall  f1-score   support\n",
      "\n",
      "           0       0.56      0.72      0.63       865\n",
      "           1       0.73      0.56      0.63      1135\n",
      "\n",
      "    accuracy                           0.63      2000\n",
      "   macro avg       0.64      0.64      0.63      2000\n",
      "weighted avg       0.65      0.63      0.63      2000\n",
      "\n",
      "Epoch-49: Loss = 2.193\n",
      "Train RMSE = 0.990||Train Precision = 79.314||Train Recall = 62.410\n",
      "Test RMSE = 1.190 || Test Precision = 72.571|| Test Recall = 55.947\n"
     ]
    },
    {
     "name": "stderr",
     "output_type": "stream",
     "text": [
      "40it [00:21,  1.89it/s]\n"
     ]
    },
    {
     "name": "stdout",
     "output_type": "stream",
     "text": [
      "tensor([[2.9496],\n",
      "        [3.2765],\n",
      "        [4.0798],\n",
      "        ...,\n",
      "        [3.0199],\n",
      "        [3.4782],\n",
      "        [2.9404]], device='cuda:0')\n",
      "              precision    recall  f1-score   support\n",
      "\n",
      "           0       0.54      0.73      0.62       865\n",
      "           1       0.72      0.53      0.61      1135\n",
      "\n",
      "    accuracy                           0.62      2000\n",
      "   macro avg       0.63      0.63      0.62      2000\n",
      "weighted avg       0.64      0.62      0.62      2000\n",
      "\n",
      "Epoch-50: Loss = 2.186\n",
      "Train RMSE = 0.987||Train Precision = 81.071||Train Recall = 61.407\n",
      "Test RMSE = 1.188 || Test Precision = 72.289|| Test Recall = 52.863\n"
     ]
    },
    {
     "name": "stderr",
     "output_type": "stream",
     "text": [
      "40it [00:22,  1.78it/s]\n"
     ]
    },
    {
     "name": "stdout",
     "output_type": "stream",
     "text": [
      "tensor([[2.6889],\n",
      "        [3.3057],\n",
      "        [4.1043],\n",
      "        ...,\n",
      "        [3.0000],\n",
      "        [3.4712],\n",
      "        [2.9312]], device='cuda:0')\n",
      "              precision    recall  f1-score   support\n",
      "\n",
      "           0       0.55      0.74      0.63       865\n",
      "           1       0.73      0.53      0.61      1135\n",
      "\n",
      "    accuracy                           0.62      2000\n",
      "   macro avg       0.64      0.64      0.62      2000\n",
      "weighted avg       0.65      0.62      0.62      2000\n",
      "\n",
      "Epoch-51: Loss = 2.167\n",
      "Train RMSE = 0.983||Train Precision = 80.000||Train Recall = 62.556\n",
      "Test RMSE = 1.200 || Test Precision = 72.771|| Test Recall = 53.216\n"
     ]
    },
    {
     "name": "stderr",
     "output_type": "stream",
     "text": [
      "40it [00:20,  1.97it/s]\n"
     ]
    },
    {
     "name": "stdout",
     "output_type": "stream",
     "text": [
      "tensor([[2.8774],\n",
      "        [3.4379],\n",
      "        [4.1974],\n",
      "        ...,\n",
      "        [3.0656],\n",
      "        [3.5859],\n",
      "        [3.0233]], device='cuda:0')\n",
      "              precision    recall  f1-score   support\n",
      "\n",
      "           0       0.57      0.69      0.63       865\n",
      "           1       0.72      0.61      0.66      1135\n",
      "\n",
      "    accuracy                           0.64      2000\n",
      "   macro avg       0.65      0.65      0.64      2000\n",
      "weighted avg       0.66      0.64      0.64      2000\n",
      "\n",
      "Epoch-52: Loss = 2.167\n",
      "Train RMSE = 0.985||Train Precision = 79.599||Train Recall = 65.625\n",
      "Test RMSE = 1.175 || Test Precision = 71.937|| Test Recall = 60.529\n"
     ]
    },
    {
     "name": "stderr",
     "output_type": "stream",
     "text": [
      "40it [00:20,  1.91it/s]\n"
     ]
    },
    {
     "name": "stdout",
     "output_type": "stream",
     "text": [
      "tensor([[2.8518],\n",
      "        [3.2075],\n",
      "        [4.0623],\n",
      "        ...,\n",
      "        [3.0050],\n",
      "        [3.5320],\n",
      "        [2.9519]], device='cuda:0')\n",
      "              precision    recall  f1-score   support\n",
      "\n",
      "           0       0.54      0.75      0.63       865\n",
      "           1       0.73      0.52      0.61      1135\n",
      "\n",
      "    accuracy                           0.62      2000\n",
      "   macro avg       0.64      0.64      0.62      2000\n",
      "weighted avg       0.65      0.62      0.62      2000\n",
      "\n",
      "Epoch-53: Loss = 2.166\n",
      "Train RMSE = 0.984||Train Precision = 78.348||Train Recall = 57.802\n",
      "Test RMSE = 1.194 || Test Precision = 73.201|| Test Recall = 51.982\n"
     ]
    },
    {
     "name": "stderr",
     "output_type": "stream",
     "text": [
      "40it [00:21,  1.88it/s]\n"
     ]
    },
    {
     "name": "stdout",
     "output_type": "stream",
     "text": [
      "tensor([[2.5588],\n",
      "        [3.0859],\n",
      "        [4.0033],\n",
      "        ...,\n",
      "        [2.9025],\n",
      "        [3.5581],\n",
      "        [2.9867]], device='cuda:0')\n",
      "              precision    recall  f1-score   support\n",
      "\n",
      "           0       0.53      0.78      0.63       865\n",
      "           1       0.74      0.47      0.57      1135\n",
      "\n",
      "    accuracy                           0.60      2000\n",
      "   macro avg       0.63      0.62      0.60      2000\n",
      "weighted avg       0.65      0.60      0.60      2000\n",
      "\n",
      "Epoch-54: Loss = 2.147\n",
      "Train RMSE = 0.980||Train Precision = 79.922||Train Recall = 55.778\n",
      "Test RMSE = 1.204 || Test Precision = 73.619|| Test Recall = 46.960\n"
     ]
    },
    {
     "name": "stderr",
     "output_type": "stream",
     "text": [
      "40it [00:20,  1.91it/s]\n"
     ]
    },
    {
     "name": "stdout",
     "output_type": "stream",
     "text": [
      "tensor([[3.0310],\n",
      "        [3.1613],\n",
      "        [4.0894],\n",
      "        ...,\n",
      "        [3.1732],\n",
      "        [3.6530],\n",
      "        [3.0490]], device='cuda:0')\n",
      "              precision    recall  f1-score   support\n",
      "\n",
      "           0       0.55      0.74      0.63       865\n",
      "           1       0.73      0.54      0.62      1135\n",
      "\n",
      "    accuracy                           0.63      2000\n",
      "   macro avg       0.64      0.64      0.63      2000\n",
      "weighted avg       0.65      0.63      0.63      2000\n",
      "\n",
      "Epoch-55: Loss = 2.139\n",
      "Train RMSE = 0.978||Train Precision = 78.990||Train Recall = 62.774\n",
      "Test RMSE = 1.185 || Test Precision = 73.063|| Test Recall = 54.009\n"
     ]
    },
    {
     "name": "stderr",
     "output_type": "stream",
     "text": [
      "40it [00:20,  1.97it/s]\n"
     ]
    },
    {
     "name": "stdout",
     "output_type": "stream",
     "text": [
      "tensor([[2.8133],\n",
      "        [3.2229],\n",
      "        [4.1681],\n",
      "        ...,\n",
      "        [3.0824],\n",
      "        [3.7408],\n",
      "        [3.1106]], device='cuda:0')\n",
      "              precision    recall  f1-score   support\n",
      "\n",
      "           0       0.56      0.72      0.63       865\n",
      "           1       0.73      0.56      0.63      1135\n",
      "\n",
      "    accuracy                           0.63      2000\n",
      "   macro avg       0.64      0.64      0.63      2000\n",
      "weighted avg       0.65      0.63      0.63      2000\n",
      "\n",
      "Epoch-56: Loss = 2.131\n",
      "Train RMSE = 0.978||Train Precision = 80.328||Train Recall = 62.821\n",
      "Test RMSE = 1.182 || Test Precision = 72.562|| Test Recall = 56.388\n"
     ]
    },
    {
     "name": "stderr",
     "output_type": "stream",
     "text": [
      "40it [00:20,  1.91it/s]\n"
     ]
    },
    {
     "name": "stdout",
     "output_type": "stream",
     "text": [
      "tensor([[3.1570],\n",
      "        [3.2298],\n",
      "        [4.1158],\n",
      "        ...,\n",
      "        [3.1189],\n",
      "        [3.6174],\n",
      "        [3.0543]], device='cuda:0')\n",
      "              precision    recall  f1-score   support\n",
      "\n",
      "           0       0.54      0.74      0.63       865\n",
      "           1       0.73      0.53      0.61      1135\n",
      "\n",
      "    accuracy                           0.62      2000\n",
      "   macro avg       0.64      0.63      0.62      2000\n",
      "weighted avg       0.65      0.62      0.62      2000\n",
      "\n",
      "Epoch-57: Loss = 2.116\n",
      "Train RMSE = 0.972||Train Precision = 80.590||Train Recall = 57.645\n",
      "Test RMSE = 1.203 || Test Precision = 72.672|| Test Recall = 52.952\n"
     ]
    },
    {
     "name": "stderr",
     "output_type": "stream",
     "text": [
      "40it [00:20,  1.91it/s]\n"
     ]
    },
    {
     "name": "stdout",
     "output_type": "stream",
     "text": [
      "tensor([[2.9831],\n",
      "        [3.1203],\n",
      "        [4.0889],\n",
      "        ...,\n",
      "        [3.0064],\n",
      "        [3.7147],\n",
      "        [2.9635]], device='cuda:0')\n",
      "              precision    recall  f1-score   support\n",
      "\n",
      "           0       0.55      0.74      0.63       865\n",
      "           1       0.73      0.54      0.62      1135\n",
      "\n",
      "    accuracy                           0.63      2000\n",
      "   macro avg       0.64      0.64      0.63      2000\n",
      "weighted avg       0.66      0.63      0.63      2000\n",
      "\n",
      "Epoch-58: Loss = 2.117\n",
      "Train RMSE = 0.974||Train Precision = 80.070||Train Recall = 62.875\n",
      "Test RMSE = 1.195 || Test Precision = 73.365|| Test Recall = 54.361\n"
     ]
    },
    {
     "name": "stderr",
     "output_type": "stream",
     "text": [
      "40it [00:20,  1.93it/s]\n"
     ]
    },
    {
     "name": "stdout",
     "output_type": "stream",
     "text": [
      "tensor([[3.2692],\n",
      "        [3.2662],\n",
      "        [4.2112],\n",
      "        ...,\n",
      "        [3.1853],\n",
      "        [3.7380],\n",
      "        [3.0402]], device='cuda:0')\n",
      "              precision    recall  f1-score   support\n",
      "\n",
      "           0       0.56      0.71      0.63       865\n",
      "           1       0.72      0.57      0.64      1135\n",
      "\n",
      "    accuracy                           0.63      2000\n",
      "   macro avg       0.64      0.64      0.63      2000\n",
      "weighted avg       0.65      0.63      0.63      2000\n",
      "\n",
      "Epoch-59: Loss = 2.100\n",
      "Train RMSE = 0.971||Train Precision = 77.766||Train Recall = 66.792\n",
      "Test RMSE = 1.192 || Test Precision = 72.414|| Test Recall = 57.357\n"
     ]
    },
    {
     "name": "stderr",
     "output_type": "stream",
     "text": [
      "40it [00:21,  1.84it/s]\n"
     ]
    },
    {
     "name": "stdout",
     "output_type": "stream",
     "text": [
      "tensor([[2.9209],\n",
      "        [3.1777],\n",
      "        [4.1573],\n",
      "        ...,\n",
      "        [3.1075],\n",
      "        [3.7073],\n",
      "        [3.0987]], device='cuda:0')\n",
      "              precision    recall  f1-score   support\n",
      "\n",
      "           0       0.56      0.73      0.64       865\n",
      "           1       0.73      0.57      0.64      1135\n",
      "\n",
      "    accuracy                           0.64      2000\n",
      "   macro avg       0.65      0.65      0.64      2000\n",
      "weighted avg       0.66      0.64      0.64      2000\n",
      "\n",
      "Epoch-60: Loss = 2.092\n",
      "Train RMSE = 0.969||Train Precision = 79.384||Train Recall = 60.909\n",
      "Test RMSE = 1.188 || Test Precision = 73.455|| Test Recall = 56.564\n"
     ]
    },
    {
     "name": "stderr",
     "output_type": "stream",
     "text": [
      "40it [00:21,  1.89it/s]\n"
     ]
    },
    {
     "name": "stdout",
     "output_type": "stream",
     "text": [
      "tensor([[3.4912],\n",
      "        [3.1449],\n",
      "        [4.1538],\n",
      "        ...,\n",
      "        [3.2466],\n",
      "        [3.8410],\n",
      "        [3.1772]], device='cuda:0')\n",
      "              precision    recall  f1-score   support\n",
      "\n",
      "           0       0.56      0.69      0.62       865\n",
      "           1       0.72      0.60      0.65      1135\n",
      "\n",
      "    accuracy                           0.64      2000\n",
      "   macro avg       0.64      0.64      0.64      2000\n",
      "weighted avg       0.65      0.64      0.64      2000\n",
      "\n",
      "Epoch-61: Loss = 2.095\n",
      "Train RMSE = 0.970||Train Precision = 78.742||Train Recall = 65.583\n",
      "Test RMSE = 1.183 || Test Precision = 71.534|| Test Recall = 59.559\n"
     ]
    },
    {
     "name": "stderr",
     "output_type": "stream",
     "text": [
      "40it [00:20,  1.93it/s]\n"
     ]
    },
    {
     "name": "stdout",
     "output_type": "stream",
     "text": [
      "tensor([[3.0729],\n",
      "        [3.1648],\n",
      "        [4.1845],\n",
      "        ...,\n",
      "        [3.1502],\n",
      "        [3.7172],\n",
      "        [3.0315]], device='cuda:0')\n",
      "              precision    recall  f1-score   support\n",
      "\n",
      "           0       0.56      0.73      0.63       865\n",
      "           1       0.73      0.55      0.63      1135\n",
      "\n",
      "    accuracy                           0.63      2000\n",
      "   macro avg       0.64      0.64      0.63      2000\n",
      "weighted avg       0.66      0.63      0.63      2000\n",
      "\n",
      "Epoch-62: Loss = 2.080\n",
      "Train RMSE = 0.968||Train Precision = 79.027||Train Recall = 62.569\n",
      "Test RMSE = 1.189 || Test Precision = 73.140|| Test Recall = 55.419\n"
     ]
    },
    {
     "name": "stderr",
     "output_type": "stream",
     "text": [
      "40it [00:20,  1.93it/s]\n"
     ]
    },
    {
     "name": "stdout",
     "output_type": "stream",
     "text": [
      "tensor([[2.9274],\n",
      "        [3.1287],\n",
      "        [4.1399],\n",
      "        ...,\n",
      "        [3.0331],\n",
      "        [3.7912],\n",
      "        [3.1189]], device='cuda:0')\n",
      "              precision    recall  f1-score   support\n",
      "\n",
      "           0       0.56      0.73      0.63       865\n",
      "           1       0.73      0.56      0.63      1135\n",
      "\n",
      "    accuracy                           0.63      2000\n",
      "   macro avg       0.64      0.64      0.63      2000\n",
      "weighted avg       0.66      0.63      0.63      2000\n",
      "\n",
      "Epoch-63: Loss = 2.070\n",
      "Train RMSE = 0.964||Train Precision = 81.682||Train Recall = 63.417\n",
      "Test RMSE = 1.191 || Test Precision = 73.171|| Test Recall = 55.507\n"
     ]
    },
    {
     "name": "stderr",
     "output_type": "stream",
     "text": [
      "40it [00:20,  1.94it/s]\n"
     ]
    },
    {
     "name": "stdout",
     "output_type": "stream",
     "text": [
      "tensor([[2.8241],\n",
      "        [3.1155],\n",
      "        [4.1336],\n",
      "        ...,\n",
      "        [3.0780],\n",
      "        [3.8326],\n",
      "        [3.1756]], device='cuda:0')\n",
      "              precision    recall  f1-score   support\n",
      "\n",
      "           0       0.57      0.72      0.64       865\n",
      "           1       0.73      0.59      0.66      1135\n",
      "\n",
      "    accuracy                           0.65      2000\n",
      "   macro avg       0.65      0.65      0.65      2000\n",
      "weighted avg       0.66      0.65      0.65      2000\n",
      "\n",
      "Epoch-64: Loss = 2.070\n",
      "Train RMSE = 0.966||Train Precision = 77.146||Train Recall = 65.782\n",
      "Test RMSE = 1.174 || Test Precision = 73.312|| Test Recall = 59.295\n"
     ]
    },
    {
     "name": "stderr",
     "output_type": "stream",
     "text": [
      "40it [00:20,  1.92it/s]\n"
     ]
    },
    {
     "name": "stdout",
     "output_type": "stream",
     "text": [
      "tensor([[3.5959],\n",
      "        [3.3434],\n",
      "        [4.3185],\n",
      "        ...,\n",
      "        [3.3008],\n",
      "        [3.6045],\n",
      "        [2.9686]], device='cuda:0')\n",
      "              precision    recall  f1-score   support\n",
      "\n",
      "           0       0.58      0.67      0.62       865\n",
      "           1       0.71      0.63      0.67      1135\n",
      "\n",
      "    accuracy                           0.65      2000\n",
      "   macro avg       0.65      0.65      0.64      2000\n",
      "weighted avg       0.66      0.65      0.65      2000\n",
      "\n",
      "Epoch-65: Loss = 2.060\n",
      "Train RMSE = 0.963||Train Precision = 78.125||Train Recall = 66.845\n",
      "Test RMSE = 1.189 || Test Precision = 71.315|| Test Recall = 63.084\n"
     ]
    },
    {
     "name": "stderr",
     "output_type": "stream",
     "text": [
      "40it [00:20,  1.96it/s]\n"
     ]
    },
    {
     "name": "stdout",
     "output_type": "stream",
     "text": [
      "tensor([[3.0727],\n",
      "        [3.1300],\n",
      "        [4.1876],\n",
      "        ...,\n",
      "        [3.0970],\n",
      "        [3.7758],\n",
      "        [3.1635]], device='cuda:0')\n",
      "              precision    recall  f1-score   support\n",
      "\n",
      "           0       0.56      0.73      0.63       865\n",
      "           1       0.73      0.56      0.64      1135\n",
      "\n",
      "    accuracy                           0.63      2000\n",
      "   macro avg       0.65      0.65      0.63      2000\n",
      "weighted avg       0.66      0.63      0.63      2000\n",
      "\n",
      "Epoch-66: Loss = 2.061\n",
      "Train RMSE = 0.964||Train Precision = 78.190||Train Recall = 61.496\n",
      "Test RMSE = 1.195 || Test Precision = 73.272|| Test Recall = 56.035\n"
     ]
    },
    {
     "name": "stderr",
     "output_type": "stream",
     "text": [
      "40it [00:20,  1.99it/s]\n"
     ]
    },
    {
     "name": "stdout",
     "output_type": "stream",
     "text": [
      "tensor([[2.8632],\n",
      "        [3.2025],\n",
      "        [4.1683],\n",
      "        ...,\n",
      "        [3.0727],\n",
      "        [3.7787],\n",
      "        [3.2077]], device='cuda:0')\n",
      "              precision    recall  f1-score   support\n",
      "\n",
      "           0       0.57      0.74      0.64       865\n",
      "           1       0.74      0.57      0.64      1135\n",
      "\n",
      "    accuracy                           0.64      2000\n",
      "   macro avg       0.65      0.65      0.64      2000\n",
      "weighted avg       0.66      0.64      0.64      2000\n",
      "\n",
      "Epoch-67: Loss = 2.045\n",
      "Train RMSE = 0.960||Train Precision = 80.519||Train Recall = 62.454\n",
      "Test RMSE = 1.182 || Test Precision = 74.023|| Test Recall = 56.740\n"
     ]
    },
    {
     "name": "stderr",
     "output_type": "stream",
     "text": [
      "40it [00:21,  1.84it/s]\n"
     ]
    },
    {
     "name": "stdout",
     "output_type": "stream",
     "text": [
      "tensor([[2.7380],\n",
      "        [2.9992],\n",
      "        [4.1114],\n",
      "        ...,\n",
      "        [3.1158],\n",
      "        [3.7445],\n",
      "        [3.1871]], device='cuda:0')\n",
      "              precision    recall  f1-score   support\n",
      "\n",
      "           0       0.54      0.78      0.64       865\n",
      "           1       0.75      0.50      0.60      1135\n",
      "\n",
      "    accuracy                           0.62      2000\n",
      "   macro avg       0.65      0.64      0.62      2000\n",
      "weighted avg       0.66      0.62      0.62      2000\n",
      "\n",
      "Epoch-68: Loss = 2.043\n",
      "Train RMSE = 0.959||Train Precision = 80.988||Train Recall = 58.887\n",
      "Test RMSE = 1.200 || Test Precision = 74.804|| Test Recall = 50.485\n"
     ]
    },
    {
     "name": "stderr",
     "output_type": "stream",
     "text": [
      "40it [00:20,  1.99it/s]\n"
     ]
    },
    {
     "name": "stdout",
     "output_type": "stream",
     "text": [
      "tensor([[3.0698],\n",
      "        [2.9440],\n",
      "        [4.0652],\n",
      "        ...,\n",
      "        [3.1679],\n",
      "        [3.8995],\n",
      "        [3.2917]], device='cuda:0')\n",
      "              precision    recall  f1-score   support\n",
      "\n",
      "           0       0.54      0.75      0.63       865\n",
      "           1       0.73      0.52      0.61      1135\n",
      "\n",
      "    accuracy                           0.62      2000\n",
      "   macro avg       0.64      0.64      0.62      2000\n",
      "weighted avg       0.65      0.62      0.62      2000\n",
      "\n",
      "Epoch-69: Loss = 2.039\n",
      "Train RMSE = 0.960||Train Precision = 80.161||Train Recall = 62.613\n",
      "Test RMSE = 1.208 || Test Precision = 73.325|| Test Recall = 52.070\n"
     ]
    },
    {
     "name": "stderr",
     "output_type": "stream",
     "text": [
      "40it [00:19,  2.01it/s]\n"
     ]
    },
    {
     "name": "stdout",
     "output_type": "stream",
     "text": [
      "tensor([[3.0326],\n",
      "        [3.2006],\n",
      "        [4.1695],\n",
      "        ...,\n",
      "        [3.1521],\n",
      "        [3.7199],\n",
      "        [3.0985]], device='cuda:0')\n",
      "              precision    recall  f1-score   support\n",
      "\n",
      "           0       0.56      0.72      0.63       865\n",
      "           1       0.73      0.57      0.64      1135\n",
      "\n",
      "    accuracy                           0.63      2000\n",
      "   macro avg       0.64      0.64      0.63      2000\n",
      "weighted avg       0.65      0.63      0.63      2000\n",
      "\n",
      "Epoch-70: Loss = 2.027\n",
      "Train RMSE = 0.956||Train Precision = 81.473||Train Recall = 65.734\n",
      "Test RMSE = 1.186 || Test Precision = 72.666|| Test Recall = 56.916\n"
     ]
    },
    {
     "name": "stderr",
     "output_type": "stream",
     "text": [
      "40it [00:20,  1.96it/s]\n"
     ]
    },
    {
     "name": "stdout",
     "output_type": "stream",
     "text": [
      "tensor([[3.0439],\n",
      "        [2.9774],\n",
      "        [4.1431],\n",
      "        ...,\n",
      "        [3.2166],\n",
      "        [3.8437],\n",
      "        [3.2764]], device='cuda:0')\n",
      "              precision    recall  f1-score   support\n",
      "\n",
      "           0       0.55      0.75      0.64       865\n",
      "           1       0.74      0.54      0.62      1135\n",
      "\n",
      "    accuracy                           0.63      2000\n",
      "   macro avg       0.64      0.64      0.63      2000\n",
      "weighted avg       0.66      0.63      0.63      2000\n",
      "\n",
      "Epoch-71: Loss = 2.018\n",
      "Train RMSE = 0.954||Train Precision = 80.580||Train Recall = 59.608\n",
      "Test RMSE = 1.198 || Test Precision = 73.729|| Test Recall = 53.656\n"
     ]
    },
    {
     "name": "stderr",
     "output_type": "stream",
     "text": [
      "40it [00:21,  1.90it/s]\n"
     ]
    },
    {
     "name": "stdout",
     "output_type": "stream",
     "text": [
      "tensor([[3.0942],\n",
      "        [3.0906],\n",
      "        [4.1553],\n",
      "        ...,\n",
      "        [3.2684],\n",
      "        [3.8001],\n",
      "        [3.2418]], device='cuda:0')\n",
      "              precision    recall  f1-score   support\n",
      "\n",
      "           0       0.56      0.74      0.64       865\n",
      "           1       0.74      0.56      0.63      1135\n",
      "\n",
      "    accuracy                           0.64      2000\n",
      "   macro avg       0.65      0.65      0.64      2000\n",
      "weighted avg       0.66      0.64      0.64      2000\n",
      "\n",
      "Epoch-72: Loss = 2.013\n",
      "Train RMSE = 0.953||Train Precision = 81.986||Train Recall = 63.734\n",
      "Test RMSE = 1.192 || Test Precision = 73.605|| Test Recall = 55.771\n"
     ]
    },
    {
     "name": "stderr",
     "output_type": "stream",
     "text": [
      "40it [00:20,  1.98it/s]\n"
     ]
    },
    {
     "name": "stdout",
     "output_type": "stream",
     "text": [
      "tensor([[3.1393],\n",
      "        [2.8431],\n",
      "        [4.0976],\n",
      "        ...,\n",
      "        [3.2796],\n",
      "        [3.9941],\n",
      "        [3.3082]], device='cuda:0')\n",
      "              precision    recall  f1-score   support\n",
      "\n",
      "           0       0.54      0.76      0.63       865\n",
      "           1       0.74      0.51      0.60      1135\n",
      "\n",
      "    accuracy                           0.62      2000\n",
      "   macro avg       0.64      0.63      0.62      2000\n",
      "weighted avg       0.65      0.62      0.61      2000\n",
      "\n",
      "Epoch-73: Loss = 2.007\n",
      "Train RMSE = 0.953||Train Precision = 81.358||Train Recall = 60.348\n",
      "Test RMSE = 1.201 || Test Precision = 73.597|| Test Recall = 50.837\n"
     ]
    },
    {
     "name": "stderr",
     "output_type": "stream",
     "text": [
      "40it [00:19,  2.00it/s]\n"
     ]
    },
    {
     "name": "stdout",
     "output_type": "stream",
     "text": [
      "tensor([[2.9900],\n",
      "        [3.0330],\n",
      "        [4.0954],\n",
      "        ...,\n",
      "        [3.2064],\n",
      "        [3.8976],\n",
      "        [3.2188]], device='cuda:0')\n",
      "              precision    recall  f1-score   support\n",
      "\n",
      "           0       0.55      0.75      0.64       865\n",
      "           1       0.74      0.54      0.62      1135\n",
      "\n",
      "    accuracy                           0.63      2000\n",
      "   macro avg       0.65      0.64      0.63      2000\n",
      "weighted avg       0.66      0.63      0.63      2000\n",
      "\n",
      "Epoch-74: Loss = 2.008\n",
      "Train RMSE = 0.952||Train Precision = 81.459||Train Recall = 60.212\n",
      "Test RMSE = 1.195 || Test Precision = 73.850|| Test Recall = 53.744\n"
     ]
    },
    {
     "name": "stderr",
     "output_type": "stream",
     "text": [
      "40it [00:19,  2.02it/s]\n"
     ]
    },
    {
     "name": "stdout",
     "output_type": "stream",
     "text": [
      "tensor([[3.3476],\n",
      "        [3.0913],\n",
      "        [4.2353],\n",
      "        ...,\n",
      "        [3.3755],\n",
      "        [3.8730],\n",
      "        [3.1455]], device='cuda:0')\n",
      "              precision    recall  f1-score   support\n",
      "\n",
      "           0       0.57      0.70      0.63       865\n",
      "           1       0.72      0.59      0.65      1135\n",
      "\n",
      "    accuracy                           0.64      2000\n",
      "   macro avg       0.65      0.65      0.64      2000\n",
      "weighted avg       0.66      0.64      0.64      2000\n",
      "\n",
      "Epoch-75: Loss = 1.997\n",
      "Train RMSE = 0.951||Train Precision = 79.888||Train Recall = 65.178\n",
      "Test RMSE = 1.185 || Test Precision = 72.354|| Test Recall = 59.031\n"
     ]
    },
    {
     "name": "stderr",
     "output_type": "stream",
     "text": [
      "40it [00:21,  1.90it/s]\n"
     ]
    },
    {
     "name": "stdout",
     "output_type": "stream",
     "text": [
      "tensor([[3.0870],\n",
      "        [3.1252],\n",
      "        [4.2326],\n",
      "        ...,\n",
      "        [3.2738],\n",
      "        [3.9387],\n",
      "        [3.4233]], device='cuda:0')\n",
      "              precision    recall  f1-score   support\n",
      "\n",
      "           0       0.57      0.70      0.63       865\n",
      "           1       0.72      0.60      0.66      1135\n",
      "\n",
      "    accuracy                           0.64      2000\n",
      "   macro avg       0.65      0.65      0.64      2000\n",
      "weighted avg       0.66      0.64      0.65      2000\n",
      "\n",
      "Epoch-76: Loss = 1.996\n",
      "Train RMSE = 0.951||Train Precision = 80.625||Train Recall = 69.542\n",
      "Test RMSE = 1.184 || Test Precision = 72.334|| Test Recall = 60.352\n"
     ]
    },
    {
     "name": "stderr",
     "output_type": "stream",
     "text": [
      "40it [00:21,  1.87it/s]\n"
     ]
    },
    {
     "name": "stdout",
     "output_type": "stream",
     "text": [
      "tensor([[3.2417],\n",
      "        [3.4347],\n",
      "        [4.4132],\n",
      "        ...,\n",
      "        [3.5108],\n",
      "        [3.8565],\n",
      "        [3.2755]], device='cuda:0')\n",
      "              precision    recall  f1-score   support\n",
      "\n",
      "           0       0.59      0.67      0.63       865\n",
      "           1       0.72      0.65      0.68      1135\n",
      "\n",
      "    accuracy                           0.66      2000\n",
      "   macro avg       0.66      0.66      0.66      2000\n",
      "weighted avg       0.66      0.66      0.66      2000\n",
      "\n",
      "Epoch-77: Loss = 1.993\n",
      "Train RMSE = 0.950||Train Precision = 79.370||Train Recall = 69.422\n",
      "Test RMSE = 1.197 || Test Precision = 72.000|| Test Recall = 65.022\n"
     ]
    },
    {
     "name": "stderr",
     "output_type": "stream",
     "text": [
      "40it [00:23,  1.69it/s]\n"
     ]
    },
    {
     "name": "stdout",
     "output_type": "stream",
     "text": [
      "tensor([[3.0789],\n",
      "        [3.0670],\n",
      "        [4.1815],\n",
      "        ...,\n",
      "        [3.2192],\n",
      "        [3.9126],\n",
      "        [3.3641]], device='cuda:0')\n",
      "              precision    recall  f1-score   support\n",
      "\n",
      "           0       0.55      0.75      0.63       865\n",
      "           1       0.73      0.53      0.62      1135\n",
      "\n",
      "    accuracy                           0.63      2000\n",
      "   macro avg       0.64      0.64      0.63      2000\n",
      "weighted avg       0.65      0.63      0.62      2000\n",
      "\n",
      "Epoch-78: Loss = 1.986\n",
      "Train RMSE = 0.948||Train Precision = 84.437||Train Recall = 64.336\n",
      "Test RMSE = 1.210 || Test Precision = 73.398|| Test Recall = 53.480\n"
     ]
    },
    {
     "name": "stderr",
     "output_type": "stream",
     "text": [
      "40it [00:22,  1.79it/s]\n"
     ]
    },
    {
     "name": "stdout",
     "output_type": "stream",
     "text": [
      "tensor([[2.9807],\n",
      "        [3.0860],\n",
      "        [4.2063],\n",
      "        ...,\n",
      "        [3.2766],\n",
      "        [3.9883],\n",
      "        [3.3218]], device='cuda:0')\n",
      "              precision    recall  f1-score   support\n",
      "\n",
      "           0       0.56      0.72      0.63       865\n",
      "           1       0.73      0.56      0.63      1135\n",
      "\n",
      "    accuracy                           0.63      2000\n",
      "   macro avg       0.64      0.64      0.63      2000\n",
      "weighted avg       0.65      0.63      0.63      2000\n",
      "\n",
      "Epoch-79: Loss = 1.967\n",
      "Train RMSE = 0.943||Train Precision = 79.615||Train Recall = 64.201\n",
      "Test RMSE = 1.203 || Test Precision = 72.623|| Test Recall = 55.859\n"
     ]
    },
    {
     "name": "stderr",
     "output_type": "stream",
     "text": [
      "40it [00:22,  1.76it/s]\n"
     ]
    },
    {
     "name": "stdout",
     "output_type": "stream",
     "text": [
      "tensor([[2.8952],\n",
      "        [3.1721],\n",
      "        [4.2265],\n",
      "        ...,\n",
      "        [3.2682],\n",
      "        [3.9764],\n",
      "        [3.2871]], device='cuda:0')\n",
      "              precision    recall  f1-score   support\n",
      "\n",
      "           0       0.56      0.71      0.63       865\n",
      "           1       0.73      0.58      0.65      1135\n",
      "\n",
      "    accuracy                           0.64      2000\n",
      "   macro avg       0.65      0.65      0.64      2000\n",
      "weighted avg       0.66      0.64      0.64      2000\n",
      "\n",
      "Epoch-80: Loss = 1.970\n",
      "Train RMSE = 0.945||Train Precision = 80.881||Train Recall = 67.777\n",
      "Test RMSE = 1.193 || Test Precision = 72.737|| Test Recall = 58.062\n"
     ]
    },
    {
     "name": "stderr",
     "output_type": "stream",
     "text": [
      "40it [00:23,  1.74it/s]\n"
     ]
    },
    {
     "name": "stdout",
     "output_type": "stream",
     "text": [
      "tensor([[3.1478],\n",
      "        [2.9973],\n",
      "        [4.1874],\n",
      "        ...,\n",
      "        [3.3191],\n",
      "        [3.8984],\n",
      "        [3.3550]], device='cuda:0')\n",
      "              precision    recall  f1-score   support\n",
      "\n",
      "           0       0.56      0.72      0.63       865\n",
      "           1       0.72      0.56      0.63      1135\n",
      "\n",
      "    accuracy                           0.63      2000\n",
      "   macro avg       0.64      0.64      0.63      2000\n",
      "weighted avg       0.65      0.63      0.63      2000\n",
      "\n",
      "Epoch-81: Loss = 1.958\n",
      "Train RMSE = 0.943||Train Precision = 78.111||Train Recall = 62.431\n",
      "Test RMSE = 1.197 || Test Precision = 72.348|| Test Recall = 56.476\n"
     ]
    },
    {
     "name": "stderr",
     "output_type": "stream",
     "text": [
      "40it [00:22,  1.76it/s]\n"
     ]
    },
    {
     "name": "stdout",
     "output_type": "stream",
     "text": [
      "tensor([[2.8033],\n",
      "        [2.9734],\n",
      "        [4.1272],\n",
      "        ...,\n",
      "        [3.2417],\n",
      "        [3.8320],\n",
      "        [3.1875]], device='cuda:0')\n",
      "              precision    recall  f1-score   support\n",
      "\n",
      "           0       0.55      0.77      0.64       865\n",
      "           1       0.74      0.51      0.61      1135\n",
      "\n",
      "    accuracy                           0.62      2000\n",
      "   macro avg       0.64      0.64      0.62      2000\n",
      "weighted avg       0.66      0.62      0.62      2000\n",
      "\n",
      "Epoch-82: Loss = 1.955\n",
      "Train RMSE = 0.942||Train Precision = 84.036||Train Recall = 59.764\n",
      "Test RMSE = 1.218 || Test Precision = 74.422|| Test Recall = 51.013\n"
     ]
    },
    {
     "name": "stderr",
     "output_type": "stream",
     "text": [
      "40it [00:21,  1.84it/s]\n"
     ]
    },
    {
     "name": "stdout",
     "output_type": "stream",
     "text": [
      "tensor([[3.1397],\n",
      "        [3.1743],\n",
      "        [4.2970],\n",
      "        ...,\n",
      "        [3.3813],\n",
      "        [3.9414],\n",
      "        [3.2940]], device='cuda:0')\n",
      "              precision    recall  f1-score   support\n",
      "\n",
      "           0       0.58      0.68      0.62       865\n",
      "           1       0.72      0.62      0.66      1135\n",
      "\n",
      "    accuracy                           0.64      2000\n",
      "   macro avg       0.65      0.65      0.64      2000\n",
      "weighted avg       0.65      0.64      0.65      2000\n",
      "\n",
      "Epoch-83: Loss = 1.955\n",
      "Train RMSE = 0.941||Train Precision = 79.121||Train Recall = 65.277\n",
      "Test RMSE = 1.200 || Test Precision = 71.516|| Test Recall = 61.938\n"
     ]
    },
    {
     "name": "stderr",
     "output_type": "stream",
     "text": [
      "40it [00:24,  1.66it/s]\n"
     ]
    },
    {
     "name": "stdout",
     "output_type": "stream",
     "text": [
      "tensor([[3.0733],\n",
      "        [3.0881],\n",
      "        [4.1956],\n",
      "        ...,\n",
      "        [3.3791],\n",
      "        [3.9073],\n",
      "        [3.4349]], device='cuda:0')\n",
      "              precision    recall  f1-score   support\n",
      "\n",
      "           0       0.55      0.74      0.63       865\n",
      "           1       0.73      0.53      0.62      1135\n",
      "\n",
      "    accuracy                           0.62      2000\n",
      "   macro avg       0.64      0.64      0.62      2000\n",
      "weighted avg       0.65      0.62      0.62      2000\n",
      "\n",
      "Epoch-84: Loss = 1.942\n",
      "Train RMSE = 0.939||Train Precision = 84.179||Train Recall = 60.873\n",
      "Test RMSE = 1.208 || Test Precision = 72.957|| Test Recall = 53.480\n"
     ]
    },
    {
     "name": "stderr",
     "output_type": "stream",
     "text": [
      "40it [00:22,  1.75it/s]\n"
     ]
    },
    {
     "name": "stdout",
     "output_type": "stream",
     "text": [
      "tensor([[3.2879],\n",
      "        [3.0732],\n",
      "        [4.2328],\n",
      "        ...,\n",
      "        [3.4243],\n",
      "        [4.0663],\n",
      "        [3.5457]], device='cuda:0')\n",
      "              precision    recall  f1-score   support\n",
      "\n",
      "           0       0.57      0.70      0.63       865\n",
      "           1       0.72      0.60      0.65      1135\n",
      "\n",
      "    accuracy                           0.64      2000\n",
      "   macro avg       0.65      0.65      0.64      2000\n",
      "weighted avg       0.66      0.64      0.64      2000\n",
      "\n",
      "Epoch-85: Loss = 1.934\n",
      "Train RMSE = 0.937||Train Precision = 79.396||Train Recall = 66.486\n",
      "Test RMSE = 1.192 || Test Precision = 72.110|| Test Recall = 59.912\n"
     ]
    },
    {
     "name": "stderr",
     "output_type": "stream",
     "text": [
      "40it [00:21,  1.85it/s]\n"
     ]
    },
    {
     "name": "stdout",
     "output_type": "stream",
     "text": [
      "tensor([[3.0732],\n",
      "        [2.9235],\n",
      "        [4.2150],\n",
      "        ...,\n",
      "        [3.2821],\n",
      "        [4.0559],\n",
      "        [3.4588]], device='cuda:0')\n",
      "              precision    recall  f1-score   support\n",
      "\n",
      "           0       0.55      0.72      0.63       865\n",
      "           1       0.73      0.56      0.63      1135\n",
      "\n",
      "    accuracy                           0.63      2000\n",
      "   macro avg       0.64      0.64      0.63      2000\n",
      "weighted avg       0.65      0.63      0.63      2000\n",
      "\n",
      "Epoch-86: Loss = 1.927\n",
      "Train RMSE = 0.935||Train Precision = 81.764||Train Recall = 62.420\n",
      "Test RMSE = 1.199 || Test Precision = 72.560|| Test Recall = 55.683\n"
     ]
    },
    {
     "name": "stderr",
     "output_type": "stream",
     "text": [
      "40it [00:20,  1.98it/s]\n"
     ]
    },
    {
     "name": "stdout",
     "output_type": "stream",
     "text": [
      "tensor([[2.9346],\n",
      "        [2.9328],\n",
      "        [4.1402],\n",
      "        ...,\n",
      "        [3.1697],\n",
      "        [4.0357],\n",
      "        [3.4814]], device='cuda:0')\n",
      "              precision    recall  f1-score   support\n",
      "\n",
      "           0       0.54      0.76      0.63       865\n",
      "           1       0.74      0.51      0.60      1135\n",
      "\n",
      "    accuracy                           0.62      2000\n",
      "   macro avg       0.64      0.64      0.62      2000\n",
      "weighted avg       0.65      0.62      0.62      2000\n",
      "\n",
      "Epoch-87: Loss = 1.918\n",
      "Train RMSE = 0.932||Train Precision = 80.237||Train Recall = 58.558\n",
      "Test RMSE = 1.218 || Test Precision = 73.724|| Test Recall = 50.925\n"
     ]
    },
    {
     "name": "stderr",
     "output_type": "stream",
     "text": [
      "40it [00:20,  1.93it/s]\n"
     ]
    },
    {
     "name": "stdout",
     "output_type": "stream",
     "text": [
      "tensor([[3.2175],\n",
      "        [2.9634],\n",
      "        [4.1724],\n",
      "        ...,\n",
      "        [3.3620],\n",
      "        [4.0267],\n",
      "        [3.4265]], device='cuda:0')\n",
      "              precision    recall  f1-score   support\n",
      "\n",
      "           0       0.55      0.74      0.63       865\n",
      "           1       0.73      0.54      0.62      1135\n",
      "\n",
      "    accuracy                           0.62      2000\n",
      "   macro avg       0.64      0.64      0.62      2000\n",
      "weighted avg       0.65      0.62      0.62      2000\n",
      "\n",
      "Epoch-88: Loss = 1.923\n",
      "Train RMSE = 0.935||Train Precision = 80.516||Train Recall = 62.878\n",
      "Test RMSE = 1.214 || Test Precision = 72.999|| Test Recall = 53.833\n"
     ]
    },
    {
     "name": "stderr",
     "output_type": "stream",
     "text": [
      "40it [00:20,  1.95it/s]\n"
     ]
    },
    {
     "name": "stdout",
     "output_type": "stream",
     "text": [
      "tensor([[2.9287],\n",
      "        [2.7371],\n",
      "        [4.1515],\n",
      "        ...,\n",
      "        [3.2039],\n",
      "        [4.0911],\n",
      "        [3.5386]], device='cuda:0')\n",
      "              precision    recall  f1-score   support\n",
      "\n",
      "           0       0.54      0.76      0.63       865\n",
      "           1       0.74      0.52      0.61      1135\n",
      "\n",
      "    accuracy                           0.62      2000\n",
      "   macro avg       0.64      0.64      0.62      2000\n",
      "weighted avg       0.65      0.62      0.62      2000\n",
      "\n",
      "Epoch-89: Loss = 1.915\n",
      "Train RMSE = 0.933||Train Precision = 84.460||Train Recall = 63.857\n",
      "Test RMSE = 1.221 || Test Precision = 73.585|| Test Recall = 51.542\n"
     ]
    },
    {
     "name": "stderr",
     "output_type": "stream",
     "text": [
      "40it [00:20,  1.97it/s]\n"
     ]
    },
    {
     "name": "stdout",
     "output_type": "stream",
     "text": [
      "tensor([[3.0238],\n",
      "        [3.0225],\n",
      "        [4.2226],\n",
      "        ...,\n",
      "        [3.2453],\n",
      "        [4.0068],\n",
      "        [3.5159]], device='cuda:0')\n",
      "              precision    recall  f1-score   support\n",
      "\n",
      "           0       0.55      0.74      0.63       865\n",
      "           1       0.73      0.54      0.62      1135\n",
      "\n",
      "    accuracy                           0.63      2000\n",
      "   macro avg       0.64      0.64      0.63      2000\n",
      "weighted avg       0.65      0.63      0.63      2000\n",
      "\n",
      "Epoch-90: Loss = 1.907\n",
      "Train RMSE = 0.931||Train Precision = 81.148||Train Recall = 61.986\n",
      "Test RMSE = 1.218 || Test Precision = 73.206|| Test Recall = 53.921\n"
     ]
    },
    {
     "name": "stderr",
     "output_type": "stream",
     "text": [
      "40it [00:20,  1.96it/s]\n"
     ]
    },
    {
     "name": "stdout",
     "output_type": "stream",
     "text": [
      "tensor([[3.2036],\n",
      "        [2.9808],\n",
      "        [4.2272],\n",
      "        ...,\n",
      "        [3.3153],\n",
      "        [4.1144],\n",
      "        [3.4699]], device='cuda:0')\n",
      "              precision    recall  f1-score   support\n",
      "\n",
      "           0       0.56      0.70      0.62       865\n",
      "           1       0.72      0.58      0.64      1135\n",
      "\n",
      "    accuracy                           0.63      2000\n",
      "   macro avg       0.64      0.64      0.63      2000\n",
      "weighted avg       0.65      0.63      0.63      2000\n",
      "\n",
      "Epoch-91: Loss = 1.897\n",
      "Train RMSE = 0.929||Train Precision = 79.570||Train Recall = 67.334\n",
      "Test RMSE = 1.206 || Test Precision = 71.753|| Test Recall = 58.414\n"
     ]
    },
    {
     "name": "stderr",
     "output_type": "stream",
     "text": [
      "40it [00:20,  1.97it/s]\n"
     ]
    },
    {
     "name": "stdout",
     "output_type": "stream",
     "text": [
      "tensor([[3.0406],\n",
      "        [3.2195],\n",
      "        [4.2683],\n",
      "        ...,\n",
      "        [3.3468],\n",
      "        [4.1597],\n",
      "        [3.5733]], device='cuda:0')\n",
      "              precision    recall  f1-score   support\n",
      "\n",
      "           0       0.58      0.69      0.63       865\n",
      "           1       0.72      0.62      0.67      1135\n",
      "\n",
      "    accuracy                           0.65      2000\n",
      "   macro avg       0.65      0.65      0.65      2000\n",
      "weighted avg       0.66      0.65      0.65      2000\n",
      "\n",
      "Epoch-92: Loss = 1.899\n",
      "Train RMSE = 0.929||Train Precision = 76.017||Train Recall = 66.542\n",
      "Test RMSE = 1.181 || Test Precision = 72.371|| Test Recall = 61.850\n"
     ]
    },
    {
     "name": "stderr",
     "output_type": "stream",
     "text": [
      "40it [00:20,  1.96it/s]\n"
     ]
    },
    {
     "name": "stdout",
     "output_type": "stream",
     "text": [
      "tensor([[3.1156],\n",
      "        [3.1330],\n",
      "        [4.3910],\n",
      "        ...,\n",
      "        [3.5404],\n",
      "        [4.1562],\n",
      "        [3.6593]], device='cuda:0')\n",
      "              precision    recall  f1-score   support\n",
      "\n",
      "           0       0.60      0.64      0.62       865\n",
      "           1       0.71      0.67      0.69      1135\n",
      "\n",
      "    accuracy                           0.66      2000\n",
      "   macro avg       0.65      0.66      0.65      2000\n",
      "weighted avg       0.66      0.66      0.66      2000\n",
      "\n",
      "Epoch-93: Loss = 1.887\n",
      "Train RMSE = 0.927||Train Precision = 75.049||Train Recall = 71.682\n",
      "Test RMSE = 1.203 || Test Precision = 71.001|| Test Recall = 66.872\n"
     ]
    },
    {
     "name": "stderr",
     "output_type": "stream",
     "text": [
      "40it [00:20,  1.99it/s]\n"
     ]
    },
    {
     "name": "stdout",
     "output_type": "stream",
     "text": [
      "tensor([[2.8116],\n",
      "        [2.8499],\n",
      "        [4.1856],\n",
      "        ...,\n",
      "        [3.2313],\n",
      "        [4.0749],\n",
      "        [3.4208]], device='cuda:0')\n",
      "              precision    recall  f1-score   support\n",
      "\n",
      "           0       0.55      0.75      0.63       865\n",
      "           1       0.73      0.52      0.61      1135\n",
      "\n",
      "    accuracy                           0.62      2000\n",
      "   macro avg       0.64      0.64      0.62      2000\n",
      "weighted avg       0.65      0.62      0.62      2000\n",
      "\n",
      "Epoch-94: Loss = 1.886\n",
      "Train RMSE = 0.924||Train Precision = 79.455||Train Recall = 59.610\n",
      "Test RMSE = 1.230 || Test Precision = 73.186|| Test Recall = 52.423\n"
     ]
    },
    {
     "name": "stderr",
     "output_type": "stream",
     "text": [
      "40it [00:20,  1.96it/s]\n"
     ]
    },
    {
     "name": "stdout",
     "output_type": "stream",
     "text": [
      "tensor([[3.1625],\n",
      "        [3.0584],\n",
      "        [4.2651],\n",
      "        ...,\n",
      "        [3.4535],\n",
      "        [4.0532],\n",
      "        [3.5705]], device='cuda:0')\n",
      "              precision    recall  f1-score   support\n",
      "\n",
      "           0       0.57      0.70      0.63       865\n",
      "           1       0.72      0.60      0.65      1135\n",
      "\n",
      "    accuracy                           0.64      2000\n",
      "   macro avg       0.64      0.65      0.64      2000\n",
      "weighted avg       0.65      0.64      0.64      2000\n",
      "\n",
      "Epoch-95: Loss = 1.880\n",
      "Train RMSE = 0.924||Train Precision = 80.694||Train Recall = 66.369\n",
      "Test RMSE = 1.197 || Test Precision = 72.068|| Test Recall = 59.559\n"
     ]
    },
    {
     "name": "stderr",
     "output_type": "stream",
     "text": [
      "40it [00:20,  1.93it/s]\n"
     ]
    },
    {
     "name": "stdout",
     "output_type": "stream",
     "text": [
      "tensor([[3.3408],\n",
      "        [2.9516],\n",
      "        [4.2492],\n",
      "        ...,\n",
      "        [3.5483],\n",
      "        [4.1140],\n",
      "        [3.5370]], device='cuda:0')\n",
      "              precision    recall  f1-score   support\n",
      "\n",
      "           0       0.56      0.73      0.63       865\n",
      "           1       0.73      0.56      0.63      1135\n",
      "\n",
      "    accuracy                           0.63      2000\n",
      "   macro avg       0.65      0.65      0.63      2000\n",
      "weighted avg       0.66      0.63      0.63      2000\n",
      "\n",
      "Epoch-96: Loss = 1.864\n",
      "Train RMSE = 0.922||Train Precision = 78.356||Train Recall = 62.454\n",
      "Test RMSE = 1.226 || Test Precision = 73.326|| Test Recall = 55.947\n"
     ]
    },
    {
     "name": "stderr",
     "output_type": "stream",
     "text": [
      "40it [00:21,  1.83it/s]\n"
     ]
    },
    {
     "name": "stdout",
     "output_type": "stream",
     "text": [
      "tensor([[3.1546],\n",
      "        [2.9174],\n",
      "        [4.3160],\n",
      "        ...,\n",
      "        [3.3418],\n",
      "        [4.2383],\n",
      "        [3.6380]], device='cuda:0')\n",
      "              precision    recall  f1-score   support\n",
      "\n",
      "           0       0.57      0.70      0.63       865\n",
      "           1       0.72      0.60      0.66      1135\n",
      "\n",
      "    accuracy                           0.64      2000\n",
      "   macro avg       0.65      0.65      0.64      2000\n",
      "weighted avg       0.66      0.64      0.64      2000\n",
      "\n",
      "Epoch-97: Loss = 1.860\n",
      "Train RMSE = 0.920||Train Precision = 80.450||Train Recall = 70.939\n",
      "Test RMSE = 1.209 || Test Precision = 72.246|| Test Recall = 60.088\n"
     ]
    },
    {
     "name": "stderr",
     "output_type": "stream",
     "text": [
      "40it [00:20,  1.92it/s]\n"
     ]
    },
    {
     "name": "stdout",
     "output_type": "stream",
     "text": [
      "tensor([[3.1907],\n",
      "        [2.8598],\n",
      "        [4.1612],\n",
      "        ...,\n",
      "        [3.4448],\n",
      "        [4.1084],\n",
      "        [3.5849]], device='cuda:0')\n",
      "              precision    recall  f1-score   support\n",
      "\n",
      "           0       0.56      0.72      0.63       865\n",
      "           1       0.73      0.57      0.64      1135\n",
      "\n",
      "    accuracy                           0.64      2000\n",
      "   macro avg       0.64      0.65      0.64      2000\n",
      "weighted avg       0.66      0.64      0.64      2000\n",
      "\n",
      "Epoch-98: Loss = 1.856\n",
      "Train RMSE = 0.918||Train Precision = 80.449||Train Recall = 67.838\n",
      "Test RMSE = 1.213 || Test Precision = 72.707|| Test Recall = 57.269\n"
     ]
    },
    {
     "name": "stderr",
     "output_type": "stream",
     "text": [
      "40it [00:20,  1.96it/s]\n"
     ]
    },
    {
     "name": "stdout",
     "output_type": "stream",
     "text": [
      "tensor([[3.1674],\n",
      "        [2.9463],\n",
      "        [4.1892],\n",
      "        ...,\n",
      "        [3.4126],\n",
      "        [4.1221],\n",
      "        [3.5263]], device='cuda:0')\n",
      "              precision    recall  f1-score   support\n",
      "\n",
      "           0       0.56      0.70      0.63       865\n",
      "           1       0.72      0.59      0.65      1135\n",
      "\n",
      "    accuracy                           0.64      2000\n",
      "   macro avg       0.64      0.64      0.64      2000\n",
      "weighted avg       0.65      0.64      0.64      2000\n",
      "\n",
      "Epoch-99: Loss = 1.848\n",
      "Train RMSE = 0.917||Train Precision = 80.337||Train Recall = 64.472\n",
      "Test RMSE = 1.211 || Test Precision = 72.204|| Test Recall = 58.590\n"
     ]
    },
    {
     "name": "stderr",
     "output_type": "stream",
     "text": [
      "40it [00:20,  1.95it/s]\n"
     ]
    },
    {
     "name": "stdout",
     "output_type": "stream",
     "text": [
      "tensor([[3.0462],\n",
      "        [2.9319],\n",
      "        [4.2519],\n",
      "        ...,\n",
      "        [3.4630],\n",
      "        [4.1942],\n",
      "        [3.6928]], device='cuda:0')\n",
      "              precision    recall  f1-score   support\n",
      "\n",
      "           0       0.57      0.72      0.63       865\n",
      "           1       0.73      0.58      0.65      1135\n",
      "\n",
      "    accuracy                           0.64      2000\n",
      "   macro avg       0.65      0.65      0.64      2000\n",
      "weighted avg       0.66      0.64      0.64      2000\n",
      "\n",
      "Epoch-100: Loss = 1.844\n",
      "Train RMSE = 0.917||Train Precision = 78.742||Train Recall = 66.060\n",
      "Test RMSE = 1.213 || Test Precision = 72.878|| Test Recall = 58.238\n"
     ]
    }
   ],
   "source": [
    "train_loss, test_loss, train_f1, test_f1 = sm_net.fit()"
   ]
  },
  {
   "cell_type": "code",
   "execution_count": 37,
   "id": "6d7fe6e8",
   "metadata": {},
   "outputs": [],
   "source": [
    "torch.save(sm_net, \"./pretrained/attention.pth\")"
   ]
  },
  {
   "cell_type": "code",
   "execution_count": 26,
   "id": "f0516686",
   "metadata": {},
   "outputs": [
    {
     "name": "stdout",
     "output_type": "stream",
     "text": [
      "tensor([[3.0462],\n",
      "        [2.9319],\n",
      "        [4.2519],\n",
      "        ...,\n",
      "        [3.4630],\n",
      "        [4.1942],\n",
      "        [3.6928]], device='cuda:0')\n",
      "              precision    recall  f1-score   support\n",
      "\n",
      "           0       0.57      0.72      0.63       865\n",
      "           1       0.73      0.58      0.65      1135\n",
      "\n",
      "    accuracy                           0.64      2000\n",
      "   macro avg       0.65      0.65      0.64      2000\n",
      "weighted avg       0.66      0.64      0.64      2000\n",
      "\n"
     ]
    },
    {
     "data": {
      "text/plain": [
       "(tensor(1.2127, device='cuda:0'),\n",
       " 72.87761852260198,\n",
       " 58.23788546255506,\n",
       " 64.74045053868755,\n",
       " 79.59866220735786,\n",
       " 65.86715867158671,\n",
       " 72.08480565371023)"
      ]
     },
     "execution_count": 26,
     "metadata": {},
     "output_type": "execute_result"
    }
   ],
   "source": [
    "sm_net.evaluate(k=3.5)"
   ]
  },
  {
   "cell_type": "code",
   "execution_count": 27,
   "id": "13d58c86",
   "metadata": {},
   "outputs": [
    {
     "name": "stderr",
     "output_type": "stream",
     "text": [
      "/tmp/ipykernel_102931/842202138.py:7: UserWarning: You have mixed positional and keyword arguments, some input may be discarded.\n",
      "  fig.legend([ax, ax2], labels = [\"Train Loss\", \"Test Loss\"], loc = \"upper right\")\n"
     ]
    },
    {
     "data": {
      "image/png": "[encoded data removed]",
      "text/plain": [
       "<Figure size 640x480 with 2 Axes>"
      ]
     },
     "metadata": {},
     "output_type": "display_data"
    }
   ],
   "source": [
    "import matplotlib.pyplot as plt\n",
    "\n",
    "fig, ax = plt.subplots()\n",
    "ax2 = ax.twinx()\n",
    "ax.plot(train_loss[20:], label = \"Train Loss\", color = \"orange\")\n",
    "ax2.plot(test_loss[20:], label = \"Test Loss\")\n",
    "fig.legend([ax, ax2], labels = [\"Train Loss\", \"Test Loss\"], loc = \"upper right\")\n",
    "plt.show()"
   ]
  },
  {
   "cell_type": "markdown",
   "id": "e1b0befa",
   "metadata": {},
   "source": [
    "# Test"
   ]
  },
  {
   "cell_type": "code",
   "execution_count": 34,
   "id": "ac357e4a",
   "metadata": {},
   "outputs": [],
   "source": [
    "import matplotlib.pyplot as plt\n",
    "import torch"
   ]
  },
  {
   "cell_type": "code",
   "execution_count": 38,
   "id": "845ce1cd",
   "metadata": {},
   "outputs": [],
   "source": [
    "sm_net = torch.load(\"./pretrained/attention.pth\")"
   ]
  },
  {
   "cell_type": "code",
   "execution_count": 40,
   "id": "fd79f6bb",
   "metadata": {},
   "outputs": [
    {
     "name": "stdout",
     "output_type": "stream",
     "text": [
      "tensor([[3.0462],\n",
      "        [2.9319],\n",
      "        [4.2519],\n",
      "        ...,\n",
      "        [3.4630],\n",
      "        [4.1942],\n",
      "        [3.6928]], device='cuda:0')\n",
      "              precision    recall  f1-score   support\n",
      "\n",
      "           0       0.63      0.52      0.57       865\n",
      "           1       0.68      0.77      0.72      1135\n",
      "\n",
      "    accuracy                           0.66      2000\n",
      "   macro avg       0.66      0.65      0.65      2000\n",
      "weighted avg       0.66      0.66      0.66      2000\n",
      "\n",
      "tensor([[3.0462],\n",
      "        [2.9319],\n",
      "        [4.2519],\n",
      "        ...,\n",
      "        [3.4630],\n",
      "        [4.1942],\n",
      "        [3.6928]], device='cuda:0')\n",
      "              precision    recall  f1-score   support\n",
      "\n",
      "           0       0.62      0.56      0.59       865\n",
      "           1       0.69      0.74      0.71      1135\n",
      "\n",
      "    accuracy                           0.66      2000\n",
      "   macro avg       0.65      0.65      0.65      2000\n",
      "weighted avg       0.66      0.66      0.66      2000\n",
      "\n",
      "tensor([[3.0462],\n",
      "        [2.9319],\n",
      "        [4.2519],\n",
      "        ...,\n",
      "        [3.4630],\n",
      "        [4.1942],\n",
      "        [3.6928]], device='cuda:0')\n",
      "              precision    recall  f1-score   support\n",
      "\n",
      "           0       0.61      0.60      0.61       865\n",
      "           1       0.70      0.71      0.70      1135\n",
      "\n",
      "    accuracy                           0.66      2000\n",
      "   macro avg       0.66      0.66      0.66      2000\n",
      "weighted avg       0.66      0.66      0.66      2000\n",
      "\n",
      "tensor([[3.0462],\n",
      "        [2.9319],\n",
      "        [4.2519],\n",
      "        ...,\n",
      "        [3.4630],\n",
      "        [4.1942],\n",
      "        [3.6928]], device='cuda:0')\n",
      "              precision    recall  f1-score   support\n",
      "\n",
      "           0       0.59      0.65      0.62       865\n",
      "           1       0.71      0.66      0.68      1135\n",
      "\n",
      "    accuracy                           0.66      2000\n",
      "   macro avg       0.65      0.66      0.65      2000\n",
      "weighted avg       0.66      0.66      0.66      2000\n",
      "\n",
      "tensor([[3.0462],\n",
      "        [2.9319],\n",
      "        [4.2519],\n",
      "        ...,\n",
      "        [3.4630],\n",
      "        [4.1942],\n",
      "        [3.6928]], device='cuda:0')\n",
      "              precision    recall  f1-score   support\n",
      "\n",
      "           0       0.59      0.69      0.63       865\n",
      "           1       0.73      0.63      0.67      1135\n",
      "\n",
      "    accuracy                           0.65      2000\n",
      "   macro avg       0.66      0.66      0.65      2000\n",
      "weighted avg       0.66      0.65      0.66      2000\n",
      "\n",
      "tensor([[3.0462],\n",
      "        [2.9319],\n",
      "        [4.2519],\n",
      "        ...,\n",
      "        [3.4630],\n",
      "        [4.1942],\n",
      "        [3.6928]], device='cuda:0')\n",
      "              precision    recall  f1-score   support\n",
      "\n",
      "           0       0.57      0.72      0.63       865\n",
      "           1       0.73      0.58      0.65      1135\n",
      "\n",
      "    accuracy                           0.64      2000\n",
      "   macro avg       0.65      0.65      0.64      2000\n",
      "weighted avg       0.66      0.64      0.64      2000\n",
      "\n",
      "tensor([[3.0462],\n",
      "        [2.9319],\n",
      "        [4.2519],\n",
      "        ...,\n",
      "        [3.4630],\n",
      "        [4.1942],\n",
      "        [3.6928]], device='cuda:0')\n",
      "              precision    recall  f1-score   support\n",
      "\n",
      "           0       0.55      0.75      0.63       865\n",
      "           1       0.73      0.52      0.61      1135\n",
      "\n",
      "    accuracy                           0.62      2000\n",
      "   macro avg       0.64      0.64      0.62      2000\n",
      "weighted avg       0.65      0.62      0.62      2000\n",
      "\n",
      "tensor([[3.0462],\n",
      "        [2.9319],\n",
      "        [4.2519],\n",
      "        ...,\n",
      "        [3.4630],\n",
      "        [4.1942],\n",
      "        [3.6928]], device='cuda:0')\n",
      "              precision    recall  f1-score   support\n",
      "\n",
      "           0       0.53      0.78      0.63       865\n",
      "           1       0.74      0.47      0.58      1135\n",
      "\n",
      "    accuracy                           0.60      2000\n",
      "   macro avg       0.63      0.63      0.60      2000\n",
      "weighted avg       0.65      0.60      0.60      2000\n",
      "\n",
      "tensor([[3.0462],\n",
      "        [2.9319],\n",
      "        [4.2519],\n",
      "        ...,\n",
      "        [3.4630],\n",
      "        [4.1942],\n",
      "        [3.6928]], device='cuda:0')\n",
      "              precision    recall  f1-score   support\n",
      "\n",
      "           0       0.52      0.81      0.63       865\n",
      "           1       0.74      0.43      0.54      1135\n",
      "\n",
      "    accuracy                           0.59      2000\n",
      "   macro avg       0.63      0.62      0.59      2000\n",
      "weighted avg       0.65      0.59      0.58      2000\n",
      "\n",
      "tensor([[3.0462],\n",
      "        [2.9319],\n",
      "        [4.2519],\n",
      "        ...,\n",
      "        [3.4630],\n",
      "        [4.1942],\n",
      "        [3.6928]], device='cuda:0')\n",
      "              precision    recall  f1-score   support\n",
      "\n",
      "           0       0.50      0.83      0.63       865\n",
      "           1       0.74      0.37      0.49      1135\n",
      "\n",
      "    accuracy                           0.57      2000\n",
      "   macro avg       0.62      0.60      0.56      2000\n",
      "weighted avg       0.64      0.57      0.55      2000\n",
      "\n"
     ]
    },
    {
     "data": {
      "image/png": "[encoded data removed]",
      "text/plain": [
       "<Figure size 640x480 with 1 Axes>"
      ]
     },
     "metadata": {},
     "output_type": "display_data"
    }
   ],
   "source": [
    "prs = []\n",
    "rec = []\n",
    "f1 = []\n",
    "loss = []\n",
    "\n",
    "for i in np.arange(3, 4, 0.1):\n",
    "    l, p, r, f, _, _, _ = sm_net.evaluate(i)\n",
    "    prs.append(p)\n",
    "    rec.append(r)\n",
    "    f1.append(f)\n",
    "    loss.append(l)\n",
    "    \n",
    "plt.plot(prs, label = \"Test Precision\")\n",
    "plt.plot(rec, label = \"Test Recall\")\n",
    "plt.plot(f1, label = \"Test F1\")\n",
    "\n",
    "plt.legend()\n",
    "plt.show()"
   ]
  },
  {
   "cell_type": "code",
   "execution_count": null,
   "id": "48029abc",
   "metadata": {},
   "outputs": [],
   "source": []
  }
 ],
 "metadata": {
  "kernelspec": {
   "display_name": "Python 3 (ipykernel)",
   "language": "python",
   "name": "python3"
  },
  "language_info": {
   "codemirror_mode": {
    "name": "ipython",
    "version": 3
   },
   "file_extension": ".py",
   "mimetype": "text/x-python",
   "name": "python",
   "nbconvert_exporter": "python",
   "pygments_lexer": "ipython3",
   "version": "3.10.9"
  }
 },
 "nbformat": 4,
 "nbformat_minor": 5
}
