{
 "cells": [
  {
   "cell_type": "markdown",
   "id": "00c246b9",
   "metadata": {},
   "source": [
    "# Setup"
   ]
  },
  {
   "cell_type": "code",
   "execution_count": 1,
   "id": "1ff95a06",
   "metadata": {},
   "outputs": [],
   "source": [
    "import os\n",
    "os.environ[\"CUDA_VISIBLE_DEVICES\"]=\"3\"\n",
    "os.environ[\"CUDA_LAUNCH_BLOCKING\"]=\"1, 2, 3, 4\""
   ]
  },
  {
   "cell_type": "code",
   "execution_count": 2,
   "id": "6cc78b90",
   "metadata": {},
   "outputs": [],
   "source": [
    "import torch\n",
    "import random\n",
    "import numpy as np\n",
    "import pandas as pd\n",
    "from numpy.ma import masked_where"
   ]
  },
  {
   "cell_type": "code",
   "execution_count": 3,
   "id": "6c8fe86e",
   "metadata": {},
   "outputs": [],
   "source": [
    "from sklearn.preprocessing import normalize\n",
    "from torch.utils.data import Dataset, DataLoader\n",
    "from torchsampler import ImbalancedDatasetSampler\n",
    "from sklearn.metrics.pairwise import cosine_similarity\n",
    "from sklearn.metrics import confusion_matrix, classification_report\n",
    "from sklearn.metrics import f1_score, precision_score, recall_score"
   ]
  },
  {
   "cell_type": "markdown",
   "id": "292af277",
   "metadata": {},
   "source": [
    "# Import Data"
   ]
  },
  {
   "cell_type": "code",
   "execution_count": 4,
   "id": "c14b4dfe",
   "metadata": {},
   "outputs": [],
   "source": [
    "items = pd.read_csv(\"../Datasets/ml-100k/Text/items.csv\")\n",
    "\n",
    "r_cols = ['user_id', 'movie_id', 'rating', 'unix_timestamp']\n",
    "ratings = pd.read_csv('../Datasets/ml-100k/Text/u1.base', sep='\\t', names=r_cols,encoding='latin-1')"
   ]
  },
  {
   "cell_type": "code",
   "execution_count": 5,
   "id": "7c496f9d",
   "metadata": {},
   "outputs": [],
   "source": [
    "n_users = 943\n",
    "n_items = 1682"
   ]
  },
  {
   "cell_type": "code",
   "execution_count": 6,
   "id": "6fa1c6dc",
   "metadata": {},
   "outputs": [],
   "source": [
    "data_matrix = np.zeros((n_users, n_items))\n",
    "for line in ratings.itertuples():\n",
    "    data_matrix[line[1]-1, line[2]-1] = line[3]"
   ]
  },
  {
   "cell_type": "code",
   "execution_count": 7,
   "id": "59efbdc8",
   "metadata": {},
   "outputs": [],
   "source": [
    "data_matrix_emp = data_matrix.copy()\n",
    "data_matrix_emp[data_matrix < 4] = 0\n",
    "data_matrix_emp[data_matrix >= 4]= 1 "
   ]
  },
  {
   "cell_type": "code",
   "execution_count": 8,
   "id": "728c3657",
   "metadata": {},
   "outputs": [],
   "source": [
    "train_indices = list(zip(*(np.where(data_matrix != 0))))"
   ]
  },
  {
   "cell_type": "code",
   "execution_count": 9,
   "id": "586b662a",
   "metadata": {},
   "outputs": [
    {
     "data": {
      "text/plain": [
       "80000"
      ]
     },
     "execution_count": 9,
     "metadata": {},
     "output_type": "execute_result"
    }
   ],
   "source": [
    "len(train_indices)"
   ]
  },
  {
   "cell_type": "markdown",
   "id": "f65dce03",
   "metadata": {},
   "source": [
    "# Siamese network"
   ]
  },
  {
   "cell_type": "markdown",
   "id": "3861f26a",
   "metadata": {},
   "source": [
    "## Data loader"
   ]
  },
  {
   "cell_type": "code",
   "execution_count": 10,
   "id": "6fdb1724",
   "metadata": {},
   "outputs": [
    {
     "data": {
      "text/plain": [
       "True"
      ]
     },
     "execution_count": 10,
     "metadata": {},
     "output_type": "execute_result"
    }
   ],
   "source": [
    "torch.cuda.is_available()"
   ]
  },
  {
   "cell_type": "code",
   "execution_count": 11,
   "id": "cbcb242b",
   "metadata": {},
   "outputs": [
    {
     "data": {
      "text/plain": [
       "'1.10.1'"
      ]
     },
     "execution_count": 11,
     "metadata": {},
     "output_type": "execute_result"
    }
   ],
   "source": [
    "torch.__version__"
   ]
  },
  {
   "cell_type": "code",
   "execution_count": 12,
   "id": "71541f3e",
   "metadata": {},
   "outputs": [],
   "source": [
    "items_csv = \"../Datasets/ml-100k/Text/items.csv\"\n",
    "train_ratings = \"../Datasets/ml-100k/Text/u1.base\"\n",
    "test_ratings = \"../Datasets/ml-100k/Text/u1.test\"\n",
    "\n",
    "item_path = \"../Datasets/ml-100k/\""
   ]
  },
  {
   "cell_type": "code",
   "execution_count": 13,
   "id": "a535e011",
   "metadata": {},
   "outputs": [],
   "source": [
    "device = torch.device(\"cuda:0\" if torch.cuda.is_available() else \"cpu\")"
   ]
  },
  {
   "cell_type": "code",
   "execution_count": 14,
   "id": "0005de6c",
   "metadata": {},
   "outputs": [],
   "source": [
    "class MovielensDataset(Dataset):\n",
    "    def __init__(self, ratings = train_ratings, item_path = item_path, device = device):\n",
    "        self.video_embeddings = pd.read_csv(item_path + \"Video/embeddings.csv\").to_numpy()\n",
    "        self.audio_embeddings = pd.read_csv(item_path + \"Fusion/embeddings.csv\").to_numpy()\n",
    "        self.meta_embeddings = pd.read_csv(item_path + \"Meta/embeddings.csv\").to_numpy()\n",
    "        self.text_embeddings = pd.read_csv(item_path + \"Text/embeddings.csv\").to_numpy()\n",
    "        self.ratings = pd.read_csv(ratings, sep='\\t', \n",
    "                                   names=['user_id', 'movie_id', 'rating', 'unix_timestamp'],encoding='latin-1')\n",
    "        self.indices = None\n",
    "        self.device = device\n",
    "        self.data = None\n",
    "        self.n_users = None\n",
    "        self.n_items = None\n",
    "        self.fill_ratings()\n",
    "        self.embeddings()\n",
    "    \n",
    "    def fill_ratings(self, threshold=4):\n",
    "        self.n_users = self.ratings.user_id.unique().shape[0]\n",
    "        self.n_items = self.ratings.movie_id.unique().shape[0]\n",
    "        \n",
    "        self.data = np.zeros((n_users, n_items))\n",
    "        for line in self.ratings.itertuples():\n",
    "            self.data[line[1]-1, line[2]-1] = line[3]\n",
    "        \n",
    "        self.data_emp = np.where(np.logical_and(self.data > 3,\n",
    "                            np.random.random_sample(self.data.shape) <= 0.2), 1, 0)\n",
    "        self.indices = list(zip(*(np.where(self.data != 0))))\n",
    "            \n",
    "    def embeddings(self):\n",
    "        self.audio_embeddings = np.nan_to_num(self.audio_embeddings)\n",
    "        self.video_embeddings = np.nan_to_num(self.video_embeddings)\n",
    "        self.audio_embeddings = normalize(self.audio_embeddings, axis = 0)\n",
    "        self.user_embeddings = np.divide(np.dot(self.data_emp, self.meta_embeddings), \n",
    "                                         self.data_emp.sum(axis = 1)[:, None] + 0.001)\n",
    "#         self.user_embeddings = data_matrix\n",
    "        self.item_embeddings = data_matrix.T\n",
    "        self.video_embedding_size = self.video_embeddings.shape[1]\n",
    "        self.audio_embedding_size = self.audio_embeddings.shape[1]\n",
    "        self.text_embedding_size = self.text_embeddings.shape[1]\n",
    "        self.user_embedding_size = self.user_embeddings.shape[1]\n",
    "        self.item_embedding_size = self.item_embeddings.shape[1]\n",
    "        self.meta_embedding_size = self.meta_embeddings.shape[1]\n",
    "        \n",
    "    def __len__(self):\n",
    "        return(len(self.indices))\n",
    "    \n",
    "    def __getitem__(self, idx):\n",
    "        user = self.indices[idx][0]\n",
    "        item = self.indices[idx][1]\n",
    "\n",
    "        xu = torch.from_numpy(self.user_embeddings[user]).to(self.device)\n",
    "        xv = torch.from_numpy(self.video_embeddings[item]).to(self.device)\n",
    "        xa = torch.from_numpy(self.audio_embeddings[item]).to(self.device)\n",
    "        xt = torch.from_numpy(self.text_embeddings[item]).to(self.device)\n",
    "        xi = torch.from_numpy(self.item_embeddings[item]).to(self.device)\n",
    "        xm = torch.from_numpy(self.meta_embeddings[item]).to(self.device)\n",
    "        \n",
    "        y = self.data[user][item]\n",
    "        return(xu.float(), [xv.float(), xa.float(), xt.float(), xi.float(), xm.float()], int(y))"
   ]
  },
  {
   "cell_type": "code",
   "execution_count": 15,
   "id": "ef2d9be8",
   "metadata": {},
   "outputs": [],
   "source": [
    "train_dataset = MovielensDataset(ratings = train_ratings)\n",
    "test_dataset = MovielensDataset(ratings = test_ratings)"
   ]
  },
  {
   "cell_type": "code",
   "execution_count": 16,
   "id": "7bae36ef",
   "metadata": {},
   "outputs": [],
   "source": [
    "trainloader = DataLoader(train_dataset, batch_size = 40000, shuffle = True)\n",
    "testloader = DataLoader(test_dataset, batch_size = 20000, shuffle = False)"
   ]
  },
  {
   "cell_type": "markdown",
   "id": "e2ff4e2f",
   "metadata": {},
   "source": [
    "## Architecture"
   ]
  },
  {
   "cell_type": "code",
   "execution_count": 17,
   "id": "7abd8196",
   "metadata": {},
   "outputs": [],
   "source": [
    "from tqdm import tqdm\n",
    "import torch.nn as nn\n",
    "import torch.optim as optim\n",
    "import torch.nn.functional as F\n",
    "from collections import OrderedDict"
   ]
  },
  {
   "cell_type": "code",
   "execution_count": 18,
   "id": "ada31976",
   "metadata": {},
   "outputs": [],
   "source": [
    "from ml_metrics import mapk\n",
    "from recmetrics import mark"
   ]
  },
  {
   "cell_type": "code",
   "execution_count": 19,
   "id": "7b20d691",
   "metadata": {},
   "outputs": [],
   "source": [
    "class SiameseNet(nn.Module):\n",
    "    def __init__(self, device = device):\n",
    "        super(SiameseNet, self).__init__()\n",
    "        self.encoder_user = nn.Sequential(OrderedDict([\n",
    "            ('linr1', nn.Linear(train_dataset.user_embedding_size, 1024)),\n",
    "            ('relu1', nn.Sigmoid()),\n",
    "            ('linr2', nn.Linear(1024, 200)),\n",
    "            ('relu2', nn.LeakyReLU()),\n",
    "        ]))\n",
    "        \n",
    "        self.encoder_item = nn.Sequential(OrderedDict([\n",
    "            ('linr1', nn.Linear(train_dataset.item_embedding_size, 256)),\n",
    "            ('relu1', nn.Sigmoid()),\n",
    "            ('linr2', nn.Linear(256, 400)),\n",
    "            ('relu2', nn.Sigmoid()),\n",
    "        ]))\n",
    "        \n",
    "        self.encoder_video = nn.Sequential(OrderedDict([\n",
    "            ('linr1', nn.Linear(train_dataset.video_embedding_size, 1600)),\n",
    "            ('relu1', nn.Sigmoid()),\n",
    "            ('linr2', nn.Linear(1600, 1000)),\n",
    "            ('relu2', nn.Sigmoid()),\n",
    "            ('linr3', nn.Linear(1000, 500)),\n",
    "            ('relu3', nn.LeakyReLU()),\n",
    "            ('linr4', nn.Linear(500, 200)),\n",
    "            ('relu4', nn.LeakyReLU()),\n",
    "        ]))\n",
    "        \n",
    "        self.encoder_audio = nn.Sequential(OrderedDict([\n",
    "            ('linr1', nn.Linear(train_dataset.audio_embedding_size, 100)),\n",
    "            ('relu1', nn.LeakyReLU()),\n",
    "#             ('linr2', nn.Linear(1000, 800)),\n",
    "#             ('relu2', nn.LeakyReLU()),\n",
    "#             ('linr3', nn.Linear(800, 500)),\n",
    "#             ('relu3', nn.LeakyReLU()),\n",
    "            ('linr4', nn.Linear(100, 200)),\n",
    "            ('relu4', nn.LeakyReLU()),\n",
    "        ]))\n",
    "        \n",
    "        self.encoder_text = nn.Sequential(OrderedDict([\n",
    "            ('linr1', nn.Linear(train_dataset.text_embedding_size, 256)),\n",
    "            ('relu1', nn.LeakyReLU()),\n",
    "            ('linr2', nn.Linear(256, 200)),\n",
    "            ('relu2', nn.LeakyReLU()),\n",
    "        ]))\n",
    "        \n",
    "        self.encoder_meta = nn.Sequential(OrderedDict([\n",
    "            ('linr1', nn.Linear(train_dataset.meta_embedding_size, 1600)),\n",
    "            ('relu1', nn.LeakyReLU()),\n",
    "            ('linr2', nn.Linear(1600, 1000)),\n",
    "            ('relu2', nn.LeakyReLU()),\n",
    "            ('linr3', nn.Linear(1000, 500)),\n",
    "            ('relu3', nn.LeakyReLU()),\n",
    "            ('linr4', nn.Linear(500, 200)),\n",
    "            ('relu4', nn.LeakyReLU()),\n",
    "        ]))\n",
    "        \n",
    "        self.siamese = nn.Sequential(OrderedDict([\n",
    "            ('linr1', nn.Linear(200, 512)),\n",
    "            ('relu1', nn.LeakyReLU()),\n",
    "            ('linr2', nn.Linear(512, 256)),\n",
    "            ('relu2', nn.LeakyReLU()),\n",
    "            ('linr3', nn.Linear(256, 100)),\n",
    "            ('relu3', nn.LeakyReLU()),\n",
    "        ]))\n",
    "        \n",
    "        self.ffn = nn.Sequential(OrderedDict([\n",
    "            ('linr1', nn.Linear(200, 164)),\n",
    "            ('actv1', nn.LeakyReLU()),\n",
    "            ('linr2', nn.Linear(164, 50)),\n",
    "            ('actv2', nn.LeakyReLU()),\n",
    "            ('linr3', nn.Linear(50, 1)),\n",
    "        ]))\n",
    "        \n",
    "        self.device = device\n",
    "        self.encoder_user.apply(self.init_weights)\n",
    "        self.encoder_item.apply(self.init_weights)\n",
    "        self.encoder_video.apply(self.init_weights)\n",
    "        self.encoder_audio.apply(self.init_weights)\n",
    "        self.encoder_text.apply(self.init_weights)\n",
    "        self.siamese.apply(self.init_weights)\n",
    "        self.ffn.apply(self.init_weights)\n",
    "        \n",
    "    def init_weights(self, m):\n",
    "        if isinstance(m, nn.Linear):\n",
    "            nn.init.kaiming_normal_(m.weight)\n",
    "            m.bias.data.fill_(0.01)\n",
    "        \n",
    "    def forward(self, x1, x2):\n",
    "        outu = self.encoder_user(x1)\n",
    "        outr = self.encoder_item(x2[3])\n",
    "        outv = self.encoder_video(x2[0])\n",
    "        outa = self.encoder_audio(x2[1])\n",
    "        outt = self.encoder_text(x2[2])\n",
    "        outm = self.encoder_meta(x2[4])\n",
    "#         outi = torch.cat((outa, outt), axis=1)\n",
    "        outi = outa\n",
    "        out1 = self.siamese(outu)\n",
    "        out2 = self.siamese(outi)\n",
    "        diff = torch.cat((out1, out2), axis=1)\n",
    "        out = self.ffn(diff)\n",
    "        return(out, out1, out2)\n",
    "    \n",
    "    def fit(self, trainloader = trainloader, \n",
    "            testloader = testloader, epochs = 100):\n",
    "        self.criterion_rate = nn.MSELoss()\n",
    "        self.criterion_embd = nn.CosineEmbeddingLoss()\n",
    "        self.optimizer = optim.Adam(self.parameters(), lr = 1e-3)\n",
    "        \n",
    "        train_loss = []\n",
    "        train_f1 = []\n",
    "        test_loss = []\n",
    "        test_f1 = []\n",
    "        for epoch in range(epochs):\n",
    "            running_loss = 0.0\n",
    "            running_loss_1 = 0.0\n",
    "            \n",
    "            for i, data in tqdm(enumerate(trainloader)):\n",
    "                self.train()\n",
    "                x1, x2, y = data\n",
    "                y_flt = y.type(torch.FloatTensor).to(device)\n",
    "                y_lng = torch.div(y, 4, rounding_mode=\"floor\").to(device)\n",
    "                self.optimizer.zero_grad()\n",
    "                reg, outu, outi = self.forward(x1, x2)\n",
    "                loss_1 = self.criterion_rate(reg.squeeze(), y_flt)\n",
    "                loss_2 = self.criterion_embd(outu, outi, y_lng * 2 - 1)\n",
    "                loss = loss_1 + loss_2 \n",
    "                loss.backward()\n",
    "                self.optimizer.step()\n",
    "\n",
    "                running_loss_1 += torch.sqrt(loss_1)\n",
    "                running_loss += loss\n",
    "            vl, vp, vr, vf, tp, tr, tf = self.evaluate()\n",
    "            print('Epoch-%d: Loss = %.3f\\nTrain RMSE = %.3f||Train Precision = %.3f||Train Recall = %.3f\\nTest RMSE = %.3f || Test Precision = %.3f|| Test Recall = %.3f'%\n",
    "                  (epoch + 1, running_loss / i, running_loss_1 / i, \n",
    "                   tp, tr, vl, vp, vr))\n",
    "            train_loss.append((running_loss_1 / i).cpu().detach().numpy())\n",
    "            test_loss.append(vl.cpu().detach().numpy())\n",
    "            train_f1.append(tf)\n",
    "            test_f1.append(vf)\n",
    "        return(train_loss, test_loss, train_f1, test_f1)\n",
    "            \n",
    "    def evaluate(self, k = 3.5):\n",
    "        self.eval()\n",
    "        with torch.no_grad():\n",
    "            valdata = next(iter(testloader))\n",
    "            x1, x2, y = valdata\n",
    "            y_flt = y.type(torch.FloatTensor).to(device)\n",
    "            y_lng = torch.div(y, 4, rounding_mode=\"floor\").to(device)\n",
    "            otpt = self.forward(x1, x2)\n",
    "            print(otpt[0])\n",
    "            pred = (otpt[0] > k).float()\n",
    "            vl = torch.sqrt(self.criterion_rate(otpt[0].squeeze(), y_flt))\n",
    "            vp = precision_score(y_lng.cpu(), pred.cpu(), zero_division = 0)\n",
    "            vr = recall_score(y_lng.cpu(), pred.cpu(), zero_division = 0)\n",
    "            vf = f1_score(y_lng.cpu(), pred.cpu(), zero_division = 0)\n",
    "            print(classification_report(y_lng.cpu(), pred.cpu(),\n",
    "                    target_names = [\"0\", \"1\"], zero_division = 0))\n",
    "            \n",
    "            traindata = next(iter(trainloader))\n",
    "            x1, x2, y = traindata\n",
    "            y_flt = y.type(torch.FloatTensor).to(device)\n",
    "            y_lng = torch.div(y, 4, rounding_mode=\"floor\").to(device)\n",
    "            otpt = self.forward(x1, x2)\n",
    "            pred = (otpt[0] > k).float()\n",
    "            tp = precision_score(y_lng.cpu(), pred.cpu(), zero_division = 0)\n",
    "            tr = recall_score(y_lng.cpu(), pred.cpu(), zero_division = 0)\n",
    "            tf = f1_score(y_lng.cpu(), pred.cpu(), zero_division = 0)\n",
    "        return(vl, vp*100, vr*100, vf*100, tp*100, tr*100, tf*100)"
   ]
  },
  {
   "cell_type": "code",
   "execution_count": 20,
   "id": "92170de3",
   "metadata": {
    "scrolled": true
   },
   "outputs": [
    {
     "data": {
      "text/plain": [
       "SiameseNet(\n",
       "  (encoder_user): Sequential(\n",
       "    (linr1): Linear(in_features=1220, out_features=1024, bias=True)\n",
       "    (relu1): Sigmoid()\n",
       "    (linr2): Linear(in_features=1024, out_features=200, bias=True)\n",
       "    (relu2): LeakyReLU(negative_slope=0.01)\n",
       "  )\n",
       "  (encoder_item): Sequential(\n",
       "    (linr1): Linear(in_features=943, out_features=256, bias=True)\n",
       "    (relu1): Sigmoid()\n",
       "    (linr2): Linear(in_features=256, out_features=400, bias=True)\n",
       "    (relu2): Sigmoid()\n",
       "  )\n",
       "  (encoder_video): Sequential(\n",
       "    (linr1): Linear(in_features=2048, out_features=1600, bias=True)\n",
       "    (relu1): Sigmoid()\n",
       "    (linr2): Linear(in_features=1600, out_features=1000, bias=True)\n",
       "    (relu2): Sigmoid()\n",
       "    (linr3): Linear(in_features=1000, out_features=500, bias=True)\n",
       "    (relu3): LeakyReLU(negative_slope=0.01)\n",
       "    (linr4): Linear(in_features=500, out_features=200, bias=True)\n",
       "    (relu4): LeakyReLU(negative_slope=0.01)\n",
       "  )\n",
       "  (encoder_audio): Sequential(\n",
       "    (linr1): Linear(in_features=300, out_features=100, bias=True)\n",
       "    (relu1): LeakyReLU(negative_slope=0.01)\n",
       "    (linr4): Linear(in_features=100, out_features=200, bias=True)\n",
       "    (relu4): LeakyReLU(negative_slope=0.01)\n",
       "  )\n",
       "  (encoder_text): Sequential(\n",
       "    (linr1): Linear(in_features=384, out_features=256, bias=True)\n",
       "    (relu1): LeakyReLU(negative_slope=0.01)\n",
       "    (linr2): Linear(in_features=256, out_features=200, bias=True)\n",
       "    (relu2): LeakyReLU(negative_slope=0.01)\n",
       "  )\n",
       "  (encoder_meta): Sequential(\n",
       "    (linr1): Linear(in_features=1220, out_features=1600, bias=True)\n",
       "    (relu1): LeakyReLU(negative_slope=0.01)\n",
       "    (linr2): Linear(in_features=1600, out_features=1000, bias=True)\n",
       "    (relu2): LeakyReLU(negative_slope=0.01)\n",
       "    (linr3): Linear(in_features=1000, out_features=500, bias=True)\n",
       "    (relu3): LeakyReLU(negative_slope=0.01)\n",
       "    (linr4): Linear(in_features=500, out_features=200, bias=True)\n",
       "    (relu4): LeakyReLU(negative_slope=0.01)\n",
       "  )\n",
       "  (siamese): Sequential(\n",
       "    (linr1): Linear(in_features=200, out_features=512, bias=True)\n",
       "    (relu1): LeakyReLU(negative_slope=0.01)\n",
       "    (linr2): Linear(in_features=512, out_features=256, bias=True)\n",
       "    (relu2): LeakyReLU(negative_slope=0.01)\n",
       "    (linr3): Linear(in_features=256, out_features=100, bias=True)\n",
       "    (relu3): LeakyReLU(negative_slope=0.01)\n",
       "  )\n",
       "  (ffn): Sequential(\n",
       "    (linr1): Linear(in_features=200, out_features=164, bias=True)\n",
       "    (actv1): LeakyReLU(negative_slope=0.01)\n",
       "    (linr2): Linear(in_features=164, out_features=50, bias=True)\n",
       "    (actv2): LeakyReLU(negative_slope=0.01)\n",
       "    (linr3): Linear(in_features=50, out_features=1, bias=True)\n",
       "  )\n",
       ")"
      ]
     },
     "execution_count": 20,
     "metadata": {},
     "output_type": "execute_result"
    }
   ],
   "source": [
    "sm_net = SiameseNet()\n",
    "sm_net.to(device)"
   ]
  },
  {
   "cell_type": "code",
   "execution_count": 21,
   "id": "ea144c82",
   "metadata": {},
   "outputs": [
    {
     "name": "stderr",
     "output_type": "stream",
     "text": [
      "2it [00:36, 18.12s/it]\n"
     ]
    },
    {
     "name": "stdout",
     "output_type": "stream",
     "text": [
      "tensor([[5.8287],\n",
      "        [5.8287],\n",
      "        [5.8287],\n",
      "        ...,\n",
      "        [5.6558],\n",
      "        [5.6558],\n",
      "        [5.6558]], device='cuda:0')\n",
      "              precision    recall  f1-score   support\n",
      "\n",
      "           0       0.00      0.00      0.00      8765\n",
      "           1       0.56      1.00      0.72     11235\n",
      "\n",
      "    accuracy                           0.56     20000\n",
      "   macro avg       0.28      0.50      0.36     20000\n",
      "weighted avg       0.32      0.56      0.40     20000\n",
      "\n",
      "Epoch-1: Loss = 16.643\n",
      "Train RMSE = 5.276||Train Precision = 55.197||Train Recall = 100.000\n",
      "Test RMSE = 2.588 || Test Precision = 56.175|| Test Recall = 100.000\n"
     ]
    },
    {
     "name": "stderr",
     "output_type": "stream",
     "text": [
      "2it [00:34, 17.19s/it]\n"
     ]
    },
    {
     "name": "stdout",
     "output_type": "stream",
     "text": [
      "tensor([[2.5755],\n",
      "        [2.5755],\n",
      "        [2.5755],\n",
      "        ...,\n",
      "        [2.4962],\n",
      "        [2.4962],\n",
      "        [2.4962]], device='cuda:0')\n",
      "              precision    recall  f1-score   support\n",
      "\n",
      "           0       0.44      1.00      0.61      8765\n",
      "           1       0.00      0.00      0.00     11235\n",
      "\n",
      "    accuracy                           0.44     20000\n",
      "   macro avg       0.22      0.50      0.30     20000\n",
      "weighted avg       0.19      0.44      0.27     20000\n",
      "\n",
      "Epoch-2: Loss = 9.449\n",
      "Train RMSE = 3.927||Train Precision = 0.000||Train Recall = 0.000\n",
      "Test RMSE = 1.492 || Test Precision = 0.000|| Test Recall = 0.000\n"
     ]
    },
    {
     "name": "stderr",
     "output_type": "stream",
     "text": [
      "2it [00:34, 17.28s/it]\n"
     ]
    },
    {
     "name": "stdout",
     "output_type": "stream",
     "text": [
      "tensor([[3.6606],\n",
      "        [3.6606],\n",
      "        [3.6606],\n",
      "        ...,\n",
      "        [3.5787],\n",
      "        [3.5787],\n",
      "        [3.5787]], device='cuda:0')\n",
      "              precision    recall  f1-score   support\n",
      "\n",
      "           0       0.00      0.00      0.00      8765\n",
      "           1       0.56      1.00      0.72     11235\n",
      "\n",
      "    accuracy                           0.56     20000\n",
      "   macro avg       0.28      0.50      0.36     20000\n",
      "weighted avg       0.32      0.56      0.40     20000\n",
      "\n",
      "Epoch-3: Loss = 4.721\n",
      "Train RMSE = 2.744||Train Precision = 55.102||Train Recall = 100.000\n",
      "Test RMSE = 1.163 || Test Precision = 56.175|| Test Recall = 100.000\n"
     ]
    },
    {
     "name": "stderr",
     "output_type": "stream",
     "text": [
      "2it [00:37, 18.77s/it]\n"
     ]
    },
    {
     "name": "stdout",
     "output_type": "stream",
     "text": [
      "tensor([[3.5699],\n",
      "        [3.5699],\n",
      "        [3.5699],\n",
      "        ...,\n",
      "        [3.5048],\n",
      "        [3.5048],\n",
      "        [3.5048]], device='cuda:0')\n",
      "              precision    recall  f1-score   support\n",
      "\n",
      "           0       0.00      0.00      0.00      8765\n",
      "           1       0.56      1.00      0.72     11235\n",
      "\n",
      "    accuracy                           0.56     20000\n",
      "   macro avg       0.28      0.50      0.36     20000\n",
      "weighted avg       0.32      0.56      0.40     20000\n",
      "\n",
      "Epoch-4: Loss = 3.708\n",
      "Train RMSE = 2.354||Train Precision = 54.974||Train Recall = 99.964\n",
      "Test RMSE = 1.156 || Test Precision = 56.175|| Test Recall = 100.000\n"
     ]
    },
    {
     "name": "stderr",
     "output_type": "stream",
     "text": [
      "2it [00:31, 15.54s/it]\n"
     ]
    },
    {
     "name": "stdout",
     "output_type": "stream",
     "text": [
      "tensor([[3.3375],\n",
      "        [3.3375],\n",
      "        [3.3375],\n",
      "        ...,\n",
      "        [3.2721],\n",
      "        [3.2721],\n",
      "        [3.2721]], device='cuda:0')\n",
      "              precision    recall  f1-score   support\n",
      "\n",
      "           0       0.44      1.00      0.61      8765\n",
      "           1       0.00      0.00      0.00     11235\n",
      "\n",
      "    accuracy                           0.44     20000\n",
      "   macro avg       0.22      0.50      0.30     20000\n",
      "weighted avg       0.19      0.44      0.27     20000\n",
      "\n",
      "Epoch-5: Loss = 3.594\n",
      "Train RMSE = 2.309||Train Precision = 0.000||Train Recall = 0.000\n",
      "Test RMSE = 1.168 || Test Precision = 0.000|| Test Recall = 0.000\n"
     ]
    },
    {
     "name": "stderr",
     "output_type": "stream",
     "text": [
      "2it [00:35, 17.88s/it]\n"
     ]
    },
    {
     "name": "stdout",
     "output_type": "stream",
     "text": [
      "tensor([[3.7297],\n",
      "        [3.7297],\n",
      "        [3.7297],\n",
      "        ...,\n",
      "        [3.6613],\n",
      "        [3.6613],\n",
      "        [3.6613]], device='cuda:0')\n",
      "              precision    recall  f1-score   support\n",
      "\n",
      "           0       0.00      0.00      0.00      8765\n",
      "           1       0.56      1.00      0.72     11235\n",
      "\n",
      "    accuracy                           0.56     20000\n",
      "   macro avg       0.28      0.50      0.36     20000\n",
      "weighted avg       0.32      0.56      0.40     20000\n",
      "\n",
      "Epoch-6: Loss = 3.582\n",
      "Train RMSE = 2.306||Train Precision = 55.108||Train Recall = 100.000\n",
      "Test RMSE = 1.174 || Test Precision = 56.175|| Test Recall = 100.000\n"
     ]
    },
    {
     "name": "stderr",
     "output_type": "stream",
     "text": [
      "2it [00:35, 17.86s/it]\n"
     ]
    },
    {
     "name": "stdout",
     "output_type": "stream",
     "text": [
      "tensor([[3.2843],\n",
      "        [3.2843],\n",
      "        [3.2843],\n",
      "        ...,\n",
      "        [3.2223],\n",
      "        [3.2223],\n",
      "        [3.2223]], device='cuda:0')\n",
      "              precision    recall  f1-score   support\n",
      "\n",
      "           0       0.44      1.00      0.61      8765\n",
      "           1       0.00      0.00      0.00     11235\n",
      "\n",
      "    accuracy                           0.44     20000\n",
      "   macro avg       0.22      0.50      0.30     20000\n",
      "weighted avg       0.19      0.44      0.27     20000\n",
      "\n",
      "Epoch-7: Loss = 3.524\n",
      "Train RMSE = 2.283||Train Precision = 0.000||Train Recall = 0.000\n",
      "Test RMSE = 1.177 || Test Precision = 0.000|| Test Recall = 0.000\n"
     ]
    },
    {
     "name": "stderr",
     "output_type": "stream",
     "text": [
      "2it [00:34, 17.06s/it]\n"
     ]
    },
    {
     "name": "stdout",
     "output_type": "stream",
     "text": [
      "tensor([[3.7524],\n",
      "        [3.7524],\n",
      "        [3.7524],\n",
      "        ...,\n",
      "        [3.6897],\n",
      "        [3.6897],\n",
      "        [3.6897]], device='cuda:0')\n",
      "              precision    recall  f1-score   support\n",
      "\n",
      "           0       0.00      0.00      0.00      8765\n",
      "           1       0.56      1.00      0.72     11235\n",
      "\n",
      "    accuracy                           0.56     20000\n",
      "   macro avg       0.28      0.50      0.36     20000\n",
      "weighted avg       0.32      0.56      0.40     20000\n",
      "\n",
      "Epoch-8: Loss = 3.501\n",
      "Train RMSE = 2.274||Train Precision = 55.012||Train Recall = 100.000\n",
      "Test RMSE = 1.178 || Test Precision = 56.175|| Test Recall = 100.000\n"
     ]
    },
    {
     "name": "stderr",
     "output_type": "stream",
     "text": [
      "2it [00:31, 15.82s/it]\n"
     ]
    },
    {
     "name": "stdout",
     "output_type": "stream",
     "text": [
      "tensor([[3.2606],\n",
      "        [3.2606],\n",
      "        [3.2606],\n",
      "        ...,\n",
      "        [3.2147],\n",
      "        [3.2147],\n",
      "        [3.2147]], device='cuda:0')\n",
      "              precision    recall  f1-score   support\n",
      "\n",
      "           0       0.44      1.00      0.61      8765\n",
      "           1       0.00      0.00      0.00     11235\n",
      "\n",
      "    accuracy                           0.44     20000\n",
      "   macro avg       0.22      0.50      0.30     20000\n",
      "weighted avg       0.19      0.44      0.27     20000\n",
      "\n",
      "Epoch-9: Loss = 3.471\n",
      "Train RMSE = 2.262||Train Precision = 0.000||Train Recall = 0.000\n",
      "Test RMSE = 1.182 || Test Precision = 0.000|| Test Recall = 0.000\n"
     ]
    },
    {
     "name": "stderr",
     "output_type": "stream",
     "text": [
      "2it [00:34, 17.16s/it]\n"
     ]
    },
    {
     "name": "stdout",
     "output_type": "stream",
     "text": [
      "tensor([[3.7176],\n",
      "        [3.7176],\n",
      "        [3.7176],\n",
      "        ...,\n",
      "        [3.6526],\n",
      "        [3.6526],\n",
      "        [3.6526]], device='cuda:0')\n",
      "              precision    recall  f1-score   support\n",
      "\n",
      "           0       0.00      0.00      0.00      8765\n",
      "           1       0.56      1.00      0.72     11235\n",
      "\n",
      "    accuracy                           0.56     20000\n",
      "   macro avg       0.28      0.50      0.36     20000\n",
      "weighted avg       0.32      0.56      0.40     20000\n",
      "\n",
      "Epoch-10: Loss = 3.468\n",
      "Train RMSE = 2.262||Train Precision = 55.200||Train Recall = 100.000\n",
      "Test RMSE = 1.172 || Test Precision = 56.175|| Test Recall = 100.000\n"
     ]
    },
    {
     "name": "stderr",
     "output_type": "stream",
     "text": [
      "2it [00:38, 19.15s/it]\n"
     ]
    },
    {
     "name": "stdout",
     "output_type": "stream",
     "text": [
      "tensor([[3.3571],\n",
      "        [3.3571],\n",
      "        [3.3571],\n",
      "        ...,\n",
      "        [3.3034],\n",
      "        [3.3034],\n",
      "        [3.3034]], device='cuda:0')\n",
      "              precision    recall  f1-score   support\n",
      "\n",
      "           0       0.44      1.00      0.61      8765\n",
      "           1       0.00      0.00      0.00     11235\n",
      "\n",
      "    accuracy                           0.44     20000\n",
      "   macro avg       0.22      0.50      0.30     20000\n",
      "weighted avg       0.19      0.44      0.27     20000\n",
      "\n",
      "Epoch-11: Loss = 3.457\n",
      "Train RMSE = 2.258||Train Precision = 0.000||Train Recall = 0.000\n",
      "Test RMSE = 1.165 || Test Precision = 0.000|| Test Recall = 0.000\n"
     ]
    },
    {
     "name": "stderr",
     "output_type": "stream",
     "text": [
      "2it [00:38, 19.41s/it]\n"
     ]
    },
    {
     "name": "stdout",
     "output_type": "stream",
     "text": [
      "tensor([[3.5727],\n",
      "        [3.5727],\n",
      "        [3.5727],\n",
      "        ...,\n",
      "        [3.5183],\n",
      "        [3.5183],\n",
      "        [3.5183]], device='cuda:0')\n",
      "              precision    recall  f1-score   support\n",
      "\n",
      "           0       0.57      0.00      0.00      8765\n",
      "           1       0.56      1.00      0.72     11235\n",
      "\n",
      "    accuracy                           0.56     20000\n",
      "   macro avg       0.57      0.50      0.36     20000\n",
      "weighted avg       0.57      0.56      0.40     20000\n",
      "\n",
      "Epoch-12: Loss = 3.443\n",
      "Train RMSE = 2.252||Train Precision = 55.485||Train Recall = 99.923\n",
      "Test RMSE = 1.156 || Test Precision = 56.184|| Test Recall = 99.947\n"
     ]
    },
    {
     "name": "stderr",
     "output_type": "stream",
     "text": [
      "2it [00:35, 17.61s/it]\n"
     ]
    },
    {
     "name": "stdout",
     "output_type": "stream",
     "text": [
      "tensor([[3.4972],\n",
      "        [3.4972],\n",
      "        [3.4972],\n",
      "        ...,\n",
      "        [3.4471],\n",
      "        [3.4471],\n",
      "        [3.4471]], device='cuda:0')\n",
      "              precision    recall  f1-score   support\n",
      "\n",
      "           0       0.48      0.17      0.25      8765\n",
      "           1       0.57      0.86      0.68     11235\n",
      "\n",
      "    accuracy                           0.56     20000\n",
      "   macro avg       0.52      0.51      0.47     20000\n",
      "weighted avg       0.53      0.56      0.49     20000\n",
      "\n",
      "Epoch-13: Loss = 3.429\n",
      "Train RMSE = 2.246||Train Precision = 56.343||Train Recall = 91.620\n",
      "Test RMSE = 1.154 || Test Precision = 56.939|| Test Recall = 85.563\n"
     ]
    },
    {
     "name": "stderr",
     "output_type": "stream",
     "text": [
      "2it [00:34, 17.28s/it]\n"
     ]
    },
    {
     "name": "stdout",
     "output_type": "stream",
     "text": [
      "tensor([[3.4491],\n",
      "        [3.4491],\n",
      "        [3.4491],\n",
      "        ...,\n",
      "        [3.4028],\n",
      "        [3.4028],\n",
      "        [3.4028]], device='cuda:0')\n",
      "              precision    recall  f1-score   support\n",
      "\n",
      "           0       0.44      0.84      0.57      8765\n",
      "           1       0.56      0.16      0.25     11235\n",
      "\n",
      "    accuracy                           0.46     20000\n",
      "   macro avg       0.50      0.50      0.41     20000\n",
      "weighted avg       0.51      0.46      0.39     20000\n",
      "\n",
      "Epoch-14: Loss = 3.415\n",
      "Train RMSE = 2.240||Train Precision = 64.319||Train Recall = 9.995\n",
      "Test RMSE = 1.156 || Test Precision = 56.123|| Test Recall = 16.440\n"
     ]
    },
    {
     "name": "stderr",
     "output_type": "stream",
     "text": [
      "2it [00:32, 16.40s/it]\n"
     ]
    },
    {
     "name": "stdout",
     "output_type": "stream",
     "text": [
      "tensor([[3.5864],\n",
      "        [3.5864],\n",
      "        [3.5864],\n",
      "        ...,\n",
      "        [3.5383],\n",
      "        [3.5383],\n",
      "        [3.5383]], device='cuda:0')\n",
      "              precision    recall  f1-score   support\n",
      "\n",
      "           0       0.57      0.00      0.00      8765\n",
      "           1       0.56      1.00      0.72     11235\n",
      "\n",
      "    accuracy                           0.56     20000\n",
      "   macro avg       0.57      0.50      0.36     20000\n",
      "weighted avg       0.57      0.56      0.40     20000\n",
      "\n",
      "Epoch-15: Loss = 3.407\n",
      "Train RMSE = 2.237||Train Precision = 55.214||Train Recall = 99.759\n",
      "Test RMSE = 1.157 || Test Precision = 56.184|| Test Recall = 99.947\n"
     ]
    },
    {
     "name": "stderr",
     "output_type": "stream",
     "text": [
      "2it [00:37, 18.75s/it]\n"
     ]
    },
    {
     "name": "stdout",
     "output_type": "stream",
     "text": [
      "tensor([[3.4093],\n",
      "        [3.4093],\n",
      "        [3.4093],\n",
      "        ...,\n",
      "        [3.3700],\n",
      "        [3.3700],\n",
      "        [3.3700]], device='cuda:0')\n",
      "              precision    recall  f1-score   support\n",
      "\n",
      "           0       0.44      0.97      0.60      8765\n",
      "           1       0.56      0.03      0.05     11235\n",
      "\n",
      "    accuracy                           0.44     20000\n",
      "   macro avg       0.50      0.50      0.33     20000\n",
      "weighted avg       0.50      0.44      0.29     20000\n",
      "\n",
      "Epoch-16: Loss = 3.406\n",
      "Train RMSE = 2.237||Train Precision = 52.693||Train Recall = 1.022\n",
      "Test RMSE = 1.158 || Test Precision = 55.636|| Test Recall = 2.724\n"
     ]
    },
    {
     "name": "stderr",
     "output_type": "stream",
     "text": [
      "2it [00:33, 16.86s/it]\n"
     ]
    },
    {
     "name": "stdout",
     "output_type": "stream",
     "text": [
      "tensor([[3.5923],\n",
      "        [3.5923],\n",
      "        [3.5923],\n",
      "        ...,\n",
      "        [3.5523],\n",
      "        [3.5523],\n",
      "        [3.5523]], device='cuda:0')\n",
      "              precision    recall  f1-score   support\n",
      "\n",
      "           0       0.57      0.00      0.00      8765\n",
      "           1       0.56      1.00      0.72     11235\n",
      "\n",
      "    accuracy                           0.56     20000\n",
      "   macro avg       0.57      0.50      0.36     20000\n",
      "weighted avg       0.57      0.56      0.40     20000\n",
      "\n",
      "Epoch-17: Loss = 3.398\n",
      "Train RMSE = 2.234||Train Precision = 55.405||Train Recall = 99.755\n",
      "Test RMSE = 1.158 || Test Precision = 56.184|| Test Recall = 99.947\n"
     ]
    },
    {
     "name": "stderr",
     "output_type": "stream",
     "text": [
      "2it [00:33, 16.68s/it]\n"
     ]
    },
    {
     "name": "stdout",
     "output_type": "stream",
     "text": [
      "tensor([[3.3985],\n",
      "        [3.3985],\n",
      "        [3.3985],\n",
      "        ...,\n",
      "        [3.3642],\n",
      "        [3.3642],\n",
      "        [3.3642]], device='cuda:0')\n",
      "              precision    recall  f1-score   support\n",
      "\n",
      "           0       0.44      0.97      0.60      8765\n",
      "           1       0.56      0.03      0.05     11235\n",
      "\n",
      "    accuracy                           0.44     20000\n",
      "   macro avg       0.50      0.50      0.33     20000\n",
      "weighted avg       0.50      0.44      0.29     20000\n",
      "\n",
      "Epoch-18: Loss = 3.392\n",
      "Train RMSE = 2.231||Train Precision = 51.585||Train Recall = 0.814\n",
      "Test RMSE = 1.159 || Test Precision = 55.535|| Test Recall = 2.679\n"
     ]
    },
    {
     "name": "stderr",
     "output_type": "stream",
     "text": [
      "2it [00:37, 18.50s/it]\n"
     ]
    },
    {
     "name": "stdout",
     "output_type": "stream",
     "text": [
      "tensor([[3.5905],\n",
      "        [3.5905],\n",
      "        [3.5905],\n",
      "        ...,\n",
      "        [3.5543],\n",
      "        [3.5543],\n",
      "        [3.5543]], device='cuda:0')\n",
      "              precision    recall  f1-score   support\n",
      "\n",
      "           0       0.59      0.00      0.01      8765\n",
      "           1       0.56      1.00      0.72     11235\n",
      "\n",
      "    accuracy                           0.56     20000\n",
      "   macro avg       0.57      0.50      0.36     20000\n",
      "weighted avg       0.57      0.56      0.41     20000\n",
      "\n",
      "Epoch-19: Loss = 3.390\n",
      "Train RMSE = 2.231||Train Precision = 55.367||Train Recall = 99.651\n",
      "Test RMSE = 1.158 || Test Precision = 56.222|| Test Recall = 99.769\n"
     ]
    },
    {
     "name": "stderr",
     "output_type": "stream",
     "text": [
      "2it [00:35, 17.95s/it]\n"
     ]
    },
    {
     "name": "stdout",
     "output_type": "stream",
     "text": [
      "tensor([[3.4132],\n",
      "        [3.4132],\n",
      "        [3.4132],\n",
      "        ...,\n",
      "        [3.3819],\n",
      "        [3.3819],\n",
      "        [3.3819]], device='cuda:0')\n",
      "              precision    recall  f1-score   support\n",
      "\n",
      "           0       0.44      0.93      0.60      8765\n",
      "           1       0.58      0.08      0.14     11235\n",
      "\n",
      "    accuracy                           0.45     20000\n",
      "   macro avg       0.51      0.50      0.37     20000\n",
      "weighted avg       0.52      0.45      0.34     20000\n",
      "\n",
      "Epoch-20: Loss = 3.386\n",
      "Train RMSE = 2.229||Train Precision = 59.662||Train Recall = 3.040\n",
      "Test RMSE = 1.157 || Test Precision = 57.826|| Test Recall = 7.859\n"
     ]
    },
    {
     "name": "stderr",
     "output_type": "stream",
     "text": [
      "2it [00:34, 17.48s/it]\n"
     ]
    },
    {
     "name": "stdout",
     "output_type": "stream",
     "text": [
      "tensor([[3.5590],\n",
      "        [3.5590],\n",
      "        [3.5590],\n",
      "        ...,\n",
      "        [3.5292],\n",
      "        [3.5292],\n",
      "        [3.5292]], device='cuda:0')\n",
      "              precision    recall  f1-score   support\n",
      "\n",
      "           0       0.59      0.01      0.03      8765\n",
      "           1       0.56      0.99      0.72     11235\n",
      "\n",
      "    accuracy                           0.56     20000\n",
      "   macro avg       0.58      0.50      0.37     20000\n",
      "weighted avg       0.57      0.56      0.42     20000\n",
      "\n",
      "Epoch-21: Loss = 3.384\n",
      "Train RMSE = 2.228||Train Precision = 55.350||Train Recall = 99.207\n",
      "Test RMSE = 1.156 || Test Precision = 56.335|| Test Recall = 99.217\n"
     ]
    },
    {
     "name": "stderr",
     "output_type": "stream",
     "text": [
      "2it [00:35, 17.95s/it]\n"
     ]
    },
    {
     "name": "stdout",
     "output_type": "stream",
     "text": [
      "tensor([[3.4252],\n",
      "        [3.4252],\n",
      "        [3.4252],\n",
      "        ...,\n",
      "        [3.4004],\n",
      "        [3.4004],\n",
      "        [3.4004]], device='cuda:0')\n",
      "              precision    recall  f1-score   support\n",
      "\n",
      "           0       0.44      0.85      0.58      8765\n",
      "           1       0.56      0.15      0.24     11235\n",
      "\n",
      "    accuracy                           0.46     20000\n",
      "   macro avg       0.50      0.50      0.41     20000\n",
      "weighted avg       0.51      0.46      0.39     20000\n",
      "\n",
      "Epoch-22: Loss = 3.377\n",
      "Train RMSE = 2.225||Train Precision = 65.534||Train Recall = 10.176\n",
      "Test RMSE = 1.156 || Test Precision = 56.376|| Test Recall = 15.229\n"
     ]
    },
    {
     "name": "stderr",
     "output_type": "stream",
     "text": [
      "2it [00:34, 17.04s/it]\n"
     ]
    },
    {
     "name": "stdout",
     "output_type": "stream",
     "text": [
      "tensor([[3.5547],\n",
      "        [3.5547],\n",
      "        [3.5547],\n",
      "        ...,\n",
      "        [3.5307],\n",
      "        [3.5307],\n",
      "        [3.5307]], device='cuda:0')\n",
      "              precision    recall  f1-score   support\n",
      "\n",
      "           0       0.57      0.02      0.04      8765\n",
      "           1       0.56      0.99      0.72     11235\n",
      "\n",
      "    accuracy                           0.56     20000\n",
      "   macro avg       0.57      0.50      0.38     20000\n",
      "weighted avg       0.57      0.56      0.42     20000\n",
      "\n",
      "Epoch-23: Loss = 3.376\n",
      "Train RMSE = 2.225||Train Precision = 55.881||Train Recall = 98.617\n",
      "Test RMSE = 1.156 || Test Precision = 56.372|| Test Recall = 98.861\n"
     ]
    },
    {
     "name": "stderr",
     "output_type": "stream",
     "text": [
      "2it [00:34, 17.46s/it]\n"
     ]
    },
    {
     "name": "stdout",
     "output_type": "stream",
     "text": [
      "tensor([[3.4276],\n",
      "        [3.4276],\n",
      "        [3.4276],\n",
      "        ...,\n",
      "        [3.4068],\n",
      "        [3.4068],\n",
      "        [3.4068]], device='cuda:0')\n",
      "              precision    recall  f1-score   support\n",
      "\n",
      "           0       0.44      0.80      0.57      8765\n",
      "           1       0.57      0.21      0.31     11235\n",
      "\n",
      "    accuracy                           0.47     20000\n",
      "   macro avg       0.51      0.50      0.44     20000\n",
      "weighted avg       0.51      0.47      0.42     20000\n",
      "\n",
      "Epoch-24: Loss = 3.373\n",
      "Train RMSE = 2.224||Train Precision = 65.019||Train Recall = 17.780\n",
      "Test RMSE = 1.156 || Test Precision = 57.243|| Test Recall = 20.997\n"
     ]
    },
    {
     "name": "stderr",
     "output_type": "stream",
     "text": [
      "2it [00:35, 17.82s/it]\n"
     ]
    },
    {
     "name": "stdout",
     "output_type": "stream",
     "text": [
      "tensor([[3.5484],\n",
      "        [3.5484],\n",
      "        [3.5484],\n",
      "        ...,\n",
      "        [3.5285],\n",
      "        [3.5285],\n",
      "        [3.5285]], device='cuda:0')\n",
      "              precision    recall  f1-score   support\n",
      "\n",
      "           0       0.55      0.02      0.04      8765\n",
      "           1       0.56      0.99      0.72     11235\n",
      "\n",
      "    accuracy                           0.56     20000\n",
      "   macro avg       0.56      0.50      0.38     20000\n",
      "weighted avg       0.56      0.56      0.42     20000\n",
      "\n",
      "Epoch-25: Loss = 3.370\n",
      "Train RMSE = 2.223||Train Precision = 56.384||Train Recall = 97.859\n",
      "Test RMSE = 1.156 || Test Precision = 56.393|| Test Recall = 98.540\n"
     ]
    },
    {
     "name": "stderr",
     "output_type": "stream",
     "text": [
      "2it [00:35, 17.90s/it]\n"
     ]
    },
    {
     "name": "stdout",
     "output_type": "stream",
     "text": [
      "tensor([[3.4312],\n",
      "        [3.4312],\n",
      "        [3.4312],\n",
      "        ...,\n",
      "        [3.4150],\n",
      "        [3.4150],\n",
      "        [3.4150]], device='cuda:0')\n",
      "              precision    recall  f1-score   support\n",
      "\n",
      "           0       0.44      0.69      0.54      8765\n",
      "           1       0.56      0.31      0.40     11235\n",
      "\n",
      "    accuracy                           0.48     20000\n",
      "   macro avg       0.50      0.50      0.47     20000\n",
      "weighted avg       0.51      0.48      0.46     20000\n",
      "\n",
      "Epoch-26: Loss = 3.367\n",
      "Train RMSE = 2.221||Train Precision = 63.986||Train Recall = 28.061\n",
      "Test RMSE = 1.156 || Test Precision = 56.406|| Test Recall = 31.153\n"
     ]
    },
    {
     "name": "stderr",
     "output_type": "stream",
     "text": [
      "2it [00:32, 16.38s/it]\n"
     ]
    },
    {
     "name": "stdout",
     "output_type": "stream",
     "text": [
      "tensor([[3.5558],\n",
      "        [3.5558],\n",
      "        [3.5558],\n",
      "        ...,\n",
      "        [3.5413],\n",
      "        [3.5413],\n",
      "        [3.5413]], device='cuda:0')\n",
      "              precision    recall  f1-score   support\n",
      "\n",
      "           0       0.55      0.02      0.04      8765\n",
      "           1       0.56      0.99      0.72     11235\n",
      "\n",
      "    accuracy                           0.56     20000\n",
      "   macro avg       0.56      0.50      0.38     20000\n",
      "weighted avg       0.56      0.56      0.42     20000\n",
      "\n",
      "Epoch-27: Loss = 3.364\n",
      "Train RMSE = 2.220||Train Precision = 56.605||Train Recall = 97.955\n",
      "Test RMSE = 1.157 || Test Precision = 56.393|| Test Recall = 98.540\n"
     ]
    },
    {
     "name": "stderr",
     "output_type": "stream",
     "text": [
      "2it [00:34, 17.47s/it]\n"
     ]
    },
    {
     "name": "stdout",
     "output_type": "stream",
     "text": [
      "tensor([[3.4353],\n",
      "        [3.4353],\n",
      "        [3.4353],\n",
      "        ...,\n",
      "        [3.4276],\n",
      "        [3.4276],\n",
      "        [3.4276]], device='cuda:0')\n",
      "              precision    recall  f1-score   support\n",
      "\n",
      "           0       0.44      0.61      0.51      8765\n",
      "           1       0.56      0.39      0.46     11235\n",
      "\n",
      "    accuracy                           0.49     20000\n",
      "   macro avg       0.50      0.50      0.49     20000\n",
      "weighted avg       0.51      0.49      0.48     20000\n",
      "\n",
      "Epoch-28: Loss = 3.365\n",
      "Train RMSE = 2.220||Train Precision = 62.027||Train Recall = 40.510\n",
      "Test RMSE = 1.156 || Test Precision = 56.435|| Test Recall = 39.457\n"
     ]
    },
    {
     "name": "stderr",
     "output_type": "stream",
     "text": [
      "2it [00:36, 18.17s/it]\n"
     ]
    },
    {
     "name": "stdout",
     "output_type": "stream",
     "text": [
      "tensor([[3.5350],\n",
      "        [3.5350],\n",
      "        [3.5350],\n",
      "        ...,\n",
      "        [3.5307],\n",
      "        [3.5307],\n",
      "        [3.5307]], device='cuda:0')\n",
      "              precision    recall  f1-score   support\n",
      "\n",
      "           0       0.44      0.04      0.07      8765\n",
      "           1       0.56      0.97      0.71     11235\n",
      "\n",
      "    accuracy                           0.56     20000\n",
      "   macro avg       0.50      0.50      0.39     20000\n",
      "weighted avg       0.51      0.56      0.43     20000\n",
      "\n",
      "Epoch-29: Loss = 3.358\n",
      "Train RMSE = 2.218||Train Precision = 56.199||Train Recall = 96.175\n",
      "Test RMSE = 1.157 || Test Precision = 56.199|| Test Recall = 96.547\n"
     ]
    },
    {
     "name": "stderr",
     "output_type": "stream",
     "text": [
      "2it [00:35, 17.62s/it]\n"
     ]
    },
    {
     "name": "stdout",
     "output_type": "stream",
     "text": [
      "tensor([[3.4387],\n",
      "        [3.4387],\n",
      "        [3.4387],\n",
      "        ...,\n",
      "        [3.4391],\n",
      "        [3.4391],\n",
      "        [3.4391]], device='cuda:0')\n",
      "              precision    recall  f1-score   support\n",
      "\n",
      "           0       0.43      0.55      0.48      8765\n",
      "           1       0.55      0.43      0.49     11235\n",
      "\n",
      "    accuracy                           0.48     20000\n",
      "   macro avg       0.49      0.49      0.48     20000\n",
      "weighted avg       0.50      0.48      0.49     20000\n",
      "\n",
      "Epoch-30: Loss = 3.357\n",
      "Train RMSE = 2.217||Train Precision = 62.127||Train Recall = 48.089\n",
      "Test RMSE = 1.156 || Test Precision = 55.301|| Test Recall = 43.409\n"
     ]
    },
    {
     "name": "stderr",
     "output_type": "stream",
     "text": [
      "2it [00:34, 17.11s/it]\n"
     ]
    },
    {
     "name": "stdout",
     "output_type": "stream",
     "text": [
      "tensor([[3.4968],\n",
      "        [3.4968],\n",
      "        [3.4968],\n",
      "        ...,\n",
      "        [3.4978],\n",
      "        [3.4978],\n",
      "        [3.4978]], device='cuda:0')\n",
      "              precision    recall  f1-score   support\n",
      "\n",
      "           0       0.45      0.15      0.23      8765\n",
      "           1       0.56      0.86      0.68     11235\n",
      "\n",
      "    accuracy                           0.55     20000\n",
      "   macro avg       0.51      0.50      0.45     20000\n",
      "weighted avg       0.51      0.55      0.48     20000\n",
      "\n",
      "Epoch-31: Loss = 3.356\n",
      "Train RMSE = 2.217||Train Precision = 57.949||Train Recall = 89.296\n",
      "Test RMSE = 1.156 || Test Precision = 56.405|| Test Recall = 85.518\n"
     ]
    },
    {
     "name": "stderr",
     "output_type": "stream",
     "text": [
      "2it [00:36, 18.02s/it]\n"
     ]
    },
    {
     "name": "stdout",
     "output_type": "stream",
     "text": [
      "tensor([[3.4826],\n",
      "        [3.4826],\n",
      "        [3.4826],\n",
      "        ...,\n",
      "        [3.4868],\n",
      "        [3.4868],\n",
      "        [3.4868]], device='cuda:0')\n",
      "              precision    recall  f1-score   support\n",
      "\n",
      "           0       0.44      0.17      0.25      8765\n",
      "           1       0.56      0.83      0.67     11235\n",
      "\n",
      "    accuracy                           0.54     20000\n",
      "   macro avg       0.50      0.50      0.46     20000\n",
      "weighted avg       0.51      0.54      0.48     20000\n",
      "\n",
      "Epoch-32: Loss = 3.352\n",
      "Train RMSE = 2.215||Train Precision = 58.756||Train Recall = 85.814\n",
      "Test RMSE = 1.156 || Test Precision = 56.222|| Test Recall = 83.124\n"
     ]
    },
    {
     "name": "stderr",
     "output_type": "stream",
     "text": [
      "2it [00:40, 20.35s/it]\n"
     ]
    },
    {
     "name": "stdout",
     "output_type": "stream",
     "text": [
      "tensor([[3.4568],\n",
      "        [3.4568],\n",
      "        [3.4568],\n",
      "        ...,\n",
      "        [3.4649],\n",
      "        [3.4649],\n",
      "        [3.4649]], device='cuda:0')\n",
      "              precision    recall  f1-score   support\n",
      "\n",
      "           0       0.45      0.32      0.37      8765\n",
      "           1       0.57      0.69      0.62     11235\n",
      "\n",
      "    accuracy                           0.53     20000\n",
      "   macro avg       0.51      0.51      0.50     20000\n",
      "weighted avg       0.51      0.53      0.51     20000\n",
      "\n",
      "Epoch-33: Loss = 3.348\n",
      "Train RMSE = 2.213||Train Precision = 60.426||Train Recall = 70.814\n",
      "Test RMSE = 1.156 || Test Precision = 56.556|| Test Recall = 69.025\n"
     ]
    },
    {
     "name": "stderr",
     "output_type": "stream",
     "text": [
      "2it [00:33, 16.50s/it]\n"
     ]
    },
    {
     "name": "stdout",
     "output_type": "stream",
     "text": [
      "tensor([[3.4974],\n",
      "        [3.4974],\n",
      "        [3.4974],\n",
      "        ...,\n",
      "        [3.5074],\n",
      "        [3.5074],\n",
      "        [3.5074]], device='cuda:0')\n",
      "              precision    recall  f1-score   support\n",
      "\n",
      "           0       0.42      0.09      0.15      8765\n",
      "           1       0.56      0.90      0.69     11235\n",
      "\n",
      "    accuracy                           0.55     20000\n",
      "   macro avg       0.49      0.50      0.42     20000\n",
      "weighted avg       0.50      0.55      0.45     20000\n",
      "\n",
      "Epoch-34: Loss = 3.345\n",
      "Train RMSE = 2.212||Train Precision = 57.964||Train Recall = 89.852\n",
      "Test RMSE = 1.156 || Test Precision = 55.945|| Test Recall = 89.835\n"
     ]
    },
    {
     "name": "stderr",
     "output_type": "stream",
     "text": [
      "2it [00:35, 17.75s/it]\n"
     ]
    },
    {
     "name": "stdout",
     "output_type": "stream",
     "text": [
      "tensor([[3.4894],\n",
      "        [3.4894],\n",
      "        [3.4894],\n",
      "        ...,\n",
      "        [3.5040],\n",
      "        [3.5040],\n",
      "        [3.5040]], device='cuda:0')\n",
      "              precision    recall  f1-score   support\n",
      "\n",
      "           0       0.41      0.10      0.16      8765\n",
      "           1       0.56      0.89      0.69     11235\n",
      "\n",
      "    accuracy                           0.54     20000\n",
      "   macro avg       0.48      0.49      0.42     20000\n",
      "weighted avg       0.49      0.54      0.46     20000\n",
      "\n",
      "Epoch-35: Loss = 3.343\n",
      "Train RMSE = 2.211||Train Precision = 58.243||Train Recall = 88.387\n",
      "Test RMSE = 1.157 || Test Precision = 55.851|| Test Recall = 88.910\n"
     ]
    },
    {
     "name": "stderr",
     "output_type": "stream",
     "text": [
      "2it [00:34, 17.07s/it]\n"
     ]
    },
    {
     "name": "stdout",
     "output_type": "stream",
     "text": [
      "tensor([[3.4658],\n",
      "        [3.4658],\n",
      "        [3.4658],\n",
      "        ...,\n",
      "        [3.4835],\n",
      "        [3.4835],\n",
      "        [3.4835]], device='cuda:0')\n",
      "              precision    recall  f1-score   support\n",
      "\n",
      "           0       0.43      0.22      0.29      8765\n",
      "           1       0.56      0.78      0.65     11235\n",
      "\n",
      "    accuracy                           0.53     20000\n",
      "   macro avg       0.50      0.50      0.47     20000\n",
      "weighted avg       0.50      0.53      0.49     20000\n",
      "\n",
      "Epoch-36: Loss = 3.339\n",
      "Train RMSE = 2.210||Train Precision = 59.528||Train Recall = 77.809\n",
      "Test RMSE = 1.157 || Test Precision = 55.979|| Test Recall = 77.579\n"
     ]
    },
    {
     "name": "stderr",
     "output_type": "stream",
     "text": [
      "2it [00:33, 16.72s/it]\n"
     ]
    },
    {
     "name": "stdout",
     "output_type": "stream",
     "text": [
      "tensor([[3.4937],\n",
      "        [3.4937],\n",
      "        [3.4937],\n",
      "        ...,\n",
      "        [3.5121],\n",
      "        [3.5121],\n",
      "        [3.5121]], device='cuda:0')\n",
      "              precision    recall  f1-score   support\n",
      "\n",
      "           0       0.42      0.10      0.16      8765\n",
      "           1       0.56      0.89      0.69     11235\n",
      "\n",
      "    accuracy                           0.54     20000\n",
      "   macro avg       0.49      0.50      0.42     20000\n",
      "weighted avg       0.50      0.54      0.46     20000\n",
      "\n",
      "Epoch-37: Loss = 3.336\n",
      "Train RMSE = 2.208||Train Precision = 58.325||Train Recall = 88.769\n",
      "Test RMSE = 1.157 || Test Precision = 55.928|| Test Recall = 88.972\n"
     ]
    },
    {
     "name": "stderr",
     "output_type": "stream",
     "text": [
      "2it [00:33, 16.59s/it]\n"
     ]
    },
    {
     "name": "stdout",
     "output_type": "stream",
     "text": [
      "tensor([[3.4444],\n",
      "        [3.4444],\n",
      "        [3.4444],\n",
      "        ...,\n",
      "        [3.4704],\n",
      "        [3.4704],\n",
      "        [3.4704]], device='cuda:0')\n",
      "              precision    recall  f1-score   support\n",
      "\n",
      "           0       0.43      0.32      0.37      8765\n",
      "           1       0.56      0.68      0.61     11235\n",
      "\n",
      "    accuracy                           0.52     20000\n",
      "   macro avg       0.50      0.50      0.49     20000\n",
      "weighted avg       0.50      0.52      0.51     20000\n",
      "\n",
      "Epoch-38: Loss = 3.334\n",
      "Train RMSE = 2.207||Train Precision = 60.433||Train Recall = 69.030\n",
      "Test RMSE = 1.157 || Test Precision = 55.998|| Test Recall = 67.646\n"
     ]
    },
    {
     "name": "stderr",
     "output_type": "stream",
     "text": [
      "2it [00:35, 17.61s/it]\n"
     ]
    },
    {
     "name": "stdout",
     "output_type": "stream",
     "text": [
      "tensor([[3.4737],\n",
      "        [3.4737],\n",
      "        [3.4737],\n",
      "        ...,\n",
      "        [3.5031],\n",
      "        [3.5031],\n",
      "        [3.5031]], device='cuda:0')\n",
      "              precision    recall  f1-score   support\n",
      "\n",
      "           0       0.41      0.12      0.19      8765\n",
      "           1       0.56      0.86      0.68     11235\n",
      "\n",
      "    accuracy                           0.54     20000\n",
      "   macro avg       0.48      0.49      0.43     20000\n",
      "weighted avg       0.49      0.54      0.46     20000\n",
      "\n",
      "Epoch-39: Loss = 3.331\n",
      "Train RMSE = 2.206||Train Precision = 59.128||Train Recall = 84.283\n",
      "Test RMSE = 1.158 || Test Precision = 55.766|| Test Recall = 86.213\n"
     ]
    },
    {
     "name": "stderr",
     "output_type": "stream",
     "text": [
      "2it [00:32, 16.44s/it]\n"
     ]
    },
    {
     "name": "stdout",
     "output_type": "stream",
     "text": [
      "tensor([[3.4904],\n",
      "        [3.4904],\n",
      "        [3.4904],\n",
      "        ...,\n",
      "        [3.5217],\n",
      "        [3.5217],\n",
      "        [3.5217]], device='cuda:0')\n",
      "              precision    recall  f1-score   support\n",
      "\n",
      "           0       0.41      0.10      0.17      8765\n",
      "           1       0.56      0.88      0.68     11235\n",
      "\n",
      "    accuracy                           0.54     20000\n",
      "   macro avg       0.49      0.49      0.43     20000\n",
      "weighted avg       0.49      0.54      0.46     20000\n",
      "\n",
      "Epoch-40: Loss = 3.329\n",
      "Train RMSE = 2.205||Train Precision = 58.182||Train Recall = 88.435\n",
      "Test RMSE = 1.159 || Test Precision = 55.857|| Test Recall = 88.491\n"
     ]
    },
    {
     "name": "stderr",
     "output_type": "stream",
     "text": [
      "2it [00:33, 16.83s/it]\n"
     ]
    },
    {
     "name": "stdout",
     "output_type": "stream",
     "text": [
      "tensor([[3.4566],\n",
      "        [3.4566],\n",
      "        [3.4566],\n",
      "        ...,\n",
      "        [3.4928],\n",
      "        [3.4928],\n",
      "        [3.4928]], device='cuda:0')\n",
      "              precision    recall  f1-score   support\n",
      "\n",
      "           0       0.43      0.25      0.31      8765\n",
      "           1       0.56      0.74      0.64     11235\n",
      "\n",
      "    accuracy                           0.53     20000\n",
      "   macro avg       0.49      0.50      0.48     20000\n",
      "weighted avg       0.50      0.53      0.50     20000\n",
      "\n",
      "Epoch-41: Loss = 3.326\n",
      "Train RMSE = 2.204||Train Precision = 60.089||Train Recall = 76.255\n",
      "Test RMSE = 1.158 || Test Precision = 55.852|| Test Recall = 74.250\n"
     ]
    },
    {
     "name": "stderr",
     "output_type": "stream",
     "text": [
      "2it [00:31, 15.57s/it]\n"
     ]
    },
    {
     "name": "stdout",
     "output_type": "stream",
     "text": [
      "tensor([[3.4383],\n",
      "        [3.4383],\n",
      "        [3.4383],\n",
      "        ...,\n",
      "        [3.4793],\n",
      "        [3.4793],\n",
      "        [3.4793]], device='cuda:0')\n",
      "              precision    recall  f1-score   support\n",
      "\n",
      "           0       0.43      0.31      0.36      8765\n",
      "           1       0.56      0.68      0.61     11235\n",
      "\n",
      "    accuracy                           0.52     20000\n",
      "   macro avg       0.50      0.50      0.49     20000\n",
      "weighted avg       0.51      0.52      0.51     20000\n",
      "\n",
      "Epoch-42: Loss = 3.323\n",
      "Train RMSE = 2.202||Train Precision = 60.706||Train Recall = 70.083\n",
      "Test RMSE = 1.159 || Test Precision = 56.018|| Test Recall = 68.144\n"
     ]
    },
    {
     "name": "stderr",
     "output_type": "stream",
     "text": [
      "2it [00:37, 18.66s/it]\n"
     ]
    },
    {
     "name": "stdout",
     "output_type": "stream",
     "text": [
      "tensor([[3.4699],\n",
      "        [3.4699],\n",
      "        [3.4699],\n",
      "        ...,\n",
      "        [3.5134],\n",
      "        [3.5134],\n",
      "        [3.5134]], device='cuda:0')\n",
      "              precision    recall  f1-score   support\n",
      "\n",
      "           0       0.41      0.13      0.19      8765\n",
      "           1       0.56      0.86      0.68     11235\n",
      "\n",
      "    accuracy                           0.54     20000\n",
      "   macro avg       0.48      0.49      0.43     20000\n",
      "weighted avg       0.49      0.54      0.46     20000\n",
      "\n",
      "Epoch-43: Loss = 3.320\n",
      "Train RMSE = 2.201||Train Precision = 59.213||Train Recall = 83.204\n",
      "Test RMSE = 1.159 || Test Precision = 55.734|| Test Recall = 85.777\n"
     ]
    },
    {
     "name": "stderr",
     "output_type": "stream",
     "text": [
      "2it [00:33, 16.66s/it]\n"
     ]
    },
    {
     "name": "stdout",
     "output_type": "stream",
     "text": [
      "tensor([[3.4651],\n",
      "        [3.4651],\n",
      "        [3.4651],\n",
      "        ...,\n",
      "        [3.5112],\n",
      "        [3.5112],\n",
      "        [3.5112]], device='cuda:0')\n",
      "              precision    recall  f1-score   support\n",
      "\n",
      "           0       0.40      0.13      0.20      8765\n",
      "           1       0.56      0.85      0.67     11235\n",
      "\n",
      "    accuracy                           0.53     20000\n",
      "   macro avg       0.48      0.49      0.43     20000\n",
      "weighted avg       0.49      0.53      0.46     20000\n",
      "\n",
      "Epoch-44: Loss = 3.317\n",
      "Train RMSE = 2.200||Train Precision = 58.748||Train Recall = 82.983\n",
      "Test RMSE = 1.160 || Test Precision = 55.581|| Test Recall = 84.780\n"
     ]
    },
    {
     "name": "stderr",
     "output_type": "stream",
     "text": [
      "2it [00:34, 17.32s/it]\n"
     ]
    },
    {
     "name": "stdout",
     "output_type": "stream",
     "text": [
      "tensor([[3.3952],\n",
      "        [3.3952],\n",
      "        [3.3952],\n",
      "        ...,\n",
      "        [3.4516],\n",
      "        [3.4516],\n",
      "        [3.4516]], device='cuda:0')\n",
      "              precision    recall  f1-score   support\n",
      "\n",
      "           0       0.44      0.49      0.46      8765\n",
      "           1       0.56      0.50      0.53     11235\n",
      "\n",
      "    accuracy                           0.50     20000\n",
      "   macro avg       0.50      0.50      0.50     20000\n",
      "weighted avg       0.51      0.50      0.50     20000\n",
      "\n",
      "Epoch-45: Loss = 3.314\n",
      "Train RMSE = 2.198||Train Precision = 62.988||Train Recall = 51.206\n",
      "Test RMSE = 1.160 || Test Precision = 55.990|| Test Recall = 50.209\n"
     ]
    },
    {
     "name": "stderr",
     "output_type": "stream",
     "text": [
      "2it [00:35, 17.56s/it]\n"
     ]
    },
    {
     "name": "stdout",
     "output_type": "stream",
     "text": [
      "tensor([[3.3557],\n",
      "        [3.3557],\n",
      "        [3.3557],\n",
      "        ...,\n",
      "        [3.4151],\n",
      "        [3.4151],\n",
      "        [3.4151]], device='cuda:0')\n",
      "              precision    recall  f1-score   support\n",
      "\n",
      "           0       0.44      0.67      0.53      8765\n",
      "           1       0.56      0.33      0.42     11235\n",
      "\n",
      "    accuracy                           0.48     20000\n",
      "   macro avg       0.50      0.50      0.47     20000\n",
      "weighted avg       0.51      0.48      0.47     20000\n",
      "\n",
      "Epoch-46: Loss = 3.322\n",
      "Train RMSE = 2.202||Train Precision = 63.459||Train Recall = 30.506\n",
      "Test RMSE = 1.163 || Test Precision = 56.349|| Test Recall = 33.022\n"
     ]
    },
    {
     "name": "stderr",
     "output_type": "stream",
     "text": [
      "2it [00:33, 16.82s/it]\n"
     ]
    },
    {
     "name": "stdout",
     "output_type": "stream",
     "text": [
      "tensor([[3.4499],\n",
      "        [3.4499],\n",
      "        [3.4499],\n",
      "        ...,\n",
      "        [3.5093],\n",
      "        [3.5093],\n",
      "        [3.5093]], device='cuda:0')\n",
      "              precision    recall  f1-score   support\n",
      "\n",
      "           0       0.42      0.16      0.23      8765\n",
      "           1       0.56      0.83      0.67     11235\n",
      "\n",
      "    accuracy                           0.53     20000\n",
      "   macro avg       0.49      0.49      0.45     20000\n",
      "weighted avg       0.50      0.53      0.48     20000\n",
      "\n",
      "Epoch-47: Loss = 3.316\n",
      "Train RMSE = 2.199||Train Precision = 59.677||Train Recall = 78.822\n",
      "Test RMSE = 1.162 || Test Precision = 55.769|| Test Recall = 82.733\n"
     ]
    },
    {
     "name": "stderr",
     "output_type": "stream",
     "text": [
      "2it [00:35, 17.98s/it]\n"
     ]
    },
    {
     "name": "stdout",
     "output_type": "stream",
     "text": [
      "tensor([[3.6228],\n",
      "        [3.6228],\n",
      "        [3.6228],\n",
      "        ...,\n",
      "        [3.6722],\n",
      "        [3.6722],\n",
      "        [3.6722]], device='cuda:0')\n",
      "              precision    recall  f1-score   support\n",
      "\n",
      "           0       0.47      0.03      0.06      8765\n",
      "           1       0.56      0.97      0.71     11235\n",
      "\n",
      "    accuracy                           0.56     20000\n",
      "   macro avg       0.51      0.50      0.39     20000\n",
      "weighted avg       0.52      0.56      0.43     20000\n",
      "\n",
      "Epoch-48: Loss = 3.309\n",
      "Train RMSE = 2.196||Train Precision = 56.215||Train Recall = 96.712\n",
      "Test RMSE = 1.180 || Test Precision = 56.260|| Test Recall = 97.267\n"
     ]
    },
    {
     "name": "stderr",
     "output_type": "stream",
     "text": [
      "2it [00:36, 18.41s/it]\n"
     ]
    },
    {
     "name": "stdout",
     "output_type": "stream",
     "text": [
      "tensor([[3.7267],\n",
      "        [3.7267],\n",
      "        [3.7267],\n",
      "        ...,\n",
      "        [3.7751],\n",
      "        [3.7751],\n",
      "        [3.7751]], device='cuda:0')\n",
      "              precision    recall  f1-score   support\n",
      "\n",
      "           0       0.54      0.02      0.04      8765\n",
      "           1       0.56      0.99      0.72     11235\n",
      "\n",
      "    accuracy                           0.56     20000\n",
      "   macro avg       0.55      0.50      0.38     20000\n",
      "weighted avg       0.55      0.56      0.42     20000\n",
      "\n",
      "Epoch-49: Loss = 3.415\n",
      "Train RMSE = 2.244||Train Precision = 56.074||Train Recall = 98.870\n",
      "Test RMSE = 1.203 || Test Precision = 56.362|| Test Recall = 98.531\n"
     ]
    },
    {
     "name": "stderr",
     "output_type": "stream",
     "text": [
      "2it [00:33, 16.60s/it]\n"
     ]
    },
    {
     "name": "stdout",
     "output_type": "stream",
     "text": [
      "tensor([[3.3212],\n",
      "        [3.3212],\n",
      "        [3.3212],\n",
      "        ...,\n",
      "        [3.3782],\n",
      "        [3.3782],\n",
      "        [3.3782]], device='cuda:0')\n",
      "              precision    recall  f1-score   support\n",
      "\n",
      "           0       0.44      0.73      0.55      8765\n",
      "           1       0.56      0.27      0.36     11235\n",
      "\n",
      "    accuracy                           0.47     20000\n",
      "   macro avg       0.50      0.50      0.45     20000\n",
      "weighted avg       0.51      0.47      0.44     20000\n",
      "\n",
      "Epoch-50: Loss = 3.395\n",
      "Train RMSE = 2.235||Train Precision = 64.364||Train Recall = 23.087\n",
      "Test RMSE = 1.166 || Test Precision = 55.868|| Test Recall = 26.862\n"
     ]
    },
    {
     "name": "stderr",
     "output_type": "stream",
     "text": [
      "2it [00:35, 17.85s/it]\n"
     ]
    },
    {
     "name": "stdout",
     "output_type": "stream",
     "text": [
      "tensor([[3.2723],\n",
      "        [3.2723],\n",
      "        [3.2723],\n",
      "        ...,\n",
      "        [3.3268],\n",
      "        [3.3268],\n",
      "        [3.3268]], device='cuda:0')\n",
      "              precision    recall  f1-score   support\n",
      "\n",
      "           0       0.44      0.88      0.58      8765\n",
      "           1       0.54      0.11      0.19     11235\n",
      "\n",
      "    accuracy                           0.45     20000\n",
      "   macro avg       0.49      0.50      0.39     20000\n",
      "weighted avg       0.50      0.45      0.36     20000\n",
      "\n",
      "Epoch-51: Loss = 3.376\n",
      "Train RMSE = 2.226||Train Precision = 65.712||Train Recall = 8.514\n",
      "Test RMSE = 1.171 || Test Precision = 54.376|| Test Recall = 11.393\n"
     ]
    },
    {
     "name": "stderr",
     "output_type": "stream",
     "text": [
      "2it [00:35, 17.59s/it]\n"
     ]
    },
    {
     "name": "stdout",
     "output_type": "stream",
     "text": [
      "tensor([[3.6575],\n",
      "        [3.6575],\n",
      "        [3.6575],\n",
      "        ...,\n",
      "        [3.7167],\n",
      "        [3.7167],\n",
      "        [3.7167]], device='cuda:0')\n",
      "              precision    recall  f1-score   support\n",
      "\n",
      "           0       0.51      0.03      0.05      8765\n",
      "           1       0.56      0.98      0.72     11235\n",
      "\n",
      "    accuracy                           0.56     20000\n",
      "   macro avg       0.54      0.50      0.39     20000\n",
      "weighted avg       0.54      0.56      0.43     20000\n",
      "\n",
      "Epoch-52: Loss = 3.330\n",
      "Train RMSE = 2.206||Train Precision = 56.387||Train Recall = 97.775\n",
      "Test RMSE = 1.190 || Test Precision = 56.365|| Test Recall = 97.855\n"
     ]
    },
    {
     "name": "stderr",
     "output_type": "stream",
     "text": [
      "2it [00:34, 17.04s/it]\n"
     ]
    },
    {
     "name": "stdout",
     "output_type": "stream",
     "text": [
      "tensor([[3.3820],\n",
      "        [3.3820],\n",
      "        [3.3820],\n",
      "        ...,\n",
      "        [3.4467],\n",
      "        [3.4467],\n",
      "        [3.4467]], device='cuda:0')\n",
      "              precision    recall  f1-score   support\n",
      "\n",
      "           0       0.45      0.48      0.46      8765\n",
      "           1       0.57      0.53      0.55     11235\n",
      "\n",
      "    accuracy                           0.51     20000\n",
      "   macro avg       0.51      0.51      0.51     20000\n",
      "weighted avg       0.51      0.51      0.51     20000\n",
      "\n",
      "Epoch-53: Loss = 3.366\n",
      "Train RMSE = 2.222||Train Precision = 62.230||Train Recall = 53.769\n",
      "Test RMSE = 1.164 || Test Precision = 56.809|| Test Recall = 52.986\n"
     ]
    },
    {
     "name": "stderr",
     "output_type": "stream",
     "text": [
      "2it [00:33, 16.51s/it]\n"
     ]
    },
    {
     "name": "stdout",
     "output_type": "stream",
     "text": [
      "tensor([[3.2920],\n",
      "        [3.2920],\n",
      "        [3.2920],\n",
      "        ...,\n",
      "        [3.3625],\n",
      "        [3.3625],\n",
      "        [3.3625]], device='cuda:0')\n",
      "              precision    recall  f1-score   support\n",
      "\n",
      "           0       0.44      0.78      0.56      8765\n",
      "           1       0.56      0.22      0.31     11235\n",
      "\n",
      "    accuracy                           0.46     20000\n",
      "   macro avg       0.50      0.50      0.44     20000\n",
      "weighted avg       0.51      0.46      0.42     20000\n",
      "\n",
      "Epoch-54: Loss = 3.336\n",
      "Train RMSE = 2.208||Train Precision = 65.878||Train Recall = 18.267\n",
      "Test RMSE = 1.170 || Test Precision = 55.810|| Test Recall = 21.931\n"
     ]
    },
    {
     "name": "stderr",
     "output_type": "stream",
     "text": [
      "2it [00:31, 15.83s/it]\n"
     ]
    },
    {
     "name": "stdout",
     "output_type": "stream",
     "text": [
      "tensor([[3.5947],\n",
      "        [3.5947],\n",
      "        [3.5947],\n",
      "        ...,\n",
      "        [3.6676],\n",
      "        [3.6676],\n",
      "        [3.6676]], device='cuda:0')\n",
      "              precision    recall  f1-score   support\n",
      "\n",
      "           0       0.45      0.04      0.07      8765\n",
      "           1       0.56      0.96      0.71     11235\n",
      "\n",
      "    accuracy                           0.56     20000\n",
      "   macro avg       0.51      0.50      0.39     20000\n",
      "weighted avg       0.51      0.56      0.43     20000\n",
      "\n",
      "Epoch-55: Loss = 3.314\n",
      "Train RMSE = 2.199||Train Precision = 56.618||Train Recall = 95.523\n",
      "Test RMSE = 1.182 || Test Precision = 56.216|| Test Recall = 96.075\n"
     ]
    },
    {
     "name": "stderr",
     "output_type": "stream",
     "text": [
      "2it [00:33, 16.81s/it]\n"
     ]
    },
    {
     "name": "stdout",
     "output_type": "stream",
     "text": [
      "tensor([[3.3796],\n",
      "        [3.3796],\n",
      "        [3.3796],\n",
      "        ...,\n",
      "        [3.4579],\n",
      "        [3.4579],\n",
      "        [3.4579]], device='cuda:0')\n",
      "              precision    recall  f1-score   support\n",
      "\n",
      "           0       0.44      0.45      0.44      8765\n",
      "           1       0.56      0.55      0.56     11235\n",
      "\n",
      "    accuracy                           0.51     20000\n",
      "   macro avg       0.50      0.50      0.50     20000\n",
      "weighted avg       0.51      0.51      0.51     20000\n",
      "\n",
      "Epoch-56: Loss = 3.328\n",
      "Train RMSE = 2.205||Train Precision = 62.422||Train Recall = 56.007\n",
      "Test RMSE = 1.166 || Test Precision = 56.158|| Test Recall = 54.873\n"
     ]
    },
    {
     "name": "stderr",
     "output_type": "stream",
     "text": [
      "2it [00:33, 16.58s/it]\n"
     ]
    },
    {
     "name": "stdout",
     "output_type": "stream",
     "text": [
      "tensor([[3.3667],\n",
      "        [3.3667],\n",
      "        [3.3667],\n",
      "        ...,\n",
      "        [3.4511],\n",
      "        [3.4511],\n",
      "        [3.4511]], device='cuda:0')\n",
      "              precision    recall  f1-score   support\n",
      "\n",
      "           0       0.45      0.53      0.48      8765\n",
      "           1       0.57      0.50      0.53     11235\n",
      "\n",
      "    accuracy                           0.51     20000\n",
      "   macro avg       0.51      0.51      0.51     20000\n",
      "weighted avg       0.52      0.51      0.51     20000\n",
      "\n",
      "Epoch-57: Loss = 3.307\n",
      "Train RMSE = 2.195||Train Precision = 63.080||Train Recall = 51.922\n",
      "Test RMSE = 1.166 || Test Precision = 57.329|| Test Recall = 49.604\n"
     ]
    },
    {
     "name": "stderr",
     "output_type": "stream",
     "text": [
      "2it [00:35, 17.78s/it]\n"
     ]
    },
    {
     "name": "stdout",
     "output_type": "stream",
     "text": [
      "tensor([[3.5240],\n",
      "        [3.5240],\n",
      "        [3.5240],\n",
      "        ...,\n",
      "        [3.6111],\n",
      "        [3.6111],\n",
      "        [3.6111]], device='cuda:0')\n",
      "              precision    recall  f1-score   support\n",
      "\n",
      "           0       0.43      0.08      0.14      8765\n",
      "           1       0.56      0.91      0.70     11235\n",
      "\n",
      "    accuracy                           0.55     20000\n",
      "   macro avg       0.49      0.50      0.42     20000\n",
      "weighted avg       0.50      0.55      0.45     20000\n",
      "\n",
      "Epoch-58: Loss = 3.292\n",
      "Train RMSE = 2.188||Train Precision = 58.294||Train Recall = 90.749\n",
      "Test RMSE = 1.174 || Test Precision = 56.062|| Test Recall = 91.446\n"
     ]
    },
    {
     "name": "stderr",
     "output_type": "stream",
     "text": [
      "2it [00:32, 16.10s/it]\n"
     ]
    },
    {
     "name": "stdout",
     "output_type": "stream",
     "text": [
      "tensor([[3.3589],\n",
      "        [3.3589],\n",
      "        [3.3589],\n",
      "        ...,\n",
      "        [3.4484],\n",
      "        [3.4484],\n",
      "        [3.4484]], device='cuda:0')\n",
      "              precision    recall  f1-score   support\n",
      "\n",
      "           0       0.45      0.53      0.48      8765\n",
      "           1       0.57      0.49      0.53     11235\n",
      "\n",
      "    accuracy                           0.51     20000\n",
      "   macro avg       0.51      0.51      0.51     20000\n",
      "weighted avg       0.52      0.51      0.51     20000\n",
      "\n",
      "Epoch-59: Loss = 3.292\n",
      "Train RMSE = 2.188||Train Precision = 63.349||Train Recall = 51.262\n",
      "Test RMSE = 1.168 || Test Precision = 57.072|| Test Recall = 48.847\n"
     ]
    },
    {
     "name": "stderr",
     "output_type": "stream",
     "text": [
      "2it [00:35, 17.69s/it]\n"
     ]
    },
    {
     "name": "stdout",
     "output_type": "stream",
     "text": [
      "tensor([[3.4313],\n",
      "        [3.4313],\n",
      "        [3.4313],\n",
      "        ...,\n",
      "        [3.5224],\n",
      "        [3.5224],\n",
      "        [3.5224]], device='cuda:0')\n",
      "              precision    recall  f1-score   support\n",
      "\n",
      "           0       0.43      0.23      0.30      8765\n",
      "           1       0.56      0.76      0.64     11235\n",
      "\n",
      "    accuracy                           0.53     20000\n",
      "   macro avg       0.49      0.49      0.47     20000\n",
      "weighted avg       0.50      0.53      0.49     20000\n",
      "\n",
      "Epoch-60: Loss = 3.289\n",
      "Train RMSE = 2.187||Train Precision = 60.706||Train Recall = 74.457\n",
      "Test RMSE = 1.169 || Test Precision = 55.809|| Test Recall = 76.146\n"
     ]
    },
    {
     "name": "stderr",
     "output_type": "stream",
     "text": [
      "2it [00:36, 18.32s/it]\n"
     ]
    },
    {
     "name": "stdout",
     "output_type": "stream",
     "text": [
      "tensor([[3.5001],\n",
      "        [3.5001],\n",
      "        [3.5001],\n",
      "        ...,\n",
      "        [3.5920],\n",
      "        [3.5920],\n",
      "        [3.5920]], device='cuda:0')\n",
      "              precision    recall  f1-score   support\n",
      "\n",
      "           0       0.42      0.09      0.15      8765\n",
      "           1       0.56      0.90      0.69     11235\n",
      "\n",
      "    accuracy                           0.55     20000\n",
      "   macro avg       0.49      0.50      0.42     20000\n",
      "weighted avg       0.50      0.55      0.45     20000\n",
      "\n",
      "Epoch-61: Loss = 3.284\n",
      "Train RMSE = 2.185||Train Precision = 58.966||Train Recall = 87.477\n",
      "Test RMSE = 1.174 || Test Precision = 55.953|| Test Recall = 89.764\n"
     ]
    },
    {
     "name": "stderr",
     "output_type": "stream",
     "text": [
      "2it [00:32, 16.35s/it]\n"
     ]
    },
    {
     "name": "stdout",
     "output_type": "stream",
     "text": [
      "tensor([[3.3250],\n",
      "        [3.3250],\n",
      "        [3.3250],\n",
      "        ...,\n",
      "        [3.4233],\n",
      "        [3.4233],\n",
      "        [3.4233]], device='cuda:0')\n",
      "              precision    recall  f1-score   support\n",
      "\n",
      "           0       0.43      0.59      0.50      8765\n",
      "           1       0.55      0.39      0.46     11235\n",
      "\n",
      "    accuracy                           0.48     20000\n",
      "   macro avg       0.49      0.49      0.48     20000\n",
      "weighted avg       0.50      0.48      0.47     20000\n",
      "\n",
      "Epoch-62: Loss = 3.280\n",
      "Train RMSE = 2.183||Train Precision = 64.582||Train Recall = 38.234\n",
      "Test RMSE = 1.171 || Test Precision = 54.939|| Test Recall = 39.012\n"
     ]
    },
    {
     "name": "stderr",
     "output_type": "stream",
     "text": [
      "2it [00:33, 16.78s/it]\n"
     ]
    },
    {
     "name": "stdout",
     "output_type": "stream",
     "text": [
      "tensor([[3.4266],\n",
      "        [3.4266],\n",
      "        [3.4266],\n",
      "        ...,\n",
      "        [3.5225],\n",
      "        [3.5225],\n",
      "        [3.5225]], device='cuda:0')\n",
      "              precision    recall  f1-score   support\n",
      "\n",
      "           0       0.42      0.24      0.31      8765\n",
      "           1       0.56      0.74      0.64     11235\n",
      "\n",
      "    accuracy                           0.52     20000\n",
      "   macro avg       0.49      0.49      0.47     20000\n",
      "weighted avg       0.50      0.52      0.49     20000\n",
      "\n",
      "Epoch-63: Loss = 3.290\n",
      "Train RMSE = 2.188||Train Precision = 61.110||Train Recall = 73.602\n",
      "Test RMSE = 1.171 || Test Precision = 55.702|| Test Recall = 74.259\n"
     ]
    },
    {
     "name": "stderr",
     "output_type": "stream",
     "text": [
      "2it [00:34, 17.47s/it]\n"
     ]
    },
    {
     "name": "stdout",
     "output_type": "stream",
     "text": [
      "tensor([[3.4898],\n",
      "        [3.4898],\n",
      "        [3.4898],\n",
      "        ...,\n",
      "        [3.5878],\n",
      "        [3.5878],\n",
      "        [3.5878]], device='cuda:0')\n",
      "              precision    recall  f1-score   support\n",
      "\n",
      "           0       0.41      0.12      0.18      8765\n",
      "           1       0.56      0.87      0.68     11235\n",
      "\n",
      "    accuracy                           0.54     20000\n",
      "   macro avg       0.49      0.49      0.43     20000\n",
      "weighted avg       0.49      0.54      0.46     20000\n",
      "\n",
      "Epoch-64: Loss = 3.275\n",
      "Train RMSE = 2.181||Train Precision = 59.071||Train Recall = 85.550\n",
      "Test RMSE = 1.176 || Test Precision = 55.820|| Test Recall = 86.862\n"
     ]
    },
    {
     "name": "stderr",
     "output_type": "stream",
     "text": [
      "2it [00:37, 18.73s/it]\n"
     ]
    },
    {
     "name": "stdout",
     "output_type": "stream",
     "text": [
      "tensor([[3.3557],\n",
      "        [3.3557],\n",
      "        [3.3557],\n",
      "        ...,\n",
      "        [3.4582],\n",
      "        [3.4582],\n",
      "        [3.4582]], device='cuda:0')\n",
      "              precision    recall  f1-score   support\n",
      "\n",
      "           0       0.45      0.49      0.47      8765\n",
      "           1       0.57      0.53      0.55     11235\n",
      "\n",
      "    accuracy                           0.51     20000\n",
      "   macro avg       0.51      0.51      0.51     20000\n",
      "weighted avg       0.52      0.51      0.51     20000\n",
      "\n",
      "Epoch-65: Loss = 3.272\n",
      "Train RMSE = 2.179||Train Precision = 63.443||Train Recall = 53.639\n",
      "Test RMSE = 1.172 || Test Precision = 57.111|| Test Recall = 52.826\n"
     ]
    },
    {
     "name": "stderr",
     "output_type": "stream",
     "text": [
      "2it [00:37, 18.52s/it]\n"
     ]
    },
    {
     "name": "stdout",
     "output_type": "stream",
     "text": [
      "tensor([[3.4202],\n",
      "        [3.4202],\n",
      "        [3.4202],\n",
      "        ...,\n",
      "        [3.5229],\n",
      "        [3.5229],\n",
      "        [3.5229]], device='cuda:0')\n",
      "              precision    recall  f1-score   support\n",
      "\n",
      "           0       0.42      0.24      0.30      8765\n",
      "           1       0.56      0.74      0.64     11235\n",
      "\n",
      "    accuracy                           0.52     20000\n",
      "   macro avg       0.49      0.49      0.47     20000\n",
      "weighted avg       0.50      0.52      0.49     20000\n",
      "\n",
      "Epoch-66: Loss = 3.272\n",
      "Train RMSE = 2.179||Train Precision = 61.112||Train Recall = 73.079\n",
      "Test RMSE = 1.174 || Test Precision = 55.539|| Test Recall = 74.161\n"
     ]
    },
    {
     "name": "stderr",
     "output_type": "stream",
     "text": [
      "2it [00:38, 19.32s/it]\n"
     ]
    },
    {
     "name": "stdout",
     "output_type": "stream",
     "text": [
      "tensor([[3.5256],\n",
      "        [3.5256],\n",
      "        [3.5256],\n",
      "        ...,\n",
      "        [3.6285],\n",
      "        [3.6285],\n",
      "        [3.6285]], device='cuda:0')\n",
      "              precision    recall  f1-score   support\n",
      "\n",
      "           0       0.43      0.09      0.15      8765\n",
      "           1       0.56      0.91      0.69     11235\n",
      "\n",
      "    accuracy                           0.55     20000\n",
      "   macro avg       0.50      0.50      0.42     20000\n",
      "weighted avg       0.51      0.55      0.45     20000\n",
      "\n",
      "Epoch-67: Loss = 3.270\n",
      "Train RMSE = 2.179||Train Precision = 58.368||Train Recall = 89.576\n",
      "Test RMSE = 1.184 || Test Precision = 56.124|| Test Recall = 91.028\n"
     ]
    },
    {
     "name": "stderr",
     "output_type": "stream",
     "text": [
      "2it [00:36, 18.03s/it]\n"
     ]
    },
    {
     "name": "stdout",
     "output_type": "stream",
     "text": [
      "tensor([[3.3753],\n",
      "        [3.3753],\n",
      "        [3.3753],\n",
      "        ...,\n",
      "        [3.4808],\n",
      "        [3.4808],\n",
      "        [3.4808]], device='cuda:0')\n",
      "              precision    recall  f1-score   support\n",
      "\n",
      "           0       0.44      0.41      0.42      8765\n",
      "           1       0.56      0.59      0.58     11235\n",
      "\n",
      "    accuracy                           0.51     20000\n",
      "   macro avg       0.50      0.50      0.50     20000\n",
      "weighted avg       0.51      0.51      0.51     20000\n",
      "\n",
      "Epoch-68: Loss = 3.275\n",
      "Train RMSE = 2.181||Train Precision = 62.233||Train Recall = 59.881\n",
      "Test RMSE = 1.174 || Test Precision = 56.149|| Test Recall = 59.208\n"
     ]
    },
    {
     "name": "stderr",
     "output_type": "stream",
     "text": [
      "2it [00:33, 16.75s/it]\n"
     ]
    },
    {
     "name": "stdout",
     "output_type": "stream",
     "text": [
      "tensor([[3.3345],\n",
      "        [3.3345],\n",
      "        [3.3345],\n",
      "        ...,\n",
      "        [3.4427],\n",
      "        [3.4427],\n",
      "        [3.4427]], device='cuda:0')\n",
      "              precision    recall  f1-score   support\n",
      "\n",
      "           0       0.45      0.52      0.48      8765\n",
      "           1       0.57      0.50      0.53     11235\n",
      "\n",
      "    accuracy                           0.51     20000\n",
      "   macro avg       0.51      0.51      0.51     20000\n",
      "weighted avg       0.52      0.51      0.51     20000\n",
      "\n",
      "Epoch-69: Loss = 3.270\n",
      "Train RMSE = 2.178||Train Precision = 64.306||Train Recall = 48.908\n",
      "Test RMSE = 1.176 || Test Precision = 57.069|| Test Recall = 49.942\n"
     ]
    },
    {
     "name": "stderr",
     "output_type": "stream",
     "text": [
      "2it [00:38, 19.07s/it]\n"
     ]
    },
    {
     "name": "stdout",
     "output_type": "stream",
     "text": [
      "tensor([[3.4620],\n",
      "        [3.4620],\n",
      "        [3.4620],\n",
      "        ...,\n",
      "        [3.5698],\n",
      "        [3.5698],\n",
      "        [3.5698]], device='cuda:0')\n",
      "              precision    recall  f1-score   support\n",
      "\n",
      "           0       0.41      0.16      0.23      8765\n",
      "           1       0.56      0.82      0.66     11235\n",
      "\n",
      "    accuracy                           0.53     20000\n",
      "   macro avg       0.49      0.49      0.45     20000\n",
      "weighted avg       0.49      0.53      0.48     20000\n",
      "\n",
      "Epoch-70: Loss = 3.263\n",
      "Train RMSE = 2.176||Train Precision = 60.435||Train Recall = 80.182\n",
      "Test RMSE = 1.180 || Test Precision = 55.654|| Test Recall = 81.869\n"
     ]
    },
    {
     "name": "stderr",
     "output_type": "stream",
     "text": [
      "2it [00:34, 17.17s/it]\n"
     ]
    },
    {
     "name": "stdout",
     "output_type": "stream",
     "text": [
      "tensor([[3.4748],\n",
      "        [3.4748],\n",
      "        [3.4748],\n",
      "        ...,\n",
      "        [3.5811],\n",
      "        [3.5811],\n",
      "        [3.5811]], device='cuda:0')\n",
      "              precision    recall  f1-score   support\n",
      "\n",
      "           0       0.40      0.15      0.22      8765\n",
      "           1       0.56      0.83      0.66     11235\n",
      "\n",
      "    accuracy                           0.53     20000\n",
      "   macro avg       0.48      0.49      0.44     20000\n",
      "weighted avg       0.49      0.53      0.47     20000\n",
      "\n",
      "Epoch-71: Loss = 3.263\n",
      "Train RMSE = 2.175||Train Precision = 59.575||Train Recall = 82.025\n",
      "Test RMSE = 1.182 || Test Precision = 55.522|| Test Recall = 82.866\n"
     ]
    },
    {
     "name": "stderr",
     "output_type": "stream",
     "text": [
      "2it [00:36, 18.45s/it]\n"
     ]
    },
    {
     "name": "stdout",
     "output_type": "stream",
     "text": [
      "tensor([[3.4018],\n",
      "        [3.4018],\n",
      "        [3.4018],\n",
      "        ...,\n",
      "        [3.5122],\n",
      "        [3.5122],\n",
      "        [3.5122]], device='cuda:0')\n",
      "              precision    recall  f1-score   support\n",
      "\n",
      "           0       0.43      0.27      0.33      8765\n",
      "           1       0.56      0.72      0.63     11235\n",
      "\n",
      "    accuracy                           0.52     20000\n",
      "   macro avg       0.49      0.49      0.48     20000\n",
      "weighted avg       0.50      0.52      0.50     20000\n",
      "\n",
      "Epoch-72: Loss = 3.256\n",
      "Train RMSE = 2.172||Train Precision = 61.518||Train Recall = 70.582\n",
      "Test RMSE = 1.179 || Test Precision = 55.785|| Test Recall = 71.669\n"
     ]
    },
    {
     "name": "stderr",
     "output_type": "stream",
     "text": [
      "2it [00:35, 17.51s/it]\n"
     ]
    },
    {
     "name": "stdout",
     "output_type": "stream",
     "text": [
      "tensor([[3.3355],\n",
      "        [3.3355],\n",
      "        [3.3355],\n",
      "        ...,\n",
      "        [3.4441],\n",
      "        [3.4441],\n",
      "        [3.4441]], device='cuda:0')\n",
      "              precision    recall  f1-score   support\n",
      "\n",
      "           0       0.45      0.51      0.48      8765\n",
      "           1       0.57      0.51      0.54     11235\n",
      "\n",
      "    accuracy                           0.51     20000\n",
      "   macro avg       0.51      0.51      0.51     20000\n",
      "weighted avg       0.52      0.51      0.51     20000\n",
      "\n",
      "Epoch-73: Loss = 3.252\n",
      "Train RMSE = 2.171||Train Precision = 64.015||Train Recall = 51.304\n",
      "Test RMSE = 1.180 || Test Precision = 57.179|| Test Recall = 50.583\n"
     ]
    },
    {
     "name": "stderr",
     "output_type": "stream",
     "text": [
      "2it [00:37, 18.78s/it]\n"
     ]
    },
    {
     "name": "stdout",
     "output_type": "stream",
     "text": [
      "tensor([[3.3878],\n",
      "        [3.3878],\n",
      "        [3.3878],\n",
      "        ...,\n",
      "        [3.4976],\n",
      "        [3.4976],\n",
      "        [3.4976]], device='cuda:0')\n",
      "              precision    recall  f1-score   support\n",
      "\n",
      "           0       0.43      0.36      0.40      8765\n",
      "           1       0.56      0.63      0.59     11235\n",
      "\n",
      "    accuracy                           0.51     20000\n",
      "   macro avg       0.50      0.50      0.49     20000\n",
      "weighted avg       0.50      0.51      0.51     20000\n",
      "\n",
      "Epoch-74: Loss = 3.257\n",
      "Train RMSE = 2.173||Train Precision = 62.532||Train Recall = 65.711\n",
      "Test RMSE = 1.181 || Test Precision = 55.973|| Test Recall = 63.186\n"
     ]
    },
    {
     "name": "stderr",
     "output_type": "stream",
     "text": [
      "2it [00:34, 17.43s/it]\n"
     ]
    },
    {
     "name": "stdout",
     "output_type": "stream",
     "text": [
      "tensor([[3.4546],\n",
      "        [3.4546],\n",
      "        [3.4546],\n",
      "        ...,\n",
      "        [3.5592],\n",
      "        [3.5592],\n",
      "        [3.5592]], device='cuda:0')\n",
      "              precision    recall  f1-score   support\n",
      "\n",
      "           0       0.43      0.20      0.27      8765\n",
      "           1       0.56      0.79      0.65     11235\n",
      "\n",
      "    accuracy                           0.53     20000\n",
      "   macro avg       0.49      0.49      0.46     20000\n",
      "weighted avg       0.50      0.53      0.49     20000\n",
      "\n",
      "Epoch-75: Loss = 3.246\n",
      "Train RMSE = 2.168||Train Precision = 60.742||Train Recall = 78.103\n",
      "Test RMSE = 1.185 || Test Precision = 55.858|| Test Recall = 78.968\n"
     ]
    },
    {
     "name": "stderr",
     "output_type": "stream",
     "text": [
      "2it [00:33, 16.79s/it]\n"
     ]
    },
    {
     "name": "stdout",
     "output_type": "stream",
     "text": [
      "tensor([[3.4608],\n",
      "        [3.4608],\n",
      "        [3.4608],\n",
      "        ...,\n",
      "        [3.5667],\n",
      "        [3.5667],\n",
      "        [3.5667]], device='cuda:0')\n",
      "              precision    recall  f1-score   support\n",
      "\n",
      "           0       0.42      0.19      0.26      8765\n",
      "           1       0.56      0.80      0.66     11235\n",
      "\n",
      "    accuracy                           0.53     20000\n",
      "   macro avg       0.49      0.49      0.46     20000\n",
      "weighted avg       0.50      0.53      0.48     20000\n",
      "\n",
      "Epoch-76: Loss = 3.248\n",
      "Train RMSE = 2.168||Train Precision = 60.955||Train Recall = 79.176\n",
      "Test RMSE = 1.187 || Test Precision = 55.818|| Test Recall = 79.884\n"
     ]
    },
    {
     "name": "stderr",
     "output_type": "stream",
     "text": [
      "2it [00:34, 17.22s/it]\n"
     ]
    },
    {
     "name": "stdout",
     "output_type": "stream",
     "text": [
      "tensor([[3.4431],\n",
      "        [3.4431],\n",
      "        [3.4431],\n",
      "        ...,\n",
      "        [3.5478],\n",
      "        [3.5478],\n",
      "        [3.5478]], device='cuda:0')\n",
      "              precision    recall  f1-score   support\n",
      "\n",
      "           0       0.42      0.22      0.29      8765\n",
      "           1       0.56      0.77      0.64     11235\n",
      "\n",
      "    accuracy                           0.53     20000\n",
      "   macro avg       0.49      0.49      0.47     20000\n",
      "weighted avg       0.50      0.53      0.49     20000\n",
      "\n",
      "Epoch-77: Loss = 3.245\n",
      "Train RMSE = 2.167||Train Precision = 60.763||Train Recall = 75.361\n",
      "Test RMSE = 1.187 || Test Precision = 55.665|| Test Recall = 76.529\n"
     ]
    },
    {
     "name": "stderr",
     "output_type": "stream",
     "text": [
      "2it [00:37, 18.68s/it]\n"
     ]
    },
    {
     "name": "stdout",
     "output_type": "stream",
     "text": [
      "tensor([[3.3888],\n",
      "        [3.3888],\n",
      "        [3.3888],\n",
      "        ...,\n",
      "        [3.4913],\n",
      "        [3.4913],\n",
      "        [3.4913]], device='cuda:0')\n",
      "              precision    recall  f1-score   support\n",
      "\n",
      "           0       0.43      0.36      0.39      8765\n",
      "           1       0.56      0.63      0.59     11235\n",
      "\n",
      "    accuracy                           0.51     20000\n",
      "   macro avg       0.49      0.49      0.49     20000\n",
      "weighted avg       0.50      0.51      0.50     20000\n",
      "\n",
      "Epoch-78: Loss = 3.239\n",
      "Train RMSE = 2.164||Train Precision = 63.122||Train Recall = 65.556\n",
      "Test RMSE = 1.185 || Test Precision = 55.745|| Test Recall = 62.706\n"
     ]
    },
    {
     "name": "stderr",
     "output_type": "stream",
     "text": [
      "2it [00:38, 19.33s/it]\n"
     ]
    },
    {
     "name": "stdout",
     "output_type": "stream",
     "text": [
      "tensor([[3.2928],\n",
      "        [3.2928],\n",
      "        [3.2928],\n",
      "        ...,\n",
      "        [3.3954],\n",
      "        [3.3954],\n",
      "        [3.3954]], device='cuda:0')\n",
      "              precision    recall  f1-score   support\n",
      "\n",
      "           0       0.44      0.58      0.50      8765\n",
      "           1       0.56      0.42      0.48     11235\n",
      "\n",
      "    accuracy                           0.49     20000\n",
      "   macro avg       0.50      0.50      0.49     20000\n",
      "weighted avg       0.51      0.49      0.49     20000\n",
      "\n",
      "Epoch-79: Loss = 3.241\n",
      "Train RMSE = 2.166||Train Precision = 65.259||Train Recall = 41.381\n",
      "Test RMSE = 1.188 || Test Precision = 56.215|| Test Recall = 42.350\n"
     ]
    },
    {
     "name": "stderr",
     "output_type": "stream",
     "text": [
      "2it [00:34, 17.31s/it]\n"
     ]
    },
    {
     "name": "stdout",
     "output_type": "stream",
     "text": [
      "tensor([[3.1552],\n",
      "        [3.1552],\n",
      "        [3.1552],\n",
      "        ...,\n",
      "        [3.2587],\n",
      "        [3.2587],\n",
      "        [3.2587]], device='cuda:0')\n",
      "              precision    recall  f1-score   support\n",
      "\n",
      "           0       0.43      0.79      0.56      8765\n",
      "           1       0.54      0.19      0.28     11235\n",
      "\n",
      "    accuracy                           0.45     20000\n",
      "   macro avg       0.48      0.49      0.42     20000\n",
      "weighted avg       0.49      0.45      0.40     20000\n",
      "\n",
      "Epoch-80: Loss = 3.287\n",
      "Train RMSE = 2.186||Train Precision = 67.112||Train Recall = 14.569\n",
      "Test RMSE = 1.204 || Test Precision = 53.744|| Test Recall = 19.039\n"
     ]
    },
    {
     "name": "stderr",
     "output_type": "stream",
     "text": [
      "2it [00:38, 19.32s/it]\n"
     ]
    },
    {
     "name": "stdout",
     "output_type": "stream",
     "text": [
      "tensor([[3.1408],\n",
      "        [3.1408],\n",
      "        [3.1408],\n",
      "        ...,\n",
      "        [3.2449],\n",
      "        [3.2449],\n",
      "        [3.2449]], device='cuda:0')\n",
      "              precision    recall  f1-score   support\n",
      "\n",
      "           0       0.43      0.85      0.57      8765\n",
      "           1       0.52      0.13      0.21     11235\n",
      "\n",
      "    accuracy                           0.44     20000\n",
      "   macro avg       0.48      0.49      0.39     20000\n",
      "weighted avg       0.48      0.44      0.37     20000\n",
      "\n",
      "Epoch-81: Loss = 3.401\n",
      "Train RMSE = 2.238||Train Precision = 67.329||Train Recall = 10.001\n",
      "Test RMSE = 1.206 || Test Precision = 52.254|| Test Recall = 13.209\n"
     ]
    },
    {
     "name": "stderr",
     "output_type": "stream",
     "text": [
      "2it [00:40, 20.48s/it]\n"
     ]
    },
    {
     "name": "stdout",
     "output_type": "stream",
     "text": [
      "tensor([[3.5236],\n",
      "        [3.5236],\n",
      "        [3.5236],\n",
      "        ...,\n",
      "        [3.6099],\n",
      "        [3.6099],\n",
      "        [3.6099]], device='cuda:0')\n",
      "              precision    recall  f1-score   support\n",
      "\n",
      "           0       0.43      0.13      0.19      8765\n",
      "           1       0.56      0.87      0.68     11235\n",
      "\n",
      "    accuracy                           0.54     20000\n",
      "   macro avg       0.49      0.50      0.44     20000\n",
      "weighted avg       0.50      0.54      0.47     20000\n",
      "\n",
      "Epoch-82: Loss = 3.329\n",
      "Train RMSE = 2.205||Train Precision = 59.735||Train Recall = 84.742\n",
      "Test RMSE = 1.191 || Test Precision = 56.041|| Test Recall = 86.943\n"
     ]
    },
    {
     "name": "stderr",
     "output_type": "stream",
     "text": [
      "2it [00:33, 16.76s/it]\n"
     ]
    },
    {
     "name": "stdout",
     "output_type": "stream",
     "text": [
      "tensor([[3.6293],\n",
      "        [3.6293],\n",
      "        [3.6293],\n",
      "        ...,\n",
      "        [3.7089],\n",
      "        [3.7089],\n",
      "        [3.7089]], device='cuda:0')\n",
      "              precision    recall  f1-score   support\n",
      "\n",
      "           0       0.42      0.06      0.11      8765\n",
      "           1       0.56      0.93      0.70     11235\n",
      "\n",
      "    accuracy                           0.55     20000\n",
      "   macro avg       0.49      0.50      0.40     20000\n",
      "weighted avg       0.50      0.55      0.44     20000\n",
      "\n",
      "Epoch-83: Loss = 3.295\n",
      "Train RMSE = 2.190||Train Precision = 57.564||Train Recall = 92.959\n",
      "Test RMSE = 1.208 || Test Precision = 56.068|| Test Recall = 93.431\n"
     ]
    },
    {
     "name": "stderr",
     "output_type": "stream",
     "text": [
      "2it [00:34, 17.32s/it]\n"
     ]
    },
    {
     "name": "stdout",
     "output_type": "stream",
     "text": [
      "tensor([[3.2601],\n",
      "        [3.2601],\n",
      "        [3.2601],\n",
      "        ...,\n",
      "        [3.3511],\n",
      "        [3.3511],\n",
      "        [3.3511]], device='cuda:0')\n",
      "              precision    recall  f1-score   support\n",
      "\n",
      "           0       0.43      0.68      0.53      8765\n",
      "           1       0.55      0.31      0.40     11235\n",
      "\n",
      "    accuracy                           0.47     20000\n",
      "   macro avg       0.49      0.49      0.46     20000\n",
      "weighted avg       0.50      0.47      0.45     20000\n",
      "\n",
      "Epoch-84: Loss = 3.270\n",
      "Train RMSE = 2.179||Train Precision = 66.440||Train Recall = 24.427\n",
      "Test RMSE = 1.189 || Test Precision = 55.192|| Test Recall = 30.939\n"
     ]
    },
    {
     "name": "stderr",
     "output_type": "stream",
     "text": [
      "2it [00:35, 17.59s/it]\n"
     ]
    },
    {
     "name": "stdout",
     "output_type": "stream",
     "text": [
      "tensor([[3.3907],\n",
      "        [3.3907],\n",
      "        [3.3907],\n",
      "        ...,\n",
      "        [3.4797],\n",
      "        [3.4797],\n",
      "        [3.4797]], device='cuda:0')\n",
      "              precision    recall  f1-score   support\n",
      "\n",
      "           0       0.43      0.41      0.42      8765\n",
      "           1       0.55      0.57      0.56     11235\n",
      "\n",
      "    accuracy                           0.50     20000\n",
      "   macro avg       0.49      0.49      0.49     20000\n",
      "weighted avg       0.50      0.50      0.50     20000\n",
      "\n",
      "Epoch-85: Loss = 3.299\n",
      "Train RMSE = 2.192||Train Precision = 63.817||Train Recall = 60.144\n",
      "Test RMSE = 1.184 || Test Precision = 55.385|| Test Recall = 57.490\n"
     ]
    },
    {
     "name": "stderr",
     "output_type": "stream",
     "text": [
      "2it [00:37, 18.69s/it]\n"
     ]
    },
    {
     "name": "stdout",
     "output_type": "stream",
     "text": [
      "tensor([[3.5452],\n",
      "        [3.5452],\n",
      "        [3.5452],\n",
      "        ...,\n",
      "        [3.6288],\n",
      "        [3.6288],\n",
      "        [3.6288]], device='cuda:0')\n",
      "              precision    recall  f1-score   support\n",
      "\n",
      "           0       0.43      0.13      0.19      8765\n",
      "           1       0.56      0.87      0.68     11235\n",
      "\n",
      "    accuracy                           0.54     20000\n",
      "   macro avg       0.49      0.50      0.44     20000\n",
      "weighted avg       0.50      0.54      0.47     20000\n",
      "\n",
      "Epoch-86: Loss = 3.242\n",
      "Train RMSE = 2.166||Train Precision = 59.003||Train Recall = 86.146\n",
      "Test RMSE = 1.196 || Test Precision = 56.037|| Test Recall = 86.996\n"
     ]
    },
    {
     "name": "stderr",
     "output_type": "stream",
     "text": [
      "2it [00:34, 17.17s/it]\n"
     ]
    },
    {
     "name": "stdout",
     "output_type": "stream",
     "text": [
      "tensor([[3.4020],\n",
      "        [3.4020],\n",
      "        [3.4020],\n",
      "        ...,\n",
      "        [3.4875],\n",
      "        [3.4875],\n",
      "        [3.4875]], device='cuda:0')\n",
      "              precision    recall  f1-score   support\n",
      "\n",
      "           0       0.43      0.40      0.41      8765\n",
      "           1       0.56      0.59      0.57     11235\n",
      "\n",
      "    accuracy                           0.50     20000\n",
      "   macro avg       0.49      0.49      0.49     20000\n",
      "weighted avg       0.50      0.50      0.50     20000\n",
      "\n",
      "Epoch-87: Loss = 3.246\n",
      "Train RMSE = 2.168||Train Precision = 63.151||Train Recall = 63.278\n",
      "Test RMSE = 1.186 || Test Precision = 55.584|| Test Recall = 59.003\n"
     ]
    },
    {
     "name": "stderr",
     "output_type": "stream",
     "text": [
      "2it [00:36, 18.13s/it]\n"
     ]
    },
    {
     "name": "stdout",
     "output_type": "stream",
     "text": [
      "tensor([[3.3976],\n",
      "        [3.3976],\n",
      "        [3.3976],\n",
      "        ...,\n",
      "        [3.4852],\n",
      "        [3.4852],\n",
      "        [3.4852]], device='cuda:0')\n",
      "              precision    recall  f1-score   support\n",
      "\n",
      "           0       0.43      0.40      0.41      8765\n",
      "           1       0.55      0.58      0.57     11235\n",
      "\n",
      "    accuracy                           0.50     20000\n",
      "   macro avg       0.49      0.49      0.49     20000\n",
      "weighted avg       0.50      0.50      0.50     20000\n",
      "\n",
      "Epoch-88: Loss = 3.235\n",
      "Train RMSE = 2.163||Train Precision = 63.274||Train Recall = 61.990\n",
      "Test RMSE = 1.187 || Test Precision = 55.470|| Test Recall = 58.175\n"
     ]
    },
    {
     "name": "stderr",
     "output_type": "stream",
     "text": [
      "2it [00:35, 17.53s/it]\n"
     ]
    },
    {
     "name": "stdout",
     "output_type": "stream",
     "text": [
      "tensor([[3.4590],\n",
      "        [3.4590],\n",
      "        [3.4590],\n",
      "        ...,\n",
      "        [3.5415],\n",
      "        [3.5415],\n",
      "        [3.5415]], device='cuda:0')\n",
      "              precision    recall  f1-score   support\n",
      "\n",
      "           0       0.41      0.23      0.29      8765\n",
      "           1       0.55      0.75      0.64     11235\n",
      "\n",
      "    accuracy                           0.52     20000\n",
      "   macro avg       0.48      0.49      0.47     20000\n",
      "weighted avg       0.49      0.52      0.49     20000\n",
      "\n",
      "Epoch-89: Loss = 3.229\n",
      "Train RMSE = 2.160||Train Precision = 61.534||Train Recall = 73.546\n",
      "Test RMSE = 1.190 || Test Precision = 55.428|| Test Recall = 74.891\n"
     ]
    },
    {
     "name": "stderr",
     "output_type": "stream",
     "text": [
      "2it [00:35, 17.80s/it]\n"
     ]
    },
    {
     "name": "stdout",
     "output_type": "stream",
     "text": [
      "tensor([[3.4351],\n",
      "        [3.4351],\n",
      "        [3.4351],\n",
      "        ...,\n",
      "        [3.5223],\n",
      "        [3.5223],\n",
      "        [3.5223]], device='cuda:0')\n",
      "              precision    recall  f1-score   support\n",
      "\n",
      "           0       0.41      0.25      0.31      8765\n",
      "           1       0.55      0.72      0.63     11235\n",
      "\n",
      "    accuracy                           0.52     20000\n",
      "   macro avg       0.48      0.49      0.47     20000\n",
      "weighted avg       0.49      0.52      0.49     20000\n",
      "\n",
      "Epoch-90: Loss = 3.226\n",
      "Train RMSE = 2.158||Train Precision = 62.380||Train Recall = 70.348\n",
      "Test RMSE = 1.190 || Test Precision = 55.247|| Test Recall = 72.310\n"
     ]
    },
    {
     "name": "stderr",
     "output_type": "stream",
     "text": [
      "2it [00:36, 18.30s/it]\n"
     ]
    },
    {
     "name": "stdout",
     "output_type": "stream",
     "text": [
      "tensor([[3.4445],\n",
      "        [3.4445],\n",
      "        [3.4445],\n",
      "        ...,\n",
      "        [3.5292],\n",
      "        [3.5292],\n",
      "        [3.5292]], device='cuda:0')\n",
      "              precision    recall  f1-score   support\n",
      "\n",
      "           0       0.41      0.25      0.31      8765\n",
      "           1       0.55      0.73      0.63     11235\n",
      "\n",
      "    accuracy                           0.52     20000\n",
      "   macro avg       0.48      0.49      0.47     20000\n",
      "weighted avg       0.49      0.52      0.49     20000\n",
      "\n",
      "Epoch-91: Loss = 3.223\n",
      "Train RMSE = 2.157||Train Precision = 62.402||Train Recall = 71.145\n",
      "Test RMSE = 1.192 || Test Precision = 55.304|| Test Recall = 72.755\n"
     ]
    },
    {
     "name": "stderr",
     "output_type": "stream",
     "text": [
      "2it [00:35, 17.73s/it]\n"
     ]
    },
    {
     "name": "stdout",
     "output_type": "stream",
     "text": [
      "tensor([[3.4776],\n",
      "        [3.4776],\n",
      "        [3.4776],\n",
      "        ...,\n",
      "        [3.5612],\n",
      "        [3.5612],\n",
      "        [3.5612]], device='cuda:0')\n",
      "              precision    recall  f1-score   support\n",
      "\n",
      "           0       0.41      0.21      0.28      8765\n",
      "           1       0.55      0.77      0.64     11235\n",
      "\n",
      "    accuracy                           0.52     20000\n",
      "   macro avg       0.48      0.49      0.46     20000\n",
      "weighted avg       0.49      0.52      0.48     20000\n",
      "\n",
      "Epoch-92: Loss = 3.222\n",
      "Train RMSE = 2.157||Train Precision = 61.546||Train Recall = 76.585\n",
      "Test RMSE = 1.196 || Test Precision = 55.472|| Test Recall = 76.555\n"
     ]
    },
    {
     "name": "stderr",
     "output_type": "stream",
     "text": [
      "2it [00:34, 17.42s/it]\n"
     ]
    },
    {
     "name": "stdout",
     "output_type": "stream",
     "text": [
      "tensor([[3.4630],\n",
      "        [3.4630],\n",
      "        [3.4630],\n",
      "        ...,\n",
      "        [3.5455],\n",
      "        [3.5455],\n",
      "        [3.5455]], device='cuda:0')\n",
      "              precision    recall  f1-score   support\n",
      "\n",
      "           0       0.41      0.23      0.29      8765\n",
      "           1       0.55      0.75      0.64     11235\n",
      "\n",
      "    accuracy                           0.52     20000\n",
      "   macro avg       0.48      0.49      0.47     20000\n",
      "weighted avg       0.49      0.52      0.49     20000\n",
      "\n",
      "Epoch-93: Loss = 3.222\n",
      "Train RMSE = 2.157||Train Precision = 62.197||Train Recall = 73.804\n",
      "Test RMSE = 1.197 || Test Precision = 55.421|| Test Recall = 74.846\n"
     ]
    },
    {
     "name": "stderr",
     "output_type": "stream",
     "text": [
      "2it [00:36, 18.23s/it]\n"
     ]
    },
    {
     "name": "stdout",
     "output_type": "stream",
     "text": [
      "tensor([[3.3994],\n",
      "        [3.3994],\n",
      "        [3.3994],\n",
      "        ...,\n",
      "        [3.4820],\n",
      "        [3.4820],\n",
      "        [3.4820]], device='cuda:0')\n",
      "              precision    recall  f1-score   support\n",
      "\n",
      "           0       0.42      0.38      0.40      8765\n",
      "           1       0.55      0.60      0.58     11235\n",
      "\n",
      "    accuracy                           0.50     20000\n",
      "   macro avg       0.49      0.49      0.49     20000\n",
      "weighted avg       0.50      0.50      0.50     20000\n",
      "\n",
      "Epoch-94: Loss = 3.216\n",
      "Train RMSE = 2.154||Train Precision = 63.182||Train Recall = 64.271\n",
      "Test RMSE = 1.197 || Test Precision = 55.239|| Test Recall = 60.151\n"
     ]
    },
    {
     "name": "stderr",
     "output_type": "stream",
     "text": [
      "2it [00:40, 20.35s/it]\n"
     ]
    },
    {
     "name": "stdout",
     "output_type": "stream",
     "text": [
      "tensor([[3.4101],\n",
      "        [3.4101],\n",
      "        [3.4101],\n",
      "        ...,\n",
      "        [3.4938],\n",
      "        [3.4938],\n",
      "        [3.4938]], device='cuda:0')\n",
      "              precision    recall  f1-score   support\n",
      "\n",
      "           0       0.42      0.36      0.39      8765\n",
      "           1       0.55      0.62      0.58     11235\n",
      "\n",
      "    accuracy                           0.50     20000\n",
      "   macro avg       0.49      0.49      0.48     20000\n",
      "weighted avg       0.50      0.50      0.50     20000\n",
      "\n",
      "Epoch-95: Loss = 3.215\n",
      "Train RMSE = 2.154||Train Precision = 63.074||Train Recall = 66.706\n",
      "Test RMSE = 1.199 || Test Precision = 55.216|| Test Recall = 62.003\n"
     ]
    },
    {
     "name": "stderr",
     "output_type": "stream",
     "text": [
      "2it [00:38, 19.33s/it]\n"
     ]
    },
    {
     "name": "stdout",
     "output_type": "stream",
     "text": [
      "tensor([[3.4768],\n",
      "        [3.4768],\n",
      "        [3.4768],\n",
      "        ...,\n",
      "        [3.5542],\n",
      "        [3.5542],\n",
      "        [3.5542]], device='cuda:0')\n",
      "              precision    recall  f1-score   support\n",
      "\n",
      "           0       0.41      0.22      0.28      8765\n",
      "           1       0.55      0.76      0.64     11235\n",
      "\n",
      "    accuracy                           0.52     20000\n",
      "   macro avg       0.48      0.49      0.46     20000\n",
      "weighted avg       0.49      0.52      0.49     20000\n",
      "\n",
      "Epoch-96: Loss = 3.213\n",
      "Train RMSE = 2.152||Train Precision = 61.764||Train Recall = 75.781\n",
      "Test RMSE = 1.205 || Test Precision = 55.476|| Test Recall = 76.279\n"
     ]
    },
    {
     "name": "stderr",
     "output_type": "stream",
     "text": [
      "2it [00:39, 19.56s/it]\n"
     ]
    },
    {
     "name": "stdout",
     "output_type": "stream",
     "text": [
      "tensor([[3.4629],\n",
      "        [3.4629],\n",
      "        [3.4629],\n",
      "        ...,\n",
      "        [3.5387],\n",
      "        [3.5387],\n",
      "        [3.5387]], device='cuda:0')\n",
      "              precision    recall  f1-score   support\n",
      "\n",
      "           0       0.41      0.23      0.30      8765\n",
      "           1       0.55      0.74      0.63     11235\n",
      "\n",
      "    accuracy                           0.52     20000\n",
      "   macro avg       0.48      0.49      0.47     20000\n",
      "weighted avg       0.49      0.52      0.49     20000\n",
      "\n",
      "Epoch-97: Loss = 3.215\n",
      "Train RMSE = 2.153||Train Precision = 62.332||Train Recall = 73.869\n",
      "Test RMSE = 1.205 || Test Precision = 55.300|| Test Recall = 74.063\n"
     ]
    },
    {
     "name": "stderr",
     "output_type": "stream",
     "text": [
      "2it [00:34, 17.29s/it]\n"
     ]
    },
    {
     "name": "stdout",
     "output_type": "stream",
     "text": [
      "tensor([[3.3616],\n",
      "        [3.3616],\n",
      "        [3.3616],\n",
      "        ...,\n",
      "        [3.4367],\n",
      "        [3.4367],\n",
      "        [3.4367]], device='cuda:0')\n",
      "              precision    recall  f1-score   support\n",
      "\n",
      "           0       0.43      0.44      0.43      8765\n",
      "           1       0.55      0.55      0.55     11235\n",
      "\n",
      "    accuracy                           0.50     20000\n",
      "   macro avg       0.49      0.49      0.49     20000\n",
      "weighted avg       0.50      0.50      0.50     20000\n",
      "\n",
      "Epoch-98: Loss = 3.210\n",
      "Train RMSE = 2.151||Train Precision = 64.322||Train Recall = 55.458\n",
      "Test RMSE = 1.201 || Test Precision = 55.378|| Test Recall = 54.535\n"
     ]
    },
    {
     "name": "stderr",
     "output_type": "stream",
     "text": [
      "2it [00:35, 17.53s/it]\n"
     ]
    },
    {
     "name": "stdout",
     "output_type": "stream",
     "text": [
      "tensor([[3.2700],\n",
      "        [3.2700],\n",
      "        [3.2700],\n",
      "        ...,\n",
      "        [3.3434],\n",
      "        [3.3434],\n",
      "        [3.3434]], device='cuda:0')\n",
      "              precision    recall  f1-score   support\n",
      "\n",
      "           0       0.44      0.61      0.52      8765\n",
      "           1       0.57      0.40      0.47     11235\n",
      "\n",
      "    accuracy                           0.50     20000\n",
      "   macro avg       0.51      0.51      0.49     20000\n",
      "weighted avg       0.52      0.50      0.49     20000\n",
      "\n",
      "Epoch-99: Loss = 3.228\n",
      "Train RMSE = 2.160||Train Precision = 66.087||Train Recall = 35.770\n",
      "Test RMSE = 1.205 || Test Precision = 57.184|| Test Recall = 40.454\n"
     ]
    },
    {
     "name": "stderr",
     "output_type": "stream",
     "text": [
      "2it [00:39, 19.66s/it]\n"
     ]
    },
    {
     "name": "stdout",
     "output_type": "stream",
     "text": [
      "tensor([[3.2287],\n",
      "        [3.2287],\n",
      "        [3.2287],\n",
      "        ...,\n",
      "        [3.3002],\n",
      "        [3.3002],\n",
      "        [3.3002]], device='cuda:0')\n",
      "              precision    recall  f1-score   support\n",
      "\n",
      "           0       0.44      0.71      0.54      8765\n",
      "           1       0.56      0.29      0.39     11235\n",
      "\n",
      "    accuracy                           0.47     20000\n",
      "   macro avg       0.50      0.50      0.46     20000\n",
      "weighted avg       0.51      0.47      0.45     20000\n",
      "\n",
      "Epoch-100: Loss = 3.280\n",
      "Train RMSE = 2.183||Train Precision = 66.761||Train Recall = 23.587\n",
      "Test RMSE = 1.208 || Test Precision = 56.127|| Test Recall = 29.435\n"
     ]
    }
   ],
   "source": [
    "train_loss, test_loss, train_f1, test_f1 = sm_net.fit()"
   ]
  },
  {
   "cell_type": "code",
   "execution_count": 22,
   "id": "9da39818",
   "metadata": {},
   "outputs": [],
   "source": [
    "torch.save(sm_net, \"./pretrained/fusion.pth\")"
   ]
  },
  {
   "cell_type": "code",
   "execution_count": 23,
   "id": "a367e0ca",
   "metadata": {},
   "outputs": [
    {
     "name": "stdout",
     "output_type": "stream",
     "text": [
      "tensor([[3.2287],\n",
      "        [3.2287],\n",
      "        [3.2287],\n",
      "        ...,\n",
      "        [3.3002],\n",
      "        [3.3002],\n",
      "        [3.3002]], device='cuda:0')\n",
      "              precision    recall  f1-score   support\n",
      "\n",
      "           0       0.44      0.71      0.54      8765\n",
      "           1       0.56      0.29      0.39     11235\n",
      "\n",
      "    accuracy                           0.47     20000\n",
      "   macro avg       0.50      0.50      0.46     20000\n",
      "weighted avg       0.51      0.47      0.45     20000\n",
      "\n"
     ]
    },
    {
     "data": {
      "text/plain": [
       "(tensor(1.2082, device='cuda:0'),\n",
       " 56.126951799049564,\n",
       " 29.434801958166446,\n",
       " 38.61738775033573,\n",
       " 66.63239074550128,\n",
       " 23.476134408115207,\n",
       " 34.719710669077756)"
      ]
     },
     "execution_count": 23,
     "metadata": {},
     "output_type": "execute_result"
    }
   ],
   "source": [
    "sm_net.evaluate(k=3.5)"
   ]
  },
  {
   "cell_type": "code",
   "execution_count": 24,
   "id": "ff3b91a2",
   "metadata": {},
   "outputs": [
    {
     "data": {
      "image/png": "[encoded data removed]",
      "text/plain": [
       "<Figure size 432x288 with 2 Axes>"
      ]
     },
     "metadata": {
      "needs_background": "light"
     },
     "output_type": "display_data"
    }
   ],
   "source": [
    "import matplotlib.pyplot as plt\n",
    "\n",
    "fig, ax = plt.subplots()\n",
    "ax2 = ax.twinx()\n",
    "ax.plot(train_loss[20:], label = \"Train Loss\", color = \"orange\")\n",
    "ax2.plot(test_loss[20:], label = \"Test Loss\")\n",
    "ax.legend()\n",
    "ax2.legend()\n",
    "plt.show()"
   ]
  },
  {
   "cell_type": "markdown",
   "id": "83a94f58",
   "metadata": {},
   "source": [
    "# Test"
   ]
  },
  {
   "cell_type": "code",
   "execution_count": 25,
   "id": "93cc1875",
   "metadata": {},
   "outputs": [],
   "source": [
    "# import matplotlib.pyplot as plt\n",
    "# import torch"
   ]
  },
  {
   "cell_type": "code",
   "execution_count": 26,
   "id": "fd850677",
   "metadata": {},
   "outputs": [],
   "source": [
    "# sm_net = torch.load(\"./pretrained/rating.pth\")"
   ]
  },
  {
   "cell_type": "code",
   "execution_count": 27,
   "id": "66873ba8",
   "metadata": {},
   "outputs": [],
   "source": [
    "# prs = []\n",
    "# rec = []\n",
    "# f1 = []\n",
    "# loss = []\n",
    "\n",
    "# for i in np.arange(3, 4, 0.1):\n",
    "#     l, p, r, f, _, _, _ = sm_net.evaluate(i)\n",
    "#     prs.append(p)\n",
    "#     rec.append(r)\n",
    "#     f1.append(f)\n",
    "#     loss.append(l)\n",
    "    \n",
    "# plt.plot(prs, label = \"Test Precision\")\n",
    "# plt.plot(rec, label = \"Test Recall\")\n",
    "# plt.plot(f1, label = \"Test F1\")\n",
    "\n",
    "# plt.legend()\n",
    "# plt.show()"
   ]
  },
  {
   "cell_type": "code",
   "execution_count": 28,
   "id": "1ae1406a",
   "metadata": {},
   "outputs": [],
   "source": [
    "# prs"
   ]
  },
  {
   "cell_type": "code",
   "execution_count": 29,
   "id": "6668cb64",
   "metadata": {},
   "outputs": [],
   "source": [
    "# rec"
   ]
  },
  {
   "cell_type": "code",
   "execution_count": 30,
   "id": "e350caa6",
   "metadata": {},
   "outputs": [],
   "source": [
    "# loss"
   ]
  }
 ],
 "metadata": {
  "kernelspec": {
   "display_name": "Python 3",
   "language": "python",
   "name": "python3"
  },
  "language_info": {
   "codemirror_mode": {
    "name": "ipython",
    "version": 3
   },
   "file_extension": ".py",
   "mimetype": "text/x-python",
   "name": "python",
   "nbconvert_exporter": "python",
   "pygments_lexer": "ipython3",
   "version": "3.9.7"
  }
 },
 "nbformat": 4,
 "nbformat_minor": 5
}
