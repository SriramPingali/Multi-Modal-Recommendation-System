{
 "cells": [
  {
   "cell_type": "markdown",
   "id": "e81a799e",
   "metadata": {},
   "source": [
    "# Setup"
   ]
  },
  {
   "cell_type": "code",
   "execution_count": 1,
   "id": "8278cdbd",
   "metadata": {},
   "outputs": [],
   "source": [
    "import os\n",
    "os.environ[\"CUDA_VISIBLE_DEVICES\"]=\"2\"\n",
    "os.environ[\"CUDA_LAUNCH_BLOCKING\"]=\"1, 2, 3, 4\""
   ]
  },
  {
   "cell_type": "code",
   "execution_count": 2,
   "id": "7c7e42ec",
   "metadata": {},
   "outputs": [],
   "source": [
    "import numpy as np\n",
    "import pandas as pd\n",
    "\n",
    "from sklearn.metrics.pairwise import cosine_similarity"
   ]
  },
  {
   "cell_type": "code",
   "execution_count": 3,
   "id": "664689e7",
   "metadata": {},
   "outputs": [],
   "source": [
    "import torch\n",
    "from sklearn.preprocessing import normalize\n",
    "from torch.utils.data import Dataset, DataLoader\n",
    "from torchsampler import ImbalancedDatasetSampler\n",
    "from sklearn.metrics.pairwise import cosine_similarity\n",
    "from sklearn.metrics import confusion_matrix, classification_report\n",
    "from sklearn.metrics import f1_score, precision_score, recall_score"
   ]
  },
  {
   "cell_type": "markdown",
   "id": "b78a5e77",
   "metadata": {},
   "source": [
    "# Import Data"
   ]
  },
  {
   "cell_type": "code",
   "execution_count": 4,
   "id": "9722c3d5",
   "metadata": {},
   "outputs": [],
   "source": [
    "items = pd.read_csv(\"../Datasets/ml-100k/Text/items.csv\")\n",
    "\n",
    "r_cols = ['user_id', 'movie_id', 'rating', 'unix_timestamp']\n",
    "ratings = pd.read_csv('../Datasets/ml-100k/Text/u1.base', sep='\\t', names=r_cols,encoding='latin-1')"
   ]
  },
  {
   "cell_type": "code",
   "execution_count": 5,
   "id": "c22e3ddb",
   "metadata": {},
   "outputs": [],
   "source": [
    "# n_users = ratings.user_id.unique().shape[0]\n",
    "# n_items = ratings.movie_id.unique().shape[0]\n",
    "n_users = 943\n",
    "n_items = 1682"
   ]
  },
  {
   "cell_type": "code",
   "execution_count": 6,
   "id": "5b685e57",
   "metadata": {},
   "outputs": [],
   "source": [
    "data_matrix = np.zeros((n_users, n_items))\n",
    "for line in ratings.itertuples():\n",
    "    data_matrix[line[1]-1, line[2]-1] = line[3]"
   ]
  },
  {
   "cell_type": "code",
   "execution_count": 7,
   "id": "c796e11e",
   "metadata": {},
   "outputs": [],
   "source": [
    "data_matrix_emp = data_matrix.copy()\n",
    "data_matrix_emp[data_matrix < 4] = 0\n",
    "data_matrix_emp[data_matrix >= 4]= 1 "
   ]
  },
  {
   "cell_type": "code",
   "execution_count": 8,
   "id": "6af6b629",
   "metadata": {},
   "outputs": [],
   "source": [
    "train_indices = list(zip(*(np.where(data_matrix != 0))))"
   ]
  },
  {
   "cell_type": "code",
   "execution_count": 9,
   "id": "70370799",
   "metadata": {},
   "outputs": [
    {
     "data": {
      "text/plain": [
       "80000"
      ]
     },
     "execution_count": 9,
     "metadata": {},
     "output_type": "execute_result"
    }
   ],
   "source": [
    "len(train_indices)"
   ]
  },
  {
   "cell_type": "markdown",
   "id": "2872cc1c",
   "metadata": {},
   "source": [
    "# Siamese network"
   ]
  },
  {
   "cell_type": "markdown",
   "id": "2b5667aa",
   "metadata": {},
   "source": [
    "## Data loader"
   ]
  },
  {
   "cell_type": "code",
   "execution_count": 10,
   "id": "bb574d1d",
   "metadata": {},
   "outputs": [
    {
     "data": {
      "text/plain": [
       "True"
      ]
     },
     "execution_count": 10,
     "metadata": {},
     "output_type": "execute_result"
    }
   ],
   "source": [
    "torch.cuda.is_available()"
   ]
  },
  {
   "cell_type": "code",
   "execution_count": 11,
   "id": "04ff6a63",
   "metadata": {},
   "outputs": [
    {
     "data": {
      "text/plain": [
       "'1.10.1'"
      ]
     },
     "execution_count": 11,
     "metadata": {},
     "output_type": "execute_result"
    }
   ],
   "source": [
    "torch.__version__"
   ]
  },
  {
   "cell_type": "code",
   "execution_count": 12,
   "id": "8d03bedb",
   "metadata": {},
   "outputs": [],
   "source": [
    "items_csv = \"../Datasets/ml-100k/Text/items.csv\"\n",
    "train_ratings = \"../Datasets/ml-100k/Text/u1.base\"\n",
    "test_ratings = \"../Datasets/ml-100k/Text/u1.test\"\n",
    "\n",
    "item_path = \"../Datasets/ml-100k/\""
   ]
  },
  {
   "cell_type": "code",
   "execution_count": 13,
   "id": "dfcccde0",
   "metadata": {},
   "outputs": [],
   "source": [
    "# cosine_similarity(np.nan_to_num(pd.read_csv(item_path)))"
   ]
  },
  {
   "cell_type": "code",
   "execution_count": 14,
   "id": "d8ac9dae",
   "metadata": {},
   "outputs": [],
   "source": [
    "device = torch.device(\"cuda:0\" if torch.cuda.is_available() else \"cpu\")"
   ]
  },
  {
   "cell_type": "code",
   "execution_count": 15,
   "id": "10b5908b",
   "metadata": {},
   "outputs": [],
   "source": [
    "class MovielensDataset(Dataset):\n",
    "    def __init__(self, ratings = train_ratings, item_path = item_path, device = device):\n",
    "        self.video_embeddings = pd.read_csv(item_path + \"Video/embeddings.csv\").to_numpy()\n",
    "        self.audio_embeddings = pd.read_csv(item_path + \"Audio/embeddings.csv\").to_numpy()\n",
    "        self.text_embeddings = pd.read_csv(item_path + \"Meta/embeddings.csv\").to_numpy()\n",
    "        self.ratings = pd.read_csv(ratings, sep='\\t', \n",
    "                                   names=['user_id', 'movie_id', 'rating', 'unix_timestamp'],encoding='latin-1')\n",
    "        self.indices = None\n",
    "        self.device = device\n",
    "        self.data = None\n",
    "        self.n_users = None\n",
    "        self.n_items = None\n",
    "        self.fill_ratings()\n",
    "        self.embeddings()\n",
    "    \n",
    "    def fill_ratings(self, threshold=4):\n",
    "        self.n_users = self.ratings.user_id.unique().shape[0]\n",
    "        self.n_items = self.ratings.movie_id.unique().shape[0]\n",
    "        \n",
    "        self.data = np.zeros((n_users, n_items))\n",
    "        for line in self.ratings.itertuples():\n",
    "            self.data[line[1]-1, line[2]-1] = line[3]\n",
    "            \n",
    "        self.indices = list(zip(*(np.where(self.data != 0))))\n",
    "            \n",
    "    def embeddings(self):\n",
    "        self.audio_embeddings = np.nan_to_num(self.audio_embeddings)\n",
    "        self.video_embeddings = np.nan_to_num(self.video_embeddings)\n",
    "        self.audio_embeddings = normalize(self.audio_embeddings, axis = 1)\n",
    "#         self.item_embeddings = np.append(data_matrix.T, self.item_embeddings, axis = 1)\n",
    "        self.user_embeddings = data_matrix\n",
    "        self.item_embeddings = data_matrix.T\n",
    "        self.video_embedding_size = self.video_embeddings.shape[1]\n",
    "        self.audio_embedding_size = self.audio_embeddings.shape[1]\n",
    "        self.text_embedding_size = self.text_embeddings.shape[1]\n",
    "        self.user_embedding_size = self.user_embeddings.shape[1]\n",
    "        self.item_embedding_size = self.item_embeddings.shape[1]\n",
    "        \n",
    "    def __len__(self):\n",
    "        return(len(self.indices))\n",
    "    \n",
    "    def __getitem__(self, idx):\n",
    "        user = self.indices[idx][0]\n",
    "        item = self.indices[idx][1]\n",
    "\n",
    "        xu = torch.from_numpy(self.user_embeddings[user]).to(self.device)\n",
    "        xv = torch.from_numpy(self.video_embeddings[item]).to(self.device)\n",
    "        xa = torch.from_numpy(self.audio_embeddings[item]).to(self.device)\n",
    "        xt = torch.from_numpy(self.text_embeddings[item]).to(self.device)\n",
    "        xi = torch.from_numpy(self.item_embeddings[item]).to(self.device)\n",
    "        \n",
    "        y = self.data[user][item]\n",
    "        return(xu.float(), [xv.float(), xa.float(), xt.float(), xi.float()], int(y))"
   ]
  },
  {
   "cell_type": "code",
   "execution_count": 16,
   "id": "75787e1b",
   "metadata": {},
   "outputs": [
    {
     "name": "stderr",
     "output_type": "stream",
     "text": [
      "/home/sriram_1801cs37/anaconda3/envs/pytorch/lib/python3.9/site-packages/numpy/core/fromnumeric.py:86: RuntimeWarning: overflow encountered in reduce\n",
      "  return ufunc.reduce(obj, axis, dtype, out, **passkwargs)\n",
      "/home/sriram_1801cs37/anaconda3/envs/pytorch/lib/python3.9/site-packages/numpy/core/fromnumeric.py:86: RuntimeWarning: invalid value encountered in reduce\n",
      "  return ufunc.reduce(obj, axis, dtype, out, **passkwargs)\n",
      "/home/sriram_1801cs37/anaconda3/envs/pytorch/lib/python3.9/site-packages/numpy/core/fromnumeric.py:86: RuntimeWarning: overflow encountered in reduce\n",
      "  return ufunc.reduce(obj, axis, dtype, out, **passkwargs)\n",
      "/home/sriram_1801cs37/anaconda3/envs/pytorch/lib/python3.9/site-packages/numpy/core/fromnumeric.py:86: RuntimeWarning: invalid value encountered in reduce\n",
      "  return ufunc.reduce(obj, axis, dtype, out, **passkwargs)\n"
     ]
    }
   ],
   "source": [
    "train_dataset = MovielensDataset(ratings = train_ratings)\n",
    "test_dataset = MovielensDataset(ratings = test_ratings)"
   ]
  },
  {
   "cell_type": "code",
   "execution_count": 17,
   "id": "78f831ef",
   "metadata": {},
   "outputs": [],
   "source": [
    "target = [int(data_matrix[train_dataset.indices[i][0]][train_dataset.indices[i][1]]) - 1 for i in range(len(train_dataset))]"
   ]
  },
  {
   "cell_type": "code",
   "execution_count": 18,
   "id": "e308543e",
   "metadata": {},
   "outputs": [],
   "source": [
    "class_sample_count = np.unique(data_matrix, return_counts=True)[1][1::]\n",
    "\n",
    "weights = 1 / torch.Tensor(class_sample_count)\n",
    "weights = weights.double()\n",
    "weights_all = weights[target]"
   ]
  },
  {
   "cell_type": "code",
   "execution_count": 19,
   "id": "8256cc26",
   "metadata": {},
   "outputs": [],
   "source": [
    "sampler = torch.utils.data.sampler.WeightedRandomSampler(weights_all, len(weights_all))"
   ]
  },
  {
   "cell_type": "code",
   "execution_count": 20,
   "id": "50978008",
   "metadata": {},
   "outputs": [],
   "source": [
    "trainloader = DataLoader(train_dataset, batch_size = 30000, shuffle = True)\n",
    "testloader = DataLoader(test_dataset, batch_size = 20000, shuffle = False)"
   ]
  },
  {
   "cell_type": "markdown",
   "id": "61514b50",
   "metadata": {},
   "source": [
    "## Architecture"
   ]
  },
  {
   "cell_type": "code",
   "execution_count": 21,
   "id": "d401cca6",
   "metadata": {},
   "outputs": [],
   "source": [
    "from tqdm import tqdm\n",
    "import torch.nn as nn\n",
    "import torch.optim as optim\n",
    "import torch.nn.functional as F\n",
    "from collections import OrderedDict"
   ]
  },
  {
   "cell_type": "code",
   "execution_count": 22,
   "id": "94dffab8",
   "metadata": {},
   "outputs": [],
   "source": [
    "from ml_metrics import mapk\n",
    "from recmetrics import mark"
   ]
  },
  {
   "cell_type": "code",
   "execution_count": 23,
   "id": "26abef63",
   "metadata": {},
   "outputs": [],
   "source": [
    "class SiameseNet(nn.Module):\n",
    "    def __init__(self, device = device):\n",
    "        super(SiameseNet, self).__init__()\n",
    "        self.encoder_user = nn.Sequential(OrderedDict([\n",
    "            ('linr1', nn.Linear(train_dataset.user_embedding_size, 1024)),\n",
    "            ('relu1', nn.LeakyReLU()),\n",
    "            ('linr2', nn.Linear(1024, 200)),\n",
    "            ('relu2', nn.LeakyReLU()),\n",
    "#             ('linr3', nn.Linear(800, 500)),\n",
    "#             ('relu3', nn.LeakyReLU()),\n",
    "#             ('linr4', nn.Linear(500, 600)),\n",
    "#             ('relu4', nn.LeakyReLU()),\n",
    "        ]))\n",
    "        \n",
    "        self.encoder_item = nn.Sequential(OrderedDict([\n",
    "            ('linr1', nn.Linear(train_dataset.item_embedding_size, 256)),\n",
    "            ('relu1', nn.Sigmoid()),\n",
    "            ('linr2', nn.Linear(256, 200)),\n",
    "            ('relu2', nn.LeakyReLU()),\n",
    "        ]))\n",
    "        \n",
    "        self.encoder_video = nn.Sequential(OrderedDict([\n",
    "            ('linr1', nn.Linear(train_dataset.video_embedding_size, 1600)),\n",
    "            ('relu1', nn.Sigmoid()),\n",
    "            ('linr2', nn.Linear(1600, 1000)),\n",
    "            ('relu2', nn.Sigmoid()),\n",
    "            ('linr3', nn.Linear(1000, 500)),\n",
    "            ('relu3', nn.LeakyReLU()),\n",
    "            ('linr4', nn.Linear(500, 200)),\n",
    "            ('relu4', nn.LeakyReLU()),\n",
    "        ]))\n",
    "        \n",
    "        self.encoder_audio = nn.Sequential(OrderedDict([\n",
    "            ('linr1', nn.Linear(train_dataset.audio_embedding_size, 256)),\n",
    "            ('relu1', nn.Sigmoid()),\n",
    "            ('linr2', nn.Linear(256, 200)),\n",
    "            ('relu2', nn.LeakyReLU()),\n",
    "        ]))\n",
    "        \n",
    "        self.encoder_text = nn.Sequential(OrderedDict([\n",
    "            ('linr1', nn.Linear(train_dataset.text_embedding_size, 100)),\n",
    "            ('relu1', nn.LeakyReLU()),\n",
    "            ('linr2', nn.Linear(100, 200)),\n",
    "            ('relu2', nn.LeakyReLU()),\n",
    "        ]))\n",
    "        \n",
    "        self.siamese = nn.Sequential(OrderedDict([\n",
    "            ('linr1', nn.Linear(200, 512)),\n",
    "            ('relu1', nn.LeakyReLU()),\n",
    "            ('linr2', nn.Linear(512, 256)),\n",
    "            ('relu2', nn.LeakyReLU()),\n",
    "            ('linr3', nn.Linear(256, 100)),\n",
    "            ('relu3', nn.LeakyReLU()),\n",
    "        ]))\n",
    "        \n",
    "        self.ffn = nn.Sequential(OrderedDict([\n",
    "            ('linr1', nn.Linear(200, 164)),\n",
    "            ('actv1', nn.LeakyReLU()),\n",
    "            ('linr2', nn.Linear(164, 50)),\n",
    "            ('actv2', nn.LeakyReLU()),\n",
    "            ('linr4', nn.Linear(50, 1)),\n",
    "        ]))\n",
    "        \n",
    "        self.device = device\n",
    "        self.encoder_user.apply(self.init_weights)\n",
    "        self.encoder_item.apply(self.init_weights)\n",
    "        self.encoder_video.apply(self.init_weights)\n",
    "        self.encoder_audio.apply(self.init_weights)\n",
    "        self.encoder_text.apply(self.init_weights)\n",
    "        self.siamese.apply(self.init_weights)\n",
    "        self.ffn.apply(self.init_weights)\n",
    "        \n",
    "    def init_weights(self, m):\n",
    "        if isinstance(m, nn.Linear):\n",
    "            nn.init.kaiming_normal_(m.weight)\n",
    "            m.bias.data.fill_(0.01)\n",
    "        \n",
    "    def forward(self, x1, x2):\n",
    "        outu = self.encoder_user(x1)\n",
    "        outr = self.encoder_item(x2[3])\n",
    "        outv = self.encoder_video(x2[0])\n",
    "        outa = self.encoder_audio(x2[1])\n",
    "        outt = self.encoder_text(x2[2])\n",
    "#         outi = torch.cat((outt), axis=1)\n",
    "        outi = outt\n",
    "        out1 = self.siamese(outu)\n",
    "        out2 = self.siamese(outi)\n",
    "        diff = torch.cat((out1, out2), axis=1)\n",
    "        out = self.ffn(diff)\n",
    "        return(out, outu, outi)\n",
    "    \n",
    "    def fit(self, trainloader = trainloader, \n",
    "            testloader = testloader, epochs = 200):\n",
    "        self.criterion_rate = nn.MSELoss()\n",
    "        self.criterion_embd = nn.CosineEmbeddingLoss()\n",
    "        self.optimizer = optim.Adam(self.parameters(), lr = 5e-4, weight_decay = 1e-4)\n",
    "        \n",
    "        train_loss = []\n",
    "        train_f1 = []\n",
    "        test_loss = []\n",
    "        test_f1 = []\n",
    "        for epoch in range(epochs):\n",
    "            running_loss = 0.0\n",
    "            running_loss_1 = 0.0\n",
    "            \n",
    "            for i, data in tqdm(enumerate(trainloader)):\n",
    "                self.train()\n",
    "                x1, x2, y = data\n",
    "                y_flt = y.type(torch.FloatTensor).to(device)\n",
    "                y_lng = torch.div(y, 4, rounding_mode=\"floor\").to(device)\n",
    "                self.optimizer.zero_grad()\n",
    "                reg, outu, outi = self.forward(x1, x2)\n",
    "                loss_1 = self.criterion_rate(reg.squeeze(), y_flt)\n",
    "                loss_2 = self.criterion_embd(outu, outi, y_lng * 2 - 1)\n",
    "                loss = loss_1 + loss_2 \n",
    "                loss.backward()\n",
    "                self.optimizer.step()\n",
    "\n",
    "                running_loss_1 += torch.sqrt(loss_1)\n",
    "                running_loss += loss\n",
    "            vl, vp, vr, vf, tp, tr, tf = self.evaluate()\n",
    "            print('Epoch-%d: Loss = %.3f\\nTrain RMSE = %.3f||Train Precision = %.3f||Train Recall = %.3f\\nTest RMSE = %.3f || Test Precision = %.3f|| Test Recall = %.3f'%\n",
    "                  (epoch + 1, running_loss / i, running_loss_1 / i, \n",
    "                   tp, tr, vl, vp, vr))\n",
    "            train_loss.append((running_loss_1 / i).cpu().detach().numpy())\n",
    "            test_loss.append(vl.cpu().detach().numpy())\n",
    "            train_f1.append(tf)\n",
    "            test_f1.append(vf)\n",
    "        return(train_loss, test_loss, train_f1, test_f1)\n",
    "            \n",
    "    def evaluate(self, k = 3.35):\n",
    "        self.eval()\n",
    "        with torch.no_grad():\n",
    "            valdata = next(iter(testloader))\n",
    "            x1, x2, y = valdata\n",
    "            y_flt = y.type(torch.FloatTensor).to(device)\n",
    "            y_lng = torch.div(y, 4, rounding_mode=\"floor\").to(device)\n",
    "            otpt = self.forward(x1, x2)\n",
    "            print(otpt[0])\n",
    "            pred = (otpt[0] > k).float()\n",
    "            vl = torch.sqrt(self.criterion_rate(otpt[0].squeeze(), y_flt))\n",
    "            vp = precision_score(y_lng.cpu(), pred.cpu())\n",
    "            vr = recall_score(y_lng.cpu(), pred.cpu())\n",
    "            vf = f1_score(y_lng.cpu(), pred.cpu())\n",
    "            print(classification_report(y_lng.cpu(), pred.cpu(),\n",
    "                    target_names = [\"0\", \"1\"]))\n",
    "            \n",
    "            traindata = next(iter(trainloader))\n",
    "            x1, x2, y = traindata\n",
    "            y_flt = y.type(torch.FloatTensor).to(device)\n",
    "            y_lng = torch.div(y, 4, rounding_mode=\"floor\").to(device)\n",
    "            otpt = self.forward(x1, x2)\n",
    "            pred = (otpt[0] > k).float()\n",
    "            tp = precision_score(y_lng.cpu(), pred.cpu())\n",
    "            tr = recall_score(y_lng.cpu(), pred.cpu())\n",
    "            tf = f1_score(y_lng.cpu(), pred.cpu())\n",
    "        return(vl, vp*100, vr*100, vf*100, tp*100, tr*100, tf*100)"
   ]
  },
  {
   "cell_type": "code",
   "execution_count": 24,
   "id": "595669dc",
   "metadata": {
    "scrolled": true
   },
   "outputs": [
    {
     "data": {
      "text/plain": [
       "SiameseNet(\n",
       "  (encoder_user): Sequential(\n",
       "    (linr1): Linear(in_features=1682, out_features=1024, bias=True)\n",
       "    (relu1): LeakyReLU(negative_slope=0.01)\n",
       "    (linr2): Linear(in_features=1024, out_features=200, bias=True)\n",
       "    (relu2): LeakyReLU(negative_slope=0.01)\n",
       "  )\n",
       "  (encoder_item): Sequential(\n",
       "    (linr1): Linear(in_features=943, out_features=256, bias=True)\n",
       "    (relu1): Sigmoid()\n",
       "    (linr2): Linear(in_features=256, out_features=200, bias=True)\n",
       "    (relu2): LeakyReLU(negative_slope=0.01)\n",
       "  )\n",
       "  (encoder_video): Sequential(\n",
       "    (linr1): Linear(in_features=2048, out_features=1600, bias=True)\n",
       "    (relu1): Sigmoid()\n",
       "    (linr2): Linear(in_features=1600, out_features=1000, bias=True)\n",
       "    (relu2): Sigmoid()\n",
       "    (linr3): Linear(in_features=1000, out_features=500, bias=True)\n",
       "    (relu3): LeakyReLU(negative_slope=0.01)\n",
       "    (linr4): Linear(in_features=500, out_features=200, bias=True)\n",
       "    (relu4): LeakyReLU(negative_slope=0.01)\n",
       "  )\n",
       "  (encoder_audio): Sequential(\n",
       "    (linr1): Linear(in_features=128, out_features=256, bias=True)\n",
       "    (relu1): Sigmoid()\n",
       "    (linr2): Linear(in_features=256, out_features=200, bias=True)\n",
       "    (relu2): LeakyReLU(negative_slope=0.01)\n",
       "  )\n",
       "  (encoder_text): Sequential(\n",
       "    (linr1): Linear(in_features=1220, out_features=100, bias=True)\n",
       "    (relu1): LeakyReLU(negative_slope=0.01)\n",
       "    (linr2): Linear(in_features=100, out_features=200, bias=True)\n",
       "    (relu2): LeakyReLU(negative_slope=0.01)\n",
       "  )\n",
       "  (siamese): Sequential(\n",
       "    (linr1): Linear(in_features=200, out_features=512, bias=True)\n",
       "    (relu1): LeakyReLU(negative_slope=0.01)\n",
       "    (linr2): Linear(in_features=512, out_features=256, bias=True)\n",
       "    (relu2): LeakyReLU(negative_slope=0.01)\n",
       "    (linr3): Linear(in_features=256, out_features=100, bias=True)\n",
       "    (relu3): LeakyReLU(negative_slope=0.01)\n",
       "  )\n",
       "  (ffn): Sequential(\n",
       "    (linr1): Linear(in_features=200, out_features=164, bias=True)\n",
       "    (actv1): LeakyReLU(negative_slope=0.01)\n",
       "    (linr2): Linear(in_features=164, out_features=50, bias=True)\n",
       "    (actv2): LeakyReLU(negative_slope=0.01)\n",
       "    (linr4): Linear(in_features=50, out_features=1, bias=True)\n",
       "  )\n",
       ")"
      ]
     },
     "execution_count": 24,
     "metadata": {},
     "output_type": "execute_result"
    }
   ],
   "source": [
    "sm_net = SiameseNet()\n",
    "sm_net.to(device)"
   ]
  },
  {
   "cell_type": "code",
   "execution_count": null,
   "id": "8420b343",
   "metadata": {},
   "outputs": [
    {
     "name": "stderr",
     "output_type": "stream",
     "text": [
      "3it [00:25,  8.64s/it]\n"
     ]
    },
    {
     "name": "stdout",
     "output_type": "stream",
     "text": [
      "tensor([[1.6902],\n",
      "        [1.8574],\n",
      "        [1.6902],\n",
      "        ...,\n",
      "        [2.1537],\n",
      "        [2.0538],\n",
      "        [2.0912]], device='cuda:0')\n",
      "              precision    recall  f1-score   support\n",
      "\n",
      "           0       0.44      0.94      0.60      8765\n",
      "           1       0.55      0.06      0.10     11235\n",
      "\n",
      "    accuracy                           0.44     20000\n",
      "   macro avg       0.49      0.50      0.35     20000\n",
      "weighted avg       0.50      0.44      0.32     20000\n",
      "\n",
      "Epoch-1: Loss = 10.919\n",
      "Train RMSE = 3.746||Train Precision = 57.072||Train Recall = 14.610\n",
      "Test RMSE = 1.854 || Test Precision = 55.095|| Test Recall = 5.679\n"
     ]
    },
    {
     "name": "stderr",
     "output_type": "stream",
     "text": [
      "3it [00:21,  7.24s/it]\n"
     ]
    },
    {
     "name": "stdout",
     "output_type": "stream",
     "text": [
      "tensor([[3.1411],\n",
      "        [3.3875],\n",
      "        [3.1411],\n",
      "        ...,\n",
      "        [3.3955],\n",
      "        [3.3239],\n",
      "        [3.2850]], device='cuda:0')\n",
      "              precision    recall  f1-score   support\n",
      "\n",
      "           0       0.45      0.50      0.48      8765\n",
      "           1       0.58      0.53      0.55     11235\n",
      "\n",
      "    accuracy                           0.52     20000\n",
      "   macro avg       0.52      0.52      0.51     20000\n",
      "weighted avg       0.52      0.52      0.52     20000\n",
      "\n",
      "Epoch-2: Loss = 4.308\n",
      "Train RMSE = 2.294||Train Precision = 56.706||Train Recall = 67.604\n",
      "Test RMSE = 1.449 || Test Precision = 57.666|| Test Recall = 53.164\n"
     ]
    },
    {
     "name": "stderr",
     "output_type": "stream",
     "text": [
      "3it [00:21,  7.23s/it]\n"
     ]
    },
    {
     "name": "stdout",
     "output_type": "stream",
     "text": [
      "tensor([[2.7836],\n",
      "        [3.2609],\n",
      "        [2.7836],\n",
      "        ...,\n",
      "        [3.2724],\n",
      "        [3.4516],\n",
      "        [3.7446]], device='cuda:0')\n",
      "              precision    recall  f1-score   support\n",
      "\n",
      "           0       0.47      0.74      0.57      8765\n",
      "           1       0.63      0.35      0.45     11235\n",
      "\n",
      "    accuracy                           0.52     20000\n",
      "   macro avg       0.55      0.54      0.51     20000\n",
      "weighted avg       0.56      0.52      0.50     20000\n",
      "\n",
      "Epoch-3: Loss = 3.390\n",
      "Train RMSE = 1.973||Train Precision = 63.161||Train Recall = 41.583\n",
      "Test RMSE = 1.323 || Test Precision = 63.054|| Test Recall = 34.802\n"
     ]
    },
    {
     "name": "stderr",
     "output_type": "stream",
     "text": [
      "3it [00:21,  7.19s/it]\n"
     ]
    },
    {
     "name": "stdout",
     "output_type": "stream",
     "text": [
      "tensor([[3.5265],\n",
      "        [4.1390],\n",
      "        [3.5265],\n",
      "        ...,\n",
      "        [3.7262],\n",
      "        [3.9145],\n",
      "        [4.5443]], device='cuda:0')\n",
      "              precision    recall  f1-score   support\n",
      "\n",
      "           0       0.50      0.38      0.43      8765\n",
      "           1       0.59      0.71      0.64     11235\n",
      "\n",
      "    accuracy                           0.56     20000\n",
      "   macro avg       0.55      0.54      0.54     20000\n",
      "weighted avg       0.55      0.56      0.55     20000\n",
      "\n",
      "Epoch-4: Loss = 2.918\n",
      "Train RMSE = 1.789||Train Precision = 58.587||Train Recall = 79.369\n",
      "Test RMSE = 1.219 || Test Precision = 59.280|| Test Recall = 70.619\n"
     ]
    },
    {
     "name": "stderr",
     "output_type": "stream",
     "text": [
      "3it [00:21,  7.20s/it]\n"
     ]
    },
    {
     "name": "stdout",
     "output_type": "stream",
     "text": [
      "tensor([[3.1355],\n",
      "        [3.7288],\n",
      "        [3.1355],\n",
      "        ...,\n",
      "        [2.9721],\n",
      "        [3.5462],\n",
      "        [4.4331]], device='cuda:0')\n",
      "              precision    recall  f1-score   support\n",
      "\n",
      "           0       0.51      0.65      0.57      8765\n",
      "           1       0.65      0.51      0.57     11235\n",
      "\n",
      "    accuracy                           0.57     20000\n",
      "   macro avg       0.58      0.58      0.57     20000\n",
      "weighted avg       0.59      0.57      0.57     20000\n",
      "\n",
      "Epoch-5: Loss = 2.738\n",
      "Train RMSE = 1.713||Train Precision = 65.086||Train Recall = 55.223\n",
      "Test RMSE = 1.189 || Test Precision = 64.976|| Test Recall = 50.841\n"
     ]
    },
    {
     "name": "stderr",
     "output_type": "stream",
     "text": [
      "3it [00:21,  7.18s/it]\n"
     ]
    },
    {
     "name": "stdout",
     "output_type": "stream",
     "text": [
      "tensor([[3.5794],\n",
      "        [4.1809],\n",
      "        [3.5794],\n",
      "        ...,\n",
      "        [3.0449],\n",
      "        [3.7525],\n",
      "        [4.7063]], device='cuda:0')\n",
      "              precision    recall  f1-score   support\n",
      "\n",
      "           0       0.56      0.41      0.48      8765\n",
      "           1       0.62      0.74      0.68     11235\n",
      "\n",
      "    accuracy                           0.60     20000\n",
      "   macro avg       0.59      0.58      0.58     20000\n",
      "weighted avg       0.59      0.60      0.59     20000\n",
      "\n",
      "Epoch-6: Loss = 2.630\n",
      "Train RMSE = 1.666||Train Precision = 59.997||Train Recall = 80.987\n",
      "Test RMSE = 1.148 || Test Precision = 61.945|| Test Recall = 74.499\n"
     ]
    },
    {
     "name": "stderr",
     "output_type": "stream",
     "text": [
      "3it [00:21,  7.19s/it]\n"
     ]
    },
    {
     "name": "stdout",
     "output_type": "stream",
     "text": [
      "tensor([[3.1750],\n",
      "        [3.7223],\n",
      "        [3.1750],\n",
      "        ...,\n",
      "        [2.7325],\n",
      "        [3.4242],\n",
      "        [4.3755]], device='cuda:0')\n",
      "              precision    recall  f1-score   support\n",
      "\n",
      "           0       0.54      0.62      0.58      8765\n",
      "           1       0.66      0.58      0.62     11235\n",
      "\n",
      "    accuracy                           0.60     20000\n",
      "   macro avg       0.60      0.60      0.60     20000\n",
      "weighted avg       0.61      0.60      0.60     20000\n",
      "\n",
      "Epoch-7: Loss = 2.538\n",
      "Train RMSE = 1.625||Train Precision = 66.803||Train Recall = 60.999\n",
      "Test RMSE = 1.131 || Test Precision = 66.255|| Test Recall = 57.793\n"
     ]
    },
    {
     "name": "stderr",
     "output_type": "stream",
     "text": [
      "3it [00:21,  7.20s/it]\n"
     ]
    },
    {
     "name": "stdout",
     "output_type": "stream",
     "text": [
      "tensor([[3.4598],\n",
      "        [3.9980],\n",
      "        [3.4598],\n",
      "        ...,\n",
      "        [2.9445],\n",
      "        [3.6379],\n",
      "        [4.4898]], device='cuda:0')\n",
      "              precision    recall  f1-score   support\n",
      "\n",
      "           0       0.59      0.42      0.49      8765\n",
      "           1       0.63      0.78      0.70     11235\n",
      "\n",
      "    accuracy                           0.62     20000\n",
      "   macro avg       0.61      0.60      0.59     20000\n",
      "weighted avg       0.62      0.62      0.61     20000\n",
      "\n",
      "Epoch-8: Loss = 2.474\n",
      "Train RMSE = 1.596||Train Precision = 62.333||Train Recall = 81.924\n",
      "Test RMSE = 1.106 || Test Precision = 63.170|| Test Recall = 77.552\n"
     ]
    },
    {
     "name": "stderr",
     "output_type": "stream",
     "text": [
      "3it [00:21,  7.19s/it]\n"
     ]
    },
    {
     "name": "stdout",
     "output_type": "stream",
     "text": [
      "tensor([[3.2722],\n",
      "        [3.7265],\n",
      "        [3.2722],\n",
      "        ...,\n",
      "        [2.8295],\n",
      "        [3.4285],\n",
      "        [4.2127]], device='cuda:0')\n",
      "              precision    recall  f1-score   support\n",
      "\n",
      "           0       0.57      0.57      0.57      8765\n",
      "           1       0.67      0.67      0.67     11235\n",
      "\n",
      "    accuracy                           0.63     20000\n",
      "   macro avg       0.62      0.62      0.62     20000\n",
      "weighted avg       0.63      0.63      0.63     20000\n",
      "\n",
      "Epoch-9: Loss = 2.426\n",
      "Train RMSE = 1.574||Train Precision = 67.475||Train Recall = 68.883\n",
      "Test RMSE = 1.091 || Test Precision = 66.575|| Test Recall = 66.889\n"
     ]
    },
    {
     "name": "stderr",
     "output_type": "stream",
     "text": [
      "3it [00:21,  7.22s/it]\n"
     ]
    },
    {
     "name": "stdout",
     "output_type": "stream",
     "text": [
      "tensor([[3.4747],\n",
      "        [3.8954],\n",
      "        [3.4747],\n",
      "        ...,\n",
      "        [3.0052],\n",
      "        [3.4995],\n",
      "        [4.2232]], device='cuda:0')\n",
      "              precision    recall  f1-score   support\n",
      "\n",
      "           0       0.61      0.46      0.52      8765\n",
      "           1       0.65      0.77      0.70     11235\n",
      "\n",
      "    accuracy                           0.63     20000\n",
      "   macro avg       0.63      0.61      0.61     20000\n",
      "weighted avg       0.63      0.63      0.62     20000\n",
      "\n",
      "Epoch-10: Loss = 2.382\n",
      "Train RMSE = 1.555||Train Precision = 63.736||Train Recall = 80.844\n",
      "Test RMSE = 1.077 || Test Precision = 64.584|| Test Recall = 77.374\n"
     ]
    },
    {
     "name": "stderr",
     "output_type": "stream",
     "text": [
      "3it [00:21,  7.22s/it]\n"
     ]
    },
    {
     "name": "stdout",
     "output_type": "stream",
     "text": [
      "tensor([[3.4052],\n",
      "        [3.7581],\n",
      "        [3.4052],\n",
      "        ...,\n",
      "        [3.0080],\n",
      "        [3.3782],\n",
      "        [4.0526]], device='cuda:0')\n",
      "              precision    recall  f1-score   support\n",
      "\n",
      "           0       0.60      0.55      0.57      8765\n",
      "           1       0.67      0.72      0.69     11235\n",
      "\n",
      "    accuracy                           0.64     20000\n",
      "   macro avg       0.64      0.63      0.63     20000\n",
      "weighted avg       0.64      0.64      0.64     20000\n",
      "\n",
      "Epoch-11: Loss = 2.343\n",
      "Train RMSE = 1.537||Train Precision = 66.834||Train Recall = 74.769\n",
      "Test RMSE = 1.068 || Test Precision = 67.098|| Test Recall = 71.954\n"
     ]
    },
    {
     "name": "stderr",
     "output_type": "stream",
     "text": [
      "3it [00:21,  7.19s/it]\n"
     ]
    },
    {
     "name": "stdout",
     "output_type": "stream",
     "text": [
      "tensor([[3.5380],\n",
      "        [3.8579],\n",
      "        [3.5380],\n",
      "        ...,\n",
      "        [3.1617],\n",
      "        [3.4405],\n",
      "        [4.0763]], device='cuda:0')\n",
      "              precision    recall  f1-score   support\n",
      "\n",
      "           0       0.63      0.50      0.56      8765\n",
      "           1       0.66      0.77      0.71     11235\n",
      "\n",
      "    accuracy                           0.65     20000\n",
      "   macro avg       0.64      0.63      0.63     20000\n",
      "weighted avg       0.65      0.65      0.64     20000\n",
      "\n",
      "Epoch-12: Loss = 2.315\n",
      "Train RMSE = 1.525||Train Precision = 65.755||Train Recall = 79.863\n",
      "Test RMSE = 1.059 || Test Precision = 66.269|| Test Recall = 76.591\n"
     ]
    },
    {
     "name": "stderr",
     "output_type": "stream",
     "text": [
      "3it [00:21,  7.24s/it]\n"
     ]
    },
    {
     "name": "stdout",
     "output_type": "stream",
     "text": [
      "tensor([[3.5374],\n",
      "        [3.8305],\n",
      "        [3.5374],\n",
      "        ...,\n",
      "        [3.2181],\n",
      "        [3.4463],\n",
      "        [4.0358]], device='cuda:0')\n",
      "              precision    recall  f1-score   support\n",
      "\n",
      "           0       0.63      0.53      0.57      8765\n",
      "           1       0.67      0.76      0.71     11235\n",
      "\n",
      "    accuracy                           0.66     20000\n",
      "   macro avg       0.65      0.64      0.64     20000\n",
      "weighted avg       0.65      0.66      0.65     20000\n",
      "\n",
      "Epoch-13: Loss = 2.291\n",
      "Train RMSE = 1.514||Train Precision = 66.761||Train Recall = 77.922\n",
      "Test RMSE = 1.051 || Test Precision = 67.156|| Test Recall = 75.745\n"
     ]
    },
    {
     "name": "stderr",
     "output_type": "stream",
     "text": [
      "3it [00:21,  7.22s/it]\n"
     ]
    },
    {
     "name": "stdout",
     "output_type": "stream",
     "text": [
      "tensor([[3.6172],\n",
      "        [3.8995],\n",
      "        [3.6172],\n",
      "        ...,\n",
      "        [3.3159],\n",
      "        [3.4891],\n",
      "        [4.0182]], device='cuda:0')\n",
      "              precision    recall  f1-score   support\n",
      "\n",
      "           0       0.64      0.51      0.57      8765\n",
      "           1       0.67      0.78      0.72     11235\n",
      "\n",
      "    accuracy                           0.66     20000\n",
      "   macro avg       0.66      0.64      0.64     20000\n",
      "weighted avg       0.66      0.66      0.65     20000\n",
      "\n",
      "Epoch-14: Loss = 2.266\n",
      "Train RMSE = 1.503||Train Precision = 66.200||Train Recall = 80.533\n",
      "Test RMSE = 1.044 || Test Precision = 67.041|| Test Recall = 78.015\n"
     ]
    },
    {
     "name": "stderr",
     "output_type": "stream",
     "text": [
      "3it [00:21,  7.20s/it]\n"
     ]
    },
    {
     "name": "stdout",
     "output_type": "stream",
     "text": [
      "tensor([[3.6179],\n",
      "        [3.8948],\n",
      "        [3.6179],\n",
      "        ...,\n",
      "        [3.3469],\n",
      "        [3.4871],\n",
      "        [3.9331]], device='cuda:0')\n",
      "              precision    recall  f1-score   support\n",
      "\n",
      "           0       0.65      0.52      0.58      8765\n",
      "           1       0.68      0.78      0.72     11235\n",
      "\n",
      "    accuracy                           0.67     20000\n",
      "   macro avg       0.66      0.65      0.65     20000\n",
      "weighted avg       0.66      0.67      0.66     20000\n",
      "\n",
      "Epoch-15: Loss = 2.246\n",
      "Train RMSE = 1.494||Train Precision = 66.912||Train Recall = 79.523\n",
      "Test RMSE = 1.038 || Test Precision = 67.730|| Test Recall = 77.828\n"
     ]
    },
    {
     "name": "stderr",
     "output_type": "stream",
     "text": [
      "3it [00:21,  7.19s/it]\n"
     ]
    },
    {
     "name": "stdout",
     "output_type": "stream",
     "text": [
      "tensor([[3.6468],\n",
      "        [3.9313],\n",
      "        [3.6468],\n",
      "        ...,\n",
      "        [3.3998],\n",
      "        [3.5255],\n",
      "        [3.8651]], device='cuda:0')\n",
      "              precision    recall  f1-score   support\n",
      "\n",
      "           0       0.66      0.51      0.58      8765\n",
      "           1       0.68      0.79      0.73     11235\n",
      "\n",
      "    accuracy                           0.67     20000\n",
      "   macro avg       0.67      0.65      0.65     20000\n",
      "weighted avg       0.67      0.67      0.66     20000\n",
      "\n",
      "Epoch-16: Loss = 2.227\n",
      "Train RMSE = 1.486||Train Precision = 66.919||Train Recall = 81.331\n",
      "Test RMSE = 1.032 || Test Precision = 67.503|| Test Recall = 79.243\n"
     ]
    },
    {
     "name": "stderr",
     "output_type": "stream",
     "text": [
      "3it [00:21,  7.20s/it]\n"
     ]
    },
    {
     "name": "stdout",
     "output_type": "stream",
     "text": [
      "tensor([[3.5882],\n",
      "        [3.8804],\n",
      "        [3.5882],\n",
      "        ...,\n",
      "        [3.4050],\n",
      "        [3.5405],\n",
      "        [3.7680]], device='cuda:0')\n",
      "              precision    recall  f1-score   support\n",
      "\n",
      "           0       0.65      0.56      0.60      8765\n",
      "           1       0.69      0.77      0.73     11235\n",
      "\n",
      "    accuracy                           0.68     20000\n",
      "   macro avg       0.67      0.66      0.66     20000\n",
      "weighted avg       0.67      0.68      0.67     20000\n",
      "\n",
      "Epoch-17: Loss = 2.209\n",
      "Train RMSE = 1.477||Train Precision = 68.552||Train Recall = 78.191\n",
      "Test RMSE = 1.027 || Test Precision = 68.951|| Test Recall = 76.849\n"
     ]
    },
    {
     "name": "stderr",
     "output_type": "stream",
     "text": [
      "3it [00:21,  7.18s/it]\n"
     ]
    },
    {
     "name": "stdout",
     "output_type": "stream",
     "text": [
      "tensor([[3.6755],\n",
      "        [3.9974],\n",
      "        [3.6755],\n",
      "        ...,\n",
      "        [3.5069],\n",
      "        [3.6727],\n",
      "        [3.7860]], device='cuda:0')\n",
      "              precision    recall  f1-score   support\n",
      "\n",
      "           0       0.68      0.50      0.57      8765\n",
      "           1       0.68      0.81      0.74     11235\n",
      "\n",
      "    accuracy                           0.68     20000\n",
      "   macro avg       0.68      0.66      0.66     20000\n",
      "weighted avg       0.68      0.68      0.67     20000\n",
      "\n",
      "Epoch-18: Loss = 2.188\n",
      "Train RMSE = 1.468||Train Precision = 67.319||Train Recall = 83.352\n",
      "Test RMSE = 1.023 || Test Precision = 67.520|| Test Recall = 81.486\n"
     ]
    },
    {
     "name": "stderr",
     "output_type": "stream",
     "text": [
      "3it [00:21,  7.16s/it]\n"
     ]
    },
    {
     "name": "stdout",
     "output_type": "stream",
     "text": [
      "tensor([[3.5985],\n",
      "        [3.9110],\n",
      "        [3.5985],\n",
      "        ...,\n",
      "        [3.4781],\n",
      "        [3.6378],\n",
      "        [3.6402]], device='cuda:0')\n",
      "              precision    recall  f1-score   support\n",
      "\n",
      "           0       0.66      0.57      0.61      8765\n",
      "           1       0.70      0.77      0.73     11235\n",
      "\n",
      "    accuracy                           0.68     20000\n",
      "   macro avg       0.68      0.67      0.67     20000\n",
      "weighted avg       0.68      0.68      0.68     20000\n",
      "\n",
      "Epoch-19: Loss = 2.174\n",
      "Train RMSE = 1.462||Train Precision = 69.378||Train Recall = 77.350\n",
      "Test RMSE = 1.018 || Test Precision = 69.806|| Test Recall = 76.733\n"
     ]
    },
    {
     "name": "stderr",
     "output_type": "stream",
     "text": [
      "3it [00:21,  7.15s/it]\n"
     ]
    },
    {
     "name": "stdout",
     "output_type": "stream",
     "text": [
      "tensor([[3.6893],\n",
      "        [4.0148],\n",
      "        [3.6893],\n",
      "        ...,\n",
      "        [3.5481],\n",
      "        [3.7275],\n",
      "        [3.6400]], device='cuda:0')\n",
      "              precision    recall  f1-score   support\n",
      "\n",
      "           0       0.68      0.54      0.60      8765\n",
      "           1       0.69      0.80      0.74     11235\n",
      "\n",
      "    accuracy                           0.68     20000\n",
      "   macro avg       0.68      0.67      0.67     20000\n",
      "weighted avg       0.68      0.68      0.68     20000\n",
      "\n",
      "Epoch-20: Loss = 2.154\n",
      "Train RMSE = 1.454||Train Precision = 68.290||Train Recall = 81.197\n",
      "Test RMSE = 1.013 || Test Precision = 68.894|| Test Recall = 80.036\n"
     ]
    },
    {
     "name": "stderr",
     "output_type": "stream",
     "text": [
      "3it [00:21,  7.16s/it]\n"
     ]
    },
    {
     "name": "stdout",
     "output_type": "stream",
     "text": [
      "tensor([[3.6813],\n",
      "        [3.9966],\n",
      "        [3.6813],\n",
      "        ...,\n",
      "        [3.5507],\n",
      "        [3.7327],\n",
      "        [3.5925]], device='cuda:0')\n",
      "              precision    recall  f1-score   support\n",
      "\n",
      "           0       0.67      0.56      0.61      8765\n",
      "           1       0.70      0.79      0.74     11235\n",
      "\n",
      "    accuracy                           0.69     20000\n",
      "   macro avg       0.68      0.67      0.68     20000\n",
      "weighted avg       0.69      0.69      0.68     20000\n",
      "\n",
      "Epoch-21: Loss = 2.140\n",
      "Train RMSE = 1.448||Train Precision = 69.368||Train Recall = 79.796\n",
      "Test RMSE = 1.009 || Test Precision = 69.710|| Test Recall = 78.638\n"
     ]
    },
    {
     "name": "stderr",
     "output_type": "stream",
     "text": [
      "3it [00:21,  7.14s/it]\n"
     ]
    },
    {
     "name": "stdout",
     "output_type": "stream",
     "text": [
      "tensor([[3.6980],\n",
      "        [4.0066],\n",
      "        [3.6980],\n",
      "        ...,\n",
      "        [3.5880],\n",
      "        [3.7419],\n",
      "        [3.5423]], device='cuda:0')\n",
      "              precision    recall  f1-score   support\n",
      "\n",
      "           0       0.68      0.56      0.62      8765\n",
      "           1       0.70      0.79      0.74     11235\n",
      "\n",
      "    accuracy                           0.69     20000\n",
      "   macro avg       0.69      0.68      0.68     20000\n",
      "weighted avg       0.69      0.69      0.69     20000\n",
      "\n",
      "Epoch-22: Loss = 2.123\n",
      "Train RMSE = 1.440||Train Precision = 69.829||Train Recall = 80.472\n",
      "Test RMSE = 1.005 || Test Precision = 69.888|| Test Recall = 78.852\n"
     ]
    },
    {
     "name": "stderr",
     "output_type": "stream",
     "text": [
      "3it [00:21,  7.15s/it]\n"
     ]
    },
    {
     "name": "stdout",
     "output_type": "stream",
     "text": [
      "tensor([[3.7654],\n",
      "        [4.0600],\n",
      "        [3.7654],\n",
      "        ...,\n",
      "        [3.6385],\n",
      "        [3.7746],\n",
      "        [3.5284]], device='cuda:0')\n",
      "              precision    recall  f1-score   support\n",
      "\n",
      "           0       0.68      0.55      0.61      8765\n",
      "           1       0.70      0.80      0.75     11235\n",
      "\n",
      "    accuracy                           0.69     20000\n",
      "   macro avg       0.69      0.68      0.68     20000\n",
      "weighted avg       0.69      0.69      0.69     20000\n",
      "\n",
      "Epoch-23: Loss = 2.109\n",
      "Train RMSE = 1.435||Train Precision = 69.344||Train Recall = 82.149\n",
      "Test RMSE = 1.001 || Test Precision = 69.677|| Test Recall = 80.134\n"
     ]
    },
    {
     "name": "stderr",
     "output_type": "stream",
     "text": [
      "3it [00:21,  7.13s/it]\n"
     ]
    },
    {
     "name": "stdout",
     "output_type": "stream",
     "text": [
      "tensor([[3.7861],\n",
      "        [4.0658],\n",
      "        [3.7861],\n",
      "        ...,\n",
      "        [3.6657],\n",
      "        [3.7648],\n",
      "        [3.4961]], device='cuda:0')\n",
      "              precision    recall  f1-score   support\n",
      "\n",
      "           0       0.69      0.56      0.62      8765\n",
      "           1       0.70      0.80      0.75     11235\n",
      "\n",
      "    accuracy                           0.70     20000\n",
      "   macro avg       0.69      0.68      0.68     20000\n",
      "weighted avg       0.69      0.70      0.69     20000\n",
      "\n",
      "Epoch-24: Loss = 2.096\n",
      "Train RMSE = 1.429||Train Precision = 70.000||Train Recall = 81.014\n",
      "Test RMSE = 0.998 || Test Precision = 70.072|| Test Recall = 80.027\n"
     ]
    },
    {
     "name": "stderr",
     "output_type": "stream",
     "text": [
      "3it [00:21,  7.14s/it]\n"
     ]
    },
    {
     "name": "stdout",
     "output_type": "stream",
     "text": [
      "tensor([[3.8131],\n",
      "        [4.0779],\n",
      "        [3.8131],\n",
      "        ...,\n",
      "        [3.6880],\n",
      "        [3.7656],\n",
      "        [3.4872]], device='cuda:0')\n",
      "              precision    recall  f1-score   support\n",
      "\n",
      "           0       0.69      0.56      0.62      8765\n",
      "           1       0.70      0.80      0.75     11235\n",
      "\n",
      "    accuracy                           0.70     20000\n",
      "   macro avg       0.70      0.68      0.68     20000\n",
      "weighted avg       0.70      0.70      0.69     20000\n",
      "\n",
      "Epoch-25: Loss = 2.083\n",
      "Train RMSE = 1.424||Train Precision = 69.777||Train Recall = 81.490\n",
      "Test RMSE = 0.995 || Test Precision = 70.034|| Test Recall = 80.463\n"
     ]
    },
    {
     "name": "stderr",
     "output_type": "stream",
     "text": [
      "3it [00:21,  7.15s/it]\n"
     ]
    },
    {
     "name": "stdout",
     "output_type": "stream",
     "text": [
      "tensor([[3.8433],\n",
      "        [4.0938],\n",
      "        [3.8433],\n",
      "        ...,\n",
      "        [3.7101],\n",
      "        [3.7608],\n",
      "        [3.4841]], device='cuda:0')\n",
      "              precision    recall  f1-score   support\n",
      "\n",
      "           0       0.69      0.56      0.62      8765\n",
      "           1       0.70      0.81      0.75     11235\n",
      "\n",
      "    accuracy                           0.70     20000\n",
      "   macro avg       0.70      0.68      0.68     20000\n",
      "weighted avg       0.70      0.70      0.69     20000\n",
      "\n",
      "Epoch-26: Loss = 2.075\n",
      "Train RMSE = 1.421||Train Precision = 69.677||Train Recall = 81.210\n",
      "Test RMSE = 0.993 || Test Precision = 70.121|| Test Recall = 80.774\n"
     ]
    },
    {
     "name": "stderr",
     "output_type": "stream",
     "text": [
      "3it [00:21,  7.12s/it]\n"
     ]
    },
    {
     "name": "stdout",
     "output_type": "stream",
     "text": [
      "tensor([[3.8480],\n",
      "        [4.0863],\n",
      "        [3.8480],\n",
      "        ...,\n",
      "        [3.7325],\n",
      "        [3.7549],\n",
      "        [3.4996]], device='cuda:0')\n",
      "              precision    recall  f1-score   support\n",
      "\n",
      "           0       0.70      0.56      0.62      8765\n",
      "           1       0.70      0.81      0.75     11235\n",
      "\n",
      "    accuracy                           0.70     20000\n",
      "   macro avg       0.70      0.69      0.69     20000\n",
      "weighted avg       0.70      0.70      0.70     20000\n",
      "\n",
      "Epoch-27: Loss = 2.065\n",
      "Train RMSE = 1.417||Train Precision = 69.816||Train Recall = 81.514\n",
      "Test RMSE = 0.991 || Test Precision = 70.319|| Test Recall = 80.765\n"
     ]
    },
    {
     "name": "stderr",
     "output_type": "stream",
     "text": [
      "3it [00:21,  7.13s/it]\n"
     ]
    },
    {
     "name": "stdout",
     "output_type": "stream",
     "text": [
      "tensor([[3.8347],\n",
      "        [4.0415],\n",
      "        [3.8347],\n",
      "        ...,\n",
      "        [3.7257],\n",
      "        [3.7049],\n",
      "        [3.4733]], device='cuda:0')\n",
      "              precision    recall  f1-score   support\n",
      "\n",
      "           0       0.69      0.59      0.63      8765\n",
      "           1       0.71      0.79      0.75     11235\n",
      "\n",
      "    accuracy                           0.70     20000\n",
      "   macro avg       0.70      0.69      0.69     20000\n",
      "weighted avg       0.70      0.70      0.70     20000\n",
      "\n",
      "Epoch-28: Loss = 2.055\n",
      "Train RMSE = 1.414||Train Precision = 70.578||Train Recall = 79.685\n",
      "Test RMSE = 0.989 || Test Precision = 71.168|| Test Recall = 79.315\n"
     ]
    },
    {
     "name": "stderr",
     "output_type": "stream",
     "text": [
      "3it [00:21,  7.12s/it]\n"
     ]
    },
    {
     "name": "stdout",
     "output_type": "stream",
     "text": [
      "tensor([[3.8250],\n",
      "        [4.0166],\n",
      "        [3.8250],\n",
      "        ...,\n",
      "        [3.7497],\n",
      "        [3.7025],\n",
      "        [3.4967]], device='cuda:0')\n",
      "              precision    recall  f1-score   support\n",
      "\n",
      "           0       0.70      0.58      0.63      8765\n",
      "           1       0.71      0.80      0.75     11235\n",
      "\n",
      "    accuracy                           0.70     20000\n",
      "   macro avg       0.70      0.69      0.69     20000\n",
      "weighted avg       0.70      0.70      0.70     20000\n",
      "\n",
      "Epoch-29: Loss = 2.047\n",
      "Train RMSE = 1.412||Train Precision = 70.632||Train Recall = 80.720\n",
      "Test RMSE = 0.987 || Test Precision = 70.947|| Test Recall = 80.205\n"
     ]
    },
    {
     "name": "stderr",
     "output_type": "stream",
     "text": [
      "3it [00:21,  7.12s/it]\n"
     ]
    },
    {
     "name": "stdout",
     "output_type": "stream",
     "text": [
      "tensor([[3.8508],\n",
      "        [4.0490],\n",
      "        [3.8508],\n",
      "        ...,\n",
      "        [3.7823],\n",
      "        [3.7399],\n",
      "        [3.5713]], device='cuda:0')\n",
      "              precision    recall  f1-score   support\n",
      "\n",
      "           0       0.71      0.55      0.62      8765\n",
      "           1       0.70      0.82      0.76     11235\n",
      "\n",
      "    accuracy                           0.70     20000\n",
      "   macro avg       0.70      0.69      0.69     20000\n",
      "weighted avg       0.70      0.70      0.70     20000\n",
      "\n",
      "Epoch-30: Loss = 2.038\n",
      "Train RMSE = 1.408||Train Precision = 69.175||Train Recall = 82.967\n",
      "Test RMSE = 0.986 || Test Precision = 70.080|| Test Recall = 82.305\n"
     ]
    },
    {
     "name": "stderr",
     "output_type": "stream",
     "text": [
      "3it [00:21,  7.14s/it]\n"
     ]
    },
    {
     "name": "stdout",
     "output_type": "stream",
     "text": [
      "tensor([[3.8664],\n",
      "        [4.0460],\n",
      "        [3.8664],\n",
      "        ...,\n",
      "        [3.7743],\n",
      "        [3.7167],\n",
      "        [3.5705]], device='cuda:0')\n",
      "              precision    recall  f1-score   support\n",
      "\n",
      "           0       0.71      0.55      0.62      8765\n",
      "           1       0.70      0.82      0.76     11235\n",
      "\n",
      "    accuracy                           0.70     20000\n",
      "   macro avg       0.70      0.69      0.69     20000\n",
      "weighted avg       0.70      0.70      0.70     20000\n",
      "\n",
      "Epoch-31: Loss = 2.030\n",
      "Train RMSE = 1.406||Train Precision = 69.638||Train Recall = 82.635\n",
      "Test RMSE = 0.984 || Test Precision = 70.245|| Test Recall = 82.012\n"
     ]
    },
    {
     "name": "stderr",
     "output_type": "stream",
     "text": [
      "3it [00:21,  7.11s/it]\n"
     ]
    },
    {
     "name": "stdout",
     "output_type": "stream",
     "text": [
      "tensor([[3.8370],\n",
      "        [4.0000],\n",
      "        [3.8370],\n",
      "        ...,\n",
      "        [3.7672],\n",
      "        [3.6811],\n",
      "        [3.5197]], device='cuda:0')\n",
      "              precision    recall  f1-score   support\n",
      "\n",
      "           0       0.70      0.57      0.63      8765\n",
      "           1       0.71      0.81      0.75     11235\n",
      "\n",
      "    accuracy                           0.70     20000\n",
      "   macro avg       0.70      0.69      0.69     20000\n",
      "weighted avg       0.70      0.70      0.70     20000\n",
      "\n",
      "Epoch-32: Loss = 2.025\n",
      "Train RMSE = 1.405||Train Precision = 70.642||Train Recall = 81.334\n",
      "Test RMSE = 0.983 || Test Precision = 70.675|| Test Recall = 80.979\n"
     ]
    },
    {
     "name": "stderr",
     "output_type": "stream",
     "text": [
      "3it [00:21,  7.14s/it]\n"
     ]
    },
    {
     "name": "stdout",
     "output_type": "stream",
     "text": [
      "tensor([[3.8527],\n",
      "        [4.0068],\n",
      "        [3.8527],\n",
      "        ...,\n",
      "        [3.7576],\n",
      "        [3.7069],\n",
      "        [3.5114]], device='cuda:0')\n",
      "              precision    recall  f1-score   support\n",
      "\n",
      "           0       0.70      0.57      0.63      8765\n",
      "           1       0.71      0.81      0.76     11235\n",
      "\n",
      "    accuracy                           0.71     20000\n",
      "   macro avg       0.71      0.69      0.69     20000\n",
      "weighted avg       0.71      0.71      0.70     20000\n",
      "\n",
      "Epoch-33: Loss = 2.017\n",
      "Train RMSE = 1.402||Train Precision = 70.544||Train Recall = 81.437\n",
      "Test RMSE = 0.982 || Test Precision = 70.711|| Test Recall = 81.397\n"
     ]
    },
    {
     "name": "stderr",
     "output_type": "stream",
     "text": [
      "3it [00:21,  7.14s/it]\n"
     ]
    },
    {
     "name": "stdout",
     "output_type": "stream",
     "text": [
      "tensor([[3.8526],\n",
      "        [3.9953],\n",
      "        [3.8526],\n",
      "        ...,\n",
      "        [3.7459],\n",
      "        [3.7060],\n",
      "        [3.4824]], device='cuda:0')\n",
      "              precision    recall  f1-score   support\n",
      "\n",
      "           0       0.70      0.57      0.63      8765\n",
      "           1       0.71      0.81      0.76     11235\n",
      "\n",
      "    accuracy                           0.71     20000\n",
      "   macro avg       0.70      0.69      0.69     20000\n",
      "weighted avg       0.71      0.71      0.70     20000\n",
      "\n",
      "Epoch-34: Loss = 2.014\n",
      "Train RMSE = 1.402||Train Precision = 70.332||Train Recall = 81.935\n",
      "Test RMSE = 0.981 || Test Precision = 70.636|| Test Recall = 81.362\n"
     ]
    },
    {
     "name": "stderr",
     "output_type": "stream",
     "text": [
      "3it [00:21,  7.12s/it]\n"
     ]
    },
    {
     "name": "stdout",
     "output_type": "stream",
     "text": [
      "tensor([[3.8337],\n",
      "        [3.9528],\n",
      "        [3.8337],\n",
      "        ...,\n",
      "        [3.7540],\n",
      "        [3.6912],\n",
      "        [3.4543]], device='cuda:0')\n",
      "              precision    recall  f1-score   support\n",
      "\n",
      "           0       0.70      0.57      0.63      8765\n",
      "           1       0.71      0.81      0.76     11235\n",
      "\n",
      "    accuracy                           0.71     20000\n",
      "   macro avg       0.70      0.69      0.69     20000\n",
      "weighted avg       0.70      0.71      0.70     20000\n",
      "\n",
      "Epoch-35: Loss = 2.006\n",
      "Train RMSE = 1.399||Train Precision = 70.018||Train Recall = 81.570\n",
      "Test RMSE = 0.980 || Test Precision = 70.694|| Test Recall = 81.202\n"
     ]
    },
    {
     "name": "stderr",
     "output_type": "stream",
     "text": [
      "3it [00:21,  7.12s/it]\n"
     ]
    },
    {
     "name": "stdout",
     "output_type": "stream",
     "text": [
      "tensor([[3.8431],\n",
      "        [3.9721],\n",
      "        [3.8431],\n",
      "        ...,\n",
      "        [3.7600],\n",
      "        [3.7126],\n",
      "        [3.5063]], device='cuda:0')\n",
      "              precision    recall  f1-score   support\n",
      "\n",
      "           0       0.71      0.56      0.63      8765\n",
      "           1       0.70      0.82      0.76     11235\n",
      "\n",
      "    accuracy                           0.71     20000\n",
      "   macro avg       0.71      0.69      0.69     20000\n",
      "weighted avg       0.71      0.71      0.70     20000\n",
      "\n",
      "Epoch-36: Loss = 2.000\n",
      "Train RMSE = 1.397||Train Precision = 70.372||Train Recall = 82.635\n",
      "Test RMSE = 0.979 || Test Precision = 70.491|| Test Recall = 82.092\n"
     ]
    },
    {
     "name": "stderr",
     "output_type": "stream",
     "text": [
      "3it [00:21,  7.12s/it]\n"
     ]
    },
    {
     "name": "stdout",
     "output_type": "stream",
     "text": [
      "tensor([[3.9007],\n",
      "        [4.0608],\n",
      "        [3.9007],\n",
      "        ...,\n",
      "        [3.7921],\n",
      "        [3.7478],\n",
      "        [3.5164]], device='cuda:0')\n",
      "              precision    recall  f1-score   support\n",
      "\n",
      "           0       0.72      0.53      0.61      8765\n",
      "           1       0.70      0.84      0.76     11235\n",
      "\n",
      "    accuracy                           0.71     20000\n",
      "   macro avg       0.71      0.69      0.69     20000\n",
      "weighted avg       0.71      0.71      0.70     20000\n",
      "\n",
      "Epoch-37: Loss = 1.996\n",
      "Train RMSE = 1.397||Train Precision = 68.765||Train Recall = 84.270\n",
      "Test RMSE = 0.979 || Test Precision = 69.725|| Test Recall = 84.068\n"
     ]
    },
    {
     "name": "stderr",
     "output_type": "stream",
     "text": [
      "3it [00:21,  7.13s/it]\n"
     ]
    },
    {
     "name": "stdout",
     "output_type": "stream",
     "text": [
      "tensor([[3.8841],\n",
      "        [4.0375],\n",
      "        [3.8841],\n",
      "        ...,\n",
      "        [3.7933],\n",
      "        [3.6899],\n",
      "        [3.4547]], device='cuda:0')\n",
      "              precision    recall  f1-score   support\n",
      "\n",
      "           0       0.71      0.55      0.62      8765\n",
      "           1       0.70      0.83      0.76     11235\n",
      "\n",
      "    accuracy                           0.71     20000\n",
      "   macro avg       0.71      0.69      0.69     20000\n",
      "weighted avg       0.71      0.71      0.70     20000\n",
      "\n",
      "Epoch-38: Loss = 1.992\n",
      "Train RMSE = 1.396||Train Precision = 69.579||Train Recall = 82.707\n",
      "Test RMSE = 0.978 || Test Precision = 70.275|| Test Recall = 82.572\n"
     ]
    },
    {
     "name": "stderr",
     "output_type": "stream",
     "text": [
      "3it [00:21,  7.15s/it]\n"
     ]
    },
    {
     "name": "stdout",
     "output_type": "stream",
     "text": [
      "tensor([[3.9166],\n",
      "        [4.0799],\n",
      "        [3.9166],\n",
      "        ...,\n",
      "        [3.7968],\n",
      "        [3.7075],\n",
      "        [3.5162]], device='cuda:0')\n",
      "              precision    recall  f1-score   support\n",
      "\n",
      "           0       0.72      0.54      0.62      8765\n",
      "           1       0.70      0.84      0.76     11235\n",
      "\n",
      "    accuracy                           0.71     20000\n",
      "   macro avg       0.71      0.69      0.69     20000\n",
      "weighted avg       0.71      0.71      0.70     20000\n",
      "\n",
      "Epoch-39: Loss = 1.988\n",
      "Train RMSE = 1.396||Train Precision = 69.810||Train Recall = 84.004\n",
      "Test RMSE = 0.978 || Test Precision = 70.019|| Test Recall = 83.587\n"
     ]
    },
    {
     "name": "stderr",
     "output_type": "stream",
     "text": [
      "3it [00:21,  7.12s/it]\n"
     ]
    },
    {
     "name": "stdout",
     "output_type": "stream",
     "text": [
      "tensor([[3.8828],\n",
      "        [4.0304],\n",
      "        [3.8828],\n",
      "        ...,\n",
      "        [3.8029],\n",
      "        [3.6727],\n",
      "        [3.4841]], device='cuda:0')\n",
      "              precision    recall  f1-score   support\n",
      "\n",
      "           0       0.72      0.55      0.62      8765\n",
      "           1       0.70      0.83      0.76     11235\n",
      "\n",
      "    accuracy                           0.71     20000\n",
      "   macro avg       0.71      0.69      0.69     20000\n",
      "weighted avg       0.71      0.71      0.70     20000\n",
      "\n",
      "Epoch-40: Loss = 1.983\n",
      "Train RMSE = 1.395||Train Precision = 69.729||Train Recall = 83.547\n",
      "Test RMSE = 0.976 || Test Precision = 70.168|| Test Recall = 83.008\n"
     ]
    },
    {
     "name": "stderr",
     "output_type": "stream",
     "text": [
      "3it [00:21,  7.14s/it]\n"
     ]
    },
    {
     "name": "stdout",
     "output_type": "stream",
     "text": [
      "tensor([[3.8441],\n",
      "        [3.9845],\n",
      "        [3.8441],\n",
      "        ...,\n",
      "        [3.7674],\n",
      "        [3.6473],\n",
      "        [3.4674]], device='cuda:0')\n",
      "              precision    recall  f1-score   support\n",
      "\n",
      "           0       0.71      0.56      0.63      8765\n",
      "           1       0.71      0.82      0.76     11235\n",
      "\n",
      "    accuracy                           0.71     20000\n",
      "   macro avg       0.71      0.69      0.69     20000\n",
      "weighted avg       0.71      0.71      0.70     20000\n",
      "\n",
      "Epoch-41: Loss = 1.981\n",
      "Train RMSE = 1.395||Train Precision = 70.236||Train Recall = 82.055\n",
      "Test RMSE = 0.976 || Test Precision = 70.636|| Test Recall = 81.896\n"
     ]
    },
    {
     "name": "stderr",
     "output_type": "stream",
     "text": [
      "3it [00:21,  7.12s/it]\n"
     ]
    },
    {
     "name": "stdout",
     "output_type": "stream",
     "text": [
      "tensor([[3.8008],\n",
      "        [3.9261],\n",
      "        [3.8008],\n",
      "        ...,\n",
      "        [3.7403],\n",
      "        [3.6235],\n",
      "        [3.4216]], device='cuda:0')\n",
      "              precision    recall  f1-score   support\n",
      "\n",
      "           0       0.69      0.60      0.64      8765\n",
      "           1       0.72      0.79      0.75     11235\n",
      "\n",
      "    accuracy                           0.71     20000\n",
      "   macro avg       0.70      0.69      0.70     20000\n",
      "weighted avg       0.71      0.71      0.70     20000\n",
      "\n",
      "Epoch-42: Loss = 1.972\n",
      "Train RMSE = 1.391||Train Precision = 71.670||Train Recall = 79.303\n",
      "Test RMSE = 0.977 || Test Precision = 71.565|| Test Recall = 79.413\n"
     ]
    },
    {
     "name": "stderr",
     "output_type": "stream",
     "text": [
      "3it [00:21,  7.16s/it]\n"
     ]
    },
    {
     "name": "stdout",
     "output_type": "stream",
     "text": [
      "tensor([[3.7942],\n",
      "        [3.8975],\n",
      "        [3.7942],\n",
      "        ...,\n",
      "        [3.7442],\n",
      "        [3.5931],\n",
      "        [3.3600]], device='cuda:0')\n",
      "              precision    recall  f1-score   support\n",
      "\n",
      "           0       0.69      0.61      0.65      8765\n",
      "           1       0.72      0.79      0.75     11235\n",
      "\n",
      "    accuracy                           0.71     20000\n",
      "   macro avg       0.70      0.70      0.70     20000\n",
      "weighted avg       0.71      0.71      0.70     20000\n",
      "\n",
      "Epoch-43: Loss = 1.971\n",
      "Train RMSE = 1.392||Train Precision = 71.595||Train Recall = 78.508\n",
      "Test RMSE = 0.978 || Test Precision = 71.916|| Test Recall = 78.656\n"
     ]
    },
    {
     "name": "stderr",
     "output_type": "stream",
     "text": [
      "3it [00:21,  7.13s/it]\n"
     ]
    },
    {
     "name": "stdout",
     "output_type": "stream",
     "text": [
      "tensor([[3.8380],\n",
      "        [3.9560],\n",
      "        [3.8380],\n",
      "        ...,\n",
      "        [3.7484],\n",
      "        [3.6379],\n",
      "        [3.3768]], device='cuda:0')\n",
      "              precision    recall  f1-score   support\n",
      "\n",
      "           0       0.70      0.59      0.64      8765\n",
      "           1       0.71      0.80      0.75     11235\n",
      "\n",
      "    accuracy                           0.71     20000\n",
      "   macro avg       0.70      0.69      0.70     20000\n",
      "weighted avg       0.71      0.71      0.70     20000\n",
      "\n",
      "Epoch-44: Loss = 1.969\n",
      "Train RMSE = 1.392||Train Precision = 71.311||Train Recall = 80.116\n",
      "Test RMSE = 0.975 || Test Precision = 71.294|| Test Recall = 80.045\n"
     ]
    },
    {
     "name": "stderr",
     "output_type": "stream",
     "text": [
      "3it [00:21,  7.14s/it]\n"
     ]
    },
    {
     "name": "stdout",
     "output_type": "stream",
     "text": [
      "tensor([[3.8504],\n",
      "        [3.9693],\n",
      "        [3.8504],\n",
      "        ...,\n",
      "        [3.7481],\n",
      "        [3.6467],\n",
      "        [3.3519]], device='cuda:0')\n",
      "              precision    recall  f1-score   support\n",
      "\n",
      "           0       0.70      0.58      0.64      8765\n",
      "           1       0.71      0.80      0.76     11235\n",
      "\n",
      "    accuracy                           0.71     20000\n",
      "   macro avg       0.71      0.69      0.70     20000\n",
      "weighted avg       0.71      0.71      0.70     20000\n",
      "\n",
      "Epoch-45: Loss = 1.959\n",
      "Train RMSE = 1.388||Train Precision = 71.283||Train Recall = 80.822\n",
      "Test RMSE = 0.975 || Test Precision = 71.179|| Test Recall = 80.409\n"
     ]
    },
    {
     "name": "stderr",
     "output_type": "stream",
     "text": [
      "3it [00:21,  7.13s/it]\n"
     ]
    },
    {
     "name": "stdout",
     "output_type": "stream",
     "text": [
      "tensor([[3.8537],\n",
      "        [3.9702],\n",
      "        [3.8537],\n",
      "        ...,\n",
      "        [3.7815],\n",
      "        [3.6637],\n",
      "        [3.4009]], device='cuda:0')\n",
      "              precision    recall  f1-score   support\n",
      "\n",
      "           0       0.71      0.57      0.63      8765\n",
      "           1       0.71      0.82      0.76     11235\n",
      "\n",
      "    accuracy                           0.71     20000\n",
      "   macro avg       0.71      0.69      0.69     20000\n",
      "weighted avg       0.71      0.71      0.70     20000\n",
      "\n",
      "Epoch-46: Loss = 1.955\n",
      "Train RMSE = 1.387||Train Precision = 70.693||Train Recall = 81.656\n",
      "Test RMSE = 0.974 || Test Precision = 70.840|| Test Recall = 81.584\n"
     ]
    },
    {
     "name": "stderr",
     "output_type": "stream",
     "text": [
      "3it [00:21,  7.13s/it]\n"
     ]
    },
    {
     "name": "stdout",
     "output_type": "stream",
     "text": [
      "tensor([[3.8547],\n",
      "        [3.9773],\n",
      "        [3.8547],\n",
      "        ...,\n",
      "        [3.7906],\n",
      "        [3.6544],\n",
      "        [3.4054]], device='cuda:0')\n",
      "              precision    recall  f1-score   support\n",
      "\n",
      "           0       0.71      0.57      0.63      8765\n",
      "           1       0.71      0.82      0.76     11235\n",
      "\n",
      "    accuracy                           0.71     20000\n",
      "   macro avg       0.71      0.69      0.70     20000\n",
      "weighted avg       0.71      0.71      0.70     20000\n",
      "\n",
      "Epoch-47: Loss = 1.954\n",
      "Train RMSE = 1.388||Train Precision = 71.042||Train Recall = 81.328\n",
      "Test RMSE = 0.974 || Test Precision = 70.880|| Test Recall = 81.611\n"
     ]
    },
    {
     "name": "stderr",
     "output_type": "stream",
     "text": [
      "3it [00:21,  7.14s/it]\n"
     ]
    },
    {
     "name": "stdout",
     "output_type": "stream",
     "text": [
      "tensor([[3.8599],\n",
      "        [3.9874],\n",
      "        [3.8599],\n",
      "        ...,\n",
      "        [3.7548],\n",
      "        [3.6264],\n",
      "        [3.3495]], device='cuda:0')\n",
      "              precision    recall  f1-score   support\n",
      "\n",
      "           0       0.70      0.58      0.64      8765\n",
      "           1       0.71      0.80      0.76     11235\n",
      "\n",
      "    accuracy                           0.71     20000\n",
      "   macro avg       0.71      0.69      0.70     20000\n",
      "weighted avg       0.71      0.71      0.70     20000\n",
      "\n",
      "Epoch-48: Loss = 1.951\n",
      "Train RMSE = 1.388||Train Precision = 71.838||Train Recall = 80.437\n",
      "Test RMSE = 0.974 || Test Precision = 71.246|| Test Recall = 80.409\n"
     ]
    },
    {
     "name": "stderr",
     "output_type": "stream",
     "text": [
      "3it [00:21,  7.16s/it]\n"
     ]
    },
    {
     "name": "stdout",
     "output_type": "stream",
     "text": [
      "tensor([[3.8485],\n",
      "        [3.9957],\n",
      "        [3.8485],\n",
      "        ...,\n",
      "        [3.7624],\n",
      "        [3.6529],\n",
      "        [3.3693]], device='cuda:0')\n",
      "              precision    recall  f1-score   support\n",
      "\n",
      "           0       0.70      0.58      0.64      8765\n",
      "           1       0.71      0.81      0.76     11235\n",
      "\n",
      "    accuracy                           0.71     20000\n",
      "   macro avg       0.71      0.69      0.70     20000\n",
      "weighted avg       0.71      0.71      0.70     20000\n",
      "\n",
      "Epoch-49: Loss = 1.948\n",
      "Train RMSE = 1.388||Train Precision = 71.160||Train Recall = 80.599\n",
      "Test RMSE = 0.973 || Test Precision = 71.142|| Test Recall = 80.837\n"
     ]
    },
    {
     "name": "stderr",
     "output_type": "stream",
     "text": [
      "3it [00:21,  7.13s/it]\n"
     ]
    },
    {
     "name": "stdout",
     "output_type": "stream",
     "text": [
      "tensor([[3.8363],\n",
      "        [3.9777],\n",
      "        [3.8363],\n",
      "        ...,\n",
      "        [3.7619],\n",
      "        [3.6450],\n",
      "        [3.3791]], device='cuda:0')\n",
      "              precision    recall  f1-score   support\n",
      "\n",
      "           0       0.70      0.58      0.64      8765\n",
      "           1       0.71      0.81      0.76     11235\n",
      "\n",
      "    accuracy                           0.71     20000\n",
      "   macro avg       0.71      0.69      0.70     20000\n",
      "weighted avg       0.71      0.71      0.70     20000\n",
      "\n",
      "Epoch-50: Loss = 1.942\n",
      "Train RMSE = 1.385||Train Precision = 70.708||Train Recall = 80.758\n",
      "Test RMSE = 0.973 || Test Precision = 71.190|| Test Recall = 80.917\n"
     ]
    },
    {
     "name": "stderr",
     "output_type": "stream",
     "text": [
      "3it [00:21,  7.16s/it]\n"
     ]
    },
    {
     "name": "stdout",
     "output_type": "stream",
     "text": [
      "tensor([[3.8543],\n",
      "        [3.9931],\n",
      "        [3.8543],\n",
      "        ...,\n",
      "        [3.7767],\n",
      "        [3.6609],\n",
      "        [3.4245]], device='cuda:0')\n",
      "              precision    recall  f1-score   support\n",
      "\n",
      "           0       0.71      0.58      0.63      8765\n",
      "           1       0.71      0.81      0.76     11235\n",
      "\n",
      "    accuracy                           0.71     20000\n",
      "   macro avg       0.71      0.69      0.70     20000\n",
      "weighted avg       0.71      0.71      0.70     20000\n",
      "\n",
      "Epoch-51: Loss = 1.937\n",
      "Train RMSE = 1.384||Train Precision = 71.418||Train Recall = 81.650\n",
      "Test RMSE = 0.973 || Test Precision = 71.034|| Test Recall = 81.264\n"
     ]
    },
    {
     "name": "stderr",
     "output_type": "stream",
     "text": [
      "3it [00:21,  7.13s/it]\n"
     ]
    },
    {
     "name": "stdout",
     "output_type": "stream",
     "text": [
      "tensor([[3.8480],\n",
      "        [3.9794],\n",
      "        [3.8480],\n",
      "        ...,\n",
      "        [3.7466],\n",
      "        [3.6449],\n",
      "        [3.4149]], device='cuda:0')\n",
      "              precision    recall  f1-score   support\n",
      "\n",
      "           0       0.70      0.57      0.63      8765\n",
      "           1       0.71      0.81      0.76     11235\n",
      "\n",
      "    accuracy                           0.71     20000\n",
      "   macro avg       0.71      0.69      0.69     20000\n",
      "weighted avg       0.71      0.71      0.70     20000\n",
      "\n",
      "Epoch-52: Loss = 1.932\n",
      "Train RMSE = 1.383||Train Precision = 71.338||Train Recall = 81.203\n",
      "Test RMSE = 0.973 || Test Precision = 70.915|| Test Recall = 81.228\n"
     ]
    },
    {
     "name": "stderr",
     "output_type": "stream",
     "text": [
      "3it [00:21,  7.17s/it]\n"
     ]
    },
    {
     "name": "stdout",
     "output_type": "stream",
     "text": [
      "tensor([[3.8543],\n",
      "        [3.9761],\n",
      "        [3.8543],\n",
      "        ...,\n",
      "        [3.7546],\n",
      "        [3.6677],\n",
      "        [3.4167]], device='cuda:0')\n",
      "              precision    recall  f1-score   support\n",
      "\n",
      "           0       0.71      0.56      0.63      8765\n",
      "           1       0.71      0.82      0.76     11235\n",
      "\n",
      "    accuracy                           0.71     20000\n",
      "   macro avg       0.71      0.69      0.69     20000\n",
      "weighted avg       0.71      0.71      0.70     20000\n",
      "\n",
      "Epoch-53: Loss = 1.930\n",
      "Train RMSE = 1.383||Train Precision = 70.736||Train Recall = 82.528\n",
      "Test RMSE = 0.972 || Test Precision = 70.629|| Test Recall = 82.127\n"
     ]
    },
    {
     "name": "stderr",
     "output_type": "stream",
     "text": [
      "3it [00:21,  7.12s/it]\n"
     ]
    },
    {
     "name": "stdout",
     "output_type": "stream",
     "text": [
      "tensor([[3.8777],\n",
      "        [4.0057],\n",
      "        [3.8777],\n",
      "        ...,\n",
      "        [3.7672],\n",
      "        [3.6808],\n",
      "        [3.4666]], device='cuda:0')\n",
      "              precision    recall  f1-score   support\n",
      "\n",
      "           0       0.71      0.56      0.63      8765\n",
      "           1       0.71      0.83      0.76     11235\n",
      "\n",
      "    accuracy                           0.71     20000\n",
      "   macro avg       0.71      0.69      0.69     20000\n",
      "weighted avg       0.71      0.71      0.70     20000\n",
      "\n",
      "Epoch-54: Loss = 1.927\n",
      "Train RMSE = 1.382||Train Precision = 70.405||Train Recall = 82.240\n",
      "Test RMSE = 0.972 || Test Precision = 70.523|| Test Recall = 82.519\n"
     ]
    },
    {
     "name": "stderr",
     "output_type": "stream",
     "text": [
      "3it [00:21,  7.11s/it]\n"
     ]
    },
    {
     "name": "stdout",
     "output_type": "stream",
     "text": [
      "tensor([[3.8843],\n",
      "        [3.9945],\n",
      "        [3.8843],\n",
      "        ...,\n",
      "        [3.7745],\n",
      "        [3.6761],\n",
      "        [3.4358]], device='cuda:0')\n",
      "              precision    recall  f1-score   support\n",
      "\n",
      "           0       0.71      0.56      0.63      8765\n",
      "           1       0.71      0.82      0.76     11235\n",
      "\n",
      "    accuracy                           0.71     20000\n",
      "   macro avg       0.71      0.69      0.69     20000\n",
      "weighted avg       0.71      0.71      0.70     20000\n",
      "\n",
      "Epoch-55: Loss = 1.925\n",
      "Train RMSE = 1.382||Train Precision = 70.938||Train Recall = 81.910\n",
      "Test RMSE = 0.972 || Test Precision = 70.681|| Test Recall = 82.074\n"
     ]
    },
    {
     "name": "stderr",
     "output_type": "stream",
     "text": [
      "3it [00:21,  7.13s/it]\n"
     ]
    },
    {
     "name": "stdout",
     "output_type": "stream",
     "text": [
      "tensor([[3.9023],\n",
      "        [4.0205],\n",
      "        [3.9023],\n",
      "        ...,\n",
      "        [3.7985],\n",
      "        [3.7084],\n",
      "        [3.4476]], device='cuda:0')\n",
      "              precision    recall  f1-score   support\n",
      "\n",
      "           0       0.72      0.56      0.63      8765\n",
      "           1       0.71      0.83      0.76     11235\n",
      "\n",
      "    accuracy                           0.71     20000\n",
      "   macro avg       0.71      0.69      0.69     20000\n",
      "weighted avg       0.71      0.71      0.70     20000\n",
      "\n",
      "Epoch-56: Loss = 1.922\n",
      "Train RMSE = 1.382||Train Precision = 70.665||Train Recall = 82.490\n",
      "Test RMSE = 0.971 || Test Precision = 70.622|| Test Recall = 82.741\n"
     ]
    },
    {
     "name": "stderr",
     "output_type": "stream",
     "text": [
      "3it [00:21,  7.12s/it]\n"
     ]
    },
    {
     "name": "stdout",
     "output_type": "stream",
     "text": [
      "tensor([[3.9799],\n",
      "        [4.1495],\n",
      "        [3.9799],\n",
      "        ...,\n",
      "        [3.8571],\n",
      "        [3.7731],\n",
      "        [3.5303]], device='cuda:0')\n",
      "              precision    recall  f1-score   support\n",
      "\n",
      "           0       0.74      0.50      0.60      8765\n",
      "           1       0.69      0.87      0.77     11235\n",
      "\n",
      "    accuracy                           0.70     20000\n",
      "   macro avg       0.72      0.68      0.68     20000\n",
      "weighted avg       0.71      0.70      0.69     20000\n",
      "\n",
      "Epoch-57: Loss = 1.922\n",
      "Train RMSE = 1.383||Train Precision = 68.130||Train Recall = 87.282\n",
      "Test RMSE = 0.975 || Test Precision = 68.829|| Test Recall = 86.595\n"
     ]
    },
    {
     "name": "stderr",
     "output_type": "stream",
     "text": [
      "3it [00:21,  7.12s/it]\n"
     ]
    },
    {
     "name": "stdout",
     "output_type": "stream",
     "text": [
      "tensor([[3.9683],\n",
      "        [4.1342],\n",
      "        [3.9683],\n",
      "        ...,\n",
      "        [3.8276],\n",
      "        [3.7558],\n",
      "        [3.5099]], device='cuda:0')\n",
      "              precision    recall  f1-score   support\n",
      "\n",
      "           0       0.74      0.51      0.60      8765\n",
      "           1       0.69      0.86      0.77     11235\n",
      "\n",
      "    accuracy                           0.71     20000\n",
      "   macro avg       0.72      0.69      0.69     20000\n",
      "weighted avg       0.71      0.71      0.70     20000\n",
      "\n",
      "Epoch-58: Loss = 1.918\n",
      "Train RMSE = 1.382||Train Precision = 69.504||Train Recall = 86.056\n",
      "Test RMSE = 0.974 || Test Precision = 69.244|| Test Recall = 85.928\n"
     ]
    },
    {
     "name": "stderr",
     "output_type": "stream",
     "text": [
      "3it [00:21,  7.12s/it]\n"
     ]
    },
    {
     "name": "stdout",
     "output_type": "stream",
     "text": [
      "tensor([[3.9345],\n",
      "        [4.0862],\n",
      "        [3.9345],\n",
      "        ...,\n",
      "        [3.8091],\n",
      "        [3.7385],\n",
      "        [3.4908]], device='cuda:0')\n",
      "              precision    recall  f1-score   support\n",
      "\n",
      "           0       0.73      0.54      0.62      8765\n",
      "           1       0.70      0.84      0.77     11235\n",
      "\n",
      "    accuracy                           0.71     20000\n",
      "   macro avg       0.71      0.69      0.69     20000\n",
      "weighted avg       0.71      0.71      0.70     20000\n",
      "\n",
      "Epoch-59: Loss = 1.915\n",
      "Train RMSE = 1.382||Train Precision = 70.103||Train Recall = 84.345\n",
      "Test RMSE = 0.971 || Test Precision = 70.048|| Test Recall = 84.263\n"
     ]
    },
    {
     "name": "stderr",
     "output_type": "stream",
     "text": [
      "3it [00:21,  7.10s/it]\n"
     ]
    },
    {
     "name": "stdout",
     "output_type": "stream",
     "text": [
      "tensor([[3.9014],\n",
      "        [4.0412],\n",
      "        [3.9014],\n",
      "        ...,\n",
      "        [3.7991],\n",
      "        [3.7345],\n",
      "        [3.4822]], device='cuda:0')\n",
      "              precision    recall  f1-score   support\n",
      "\n",
      "           0       0.72      0.55      0.62      8765\n",
      "           1       0.70      0.83      0.76     11235\n",
      "\n",
      "    accuracy                           0.71     20000\n",
      "   macro avg       0.71      0.69      0.69     20000\n",
      "weighted avg       0.71      0.71      0.70     20000\n",
      "\n",
      "Epoch-60: Loss = 1.910\n",
      "Train RMSE = 1.380||Train Precision = 70.071||Train Recall = 83.284\n",
      "Test RMSE = 0.970 || Test Precision = 70.395|| Test Recall = 83.240\n"
     ]
    },
    {
     "name": "stderr",
     "output_type": "stream",
     "text": [
      "3it [00:21,  7.13s/it]\n"
     ]
    },
    {
     "name": "stdout",
     "output_type": "stream",
     "text": [
      "tensor([[3.8907],\n",
      "        [4.0294],\n",
      "        [3.8907],\n",
      "        ...,\n",
      "        [3.7602],\n",
      "        [3.7001],\n",
      "        [3.4284]], device='cuda:0')\n",
      "              precision    recall  f1-score   support\n",
      "\n",
      "           0       0.71      0.56      0.63      8765\n",
      "           1       0.71      0.82      0.76     11235\n",
      "\n",
      "    accuracy                           0.71     20000\n",
      "   macro avg       0.71      0.69      0.69     20000\n",
      "weighted avg       0.71      0.71      0.70     20000\n",
      "\n",
      "Epoch-61: Loss = 1.908\n",
      "Train RMSE = 1.380||Train Precision = 70.953||Train Recall = 82.227\n",
      "Test RMSE = 0.970 || Test Precision = 70.679|| Test Recall = 82.261\n"
     ]
    },
    {
     "name": "stderr",
     "output_type": "stream",
     "text": [
      "3it [00:21,  7.09s/it]\n"
     ]
    },
    {
     "name": "stdout",
     "output_type": "stream",
     "text": [
      "tensor([[3.8482],\n",
      "        [3.9732],\n",
      "        [3.8482],\n",
      "        ...,\n",
      "        [3.6994],\n",
      "        [3.6461],\n",
      "        [3.3505]], device='cuda:0')\n",
      "              precision    recall  f1-score   support\n",
      "\n",
      "           0       0.70      0.60      0.65      8765\n",
      "           1       0.72      0.80      0.76     11235\n",
      "\n",
      "    accuracy                           0.71     20000\n",
      "   macro avg       0.71      0.70      0.70     20000\n",
      "weighted avg       0.71      0.71      0.71     20000\n",
      "\n",
      "Epoch-62: Loss = 1.912\n",
      "Train RMSE = 1.383||Train Precision = 71.796||Train Recall = 79.115\n",
      "Test RMSE = 0.972 || Test Precision = 71.853|| Test Recall = 79.911\n"
     ]
    },
    {
     "name": "stderr",
     "output_type": "stream",
     "text": [
      "3it [00:21,  7.12s/it]\n"
     ]
    },
    {
     "name": "stdout",
     "output_type": "stream",
     "text": [
      "tensor([[3.8123],\n",
      "        [3.9149],\n",
      "        [3.8123],\n",
      "        ...,\n",
      "        [3.7113],\n",
      "        [3.6362],\n",
      "        [3.3207]], device='cuda:0')\n",
      "              precision    recall  f1-score   support\n",
      "\n",
      "           0       0.69      0.61      0.65      8765\n",
      "           1       0.72      0.79      0.75     11235\n",
      "\n",
      "    accuracy                           0.71     20000\n",
      "   macro avg       0.71      0.70      0.70     20000\n",
      "weighted avg       0.71      0.71      0.71     20000\n",
      "\n",
      "Epoch-63: Loss = 1.904\n",
      "Train RMSE = 1.379||Train Precision = 72.561||Train Recall = 78.050\n",
      "Test RMSE = 0.973 || Test Precision = 72.084|| Test Recall = 79.039\n"
     ]
    },
    {
     "name": "stderr",
     "output_type": "stream",
     "text": [
      "3it [00:21,  7.12s/it]\n"
     ]
    },
    {
     "name": "stdout",
     "output_type": "stream",
     "text": [
      "tensor([[3.8594],\n",
      "        [3.9714],\n",
      "        [3.8594],\n",
      "        ...,\n",
      "        [3.7266],\n",
      "        [3.6751],\n",
      "        [3.3673]], device='cuda:0')\n",
      "              precision    recall  f1-score   support\n",
      "\n",
      "           0       0.70      0.59      0.64      8765\n",
      "           1       0.72      0.80      0.76     11235\n",
      "\n",
      "    accuracy                           0.71     20000\n",
      "   macro avg       0.71      0.70      0.70     20000\n",
      "weighted avg       0.71      0.71      0.71     20000\n",
      "\n",
      "Epoch-64: Loss = 1.902\n",
      "Train RMSE = 1.380||Train Precision = 72.013||Train Recall = 79.554\n",
      "Test RMSE = 0.971 || Test Precision = 71.584|| Test Recall = 80.160\n"
     ]
    },
    {
     "name": "stderr",
     "output_type": "stream",
     "text": [
      "3it [00:21,  7.12s/it]\n"
     ]
    },
    {
     "name": "stdout",
     "output_type": "stream",
     "text": [
      "tensor([[3.9043],\n",
      "        [4.0409],\n",
      "        [3.9043],\n",
      "        ...,\n",
      "        [3.7295],\n",
      "        [3.7111],\n",
      "        [3.4055]], device='cuda:0')\n",
      "              precision    recall  f1-score   support\n",
      "\n",
      "           0       0.71      0.57      0.63      8765\n",
      "           1       0.71      0.82      0.76     11235\n",
      "\n",
      "    accuracy                           0.71     20000\n",
      "   macro avg       0.71      0.69      0.70     20000\n",
      "weighted avg       0.71      0.71      0.70     20000\n",
      "\n",
      "Epoch-65: Loss = 1.896\n",
      "Train RMSE = 1.378||Train Precision = 71.596||Train Recall = 81.794\n",
      "Test RMSE = 0.970 || Test Precision = 71.016|| Test Recall = 81.673\n"
     ]
    },
    {
     "name": "stderr",
     "output_type": "stream",
     "text": [
      "3it [00:21,  7.15s/it]\n"
     ]
    },
    {
     "name": "stdout",
     "output_type": "stream",
     "text": [
      "tensor([[3.8983],\n",
      "        [4.0020],\n",
      "        [3.8983],\n",
      "        ...,\n",
      "        [3.7569],\n",
      "        [3.6857],\n",
      "        [3.3897]], device='cuda:0')\n",
      "              precision    recall  f1-score   support\n",
      "\n",
      "           0       0.71      0.58      0.64      8765\n",
      "           1       0.71      0.81      0.76     11235\n",
      "\n",
      "    accuracy                           0.71     20000\n",
      "   macro avg       0.71      0.70      0.70     20000\n",
      "weighted avg       0.71      0.71      0.70     20000\n",
      "\n",
      "Epoch-66: Loss = 1.892\n",
      "Train RMSE = 1.376||Train Precision = 71.177||Train Recall = 80.836\n",
      "Test RMSE = 0.970 || Test Precision = 71.193|| Test Recall = 81.193\n"
     ]
    },
    {
     "name": "stderr",
     "output_type": "stream",
     "text": [
      "3it [00:21,  7.13s/it]\n"
     ]
    },
    {
     "name": "stdout",
     "output_type": "stream",
     "text": [
      "tensor([[3.9374],\n",
      "        [4.0521],\n",
      "        [3.9374],\n",
      "        ...,\n",
      "        [3.7855],\n",
      "        [3.7221],\n",
      "        [3.4368]], device='cuda:0')\n",
      "              precision    recall  f1-score   support\n",
      "\n",
      "           0       0.72      0.55      0.62      8765\n",
      "           1       0.70      0.83      0.76     11235\n",
      "\n",
      "    accuracy                           0.71     20000\n",
      "   macro avg       0.71      0.69      0.69     20000\n",
      "weighted avg       0.71      0.71      0.70     20000\n",
      "\n",
      "Epoch-67: Loss = 1.894\n",
      "Train RMSE = 1.379||Train Precision = 70.438||Train Recall = 83.333\n",
      "Test RMSE = 0.969 || Test Precision = 70.381|| Test Recall = 83.418\n"
     ]
    },
    {
     "name": "stderr",
     "output_type": "stream",
     "text": [
      "3it [00:21,  7.15s/it]\n"
     ]
    },
    {
     "name": "stdout",
     "output_type": "stream",
     "text": [
      "tensor([[3.9782],\n",
      "        [4.1176],\n",
      "        [3.9782],\n",
      "        ...,\n",
      "        [3.8003],\n",
      "        [3.7418],\n",
      "        [3.5276]], device='cuda:0')\n",
      "              precision    recall  f1-score   support\n",
      "\n",
      "           0       0.74      0.52      0.61      8765\n",
      "           1       0.69      0.86      0.77     11235\n",
      "\n",
      "    accuracy                           0.71     20000\n",
      "   macro avg       0.72      0.69      0.69     20000\n",
      "weighted avg       0.71      0.71      0.70     20000\n",
      "\n",
      "Epoch-68: Loss = 1.883\n",
      "Train RMSE = 1.374||Train Precision = 68.844||Train Recall = 85.754\n",
      "Test RMSE = 0.970 || Test Precision = 69.498|| Test Recall = 85.643\n"
     ]
    },
    {
     "name": "stderr",
     "output_type": "stream",
     "text": [
      "3it [00:21,  7.12s/it]\n"
     ]
    },
    {
     "name": "stdout",
     "output_type": "stream",
     "text": [
      "tensor([[4.0365],\n",
      "        [4.1843],\n",
      "        [4.0365],\n",
      "        ...,\n",
      "        [3.8175],\n",
      "        [3.7751],\n",
      "        [3.5824]], device='cuda:0')\n",
      "              precision    recall  f1-score   support\n",
      "\n",
      "           0       0.75      0.49      0.59      8765\n",
      "           1       0.69      0.87      0.77     11235\n",
      "\n",
      "    accuracy                           0.71     20000\n",
      "   macro avg       0.72      0.68      0.68     20000\n",
      "weighted avg       0.71      0.71      0.69     20000\n",
      "\n",
      "Epoch-69: Loss = 1.883\n",
      "Train RMSE = 1.374||Train Precision = 68.475||Train Recall = 87.565\n",
      "Test RMSE = 0.974 || Test Precision = 68.750|| Test Recall = 87.156\n"
     ]
    },
    {
     "name": "stderr",
     "output_type": "stream",
     "text": [
      "3it [00:21,  7.26s/it]\n"
     ]
    },
    {
     "name": "stdout",
     "output_type": "stream",
     "text": [
      "tensor([[3.9747],\n",
      "        [4.1024],\n",
      "        [3.9747],\n",
      "        ...,\n",
      "        [3.7881],\n",
      "        [3.7142],\n",
      "        [3.5068]], device='cuda:0')\n",
      "              precision    recall  f1-score   support\n",
      "\n",
      "           0       0.73      0.52      0.61      8765\n",
      "           1       0.70      0.85      0.77     11235\n",
      "\n",
      "    accuracy                           0.71     20000\n",
      "   macro avg       0.72      0.69      0.69     20000\n",
      "weighted avg       0.71      0.71      0.70     20000\n",
      "\n",
      "Epoch-70: Loss = 1.891\n",
      "Train RMSE = 1.380||Train Precision = 69.441||Train Recall = 85.495\n",
      "Test RMSE = 0.970 || Test Precision = 69.663|| Test Recall = 85.127\n"
     ]
    },
    {
     "name": "stderr",
     "output_type": "stream",
     "text": [
      "3it [00:21,  7.31s/it]\n"
     ]
    },
    {
     "name": "stdout",
     "output_type": "stream",
     "text": [
      "tensor([[3.8632],\n",
      "        [3.9808],\n",
      "        [3.8632],\n",
      "        ...,\n",
      "        [3.7121],\n",
      "        [3.6515],\n",
      "        [3.4640]], device='cuda:0')\n",
      "              precision    recall  f1-score   support\n",
      "\n",
      "           0       0.71      0.58      0.64      8765\n",
      "           1       0.71      0.81      0.76     11235\n",
      "\n",
      "    accuracy                           0.71     20000\n",
      "   macro avg       0.71      0.70      0.70     20000\n",
      "weighted avg       0.71      0.71      0.71     20000\n",
      "\n",
      "Epoch-71: Loss = 1.904\n",
      "Train RMSE = 1.387||Train Precision = 71.596||Train Recall = 80.830\n",
      "Test RMSE = 0.969 || Test Precision = 71.306|| Test Recall = 81.219\n"
     ]
    },
    {
     "name": "stderr",
     "output_type": "stream",
     "text": [
      "3it [00:21,  7.11s/it]\n"
     ]
    },
    {
     "name": "stdout",
     "output_type": "stream",
     "text": [
      "tensor([[3.8475],\n",
      "        [3.9616],\n",
      "        [3.8475],\n",
      "        ...,\n",
      "        [3.7301],\n",
      "        [3.6364],\n",
      "        [3.4920]], device='cuda:0')\n",
      "              precision    recall  f1-score   support\n",
      "\n",
      "           0       0.71      0.58      0.64      8765\n",
      "           1       0.71      0.81      0.76     11235\n",
      "\n",
      "    accuracy                           0.71     20000\n",
      "   macro avg       0.71      0.70      0.70     20000\n",
      "weighted avg       0.71      0.71      0.71     20000\n",
      "\n",
      "Epoch-72: Loss = 1.885\n",
      "Train RMSE = 1.378||Train Precision = 71.468||Train Recall = 81.253\n",
      "Test RMSE = 0.969 || Test Precision = 71.201|| Test Recall = 81.486\n"
     ]
    },
    {
     "name": "stderr",
     "output_type": "stream",
     "text": [
      "3it [00:21,  7.12s/it]\n"
     ]
    },
    {
     "name": "stdout",
     "output_type": "stream",
     "text": [
      "tensor([[3.8253],\n",
      "        [3.9442],\n",
      "        [3.8253],\n",
      "        ...,\n",
      "        [3.7188],\n",
      "        [3.6268],\n",
      "        [3.4124]], device='cuda:0')\n",
      "              precision    recall  f1-score   support\n",
      "\n",
      "           0       0.70      0.60      0.65      8765\n",
      "           1       0.72      0.80      0.76     11235\n",
      "\n",
      "    accuracy                           0.71     20000\n",
      "   macro avg       0.71      0.70      0.70     20000\n",
      "weighted avg       0.71      0.71      0.71     20000\n",
      "\n",
      "Epoch-73: Loss = 1.880\n",
      "Train RMSE = 1.376||Train Precision = 72.171||Train Recall = 79.197\n",
      "Test RMSE = 0.971 || Test Precision = 72.014|| Test Recall = 79.706\n"
     ]
    },
    {
     "name": "stderr",
     "output_type": "stream",
     "text": [
      "3it [00:21,  7.12s/it]\n"
     ]
    },
    {
     "name": "stdout",
     "output_type": "stream",
     "text": [
      "tensor([[3.8742],\n",
      "        [4.0011],\n",
      "        [3.8742],\n",
      "        ...,\n",
      "        [3.7373],\n",
      "        [3.6721],\n",
      "        [3.3833]], device='cuda:0')\n",
      "              precision    recall  f1-score   support\n",
      "\n",
      "           0       0.70      0.59      0.64      8765\n",
      "           1       0.72      0.81      0.76     11235\n",
      "\n",
      "    accuracy                           0.71     20000\n",
      "   macro avg       0.71      0.70      0.70     20000\n",
      "weighted avg       0.71      0.71      0.71     20000\n",
      "\n",
      "Epoch-74: Loss = 1.874\n",
      "Train RMSE = 1.374||Train Precision = 71.856||Train Recall = 80.049\n",
      "Test RMSE = 0.970 || Test Precision = 71.597|| Test Recall = 80.570\n"
     ]
    },
    {
     "name": "stderr",
     "output_type": "stream",
     "text": [
      "3it [00:21,  7.13s/it]\n"
     ]
    },
    {
     "name": "stdout",
     "output_type": "stream",
     "text": [
      "tensor([[3.9248],\n",
      "        [4.0367],\n",
      "        [3.9248],\n",
      "        ...,\n",
      "        [3.7461],\n",
      "        [3.7093],\n",
      "        [3.4019]], device='cuda:0')\n",
      "              precision    recall  f1-score   support\n",
      "\n",
      "           0       0.71      0.57      0.63      8765\n",
      "           1       0.71      0.82      0.76     11235\n",
      "\n",
      "    accuracy                           0.71     20000\n",
      "   macro avg       0.71      0.70      0.70     20000\n",
      "weighted avg       0.71      0.71      0.71     20000\n",
      "\n",
      "Epoch-75: Loss = 1.872\n",
      "Train RMSE = 1.373||Train Precision = 71.006||Train Recall = 81.779\n",
      "Test RMSE = 0.968 || Test Precision = 71.030|| Test Recall = 82.163\n"
     ]
    },
    {
     "name": "stderr",
     "output_type": "stream",
     "text": [
      "3it [00:21,  7.13s/it]\n"
     ]
    },
    {
     "name": "stdout",
     "output_type": "stream",
     "text": [
      "tensor([[4.0144],\n",
      "        [4.1564],\n",
      "        [4.0144],\n",
      "        ...,\n",
      "        [3.8187],\n",
      "        [3.7813],\n",
      "        [3.4722]], device='cuda:0')\n",
      "              precision    recall  f1-score   support\n",
      "\n",
      "           0       0.74      0.52      0.61      8765\n",
      "           1       0.69      0.86      0.77     11235\n",
      "\n",
      "    accuracy                           0.71     20000\n",
      "   macro avg       0.72      0.69      0.69     20000\n",
      "weighted avg       0.71      0.71      0.70     20000\n",
      "\n",
      "Epoch-76: Loss = 1.871\n",
      "Train RMSE = 1.374||Train Precision = 69.389||Train Recall = 85.969\n",
      "Test RMSE = 0.969 || Test Precision = 69.378|| Test Recall = 85.705\n"
     ]
    },
    {
     "name": "stderr",
     "output_type": "stream",
     "text": [
      "3it [00:21,  7.13s/it]\n"
     ]
    },
    {
     "name": "stdout",
     "output_type": "stream",
     "text": [
      "tensor([[3.9822],\n",
      "        [4.1323],\n",
      "        [3.9822],\n",
      "        ...,\n",
      "        [3.8076],\n",
      "        [3.7694],\n",
      "        [3.4897]], device='cuda:0')\n",
      "              precision    recall  f1-score   support\n",
      "\n",
      "           0       0.74      0.52      0.61      8765\n",
      "           1       0.69      0.86      0.77     11235\n",
      "\n",
      "    accuracy                           0.71     20000\n",
      "   macro avg       0.72      0.69      0.69     20000\n",
      "weighted avg       0.71      0.71      0.70     20000\n",
      "\n",
      "Epoch-77: Loss = 1.867\n",
      "Train RMSE = 1.372||Train Precision = 69.734||Train Recall = 85.779\n",
      "Test RMSE = 0.969 || Test Precision = 69.395|| Test Recall = 85.572\n"
     ]
    },
    {
     "name": "stderr",
     "output_type": "stream",
     "text": [
      "3it [00:21,  7.11s/it]\n"
     ]
    },
    {
     "name": "stdout",
     "output_type": "stream",
     "text": [
      "tensor([[3.9678],\n",
      "        [4.0870],\n",
      "        [3.9678],\n",
      "        ...,\n",
      "        [3.7988],\n",
      "        [3.7660],\n",
      "        [3.4856]], device='cuda:0')\n",
      "              precision    recall  f1-score   support\n",
      "\n",
      "           0       0.73      0.53      0.61      8765\n",
      "           1       0.70      0.85      0.77     11235\n",
      "\n",
      "    accuracy                           0.71     20000\n",
      "   macro avg       0.72      0.69      0.69     20000\n",
      "weighted avg       0.71      0.71      0.70     20000\n",
      "\n",
      "Epoch-78: Loss = 1.858\n",
      "Train RMSE = 1.369||Train Precision = 69.624||Train Recall = 84.726\n",
      "Test RMSE = 0.968 || Test Precision = 69.780|| Test Recall = 84.984\n"
     ]
    },
    {
     "name": "stderr",
     "output_type": "stream",
     "text": [
      "3it [00:21,  7.15s/it]\n"
     ]
    },
    {
     "name": "stdout",
     "output_type": "stream",
     "text": [
      "tensor([[4.0190],\n",
      "        [4.1353],\n",
      "        [4.0190],\n",
      "        ...,\n",
      "        [3.8147],\n",
      "        [3.7592],\n",
      "        [3.4230]], device='cuda:0')\n",
      "              precision    recall  f1-score   support\n",
      "\n",
      "           0       0.74      0.51      0.60      8765\n",
      "           1       0.69      0.86      0.77     11235\n",
      "\n",
      "    accuracy                           0.71     20000\n",
      "   macro avg       0.72      0.69      0.69     20000\n",
      "weighted avg       0.71      0.71      0.70     20000\n",
      "\n",
      "Epoch-79: Loss = 1.857\n",
      "Train RMSE = 1.369||Train Precision = 69.128||Train Recall = 86.325\n",
      "Test RMSE = 0.970 || Test Precision = 69.225|| Test Recall = 86.070\n"
     ]
    },
    {
     "name": "stderr",
     "output_type": "stream",
     "text": [
      "3it [00:21,  7.11s/it]\n"
     ]
    },
    {
     "name": "stdout",
     "output_type": "stream",
     "text": [
      "tensor([[4.0716],\n",
      "        [4.1670],\n",
      "        [4.0716],\n",
      "        ...,\n",
      "        [3.8150],\n",
      "        [3.8071],\n",
      "        [3.4960]], device='cuda:0')\n",
      "              precision    recall  f1-score   support\n",
      "\n",
      "           0       0.75      0.50      0.60      8765\n",
      "           1       0.69      0.87      0.77     11235\n",
      "\n",
      "    accuracy                           0.71     20000\n",
      "   macro avg       0.72      0.68      0.68     20000\n",
      "weighted avg       0.71      0.71      0.69     20000\n",
      "\n",
      "Epoch-80: Loss = 1.858\n",
      "Train RMSE = 1.370||Train Precision = 68.946||Train Recall = 86.449\n",
      "Test RMSE = 0.970 || Test Precision = 68.992|| Test Recall = 86.720\n"
     ]
    },
    {
     "name": "stderr",
     "output_type": "stream",
     "text": [
      "3it [00:21,  7.13s/it]\n"
     ]
    },
    {
     "name": "stdout",
     "output_type": "stream",
     "text": [
      "tensor([[4.0170],\n",
      "        [4.0814],\n",
      "        [4.0170],\n",
      "        ...,\n",
      "        [3.7586],\n",
      "        [3.7165],\n",
      "        [3.4108]], device='cuda:0')\n",
      "              precision    recall  f1-score   support\n",
      "\n",
      "           0       0.73      0.54      0.62      8765\n",
      "           1       0.70      0.84      0.77     11235\n",
      "\n",
      "    accuracy                           0.71     20000\n",
      "   macro avg       0.71      0.69      0.69     20000\n",
      "weighted avg       0.71      0.71      0.70     20000\n",
      "\n",
      "Epoch-81: Loss = 1.857\n",
      "Train RMSE = 1.370||Train Precision = 70.115||Train Recall = 84.669\n",
      "Test RMSE = 0.967 || Test Precision = 70.174|| Test Recall = 84.228\n"
     ]
    },
    {
     "name": "stderr",
     "output_type": "stream",
     "text": [
      "3it [00:21,  7.11s/it]\n"
     ]
    },
    {
     "name": "stdout",
     "output_type": "stream",
     "text": [
      "tensor([[4.0044],\n",
      "        [4.0853],\n",
      "        [4.0044],\n",
      "        ...,\n",
      "        [3.7442],\n",
      "        [3.7283],\n",
      "        [3.4464]], device='cuda:0')\n",
      "              precision    recall  f1-score   support\n",
      "\n",
      "           0       0.73      0.54      0.62      8765\n",
      "           1       0.70      0.84      0.76     11235\n",
      "\n",
      "    accuracy                           0.71     20000\n",
      "   macro avg       0.71      0.69      0.69     20000\n",
      "weighted avg       0.71      0.71      0.70     20000\n",
      "\n",
      "Epoch-82: Loss = 1.849\n",
      "Train RMSE = 1.366||Train Precision = 70.228||Train Recall = 83.810\n",
      "Test RMSE = 0.966 || Test Precision = 70.256|| Test Recall = 83.925\n"
     ]
    },
    {
     "name": "stderr",
     "output_type": "stream",
     "text": [
      "3it [00:21,  7.11s/it]\n"
     ]
    },
    {
     "name": "stdout",
     "output_type": "stream",
     "text": [
      "tensor([[3.9530],\n",
      "        [3.9988],\n",
      "        [3.9530],\n",
      "        ...,\n",
      "        [3.7533],\n",
      "        [3.6859],\n",
      "        [3.4248]], device='cuda:0')\n",
      "              precision    recall  f1-score   support\n",
      "\n",
      "           0       0.72      0.56      0.63      8765\n",
      "           1       0.71      0.83      0.76     11235\n",
      "\n",
      "    accuracy                           0.71     20000\n",
      "   macro avg       0.71      0.69      0.70     20000\n",
      "weighted avg       0.71      0.71      0.70     20000\n",
      "\n",
      "Epoch-83: Loss = 1.848\n",
      "Train RMSE = 1.366||Train Precision = 71.098||Train Recall = 83.330\n",
      "Test RMSE = 0.966 || Test Precision = 70.595|| Test Recall = 83.124\n"
     ]
    },
    {
     "name": "stderr",
     "output_type": "stream",
     "text": [
      "3it [00:21,  7.12s/it]\n"
     ]
    },
    {
     "name": "stdout",
     "output_type": "stream",
     "text": [
      "tensor([[4.0112],\n",
      "        [4.0894],\n",
      "        [4.0112],\n",
      "        ...,\n",
      "        [3.7992],\n",
      "        [3.7502],\n",
      "        [3.4799]], device='cuda:0')\n",
      "              precision    recall  f1-score   support\n",
      "\n",
      "           0       0.74      0.52      0.61      8765\n",
      "           1       0.69      0.86      0.77     11235\n",
      "\n",
      "    accuracy                           0.71     20000\n",
      "   macro avg       0.72      0.69      0.69     20000\n",
      "weighted avg       0.71      0.71      0.70     20000\n",
      "\n",
      "Epoch-84: Loss = 1.846\n",
      "Train RMSE = 1.366||Train Precision = 69.383||Train Recall = 85.977\n",
      "Test RMSE = 0.967 || Test Precision = 69.486|| Test Recall = 85.616\n"
     ]
    },
    {
     "name": "stderr",
     "output_type": "stream",
     "text": [
      "3it [00:21,  7.11s/it]\n"
     ]
    },
    {
     "name": "stdout",
     "output_type": "stream",
     "text": [
      "tensor([[3.9122],\n",
      "        [3.9649],\n",
      "        [3.9122],\n",
      "        ...,\n",
      "        [3.7038],\n",
      "        [3.6681],\n",
      "        [3.3727]], device='cuda:0')\n",
      "              precision    recall  f1-score   support\n",
      "\n",
      "           0       0.71      0.57      0.63      8765\n",
      "           1       0.71      0.82      0.76     11235\n",
      "\n",
      "    accuracy                           0.71     20000\n",
      "   macro avg       0.71      0.70      0.70     20000\n",
      "weighted avg       0.71      0.71      0.71     20000\n",
      "\n",
      "Epoch-85: Loss = 1.843\n",
      "Train RMSE = 1.365||Train Precision = 71.567||Train Recall = 81.767\n",
      "Test RMSE = 0.966 || Test Precision = 71.085|| Test Recall = 82.056\n"
     ]
    },
    {
     "name": "stderr",
     "output_type": "stream",
     "text": [
      "3it [00:21,  7.11s/it]\n"
     ]
    },
    {
     "name": "stdout",
     "output_type": "stream",
     "text": [
      "tensor([[3.9714],\n",
      "        [4.0008],\n",
      "        [3.9714],\n",
      "        ...,\n",
      "        [3.7308],\n",
      "        [3.6617],\n",
      "        [3.3985]], device='cuda:0')\n",
      "              precision    recall  f1-score   support\n",
      "\n",
      "           0       0.72      0.56      0.63      8765\n",
      "           1       0.71      0.83      0.77     11235\n",
      "\n",
      "    accuracy                           0.71     20000\n",
      "   macro avg       0.72      0.70      0.70     20000\n",
      "weighted avg       0.71      0.71      0.71     20000\n",
      "\n",
      "Epoch-86: Loss = 1.842\n",
      "Train RMSE = 1.365||Train Precision = 71.396||Train Recall = 83.376\n",
      "Test RMSE = 0.965 || Test Precision = 70.739|| Test Recall = 83.382\n"
     ]
    },
    {
     "name": "stderr",
     "output_type": "stream",
     "text": [
      "3it [00:21,  7.13s/it]\n"
     ]
    },
    {
     "name": "stdout",
     "output_type": "stream",
     "text": [
      "tensor([[4.0107],\n",
      "        [4.0737],\n",
      "        [4.0107],\n",
      "        ...,\n",
      "        [3.7248],\n",
      "        [3.6948],\n",
      "        [3.3922]], device='cuda:0')\n",
      "              precision    recall  f1-score   support\n",
      "\n",
      "           0       0.72      0.56      0.63      8765\n",
      "           1       0.71      0.83      0.77     11235\n",
      "\n",
      "    accuracy                           0.71     20000\n",
      "   macro avg       0.72      0.70      0.70     20000\n",
      "weighted avg       0.71      0.71      0.71     20000\n",
      "\n",
      "Epoch-87: Loss = 1.835\n",
      "Train RMSE = 1.362||Train Precision = 71.159||Train Recall = 83.267\n",
      "Test RMSE = 0.965 || Test Precision = 70.766|| Test Recall = 83.275\n"
     ]
    },
    {
     "name": "stderr",
     "output_type": "stream",
     "text": [
      "3it [00:21,  7.10s/it]\n"
     ]
    },
    {
     "name": "stdout",
     "output_type": "stream",
     "text": [
      "tensor([[4.0320],\n",
      "        [4.0923],\n",
      "        [4.0320],\n",
      "        ...,\n",
      "        [3.7206],\n",
      "        [3.6974],\n",
      "        [3.3613]], device='cuda:0')\n",
      "              precision    recall  f1-score   support\n",
      "\n",
      "           0       0.72      0.56      0.63      8765\n",
      "           1       0.71      0.83      0.76     11235\n",
      "\n",
      "    accuracy                           0.71     20000\n",
      "   macro avg       0.71      0.70      0.70     20000\n",
      "weighted avg       0.71      0.71      0.71     20000\n",
      "\n",
      "Epoch-88: Loss = 1.834\n",
      "Train RMSE = 1.363||Train Precision = 70.743||Train Recall = 82.827\n",
      "Test RMSE = 0.965 || Test Precision = 70.784|| Test Recall = 83.195\n"
     ]
    },
    {
     "name": "stderr",
     "output_type": "stream",
     "text": [
      "3it [00:21,  7.13s/it]\n"
     ]
    },
    {
     "name": "stdout",
     "output_type": "stream",
     "text": [
      "tensor([[4.0035],\n",
      "        [4.0485],\n",
      "        [4.0035],\n",
      "        ...,\n",
      "        [3.7382],\n",
      "        [3.7061],\n",
      "        [3.4336]], device='cuda:0')\n",
      "              precision    recall  f1-score   support\n",
      "\n",
      "           0       0.72      0.56      0.63      8765\n",
      "           1       0.71      0.83      0.76     11235\n",
      "\n",
      "    accuracy                           0.71     20000\n",
      "   macro avg       0.71      0.69      0.70     20000\n",
      "weighted avg       0.71      0.71      0.70     20000\n",
      "\n",
      "Epoch-89: Loss = 1.830\n",
      "Train RMSE = 1.361||Train Precision = 71.313||Train Recall = 83.363\n",
      "Test RMSE = 0.964 || Test Precision = 70.628|| Test Recall = 83.258\n"
     ]
    },
    {
     "name": "stderr",
     "output_type": "stream",
     "text": [
      "3it [00:21,  7.10s/it]\n"
     ]
    },
    {
     "name": "stdout",
     "output_type": "stream",
     "text": [
      "tensor([[4.0524],\n",
      "        [4.1234],\n",
      "        [4.0524],\n",
      "        ...,\n",
      "        [3.7414],\n",
      "        [3.7341],\n",
      "        [3.4435]], device='cuda:0')\n",
      "              precision    recall  f1-score   support\n",
      "\n",
      "           0       0.73      0.54      0.62      8765\n",
      "           1       0.70      0.84      0.77     11235\n",
      "\n",
      "    accuracy                           0.71     20000\n",
      "   macro avg       0.72      0.69      0.69     20000\n",
      "weighted avg       0.71      0.71      0.70     20000\n",
      "\n",
      "Epoch-90: Loss = 1.829\n",
      "Train RMSE = 1.361||Train Precision = 70.264||Train Recall = 84.192\n",
      "Test RMSE = 0.964 || Test Precision = 70.092|| Test Recall = 84.441\n"
     ]
    },
    {
     "name": "stderr",
     "output_type": "stream",
     "text": [
      "3it [00:21,  7.12s/it]\n"
     ]
    },
    {
     "name": "stdout",
     "output_type": "stream",
     "text": [
      "tensor([[4.0334],\n",
      "        [4.0782],\n",
      "        [4.0334],\n",
      "        ...,\n",
      "        [3.7037],\n",
      "        [3.6845],\n",
      "        [3.4261]], device='cuda:0')\n",
      "              precision    recall  f1-score   support\n",
      "\n",
      "           0       0.72      0.57      0.63      8765\n",
      "           1       0.71      0.82      0.76     11235\n",
      "\n",
      "    accuracy                           0.71     20000\n",
      "   macro avg       0.71      0.70      0.70     20000\n",
      "weighted avg       0.71      0.71      0.71     20000\n",
      "\n",
      "Epoch-91: Loss = 1.828\n",
      "Train RMSE = 1.361||Train Precision = 71.206||Train Recall = 81.830\n",
      "Test RMSE = 0.965 || Test Precision = 71.019|| Test Recall = 82.492\n"
     ]
    },
    {
     "name": "stderr",
     "output_type": "stream",
     "text": [
      "3it [00:21,  7.12s/it]\n"
     ]
    },
    {
     "name": "stdout",
     "output_type": "stream",
     "text": [
      "tensor([[3.9828],\n",
      "        [4.0409],\n",
      "        [3.9828],\n",
      "        ...,\n",
      "        [3.6616],\n",
      "        [3.6672],\n",
      "        [3.3763]], device='cuda:0')\n",
      "              precision    recall  f1-score   support\n",
      "\n",
      "           0       0.71      0.59      0.64      8765\n",
      "           1       0.71      0.81      0.76     11235\n",
      "\n",
      "    accuracy                           0.71     20000\n",
      "   macro avg       0.71      0.70      0.70     20000\n",
      "weighted avg       0.71      0.71      0.71     20000\n",
      "\n",
      "Epoch-92: Loss = 1.825\n",
      "Train RMSE = 1.360||Train Precision = 72.333||Train Recall = 81.030\n",
      "Test RMSE = 0.965 || Test Precision = 71.490|| Test Recall = 81.175\n"
     ]
    },
    {
     "name": "stderr",
     "output_type": "stream",
     "text": [
      "3it [00:21,  7.13s/it]\n"
     ]
    },
    {
     "name": "stdout",
     "output_type": "stream",
     "text": [
      "tensor([[4.1008],\n",
      "        [4.2024],\n",
      "        [4.1008],\n",
      "        ...,\n",
      "        [3.7261],\n",
      "        [3.8039],\n",
      "        [3.6316]], device='cuda:0')\n",
      "              precision    recall  f1-score   support\n",
      "\n",
      "           0       0.75      0.49      0.59      8765\n",
      "           1       0.69      0.88      0.77     11235\n",
      "\n",
      "    accuracy                           0.71     20000\n",
      "   macro avg       0.72      0.68      0.68     20000\n",
      "weighted avg       0.72      0.71      0.69     20000\n",
      "\n",
      "Epoch-93: Loss = 1.831\n",
      "Train RMSE = 1.364||Train Precision = 68.771||Train Recall = 87.834\n",
      "Test RMSE = 0.969 || Test Precision = 68.762|| Test Recall = 87.539\n"
     ]
    },
    {
     "name": "stderr",
     "output_type": "stream",
     "text": [
      "3it [00:21,  7.14s/it]\n"
     ]
    },
    {
     "name": "stdout",
     "output_type": "stream",
     "text": [
      "tensor([[3.9661],\n",
      "        [4.0306],\n",
      "        [3.9661],\n",
      "        ...,\n",
      "        [3.6003],\n",
      "        [3.6750],\n",
      "        [3.4608]], device='cuda:0')\n",
      "              precision    recall  f1-score   support\n",
      "\n",
      "           0       0.71      0.57      0.63      8765\n",
      "           1       0.71      0.82      0.76     11235\n",
      "\n",
      "    accuracy                           0.71     20000\n",
      "   macro avg       0.71      0.70      0.70     20000\n",
      "weighted avg       0.71      0.71      0.71     20000\n",
      "\n",
      "Epoch-94: Loss = 1.827\n",
      "Train RMSE = 1.362||Train Precision = 71.593||Train Recall = 81.865\n",
      "Test RMSE = 0.964 || Test Precision = 71.057|| Test Recall = 82.163\n"
     ]
    },
    {
     "name": "stderr",
     "output_type": "stream",
     "text": [
      "3it [00:21,  7.11s/it]\n"
     ]
    },
    {
     "name": "stdout",
     "output_type": "stream",
     "text": [
      "tensor([[4.0272],\n",
      "        [4.1086],\n",
      "        [4.0272],\n",
      "        ...,\n",
      "        [3.6304],\n",
      "        [3.7405],\n",
      "        [3.4789]], device='cuda:0')\n",
      "              precision    recall  f1-score   support\n",
      "\n",
      "           0       0.73      0.54      0.62      8765\n",
      "           1       0.70      0.84      0.77     11235\n",
      "\n",
      "    accuracy                           0.71     20000\n",
      "   macro avg       0.72      0.69      0.69     20000\n",
      "weighted avg       0.71      0.71      0.70     20000\n",
      "\n",
      "Epoch-95: Loss = 1.817\n",
      "Train RMSE = 1.357||Train Precision = 70.318||Train Recall = 84.311\n",
      "Test RMSE = 0.964 || Test Precision = 70.183|| Test Recall = 84.326\n"
     ]
    },
    {
     "name": "stderr",
     "output_type": "stream",
     "text": [
      "3it [00:21,  7.13s/it]\n"
     ]
    },
    {
     "name": "stdout",
     "output_type": "stream",
     "text": [
      "tensor([[4.0521],\n",
      "        [4.1217],\n",
      "        [4.0521],\n",
      "        ...,\n",
      "        [3.6743],\n",
      "        [3.7521],\n",
      "        [3.4942]], device='cuda:0')\n",
      "              precision    recall  f1-score   support\n",
      "\n",
      "           0       0.74      0.51      0.61      8765\n",
      "           1       0.69      0.86      0.77     11235\n",
      "\n",
      "    accuracy                           0.71     20000\n",
      "   macro avg       0.72      0.69      0.69     20000\n",
      "weighted avg       0.72      0.71      0.70     20000\n",
      "\n",
      "Epoch-96: Loss = 1.815\n",
      "Train RMSE = 1.357||Train Precision = 69.257||Train Recall = 86.476\n",
      "Test RMSE = 0.965 || Test Precision = 69.354|| Test Recall = 86.213\n"
     ]
    },
    {
     "name": "stderr",
     "output_type": "stream",
     "text": [
      "3it [00:21,  7.22s/it]\n"
     ]
    },
    {
     "name": "stdout",
     "output_type": "stream",
     "text": [
      "tensor([[4.0228],\n",
      "        [4.0651],\n",
      "        [4.0228],\n",
      "        ...,\n",
      "        [3.6109],\n",
      "        [3.7077],\n",
      "        [3.4076]], device='cuda:0')\n",
      "              precision    recall  f1-score   support\n",
      "\n",
      "           0       0.72      0.56      0.63      8765\n",
      "           1       0.71      0.83      0.76     11235\n",
      "\n",
      "    accuracy                           0.71     20000\n",
      "   macro avg       0.71      0.69      0.70     20000\n",
      "weighted avg       0.71      0.71      0.70     20000\n",
      "\n",
      "Epoch-97: Loss = 1.815\n",
      "Train RMSE = 1.357||Train Precision = 71.198||Train Recall = 83.136\n",
      "Test RMSE = 0.963 || Test Precision = 70.654|| Test Recall = 83.231\n"
     ]
    },
    {
     "name": "stderr",
     "output_type": "stream",
     "text": [
      "3it [00:21,  7.17s/it]\n"
     ]
    },
    {
     "name": "stdout",
     "output_type": "stream",
     "text": [
      "tensor([[4.0214],\n",
      "        [4.0589],\n",
      "        [4.0214],\n",
      "        ...,\n",
      "        [3.6328],\n",
      "        [3.6784],\n",
      "        [3.4157]], device='cuda:0')\n",
      "              precision    recall  f1-score   support\n",
      "\n",
      "           0       0.72      0.55      0.63      8765\n",
      "           1       0.71      0.84      0.77     11235\n",
      "\n",
      "    accuracy                           0.71     20000\n",
      "   macro avg       0.72      0.69      0.70     20000\n",
      "weighted avg       0.71      0.71      0.71     20000\n",
      "\n",
      "Epoch-98: Loss = 1.809\n",
      "Train RMSE = 1.355||Train Precision = 70.905||Train Recall = 83.039\n",
      "Test RMSE = 0.963 || Test Precision = 70.618|| Test Recall = 83.516\n"
     ]
    },
    {
     "name": "stderr",
     "output_type": "stream",
     "text": [
      "3it [00:21,  7.15s/it]\n"
     ]
    },
    {
     "name": "stdout",
     "output_type": "stream",
     "text": [
      "tensor([[4.0854],\n",
      "        [4.1319],\n",
      "        [4.0854],\n",
      "        ...,\n",
      "        [3.7063],\n",
      "        [3.7451],\n",
      "        [3.5293]], device='cuda:0')\n",
      "              precision    recall  f1-score   support\n",
      "\n",
      "           0       0.74      0.51      0.61      8765\n",
      "           1       0.69      0.86      0.77     11235\n",
      "\n",
      "    accuracy                           0.71     20000\n",
      "   macro avg       0.72      0.69      0.69     20000\n",
      "weighted avg       0.72      0.71      0.70     20000\n",
      "\n",
      "Epoch-99: Loss = 1.806\n",
      "Train RMSE = 1.354||Train Precision = 69.725||Train Recall = 86.737\n",
      "Test RMSE = 0.965 || Test Precision = 69.425|| Test Recall = 86.257\n"
     ]
    },
    {
     "name": "stderr",
     "output_type": "stream",
     "text": [
      "3it [00:21,  7.27s/it]\n"
     ]
    },
    {
     "name": "stdout",
     "output_type": "stream",
     "text": [
      "tensor([[4.0433],\n",
      "        [4.0564],\n",
      "        [4.0433],\n",
      "        ...,\n",
      "        [3.6219],\n",
      "        [3.6692],\n",
      "        [3.4514]], device='cuda:0')\n",
      "              precision    recall  f1-score   support\n",
      "\n",
      "           0       0.72      0.57      0.63      8765\n",
      "           1       0.71      0.83      0.76     11235\n",
      "\n",
      "    accuracy                           0.71     20000\n",
      "   macro avg       0.71      0.70      0.70     20000\n",
      "weighted avg       0.71      0.71      0.71     20000\n",
      "\n",
      "Epoch-100: Loss = 1.810\n",
      "Train RMSE = 1.356||Train Precision = 71.792||Train Recall = 82.648\n",
      "Test RMSE = 0.963 || Test Precision = 71.065|| Test Recall = 82.501\n"
     ]
    },
    {
     "name": "stderr",
     "output_type": "stream",
     "text": [
      "3it [00:21,  7.17s/it]\n"
     ]
    },
    {
     "name": "stdout",
     "output_type": "stream",
     "text": [
      "tensor([[4.0493],\n",
      "        [4.0647],\n",
      "        [4.0493],\n",
      "        ...,\n",
      "        [3.5945],\n",
      "        [3.6528],\n",
      "        [3.4468]], device='cuda:0')\n",
      "              precision    recall  f1-score   support\n",
      "\n",
      "           0       0.72      0.57      0.63      8765\n",
      "           1       0.71      0.83      0.76     11235\n",
      "\n",
      "    accuracy                           0.71     20000\n",
      "   macro avg       0.71      0.70      0.70     20000\n",
      "weighted avg       0.71      0.71      0.71     20000\n",
      "\n",
      "Epoch-101: Loss = 1.803\n",
      "Train RMSE = 1.353||Train Precision = 71.896||Train Recall = 82.247\n",
      "Test RMSE = 0.963 || Test Precision = 71.052|| Test Recall = 82.537\n"
     ]
    },
    {
     "name": "stderr",
     "output_type": "stream",
     "text": [
      "3it [00:22,  7.37s/it]\n"
     ]
    },
    {
     "name": "stdout",
     "output_type": "stream",
     "text": [
      "tensor([[4.1073],\n",
      "        [4.2224],\n",
      "        [4.1073],\n",
      "        ...,\n",
      "        [3.7161],\n",
      "        [3.8047],\n",
      "        [3.5603]], device='cuda:0')\n",
      "              precision    recall  f1-score   support\n",
      "\n",
      "           0       0.76      0.48      0.59      8765\n",
      "           1       0.68      0.88      0.77     11235\n",
      "\n",
      "    accuracy                           0.71     20000\n",
      "   macro avg       0.72      0.68      0.68     20000\n",
      "weighted avg       0.72      0.71      0.69     20000\n",
      "\n",
      "Epoch-102: Loss = 1.803\n",
      "Train RMSE = 1.353||Train Precision = 68.660||Train Recall = 89.192\n",
      "Test RMSE = 0.969 || Test Precision = 68.491|| Test Recall = 88.091\n"
     ]
    },
    {
     "name": "stderr",
     "output_type": "stream",
     "text": [
      "3it [00:21,  7.16s/it]\n"
     ]
    },
    {
     "name": "stdout",
     "output_type": "stream",
     "text": [
      "tensor([[3.7885],\n",
      "        [3.8100],\n",
      "        [3.7885],\n",
      "        ...,\n",
      "        [3.4433],\n",
      "        [3.4787],\n",
      "        [3.1242]], device='cuda:0')\n",
      "              precision    recall  f1-score   support\n",
      "\n",
      "           0       0.65      0.70      0.67      8765\n",
      "           1       0.75      0.71      0.73     11235\n",
      "\n",
      "    accuracy                           0.70     20000\n",
      "   macro avg       0.70      0.70      0.70     20000\n",
      "weighted avg       0.71      0.70      0.70     20000\n",
      "\n",
      "Epoch-103: Loss = 1.842\n",
      "Train RMSE = 1.375||Train Precision = 76.416||Train Recall = 68.720\n",
      "Test RMSE = 0.994 || Test Precision = 74.943|| Test Recall = 70.521\n"
     ]
    },
    {
     "name": "stderr",
     "output_type": "stream",
     "text": [
      "3it [00:21,  7.27s/it]\n"
     ]
    },
    {
     "name": "stdout",
     "output_type": "stream",
     "text": [
      "tensor([[3.8978],\n",
      "        [4.0396],\n",
      "        [3.8978],\n",
      "        ...,\n",
      "        [3.4977],\n",
      "        [3.6243],\n",
      "        [3.4258]], device='cuda:0')\n",
      "              precision    recall  f1-score   support\n",
      "\n",
      "           0       0.70      0.61      0.65      8765\n",
      "           1       0.72      0.79      0.76     11235\n",
      "\n",
      "    accuracy                           0.71     20000\n",
      "   macro avg       0.71      0.70      0.70     20000\n",
      "weighted avg       0.71      0.71      0.71     20000\n",
      "\n",
      "Epoch-104: Loss = 1.863\n",
      "Train RMSE = 1.387||Train Precision = 72.859||Train Recall = 78.154\n",
      "Test RMSE = 0.967 || Test Precision = 72.247|| Test Recall = 79.404\n"
     ]
    },
    {
     "name": "stderr",
     "output_type": "stream",
     "text": [
      "3it [00:22,  7.41s/it]\n"
     ]
    },
    {
     "name": "stdout",
     "output_type": "stream",
     "text": [
      "tensor([[4.0144],\n",
      "        [4.1146],\n",
      "        [4.0144],\n",
      "        ...,\n",
      "        [3.6371],\n",
      "        [3.7323],\n",
      "        [3.4489]], device='cuda:0')\n",
      "              precision    recall  f1-score   support\n",
      "\n",
      "           0       0.73      0.55      0.63      8765\n",
      "           1       0.71      0.84      0.77     11235\n",
      "\n",
      "    accuracy                           0.71     20000\n",
      "   macro avg       0.72      0.70      0.70     20000\n",
      "weighted avg       0.72      0.71      0.71     20000\n",
      "\n",
      "Epoch-105: Loss = 1.826\n",
      "Train RMSE = 1.367||Train Precision = 70.598||Train Recall = 84.486\n",
      "Test RMSE = 0.963 || Test Precision = 70.554|| Test Recall = 84.005\n"
     ]
    },
    {
     "name": "stderr",
     "output_type": "stream",
     "text": [
      "3it [00:21,  7.15s/it]\n"
     ]
    },
    {
     "name": "stdout",
     "output_type": "stream",
     "text": [
      "tensor([[4.0796],\n",
      "        [4.1753],\n",
      "        [4.0796],\n",
      "        ...,\n",
      "        [3.6811],\n",
      "        [3.7545],\n",
      "        [3.6208]], device='cuda:0')\n",
      "              precision    recall  f1-score   support\n",
      "\n",
      "           0       0.75      0.51      0.61      8765\n",
      "           1       0.69      0.87      0.77     11235\n",
      "\n",
      "    accuracy                           0.71     20000\n",
      "   macro avg       0.72      0.69      0.69     20000\n",
      "weighted avg       0.72      0.71      0.70     20000\n",
      "\n",
      "Epoch-106: Loss = 1.809\n",
      "Train RMSE = 1.358||Train Precision = 69.088||Train Recall = 87.188\n",
      "Test RMSE = 0.964 || Test Precision = 69.420|| Test Recall = 86.765\n"
     ]
    },
    {
     "name": "stderr",
     "output_type": "stream",
     "text": [
      "3it [00:22,  7.35s/it]\n"
     ]
    },
    {
     "name": "stdout",
     "output_type": "stream",
     "text": [
      "tensor([[4.1603],\n",
      "        [4.2496],\n",
      "        [4.1603],\n",
      "        ...,\n",
      "        [3.6461],\n",
      "        [3.7917],\n",
      "        [3.5933]], device='cuda:0')\n",
      "              precision    recall  f1-score   support\n",
      "\n",
      "           0       0.75      0.51      0.61      8765\n",
      "           1       0.69      0.87      0.77     11235\n",
      "\n",
      "    accuracy                           0.71     20000\n",
      "   macro avg       0.72      0.69      0.69     20000\n",
      "weighted avg       0.72      0.71      0.70     20000\n",
      "\n",
      "Epoch-107: Loss = 1.803\n",
      "Train RMSE = 1.355||Train Precision = 69.441||Train Recall = 86.804\n",
      "Test RMSE = 0.965 || Test Precision = 69.328|| Test Recall = 86.729\n"
     ]
    },
    {
     "name": "stderr",
     "output_type": "stream",
     "text": [
      "3it [00:21,  7.13s/it]\n"
     ]
    },
    {
     "name": "stdout",
     "output_type": "stream",
     "text": [
      "tensor([[4.1136],\n",
      "        [4.1741],\n",
      "        [4.1136],\n",
      "        ...,\n",
      "        [3.6474],\n",
      "        [3.7563],\n",
      "        [3.5482]], device='cuda:0')\n",
      "              precision    recall  f1-score   support\n",
      "\n",
      "           0       0.75      0.50      0.60      8765\n",
      "           1       0.69      0.87      0.77     11235\n",
      "\n",
      "    accuracy                           0.71     20000\n",
      "   macro avg       0.72      0.69      0.69     20000\n",
      "weighted avg       0.72      0.71      0.70     20000\n",
      "\n",
      "Epoch-108: Loss = 1.795\n",
      "Train RMSE = 1.351||Train Precision = 69.248||Train Recall = 87.455\n",
      "Test RMSE = 0.965 || Test Precision = 69.166|| Test Recall = 86.791\n"
     ]
    },
    {
     "name": "stderr",
     "output_type": "stream",
     "text": [
      "3it [00:21,  7.19s/it]\n"
     ]
    },
    {
     "name": "stdout",
     "output_type": "stream",
     "text": [
      "tensor([[4.0954],\n",
      "        [4.1960],\n",
      "        [4.0954],\n",
      "        ...,\n",
      "        [3.6221],\n",
      "        [3.7954],\n",
      "        [3.6183]], device='cuda:0')\n",
      "              precision    recall  f1-score   support\n",
      "\n",
      "           0       0.75      0.50      0.60      8765\n",
      "           1       0.69      0.87      0.77     11235\n",
      "\n",
      "    accuracy                           0.71     20000\n",
      "   macro avg       0.72      0.68      0.68     20000\n",
      "weighted avg       0.72      0.71      0.69     20000\n",
      "\n",
      "Epoch-109: Loss = 1.794\n",
      "Train RMSE = 1.351||Train Precision = 69.297||Train Recall = 87.936\n",
      "Test RMSE = 0.966 || Test Precision = 68.922|| Test Recall = 87.325\n"
     ]
    },
    {
     "name": "stderr",
     "output_type": "stream",
     "text": [
      "3it [00:21,  7.23s/it]\n"
     ]
    },
    {
     "name": "stdout",
     "output_type": "stream",
     "text": [
      "tensor([[4.0868],\n",
      "        [4.1514],\n",
      "        [4.0868],\n",
      "        ...,\n",
      "        [3.5696],\n",
      "        [3.7017],\n",
      "        [3.4372]], device='cuda:0')\n",
      "              precision    recall  f1-score   support\n",
      "\n",
      "           0       0.73      0.54      0.62      8765\n",
      "           1       0.70      0.85      0.77     11235\n",
      "\n",
      "    accuracy                           0.71     20000\n",
      "   macro avg       0.72      0.69      0.69     20000\n",
      "weighted avg       0.71      0.71      0.70     20000\n",
      "\n",
      "Epoch-110: Loss = 1.796\n",
      "Train RMSE = 1.352||Train Precision = 70.955||Train Recall = 85.074\n",
      "Test RMSE = 0.962 || Test Precision = 70.120|| Test Recall = 84.593\n"
     ]
    },
    {
     "name": "stderr",
     "output_type": "stream",
     "text": [
      "3it [00:21,  7.13s/it]\n"
     ]
    },
    {
     "name": "stdout",
     "output_type": "stream",
     "text": [
      "tensor([[4.0409],\n",
      "        [4.1100],\n",
      "        [4.0409],\n",
      "        ...,\n",
      "        [3.5527],\n",
      "        [3.7090],\n",
      "        [3.4646]], device='cuda:0')\n",
      "              precision    recall  f1-score   support\n",
      "\n",
      "           0       0.72      0.56      0.63      8765\n",
      "           1       0.71      0.83      0.76     11235\n",
      "\n",
      "    accuracy                           0.71     20000\n",
      "   macro avg       0.71      0.70      0.70     20000\n",
      "weighted avg       0.71      0.71      0.71     20000\n",
      "\n",
      "Epoch-111: Loss = 1.781\n",
      "Train RMSE = 1.345||Train Precision = 71.489||Train Recall = 83.465\n",
      "Test RMSE = 0.962 || Test Precision = 70.816|| Test Recall = 82.937\n"
     ]
    },
    {
     "name": "stderr",
     "output_type": "stream",
     "text": [
      "3it [00:21,  7.28s/it]\n"
     ]
    },
    {
     "name": "stdout",
     "output_type": "stream",
     "text": [
      "tensor([[4.0112],\n",
      "        [4.0872],\n",
      "        [4.0112],\n",
      "        ...,\n",
      "        [3.5258],\n",
      "        [3.6855],\n",
      "        [3.3939]], device='cuda:0')\n",
      "              precision    recall  f1-score   support\n",
      "\n",
      "           0       0.71      0.58      0.64      8765\n",
      "           1       0.71      0.81      0.76     11235\n",
      "\n",
      "    accuracy                           0.71     20000\n",
      "   macro avg       0.71      0.70      0.70     20000\n",
      "weighted avg       0.71      0.71      0.71     20000\n",
      "\n",
      "Epoch-112: Loss = 1.785\n",
      "Train RMSE = 1.347||Train Precision = 71.853||Train Recall = 81.546\n",
      "Test RMSE = 0.963 || Test Precision = 71.371|| Test Recall = 81.344\n"
     ]
    },
    {
     "name": "stderr",
     "output_type": "stream",
     "text": [
      "3it [00:21,  7.30s/it]\n"
     ]
    },
    {
     "name": "stdout",
     "output_type": "stream",
     "text": [
      "tensor([[4.0660],\n",
      "        [4.1294],\n",
      "        [4.0660],\n",
      "        ...,\n",
      "        [3.5385],\n",
      "        [3.6887],\n",
      "        [3.4336]], device='cuda:0')\n",
      "              precision    recall  f1-score   support\n",
      "\n",
      "           0       0.72      0.55      0.63      8765\n",
      "           1       0.71      0.84      0.77     11235\n",
      "\n",
      "    accuracy                           0.71     20000\n",
      "   macro avg       0.71      0.69      0.70     20000\n",
      "weighted avg       0.71      0.71      0.70     20000\n",
      "\n",
      "Epoch-113: Loss = 1.784\n",
      "Train RMSE = 1.347||Train Precision = 70.982||Train Recall = 83.822\n",
      "Test RMSE = 0.961 || Test Precision = 70.556|| Test Recall = 83.543\n"
     ]
    },
    {
     "name": "stderr",
     "output_type": "stream",
     "text": [
      "3it [00:21,  7.14s/it]\n"
     ]
    },
    {
     "name": "stdout",
     "output_type": "stream",
     "text": [
      "tensor([[4.1475],\n",
      "        [4.2348],\n",
      "        [4.1475],\n",
      "        ...,\n",
      "        [3.6053],\n",
      "        [3.7996],\n",
      "        [3.5354]], device='cuda:0')\n",
      "              precision    recall  f1-score   support\n",
      "\n",
      "           0       0.74      0.52      0.61      8765\n",
      "           1       0.70      0.86      0.77     11235\n",
      "\n",
      "    accuracy                           0.71     20000\n",
      "   macro avg       0.72      0.69      0.69     20000\n",
      "weighted avg       0.72      0.71      0.70     20000\n",
      "\n",
      "Epoch-114: Loss = 1.782\n",
      "Train RMSE = 1.346||Train Precision = 70.153||Train Recall = 86.941\n",
      "Test RMSE = 0.962 || Test Precision = 69.523|| Test Recall = 86.213\n"
     ]
    },
    {
     "name": "stderr",
     "output_type": "stream",
     "text": [
      "3it [00:21,  7.28s/it]\n"
     ]
    },
    {
     "name": "stdout",
     "output_type": "stream",
     "text": [
      "tensor([[4.1580],\n",
      "        [4.2407],\n",
      "        [4.1580],\n",
      "        ...,\n",
      "        [3.6251],\n",
      "        [3.7845],\n",
      "        [3.5107]], device='cuda:0')\n",
      "              precision    recall  f1-score   support\n",
      "\n",
      "           0       0.75      0.51      0.61      8765\n",
      "           1       0.69      0.87      0.77     11235\n",
      "\n",
      "    accuracy                           0.71     20000\n",
      "   macro avg       0.72      0.69      0.69     20000\n",
      "weighted avg       0.72      0.71      0.70     20000\n",
      "\n",
      "Epoch-115: Loss = 1.776\n",
      "Train RMSE = 1.343||Train Precision = 69.722||Train Recall = 87.304\n",
      "Test RMSE = 0.962 || Test Precision = 69.324|| Test Recall = 86.756\n"
     ]
    },
    {
     "name": "stderr",
     "output_type": "stream",
     "text": [
      "3it [00:21,  7.29s/it]\n"
     ]
    },
    {
     "name": "stdout",
     "output_type": "stream",
     "text": [
      "tensor([[4.1537],\n",
      "        [4.2641],\n",
      "        [4.1537],\n",
      "        ...,\n",
      "        [3.5954],\n",
      "        [3.7866],\n",
      "        [3.5751]], device='cuda:0')\n",
      "              precision    recall  f1-score   support\n",
      "\n",
      "           0       0.75      0.51      0.61      8765\n",
      "           1       0.69      0.87      0.77     11235\n",
      "\n",
      "    accuracy                           0.71     20000\n",
      "   macro avg       0.72      0.69      0.69     20000\n",
      "weighted avg       0.72      0.71      0.70     20000\n",
      "\n",
      "Epoch-116: Loss = 1.777\n",
      "Train RMSE = 1.344||Train Precision = 70.076||Train Recall = 87.001\n",
      "Test RMSE = 0.962 || Test Precision = 69.434|| Test Recall = 86.640\n"
     ]
    },
    {
     "name": "stderr",
     "output_type": "stream",
     "text": [
      "3it [00:21,  7.14s/it]\n"
     ]
    },
    {
     "name": "stdout",
     "output_type": "stream",
     "text": [
      "tensor([[4.1291],\n",
      "        [4.2576],\n",
      "        [4.1291],\n",
      "        ...,\n",
      "        [3.5579],\n",
      "        [3.7919],\n",
      "        [3.5709]], device='cuda:0')\n",
      "              precision    recall  f1-score   support\n",
      "\n",
      "           0       0.74      0.52      0.61      8765\n",
      "           1       0.70      0.86      0.77     11235\n",
      "\n",
      "    accuracy                           0.71     20000\n",
      "   macro avg       0.72      0.69      0.69     20000\n",
      "weighted avg       0.72      0.71      0.70     20000\n",
      "\n",
      "Epoch-117: Loss = 1.771\n",
      "Train RMSE = 1.341||Train Precision = 70.435||Train Recall = 86.616\n",
      "Test RMSE = 0.961 || Test Precision = 69.706|| Test Recall = 85.874\n"
     ]
    },
    {
     "name": "stderr",
     "output_type": "stream",
     "text": [
      "3it [00:22,  7.45s/it]\n"
     ]
    },
    {
     "name": "stdout",
     "output_type": "stream",
     "text": [
      "tensor([[4.0643],\n",
      "        [4.1526],\n",
      "        [4.0643],\n",
      "        ...,\n",
      "        [3.5086],\n",
      "        [3.7059],\n",
      "        [3.5203]], device='cuda:0')\n",
      "              precision    recall  f1-score   support\n",
      "\n",
      "           0       0.72      0.55      0.63      8765\n",
      "           1       0.71      0.84      0.77     11235\n",
      "\n",
      "    accuracy                           0.71     20000\n",
      "   macro avg       0.72      0.69      0.70     20000\n",
      "weighted avg       0.71      0.71      0.71     20000\n",
      "\n",
      "Epoch-118: Loss = 1.770\n",
      "Train RMSE = 1.340||Train Precision = 71.592||Train Recall = 84.085\n",
      "Test RMSE = 0.961 || Test Precision = 70.595|| Test Recall = 83.596\n"
     ]
    },
    {
     "name": "stderr",
     "output_type": "stream",
     "text": [
      "3it [00:21,  7.15s/it]\n"
     ]
    },
    {
     "name": "stdout",
     "output_type": "stream",
     "text": [
      "tensor([[4.0949],\n",
      "        [4.1897],\n",
      "        [4.0949],\n",
      "        ...,\n",
      "        [3.5103],\n",
      "        [3.7472],\n",
      "        [3.5398]], device='cuda:0')\n",
      "              precision    recall  f1-score   support\n",
      "\n",
      "           0       0.73      0.55      0.62      8765\n",
      "           1       0.70      0.84      0.77     11235\n",
      "\n",
      "    accuracy                           0.71     20000\n",
      "   macro avg       0.72      0.69      0.70     20000\n",
      "weighted avg       0.71      0.71      0.70     20000\n",
      "\n",
      "Epoch-119: Loss = 1.765\n",
      "Train RMSE = 1.339||Train Precision = 71.240||Train Recall = 84.587\n",
      "Test RMSE = 0.960 || Test Precision = 70.361|| Test Recall = 84.201\n"
     ]
    },
    {
     "name": "stderr",
     "output_type": "stream",
     "text": [
      "3it [00:21,  7.23s/it]\n"
     ]
    },
    {
     "name": "stdout",
     "output_type": "stream",
     "text": [
      "tensor([[4.1260],\n",
      "        [4.2333],\n",
      "        [4.1260],\n",
      "        ...,\n",
      "        [3.5364],\n",
      "        [3.7504],\n",
      "        [3.5411]], device='cuda:0')\n",
      "              precision    recall  f1-score   support\n",
      "\n",
      "           0       0.74      0.52      0.61      8765\n",
      "           1       0.70      0.86      0.77     11235\n",
      "\n",
      "    accuracy                           0.71     20000\n",
      "   macro avg       0.72      0.69      0.69     20000\n",
      "weighted avg       0.72      0.71      0.70     20000\n",
      "\n",
      "Epoch-120: Loss = 1.767\n",
      "Train RMSE = 1.340||Train Precision = 70.212||Train Recall = 87.078\n",
      "Test RMSE = 0.961 || Test Precision = 69.713|| Test Recall = 85.883\n"
     ]
    },
    {
     "name": "stderr",
     "output_type": "stream",
     "text": [
      "3it [00:21,  7.33s/it]\n"
     ]
    },
    {
     "name": "stdout",
     "output_type": "stream",
     "text": [
      "tensor([[4.1377],\n",
      "        [4.2453],\n",
      "        [4.1377],\n",
      "        ...,\n",
      "        [3.5492],\n",
      "        [3.7834],\n",
      "        [3.5907]], device='cuda:0')\n",
      "              precision    recall  f1-score   support\n",
      "\n",
      "           0       0.75      0.51      0.61      8765\n",
      "           1       0.70      0.86      0.77     11235\n",
      "\n",
      "    accuracy                           0.71     20000\n",
      "   macro avg       0.72      0.69      0.69     20000\n",
      "weighted avg       0.72      0.71      0.70     20000\n",
      "\n",
      "Epoch-121: Loss = 1.760\n",
      "Train RMSE = 1.337||Train Precision = 70.142||Train Recall = 87.153\n",
      "Test RMSE = 0.962 || Test Precision = 69.535|| Test Recall = 86.462\n"
     ]
    },
    {
     "name": "stderr",
     "output_type": "stream",
     "text": [
      "3it [00:21,  7.12s/it]\n"
     ]
    },
    {
     "name": "stdout",
     "output_type": "stream",
     "text": [
      "tensor([[4.0412],\n",
      "        [4.0885],\n",
      "        [4.0412],\n",
      "        ...,\n",
      "        [3.4707],\n",
      "        [3.6027],\n",
      "        [3.3542]], device='cuda:0')\n",
      "              precision    recall  f1-score   support\n",
      "\n",
      "           0       0.71      0.59      0.65      8765\n",
      "           1       0.72      0.81      0.76     11235\n",
      "\n",
      "    accuracy                           0.71     20000\n",
      "   macro avg       0.71      0.70      0.70     20000\n",
      "weighted avg       0.71      0.71      0.71     20000\n",
      "\n",
      "Epoch-122: Loss = 1.767\n",
      "Train RMSE = 1.340||Train Precision = 73.046||Train Recall = 81.306\n",
      "Test RMSE = 0.962 || Test Precision = 71.807|| Test Recall = 80.908\n"
     ]
    },
    {
     "name": "stderr",
     "output_type": "stream",
     "text": [
      "3it [00:21,  7.29s/it]\n"
     ]
    },
    {
     "name": "stdout",
     "output_type": "stream",
     "text": [
      "tensor([[4.1257],\n",
      "        [4.2307],\n",
      "        [4.1257],\n",
      "        ...,\n",
      "        [3.5435],\n",
      "        [3.7828],\n",
      "        [3.4845]], device='cuda:0')\n",
      "              precision    recall  f1-score   support\n",
      "\n",
      "           0       0.74      0.53      0.62      8765\n",
      "           1       0.70      0.85      0.77     11235\n",
      "\n",
      "    accuracy                           0.71     20000\n",
      "   macro avg       0.72      0.69      0.69     20000\n",
      "weighted avg       0.72      0.71      0.70     20000\n",
      "\n",
      "Epoch-123: Loss = 1.763\n",
      "Train RMSE = 1.338||Train Precision = 70.572||Train Recall = 85.622\n",
      "Test RMSE = 0.960 || Test Precision = 69.942|| Test Recall = 85.412\n"
     ]
    },
    {
     "name": "stderr",
     "output_type": "stream",
     "text": [
      "3it [00:21,  7.18s/it]\n"
     ]
    },
    {
     "name": "stdout",
     "output_type": "stream",
     "text": [
      "tensor([[4.1300],\n",
      "        [4.2246],\n",
      "        [4.1300],\n",
      "        ...,\n",
      "        [3.5340],\n",
      "        [3.7558],\n",
      "        [3.4806]], device='cuda:0')\n",
      "              precision    recall  f1-score   support\n",
      "\n",
      "           0       0.73      0.54      0.62      8765\n",
      "           1       0.70      0.85      0.77     11235\n",
      "\n",
      "    accuracy                           0.71     20000\n",
      "   macro avg       0.72      0.69      0.70     20000\n",
      "weighted avg       0.72      0.71      0.71     20000\n",
      "\n",
      "Epoch-124: Loss = 1.753\n",
      "Train RMSE = 1.333||Train Precision = 70.854||Train Recall = 84.962\n",
      "Test RMSE = 0.959 || Test Precision = 70.339|| Test Recall = 84.726\n"
     ]
    },
    {
     "name": "stderr",
     "output_type": "stream",
     "text": [
      "3it [00:21,  7.16s/it]\n"
     ]
    },
    {
     "name": "stdout",
     "output_type": "stream",
     "text": [
      "tensor([[4.1213],\n",
      "        [4.2386],\n",
      "        [4.1213],\n",
      "        ...,\n",
      "        [3.5256],\n",
      "        [3.7547],\n",
      "        [3.5094]], device='cuda:0')\n",
      "              precision    recall  f1-score   support\n",
      "\n",
      "           0       0.73      0.55      0.63      8765\n",
      "           1       0.71      0.84      0.77     11235\n",
      "\n",
      "    accuracy                           0.71     20000\n",
      "   macro avg       0.72      0.70      0.70     20000\n",
      "weighted avg       0.72      0.71      0.71     20000\n",
      "\n",
      "Epoch-125: Loss = 1.751\n",
      "Train RMSE = 1.333||Train Precision = 71.410||Train Recall = 84.254\n",
      "Test RMSE = 0.960 || Test Precision = 70.709|| Test Recall = 83.818\n"
     ]
    },
    {
     "name": "stderr",
     "output_type": "stream",
     "text": [
      "3it [00:22,  7.34s/it]\n"
     ]
    },
    {
     "name": "stdout",
     "output_type": "stream",
     "text": [
      "tensor([[4.0742],\n",
      "        [4.1811],\n",
      "        [4.0742],\n",
      "        ...,\n",
      "        [3.4899],\n",
      "        [3.7248],\n",
      "        [3.4965]], device='cuda:0')\n",
      "              precision    recall  f1-score   support\n",
      "\n",
      "           0       0.72      0.56      0.63      8765\n",
      "           1       0.71      0.83      0.77     11235\n",
      "\n",
      "    accuracy                           0.71     20000\n",
      "   macro avg       0.72      0.70      0.70     20000\n",
      "weighted avg       0.72      0.71      0.71     20000\n",
      "\n",
      "Epoch-126: Loss = 1.749\n",
      "Train RMSE = 1.332||Train Precision = 71.744||Train Recall = 83.454\n",
      "Test RMSE = 0.959 || Test Precision = 70.977|| Test Recall = 83.062\n"
     ]
    },
    {
     "name": "stderr",
     "output_type": "stream",
     "text": [
      "3it [00:21,  7.23s/it]\n"
     ]
    },
    {
     "name": "stdout",
     "output_type": "stream",
     "text": [
      "tensor([[4.1615],\n",
      "        [4.3371],\n",
      "        [4.1615],\n",
      "        ...,\n",
      "        [3.5735],\n",
      "        [3.8625],\n",
      "        [3.7186]], device='cuda:0')\n",
      "              precision    recall  f1-score   support\n",
      "\n",
      "           0       0.76      0.49      0.59      8765\n",
      "           1       0.69      0.88      0.77     11235\n",
      "\n",
      "    accuracy                           0.71     20000\n",
      "   macro avg       0.72      0.68      0.68     20000\n",
      "weighted avg       0.72      0.71      0.69     20000\n",
      "\n",
      "Epoch-127: Loss = 1.751\n",
      "Train RMSE = 1.333||Train Precision = 69.054||Train Recall = 88.877\n",
      "Test RMSE = 0.965 || Test Precision = 68.760|| Test Recall = 88.002\n"
     ]
    },
    {
     "name": "stderr",
     "output_type": "stream",
     "text": [
      "3it [00:21,  7.16s/it]\n"
     ]
    },
    {
     "name": "stdout",
     "output_type": "stream",
     "text": [
      "tensor([[3.9250],\n",
      "        [4.0408],\n",
      "        [3.9250],\n",
      "        ...,\n",
      "        [3.4226],\n",
      "        [3.6559],\n",
      "        [3.4853]], device='cuda:0')\n",
      "              precision    recall  f1-score   support\n",
      "\n",
      "           0       0.69      0.62      0.66      8765\n",
      "           1       0.73      0.78      0.75     11235\n",
      "\n",
      "    accuracy                           0.71     20000\n",
      "   macro avg       0.71      0.70      0.71     20000\n",
      "weighted avg       0.71      0.71      0.71     20000\n",
      "\n",
      "Epoch-128: Loss = 1.769\n",
      "Train RMSE = 1.343||Train Precision = 73.877||Train Recall = 78.524\n",
      "Test RMSE = 0.966 || Test Precision = 72.700|| Test Recall = 78.478\n"
     ]
    },
    {
     "name": "stderr",
     "output_type": "stream",
     "text": [
      "3it [00:22,  7.34s/it]\n"
     ]
    },
    {
     "name": "stdout",
     "output_type": "stream",
     "text": [
      "tensor([[4.0109],\n",
      "        [4.1250],\n",
      "        [4.0109],\n",
      "        ...,\n",
      "        [3.4984],\n",
      "        [3.7142],\n",
      "        [3.5564]], device='cuda:0')\n",
      "              precision    recall  f1-score   support\n",
      "\n",
      "           0       0.71      0.58      0.64      8765\n",
      "           1       0.71      0.82      0.76     11235\n",
      "\n",
      "    accuracy                           0.71     20000\n",
      "   macro avg       0.71      0.70      0.70     20000\n",
      "weighted avg       0.71      0.71      0.71     20000\n",
      "\n",
      "Epoch-129: Loss = 1.754\n",
      "Train RMSE = 1.336||Train Precision = 72.070||Train Recall = 82.516\n",
      "Test RMSE = 0.961 || Test Precision = 71.488|| Test Recall = 81.656\n"
     ]
    },
    {
     "name": "stderr",
     "output_type": "stream",
     "text": [
      "3it [00:21,  7.13s/it]\n"
     ]
    },
    {
     "name": "stdout",
     "output_type": "stream",
     "text": [
      "tensor([[4.1556],\n",
      "        [4.3682],\n",
      "        [4.1556],\n",
      "        ...,\n",
      "        [3.5467],\n",
      "        [3.8709],\n",
      "        [3.7589]], device='cuda:0')\n",
      "              precision    recall  f1-score   support\n",
      "\n",
      "           0       0.76      0.49      0.60      8765\n",
      "           1       0.69      0.88      0.77     11235\n",
      "\n",
      "    accuracy                           0.71     20000\n",
      "   macro avg       0.72      0.68      0.68     20000\n",
      "weighted avg       0.72      0.71      0.70     20000\n",
      "\n",
      "Epoch-130: Loss = 1.760\n",
      "Train RMSE = 1.339||Train Precision = 69.011||Train Recall = 88.762\n",
      "Test RMSE = 0.963 || Test Precision = 68.876|| Test Recall = 87.850\n"
     ]
    },
    {
     "name": "stderr",
     "output_type": "stream",
     "text": [
      "\r",
      "0it [00:00, ?it/s]"
     ]
    }
   ],
   "source": [
    "train_loss, test_loss, train_f1, test_f1 = sm_net.fit()"
   ]
  },
  {
   "cell_type": "code",
   "execution_count": null,
   "id": "f9be4d15",
   "metadata": {},
   "outputs": [],
   "source": [
    "torch.save(sm_net, \"./pretrained/meta.pth\")"
   ]
  },
  {
   "cell_type": "code",
   "execution_count": null,
   "id": "42a64a97",
   "metadata": {},
   "outputs": [],
   "source": [
    "import matplotlib.pyplot as plt\n",
    "\n",
    "plt.plot(train_loss[10::], label = \"Train Loss\")\n",
    "plt.plot(test_loss[10::], label = \"Test Loss\")\n",
    "plt.legend()\n",
    "plt.show()\n",
    "plt.plot(train_f1, label = \"Train F1\")\n",
    "plt.plot(test_f1, label = \"Test F1\")\n",
    "plt.legend()\n",
    "plt.show()\n"
   ]
  },
  {
   "cell_type": "markdown",
   "id": "edc10db6",
   "metadata": {},
   "source": [
    "# Test"
   ]
  },
  {
   "cell_type": "code",
   "execution_count": null,
   "id": "758d3352",
   "metadata": {},
   "outputs": [],
   "source": [
    "import matplotlib.pyplot as plt\n",
    "import torch"
   ]
  },
  {
   "cell_type": "code",
   "execution_count": null,
   "id": "d35b8799",
   "metadata": {},
   "outputs": [],
   "source": [
    "sm_net = torch.load(\"./pretrained/meta.pth\")"
   ]
  },
  {
   "cell_type": "code",
   "execution_count": null,
   "id": "99abac1f",
   "metadata": {},
   "outputs": [],
   "source": [
    "prs = []\n",
    "rec = []\n",
    "f1 = []\n",
    "\n",
    "for i in np.arange(3, 4, 0.1):\n",
    "    _, p, r, f, _, _, _ = sm_net.evaluate(i)\n",
    "    prs.append(p)\n",
    "    rec.append(r)\n",
    "    f1.append(f)\n",
    "    \n",
    "plt.plot(prs, label = \"Test Precision\")\n",
    "plt.plot(rec, label = \"Test Recall\")\n",
    "plt.plot(f1, label = \"Test F1\")\n",
    "\n",
    "plt.legend()\n",
    "plt.show()"
   ]
  },
  {
   "cell_type": "code",
   "execution_count": null,
   "id": "b50ba2e6",
   "metadata": {},
   "outputs": [],
   "source": [
    "prs"
   ]
  },
  {
   "cell_type": "code",
   "execution_count": null,
   "id": "2628ec52",
   "metadata": {},
   "outputs": [],
   "source": [
    "rec"
   ]
  },
  {
   "cell_type": "code",
   "execution_count": null,
   "id": "f614f4f7",
   "metadata": {},
   "outputs": [],
   "source": []
  }
 ],
 "metadata": {
  "kernelspec": {
   "display_name": "Python 3",
   "language": "python",
   "name": "python3"
  },
  "language_info": {
   "codemirror_mode": {
    "name": "ipython",
    "version": 3
   },
   "file_extension": ".py",
   "mimetype": "text/x-python",
   "name": "python",
   "nbconvert_exporter": "python",
   "pygments_lexer": "ipython3",
   "version": "3.9.7"
  }
 },
 "nbformat": 4,
 "nbformat_minor": 5
}
